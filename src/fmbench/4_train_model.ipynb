{
 "cells": [
  {
   "cell_type": "markdown",
   "metadata": {},
   "source": [
    "## Run training scripts for Models to measure performance\n",
    "---------------------\n",
    "\n",
    "This notebook initiates the training script to execute and measures metrics such as time to train, loss values, instance utilization metrics, etc. \n",
    "\n",
    "The training pipeline consists of the following stages:\n",
    "\n",
    "1. Configuration Retrieval: Experiment configurations, including training scripts, hyperparameters, and datasets, are fetched from a central repository or file.\n",
    "\n",
    "1. Training Execution: The training script is executed based on the configuration. This script:\n",
    "\n",
    "1. Prepares the dataset.\n",
    "\n",
    "1. Sets up the model and tokenizer.\n",
    "\n",
    "1. Initiates training using the optimum.neuron.NeuronTrainer.\n",
    "\n",
    "1. Saves the trained model and logs metrics.\n",
    "\n",
    "1. Metrics Recording: Metrics such as loss, training time, and validation accuracy are captured and stored.\n",
    "\n",
    "All the data and metrics are stored in the `report.html` that is created. User can configure variables for target total loss value as well as the time to train in the config file."
   ]
  },
  {
   "cell_type": "markdown",
   "metadata": {},
   "source": [
    "#### Import all of the necessary libraries below to run this notebook"
   ]
  },
  {
   "cell_type": "code",
   "execution_count": 1,
   "metadata": {
    "tags": [],
    "vscode": {
     "languageId": "plaintext"
    }
   },
   "outputs": [],
   "source": [
    "# if interactive mode is set to no -> pickup fmbench from Python installation path\n",
    "# if interactive mode is set to yes -> pickup fmbench from the current path (one level above this notebook)\n",
    "# if interactive mode is not defined -> pickup fmbench from the current path (one level above this notebook)\n",
    "# the premise is that if run non-interactively then it can only be run through main.py which will set interactive mode to no\n",
    "import os\n",
    "import sys\n",
    "if os.environ.get(\"INTERACTIVE_MODE_SET\", \"yes\") == \"yes\":\n",
    "    sys.path.append(os.path.dirname(os.getcwd()))"
   ]
  },
  {
   "cell_type": "code",
   "execution_count": 2,
   "metadata": {
    "tags": [],
    "vscode": {
     "languageId": "plaintext"
    }
   },
   "outputs": [
    {
     "name": "stdout",
     "output_type": "stream",
     "text": [
      "region_name=us-east-1\n",
      "role_arn_from_env=None, using current sts caller identity to set arn_string\n",
      "the sts role is an assumed role, setting arn_string to arn:aws:iam::218208277580:role/fmbench-new-us-east-1-role\n",
      "config file current -> configs/training/config-train-llama3-8b-optimum-neuron.yml, None\n",
      "loaded config: {'general': {'name': 'llama3-8b-g6e.2xl-ec2', 'model_name': 'llama3-8b-instruct'}, 'aws': {'region': 'us-east-1', 'sagemaker_execution_role': 'arn:aws:iam::218208277580:role/fmbench-new-us-east-1-role', 'bucket': 'sagemaker-fmbench-write-us-east-1-218208277580'}, 'dir_paths': {'data_prefix': 'data', 'prompts_prefix': 'prompts', 'all_prompts_file': 'all_prompts.csv', 'metrics_dir': 'metrics', 'models_dir': 'models', 'metadata_dir': 'metadata'}, 's3_read_data': {'read_bucket': 'sagemaker-fmbench-read-us-east-1-218208277580', 'scripts_prefix': 'scripts', 'script_files': ['hf_token.txt'], 'configs_prefix': 'configs', 'config_files': ['pricing.yml'], 'source_data_prefix': 'source_data', 'source_data_files': ['2wikimqa_e.jsonl', '2wikimqa.jsonl', 'hotpotqa_e.jsonl', 'hotpotqa.jsonl', 'narrativeqa.jsonl', 'triviaqa_e.jsonl', 'triviaqa.jsonl'], 'tokenizer_prefix': 'llama3_tokenizer', 'prompt_template_dir': 'prompt_template', 'prompt_template_file': 'prompt_template_llama3.txt'}, 'run_steps': {'0_setup.ipynb': True, '1_generate_data.ipynb': True, '2_deploy_model.ipynb': False, '3_train_model.ipynb': True, '4_run_inference.ipynb': False, '5_model_metric_analysis.ipynb': True, '6_cleanup.ipynb': True}, 'datasets': {'prompt_template_keys': ['input', 'context'], 'filters': [{'language': 'en', 'min_length_in_tokens': 1, 'max_length_in_tokens': 500, 'payload_file': 'payload_en_1-500.jsonl'}, {'language': 'en', 'min_length_in_tokens': 500, 'max_length_in_tokens': 1000, 'payload_file': 'payload_en_500-1000.jsonl'}, {'language': 'en', 'min_length_in_tokens': 1000, 'max_length_in_tokens': 2000, 'payload_file': 'payload_en_1000-2000.jsonl'}, {'language': 'en', 'min_length_in_tokens': 2000, 'max_length_in_tokens': 3000, 'payload_file': 'payload_en_2000-3000.jsonl'}, {'language': 'en', 'min_length_in_tokens': 3000, 'max_length_in_tokens': 3840, 'payload_file': 'payload_en_3000-3840.jsonl'}]}, 'metrics': {'dataset_of_interest': 'en_3000-3840'}, 'pricing': 'pricing.yml', 'inference_parameters': {'ec2_djl': {'do_sample': True, 'temperature': 0.1, 'top_p': 0.92, 'top_k': 120, 'max_new_tokens': 100, 'Content-type': 'application/json', 'return_full_text': False}}, 'experiments': [{'name': 'llama3-8b-instruct', 'region': 'us-east-1', 'model_id': 'meta-llama/Meta-Llama-3-8B-Instruct', 'model_version': None, 'model_name': 'llama3-8b-instruct', 'ep_name': 'http://127.0.0.1:8080/invocations', 'instance_type': 'g6e.2xlarge', 'image_uri': '763104351884.dkr.ecr.us-east-1.amazonaws.com/djl-inference:0.29.0-lmi11.0.0-cu124', 'deploy': True, 'instance_count': None, 'deployment_script': 'ec2_deploy.py', 'inference_script': 'ec2_predictor.py', 'training_script': 'finetune_hf_optimum_neuron.py', 'run_training': True, 'training_hyperparameters': None, 'ec2': {'gpu_or_neuron_setting': '--gpus all --shm-size 12g', 'model_loading_timeout': 2400}, 'inference_spec': {'parameter_set': 'ec2_djl', 'tp_degree': 1, 'shm_size': '12g', 'model_loading_timeout': 2400, 'parameters': {'do_sample': True, 'temperature': 0.1, 'top_p': 0.92, 'top_k': 120, 'max_new_tokens': 100, 'Content-type': 'application/json', 'return_full_text': False}}, 'serving.properties': 'engine=MPI\\noption.tensor_parallel_degree=1\\noption.max_rolling_batch_size=256\\noption.model_id=meta-llama/Meta-Llama-3-8B-Instruct\\noption.rolling_batch=lmi-dist\\n', 'payload_files': ['payload_en_1-500.jsonl', 'payload_en_500-1000.jsonl', 'payload_en_1000-2000.jsonl', 'payload_en_2000-3000.jsonl', 'payload_en_3000-3840.jsonl'], 'concurrency_levels': [1, 2, 3, 4], 'env': None, 'bucket': 'sagemaker-fmbench-write-us-east-1-218208277580'}], 'report': {'latency_budget': 2, 'cost_per_10k_txn_budget': 20, 'error_rate_budget': 0, 'per_inference_request_file': 'per_inference_request_results.csv', 'all_metrics_file': 'all_metrics.csv', 'txn_count_for_showing_cost': 10000, 'v_shift_w_single_instance': 0.025, 'v_shift_w_gt_one_instance': 0.025}}\n"
     ]
    },
    {
     "name": "stderr",
     "output_type": "stream",
     "text": [
      "You are using the default legacy behaviour of the <class 'transformers.models.llama.tokenization_llama_fast.LlamaTokenizerFast'>. This is expected, and simply means that the `legacy` (previous) behavior will be used so nothing changes for you. If you want to use the new behaviour, set `legacy=False`. This should only be set if you understand what it means, and thoroughly read the reason why this was added as explained in https://github.com/huggingface/transformers/pull/24565 - if you loaded a llama tokenizer from a GGUF file you can ignore this message.\n"
     ]
    },
    {
     "name": "stdout",
     "output_type": "stream",
     "text": [
      "/home/ec2-user/anaconda3/envs/fmbench_python311/lib/python3.11/site-packages/fmbench/scripts/hf_token.txt file not found\n",
      "CustomTokenizer, based on HF transformers, sagemaker-fmbench-read-us-east-1-218208277580 prefix: llama3_tokenizer local_dir: tokenizer, model_id: meta-llama/Meta-Llama-3-8B-Instruct\n",
      "CustomTokenizer, all_files = [PosixPath('tokenizer/config.json'), PosixPath('tokenizer/tokenizer.json')]\n",
      "loading the provided tokenizer from local_dir=tokenizer, abs_path=/home/ec2-user/SageMaker/training_benchmarking/foundation-model-benchmarking-tool/src/fmbench/tokenizer\n",
      "successfully loaded the tokenizer using AutoTokenizer.from_pretrained from tokenizer\n",
      "sagemaker.config INFO - Not applying SDK defaults from location: /etc/xdg/sagemaker/config.yaml\n",
      "sagemaker.config INFO - Not applying SDK defaults from location: /home/ec2-user/.config/sagemaker/config.yaml\n"
     ]
    }
   ],
   "source": [
    "import sys\n",
    "import time\n",
    "import json\n",
    "import boto3\n",
    "import asyncio\n",
    "import logging\n",
    "import importlib.util\n",
    "import fmbench.scripts\n",
    "from pathlib import Path\n",
    "from fmbench.utils import *\n",
    "from fmbench.globals import *\n",
    "from fmbench.scripts import constants\n",
    "from typing import Dict, List, Optional\n",
    "from sagemaker import get_execution_role\n",
    "import importlib.resources as pkg_resources\n",
    "from botocore.exceptions import ClientError\n",
    "from botocore.exceptions import NoCredentialsError"
   ]
  },
  {
   "cell_type": "markdown",
   "metadata": {},
   "source": [
    "#### Set up a logger to log all messages while the code runs"
   ]
  },
  {
   "cell_type": "code",
   "execution_count": 3,
   "metadata": {
    "tags": [],
    "vscode": {
     "languageId": "plaintext"
    }
   },
   "outputs": [],
   "source": [
    "logging.basicConfig(format='[%(asctime)s] p%(process)s {%(filename)s:%(lineno)d} %(levelname)s - %(message)s', level=logging.INFO)\n",
    "logger = logging.getLogger(__name__)"
   ]
  },
  {
   "cell_type": "markdown",
   "metadata": {},
   "source": [
    "### Load the config.yml file\n",
    "------\n",
    "\n",
    "The config.yml file contains information that is used across this benchmarking environment, such as information about the aws account, prompts, payloads to be used for invocations, and model configurations like the version of the model, the endpoint name, model_id that needs to be deployed. Configurations also support the gives instance type to be used, for example: \"ml.g5.24xlarge\", the image uri, whether or not to deploy this given model, followed by an inference script \"jumpstart.py\" which supports the inference script for jumpstart models to deploy the model in this deploy notebook. The experiment configuration also has the training script parameter, that is run as a part of the benchmarking test, where the loss value, time to train and other metrics are recorded."
   ]
  },
  {
   "cell_type": "code",
   "execution_count": 4,
   "metadata": {
    "tags": [],
    "vscode": {
     "languageId": "plaintext"
    }
   },
   "outputs": [
    {
     "name": "stderr",
     "output_type": "stream",
     "text": [
      "[2025-01-18 00:12:30,622] p16712 {1346162553.py:19} INFO - aws_region=us-east-1, execution_role=arn:aws:iam::218208277580:role/fmbench-new-us-east-1-role\n",
      "[2025-01-18 00:12:30,623] p16712 {1346162553.py:20} INFO - config={\n",
      "  \"general\": {\n",
      "    \"name\": \"llama3-8b-g6e.2xl-ec2\",\n",
      "    \"model_name\": \"llama3-8b-instruct\"\n",
      "  },\n",
      "  \"aws\": {\n",
      "    \"region\": \"us-east-1\",\n",
      "    \"sagemaker_execution_role\": \"arn:aws:iam::218208277580:role/fmbench-new-us-east-1-role\",\n",
      "    \"bucket\": \"sagemaker-fmbench-write-us-east-1-218208277580\"\n",
      "  },\n",
      "  \"dir_paths\": {\n",
      "    \"data_prefix\": \"data\",\n",
      "    \"prompts_prefix\": \"prompts\",\n",
      "    \"all_prompts_file\": \"all_prompts.csv\",\n",
      "    \"metrics_dir\": \"metrics\",\n",
      "    \"models_dir\": \"models\",\n",
      "    \"metadata_dir\": \"metadata\"\n",
      "  },\n",
      "  \"s3_read_data\": {\n",
      "    \"read_bucket\": \"sagemaker-fmbench-read-us-east-1-218208277580\",\n",
      "    \"scripts_prefix\": \"scripts\",\n",
      "    \"script_files\": [\n",
      "      \"hf_token.txt\"\n",
      "    ],\n",
      "    \"configs_prefix\": \"configs\",\n",
      "    \"config_files\": [\n",
      "      \"pricing.yml\"\n",
      "    ],\n",
      "    \"source_data_prefix\": \"source_data\",\n",
      "    \"source_data_files\": [\n",
      "      \"2wikimqa_e.jsonl\",\n",
      "      \"2wikimqa.jsonl\",\n",
      "      \"hotpotqa_e.jsonl\",\n",
      "      \"hotpotqa.jsonl\",\n",
      "      \"narrativeqa.jsonl\",\n",
      "      \"triviaqa_e.jsonl\",\n",
      "      \"triviaqa.jsonl\"\n",
      "    ],\n",
      "    \"tokenizer_prefix\": \"llama3_tokenizer\",\n",
      "    \"prompt_template_dir\": \"prompt_template\",\n",
      "    \"prompt_template_file\": \"prompt_template_llama3.txt\"\n",
      "  },\n",
      "  \"run_steps\": {\n",
      "    \"0_setup.ipynb\": true,\n",
      "    \"1_generate_data.ipynb\": true,\n",
      "    \"2_deploy_model.ipynb\": false,\n",
      "    \"3_train_model.ipynb\": true,\n",
      "    \"4_run_inference.ipynb\": false,\n",
      "    \"5_model_metric_analysis.ipynb\": true,\n",
      "    \"6_cleanup.ipynb\": true\n",
      "  },\n",
      "  \"datasets\": {\n",
      "    \"prompt_template_keys\": [\n",
      "      \"input\",\n",
      "      \"context\"\n",
      "    ],\n",
      "    \"filters\": [\n",
      "      {\n",
      "        \"language\": \"en\",\n",
      "        \"min_length_in_tokens\": 1,\n",
      "        \"max_length_in_tokens\": 500,\n",
      "        \"payload_file\": \"payload_en_1-500.jsonl\"\n",
      "      },\n",
      "      {\n",
      "        \"language\": \"en\",\n",
      "        \"min_length_in_tokens\": 500,\n",
      "        \"max_length_in_tokens\": 1000,\n",
      "        \"payload_file\": \"payload_en_500-1000.jsonl\"\n",
      "      },\n",
      "      {\n",
      "        \"language\": \"en\",\n",
      "        \"min_length_in_tokens\": 1000,\n",
      "        \"max_length_in_tokens\": 2000,\n",
      "        \"payload_file\": \"payload_en_1000-2000.jsonl\"\n",
      "      },\n",
      "      {\n",
      "        \"language\": \"en\",\n",
      "        \"min_length_in_tokens\": 2000,\n",
      "        \"max_length_in_tokens\": 3000,\n",
      "        \"payload_file\": \"payload_en_2000-3000.jsonl\"\n",
      "      },\n",
      "      {\n",
      "        \"language\": \"en\",\n",
      "        \"min_length_in_tokens\": 3000,\n",
      "        \"max_length_in_tokens\": 3840,\n",
      "        \"payload_file\": \"payload_en_3000-3840.jsonl\"\n",
      "      }\n",
      "    ]\n",
      "  },\n",
      "  \"metrics\": {\n",
      "    \"dataset_of_interest\": \"en_3000-3840\"\n",
      "  },\n",
      "  \"pricing\": \"pricing.yml\",\n",
      "  \"inference_parameters\": {\n",
      "    \"ec2_djl\": {\n",
      "      \"do_sample\": true,\n",
      "      \"temperature\": 0.1,\n",
      "      \"top_p\": 0.92,\n",
      "      \"top_k\": 120,\n",
      "      \"max_new_tokens\": 100,\n",
      "      \"Content-type\": \"application/json\",\n",
      "      \"return_full_text\": false\n",
      "    }\n",
      "  },\n",
      "  \"experiments\": [\n",
      "    {\n",
      "      \"name\": \"llama3-8b-instruct\",\n",
      "      \"region\": \"us-east-1\",\n",
      "      \"model_id\": \"meta-llama/Meta-Llama-3-8B-Instruct\",\n",
      "      \"model_version\": null,\n",
      "      \"model_name\": \"llama3-8b-instruct\",\n",
      "      \"ep_name\": \"http://127.0.0.1:8080/invocations\",\n",
      "      \"instance_type\": \"g6e.2xlarge\",\n",
      "      \"image_uri\": \"763104351884.dkr.ecr.us-east-1.amazonaws.com/djl-inference:0.29.0-lmi11.0.0-cu124\",\n",
      "      \"deploy\": true,\n",
      "      \"instance_count\": null,\n",
      "      \"deployment_script\": \"ec2_deploy.py\",\n",
      "      \"inference_script\": \"ec2_predictor.py\",\n",
      "      \"training_script\": \"finetune_hf_optimum_neuron.py\",\n",
      "      \"run_training\": true,\n",
      "      \"training_hyperparameters\": null,\n",
      "      \"ec2\": {\n",
      "        \"gpu_or_neuron_setting\": \"--gpus all --shm-size 12g\",\n",
      "        \"model_loading_timeout\": 2400\n",
      "      },\n",
      "      \"inference_spec\": {\n",
      "        \"parameter_set\": \"ec2_djl\",\n",
      "        \"tp_degree\": 1,\n",
      "        \"shm_size\": \"12g\",\n",
      "        \"model_loading_timeout\": 2400,\n",
      "        \"parameters\": {\n",
      "          \"do_sample\": true,\n",
      "          \"temperature\": 0.1,\n",
      "          \"top_p\": 0.92,\n",
      "          \"top_k\": 120,\n",
      "          \"max_new_tokens\": 100,\n",
      "          \"Content-type\": \"application/json\",\n",
      "          \"return_full_text\": false\n",
      "        }\n",
      "      },\n",
      "      \"serving.properties\": \"engine=MPI\\noption.tensor_parallel_degree=1\\noption.max_rolling_batch_size=256\\noption.model_id=meta-llama/Meta-Llama-3-8B-Instruct\\noption.rolling_batch=lmi-dist\\n\",\n",
      "      \"payload_files\": [\n",
      "        \"payload_en_1-500.jsonl\",\n",
      "        \"payload_en_500-1000.jsonl\",\n",
      "        \"payload_en_1000-2000.jsonl\",\n",
      "        \"payload_en_2000-3000.jsonl\",\n",
      "        \"payload_en_3000-3840.jsonl\"\n",
      "      ],\n",
      "      \"concurrency_levels\": [\n",
      "        1,\n",
      "        2,\n",
      "        3,\n",
      "        4\n",
      "      ],\n",
      "      \"env\": null,\n",
      "      \"bucket\": \"sagemaker-fmbench-write-us-east-1-218208277580\"\n",
      "    }\n",
      "  ],\n",
      "  \"report\": {\n",
      "    \"latency_budget\": 2,\n",
      "    \"cost_per_10k_txn_budget\": 20,\n",
      "    \"error_rate_budget\": 0,\n",
      "    \"per_inference_request_file\": \"per_inference_request_results.csv\",\n",
      "    \"all_metrics_file\": \"all_metrics.csv\",\n",
      "    \"txn_count_for_showing_cost\": 10000,\n",
      "    \"v_shift_w_single_instance\": 0.025,\n",
      "    \"v_shift_w_gt_one_instance\": 0.025\n",
      "  }\n",
      "}\n"
     ]
    },
    {
     "name": "stdout",
     "output_type": "stream",
     "text": [
      "region_name=us-east-1\n",
      "role_arn_from_env=None, using current sts caller identity to set arn_string\n",
      "the sts role is an assumed role, setting arn_string to arn:aws:iam::218208277580:role/fmbench-new-us-east-1-role\n"
     ]
    }
   ],
   "source": [
    "## Load the config.yml file referring to the globals.py file\n",
    "config = load_main_config(CONFIG_FILE)\n",
    "\n",
    "## configure the aws region and execution role\n",
    "aws_region = config['aws']['region']\n",
    "\n",
    "\n",
    "# try:\n",
    "#     sagemaker_execution_role = get_execution_role()\n",
    "#     config['aws']['sagemaker_execution_role'] = sagemaker_execution_role\n",
    "#     logger.info(f\"determined SageMaker exeuction role from get_execution_role\")\n",
    "# except Exception as e:\n",
    "#     logger.error(f\"could not determine SageMaker execution role, error={e}\")\n",
    "#     logger.info(f\"going to look for execution role in config file..\")\n",
    "#     sagemaker_execution_role = config['aws'].get('sagemaker_execution_role')\n",
    "#     if sagemaker_execution_role is not None:\n",
    "#         logger.info(f\"found SageMaker execution role in config file..\")\n",
    "\n",
    "logger.info(f\"aws_region={aws_region}, execution_role={config['aws']['sagemaker_execution_role']}\")\n",
    "logger.info(f\"config={json.dumps(config, indent=2)}\")"
   ]
  },
  {
   "cell_type": "code",
   "execution_count": 5,
   "metadata": {
    "tags": [],
    "vscode": {
     "languageId": "plaintext"
    }
   },
   "outputs": [],
   "source": [
    "def run_training(experiment_config: Dict, aws_region: str, role_arn: str) -> Optional[Dict]:\n",
    "    \"\"\"Function to run training for a model\"\"\"\n",
    "    # Log the training details\n",
    "    logger.info(f\"going to train {experiment_config}, in {aws_region} with {role_arn}\")\n",
    "    training_result: Optional[Dict] = None\n",
    "\n",
    "    # Check if training is enabled in the config; skip if not\n",
    "    run_training = experiment_config.get('run_training', False)\n",
    "    if run_training is False:\n",
    "        logger.info(f\"skipping training of {experiment_config['model_id']} because run_training={run_training}\")\n",
    "        training_result = dict(\n",
    "            model_id=experiment_config['model_id'],\n",
    "            experiment_name=experiment_config['name'],\n",
    "            instance_type=experiment_config.get('instance_type'),\n",
    "            instance_count=experiment_config.get('instance_count'),\n",
    "            trained=False\n",
    "        )\n",
    "        return training_result\n",
    "\n",
    "    # Get the scripts directory\n",
    "    scripts_path = Path(pkg_resources.files('fmbench'), 'scripts')\n",
    "    training_dir = scripts_path / 'training_scripts'\n",
    "    logger.info(f\"Using fmbench.scripts directory: {training_dir}\")\n",
    "\n",
    "    try:\n",
    "        # Import and run the training script\n",
    "        module_name = Path(experiment_config['training_script']).stem\n",
    "        logger.info(f\"script provided for training this model is --> {module_name}\")\n",
    "        training_script_path = training_dir / f\"{module_name}.py\"\n",
    "        logger.info(f\"script path is --> {training_script_path}\")\n",
    "\n",
    "        if not training_script_path.exists():\n",
    "            logger.error(f\"Training script {training_script_path} not found.\")\n",
    "            return None\n",
    "        logger.info(f\"Training using local code: {training_script_path}\")\n",
    "\n",
    "        # Import the training module\n",
    "        spec = importlib.util.spec_from_file_location(module_name, str(training_script_path))\n",
    "        module = importlib.util.module_from_spec(spec)\n",
    "        sys.modules[module_name] = module\n",
    "        spec.loader.exec_module(module)\n",
    "\n",
    "        # Run training and measure time\n",
    "        st = time.perf_counter()\n",
    "        training_result = module.train(experiment_config, role_arn)\n",
    "        elapsed_time = time.perf_counter() - st\n",
    "        logger.info(f\"time taken to train model_id={experiment_config['model_id']} via \"\n",
    "                    f\"{training_script_path} is {elapsed_time:0.2f}\")\n",
    "        # Add training time to result\n",
    "        if training_result:\n",
    "            training_result['training_time'] = elapsed_time\n",
    "            training_result['trained'] = True\n",
    "        return training_result\n",
    "\n",
    "    except Exception as error:\n",
    "        logger.error(f\"An error occurred during training: {error}\")\n",
    "        return training_result"
   ]
  },
  {
   "cell_type": "code",
   "execution_count": 6,
   "metadata": {
    "tags": []
   },
   "outputs": [],
   "source": [
    "async def async_run_training(experiment_config: Dict, role_arn: str, aws_region: str) -> Dict:\n",
    "    \"\"\"Asynchronous wrapper function to allow concurrent training requests\"\"\"\n",
    "    return await asyncio.to_thread(run_training, experiment_config, role_arn, aws_region)\n",
    "\n",
    "async def async_train_all_models(config: Dict) -> List[Dict]:\n",
    "    \"\"\"Final asynchronous function to train all models concurrently\"\"\"\n",
    "    # Extract experiments from the config\n",
    "    experiments: List[Dict] = config['experiments']\n",
    "    n: int = 4  # max concurrency to avoid throttling\n",
    "    # Check for non-reentrant training scripts\n",
    "    non_reentrant_training_scripts = config.get('non_reentrant_training_scripts', [])\n",
    "    non_reentrant_scripts_present = [e['training_script'] for e in experiments \n",
    "                                   if e['training_script'] in non_reentrant_training_scripts]\n",
    "    if len(non_reentrant_scripts_present) > 1:\n",
    "        logger.info(f\"non_reentrant_training_scripts_present={len(non_reentrant_scripts_present)}, \"\n",
    "                    f\"going to train models serially\")\n",
    "        n = 1\n",
    "\n",
    "    # Split experiments into smaller batches for concurrent training\n",
    "    experiments_splitted = [experiments[i * n:(i + 1) * n] for i in range((len(experiments) + n - 1) // n)]\n",
    "    results = []\n",
    "    for exp_list in experiments_splitted:\n",
    "        # Run training in batches\n",
    "        result = await asyncio.gather(*[\n",
    "            async_run_training(\n",
    "                m,\n",
    "                config['aws']['region'],\n",
    "                config['aws']['sagemaker_execution_role']\n",
    "            ) for m in exp_list\n",
    "        ])\n",
    "        # Collect results from each batch\n",
    "        results.extend(result)\n",
    "    return results"
   ]
  },
  {
   "cell_type": "code",
   "execution_count": 7,
   "metadata": {
    "tags": [],
    "vscode": {
     "languageId": "plaintext"
    }
   },
   "outputs": [
    {
     "name": "stderr",
     "output_type": "stream",
     "text": [
      "[2025-01-18 00:12:33,256] p16712 {1365297455.py:4} INFO - going to train {'name': 'llama3-8b-instruct', 'region': 'us-east-1', 'model_id': 'meta-llama/Meta-Llama-3-8B-Instruct', 'model_version': None, 'model_name': 'llama3-8b-instruct', 'ep_name': 'http://127.0.0.1:8080/invocations', 'instance_type': 'g6e.2xlarge', 'image_uri': '763104351884.dkr.ecr.us-east-1.amazonaws.com/djl-inference:0.29.0-lmi11.0.0-cu124', 'deploy': True, 'instance_count': None, 'deployment_script': 'ec2_deploy.py', 'inference_script': 'ec2_predictor.py', 'training_script': 'finetune_hf_optimum_neuron.py', 'run_training': True, 'training_hyperparameters': None, 'ec2': {'gpu_or_neuron_setting': '--gpus all --shm-size 12g', 'model_loading_timeout': 2400}, 'inference_spec': {'parameter_set': 'ec2_djl', 'tp_degree': 1, 'shm_size': '12g', 'model_loading_timeout': 2400, 'parameters': {'do_sample': True, 'temperature': 0.1, 'top_p': 0.92, 'top_k': 120, 'max_new_tokens': 100, 'Content-type': 'application/json', 'return_full_text': False}}, 'serving.properties': 'engine=MPI\\noption.tensor_parallel_degree=1\\noption.max_rolling_batch_size=256\\noption.model_id=meta-llama/Meta-Llama-3-8B-Instruct\\noption.rolling_batch=lmi-dist\\n', 'payload_files': ['payload_en_1-500.jsonl', 'payload_en_500-1000.jsonl', 'payload_en_1000-2000.jsonl', 'payload_en_2000-3000.jsonl', 'payload_en_3000-3840.jsonl'], 'concurrency_levels': [1, 2, 3, 4], 'env': None, 'bucket': 'sagemaker-fmbench-write-us-east-1-218208277580'}, in us-east-1 with arn:aws:iam::218208277580:role/fmbench-new-us-east-1-role\n",
      "[2025-01-18 00:12:33,257] p16712 {1365297455.py:23} INFO - Using fmbench.scripts directory: /home/ec2-user/anaconda3/envs/fmbench_python311/lib/python3.11/site-packages/fmbench/scripts/training_scripts\n",
      "[2025-01-18 00:12:33,257] p16712 {1365297455.py:28} INFO - script provided for training this model is --> finetune_hf_optimum_neuron\n",
      "[2025-01-18 00:12:33,257] p16712 {1365297455.py:30} INFO - script path is --> /home/ec2-user/anaconda3/envs/fmbench_python311/lib/python3.11/site-packages/fmbench/scripts/training_scripts/finetune_hf_optimum_neuron.py\n",
      "[2025-01-18 00:12:33,258] p16712 {1365297455.py:35} INFO - Training using local code: /home/ec2-user/anaconda3/envs/fmbench_python311/lib/python3.11/site-packages/fmbench/scripts/training_scripts/finetune_hf_optimum_neuron.py\n",
      "[2025-01-18 00:12:33,260] p16712 {1365297455.py:56} ERROR - An error occurred during training: no binding for nonlocal '_remainder' found (finetune_hf_optimum_neuron.py, line 46)\n",
      "[2025-01-18 00:12:33,261] p16712 {1177907701.py:9} INFO - Training results: [None]\n",
      "[2025-01-18 00:12:33,261] p16712 {1177907701.py:10} INFO - All training completed in 0.01 seconds\n"
     ]
    }
   ],
   "source": [
    "# Start timer\n",
    "s = time.perf_counter()\n",
    "\n",
    "# Run all training jobs\n",
    "training_results = await async_train_all_models(config)\n",
    "\n",
    "# Calculate total time\n",
    "elapsed_async = time.perf_counter() - s\n",
    "logger.info(f\"Training results: {training_results}\")\n",
    "logger.info(f\"All training completed in {elapsed_async:0.2f} seconds\")"
   ]
  },
  {
   "cell_type": "code",
   "execution_count": null,
   "metadata": {},
   "outputs": [],
   "source": []
  }
 ],
 "metadata": {
  "kernelspec": {
   "display_name": "conda_fmbench_python311",
   "language": "python",
   "name": "conda_fmbench_python311"
  },
  "language_info": {
   "codemirror_mode": {
    "name": "ipython",
    "version": 3
   },
   "file_extension": ".py",
   "mimetype": "text/x-python",
   "name": "python",
   "nbconvert_exporter": "python",
   "pygments_lexer": "ipython3",
   "version": "3.11.11"
  }
 },
 "nbformat": 4,
 "nbformat_minor": 4
}
