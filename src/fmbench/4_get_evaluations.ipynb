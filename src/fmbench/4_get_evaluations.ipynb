{
 "cells": [
  {
   "cell_type": "markdown",
   "metadata": {},
   "source": [
    "## Get Evaluations on all inference files and gather findings on quantitative metrics (such as _Cosine Similarity_) and subjective metrics on various criteria using _LLM as a judge_ - Max Voting & Average Pooling using PoLL (Panel of LLM Evaluators)\n",
    "\n",
    "---------------------\n",
    "*This notebook works best with the conda_python3 kernel on a ml.t3.medium machine*.\n",
    "\n",
    "#### This step of the solution focusses on getting evaluations on the quality of resposes. It does so by gathering the following information and performing the steps below:\n",
    "\n",
    "- **Gets all per inference request file**: This step first accesses and gets all of the per inference request files into a dataframe, containing the response from the LLM as well as the ground truth, if any is provided. \n",
    "\n",
    "- **Generates quantitative metrics for evaluation**: Calculate quantitative metrics to measure similarity and accuracy, for example _Cosine Similarity_. This helps in getting a quantitative overall score to the entire dataset in terms of which model generates outputs that are most similar and accurate to the ground truth (if any is provided). With this statistic, customers and users of the open source community can make business level judgements. \n",
    "\n",
    "- **Uses an _LLM as a judge_ approach to get subjective evaluations**: Refer to this [paper](https://arxiv.org/pdf/2404.18796). We use the following ways to evaluate the responses from the `candidate models` (models used to generate inferences)\n",
    "\n",
    "    1. **Max Voting**: When a dataset provides a ground truth, we use a technique called `Max Voting`. Here, we use PoLL, or a panel of LLM evaluators, from different model families to evaluate each candidate model's response based on whether it generates a `correct` or an `incorrect` answer simply based on ground truth comparisons. Using models from different families as a PoLL, increases it's evaluation ability to be close to that of a human evaluation, and eliminates the intra model bias.\n",
    "    \n",
    "    2. **Average Pooling**: When a dataset does not provide a ground truth, or if a task being evaluated needs to be given subjective level judgements, that is when we use `Average Pooling`. We use a specific subjective level criteria and then evaluate the candidate model responses on a scale of 1-5 for each PoLL. Using this, we get an average score and then can evaluate how each candidate model was scored based on the PoLL evaluations.\n",
    "    \n",
    "***All evaluations are generated in a JSON format for further downstream analytics on the evaluation results***"
   ]
  },
  {
   "cell_type": "markdown",
   "metadata": {},
   "source": [
    "#### Import all of the necessary libraries below to run this notebook"
   ]
  },
  {
   "cell_type": "code",
   "execution_count": 1,
   "metadata": {
    "tags": []
   },
   "outputs": [],
   "source": [
    "# if interactive mode is set to no -> pickup fmbench from Python installation path\n",
    "# if interactive mode is set to yes -> pickup fmbench from the current path (one level above this notebook)\n",
    "# if interactive mode is not defined -> pickup fmbench from the current path (one level above this notebook)\n",
    "# the premise is that if run non-interactively then it can only be run through main.py which will set interactive mode to no\n",
    "import os\n",
    "import sys\n",
    "if os.environ.get(\"INTERACTIVE_MODE_SET\", \"yes\") == \"yes\":\n",
    "    sys.path.append(os.path.dirname(os.getcwd()))"
   ]
  },
  {
   "cell_type": "code",
   "execution_count": 2,
   "metadata": {
    "tags": []
   },
   "outputs": [
    {
     "name": "stdout",
     "output_type": "stream",
     "text": [
      "region_name=us-west-2\n"
     ]
    },
    {
     "name": "stderr",
     "output_type": "stream",
     "text": [
      "You are using the default legacy behaviour of the <class 'transformers.models.llama.tokenization_llama_fast.LlamaTokenizerFast'>. This is expected, and simply means that the `legacy` (previous) behavior will be used so nothing changes for you. If you want to use the new behaviour, set `legacy=False`. This should only be set if you understand what it means, and thoroughly read the reason why this was added as explained in https://github.com/huggingface/transformers/pull/24565\n"
     ]
    },
    {
     "name": "stdout",
     "output_type": "stream",
     "text": [
      "role_arn_from_env=None, using current sts caller identity to set arn_string\n",
      "the sts role is an assumed role, setting arn_string to arn:aws:iam::387192758086:role/fmbench-stack-us-west-2-role\n",
      "config file current -> configs/bedrock/config-bedrock.yml, None\n",
      "loaded config: {'general': {'name': 'fmbench-bedrock', 'model_name': 'FMs available in Amazon Bedrock'}, 'aws': {'region': 'us-west-2', 'sagemaker_execution_role': 'arn:aws:iam::387192758086:role/fmbench-stack-us-west-2-role', 'bucket': 'sagemaker-fmbench-write-us-west-2-387192758086'}, 'dir_paths': {'data_prefix': 'data', 'prompts_prefix': 'prompts', 'all_prompts_file': 'all_prompts.csv', 'metrics_dir': 'metrics', 'models_dir': 'models', 'metadata_dir': 'metadata'}, 's3_read_data': {'read_bucket': 'sagemaker-fmbench-read-us-west-2-387192758086', 'scripts_prefix': 'scripts', 'script_files': ['hf_token.txt'], 'eval_prompts_dir': 'eval_criteria_prompts', 'eval_prompt_template_dir_list': ['claude_eval_prompt_templates', 'llama3_eval_prompt_templates', 'cohere_eval_prompt_templates'], 'eval_instructions_dir': 'eval_instructions', 'eval_instructions_files': ['evaluation_instructions_max_voting.txt', 'evaluation_instructions_avg_pooling.txt'], 'configs_prefix': 'configs', 'config_files': ['pricing.yml'], 'source_data_prefix': 'source_data', 'source_data_files': ['2wikimqa_e.jsonl', '2wikimqa.jsonl', 'hotpotqa_e.jsonl', 'hotpotqa.jsonl', 'narrativeqa.jsonl', 'triviaqa_e.jsonl', 'triviaqa.jsonl'], 'tokenizer_prefix': 'llama2_tokenizer', 'prompt_template_dir': 'prompt_template', 'prompt_template_file': 'prompt_template_llama2.txt'}, 'run_steps': {'0_setup.ipynb': True, '1_generate_data.ipynb': False, '2_deploy_model.ipynb': False, '3_run_inference.ipynb': False, '4_get_evaluations.ipynb': True, '5_model_metric_analysis.ipynb': True, '6_cleanup.ipynb': False}, 'datasets': {'prompt_template_keys': ['input', 'context'], 'max_iters_per_combination': 105, 'min_iters_per_combination': 5, 'filters': [{'language': 'en', 'min_length_in_tokens': 1, 'max_length_in_tokens': 500, 'payload_file': 'payload_en_1-500.jsonl'}, {'language': 'en', 'min_length_in_tokens': 500, 'max_length_in_tokens': 1000, 'payload_file': 'payload_en_500-1000.jsonl'}, {'language': 'en', 'min_length_in_tokens': 1000, 'max_length_in_tokens': 2000, 'payload_file': 'payload_en_1000-2000.jsonl'}, {'language': 'en', 'min_length_in_tokens': 2000, 'max_length_in_tokens': 3000, 'payload_file': 'payload_en_2000-3000.jsonl'}, {'language': 'en', 'min_length_in_tokens': 3000, 'max_length_in_tokens': 3840, 'payload_file': 'payload_en_3000-3840.jsonl'}]}, 'model_evaluations': {'ground_truth_col_key': 'answers', 'PoLL_Composition_and_Voting': {'method': 'max_voting'}, 'quantitative_eval_info': {'embeddings_model_id': {'model_id': 'sentence-transformers/all-mpnet-base-v2'}}, 'subjective_eval_info': {'judge_panel_list': [{'model_id': 'anthropic.claude-3-haiku-20240307-v1:0', 'eval_prompt_template_dir': 'claude_eval_prompt_templates', 'eval_prompt_template_name_max_voting': 'claude_eval_max_voting'}, {'model_id': 'meta.llama3-70b-instruct-v1:0', 'eval_prompt_template_dir': 'llama3_eval_prompt_templates', 'eval_prompt_template_name_prefix': 'llama3_eval_max_voting'}, {'model_id': 'cohere.command-r-v1:0', 'eval_prompt_template_dir': 'cohere_eval_prompt_templates', 'eval_prompt_template_name_max_voting': 'cohere_eval_max_voting'}], 'inference_parameters': {'temperature': 0.1, 'max_tokens': 300, 'top_p': 0.92, 'caching': False}, 'run_parallel_inference_count': 10}}, 'metrics': {'dataset_of_interest': 'en_1-500'}, 'pricing': 'pricing.yml', 'inference_parameters': {'bedrock': {'temperature': 0.1, 'max_tokens': 100, 'top_p': 0.92, 'caching': False}}, 'experiments': [{'name': 'mistral.mistral-7b-instruct-v0:2', 'model_id': 'mistral.mistral-7b-instruct-v0:2', 'model_version': '*', 'model_name': 'mistral.mistral-7b-instruct-v0:2', 'ep_name': 'mistral.mistral-7b-instruct-v0:2', 'instance_type': 'mistral.mistral-7b-instruct-v0:2', 'image_uri': None, 'deploy': False, 'instance_count': 1, 'deployment_script': None, 'inference_script': 'bedrock_predictor.py', 'inference_spec': {'split_input_and_parameters': False, 'parameter_set': 'bedrock', 'parameters': {'temperature': 0.1, 'max_tokens': 100, 'top_p': 0.92, 'caching': False}}, 'payload_files': ['payload_en_1-500.jsonl', 'payload_en_500-1000.jsonl'], 'concurrency_levels': [1], 'env': None, 'bucket': 'sagemaker-fmbench-write-us-west-2-387192758086'}, {'name': 'mistral.mixtral-8x7b-instruct-v0:1', 'model_id': 'mistral.mixtral-8x7b-instruct-v0:1', 'model_version': '*', 'model_name': 'mistral.mixtral-8x7b-instruct-v0:1', 'ep_name': 'mistral.mixtral-8x7b-instruct-v0:1', 'instance_type': 'mistral.mixtral-8x7b-instruct-v0:1', 'image_uri': None, 'deploy': False, 'instance_count': 1, 'deployment_script': None, 'inference_script': 'bedrock_predictor.py', 'inference_spec': {'split_input_and_parameters': False, 'parameter_set': 'bedrock', 'parameters': {'temperature': 0.1, 'max_tokens': 100, 'top_p': 0.92, 'caching': False}}, 'payload_files': ['payload_en_1-500.jsonl', 'payload_en_500-1000.jsonl'], 'concurrency_levels': [1], 'env': None, 'bucket': 'sagemaker-fmbench-write-us-west-2-387192758086'}, {'name': 'meta.llama2-13b-chat-v1', 'model_id': 'meta.llama2-13b-chat-v1', 'model_version': '*', 'model_name': 'meta.llama2-13b-chat-v1', 'ep_name': 'meta.llama2-13b-chat-v1', 'instance_type': 'meta.llama2-13b-chat-v1', 'image_uri': None, 'deploy': False, 'instance_count': None, 'deployment_script': None, 'inference_script': 'bedrock_predictor.py', 'inference_spec': {'split_input_and_parameters': False, 'parameter_set': 'bedrock', 'parameters': {'temperature': 0.1, 'max_tokens': 100, 'top_p': 0.92, 'caching': False}}, 'payload_files': ['payload_en_1-500.jsonl', 'payload_en_500-1000.jsonl'], 'concurrency_levels': [1], 'env': None, 'bucket': 'sagemaker-fmbench-write-us-west-2-387192758086'}, {'name': 'meta.llama2-70b-chat-v1', 'model_id': 'meta.llama2-70b-chat-v1', 'model_version': '*', 'model_name': 'meta.llama2-70b-chat-v1', 'ep_name': 'meta.llama2-70b-chat-v1', 'instance_type': 'meta.llama2-70b-chat-v1', 'image_uri': None, 'deploy': False, 'instance_count': None, 'deployment_script': None, 'inference_script': 'bedrock_predictor.py', 'inference_spec': {'split_input_and_parameters': False, 'parameter_set': 'bedrock', 'parameters': {'temperature': 0.1, 'max_tokens': 100, 'top_p': 0.92, 'caching': False}}, 'payload_files': ['payload_en_1-500.jsonl', 'payload_en_500-1000.jsonl'], 'concurrency_levels': [1], 'env': None, 'bucket': 'sagemaker-fmbench-write-us-west-2-387192758086'}, {'name': 'amazon.titan-text-lite-v1', 'model_id': 'amazon.titan-text-lite-v1', 'model_version': '*', 'model_name': 'amazon.titan-text-lite-v1', 'ep_name': 'amazon.titan-text-lite-v1', 'instance_type': 'amazon.titan-text-lite-v1', 'image_uri': None, 'deploy': False, 'instance_count': None, 'deployment_script': None, 'inference_script': 'bedrock_predictor.py', 'inference_spec': {'split_input_and_parameters': False, 'parameter_set': 'bedrock', 'parameters': {'temperature': 0.1, 'max_tokens': 100, 'top_p': 0.92, 'caching': False}}, 'payload_files': ['payload_en_1-500.jsonl', 'payload_en_500-1000.jsonl'], 'concurrency_levels': [1], 'env': None, 'bucket': 'sagemaker-fmbench-write-us-west-2-387192758086'}, {'name': 'amazon.titan-text-express-v1', 'model_id': 'amazon.titan-text-express-v1', 'model_version': '*', 'model_name': 'amazon.titan-text-express-v1', 'ep_name': 'amazon.titan-text-express-v1', 'instance_type': 'amazon.titan-text-express-v1', 'image_uri': None, 'deploy': False, 'instance_count': None, 'deployment_script': None, 'inference_script': 'bedrock_predictor.py', 'inference_spec': {'split_input_and_parameters': False, 'parameter_set': 'bedrock', 'parameters': {'temperature': 0.1, 'max_tokens': 100, 'top_p': 0.92, 'caching': False}}, 'payload_files': ['payload_en_1-500.jsonl', 'payload_en_500-1000.jsonl'], 'concurrency_levels': [1], 'env': None, 'bucket': 'sagemaker-fmbench-write-us-west-2-387192758086'}, {'name': 'anthropic.claude-3-sonnet-20240229-v1:0', 'model_id': 'anthropic.claude-3-sonnet-20240229-v1:0', 'model_version': '*', 'model_name': 'anthropic.claude-3-sonnet-20240229-v1:0', 'ep_name': 'anthropic.claude-3-sonnet-20240229-v1:0', 'instance_type': 'anthropic.claude-3-sonnet-20240229-v1:0', 'image_uri': None, 'deploy': False, 'instance_count': None, 'deployment_script': None, 'inference_script': 'bedrock_predictor.py', 'inference_spec': {'split_input_and_parameters': False, 'parameter_set': 'bedrock', 'parameters': {'temperature': 0.1, 'max_tokens': 100, 'top_p': 0.92, 'caching': False}}, 'payload_files': ['payload_en_1-500.jsonl', 'payload_en_500-1000.jsonl'], 'concurrency_levels': [1], 'env': None, 'bucket': 'sagemaker-fmbench-write-us-west-2-387192758086'}, {'name': 'anthropic.claude-3-haiku-20240307-v1:0', 'model_id': 'anthropic.claude-3-haiku-20240307-v1:0', 'model_version': '*', 'model_name': 'anthropic.claude-3-haiku-20240307-v1:0', 'ep_name': 'anthropic.claude-3-haiku-20240307-v1:0', 'instance_type': 'anthropic.claude-3-haiku-20240307-v1:0', 'image_uri': None, 'deploy': False, 'instance_count': None, 'deployment_script': None, 'inference_script': 'bedrock_predictor.py', 'inference_spec': {'split_input_and_parameters': False, 'parameter_set': 'bedrock', 'parameters': {'temperature': 0.1, 'max_tokens': 100, 'top_p': 0.92, 'caching': False}}, 'payload_files': ['payload_en_1-500.jsonl', 'payload_en_500-1000.jsonl'], 'concurrency_levels': [1], 'env': None, 'bucket': 'sagemaker-fmbench-write-us-west-2-387192758086'}, {'name': 'cohere.command-text-v14', 'model_id': 'cohere.command-text-v14', 'model_version': '*', 'model_name': 'cohere.command-text-v14', 'ep_name': 'cohere.command-text-v14', 'instance_type': 'cohere.command-text-v14', 'image_uri': None, 'deploy': False, 'instance_count': None, 'deployment_script': None, 'inference_script': 'bedrock_predictor.py', 'inference_spec': {'split_input_and_parameters': False, 'parameter_set': 'bedrock', 'parameters': {'temperature': 0.1, 'max_tokens': 100, 'top_p': 0.92, 'caching': False}}, 'payload_files': ['payload_en_1-500.jsonl', 'payload_en_500-1000.jsonl'], 'concurrency_levels': [1], 'env': None, 'bucket': 'sagemaker-fmbench-write-us-west-2-387192758086'}, {'name': 'cohere.command-light-text-v14', 'model_id': 'cohere.command-light-text-v14', 'model_version': '*', 'model_name': 'cohere.command-light-text-v14', 'ep_name': 'cohere.command-light-text-v14', 'instance_type': 'cohere.command-light-text-v14', 'image_uri': None, 'deploy': False, 'instance_count': None, 'deployment_script': None, 'inference_script': 'bedrock_predictor.py', 'inference_spec': {'split_input_and_parameters': False, 'parameter_set': 'bedrock', 'parameters': {'temperature': 0.1, 'max_tokens': 100, 'top_p': 0.92, 'caching': False}}, 'payload_files': ['payload_en_1-500.jsonl', 'payload_en_500-1000.jsonl'], 'concurrency_levels': [1], 'env': None, 'bucket': 'sagemaker-fmbench-write-us-west-2-387192758086'}, {'name': 'ai21.j2-mid-v1', 'model_id': 'ai21.j2-mid-v1', 'model_version': '*', 'model_name': 'ai21.j2-mid-v1', 'ep_name': 'ai21.j2-mid-v1', 'instance_type': 'ai21.j2-mid-v1', 'image_uri': None, 'deploy': False, 'instance_count': None, 'deployment_script': None, 'inference_script': 'bedrock_predictor.py', 'inference_spec': {'split_input_and_parameters': False, 'parameter_set': 'bedrock', 'parameters': {'temperature': 0.1, 'max_tokens': 100, 'top_p': 0.92, 'caching': False}}, 'payload_files': ['payload_en_1-500.jsonl', 'payload_en_500-1000.jsonl'], 'concurrency_levels': [1], 'env': None, 'bucket': 'sagemaker-fmbench-write-us-west-2-387192758086'}, {'name': 'ai21.j2-ultra-v1', 'model_id': 'ai21.j2-ultra-v1', 'model_version': '*', 'model_name': 'ai21.j2-ultra-v1', 'ep_name': 'ai21.j2-ultra-v1', 'instance_type': 'ai21.j2-ultra-v1', 'image_uri': None, 'deploy': False, 'instance_count': None, 'deployment_script': None, 'inference_script': 'bedrock_predictor.py', 'inference_spec': {'split_input_and_parameters': False, 'parameter_set': 'bedrock', 'parameters': {'temperature': 0.1, 'max_tokens': 100, 'top_p': 0.92, 'caching': False}}, 'payload_files': ['payload_en_1-500.jsonl', 'payload_en_500-1000.jsonl'], 'concurrency_levels': [1], 'env': None, 'bucket': 'sagemaker-fmbench-write-us-west-2-387192758086'}], 'report': {'latency_budget': 2, 'cosine_similarity_budget': 0.3, 'accuracy_budget': 1, 'accuracy_error_rate_budget': 0, 'cost_per_10k_txn_budget': 50, 'error_rate_budget': 0, 'per_inference_request_file': 'per_inference_request_results.csv', 'all_metrics_file': 'all_metrics.csv', 'txn_count_for_showing_cost': 10000, 'v_shift_w_single_instance': 0.025, 'v_shift_w_gt_one_instance': 0.025}}\n",
      "CustomTokenizer, based on HF transformers, sagemaker-fmbench-read-us-west-2-387192758086 prefix: llama2_tokenizer local_dir: tokenizer\n",
      "CustomTokenizer, all_files = [PosixPath('tokenizer/tokenizer.json'), PosixPath('tokenizer/config.json')]\n",
      "loading the provided tokenizer from local_dir=tokenizer, abs_path=/home/ec2-user/SageMaker/foundation-model-benchmarking-tool/src/fmbench/tokenizer\n",
      "successfully loaded the tokenizer using AutoTokenizer.from_pretrained\n"
     ]
    }
   ],
   "source": [
    "import io\n",
    "import ray\n",
    "import math\n",
    "import time\n",
    "import json\n",
    "import torch\n",
    "import tempfile\n",
    "import datetime\n",
    "import matplotlib\n",
    "import numpy as np\n",
    "import pandas as pd\n",
    "from numpy import dot\n",
    "from numpy.linalg import norm\n",
    "from litellm import completion\n",
    "from sentence_transformers import SentenceTransformer\n",
    "\n",
    "# Import seaborn and other related libraries for visualizations and plotting charts\n",
    "import seaborn as sns\n",
    "from pathlib import Path\n",
    "from tomark import Tomark\n",
    "from fmbench.utils import *\n",
    "from fmbench.globals import *\n",
    "from datetime import datetime\n",
    "from datetime import timezone\n",
    "from dateutil.parser import parse\n",
    "from typing import List, Optional, Dict\n",
    "import importlib.resources as pkg_resources\n",
    "from fmbench import __version__ as fmbench_version"
   ]
  },
  {
   "cell_type": "code",
   "execution_count": 3,
   "metadata": {
    "tags": []
   },
   "outputs": [],
   "source": [
    "logging.basicConfig(format='[%(asctime)s] p%(process)s {%(filename)s:%(lineno)d} %(levelname)s - %(message)s', level=logging.INFO)\n",
    "logger = logging.getLogger(__name__)"
   ]
  },
  {
   "cell_type": "code",
   "execution_count": 4,
   "metadata": {
    "tags": []
   },
   "outputs": [
    {
     "name": "stderr",
     "output_type": "stream",
     "text": [
      "2024-07-12 22:51:55,102\tINFO worker.py:1788 -- Started a local Ray instance.\n"
     ]
    },
    {
     "data": {
      "application/vnd.jupyter.widget-view+json": {
       "model_id": "7d818ad349af4d5e9de55bb57b11546d",
       "version_major": 2,
       "version_minor": 0
      },
      "text/html": [
       "<div class=\"lm-Widget p-Widget lm-Panel p-Panel jp-Cell-outputWrapper\">\n",
       "    <div style=\"margin-left: 50px;display: flex;flex-direction: row;align-items: center\">\n",
       "        <div class=\"jp-RenderedHTMLCommon\" style=\"display: flex; flex-direction: row;\">\n",
       "  <svg viewBox=\"0 0 567 224\" fill=\"none\" xmlns=\"http://www.w3.org/2000/svg\" style=\"height: 3em;\">\n",
       "    <g clip-path=\"url(#clip0_4338_178347)\">\n",
       "        <path d=\"M341.29 165.561H355.29L330.13 129.051C345.63 123.991 354.21 112.051 354.21 94.2307C354.21 71.3707 338.72 58.1807 311.88 58.1807H271V165.561H283.27V131.661H311.8C314.25 131.661 316.71 131.501 319.01 131.351L341.25 165.561H341.29ZM283.29 119.851V70.0007H311.82C331.3 70.0007 342.34 78.2907 342.34 94.5507C342.34 111.271 331.34 119.861 311.82 119.861L283.29 119.851ZM451.4 138.411L463.4 165.561H476.74L428.74 58.1807H416L367.83 165.561H380.83L392.83 138.411H451.4ZM446.19 126.601H398L422 72.1407L446.24 126.601H446.19ZM526.11 128.741L566.91 58.1807H554.35L519.99 114.181L485.17 58.1807H472.44L514.01 129.181V165.541H526.13V128.741H526.11Z\" fill=\"var(--jp-ui-font-color0)\"/>\n",
       "        <path d=\"M82.35 104.44C84.0187 97.8827 87.8248 92.0678 93.1671 87.9146C98.5094 83.7614 105.083 81.5067 111.85 81.5067C118.617 81.5067 125.191 83.7614 130.533 87.9146C135.875 92.0678 139.681 97.8827 141.35 104.44H163.75C164.476 101.562 165.622 98.8057 167.15 96.2605L127.45 56.5605C121.071 60.3522 113.526 61.6823 106.235 60.3005C98.9443 58.9187 92.4094 54.9203 87.8602 49.0574C83.3109 43.1946 81.0609 35.8714 81.5332 28.4656C82.0056 21.0599 85.1679 14.0819 90.4252 8.8446C95.6824 3.60726 102.672 0.471508 110.08 0.0272655C117.487 -0.416977 124.802 1.86091 130.647 6.4324C136.493 11.0039 140.467 17.5539 141.821 24.8501C143.175 32.1463 141.816 39.6859 138 46.0505L177.69 85.7505C182.31 82.9877 187.58 81.4995 192.962 81.4375C198.345 81.3755 203.648 82.742 208.33 85.3976C213.012 88.0532 216.907 91.9029 219.616 96.5544C222.326 101.206 223.753 106.492 223.753 111.875C223.753 117.258 222.326 122.545 219.616 127.197C216.907 131.848 213.012 135.698 208.33 138.353C203.648 141.009 198.345 142.375 192.962 142.313C187.58 142.251 182.31 140.763 177.69 138L138 177.7C141.808 184.071 143.155 191.614 141.79 198.91C140.424 206.205 136.44 212.75 130.585 217.313C124.731 221.875 117.412 224.141 110.004 223.683C102.596 223.226 95.6103 220.077 90.3621 214.828C85.1139 209.58 81.9647 202.595 81.5072 195.187C81.0497 187.779 83.3154 180.459 87.878 174.605C92.4405 168.751 98.9853 164.766 106.281 163.401C113.576 162.035 121.119 163.383 127.49 167.19L167.19 127.49C165.664 124.941 164.518 122.182 163.79 119.3H141.39C139.721 125.858 135.915 131.673 130.573 135.826C125.231 139.98 118.657 142.234 111.89 142.234C105.123 142.234 98.5494 139.98 93.2071 135.826C87.8648 131.673 84.0587 125.858 82.39 119.3H60C58.1878 126.495 53.8086 132.78 47.6863 136.971C41.5641 141.163 34.1211 142.972 26.7579 142.059C19.3947 141.146 12.6191 137.574 7.70605 132.014C2.79302 126.454 0.0813599 119.29 0.0813599 111.87C0.0813599 104.451 2.79302 97.2871 7.70605 91.7272C12.6191 86.1673 19.3947 82.5947 26.7579 81.6817C34.1211 80.7686 41.5641 82.5781 47.6863 86.7696C53.8086 90.9611 58.1878 97.2456 60 104.44H82.35ZM100.86 204.32C103.407 206.868 106.759 208.453 110.345 208.806C113.93 209.159 117.527 208.258 120.522 206.256C123.517 204.254 125.725 201.276 126.771 197.828C127.816 194.38 127.633 190.677 126.253 187.349C124.874 184.021 122.383 181.274 119.205 179.577C116.027 177.88 112.359 177.337 108.826 178.042C105.293 178.746 102.113 180.654 99.8291 183.44C97.5451 186.226 96.2979 189.718 96.3 193.32C96.2985 195.364 96.7006 197.388 97.4831 199.275C98.2656 201.163 99.4132 202.877 100.86 204.32ZM204.32 122.88C206.868 120.333 208.453 116.981 208.806 113.396C209.159 109.811 208.258 106.214 206.256 103.219C204.254 100.223 201.275 98.0151 197.827 96.97C194.38 95.9249 190.676 96.1077 187.348 97.4873C184.02 98.8669 181.274 101.358 179.577 104.536C177.879 107.714 177.337 111.382 178.041 114.915C178.746 118.448 180.653 121.627 183.439 123.911C186.226 126.195 189.717 127.443 193.32 127.44C195.364 127.443 197.388 127.042 199.275 126.259C201.163 125.476 202.878 124.328 204.32 122.88ZM122.88 19.4205C120.333 16.8729 116.981 15.2876 113.395 14.9347C109.81 14.5817 106.213 15.483 103.218 17.4849C100.223 19.4868 98.0146 22.4654 96.9696 25.9131C95.9245 29.3608 96.1073 33.0642 97.4869 36.3922C98.8665 39.7202 101.358 42.4668 104.535 44.1639C107.713 45.861 111.381 46.4036 114.914 45.6992C118.447 44.9949 121.627 43.0871 123.911 40.301C126.195 37.515 127.442 34.0231 127.44 30.4205C127.44 28.3772 127.038 26.3539 126.255 24.4664C125.473 22.5788 124.326 20.8642 122.88 19.4205ZM19.42 100.86C16.8725 103.408 15.2872 106.76 14.9342 110.345C14.5813 113.93 15.4826 117.527 17.4844 120.522C19.4863 123.518 22.4649 125.726 25.9127 126.771C29.3604 127.816 33.0638 127.633 36.3918 126.254C39.7198 124.874 42.4664 122.383 44.1635 119.205C45.8606 116.027 46.4032 112.359 45.6988 108.826C44.9944 105.293 43.0866 102.114 40.3006 99.8296C37.5145 97.5455 34.0227 96.2983 30.42 96.3005C26.2938 96.3018 22.337 97.9421 19.42 100.86ZM100.86 100.86C98.3125 103.408 96.7272 106.76 96.3742 110.345C96.0213 113.93 96.9226 117.527 98.9244 120.522C100.926 123.518 103.905 125.726 107.353 126.771C110.8 127.816 114.504 127.633 117.832 126.254C121.16 124.874 123.906 122.383 125.604 119.205C127.301 116.027 127.843 112.359 127.139 108.826C126.434 105.293 124.527 102.114 121.741 99.8296C118.955 97.5455 115.463 96.2983 111.86 96.3005C109.817 96.299 107.793 96.701 105.905 97.4835C104.018 98.2661 102.303 99.4136 100.86 100.86Z\" fill=\"#00AEEF\"/>\n",
       "    </g>\n",
       "    <defs>\n",
       "        <clipPath id=\"clip0_4338_178347\">\n",
       "            <rect width=\"566.93\" height=\"223.75\" fill=\"white\"/>\n",
       "        </clipPath>\n",
       "    </defs>\n",
       "  </svg>\n",
       "</div>\n",
       "\n",
       "        <table class=\"jp-RenderedHTMLCommon\" style=\"border-collapse: collapse;color: var(--jp-ui-font-color1);font-size: var(--jp-ui-font-size1);\">\n",
       "    <tr>\n",
       "        <td style=\"text-align: left\"><b>Python version:</b></td>\n",
       "        <td style=\"text-align: left\"><b>3.11.9</b></td>\n",
       "    </tr>\n",
       "    <tr>\n",
       "        <td style=\"text-align: left\"><b>Ray version:</b></td>\n",
       "        <td style=\"text-align: left\"><b>2.32.0</b></td>\n",
       "    </tr>\n",
       "    \n",
       "</table>\n",
       "\n",
       "    </div>\n",
       "</div>\n"
      ],
      "text/plain": [
       "RayContext(dashboard_url='', python_version='3.11.9', ray_version='2.32.0', ray_commit='607f2f30f5f21543b6a5568ee77ea779eeba30a8')"
      ]
     },
     "execution_count": 4,
     "metadata": {},
     "output_type": "execute_result"
    }
   ],
   "source": [
    "# initialize the ray service to run async calls in parallel to bedrock easily\n",
    "if ray.is_initialized():\n",
    "    ray.shutdown()\n",
    "ray.init()"
   ]
  },
  {
   "cell_type": "markdown",
   "metadata": {},
   "source": [
    "Load the Config.yml file contains information that is used across this benchmarking environment, such as information about the aws account, prompts, payloads to be used for invocations"
   ]
  },
  {
   "cell_type": "code",
   "execution_count": 5,
   "metadata": {
    "tags": []
   },
   "outputs": [
    {
     "name": "stderr",
     "output_type": "stream",
     "text": [
      "[2024-07-12 22:51:55,942] p15113 {2445076252.py:1} INFO - CONFIG_FILE=configs/bedrock/config-bedrock.yml\n"
     ]
    },
    {
     "name": "stdout",
     "output_type": "stream",
     "text": [
      "region_name=us-west-2\n"
     ]
    },
    {
     "name": "stderr",
     "output_type": "stream",
     "text": [
      "[2024-07-12 22:51:56,255] p15113 {2445076252.py:3} INFO - {\n",
      "  \"general\": {\n",
      "    \"name\": \"fmbench-bedrock\",\n",
      "    \"model_name\": \"FMs available in Amazon Bedrock\"\n",
      "  },\n",
      "  \"aws\": {\n",
      "    \"region\": \"us-west-2\",\n",
      "    \"sagemaker_execution_role\": \"arn:aws:iam::387192758086:role/fmbench-stack-us-west-2-role\",\n",
      "    \"bucket\": \"sagemaker-fmbench-write-us-west-2-387192758086\"\n",
      "  },\n",
      "  \"dir_paths\": {\n",
      "    \"data_prefix\": \"data\",\n",
      "    \"prompts_prefix\": \"prompts\",\n",
      "    \"all_prompts_file\": \"all_prompts.csv\",\n",
      "    \"metrics_dir\": \"metrics\",\n",
      "    \"models_dir\": \"models\",\n",
      "    \"metadata_dir\": \"metadata\"\n",
      "  },\n",
      "  \"s3_read_data\": {\n",
      "    \"read_bucket\": \"sagemaker-fmbench-read-us-west-2-387192758086\",\n",
      "    \"scripts_prefix\": \"scripts\",\n",
      "    \"script_files\": [\n",
      "      \"hf_token.txt\"\n",
      "    ],\n",
      "    \"eval_prompts_dir\": \"eval_criteria_prompts\",\n",
      "    \"eval_prompt_template_dir_list\": [\n",
      "      \"claude_eval_prompt_templates\",\n",
      "      \"llama3_eval_prompt_templates\",\n",
      "      \"cohere_eval_prompt_templates\"\n",
      "    ],\n",
      "    \"eval_instructions_dir\": \"eval_instructions\",\n",
      "    \"eval_instructions_files\": [\n",
      "      \"evaluation_instructions_max_voting.txt\",\n",
      "      \"evaluation_instructions_avg_pooling.txt\"\n",
      "    ],\n",
      "    \"configs_prefix\": \"configs\",\n",
      "    \"config_files\": [\n",
      "      \"pricing.yml\"\n",
      "    ],\n",
      "    \"source_data_prefix\": \"source_data\",\n",
      "    \"source_data_files\": [\n",
      "      \"2wikimqa_e.jsonl\",\n",
      "      \"2wikimqa.jsonl\",\n",
      "      \"hotpotqa_e.jsonl\",\n",
      "      \"hotpotqa.jsonl\",\n",
      "      \"narrativeqa.jsonl\",\n",
      "      \"triviaqa_e.jsonl\",\n",
      "      \"triviaqa.jsonl\"\n",
      "    ],\n",
      "    \"tokenizer_prefix\": \"llama2_tokenizer\",\n",
      "    \"prompt_template_dir\": \"prompt_template\",\n",
      "    \"prompt_template_file\": \"prompt_template_llama2.txt\"\n",
      "  },\n",
      "  \"run_steps\": {\n",
      "    \"0_setup.ipynb\": true,\n",
      "    \"1_generate_data.ipynb\": false,\n",
      "    \"2_deploy_model.ipynb\": false,\n",
      "    \"3_run_inference.ipynb\": false,\n",
      "    \"4_get_evaluations.ipynb\": true,\n",
      "    \"5_model_metric_analysis.ipynb\": true,\n",
      "    \"6_cleanup.ipynb\": false\n",
      "  },\n",
      "  \"datasets\": {\n",
      "    \"prompt_template_keys\": [\n",
      "      \"input\",\n",
      "      \"context\"\n",
      "    ],\n",
      "    \"max_iters_per_combination\": 105,\n",
      "    \"min_iters_per_combination\": 5,\n",
      "    \"filters\": [\n",
      "      {\n",
      "        \"language\": \"en\",\n",
      "        \"min_length_in_tokens\": 1,\n",
      "        \"max_length_in_tokens\": 500,\n",
      "        \"payload_file\": \"payload_en_1-500.jsonl\"\n",
      "      },\n",
      "      {\n",
      "        \"language\": \"en\",\n",
      "        \"min_length_in_tokens\": 500,\n",
      "        \"max_length_in_tokens\": 1000,\n",
      "        \"payload_file\": \"payload_en_500-1000.jsonl\"\n",
      "      },\n",
      "      {\n",
      "        \"language\": \"en\",\n",
      "        \"min_length_in_tokens\": 1000,\n",
      "        \"max_length_in_tokens\": 2000,\n",
      "        \"payload_file\": \"payload_en_1000-2000.jsonl\"\n",
      "      },\n",
      "      {\n",
      "        \"language\": \"en\",\n",
      "        \"min_length_in_tokens\": 2000,\n",
      "        \"max_length_in_tokens\": 3000,\n",
      "        \"payload_file\": \"payload_en_2000-3000.jsonl\"\n",
      "      },\n",
      "      {\n",
      "        \"language\": \"en\",\n",
      "        \"min_length_in_tokens\": 3000,\n",
      "        \"max_length_in_tokens\": 3840,\n",
      "        \"payload_file\": \"payload_en_3000-3840.jsonl\"\n",
      "      }\n",
      "    ]\n",
      "  },\n",
      "  \"model_evaluations\": {\n",
      "    \"ground_truth_col_key\": \"answers\",\n",
      "    \"PoLL_Composition_and_Voting\": {\n",
      "      \"method\": \"max_voting\"\n",
      "    },\n",
      "    \"quantitative_eval_info\": {\n",
      "      \"embeddings_model_id\": {\n",
      "        \"model_id\": \"sentence-transformers/all-mpnet-base-v2\"\n",
      "      }\n",
      "    },\n",
      "    \"subjective_eval_info\": {\n",
      "      \"judge_panel_list\": [\n",
      "        {\n",
      "          \"model_id\": \"anthropic.claude-3-haiku-20240307-v1:0\",\n",
      "          \"eval_prompt_template_dir\": \"claude_eval_prompt_templates\",\n",
      "          \"eval_prompt_template_name_max_voting\": \"claude_eval_max_voting\"\n",
      "        },\n",
      "        {\n",
      "          \"model_id\": \"meta.llama3-70b-instruct-v1:0\",\n",
      "          \"eval_prompt_template_dir\": \"llama3_eval_prompt_templates\",\n",
      "          \"eval_prompt_template_name_prefix\": \"llama3_eval_max_voting\"\n",
      "        },\n",
      "        {\n",
      "          \"model_id\": \"cohere.command-r-v1:0\",\n",
      "          \"eval_prompt_template_dir\": \"cohere_eval_prompt_templates\",\n",
      "          \"eval_prompt_template_name_max_voting\": \"cohere_eval_max_voting\"\n",
      "        }\n",
      "      ],\n",
      "      \"inference_parameters\": {\n",
      "        \"temperature\": 0.1,\n",
      "        \"max_tokens\": 300,\n",
      "        \"top_p\": 0.92,\n",
      "        \"caching\": false\n",
      "      },\n",
      "      \"run_parallel_inference_count\": 10\n",
      "    }\n",
      "  },\n",
      "  \"metrics\": {\n",
      "    \"dataset_of_interest\": \"en_1-500\"\n",
      "  },\n",
      "  \"pricing\": \"pricing.yml\",\n",
      "  \"inference_parameters\": {\n",
      "    \"bedrock\": {\n",
      "      \"temperature\": 0.1,\n",
      "      \"max_tokens\": 100,\n",
      "      \"top_p\": 0.92,\n",
      "      \"caching\": false\n",
      "    }\n",
      "  },\n",
      "  \"experiments\": [\n",
      "    {\n",
      "      \"name\": \"mistral.mistral-7b-instruct-v0:2\",\n",
      "      \"model_id\": \"mistral.mistral-7b-instruct-v0:2\",\n",
      "      \"model_version\": \"*\",\n",
      "      \"model_name\": \"mistral.mistral-7b-instruct-v0:2\",\n",
      "      \"ep_name\": \"mistral.mistral-7b-instruct-v0:2\",\n",
      "      \"instance_type\": \"mistral.mistral-7b-instruct-v0:2\",\n",
      "      \"image_uri\": null,\n",
      "      \"deploy\": false,\n",
      "      \"instance_count\": 1,\n",
      "      \"deployment_script\": null,\n",
      "      \"inference_script\": \"bedrock_predictor.py\",\n",
      "      \"inference_spec\": {\n",
      "        \"split_input_and_parameters\": false,\n",
      "        \"parameter_set\": \"bedrock\",\n",
      "        \"parameters\": {\n",
      "          \"temperature\": 0.1,\n",
      "          \"max_tokens\": 100,\n",
      "          \"top_p\": 0.92,\n",
      "          \"caching\": false\n",
      "        }\n",
      "      },\n",
      "      \"payload_files\": [\n",
      "        \"payload_en_1-500.jsonl\",\n",
      "        \"payload_en_500-1000.jsonl\"\n",
      "      ],\n",
      "      \"concurrency_levels\": [\n",
      "        1\n",
      "      ],\n",
      "      \"env\": null,\n",
      "      \"bucket\": \"sagemaker-fmbench-write-us-west-2-387192758086\"\n",
      "    },\n",
      "    {\n",
      "      \"name\": \"mistral.mixtral-8x7b-instruct-v0:1\",\n",
      "      \"model_id\": \"mistral.mixtral-8x7b-instruct-v0:1\",\n",
      "      \"model_version\": \"*\",\n",
      "      \"model_name\": \"mistral.mixtral-8x7b-instruct-v0:1\",\n",
      "      \"ep_name\": \"mistral.mixtral-8x7b-instruct-v0:1\",\n",
      "      \"instance_type\": \"mistral.mixtral-8x7b-instruct-v0:1\",\n",
      "      \"image_uri\": null,\n",
      "      \"deploy\": false,\n",
      "      \"instance_count\": 1,\n",
      "      \"deployment_script\": null,\n",
      "      \"inference_script\": \"bedrock_predictor.py\",\n",
      "      \"inference_spec\": {\n",
      "        \"split_input_and_parameters\": false,\n",
      "        \"parameter_set\": \"bedrock\",\n",
      "        \"parameters\": {\n",
      "          \"temperature\": 0.1,\n",
      "          \"max_tokens\": 100,\n",
      "          \"top_p\": 0.92,\n",
      "          \"caching\": false\n",
      "        }\n",
      "      },\n",
      "      \"payload_files\": [\n",
      "        \"payload_en_1-500.jsonl\",\n",
      "        \"payload_en_500-1000.jsonl\"\n",
      "      ],\n",
      "      \"concurrency_levels\": [\n",
      "        1\n",
      "      ],\n",
      "      \"env\": null,\n",
      "      \"bucket\": \"sagemaker-fmbench-write-us-west-2-387192758086\"\n",
      "    },\n",
      "    {\n",
      "      \"name\": \"meta.llama2-13b-chat-v1\",\n",
      "      \"model_id\": \"meta.llama2-13b-chat-v1\",\n",
      "      \"model_version\": \"*\",\n",
      "      \"model_name\": \"meta.llama2-13b-chat-v1\",\n",
      "      \"ep_name\": \"meta.llama2-13b-chat-v1\",\n",
      "      \"instance_type\": \"meta.llama2-13b-chat-v1\",\n",
      "      \"image_uri\": null,\n",
      "      \"deploy\": false,\n",
      "      \"instance_count\": null,\n",
      "      \"deployment_script\": null,\n",
      "      \"inference_script\": \"bedrock_predictor.py\",\n",
      "      \"inference_spec\": {\n",
      "        \"split_input_and_parameters\": false,\n",
      "        \"parameter_set\": \"bedrock\",\n",
      "        \"parameters\": {\n",
      "          \"temperature\": 0.1,\n",
      "          \"max_tokens\": 100,\n",
      "          \"top_p\": 0.92,\n",
      "          \"caching\": false\n",
      "        }\n",
      "      },\n",
      "      \"payload_files\": [\n",
      "        \"payload_en_1-500.jsonl\",\n",
      "        \"payload_en_500-1000.jsonl\"\n",
      "      ],\n",
      "      \"concurrency_levels\": [\n",
      "        1\n",
      "      ],\n",
      "      \"env\": null,\n",
      "      \"bucket\": \"sagemaker-fmbench-write-us-west-2-387192758086\"\n",
      "    },\n",
      "    {\n",
      "      \"name\": \"meta.llama2-70b-chat-v1\",\n",
      "      \"model_id\": \"meta.llama2-70b-chat-v1\",\n",
      "      \"model_version\": \"*\",\n",
      "      \"model_name\": \"meta.llama2-70b-chat-v1\",\n",
      "      \"ep_name\": \"meta.llama2-70b-chat-v1\",\n",
      "      \"instance_type\": \"meta.llama2-70b-chat-v1\",\n",
      "      \"image_uri\": null,\n",
      "      \"deploy\": false,\n",
      "      \"instance_count\": null,\n",
      "      \"deployment_script\": null,\n",
      "      \"inference_script\": \"bedrock_predictor.py\",\n",
      "      \"inference_spec\": {\n",
      "        \"split_input_and_parameters\": false,\n",
      "        \"parameter_set\": \"bedrock\",\n",
      "        \"parameters\": {\n",
      "          \"temperature\": 0.1,\n",
      "          \"max_tokens\": 100,\n",
      "          \"top_p\": 0.92,\n",
      "          \"caching\": false\n",
      "        }\n",
      "      },\n",
      "      \"payload_files\": [\n",
      "        \"payload_en_1-500.jsonl\",\n",
      "        \"payload_en_500-1000.jsonl\"\n",
      "      ],\n",
      "      \"concurrency_levels\": [\n",
      "        1\n",
      "      ],\n",
      "      \"env\": null,\n",
      "      \"bucket\": \"sagemaker-fmbench-write-us-west-2-387192758086\"\n",
      "    },\n",
      "    {\n",
      "      \"name\": \"amazon.titan-text-lite-v1\",\n",
      "      \"model_id\": \"amazon.titan-text-lite-v1\",\n",
      "      \"model_version\": \"*\",\n",
      "      \"model_name\": \"amazon.titan-text-lite-v1\",\n",
      "      \"ep_name\": \"amazon.titan-text-lite-v1\",\n",
      "      \"instance_type\": \"amazon.titan-text-lite-v1\",\n",
      "      \"image_uri\": null,\n",
      "      \"deploy\": false,\n",
      "      \"instance_count\": null,\n",
      "      \"deployment_script\": null,\n",
      "      \"inference_script\": \"bedrock_predictor.py\",\n",
      "      \"inference_spec\": {\n",
      "        \"split_input_and_parameters\": false,\n",
      "        \"parameter_set\": \"bedrock\",\n",
      "        \"parameters\": {\n",
      "          \"temperature\": 0.1,\n",
      "          \"max_tokens\": 100,\n",
      "          \"top_p\": 0.92,\n",
      "          \"caching\": false\n",
      "        }\n",
      "      },\n",
      "      \"payload_files\": [\n",
      "        \"payload_en_1-500.jsonl\",\n",
      "        \"payload_en_500-1000.jsonl\"\n",
      "      ],\n",
      "      \"concurrency_levels\": [\n",
      "        1\n",
      "      ],\n",
      "      \"env\": null,\n",
      "      \"bucket\": \"sagemaker-fmbench-write-us-west-2-387192758086\"\n",
      "    },\n",
      "    {\n",
      "      \"name\": \"amazon.titan-text-express-v1\",\n",
      "      \"model_id\": \"amazon.titan-text-express-v1\",\n",
      "      \"model_version\": \"*\",\n",
      "      \"model_name\": \"amazon.titan-text-express-v1\",\n",
      "      \"ep_name\": \"amazon.titan-text-express-v1\",\n",
      "      \"instance_type\": \"amazon.titan-text-express-v1\",\n",
      "      \"image_uri\": null,\n",
      "      \"deploy\": false,\n",
      "      \"instance_count\": null,\n",
      "      \"deployment_script\": null,\n",
      "      \"inference_script\": \"bedrock_predictor.py\",\n",
      "      \"inference_spec\": {\n",
      "        \"split_input_and_parameters\": false,\n",
      "        \"parameter_set\": \"bedrock\",\n",
      "        \"parameters\": {\n",
      "          \"temperature\": 0.1,\n",
      "          \"max_tokens\": 100,\n",
      "          \"top_p\": 0.92,\n",
      "          \"caching\": false\n",
      "        }\n",
      "      },\n",
      "      \"payload_files\": [\n",
      "        \"payload_en_1-500.jsonl\",\n",
      "        \"payload_en_500-1000.jsonl\"\n",
      "      ],\n",
      "      \"concurrency_levels\": [\n",
      "        1\n",
      "      ],\n",
      "      \"env\": null,\n",
      "      \"bucket\": \"sagemaker-fmbench-write-us-west-2-387192758086\"\n",
      "    },\n",
      "    {\n",
      "      \"name\": \"anthropic.claude-3-sonnet-20240229-v1:0\",\n",
      "      \"model_id\": \"anthropic.claude-3-sonnet-20240229-v1:0\",\n",
      "      \"model_version\": \"*\",\n",
      "      \"model_name\": \"anthropic.claude-3-sonnet-20240229-v1:0\",\n",
      "      \"ep_name\": \"anthropic.claude-3-sonnet-20240229-v1:0\",\n",
      "      \"instance_type\": \"anthropic.claude-3-sonnet-20240229-v1:0\",\n",
      "      \"image_uri\": null,\n",
      "      \"deploy\": false,\n",
      "      \"instance_count\": null,\n",
      "      \"deployment_script\": null,\n",
      "      \"inference_script\": \"bedrock_predictor.py\",\n",
      "      \"inference_spec\": {\n",
      "        \"split_input_and_parameters\": false,\n",
      "        \"parameter_set\": \"bedrock\",\n",
      "        \"parameters\": {\n",
      "          \"temperature\": 0.1,\n",
      "          \"max_tokens\": 100,\n",
      "          \"top_p\": 0.92,\n",
      "          \"caching\": false\n",
      "        }\n",
      "      },\n",
      "      \"payload_files\": [\n",
      "        \"payload_en_1-500.jsonl\",\n",
      "        \"payload_en_500-1000.jsonl\"\n",
      "      ],\n",
      "      \"concurrency_levels\": [\n",
      "        1\n",
      "      ],\n",
      "      \"env\": null,\n",
      "      \"bucket\": \"sagemaker-fmbench-write-us-west-2-387192758086\"\n",
      "    },\n",
      "    {\n",
      "      \"name\": \"anthropic.claude-3-haiku-20240307-v1:0\",\n",
      "      \"model_id\": \"anthropic.claude-3-haiku-20240307-v1:0\",\n",
      "      \"model_version\": \"*\",\n",
      "      \"model_name\": \"anthropic.claude-3-haiku-20240307-v1:0\",\n",
      "      \"ep_name\": \"anthropic.claude-3-haiku-20240307-v1:0\",\n",
      "      \"instance_type\": \"anthropic.claude-3-haiku-20240307-v1:0\",\n",
      "      \"image_uri\": null,\n",
      "      \"deploy\": false,\n",
      "      \"instance_count\": null,\n",
      "      \"deployment_script\": null,\n",
      "      \"inference_script\": \"bedrock_predictor.py\",\n",
      "      \"inference_spec\": {\n",
      "        \"split_input_and_parameters\": false,\n",
      "        \"parameter_set\": \"bedrock\",\n",
      "        \"parameters\": {\n",
      "          \"temperature\": 0.1,\n",
      "          \"max_tokens\": 100,\n",
      "          \"top_p\": 0.92,\n",
      "          \"caching\": false\n",
      "        }\n",
      "      },\n",
      "      \"payload_files\": [\n",
      "        \"payload_en_1-500.jsonl\",\n",
      "        \"payload_en_500-1000.jsonl\"\n",
      "      ],\n",
      "      \"concurrency_levels\": [\n",
      "        1\n",
      "      ],\n",
      "      \"env\": null,\n",
      "      \"bucket\": \"sagemaker-fmbench-write-us-west-2-387192758086\"\n",
      "    },\n",
      "    {\n",
      "      \"name\": \"cohere.command-text-v14\",\n",
      "      \"model_id\": \"cohere.command-text-v14\",\n",
      "      \"model_version\": \"*\",\n",
      "      \"model_name\": \"cohere.command-text-v14\",\n",
      "      \"ep_name\": \"cohere.command-text-v14\",\n",
      "      \"instance_type\": \"cohere.command-text-v14\",\n",
      "      \"image_uri\": null,\n",
      "      \"deploy\": false,\n",
      "      \"instance_count\": null,\n",
      "      \"deployment_script\": null,\n",
      "      \"inference_script\": \"bedrock_predictor.py\",\n",
      "      \"inference_spec\": {\n",
      "        \"split_input_and_parameters\": false,\n",
      "        \"parameter_set\": \"bedrock\",\n",
      "        \"parameters\": {\n",
      "          \"temperature\": 0.1,\n",
      "          \"max_tokens\": 100,\n",
      "          \"top_p\": 0.92,\n",
      "          \"caching\": false\n",
      "        }\n",
      "      },\n",
      "      \"payload_files\": [\n",
      "        \"payload_en_1-500.jsonl\",\n",
      "        \"payload_en_500-1000.jsonl\"\n",
      "      ],\n",
      "      \"concurrency_levels\": [\n",
      "        1\n",
      "      ],\n",
      "      \"env\": null,\n",
      "      \"bucket\": \"sagemaker-fmbench-write-us-west-2-387192758086\"\n",
      "    },\n",
      "    {\n",
      "      \"name\": \"cohere.command-light-text-v14\",\n",
      "      \"model_id\": \"cohere.command-light-text-v14\",\n",
      "      \"model_version\": \"*\",\n",
      "      \"model_name\": \"cohere.command-light-text-v14\",\n",
      "      \"ep_name\": \"cohere.command-light-text-v14\",\n",
      "      \"instance_type\": \"cohere.command-light-text-v14\",\n",
      "      \"image_uri\": null,\n",
      "      \"deploy\": false,\n",
      "      \"instance_count\": null,\n",
      "      \"deployment_script\": null,\n",
      "      \"inference_script\": \"bedrock_predictor.py\",\n",
      "      \"inference_spec\": {\n",
      "        \"split_input_and_parameters\": false,\n",
      "        \"parameter_set\": \"bedrock\",\n",
      "        \"parameters\": {\n",
      "          \"temperature\": 0.1,\n",
      "          \"max_tokens\": 100,\n",
      "          \"top_p\": 0.92,\n",
      "          \"caching\": false\n",
      "        }\n",
      "      },\n",
      "      \"payload_files\": [\n",
      "        \"payload_en_1-500.jsonl\",\n",
      "        \"payload_en_500-1000.jsonl\"\n",
      "      ],\n",
      "      \"concurrency_levels\": [\n",
      "        1\n",
      "      ],\n",
      "      \"env\": null,\n",
      "      \"bucket\": \"sagemaker-fmbench-write-us-west-2-387192758086\"\n",
      "    },\n",
      "    {\n",
      "      \"name\": \"ai21.j2-mid-v1\",\n",
      "      \"model_id\": \"ai21.j2-mid-v1\",\n",
      "      \"model_version\": \"*\",\n",
      "      \"model_name\": \"ai21.j2-mid-v1\",\n",
      "      \"ep_name\": \"ai21.j2-mid-v1\",\n",
      "      \"instance_type\": \"ai21.j2-mid-v1\",\n",
      "      \"image_uri\": null,\n",
      "      \"deploy\": false,\n",
      "      \"instance_count\": null,\n",
      "      \"deployment_script\": null,\n",
      "      \"inference_script\": \"bedrock_predictor.py\",\n",
      "      \"inference_spec\": {\n",
      "        \"split_input_and_parameters\": false,\n",
      "        \"parameter_set\": \"bedrock\",\n",
      "        \"parameters\": {\n",
      "          \"temperature\": 0.1,\n",
      "          \"max_tokens\": 100,\n",
      "          \"top_p\": 0.92,\n",
      "          \"caching\": false\n",
      "        }\n",
      "      },\n",
      "      \"payload_files\": [\n",
      "        \"payload_en_1-500.jsonl\",\n",
      "        \"payload_en_500-1000.jsonl\"\n",
      "      ],\n",
      "      \"concurrency_levels\": [\n",
      "        1\n",
      "      ],\n",
      "      \"env\": null,\n",
      "      \"bucket\": \"sagemaker-fmbench-write-us-west-2-387192758086\"\n",
      "    },\n",
      "    {\n",
      "      \"name\": \"ai21.j2-ultra-v1\",\n",
      "      \"model_id\": \"ai21.j2-ultra-v1\",\n",
      "      \"model_version\": \"*\",\n",
      "      \"model_name\": \"ai21.j2-ultra-v1\",\n",
      "      \"ep_name\": \"ai21.j2-ultra-v1\",\n",
      "      \"instance_type\": \"ai21.j2-ultra-v1\",\n",
      "      \"image_uri\": null,\n",
      "      \"deploy\": false,\n",
      "      \"instance_count\": null,\n",
      "      \"deployment_script\": null,\n",
      "      \"inference_script\": \"bedrock_predictor.py\",\n",
      "      \"inference_spec\": {\n",
      "        \"split_input_and_parameters\": false,\n",
      "        \"parameter_set\": \"bedrock\",\n",
      "        \"parameters\": {\n",
      "          \"temperature\": 0.1,\n",
      "          \"max_tokens\": 100,\n",
      "          \"top_p\": 0.92,\n",
      "          \"caching\": false\n",
      "        }\n",
      "      },\n",
      "      \"payload_files\": [\n",
      "        \"payload_en_1-500.jsonl\",\n",
      "        \"payload_en_500-1000.jsonl\"\n",
      "      ],\n",
      "      \"concurrency_levels\": [\n",
      "        1\n",
      "      ],\n",
      "      \"env\": null,\n",
      "      \"bucket\": \"sagemaker-fmbench-write-us-west-2-387192758086\"\n",
      "    }\n",
      "  ],\n",
      "  \"report\": {\n",
      "    \"latency_budget\": 2,\n",
      "    \"cosine_similarity_budget\": 0.3,\n",
      "    \"accuracy_budget\": 1,\n",
      "    \"accuracy_error_rate_budget\": 0,\n",
      "    \"cost_per_10k_txn_budget\": 50,\n",
      "    \"error_rate_budget\": 0,\n",
      "    \"per_inference_request_file\": \"per_inference_request_results.csv\",\n",
      "    \"all_metrics_file\": \"all_metrics.csv\",\n",
      "    \"txn_count_for_showing_cost\": 10000,\n",
      "    \"v_shift_w_single_instance\": 0.025,\n",
      "    \"v_shift_w_gt_one_instance\": 0.025\n",
      "  }\n",
      "}\n"
     ]
    },
    {
     "name": "stdout",
     "output_type": "stream",
     "text": [
      "role_arn_from_env=None, using current sts caller identity to set arn_string\n",
      "the sts role is an assumed role, setting arn_string to arn:aws:iam::387192758086:role/fmbench-stack-us-west-2-role\n"
     ]
    }
   ],
   "source": [
    "logger.info(f\"CONFIG_FILE={CONFIG_FILE}\")\n",
    "config = load_main_config(CONFIG_FILE)\n",
    "logger.info(json.dumps(config, indent=2))"
   ]
  },
  {
   "cell_type": "markdown",
   "metadata": {},
   "source": [
    "#### Load the associated pricing config file"
   ]
  },
  {
   "cell_type": "code",
   "execution_count": 6,
   "metadata": {
    "tags": []
   },
   "outputs": [
    {
     "name": "stderr",
     "output_type": "stream",
     "text": [
      "[2024-07-12 22:51:56,260] p15113 {2131877439.py:9} INFO - Using fmbench.configs directory: /home/ec2-user/anaconda3/envs/fmbench/lib/python3.11/site-packages/fmbench/configs\n",
      "[2024-07-12 22:51:56,261] p15113 {2131877439.py:12} INFO - pricing config provided for inference from this model is --> pricing.yml\n",
      "[2024-07-12 22:51:56,262] p15113 {2131877439.py:14} INFO - pricing config file path is --> /home/ec2-user/anaconda3/envs/fmbench/lib/python3.11/site-packages/fmbench/configs/pricing.yml\n"
     ]
    },
    {
     "name": "stdout",
     "output_type": "stream",
     "text": [
      "region_name=us-west-2\n"
     ]
    },
    {
     "name": "stderr",
     "output_type": "stream",
     "text": [
      "[2024-07-12 22:51:56,561] p15113 {2131877439.py:17} INFO - pricing config file recorded: {\n",
      "  \"pricing\": {\n",
      "    \"instance_based\": {\n",
      "      \"ml.m5.xlarge\": 0.23,\n",
      "      \"ml.g5.xlarge\": 1.4084,\n",
      "      \"ml.g5.2xlarge\": 1.515,\n",
      "      \"ml.g5.12xlarge\": 7.09,\n",
      "      \"ml.g5.24xlarge\": 10.18,\n",
      "      \"ml.g5.48xlarge\": 20.36,\n",
      "      \"ml.inf2.xlarge\": 0.99,\n",
      "      \"ml.inf2.8xlarge\": 2.36,\n",
      "      \"ml.inf2.24xlarge\": 7.79,\n",
      "      \"ml.inf2.48xlarge\": 15.58,\n",
      "      \"ml.trn1.32xlarge\": 28.497,\n",
      "      \"ml.p4d.24xlarge\": 37.688,\n",
      "      \"ml.p5.48xlarge\": 113.068,\n",
      "      \"ml.p3.2xlarge\": 3.825,\n",
      "      \"ml.g4dn.12xlarge\": 4.89,\n",
      "      \"ml.g6.2xlarge\": 1.222,\n",
      "      \"ml.g6.16xlarge\": 4.246,\n",
      "      \"ml.g6.12xlarge\": 5.752,\n",
      "      \"ml.g6.24xlarge\": 8.344,\n",
      "      \"ml.g6.48xlarge\": 16.688,\n",
      "      \"anthropic.claude-v3-sonnet-pt-nc\": 88,\n",
      "      \"m5.xlarge\": 0.192,\n",
      "      \"g5.xlarge\": 1.006,\n",
      "      \"g5.2xlarge\": 1.212,\n",
      "      \"g5.12xlarge\": 5.672,\n",
      "      \"g5.24xlarge\": 8.144,\n",
      "      \"g5.48xlarge\": 16.288,\n",
      "      \"inf2.xlarge\": 0.7582,\n",
      "      \"inf2.8xlarge\": 1.96786,\n",
      "      \"inf2.24xlarge\": 6.49063,\n",
      "      \"inf2.48xlarge\": 12.98127,\n",
      "      \"trn1.32xlarge\": 21.5,\n",
      "      \"p4d.24xlarge\": 32.7726,\n",
      "      \"p5.48xlarge\": 98.32,\n",
      "      \"p3.2xlarge\": 3.06,\n",
      "      \"g4dn.12xlarge\": 3.912,\n",
      "      \"g6.2xlarge\": 0.9776,\n",
      "      \"g6.16xlarge\": 3.3968,\n",
      "      \"g6.12xlarge\": 4.6016,\n",
      "      \"g6.24xlarge\": 6.6752,\n",
      "      \"g6.48xlarge\": 13.3504\n",
      "    },\n",
      "    \"token_based\": {\n",
      "      \"anthropic.claude-3-haiku-20240307-v1:0\": {\n",
      "        \"input-per-1k-tokens\": 0.00025,\n",
      "        \"output-per-1k-tokens\": 0.00125\n",
      "      },\n",
      "      \"anthropic.claude-3-sonnet-20240229-v1:0\": {\n",
      "        \"input-per-1k-tokens\": 0.003,\n",
      "        \"output-per-1k-tokens\": 0.015\n",
      "      },\n",
      "      \"amazon.titan-text-lite-v1\": {\n",
      "        \"input-per-1k-tokens\": 0.0003,\n",
      "        \"output-per-1k-tokens\": 0.0004\n",
      "      },\n",
      "      \"amazon.titan-text-express-v1\": {\n",
      "        \"input-per-1k-tokens\": 0.0008,\n",
      "        \"output-per-1k-tokens\": 0.0016\n",
      "      },\n",
      "      \"mistral.mistral-7b-instruct-v0:2\": {\n",
      "        \"input-per-1k-tokens\": 0.00015,\n",
      "        \"output-per-1k-tokens\": 0.0002\n",
      "      },\n",
      "      \"mistral.mixtral-8x7b-instruct-v0:1\": {\n",
      "        \"input-per-1k-tokens\": 0.00045,\n",
      "        \"output-per-1k-tokens\": 0.0007\n",
      "      },\n",
      "      \"meta.llama3-8b-instruct-v1:0\": {\n",
      "        \"input-per-1k-tokens\": 0.0004,\n",
      "        \"output-per-1k-tokens\": 0.0006\n",
      "      },\n",
      "      \"meta.llama3-70b-instruct-v1:0\": {\n",
      "        \"input-per-1k-tokens\": 0.00265,\n",
      "        \"output-per-1k-tokens\": 0.0035\n",
      "      },\n",
      "      \"meta.llama2-13b-chat-v1\": {\n",
      "        \"input-per-1k-tokens\": 0.00075,\n",
      "        \"output-per-1k-tokens\": 0.001\n",
      "      },\n",
      "      \"meta.llama2-70b-chat-v1\": {\n",
      "        \"input-per-1k-tokens\": 0.00195,\n",
      "        \"output-per-1k-tokens\": 0.00256\n",
      "      },\n",
      "      \"ai21.j2-mid-v1\": {\n",
      "        \"input-per-1k-tokens\": 0.0125,\n",
      "        \"output-per-1k-tokens\": 0.0125\n",
      "      },\n",
      "      \"ai21.j2-ultra-v1\": {\n",
      "        \"input-per-1k-tokens\": 0.0188,\n",
      "        \"output-per-1k-tokens\": 0.0188\n",
      "      },\n",
      "      \"cohere.command-text-v14\": {\n",
      "        \"input-per-1k-tokens\": 0.0015,\n",
      "        \"output-per-1k-tokens\": 0.002\n",
      "      },\n",
      "      \"cohere.command-light-text-v14\": {\n",
      "        \"input-per-1k-tokens\": 0.0003,\n",
      "        \"output-per-1k-tokens\": 0.0006\n",
      "      }\n",
      "    }\n",
      "  }\n",
      "}\n"
     ]
    },
    {
     "name": "stdout",
     "output_type": "stream",
     "text": [
      "role_arn_from_env=None, using current sts caller identity to set arn_string\n",
      "the sts role is an assumed role, setting arn_string to arn:aws:iam::387192758086:role/fmbench-stack-us-west-2-role\n"
     ]
    }
   ],
   "source": [
    "# represents getting the config file from the s3 bucket/https path for pricing yml information\n",
    "pricing_file_path: str = config['pricing'] \n",
    "\n",
    "# initialize the pricing config file to None\n",
    "pricing_config: Optional[Dict] = None\n",
    "\n",
    "# get the current config dir path\n",
    "config_dir = Path(pkg_resources.files('fmbench'), 'configs')\n",
    "logger.info(f\"Using fmbench.configs directory: {config_dir}\")\n",
    "\n",
    "pricing_module = Path(config['pricing'])\n",
    "logger.info(f\"pricing config provided for inference from this model is --> {pricing_module}\")\n",
    "pricing_file_path = os.path.join(config_dir, pricing_module)\n",
    "logger.info(f\"pricing config file path is --> {pricing_file_path}\")\n",
    "\n",
    "pricing_config = load_config(pricing_file_path)\n",
    "logger.info(f\"pricing config file recorded: {json.dumps(pricing_config, indent=2)}\")"
   ]
  },
  {
   "cell_type": "code",
   "execution_count": 7,
   "metadata": {
    "tags": []
   },
   "outputs": [
    {
     "name": "stderr",
     "output_type": "stream",
     "text": [
      "[2024-07-12 22:51:56,567] p15113 {3887258129.py:6} INFO - cwd=/home/ec2-user/SageMaker/foundation-model-benchmarking-tool/src/fmbench, METADATA_DIR=metadata, METRICS_PATH_FNAME=metrics_path.txt, metrics_path_file=metadata/metrics_path.txt\n"
     ]
    },
    {
     "ename": "FileNotFoundError",
     "evalue": "[Errno 2] No such file or directory: 'metadata/metrics_path.txt'",
     "output_type": "error",
     "traceback": [
      "\u001b[0;31m---------------------------------------------------------------------------\u001b[0m",
      "\u001b[0;31mFileNotFoundError\u001b[0m                         Traceback (most recent call last)",
      "Cell \u001b[0;32mIn[7], line 7\u001b[0m\n\u001b[1;32m      5\u001b[0m     metrics_path_file: \u001b[38;5;28mstr\u001b[39m \u001b[38;5;241m=\u001b[39m os\u001b[38;5;241m.\u001b[39mpath\u001b[38;5;241m.\u001b[39mjoin(METADATA_DIR, METRICS_PATH_FNAME)\n\u001b[1;32m      6\u001b[0m logger\u001b[38;5;241m.\u001b[39minfo(\u001b[38;5;124mf\u001b[39m\u001b[38;5;124m\"\u001b[39m\u001b[38;5;124mcwd=\u001b[39m\u001b[38;5;132;01m{\u001b[39;00mos\u001b[38;5;241m.\u001b[39mgetcwd()\u001b[38;5;132;01m}\u001b[39;00m\u001b[38;5;124m, METADATA_DIR=\u001b[39m\u001b[38;5;132;01m{\u001b[39;00mMETADATA_DIR\u001b[38;5;132;01m}\u001b[39;00m\u001b[38;5;124m, METRICS_PATH_FNAME=\u001b[39m\u001b[38;5;132;01m{\u001b[39;00mMETRICS_PATH_FNAME\u001b[38;5;132;01m}\u001b[39;00m\u001b[38;5;124m, metrics_path_file=\u001b[39m\u001b[38;5;132;01m{\u001b[39;00mmetrics_path_file\u001b[38;5;132;01m}\u001b[39;00m\u001b[38;5;124m\"\u001b[39m)\n\u001b[0;32m----> 7\u001b[0m METRICS_DIR: \u001b[38;5;28mstr\u001b[39m \u001b[38;5;241m=\u001b[39m \u001b[43mPath\u001b[49m\u001b[43m(\u001b[49m\u001b[43mmetrics_path_file\u001b[49m\u001b[43m)\u001b[49m\u001b[38;5;241;43m.\u001b[39;49m\u001b[43mread_text\u001b[49m\u001b[43m(\u001b[49m\u001b[43m)\u001b[49m\u001b[38;5;241m.\u001b[39mstrip()\n\u001b[1;32m      8\u001b[0m logger\u001b[38;5;241m.\u001b[39minfo(\u001b[38;5;124mf\u001b[39m\u001b[38;5;124m\"\u001b[39m\u001b[38;5;124mmetrics_path_file=\u001b[39m\u001b[38;5;132;01m{\u001b[39;00mmetrics_path_file\u001b[38;5;132;01m}\u001b[39;00m\u001b[38;5;124m, METRICS_DIR=\u001b[39m\u001b[38;5;132;01m{\u001b[39;00mMETRICS_DIR\u001b[38;5;132;01m}\u001b[39;00m\u001b[38;5;124m\"\u001b[39m)\n",
      "File \u001b[0;32m~/anaconda3/envs/fmbench/lib/python3.11/pathlib.py:1058\u001b[0m, in \u001b[0;36mPath.read_text\u001b[0;34m(self, encoding, errors)\u001b[0m\n\u001b[1;32m   1054\u001b[0m \u001b[38;5;250m\u001b[39m\u001b[38;5;124;03m\"\"\"\u001b[39;00m\n\u001b[1;32m   1055\u001b[0m \u001b[38;5;124;03mOpen the file in text mode, read it, and close the file.\u001b[39;00m\n\u001b[1;32m   1056\u001b[0m \u001b[38;5;124;03m\"\"\"\u001b[39;00m\n\u001b[1;32m   1057\u001b[0m encoding \u001b[38;5;241m=\u001b[39m io\u001b[38;5;241m.\u001b[39mtext_encoding(encoding)\n\u001b[0;32m-> 1058\u001b[0m \u001b[38;5;28;01mwith\u001b[39;00m \u001b[38;5;28;43mself\u001b[39;49m\u001b[38;5;241;43m.\u001b[39;49m\u001b[43mopen\u001b[49m\u001b[43m(\u001b[49m\u001b[43mmode\u001b[49m\u001b[38;5;241;43m=\u001b[39;49m\u001b[38;5;124;43m'\u001b[39;49m\u001b[38;5;124;43mr\u001b[39;49m\u001b[38;5;124;43m'\u001b[39;49m\u001b[43m,\u001b[49m\u001b[43m \u001b[49m\u001b[43mencoding\u001b[49m\u001b[38;5;241;43m=\u001b[39;49m\u001b[43mencoding\u001b[49m\u001b[43m,\u001b[49m\u001b[43m \u001b[49m\u001b[43merrors\u001b[49m\u001b[38;5;241;43m=\u001b[39;49m\u001b[43merrors\u001b[49m\u001b[43m)\u001b[49m \u001b[38;5;28;01mas\u001b[39;00m f:\n\u001b[1;32m   1059\u001b[0m     \u001b[38;5;28;01mreturn\u001b[39;00m f\u001b[38;5;241m.\u001b[39mread()\n",
      "File \u001b[0;32m~/anaconda3/envs/fmbench/lib/python3.11/pathlib.py:1044\u001b[0m, in \u001b[0;36mPath.open\u001b[0;34m(self, mode, buffering, encoding, errors, newline)\u001b[0m\n\u001b[1;32m   1042\u001b[0m \u001b[38;5;28;01mif\u001b[39;00m \u001b[38;5;124m\"\u001b[39m\u001b[38;5;124mb\u001b[39m\u001b[38;5;124m\"\u001b[39m \u001b[38;5;129;01mnot\u001b[39;00m \u001b[38;5;129;01min\u001b[39;00m mode:\n\u001b[1;32m   1043\u001b[0m     encoding \u001b[38;5;241m=\u001b[39m io\u001b[38;5;241m.\u001b[39mtext_encoding(encoding)\n\u001b[0;32m-> 1044\u001b[0m \u001b[38;5;28;01mreturn\u001b[39;00m io\u001b[38;5;241m.\u001b[39mopen(\u001b[38;5;28mself\u001b[39m, mode, buffering, encoding, errors, newline)\n",
      "\u001b[0;31mFileNotFoundError\u001b[0m: [Errno 2] No such file or directory: 'metadata/metrics_path.txt'"
     ]
    }
   ],
   "source": [
    "debug = False\n",
    "if debug is True:\n",
    "    metrics_path_file: str = os.path.join(\"..\", \"..\", METADATA_DIR, METRICS_PATH_FNAME)\n",
    "else:\n",
    "    metrics_path_file: str = os.path.join(METADATA_DIR, METRICS_PATH_FNAME)\n",
    "logger.info(f\"cwd={os.getcwd()}, METADATA_DIR={METADATA_DIR}, METRICS_PATH_FNAME={METRICS_PATH_FNAME}, metrics_path_file={metrics_path_file}\")\n",
    "METRICS_DIR: str = Path(metrics_path_file).read_text().strip()\n",
    "logger.info(f\"metrics_path_file={metrics_path_file}, METRICS_DIR={METRICS_DIR}\")"
   ]
  },
  {
   "cell_type": "code",
   "execution_count": 8,
   "metadata": {
    "tags": []
   },
   "outputs": [
    {
     "name": "stderr",
     "output_type": "stream",
     "text": [
      "[2024-07-12 22:51:57,456] p15113 {4083681005.py:2} INFO - File path containing the metrics per inference folder --> fmbench-bedrock-llama3-fmbench-stack-us-west-2-role/data/metrics/yyyy=2024/mm=07/dd=12/hh=19/mm=48/per_inference_request_results.csv\n",
      "[2024-07-12 22:51:57,512] p15113 {4083681005.py:9} INFO - fmbench-bedrock-llama3-fmbench-stack-us-west-2-role/data/metrics/yyyy=2024/mm=07/dd=12/hh=19/mm=48/per_inference_request_results.csv read into dataframe of shape (20, 19), cols=Index(['endpoint_name', 'prompt', 'ground_truth', 'temperature', 'max_tokens',\n",
      "       'top_p', 'completion', 'prompt_tokens', 'completion_tokens', 'latency',\n",
      "       'time_to_first_token', 'time_per_output_token', 'time_to_last_token',\n",
      "       'uuid', 'experiment_name', 'concurrency', 'instance_type',\n",
      "       'instance_count', 'EndpointName'],\n",
      "      dtype='object')\n",
      "[2024-07-12 22:51:57,517] p15113 {4083681005.py:11} INFO - fmbench-bedrock-llama3-fmbench-stack-us-west-2-role/data/metrics/yyyy=2024/mm=07/dd=12/hh=19/mm=48/per_inference_request_results.csv contains results for the following endpoints=['meta.llama3-70b-instruct-v1:0' 'meta.llama3-8b-instruct-v1:0']\n",
      "[2024-07-12 22:51:57,517] p15113 {4083681005.py:12} INFO -                    endpoint_name  \\\n",
      "0  meta.llama3-70b-instruct-v1:0   \n",
      "1  meta.llama3-70b-instruct-v1:0   \n",
      "2  meta.llama3-70b-instruct-v1:0   \n",
      "3  meta.llama3-70b-instruct-v1:0   \n",
      "4  meta.llama3-70b-instruct-v1:0   \n",
      "\n",
      "                                              prompt  \\\n",
      "0  <|begin_of_text|><|start_header_id|>user<|end_...   \n",
      "1  <|begin_of_text|><|start_header_id|>user<|end_...   \n",
      "2  <|begin_of_text|><|start_header_id|>user<|end_...   \n",
      "3  <|begin_of_text|><|start_header_id|>user<|end_...   \n",
      "4  <|begin_of_text|><|start_header_id|>user<|end_...   \n",
      "\n",
      "                                        ground_truth  temperature  max_tokens  \\\n",
      "0  a genus of flowering plant in the Lardizabalac...          0.1         100   \n",
      "1  a genus of flowering plant in the Lardizabalac...          0.1         100   \n",
      "2  a genus of flowering plant in the Lardizabalac...          0.1         100   \n",
      "3  a genus of flowering plant in the Lardizabalac...          0.1         100   \n",
      "4  a genus of flowering plant in the Lardizabalac...          0.1         100   \n",
      "\n",
      "   top_p                                         completion  prompt_tokens  \\\n",
      "0   0.92  Both Sinofranchetia and Stauntonia are from th...            323   \n",
      "1   0.92  Both Sinofranchetia and Stauntonia are from th...            323   \n",
      "2   0.92  The genus' Sinofranchetia and Stauntonia are f...            323   \n",
      "3   0.92  The genus' Sinofranchetia and Stauntonia are f...            323   \n",
      "4   0.92  The genus' Sinofranchetia and Stauntonia are f...            323   \n",
      "\n",
      "   completion_tokens   latency  time_to_first_token  time_per_output_token  \\\n",
      "0                 37  1.151869             0.474724               0.019111   \n",
      "1                 37  1.151869             0.474724               0.019111   \n",
      "2                 25  0.864521             0.441994               0.017998   \n",
      "3                 25  0.864521             0.441994               0.017998   \n",
      "4                 25  0.883385             0.402027               0.020564   \n",
      "\n",
      "   time_to_last_token                              uuid  \\\n",
      "0            1.149713  7b1cad38ac8b482bb845e4d85f08baa2   \n",
      "1            1.149713  7b1cad38ac8b482bb845e4d85f08baa2   \n",
      "2            0.861818  00ad69bc527c4f50a56edb6b16bda101   \n",
      "3            0.861818  00ad69bc527c4f50a56edb6b16bda101   \n",
      "4            0.880519  53ce7682c18946dcb1fc41b099598a59   \n",
      "\n",
      "                 experiment_name  concurrency                  instance_type  \\\n",
      "0  meta.llama3-70b-instruct-v1:0            1  meta.llama3-70b-instruct-v1:0   \n",
      "1  meta.llama3-70b-instruct-v1:0            1  meta.llama3-70b-instruct-v1:0   \n",
      "2  meta.llama3-70b-instruct-v1:0            1  meta.llama3-70b-instruct-v1:0   \n",
      "3  meta.llama3-70b-instruct-v1:0            1  meta.llama3-70b-instruct-v1:0   \n",
      "4  meta.llama3-70b-instruct-v1:0            1  meta.llama3-70b-instruct-v1:0   \n",
      "\n",
      "   instance_count                   EndpointName  \n",
      "0             NaN  meta.llama3-70b-instruct-v1:0  \n",
      "1             NaN                            NaN  \n",
      "2             NaN  meta.llama3-70b-instruct-v1:0  \n",
      "3             NaN                            NaN  \n",
      "4             NaN  meta.llama3-70b-instruct-v1:0  \n"
     ]
    }
   ],
   "source": [
    "file_path = 'fmbench-bedrock-llama3-fmbench-stack-us-west-2-role/data/metrics/yyyy=2024/mm=07/dd=12/hh=19/mm=48/per_inference_request_results.csv'\n",
    "logger.info(f\"File path containing the metrics per inference folder --> {file_path}\")\n",
    "\n",
    "# Read the file from S3\n",
    "try:\n",
    "    file_content = get_s3_object(config['aws']['bucket'], file_path)\n",
    "    # Use pandas to read the CSV content\n",
    "    df_per_inference = pd.read_csv(io.StringIO(file_content))\n",
    "    logger.info(f\"{file_path} read into dataframe of shape {df_per_inference.shape}, \"\n",
    "                f\"cols={df_per_inference.columns}\")\n",
    "    logger.info(f\"{file_path} contains results for the following endpoints={df_per_inference.endpoint_name.unique()}\")\n",
    "    logger.info(df_per_inference.head())\n",
    "except Exception as e:\n",
    "    logger.error(f\"Error reading from S3: {e}\")"
   ]
  },
  {
   "cell_type": "code",
   "execution_count": 9,
   "metadata": {
    "tags": []
   },
   "outputs": [
    {
     "data": {
      "text/html": [
       "<div>\n",
       "<style scoped>\n",
       "    .dataframe tbody tr th:only-of-type {\n",
       "        vertical-align: middle;\n",
       "    }\n",
       "\n",
       "    .dataframe tbody tr th {\n",
       "        vertical-align: top;\n",
       "    }\n",
       "\n",
       "    .dataframe thead th {\n",
       "        text-align: right;\n",
       "    }\n",
       "</style>\n",
       "<table border=\"1\" class=\"dataframe\">\n",
       "  <thead>\n",
       "    <tr style=\"text-align: right;\">\n",
       "      <th></th>\n",
       "      <th>endpoint_name</th>\n",
       "      <th>prompt</th>\n",
       "      <th>ground_truth</th>\n",
       "      <th>temperature</th>\n",
       "      <th>max_tokens</th>\n",
       "      <th>top_p</th>\n",
       "      <th>completion</th>\n",
       "      <th>prompt_tokens</th>\n",
       "      <th>completion_tokens</th>\n",
       "      <th>latency</th>\n",
       "      <th>time_to_first_token</th>\n",
       "      <th>time_per_output_token</th>\n",
       "      <th>time_to_last_token</th>\n",
       "      <th>uuid</th>\n",
       "      <th>experiment_name</th>\n",
       "      <th>concurrency</th>\n",
       "      <th>instance_type</th>\n",
       "      <th>instance_count</th>\n",
       "      <th>EndpointName</th>\n",
       "    </tr>\n",
       "  </thead>\n",
       "  <tbody>\n",
       "    <tr>\n",
       "      <th>0</th>\n",
       "      <td>meta.llama3-70b-instruct-v1:0</td>\n",
       "      <td>&lt;|begin_of_text|&gt;&lt;|start_header_id|&gt;user&lt;|end_...</td>\n",
       "      <td>a genus of flowering plant in the Lardizabalac...</td>\n",
       "      <td>0.1</td>\n",
       "      <td>100</td>\n",
       "      <td>0.92</td>\n",
       "      <td>Both Sinofranchetia and Stauntonia are from th...</td>\n",
       "      <td>323</td>\n",
       "      <td>37</td>\n",
       "      <td>1.151869</td>\n",
       "      <td>0.474724</td>\n",
       "      <td>0.019111</td>\n",
       "      <td>1.149713</td>\n",
       "      <td>7b1cad38ac8b482bb845e4d85f08baa2</td>\n",
       "      <td>meta.llama3-70b-instruct-v1:0</td>\n",
       "      <td>1</td>\n",
       "      <td>meta.llama3-70b-instruct-v1:0</td>\n",
       "      <td>NaN</td>\n",
       "      <td>meta.llama3-70b-instruct-v1:0</td>\n",
       "    </tr>\n",
       "    <tr>\n",
       "      <th>1</th>\n",
       "      <td>meta.llama3-70b-instruct-v1:0</td>\n",
       "      <td>&lt;|begin_of_text|&gt;&lt;|start_header_id|&gt;user&lt;|end_...</td>\n",
       "      <td>a genus of flowering plant in the Lardizabalac...</td>\n",
       "      <td>0.1</td>\n",
       "      <td>100</td>\n",
       "      <td>0.92</td>\n",
       "      <td>Both Sinofranchetia and Stauntonia are from th...</td>\n",
       "      <td>323</td>\n",
       "      <td>37</td>\n",
       "      <td>1.151869</td>\n",
       "      <td>0.474724</td>\n",
       "      <td>0.019111</td>\n",
       "      <td>1.149713</td>\n",
       "      <td>7b1cad38ac8b482bb845e4d85f08baa2</td>\n",
       "      <td>meta.llama3-70b-instruct-v1:0</td>\n",
       "      <td>1</td>\n",
       "      <td>meta.llama3-70b-instruct-v1:0</td>\n",
       "      <td>NaN</td>\n",
       "      <td>NaN</td>\n",
       "    </tr>\n",
       "    <tr>\n",
       "      <th>2</th>\n",
       "      <td>meta.llama3-70b-instruct-v1:0</td>\n",
       "      <td>&lt;|begin_of_text|&gt;&lt;|start_header_id|&gt;user&lt;|end_...</td>\n",
       "      <td>a genus of flowering plant in the Lardizabalac...</td>\n",
       "      <td>0.1</td>\n",
       "      <td>100</td>\n",
       "      <td>0.92</td>\n",
       "      <td>The genus' Sinofranchetia and Stauntonia are f...</td>\n",
       "      <td>323</td>\n",
       "      <td>25</td>\n",
       "      <td>0.864521</td>\n",
       "      <td>0.441994</td>\n",
       "      <td>0.017998</td>\n",
       "      <td>0.861818</td>\n",
       "      <td>00ad69bc527c4f50a56edb6b16bda101</td>\n",
       "      <td>meta.llama3-70b-instruct-v1:0</td>\n",
       "      <td>1</td>\n",
       "      <td>meta.llama3-70b-instruct-v1:0</td>\n",
       "      <td>NaN</td>\n",
       "      <td>meta.llama3-70b-instruct-v1:0</td>\n",
       "    </tr>\n",
       "    <tr>\n",
       "      <th>3</th>\n",
       "      <td>meta.llama3-70b-instruct-v1:0</td>\n",
       "      <td>&lt;|begin_of_text|&gt;&lt;|start_header_id|&gt;user&lt;|end_...</td>\n",
       "      <td>a genus of flowering plant in the Lardizabalac...</td>\n",
       "      <td>0.1</td>\n",
       "      <td>100</td>\n",
       "      <td>0.92</td>\n",
       "      <td>The genus' Sinofranchetia and Stauntonia are f...</td>\n",
       "      <td>323</td>\n",
       "      <td>25</td>\n",
       "      <td>0.864521</td>\n",
       "      <td>0.441994</td>\n",
       "      <td>0.017998</td>\n",
       "      <td>0.861818</td>\n",
       "      <td>00ad69bc527c4f50a56edb6b16bda101</td>\n",
       "      <td>meta.llama3-70b-instruct-v1:0</td>\n",
       "      <td>1</td>\n",
       "      <td>meta.llama3-70b-instruct-v1:0</td>\n",
       "      <td>NaN</td>\n",
       "      <td>NaN</td>\n",
       "    </tr>\n",
       "    <tr>\n",
       "      <th>4</th>\n",
       "      <td>meta.llama3-70b-instruct-v1:0</td>\n",
       "      <td>&lt;|begin_of_text|&gt;&lt;|start_header_id|&gt;user&lt;|end_...</td>\n",
       "      <td>a genus of flowering plant in the Lardizabalac...</td>\n",
       "      <td>0.1</td>\n",
       "      <td>100</td>\n",
       "      <td>0.92</td>\n",
       "      <td>The genus' Sinofranchetia and Stauntonia are f...</td>\n",
       "      <td>323</td>\n",
       "      <td>25</td>\n",
       "      <td>0.883385</td>\n",
       "      <td>0.402027</td>\n",
       "      <td>0.020564</td>\n",
       "      <td>0.880519</td>\n",
       "      <td>53ce7682c18946dcb1fc41b099598a59</td>\n",
       "      <td>meta.llama3-70b-instruct-v1:0</td>\n",
       "      <td>1</td>\n",
       "      <td>meta.llama3-70b-instruct-v1:0</td>\n",
       "      <td>NaN</td>\n",
       "      <td>meta.llama3-70b-instruct-v1:0</td>\n",
       "    </tr>\n",
       "  </tbody>\n",
       "</table>\n",
       "</div>"
      ],
      "text/plain": [
       "                   endpoint_name  \\\n",
       "0  meta.llama3-70b-instruct-v1:0   \n",
       "1  meta.llama3-70b-instruct-v1:0   \n",
       "2  meta.llama3-70b-instruct-v1:0   \n",
       "3  meta.llama3-70b-instruct-v1:0   \n",
       "4  meta.llama3-70b-instruct-v1:0   \n",
       "\n",
       "                                              prompt  \\\n",
       "0  <|begin_of_text|><|start_header_id|>user<|end_...   \n",
       "1  <|begin_of_text|><|start_header_id|>user<|end_...   \n",
       "2  <|begin_of_text|><|start_header_id|>user<|end_...   \n",
       "3  <|begin_of_text|><|start_header_id|>user<|end_...   \n",
       "4  <|begin_of_text|><|start_header_id|>user<|end_...   \n",
       "\n",
       "                                        ground_truth  temperature  max_tokens  \\\n",
       "0  a genus of flowering plant in the Lardizabalac...          0.1         100   \n",
       "1  a genus of flowering plant in the Lardizabalac...          0.1         100   \n",
       "2  a genus of flowering plant in the Lardizabalac...          0.1         100   \n",
       "3  a genus of flowering plant in the Lardizabalac...          0.1         100   \n",
       "4  a genus of flowering plant in the Lardizabalac...          0.1         100   \n",
       "\n",
       "   top_p                                         completion  prompt_tokens  \\\n",
       "0   0.92  Both Sinofranchetia and Stauntonia are from th...            323   \n",
       "1   0.92  Both Sinofranchetia and Stauntonia are from th...            323   \n",
       "2   0.92  The genus' Sinofranchetia and Stauntonia are f...            323   \n",
       "3   0.92  The genus' Sinofranchetia and Stauntonia are f...            323   \n",
       "4   0.92  The genus' Sinofranchetia and Stauntonia are f...            323   \n",
       "\n",
       "   completion_tokens   latency  time_to_first_token  time_per_output_token  \\\n",
       "0                 37  1.151869             0.474724               0.019111   \n",
       "1                 37  1.151869             0.474724               0.019111   \n",
       "2                 25  0.864521             0.441994               0.017998   \n",
       "3                 25  0.864521             0.441994               0.017998   \n",
       "4                 25  0.883385             0.402027               0.020564   \n",
       "\n",
       "   time_to_last_token                              uuid  \\\n",
       "0            1.149713  7b1cad38ac8b482bb845e4d85f08baa2   \n",
       "1            1.149713  7b1cad38ac8b482bb845e4d85f08baa2   \n",
       "2            0.861818  00ad69bc527c4f50a56edb6b16bda101   \n",
       "3            0.861818  00ad69bc527c4f50a56edb6b16bda101   \n",
       "4            0.880519  53ce7682c18946dcb1fc41b099598a59   \n",
       "\n",
       "                 experiment_name  concurrency                  instance_type  \\\n",
       "0  meta.llama3-70b-instruct-v1:0            1  meta.llama3-70b-instruct-v1:0   \n",
       "1  meta.llama3-70b-instruct-v1:0            1  meta.llama3-70b-instruct-v1:0   \n",
       "2  meta.llama3-70b-instruct-v1:0            1  meta.llama3-70b-instruct-v1:0   \n",
       "3  meta.llama3-70b-instruct-v1:0            1  meta.llama3-70b-instruct-v1:0   \n",
       "4  meta.llama3-70b-instruct-v1:0            1  meta.llama3-70b-instruct-v1:0   \n",
       "\n",
       "   instance_count                   EndpointName  \n",
       "0             NaN  meta.llama3-70b-instruct-v1:0  \n",
       "1             NaN                            NaN  \n",
       "2             NaN  meta.llama3-70b-instruct-v1:0  \n",
       "3             NaN                            NaN  \n",
       "4             NaN  meta.llama3-70b-instruct-v1:0  "
      ]
     },
     "execution_count": 9,
     "metadata": {},
     "output_type": "execute_result"
    }
   ],
   "source": [
    "df_per_inference.head()"
   ]
  },
  {
   "cell_type": "markdown",
   "metadata": {},
   "source": [
    "### Relationship between prompt token length and inference latency for different instances and concurrency levels"
   ]
  },
  {
   "cell_type": "code",
   "execution_count": 10,
   "metadata": {
    "tags": []
   },
   "outputs": [
    {
     "data": {
      "text/plain": [
       "count    20.000000\n",
       "mean      0.823726\n",
       "std       0.190760\n",
       "min       0.657276\n",
       "25%       0.670881\n",
       "50%       0.755222\n",
       "75%       0.883385\n",
       "max       1.162091\n",
       "Name: latency, dtype: float64"
      ]
     },
     "execution_count": 10,
     "metadata": {},
     "output_type": "execute_result"
    }
   ],
   "source": [
    "df_per_inference.latency.describe()"
   ]
  },
  {
   "cell_type": "markdown",
   "metadata": {},
   "source": [
    "### Use the `sentence-transformers/all-mpnet-base-v2` embeddings model to calculate the _Cosine Similarity_ scores \n",
    "---\n",
    "\n",
    "This portion of the evaluation step does as follows:\n",
    "\n",
    "1. Uses the `sentence-transformers/all-mpnet-base-v2` model from Hugging Face. This is a sentence-transformers model. It maps sentences & paragraphs to a 768 dimensional dense vector space and can be used for tasks like clustering or semantic search.\n",
    "\n",
    "1. Use the embeddings model to get quantitative metrics from the inferences. This helps to get a similarity score between the ground truth answers from a dataset if any are given and the actual responses from the model received during inference.\n",
    "\n",
    "1. If no ground truth is provided, cosine similarity is calculated between the response and the content provided to answer the question.embeddings_model_info"
   ]
  },
  {
   "cell_type": "code",
   "execution_count": 11,
   "metadata": {
    "tags": []
   },
   "outputs": [],
   "source": [
    "# get the quantitiative evaluation information from the config file, such as the embeddings model\n",
    "# to be used\n",
    "embeddings_model_quantitative_info: Dict = config['model_evaluations']['quantitative_eval_info']\n",
    "\n",
    "\n",
    "def load_model():\n",
    "    \"\"\"\n",
    "    This function loads the sentence-transformers model based on the provided model ID.\n",
    "    \"\"\"\n",
    "    try: \n",
    "        model=None\n",
    "        model_id = embeddings_model_quantitative_info['embeddings_model_id'].get('model_id', None)\n",
    "        if model_id:\n",
    "            model = SentenceTransformer(model_id)\n",
    "        else:\n",
    "            raise ValueError(\"Model ID is not provided or invalid in the configuration.\")\n",
    "    except Exception as e:\n",
    "        logger.error(f\"The SentenceTransformer embeddings model could not be loaded: {e}\")\n",
    "        model=None\n",
    "    return model"
   ]
  },
  {
   "cell_type": "code",
   "execution_count": 12,
   "metadata": {
    "tags": []
   },
   "outputs": [
    {
     "name": "stderr",
     "output_type": "stream",
     "text": [
      "[2024-07-12 22:52:01,044] p15113 {SentenceTransformer.py:189} INFO - Use pytorch device_name: cpu\n",
      "[2024-07-12 22:52:01,045] p15113 {SentenceTransformer.py:197} INFO - Load pretrained SentenceTransformer: sentence-transformers/all-mpnet-base-v2\n",
      "/home/ec2-user/anaconda3/envs/fmbench/lib/python3.11/site-packages/huggingface_hub/file_download.py:1132: FutureWarning: `resume_download` is deprecated and will be removed in version 1.0.0. Downloads always resume when possible. If you want to force a new download, use `force_download=True`.\n",
      "  warnings.warn(\n"
     ]
    }
   ],
   "source": [
    "# load the embeddings model to calculate the cosine similarity scores\n",
    "model = load_model()\n",
    "\n",
    "\n",
    "def get_cosine_similarity(text1: str, text2: str) -> float:\n",
    "    \"\"\"\n",
    "    This function calculates the cosine similarity between two texts.\n",
    "    \"\"\"\n",
    "    try:\n",
    "        cosine: float = None\n",
    "        # returns the embedding for a given text using the sentence-transformers model.\n",
    "        A = model.encode([text1])[0]\n",
    "        B = model.encode([text2])[0]\n",
    "        cosine = dot(A, B) / (norm(A) * norm(B))\n",
    "    except Exception as e:\n",
    "        logger.error(f\"Cosine similarity was not calculated at this iteration: {e}\")\n",
    "        cosine=None\n",
    "    return cosine"
   ]
  },
  {
   "cell_type": "code",
   "execution_count": 13,
   "metadata": {
    "collapsed": true,
    "jupyter": {
     "outputs_hidden": true
    },
    "tags": []
   },
   "outputs": [
    {
     "name": "stderr",
     "output_type": "stream",
     "text": [
      "[2024-07-12 22:52:04,624] p15113 {680255241.py:1} INFO - Creating embeddings of all candidate model responses now. This might take a couple minutes.\n"
     ]
    },
    {
     "data": {
      "application/vnd.jupyter.widget-view+json": {
       "model_id": "e5005282bfb84a3290ab16225ef1d25a",
       "version_major": 2,
       "version_minor": 0
      },
      "text/plain": [
       "Batches:   0%|          | 0/1 [00:00<?, ?it/s]"
      ]
     },
     "metadata": {},
     "output_type": "display_data"
    },
    {
     "name": "stderr",
     "output_type": "stream",
     "text": [
      "huggingface/tokenizers: The current process just got forked, after parallelism has already been used. Disabling parallelism to avoid deadlocks...\n",
      "To disable this warning, you can either:\n",
      "\t- Avoid using `tokenizers` before the fork if possible\n",
      "\t- Explicitly set the environment variable TOKENIZERS_PARALLELISM=(true | false)\n",
      "huggingface/tokenizers: The current process just got forked, after parallelism has already been used. Disabling parallelism to avoid deadlocks...\n",
      "To disable this warning, you can either:\n",
      "\t- Avoid using `tokenizers` before the fork if possible\n",
      "\t- Explicitly set the environment variable TOKENIZERS_PARALLELISM=(true | false)\n",
      "huggingface/tokenizers: The current process just got forked, after parallelism has already been used. Disabling parallelism to avoid deadlocks...\n",
      "To disable this warning, you can either:\n",
      "\t- Avoid using `tokenizers` before the fork if possible\n",
      "\t- Explicitly set the environment variable TOKENIZERS_PARALLELISM=(true | false)\n",
      "/home/ec2-user/anaconda3/envs/fmbench/lib/python3.11/site-packages/torch/cuda/__init__.py:619: UserWarning: Can't initialize NVML\n",
      "  warnings.warn(\"Can't initialize NVML\")\n"
     ]
    },
    {
     "data": {
      "application/vnd.jupyter.widget-view+json": {
       "model_id": "5e23765739b94f559ef1f66f1bcd5bde",
       "version_major": 2,
       "version_minor": 0
      },
      "text/plain": [
       "Batches:   0%|          | 0/1 [00:00<?, ?it/s]"
      ]
     },
     "metadata": {},
     "output_type": "display_data"
    },
    {
     "data": {
      "application/vnd.jupyter.widget-view+json": {
       "model_id": "ff6fb3a0951445fe9f250b4a632920a8",
       "version_major": 2,
       "version_minor": 0
      },
      "text/plain": [
       "Batches:   0%|          | 0/1 [00:00<?, ?it/s]"
      ]
     },
     "metadata": {},
     "output_type": "display_data"
    },
    {
     "data": {
      "application/vnd.jupyter.widget-view+json": {
       "model_id": "bafef4d79ca64587b6834610baa977cc",
       "version_major": 2,
       "version_minor": 0
      },
      "text/plain": [
       "Batches:   0%|          | 0/1 [00:00<?, ?it/s]"
      ]
     },
     "metadata": {},
     "output_type": "display_data"
    },
    {
     "data": {
      "application/vnd.jupyter.widget-view+json": {
       "model_id": "696ac73210fc435897b3d151c484a36b",
       "version_major": 2,
       "version_minor": 0
      },
      "text/plain": [
       "Batches:   0%|          | 0/1 [00:00<?, ?it/s]"
      ]
     },
     "metadata": {},
     "output_type": "display_data"
    },
    {
     "data": {
      "application/vnd.jupyter.widget-view+json": {
       "model_id": "17fca2abd46847589d3968bff237040c",
       "version_major": 2,
       "version_minor": 0
      },
      "text/plain": [
       "Batches:   0%|          | 0/1 [00:00<?, ?it/s]"
      ]
     },
     "metadata": {},
     "output_type": "display_data"
    },
    {
     "data": {
      "application/vnd.jupyter.widget-view+json": {
       "model_id": "55eebb9fb9ba47809169f8eb950beeb6",
       "version_major": 2,
       "version_minor": 0
      },
      "text/plain": [
       "Batches:   0%|          | 0/1 [00:00<?, ?it/s]"
      ]
     },
     "metadata": {},
     "output_type": "display_data"
    },
    {
     "data": {
      "application/vnd.jupyter.widget-view+json": {
       "model_id": "f61cf0f142a04c0ebd6b3f178540c52e",
       "version_major": 2,
       "version_minor": 0
      },
      "text/plain": [
       "Batches:   0%|          | 0/1 [00:00<?, ?it/s]"
      ]
     },
     "metadata": {},
     "output_type": "display_data"
    },
    {
     "data": {
      "application/vnd.jupyter.widget-view+json": {
       "model_id": "24e61846f14c4c0b86f54999f9750572",
       "version_major": 2,
       "version_minor": 0
      },
      "text/plain": [
       "Batches:   0%|          | 0/1 [00:00<?, ?it/s]"
      ]
     },
     "metadata": {},
     "output_type": "display_data"
    },
    {
     "data": {
      "application/vnd.jupyter.widget-view+json": {
       "model_id": "3e9a14f67022413881e702dc5b0c3e41",
       "version_major": 2,
       "version_minor": 0
      },
      "text/plain": [
       "Batches:   0%|          | 0/1 [00:00<?, ?it/s]"
      ]
     },
     "metadata": {},
     "output_type": "display_data"
    },
    {
     "data": {
      "application/vnd.jupyter.widget-view+json": {
       "model_id": "79b5512c800c4a368d5973de5c9b770e",
       "version_major": 2,
       "version_minor": 0
      },
      "text/plain": [
       "Batches:   0%|          | 0/1 [00:00<?, ?it/s]"
      ]
     },
     "metadata": {},
     "output_type": "display_data"
    },
    {
     "data": {
      "application/vnd.jupyter.widget-view+json": {
       "model_id": "149ddabc6fb84d58bdab5118611e5a36",
       "version_major": 2,
       "version_minor": 0
      },
      "text/plain": [
       "Batches:   0%|          | 0/1 [00:00<?, ?it/s]"
      ]
     },
     "metadata": {},
     "output_type": "display_data"
    },
    {
     "data": {
      "application/vnd.jupyter.widget-view+json": {
       "model_id": "769c8d2e994e406cbffe4ad07bc50817",
       "version_major": 2,
       "version_minor": 0
      },
      "text/plain": [
       "Batches:   0%|          | 0/1 [00:00<?, ?it/s]"
      ]
     },
     "metadata": {},
     "output_type": "display_data"
    },
    {
     "data": {
      "application/vnd.jupyter.widget-view+json": {
       "model_id": "116709d72a734dff81621be222b98d89",
       "version_major": 2,
       "version_minor": 0
      },
      "text/plain": [
       "Batches:   0%|          | 0/1 [00:00<?, ?it/s]"
      ]
     },
     "metadata": {},
     "output_type": "display_data"
    },
    {
     "data": {
      "application/vnd.jupyter.widget-view+json": {
       "model_id": "b420ede1abd24d158bd3d219725d4975",
       "version_major": 2,
       "version_minor": 0
      },
      "text/plain": [
       "Batches:   0%|          | 0/1 [00:00<?, ?it/s]"
      ]
     },
     "metadata": {},
     "output_type": "display_data"
    },
    {
     "data": {
      "application/vnd.jupyter.widget-view+json": {
       "model_id": "09a58a0e98dd4a938433199537c7e74d",
       "version_major": 2,
       "version_minor": 0
      },
      "text/plain": [
       "Batches:   0%|          | 0/1 [00:00<?, ?it/s]"
      ]
     },
     "metadata": {},
     "output_type": "display_data"
    },
    {
     "data": {
      "application/vnd.jupyter.widget-view+json": {
       "model_id": "607a61099bbb491fbfb639a9029c84f7",
       "version_major": 2,
       "version_minor": 0
      },
      "text/plain": [
       "Batches:   0%|          | 0/1 [00:00<?, ?it/s]"
      ]
     },
     "metadata": {},
     "output_type": "display_data"
    },
    {
     "data": {
      "application/vnd.jupyter.widget-view+json": {
       "model_id": "3a87414f52134a8092571737f943367d",
       "version_major": 2,
       "version_minor": 0
      },
      "text/plain": [
       "Batches:   0%|          | 0/1 [00:00<?, ?it/s]"
      ]
     },
     "metadata": {},
     "output_type": "display_data"
    },
    {
     "data": {
      "application/vnd.jupyter.widget-view+json": {
       "model_id": "905186c960eb4b8885d27a8e0784c9d8",
       "version_major": 2,
       "version_minor": 0
      },
      "text/plain": [
       "Batches:   0%|          | 0/1 [00:00<?, ?it/s]"
      ]
     },
     "metadata": {},
     "output_type": "display_data"
    },
    {
     "data": {
      "application/vnd.jupyter.widget-view+json": {
       "model_id": "a3262e5eb4734c358fba4f6c3c6a654b",
       "version_major": 2,
       "version_minor": 0
      },
      "text/plain": [
       "Batches:   0%|          | 0/1 [00:00<?, ?it/s]"
      ]
     },
     "metadata": {},
     "output_type": "display_data"
    },
    {
     "data": {
      "application/vnd.jupyter.widget-view+json": {
       "model_id": "c03d3e2e873642749b6f9ebcb1a1e7b7",
       "version_major": 2,
       "version_minor": 0
      },
      "text/plain": [
       "Batches:   0%|          | 0/1 [00:00<?, ?it/s]"
      ]
     },
     "metadata": {},
     "output_type": "display_data"
    },
    {
     "data": {
      "application/vnd.jupyter.widget-view+json": {
       "model_id": "7f3177158a7140fe9bf171ee656818a9",
       "version_major": 2,
       "version_minor": 0
      },
      "text/plain": [
       "Batches:   0%|          | 0/1 [00:00<?, ?it/s]"
      ]
     },
     "metadata": {},
     "output_type": "display_data"
    },
    {
     "data": {
      "application/vnd.jupyter.widget-view+json": {
       "model_id": "d00e5b6d342743cfab7a089398853a43",
       "version_major": 2,
       "version_minor": 0
      },
      "text/plain": [
       "Batches:   0%|          | 0/1 [00:00<?, ?it/s]"
      ]
     },
     "metadata": {},
     "output_type": "display_data"
    },
    {
     "data": {
      "application/vnd.jupyter.widget-view+json": {
       "model_id": "f5b7e3f2bbed41e6b3edff7a0168368d",
       "version_major": 2,
       "version_minor": 0
      },
      "text/plain": [
       "Batches:   0%|          | 0/1 [00:00<?, ?it/s]"
      ]
     },
     "metadata": {},
     "output_type": "display_data"
    },
    {
     "data": {
      "application/vnd.jupyter.widget-view+json": {
       "model_id": "5c33456fa1f8438cb9723820420f1b36",
       "version_major": 2,
       "version_minor": 0
      },
      "text/plain": [
       "Batches:   0%|          | 0/1 [00:00<?, ?it/s]"
      ]
     },
     "metadata": {},
     "output_type": "display_data"
    },
    {
     "data": {
      "application/vnd.jupyter.widget-view+json": {
       "model_id": "4a512af68b624a89a89614d60a68e3ee",
       "version_major": 2,
       "version_minor": 0
      },
      "text/plain": [
       "Batches:   0%|          | 0/1 [00:00<?, ?it/s]"
      ]
     },
     "metadata": {},
     "output_type": "display_data"
    },
    {
     "data": {
      "application/vnd.jupyter.widget-view+json": {
       "model_id": "e234a92d8415434bad42e92931e54a78",
       "version_major": 2,
       "version_minor": 0
      },
      "text/plain": [
       "Batches:   0%|          | 0/1 [00:00<?, ?it/s]"
      ]
     },
     "metadata": {},
     "output_type": "display_data"
    },
    {
     "data": {
      "application/vnd.jupyter.widget-view+json": {
       "model_id": "c54688bae9f5467d974edeabd0d8fb06",
       "version_major": 2,
       "version_minor": 0
      },
      "text/plain": [
       "Batches:   0%|          | 0/1 [00:00<?, ?it/s]"
      ]
     },
     "metadata": {},
     "output_type": "display_data"
    },
    {
     "data": {
      "application/vnd.jupyter.widget-view+json": {
       "model_id": "871ebef8fba24947b45b71502fd7656c",
       "version_major": 2,
       "version_minor": 0
      },
      "text/plain": [
       "Batches:   0%|          | 0/1 [00:00<?, ?it/s]"
      ]
     },
     "metadata": {},
     "output_type": "display_data"
    },
    {
     "data": {
      "application/vnd.jupyter.widget-view+json": {
       "model_id": "a4285dadfac040e58d394906c73107a3",
       "version_major": 2,
       "version_minor": 0
      },
      "text/plain": [
       "Batches:   0%|          | 0/1 [00:00<?, ?it/s]"
      ]
     },
     "metadata": {},
     "output_type": "display_data"
    },
    {
     "data": {
      "application/vnd.jupyter.widget-view+json": {
       "model_id": "4f78d62b5863482aafcdf25d1337e04c",
       "version_major": 2,
       "version_minor": 0
      },
      "text/plain": [
       "Batches:   0%|          | 0/1 [00:00<?, ?it/s]"
      ]
     },
     "metadata": {},
     "output_type": "display_data"
    },
    {
     "data": {
      "application/vnd.jupyter.widget-view+json": {
       "model_id": "bd5a4a5bdcf84b48a647d0e7e4d415cc",
       "version_major": 2,
       "version_minor": 0
      },
      "text/plain": [
       "Batches:   0%|          | 0/1 [00:00<?, ?it/s]"
      ]
     },
     "metadata": {},
     "output_type": "display_data"
    },
    {
     "data": {
      "application/vnd.jupyter.widget-view+json": {
       "model_id": "25adb883fcea45c6a5246d6bb39fae07",
       "version_major": 2,
       "version_minor": 0
      },
      "text/plain": [
       "Batches:   0%|          | 0/1 [00:00<?, ?it/s]"
      ]
     },
     "metadata": {},
     "output_type": "display_data"
    },
    {
     "data": {
      "application/vnd.jupyter.widget-view+json": {
       "model_id": "dfd373612855488d89a59e573724a172",
       "version_major": 2,
       "version_minor": 0
      },
      "text/plain": [
       "Batches:   0%|          | 0/1 [00:00<?, ?it/s]"
      ]
     },
     "metadata": {},
     "output_type": "display_data"
    },
    {
     "data": {
      "application/vnd.jupyter.widget-view+json": {
       "model_id": "ee46ebe7ca5940cea1c51c88b5968f95",
       "version_major": 2,
       "version_minor": 0
      },
      "text/plain": [
       "Batches:   0%|          | 0/1 [00:00<?, ?it/s]"
      ]
     },
     "metadata": {},
     "output_type": "display_data"
    },
    {
     "data": {
      "application/vnd.jupyter.widget-view+json": {
       "model_id": "8a20c925d5f34fedb9c9eea0415b2a97",
       "version_major": 2,
       "version_minor": 0
      },
      "text/plain": [
       "Batches:   0%|          | 0/1 [00:00<?, ?it/s]"
      ]
     },
     "metadata": {},
     "output_type": "display_data"
    },
    {
     "data": {
      "application/vnd.jupyter.widget-view+json": {
       "model_id": "710ea0e33c5e4322bc0887ecf2555b97",
       "version_major": 2,
       "version_minor": 0
      },
      "text/plain": [
       "Batches:   0%|          | 0/1 [00:00<?, ?it/s]"
      ]
     },
     "metadata": {},
     "output_type": "display_data"
    },
    {
     "data": {
      "application/vnd.jupyter.widget-view+json": {
       "model_id": "56381d7a19684109afdf047da2a7f580",
       "version_major": 2,
       "version_minor": 0
      },
      "text/plain": [
       "Batches:   0%|          | 0/1 [00:00<?, ?it/s]"
      ]
     },
     "metadata": {},
     "output_type": "display_data"
    },
    {
     "data": {
      "application/vnd.jupyter.widget-view+json": {
       "model_id": "acd1118ac65045488f4127f0c192548c",
       "version_major": 2,
       "version_minor": 0
      },
      "text/plain": [
       "Batches:   0%|          | 0/1 [00:00<?, ?it/s]"
      ]
     },
     "metadata": {},
     "output_type": "display_data"
    },
    {
     "data": {
      "application/vnd.jupyter.widget-view+json": {
       "model_id": "47d3bdddd9a447e881c41f46655a66f9",
       "version_major": 2,
       "version_minor": 0
      },
      "text/plain": [
       "Batches:   0%|          | 0/1 [00:00<?, ?it/s]"
      ]
     },
     "metadata": {},
     "output_type": "display_data"
    },
    {
     "data": {
      "text/html": [
       "<div>\n",
       "<style scoped>\n",
       "    .dataframe tbody tr th:only-of-type {\n",
       "        vertical-align: middle;\n",
       "    }\n",
       "\n",
       "    .dataframe tbody tr th {\n",
       "        vertical-align: top;\n",
       "    }\n",
       "\n",
       "    .dataframe thead th {\n",
       "        text-align: right;\n",
       "    }\n",
       "</style>\n",
       "<table border=\"1\" class=\"dataframe\">\n",
       "  <thead>\n",
       "    <tr style=\"text-align: right;\">\n",
       "      <th></th>\n",
       "      <th>endpoint_name</th>\n",
       "      <th>prompt</th>\n",
       "      <th>ground_truth</th>\n",
       "      <th>temperature</th>\n",
       "      <th>max_tokens</th>\n",
       "      <th>top_p</th>\n",
       "      <th>completion</th>\n",
       "      <th>prompt_tokens</th>\n",
       "      <th>completion_tokens</th>\n",
       "      <th>latency</th>\n",
       "      <th>time_to_first_token</th>\n",
       "      <th>time_per_output_token</th>\n",
       "      <th>time_to_last_token</th>\n",
       "      <th>uuid</th>\n",
       "      <th>experiment_name</th>\n",
       "      <th>concurrency</th>\n",
       "      <th>instance_type</th>\n",
       "      <th>instance_count</th>\n",
       "      <th>EndpointName</th>\n",
       "      <th>cosine_similarity_score</th>\n",
       "    </tr>\n",
       "  </thead>\n",
       "  <tbody>\n",
       "    <tr>\n",
       "      <th>0</th>\n",
       "      <td>meta.llama3-70b-instruct-v1:0</td>\n",
       "      <td>&lt;|begin_of_text|&gt;&lt;|start_header_id|&gt;user&lt;|end_...</td>\n",
       "      <td>a genus of flowering plant in the Lardizabalac...</td>\n",
       "      <td>0.1</td>\n",
       "      <td>100</td>\n",
       "      <td>0.92</td>\n",
       "      <td>Both Sinofranchetia and Stauntonia are from th...</td>\n",
       "      <td>323</td>\n",
       "      <td>37</td>\n",
       "      <td>1.151869</td>\n",
       "      <td>0.474724</td>\n",
       "      <td>0.019111</td>\n",
       "      <td>1.149713</td>\n",
       "      <td>7b1cad38ac8b482bb845e4d85f08baa2</td>\n",
       "      <td>meta.llama3-70b-instruct-v1:0</td>\n",
       "      <td>1</td>\n",
       "      <td>meta.llama3-70b-instruct-v1:0</td>\n",
       "      <td>NaN</td>\n",
       "      <td>meta.llama3-70b-instruct-v1:0</td>\n",
       "      <td>0.565837</td>\n",
       "    </tr>\n",
       "    <tr>\n",
       "      <th>1</th>\n",
       "      <td>meta.llama3-70b-instruct-v1:0</td>\n",
       "      <td>&lt;|begin_of_text|&gt;&lt;|start_header_id|&gt;user&lt;|end_...</td>\n",
       "      <td>a genus of flowering plant in the Lardizabalac...</td>\n",
       "      <td>0.1</td>\n",
       "      <td>100</td>\n",
       "      <td>0.92</td>\n",
       "      <td>Both Sinofranchetia and Stauntonia are from th...</td>\n",
       "      <td>323</td>\n",
       "      <td>37</td>\n",
       "      <td>1.151869</td>\n",
       "      <td>0.474724</td>\n",
       "      <td>0.019111</td>\n",
       "      <td>1.149713</td>\n",
       "      <td>7b1cad38ac8b482bb845e4d85f08baa2</td>\n",
       "      <td>meta.llama3-70b-instruct-v1:0</td>\n",
       "      <td>1</td>\n",
       "      <td>meta.llama3-70b-instruct-v1:0</td>\n",
       "      <td>NaN</td>\n",
       "      <td>NaN</td>\n",
       "      <td>0.565837</td>\n",
       "    </tr>\n",
       "    <tr>\n",
       "      <th>2</th>\n",
       "      <td>meta.llama3-70b-instruct-v1:0</td>\n",
       "      <td>&lt;|begin_of_text|&gt;&lt;|start_header_id|&gt;user&lt;|end_...</td>\n",
       "      <td>a genus of flowering plant in the Lardizabalac...</td>\n",
       "      <td>0.1</td>\n",
       "      <td>100</td>\n",
       "      <td>0.92</td>\n",
       "      <td>The genus' Sinofranchetia and Stauntonia are f...</td>\n",
       "      <td>323</td>\n",
       "      <td>25</td>\n",
       "      <td>0.864521</td>\n",
       "      <td>0.441994</td>\n",
       "      <td>0.017998</td>\n",
       "      <td>0.861818</td>\n",
       "      <td>00ad69bc527c4f50a56edb6b16bda101</td>\n",
       "      <td>meta.llama3-70b-instruct-v1:0</td>\n",
       "      <td>1</td>\n",
       "      <td>meta.llama3-70b-instruct-v1:0</td>\n",
       "      <td>NaN</td>\n",
       "      <td>meta.llama3-70b-instruct-v1:0</td>\n",
       "      <td>0.695455</td>\n",
       "    </tr>\n",
       "    <tr>\n",
       "      <th>3</th>\n",
       "      <td>meta.llama3-70b-instruct-v1:0</td>\n",
       "      <td>&lt;|begin_of_text|&gt;&lt;|start_header_id|&gt;user&lt;|end_...</td>\n",
       "      <td>a genus of flowering plant in the Lardizabalac...</td>\n",
       "      <td>0.1</td>\n",
       "      <td>100</td>\n",
       "      <td>0.92</td>\n",
       "      <td>The genus' Sinofranchetia and Stauntonia are f...</td>\n",
       "      <td>323</td>\n",
       "      <td>25</td>\n",
       "      <td>0.864521</td>\n",
       "      <td>0.441994</td>\n",
       "      <td>0.017998</td>\n",
       "      <td>0.861818</td>\n",
       "      <td>00ad69bc527c4f50a56edb6b16bda101</td>\n",
       "      <td>meta.llama3-70b-instruct-v1:0</td>\n",
       "      <td>1</td>\n",
       "      <td>meta.llama3-70b-instruct-v1:0</td>\n",
       "      <td>NaN</td>\n",
       "      <td>NaN</td>\n",
       "      <td>0.695455</td>\n",
       "    </tr>\n",
       "    <tr>\n",
       "      <th>4</th>\n",
       "      <td>meta.llama3-70b-instruct-v1:0</td>\n",
       "      <td>&lt;|begin_of_text|&gt;&lt;|start_header_id|&gt;user&lt;|end_...</td>\n",
       "      <td>a genus of flowering plant in the Lardizabalac...</td>\n",
       "      <td>0.1</td>\n",
       "      <td>100</td>\n",
       "      <td>0.92</td>\n",
       "      <td>The genus' Sinofranchetia and Stauntonia are f...</td>\n",
       "      <td>323</td>\n",
       "      <td>25</td>\n",
       "      <td>0.883385</td>\n",
       "      <td>0.402027</td>\n",
       "      <td>0.020564</td>\n",
       "      <td>0.880519</td>\n",
       "      <td>53ce7682c18946dcb1fc41b099598a59</td>\n",
       "      <td>meta.llama3-70b-instruct-v1:0</td>\n",
       "      <td>1</td>\n",
       "      <td>meta.llama3-70b-instruct-v1:0</td>\n",
       "      <td>NaN</td>\n",
       "      <td>meta.llama3-70b-instruct-v1:0</td>\n",
       "      <td>0.695455</td>\n",
       "    </tr>\n",
       "  </tbody>\n",
       "</table>\n",
       "</div>"
      ],
      "text/plain": [
       "                   endpoint_name  \\\n",
       "0  meta.llama3-70b-instruct-v1:0   \n",
       "1  meta.llama3-70b-instruct-v1:0   \n",
       "2  meta.llama3-70b-instruct-v1:0   \n",
       "3  meta.llama3-70b-instruct-v1:0   \n",
       "4  meta.llama3-70b-instruct-v1:0   \n",
       "\n",
       "                                              prompt  \\\n",
       "0  <|begin_of_text|><|start_header_id|>user<|end_...   \n",
       "1  <|begin_of_text|><|start_header_id|>user<|end_...   \n",
       "2  <|begin_of_text|><|start_header_id|>user<|end_...   \n",
       "3  <|begin_of_text|><|start_header_id|>user<|end_...   \n",
       "4  <|begin_of_text|><|start_header_id|>user<|end_...   \n",
       "\n",
       "                                        ground_truth  temperature  max_tokens  \\\n",
       "0  a genus of flowering plant in the Lardizabalac...          0.1         100   \n",
       "1  a genus of flowering plant in the Lardizabalac...          0.1         100   \n",
       "2  a genus of flowering plant in the Lardizabalac...          0.1         100   \n",
       "3  a genus of flowering plant in the Lardizabalac...          0.1         100   \n",
       "4  a genus of flowering plant in the Lardizabalac...          0.1         100   \n",
       "\n",
       "   top_p                                         completion  prompt_tokens  \\\n",
       "0   0.92  Both Sinofranchetia and Stauntonia are from th...            323   \n",
       "1   0.92  Both Sinofranchetia and Stauntonia are from th...            323   \n",
       "2   0.92  The genus' Sinofranchetia and Stauntonia are f...            323   \n",
       "3   0.92  The genus' Sinofranchetia and Stauntonia are f...            323   \n",
       "4   0.92  The genus' Sinofranchetia and Stauntonia are f...            323   \n",
       "\n",
       "   completion_tokens   latency  time_to_first_token  time_per_output_token  \\\n",
       "0                 37  1.151869             0.474724               0.019111   \n",
       "1                 37  1.151869             0.474724               0.019111   \n",
       "2                 25  0.864521             0.441994               0.017998   \n",
       "3                 25  0.864521             0.441994               0.017998   \n",
       "4                 25  0.883385             0.402027               0.020564   \n",
       "\n",
       "   time_to_last_token                              uuid  \\\n",
       "0            1.149713  7b1cad38ac8b482bb845e4d85f08baa2   \n",
       "1            1.149713  7b1cad38ac8b482bb845e4d85f08baa2   \n",
       "2            0.861818  00ad69bc527c4f50a56edb6b16bda101   \n",
       "3            0.861818  00ad69bc527c4f50a56edb6b16bda101   \n",
       "4            0.880519  53ce7682c18946dcb1fc41b099598a59   \n",
       "\n",
       "                 experiment_name  concurrency                  instance_type  \\\n",
       "0  meta.llama3-70b-instruct-v1:0            1  meta.llama3-70b-instruct-v1:0   \n",
       "1  meta.llama3-70b-instruct-v1:0            1  meta.llama3-70b-instruct-v1:0   \n",
       "2  meta.llama3-70b-instruct-v1:0            1  meta.llama3-70b-instruct-v1:0   \n",
       "3  meta.llama3-70b-instruct-v1:0            1  meta.llama3-70b-instruct-v1:0   \n",
       "4  meta.llama3-70b-instruct-v1:0            1  meta.llama3-70b-instruct-v1:0   \n",
       "\n",
       "   instance_count                   EndpointName  cosine_similarity_score  \n",
       "0             NaN  meta.llama3-70b-instruct-v1:0                 0.565837  \n",
       "1             NaN                            NaN                 0.565837  \n",
       "2             NaN  meta.llama3-70b-instruct-v1:0                 0.695455  \n",
       "3             NaN                            NaN                 0.695455  \n",
       "4             NaN  meta.llama3-70b-instruct-v1:0                 0.695455  "
      ]
     },
     "execution_count": 13,
     "metadata": {},
     "output_type": "execute_result"
    }
   ],
   "source": [
    "logger.info(f\"Creating embeddings of all candidate model responses now. This might take a couple minutes.\")\n",
    "\n",
    "# Assuming df_per_inference is your DataFrame\n",
    "df_per_inference['cosine_similarity_score'] = df_per_inference.apply(\n",
    "    lambda row: get_cosine_similarity(row['completion'], row['ground_truth']), axis=1\n",
    ")\n",
    "df_per_inference.head()"
   ]
  },
  {
   "cell_type": "code",
   "execution_count": 14,
   "metadata": {
    "tags": []
   },
   "outputs": [
    {
     "name": "stderr",
     "output_type": "stream",
     "text": [
      "[2024-07-12 22:52:07,958] p15113 {2781260015.py:14} INFO - Per inference cosine similarity scores saved to s3://sagemaker-fmbench-write-us-west-2-387192758086/fmbench-bedrock-fmbench-stack-us-west-2-role/data/metrics/yyyy=2024/mm=07/dd=12/hh=22/mm=51/per_inference_cosine_similarity.csv\n"
     ]
    },
    {
     "data": {
      "text/html": [
       "<div>\n",
       "<style scoped>\n",
       "    .dataframe tbody tr th:only-of-type {\n",
       "        vertical-align: middle;\n",
       "    }\n",
       "\n",
       "    .dataframe tbody tr th {\n",
       "        vertical-align: top;\n",
       "    }\n",
       "\n",
       "    .dataframe thead th {\n",
       "        text-align: right;\n",
       "    }\n",
       "</style>\n",
       "<table border=\"1\" class=\"dataframe\">\n",
       "  <thead>\n",
       "    <tr style=\"text-align: right;\">\n",
       "      <th></th>\n",
       "      <th>endpoint_name</th>\n",
       "      <th>prompt</th>\n",
       "      <th>ground_truth</th>\n",
       "      <th>temperature</th>\n",
       "      <th>max_tokens</th>\n",
       "      <th>top_p</th>\n",
       "      <th>completion</th>\n",
       "      <th>prompt_tokens</th>\n",
       "      <th>completion_tokens</th>\n",
       "      <th>latency</th>\n",
       "      <th>time_to_first_token</th>\n",
       "      <th>time_per_output_token</th>\n",
       "      <th>time_to_last_token</th>\n",
       "      <th>uuid</th>\n",
       "      <th>experiment_name</th>\n",
       "      <th>concurrency</th>\n",
       "      <th>instance_type</th>\n",
       "      <th>instance_count</th>\n",
       "      <th>EndpointName</th>\n",
       "      <th>cosine_similarity_score</th>\n",
       "    </tr>\n",
       "  </thead>\n",
       "  <tbody>\n",
       "    <tr>\n",
       "      <th>0</th>\n",
       "      <td>meta.llama3-70b-instruct-v1:0</td>\n",
       "      <td>&lt;|begin_of_text|&gt;&lt;|start_header_id|&gt;user&lt;|end_...</td>\n",
       "      <td>a genus of flowering plant in the Lardizabalac...</td>\n",
       "      <td>0.1</td>\n",
       "      <td>100</td>\n",
       "      <td>0.92</td>\n",
       "      <td>Both Sinofranchetia and Stauntonia are from th...</td>\n",
       "      <td>323</td>\n",
       "      <td>37</td>\n",
       "      <td>1.151869</td>\n",
       "      <td>0.474724</td>\n",
       "      <td>0.019111</td>\n",
       "      <td>1.149713</td>\n",
       "      <td>7b1cad38ac8b482bb845e4d85f08baa2</td>\n",
       "      <td>meta.llama3-70b-instruct-v1:0</td>\n",
       "      <td>1</td>\n",
       "      <td>meta.llama3-70b-instruct-v1:0</td>\n",
       "      <td>NaN</td>\n",
       "      <td>meta.llama3-70b-instruct-v1:0</td>\n",
       "      <td>0.565837</td>\n",
       "    </tr>\n",
       "    <tr>\n",
       "      <th>1</th>\n",
       "      <td>meta.llama3-70b-instruct-v1:0</td>\n",
       "      <td>&lt;|begin_of_text|&gt;&lt;|start_header_id|&gt;user&lt;|end_...</td>\n",
       "      <td>a genus of flowering plant in the Lardizabalac...</td>\n",
       "      <td>0.1</td>\n",
       "      <td>100</td>\n",
       "      <td>0.92</td>\n",
       "      <td>Both Sinofranchetia and Stauntonia are from th...</td>\n",
       "      <td>323</td>\n",
       "      <td>37</td>\n",
       "      <td>1.151869</td>\n",
       "      <td>0.474724</td>\n",
       "      <td>0.019111</td>\n",
       "      <td>1.149713</td>\n",
       "      <td>7b1cad38ac8b482bb845e4d85f08baa2</td>\n",
       "      <td>meta.llama3-70b-instruct-v1:0</td>\n",
       "      <td>1</td>\n",
       "      <td>meta.llama3-70b-instruct-v1:0</td>\n",
       "      <td>NaN</td>\n",
       "      <td>NaN</td>\n",
       "      <td>0.565837</td>\n",
       "    </tr>\n",
       "    <tr>\n",
       "      <th>2</th>\n",
       "      <td>meta.llama3-70b-instruct-v1:0</td>\n",
       "      <td>&lt;|begin_of_text|&gt;&lt;|start_header_id|&gt;user&lt;|end_...</td>\n",
       "      <td>a genus of flowering plant in the Lardizabalac...</td>\n",
       "      <td>0.1</td>\n",
       "      <td>100</td>\n",
       "      <td>0.92</td>\n",
       "      <td>The genus' Sinofranchetia and Stauntonia are f...</td>\n",
       "      <td>323</td>\n",
       "      <td>25</td>\n",
       "      <td>0.864521</td>\n",
       "      <td>0.441994</td>\n",
       "      <td>0.017998</td>\n",
       "      <td>0.861818</td>\n",
       "      <td>00ad69bc527c4f50a56edb6b16bda101</td>\n",
       "      <td>meta.llama3-70b-instruct-v1:0</td>\n",
       "      <td>1</td>\n",
       "      <td>meta.llama3-70b-instruct-v1:0</td>\n",
       "      <td>NaN</td>\n",
       "      <td>meta.llama3-70b-instruct-v1:0</td>\n",
       "      <td>0.695455</td>\n",
       "    </tr>\n",
       "    <tr>\n",
       "      <th>3</th>\n",
       "      <td>meta.llama3-70b-instruct-v1:0</td>\n",
       "      <td>&lt;|begin_of_text|&gt;&lt;|start_header_id|&gt;user&lt;|end_...</td>\n",
       "      <td>a genus of flowering plant in the Lardizabalac...</td>\n",
       "      <td>0.1</td>\n",
       "      <td>100</td>\n",
       "      <td>0.92</td>\n",
       "      <td>The genus' Sinofranchetia and Stauntonia are f...</td>\n",
       "      <td>323</td>\n",
       "      <td>25</td>\n",
       "      <td>0.864521</td>\n",
       "      <td>0.441994</td>\n",
       "      <td>0.017998</td>\n",
       "      <td>0.861818</td>\n",
       "      <td>00ad69bc527c4f50a56edb6b16bda101</td>\n",
       "      <td>meta.llama3-70b-instruct-v1:0</td>\n",
       "      <td>1</td>\n",
       "      <td>meta.llama3-70b-instruct-v1:0</td>\n",
       "      <td>NaN</td>\n",
       "      <td>NaN</td>\n",
       "      <td>0.695455</td>\n",
       "    </tr>\n",
       "    <tr>\n",
       "      <th>4</th>\n",
       "      <td>meta.llama3-70b-instruct-v1:0</td>\n",
       "      <td>&lt;|begin_of_text|&gt;&lt;|start_header_id|&gt;user&lt;|end_...</td>\n",
       "      <td>a genus of flowering plant in the Lardizabalac...</td>\n",
       "      <td>0.1</td>\n",
       "      <td>100</td>\n",
       "      <td>0.92</td>\n",
       "      <td>The genus' Sinofranchetia and Stauntonia are f...</td>\n",
       "      <td>323</td>\n",
       "      <td>25</td>\n",
       "      <td>0.883385</td>\n",
       "      <td>0.402027</td>\n",
       "      <td>0.020564</td>\n",
       "      <td>0.880519</td>\n",
       "      <td>53ce7682c18946dcb1fc41b099598a59</td>\n",
       "      <td>meta.llama3-70b-instruct-v1:0</td>\n",
       "      <td>1</td>\n",
       "      <td>meta.llama3-70b-instruct-v1:0</td>\n",
       "      <td>NaN</td>\n",
       "      <td>meta.llama3-70b-instruct-v1:0</td>\n",
       "      <td>0.695455</td>\n",
       "    </tr>\n",
       "  </tbody>\n",
       "</table>\n",
       "</div>"
      ],
      "text/plain": [
       "                   endpoint_name  \\\n",
       "0  meta.llama3-70b-instruct-v1:0   \n",
       "1  meta.llama3-70b-instruct-v1:0   \n",
       "2  meta.llama3-70b-instruct-v1:0   \n",
       "3  meta.llama3-70b-instruct-v1:0   \n",
       "4  meta.llama3-70b-instruct-v1:0   \n",
       "\n",
       "                                              prompt  \\\n",
       "0  <|begin_of_text|><|start_header_id|>user<|end_...   \n",
       "1  <|begin_of_text|><|start_header_id|>user<|end_...   \n",
       "2  <|begin_of_text|><|start_header_id|>user<|end_...   \n",
       "3  <|begin_of_text|><|start_header_id|>user<|end_...   \n",
       "4  <|begin_of_text|><|start_header_id|>user<|end_...   \n",
       "\n",
       "                                        ground_truth  temperature  max_tokens  \\\n",
       "0  a genus of flowering plant in the Lardizabalac...          0.1         100   \n",
       "1  a genus of flowering plant in the Lardizabalac...          0.1         100   \n",
       "2  a genus of flowering plant in the Lardizabalac...          0.1         100   \n",
       "3  a genus of flowering plant in the Lardizabalac...          0.1         100   \n",
       "4  a genus of flowering plant in the Lardizabalac...          0.1         100   \n",
       "\n",
       "   top_p                                         completion  prompt_tokens  \\\n",
       "0   0.92  Both Sinofranchetia and Stauntonia are from th...            323   \n",
       "1   0.92  Both Sinofranchetia and Stauntonia are from th...            323   \n",
       "2   0.92  The genus' Sinofranchetia and Stauntonia are f...            323   \n",
       "3   0.92  The genus' Sinofranchetia and Stauntonia are f...            323   \n",
       "4   0.92  The genus' Sinofranchetia and Stauntonia are f...            323   \n",
       "\n",
       "   completion_tokens   latency  time_to_first_token  time_per_output_token  \\\n",
       "0                 37  1.151869             0.474724               0.019111   \n",
       "1                 37  1.151869             0.474724               0.019111   \n",
       "2                 25  0.864521             0.441994               0.017998   \n",
       "3                 25  0.864521             0.441994               0.017998   \n",
       "4                 25  0.883385             0.402027               0.020564   \n",
       "\n",
       "   time_to_last_token                              uuid  \\\n",
       "0            1.149713  7b1cad38ac8b482bb845e4d85f08baa2   \n",
       "1            1.149713  7b1cad38ac8b482bb845e4d85f08baa2   \n",
       "2            0.861818  00ad69bc527c4f50a56edb6b16bda101   \n",
       "3            0.861818  00ad69bc527c4f50a56edb6b16bda101   \n",
       "4            0.880519  53ce7682c18946dcb1fc41b099598a59   \n",
       "\n",
       "                 experiment_name  concurrency                  instance_type  \\\n",
       "0  meta.llama3-70b-instruct-v1:0            1  meta.llama3-70b-instruct-v1:0   \n",
       "1  meta.llama3-70b-instruct-v1:0            1  meta.llama3-70b-instruct-v1:0   \n",
       "2  meta.llama3-70b-instruct-v1:0            1  meta.llama3-70b-instruct-v1:0   \n",
       "3  meta.llama3-70b-instruct-v1:0            1  meta.llama3-70b-instruct-v1:0   \n",
       "4  meta.llama3-70b-instruct-v1:0            1  meta.llama3-70b-instruct-v1:0   \n",
       "\n",
       "   instance_count                   EndpointName  cosine_similarity_score  \n",
       "0             NaN  meta.llama3-70b-instruct-v1:0                 0.565837  \n",
       "1             NaN                            NaN                 0.565837  \n",
       "2             NaN  meta.llama3-70b-instruct-v1:0                 0.695455  \n",
       "3             NaN                            NaN                 0.695455  \n",
       "4             NaN  meta.llama3-70b-instruct-v1:0                 0.695455  "
      ]
     },
     "execution_count": 14,
     "metadata": {},
     "output_type": "execute_result"
    }
   ],
   "source": [
    "# define the all_metrics path to send the evaluation metrics to\n",
    "all_metrics_fpath = os.path.join(METRICS_DIR, config[\"report\"][\"all_metrics_file\"])\n",
    "csv_buffer = io.StringIO()\n",
    "df_per_inference.to_csv(csv_buffer, index=False)\n",
    "df_per_inference_with_cosine_similarity_scores_csv = csv_buffer.getvalue()\n",
    "\n",
    "# Define the file name for S3 based on the original file path\n",
    "df_per_inference_with_cosine_similarity_scores_csv = all_metrics_fpath.replace(\"all_metrics\", \"all_metrics_summary\").split('/')[-1] \n",
    "inference_cosine_similarity_scores_s3_path = os.path.join(METRICS_DIR, PER_INFERENCE_FILE_WITH_COSINE_SIMILARITY_SCORES)  # Define full S3 path\n",
    "\n",
    "# Write the CSV data to S3\n",
    "write_to_s3(df_per_inference_with_cosine_similarity_scores_csv, BUCKET_NAME, \"\", \n",
    "            METRICS_DIR, PER_INFERENCE_FILE_WITH_COSINE_SIMILARITY_SCORES)\n",
    "logger.info(f\"Per inference cosine similarity scores saved to s3://{BUCKET_NAME}/{inference_cosine_similarity_scores_s3_path}\")\n",
    "\n",
    "df_per_inference.head()"
   ]
  },
  {
   "cell_type": "markdown",
   "metadata": {},
   "source": [
    "### Use _Panel of LLM Evaluators_ to get Subjective Evaluations on various evaluation criteria\n",
    "---\n",
    "\n",
    "In this portion of the notebook, we run evaluations on the content generated by different candidate models. We use two main evaluation methods: `Max Voting` and `Average Pooling`. To eliminate intra-model bias, we address this by scoring answer correctness based not on a single judge, but instead on a panel composed of multiple evaluator models. Similar pooling techniques are used to reduce variance in human annotations by normalizing out both natural variation in human judgements caused by their own subjective biases as well as human error. We use the following two techniques:\n",
    "\n",
    "1. **Max Voting**: We use the PoLL to evaluate candidate model responses by checking its correctness compared to a provided ground truth answer in the dataset. We prompt each PoLL to evaluate and give the response in a JSON structure, giving a verdict on whether the response is correct or incorrect, and an explanation as to why that is. Using this, we can perform downstream analytics such as: \n",
    "\n",
    "    1. Calculate the overall accuracy of each model using the correct versus the (correct + incorrect) responses\n",
    "    \n",
    "    1. Calculate the `error rate` or frequency or incorrect responses\n",
    "    \n",
    "    1. Categorize the errors based on the explanations provided by the evaluators. Common categories might include misunderstanding the question, incomplete answers, factual inaccuracies\n",
    "    \n",
    "    1. Summary of overall correct/incorrect, and the best model based on the PoLL. Rank the models on Correctness versus Incorrectness.\n",
    "\n",
    "1. **Average Pooling**: We use the PoLL to rate the response of each candidate model on a more subjective criteria. Here, we have the candidate model responses rated on a scale of 1-5 based on the subjective criteria and then get an explanation to that. Using this we can do as follows:\n",
    "\n",
    "    1. Calculate the average score for each model across all questions to get an overall performance measure.\n",
    "    \n",
    "    1. Compute the standard deviation of the scores to understand the consistency of the model's performance.\n",
    "\n",
    "1. Towards the end of all evaluations, a final layer of evaluation is added at the end. This layer utilizes another LLM that acts as a final summarizer. It takes in the ratings, answers generated from each unique model that was used in inference, to give a list of trends, overall patterns and observations as to which model is suited for a given task for a given dataset."
   ]
  },
  {
   "cell_type": "code",
   "execution_count": 15,
   "metadata": {
    "tags": []
   },
   "outputs": [
    {
     "name": "stderr",
     "output_type": "stream",
     "text": [
      "[2024-07-12 22:52:11,475] p15113 {474703826.py:5} INFO - available llm as a judge evaluation information to use: {\n",
      "  \"judge_panel_list\": [\n",
      "    {\n",
      "      \"model_id\": \"anthropic.claude-3-haiku-20240307-v1:0\",\n",
      "      \"eval_prompt_template_dir\": \"claude_eval_prompt_templates\",\n",
      "      \"eval_prompt_template_name_max_voting\": \"claude_eval_max_voting\"\n",
      "    },\n",
      "    {\n",
      "      \"model_id\": \"meta.llama3-70b-instruct-v1:0\",\n",
      "      \"eval_prompt_template_dir\": \"llama3_eval_prompt_templates\",\n",
      "      \"eval_prompt_template_name_prefix\": \"llama3_eval_max_voting\"\n",
      "    },\n",
      "    {\n",
      "      \"model_id\": \"cohere.command-r-v1:0\",\n",
      "      \"eval_prompt_template_dir\": \"cohere_eval_prompt_templates\",\n",
      "      \"eval_prompt_template_name_max_voting\": \"cohere_eval_max_voting\"\n",
      "    }\n",
      "  ],\n",
      "  \"inference_parameters\": {\n",
      "    \"temperature\": 0.1,\n",
      "    \"max_tokens\": 300,\n",
      "    \"top_p\": 0.92,\n",
      "    \"caching\": false\n",
      "  },\n",
      "  \"run_parallel_inference_count\": 10\n",
      "}\n"
     ]
    }
   ],
   "source": [
    "# get the qualitative/subjective evaluation information from the config file to evaluate answers from different\n",
    "# endpoints on various criteria\n",
    "model_eval_subjective_info: Dict = config['model_evaluations']['subjective_eval_info']\n",
    "eval_criteria_list = model_eval_subjective_info.get('eval_criteria', None)\n",
    "logger.info(f\"available llm as a judge evaluation information to use: {json.dumps(model_eval_subjective_info, indent=2)}\")"
   ]
  },
  {
   "cell_type": "code",
   "execution_count": 16,
   "metadata": {
    "tags": []
   },
   "outputs": [],
   "source": [
    "# get the inference parameters that the LLM judge panel will use while evaluating model candidate responses\n",
    "INFERENCE_PARAMETERS_LLM_PANEL: Dict = config['model_evaluations']['subjective_eval_info'].get('inference_parameters', None)"
   ]
  },
  {
   "cell_type": "code",
   "execution_count": 17,
   "metadata": {
    "tags": []
   },
   "outputs": [],
   "source": [
    "def get_inference(model_id: str,\n",
    "                  prompt: str):\n",
    "    \"\"\"\n",
    "    Get inference using LiteLLM. This get's inference on the answers provided and evaluates each\n",
    "    answer based on a given evaluation prompt template and the specific set of rules for each\n",
    "    evaluation criteria.\n",
    "    \"\"\"\n",
    "    # represents the service name\n",
    "    print(f\"get_inference, model_id={model_id}\")\n",
    "    service_name: str = \"bedrock\"\n",
    "    # represents creating the bedrock model to invoke the litellm api for response for titan, llama and claude\n",
    "    bedrock_model: str = f\"{service_name}/{model_id}\"\n",
    "    # represents the current aws region\n",
    "    aws_region = boto3.Session().region_name \n",
    "    # initialize the response dict\n",
    "    ret = dict(exception=None,\n",
    "               prompt=prompt,\n",
    "               completion=None,\n",
    "               completion_token_count=None,\n",
    "               prompt_token_count=None,\n",
    "               model_id=model_id)\n",
    "    body = ret['prompt']\n",
    "    os.environ[\"AWS_REGION_NAME\"] = aws_region\n",
    "    try:\n",
    "        # Represents calling the litellm completion/messaging api utilizing the completion/embeddings API\n",
    "        print(f\"Invoking {bedrock_model}......\")\n",
    "        response = completion(model=bedrock_model,\n",
    "                              messages=[{\"content\": body,\"role\": \"user\"}],\n",
    "                              temperature=INFERENCE_PARAMETERS_LLM_PANEL.get('temperature', 0.1),\n",
    "                              max_tokens=INFERENCE_PARAMETERS_LLM_PANEL.get('max_tokens', 100),\n",
    "                              caching=INFERENCE_PARAMETERS_LLM_PANEL.get('caching', False))\n",
    "        # iterate through the entire model response\n",
    "        for idx, choice in enumerate(response.choices):\n",
    "            # extract the message and the message's content from litellm\n",
    "            if choice.message and choice.message.content:\n",
    "                # extract the response from the dict\n",
    "                ret[\"completion\"] = choice.message.content.strip()\n",
    "        # Extract number of input and completion prompt tokens        \n",
    "        ret['prompt_token_count'] = response.usage.prompt_tokens\n",
    "        ret['completion_token_count'] = response.usage.completion_tokens\n",
    "    except Exception as e:\n",
    "        logger.error(f\"Exception occurred during invoking {model_id}, exception={e}\")\n",
    "        ret['exception'] = e\n",
    "    logger.info(f\"completion: {ret['completion']}\")\n",
    "    return ret"
   ]
  },
  {
   "cell_type": "code",
   "execution_count": 18,
   "metadata": {
    "tags": []
   },
   "outputs": [],
   "source": [
    "def safe_filename(s):\n",
    "    \"\"\"\n",
    "    convert a string to another string that can be used as a filename\n",
    "    i.e. remove white space and non-word chars\n",
    "    \"\"\"\n",
    "    if s is None:\n",
    "        return \"None\"\n",
    "    # Remove all non-word characters (everything except numbers and letters)\n",
    "    s = re.sub(r\"[^\\w\\s]\", '', s)\n",
    "\n",
    "    # Replace all runs of whitespace with a single dash\n",
    "    s = re.sub(r\"\\s+\", '-', s)\n",
    "\n",
    "    return s"
   ]
  },
  {
   "cell_type": "code",
   "execution_count": 19,
   "metadata": {
    "tags": []
   },
   "outputs": [],
   "source": [
    "def parse_as_json(x: str) -> Optional[Dict]:\n",
    "    \"\"\"\n",
    "    Convert a string into a dictionary. Remove any\n",
    "    stray whitespaces which could break the json parsing\n",
    "    \"\"\"\n",
    "    d: Optional[Dict] = None\n",
    "    try:\n",
    "        x = x.replace(\"\\n\", \"\").replace(\"\\t\", \"\")\n",
    "        d = json.loads(x)\n",
    "    except Exception as e:\n",
    "        print(f\"parse_as_json, error parsing string as json, string={x}\")\n",
    "    return d"
   ]
  },
  {
   "cell_type": "markdown",
   "metadata": {},
   "source": [
    "### Read the latest dataframe and run LLM as a judge evaluations on it"
   ]
  },
  {
   "cell_type": "code",
   "execution_count": 20,
   "metadata": {
    "tags": []
   },
   "outputs": [
    {
     "data": {
      "text/html": [
       "<div>\n",
       "<style scoped>\n",
       "    .dataframe tbody tr th:only-of-type {\n",
       "        vertical-align: middle;\n",
       "    }\n",
       "\n",
       "    .dataframe tbody tr th {\n",
       "        vertical-align: top;\n",
       "    }\n",
       "\n",
       "    .dataframe thead th {\n",
       "        text-align: right;\n",
       "    }\n",
       "</style>\n",
       "<table border=\"1\" class=\"dataframe\">\n",
       "  <thead>\n",
       "    <tr style=\"text-align: right;\">\n",
       "      <th></th>\n",
       "      <th>endpoint_name</th>\n",
       "      <th>prompt</th>\n",
       "      <th>ground_truth</th>\n",
       "      <th>temperature</th>\n",
       "      <th>max_tokens</th>\n",
       "      <th>top_p</th>\n",
       "      <th>completion</th>\n",
       "      <th>prompt_tokens</th>\n",
       "      <th>completion_tokens</th>\n",
       "      <th>latency</th>\n",
       "      <th>time_to_first_token</th>\n",
       "      <th>time_per_output_token</th>\n",
       "      <th>time_to_last_token</th>\n",
       "      <th>uuid</th>\n",
       "      <th>experiment_name</th>\n",
       "      <th>concurrency</th>\n",
       "      <th>instance_type</th>\n",
       "      <th>instance_count</th>\n",
       "      <th>EndpointName</th>\n",
       "      <th>cosine_similarity_score</th>\n",
       "    </tr>\n",
       "  </thead>\n",
       "  <tbody>\n",
       "    <tr>\n",
       "      <th>0</th>\n",
       "      <td>meta.llama3-70b-instruct-v1:0</td>\n",
       "      <td>&lt;|begin_of_text|&gt;&lt;|start_header_id|&gt;user&lt;|end_...</td>\n",
       "      <td>a genus of flowering plant in the Lardizabalac...</td>\n",
       "      <td>0.1</td>\n",
       "      <td>100</td>\n",
       "      <td>0.92</td>\n",
       "      <td>Both Sinofranchetia and Stauntonia are from th...</td>\n",
       "      <td>323</td>\n",
       "      <td>37</td>\n",
       "      <td>1.151869</td>\n",
       "      <td>0.474724</td>\n",
       "      <td>0.019111</td>\n",
       "      <td>1.149713</td>\n",
       "      <td>7b1cad38ac8b482bb845e4d85f08baa2</td>\n",
       "      <td>meta.llama3-70b-instruct-v1:0</td>\n",
       "      <td>1</td>\n",
       "      <td>meta.llama3-70b-instruct-v1:0</td>\n",
       "      <td>NaN</td>\n",
       "      <td>meta.llama3-70b-instruct-v1:0</td>\n",
       "      <td>0.565837</td>\n",
       "    </tr>\n",
       "    <tr>\n",
       "      <th>1</th>\n",
       "      <td>meta.llama3-70b-instruct-v1:0</td>\n",
       "      <td>&lt;|begin_of_text|&gt;&lt;|start_header_id|&gt;user&lt;|end_...</td>\n",
       "      <td>a genus of flowering plant in the Lardizabalac...</td>\n",
       "      <td>0.1</td>\n",
       "      <td>100</td>\n",
       "      <td>0.92</td>\n",
       "      <td>Both Sinofranchetia and Stauntonia are from th...</td>\n",
       "      <td>323</td>\n",
       "      <td>37</td>\n",
       "      <td>1.151869</td>\n",
       "      <td>0.474724</td>\n",
       "      <td>0.019111</td>\n",
       "      <td>1.149713</td>\n",
       "      <td>7b1cad38ac8b482bb845e4d85f08baa2</td>\n",
       "      <td>meta.llama3-70b-instruct-v1:0</td>\n",
       "      <td>1</td>\n",
       "      <td>meta.llama3-70b-instruct-v1:0</td>\n",
       "      <td>NaN</td>\n",
       "      <td>NaN</td>\n",
       "      <td>0.565837</td>\n",
       "    </tr>\n",
       "    <tr>\n",
       "      <th>2</th>\n",
       "      <td>meta.llama3-70b-instruct-v1:0</td>\n",
       "      <td>&lt;|begin_of_text|&gt;&lt;|start_header_id|&gt;user&lt;|end_...</td>\n",
       "      <td>a genus of flowering plant in the Lardizabalac...</td>\n",
       "      <td>0.1</td>\n",
       "      <td>100</td>\n",
       "      <td>0.92</td>\n",
       "      <td>The genus' Sinofranchetia and Stauntonia are f...</td>\n",
       "      <td>323</td>\n",
       "      <td>25</td>\n",
       "      <td>0.864521</td>\n",
       "      <td>0.441994</td>\n",
       "      <td>0.017998</td>\n",
       "      <td>0.861818</td>\n",
       "      <td>00ad69bc527c4f50a56edb6b16bda101</td>\n",
       "      <td>meta.llama3-70b-instruct-v1:0</td>\n",
       "      <td>1</td>\n",
       "      <td>meta.llama3-70b-instruct-v1:0</td>\n",
       "      <td>NaN</td>\n",
       "      <td>meta.llama3-70b-instruct-v1:0</td>\n",
       "      <td>0.695455</td>\n",
       "    </tr>\n",
       "    <tr>\n",
       "      <th>3</th>\n",
       "      <td>meta.llama3-70b-instruct-v1:0</td>\n",
       "      <td>&lt;|begin_of_text|&gt;&lt;|start_header_id|&gt;user&lt;|end_...</td>\n",
       "      <td>a genus of flowering plant in the Lardizabalac...</td>\n",
       "      <td>0.1</td>\n",
       "      <td>100</td>\n",
       "      <td>0.92</td>\n",
       "      <td>The genus' Sinofranchetia and Stauntonia are f...</td>\n",
       "      <td>323</td>\n",
       "      <td>25</td>\n",
       "      <td>0.864521</td>\n",
       "      <td>0.441994</td>\n",
       "      <td>0.017998</td>\n",
       "      <td>0.861818</td>\n",
       "      <td>00ad69bc527c4f50a56edb6b16bda101</td>\n",
       "      <td>meta.llama3-70b-instruct-v1:0</td>\n",
       "      <td>1</td>\n",
       "      <td>meta.llama3-70b-instruct-v1:0</td>\n",
       "      <td>NaN</td>\n",
       "      <td>NaN</td>\n",
       "      <td>0.695455</td>\n",
       "    </tr>\n",
       "    <tr>\n",
       "      <th>4</th>\n",
       "      <td>meta.llama3-70b-instruct-v1:0</td>\n",
       "      <td>&lt;|begin_of_text|&gt;&lt;|start_header_id|&gt;user&lt;|end_...</td>\n",
       "      <td>a genus of flowering plant in the Lardizabalac...</td>\n",
       "      <td>0.1</td>\n",
       "      <td>100</td>\n",
       "      <td>0.92</td>\n",
       "      <td>The genus' Sinofranchetia and Stauntonia are f...</td>\n",
       "      <td>323</td>\n",
       "      <td>25</td>\n",
       "      <td>0.883385</td>\n",
       "      <td>0.402027</td>\n",
       "      <td>0.020564</td>\n",
       "      <td>0.880519</td>\n",
       "      <td>53ce7682c18946dcb1fc41b099598a59</td>\n",
       "      <td>meta.llama3-70b-instruct-v1:0</td>\n",
       "      <td>1</td>\n",
       "      <td>meta.llama3-70b-instruct-v1:0</td>\n",
       "      <td>NaN</td>\n",
       "      <td>meta.llama3-70b-instruct-v1:0</td>\n",
       "      <td>0.695455</td>\n",
       "    </tr>\n",
       "  </tbody>\n",
       "</table>\n",
       "</div>"
      ],
      "text/plain": [
       "                   endpoint_name  \\\n",
       "0  meta.llama3-70b-instruct-v1:0   \n",
       "1  meta.llama3-70b-instruct-v1:0   \n",
       "2  meta.llama3-70b-instruct-v1:0   \n",
       "3  meta.llama3-70b-instruct-v1:0   \n",
       "4  meta.llama3-70b-instruct-v1:0   \n",
       "\n",
       "                                              prompt  \\\n",
       "0  <|begin_of_text|><|start_header_id|>user<|end_...   \n",
       "1  <|begin_of_text|><|start_header_id|>user<|end_...   \n",
       "2  <|begin_of_text|><|start_header_id|>user<|end_...   \n",
       "3  <|begin_of_text|><|start_header_id|>user<|end_...   \n",
       "4  <|begin_of_text|><|start_header_id|>user<|end_...   \n",
       "\n",
       "                                        ground_truth  temperature  max_tokens  \\\n",
       "0  a genus of flowering plant in the Lardizabalac...          0.1         100   \n",
       "1  a genus of flowering plant in the Lardizabalac...          0.1         100   \n",
       "2  a genus of flowering plant in the Lardizabalac...          0.1         100   \n",
       "3  a genus of flowering plant in the Lardizabalac...          0.1         100   \n",
       "4  a genus of flowering plant in the Lardizabalac...          0.1         100   \n",
       "\n",
       "   top_p                                         completion  prompt_tokens  \\\n",
       "0   0.92  Both Sinofranchetia and Stauntonia are from th...            323   \n",
       "1   0.92  Both Sinofranchetia and Stauntonia are from th...            323   \n",
       "2   0.92  The genus' Sinofranchetia and Stauntonia are f...            323   \n",
       "3   0.92  The genus' Sinofranchetia and Stauntonia are f...            323   \n",
       "4   0.92  The genus' Sinofranchetia and Stauntonia are f...            323   \n",
       "\n",
       "   completion_tokens   latency  time_to_first_token  time_per_output_token  \\\n",
       "0                 37  1.151869             0.474724               0.019111   \n",
       "1                 37  1.151869             0.474724               0.019111   \n",
       "2                 25  0.864521             0.441994               0.017998   \n",
       "3                 25  0.864521             0.441994               0.017998   \n",
       "4                 25  0.883385             0.402027               0.020564   \n",
       "\n",
       "   time_to_last_token                              uuid  \\\n",
       "0            1.149713  7b1cad38ac8b482bb845e4d85f08baa2   \n",
       "1            1.149713  7b1cad38ac8b482bb845e4d85f08baa2   \n",
       "2            0.861818  00ad69bc527c4f50a56edb6b16bda101   \n",
       "3            0.861818  00ad69bc527c4f50a56edb6b16bda101   \n",
       "4            0.880519  53ce7682c18946dcb1fc41b099598a59   \n",
       "\n",
       "                 experiment_name  concurrency                  instance_type  \\\n",
       "0  meta.llama3-70b-instruct-v1:0            1  meta.llama3-70b-instruct-v1:0   \n",
       "1  meta.llama3-70b-instruct-v1:0            1  meta.llama3-70b-instruct-v1:0   \n",
       "2  meta.llama3-70b-instruct-v1:0            1  meta.llama3-70b-instruct-v1:0   \n",
       "3  meta.llama3-70b-instruct-v1:0            1  meta.llama3-70b-instruct-v1:0   \n",
       "4  meta.llama3-70b-instruct-v1:0            1  meta.llama3-70b-instruct-v1:0   \n",
       "\n",
       "   instance_count                   EndpointName  cosine_similarity_score  \n",
       "0             NaN  meta.llama3-70b-instruct-v1:0                 0.565837  \n",
       "1             NaN                            NaN                 0.565837  \n",
       "2             NaN  meta.llama3-70b-instruct-v1:0                 0.695455  \n",
       "3             NaN                            NaN                 0.695455  \n",
       "4             NaN  meta.llama3-70b-instruct-v1:0                 0.695455  "
      ]
     },
     "execution_count": 20,
     "metadata": {},
     "output_type": "execute_result"
    }
   ],
   "source": [
    "df_per_inference.head()"
   ]
  },
  {
   "cell_type": "markdown",
   "metadata": {},
   "source": [
    "### Prepare the evaluation prompt payloads\n",
    "---\n",
    "\n",
    "Here, the evaluation prompt template is used by the LLM judge to evaluate the answers on different criteria.\n",
    "This prompt template function uses a set of rules, prompt template, the answer, and ground truth (if any) in the\n",
    "evaluation solution"
   ]
  },
  {
   "cell_type": "code",
   "execution_count": 21,
   "metadata": {
    "tags": []
   },
   "outputs": [],
   "source": [
    "def prepare_eval_prompts(eval_template: str,\n",
    "                         answer: str, \n",
    "                         rules: str, \n",
    "                         context: str, \n",
    "                         ground_truth: Optional[str]):\n",
    "    \"\"\"\n",
    "    This function prepares the evaluation prompts by preparing the standard eval prompt template\n",
    "    with the rules of a given subjective criteria, context, answer and ground truth (if any ground truth is provided)\n",
    "    \"\"\"\n",
    "    processed_eval_template: Optional[str] = None\n",
    "    processed_eval_template = eval_template.format(\n",
    "        rules=rules,\n",
    "        answer=answer,\n",
    "        context=context,\n",
    "        ground_truth=ground_truth)\n",
    "    return processed_eval_template"
   ]
  },
  {
   "cell_type": "code",
   "execution_count": 22,
   "metadata": {
    "tags": []
   },
   "outputs": [],
   "source": [
    "def run_eval(i: int, total: int, row: Dict,  model_id: str, eval_method_name: str, uuid: str) -> Dict:\n",
    "    \"\"\"\n",
    "    Runs the evaluation for one row \n",
    "    The eval prompt is already available in the row dictionary\n",
    "    and we simply want to run the inference against the judge model.\n",
    "    The results are returned in a new dictionary that contains the model \n",
    "    response and some fields from the original dictionary\n",
    "    \"\"\"\n",
    "    # save all the responses from the model in a dictionary\n",
    "    resp: Dict = {}\n",
    "    print(f\"run_eval, row {i}/{total}, judge_model_id={model_id}, candidate model={row['endpoint_name']}\")\n",
    "    candidate_model_response: str = row['completion']\n",
    "    # create the payload for model inference\n",
    "    prompt = row[f'{model_id}_{method_name}_eval_prompt']\n",
    "    # generate the chapter title based on the given chapter in the prompt \n",
    "    resp = get_inference(model_id, prompt)\n",
    "    resp['candidate_model_response'] = candidate_model_response\n",
    "    resp['candidate_model'] = row['endpoint_name']\n",
    "    resp['cosine_similarity_score'] = row['cosine_similarity_score']\n",
    "    if 'ground_truth' in row:\n",
    "        resp['ground_truth'] = row['ground_truth']\n",
    "    # calculate the input and output token price for all of the calls\n",
    "    model_eval_completions_dir: str = os.path.join(RESULTS_DIR, MODEL_EVALUATION_JUDGE_COMPLETIONS_DIR)\n",
    "    dir_path = os.path.join(model_eval_completions_dir, model_id, eval_method_name)\n",
    "    os.makedirs(dir_path, exist_ok=True)\n",
    "    fpath = os.path.join(dir_path, f\"{model_id}_{eval_method_name}_{uuid}.json\")\n",
    "\n",
    "    Path(fpath).write_text(json.dumps(resp, default=str, indent=2))\n",
    "\n",
    "    return resp\n",
    "\n",
    "# we use Ray to parallize\n",
    "@ray.remote\n",
    "def async_run_eval(i: int, total: int, row: Dict, model_id: str, eval_method_name: str, uuid: str) -> Dict:\n",
    "    print(f\"async_run_eval, i={i}, total={total}, judge_model_info={model_id}, eval_method: {eval_method_name}, uuid: {uuid}\")\n",
    "    return run_eval(i, total, row, model_id, eval_method_name, uuid)"
   ]
  },
  {
   "cell_type": "code",
   "execution_count": 23,
   "metadata": {
    "tags": []
   },
   "outputs": [
    {
     "name": "stderr",
     "output_type": "stream",
     "text": [
      "[2024-07-12 22:52:14,982] p15113 {2376022395.py:3} INFO - eval_records_list has 20 entries\n"
     ]
    }
   ],
   "source": [
    "# convert the dataframe into a list of dicts as that is easy to parallize via Ray\n",
    "df_per_inference_list = json.loads(df_per_inference.to_json(orient='records'))\n",
    "logger.info(f\"eval_records_list has {len(df_per_inference_list)} entries\")"
   ]
  },
  {
   "cell_type": "markdown",
   "metadata": {},
   "source": [
    "### Prepare evaluation prompt templates\n",
    "---\n",
    "\n",
    "This portion of the step prepares the evaluation prompt templates that are used in the evaluation process of using `Max Voting` or `Average Pooling` using the PoLL."
   ]
  },
  {
   "cell_type": "code",
   "execution_count": 24,
   "metadata": {
    "tags": []
   },
   "outputs": [
    {
     "data": {
      "text/plain": [
       "{'judge_panel_list': [{'model_id': 'anthropic.claude-3-haiku-20240307-v1:0',\n",
       "   'eval_prompt_template_dir': 'claude_eval_prompt_templates',\n",
       "   'eval_prompt_template_name_max_voting': 'claude_eval_max_voting'},\n",
       "  {'model_id': 'meta.llama3-70b-instruct-v1:0',\n",
       "   'eval_prompt_template_dir': 'llama3_eval_prompt_templates',\n",
       "   'eval_prompt_template_name_prefix': 'llama3_eval_max_voting'},\n",
       "  {'model_id': 'cohere.command-r-v1:0',\n",
       "   'eval_prompt_template_dir': 'cohere_eval_prompt_templates',\n",
       "   'eval_prompt_template_name_max_voting': 'cohere_eval_max_voting'}],\n",
       " 'inference_parameters': {'temperature': 0.1,\n",
       "  'max_tokens': 300,\n",
       "  'top_p': 0.92,\n",
       "  'caching': False},\n",
       " 'run_parallel_inference_count': 10}"
      ]
     },
     "execution_count": 24,
     "metadata": {},
     "output_type": "execute_result"
    }
   ],
   "source": [
    "model_eval_subjective_info"
   ]
  },
  {
   "cell_type": "code",
   "execution_count": 25,
   "metadata": {
    "tags": []
   },
   "outputs": [
    {
     "name": "stderr",
     "output_type": "stream",
     "text": [
      "[2024-07-12 22:52:16,749] p15113 {2514474553.py:4} INFO - The evaluation method FMBench is going to use to evaluate different model responses: max_voting\n",
      "[2024-07-12 22:52:16,750] p15113 {2514474553.py:5} INFO - judge panel being used to evaluate model responses: [{'model_id': 'anthropic.claude-3-haiku-20240307-v1:0', 'eval_prompt_template_dir': 'claude_eval_prompt_templates', 'eval_prompt_template_name_max_voting': 'claude_eval_max_voting'}, {'model_id': 'meta.llama3-70b-instruct-v1:0', 'eval_prompt_template_dir': 'llama3_eval_prompt_templates', 'eval_prompt_template_name_prefix': 'llama3_eval_max_voting'}, {'model_id': 'cohere.command-r-v1:0', 'eval_prompt_template_dir': 'cohere_eval_prompt_templates', 'eval_prompt_template_name_max_voting': 'cohere_eval_max_voting'}]\n"
     ]
    }
   ],
   "source": [
    "# get the method that is being used to evaluate the content (which is either \n",
    "# max voting or average pooling)\n",
    "method_name: str = config['model_evaluations']['PoLL_Composition_and_Voting'].get('method', None)\n",
    "logger.info(f\"The evaluation method FMBench is going to use to evaluate different model responses: {method_name}\")\n",
    "logger.info(f\"judge panel being used to evaluate model responses: {model_eval_subjective_info.get('judge_panel_list', None)}\")"
   ]
  },
  {
   "cell_type": "code",
   "execution_count": 27,
   "metadata": {
    "tags": []
   },
   "outputs": [
    {
     "name": "stderr",
     "output_type": "stream",
     "text": [
      "[2024-07-12 22:53:32,896] p15113 {1054263693.py:9} INFO - evaluation prompt template file path being used for anthropic.claude-3-haiku-20240307-v1:0: /home/ec2-user/anaconda3/envs/fmbench/lib/python3.11/site-packages/fmbench/prompt_template/eval_criteria_prompts/claude_eval_prompt_templates/claude_eval_max_voting.txt\n",
      "[2024-07-12 22:53:32,897] p15113 {1054263693.py:10} INFO - evaluation prompt template file name: claude_eval_max_voting.txt\n",
      "[2024-07-12 22:53:32,897] p15113 {1054263693.py:14} ERROR - File not found: /home/ec2-user/anaconda3/envs/fmbench/lib/python3.11/site-packages/fmbench/prompt_template/eval_criteria_prompts/claude_eval_prompt_templates/claude_eval_max_voting.txt\n",
      "[2024-07-12 22:53:32,898] p15113 {1054263693.py:9} INFO - evaluation prompt template file path being used for meta.llama3-70b-instruct-v1:0: /home/ec2-user/anaconda3/envs/fmbench/lib/python3.11/site-packages/fmbench/prompt_template/eval_criteria_prompts/llama3_eval_prompt_templates/None.txt\n",
      "[2024-07-12 22:53:32,898] p15113 {1054263693.py:10} INFO - evaluation prompt template file name: None.txt\n",
      "[2024-07-12 22:53:32,899] p15113 {1054263693.py:14} ERROR - File not found: /home/ec2-user/anaconda3/envs/fmbench/lib/python3.11/site-packages/fmbench/prompt_template/eval_criteria_prompts/llama3_eval_prompt_templates/None.txt\n",
      "[2024-07-12 22:53:32,899] p15113 {1054263693.py:9} INFO - evaluation prompt template file path being used for cohere.command-r-v1:0: /home/ec2-user/anaconda3/envs/fmbench/lib/python3.11/site-packages/fmbench/prompt_template/eval_criteria_prompts/cohere_eval_prompt_templates/cohere_eval_max_voting.txt\n",
      "[2024-07-12 22:53:32,900] p15113 {1054263693.py:10} INFO - evaluation prompt template file name: cohere_eval_max_voting.txt\n",
      "[2024-07-12 22:53:32,900] p15113 {1054263693.py:14} ERROR - File not found: /home/ec2-user/anaconda3/envs/fmbench/lib/python3.11/site-packages/fmbench/prompt_template/eval_criteria_prompts/cohere_eval_prompt_templates/cohere_eval_max_voting.txt\n"
     ]
    }
   ],
   "source": [
    "# Assuming fmbench is a valid Python package and scripts is a subdirectory within it\n",
    "eval_prompts_dir = Path(pkg_resources.files('fmbench'), f\"{config['s3_read_data']['prompt_template_dir']}/{config['s3_read_data']['eval_prompts_dir']}\")\n",
    "# Iterate through each LLM as a judge and each evaluation criterion\n",
    "for llm_info in model_eval_subjective_info.get('judge_panel_list', None):\n",
    "    model_id = llm_info['model_id']\n",
    "    eval_prompt_template_fname: str = f\"{llm_info.get('eval_prompt_template_name_max_voting', None)}.txt\"\n",
    "    eval_prompt_template_dir = llm_info.get('eval_prompt_template_dir', None)\n",
    "    eval_prompt_template_path: str = os.path.join(eval_prompts_dir, eval_prompt_template_dir, eval_prompt_template_fname)\n",
    "    logger.info(f\"evaluation prompt template file path being used for {model_id}: {eval_prompt_template_path}\")\n",
    "    logger.info(f\"evaluation prompt template file name: {eval_prompt_template_fname}\")\n",
    "    try:\n",
    "        eval_prompt_template = Path(eval_prompt_template_path).read_text()\n",
    "    except FileNotFoundError:\n",
    "        logger.error(f\"File not found: {eval_prompt_template_path}\")\n",
    "        continue\n",
    "\n",
    "    print(f\"Evaluation prompt template being used: {eval_prompt_template}\")\n",
    "    eval_instructions_fname: str = next((rule for rule in config['s3_read_data']['eval_instructions_files'] if method_name in rule), None)\n",
    "    rules = Path(os.path.join(eval_prompts_dir, eval_instructions_fname)).read_text()\n",
    "    logger.info(f\"rules: {rules}\")\n",
    "    column_name = f\"{model_id}_{method_name}_eval_prompt\"\n",
    "    logger.info(f\"column_name: {column_name}\")\n",
    "\n",
    "    df_per_inference[column_name] = df_per_inference.apply(\n",
    "        lambda r: prepare_eval_prompts(\n",
    "            eval_prompt_template,\n",
    "            r['completion'],\n",
    "            rules,\n",
    "            r['prompt'],\n",
    "            r['ground_truth']\n",
    "        ),\n",
    "        axis=1\n",
    "    )"
   ]
  },
  {
   "cell_type": "code",
   "execution_count": null,
   "metadata": {
    "tags": []
   },
   "outputs": [],
   "source": [
    "csv_buffer = io.StringIO()\n",
    "df_per_inference.to_csv(csv_buffer, index=False)\n",
    "df_per_inference_with_eval_prompt_payloads = csv_buffer.getvalue()\n",
    "eval_prompt_payloads_for_inference = os.path.join(METRICS_DIR, PROCESSED_EVAL_PROMPT_PAYLOADS)  # Define full S3 path\n",
    "\n",
    "# Write the CSV data to S3\n",
    "write_to_s3(df_per_inference_with_eval_prompt_payloads, BUCKET_NAME, \"\", \n",
    "            METRICS_DIR, PROCESSED_EVAL_PROMPT_PAYLOADS)\n",
    "logger.info(f\"Per inference cosine similarity scores saved to s3://{BUCKET_NAME}/{eval_prompt_payloads_for_inference}\")\n",
    "\n",
    "df_per_inference.head()"
   ]
  },
  {
   "cell_type": "code",
   "execution_count": null,
   "metadata": {
    "tags": []
   },
   "outputs": [],
   "source": [
    "# convert the dataframe into a list of dicts as that is easy to parallize via Ray\n",
    "eval_records_list = json.loads(df_per_inference.to_json(orient='records'))\n",
    "logger.info(f\"eval_records_list has {len(eval_records_list)} entries\")"
   ]
  },
  {
   "cell_type": "markdown",
   "metadata": {},
   "source": [
    "### Run LLM as a Judge Evaluations\n",
    "---\n",
    "\n",
    "In this portion of the step, FMBench performs the following actions:\n",
    "\n",
    "1. If the method of evaluation is `Max Voting`, then in that case we suppose that a ground truth to the question from the context or task is pre existing in the dataset. We use the LLM panel of judges (in this case 3 judges), to give a verdict on whether the `answer` from the candidate models during inference is `correct` or `incorrect`. If the response is correct, then it gives it a `correct` and if not, then `incorrect`.\n",
    "\n",
    "1. If the method of evaluation is `Average Pooling`, then in that case we suppose that the completion from the candidate models are supposed to be evlauated on a more subjective criteria rather than just deciding whether it is correct or incorrect compared to the ground truth. In this case, the average pooling prompt templates are used by the Judge Panel to give a rating out of 1-5 to each model completion on different criteria, such as relevancy, helpfulness, correctness, and so on.\n",
    "\n",
    "1. Each model response is given in a JSON structure which is further used for downstream analytics, to decide the comparision of evaluation results between different model candidates and more.\n",
    "\n",
    "***This step takes about ~6 minutes to complete. Model completion time depends on the PoLL models being used. `Llama3-70b`, `Cohere command-r-v1` and `claude 3 haiku` were used for this example***"
   ]
  },
  {
   "cell_type": "code",
   "execution_count": null,
   "metadata": {
    "tags": []
   },
   "outputs": [],
   "source": [
    "# get the llm as a judge panel list\n",
    "judge_panel_list = model_eval_subjective_info.get('judge_panel_list', None)\n",
    "logger.info(f\"The judge panel list contains {len(judge_panel_list)} judges: {judge_panel_list}\")"
   ]
  },
  {
   "cell_type": "code",
   "execution_count": null,
   "metadata": {
    "tags": []
   },
   "outputs": [],
   "source": [
    "logger.info(f\"Panel of LLM evaluators are going to start evaluating responses. This might take a couple of minutes.\")"
   ]
  },
  {
   "cell_type": "code",
   "execution_count": null,
   "metadata": {
    "tags": []
   },
   "outputs": [],
   "source": [
    "n = model_eval_subjective_info.get('run_parallel_inference_count', 5)\n",
    "list_of_lists = [eval_records_list[i * n:(i + 1) * n] for i in range((len(eval_records_list) + n - 1) // n)]\n",
    "resp_list = []\n",
    "st = time.perf_counter()\n",
    "\n",
    "# Iterate over the judge panel and sublists\n",
    "for judge_panelist_info in judge_panel_list:\n",
    "    logger.info(f\"============Running inference for judge panelist {judge_panelist_info['model_id']} for {method_name} ============\")\n",
    "    for idx, sublist in enumerate(list_of_lists):\n",
    "        model_id = judge_panelist_info['model_id']\n",
    "        logger.info(f\"getting inference for list {idx + 1}/{len(list_of_lists)}, size of list={len(sublist)}\")\n",
    "\n",
    "        # Run inference in parallel\n",
    "        resp_list.extend(ray.get([async_run_eval.remote(i + 1, len(sublist), record, model_id, method_name, record['uuid'])\n",
    "                                  for i, record in enumerate(sublist)]))\n",
    "\n",
    "elapsed_time = time.perf_counter() - st\n",
    "logger.info(f\"Total elapsed time for inference: {elapsed_time:.2f} seconds\")"
   ]
  },
  {
   "cell_type": "markdown",
   "metadata": {},
   "source": [
    "### Perform downstream analytical tasks on each PoLL evaluation result\n",
    "---"
   ]
  },
  {
   "cell_type": "code",
   "execution_count": null,
   "metadata": {},
   "outputs": [],
   "source": [
    "# convert the results list into a dataframe for easy analytics\n",
    "df_eval_results = pd.DataFrame(resp_list)\n",
    "logger.info(f\"df_eval_results shape={df_eval_results.shape}\")\n",
    "df_eval_results.head()"
   ]
  },
  {
   "cell_type": "code",
   "execution_count": null,
   "metadata": {
    "tags": []
   },
   "outputs": [],
   "source": [
    "# parse out the completion from LLM as a judge and column bind\n",
    "# the fields of the dictionary to the original results dataframe\n",
    "df_eval_results_only = df_eval_results['completion'].apply(parse_as_json).apply(pd.Series)\n",
    "df_eval_results = pd.concat([df_eval_results, df_eval_results_only], axis=1)\n",
    "df_eval_results.rename(columns={'model_id': 'judge_model_id'}, inplace=True)\n",
    "logger.info(f\"df_eval_results shape={df_eval_results.shape}\")\n",
    "df_eval_results.head()"
   ]
  },
  {
   "cell_type": "code",
   "execution_count": null,
   "metadata": {
    "tags": []
   },
   "outputs": [],
   "source": [
    "# send the raw results as a csv file to the S3 bucket\n",
    "csv_buffer = io.StringIO()\n",
    "df_eval_results.to_csv(csv_buffer, index=False)\n",
    "eval_llm_as_a_judge_results = csv_buffer.getvalue()\n",
    "eval_results_csv_fpath = os.path.join(METRICS_DIR, MODEL_EVAL_COMPLETIONS_CSV)  # Define full S3 path\n",
    "\n",
    "# Write the CSV data to S3\n",
    "write_to_s3(eval_llm_as_a_judge_results, BUCKET_NAME, \"\", \n",
    "            METRICS_DIR, MODEL_EVAL_COMPLETIONS_CSV)\n",
    "logger.info(f\"Per PoLL model responses saved as a csv to s3://{BUCKET_NAME}/{eval_results_csv_fpath}\")\n",
    "df_eval_results.head()"
   ]
  },
  {
   "cell_type": "code",
   "execution_count": null,
   "metadata": {
    "tags": []
   },
   "outputs": [],
   "source": [
    "panel_summary_responses_df = df_eval_results.groupby(['judge_model_id', 'candidate_model', 'verdict']).size().unstack(fill_value=0)\n",
    "panel_summary_responses_df.reset_index(inplace=True)"
   ]
  },
  {
   "cell_type": "code",
   "execution_count": null,
   "metadata": {},
   "outputs": [],
   "source": [
    "# send the raw results as a csv file to the S3 bucket\n",
    "csv_buffer = io.StringIO()\n",
    "panel_summary_responses_df.to_csv(csv_buffer, index=False)\n",
    "panel_summary_responses = csv_buffer.getvalue()\n",
    "llm_as_a_judge_per_eval_summary_fpath = os.path.join(METRICS_DIR, LLM_JUDGE_PANEL_RESPONSE_SUMMARIES)  # Define full S3 path\n",
    "\n",
    "# Write the CSV data to S3\n",
    "write_to_s3(panel_summary_responses, BUCKET_NAME, \"\", \n",
    "            METRICS_DIR, LLM_JUDGE_PANEL_RESPONSE_SUMMARIES)\n",
    "logger.info(f\"Summary on each eval (max voting/average pooling) for each panel judge sent to s3://{BUCKET_NAME}/{llm_as_a_judge_per_eval_summary_fpath}\")\n",
    "panel_summary_responses_df.head(40)"
   ]
  },
  {
   "cell_type": "markdown",
   "metadata": {},
   "source": [
    "#### Calculate the overall accuracy of each model scored by the PoLL\n",
    "---"
   ]
  },
  {
   "cell_type": "code",
   "execution_count": 299,
   "metadata": {
    "tags": []
   },
   "outputs": [
    {
     "data": {
      "text/html": [
       "<div>\n",
       "<style scoped>\n",
       "    .dataframe tbody tr th:only-of-type {\n",
       "        vertical-align: middle;\n",
       "    }\n",
       "\n",
       "    .dataframe tbody tr th {\n",
       "        vertical-align: top;\n",
       "    }\n",
       "\n",
       "    .dataframe thead th {\n",
       "        text-align: right;\n",
       "    }\n",
       "</style>\n",
       "<table border=\"1\" class=\"dataframe\">\n",
       "  <thead>\n",
       "    <tr style=\"text-align: right;\">\n",
       "      <th>verdict</th>\n",
       "      <th>candidate_model</th>\n",
       "      <th>judge_model_id</th>\n",
       "      <th>accuracy</th>\n",
       "      <th>error_rate</th>\n",
       "    </tr>\n",
       "  </thead>\n",
       "  <tbody>\n",
       "    <tr>\n",
       "      <th>0</th>\n",
       "      <td>meta.llama3-70b-instruct-v1:0</td>\n",
       "      <td>anthropic.claude-3-haiku-20240307-v1:0</td>\n",
       "      <td>100</td>\n",
       "      <td>0</td>\n",
       "    </tr>\n",
       "    <tr>\n",
       "      <th>1</th>\n",
       "      <td>meta.llama3-70b-instruct-v1:0</td>\n",
       "      <td>cohere.command-r-v1:0</td>\n",
       "      <td>100</td>\n",
       "      <td>0</td>\n",
       "    </tr>\n",
       "    <tr>\n",
       "      <th>2</th>\n",
       "      <td>meta.llama3-70b-instruct-v1:0</td>\n",
       "      <td>meta.llama3-70b-instruct-v1:0</td>\n",
       "      <td>100</td>\n",
       "      <td>0</td>\n",
       "    </tr>\n",
       "    <tr>\n",
       "      <th>3</th>\n",
       "      <td>meta.llama3-8b-instruct-v1:0</td>\n",
       "      <td>anthropic.claude-3-haiku-20240307-v1:0</td>\n",
       "      <td>100</td>\n",
       "      <td>0</td>\n",
       "    </tr>\n",
       "    <tr>\n",
       "      <th>4</th>\n",
       "      <td>meta.llama3-8b-instruct-v1:0</td>\n",
       "      <td>cohere.command-r-v1:0</td>\n",
       "      <td>100</td>\n",
       "      <td>0</td>\n",
       "    </tr>\n",
       "    <tr>\n",
       "      <th>5</th>\n",
       "      <td>meta.llama3-8b-instruct-v1:0</td>\n",
       "      <td>meta.llama3-70b-instruct-v1:0</td>\n",
       "      <td>100</td>\n",
       "      <td>0</td>\n",
       "    </tr>\n",
       "  </tbody>\n",
       "</table>\n",
       "</div>"
      ],
      "text/plain": [
       "verdict                candidate_model  \\\n",
       "0        meta.llama3-70b-instruct-v1:0   \n",
       "1        meta.llama3-70b-instruct-v1:0   \n",
       "2        meta.llama3-70b-instruct-v1:0   \n",
       "3         meta.llama3-8b-instruct-v1:0   \n",
       "4         meta.llama3-8b-instruct-v1:0   \n",
       "5         meta.llama3-8b-instruct-v1:0   \n",
       "\n",
       "verdict                          judge_model_id  accuracy  error_rate  \n",
       "0        anthropic.claude-3-haiku-20240307-v1:0       100           0  \n",
       "1                         cohere.command-r-v1:0       100           0  \n",
       "2                 meta.llama3-70b-instruct-v1:0       100           0  \n",
       "3        anthropic.claude-3-haiku-20240307-v1:0       100           0  \n",
       "4                         cohere.command-r-v1:0       100           0  \n",
       "5                 meta.llama3-70b-instruct-v1:0       100           0  "
      ]
     },
     "execution_count": 299,
     "metadata": {},
     "output_type": "execute_result"
    }
   ],
   "source": [
    "per_panel_judgement_result_df= panel_summary_responses_df.groupby(['candidate_model', 'judge_model_id']).sum()\n",
    "# Compute the accuracy and error rate of each candidate model id\n",
    "if 'incorrect' in panel_summary_responses_df:\n",
    "    per_panel_judgement_result_df['accuracy'] = ((per_panel_judgement_result_df['correct'] / (per_panel_judgement_result_df['correct'] + per_panel_judgement_result_df['incorrect'])).round(2) * 100)\n",
    "    per_panel_judgement_result_df['error_rate'] = ((per_panel_judgement_result_df['incorrect'] / (per_panel_judgement_result_df['correct'] + per_panel_judgement_result_df['incorrect'])).round(2) * 100)\n",
    "else: \n",
    "    per_panel_judgement_result_df['accuracy'] = 100\n",
    "    per_panel_judgement_result_df['error_rate'] = 0\n",
    "per_panel_judgement_result_df = per_panel_judgement_result_df[['accuracy', 'error_rate']].reset_index()\n",
    "per_panel_judgement_result_df.head(40)"
   ]
  },
  {
   "cell_type": "code",
   "execution_count": 300,
   "metadata": {
    "tags": []
   },
   "outputs": [
    {
     "data": {
      "text/html": [
       "<div>\n",
       "<style scoped>\n",
       "    .dataframe tbody tr th:only-of-type {\n",
       "        vertical-align: middle;\n",
       "    }\n",
       "\n",
       "    .dataframe tbody tr th {\n",
       "        vertical-align: top;\n",
       "    }\n",
       "\n",
       "    .dataframe thead th {\n",
       "        text-align: right;\n",
       "    }\n",
       "</style>\n",
       "<table border=\"1\" class=\"dataframe\">\n",
       "  <thead>\n",
       "    <tr style=\"text-align: right;\">\n",
       "      <th></th>\n",
       "      <th>candidate_model</th>\n",
       "      <th>mean_cosine_similarity</th>\n",
       "    </tr>\n",
       "  </thead>\n",
       "  <tbody>\n",
       "    <tr>\n",
       "      <th>0</th>\n",
       "      <td>meta.llama3-70b-instruct-v1:0</td>\n",
       "      <td>0.643608</td>\n",
       "    </tr>\n",
       "    <tr>\n",
       "      <th>1</th>\n",
       "      <td>meta.llama3-8b-instruct-v1:0</td>\n",
       "      <td>0.637033</td>\n",
       "    </tr>\n",
       "  </tbody>\n",
       "</table>\n",
       "</div>"
      ],
      "text/plain": [
       "                 candidate_model  mean_cosine_similarity\n",
       "0  meta.llama3-70b-instruct-v1:0                0.643608\n",
       "1   meta.llama3-8b-instruct-v1:0                0.637033"
      ]
     },
     "execution_count": 300,
     "metadata": {},
     "output_type": "execute_result"
    }
   ],
   "source": [
    "# Calculate mean cosine similarity for each candidate model\n",
    "mean_cosine_similarity = df_eval_results.groupby('candidate_model')['cosine_similarity_score'].mean().reset_index()\n",
    "mean_cosine_similarity = mean_cosine_similarity.rename(columns={'cosine_similarity_score': 'mean_cosine_similarity'})\n",
    "mean_cosine_similarity"
   ]
  },
  {
   "cell_type": "code",
   "execution_count": 301,
   "metadata": {
    "tags": []
   },
   "outputs": [
    {
     "data": {
      "text/html": [
       "<div>\n",
       "<style scoped>\n",
       "    .dataframe tbody tr th:only-of-type {\n",
       "        vertical-align: middle;\n",
       "    }\n",
       "\n",
       "    .dataframe tbody tr th {\n",
       "        vertical-align: top;\n",
       "    }\n",
       "\n",
       "    .dataframe thead th {\n",
       "        text-align: right;\n",
       "    }\n",
       "</style>\n",
       "<table border=\"1\" class=\"dataframe\">\n",
       "  <thead>\n",
       "    <tr style=\"text-align: right;\">\n",
       "      <th></th>\n",
       "      <th>candidate_model</th>\n",
       "      <th>mean_cosine_similarity</th>\n",
       "      <th>accuracy</th>\n",
       "      <th>error_rate</th>\n",
       "    </tr>\n",
       "  </thead>\n",
       "  <tbody>\n",
       "    <tr>\n",
       "      <th>0</th>\n",
       "      <td>meta.llama3-70b-instruct-v1:0</td>\n",
       "      <td>0.643608</td>\n",
       "      <td>100.0</td>\n",
       "      <td>0.0</td>\n",
       "    </tr>\n",
       "    <tr>\n",
       "      <th>1</th>\n",
       "      <td>meta.llama3-8b-instruct-v1:0</td>\n",
       "      <td>0.637033</td>\n",
       "      <td>100.0</td>\n",
       "      <td>0.0</td>\n",
       "    </tr>\n",
       "  </tbody>\n",
       "</table>\n",
       "</div>"
      ],
      "text/plain": [
       "                 candidate_model  mean_cosine_similarity  accuracy  error_rate\n",
       "0  meta.llama3-70b-instruct-v1:0                0.643608     100.0         0.0\n",
       "1   meta.llama3-8b-instruct-v1:0                0.637033     100.0         0.0"
      ]
     },
     "execution_count": 301,
     "metadata": {},
     "output_type": "execute_result"
    }
   ],
   "source": [
    "overall_accuracy_grouped_panel_df = per_panel_judgement_result_df.groupby('candidate_model')[['accuracy', 'error_rate']].mean().reset_index()\n",
    "overall_accuracy_grouped_panel_df = pd.merge(mean_cosine_similarity, overall_accuracy_grouped_panel_df, on='candidate_model')\n",
    "overall_accuracy_grouped_panel_df = overall_accuracy_grouped_panel_df.sort_values(by='accuracy', ascending=False)\n",
    "overall_accuracy_grouped_panel_df"
   ]
  },
  {
   "cell_type": "code",
   "execution_count": 302,
   "metadata": {
    "tags": []
   },
   "outputs": [
    {
     "name": "stderr",
     "output_type": "stream",
     "text": [
      "[2024-07-12 20:46:03,024] p27460 {1651915844.py:10} INFO - Overall accuracy and error rates results of each model sent to s3://sagemaker-fmbench-write-us-west-2-387192758086/fmbench-bedrock-fmbench-stack-us-west-2-role/data/metrics/yyyy=2024/mm=07/dd=12/hh=16/mm=35/PoLL_per_model_accuracy.csv\n"
     ]
    },
    {
     "data": {
      "text/html": [
       "<div>\n",
       "<style scoped>\n",
       "    .dataframe tbody tr th:only-of-type {\n",
       "        vertical-align: middle;\n",
       "    }\n",
       "\n",
       "    .dataframe tbody tr th {\n",
       "        vertical-align: top;\n",
       "    }\n",
       "\n",
       "    .dataframe thead th {\n",
       "        text-align: right;\n",
       "    }\n",
       "</style>\n",
       "<table border=\"1\" class=\"dataframe\">\n",
       "  <thead>\n",
       "    <tr style=\"text-align: right;\">\n",
       "      <th></th>\n",
       "      <th>candidate_model</th>\n",
       "      <th>mean_cosine_similarity</th>\n",
       "      <th>accuracy</th>\n",
       "      <th>error_rate</th>\n",
       "    </tr>\n",
       "  </thead>\n",
       "  <tbody>\n",
       "    <tr>\n",
       "      <th>0</th>\n",
       "      <td>meta.llama3-70b-instruct-v1:0</td>\n",
       "      <td>0.643608</td>\n",
       "      <td>100.0</td>\n",
       "      <td>0.0</td>\n",
       "    </tr>\n",
       "    <tr>\n",
       "      <th>1</th>\n",
       "      <td>meta.llama3-8b-instruct-v1:0</td>\n",
       "      <td>0.637033</td>\n",
       "      <td>100.0</td>\n",
       "      <td>0.0</td>\n",
       "    </tr>\n",
       "  </tbody>\n",
       "</table>\n",
       "</div>"
      ],
      "text/plain": [
       "                 candidate_model  mean_cosine_similarity  accuracy  error_rate\n",
       "0  meta.llama3-70b-instruct-v1:0                0.643608     100.0         0.0\n",
       "1   meta.llama3-8b-instruct-v1:0                0.637033     100.0         0.0"
      ]
     },
     "execution_count": 302,
     "metadata": {},
     "output_type": "execute_result"
    }
   ],
   "source": [
    "# send the accuracy metrics to s3\n",
    "csv_buffer = io.StringIO()\n",
    "overall_accuracy_grouped_panel_df.to_csv(csv_buffer, index=False)\n",
    "overall_panel_result = csv_buffer.getvalue()\n",
    "overall_panel_accuracy_metrics_fpath = os.path.join(METRICS_DIR, PER_MODEL_ACCURACY_POLL)  # Define full S3 path\n",
    "\n",
    "# Write the CSV data to S3\n",
    "write_to_s3(overall_panel_result, BUCKET_NAME, \"\", \n",
    "            METRICS_DIR, PER_MODEL_ACCURACY_POLL)\n",
    "logger.info(f\"Overall accuracy and error rates results of each model sent to s3://{BUCKET_NAME}/{overall_panel_accuracy_metrics_fpath}\")\n",
    "overall_accuracy_grouped_panel_df.head(10)"
   ]
  },
  {
   "cell_type": "code",
   "execution_count": 303,
   "metadata": {
    "tags": []
   },
   "outputs": [],
   "source": [
    "# get accuracy statements\n",
    "# Rank models by accuracy\n",
    "ranked_models = overall_accuracy_grouped_panel_df.sort_values(by='accuracy', ascending=False)\n",
    "highest_accuracy = ranked_models['accuracy'].max()\n",
    "\n",
    "# Group models with the highest accuracy\n",
    "top_performers = ranked_models[ranked_models['accuracy'] == highest_accuracy]\n",
    "other_models = ranked_models[ranked_models['accuracy'] < highest_accuracy]\n",
    "final_ranking = pd.concat([top_performers, other_models])\n",
    "unique_judge_model_ids = per_panel_judgement_result_df['judge_model_id'].unique()\n",
    "PoLL_model_ids = ', '.join(map(str, unique_judge_model_ids))\n",
    "top_performing_model_ids = ', '.join(top_performers['candidate_model'].tolist())\n",
    "\n",
    "# cosine similarity score data\n",
    "highest_cosine_model = final_ranking.loc[final_ranking['mean_cosine_similarity'].idxmax()]\n",
    "highest_cosine_model_name = highest_cosine_model['candidate_model']\n",
    "highest_cosine_similarity = highest_cosine_model['mean_cosine_similarity']"
   ]
  },
  {
   "cell_type": "code",
   "execution_count": 304,
   "metadata": {
    "tags": []
   },
   "outputs": [],
   "source": [
    "if other_models.empty:\n",
    "    other_models = f\"All models performed the same with an accuracy of {highest_accuracy:.2f}.\""
   ]
  },
  {
   "cell_type": "code",
   "execution_count": 305,
   "metadata": {
    "tags": []
   },
   "outputs": [],
   "source": [
    "accuracy_statement = MAX_VOTING_RESULT_STATEMENT.format(\n",
    "    judge_model_ids=PoLL_model_ids,\n",
    "    highest_accuracy=highest_accuracy,\n",
    "    top_models=top_performers.to_string(index=False),\n",
    "    highest_cosine_similarity=round(highest_cosine_similarity, 4),\n",
    "    top_cosine_similarity_model=highest_cosine_model_name,\n",
    "    ranked_models=other_models,\n",
    "    top_performing_model_ids=top_performing_model_ids\n",
    ")"
   ]
  },
  {
   "cell_type": "code",
   "execution_count": 306,
   "metadata": {
    "tags": []
   },
   "outputs": [
    {
     "name": "stderr",
     "output_type": "stream",
     "text": [
      "[2024-07-12 20:46:04,716] p27460 {84484965.py:8} INFO - Overall accuracy and error rates results of each model sent to s3://sagemaker-fmbench-write-us-west-2-387192758086/fmbench-bedrock-fmbench-stack-us-west-2-role/data/metrics/yyyy=2024/mm=07/dd=12/hh=16/mm=35/overall_PoLL_report.txt\n"
     ]
    },
    {
     "name": "stdout",
     "output_type": "stream",
     "text": [
      " \n",
      "A Detailed Analysis of Model Performance Based on Accuracy using Panel of LLM Evaluators (PoLL):\n",
      "\n",
      "This accuracy benchmarking was done using a Panel of LLM evaluators. anthropic.claude-3-haiku-20240307-v1:0, cohere.command-r-v1:0, meta.llama3-70b-instruct-v1:0 were used as judges.\n",
      "\n",
      "Top Performing Models (100.0% Accuracy):\n",
      "              candidate_model  mean_cosine_similarity  accuracy  error_rate\n",
      "meta.llama3-70b-instruct-v1:0                0.643608     100.0         0.0\n",
      " meta.llama3-8b-instruct-v1:0                0.637033     100.0         0.0\n",
      "\n",
      "Top Performing Model (0.6436 Cosine Similarity Score):\n",
      "meta.llama3-70b-instruct-v1:0\n",
      "\n",
      "Other Ranked Models:\n",
      "All models performed the same with an accuracy of 100.00.\n",
      "\n",
      "Summary:\n",
      "The top-performing models, including meta.llama3-70b-instruct-v1:0, meta.llama3-8b-instruct-v1:0, have achieved 100.0% accuracy with no errors, setting a benchmark for accuracy. The remaining models are ranked based on their accuracy and error rates.\n",
      "\n"
     ]
    }
   ],
   "source": [
    "# send the overall accuracy report to s3\n",
    "txt_buffer = io.StringIO()\n",
    "txt_buffer.write(accuracy_statement)\n",
    "poll_txt_file_content = txt_buffer.getvalue()\n",
    "overall_panel_accuracy_metrics_fpath = os.path.join(METRICS_DIR, OVERALL_POLL_REPORT)\n",
    "write_to_s3(poll_txt_file_content, BUCKET_NAME, \"\", \n",
    "            METRICS_DIR, OVERALL_POLL_REPORT)\n",
    "logger.info(f\"Overall accuracy and error rates results of each model sent to s3://{BUCKET_NAME}/{overall_panel_accuracy_metrics_fpath}\")\n",
    "print(accuracy_statement)"
   ]
  }
 ],
 "metadata": {
  "availableInstances": [
   {
    "_defaultOrder": 0,
    "_isFastLaunch": true,
    "category": "General purpose",
    "gpuNum": 0,
    "hideHardwareSpecs": false,
    "memoryGiB": 4,
    "name": "ml.t3.medium",
    "vcpuNum": 2
   },
   {
    "_defaultOrder": 1,
    "_isFastLaunch": false,
    "category": "General purpose",
    "gpuNum": 0,
    "hideHardwareSpecs": false,
    "memoryGiB": 8,
    "name": "ml.t3.large",
    "vcpuNum": 2
   },
   {
    "_defaultOrder": 2,
    "_isFastLaunch": false,
    "category": "General purpose",
    "gpuNum": 0,
    "hideHardwareSpecs": false,
    "memoryGiB": 16,
    "name": "ml.t3.xlarge",
    "vcpuNum": 4
   },
   {
    "_defaultOrder": 3,
    "_isFastLaunch": false,
    "category": "General purpose",
    "gpuNum": 0,
    "hideHardwareSpecs": false,
    "memoryGiB": 32,
    "name": "ml.t3.2xlarge",
    "vcpuNum": 8
   },
   {
    "_defaultOrder": 4,
    "_isFastLaunch": true,
    "category": "General purpose",
    "gpuNum": 0,
    "hideHardwareSpecs": false,
    "memoryGiB": 8,
    "name": "ml.m5.large",
    "vcpuNum": 2
   },
   {
    "_defaultOrder": 5,
    "_isFastLaunch": false,
    "category": "General purpose",
    "gpuNum": 0,
    "hideHardwareSpecs": false,
    "memoryGiB": 16,
    "name": "ml.m5.xlarge",
    "vcpuNum": 4
   },
   {
    "_defaultOrder": 6,
    "_isFastLaunch": false,
    "category": "General purpose",
    "gpuNum": 0,
    "hideHardwareSpecs": false,
    "memoryGiB": 32,
    "name": "ml.m5.2xlarge",
    "vcpuNum": 8
   },
   {
    "_defaultOrder": 7,
    "_isFastLaunch": false,
    "category": "General purpose",
    "gpuNum": 0,
    "hideHardwareSpecs": false,
    "memoryGiB": 64,
    "name": "ml.m5.4xlarge",
    "vcpuNum": 16
   },
   {
    "_defaultOrder": 8,
    "_isFastLaunch": false,
    "category": "General purpose",
    "gpuNum": 0,
    "hideHardwareSpecs": false,
    "memoryGiB": 128,
    "name": "ml.m5.8xlarge",
    "vcpuNum": 32
   },
   {
    "_defaultOrder": 9,
    "_isFastLaunch": false,
    "category": "General purpose",
    "gpuNum": 0,
    "hideHardwareSpecs": false,
    "memoryGiB": 192,
    "name": "ml.m5.12xlarge",
    "vcpuNum": 48
   },
   {
    "_defaultOrder": 10,
    "_isFastLaunch": false,
    "category": "General purpose",
    "gpuNum": 0,
    "hideHardwareSpecs": false,
    "memoryGiB": 256,
    "name": "ml.m5.16xlarge",
    "vcpuNum": 64
   },
   {
    "_defaultOrder": 11,
    "_isFastLaunch": false,
    "category": "General purpose",
    "gpuNum": 0,
    "hideHardwareSpecs": false,
    "memoryGiB": 384,
    "name": "ml.m5.24xlarge",
    "vcpuNum": 96
   },
   {
    "_defaultOrder": 12,
    "_isFastLaunch": false,
    "category": "General purpose",
    "gpuNum": 0,
    "hideHardwareSpecs": false,
    "memoryGiB": 8,
    "name": "ml.m5d.large",
    "vcpuNum": 2
   },
   {
    "_defaultOrder": 13,
    "_isFastLaunch": false,
    "category": "General purpose",
    "gpuNum": 0,
    "hideHardwareSpecs": false,
    "memoryGiB": 16,
    "name": "ml.m5d.xlarge",
    "vcpuNum": 4
   },
   {
    "_defaultOrder": 14,
    "_isFastLaunch": false,
    "category": "General purpose",
    "gpuNum": 0,
    "hideHardwareSpecs": false,
    "memoryGiB": 32,
    "name": "ml.m5d.2xlarge",
    "vcpuNum": 8
   },
   {
    "_defaultOrder": 15,
    "_isFastLaunch": false,
    "category": "General purpose",
    "gpuNum": 0,
    "hideHardwareSpecs": false,
    "memoryGiB": 64,
    "name": "ml.m5d.4xlarge",
    "vcpuNum": 16
   },
   {
    "_defaultOrder": 16,
    "_isFastLaunch": false,
    "category": "General purpose",
    "gpuNum": 0,
    "hideHardwareSpecs": false,
    "memoryGiB": 128,
    "name": "ml.m5d.8xlarge",
    "vcpuNum": 32
   },
   {
    "_defaultOrder": 17,
    "_isFastLaunch": false,
    "category": "General purpose",
    "gpuNum": 0,
    "hideHardwareSpecs": false,
    "memoryGiB": 192,
    "name": "ml.m5d.12xlarge",
    "vcpuNum": 48
   },
   {
    "_defaultOrder": 18,
    "_isFastLaunch": false,
    "category": "General purpose",
    "gpuNum": 0,
    "hideHardwareSpecs": false,
    "memoryGiB": 256,
    "name": "ml.m5d.16xlarge",
    "vcpuNum": 64
   },
   {
    "_defaultOrder": 19,
    "_isFastLaunch": false,
    "category": "General purpose",
    "gpuNum": 0,
    "hideHardwareSpecs": false,
    "memoryGiB": 384,
    "name": "ml.m5d.24xlarge",
    "vcpuNum": 96
   },
   {
    "_defaultOrder": 20,
    "_isFastLaunch": false,
    "category": "General purpose",
    "gpuNum": 0,
    "hideHardwareSpecs": true,
    "memoryGiB": 0,
    "name": "ml.geospatial.interactive",
    "supportedImageNames": [
     "sagemaker-geospatial-v1-0"
    ],
    "vcpuNum": 0
   },
   {
    "_defaultOrder": 21,
    "_isFastLaunch": true,
    "category": "Compute optimized",
    "gpuNum": 0,
    "hideHardwareSpecs": false,
    "memoryGiB": 4,
    "name": "ml.c5.large",
    "vcpuNum": 2
   },
   {
    "_defaultOrder": 22,
    "_isFastLaunch": false,
    "category": "Compute optimized",
    "gpuNum": 0,
    "hideHardwareSpecs": false,
    "memoryGiB": 8,
    "name": "ml.c5.xlarge",
    "vcpuNum": 4
   },
   {
    "_defaultOrder": 23,
    "_isFastLaunch": false,
    "category": "Compute optimized",
    "gpuNum": 0,
    "hideHardwareSpecs": false,
    "memoryGiB": 16,
    "name": "ml.c5.2xlarge",
    "vcpuNum": 8
   },
   {
    "_defaultOrder": 24,
    "_isFastLaunch": false,
    "category": "Compute optimized",
    "gpuNum": 0,
    "hideHardwareSpecs": false,
    "memoryGiB": 32,
    "name": "ml.c5.4xlarge",
    "vcpuNum": 16
   },
   {
    "_defaultOrder": 25,
    "_isFastLaunch": false,
    "category": "Compute optimized",
    "gpuNum": 0,
    "hideHardwareSpecs": false,
    "memoryGiB": 72,
    "name": "ml.c5.9xlarge",
    "vcpuNum": 36
   },
   {
    "_defaultOrder": 26,
    "_isFastLaunch": false,
    "category": "Compute optimized",
    "gpuNum": 0,
    "hideHardwareSpecs": false,
    "memoryGiB": 96,
    "name": "ml.c5.12xlarge",
    "vcpuNum": 48
   },
   {
    "_defaultOrder": 27,
    "_isFastLaunch": false,
    "category": "Compute optimized",
    "gpuNum": 0,
    "hideHardwareSpecs": false,
    "memoryGiB": 144,
    "name": "ml.c5.18xlarge",
    "vcpuNum": 72
   },
   {
    "_defaultOrder": 28,
    "_isFastLaunch": false,
    "category": "Compute optimized",
    "gpuNum": 0,
    "hideHardwareSpecs": false,
    "memoryGiB": 192,
    "name": "ml.c5.24xlarge",
    "vcpuNum": 96
   },
   {
    "_defaultOrder": 29,
    "_isFastLaunch": true,
    "category": "Accelerated computing",
    "gpuNum": 1,
    "hideHardwareSpecs": false,
    "memoryGiB": 16,
    "name": "ml.g4dn.xlarge",
    "vcpuNum": 4
   },
   {
    "_defaultOrder": 30,
    "_isFastLaunch": false,
    "category": "Accelerated computing",
    "gpuNum": 1,
    "hideHardwareSpecs": false,
    "memoryGiB": 32,
    "name": "ml.g4dn.2xlarge",
    "vcpuNum": 8
   },
   {
    "_defaultOrder": 31,
    "_isFastLaunch": false,
    "category": "Accelerated computing",
    "gpuNum": 1,
    "hideHardwareSpecs": false,
    "memoryGiB": 64,
    "name": "ml.g4dn.4xlarge",
    "vcpuNum": 16
   },
   {
    "_defaultOrder": 32,
    "_isFastLaunch": false,
    "category": "Accelerated computing",
    "gpuNum": 1,
    "hideHardwareSpecs": false,
    "memoryGiB": 128,
    "name": "ml.g4dn.8xlarge",
    "vcpuNum": 32
   },
   {
    "_defaultOrder": 33,
    "_isFastLaunch": false,
    "category": "Accelerated computing",
    "gpuNum": 4,
    "hideHardwareSpecs": false,
    "memoryGiB": 192,
    "name": "ml.g4dn.12xlarge",
    "vcpuNum": 48
   },
   {
    "_defaultOrder": 34,
    "_isFastLaunch": false,
    "category": "Accelerated computing",
    "gpuNum": 1,
    "hideHardwareSpecs": false,
    "memoryGiB": 256,
    "name": "ml.g4dn.16xlarge",
    "vcpuNum": 64
   },
   {
    "_defaultOrder": 35,
    "_isFastLaunch": false,
    "category": "Accelerated computing",
    "gpuNum": 1,
    "hideHardwareSpecs": false,
    "memoryGiB": 61,
    "name": "ml.p3.2xlarge",
    "vcpuNum": 8
   },
   {
    "_defaultOrder": 36,
    "_isFastLaunch": false,
    "category": "Accelerated computing",
    "gpuNum": 4,
    "hideHardwareSpecs": false,
    "memoryGiB": 244,
    "name": "ml.p3.8xlarge",
    "vcpuNum": 32
   },
   {
    "_defaultOrder": 37,
    "_isFastLaunch": false,
    "category": "Accelerated computing",
    "gpuNum": 8,
    "hideHardwareSpecs": false,
    "memoryGiB": 488,
    "name": "ml.p3.16xlarge",
    "vcpuNum": 64
   },
   {
    "_defaultOrder": 38,
    "_isFastLaunch": false,
    "category": "Accelerated computing",
    "gpuNum": 8,
    "hideHardwareSpecs": false,
    "memoryGiB": 768,
    "name": "ml.p3dn.24xlarge",
    "vcpuNum": 96
   },
   {
    "_defaultOrder": 39,
    "_isFastLaunch": false,
    "category": "Memory Optimized",
    "gpuNum": 0,
    "hideHardwareSpecs": false,
    "memoryGiB": 16,
    "name": "ml.r5.large",
    "vcpuNum": 2
   },
   {
    "_defaultOrder": 40,
    "_isFastLaunch": false,
    "category": "Memory Optimized",
    "gpuNum": 0,
    "hideHardwareSpecs": false,
    "memoryGiB": 32,
    "name": "ml.r5.xlarge",
    "vcpuNum": 4
   },
   {
    "_defaultOrder": 41,
    "_isFastLaunch": false,
    "category": "Memory Optimized",
    "gpuNum": 0,
    "hideHardwareSpecs": false,
    "memoryGiB": 64,
    "name": "ml.r5.2xlarge",
    "vcpuNum": 8
   },
   {
    "_defaultOrder": 42,
    "_isFastLaunch": false,
    "category": "Memory Optimized",
    "gpuNum": 0,
    "hideHardwareSpecs": false,
    "memoryGiB": 128,
    "name": "ml.r5.4xlarge",
    "vcpuNum": 16
   },
   {
    "_defaultOrder": 43,
    "_isFastLaunch": false,
    "category": "Memory Optimized",
    "gpuNum": 0,
    "hideHardwareSpecs": false,
    "memoryGiB": 256,
    "name": "ml.r5.8xlarge",
    "vcpuNum": 32
   },
   {
    "_defaultOrder": 44,
    "_isFastLaunch": false,
    "category": "Memory Optimized",
    "gpuNum": 0,
    "hideHardwareSpecs": false,
    "memoryGiB": 384,
    "name": "ml.r5.12xlarge",
    "vcpuNum": 48
   },
   {
    "_defaultOrder": 45,
    "_isFastLaunch": false,
    "category": "Memory Optimized",
    "gpuNum": 0,
    "hideHardwareSpecs": false,
    "memoryGiB": 512,
    "name": "ml.r5.16xlarge",
    "vcpuNum": 64
   },
   {
    "_defaultOrder": 46,
    "_isFastLaunch": false,
    "category": "Memory Optimized",
    "gpuNum": 0,
    "hideHardwareSpecs": false,
    "memoryGiB": 768,
    "name": "ml.r5.24xlarge",
    "vcpuNum": 96
   },
   {
    "_defaultOrder": 47,
    "_isFastLaunch": false,
    "category": "Accelerated computing",
    "gpuNum": 1,
    "hideHardwareSpecs": false,
    "memoryGiB": 16,
    "name": "ml.g5.xlarge",
    "vcpuNum": 4
   },
   {
    "_defaultOrder": 48,
    "_isFastLaunch": false,
    "category": "Accelerated computing",
    "gpuNum": 1,
    "hideHardwareSpecs": false,
    "memoryGiB": 32,
    "name": "ml.g5.2xlarge",
    "vcpuNum": 8
   },
   {
    "_defaultOrder": 49,
    "_isFastLaunch": false,
    "category": "Accelerated computing",
    "gpuNum": 1,
    "hideHardwareSpecs": false,
    "memoryGiB": 64,
    "name": "ml.g5.4xlarge",
    "vcpuNum": 16
   },
   {
    "_defaultOrder": 50,
    "_isFastLaunch": false,
    "category": "Accelerated computing",
    "gpuNum": 1,
    "hideHardwareSpecs": false,
    "memoryGiB": 128,
    "name": "ml.g5.8xlarge",
    "vcpuNum": 32
   },
   {
    "_defaultOrder": 51,
    "_isFastLaunch": false,
    "category": "Accelerated computing",
    "gpuNum": 1,
    "hideHardwareSpecs": false,
    "memoryGiB": 256,
    "name": "ml.g5.16xlarge",
    "vcpuNum": 64
   },
   {
    "_defaultOrder": 52,
    "_isFastLaunch": false,
    "category": "Accelerated computing",
    "gpuNum": 4,
    "hideHardwareSpecs": false,
    "memoryGiB": 192,
    "name": "ml.g5.12xlarge",
    "vcpuNum": 48
   },
   {
    "_defaultOrder": 53,
    "_isFastLaunch": false,
    "category": "Accelerated computing",
    "gpuNum": 4,
    "hideHardwareSpecs": false,
    "memoryGiB": 384,
    "name": "ml.g5.24xlarge",
    "vcpuNum": 96
   },
   {
    "_defaultOrder": 54,
    "_isFastLaunch": false,
    "category": "Accelerated computing",
    "gpuNum": 8,
    "hideHardwareSpecs": false,
    "memoryGiB": 768,
    "name": "ml.g5.48xlarge",
    "vcpuNum": 192
   },
   {
    "_defaultOrder": 55,
    "_isFastLaunch": false,
    "category": "Accelerated computing",
    "gpuNum": 8,
    "hideHardwareSpecs": false,
    "memoryGiB": 1152,
    "name": "ml.p4d.24xlarge",
    "vcpuNum": 96
   },
   {
    "_defaultOrder": 56,
    "_isFastLaunch": false,
    "category": "Accelerated computing",
    "gpuNum": 8,
    "hideHardwareSpecs": false,
    "memoryGiB": 1152,
    "name": "ml.p4de.24xlarge",
    "vcpuNum": 96
   },
   {
    "_defaultOrder": 57,
    "_isFastLaunch": false,
    "category": "Accelerated computing",
    "gpuNum": 0,
    "hideHardwareSpecs": false,
    "memoryGiB": 32,
    "name": "ml.trn1.2xlarge",
    "vcpuNum": 8
   },
   {
    "_defaultOrder": 58,
    "_isFastLaunch": false,
    "category": "Accelerated computing",
    "gpuNum": 0,
    "hideHardwareSpecs": false,
    "memoryGiB": 512,
    "name": "ml.trn1.32xlarge",
    "vcpuNum": 128
   },
   {
    "_defaultOrder": 59,
    "_isFastLaunch": false,
    "category": "Accelerated computing",
    "gpuNum": 0,
    "hideHardwareSpecs": false,
    "memoryGiB": 512,
    "name": "ml.trn1n.32xlarge",
    "vcpuNum": 128
   }
  ],
  "instance_type": "ml.c5.large",
  "kernelspec": {
   "display_name": "conda_fmbench",
   "language": "python",
   "name": "conda_fmbench"
  },
  "language_info": {
   "codemirror_mode": {
    "name": "ipython",
    "version": 3
   },
   "file_extension": ".py",
   "mimetype": "text/x-python",
   "name": "python",
   "nbconvert_exporter": "python",
   "pygments_lexer": "ipython3",
   "version": "3.11.9"
  }
 },
 "nbformat": 4,
 "nbformat_minor": 4
}
