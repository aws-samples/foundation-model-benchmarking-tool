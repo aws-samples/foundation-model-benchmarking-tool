{
 "cells": [
  {
   "cell_type": "markdown",
   "metadata": {},
   "source": [
    "## Get Evaluations on all inference files and gather findings on quantitative metrics (such as _Cosine Similarity_) and subjective metrics on various criteria using _LLM as a judge_.\n",
    "---------------------\n",
    "*This notebook works best with the conda_python3 kernel on a ml.t3.medium machine*.\n",
    "\n",
    "#### This step of the solution focusses on getting evaluations on the quality of resposes. It does so by gathering the following information and performing the steps below:\n",
    "\n",
    "- **Gets all per inference request file**: This step first accesses and gets all of the per inference request files into a dataframe, containing the response from the LLM as well as the ground truth, if any is provided. \n",
    "\n",
    "- **Generates quantitative metrics for evaluation**: Calculate quantitative metrics to measure similarity and accuracy, for example _Cosine Similarity_. This helps in getting a quantitative overall score to the entire dataset in terms of which model generates outputs that are most similar and accurate to the ground truth (if any is provided). With this statistic, customers and users of the open source community can make business level judgements. \n",
    "\n",
    "- **Uses an _LLM as a judge_ approach to get subjective evaluations**: This step uses a Large Language Model (LLM) that _acts as a judge_ where we use an LLM to evaluate the output of other LLMs that FMBench uses during the inference step. This steps helps in the following criteria\n",
    "\n",
    "    1. Assists the users with a subjective evaluation to make the evaluation process more streamlined and personalized for their use case\n",
    "    \n",
    "    2. Generates an evaluation rating on each task on a scale of 1-5 and acculumates the overall rating across multiple evaluation criteria\n",
    "\n",
    "- **Ground Truth Evaluation**: WIP"
   ]
  },
  {
   "cell_type": "markdown",
   "metadata": {},
   "source": [
    "#### Import all of the necessary libraries below to run this notebook"
   ]
  },
  {
   "cell_type": "code",
   "execution_count": 1,
   "metadata": {
    "tags": []
   },
   "outputs": [],
   "source": [
    "# if interactive mode is set to no -> pickup fmbench from Python installation path\n",
    "# if interactive mode is set to yes -> pickup fmbench from the current path (one level above this notebook)\n",
    "# if interactive mode is not defined -> pickup fmbench from the current path (one level above this notebook)\n",
    "# the premise is that if run non-interactively then it can only be run through main.py which will set interactive mode to no\n",
    "import os\n",
    "import sys\n",
    "if os.environ.get(\"INTERACTIVE_MODE_SET\", \"yes\") == \"yes\":\n",
    "    sys.path.append(os.path.dirname(os.getcwd()))"
   ]
  },
  {
   "cell_type": "code",
   "execution_count": 2,
   "metadata": {
    "tags": []
   },
   "outputs": [
    {
     "name": "stdout",
     "output_type": "stream",
     "text": [
      "region_name=us-west-2\n"
     ]
    },
    {
     "name": "stderr",
     "output_type": "stream",
     "text": [
      "You are using the default legacy behaviour of the <class 'transformers.models.llama.tokenization_llama_fast.LlamaTokenizerFast'>. This is expected, and simply means that the `legacy` (previous) behavior will be used so nothing changes for you. If you want to use the new behaviour, set `legacy=False`. This should only be set if you understand what it means, and thoroughly read the reason why this was added as explained in https://github.com/huggingface/transformers/pull/24565\n"
     ]
    },
    {
     "name": "stdout",
     "output_type": "stream",
     "text": [
      "role_arn_from_env=None, using current sts caller identity to set arn_string\n",
      "the sts role is an assumed role, setting arn_string to arn:aws:iam::387192758086:role/fmbench-stack-us-west-2-role\n",
      "config file current -> configs/bedrock/config-bedrock.yml, None\n",
      "loaded config: {'general': {'name': 'fmbench-bedrock', 'model_name': 'FMs available in Amazon Bedrock'}, 'aws': {'region': 'us-west-2', 'sagemaker_execution_role': 'arn:aws:iam::387192758086:role/fmbench-stack-us-west-2-role', 'bucket': 'sagemaker-fmbench-write-us-west-2-387192758086'}, 'dir_paths': {'data_prefix': 'data', 'prompts_prefix': 'prompts', 'all_prompts_file': 'all_prompts.csv', 'metrics_dir': 'metrics', 'models_dir': 'models', 'metadata_dir': 'metadata'}, 's3_read_data': {'read_bucket': 'sagemaker-fmbench-read-us-west-2-387192758086', 'scripts_prefix': 'scripts', 'script_files': ['hf_token.txt'], 'eval_prompts_dir': 'eval_criteria_prompts', 'eval_prompt_template_dir_list': ['claude_eval_prompt_templates', 'llama3_eval_prompt_templates', 'cohere_eval_prompt_templates'], 'eval_instructions_dir': 'eval_instructions', 'eval_instructions_files': ['evaluation_instructions_max_voting.txt', 'evaluation_instructions_avg_pooling.txt'], 'configs_prefix': 'configs', 'config_files': ['pricing.yml'], 'source_data_prefix': 'source_data', 'source_data_files': ['2wikimqa_e.jsonl', '2wikimqa.jsonl', 'hotpotqa_e.jsonl', 'hotpotqa.jsonl', 'narrativeqa.jsonl', 'triviaqa_e.jsonl', 'triviaqa.jsonl'], 'tokenizer_prefix': 'llama2_tokenizer', 'prompt_template_dir': 'prompt_template', 'prompt_template_file': 'prompt_template_llama2.txt'}, 'run_steps': {'0_setup.ipynb': True, '1_generate_data.ipynb': True, '2_deploy_model.ipynb': False, '3_run_inference.ipynb': True, '4_get_evaluations.ipynb': False, '5_model_metric_analysis.ipynb': False, '6_cleanup.ipynb': False}, 'datasets': {'prompt_template_keys': ['input', 'context'], 'max_iters_per_combination': 105, 'min_iters_per_combination': 5, 'filters': [{'language': 'en', 'min_length_in_tokens': 1, 'max_length_in_tokens': 500, 'payload_file': 'payload_en_1-500.jsonl'}, {'language': 'en', 'min_length_in_tokens': 500, 'max_length_in_tokens': 1000, 'payload_file': 'payload_en_500-1000.jsonl'}, {'language': 'en', 'min_length_in_tokens': 1000, 'max_length_in_tokens': 2000, 'payload_file': 'payload_en_1000-2000.jsonl'}, {'language': 'en', 'min_length_in_tokens': 2000, 'max_length_in_tokens': 3000, 'payload_file': 'payload_en_2000-3000.jsonl'}, {'language': 'en', 'min_length_in_tokens': 3000, 'max_length_in_tokens': 3840, 'payload_file': 'payload_en_3000-3840.jsonl'}]}, 'model_evaluations': {'ground_truth_col_key': 'answers', 'PoLL_Composition_and_Voting': {'method': 'max_voting'}, 'quantitative_eval_info': {'embeddings_model_id': {'model_id': 'sentence-transformers/all-mpnet-base-v2', 'is_hf': True}}, 'subjective_eval_info': {'judge_panel_list': [{'model_id': 'anthropic.claude-3-haiku-20240307-v1:0', 'eval_prompt_template_dir': 'claude_eval_prompt_templates', 'eval_prompt_template_name_prefix': 'claude_eval_'}, {'model_id': 'meta.llama3-70b-instruct-v1:0', 'eval_prompt_template_dir': 'llama3_eval_prompt_templates', 'eval_prompt_template_name_prefix': 'llama3_eval_'}, {'model_id': 'cohere.command-r-v1:0', 'eval_prompt_template_dir': 'cohere_eval_prompt_templates', 'eval_prompt_template_name_prefix': 'cohere_eval_'}], 'run_parallel_inference_count': 10, 'inference_parameters': {'temperature': 0.1, 'max_tokens': 300, 'top_p': 0.92, 'caching': False}}}, 'metrics': {'dataset_of_interest': 'en_500-1000'}, 'pricing': 'pricing.yml', 'inference_parameters': {'bedrock': {'temperature': 0.1, 'max_tokens': 100, 'top_p': 0.92, 'caching': False}}, 'experiments': [{'name': 'mistral.mistral-7b-instruct-v0:2', 'model_id': 'mistral.mistral-7b-instruct-v0:2', 'model_version': '*', 'model_name': 'mistral.mistral-7b-instruct-v0:2', 'ep_name': 'mistral.mistral-7b-instruct-v0:2', 'instance_type': 'mistral.mistral-7b-instruct-v0:2', 'image_uri': None, 'deploy': False, 'instance_count': 1, 'deployment_script': None, 'inference_script': 'bedrock_predictor.py', 'inference_spec': {'split_input_and_parameters': False, 'parameter_set': 'bedrock', 'parameters': {'temperature': 0.1, 'max_tokens': 100, 'top_p': 0.92, 'caching': False}}, 'payload_files': ['payload_en_1-500.jsonl', 'payload_en_500-1000.jsonl'], 'concurrency_levels': [1, 2], 'env': None, 'bucket': 'sagemaker-fmbench-write-us-west-2-387192758086'}, {'name': 'mistral.mixtral-8x7b-instruct-v0:1', 'model_id': 'mistral.mixtral-8x7b-instruct-v0:1', 'model_version': '*', 'model_name': 'mistral.mixtral-8x7b-instruct-v0:1', 'ep_name': 'mistral.mixtral-8x7b-instruct-v0:1', 'instance_type': 'mistral.mixtral-8x7b-instruct-v0:1', 'image_uri': None, 'deploy': False, 'instance_count': 1, 'deployment_script': None, 'inference_script': 'bedrock_predictor.py', 'inference_spec': {'split_input_and_parameters': False, 'parameter_set': 'bedrock', 'parameters': {'temperature': 0.1, 'max_tokens': 100, 'top_p': 0.92, 'caching': False}}, 'payload_files': ['payload_en_1-500.jsonl', 'payload_en_500-1000.jsonl'], 'concurrency_levels': [1, 2], 'env': None, 'bucket': 'sagemaker-fmbench-write-us-west-2-387192758086'}, {'name': 'meta.llama2-13b-chat-v1', 'model_id': 'meta.llama2-13b-chat-v1', 'model_version': '*', 'model_name': 'meta.llama2-13b-chat-v1', 'ep_name': 'meta.llama2-13b-chat-v1', 'instance_type': 'meta.llama2-13b-chat-v1', 'image_uri': None, 'deploy': False, 'instance_count': None, 'deployment_script': None, 'inference_script': 'bedrock_predictor.py', 'inference_spec': {'split_input_and_parameters': False, 'parameter_set': 'bedrock', 'parameters': {'temperature': 0.1, 'max_tokens': 100, 'top_p': 0.92, 'caching': False}}, 'payload_files': ['payload_en_1-500.jsonl', 'payload_en_500-1000.jsonl'], 'concurrency_levels': [1, 2], 'env': None, 'bucket': 'sagemaker-fmbench-write-us-west-2-387192758086'}, {'name': 'meta.llama2-70b-chat-v1', 'model_id': 'meta.llama2-70b-chat-v1', 'model_version': '*', 'model_name': 'meta.llama2-70b-chat-v1', 'ep_name': 'meta.llama2-70b-chat-v1', 'instance_type': 'meta.llama2-70b-chat-v1', 'image_uri': None, 'deploy': False, 'instance_count': None, 'deployment_script': None, 'inference_script': 'bedrock_predictor.py', 'inference_spec': {'split_input_and_parameters': False, 'parameter_set': 'bedrock', 'parameters': {'temperature': 0.1, 'max_tokens': 100, 'top_p': 0.92, 'caching': False}}, 'payload_files': ['payload_en_1-500.jsonl', 'payload_en_500-1000.jsonl'], 'concurrency_levels': [1, 2], 'env': None, 'bucket': 'sagemaker-fmbench-write-us-west-2-387192758086'}, {'name': 'amazon.titan-text-lite-v1', 'model_id': 'amazon.titan-text-lite-v1', 'model_version': '*', 'model_name': 'amazon.titan-text-lite-v1', 'ep_name': 'amazon.titan-text-lite-v1', 'instance_type': 'amazon.titan-text-lite-v1', 'image_uri': None, 'deploy': False, 'instance_count': None, 'deployment_script': None, 'inference_script': 'bedrock_predictor.py', 'inference_spec': {'split_input_and_parameters': False, 'parameter_set': 'bedrock', 'parameters': {'temperature': 0.1, 'max_tokens': 100, 'top_p': 0.92, 'caching': False}}, 'payload_files': ['payload_en_1-500.jsonl', 'payload_en_500-1000.jsonl'], 'concurrency_levels': [1, 2], 'env': None, 'bucket': 'sagemaker-fmbench-write-us-west-2-387192758086'}, {'name': 'amazon.titan-text-express-v1', 'model_id': 'amazon.titan-text-express-v1', 'model_version': '*', 'model_name': 'amazon.titan-text-express-v1', 'ep_name': 'amazon.titan-text-express-v1', 'instance_type': 'amazon.titan-text-express-v1', 'image_uri': None, 'deploy': False, 'instance_count': None, 'deployment_script': None, 'inference_script': 'bedrock_predictor.py', 'inference_spec': {'split_input_and_parameters': False, 'parameter_set': 'bedrock', 'parameters': {'temperature': 0.1, 'max_tokens': 100, 'top_p': 0.92, 'caching': False}}, 'payload_files': ['payload_en_1-500.jsonl', 'payload_en_500-1000.jsonl'], 'concurrency_levels': [1, 2], 'env': None, 'bucket': 'sagemaker-fmbench-write-us-west-2-387192758086'}, {'name': 'anthropic.claude-3-sonnet-20240229-v1:0', 'model_id': 'anthropic.claude-3-sonnet-20240229-v1:0', 'model_version': '*', 'model_name': 'anthropic.claude-3-sonnet-20240229-v1:0', 'ep_name': 'anthropic.claude-3-sonnet-20240229-v1:0', 'instance_type': 'anthropic.claude-3-sonnet-20240229-v1:0', 'image_uri': None, 'deploy': False, 'instance_count': None, 'deployment_script': None, 'inference_script': 'bedrock_predictor.py', 'inference_spec': {'split_input_and_parameters': False, 'parameter_set': 'bedrock', 'parameters': {'temperature': 0.1, 'max_tokens': 100, 'top_p': 0.92, 'caching': False}}, 'payload_files': ['payload_en_1-500.jsonl', 'payload_en_500-1000.jsonl'], 'concurrency_levels': [1, 2], 'env': None, 'bucket': 'sagemaker-fmbench-write-us-west-2-387192758086'}, {'name': 'anthropic.claude-3-haiku-20240307-v1:0', 'model_id': 'anthropic.claude-3-haiku-20240307-v1:0', 'model_version': '*', 'model_name': 'anthropic.claude-3-haiku-20240307-v1:0', 'ep_name': 'anthropic.claude-3-haiku-20240307-v1:0', 'instance_type': 'anthropic.claude-3-haiku-20240307-v1:0', 'image_uri': None, 'deploy': False, 'instance_count': None, 'deployment_script': None, 'inference_script': 'bedrock_predictor.py', 'inference_spec': {'split_input_and_parameters': False, 'parameter_set': 'bedrock', 'parameters': {'temperature': 0.1, 'max_tokens': 100, 'top_p': 0.92, 'caching': False}}, 'payload_files': ['payload_en_1-500.jsonl', 'payload_en_500-1000.jsonl'], 'concurrency_levels': [1, 2], 'env': None, 'bucket': 'sagemaker-fmbench-write-us-west-2-387192758086'}, {'name': 'cohere.command-text-v14', 'model_id': 'cohere.command-text-v14', 'model_version': '*', 'model_name': 'cohere.command-text-v14', 'ep_name': 'cohere.command-text-v14', 'instance_type': 'cohere.command-text-v14', 'image_uri': None, 'deploy': False, 'instance_count': None, 'deployment_script': None, 'inference_script': 'bedrock_predictor.py', 'inference_spec': {'split_input_and_parameters': False, 'parameter_set': 'bedrock', 'parameters': {'temperature': 0.1, 'max_tokens': 100, 'top_p': 0.92, 'caching': False}}, 'payload_files': ['payload_en_1-500.jsonl', 'payload_en_500-1000.jsonl'], 'concurrency_levels': [1, 2], 'env': None, 'bucket': 'sagemaker-fmbench-write-us-west-2-387192758086'}, {'name': 'cohere.command-light-text-v14', 'model_id': 'cohere.command-light-text-v14', 'model_version': '*', 'model_name': 'cohere.command-light-text-v14', 'ep_name': 'cohere.command-light-text-v14', 'instance_type': 'cohere.command-light-text-v14', 'image_uri': None, 'deploy': False, 'instance_count': None, 'deployment_script': None, 'inference_script': 'bedrock_predictor.py', 'inference_spec': {'split_input_and_parameters': False, 'parameter_set': 'bedrock', 'parameters': {'temperature': 0.1, 'max_tokens': 100, 'top_p': 0.92, 'caching': False}}, 'payload_files': ['payload_en_1-500.jsonl', 'payload_en_500-1000.jsonl'], 'concurrency_levels': [1, 2], 'env': None, 'bucket': 'sagemaker-fmbench-write-us-west-2-387192758086'}, {'name': 'ai21.j2-mid-v1', 'model_id': 'ai21.j2-mid-v1', 'model_version': '*', 'model_name': 'ai21.j2-mid-v1', 'ep_name': 'ai21.j2-mid-v1', 'instance_type': 'ai21.j2-mid-v1', 'image_uri': None, 'deploy': False, 'instance_count': None, 'deployment_script': None, 'inference_script': 'bedrock_predictor.py', 'inference_spec': {'split_input_and_parameters': False, 'parameter_set': 'bedrock', 'parameters': {'temperature': 0.1, 'max_tokens': 100, 'top_p': 0.92, 'caching': False}}, 'payload_files': ['payload_en_1-500.jsonl', 'payload_en_500-1000.jsonl'], 'concurrency_levels': [1, 2], 'env': None, 'bucket': 'sagemaker-fmbench-write-us-west-2-387192758086'}, {'name': 'ai21.j2-ultra-v1', 'model_id': 'ai21.j2-ultra-v1', 'model_version': '*', 'model_name': 'ai21.j2-ultra-v1', 'ep_name': 'ai21.j2-ultra-v1', 'instance_type': 'ai21.j2-ultra-v1', 'image_uri': None, 'deploy': False, 'instance_count': None, 'deployment_script': None, 'inference_script': 'bedrock_predictor.py', 'inference_spec': {'split_input_and_parameters': False, 'parameter_set': 'bedrock', 'parameters': {'temperature': 0.1, 'max_tokens': 100, 'top_p': 0.92, 'caching': False}}, 'payload_files': ['payload_en_1-500.jsonl', 'payload_en_500-1000.jsonl'], 'concurrency_levels': [1, 2], 'env': None, 'bucket': 'sagemaker-fmbench-write-us-west-2-387192758086'}], 'report': {'latency_budget': 2, 'cost_per_10k_txn_budget': 50, 'error_rate_budget': 0, 'per_inference_request_file': 'per_inference_request_results.csv', 'all_metrics_file': 'all_metrics.csv', 'txn_count_for_showing_cost': 10000, 'v_shift_w_single_instance': 0.025, 'v_shift_w_gt_one_instance': 0.025}}\n",
      "CustomTokenizer, based on HF transformers, sagemaker-fmbench-read-us-west-2-387192758086 prefix: llama2_tokenizer local_dir: tokenizer\n",
      "CustomTokenizer, all_files = [PosixPath('tokenizer/tokenizer.json'), PosixPath('tokenizer/config.json')]\n",
      "loading the provided tokenizer from local_dir=tokenizer, abs_path=/home/ec2-user/SageMaker/foundation-model-benchmarking-tool/src/fmbench/tokenizer\n",
      "successfully loaded the tokenizer using AutoTokenizer.from_pretrained\n"
     ]
    }
   ],
   "source": [
    "import io\n",
    "import ray\n",
    "import math\n",
    "import time\n",
    "import json\n",
    "import torch\n",
    "import tempfile\n",
    "import datetime\n",
    "import matplotlib\n",
    "import numpy as np\n",
    "import pandas as pd\n",
    "from numpy import dot\n",
    "from numpy.linalg import norm\n",
    "from litellm import completion\n",
    "from sentence_transformers import SentenceTransformer\n",
    "\n",
    "# Import seaborn and other related libraries for visualizations and plotting charts\n",
    "import seaborn as sns\n",
    "from pathlib import Path\n",
    "from tomark import Tomark\n",
    "from fmbench.utils import *\n",
    "from fmbench.globals import *\n",
    "from datetime import datetime\n",
    "from datetime import timezone\n",
    "from dateutil.parser import parse\n",
    "from typing import List, Optional, Dict\n",
    "import importlib.resources as pkg_resources\n",
    "from fmbench import __version__ as fmbench_version"
   ]
  },
  {
   "cell_type": "code",
   "execution_count": 3,
   "metadata": {
    "tags": []
   },
   "outputs": [],
   "source": [
    "logging.basicConfig(format='[%(asctime)s] p%(process)s {%(filename)s:%(lineno)d} %(levelname)s - %(message)s', level=logging.INFO)\n",
    "logger = logging.getLogger(__name__)"
   ]
  },
  {
   "cell_type": "code",
   "execution_count": 4,
   "metadata": {
    "tags": []
   },
   "outputs": [
    {
     "name": "stderr",
     "output_type": "stream",
     "text": [
      "2024-07-12 01:37:29,459\tINFO worker.py:1788 -- Started a local Ray instance.\n"
     ]
    },
    {
     "data": {
      "application/vnd.jupyter.widget-view+json": {
       "model_id": "59ebccb8066f4c4897f2840877e5edad",
       "version_major": 2,
       "version_minor": 0
      },
      "text/html": [
       "<div class=\"lm-Widget p-Widget lm-Panel p-Panel jp-Cell-outputWrapper\">\n",
       "    <div style=\"margin-left: 50px;display: flex;flex-direction: row;align-items: center\">\n",
       "        <div class=\"jp-RenderedHTMLCommon\" style=\"display: flex; flex-direction: row;\">\n",
       "  <svg viewBox=\"0 0 567 224\" fill=\"none\" xmlns=\"http://www.w3.org/2000/svg\" style=\"height: 3em;\">\n",
       "    <g clip-path=\"url(#clip0_4338_178347)\">\n",
       "        <path d=\"M341.29 165.561H355.29L330.13 129.051C345.63 123.991 354.21 112.051 354.21 94.2307C354.21 71.3707 338.72 58.1807 311.88 58.1807H271V165.561H283.27V131.661H311.8C314.25 131.661 316.71 131.501 319.01 131.351L341.25 165.561H341.29ZM283.29 119.851V70.0007H311.82C331.3 70.0007 342.34 78.2907 342.34 94.5507C342.34 111.271 331.34 119.861 311.82 119.861L283.29 119.851ZM451.4 138.411L463.4 165.561H476.74L428.74 58.1807H416L367.83 165.561H380.83L392.83 138.411H451.4ZM446.19 126.601H398L422 72.1407L446.24 126.601H446.19ZM526.11 128.741L566.91 58.1807H554.35L519.99 114.181L485.17 58.1807H472.44L514.01 129.181V165.541H526.13V128.741H526.11Z\" fill=\"var(--jp-ui-font-color0)\"/>\n",
       "        <path d=\"M82.35 104.44C84.0187 97.8827 87.8248 92.0678 93.1671 87.9146C98.5094 83.7614 105.083 81.5067 111.85 81.5067C118.617 81.5067 125.191 83.7614 130.533 87.9146C135.875 92.0678 139.681 97.8827 141.35 104.44H163.75C164.476 101.562 165.622 98.8057 167.15 96.2605L127.45 56.5605C121.071 60.3522 113.526 61.6823 106.235 60.3005C98.9443 58.9187 92.4094 54.9203 87.8602 49.0574C83.3109 43.1946 81.0609 35.8714 81.5332 28.4656C82.0056 21.0599 85.1679 14.0819 90.4252 8.8446C95.6824 3.60726 102.672 0.471508 110.08 0.0272655C117.487 -0.416977 124.802 1.86091 130.647 6.4324C136.493 11.0039 140.467 17.5539 141.821 24.8501C143.175 32.1463 141.816 39.6859 138 46.0505L177.69 85.7505C182.31 82.9877 187.58 81.4995 192.962 81.4375C198.345 81.3755 203.648 82.742 208.33 85.3976C213.012 88.0532 216.907 91.9029 219.616 96.5544C222.326 101.206 223.753 106.492 223.753 111.875C223.753 117.258 222.326 122.545 219.616 127.197C216.907 131.848 213.012 135.698 208.33 138.353C203.648 141.009 198.345 142.375 192.962 142.313C187.58 142.251 182.31 140.763 177.69 138L138 177.7C141.808 184.071 143.155 191.614 141.79 198.91C140.424 206.205 136.44 212.75 130.585 217.313C124.731 221.875 117.412 224.141 110.004 223.683C102.596 223.226 95.6103 220.077 90.3621 214.828C85.1139 209.58 81.9647 202.595 81.5072 195.187C81.0497 187.779 83.3154 180.459 87.878 174.605C92.4405 168.751 98.9853 164.766 106.281 163.401C113.576 162.035 121.119 163.383 127.49 167.19L167.19 127.49C165.664 124.941 164.518 122.182 163.79 119.3H141.39C139.721 125.858 135.915 131.673 130.573 135.826C125.231 139.98 118.657 142.234 111.89 142.234C105.123 142.234 98.5494 139.98 93.2071 135.826C87.8648 131.673 84.0587 125.858 82.39 119.3H60C58.1878 126.495 53.8086 132.78 47.6863 136.971C41.5641 141.163 34.1211 142.972 26.7579 142.059C19.3947 141.146 12.6191 137.574 7.70605 132.014C2.79302 126.454 0.0813599 119.29 0.0813599 111.87C0.0813599 104.451 2.79302 97.2871 7.70605 91.7272C12.6191 86.1673 19.3947 82.5947 26.7579 81.6817C34.1211 80.7686 41.5641 82.5781 47.6863 86.7696C53.8086 90.9611 58.1878 97.2456 60 104.44H82.35ZM100.86 204.32C103.407 206.868 106.759 208.453 110.345 208.806C113.93 209.159 117.527 208.258 120.522 206.256C123.517 204.254 125.725 201.276 126.771 197.828C127.816 194.38 127.633 190.677 126.253 187.349C124.874 184.021 122.383 181.274 119.205 179.577C116.027 177.88 112.359 177.337 108.826 178.042C105.293 178.746 102.113 180.654 99.8291 183.44C97.5451 186.226 96.2979 189.718 96.3 193.32C96.2985 195.364 96.7006 197.388 97.4831 199.275C98.2656 201.163 99.4132 202.877 100.86 204.32ZM204.32 122.88C206.868 120.333 208.453 116.981 208.806 113.396C209.159 109.811 208.258 106.214 206.256 103.219C204.254 100.223 201.275 98.0151 197.827 96.97C194.38 95.9249 190.676 96.1077 187.348 97.4873C184.02 98.8669 181.274 101.358 179.577 104.536C177.879 107.714 177.337 111.382 178.041 114.915C178.746 118.448 180.653 121.627 183.439 123.911C186.226 126.195 189.717 127.443 193.32 127.44C195.364 127.443 197.388 127.042 199.275 126.259C201.163 125.476 202.878 124.328 204.32 122.88ZM122.88 19.4205C120.333 16.8729 116.981 15.2876 113.395 14.9347C109.81 14.5817 106.213 15.483 103.218 17.4849C100.223 19.4868 98.0146 22.4654 96.9696 25.9131C95.9245 29.3608 96.1073 33.0642 97.4869 36.3922C98.8665 39.7202 101.358 42.4668 104.535 44.1639C107.713 45.861 111.381 46.4036 114.914 45.6992C118.447 44.9949 121.627 43.0871 123.911 40.301C126.195 37.515 127.442 34.0231 127.44 30.4205C127.44 28.3772 127.038 26.3539 126.255 24.4664C125.473 22.5788 124.326 20.8642 122.88 19.4205ZM19.42 100.86C16.8725 103.408 15.2872 106.76 14.9342 110.345C14.5813 113.93 15.4826 117.527 17.4844 120.522C19.4863 123.518 22.4649 125.726 25.9127 126.771C29.3604 127.816 33.0638 127.633 36.3918 126.254C39.7198 124.874 42.4664 122.383 44.1635 119.205C45.8606 116.027 46.4032 112.359 45.6988 108.826C44.9944 105.293 43.0866 102.114 40.3006 99.8296C37.5145 97.5455 34.0227 96.2983 30.42 96.3005C26.2938 96.3018 22.337 97.9421 19.42 100.86ZM100.86 100.86C98.3125 103.408 96.7272 106.76 96.3742 110.345C96.0213 113.93 96.9226 117.527 98.9244 120.522C100.926 123.518 103.905 125.726 107.353 126.771C110.8 127.816 114.504 127.633 117.832 126.254C121.16 124.874 123.906 122.383 125.604 119.205C127.301 116.027 127.843 112.359 127.139 108.826C126.434 105.293 124.527 102.114 121.741 99.8296C118.955 97.5455 115.463 96.2983 111.86 96.3005C109.817 96.299 107.793 96.701 105.905 97.4835C104.018 98.2661 102.303 99.4136 100.86 100.86Z\" fill=\"#00AEEF\"/>\n",
       "    </g>\n",
       "    <defs>\n",
       "        <clipPath id=\"clip0_4338_178347\">\n",
       "            <rect width=\"566.93\" height=\"223.75\" fill=\"white\"/>\n",
       "        </clipPath>\n",
       "    </defs>\n",
       "  </svg>\n",
       "</div>\n",
       "\n",
       "        <table class=\"jp-RenderedHTMLCommon\" style=\"border-collapse: collapse;color: var(--jp-ui-font-color1);font-size: var(--jp-ui-font-size1);\">\n",
       "    <tr>\n",
       "        <td style=\"text-align: left\"><b>Python version:</b></td>\n",
       "        <td style=\"text-align: left\"><b>3.11.9</b></td>\n",
       "    </tr>\n",
       "    <tr>\n",
       "        <td style=\"text-align: left\"><b>Ray version:</b></td>\n",
       "        <td style=\"text-align: left\"><b>2.32.0</b></td>\n",
       "    </tr>\n",
       "    \n",
       "</table>\n",
       "\n",
       "    </div>\n",
       "</div>\n"
      ],
      "text/plain": [
       "RayContext(dashboard_url='', python_version='3.11.9', ray_version='2.32.0', ray_commit='607f2f30f5f21543b6a5568ee77ea779eeba30a8')"
      ]
     },
     "execution_count": 4,
     "metadata": {},
     "output_type": "execute_result"
    },
    {
     "name": "stdout",
     "output_type": "stream",
     "text": [
      "\u001b[36m(async_run_eval pid=14090)\u001b[0m async_run_eval, i=4, total=10, judge_model_info=anthropic.claude-3-haiku-20240307-v1:0, eval_method: max_voting, uuid: 715d1d30b18244279ff5c0fbf112f245\n",
      "\u001b[36m(async_run_eval pid=14090)\u001b[0m run_eval, row 4/10, judge_model_id=anthropic.claude-3-haiku-20240307-v1:0, candidate model=mistral.mistral-7b-instruct-v0:2\n",
      "\u001b[36m(async_run_eval pid=14090)\u001b[0m get_inference, model_id=anthropic.claude-3-haiku-20240307-v1:0\n",
      "\u001b[36m(async_run_eval pid=14090)\u001b[0m Invoking bedrock/anthropic.claude-3-haiku-20240307-v1:0......\n",
      "\u001b[36m(async_run_eval pid=14092)\u001b[0m async_run_eval, i=5, total=10, judge_model_info=anthropic.claude-3-haiku-20240307-v1:0, eval_method: max_voting, uuid: ea46fe7df1c24763b2332d518096d818\u001b[32m [repeated 24x across cluster] (Ray deduplicates logs by default. Set RAY_DEDUP_LOGS=0 to disable log deduplication, or see https://docs.ray.io/en/master/ray-observability/user-guides/configure-logging.html#log-deduplication for more options.)\u001b[0m\n",
      "\u001b[36m(async_run_eval pid=14092)\u001b[0m run_eval, row 5/10, judge_model_id=anthropic.claude-3-haiku-20240307-v1:0, candidate model=mistral.mistral-7b-instruct-v0:2\u001b[32m [repeated 24x across cluster]\u001b[0m\n",
      "\u001b[36m(async_run_eval pid=14092)\u001b[0m get_inference, model_id=anthropic.claude-3-haiku-20240307-v1:0\u001b[32m [repeated 24x across cluster]\u001b[0m\n",
      "\u001b[36m(async_run_eval pid=14092)\u001b[0m Invoking bedrock/anthropic.claude-3-haiku-20240307-v1:0......\u001b[32m [repeated 24x across cluster]\u001b[0m\n",
      "\u001b[36m(async_run_eval pid=14091)\u001b[0m async_run_eval, i=10, total=10, judge_model_info=anthropic.claude-3-haiku-20240307-v1:0, eval_method: max_voting, uuid: d5bcfe5b800d40418a1fa26e21d48a0b\u001b[32m [repeated 24x across cluster]\u001b[0m\n",
      "\u001b[36m(async_run_eval pid=14091)\u001b[0m run_eval, row 10/10, judge_model_id=anthropic.claude-3-haiku-20240307-v1:0, candidate model=mistral.mixtral-8x7b-instruct-v0:1\u001b[32m [repeated 24x across cluster]\u001b[0m\n",
      "\u001b[36m(async_run_eval pid=14091)\u001b[0m get_inference, model_id=anthropic.claude-3-haiku-20240307-v1:0\u001b[32m [repeated 24x across cluster]\u001b[0m\n",
      "\u001b[36m(async_run_eval pid=14091)\u001b[0m Invoking bedrock/anthropic.claude-3-haiku-20240307-v1:0......\u001b[32m [repeated 24x across cluster]\u001b[0m\n",
      "\u001b[36m(async_run_eval pid=14090)\u001b[0m async_run_eval, i=4, total=10, judge_model_info=anthropic.claude-3-haiku-20240307-v1:0, eval_method: max_voting, uuid: 97673d8d92f049c6a18c2f0d928b1bd8\u001b[32m [repeated 22x across cluster]\u001b[0m\n",
      "\u001b[36m(async_run_eval pid=14090)\u001b[0m run_eval, row 4/10, judge_model_id=anthropic.claude-3-haiku-20240307-v1:0, candidate model=meta.llama2-13b-chat-v1\u001b[32m [repeated 22x across cluster]\u001b[0m\n",
      "\u001b[36m(async_run_eval pid=14090)\u001b[0m get_inference, model_id=anthropic.claude-3-haiku-20240307-v1:0\u001b[32m [repeated 22x across cluster]\u001b[0m\n",
      "\u001b[36m(async_run_eval pid=14092)\u001b[0m Invoking bedrock/anthropic.claude-3-haiku-20240307-v1:0......\u001b[32m [repeated 21x across cluster]\u001b[0m\n",
      "\u001b[36m(async_run_eval pid=14090)\u001b[0m async_run_eval, i=6, total=10, judge_model_info=anthropic.claude-3-haiku-20240307-v1:0, eval_method: max_voting, uuid: 19e22611c1ad41138618a391e6191f9a\u001b[32m [repeated 24x across cluster]\u001b[0m\n",
      "\u001b[36m(async_run_eval pid=14090)\u001b[0m run_eval, row 6/10, judge_model_id=anthropic.claude-3-haiku-20240307-v1:0, candidate model=meta.llama2-70b-chat-v1\u001b[32m [repeated 24x across cluster]\u001b[0m\n",
      "\u001b[36m(async_run_eval pid=14090)\u001b[0m get_inference, model_id=anthropic.claude-3-haiku-20240307-v1:0\u001b[32m [repeated 24x across cluster]\u001b[0m\n",
      "\u001b[36m(async_run_eval pid=14090)\u001b[0m Invoking bedrock/anthropic.claude-3-haiku-20240307-v1:0......\u001b[32m [repeated 25x across cluster]\u001b[0m\n",
      "\u001b[36m(async_run_eval pid=14091)\u001b[0m async_run_eval, i=8, total=10, judge_model_info=anthropic.claude-3-haiku-20240307-v1:0, eval_method: max_voting, uuid: 1b33eadf04224564b5d1e5660e631941\u001b[32m [repeated 22x across cluster]\u001b[0m\n",
      "\u001b[36m(async_run_eval pid=14091)\u001b[0m run_eval, row 8/10, judge_model_id=anthropic.claude-3-haiku-20240307-v1:0, candidate model=meta.llama2-70b-chat-v1\u001b[32m [repeated 22x across cluster]\u001b[0m\n",
      "\u001b[36m(async_run_eval pid=14091)\u001b[0m get_inference, model_id=anthropic.claude-3-haiku-20240307-v1:0\u001b[32m [repeated 22x across cluster]\u001b[0m\n",
      "\u001b[36m(async_run_eval pid=14091)\u001b[0m Invoking bedrock/anthropic.claude-3-haiku-20240307-v1:0......\u001b[32m [repeated 22x across cluster]\u001b[0m\n",
      "\u001b[36m(async_run_eval pid=14091)\u001b[0m async_run_eval, i=10, total=10, judge_model_info=anthropic.claude-3-haiku-20240307-v1:0, eval_method: max_voting, uuid: 0304e06fa5954c3e83c530fb6da2b9c0\u001b[32m [repeated 22x across cluster]\u001b[0m\n",
      "\u001b[36m(async_run_eval pid=14091)\u001b[0m run_eval, row 10/10, judge_model_id=anthropic.claude-3-haiku-20240307-v1:0, candidate model=amazon.titan-text-lite-v1\u001b[32m [repeated 22x across cluster]\u001b[0m\n",
      "\u001b[36m(async_run_eval pid=14091)\u001b[0m get_inference, model_id=anthropic.claude-3-haiku-20240307-v1:0\u001b[32m [repeated 22x across cluster]\u001b[0m\n",
      "\u001b[36m(async_run_eval pid=14091)\u001b[0m Invoking bedrock/anthropic.claude-3-haiku-20240307-v1:0......\u001b[32m [repeated 22x across cluster]\u001b[0m\n",
      "\u001b[36m(async_run_eval pid=14092)\u001b[0m async_run_eval, i=10, total=10, judge_model_info=anthropic.claude-3-haiku-20240307-v1:0, eval_method: max_voting, uuid: 4da9c48d70514629a2fb9abc91fc6414\u001b[32m [repeated 21x across cluster]\u001b[0m\n",
      "\u001b[36m(async_run_eval pid=14092)\u001b[0m run_eval, row 10/10, judge_model_id=anthropic.claude-3-haiku-20240307-v1:0, candidate model=amazon.titan-text-express-v1\u001b[32m [repeated 21x across cluster]\u001b[0m\n",
      "\u001b[36m(async_run_eval pid=14092)\u001b[0m get_inference, model_id=anthropic.claude-3-haiku-20240307-v1:0\u001b[32m [repeated 21x across cluster]\u001b[0m\n",
      "\u001b[36m(async_run_eval pid=14092)\u001b[0m Invoking bedrock/anthropic.claude-3-haiku-20240307-v1:0......\u001b[32m [repeated 21x across cluster]\u001b[0m\n",
      "\u001b[36m(async_run_eval pid=14090)\u001b[0m async_run_eval, i=1, total=10, judge_model_info=anthropic.claude-3-haiku-20240307-v1:0, eval_method: max_voting, uuid: 2de2ebc935d642d9afd3851721f156e8\u001b[32m [repeated 21x across cluster]\u001b[0m\n",
      "\u001b[36m(async_run_eval pid=14090)\u001b[0m run_eval, row 1/10, judge_model_id=anthropic.claude-3-haiku-20240307-v1:0, candidate model=anthropic.claude-3-sonnet-20240229-v1:0\u001b[32m [repeated 21x across cluster]\u001b[0m\n",
      "\u001b[36m(async_run_eval pid=14090)\u001b[0m get_inference, model_id=anthropic.claude-3-haiku-20240307-v1:0\u001b[32m [repeated 21x across cluster]\u001b[0m\n",
      "\u001b[36m(async_run_eval pid=14090)\u001b[0m Invoking bedrock/anthropic.claude-3-haiku-20240307-v1:0......\u001b[32m [repeated 21x across cluster]\u001b[0m\n",
      "\u001b[36m(async_run_eval pid=14092)\u001b[0m async_run_eval, i=5, total=10, judge_model_info=anthropic.claude-3-haiku-20240307-v1:0, eval_method: max_voting, uuid: e8e1c241133448898a19115e42fe915f\u001b[32m [repeated 24x across cluster]\u001b[0m\n",
      "\u001b[36m(async_run_eval pid=14092)\u001b[0m run_eval, row 5/10, judge_model_id=anthropic.claude-3-haiku-20240307-v1:0, candidate model=anthropic.claude-3-sonnet-20240229-v1:0\u001b[32m [repeated 24x across cluster]\u001b[0m\n",
      "\u001b[36m(async_run_eval pid=14092)\u001b[0m get_inference, model_id=anthropic.claude-3-haiku-20240307-v1:0\u001b[32m [repeated 24x across cluster]\u001b[0m\n",
      "\u001b[36m(async_run_eval pid=14092)\u001b[0m Invoking bedrock/anthropic.claude-3-haiku-20240307-v1:0......\u001b[32m [repeated 24x across cluster]\u001b[0m\n",
      "\u001b[36m(async_run_eval pid=14090)\u001b[0m async_run_eval, i=6, total=10, judge_model_info=anthropic.claude-3-haiku-20240307-v1:0, eval_method: max_voting, uuid: f27850d3b18f4d3294670c46846bdfbc\u001b[32m [repeated 20x across cluster]\u001b[0m\n",
      "\u001b[36m(async_run_eval pid=14090)\u001b[0m run_eval, row 6/10, judge_model_id=anthropic.claude-3-haiku-20240307-v1:0, candidate model=anthropic.claude-3-haiku-20240307-v1:0\u001b[32m [repeated 20x across cluster]\u001b[0m\n",
      "\u001b[36m(async_run_eval pid=14090)\u001b[0m get_inference, model_id=anthropic.claude-3-haiku-20240307-v1:0\u001b[32m [repeated 20x across cluster]\u001b[0m\n",
      "\u001b[36m(async_run_eval pid=14090)\u001b[0m Invoking bedrock/anthropic.claude-3-haiku-20240307-v1:0......\u001b[32m [repeated 20x across cluster]\u001b[0m\n",
      "\u001b[36m(async_run_eval pid=14090)\u001b[0m async_run_eval, i=5, total=10, judge_model_info=anthropic.claude-3-haiku-20240307-v1:0, eval_method: max_voting, uuid: 8a91b594de124c648904efeb91a58429\u001b[32m [repeated 20x across cluster]\u001b[0m\n",
      "\u001b[36m(async_run_eval pid=14090)\u001b[0m run_eval, row 5/10, judge_model_id=anthropic.claude-3-haiku-20240307-v1:0, candidate model=cohere.command-text-v14\u001b[32m [repeated 20x across cluster]\u001b[0m\n",
      "\u001b[36m(async_run_eval pid=14090)\u001b[0m get_inference, model_id=anthropic.claude-3-haiku-20240307-v1:0\u001b[32m [repeated 20x across cluster]\u001b[0m\n",
      "\u001b[36m(async_run_eval pid=14090)\u001b[0m Invoking bedrock/anthropic.claude-3-haiku-20240307-v1:0......\u001b[32m [repeated 20x across cluster]\u001b[0m\n",
      "\u001b[36m(async_run_eval pid=14089)\u001b[0m async_run_eval, i=8, total=10, judge_model_info=anthropic.claude-3-haiku-20240307-v1:0, eval_method: max_voting, uuid: 3f5ff2d749514bafb766da7e39140063\u001b[32m [repeated 23x across cluster]\u001b[0m\n",
      "\u001b[36m(async_run_eval pid=14089)\u001b[0m run_eval, row 8/10, judge_model_id=anthropic.claude-3-haiku-20240307-v1:0, candidate model=cohere.command-text-v14\u001b[32m [repeated 23x across cluster]\u001b[0m\n",
      "\u001b[36m(async_run_eval pid=14089)\u001b[0m get_inference, model_id=anthropic.claude-3-haiku-20240307-v1:0\u001b[32m [repeated 23x across cluster]\u001b[0m\n",
      "\u001b[36m(async_run_eval pid=14089)\u001b[0m Invoking bedrock/anthropic.claude-3-haiku-20240307-v1:0......\u001b[32m [repeated 23x across cluster]\u001b[0m\n",
      "\u001b[36m(async_run_eval pid=14090)\u001b[0m async_run_eval, i=10, total=10, judge_model_info=anthropic.claude-3-haiku-20240307-v1:0, eval_method: max_voting, uuid: 9296eebc8cb7445b8a345c0ff870fdb3\u001b[32m [repeated 21x across cluster]\u001b[0m\n",
      "\u001b[36m(async_run_eval pid=14090)\u001b[0m run_eval, row 10/10, judge_model_id=anthropic.claude-3-haiku-20240307-v1:0, candidate model=cohere.command-light-text-v14\u001b[32m [repeated 21x across cluster]\u001b[0m\n",
      "\u001b[36m(async_run_eval pid=14090)\u001b[0m get_inference, model_id=anthropic.claude-3-haiku-20240307-v1:0\u001b[32m [repeated 21x across cluster]\u001b[0m\n",
      "\u001b[36m(async_run_eval pid=14090)\u001b[0m Invoking bedrock/anthropic.claude-3-haiku-20240307-v1:0......\u001b[32m [repeated 21x across cluster]\u001b[0m\n",
      "\u001b[36m(async_run_eval pid=14090)\u001b[0m async_run_eval, i=2, total=10, judge_model_info=anthropic.claude-3-haiku-20240307-v1:0, eval_method: max_voting, uuid: 03f0ea99753148e6974dcc474e8416ad\u001b[32m [repeated 22x across cluster]\u001b[0m\n",
      "\u001b[36m(async_run_eval pid=14090)\u001b[0m run_eval, row 2/10, judge_model_id=anthropic.claude-3-haiku-20240307-v1:0, candidate model=ai21.j2-mid-v1\u001b[32m [repeated 22x across cluster]\u001b[0m\n",
      "\u001b[36m(async_run_eval pid=14090)\u001b[0m get_inference, model_id=anthropic.claude-3-haiku-20240307-v1:0\u001b[32m [repeated 22x across cluster]\u001b[0m\n",
      "\u001b[36m(async_run_eval pid=14090)\u001b[0m Invoking bedrock/anthropic.claude-3-haiku-20240307-v1:0......\u001b[32m [repeated 22x across cluster]\u001b[0m\n",
      "\u001b[36m(async_run_eval pid=14091)\u001b[0m async_run_eval, i=7, total=10, judge_model_info=anthropic.claude-3-haiku-20240307-v1:0, eval_method: max_voting, uuid: fdf475f17e5f4b57a6eac794c2f06e5e\u001b[32m [repeated 24x across cluster]\u001b[0m\n",
      "\u001b[36m(async_run_eval pid=14091)\u001b[0m run_eval, row 7/10, judge_model_id=anthropic.claude-3-haiku-20240307-v1:0, candidate model=ai21.j2-ultra-v1\u001b[32m [repeated 24x across cluster]\u001b[0m\n",
      "\u001b[36m(async_run_eval pid=14091)\u001b[0m get_inference, model_id=anthropic.claude-3-haiku-20240307-v1:0\u001b[32m [repeated 24x across cluster]\u001b[0m\n",
      "\u001b[36m(async_run_eval pid=14091)\u001b[0m Invoking bedrock/anthropic.claude-3-haiku-20240307-v1:0......\u001b[32m [repeated 24x across cluster]\u001b[0m\n",
      "\u001b[36m(async_run_eval pid=14090)\u001b[0m async_run_eval, i=1, total=10, judge_model_info=meta.llama3-70b-instruct-v1:0, eval_method: max_voting, uuid: 6e77fb90ea804956a115b0268df059b0\u001b[32m [repeated 26x across cluster]\u001b[0m\n",
      "\u001b[36m(async_run_eval pid=14090)\u001b[0m run_eval, row 1/10, judge_model_id=meta.llama3-70b-instruct-v1:0, candidate model=mistral.mistral-7b-instruct-v0:2\u001b[32m [repeated 26x across cluster]\u001b[0m\n",
      "\u001b[36m(async_run_eval pid=14090)\u001b[0m get_inference, model_id=meta.llama3-70b-instruct-v1:0\u001b[32m [repeated 26x across cluster]\u001b[0m\n",
      "\u001b[36m(async_run_eval pid=14090)\u001b[0m Invoking bedrock/meta.llama3-70b-instruct-v1:0......\u001b[32m [repeated 26x across cluster]\u001b[0m\n",
      "\u001b[36m(async_run_eval pid=14092)\u001b[0m async_run_eval, i=5, total=10, judge_model_info=meta.llama3-70b-instruct-v1:0, eval_method: max_voting, uuid: f3e548a6770d41f79b3bba3d4bc2b9c4\u001b[32m [repeated 14x across cluster]\u001b[0m\n",
      "\u001b[36m(async_run_eval pid=14092)\u001b[0m run_eval, row 5/10, judge_model_id=meta.llama3-70b-instruct-v1:0, candidate model=mistral.mistral-7b-instruct-v0:2\u001b[32m [repeated 14x across cluster]\u001b[0m\n",
      "\u001b[36m(async_run_eval pid=14092)\u001b[0m get_inference, model_id=meta.llama3-70b-instruct-v1:0\u001b[32m [repeated 14x across cluster]\u001b[0m\n",
      "\u001b[36m(async_run_eval pid=14092)\u001b[0m Invoking bedrock/meta.llama3-70b-instruct-v1:0......\u001b[32m [repeated 14x across cluster]\u001b[0m\n",
      "\u001b[36m(async_run_eval pid=14092)\u001b[0m async_run_eval, i=9, total=10, judge_model_info=meta.llama3-70b-instruct-v1:0, eval_method: max_voting, uuid: 86dd3bb7b5b5432cbd5d626780814bea\u001b[32m [repeated 14x across cluster]\u001b[0m\n",
      "\u001b[36m(async_run_eval pid=14092)\u001b[0m run_eval, row 9/10, judge_model_id=meta.llama3-70b-instruct-v1:0, candidate model=mistral.mistral-7b-instruct-v0:2\u001b[32m [repeated 14x across cluster]\u001b[0m\n",
      "\u001b[36m(async_run_eval pid=14092)\u001b[0m get_inference, model_id=meta.llama3-70b-instruct-v1:0\u001b[32m [repeated 14x across cluster]\u001b[0m\n",
      "\u001b[36m(async_run_eval pid=14092)\u001b[0m Invoking bedrock/meta.llama3-70b-instruct-v1:0......\u001b[32m [repeated 14x across cluster]\u001b[0m\n",
      "\u001b[36m(async_run_eval pid=14090)\u001b[0m async_run_eval, i=2, total=10, judge_model_info=meta.llama3-70b-instruct-v1:0, eval_method: max_voting, uuid: f9f0d51d897140aca42e2a4d8f370888\u001b[32m [repeated 12x across cluster]\u001b[0m\n",
      "\u001b[36m(async_run_eval pid=14090)\u001b[0m run_eval, row 2/10, judge_model_id=meta.llama3-70b-instruct-v1:0, candidate model=mistral.mixtral-8x7b-instruct-v0:1\u001b[32m [repeated 12x across cluster]\u001b[0m\n",
      "\u001b[36m(async_run_eval pid=14090)\u001b[0m get_inference, model_id=meta.llama3-70b-instruct-v1:0\u001b[32m [repeated 12x across cluster]\u001b[0m\n",
      "\u001b[36m(async_run_eval pid=14090)\u001b[0m Invoking bedrock/meta.llama3-70b-instruct-v1:0......\u001b[32m [repeated 12x across cluster]\u001b[0m\n",
      "\u001b[36m(async_run_eval pid=14092)\u001b[0m async_run_eval, i=5, total=10, judge_model_info=meta.llama3-70b-instruct-v1:0, eval_method: max_voting, uuid: 4c8a2fe96f0542e89a6db19f6edd9bbc\u001b[32m [repeated 14x across cluster]\u001b[0m\n",
      "\u001b[36m(async_run_eval pid=14092)\u001b[0m run_eval, row 5/10, judge_model_id=meta.llama3-70b-instruct-v1:0, candidate model=mistral.mixtral-8x7b-instruct-v0:1\u001b[32m [repeated 14x across cluster]\u001b[0m\n",
      "\u001b[36m(async_run_eval pid=14092)\u001b[0m get_inference, model_id=meta.llama3-70b-instruct-v1:0\u001b[32m [repeated 14x across cluster]\u001b[0m\n",
      "\u001b[36m(async_run_eval pid=14092)\u001b[0m Invoking bedrock/meta.llama3-70b-instruct-v1:0......\u001b[32m [repeated 13x across cluster]\u001b[0m\n",
      "\u001b[36m(async_run_eval pid=14089)\u001b[0m async_run_eval, i=5, total=10, judge_model_info=meta.llama3-70b-instruct-v1:0, eval_method: max_voting, uuid: 168bee57f6704acda9183e66de503152\u001b[32m [repeated 10x across cluster]\u001b[0m\n",
      "\u001b[36m(async_run_eval pid=14089)\u001b[0m run_eval, row 5/10, judge_model_id=meta.llama3-70b-instruct-v1:0, candidate model=meta.llama2-13b-chat-v1\u001b[32m [repeated 10x across cluster]\u001b[0m\n",
      "\u001b[36m(async_run_eval pid=14089)\u001b[0m get_inference, model_id=meta.llama3-70b-instruct-v1:0\u001b[32m [repeated 10x across cluster]\u001b[0m\n",
      "\u001b[36m(async_run_eval pid=14089)\u001b[0m Invoking bedrock/meta.llama3-70b-instruct-v1:0......\u001b[32m [repeated 11x across cluster]\u001b[0m\n",
      "\u001b[36m(async_run_eval pid=14089)\u001b[0m async_run_eval, i=7, total=10, judge_model_info=meta.llama3-70b-instruct-v1:0, eval_method: max_voting, uuid: a0a76f4fb7ee45408e20eb38af4deee7\u001b[32m [repeated 12x across cluster]\u001b[0m\n",
      "\u001b[36m(async_run_eval pid=14089)\u001b[0m run_eval, row 7/10, judge_model_id=meta.llama3-70b-instruct-v1:0, candidate model=meta.llama2-13b-chat-v1\u001b[32m [repeated 12x across cluster]\u001b[0m\n",
      "\u001b[36m(async_run_eval pid=14089)\u001b[0m get_inference, model_id=meta.llama3-70b-instruct-v1:0\u001b[32m [repeated 12x across cluster]\u001b[0m\n",
      "\u001b[36m(async_run_eval pid=14089)\u001b[0m Invoking bedrock/meta.llama3-70b-instruct-v1:0......\u001b[32m [repeated 12x across cluster]\u001b[0m\n",
      "\u001b[36m(async_run_eval pid=14091)\u001b[0m async_run_eval, i=8, total=10, judge_model_info=meta.llama3-70b-instruct-v1:0, eval_method: max_voting, uuid: ecd1f7517ada4a1998e3e309fda90173\u001b[32m [repeated 11x across cluster]\u001b[0m\n",
      "\u001b[36m(async_run_eval pid=14091)\u001b[0m run_eval, row 8/10, judge_model_id=meta.llama3-70b-instruct-v1:0, candidate model=meta.llama2-13b-chat-v1\u001b[32m [repeated 11x across cluster]\u001b[0m\n",
      "\u001b[36m(async_run_eval pid=14091)\u001b[0m get_inference, model_id=meta.llama3-70b-instruct-v1:0\u001b[32m [repeated 11x across cluster]\u001b[0m\n",
      "\u001b[36m(async_run_eval pid=14089)\u001b[0m Invoking bedrock/meta.llama3-70b-instruct-v1:0......\u001b[32m [repeated 10x across cluster]\u001b[0m\n",
      "\u001b[36m(async_run_eval pid=14090)\u001b[0m async_run_eval, i=1, total=10, judge_model_info=meta.llama3-70b-instruct-v1:0, eval_method: max_voting, uuid: 4c3ad1b7251c40deaf40e199c4ab5b2e\u001b[32m [repeated 3x across cluster]\u001b[0m\n",
      "\u001b[36m(async_run_eval pid=14090)\u001b[0m run_eval, row 1/10, judge_model_id=meta.llama3-70b-instruct-v1:0, candidate model=meta.llama2-70b-chat-v1\u001b[32m [repeated 3x across cluster]\u001b[0m\n",
      "\u001b[36m(async_run_eval pid=14090)\u001b[0m get_inference, model_id=meta.llama3-70b-instruct-v1:0\u001b[32m [repeated 3x across cluster]\u001b[0m\n",
      "\u001b[36m(async_run_eval pid=14090)\u001b[0m Invoking bedrock/meta.llama3-70b-instruct-v1:0......\u001b[32m [repeated 4x across cluster]\u001b[0m\n",
      "\u001b[36m(async_run_eval pid=14090)\u001b[0m async_run_eval, i=7, total=10, judge_model_info=meta.llama3-70b-instruct-v1:0, eval_method: max_voting, uuid: ca3c663a65cb45e49794c90f70f336df\u001b[32m [repeated 14x across cluster]\u001b[0m\n",
      "\u001b[36m(async_run_eval pid=14090)\u001b[0m run_eval, row 7/10, judge_model_id=meta.llama3-70b-instruct-v1:0, candidate model=meta.llama2-70b-chat-v1\u001b[32m [repeated 14x across cluster]\u001b[0m\n",
      "\u001b[36m(async_run_eval pid=14090)\u001b[0m get_inference, model_id=meta.llama3-70b-instruct-v1:0\u001b[32m [repeated 14x across cluster]\u001b[0m\n",
      "\u001b[36m(async_run_eval pid=14090)\u001b[0m Invoking bedrock/meta.llama3-70b-instruct-v1:0......\u001b[32m [repeated 14x across cluster]\u001b[0m\n",
      "\u001b[36m(async_run_eval pid=14090)\u001b[0m async_run_eval, i=4, total=10, judge_model_info=meta.llama3-70b-instruct-v1:0, eval_method: max_voting, uuid: 44926a07a9e6478c8e9709334940f887\u001b[32m [repeated 6x across cluster]\u001b[0m\n",
      "\u001b[36m(async_run_eval pid=14090)\u001b[0m run_eval, row 4/10, judge_model_id=meta.llama3-70b-instruct-v1:0, candidate model=meta.llama2-70b-chat-v1\u001b[32m [repeated 6x across cluster]\u001b[0m\n",
      "\u001b[36m(async_run_eval pid=14090)\u001b[0m get_inference, model_id=meta.llama3-70b-instruct-v1:0\u001b[32m [repeated 6x across cluster]\u001b[0m\n",
      "\u001b[36m(async_run_eval pid=14090)\u001b[0m Invoking bedrock/meta.llama3-70b-instruct-v1:0......\u001b[32m [repeated 6x across cluster]\u001b[0m\n",
      "\u001b[36m(async_run_eval pid=14090)\u001b[0m async_run_eval, i=4, total=10, judge_model_info=meta.llama3-70b-instruct-v1:0, eval_method: max_voting, uuid: 1e036925c61b415bbd9e9091a419a563\u001b[32m [repeated 10x across cluster]\u001b[0m\n",
      "\u001b[36m(async_run_eval pid=14090)\u001b[0m run_eval, row 4/10, judge_model_id=meta.llama3-70b-instruct-v1:0, candidate model=amazon.titan-text-lite-v1\u001b[32m [repeated 10x across cluster]\u001b[0m\n",
      "\u001b[36m(async_run_eval pid=14090)\u001b[0m get_inference, model_id=meta.llama3-70b-instruct-v1:0\u001b[32m [repeated 10x across cluster]\u001b[0m\n",
      "\u001b[36m(async_run_eval pid=14090)\u001b[0m Invoking bedrock/meta.llama3-70b-instruct-v1:0......\u001b[32m [repeated 10x across cluster]\u001b[0m\n",
      "\u001b[36m(async_run_eval pid=14090)\u001b[0m async_run_eval, i=6, total=10, judge_model_info=meta.llama3-70b-instruct-v1:0, eval_method: max_voting, uuid: 3820157580134b2e8cd31d427294035c\u001b[32m [repeated 14x across cluster]\u001b[0m\n",
      "\u001b[36m(async_run_eval pid=14090)\u001b[0m run_eval, row 6/10, judge_model_id=meta.llama3-70b-instruct-v1:0, candidate model=amazon.titan-text-lite-v1\u001b[32m [repeated 14x across cluster]\u001b[0m\n",
      "\u001b[36m(async_run_eval pid=14090)\u001b[0m get_inference, model_id=meta.llama3-70b-instruct-v1:0\u001b[32m [repeated 14x across cluster]\u001b[0m\n",
      "\u001b[36m(async_run_eval pid=14090)\u001b[0m Invoking bedrock/meta.llama3-70b-instruct-v1:0......\u001b[32m [repeated 13x across cluster]\u001b[0m\n",
      "\u001b[36m(async_run_eval pid=14090)\u001b[0m async_run_eval, i=10, total=10, judge_model_info=meta.llama3-70b-instruct-v1:0, eval_method: max_voting, uuid: af9509fbf4694cf5839cbebf64af4675\u001b[32m [repeated 14x across cluster]\u001b[0m\n",
      "\u001b[36m(async_run_eval pid=14090)\u001b[0m run_eval, row 10/10, judge_model_id=meta.llama3-70b-instruct-v1:0, candidate model=amazon.titan-text-lite-v1\u001b[32m [repeated 14x across cluster]\u001b[0m\n",
      "\u001b[36m(async_run_eval pid=14090)\u001b[0m get_inference, model_id=meta.llama3-70b-instruct-v1:0\u001b[32m [repeated 14x across cluster]\u001b[0m\n",
      "\u001b[36m(async_run_eval pid=14090)\u001b[0m Invoking bedrock/meta.llama3-70b-instruct-v1:0......\u001b[32m [repeated 15x across cluster]\u001b[0m\n",
      "\u001b[36m(async_run_eval pid=14090)\u001b[0m async_run_eval, i=4, total=10, judge_model_info=meta.llama3-70b-instruct-v1:0, eval_method: max_voting, uuid: 641dc8ffac424ed49646d9567ceaa91d\u001b[32m [repeated 12x across cluster]\u001b[0m\n",
      "\u001b[36m(async_run_eval pid=14090)\u001b[0m run_eval, row 4/10, judge_model_id=meta.llama3-70b-instruct-v1:0, candidate model=amazon.titan-text-express-v1\u001b[32m [repeated 12x across cluster]\u001b[0m\n",
      "\u001b[36m(async_run_eval pid=14090)\u001b[0m get_inference, model_id=meta.llama3-70b-instruct-v1:0\u001b[32m [repeated 12x across cluster]\u001b[0m\n",
      "\u001b[36m(async_run_eval pid=14090)\u001b[0m Invoking bedrock/meta.llama3-70b-instruct-v1:0......\u001b[32m [repeated 12x across cluster]\u001b[0m\n",
      "\u001b[36m(async_run_eval pid=14091)\u001b[0m async_run_eval, i=5, total=10, judge_model_info=meta.llama3-70b-instruct-v1:0, eval_method: max_voting, uuid: 17c41a849ba14d66893b9053a1610b04\u001b[32m [repeated 14x across cluster]\u001b[0m\n",
      "\u001b[36m(async_run_eval pid=14091)\u001b[0m run_eval, row 5/10, judge_model_id=meta.llama3-70b-instruct-v1:0, candidate model=amazon.titan-text-express-v1\u001b[32m [repeated 14x across cluster]\u001b[0m\n",
      "\u001b[36m(async_run_eval pid=14091)\u001b[0m get_inference, model_id=meta.llama3-70b-instruct-v1:0\u001b[32m [repeated 14x across cluster]\u001b[0m\n",
      "\u001b[36m(async_run_eval pid=14091)\u001b[0m Invoking bedrock/meta.llama3-70b-instruct-v1:0......\u001b[32m [repeated 14x across cluster]\u001b[0m\n",
      "\u001b[36m(async_run_eval pid=14090)\u001b[0m async_run_eval, i=3, total=10, judge_model_info=meta.llama3-70b-instruct-v1:0, eval_method: max_voting, uuid: aa729f34b23a49798007e8afc6cdca4a\u001b[32m [repeated 6x across cluster]\u001b[0m\n",
      "\u001b[36m(async_run_eval pid=14090)\u001b[0m run_eval, row 3/10, judge_model_id=meta.llama3-70b-instruct-v1:0, candidate model=anthropic.claude-3-sonnet-20240229-v1:0\u001b[32m [repeated 6x across cluster]\u001b[0m\n",
      "\u001b[36m(async_run_eval pid=14090)\u001b[0m get_inference, model_id=meta.llama3-70b-instruct-v1:0\u001b[32m [repeated 6x across cluster]\u001b[0m\n",
      "\u001b[36m(async_run_eval pid=14090)\u001b[0m Invoking bedrock/meta.llama3-70b-instruct-v1:0......\u001b[32m [repeated 6x across cluster]\u001b[0m\n",
      "\u001b[36m(async_run_eval pid=14090)\u001b[0m async_run_eval, i=1, total=10, judge_model_info=meta.llama3-70b-instruct-v1:0, eval_method: max_voting, uuid: 3bdacca284ad4ad59ae257c847e9352f\u001b[32m [repeated 10x across cluster]\u001b[0m\n",
      "\u001b[36m(async_run_eval pid=14090)\u001b[0m run_eval, row 1/10, judge_model_id=meta.llama3-70b-instruct-v1:0, candidate model=anthropic.claude-3-sonnet-20240229-v1:0\u001b[32m [repeated 10x across cluster]\u001b[0m\n",
      "\u001b[36m(async_run_eval pid=14090)\u001b[0m get_inference, model_id=meta.llama3-70b-instruct-v1:0\u001b[32m [repeated 10x across cluster]\u001b[0m\n",
      "\u001b[36m(async_run_eval pid=14090)\u001b[0m Invoking bedrock/meta.llama3-70b-instruct-v1:0......\u001b[32m [repeated 10x across cluster]\u001b[0m\n",
      "\u001b[36m(async_run_eval pid=14090)\u001b[0m async_run_eval, i=3, total=10, judge_model_info=meta.llama3-70b-instruct-v1:0, eval_method: max_voting, uuid: bcb4516e6ea0430da495cd45e7ad0f2d\u001b[32m [repeated 10x across cluster]\u001b[0m\n",
      "\u001b[36m(async_run_eval pid=14090)\u001b[0m run_eval, row 3/10, judge_model_id=meta.llama3-70b-instruct-v1:0, candidate model=anthropic.claude-3-sonnet-20240229-v1:0\u001b[32m [repeated 10x across cluster]\u001b[0m\n",
      "\u001b[36m(async_run_eval pid=14090)\u001b[0m get_inference, model_id=meta.llama3-70b-instruct-v1:0\u001b[32m [repeated 10x across cluster]\u001b[0m\n",
      "\u001b[36m(async_run_eval pid=14090)\u001b[0m Invoking bedrock/meta.llama3-70b-instruct-v1:0......\u001b[32m [repeated 10x across cluster]\u001b[0m\n",
      "\u001b[36m(async_run_eval pid=14090)\u001b[0m async_run_eval, i=3, total=10, judge_model_info=meta.llama3-70b-instruct-v1:0, eval_method: max_voting, uuid: f29dbbfddc774a889a3fc2a845354334\u001b[32m [repeated 10x across cluster]\u001b[0m\n",
      "\u001b[36m(async_run_eval pid=14090)\u001b[0m run_eval, row 3/10, judge_model_id=meta.llama3-70b-instruct-v1:0, candidate model=anthropic.claude-3-haiku-20240307-v1:0\u001b[32m [repeated 10x across cluster]\u001b[0m\n",
      "\u001b[36m(async_run_eval pid=14090)\u001b[0m get_inference, model_id=meta.llama3-70b-instruct-v1:0\u001b[32m [repeated 10x across cluster]\u001b[0m\n",
      "\u001b[36m(async_run_eval pid=14090)\u001b[0m Invoking bedrock/meta.llama3-70b-instruct-v1:0......\u001b[32m [repeated 10x across cluster]\u001b[0m\n",
      "\u001b[36m(async_run_eval pid=14090)\u001b[0m async_run_eval, i=3, total=10, judge_model_info=meta.llama3-70b-instruct-v1:0, eval_method: max_voting, uuid: 9093a91c81a247f88669ef0ed5488e42\u001b[32m [repeated 10x across cluster]\u001b[0m\n",
      "\u001b[36m(async_run_eval pid=14090)\u001b[0m run_eval, row 3/10, judge_model_id=meta.llama3-70b-instruct-v1:0, candidate model=anthropic.claude-3-haiku-20240307-v1:0\u001b[32m [repeated 10x across cluster]\u001b[0m\n",
      "\u001b[36m(async_run_eval pid=14090)\u001b[0m get_inference, model_id=meta.llama3-70b-instruct-v1:0\u001b[32m [repeated 10x across cluster]\u001b[0m\n",
      "\u001b[36m(async_run_eval pid=14090)\u001b[0m Invoking bedrock/meta.llama3-70b-instruct-v1:0......\u001b[32m [repeated 10x across cluster]\u001b[0m\n",
      "\u001b[36m(async_run_eval pid=14090)\u001b[0m async_run_eval, i=4, total=10, judge_model_info=meta.llama3-70b-instruct-v1:0, eval_method: max_voting, uuid: c75c8e21f6394568b1b92b74b55300f0\u001b[32m [repeated 10x across cluster]\u001b[0m\n",
      "\u001b[36m(async_run_eval pid=14090)\u001b[0m run_eval, row 4/10, judge_model_id=meta.llama3-70b-instruct-v1:0, candidate model=anthropic.claude-3-haiku-20240307-v1:0\u001b[32m [repeated 10x across cluster]\u001b[0m\n",
      "\u001b[36m(async_run_eval pid=14090)\u001b[0m get_inference, model_id=meta.llama3-70b-instruct-v1:0\u001b[32m [repeated 10x across cluster]\u001b[0m\n",
      "\u001b[36m(async_run_eval pid=14089)\u001b[0m Invoking bedrock/meta.llama3-70b-instruct-v1:0......\u001b[32m [repeated 9x across cluster]\u001b[0m\n",
      "\u001b[36m(async_run_eval pid=14090)\u001b[0m async_run_eval, i=4, total=10, judge_model_info=meta.llama3-70b-instruct-v1:0, eval_method: max_voting, uuid: 862e40cb22f748fe95192d16f68293cc\u001b[32m [repeated 10x across cluster]\u001b[0m\n",
      "\u001b[36m(async_run_eval pid=14090)\u001b[0m run_eval, row 4/10, judge_model_id=meta.llama3-70b-instruct-v1:0, candidate model=cohere.command-text-v14\u001b[32m [repeated 10x across cluster]\u001b[0m\n",
      "\u001b[36m(async_run_eval pid=14090)\u001b[0m get_inference, model_id=meta.llama3-70b-instruct-v1:0\u001b[32m [repeated 10x across cluster]\u001b[0m\n",
      "\u001b[36m(async_run_eval pid=14090)\u001b[0m Invoking bedrock/meta.llama3-70b-instruct-v1:0......\u001b[32m [repeated 11x across cluster]\u001b[0m\n",
      "\u001b[36m(async_run_eval pid=14090)\u001b[0m async_run_eval, i=1, total=10, judge_model_info=meta.llama3-70b-instruct-v1:0, eval_method: max_voting, uuid: 91e9797082b844b7a2c084179af2c475\u001b[32m [repeated 10x across cluster]\u001b[0m\n",
      "\u001b[36m(async_run_eval pid=14090)\u001b[0m run_eval, row 1/10, judge_model_id=meta.llama3-70b-instruct-v1:0, candidate model=cohere.command-text-v14\u001b[32m [repeated 10x across cluster]\u001b[0m\n",
      "\u001b[36m(async_run_eval pid=14090)\u001b[0m get_inference, model_id=meta.llama3-70b-instruct-v1:0\u001b[32m [repeated 10x across cluster]\u001b[0m\n",
      "\u001b[36m(async_run_eval pid=14090)\u001b[0m Invoking bedrock/meta.llama3-70b-instruct-v1:0......\u001b[32m [repeated 10x across cluster]\u001b[0m\n",
      "\u001b[36m(async_run_eval pid=14090)\u001b[0m async_run_eval, i=3, total=10, judge_model_info=meta.llama3-70b-instruct-v1:0, eval_method: max_voting, uuid: 730e95d2f38c4c048d13f1fe050b4a94\u001b[32m [repeated 10x across cluster]\u001b[0m\n",
      "\u001b[36m(async_run_eval pid=14090)\u001b[0m run_eval, row 3/10, judge_model_id=meta.llama3-70b-instruct-v1:0, candidate model=cohere.command-text-v14\u001b[32m [repeated 10x across cluster]\u001b[0m\n",
      "\u001b[36m(async_run_eval pid=14090)\u001b[0m get_inference, model_id=meta.llama3-70b-instruct-v1:0\u001b[32m [repeated 10x across cluster]\u001b[0m\n",
      "\u001b[36m(async_run_eval pid=14090)\u001b[0m Invoking bedrock/meta.llama3-70b-instruct-v1:0......\u001b[32m [repeated 10x across cluster]\u001b[0m\n",
      "\u001b[36m(async_run_eval pid=14090)\u001b[0m async_run_eval, i=2, total=10, judge_model_info=meta.llama3-70b-instruct-v1:0, eval_method: max_voting, uuid: 20b8b51bbfc042b896f2404ee42ec60f\u001b[32m [repeated 10x across cluster]\u001b[0m\n",
      "\u001b[36m(async_run_eval pid=14090)\u001b[0m run_eval, row 2/10, judge_model_id=meta.llama3-70b-instruct-v1:0, candidate model=cohere.command-light-text-v14\u001b[32m [repeated 10x across cluster]\u001b[0m\n",
      "\u001b[36m(async_run_eval pid=14090)\u001b[0m get_inference, model_id=meta.llama3-70b-instruct-v1:0\u001b[32m [repeated 10x across cluster]\u001b[0m\n",
      "\u001b[36m(async_run_eval pid=14090)\u001b[0m Invoking bedrock/meta.llama3-70b-instruct-v1:0......\u001b[32m [repeated 10x across cluster]\u001b[0m\n",
      "\u001b[36m(async_run_eval pid=14090)\u001b[0m async_run_eval, i=3, total=10, judge_model_info=meta.llama3-70b-instruct-v1:0, eval_method: max_voting, uuid: 6c18e3f64cf749e6b822a76901f56410\u001b[32m [repeated 10x across cluster]\u001b[0m\n",
      "\u001b[36m(async_run_eval pid=14090)\u001b[0m run_eval, row 3/10, judge_model_id=meta.llama3-70b-instruct-v1:0, candidate model=cohere.command-light-text-v14\u001b[32m [repeated 10x across cluster]\u001b[0m\n",
      "\u001b[36m(async_run_eval pid=14090)\u001b[0m get_inference, model_id=meta.llama3-70b-instruct-v1:0\u001b[32m [repeated 10x across cluster]\u001b[0m\n",
      "\u001b[36m(async_run_eval pid=14090)\u001b[0m Invoking bedrock/meta.llama3-70b-instruct-v1:0......\u001b[32m [repeated 10x across cluster]\u001b[0m\n",
      "\u001b[36m(async_run_eval pid=14090)\u001b[0m async_run_eval, i=2, total=10, judge_model_info=meta.llama3-70b-instruct-v1:0, eval_method: max_voting, uuid: d8f046f91a434908a3c61b3a51077fbd\u001b[32m [repeated 10x across cluster]\u001b[0m\n",
      "\u001b[36m(async_run_eval pid=14090)\u001b[0m run_eval, row 2/10, judge_model_id=meta.llama3-70b-instruct-v1:0, candidate model=cohere.command-light-text-v14\u001b[32m [repeated 10x across cluster]\u001b[0m\n",
      "\u001b[36m(async_run_eval pid=14090)\u001b[0m get_inference, model_id=meta.llama3-70b-instruct-v1:0\u001b[32m [repeated 10x across cluster]\u001b[0m\n",
      "\u001b[36m(async_run_eval pid=14090)\u001b[0m Invoking bedrock/meta.llama3-70b-instruct-v1:0......\u001b[32m [repeated 10x across cluster]\u001b[0m\n",
      "\u001b[36m(async_run_eval pid=14090)\u001b[0m async_run_eval, i=4, total=10, judge_model_info=meta.llama3-70b-instruct-v1:0, eval_method: max_voting, uuid: 774e74a333794ac5b199bba80802baee\u001b[32m [repeated 10x across cluster]\u001b[0m\n",
      "\u001b[36m(async_run_eval pid=14090)\u001b[0m run_eval, row 4/10, judge_model_id=meta.llama3-70b-instruct-v1:0, candidate model=ai21.j2-mid-v1\u001b[32m [repeated 10x across cluster]\u001b[0m\n",
      "\u001b[36m(async_run_eval pid=14090)\u001b[0m get_inference, model_id=meta.llama3-70b-instruct-v1:0\u001b[32m [repeated 10x across cluster]\u001b[0m\n",
      "\u001b[36m(async_run_eval pid=14090)\u001b[0m Invoking bedrock/meta.llama3-70b-instruct-v1:0......\u001b[32m [repeated 10x across cluster]\u001b[0m\n",
      "\u001b[36m(async_run_eval pid=14090)\u001b[0m async_run_eval, i=1, total=10, judge_model_info=meta.llama3-70b-instruct-v1:0, eval_method: max_voting, uuid: 627024e3fd99492dbd52622b06f1ca7a\u001b[32m [repeated 10x across cluster]\u001b[0m\n",
      "\u001b[36m(async_run_eval pid=14090)\u001b[0m run_eval, row 1/10, judge_model_id=meta.llama3-70b-instruct-v1:0, candidate model=ai21.j2-mid-v1\u001b[32m [repeated 10x across cluster]\u001b[0m\n",
      "\u001b[36m(async_run_eval pid=14090)\u001b[0m get_inference, model_id=meta.llama3-70b-instruct-v1:0\u001b[32m [repeated 10x across cluster]\u001b[0m\n",
      "\u001b[36m(async_run_eval pid=14090)\u001b[0m Invoking bedrock/meta.llama3-70b-instruct-v1:0......\u001b[32m [repeated 9x across cluster]\u001b[0m\n",
      "\u001b[36m(async_run_eval pid=14090)\u001b[0m async_run_eval, i=5, total=10, judge_model_info=meta.llama3-70b-instruct-v1:0, eval_method: max_voting, uuid: 4dead8f6db6c43f2b0832ffd8e70d3f7\u001b[32m [repeated 14x across cluster]\u001b[0m\n",
      "\u001b[36m(async_run_eval pid=14090)\u001b[0m run_eval, row 5/10, judge_model_id=meta.llama3-70b-instruct-v1:0, candidate model=ai21.j2-mid-v1\u001b[32m [repeated 14x across cluster]\u001b[0m\n",
      "\u001b[36m(async_run_eval pid=14090)\u001b[0m get_inference, model_id=meta.llama3-70b-instruct-v1:0\u001b[32m [repeated 14x across cluster]\u001b[0m\n",
      "\u001b[36m(async_run_eval pid=14090)\u001b[0m Invoking bedrock/meta.llama3-70b-instruct-v1:0......\u001b[32m [repeated 15x across cluster]\u001b[0m\n",
      "\u001b[36m(async_run_eval pid=14090)\u001b[0m async_run_eval, i=9, total=10, judge_model_info=meta.llama3-70b-instruct-v1:0, eval_method: max_voting, uuid: c1c6eec5994244d4bdbe7c607661ba97\u001b[32m [repeated 14x across cluster]\u001b[0m\n",
      "\u001b[36m(async_run_eval pid=14090)\u001b[0m run_eval, row 9/10, judge_model_id=meta.llama3-70b-instruct-v1:0, candidate model=ai21.j2-ultra-v1\u001b[32m [repeated 14x across cluster]\u001b[0m\n",
      "\u001b[36m(async_run_eval pid=14090)\u001b[0m get_inference, model_id=meta.llama3-70b-instruct-v1:0\u001b[32m [repeated 14x across cluster]\u001b[0m\n",
      "\u001b[36m(async_run_eval pid=14090)\u001b[0m Invoking bedrock/meta.llama3-70b-instruct-v1:0......\u001b[32m [repeated 14x across cluster]\u001b[0m\n",
      "\u001b[36m(async_run_eval pid=14090)\u001b[0m async_run_eval, i=10, total=10, judge_model_info=meta.llama3-70b-instruct-v1:0, eval_method: max_voting, uuid: 20728961d4e3476a85fba5d614c876fb\u001b[32m [repeated 10x across cluster]\u001b[0m\n",
      "\u001b[36m(async_run_eval pid=14090)\u001b[0m run_eval, row 10/10, judge_model_id=meta.llama3-70b-instruct-v1:0, candidate model=ai21.j2-ultra-v1\u001b[32m [repeated 10x across cluster]\u001b[0m\n",
      "\u001b[36m(async_run_eval pid=14090)\u001b[0m get_inference, model_id=meta.llama3-70b-instruct-v1:0\u001b[32m [repeated 10x across cluster]\u001b[0m\n",
      "\u001b[36m(async_run_eval pid=14090)\u001b[0m Invoking bedrock/meta.llama3-70b-instruct-v1:0......\u001b[32m [repeated 10x across cluster]\u001b[0m\n",
      "\u001b[36m(async_run_eval pid=14090)\u001b[0m async_run_eval, i=3, total=10, judge_model_info=cohere.command-r-v1:0, eval_method: max_voting, uuid: 22303e132fb646aa86b938083660dce8\u001b[32m [repeated 12x across cluster]\u001b[0m\n",
      "\u001b[36m(async_run_eval pid=14090)\u001b[0m run_eval, row 3/10, judge_model_id=cohere.command-r-v1:0, candidate model=mistral.mistral-7b-instruct-v0:2\u001b[32m [repeated 12x across cluster]\u001b[0m\n",
      "\u001b[36m(async_run_eval pid=14090)\u001b[0m get_inference, model_id=cohere.command-r-v1:0\u001b[32m [repeated 12x across cluster]\u001b[0m\n",
      "\u001b[36m(async_run_eval pid=14090)\u001b[0m Invoking bedrock/cohere.command-r-v1:0......\u001b[32m [repeated 12x across cluster]\u001b[0m\n",
      "\u001b[36m(async_run_eval pid=14090)\u001b[0m async_run_eval, i=2, total=10, judge_model_info=cohere.command-r-v1:0, eval_method: max_voting, uuid: 4fe6839e19e44d75a789a87e04677b91\u001b[32m [repeated 20x across cluster]\u001b[0m\n",
      "\u001b[36m(async_run_eval pid=14090)\u001b[0m run_eval, row 2/10, judge_model_id=cohere.command-r-v1:0, candidate model=mistral.mistral-7b-instruct-v0:2\u001b[32m [repeated 20x across cluster]\u001b[0m\n",
      "\u001b[36m(async_run_eval pid=14090)\u001b[0m get_inference, model_id=cohere.command-r-v1:0\u001b[32m [repeated 20x across cluster]\u001b[0m\n",
      "\u001b[36m(async_run_eval pid=14090)\u001b[0m Invoking bedrock/cohere.command-r-v1:0......\u001b[32m [repeated 20x across cluster]\u001b[0m\n",
      "\u001b[36m(async_run_eval pid=14090)\u001b[0m async_run_eval, i=1, total=10, judge_model_info=cohere.command-r-v1:0, eval_method: max_voting, uuid: 6abd607834614279992e8be180d3b76d\u001b[32m [repeated 20x across cluster]\u001b[0m\n",
      "\u001b[36m(async_run_eval pid=14090)\u001b[0m run_eval, row 1/10, judge_model_id=cohere.command-r-v1:0, candidate model=mistral.mixtral-8x7b-instruct-v0:1\u001b[32m [repeated 20x across cluster]\u001b[0m\n",
      "\u001b[36m(async_run_eval pid=14090)\u001b[0m get_inference, model_id=cohere.command-r-v1:0\u001b[32m [repeated 20x across cluster]\u001b[0m\n",
      "\u001b[36m(async_run_eval pid=14090)\u001b[0m Invoking bedrock/cohere.command-r-v1:0......\u001b[32m [repeated 20x across cluster]\u001b[0m\n",
      "\u001b[36m(async_run_eval pid=14090)\u001b[0m async_run_eval, i=4, total=10, judge_model_info=cohere.command-r-v1:0, eval_method: max_voting, uuid: f6085d61122b472aab40dc85972cd8ad\u001b[32m [repeated 20x across cluster]\u001b[0m\n",
      "\u001b[36m(async_run_eval pid=14090)\u001b[0m run_eval, row 4/10, judge_model_id=cohere.command-r-v1:0, candidate model=meta.llama2-13b-chat-v1\u001b[32m [repeated 20x across cluster]\u001b[0m\n",
      "\u001b[36m(async_run_eval pid=14090)\u001b[0m get_inference, model_id=cohere.command-r-v1:0\u001b[32m [repeated 20x across cluster]\u001b[0m\n",
      "\u001b[36m(async_run_eval pid=14090)\u001b[0m Invoking bedrock/cohere.command-r-v1:0......\u001b[32m [repeated 20x across cluster]\u001b[0m\n",
      "\u001b[36m(async_run_eval pid=14089)\u001b[0m async_run_eval, i=5, total=10, judge_model_info=cohere.command-r-v1:0, eval_method: max_voting, uuid: 93212ca167d5438d86f13901f77faa99\u001b[32m [repeated 24x across cluster]\u001b[0m\n",
      "\u001b[36m(async_run_eval pid=14089)\u001b[0m run_eval, row 5/10, judge_model_id=cohere.command-r-v1:0, candidate model=meta.llama2-13b-chat-v1\u001b[32m [repeated 24x across cluster]\u001b[0m\n",
      "\u001b[36m(async_run_eval pid=14089)\u001b[0m get_inference, model_id=cohere.command-r-v1:0\u001b[32m [repeated 24x across cluster]\u001b[0m\n",
      "\u001b[36m(async_run_eval pid=14089)\u001b[0m Invoking bedrock/cohere.command-r-v1:0......\u001b[32m [repeated 24x across cluster]\u001b[0m\n",
      "\u001b[36m(async_run_eval pid=14090)\u001b[0m async_run_eval, i=5, total=10, judge_model_info=cohere.command-r-v1:0, eval_method: max_voting, uuid: e44dce33044a4352bbdd77e3caeaa4e3\u001b[32m [repeated 20x across cluster]\u001b[0m\n",
      "\u001b[36m(async_run_eval pid=14090)\u001b[0m run_eval, row 5/10, judge_model_id=cohere.command-r-v1:0, candidate model=meta.llama2-70b-chat-v1\u001b[32m [repeated 20x across cluster]\u001b[0m\n",
      "\u001b[36m(async_run_eval pid=14090)\u001b[0m get_inference, model_id=cohere.command-r-v1:0\u001b[32m [repeated 20x across cluster]\u001b[0m\n",
      "\u001b[36m(async_run_eval pid=14092)\u001b[0m Invoking bedrock/cohere.command-r-v1:0......\u001b[32m [repeated 19x across cluster]\u001b[0m\n",
      "\u001b[36m(async_run_eval pid=14090)\u001b[0m async_run_eval, i=9, total=10, judge_model_info=cohere.command-r-v1:0, eval_method: max_voting, uuid: fc0f8a5ffd6240e7986880cdecd675b5\u001b[32m [repeated 24x across cluster]\u001b[0m\n",
      "\u001b[36m(async_run_eval pid=14090)\u001b[0m run_eval, row 9/10, judge_model_id=cohere.command-r-v1:0, candidate model=amazon.titan-text-lite-v1\u001b[32m [repeated 24x across cluster]\u001b[0m\n",
      "\u001b[36m(async_run_eval pid=14090)\u001b[0m get_inference, model_id=cohere.command-r-v1:0\u001b[32m [repeated 24x across cluster]\u001b[0m\n",
      "\u001b[36m(async_run_eval pid=14090)\u001b[0m Invoking bedrock/cohere.command-r-v1:0......\u001b[32m [repeated 25x across cluster]\u001b[0m\n",
      "\u001b[36m(async_run_eval pid=14090)\u001b[0m async_run_eval, i=9, total=10, judge_model_info=cohere.command-r-v1:0, eval_method: max_voting, uuid: 02274eab2f3845069d602b916bce8355\u001b[32m [repeated 20x across cluster]\u001b[0m\n",
      "\u001b[36m(async_run_eval pid=14090)\u001b[0m run_eval, row 9/10, judge_model_id=cohere.command-r-v1:0, candidate model=amazon.titan-text-lite-v1\u001b[32m [repeated 20x across cluster]\u001b[0m\n",
      "\u001b[36m(async_run_eval pid=14090)\u001b[0m get_inference, model_id=cohere.command-r-v1:0\u001b[32m [repeated 20x across cluster]\u001b[0m\n",
      "\u001b[36m(async_run_eval pid=14092)\u001b[0m Invoking bedrock/cohere.command-r-v1:0......\u001b[32m [repeated 19x across cluster]\u001b[0m\n",
      "\u001b[36m(async_run_eval pid=14090)\u001b[0m async_run_eval, i=1, total=10, judge_model_info=cohere.command-r-v1:0, eval_method: max_voting, uuid: e0b5eadadb66492db8b7dc23382266d8\u001b[32m [repeated 22x across cluster]\u001b[0m\n",
      "\u001b[36m(async_run_eval pid=14090)\u001b[0m run_eval, row 1/10, judge_model_id=cohere.command-r-v1:0, candidate model=amazon.titan-text-express-v1\u001b[32m [repeated 22x across cluster]\u001b[0m\n",
      "\u001b[36m(async_run_eval pid=14090)\u001b[0m get_inference, model_id=cohere.command-r-v1:0\u001b[32m [repeated 22x across cluster]\u001b[0m\n",
      "\u001b[36m(async_run_eval pid=14090)\u001b[0m Invoking bedrock/cohere.command-r-v1:0......\u001b[32m [repeated 23x across cluster]\u001b[0m\n",
      "\u001b[36m(async_run_eval pid=14090)\u001b[0m async_run_eval, i=3, total=10, judge_model_info=cohere.command-r-v1:0, eval_method: max_voting, uuid: fa55c6be09224d879960c93493cad92d\u001b[32m [repeated 20x across cluster]\u001b[0m\n",
      "\u001b[36m(async_run_eval pid=14090)\u001b[0m run_eval, row 3/10, judge_model_id=cohere.command-r-v1:0, candidate model=anthropic.claude-3-sonnet-20240229-v1:0\u001b[32m [repeated 20x across cluster]\u001b[0m\n",
      "\u001b[36m(async_run_eval pid=14090)\u001b[0m get_inference, model_id=cohere.command-r-v1:0\u001b[32m [repeated 20x across cluster]\u001b[0m\n",
      "\u001b[36m(async_run_eval pid=14090)\u001b[0m Invoking bedrock/cohere.command-r-v1:0......\u001b[32m [repeated 20x across cluster]\u001b[0m\n",
      "\u001b[36m(async_run_eval pid=14090)\u001b[0m async_run_eval, i=3, total=10, judge_model_info=cohere.command-r-v1:0, eval_method: max_voting, uuid: f29dbbfddc774a889a3fc2a845354334\u001b[32m [repeated 20x across cluster]\u001b[0m\n",
      "\u001b[36m(async_run_eval pid=14090)\u001b[0m run_eval, row 3/10, judge_model_id=cohere.command-r-v1:0, candidate model=anthropic.claude-3-haiku-20240307-v1:0\u001b[32m [repeated 20x across cluster]\u001b[0m\n",
      "\u001b[36m(async_run_eval pid=14090)\u001b[0m get_inference, model_id=cohere.command-r-v1:0\u001b[32m [repeated 20x across cluster]\u001b[0m\n",
      "\u001b[36m(async_run_eval pid=14090)\u001b[0m Invoking bedrock/cohere.command-r-v1:0......\u001b[32m [repeated 20x across cluster]\u001b[0m\n",
      "\u001b[36m(async_run_eval pid=14090)\u001b[0m async_run_eval, i=2, total=10, judge_model_info=cohere.command-r-v1:0, eval_method: max_voting, uuid: ea68dab5484544a78120b2d28cc85455\u001b[32m [repeated 20x across cluster]\u001b[0m\n",
      "\u001b[36m(async_run_eval pid=14090)\u001b[0m run_eval, row 2/10, judge_model_id=cohere.command-r-v1:0, candidate model=anthropic.claude-3-haiku-20240307-v1:0\u001b[32m [repeated 20x across cluster]\u001b[0m\n",
      "\u001b[36m(async_run_eval pid=14090)\u001b[0m get_inference, model_id=cohere.command-r-v1:0\u001b[32m [repeated 20x across cluster]\u001b[0m\n",
      "\u001b[36m(async_run_eval pid=14092)\u001b[0m Invoking bedrock/cohere.command-r-v1:0......\u001b[32m [repeated 19x across cluster]\u001b[0m\n",
      "\u001b[36m(async_run_eval pid=14092)\u001b[0m async_run_eval, i=9, total=10, judge_model_info=cohere.command-r-v1:0, eval_method: max_voting, uuid: 9063c81e12874915a529936e393efcad\u001b[32m [repeated 18x across cluster]\u001b[0m\n",
      "\u001b[36m(async_run_eval pid=14092)\u001b[0m run_eval, row 9/10, judge_model_id=cohere.command-r-v1:0, candidate model=cohere.command-text-v14\u001b[32m [repeated 18x across cluster]\u001b[0m\n",
      "\u001b[36m(async_run_eval pid=14092)\u001b[0m get_inference, model_id=cohere.command-r-v1:0\u001b[32m [repeated 18x across cluster]\u001b[0m\n",
      "\u001b[36m(async_run_eval pid=14089)\u001b[0m Invoking bedrock/cohere.command-r-v1:0......\u001b[32m [repeated 18x across cluster]\u001b[0m\n",
      "\u001b[36m(async_run_eval pid=14089)\u001b[0m async_run_eval, i=9, total=10, judge_model_info=cohere.command-r-v1:0, eval_method: max_voting, uuid: 6e40eb8af36b401db5b267b0f473f5eb\u001b[32m [repeated 20x across cluster]\u001b[0m\n",
      "\u001b[36m(async_run_eval pid=14089)\u001b[0m run_eval, row 9/10, judge_model_id=cohere.command-r-v1:0, candidate model=cohere.command-text-v14\u001b[32m [repeated 20x across cluster]\u001b[0m\n",
      "\u001b[36m(async_run_eval pid=14089)\u001b[0m get_inference, model_id=cohere.command-r-v1:0\u001b[32m [repeated 20x across cluster]\u001b[0m\n",
      "\u001b[36m(async_run_eval pid=14089)\u001b[0m Invoking bedrock/cohere.command-r-v1:0......\u001b[32m [repeated 21x across cluster]\u001b[0m\n",
      "\u001b[36m(async_run_eval pid=14090)\u001b[0m async_run_eval, i=1, total=10, judge_model_info=cohere.command-r-v1:0, eval_method: max_voting, uuid: 7e125b6afe8e484f84523241a647da8b\u001b[32m [repeated 22x across cluster]\u001b[0m\n",
      "\u001b[36m(async_run_eval pid=14090)\u001b[0m run_eval, row 1/10, judge_model_id=cohere.command-r-v1:0, candidate model=cohere.command-light-text-v14\u001b[32m [repeated 22x across cluster]\u001b[0m\n",
      "\u001b[36m(async_run_eval pid=14090)\u001b[0m get_inference, model_id=cohere.command-r-v1:0\u001b[32m [repeated 22x across cluster]\u001b[0m\n",
      "\u001b[36m(async_run_eval pid=14090)\u001b[0m Invoking bedrock/cohere.command-r-v1:0......\u001b[32m [repeated 22x across cluster]\u001b[0m\n",
      "\u001b[36m(async_run_eval pid=14090)\u001b[0m async_run_eval, i=3, total=10, judge_model_info=cohere.command-r-v1:0, eval_method: max_voting, uuid: 482b7b30bad24853b592c2f0298849d9\u001b[32m [repeated 20x across cluster]\u001b[0m\n",
      "\u001b[36m(async_run_eval pid=14090)\u001b[0m run_eval, row 3/10, judge_model_id=cohere.command-r-v1:0, candidate model=ai21.j2-mid-v1\u001b[32m [repeated 20x across cluster]\u001b[0m\n",
      "\u001b[36m(async_run_eval pid=14090)\u001b[0m get_inference, model_id=cohere.command-r-v1:0\u001b[32m [repeated 20x across cluster]\u001b[0m\n",
      "\u001b[36m(async_run_eval pid=14090)\u001b[0m Invoking bedrock/cohere.command-r-v1:0......\u001b[32m [repeated 20x across cluster]\u001b[0m\n",
      "\u001b[36m(async_run_eval pid=14091)\u001b[0m async_run_eval, i=5, total=10, judge_model_info=cohere.command-r-v1:0, eval_method: max_voting, uuid: e475e28a7f5f420892a50d009e934436\u001b[32m [repeated 24x across cluster]\u001b[0m\n",
      "\u001b[36m(async_run_eval pid=14091)\u001b[0m run_eval, row 5/10, judge_model_id=cohere.command-r-v1:0, candidate model=ai21.j2-ultra-v1\u001b[32m [repeated 24x across cluster]\u001b[0m\n",
      "\u001b[36m(async_run_eval pid=14091)\u001b[0m get_inference, model_id=cohere.command-r-v1:0\u001b[32m [repeated 24x across cluster]\u001b[0m\n",
      "\u001b[36m(async_run_eval pid=14091)\u001b[0m Invoking bedrock/cohere.command-r-v1:0......\u001b[32m [repeated 24x across cluster]\u001b[0m\n",
      "\u001b[36m(async_run_eval pid=14090)\u001b[0m async_run_eval, i=7, total=10, judge_model_info=cohere.command-r-v1:0, eval_method: max_voting, uuid: 7ba88851b6d2409fa27f4040a1bbf858\u001b[32m [repeated 22x across cluster]\u001b[0m\n",
      "\u001b[36m(async_run_eval pid=14090)\u001b[0m run_eval, row 7/10, judge_model_id=cohere.command-r-v1:0, candidate model=ai21.j2-ultra-v1\u001b[32m [repeated 22x across cluster]\u001b[0m\n",
      "\u001b[36m(async_run_eval pid=14090)\u001b[0m get_inference, model_id=cohere.command-r-v1:0\u001b[32m [repeated 22x across cluster]\u001b[0m\n",
      "\u001b[36m(async_run_eval pid=14090)\u001b[0m Invoking bedrock/cohere.command-r-v1:0......\u001b[32m [repeated 22x across cluster]\u001b[0m\n"
     ]
    }
   ],
   "source": [
    "# initialize the ray service to run async calls in parallel to bedrock easily\n",
    "if ray.is_initialized():\n",
    "    ray.shutdown()\n",
    "ray.init()"
   ]
  },
  {
   "cell_type": "markdown",
   "metadata": {},
   "source": [
    "Load the Config.yml file contains information that is used across this benchmarking environment, such as information about the aws account, prompts, payloads to be used for invocations"
   ]
  },
  {
   "cell_type": "code",
   "execution_count": 5,
   "metadata": {
    "tags": []
   },
   "outputs": [
    {
     "name": "stderr",
     "output_type": "stream",
     "text": [
      "[2024-07-12 01:37:30,243] p13828 {2445076252.py:1} INFO - CONFIG_FILE=configs/bedrock/config-bedrock.yml\n"
     ]
    },
    {
     "name": "stdout",
     "output_type": "stream",
     "text": [
      "region_name=us-west-2\n"
     ]
    },
    {
     "name": "stderr",
     "output_type": "stream",
     "text": [
      "[2024-07-12 01:37:30,560] p13828 {2445076252.py:3} INFO - {\n",
      "  \"general\": {\n",
      "    \"name\": \"fmbench-bedrock\",\n",
      "    \"model_name\": \"FMs available in Amazon Bedrock\"\n",
      "  },\n",
      "  \"aws\": {\n",
      "    \"region\": \"us-west-2\",\n",
      "    \"sagemaker_execution_role\": \"arn:aws:iam::387192758086:role/fmbench-stack-us-west-2-role\",\n",
      "    \"bucket\": \"sagemaker-fmbench-write-us-west-2-387192758086\"\n",
      "  },\n",
      "  \"dir_paths\": {\n",
      "    \"data_prefix\": \"data\",\n",
      "    \"prompts_prefix\": \"prompts\",\n",
      "    \"all_prompts_file\": \"all_prompts.csv\",\n",
      "    \"metrics_dir\": \"metrics\",\n",
      "    \"models_dir\": \"models\",\n",
      "    \"metadata_dir\": \"metadata\"\n",
      "  },\n",
      "  \"s3_read_data\": {\n",
      "    \"read_bucket\": \"sagemaker-fmbench-read-us-west-2-387192758086\",\n",
      "    \"scripts_prefix\": \"scripts\",\n",
      "    \"script_files\": [\n",
      "      \"hf_token.txt\"\n",
      "    ],\n",
      "    \"eval_prompts_dir\": \"eval_criteria_prompts\",\n",
      "    \"eval_prompt_template_dir_list\": [\n",
      "      \"claude_eval_prompt_templates\",\n",
      "      \"llama3_eval_prompt_templates\",\n",
      "      \"cohere_eval_prompt_templates\"\n",
      "    ],\n",
      "    \"eval_instructions_dir\": \"eval_instructions\",\n",
      "    \"eval_instructions_files\": [\n",
      "      \"evaluation_instructions_max_voting.txt\",\n",
      "      \"evaluation_instructions_avg_pooling.txt\"\n",
      "    ],\n",
      "    \"configs_prefix\": \"configs\",\n",
      "    \"config_files\": [\n",
      "      \"pricing.yml\"\n",
      "    ],\n",
      "    \"source_data_prefix\": \"source_data\",\n",
      "    \"source_data_files\": [\n",
      "      \"2wikimqa_e.jsonl\",\n",
      "      \"2wikimqa.jsonl\",\n",
      "      \"hotpotqa_e.jsonl\",\n",
      "      \"hotpotqa.jsonl\",\n",
      "      \"narrativeqa.jsonl\",\n",
      "      \"triviaqa_e.jsonl\",\n",
      "      \"triviaqa.jsonl\"\n",
      "    ],\n",
      "    \"tokenizer_prefix\": \"llama2_tokenizer\",\n",
      "    \"prompt_template_dir\": \"prompt_template\",\n",
      "    \"prompt_template_file\": \"prompt_template_llama2.txt\"\n",
      "  },\n",
      "  \"run_steps\": {\n",
      "    \"0_setup.ipynb\": true,\n",
      "    \"1_generate_data.ipynb\": true,\n",
      "    \"2_deploy_model.ipynb\": false,\n",
      "    \"3_run_inference.ipynb\": true,\n",
      "    \"4_get_evaluations.ipynb\": false,\n",
      "    \"5_model_metric_analysis.ipynb\": false,\n",
      "    \"6_cleanup.ipynb\": false\n",
      "  },\n",
      "  \"datasets\": {\n",
      "    \"prompt_template_keys\": [\n",
      "      \"input\",\n",
      "      \"context\"\n",
      "    ],\n",
      "    \"max_iters_per_combination\": 105,\n",
      "    \"min_iters_per_combination\": 5,\n",
      "    \"filters\": [\n",
      "      {\n",
      "        \"language\": \"en\",\n",
      "        \"min_length_in_tokens\": 1,\n",
      "        \"max_length_in_tokens\": 500,\n",
      "        \"payload_file\": \"payload_en_1-500.jsonl\"\n",
      "      },\n",
      "      {\n",
      "        \"language\": \"en\",\n",
      "        \"min_length_in_tokens\": 500,\n",
      "        \"max_length_in_tokens\": 1000,\n",
      "        \"payload_file\": \"payload_en_500-1000.jsonl\"\n",
      "      },\n",
      "      {\n",
      "        \"language\": \"en\",\n",
      "        \"min_length_in_tokens\": 1000,\n",
      "        \"max_length_in_tokens\": 2000,\n",
      "        \"payload_file\": \"payload_en_1000-2000.jsonl\"\n",
      "      },\n",
      "      {\n",
      "        \"language\": \"en\",\n",
      "        \"min_length_in_tokens\": 2000,\n",
      "        \"max_length_in_tokens\": 3000,\n",
      "        \"payload_file\": \"payload_en_2000-3000.jsonl\"\n",
      "      },\n",
      "      {\n",
      "        \"language\": \"en\",\n",
      "        \"min_length_in_tokens\": 3000,\n",
      "        \"max_length_in_tokens\": 3840,\n",
      "        \"payload_file\": \"payload_en_3000-3840.jsonl\"\n",
      "      }\n",
      "    ]\n",
      "  },\n",
      "  \"model_evaluations\": {\n",
      "    \"ground_truth_col_key\": \"answers\",\n",
      "    \"PoLL_Composition_and_Voting\": {\n",
      "      \"method\": \"max_voting\"\n",
      "    },\n",
      "    \"quantitative_eval_info\": {\n",
      "      \"embeddings_model_id\": {\n",
      "        \"model_id\": \"sentence-transformers/all-mpnet-base-v2\",\n",
      "        \"is_hf\": true\n",
      "      }\n",
      "    },\n",
      "    \"subjective_eval_info\": {\n",
      "      \"judge_panel_list\": [\n",
      "        {\n",
      "          \"model_id\": \"anthropic.claude-3-haiku-20240307-v1:0\",\n",
      "          \"eval_prompt_template_dir\": \"claude_eval_prompt_templates\",\n",
      "          \"eval_prompt_template_name_prefix\": \"claude_eval_\"\n",
      "        },\n",
      "        {\n",
      "          \"model_id\": \"meta.llama3-70b-instruct-v1:0\",\n",
      "          \"eval_prompt_template_dir\": \"llama3_eval_prompt_templates\",\n",
      "          \"eval_prompt_template_name_prefix\": \"llama3_eval_\"\n",
      "        },\n",
      "        {\n",
      "          \"model_id\": \"cohere.command-r-v1:0\",\n",
      "          \"eval_prompt_template_dir\": \"cohere_eval_prompt_templates\",\n",
      "          \"eval_prompt_template_name_prefix\": \"cohere_eval_\"\n",
      "        }\n",
      "      ],\n",
      "      \"run_parallel_inference_count\": 10,\n",
      "      \"inference_parameters\": {\n",
      "        \"temperature\": 0.1,\n",
      "        \"max_tokens\": 300,\n",
      "        \"top_p\": 0.92,\n",
      "        \"caching\": false\n",
      "      }\n",
      "    }\n",
      "  },\n",
      "  \"metrics\": {\n",
      "    \"dataset_of_interest\": \"en_500-1000\"\n",
      "  },\n",
      "  \"pricing\": \"pricing.yml\",\n",
      "  \"inference_parameters\": {\n",
      "    \"bedrock\": {\n",
      "      \"temperature\": 0.1,\n",
      "      \"max_tokens\": 100,\n",
      "      \"top_p\": 0.92,\n",
      "      \"caching\": false\n",
      "    }\n",
      "  },\n",
      "  \"experiments\": [\n",
      "    {\n",
      "      \"name\": \"mistral.mistral-7b-instruct-v0:2\",\n",
      "      \"model_id\": \"mistral.mistral-7b-instruct-v0:2\",\n",
      "      \"model_version\": \"*\",\n",
      "      \"model_name\": \"mistral.mistral-7b-instruct-v0:2\",\n",
      "      \"ep_name\": \"mistral.mistral-7b-instruct-v0:2\",\n",
      "      \"instance_type\": \"mistral.mistral-7b-instruct-v0:2\",\n",
      "      \"image_uri\": null,\n",
      "      \"deploy\": false,\n",
      "      \"instance_count\": 1,\n",
      "      \"deployment_script\": null,\n",
      "      \"inference_script\": \"bedrock_predictor.py\",\n",
      "      \"inference_spec\": {\n",
      "        \"split_input_and_parameters\": false,\n",
      "        \"parameter_set\": \"bedrock\",\n",
      "        \"parameters\": {\n",
      "          \"temperature\": 0.1,\n",
      "          \"max_tokens\": 100,\n",
      "          \"top_p\": 0.92,\n",
      "          \"caching\": false\n",
      "        }\n",
      "      },\n",
      "      \"payload_files\": [\n",
      "        \"payload_en_1-500.jsonl\",\n",
      "        \"payload_en_500-1000.jsonl\"\n",
      "      ],\n",
      "      \"concurrency_levels\": [\n",
      "        1,\n",
      "        2\n",
      "      ],\n",
      "      \"env\": null,\n",
      "      \"bucket\": \"sagemaker-fmbench-write-us-west-2-387192758086\"\n",
      "    },\n",
      "    {\n",
      "      \"name\": \"mistral.mixtral-8x7b-instruct-v0:1\",\n",
      "      \"model_id\": \"mistral.mixtral-8x7b-instruct-v0:1\",\n",
      "      \"model_version\": \"*\",\n",
      "      \"model_name\": \"mistral.mixtral-8x7b-instruct-v0:1\",\n",
      "      \"ep_name\": \"mistral.mixtral-8x7b-instruct-v0:1\",\n",
      "      \"instance_type\": \"mistral.mixtral-8x7b-instruct-v0:1\",\n",
      "      \"image_uri\": null,\n",
      "      \"deploy\": false,\n",
      "      \"instance_count\": 1,\n",
      "      \"deployment_script\": null,\n",
      "      \"inference_script\": \"bedrock_predictor.py\",\n",
      "      \"inference_spec\": {\n",
      "        \"split_input_and_parameters\": false,\n",
      "        \"parameter_set\": \"bedrock\",\n",
      "        \"parameters\": {\n",
      "          \"temperature\": 0.1,\n",
      "          \"max_tokens\": 100,\n",
      "          \"top_p\": 0.92,\n",
      "          \"caching\": false\n",
      "        }\n",
      "      },\n",
      "      \"payload_files\": [\n",
      "        \"payload_en_1-500.jsonl\",\n",
      "        \"payload_en_500-1000.jsonl\"\n",
      "      ],\n",
      "      \"concurrency_levels\": [\n",
      "        1,\n",
      "        2\n",
      "      ],\n",
      "      \"env\": null,\n",
      "      \"bucket\": \"sagemaker-fmbench-write-us-west-2-387192758086\"\n",
      "    },\n",
      "    {\n",
      "      \"name\": \"meta.llama2-13b-chat-v1\",\n",
      "      \"model_id\": \"meta.llama2-13b-chat-v1\",\n",
      "      \"model_version\": \"*\",\n",
      "      \"model_name\": \"meta.llama2-13b-chat-v1\",\n",
      "      \"ep_name\": \"meta.llama2-13b-chat-v1\",\n",
      "      \"instance_type\": \"meta.llama2-13b-chat-v1\",\n",
      "      \"image_uri\": null,\n",
      "      \"deploy\": false,\n",
      "      \"instance_count\": null,\n",
      "      \"deployment_script\": null,\n",
      "      \"inference_script\": \"bedrock_predictor.py\",\n",
      "      \"inference_spec\": {\n",
      "        \"split_input_and_parameters\": false,\n",
      "        \"parameter_set\": \"bedrock\",\n",
      "        \"parameters\": {\n",
      "          \"temperature\": 0.1,\n",
      "          \"max_tokens\": 100,\n",
      "          \"top_p\": 0.92,\n",
      "          \"caching\": false\n",
      "        }\n",
      "      },\n",
      "      \"payload_files\": [\n",
      "        \"payload_en_1-500.jsonl\",\n",
      "        \"payload_en_500-1000.jsonl\"\n",
      "      ],\n",
      "      \"concurrency_levels\": [\n",
      "        1,\n",
      "        2\n",
      "      ],\n",
      "      \"env\": null,\n",
      "      \"bucket\": \"sagemaker-fmbench-write-us-west-2-387192758086\"\n",
      "    },\n",
      "    {\n",
      "      \"name\": \"meta.llama2-70b-chat-v1\",\n",
      "      \"model_id\": \"meta.llama2-70b-chat-v1\",\n",
      "      \"model_version\": \"*\",\n",
      "      \"model_name\": \"meta.llama2-70b-chat-v1\",\n",
      "      \"ep_name\": \"meta.llama2-70b-chat-v1\",\n",
      "      \"instance_type\": \"meta.llama2-70b-chat-v1\",\n",
      "      \"image_uri\": null,\n",
      "      \"deploy\": false,\n",
      "      \"instance_count\": null,\n",
      "      \"deployment_script\": null,\n",
      "      \"inference_script\": \"bedrock_predictor.py\",\n",
      "      \"inference_spec\": {\n",
      "        \"split_input_and_parameters\": false,\n",
      "        \"parameter_set\": \"bedrock\",\n",
      "        \"parameters\": {\n",
      "          \"temperature\": 0.1,\n",
      "          \"max_tokens\": 100,\n",
      "          \"top_p\": 0.92,\n",
      "          \"caching\": false\n",
      "        }\n",
      "      },\n",
      "      \"payload_files\": [\n",
      "        \"payload_en_1-500.jsonl\",\n",
      "        \"payload_en_500-1000.jsonl\"\n",
      "      ],\n",
      "      \"concurrency_levels\": [\n",
      "        1,\n",
      "        2\n",
      "      ],\n",
      "      \"env\": null,\n",
      "      \"bucket\": \"sagemaker-fmbench-write-us-west-2-387192758086\"\n",
      "    },\n",
      "    {\n",
      "      \"name\": \"amazon.titan-text-lite-v1\",\n",
      "      \"model_id\": \"amazon.titan-text-lite-v1\",\n",
      "      \"model_version\": \"*\",\n",
      "      \"model_name\": \"amazon.titan-text-lite-v1\",\n",
      "      \"ep_name\": \"amazon.titan-text-lite-v1\",\n",
      "      \"instance_type\": \"amazon.titan-text-lite-v1\",\n",
      "      \"image_uri\": null,\n",
      "      \"deploy\": false,\n",
      "      \"instance_count\": null,\n",
      "      \"deployment_script\": null,\n",
      "      \"inference_script\": \"bedrock_predictor.py\",\n",
      "      \"inference_spec\": {\n",
      "        \"split_input_and_parameters\": false,\n",
      "        \"parameter_set\": \"bedrock\",\n",
      "        \"parameters\": {\n",
      "          \"temperature\": 0.1,\n",
      "          \"max_tokens\": 100,\n",
      "          \"top_p\": 0.92,\n",
      "          \"caching\": false\n",
      "        }\n",
      "      },\n",
      "      \"payload_files\": [\n",
      "        \"payload_en_1-500.jsonl\",\n",
      "        \"payload_en_500-1000.jsonl\"\n",
      "      ],\n",
      "      \"concurrency_levels\": [\n",
      "        1,\n",
      "        2\n",
      "      ],\n",
      "      \"env\": null,\n",
      "      \"bucket\": \"sagemaker-fmbench-write-us-west-2-387192758086\"\n",
      "    },\n",
      "    {\n",
      "      \"name\": \"amazon.titan-text-express-v1\",\n",
      "      \"model_id\": \"amazon.titan-text-express-v1\",\n",
      "      \"model_version\": \"*\",\n",
      "      \"model_name\": \"amazon.titan-text-express-v1\",\n",
      "      \"ep_name\": \"amazon.titan-text-express-v1\",\n",
      "      \"instance_type\": \"amazon.titan-text-express-v1\",\n",
      "      \"image_uri\": null,\n",
      "      \"deploy\": false,\n",
      "      \"instance_count\": null,\n",
      "      \"deployment_script\": null,\n",
      "      \"inference_script\": \"bedrock_predictor.py\",\n",
      "      \"inference_spec\": {\n",
      "        \"split_input_and_parameters\": false,\n",
      "        \"parameter_set\": \"bedrock\",\n",
      "        \"parameters\": {\n",
      "          \"temperature\": 0.1,\n",
      "          \"max_tokens\": 100,\n",
      "          \"top_p\": 0.92,\n",
      "          \"caching\": false\n",
      "        }\n",
      "      },\n",
      "      \"payload_files\": [\n",
      "        \"payload_en_1-500.jsonl\",\n",
      "        \"payload_en_500-1000.jsonl\"\n",
      "      ],\n",
      "      \"concurrency_levels\": [\n",
      "        1,\n",
      "        2\n",
      "      ],\n",
      "      \"env\": null,\n",
      "      \"bucket\": \"sagemaker-fmbench-write-us-west-2-387192758086\"\n",
      "    },\n",
      "    {\n",
      "      \"name\": \"anthropic.claude-3-sonnet-20240229-v1:0\",\n",
      "      \"model_id\": \"anthropic.claude-3-sonnet-20240229-v1:0\",\n",
      "      \"model_version\": \"*\",\n",
      "      \"model_name\": \"anthropic.claude-3-sonnet-20240229-v1:0\",\n",
      "      \"ep_name\": \"anthropic.claude-3-sonnet-20240229-v1:0\",\n",
      "      \"instance_type\": \"anthropic.claude-3-sonnet-20240229-v1:0\",\n",
      "      \"image_uri\": null,\n",
      "      \"deploy\": false,\n",
      "      \"instance_count\": null,\n",
      "      \"deployment_script\": null,\n",
      "      \"inference_script\": \"bedrock_predictor.py\",\n",
      "      \"inference_spec\": {\n",
      "        \"split_input_and_parameters\": false,\n",
      "        \"parameter_set\": \"bedrock\",\n",
      "        \"parameters\": {\n",
      "          \"temperature\": 0.1,\n",
      "          \"max_tokens\": 100,\n",
      "          \"top_p\": 0.92,\n",
      "          \"caching\": false\n",
      "        }\n",
      "      },\n",
      "      \"payload_files\": [\n",
      "        \"payload_en_1-500.jsonl\",\n",
      "        \"payload_en_500-1000.jsonl\"\n",
      "      ],\n",
      "      \"concurrency_levels\": [\n",
      "        1,\n",
      "        2\n",
      "      ],\n",
      "      \"env\": null,\n",
      "      \"bucket\": \"sagemaker-fmbench-write-us-west-2-387192758086\"\n",
      "    },\n",
      "    {\n",
      "      \"name\": \"anthropic.claude-3-haiku-20240307-v1:0\",\n",
      "      \"model_id\": \"anthropic.claude-3-haiku-20240307-v1:0\",\n",
      "      \"model_version\": \"*\",\n",
      "      \"model_name\": \"anthropic.claude-3-haiku-20240307-v1:0\",\n",
      "      \"ep_name\": \"anthropic.claude-3-haiku-20240307-v1:0\",\n",
      "      \"instance_type\": \"anthropic.claude-3-haiku-20240307-v1:0\",\n",
      "      \"image_uri\": null,\n",
      "      \"deploy\": false,\n",
      "      \"instance_count\": null,\n",
      "      \"deployment_script\": null,\n",
      "      \"inference_script\": \"bedrock_predictor.py\",\n",
      "      \"inference_spec\": {\n",
      "        \"split_input_and_parameters\": false,\n",
      "        \"parameter_set\": \"bedrock\",\n",
      "        \"parameters\": {\n",
      "          \"temperature\": 0.1,\n",
      "          \"max_tokens\": 100,\n",
      "          \"top_p\": 0.92,\n",
      "          \"caching\": false\n",
      "        }\n",
      "      },\n",
      "      \"payload_files\": [\n",
      "        \"payload_en_1-500.jsonl\",\n",
      "        \"payload_en_500-1000.jsonl\"\n",
      "      ],\n",
      "      \"concurrency_levels\": [\n",
      "        1,\n",
      "        2\n",
      "      ],\n",
      "      \"env\": null,\n",
      "      \"bucket\": \"sagemaker-fmbench-write-us-west-2-387192758086\"\n",
      "    },\n",
      "    {\n",
      "      \"name\": \"cohere.command-text-v14\",\n",
      "      \"model_id\": \"cohere.command-text-v14\",\n",
      "      \"model_version\": \"*\",\n",
      "      \"model_name\": \"cohere.command-text-v14\",\n",
      "      \"ep_name\": \"cohere.command-text-v14\",\n",
      "      \"instance_type\": \"cohere.command-text-v14\",\n",
      "      \"image_uri\": null,\n",
      "      \"deploy\": false,\n",
      "      \"instance_count\": null,\n",
      "      \"deployment_script\": null,\n",
      "      \"inference_script\": \"bedrock_predictor.py\",\n",
      "      \"inference_spec\": {\n",
      "        \"split_input_and_parameters\": false,\n",
      "        \"parameter_set\": \"bedrock\",\n",
      "        \"parameters\": {\n",
      "          \"temperature\": 0.1,\n",
      "          \"max_tokens\": 100,\n",
      "          \"top_p\": 0.92,\n",
      "          \"caching\": false\n",
      "        }\n",
      "      },\n",
      "      \"payload_files\": [\n",
      "        \"payload_en_1-500.jsonl\",\n",
      "        \"payload_en_500-1000.jsonl\"\n",
      "      ],\n",
      "      \"concurrency_levels\": [\n",
      "        1,\n",
      "        2\n",
      "      ],\n",
      "      \"env\": null,\n",
      "      \"bucket\": \"sagemaker-fmbench-write-us-west-2-387192758086\"\n",
      "    },\n",
      "    {\n",
      "      \"name\": \"cohere.command-light-text-v14\",\n",
      "      \"model_id\": \"cohere.command-light-text-v14\",\n",
      "      \"model_version\": \"*\",\n",
      "      \"model_name\": \"cohere.command-light-text-v14\",\n",
      "      \"ep_name\": \"cohere.command-light-text-v14\",\n",
      "      \"instance_type\": \"cohere.command-light-text-v14\",\n",
      "      \"image_uri\": null,\n",
      "      \"deploy\": false,\n",
      "      \"instance_count\": null,\n",
      "      \"deployment_script\": null,\n",
      "      \"inference_script\": \"bedrock_predictor.py\",\n",
      "      \"inference_spec\": {\n",
      "        \"split_input_and_parameters\": false,\n",
      "        \"parameter_set\": \"bedrock\",\n",
      "        \"parameters\": {\n",
      "          \"temperature\": 0.1,\n",
      "          \"max_tokens\": 100,\n",
      "          \"top_p\": 0.92,\n",
      "          \"caching\": false\n",
      "        }\n",
      "      },\n",
      "      \"payload_files\": [\n",
      "        \"payload_en_1-500.jsonl\",\n",
      "        \"payload_en_500-1000.jsonl\"\n",
      "      ],\n",
      "      \"concurrency_levels\": [\n",
      "        1,\n",
      "        2\n",
      "      ],\n",
      "      \"env\": null,\n",
      "      \"bucket\": \"sagemaker-fmbench-write-us-west-2-387192758086\"\n",
      "    },\n",
      "    {\n",
      "      \"name\": \"ai21.j2-mid-v1\",\n",
      "      \"model_id\": \"ai21.j2-mid-v1\",\n",
      "      \"model_version\": \"*\",\n",
      "      \"model_name\": \"ai21.j2-mid-v1\",\n",
      "      \"ep_name\": \"ai21.j2-mid-v1\",\n",
      "      \"instance_type\": \"ai21.j2-mid-v1\",\n",
      "      \"image_uri\": null,\n",
      "      \"deploy\": false,\n",
      "      \"instance_count\": null,\n",
      "      \"deployment_script\": null,\n",
      "      \"inference_script\": \"bedrock_predictor.py\",\n",
      "      \"inference_spec\": {\n",
      "        \"split_input_and_parameters\": false,\n",
      "        \"parameter_set\": \"bedrock\",\n",
      "        \"parameters\": {\n",
      "          \"temperature\": 0.1,\n",
      "          \"max_tokens\": 100,\n",
      "          \"top_p\": 0.92,\n",
      "          \"caching\": false\n",
      "        }\n",
      "      },\n",
      "      \"payload_files\": [\n",
      "        \"payload_en_1-500.jsonl\",\n",
      "        \"payload_en_500-1000.jsonl\"\n",
      "      ],\n",
      "      \"concurrency_levels\": [\n",
      "        1,\n",
      "        2\n",
      "      ],\n",
      "      \"env\": null,\n",
      "      \"bucket\": \"sagemaker-fmbench-write-us-west-2-387192758086\"\n",
      "    },\n",
      "    {\n",
      "      \"name\": \"ai21.j2-ultra-v1\",\n",
      "      \"model_id\": \"ai21.j2-ultra-v1\",\n",
      "      \"model_version\": \"*\",\n",
      "      \"model_name\": \"ai21.j2-ultra-v1\",\n",
      "      \"ep_name\": \"ai21.j2-ultra-v1\",\n",
      "      \"instance_type\": \"ai21.j2-ultra-v1\",\n",
      "      \"image_uri\": null,\n",
      "      \"deploy\": false,\n",
      "      \"instance_count\": null,\n",
      "      \"deployment_script\": null,\n",
      "      \"inference_script\": \"bedrock_predictor.py\",\n",
      "      \"inference_spec\": {\n",
      "        \"split_input_and_parameters\": false,\n",
      "        \"parameter_set\": \"bedrock\",\n",
      "        \"parameters\": {\n",
      "          \"temperature\": 0.1,\n",
      "          \"max_tokens\": 100,\n",
      "          \"top_p\": 0.92,\n",
      "          \"caching\": false\n",
      "        }\n",
      "      },\n",
      "      \"payload_files\": [\n",
      "        \"payload_en_1-500.jsonl\",\n",
      "        \"payload_en_500-1000.jsonl\"\n",
      "      ],\n",
      "      \"concurrency_levels\": [\n",
      "        1,\n",
      "        2\n",
      "      ],\n",
      "      \"env\": null,\n",
      "      \"bucket\": \"sagemaker-fmbench-write-us-west-2-387192758086\"\n",
      "    }\n",
      "  ],\n",
      "  \"report\": {\n",
      "    \"latency_budget\": 2,\n",
      "    \"cost_per_10k_txn_budget\": 50,\n",
      "    \"error_rate_budget\": 0,\n",
      "    \"per_inference_request_file\": \"per_inference_request_results.csv\",\n",
      "    \"all_metrics_file\": \"all_metrics.csv\",\n",
      "    \"txn_count_for_showing_cost\": 10000,\n",
      "    \"v_shift_w_single_instance\": 0.025,\n",
      "    \"v_shift_w_gt_one_instance\": 0.025\n",
      "  }\n",
      "}\n"
     ]
    },
    {
     "name": "stdout",
     "output_type": "stream",
     "text": [
      "role_arn_from_env=None, using current sts caller identity to set arn_string\n",
      "the sts role is an assumed role, setting arn_string to arn:aws:iam::387192758086:role/fmbench-stack-us-west-2-role\n"
     ]
    }
   ],
   "source": [
    "logger.info(f\"CONFIG_FILE={CONFIG_FILE}\")\n",
    "config = load_main_config(CONFIG_FILE)\n",
    "logger.info(json.dumps(config, indent=2))"
   ]
  },
  {
   "cell_type": "markdown",
   "metadata": {},
   "source": [
    "#### Load the associated pricing config file"
   ]
  },
  {
   "cell_type": "code",
   "execution_count": 6,
   "metadata": {
    "tags": []
   },
   "outputs": [
    {
     "name": "stderr",
     "output_type": "stream",
     "text": [
      "[2024-07-12 01:37:30,565] p13828 {2131877439.py:9} INFO - Using fmbench.configs directory: /home/ec2-user/anaconda3/envs/fmbench_eval_python311/lib/python3.11/site-packages/fmbench/configs\n",
      "[2024-07-12 01:37:30,566] p13828 {2131877439.py:12} INFO - pricing config provided for inference from this model is --> pricing.yml\n",
      "[2024-07-12 01:37:30,566] p13828 {2131877439.py:14} INFO - pricing config file path is --> /home/ec2-user/anaconda3/envs/fmbench_eval_python311/lib/python3.11/site-packages/fmbench/configs/pricing.yml\n"
     ]
    },
    {
     "name": "stdout",
     "output_type": "stream",
     "text": [
      "region_name=us-west-2\n"
     ]
    },
    {
     "name": "stderr",
     "output_type": "stream",
     "text": [
      "[2024-07-12 01:37:30,837] p13828 {2131877439.py:17} INFO - pricing config file recorded: {\n",
      "  \"pricing\": {\n",
      "    \"instance_based\": {\n",
      "      \"ml.m5.xlarge\": 0.23,\n",
      "      \"ml.g5.xlarge\": 1.4084,\n",
      "      \"ml.g5.2xlarge\": 1.515,\n",
      "      \"ml.g5.12xlarge\": 7.09,\n",
      "      \"ml.g5.24xlarge\": 10.18,\n",
      "      \"ml.g5.48xlarge\": 20.36,\n",
      "      \"ml.inf2.xlarge\": 0.99,\n",
      "      \"ml.inf2.8xlarge\": 2.36,\n",
      "      \"ml.inf2.24xlarge\": 7.79,\n",
      "      \"ml.inf2.48xlarge\": 15.58,\n",
      "      \"ml.trn1.32xlarge\": 28.497,\n",
      "      \"ml.p4d.24xlarge\": 37.688,\n",
      "      \"ml.p5.48xlarge\": 113.068,\n",
      "      \"ml.p3.2xlarge\": 3.825,\n",
      "      \"ml.g4dn.12xlarge\": 4.89,\n",
      "      \"ml.g6.2xlarge\": 1.222,\n",
      "      \"ml.g6.16xlarge\": 4.246,\n",
      "      \"ml.g6.12xlarge\": 5.752,\n",
      "      \"ml.g6.24xlarge\": 8.344,\n",
      "      \"ml.g6.48xlarge\": 16.688,\n",
      "      \"anthropic.claude-v3-sonnet-pt-nc\": 88,\n",
      "      \"m5.xlarge\": 0.192,\n",
      "      \"g5.xlarge\": 1.006,\n",
      "      \"g5.2xlarge\": 1.212,\n",
      "      \"g5.12xlarge\": 5.672,\n",
      "      \"g5.24xlarge\": 8.144,\n",
      "      \"g5.48xlarge\": 16.288,\n",
      "      \"inf2.xlarge\": 0.7582,\n",
      "      \"inf2.8xlarge\": 1.96786,\n",
      "      \"inf2.24xlarge\": 6.49063,\n",
      "      \"inf2.48xlarge\": 12.98127,\n",
      "      \"trn1.32xlarge\": 21.5,\n",
      "      \"p4d.24xlarge\": 32.7726,\n",
      "      \"p5.48xlarge\": 98.32,\n",
      "      \"p3.2xlarge\": 3.06,\n",
      "      \"g4dn.12xlarge\": 3.912,\n",
      "      \"g6.2xlarge\": 0.9776,\n",
      "      \"g6.16xlarge\": 3.3968,\n",
      "      \"g6.12xlarge\": 4.6016,\n",
      "      \"g6.24xlarge\": 6.6752,\n",
      "      \"g6.48xlarge\": 13.3504\n",
      "    },\n",
      "    \"token_based\": {\n",
      "      \"anthropic.claude-3-haiku-20240307-v1:0\": {\n",
      "        \"input-per-1k-tokens\": 0.00025,\n",
      "        \"output-per-1k-tokens\": 0.00125\n",
      "      },\n",
      "      \"anthropic.claude-3-sonnet-20240229-v1:0\": {\n",
      "        \"input-per-1k-tokens\": 0.003,\n",
      "        \"output-per-1k-tokens\": 0.015\n",
      "      },\n",
      "      \"amazon.titan-text-lite-v1\": {\n",
      "        \"input-per-1k-tokens\": 0.0003,\n",
      "        \"output-per-1k-tokens\": 0.0004\n",
      "      },\n",
      "      \"amazon.titan-text-express-v1\": {\n",
      "        \"input-per-1k-tokens\": 0.0008,\n",
      "        \"output-per-1k-tokens\": 0.0016\n",
      "      },\n",
      "      \"mistral.mistral-7b-instruct-v0:2\": {\n",
      "        \"input-per-1k-tokens\": 0.00015,\n",
      "        \"output-per-1k-tokens\": 0.0002\n",
      "      },\n",
      "      \"mistral.mixtral-8x7b-instruct-v0:1\": {\n",
      "        \"input-per-1k-tokens\": 0.00045,\n",
      "        \"output-per-1k-tokens\": 0.0007\n",
      "      },\n",
      "      \"meta.llama3-8b-instruct-v1:0\": {\n",
      "        \"input-per-1k-tokens\": 0.0004,\n",
      "        \"output-per-1k-tokens\": 0.0006\n",
      "      },\n",
      "      \"meta.llama3-70b-instruct-v1:0\": {\n",
      "        \"input-per-1k-tokens\": 0.00265,\n",
      "        \"output-per-1k-tokens\": 0.0035\n",
      "      },\n",
      "      \"meta.llama2-13b-chat-v1\": {\n",
      "        \"input-per-1k-tokens\": 0.00075,\n",
      "        \"output-per-1k-tokens\": 0.001\n",
      "      },\n",
      "      \"meta.llama2-70b-chat-v1\": {\n",
      "        \"input-per-1k-tokens\": 0.00195,\n",
      "        \"output-per-1k-tokens\": 0.00256\n",
      "      },\n",
      "      \"ai21.j2-mid-v1\": {\n",
      "        \"input-per-1k-tokens\": 0.0125,\n",
      "        \"output-per-1k-tokens\": 0.0125\n",
      "      },\n",
      "      \"ai21.j2-ultra-v1\": {\n",
      "        \"input-per-1k-tokens\": 0.0188,\n",
      "        \"output-per-1k-tokens\": 0.0188\n",
      "      },\n",
      "      \"cohere.command-text-v14\": {\n",
      "        \"input-per-1k-tokens\": 0.0015,\n",
      "        \"output-per-1k-tokens\": 0.002\n",
      "      },\n",
      "      \"cohere.command-light-text-v14\": {\n",
      "        \"input-per-1k-tokens\": 0.0003,\n",
      "        \"output-per-1k-tokens\": 0.0006\n",
      "      }\n",
      "    }\n",
      "  }\n",
      "}\n"
     ]
    },
    {
     "name": "stdout",
     "output_type": "stream",
     "text": [
      "role_arn_from_env=None, using current sts caller identity to set arn_string\n",
      "the sts role is an assumed role, setting arn_string to arn:aws:iam::387192758086:role/fmbench-stack-us-west-2-role\n"
     ]
    }
   ],
   "source": [
    "# represents getting the config file from the s3 bucket/https path for pricing yml information\n",
    "pricing_file_path: str = config['pricing'] \n",
    "\n",
    "# initialize the pricing config file to None\n",
    "pricing_config: Optional[Dict] = None\n",
    "\n",
    "# get the current config dir path\n",
    "config_dir = Path(pkg_resources.files('fmbench'), 'configs')\n",
    "logger.info(f\"Using fmbench.configs directory: {config_dir}\")\n",
    "\n",
    "pricing_module = Path(config['pricing'])\n",
    "logger.info(f\"pricing config provided for inference from this model is --> {pricing_module}\")\n",
    "pricing_file_path = os.path.join(config_dir, pricing_module)\n",
    "logger.info(f\"pricing config file path is --> {pricing_file_path}\")\n",
    "\n",
    "pricing_config = load_config(pricing_file_path)\n",
    "logger.info(f\"pricing config file recorded: {json.dumps(pricing_config, indent=2)}\")"
   ]
  },
  {
   "cell_type": "code",
   "execution_count": 7,
   "metadata": {
    "tags": []
   },
   "outputs": [
    {
     "name": "stderr",
     "output_type": "stream",
     "text": [
      "[2024-07-12 01:37:30,843] p13828 {3887258129.py:6} INFO - cwd=/home/ec2-user/SageMaker/foundation-model-benchmarking-tool/src/fmbench, METADATA_DIR=metadata, METRICS_PATH_FNAME=metrics_path.txt, metrics_path_file=metadata/metrics_path.txt\n"
     ]
    },
    {
     "ename": "FileNotFoundError",
     "evalue": "[Errno 2] No such file or directory: 'metadata/metrics_path.txt'",
     "output_type": "error",
     "traceback": [
      "\u001b[0;31m---------------------------------------------------------------------------\u001b[0m",
      "\u001b[0;31mFileNotFoundError\u001b[0m                         Traceback (most recent call last)",
      "Cell \u001b[0;32mIn[7], line 7\u001b[0m\n\u001b[1;32m      5\u001b[0m     metrics_path_file: \u001b[38;5;28mstr\u001b[39m \u001b[38;5;241m=\u001b[39m os\u001b[38;5;241m.\u001b[39mpath\u001b[38;5;241m.\u001b[39mjoin(METADATA_DIR, METRICS_PATH_FNAME)\n\u001b[1;32m      6\u001b[0m logger\u001b[38;5;241m.\u001b[39minfo(\u001b[38;5;124mf\u001b[39m\u001b[38;5;124m\"\u001b[39m\u001b[38;5;124mcwd=\u001b[39m\u001b[38;5;132;01m{\u001b[39;00mos\u001b[38;5;241m.\u001b[39mgetcwd()\u001b[38;5;132;01m}\u001b[39;00m\u001b[38;5;124m, METADATA_DIR=\u001b[39m\u001b[38;5;132;01m{\u001b[39;00mMETADATA_DIR\u001b[38;5;132;01m}\u001b[39;00m\u001b[38;5;124m, METRICS_PATH_FNAME=\u001b[39m\u001b[38;5;132;01m{\u001b[39;00mMETRICS_PATH_FNAME\u001b[38;5;132;01m}\u001b[39;00m\u001b[38;5;124m, metrics_path_file=\u001b[39m\u001b[38;5;132;01m{\u001b[39;00mmetrics_path_file\u001b[38;5;132;01m}\u001b[39;00m\u001b[38;5;124m\"\u001b[39m)\n\u001b[0;32m----> 7\u001b[0m METRICS_DIR: \u001b[38;5;28mstr\u001b[39m \u001b[38;5;241m=\u001b[39m \u001b[43mPath\u001b[49m\u001b[43m(\u001b[49m\u001b[43mmetrics_path_file\u001b[49m\u001b[43m)\u001b[49m\u001b[38;5;241;43m.\u001b[39;49m\u001b[43mread_text\u001b[49m\u001b[43m(\u001b[49m\u001b[43m)\u001b[49m\u001b[38;5;241m.\u001b[39mstrip()\n\u001b[1;32m      8\u001b[0m logger\u001b[38;5;241m.\u001b[39minfo(\u001b[38;5;124mf\u001b[39m\u001b[38;5;124m\"\u001b[39m\u001b[38;5;124mmetrics_path_file=\u001b[39m\u001b[38;5;132;01m{\u001b[39;00mmetrics_path_file\u001b[38;5;132;01m}\u001b[39;00m\u001b[38;5;124m, METRICS_DIR=\u001b[39m\u001b[38;5;132;01m{\u001b[39;00mMETRICS_DIR\u001b[38;5;132;01m}\u001b[39;00m\u001b[38;5;124m\"\u001b[39m)\n",
      "File \u001b[0;32m~/anaconda3/envs/fmbench_eval_python311/lib/python3.11/pathlib.py:1058\u001b[0m, in \u001b[0;36mPath.read_text\u001b[0;34m(self, encoding, errors)\u001b[0m\n\u001b[1;32m   1054\u001b[0m \u001b[38;5;250m\u001b[39m\u001b[38;5;124;03m\"\"\"\u001b[39;00m\n\u001b[1;32m   1055\u001b[0m \u001b[38;5;124;03mOpen the file in text mode, read it, and close the file.\u001b[39;00m\n\u001b[1;32m   1056\u001b[0m \u001b[38;5;124;03m\"\"\"\u001b[39;00m\n\u001b[1;32m   1057\u001b[0m encoding \u001b[38;5;241m=\u001b[39m io\u001b[38;5;241m.\u001b[39mtext_encoding(encoding)\n\u001b[0;32m-> 1058\u001b[0m \u001b[38;5;28;01mwith\u001b[39;00m \u001b[38;5;28;43mself\u001b[39;49m\u001b[38;5;241;43m.\u001b[39;49m\u001b[43mopen\u001b[49m\u001b[43m(\u001b[49m\u001b[43mmode\u001b[49m\u001b[38;5;241;43m=\u001b[39;49m\u001b[38;5;124;43m'\u001b[39;49m\u001b[38;5;124;43mr\u001b[39;49m\u001b[38;5;124;43m'\u001b[39;49m\u001b[43m,\u001b[49m\u001b[43m \u001b[49m\u001b[43mencoding\u001b[49m\u001b[38;5;241;43m=\u001b[39;49m\u001b[43mencoding\u001b[49m\u001b[43m,\u001b[49m\u001b[43m \u001b[49m\u001b[43merrors\u001b[49m\u001b[38;5;241;43m=\u001b[39;49m\u001b[43merrors\u001b[49m\u001b[43m)\u001b[49m \u001b[38;5;28;01mas\u001b[39;00m f:\n\u001b[1;32m   1059\u001b[0m     \u001b[38;5;28;01mreturn\u001b[39;00m f\u001b[38;5;241m.\u001b[39mread()\n",
      "File \u001b[0;32m~/anaconda3/envs/fmbench_eval_python311/lib/python3.11/pathlib.py:1044\u001b[0m, in \u001b[0;36mPath.open\u001b[0;34m(self, mode, buffering, encoding, errors, newline)\u001b[0m\n\u001b[1;32m   1042\u001b[0m \u001b[38;5;28;01mif\u001b[39;00m \u001b[38;5;124m\"\u001b[39m\u001b[38;5;124mb\u001b[39m\u001b[38;5;124m\"\u001b[39m \u001b[38;5;129;01mnot\u001b[39;00m \u001b[38;5;129;01min\u001b[39;00m mode:\n\u001b[1;32m   1043\u001b[0m     encoding \u001b[38;5;241m=\u001b[39m io\u001b[38;5;241m.\u001b[39mtext_encoding(encoding)\n\u001b[0;32m-> 1044\u001b[0m \u001b[38;5;28;01mreturn\u001b[39;00m io\u001b[38;5;241m.\u001b[39mopen(\u001b[38;5;28mself\u001b[39m, mode, buffering, encoding, errors, newline)\n",
      "\u001b[0;31mFileNotFoundError\u001b[0m: [Errno 2] No such file or directory: 'metadata/metrics_path.txt'"
     ]
    }
   ],
   "source": [
    "debug = False\n",
    "if debug is True:\n",
    "    metrics_path_file: str = os.path.join(\"..\", \"..\", METADATA_DIR, METRICS_PATH_FNAME)\n",
    "else:\n",
    "    metrics_path_file: str = os.path.join(METADATA_DIR, METRICS_PATH_FNAME)\n",
    "logger.info(f\"cwd={os.getcwd()}, METADATA_DIR={METADATA_DIR}, METRICS_PATH_FNAME={METRICS_PATH_FNAME}, metrics_path_file={metrics_path_file}\")\n",
    "METRICS_DIR: str = Path(metrics_path_file).read_text().strip()\n",
    "logger.info(f\"metrics_path_file={metrics_path_file}, METRICS_DIR={METRICS_DIR}\")"
   ]
  },
  {
   "cell_type": "code",
   "execution_count": 8,
   "metadata": {
    "tags": []
   },
   "outputs": [
    {
     "name": "stderr",
     "output_type": "stream",
     "text": [
      "[2024-07-12 01:37:34,252] p13828 {1364581041.py:3} INFO - File path containing the metrics per inference folder --> fmbench-bedrock-fmbench-stack-us-west-2-role/data/metrics/yyyy=2024/mm=07/dd=12/hh=01/mm=18/per_inference_request_results.csv\n",
      "[2024-07-12 01:37:34,356] p13828 {1364581041.py:10} INFO - fmbench-bedrock-fmbench-stack-us-west-2-role/data/metrics/yyyy=2024/mm=07/dd=12/hh=01/mm=18/per_inference_request_results.csv read into dataframe of shape (360, 22), cols=Index(['endpoint_name', 'prompt', 'ground_truth', 'temperature', 'max_tokens',\n",
      "       'top_p', 'completion', 'prompt_tokens', 'completion_tokens', 'latency',\n",
      "       'time_to_first_token', 'time_per_output_token', 'time_to_last_token',\n",
      "       'uuid', 'experiment_name', 'concurrency', 'instance_type',\n",
      "       'instance_count', 'EndpointName', 'ModelName', 'Image', 'S3Uri'],\n",
      "      dtype='object')\n",
      "[2024-07-12 01:37:34,357] p13828 {1364581041.py:12} INFO - fmbench-bedrock-fmbench-stack-us-west-2-role/data/metrics/yyyy=2024/mm=07/dd=12/hh=01/mm=18/per_inference_request_results.csv contains results for the following endpoints=['mistral.mistral-7b-instruct-v0:2' 'mistral.mixtral-8x7b-instruct-v0:1'\n",
      " 'meta.llama2-13b-chat-v1' 'meta.llama2-70b-chat-v1'\n",
      " 'amazon.titan-text-lite-v1' 'amazon.titan-text-express-v1'\n",
      " 'anthropic.claude-3-sonnet-20240229-v1:0'\n",
      " 'anthropic.claude-3-haiku-20240307-v1:0' 'cohere.command-text-v14'\n",
      " 'cohere.command-light-text-v14' 'ai21.j2-mid-v1' 'ai21.j2-ultra-v1']\n",
      "[2024-07-12 01:37:34,358] p13828 {1364581041.py:13} INFO -                       endpoint_name  \\\n",
      "0  mistral.mistral-7b-instruct-v0:2   \n",
      "1  mistral.mistral-7b-instruct-v0:2   \n",
      "2  mistral.mistral-7b-instruct-v0:2   \n",
      "3  mistral.mistral-7b-instruct-v0:2   \n",
      "4  mistral.mistral-7b-instruct-v0:2   \n",
      "\n",
      "                                              prompt  \\\n",
      "0  <s>[INST] <<SYS>>\\nYou are an assistant for qu...   \n",
      "1  <s>[INST] <<SYS>>\\nYou are an assistant for qu...   \n",
      "2  <s>[INST] <<SYS>>\\nYou are an assistant for qu...   \n",
      "3  <s>[INST] <<SYS>>\\nYou are an assistant for qu...   \n",
      "4  <s>[INST] <<SYS>>\\nYou are an assistant for qu...   \n",
      "\n",
      "                                        ground_truth  temperature  max_tokens  \\\n",
      "0  a genus of flowering plant in the Lardizabalac...          0.1         100   \n",
      "1  a genus of flowering plant in the Lardizabalac...          0.1         100   \n",
      "2  a genus of flowering plant in the Lardizabalac...          0.1         100   \n",
      "3  a genus of flowering plant in the Lardizabalac...          0.1         100   \n",
      "4  a genus of flowering plant in the Lardizabalac...          0.1         100   \n",
      "\n",
      "   top_p                                         completion  prompt_tokens  \\\n",
      "0   0.92  The genera Sinofranchetia and Stauntonia belon...            319   \n",
      "1   0.92  The genera Sinofranchetia and Stauntonia belon...            319   \n",
      "2   0.92  The genera Sinofranchetia and Stauntonia belon...            319   \n",
      "3   0.92  The genera Sinofranchetia and Stauntonia belon...            319   \n",
      "4   0.92  The genera Sinofranchetia and Stauntonia belon...            319   \n",
      "\n",
      "   completion_tokens   latency  ...  time_to_last_token  \\\n",
      "0                 26  0.440897  ...                 NaN   \n",
      "1                 26  0.450330  ...                 NaN   \n",
      "2                 26  0.461762  ...                 NaN   \n",
      "3                 26  0.453813  ...                 NaN   \n",
      "4                 26  0.435938  ...                 NaN   \n",
      "\n",
      "                               uuid                   experiment_name  \\\n",
      "0  6e77fb90ea804956a115b0268df059b0  mistral.mistral-7b-instruct-v0:2   \n",
      "1  82d04de71238454a9bbe05f520f22cb0  mistral.mistral-7b-instruct-v0:2   \n",
      "2  22303e132fb646aa86b938083660dce8  mistral.mistral-7b-instruct-v0:2   \n",
      "3  715d1d30b18244279ff5c0fbf112f245  mistral.mistral-7b-instruct-v0:2   \n",
      "4  6ede1f51a3d143f09377dda35107693a  mistral.mistral-7b-instruct-v0:2   \n",
      "\n",
      "  concurrency                     instance_type  instance_count EndpointName  \\\n",
      "0           1  mistral.mistral-7b-instruct-v0:2             1.0          NaN   \n",
      "1           1  mistral.mistral-7b-instruct-v0:2             1.0          NaN   \n",
      "2           1  mistral.mistral-7b-instruct-v0:2             1.0          NaN   \n",
      "3           1  mistral.mistral-7b-instruct-v0:2             1.0          NaN   \n",
      "4           1  mistral.mistral-7b-instruct-v0:2             1.0          NaN   \n",
      "\n",
      "   ModelName  Image  S3Uri  \n",
      "0        NaN    NaN    NaN  \n",
      "1        NaN    NaN    NaN  \n",
      "2        NaN    NaN    NaN  \n",
      "3        NaN    NaN    NaN  \n",
      "4        NaN    NaN    NaN  \n",
      "\n",
      "[5 rows x 22 columns]\n"
     ]
    }
   ],
   "source": [
    "# file_path = os.path.join(METRICS_DIR, config[\"report\"][\"per_inference_request_file\"])\n",
    "file_path: str = \"fmbench-bedrock-fmbench-stack-us-west-2-role/data/metrics/yyyy=2024/mm=07/dd=12/hh=01/mm=18/per_inference_request_results.csv\"\n",
    "logger.info(f\"File path containing the metrics per inference folder --> {file_path}\")\n",
    "\n",
    "# Read the file from S3\n",
    "try:\n",
    "    file_content = get_s3_object(config['aws']['bucket'], file_path)\n",
    "    # Use pandas to read the CSV content\n",
    "    df_per_inference = pd.read_csv(io.StringIO(file_content))\n",
    "    logger.info(f\"{file_path} read into dataframe of shape {df_per_inference.shape}, \"\n",
    "                f\"cols={df_per_inference.columns}\")\n",
    "    logger.info(f\"{file_path} contains results for the following endpoints={df_per_inference.endpoint_name.unique()}\")\n",
    "    logger.info(df_per_inference.head())\n",
    "except Exception as e:\n",
    "    logger.error(f\"Error reading from S3: {e}\")"
   ]
  },
  {
   "cell_type": "code",
   "execution_count": 9,
   "metadata": {
    "tags": []
   },
   "outputs": [
    {
     "data": {
      "text/html": [
       "<div>\n",
       "<style scoped>\n",
       "    .dataframe tbody tr th:only-of-type {\n",
       "        vertical-align: middle;\n",
       "    }\n",
       "\n",
       "    .dataframe tbody tr th {\n",
       "        vertical-align: top;\n",
       "    }\n",
       "\n",
       "    .dataframe thead th {\n",
       "        text-align: right;\n",
       "    }\n",
       "</style>\n",
       "<table border=\"1\" class=\"dataframe\">\n",
       "  <thead>\n",
       "    <tr style=\"text-align: right;\">\n",
       "      <th></th>\n",
       "      <th>endpoint_name</th>\n",
       "      <th>prompt</th>\n",
       "      <th>ground_truth</th>\n",
       "      <th>temperature</th>\n",
       "      <th>max_tokens</th>\n",
       "      <th>top_p</th>\n",
       "      <th>completion</th>\n",
       "      <th>prompt_tokens</th>\n",
       "      <th>completion_tokens</th>\n",
       "      <th>latency</th>\n",
       "      <th>...</th>\n",
       "      <th>time_to_last_token</th>\n",
       "      <th>uuid</th>\n",
       "      <th>experiment_name</th>\n",
       "      <th>concurrency</th>\n",
       "      <th>instance_type</th>\n",
       "      <th>instance_count</th>\n",
       "      <th>EndpointName</th>\n",
       "      <th>ModelName</th>\n",
       "      <th>Image</th>\n",
       "      <th>S3Uri</th>\n",
       "    </tr>\n",
       "  </thead>\n",
       "  <tbody>\n",
       "    <tr>\n",
       "      <th>0</th>\n",
       "      <td>mistral.mistral-7b-instruct-v0:2</td>\n",
       "      <td>&lt;s&gt;[INST] &lt;&lt;SYS&gt;&gt;\\nYou are an assistant for qu...</td>\n",
       "      <td>a genus of flowering plant in the Lardizabalac...</td>\n",
       "      <td>0.1</td>\n",
       "      <td>100</td>\n",
       "      <td>0.92</td>\n",
       "      <td>The genera Sinofranchetia and Stauntonia belon...</td>\n",
       "      <td>319</td>\n",
       "      <td>26</td>\n",
       "      <td>0.440897</td>\n",
       "      <td>...</td>\n",
       "      <td>NaN</td>\n",
       "      <td>6e77fb90ea804956a115b0268df059b0</td>\n",
       "      <td>mistral.mistral-7b-instruct-v0:2</td>\n",
       "      <td>1</td>\n",
       "      <td>mistral.mistral-7b-instruct-v0:2</td>\n",
       "      <td>1.0</td>\n",
       "      <td>NaN</td>\n",
       "      <td>NaN</td>\n",
       "      <td>NaN</td>\n",
       "      <td>NaN</td>\n",
       "    </tr>\n",
       "    <tr>\n",
       "      <th>1</th>\n",
       "      <td>mistral.mistral-7b-instruct-v0:2</td>\n",
       "      <td>&lt;s&gt;[INST] &lt;&lt;SYS&gt;&gt;\\nYou are an assistant for qu...</td>\n",
       "      <td>a genus of flowering plant in the Lardizabalac...</td>\n",
       "      <td>0.1</td>\n",
       "      <td>100</td>\n",
       "      <td>0.92</td>\n",
       "      <td>The genera Sinofranchetia and Stauntonia belon...</td>\n",
       "      <td>319</td>\n",
       "      <td>26</td>\n",
       "      <td>0.450330</td>\n",
       "      <td>...</td>\n",
       "      <td>NaN</td>\n",
       "      <td>82d04de71238454a9bbe05f520f22cb0</td>\n",
       "      <td>mistral.mistral-7b-instruct-v0:2</td>\n",
       "      <td>1</td>\n",
       "      <td>mistral.mistral-7b-instruct-v0:2</td>\n",
       "      <td>1.0</td>\n",
       "      <td>NaN</td>\n",
       "      <td>NaN</td>\n",
       "      <td>NaN</td>\n",
       "      <td>NaN</td>\n",
       "    </tr>\n",
       "    <tr>\n",
       "      <th>2</th>\n",
       "      <td>mistral.mistral-7b-instruct-v0:2</td>\n",
       "      <td>&lt;s&gt;[INST] &lt;&lt;SYS&gt;&gt;\\nYou are an assistant for qu...</td>\n",
       "      <td>a genus of flowering plant in the Lardizabalac...</td>\n",
       "      <td>0.1</td>\n",
       "      <td>100</td>\n",
       "      <td>0.92</td>\n",
       "      <td>The genera Sinofranchetia and Stauntonia belon...</td>\n",
       "      <td>319</td>\n",
       "      <td>26</td>\n",
       "      <td>0.461762</td>\n",
       "      <td>...</td>\n",
       "      <td>NaN</td>\n",
       "      <td>22303e132fb646aa86b938083660dce8</td>\n",
       "      <td>mistral.mistral-7b-instruct-v0:2</td>\n",
       "      <td>1</td>\n",
       "      <td>mistral.mistral-7b-instruct-v0:2</td>\n",
       "      <td>1.0</td>\n",
       "      <td>NaN</td>\n",
       "      <td>NaN</td>\n",
       "      <td>NaN</td>\n",
       "      <td>NaN</td>\n",
       "    </tr>\n",
       "    <tr>\n",
       "      <th>3</th>\n",
       "      <td>mistral.mistral-7b-instruct-v0:2</td>\n",
       "      <td>&lt;s&gt;[INST] &lt;&lt;SYS&gt;&gt;\\nYou are an assistant for qu...</td>\n",
       "      <td>a genus of flowering plant in the Lardizabalac...</td>\n",
       "      <td>0.1</td>\n",
       "      <td>100</td>\n",
       "      <td>0.92</td>\n",
       "      <td>The genera Sinofranchetia and Stauntonia belon...</td>\n",
       "      <td>319</td>\n",
       "      <td>26</td>\n",
       "      <td>0.453813</td>\n",
       "      <td>...</td>\n",
       "      <td>NaN</td>\n",
       "      <td>715d1d30b18244279ff5c0fbf112f245</td>\n",
       "      <td>mistral.mistral-7b-instruct-v0:2</td>\n",
       "      <td>1</td>\n",
       "      <td>mistral.mistral-7b-instruct-v0:2</td>\n",
       "      <td>1.0</td>\n",
       "      <td>NaN</td>\n",
       "      <td>NaN</td>\n",
       "      <td>NaN</td>\n",
       "      <td>NaN</td>\n",
       "    </tr>\n",
       "    <tr>\n",
       "      <th>4</th>\n",
       "      <td>mistral.mistral-7b-instruct-v0:2</td>\n",
       "      <td>&lt;s&gt;[INST] &lt;&lt;SYS&gt;&gt;\\nYou are an assistant for qu...</td>\n",
       "      <td>a genus of flowering plant in the Lardizabalac...</td>\n",
       "      <td>0.1</td>\n",
       "      <td>100</td>\n",
       "      <td>0.92</td>\n",
       "      <td>The genera Sinofranchetia and Stauntonia belon...</td>\n",
       "      <td>319</td>\n",
       "      <td>26</td>\n",
       "      <td>0.435938</td>\n",
       "      <td>...</td>\n",
       "      <td>NaN</td>\n",
       "      <td>6ede1f51a3d143f09377dda35107693a</td>\n",
       "      <td>mistral.mistral-7b-instruct-v0:2</td>\n",
       "      <td>1</td>\n",
       "      <td>mistral.mistral-7b-instruct-v0:2</td>\n",
       "      <td>1.0</td>\n",
       "      <td>NaN</td>\n",
       "      <td>NaN</td>\n",
       "      <td>NaN</td>\n",
       "      <td>NaN</td>\n",
       "    </tr>\n",
       "  </tbody>\n",
       "</table>\n",
       "<p>5 rows × 22 columns</p>\n",
       "</div>"
      ],
      "text/plain": [
       "                      endpoint_name  \\\n",
       "0  mistral.mistral-7b-instruct-v0:2   \n",
       "1  mistral.mistral-7b-instruct-v0:2   \n",
       "2  mistral.mistral-7b-instruct-v0:2   \n",
       "3  mistral.mistral-7b-instruct-v0:2   \n",
       "4  mistral.mistral-7b-instruct-v0:2   \n",
       "\n",
       "                                              prompt  \\\n",
       "0  <s>[INST] <<SYS>>\\nYou are an assistant for qu...   \n",
       "1  <s>[INST] <<SYS>>\\nYou are an assistant for qu...   \n",
       "2  <s>[INST] <<SYS>>\\nYou are an assistant for qu...   \n",
       "3  <s>[INST] <<SYS>>\\nYou are an assistant for qu...   \n",
       "4  <s>[INST] <<SYS>>\\nYou are an assistant for qu...   \n",
       "\n",
       "                                        ground_truth  temperature  max_tokens  \\\n",
       "0  a genus of flowering plant in the Lardizabalac...          0.1         100   \n",
       "1  a genus of flowering plant in the Lardizabalac...          0.1         100   \n",
       "2  a genus of flowering plant in the Lardizabalac...          0.1         100   \n",
       "3  a genus of flowering plant in the Lardizabalac...          0.1         100   \n",
       "4  a genus of flowering plant in the Lardizabalac...          0.1         100   \n",
       "\n",
       "   top_p                                         completion  prompt_tokens  \\\n",
       "0   0.92  The genera Sinofranchetia and Stauntonia belon...            319   \n",
       "1   0.92  The genera Sinofranchetia and Stauntonia belon...            319   \n",
       "2   0.92  The genera Sinofranchetia and Stauntonia belon...            319   \n",
       "3   0.92  The genera Sinofranchetia and Stauntonia belon...            319   \n",
       "4   0.92  The genera Sinofranchetia and Stauntonia belon...            319   \n",
       "\n",
       "   completion_tokens   latency  ...  time_to_last_token  \\\n",
       "0                 26  0.440897  ...                 NaN   \n",
       "1                 26  0.450330  ...                 NaN   \n",
       "2                 26  0.461762  ...                 NaN   \n",
       "3                 26  0.453813  ...                 NaN   \n",
       "4                 26  0.435938  ...                 NaN   \n",
       "\n",
       "                               uuid                   experiment_name  \\\n",
       "0  6e77fb90ea804956a115b0268df059b0  mistral.mistral-7b-instruct-v0:2   \n",
       "1  82d04de71238454a9bbe05f520f22cb0  mistral.mistral-7b-instruct-v0:2   \n",
       "2  22303e132fb646aa86b938083660dce8  mistral.mistral-7b-instruct-v0:2   \n",
       "3  715d1d30b18244279ff5c0fbf112f245  mistral.mistral-7b-instruct-v0:2   \n",
       "4  6ede1f51a3d143f09377dda35107693a  mistral.mistral-7b-instruct-v0:2   \n",
       "\n",
       "  concurrency                     instance_type  instance_count EndpointName  \\\n",
       "0           1  mistral.mistral-7b-instruct-v0:2             1.0          NaN   \n",
       "1           1  mistral.mistral-7b-instruct-v0:2             1.0          NaN   \n",
       "2           1  mistral.mistral-7b-instruct-v0:2             1.0          NaN   \n",
       "3           1  mistral.mistral-7b-instruct-v0:2             1.0          NaN   \n",
       "4           1  mistral.mistral-7b-instruct-v0:2             1.0          NaN   \n",
       "\n",
       "   ModelName  Image  S3Uri  \n",
       "0        NaN    NaN    NaN  \n",
       "1        NaN    NaN    NaN  \n",
       "2        NaN    NaN    NaN  \n",
       "3        NaN    NaN    NaN  \n",
       "4        NaN    NaN    NaN  \n",
       "\n",
       "[5 rows x 22 columns]"
      ]
     },
     "execution_count": 9,
     "metadata": {},
     "output_type": "execute_result"
    }
   ],
   "source": [
    "df_per_inference.head()"
   ]
  },
  {
   "cell_type": "markdown",
   "metadata": {},
   "source": [
    "### Relationship between prompt token length and inference latency for different instances and concurrency levels"
   ]
  },
  {
   "cell_type": "code",
   "execution_count": 10,
   "metadata": {
    "tags": []
   },
   "outputs": [
    {
     "data": {
      "text/plain": [
       "count    360.000000\n",
       "mean       0.999005\n",
       "std        0.660359\n",
       "min        0.273340\n",
       "25%        0.549609\n",
       "50%        0.800043\n",
       "75%        1.293201\n",
       "max        5.731676\n",
       "Name: latency, dtype: float64"
      ]
     },
     "execution_count": 10,
     "metadata": {},
     "output_type": "execute_result"
    }
   ],
   "source": [
    "df_per_inference.latency.describe()"
   ]
  },
  {
   "cell_type": "markdown",
   "metadata": {},
   "source": [
    "### Deploy the `sentence-transformers/all-mpnet-base-v2` embeddings model to calculate the _Cosine Similarity scores \n",
    "---\n",
    "\n",
    "This portion of the evaluation step does as follows:\n",
    "\n",
    "1. Deploys the `sentence-transformers/all-mpnet-base-v2` model from Hugging Face. This is a sentence-transformers model. It maps sentences & paragraphs to a 768 dimensional dense vector space and can be used for tasks like clustering or semantic search.\n",
    "\n",
    "1. Use the embeddings model to get quantitative metrics from the inferences. This helps to get a similarity score between the ground truth answers from a dataset if any are given and the actual responses from the model received during inference.\n",
    "\n",
    "1. If no ground truth is provided, cosine similarity is calculated between the response and the content provided to answer the question.embeddings_model_info"
   ]
  },
  {
   "cell_type": "code",
   "execution_count": 11,
   "metadata": {
    "tags": []
   },
   "outputs": [
    {
     "name": "stderr",
     "output_type": "stream",
     "text": [
      "[2024-07-12 01:37:35,126] p13828 {SentenceTransformer.py:189} INFO - Use pytorch device_name: cpu\n",
      "[2024-07-12 01:37:35,127] p13828 {SentenceTransformer.py:197} INFO - Load pretrained SentenceTransformer: sentence-transformers/all-mpnet-base-v2\n",
      "/home/ec2-user/anaconda3/envs/fmbench_eval_python311/lib/python3.11/site-packages/huggingface_hub/file_download.py:1132: FutureWarning: `resume_download` is deprecated and will be removed in version 1.0.0. Downloads always resume when possible. If you want to force a new download, use `force_download=True`.\n",
      "  warnings.warn(\n"
     ]
    },
    {
     "data": {
      "application/vnd.jupyter.widget-view+json": {
       "model_id": "590f5607bfbd4479bddcd6015f4f7d07",
       "version_major": 2,
       "version_minor": 0
      },
      "text/plain": [
       "Batches:   0%|          | 0/1 [00:00<?, ?it/s]"
      ]
     },
     "metadata": {},
     "output_type": "display_data"
    },
    {
     "name": "stderr",
     "output_type": "stream",
     "text": [
      "huggingface/tokenizers: The current process just got forked, after parallelism has already been used. Disabling parallelism to avoid deadlocks...\n",
      "To disable this warning, you can either:\n",
      "\t- Avoid using `tokenizers` before the fork if possible\n",
      "\t- Explicitly set the environment variable TOKENIZERS_PARALLELISM=(true | false)\n",
      "huggingface/tokenizers: The current process just got forked, after parallelism has already been used. Disabling parallelism to avoid deadlocks...\n",
      "To disable this warning, you can either:\n",
      "\t- Avoid using `tokenizers` before the fork if possible\n",
      "\t- Explicitly set the environment variable TOKENIZERS_PARALLELISM=(true | false)\n",
      "huggingface/tokenizers: The current process just got forked, after parallelism has already been used. Disabling parallelism to avoid deadlocks...\n",
      "To disable this warning, you can either:\n",
      "\t- Avoid using `tokenizers` before the fork if possible\n",
      "\t- Explicitly set the environment variable TOKENIZERS_PARALLELISM=(true | false)\n",
      "/home/ec2-user/anaconda3/envs/fmbench_eval_python311/lib/python3.11/site-packages/torch/cuda/__init__.py:619: UserWarning: Can't initialize NVML\n",
      "  warnings.warn(\"Can't initialize NVML\")\n"
     ]
    },
    {
     "data": {
      "application/vnd.jupyter.widget-view+json": {
       "model_id": "71f7715e3b1c40d496ff5e6958864a65",
       "version_major": 2,
       "version_minor": 0
      },
      "text/plain": [
       "Batches:   0%|          | 0/1 [00:00<?, ?it/s]"
      ]
     },
     "metadata": {},
     "output_type": "display_data"
    },
    {
     "data": {
      "application/vnd.jupyter.widget-view+json": {
       "model_id": "ea4cbb9416264a3b9b04a864ec1b48e0",
       "version_major": 2,
       "version_minor": 0
      },
      "text/plain": [
       "Batches:   0%|          | 0/1 [00:00<?, ?it/s]"
      ]
     },
     "metadata": {},
     "output_type": "display_data"
    },
    {
     "data": {
      "application/vnd.jupyter.widget-view+json": {
       "model_id": "be16235c87ed4b328f2258bd2f332b21",
       "version_major": 2,
       "version_minor": 0
      },
      "text/plain": [
       "Batches:   0%|          | 0/1 [00:00<?, ?it/s]"
      ]
     },
     "metadata": {},
     "output_type": "display_data"
    },
    {
     "data": {
      "application/vnd.jupyter.widget-view+json": {
       "model_id": "f6e7c4c41d804cea9d63a8980abe6065",
       "version_major": 2,
       "version_minor": 0
      },
      "text/plain": [
       "Batches:   0%|          | 0/1 [00:00<?, ?it/s]"
      ]
     },
     "metadata": {},
     "output_type": "display_data"
    },
    {
     "data": {
      "application/vnd.jupyter.widget-view+json": {
       "model_id": "d6a636a122de4cfa9c14d617ae78a8df",
       "version_major": 2,
       "version_minor": 0
      },
      "text/plain": [
       "Batches:   0%|          | 0/1 [00:00<?, ?it/s]"
      ]
     },
     "metadata": {},
     "output_type": "display_data"
    },
    {
     "data": {
      "application/vnd.jupyter.widget-view+json": {
       "model_id": "f69daaccd8e7410f91f4767ccceb1d16",
       "version_major": 2,
       "version_minor": 0
      },
      "text/plain": [
       "Batches:   0%|          | 0/1 [00:00<?, ?it/s]"
      ]
     },
     "metadata": {},
     "output_type": "display_data"
    },
    {
     "data": {
      "application/vnd.jupyter.widget-view+json": {
       "model_id": "2384ab297b434e4388979726c0a80efa",
       "version_major": 2,
       "version_minor": 0
      },
      "text/plain": [
       "Batches:   0%|          | 0/1 [00:00<?, ?it/s]"
      ]
     },
     "metadata": {},
     "output_type": "display_data"
    },
    {
     "data": {
      "application/vnd.jupyter.widget-view+json": {
       "model_id": "efaf84bd153d4e6c84e2fd394fbc85f6",
       "version_major": 2,
       "version_minor": 0
      },
      "text/plain": [
       "Batches:   0%|          | 0/1 [00:00<?, ?it/s]"
      ]
     },
     "metadata": {},
     "output_type": "display_data"
    },
    {
     "data": {
      "application/vnd.jupyter.widget-view+json": {
       "model_id": "83ce32f42ce64b0da0eecd83d7d453a8",
       "version_major": 2,
       "version_minor": 0
      },
      "text/plain": [
       "Batches:   0%|          | 0/1 [00:00<?, ?it/s]"
      ]
     },
     "metadata": {},
     "output_type": "display_data"
    },
    {
     "data": {
      "application/vnd.jupyter.widget-view+json": {
       "model_id": "053b7b1b8810416b81a29becaebce063",
       "version_major": 2,
       "version_minor": 0
      },
      "text/plain": [
       "Batches:   0%|          | 0/1 [00:00<?, ?it/s]"
      ]
     },
     "metadata": {},
     "output_type": "display_data"
    },
    {
     "data": {
      "application/vnd.jupyter.widget-view+json": {
       "model_id": "b88da6d8bda04299bfcb6d48313e10a8",
       "version_major": 2,
       "version_minor": 0
      },
      "text/plain": [
       "Batches:   0%|          | 0/1 [00:00<?, ?it/s]"
      ]
     },
     "metadata": {},
     "output_type": "display_data"
    },
    {
     "data": {
      "application/vnd.jupyter.widget-view+json": {
       "model_id": "98444fea086b4d2e871142874987116d",
       "version_major": 2,
       "version_minor": 0
      },
      "text/plain": [
       "Batches:   0%|          | 0/1 [00:00<?, ?it/s]"
      ]
     },
     "metadata": {},
     "output_type": "display_data"
    },
    {
     "data": {
      "application/vnd.jupyter.widget-view+json": {
       "model_id": "29ab2494f7214c1fbd2f2b2461930049",
       "version_major": 2,
       "version_minor": 0
      },
      "text/plain": [
       "Batches:   0%|          | 0/1 [00:00<?, ?it/s]"
      ]
     },
     "metadata": {},
     "output_type": "display_data"
    },
    {
     "data": {
      "application/vnd.jupyter.widget-view+json": {
       "model_id": "8176ea7de34d4930bb2f4a4a55f0ea4d",
       "version_major": 2,
       "version_minor": 0
      },
      "text/plain": [
       "Batches:   0%|          | 0/1 [00:00<?, ?it/s]"
      ]
     },
     "metadata": {},
     "output_type": "display_data"
    },
    {
     "data": {
      "application/vnd.jupyter.widget-view+json": {
       "model_id": "72637aad4ccf40f1a8cf04d40f0b5647",
       "version_major": 2,
       "version_minor": 0
      },
      "text/plain": [
       "Batches:   0%|          | 0/1 [00:00<?, ?it/s]"
      ]
     },
     "metadata": {},
     "output_type": "display_data"
    },
    {
     "data": {
      "application/vnd.jupyter.widget-view+json": {
       "model_id": "21e8e6c6d7dd4e2e9ea56c02658fcb64",
       "version_major": 2,
       "version_minor": 0
      },
      "text/plain": [
       "Batches:   0%|          | 0/1 [00:00<?, ?it/s]"
      ]
     },
     "metadata": {},
     "output_type": "display_data"
    },
    {
     "data": {
      "application/vnd.jupyter.widget-view+json": {
       "model_id": "d8b4ca5c75a147ba9e6882bf6f8e1768",
       "version_major": 2,
       "version_minor": 0
      },
      "text/plain": [
       "Batches:   0%|          | 0/1 [00:00<?, ?it/s]"
      ]
     },
     "metadata": {},
     "output_type": "display_data"
    },
    {
     "data": {
      "application/vnd.jupyter.widget-view+json": {
       "model_id": "0d82b2773f244669bfb5ba6bfb8cea7b",
       "version_major": 2,
       "version_minor": 0
      },
      "text/plain": [
       "Batches:   0%|          | 0/1 [00:00<?, ?it/s]"
      ]
     },
     "metadata": {},
     "output_type": "display_data"
    },
    {
     "data": {
      "application/vnd.jupyter.widget-view+json": {
       "model_id": "db74c43743eb4753a61e9cd2e6a2d091",
       "version_major": 2,
       "version_minor": 0
      },
      "text/plain": [
       "Batches:   0%|          | 0/1 [00:00<?, ?it/s]"
      ]
     },
     "metadata": {},
     "output_type": "display_data"
    },
    {
     "data": {
      "application/vnd.jupyter.widget-view+json": {
       "model_id": "59847630e3914193af238867c4dffaa4",
       "version_major": 2,
       "version_minor": 0
      },
      "text/plain": [
       "Batches:   0%|          | 0/1 [00:00<?, ?it/s]"
      ]
     },
     "metadata": {},
     "output_type": "display_data"
    },
    {
     "data": {
      "application/vnd.jupyter.widget-view+json": {
       "model_id": "0557401e19ba416fb2d923bfdc8412a1",
       "version_major": 2,
       "version_minor": 0
      },
      "text/plain": [
       "Batches:   0%|          | 0/1 [00:00<?, ?it/s]"
      ]
     },
     "metadata": {},
     "output_type": "display_data"
    },
    {
     "data": {
      "application/vnd.jupyter.widget-view+json": {
       "model_id": "5a9e86e8b75e446c883a17f3d7da34a4",
       "version_major": 2,
       "version_minor": 0
      },
      "text/plain": [
       "Batches:   0%|          | 0/1 [00:00<?, ?it/s]"
      ]
     },
     "metadata": {},
     "output_type": "display_data"
    },
    {
     "data": {
      "application/vnd.jupyter.widget-view+json": {
       "model_id": "3fa86de405234b7181a35c2b3de61812",
       "version_major": 2,
       "version_minor": 0
      },
      "text/plain": [
       "Batches:   0%|          | 0/1 [00:00<?, ?it/s]"
      ]
     },
     "metadata": {},
     "output_type": "display_data"
    },
    {
     "data": {
      "application/vnd.jupyter.widget-view+json": {
       "model_id": "3d1696c6efd8429796513a502d8323f9",
       "version_major": 2,
       "version_minor": 0
      },
      "text/plain": [
       "Batches:   0%|          | 0/1 [00:00<?, ?it/s]"
      ]
     },
     "metadata": {},
     "output_type": "display_data"
    },
    {
     "data": {
      "application/vnd.jupyter.widget-view+json": {
       "model_id": "dc6de8c2ac3a48afa726357396d536e5",
       "version_major": 2,
       "version_minor": 0
      },
      "text/plain": [
       "Batches:   0%|          | 0/1 [00:00<?, ?it/s]"
      ]
     },
     "metadata": {},
     "output_type": "display_data"
    },
    {
     "data": {
      "application/vnd.jupyter.widget-view+json": {
       "model_id": "00d6fc985cf145e5a368c257e5d159f0",
       "version_major": 2,
       "version_minor": 0
      },
      "text/plain": [
       "Batches:   0%|          | 0/1 [00:00<?, ?it/s]"
      ]
     },
     "metadata": {},
     "output_type": "display_data"
    },
    {
     "data": {
      "application/vnd.jupyter.widget-view+json": {
       "model_id": "e96e27ca9ac04a7ea4dfb1a4c24d5156",
       "version_major": 2,
       "version_minor": 0
      },
      "text/plain": [
       "Batches:   0%|          | 0/1 [00:00<?, ?it/s]"
      ]
     },
     "metadata": {},
     "output_type": "display_data"
    },
    {
     "data": {
      "application/vnd.jupyter.widget-view+json": {
       "model_id": "4c05987b2c51403691a789b9b05c7553",
       "version_major": 2,
       "version_minor": 0
      },
      "text/plain": [
       "Batches:   0%|          | 0/1 [00:00<?, ?it/s]"
      ]
     },
     "metadata": {},
     "output_type": "display_data"
    },
    {
     "data": {
      "application/vnd.jupyter.widget-view+json": {
       "model_id": "41f88fd683e44497ba1606b90320e738",
       "version_major": 2,
       "version_minor": 0
      },
      "text/plain": [
       "Batches:   0%|          | 0/1 [00:00<?, ?it/s]"
      ]
     },
     "metadata": {},
     "output_type": "display_data"
    },
    {
     "data": {
      "application/vnd.jupyter.widget-view+json": {
       "model_id": "9b771c99dbc0421f93a69478c040abe4",
       "version_major": 2,
       "version_minor": 0
      },
      "text/plain": [
       "Batches:   0%|          | 0/1 [00:00<?, ?it/s]"
      ]
     },
     "metadata": {},
     "output_type": "display_data"
    },
    {
     "data": {
      "application/vnd.jupyter.widget-view+json": {
       "model_id": "de36e7618f6f48e9bf11a800b5c7856f",
       "version_major": 2,
       "version_minor": 0
      },
      "text/plain": [
       "Batches:   0%|          | 0/1 [00:00<?, ?it/s]"
      ]
     },
     "metadata": {},
     "output_type": "display_data"
    },
    {
     "data": {
      "application/vnd.jupyter.widget-view+json": {
       "model_id": "1281752ec2f94156a1d3eea25489af66",
       "version_major": 2,
       "version_minor": 0
      },
      "text/plain": [
       "Batches:   0%|          | 0/1 [00:00<?, ?it/s]"
      ]
     },
     "metadata": {},
     "output_type": "display_data"
    },
    {
     "data": {
      "application/vnd.jupyter.widget-view+json": {
       "model_id": "af6df5ba31b848b0b2862040bd7d3f48",
       "version_major": 2,
       "version_minor": 0
      },
      "text/plain": [
       "Batches:   0%|          | 0/1 [00:00<?, ?it/s]"
      ]
     },
     "metadata": {},
     "output_type": "display_data"
    },
    {
     "data": {
      "application/vnd.jupyter.widget-view+json": {
       "model_id": "26e9a82c359849eb940bd4ac552c4f19",
       "version_major": 2,
       "version_minor": 0
      },
      "text/plain": [
       "Batches:   0%|          | 0/1 [00:00<?, ?it/s]"
      ]
     },
     "metadata": {},
     "output_type": "display_data"
    },
    {
     "data": {
      "application/vnd.jupyter.widget-view+json": {
       "model_id": "b45c8ad2e20d4090ba3103d8891c0b06",
       "version_major": 2,
       "version_minor": 0
      },
      "text/plain": [
       "Batches:   0%|          | 0/1 [00:00<?, ?it/s]"
      ]
     },
     "metadata": {},
     "output_type": "display_data"
    },
    {
     "data": {
      "application/vnd.jupyter.widget-view+json": {
       "model_id": "38cd7cc517154fb69834f2c83d5d6943",
       "version_major": 2,
       "version_minor": 0
      },
      "text/plain": [
       "Batches:   0%|          | 0/1 [00:00<?, ?it/s]"
      ]
     },
     "metadata": {},
     "output_type": "display_data"
    },
    {
     "data": {
      "application/vnd.jupyter.widget-view+json": {
       "model_id": "4f584a2d598a4607b9b2cde08ba2a3ac",
       "version_major": 2,
       "version_minor": 0
      },
      "text/plain": [
       "Batches:   0%|          | 0/1 [00:00<?, ?it/s]"
      ]
     },
     "metadata": {},
     "output_type": "display_data"
    },
    {
     "data": {
      "application/vnd.jupyter.widget-view+json": {
       "model_id": "c7fadcfe22ca4fe19f62f535bc7a274b",
       "version_major": 2,
       "version_minor": 0
      },
      "text/plain": [
       "Batches:   0%|          | 0/1 [00:00<?, ?it/s]"
      ]
     },
     "metadata": {},
     "output_type": "display_data"
    },
    {
     "data": {
      "application/vnd.jupyter.widget-view+json": {
       "model_id": "79901a533b9a445381541b65d89f3431",
       "version_major": 2,
       "version_minor": 0
      },
      "text/plain": [
       "Batches:   0%|          | 0/1 [00:00<?, ?it/s]"
      ]
     },
     "metadata": {},
     "output_type": "display_data"
    },
    {
     "data": {
      "application/vnd.jupyter.widget-view+json": {
       "model_id": "23702b6a247d4003938de1b439090ea8",
       "version_major": 2,
       "version_minor": 0
      },
      "text/plain": [
       "Batches:   0%|          | 0/1 [00:00<?, ?it/s]"
      ]
     },
     "metadata": {},
     "output_type": "display_data"
    },
    {
     "data": {
      "application/vnd.jupyter.widget-view+json": {
       "model_id": "0ec1b8df9e75424e95dca27d43e98d2c",
       "version_major": 2,
       "version_minor": 0
      },
      "text/plain": [
       "Batches:   0%|          | 0/1 [00:00<?, ?it/s]"
      ]
     },
     "metadata": {},
     "output_type": "display_data"
    },
    {
     "data": {
      "application/vnd.jupyter.widget-view+json": {
       "model_id": "f058bd222da5414fbef7192bc25c3bb8",
       "version_major": 2,
       "version_minor": 0
      },
      "text/plain": [
       "Batches:   0%|          | 0/1 [00:00<?, ?it/s]"
      ]
     },
     "metadata": {},
     "output_type": "display_data"
    },
    {
     "data": {
      "application/vnd.jupyter.widget-view+json": {
       "model_id": "268e114bd8544cf8a66c40ea0114779a",
       "version_major": 2,
       "version_minor": 0
      },
      "text/plain": [
       "Batches:   0%|          | 0/1 [00:00<?, ?it/s]"
      ]
     },
     "metadata": {},
     "output_type": "display_data"
    },
    {
     "data": {
      "application/vnd.jupyter.widget-view+json": {
       "model_id": "bd9df596103f4c2e84b524cfeffd9c85",
       "version_major": 2,
       "version_minor": 0
      },
      "text/plain": [
       "Batches:   0%|          | 0/1 [00:00<?, ?it/s]"
      ]
     },
     "metadata": {},
     "output_type": "display_data"
    },
    {
     "data": {
      "application/vnd.jupyter.widget-view+json": {
       "model_id": "616346a0a21d45c698277dde291852c1",
       "version_major": 2,
       "version_minor": 0
      },
      "text/plain": [
       "Batches:   0%|          | 0/1 [00:00<?, ?it/s]"
      ]
     },
     "metadata": {},
     "output_type": "display_data"
    },
    {
     "data": {
      "application/vnd.jupyter.widget-view+json": {
       "model_id": "c321c1ab6fac46869195b2ff25010a14",
       "version_major": 2,
       "version_minor": 0
      },
      "text/plain": [
       "Batches:   0%|          | 0/1 [00:00<?, ?it/s]"
      ]
     },
     "metadata": {},
     "output_type": "display_data"
    },
    {
     "data": {
      "application/vnd.jupyter.widget-view+json": {
       "model_id": "a2836fcfa66f471280aff3bcb56e3768",
       "version_major": 2,
       "version_minor": 0
      },
      "text/plain": [
       "Batches:   0%|          | 0/1 [00:00<?, ?it/s]"
      ]
     },
     "metadata": {},
     "output_type": "display_data"
    },
    {
     "data": {
      "application/vnd.jupyter.widget-view+json": {
       "model_id": "f4ca32d425d8418e80e6b366393f3145",
       "version_major": 2,
       "version_minor": 0
      },
      "text/plain": [
       "Batches:   0%|          | 0/1 [00:00<?, ?it/s]"
      ]
     },
     "metadata": {},
     "output_type": "display_data"
    },
    {
     "data": {
      "application/vnd.jupyter.widget-view+json": {
       "model_id": "04165719610546988d0a2d40a07a836c",
       "version_major": 2,
       "version_minor": 0
      },
      "text/plain": [
       "Batches:   0%|          | 0/1 [00:00<?, ?it/s]"
      ]
     },
     "metadata": {},
     "output_type": "display_data"
    },
    {
     "data": {
      "application/vnd.jupyter.widget-view+json": {
       "model_id": "cb4844351af749e5a28f2a4ea3021aa0",
       "version_major": 2,
       "version_minor": 0
      },
      "text/plain": [
       "Batches:   0%|          | 0/1 [00:00<?, ?it/s]"
      ]
     },
     "metadata": {},
     "output_type": "display_data"
    },
    {
     "data": {
      "application/vnd.jupyter.widget-view+json": {
       "model_id": "c4ef9f6b5fd647d29a436d9e16c68728",
       "version_major": 2,
       "version_minor": 0
      },
      "text/plain": [
       "Batches:   0%|          | 0/1 [00:00<?, ?it/s]"
      ]
     },
     "metadata": {},
     "output_type": "display_data"
    },
    {
     "data": {
      "application/vnd.jupyter.widget-view+json": {
       "model_id": "2ede8cb0e5664f40b2260dad6deda938",
       "version_major": 2,
       "version_minor": 0
      },
      "text/plain": [
       "Batches:   0%|          | 0/1 [00:00<?, ?it/s]"
      ]
     },
     "metadata": {},
     "output_type": "display_data"
    },
    {
     "data": {
      "application/vnd.jupyter.widget-view+json": {
       "model_id": "be2acb3ebfd548068b41e12a15be77ef",
       "version_major": 2,
       "version_minor": 0
      },
      "text/plain": [
       "Batches:   0%|          | 0/1 [00:00<?, ?it/s]"
      ]
     },
     "metadata": {},
     "output_type": "display_data"
    },
    {
     "data": {
      "application/vnd.jupyter.widget-view+json": {
       "model_id": "6acfab1934ef42509c766f358a430c3a",
       "version_major": 2,
       "version_minor": 0
      },
      "text/plain": [
       "Batches:   0%|          | 0/1 [00:00<?, ?it/s]"
      ]
     },
     "metadata": {},
     "output_type": "display_data"
    },
    {
     "data": {
      "application/vnd.jupyter.widget-view+json": {
       "model_id": "b983f36eb0654f86ac5af0ce8fe69248",
       "version_major": 2,
       "version_minor": 0
      },
      "text/plain": [
       "Batches:   0%|          | 0/1 [00:00<?, ?it/s]"
      ]
     },
     "metadata": {},
     "output_type": "display_data"
    },
    {
     "data": {
      "application/vnd.jupyter.widget-view+json": {
       "model_id": "3d2a5d8babff458c8503ce1a76c68ebf",
       "version_major": 2,
       "version_minor": 0
      },
      "text/plain": [
       "Batches:   0%|          | 0/1 [00:00<?, ?it/s]"
      ]
     },
     "metadata": {},
     "output_type": "display_data"
    },
    {
     "data": {
      "application/vnd.jupyter.widget-view+json": {
       "model_id": "fab41ba6d1c84b0f9f6215277368c5a4",
       "version_major": 2,
       "version_minor": 0
      },
      "text/plain": [
       "Batches:   0%|          | 0/1 [00:00<?, ?it/s]"
      ]
     },
     "metadata": {},
     "output_type": "display_data"
    },
    {
     "data": {
      "application/vnd.jupyter.widget-view+json": {
       "model_id": "e2f5148e32774765a134cbcd972b39ee",
       "version_major": 2,
       "version_minor": 0
      },
      "text/plain": [
       "Batches:   0%|          | 0/1 [00:00<?, ?it/s]"
      ]
     },
     "metadata": {},
     "output_type": "display_data"
    },
    {
     "data": {
      "application/vnd.jupyter.widget-view+json": {
       "model_id": "3146b20a943e4b69bcc285756b203646",
       "version_major": 2,
       "version_minor": 0
      },
      "text/plain": [
       "Batches:   0%|          | 0/1 [00:00<?, ?it/s]"
      ]
     },
     "metadata": {},
     "output_type": "display_data"
    },
    {
     "data": {
      "application/vnd.jupyter.widget-view+json": {
       "model_id": "3dea6229c5564b229b4f3d8ff2a00872",
       "version_major": 2,
       "version_minor": 0
      },
      "text/plain": [
       "Batches:   0%|          | 0/1 [00:00<?, ?it/s]"
      ]
     },
     "metadata": {},
     "output_type": "display_data"
    },
    {
     "data": {
      "application/vnd.jupyter.widget-view+json": {
       "model_id": "6e632952fbde45fbb91734045a2b6c96",
       "version_major": 2,
       "version_minor": 0
      },
      "text/plain": [
       "Batches:   0%|          | 0/1 [00:00<?, ?it/s]"
      ]
     },
     "metadata": {},
     "output_type": "display_data"
    },
    {
     "data": {
      "application/vnd.jupyter.widget-view+json": {
       "model_id": "6746d1dcbf5d4584a5100a81ceb1eaa8",
       "version_major": 2,
       "version_minor": 0
      },
      "text/plain": [
       "Batches:   0%|          | 0/1 [00:00<?, ?it/s]"
      ]
     },
     "metadata": {},
     "output_type": "display_data"
    },
    {
     "data": {
      "application/vnd.jupyter.widget-view+json": {
       "model_id": "088a150492594685a225a24d3fbe2235",
       "version_major": 2,
       "version_minor": 0
      },
      "text/plain": [
       "Batches:   0%|          | 0/1 [00:00<?, ?it/s]"
      ]
     },
     "metadata": {},
     "output_type": "display_data"
    },
    {
     "data": {
      "application/vnd.jupyter.widget-view+json": {
       "model_id": "226e0efd0181454ca3a7d54241e3945a",
       "version_major": 2,
       "version_minor": 0
      },
      "text/plain": [
       "Batches:   0%|          | 0/1 [00:00<?, ?it/s]"
      ]
     },
     "metadata": {},
     "output_type": "display_data"
    },
    {
     "data": {
      "application/vnd.jupyter.widget-view+json": {
       "model_id": "53076eb474d04aed90baefdcd3b26422",
       "version_major": 2,
       "version_minor": 0
      },
      "text/plain": [
       "Batches:   0%|          | 0/1 [00:00<?, ?it/s]"
      ]
     },
     "metadata": {},
     "output_type": "display_data"
    },
    {
     "data": {
      "application/vnd.jupyter.widget-view+json": {
       "model_id": "190e370da9c642548a2f2d823eb63252",
       "version_major": 2,
       "version_minor": 0
      },
      "text/plain": [
       "Batches:   0%|          | 0/1 [00:00<?, ?it/s]"
      ]
     },
     "metadata": {},
     "output_type": "display_data"
    },
    {
     "data": {
      "application/vnd.jupyter.widget-view+json": {
       "model_id": "82bfb4e351c6444d93738f62dcd20af3",
       "version_major": 2,
       "version_minor": 0
      },
      "text/plain": [
       "Batches:   0%|          | 0/1 [00:00<?, ?it/s]"
      ]
     },
     "metadata": {},
     "output_type": "display_data"
    },
    {
     "data": {
      "application/vnd.jupyter.widget-view+json": {
       "model_id": "1952a61072f442ebb173ad9b5827fca0",
       "version_major": 2,
       "version_minor": 0
      },
      "text/plain": [
       "Batches:   0%|          | 0/1 [00:00<?, ?it/s]"
      ]
     },
     "metadata": {},
     "output_type": "display_data"
    },
    {
     "data": {
      "application/vnd.jupyter.widget-view+json": {
       "model_id": "d51c8b3233314d01bb5ace2d87c3c669",
       "version_major": 2,
       "version_minor": 0
      },
      "text/plain": [
       "Batches:   0%|          | 0/1 [00:00<?, ?it/s]"
      ]
     },
     "metadata": {},
     "output_type": "display_data"
    },
    {
     "data": {
      "application/vnd.jupyter.widget-view+json": {
       "model_id": "2b5114edbd464e9f8dd7762b5e56c9d9",
       "version_major": 2,
       "version_minor": 0
      },
      "text/plain": [
       "Batches:   0%|          | 0/1 [00:00<?, ?it/s]"
      ]
     },
     "metadata": {},
     "output_type": "display_data"
    },
    {
     "data": {
      "application/vnd.jupyter.widget-view+json": {
       "model_id": "2f4d3d7636ea40e0b744735435fd0756",
       "version_major": 2,
       "version_minor": 0
      },
      "text/plain": [
       "Batches:   0%|          | 0/1 [00:00<?, ?it/s]"
      ]
     },
     "metadata": {},
     "output_type": "display_data"
    },
    {
     "data": {
      "application/vnd.jupyter.widget-view+json": {
       "model_id": "0a7f5623fffd453aa85d9167aeecde6d",
       "version_major": 2,
       "version_minor": 0
      },
      "text/plain": [
       "Batches:   0%|          | 0/1 [00:00<?, ?it/s]"
      ]
     },
     "metadata": {},
     "output_type": "display_data"
    },
    {
     "data": {
      "application/vnd.jupyter.widget-view+json": {
       "model_id": "16f169311e024f4098e69b518b83add1",
       "version_major": 2,
       "version_minor": 0
      },
      "text/plain": [
       "Batches:   0%|          | 0/1 [00:00<?, ?it/s]"
      ]
     },
     "metadata": {},
     "output_type": "display_data"
    },
    {
     "data": {
      "application/vnd.jupyter.widget-view+json": {
       "model_id": "bd7b77fd33754dcc831c849d2e455065",
       "version_major": 2,
       "version_minor": 0
      },
      "text/plain": [
       "Batches:   0%|          | 0/1 [00:00<?, ?it/s]"
      ]
     },
     "metadata": {},
     "output_type": "display_data"
    },
    {
     "data": {
      "application/vnd.jupyter.widget-view+json": {
       "model_id": "d861c24c1bb04e35b4e07dd9b6796187",
       "version_major": 2,
       "version_minor": 0
      },
      "text/plain": [
       "Batches:   0%|          | 0/1 [00:00<?, ?it/s]"
      ]
     },
     "metadata": {},
     "output_type": "display_data"
    },
    {
     "data": {
      "application/vnd.jupyter.widget-view+json": {
       "model_id": "dee4f4af950e43fa9ebe2f9565676765",
       "version_major": 2,
       "version_minor": 0
      },
      "text/plain": [
       "Batches:   0%|          | 0/1 [00:00<?, ?it/s]"
      ]
     },
     "metadata": {},
     "output_type": "display_data"
    },
    {
     "data": {
      "application/vnd.jupyter.widget-view+json": {
       "model_id": "76bfdfe65453430e80fd1cfcad932f4f",
       "version_major": 2,
       "version_minor": 0
      },
      "text/plain": [
       "Batches:   0%|          | 0/1 [00:00<?, ?it/s]"
      ]
     },
     "metadata": {},
     "output_type": "display_data"
    },
    {
     "data": {
      "application/vnd.jupyter.widget-view+json": {
       "model_id": "c11e952961a34692b526136a6f1aeff9",
       "version_major": 2,
       "version_minor": 0
      },
      "text/plain": [
       "Batches:   0%|          | 0/1 [00:00<?, ?it/s]"
      ]
     },
     "metadata": {},
     "output_type": "display_data"
    },
    {
     "data": {
      "application/vnd.jupyter.widget-view+json": {
       "model_id": "9a8487cc2b654ed1861ae64e250f48cb",
       "version_major": 2,
       "version_minor": 0
      },
      "text/plain": [
       "Batches:   0%|          | 0/1 [00:00<?, ?it/s]"
      ]
     },
     "metadata": {},
     "output_type": "display_data"
    },
    {
     "data": {
      "application/vnd.jupyter.widget-view+json": {
       "model_id": "27ea80135dcc45e2b8d6d58b47c878f5",
       "version_major": 2,
       "version_minor": 0
      },
      "text/plain": [
       "Batches:   0%|          | 0/1 [00:00<?, ?it/s]"
      ]
     },
     "metadata": {},
     "output_type": "display_data"
    },
    {
     "data": {
      "application/vnd.jupyter.widget-view+json": {
       "model_id": "2593db0e81dd4540907dade81fdd7eb1",
       "version_major": 2,
       "version_minor": 0
      },
      "text/plain": [
       "Batches:   0%|          | 0/1 [00:00<?, ?it/s]"
      ]
     },
     "metadata": {},
     "output_type": "display_data"
    },
    {
     "data": {
      "application/vnd.jupyter.widget-view+json": {
       "model_id": "a10191466dd14993b674f1071f9a13f4",
       "version_major": 2,
       "version_minor": 0
      },
      "text/plain": [
       "Batches:   0%|          | 0/1 [00:00<?, ?it/s]"
      ]
     },
     "metadata": {},
     "output_type": "display_data"
    },
    {
     "data": {
      "application/vnd.jupyter.widget-view+json": {
       "model_id": "3e8fabff09234a529fe0da67d3f56843",
       "version_major": 2,
       "version_minor": 0
      },
      "text/plain": [
       "Batches:   0%|          | 0/1 [00:00<?, ?it/s]"
      ]
     },
     "metadata": {},
     "output_type": "display_data"
    },
    {
     "data": {
      "application/vnd.jupyter.widget-view+json": {
       "model_id": "4d7dde9ecf11415da17225c542c3822d",
       "version_major": 2,
       "version_minor": 0
      },
      "text/plain": [
       "Batches:   0%|          | 0/1 [00:00<?, ?it/s]"
      ]
     },
     "metadata": {},
     "output_type": "display_data"
    },
    {
     "data": {
      "application/vnd.jupyter.widget-view+json": {
       "model_id": "f153a6255bb74fb4a0b59742dd384371",
       "version_major": 2,
       "version_minor": 0
      },
      "text/plain": [
       "Batches:   0%|          | 0/1 [00:00<?, ?it/s]"
      ]
     },
     "metadata": {},
     "output_type": "display_data"
    },
    {
     "data": {
      "application/vnd.jupyter.widget-view+json": {
       "model_id": "834dccb83b0b41c4810cffd96eaef091",
       "version_major": 2,
       "version_minor": 0
      },
      "text/plain": [
       "Batches:   0%|          | 0/1 [00:00<?, ?it/s]"
      ]
     },
     "metadata": {},
     "output_type": "display_data"
    },
    {
     "data": {
      "application/vnd.jupyter.widget-view+json": {
       "model_id": "ffa933be8ceb46aba30baed3d8a177e1",
       "version_major": 2,
       "version_minor": 0
      },
      "text/plain": [
       "Batches:   0%|          | 0/1 [00:00<?, ?it/s]"
      ]
     },
     "metadata": {},
     "output_type": "display_data"
    },
    {
     "data": {
      "application/vnd.jupyter.widget-view+json": {
       "model_id": "30dbe50e0f964e29b802f97855a68eff",
       "version_major": 2,
       "version_minor": 0
      },
      "text/plain": [
       "Batches:   0%|          | 0/1 [00:00<?, ?it/s]"
      ]
     },
     "metadata": {},
     "output_type": "display_data"
    },
    {
     "data": {
      "application/vnd.jupyter.widget-view+json": {
       "model_id": "6f032c32eac54a5695fdcfb70af0f30f",
       "version_major": 2,
       "version_minor": 0
      },
      "text/plain": [
       "Batches:   0%|          | 0/1 [00:00<?, ?it/s]"
      ]
     },
     "metadata": {},
     "output_type": "display_data"
    },
    {
     "data": {
      "application/vnd.jupyter.widget-view+json": {
       "model_id": "74b407c05f7a4e76a9696dbbc457c87e",
       "version_major": 2,
       "version_minor": 0
      },
      "text/plain": [
       "Batches:   0%|          | 0/1 [00:00<?, ?it/s]"
      ]
     },
     "metadata": {},
     "output_type": "display_data"
    },
    {
     "data": {
      "application/vnd.jupyter.widget-view+json": {
       "model_id": "b97488d95f6c44acb4e0291ee3f4d97a",
       "version_major": 2,
       "version_minor": 0
      },
      "text/plain": [
       "Batches:   0%|          | 0/1 [00:00<?, ?it/s]"
      ]
     },
     "metadata": {},
     "output_type": "display_data"
    },
    {
     "data": {
      "application/vnd.jupyter.widget-view+json": {
       "model_id": "04978ac0c1e34b7eaaa51e9bb539c240",
       "version_major": 2,
       "version_minor": 0
      },
      "text/plain": [
       "Batches:   0%|          | 0/1 [00:00<?, ?it/s]"
      ]
     },
     "metadata": {},
     "output_type": "display_data"
    },
    {
     "data": {
      "application/vnd.jupyter.widget-view+json": {
       "model_id": "6ec5f61ee7604043b3aff594cf80368b",
       "version_major": 2,
       "version_minor": 0
      },
      "text/plain": [
       "Batches:   0%|          | 0/1 [00:00<?, ?it/s]"
      ]
     },
     "metadata": {},
     "output_type": "display_data"
    },
    {
     "data": {
      "application/vnd.jupyter.widget-view+json": {
       "model_id": "bc1480ed7751464fa838b0684eef46b4",
       "version_major": 2,
       "version_minor": 0
      },
      "text/plain": [
       "Batches:   0%|          | 0/1 [00:00<?, ?it/s]"
      ]
     },
     "metadata": {},
     "output_type": "display_data"
    },
    {
     "data": {
      "application/vnd.jupyter.widget-view+json": {
       "model_id": "0d37c09e20a34b6a9c0203e97ceb505e",
       "version_major": 2,
       "version_minor": 0
      },
      "text/plain": [
       "Batches:   0%|          | 0/1 [00:00<?, ?it/s]"
      ]
     },
     "metadata": {},
     "output_type": "display_data"
    },
    {
     "data": {
      "application/vnd.jupyter.widget-view+json": {
       "model_id": "cc22c01bb7a14c90a0a4038adf6c0f9d",
       "version_major": 2,
       "version_minor": 0
      },
      "text/plain": [
       "Batches:   0%|          | 0/1 [00:00<?, ?it/s]"
      ]
     },
     "metadata": {},
     "output_type": "display_data"
    },
    {
     "data": {
      "application/vnd.jupyter.widget-view+json": {
       "model_id": "c925d3ffbc564cfaa4ed231646d957a6",
       "version_major": 2,
       "version_minor": 0
      },
      "text/plain": [
       "Batches:   0%|          | 0/1 [00:00<?, ?it/s]"
      ]
     },
     "metadata": {},
     "output_type": "display_data"
    },
    {
     "data": {
      "application/vnd.jupyter.widget-view+json": {
       "model_id": "d40d915929d14726accada077481633f",
       "version_major": 2,
       "version_minor": 0
      },
      "text/plain": [
       "Batches:   0%|          | 0/1 [00:00<?, ?it/s]"
      ]
     },
     "metadata": {},
     "output_type": "display_data"
    },
    {
     "data": {
      "application/vnd.jupyter.widget-view+json": {
       "model_id": "f74a5bf63afa4a18a2306b263396adcd",
       "version_major": 2,
       "version_minor": 0
      },
      "text/plain": [
       "Batches:   0%|          | 0/1 [00:00<?, ?it/s]"
      ]
     },
     "metadata": {},
     "output_type": "display_data"
    },
    {
     "data": {
      "application/vnd.jupyter.widget-view+json": {
       "model_id": "32b1c714db934265bf0a06b7c6fdcda6",
       "version_major": 2,
       "version_minor": 0
      },
      "text/plain": [
       "Batches:   0%|          | 0/1 [00:00<?, ?it/s]"
      ]
     },
     "metadata": {},
     "output_type": "display_data"
    },
    {
     "data": {
      "application/vnd.jupyter.widget-view+json": {
       "model_id": "da273786f4d646c0997ae95af3991518",
       "version_major": 2,
       "version_minor": 0
      },
      "text/plain": [
       "Batches:   0%|          | 0/1 [00:00<?, ?it/s]"
      ]
     },
     "metadata": {},
     "output_type": "display_data"
    },
    {
     "data": {
      "application/vnd.jupyter.widget-view+json": {
       "model_id": "51757d2ec42946688c50b419041cc3d2",
       "version_major": 2,
       "version_minor": 0
      },
      "text/plain": [
       "Batches:   0%|          | 0/1 [00:00<?, ?it/s]"
      ]
     },
     "metadata": {},
     "output_type": "display_data"
    },
    {
     "data": {
      "application/vnd.jupyter.widget-view+json": {
       "model_id": "bbc83add7b0a4d6fad3d17510f2816cd",
       "version_major": 2,
       "version_minor": 0
      },
      "text/plain": [
       "Batches:   0%|          | 0/1 [00:00<?, ?it/s]"
      ]
     },
     "metadata": {},
     "output_type": "display_data"
    },
    {
     "data": {
      "application/vnd.jupyter.widget-view+json": {
       "model_id": "5921ad444c3148b38b87fea606d88e01",
       "version_major": 2,
       "version_minor": 0
      },
      "text/plain": [
       "Batches:   0%|          | 0/1 [00:00<?, ?it/s]"
      ]
     },
     "metadata": {},
     "output_type": "display_data"
    },
    {
     "data": {
      "application/vnd.jupyter.widget-view+json": {
       "model_id": "46f5eb1f20b7458187e14887741feb48",
       "version_major": 2,
       "version_minor": 0
      },
      "text/plain": [
       "Batches:   0%|          | 0/1 [00:00<?, ?it/s]"
      ]
     },
     "metadata": {},
     "output_type": "display_data"
    },
    {
     "data": {
      "application/vnd.jupyter.widget-view+json": {
       "model_id": "fbc20fb94cf44b7c9296e8d343302d88",
       "version_major": 2,
       "version_minor": 0
      },
      "text/plain": [
       "Batches:   0%|          | 0/1 [00:00<?, ?it/s]"
      ]
     },
     "metadata": {},
     "output_type": "display_data"
    },
    {
     "data": {
      "application/vnd.jupyter.widget-view+json": {
       "model_id": "a25f4ed249f3446586e2a6aae077f3f6",
       "version_major": 2,
       "version_minor": 0
      },
      "text/plain": [
       "Batches:   0%|          | 0/1 [00:00<?, ?it/s]"
      ]
     },
     "metadata": {},
     "output_type": "display_data"
    },
    {
     "data": {
      "application/vnd.jupyter.widget-view+json": {
       "model_id": "6b51c98f7ea2412883a116274d9ece1d",
       "version_major": 2,
       "version_minor": 0
      },
      "text/plain": [
       "Batches:   0%|          | 0/1 [00:00<?, ?it/s]"
      ]
     },
     "metadata": {},
     "output_type": "display_data"
    },
    {
     "data": {
      "application/vnd.jupyter.widget-view+json": {
       "model_id": "eba2b7f88f9a4458b31fe330844d4acf",
       "version_major": 2,
       "version_minor": 0
      },
      "text/plain": [
       "Batches:   0%|          | 0/1 [00:00<?, ?it/s]"
      ]
     },
     "metadata": {},
     "output_type": "display_data"
    },
    {
     "data": {
      "application/vnd.jupyter.widget-view+json": {
       "model_id": "ccfffe2a157944d291ebdf204b05eb9d",
       "version_major": 2,
       "version_minor": 0
      },
      "text/plain": [
       "Batches:   0%|          | 0/1 [00:00<?, ?it/s]"
      ]
     },
     "metadata": {},
     "output_type": "display_data"
    },
    {
     "data": {
      "application/vnd.jupyter.widget-view+json": {
       "model_id": "5dc33661fe6a46f1bd8faa868461cf14",
       "version_major": 2,
       "version_minor": 0
      },
      "text/plain": [
       "Batches:   0%|          | 0/1 [00:00<?, ?it/s]"
      ]
     },
     "metadata": {},
     "output_type": "display_data"
    },
    {
     "data": {
      "application/vnd.jupyter.widget-view+json": {
       "model_id": "22cc45decb054dcdbb45acf589112cde",
       "version_major": 2,
       "version_minor": 0
      },
      "text/plain": [
       "Batches:   0%|          | 0/1 [00:00<?, ?it/s]"
      ]
     },
     "metadata": {},
     "output_type": "display_data"
    },
    {
     "data": {
      "application/vnd.jupyter.widget-view+json": {
       "model_id": "75f95c4b8a8f4b98a63efb4df73968fa",
       "version_major": 2,
       "version_minor": 0
      },
      "text/plain": [
       "Batches:   0%|          | 0/1 [00:00<?, ?it/s]"
      ]
     },
     "metadata": {},
     "output_type": "display_data"
    },
    {
     "data": {
      "application/vnd.jupyter.widget-view+json": {
       "model_id": "1eaa2ecdb7e54a44aec2e3438994fb53",
       "version_major": 2,
       "version_minor": 0
      },
      "text/plain": [
       "Batches:   0%|          | 0/1 [00:00<?, ?it/s]"
      ]
     },
     "metadata": {},
     "output_type": "display_data"
    },
    {
     "data": {
      "application/vnd.jupyter.widget-view+json": {
       "model_id": "375965512abd4abdb9d9498784ad4be0",
       "version_major": 2,
       "version_minor": 0
      },
      "text/plain": [
       "Batches:   0%|          | 0/1 [00:00<?, ?it/s]"
      ]
     },
     "metadata": {},
     "output_type": "display_data"
    },
    {
     "data": {
      "application/vnd.jupyter.widget-view+json": {
       "model_id": "1f0001bc3aa545ba842e6a9572b14a20",
       "version_major": 2,
       "version_minor": 0
      },
      "text/plain": [
       "Batches:   0%|          | 0/1 [00:00<?, ?it/s]"
      ]
     },
     "metadata": {},
     "output_type": "display_data"
    },
    {
     "data": {
      "application/vnd.jupyter.widget-view+json": {
       "model_id": "c8079f66c502419f9e45d340c0036cf4",
       "version_major": 2,
       "version_minor": 0
      },
      "text/plain": [
       "Batches:   0%|          | 0/1 [00:00<?, ?it/s]"
      ]
     },
     "metadata": {},
     "output_type": "display_data"
    },
    {
     "data": {
      "application/vnd.jupyter.widget-view+json": {
       "model_id": "1cbb2eee5099416f9d035d76a2cc94b5",
       "version_major": 2,
       "version_minor": 0
      },
      "text/plain": [
       "Batches:   0%|          | 0/1 [00:00<?, ?it/s]"
      ]
     },
     "metadata": {},
     "output_type": "display_data"
    },
    {
     "data": {
      "application/vnd.jupyter.widget-view+json": {
       "model_id": "2a0ce39e0ea049c48fe95bedbcbfecb0",
       "version_major": 2,
       "version_minor": 0
      },
      "text/plain": [
       "Batches:   0%|          | 0/1 [00:00<?, ?it/s]"
      ]
     },
     "metadata": {},
     "output_type": "display_data"
    },
    {
     "data": {
      "application/vnd.jupyter.widget-view+json": {
       "model_id": "b444908d540947eca934c528bc8359c5",
       "version_major": 2,
       "version_minor": 0
      },
      "text/plain": [
       "Batches:   0%|          | 0/1 [00:00<?, ?it/s]"
      ]
     },
     "metadata": {},
     "output_type": "display_data"
    },
    {
     "data": {
      "application/vnd.jupyter.widget-view+json": {
       "model_id": "925f43d8f0f9471290253e739c80a0f5",
       "version_major": 2,
       "version_minor": 0
      },
      "text/plain": [
       "Batches:   0%|          | 0/1 [00:00<?, ?it/s]"
      ]
     },
     "metadata": {},
     "output_type": "display_data"
    },
    {
     "data": {
      "application/vnd.jupyter.widget-view+json": {
       "model_id": "86457d9ae50e4b9593a3a70381ffa83e",
       "version_major": 2,
       "version_minor": 0
      },
      "text/plain": [
       "Batches:   0%|          | 0/1 [00:00<?, ?it/s]"
      ]
     },
     "metadata": {},
     "output_type": "display_data"
    },
    {
     "data": {
      "application/vnd.jupyter.widget-view+json": {
       "model_id": "ec0ce7aaa092456e8f0deb90b282a8e4",
       "version_major": 2,
       "version_minor": 0
      },
      "text/plain": [
       "Batches:   0%|          | 0/1 [00:00<?, ?it/s]"
      ]
     },
     "metadata": {},
     "output_type": "display_data"
    },
    {
     "data": {
      "application/vnd.jupyter.widget-view+json": {
       "model_id": "c3c0332e518241b4a186acbffb756abf",
       "version_major": 2,
       "version_minor": 0
      },
      "text/plain": [
       "Batches:   0%|          | 0/1 [00:00<?, ?it/s]"
      ]
     },
     "metadata": {},
     "output_type": "display_data"
    },
    {
     "data": {
      "application/vnd.jupyter.widget-view+json": {
       "model_id": "3a38647564aa490aa4847124f70229d1",
       "version_major": 2,
       "version_minor": 0
      },
      "text/plain": [
       "Batches:   0%|          | 0/1 [00:00<?, ?it/s]"
      ]
     },
     "metadata": {},
     "output_type": "display_data"
    },
    {
     "data": {
      "application/vnd.jupyter.widget-view+json": {
       "model_id": "28f43c19532c48c5b1482b537b51b243",
       "version_major": 2,
       "version_minor": 0
      },
      "text/plain": [
       "Batches:   0%|          | 0/1 [00:00<?, ?it/s]"
      ]
     },
     "metadata": {},
     "output_type": "display_data"
    },
    {
     "data": {
      "application/vnd.jupyter.widget-view+json": {
       "model_id": "8a2ceb3a5bbc4935b23b431731703fd5",
       "version_major": 2,
       "version_minor": 0
      },
      "text/plain": [
       "Batches:   0%|          | 0/1 [00:00<?, ?it/s]"
      ]
     },
     "metadata": {},
     "output_type": "display_data"
    },
    {
     "data": {
      "application/vnd.jupyter.widget-view+json": {
       "model_id": "a7743c7684544f028279119d0e2d49c0",
       "version_major": 2,
       "version_minor": 0
      },
      "text/plain": [
       "Batches:   0%|          | 0/1 [00:00<?, ?it/s]"
      ]
     },
     "metadata": {},
     "output_type": "display_data"
    },
    {
     "data": {
      "application/vnd.jupyter.widget-view+json": {
       "model_id": "241fd0607faf46b2955e2b63e55e091b",
       "version_major": 2,
       "version_minor": 0
      },
      "text/plain": [
       "Batches:   0%|          | 0/1 [00:00<?, ?it/s]"
      ]
     },
     "metadata": {},
     "output_type": "display_data"
    },
    {
     "data": {
      "application/vnd.jupyter.widget-view+json": {
       "model_id": "2c37a26e553147bdadbbc14266152d27",
       "version_major": 2,
       "version_minor": 0
      },
      "text/plain": [
       "Batches:   0%|          | 0/1 [00:00<?, ?it/s]"
      ]
     },
     "metadata": {},
     "output_type": "display_data"
    },
    {
     "data": {
      "application/vnd.jupyter.widget-view+json": {
       "model_id": "1fd5957ccad942c6aa673a27bc657466",
       "version_major": 2,
       "version_minor": 0
      },
      "text/plain": [
       "Batches:   0%|          | 0/1 [00:00<?, ?it/s]"
      ]
     },
     "metadata": {},
     "output_type": "display_data"
    },
    {
     "data": {
      "application/vnd.jupyter.widget-view+json": {
       "model_id": "29643305b24c45dfbac4f6788c377e7b",
       "version_major": 2,
       "version_minor": 0
      },
      "text/plain": [
       "Batches:   0%|          | 0/1 [00:00<?, ?it/s]"
      ]
     },
     "metadata": {},
     "output_type": "display_data"
    },
    {
     "data": {
      "application/vnd.jupyter.widget-view+json": {
       "model_id": "4d0f1734f60a44aaa74d9f651cbefea0",
       "version_major": 2,
       "version_minor": 0
      },
      "text/plain": [
       "Batches:   0%|          | 0/1 [00:00<?, ?it/s]"
      ]
     },
     "metadata": {},
     "output_type": "display_data"
    },
    {
     "data": {
      "application/vnd.jupyter.widget-view+json": {
       "model_id": "64e2fbc7ece94435a65c3377bc3a2869",
       "version_major": 2,
       "version_minor": 0
      },
      "text/plain": [
       "Batches:   0%|          | 0/1 [00:00<?, ?it/s]"
      ]
     },
     "metadata": {},
     "output_type": "display_data"
    },
    {
     "data": {
      "application/vnd.jupyter.widget-view+json": {
       "model_id": "93ea1231cd1a423e9c27e2f2133f3529",
       "version_major": 2,
       "version_minor": 0
      },
      "text/plain": [
       "Batches:   0%|          | 0/1 [00:00<?, ?it/s]"
      ]
     },
     "metadata": {},
     "output_type": "display_data"
    },
    {
     "data": {
      "application/vnd.jupyter.widget-view+json": {
       "model_id": "39edd7c62967425582e78bf9b81324a6",
       "version_major": 2,
       "version_minor": 0
      },
      "text/plain": [
       "Batches:   0%|          | 0/1 [00:00<?, ?it/s]"
      ]
     },
     "metadata": {},
     "output_type": "display_data"
    },
    {
     "data": {
      "application/vnd.jupyter.widget-view+json": {
       "model_id": "7c99d63e573f44a19b0217113c5d179a",
       "version_major": 2,
       "version_minor": 0
      },
      "text/plain": [
       "Batches:   0%|          | 0/1 [00:00<?, ?it/s]"
      ]
     },
     "metadata": {},
     "output_type": "display_data"
    },
    {
     "data": {
      "application/vnd.jupyter.widget-view+json": {
       "model_id": "7e098691344a4b6f8af236ecb98b1e8f",
       "version_major": 2,
       "version_minor": 0
      },
      "text/plain": [
       "Batches:   0%|          | 0/1 [00:00<?, ?it/s]"
      ]
     },
     "metadata": {},
     "output_type": "display_data"
    },
    {
     "data": {
      "application/vnd.jupyter.widget-view+json": {
       "model_id": "abe2818ba3eb4efeb7ccadad261ef427",
       "version_major": 2,
       "version_minor": 0
      },
      "text/plain": [
       "Batches:   0%|          | 0/1 [00:00<?, ?it/s]"
      ]
     },
     "metadata": {},
     "output_type": "display_data"
    },
    {
     "data": {
      "application/vnd.jupyter.widget-view+json": {
       "model_id": "3253cf4df5f440bda75f79c1a9a2a10c",
       "version_major": 2,
       "version_minor": 0
      },
      "text/plain": [
       "Batches:   0%|          | 0/1 [00:00<?, ?it/s]"
      ]
     },
     "metadata": {},
     "output_type": "display_data"
    },
    {
     "data": {
      "application/vnd.jupyter.widget-view+json": {
       "model_id": "6aad5a961ece4c91979507c5a2de0b59",
       "version_major": 2,
       "version_minor": 0
      },
      "text/plain": [
       "Batches:   0%|          | 0/1 [00:00<?, ?it/s]"
      ]
     },
     "metadata": {},
     "output_type": "display_data"
    },
    {
     "data": {
      "application/vnd.jupyter.widget-view+json": {
       "model_id": "cf32c6f8aa9243538e06179fa63accc9",
       "version_major": 2,
       "version_minor": 0
      },
      "text/plain": [
       "Batches:   0%|          | 0/1 [00:00<?, ?it/s]"
      ]
     },
     "metadata": {},
     "output_type": "display_data"
    },
    {
     "data": {
      "application/vnd.jupyter.widget-view+json": {
       "model_id": "4558988201814c83b9c8f8ff34e13715",
       "version_major": 2,
       "version_minor": 0
      },
      "text/plain": [
       "Batches:   0%|          | 0/1 [00:00<?, ?it/s]"
      ]
     },
     "metadata": {},
     "output_type": "display_data"
    },
    {
     "data": {
      "application/vnd.jupyter.widget-view+json": {
       "model_id": "461efb4da1df422cae882b90034fb72e",
       "version_major": 2,
       "version_minor": 0
      },
      "text/plain": [
       "Batches:   0%|          | 0/1 [00:00<?, ?it/s]"
      ]
     },
     "metadata": {},
     "output_type": "display_data"
    },
    {
     "data": {
      "application/vnd.jupyter.widget-view+json": {
       "model_id": "ca24296085974f138144622906dfd2d6",
       "version_major": 2,
       "version_minor": 0
      },
      "text/plain": [
       "Batches:   0%|          | 0/1 [00:00<?, ?it/s]"
      ]
     },
     "metadata": {},
     "output_type": "display_data"
    },
    {
     "data": {
      "application/vnd.jupyter.widget-view+json": {
       "model_id": "d89d371880f04328b0ee194fb373a189",
       "version_major": 2,
       "version_minor": 0
      },
      "text/plain": [
       "Batches:   0%|          | 0/1 [00:00<?, ?it/s]"
      ]
     },
     "metadata": {},
     "output_type": "display_data"
    },
    {
     "data": {
      "application/vnd.jupyter.widget-view+json": {
       "model_id": "1dd21bc3ed1e415fac0f67d6c0e6c7f3",
       "version_major": 2,
       "version_minor": 0
      },
      "text/plain": [
       "Batches:   0%|          | 0/1 [00:00<?, ?it/s]"
      ]
     },
     "metadata": {},
     "output_type": "display_data"
    },
    {
     "data": {
      "application/vnd.jupyter.widget-view+json": {
       "model_id": "674d34ddd40644428722015422612a31",
       "version_major": 2,
       "version_minor": 0
      },
      "text/plain": [
       "Batches:   0%|          | 0/1 [00:00<?, ?it/s]"
      ]
     },
     "metadata": {},
     "output_type": "display_data"
    },
    {
     "data": {
      "application/vnd.jupyter.widget-view+json": {
       "model_id": "c7f3125ec0384ab39c5fb194613b36d0",
       "version_major": 2,
       "version_minor": 0
      },
      "text/plain": [
       "Batches:   0%|          | 0/1 [00:00<?, ?it/s]"
      ]
     },
     "metadata": {},
     "output_type": "display_data"
    },
    {
     "data": {
      "application/vnd.jupyter.widget-view+json": {
       "model_id": "e2f70f8ba59e427a94274b34eb87fb0e",
       "version_major": 2,
       "version_minor": 0
      },
      "text/plain": [
       "Batches:   0%|          | 0/1 [00:00<?, ?it/s]"
      ]
     },
     "metadata": {},
     "output_type": "display_data"
    },
    {
     "data": {
      "application/vnd.jupyter.widget-view+json": {
       "model_id": "d443efc39e184748944b9fea73176e42",
       "version_major": 2,
       "version_minor": 0
      },
      "text/plain": [
       "Batches:   0%|          | 0/1 [00:00<?, ?it/s]"
      ]
     },
     "metadata": {},
     "output_type": "display_data"
    },
    {
     "data": {
      "application/vnd.jupyter.widget-view+json": {
       "model_id": "f9db016708664a63a8872aabc71fa728",
       "version_major": 2,
       "version_minor": 0
      },
      "text/plain": [
       "Batches:   0%|          | 0/1 [00:00<?, ?it/s]"
      ]
     },
     "metadata": {},
     "output_type": "display_data"
    },
    {
     "data": {
      "application/vnd.jupyter.widget-view+json": {
       "model_id": "f3cd416583a04dac8d89c6c6889fead3",
       "version_major": 2,
       "version_minor": 0
      },
      "text/plain": [
       "Batches:   0%|          | 0/1 [00:00<?, ?it/s]"
      ]
     },
     "metadata": {},
     "output_type": "display_data"
    },
    {
     "data": {
      "application/vnd.jupyter.widget-view+json": {
       "model_id": "8226fcd6e8fb462488eb69b7959b9b45",
       "version_major": 2,
       "version_minor": 0
      },
      "text/plain": [
       "Batches:   0%|          | 0/1 [00:00<?, ?it/s]"
      ]
     },
     "metadata": {},
     "output_type": "display_data"
    },
    {
     "data": {
      "application/vnd.jupyter.widget-view+json": {
       "model_id": "68c55576f1ad4202bcd7f51310bb8c6d",
       "version_major": 2,
       "version_minor": 0
      },
      "text/plain": [
       "Batches:   0%|          | 0/1 [00:00<?, ?it/s]"
      ]
     },
     "metadata": {},
     "output_type": "display_data"
    },
    {
     "data": {
      "application/vnd.jupyter.widget-view+json": {
       "model_id": "40aad52fe1b24921945980fbc45675a0",
       "version_major": 2,
       "version_minor": 0
      },
      "text/plain": [
       "Batches:   0%|          | 0/1 [00:00<?, ?it/s]"
      ]
     },
     "metadata": {},
     "output_type": "display_data"
    },
    {
     "data": {
      "application/vnd.jupyter.widget-view+json": {
       "model_id": "7ac138d56ee64a32832dbaa7851c47e2",
       "version_major": 2,
       "version_minor": 0
      },
      "text/plain": [
       "Batches:   0%|          | 0/1 [00:00<?, ?it/s]"
      ]
     },
     "metadata": {},
     "output_type": "display_data"
    },
    {
     "data": {
      "application/vnd.jupyter.widget-view+json": {
       "model_id": "5c684c6cfcba4282b0ebd9b234dc1ce5",
       "version_major": 2,
       "version_minor": 0
      },
      "text/plain": [
       "Batches:   0%|          | 0/1 [00:00<?, ?it/s]"
      ]
     },
     "metadata": {},
     "output_type": "display_data"
    },
    {
     "data": {
      "application/vnd.jupyter.widget-view+json": {
       "model_id": "8a507f0e254e4493a129149682dd003e",
       "version_major": 2,
       "version_minor": 0
      },
      "text/plain": [
       "Batches:   0%|          | 0/1 [00:00<?, ?it/s]"
      ]
     },
     "metadata": {},
     "output_type": "display_data"
    },
    {
     "data": {
      "application/vnd.jupyter.widget-view+json": {
       "model_id": "802da3b634d3427aa45f4f1ff1b1620c",
       "version_major": 2,
       "version_minor": 0
      },
      "text/plain": [
       "Batches:   0%|          | 0/1 [00:00<?, ?it/s]"
      ]
     },
     "metadata": {},
     "output_type": "display_data"
    },
    {
     "data": {
      "application/vnd.jupyter.widget-view+json": {
       "model_id": "288561aba38449d18ad8296ab70516e8",
       "version_major": 2,
       "version_minor": 0
      },
      "text/plain": [
       "Batches:   0%|          | 0/1 [00:00<?, ?it/s]"
      ]
     },
     "metadata": {},
     "output_type": "display_data"
    },
    {
     "data": {
      "application/vnd.jupyter.widget-view+json": {
       "model_id": "cf46457331134d3c8d0c953108b3f773",
       "version_major": 2,
       "version_minor": 0
      },
      "text/plain": [
       "Batches:   0%|          | 0/1 [00:00<?, ?it/s]"
      ]
     },
     "metadata": {},
     "output_type": "display_data"
    },
    {
     "data": {
      "application/vnd.jupyter.widget-view+json": {
       "model_id": "c76e68d0e36f4af7b63dde4d8ff31e20",
       "version_major": 2,
       "version_minor": 0
      },
      "text/plain": [
       "Batches:   0%|          | 0/1 [00:00<?, ?it/s]"
      ]
     },
     "metadata": {},
     "output_type": "display_data"
    },
    {
     "data": {
      "application/vnd.jupyter.widget-view+json": {
       "model_id": "13e727b2149d448fbd9c53a293230c47",
       "version_major": 2,
       "version_minor": 0
      },
      "text/plain": [
       "Batches:   0%|          | 0/1 [00:00<?, ?it/s]"
      ]
     },
     "metadata": {},
     "output_type": "display_data"
    },
    {
     "data": {
      "application/vnd.jupyter.widget-view+json": {
       "model_id": "f56b32d11a514d4382f13d215652c72d",
       "version_major": 2,
       "version_minor": 0
      },
      "text/plain": [
       "Batches:   0%|          | 0/1 [00:00<?, ?it/s]"
      ]
     },
     "metadata": {},
     "output_type": "display_data"
    },
    {
     "data": {
      "application/vnd.jupyter.widget-view+json": {
       "model_id": "cce01ad8e1af439eba019d97119ac18a",
       "version_major": 2,
       "version_minor": 0
      },
      "text/plain": [
       "Batches:   0%|          | 0/1 [00:00<?, ?it/s]"
      ]
     },
     "metadata": {},
     "output_type": "display_data"
    },
    {
     "data": {
      "application/vnd.jupyter.widget-view+json": {
       "model_id": "feea5dd243284125abb5c771be3a4dce",
       "version_major": 2,
       "version_minor": 0
      },
      "text/plain": [
       "Batches:   0%|          | 0/1 [00:00<?, ?it/s]"
      ]
     },
     "metadata": {},
     "output_type": "display_data"
    },
    {
     "data": {
      "application/vnd.jupyter.widget-view+json": {
       "model_id": "4e5a752586c641f79fabdaf0b69ac74b",
       "version_major": 2,
       "version_minor": 0
      },
      "text/plain": [
       "Batches:   0%|          | 0/1 [00:00<?, ?it/s]"
      ]
     },
     "metadata": {},
     "output_type": "display_data"
    },
    {
     "data": {
      "application/vnd.jupyter.widget-view+json": {
       "model_id": "d648091677354c9b9a4f6aa39193ff2a",
       "version_major": 2,
       "version_minor": 0
      },
      "text/plain": [
       "Batches:   0%|          | 0/1 [00:00<?, ?it/s]"
      ]
     },
     "metadata": {},
     "output_type": "display_data"
    },
    {
     "data": {
      "application/vnd.jupyter.widget-view+json": {
       "model_id": "4e7683429d4f4e708548db34896de98b",
       "version_major": 2,
       "version_minor": 0
      },
      "text/plain": [
       "Batches:   0%|          | 0/1 [00:00<?, ?it/s]"
      ]
     },
     "metadata": {},
     "output_type": "display_data"
    },
    {
     "data": {
      "application/vnd.jupyter.widget-view+json": {
       "model_id": "400fc288feed4df1abe14cda4ddc33da",
       "version_major": 2,
       "version_minor": 0
      },
      "text/plain": [
       "Batches:   0%|          | 0/1 [00:00<?, ?it/s]"
      ]
     },
     "metadata": {},
     "output_type": "display_data"
    },
    {
     "data": {
      "application/vnd.jupyter.widget-view+json": {
       "model_id": "4613ece752584ebdbae8bee344555a47",
       "version_major": 2,
       "version_minor": 0
      },
      "text/plain": [
       "Batches:   0%|          | 0/1 [00:00<?, ?it/s]"
      ]
     },
     "metadata": {},
     "output_type": "display_data"
    },
    {
     "data": {
      "application/vnd.jupyter.widget-view+json": {
       "model_id": "14b52a46d5384c9f8605976b04f03096",
       "version_major": 2,
       "version_minor": 0
      },
      "text/plain": [
       "Batches:   0%|          | 0/1 [00:00<?, ?it/s]"
      ]
     },
     "metadata": {},
     "output_type": "display_data"
    },
    {
     "data": {
      "application/vnd.jupyter.widget-view+json": {
       "model_id": "307f3e5a3703446da4df42c105d2d463",
       "version_major": 2,
       "version_minor": 0
      },
      "text/plain": [
       "Batches:   0%|          | 0/1 [00:00<?, ?it/s]"
      ]
     },
     "metadata": {},
     "output_type": "display_data"
    },
    {
     "data": {
      "application/vnd.jupyter.widget-view+json": {
       "model_id": "21615d87b5ba4127bb25c83cca9deb1d",
       "version_major": 2,
       "version_minor": 0
      },
      "text/plain": [
       "Batches:   0%|          | 0/1 [00:00<?, ?it/s]"
      ]
     },
     "metadata": {},
     "output_type": "display_data"
    },
    {
     "data": {
      "application/vnd.jupyter.widget-view+json": {
       "model_id": "11fefab1f7d34a4ca5465e20d391aafa",
       "version_major": 2,
       "version_minor": 0
      },
      "text/plain": [
       "Batches:   0%|          | 0/1 [00:00<?, ?it/s]"
      ]
     },
     "metadata": {},
     "output_type": "display_data"
    },
    {
     "data": {
      "application/vnd.jupyter.widget-view+json": {
       "model_id": "c2a47902460a439e8ca66484db23cd0a",
       "version_major": 2,
       "version_minor": 0
      },
      "text/plain": [
       "Batches:   0%|          | 0/1 [00:00<?, ?it/s]"
      ]
     },
     "metadata": {},
     "output_type": "display_data"
    },
    {
     "data": {
      "application/vnd.jupyter.widget-view+json": {
       "model_id": "63af2f52bd344965be5cff8dc64b4a21",
       "version_major": 2,
       "version_minor": 0
      },
      "text/plain": [
       "Batches:   0%|          | 0/1 [00:00<?, ?it/s]"
      ]
     },
     "metadata": {},
     "output_type": "display_data"
    },
    {
     "data": {
      "application/vnd.jupyter.widget-view+json": {
       "model_id": "e6136b98cff1429680080284a1aa496f",
       "version_major": 2,
       "version_minor": 0
      },
      "text/plain": [
       "Batches:   0%|          | 0/1 [00:00<?, ?it/s]"
      ]
     },
     "metadata": {},
     "output_type": "display_data"
    },
    {
     "data": {
      "application/vnd.jupyter.widget-view+json": {
       "model_id": "d34ad54b18f3417a8dc23bd32945bb81",
       "version_major": 2,
       "version_minor": 0
      },
      "text/plain": [
       "Batches:   0%|          | 0/1 [00:00<?, ?it/s]"
      ]
     },
     "metadata": {},
     "output_type": "display_data"
    },
    {
     "data": {
      "application/vnd.jupyter.widget-view+json": {
       "model_id": "eb478cb75b8e4e01abe1286e9bd6960d",
       "version_major": 2,
       "version_minor": 0
      },
      "text/plain": [
       "Batches:   0%|          | 0/1 [00:00<?, ?it/s]"
      ]
     },
     "metadata": {},
     "output_type": "display_data"
    },
    {
     "data": {
      "application/vnd.jupyter.widget-view+json": {
       "model_id": "5540dd4b80174649a5c926a75f968d88",
       "version_major": 2,
       "version_minor": 0
      },
      "text/plain": [
       "Batches:   0%|          | 0/1 [00:00<?, ?it/s]"
      ]
     },
     "metadata": {},
     "output_type": "display_data"
    },
    {
     "data": {
      "application/vnd.jupyter.widget-view+json": {
       "model_id": "92cecc1e4f03452b8436187cd1b89504",
       "version_major": 2,
       "version_minor": 0
      },
      "text/plain": [
       "Batches:   0%|          | 0/1 [00:00<?, ?it/s]"
      ]
     },
     "metadata": {},
     "output_type": "display_data"
    },
    {
     "data": {
      "application/vnd.jupyter.widget-view+json": {
       "model_id": "8b359db7e8e84f9680902733c838714a",
       "version_major": 2,
       "version_minor": 0
      },
      "text/plain": [
       "Batches:   0%|          | 0/1 [00:00<?, ?it/s]"
      ]
     },
     "metadata": {},
     "output_type": "display_data"
    },
    {
     "data": {
      "application/vnd.jupyter.widget-view+json": {
       "model_id": "49ba6aec402b4618a0b1758a5d79dc0e",
       "version_major": 2,
       "version_minor": 0
      },
      "text/plain": [
       "Batches:   0%|          | 0/1 [00:00<?, ?it/s]"
      ]
     },
     "metadata": {},
     "output_type": "display_data"
    },
    {
     "data": {
      "application/vnd.jupyter.widget-view+json": {
       "model_id": "0a3079c843fa45979f47d82b47ecbe33",
       "version_major": 2,
       "version_minor": 0
      },
      "text/plain": [
       "Batches:   0%|          | 0/1 [00:00<?, ?it/s]"
      ]
     },
     "metadata": {},
     "output_type": "display_data"
    },
    {
     "data": {
      "application/vnd.jupyter.widget-view+json": {
       "model_id": "e9909587e92f452ba999d92219295da2",
       "version_major": 2,
       "version_minor": 0
      },
      "text/plain": [
       "Batches:   0%|          | 0/1 [00:00<?, ?it/s]"
      ]
     },
     "metadata": {},
     "output_type": "display_data"
    },
    {
     "data": {
      "application/vnd.jupyter.widget-view+json": {
       "model_id": "7a7c77fe2dbd4e46a59bd2ee345397da",
       "version_major": 2,
       "version_minor": 0
      },
      "text/plain": [
       "Batches:   0%|          | 0/1 [00:00<?, ?it/s]"
      ]
     },
     "metadata": {},
     "output_type": "display_data"
    },
    {
     "data": {
      "application/vnd.jupyter.widget-view+json": {
       "model_id": "2e55264ead5a4d9397e1740be9695f21",
       "version_major": 2,
       "version_minor": 0
      },
      "text/plain": [
       "Batches:   0%|          | 0/1 [00:00<?, ?it/s]"
      ]
     },
     "metadata": {},
     "output_type": "display_data"
    },
    {
     "data": {
      "application/vnd.jupyter.widget-view+json": {
       "model_id": "28f42f99e2a7488ba23d0960f959f74b",
       "version_major": 2,
       "version_minor": 0
      },
      "text/plain": [
       "Batches:   0%|          | 0/1 [00:00<?, ?it/s]"
      ]
     },
     "metadata": {},
     "output_type": "display_data"
    },
    {
     "data": {
      "application/vnd.jupyter.widget-view+json": {
       "model_id": "c3a73fd227924a22bd8a7a5e5715f378",
       "version_major": 2,
       "version_minor": 0
      },
      "text/plain": [
       "Batches:   0%|          | 0/1 [00:00<?, ?it/s]"
      ]
     },
     "metadata": {},
     "output_type": "display_data"
    },
    {
     "data": {
      "application/vnd.jupyter.widget-view+json": {
       "model_id": "43ee1d40db77474b8a3e7a74c81b6d7d",
       "version_major": 2,
       "version_minor": 0
      },
      "text/plain": [
       "Batches:   0%|          | 0/1 [00:00<?, ?it/s]"
      ]
     },
     "metadata": {},
     "output_type": "display_data"
    },
    {
     "data": {
      "application/vnd.jupyter.widget-view+json": {
       "model_id": "2f4d29edec30434face5ccea6aa18418",
       "version_major": 2,
       "version_minor": 0
      },
      "text/plain": [
       "Batches:   0%|          | 0/1 [00:00<?, ?it/s]"
      ]
     },
     "metadata": {},
     "output_type": "display_data"
    },
    {
     "data": {
      "application/vnd.jupyter.widget-view+json": {
       "model_id": "7c3b3e7b544b4223bc8452e83bffec96",
       "version_major": 2,
       "version_minor": 0
      },
      "text/plain": [
       "Batches:   0%|          | 0/1 [00:00<?, ?it/s]"
      ]
     },
     "metadata": {},
     "output_type": "display_data"
    },
    {
     "data": {
      "application/vnd.jupyter.widget-view+json": {
       "model_id": "9fc339d799ff4780ab759f44578d6f55",
       "version_major": 2,
       "version_minor": 0
      },
      "text/plain": [
       "Batches:   0%|          | 0/1 [00:00<?, ?it/s]"
      ]
     },
     "metadata": {},
     "output_type": "display_data"
    },
    {
     "data": {
      "application/vnd.jupyter.widget-view+json": {
       "model_id": "41efe3f920bc454e8d1cb94c7e8363a9",
       "version_major": 2,
       "version_minor": 0
      },
      "text/plain": [
       "Batches:   0%|          | 0/1 [00:00<?, ?it/s]"
      ]
     },
     "metadata": {},
     "output_type": "display_data"
    },
    {
     "data": {
      "application/vnd.jupyter.widget-view+json": {
       "model_id": "ce4f130ab8ed4abbb541fff420121d36",
       "version_major": 2,
       "version_minor": 0
      },
      "text/plain": [
       "Batches:   0%|          | 0/1 [00:00<?, ?it/s]"
      ]
     },
     "metadata": {},
     "output_type": "display_data"
    },
    {
     "data": {
      "application/vnd.jupyter.widget-view+json": {
       "model_id": "52a23e02f31944f6a8af5aa153036dcd",
       "version_major": 2,
       "version_minor": 0
      },
      "text/plain": [
       "Batches:   0%|          | 0/1 [00:00<?, ?it/s]"
      ]
     },
     "metadata": {},
     "output_type": "display_data"
    },
    {
     "data": {
      "application/vnd.jupyter.widget-view+json": {
       "model_id": "51b17280e533422097bf24804b422626",
       "version_major": 2,
       "version_minor": 0
      },
      "text/plain": [
       "Batches:   0%|          | 0/1 [00:00<?, ?it/s]"
      ]
     },
     "metadata": {},
     "output_type": "display_data"
    },
    {
     "data": {
      "application/vnd.jupyter.widget-view+json": {
       "model_id": "8cfeffbaf05e4fa7afd0afdfee4cd227",
       "version_major": 2,
       "version_minor": 0
      },
      "text/plain": [
       "Batches:   0%|          | 0/1 [00:00<?, ?it/s]"
      ]
     },
     "metadata": {},
     "output_type": "display_data"
    },
    {
     "data": {
      "application/vnd.jupyter.widget-view+json": {
       "model_id": "aa25691c51c9439d8bcc142f0b16b5c1",
       "version_major": 2,
       "version_minor": 0
      },
      "text/plain": [
       "Batches:   0%|          | 0/1 [00:00<?, ?it/s]"
      ]
     },
     "metadata": {},
     "output_type": "display_data"
    },
    {
     "data": {
      "application/vnd.jupyter.widget-view+json": {
       "model_id": "90ef7d111c5c4be2a39e27f2d7570f91",
       "version_major": 2,
       "version_minor": 0
      },
      "text/plain": [
       "Batches:   0%|          | 0/1 [00:00<?, ?it/s]"
      ]
     },
     "metadata": {},
     "output_type": "display_data"
    },
    {
     "data": {
      "application/vnd.jupyter.widget-view+json": {
       "model_id": "5cd5b80edaf4406dac3e49b008945d32",
       "version_major": 2,
       "version_minor": 0
      },
      "text/plain": [
       "Batches:   0%|          | 0/1 [00:00<?, ?it/s]"
      ]
     },
     "metadata": {},
     "output_type": "display_data"
    },
    {
     "data": {
      "application/vnd.jupyter.widget-view+json": {
       "model_id": "0d10eafa19394c75882496caa1953979",
       "version_major": 2,
       "version_minor": 0
      },
      "text/plain": [
       "Batches:   0%|          | 0/1 [00:00<?, ?it/s]"
      ]
     },
     "metadata": {},
     "output_type": "display_data"
    },
    {
     "data": {
      "application/vnd.jupyter.widget-view+json": {
       "model_id": "452bbebb32bc42dca29ac66623aea07c",
       "version_major": 2,
       "version_minor": 0
      },
      "text/plain": [
       "Batches:   0%|          | 0/1 [00:00<?, ?it/s]"
      ]
     },
     "metadata": {},
     "output_type": "display_data"
    },
    {
     "data": {
      "application/vnd.jupyter.widget-view+json": {
       "model_id": "1efd1536d5f745aea3fc7109c20f51ca",
       "version_major": 2,
       "version_minor": 0
      },
      "text/plain": [
       "Batches:   0%|          | 0/1 [00:00<?, ?it/s]"
      ]
     },
     "metadata": {},
     "output_type": "display_data"
    },
    {
     "data": {
      "application/vnd.jupyter.widget-view+json": {
       "model_id": "ca60e348e3324e618e4bd611b30f43e5",
       "version_major": 2,
       "version_minor": 0
      },
      "text/plain": [
       "Batches:   0%|          | 0/1 [00:00<?, ?it/s]"
      ]
     },
     "metadata": {},
     "output_type": "display_data"
    },
    {
     "data": {
      "application/vnd.jupyter.widget-view+json": {
       "model_id": "7a354a2ba7494f5b9b29364f88060a3c",
       "version_major": 2,
       "version_minor": 0
      },
      "text/plain": [
       "Batches:   0%|          | 0/1 [00:00<?, ?it/s]"
      ]
     },
     "metadata": {},
     "output_type": "display_data"
    },
    {
     "data": {
      "application/vnd.jupyter.widget-view+json": {
       "model_id": "256845e2f38b4fbbac177fa72ee7f699",
       "version_major": 2,
       "version_minor": 0
      },
      "text/plain": [
       "Batches:   0%|          | 0/1 [00:00<?, ?it/s]"
      ]
     },
     "metadata": {},
     "output_type": "display_data"
    },
    {
     "data": {
      "application/vnd.jupyter.widget-view+json": {
       "model_id": "8648d8fa169f4196a7970f9198ac5fdd",
       "version_major": 2,
       "version_minor": 0
      },
      "text/plain": [
       "Batches:   0%|          | 0/1 [00:00<?, ?it/s]"
      ]
     },
     "metadata": {},
     "output_type": "display_data"
    },
    {
     "data": {
      "application/vnd.jupyter.widget-view+json": {
       "model_id": "df7cc09dda8a4b26b097edbf54689962",
       "version_major": 2,
       "version_minor": 0
      },
      "text/plain": [
       "Batches:   0%|          | 0/1 [00:00<?, ?it/s]"
      ]
     },
     "metadata": {},
     "output_type": "display_data"
    },
    {
     "data": {
      "application/vnd.jupyter.widget-view+json": {
       "model_id": "e8635239b82f405b808c9af114567556",
       "version_major": 2,
       "version_minor": 0
      },
      "text/plain": [
       "Batches:   0%|          | 0/1 [00:00<?, ?it/s]"
      ]
     },
     "metadata": {},
     "output_type": "display_data"
    },
    {
     "data": {
      "application/vnd.jupyter.widget-view+json": {
       "model_id": "e5926e766726428a94d9ee4de2d6d82c",
       "version_major": 2,
       "version_minor": 0
      },
      "text/plain": [
       "Batches:   0%|          | 0/1 [00:00<?, ?it/s]"
      ]
     },
     "metadata": {},
     "output_type": "display_data"
    },
    {
     "data": {
      "application/vnd.jupyter.widget-view+json": {
       "model_id": "4b8f76f81dfe4074a9f749aa50ff39c0",
       "version_major": 2,
       "version_minor": 0
      },
      "text/plain": [
       "Batches:   0%|          | 0/1 [00:00<?, ?it/s]"
      ]
     },
     "metadata": {},
     "output_type": "display_data"
    },
    {
     "data": {
      "application/vnd.jupyter.widget-view+json": {
       "model_id": "59cfb35fa23341b7bd1306d74781adfd",
       "version_major": 2,
       "version_minor": 0
      },
      "text/plain": [
       "Batches:   0%|          | 0/1 [00:00<?, ?it/s]"
      ]
     },
     "metadata": {},
     "output_type": "display_data"
    },
    {
     "data": {
      "application/vnd.jupyter.widget-view+json": {
       "model_id": "1036e55c6dcd42fd9a68c05d7d23cca4",
       "version_major": 2,
       "version_minor": 0
      },
      "text/plain": [
       "Batches:   0%|          | 0/1 [00:00<?, ?it/s]"
      ]
     },
     "metadata": {},
     "output_type": "display_data"
    },
    {
     "data": {
      "application/vnd.jupyter.widget-view+json": {
       "model_id": "227a7fded35a49dc9ae5ef447b6c4203",
       "version_major": 2,
       "version_minor": 0
      },
      "text/plain": [
       "Batches:   0%|          | 0/1 [00:00<?, ?it/s]"
      ]
     },
     "metadata": {},
     "output_type": "display_data"
    },
    {
     "data": {
      "application/vnd.jupyter.widget-view+json": {
       "model_id": "c20734048af24c6ebd55c4d1ad04a0d2",
       "version_major": 2,
       "version_minor": 0
      },
      "text/plain": [
       "Batches:   0%|          | 0/1 [00:00<?, ?it/s]"
      ]
     },
     "metadata": {},
     "output_type": "display_data"
    },
    {
     "data": {
      "application/vnd.jupyter.widget-view+json": {
       "model_id": "0bcc28c6168e41f19f215927b69fbbed",
       "version_major": 2,
       "version_minor": 0
      },
      "text/plain": [
       "Batches:   0%|          | 0/1 [00:00<?, ?it/s]"
      ]
     },
     "metadata": {},
     "output_type": "display_data"
    },
    {
     "data": {
      "application/vnd.jupyter.widget-view+json": {
       "model_id": "f452718bc0ea4a388a572f131a86335e",
       "version_major": 2,
       "version_minor": 0
      },
      "text/plain": [
       "Batches:   0%|          | 0/1 [00:00<?, ?it/s]"
      ]
     },
     "metadata": {},
     "output_type": "display_data"
    },
    {
     "data": {
      "application/vnd.jupyter.widget-view+json": {
       "model_id": "246b4211a5b140a994630a923a4869ce",
       "version_major": 2,
       "version_minor": 0
      },
      "text/plain": [
       "Batches:   0%|          | 0/1 [00:00<?, ?it/s]"
      ]
     },
     "metadata": {},
     "output_type": "display_data"
    },
    {
     "data": {
      "application/vnd.jupyter.widget-view+json": {
       "model_id": "113fd90f7df542848bc9ee13e01e23eb",
       "version_major": 2,
       "version_minor": 0
      },
      "text/plain": [
       "Batches:   0%|          | 0/1 [00:00<?, ?it/s]"
      ]
     },
     "metadata": {},
     "output_type": "display_data"
    },
    {
     "data": {
      "application/vnd.jupyter.widget-view+json": {
       "model_id": "cea4df99c9c9431a9a22ce277e936eea",
       "version_major": 2,
       "version_minor": 0
      },
      "text/plain": [
       "Batches:   0%|          | 0/1 [00:00<?, ?it/s]"
      ]
     },
     "metadata": {},
     "output_type": "display_data"
    },
    {
     "data": {
      "application/vnd.jupyter.widget-view+json": {
       "model_id": "6e6ff44ddec949c6b8c7361fb47a8c14",
       "version_major": 2,
       "version_minor": 0
      },
      "text/plain": [
       "Batches:   0%|          | 0/1 [00:00<?, ?it/s]"
      ]
     },
     "metadata": {},
     "output_type": "display_data"
    },
    {
     "data": {
      "application/vnd.jupyter.widget-view+json": {
       "model_id": "84bb35a60f934f57a334df6afe15edc9",
       "version_major": 2,
       "version_minor": 0
      },
      "text/plain": [
       "Batches:   0%|          | 0/1 [00:00<?, ?it/s]"
      ]
     },
     "metadata": {},
     "output_type": "display_data"
    },
    {
     "data": {
      "application/vnd.jupyter.widget-view+json": {
       "model_id": "086a351469e84b38a3242c6d0819af47",
       "version_major": 2,
       "version_minor": 0
      },
      "text/plain": [
       "Batches:   0%|          | 0/1 [00:00<?, ?it/s]"
      ]
     },
     "metadata": {},
     "output_type": "display_data"
    },
    {
     "data": {
      "application/vnd.jupyter.widget-view+json": {
       "model_id": "38b5ad1181774196866002538ec11160",
       "version_major": 2,
       "version_minor": 0
      },
      "text/plain": [
       "Batches:   0%|          | 0/1 [00:00<?, ?it/s]"
      ]
     },
     "metadata": {},
     "output_type": "display_data"
    },
    {
     "data": {
      "application/vnd.jupyter.widget-view+json": {
       "model_id": "a03da06332344c58bc76e4b1e8828d28",
       "version_major": 2,
       "version_minor": 0
      },
      "text/plain": [
       "Batches:   0%|          | 0/1 [00:00<?, ?it/s]"
      ]
     },
     "metadata": {},
     "output_type": "display_data"
    },
    {
     "data": {
      "application/vnd.jupyter.widget-view+json": {
       "model_id": "bd3e73fa6421483d8bcf9ec062917db6",
       "version_major": 2,
       "version_minor": 0
      },
      "text/plain": [
       "Batches:   0%|          | 0/1 [00:00<?, ?it/s]"
      ]
     },
     "metadata": {},
     "output_type": "display_data"
    },
    {
     "data": {
      "application/vnd.jupyter.widget-view+json": {
       "model_id": "ebeedaf517a54d908a5908fad23e7ec3",
       "version_major": 2,
       "version_minor": 0
      },
      "text/plain": [
       "Batches:   0%|          | 0/1 [00:00<?, ?it/s]"
      ]
     },
     "metadata": {},
     "output_type": "display_data"
    },
    {
     "data": {
      "application/vnd.jupyter.widget-view+json": {
       "model_id": "5b8758f4aff84234935d1231d2f5eb39",
       "version_major": 2,
       "version_minor": 0
      },
      "text/plain": [
       "Batches:   0%|          | 0/1 [00:00<?, ?it/s]"
      ]
     },
     "metadata": {},
     "output_type": "display_data"
    },
    {
     "data": {
      "application/vnd.jupyter.widget-view+json": {
       "model_id": "6d560ccd91a64d33b94c2c445e13e3e0",
       "version_major": 2,
       "version_minor": 0
      },
      "text/plain": [
       "Batches:   0%|          | 0/1 [00:00<?, ?it/s]"
      ]
     },
     "metadata": {},
     "output_type": "display_data"
    },
    {
     "data": {
      "application/vnd.jupyter.widget-view+json": {
       "model_id": "9716aee474e94aec8c0e0ece5a171ecc",
       "version_major": 2,
       "version_minor": 0
      },
      "text/plain": [
       "Batches:   0%|          | 0/1 [00:00<?, ?it/s]"
      ]
     },
     "metadata": {},
     "output_type": "display_data"
    },
    {
     "data": {
      "application/vnd.jupyter.widget-view+json": {
       "model_id": "b79ca88c85e6487bb8aadff86378a558",
       "version_major": 2,
       "version_minor": 0
      },
      "text/plain": [
       "Batches:   0%|          | 0/1 [00:00<?, ?it/s]"
      ]
     },
     "metadata": {},
     "output_type": "display_data"
    },
    {
     "data": {
      "application/vnd.jupyter.widget-view+json": {
       "model_id": "5e33385972b34f349fe6e17708349343",
       "version_major": 2,
       "version_minor": 0
      },
      "text/plain": [
       "Batches:   0%|          | 0/1 [00:00<?, ?it/s]"
      ]
     },
     "metadata": {},
     "output_type": "display_data"
    },
    {
     "data": {
      "application/vnd.jupyter.widget-view+json": {
       "model_id": "095e3c5afed74874b4b7bdb2bee6a6d9",
       "version_major": 2,
       "version_minor": 0
      },
      "text/plain": [
       "Batches:   0%|          | 0/1 [00:00<?, ?it/s]"
      ]
     },
     "metadata": {},
     "output_type": "display_data"
    },
    {
     "data": {
      "application/vnd.jupyter.widget-view+json": {
       "model_id": "e83f874e21a141ef947e33c78cab4f6c",
       "version_major": 2,
       "version_minor": 0
      },
      "text/plain": [
       "Batches:   0%|          | 0/1 [00:00<?, ?it/s]"
      ]
     },
     "metadata": {},
     "output_type": "display_data"
    },
    {
     "data": {
      "application/vnd.jupyter.widget-view+json": {
       "model_id": "b6119becd5424830a613ef32d51ce717",
       "version_major": 2,
       "version_minor": 0
      },
      "text/plain": [
       "Batches:   0%|          | 0/1 [00:00<?, ?it/s]"
      ]
     },
     "metadata": {},
     "output_type": "display_data"
    },
    {
     "data": {
      "application/vnd.jupyter.widget-view+json": {
       "model_id": "29c5fe72507843f8bf1b2dd01d882c6b",
       "version_major": 2,
       "version_minor": 0
      },
      "text/plain": [
       "Batches:   0%|          | 0/1 [00:00<?, ?it/s]"
      ]
     },
     "metadata": {},
     "output_type": "display_data"
    },
    {
     "data": {
      "application/vnd.jupyter.widget-view+json": {
       "model_id": "1cd9024294b847f4a1d11fc25c9ce75e",
       "version_major": 2,
       "version_minor": 0
      },
      "text/plain": [
       "Batches:   0%|          | 0/1 [00:00<?, ?it/s]"
      ]
     },
     "metadata": {},
     "output_type": "display_data"
    },
    {
     "data": {
      "application/vnd.jupyter.widget-view+json": {
       "model_id": "ef88d944ef3c4580a5e1567ae4f59dc1",
       "version_major": 2,
       "version_minor": 0
      },
      "text/plain": [
       "Batches:   0%|          | 0/1 [00:00<?, ?it/s]"
      ]
     },
     "metadata": {},
     "output_type": "display_data"
    },
    {
     "data": {
      "application/vnd.jupyter.widget-view+json": {
       "model_id": "63ac0838b01b43c9b8a101a9ba778c7b",
       "version_major": 2,
       "version_minor": 0
      },
      "text/plain": [
       "Batches:   0%|          | 0/1 [00:00<?, ?it/s]"
      ]
     },
     "metadata": {},
     "output_type": "display_data"
    },
    {
     "data": {
      "application/vnd.jupyter.widget-view+json": {
       "model_id": "433f82666da34749a2d318ed62d07847",
       "version_major": 2,
       "version_minor": 0
      },
      "text/plain": [
       "Batches:   0%|          | 0/1 [00:00<?, ?it/s]"
      ]
     },
     "metadata": {},
     "output_type": "display_data"
    },
    {
     "data": {
      "application/vnd.jupyter.widget-view+json": {
       "model_id": "c36e0a00a47944469aefa237b8858654",
       "version_major": 2,
       "version_minor": 0
      },
      "text/plain": [
       "Batches:   0%|          | 0/1 [00:00<?, ?it/s]"
      ]
     },
     "metadata": {},
     "output_type": "display_data"
    },
    {
     "data": {
      "application/vnd.jupyter.widget-view+json": {
       "model_id": "8101bce3fbab46548f877cb0af9bcce1",
       "version_major": 2,
       "version_minor": 0
      },
      "text/plain": [
       "Batches:   0%|          | 0/1 [00:00<?, ?it/s]"
      ]
     },
     "metadata": {},
     "output_type": "display_data"
    },
    {
     "data": {
      "application/vnd.jupyter.widget-view+json": {
       "model_id": "d60b58486a1f4088b28a082c6b74747c",
       "version_major": 2,
       "version_minor": 0
      },
      "text/plain": [
       "Batches:   0%|          | 0/1 [00:00<?, ?it/s]"
      ]
     },
     "metadata": {},
     "output_type": "display_data"
    },
    {
     "data": {
      "application/vnd.jupyter.widget-view+json": {
       "model_id": "053c7358df6d46c19f658037a97d0f54",
       "version_major": 2,
       "version_minor": 0
      },
      "text/plain": [
       "Batches:   0%|          | 0/1 [00:00<?, ?it/s]"
      ]
     },
     "metadata": {},
     "output_type": "display_data"
    },
    {
     "data": {
      "application/vnd.jupyter.widget-view+json": {
       "model_id": "46d5aba943e942a6a4e4b6fbf579ebb9",
       "version_major": 2,
       "version_minor": 0
      },
      "text/plain": [
       "Batches:   0%|          | 0/1 [00:00<?, ?it/s]"
      ]
     },
     "metadata": {},
     "output_type": "display_data"
    },
    {
     "data": {
      "application/vnd.jupyter.widget-view+json": {
       "model_id": "86711a450fbb470eb6be33261f3c955f",
       "version_major": 2,
       "version_minor": 0
      },
      "text/plain": [
       "Batches:   0%|          | 0/1 [00:00<?, ?it/s]"
      ]
     },
     "metadata": {},
     "output_type": "display_data"
    },
    {
     "data": {
      "application/vnd.jupyter.widget-view+json": {
       "model_id": "01ab68ace13244c4b6346d8746546ab3",
       "version_major": 2,
       "version_minor": 0
      },
      "text/plain": [
       "Batches:   0%|          | 0/1 [00:00<?, ?it/s]"
      ]
     },
     "metadata": {},
     "output_type": "display_data"
    },
    {
     "data": {
      "application/vnd.jupyter.widget-view+json": {
       "model_id": "3265bc04d6c24b8b9ac981f3e4320293",
       "version_major": 2,
       "version_minor": 0
      },
      "text/plain": [
       "Batches:   0%|          | 0/1 [00:00<?, ?it/s]"
      ]
     },
     "metadata": {},
     "output_type": "display_data"
    },
    {
     "data": {
      "application/vnd.jupyter.widget-view+json": {
       "model_id": "ffd95c166dc642c5a128a01c00a607ad",
       "version_major": 2,
       "version_minor": 0
      },
      "text/plain": [
       "Batches:   0%|          | 0/1 [00:00<?, ?it/s]"
      ]
     },
     "metadata": {},
     "output_type": "display_data"
    },
    {
     "data": {
      "application/vnd.jupyter.widget-view+json": {
       "model_id": "c7a75a6832b049b297d2196a232243c8",
       "version_major": 2,
       "version_minor": 0
      },
      "text/plain": [
       "Batches:   0%|          | 0/1 [00:00<?, ?it/s]"
      ]
     },
     "metadata": {},
     "output_type": "display_data"
    },
    {
     "data": {
      "application/vnd.jupyter.widget-view+json": {
       "model_id": "807f9c4ec6c34e55966a03fdb55ec795",
       "version_major": 2,
       "version_minor": 0
      },
      "text/plain": [
       "Batches:   0%|          | 0/1 [00:00<?, ?it/s]"
      ]
     },
     "metadata": {},
     "output_type": "display_data"
    },
    {
     "data": {
      "application/vnd.jupyter.widget-view+json": {
       "model_id": "e2597178552e4da5a20c6f5d44cc8341",
       "version_major": 2,
       "version_minor": 0
      },
      "text/plain": [
       "Batches:   0%|          | 0/1 [00:00<?, ?it/s]"
      ]
     },
     "metadata": {},
     "output_type": "display_data"
    },
    {
     "data": {
      "application/vnd.jupyter.widget-view+json": {
       "model_id": "95933ce3b7da49ee950c755325e58db4",
       "version_major": 2,
       "version_minor": 0
      },
      "text/plain": [
       "Batches:   0%|          | 0/1 [00:00<?, ?it/s]"
      ]
     },
     "metadata": {},
     "output_type": "display_data"
    },
    {
     "data": {
      "application/vnd.jupyter.widget-view+json": {
       "model_id": "f581aacb45cb4fb7889197e5d8b6499f",
       "version_major": 2,
       "version_minor": 0
      },
      "text/plain": [
       "Batches:   0%|          | 0/1 [00:00<?, ?it/s]"
      ]
     },
     "metadata": {},
     "output_type": "display_data"
    },
    {
     "data": {
      "application/vnd.jupyter.widget-view+json": {
       "model_id": "ec704b360e0442f897734b8280a5a5bd",
       "version_major": 2,
       "version_minor": 0
      },
      "text/plain": [
       "Batches:   0%|          | 0/1 [00:00<?, ?it/s]"
      ]
     },
     "metadata": {},
     "output_type": "display_data"
    },
    {
     "data": {
      "application/vnd.jupyter.widget-view+json": {
       "model_id": "32e783853fdd45f89ee26f58f4422ae1",
       "version_major": 2,
       "version_minor": 0
      },
      "text/plain": [
       "Batches:   0%|          | 0/1 [00:00<?, ?it/s]"
      ]
     },
     "metadata": {},
     "output_type": "display_data"
    },
    {
     "data": {
      "application/vnd.jupyter.widget-view+json": {
       "model_id": "7f402db44b3a43e7bdd2815e2c21bd81",
       "version_major": 2,
       "version_minor": 0
      },
      "text/plain": [
       "Batches:   0%|          | 0/1 [00:00<?, ?it/s]"
      ]
     },
     "metadata": {},
     "output_type": "display_data"
    },
    {
     "data": {
      "application/vnd.jupyter.widget-view+json": {
       "model_id": "92854cca042e4b1294ea507760c62993",
       "version_major": 2,
       "version_minor": 0
      },
      "text/plain": [
       "Batches:   0%|          | 0/1 [00:00<?, ?it/s]"
      ]
     },
     "metadata": {},
     "output_type": "display_data"
    },
    {
     "data": {
      "application/vnd.jupyter.widget-view+json": {
       "model_id": "3ed23e3a5e6d4f7b827be1c6cab609c5",
       "version_major": 2,
       "version_minor": 0
      },
      "text/plain": [
       "Batches:   0%|          | 0/1 [00:00<?, ?it/s]"
      ]
     },
     "metadata": {},
     "output_type": "display_data"
    },
    {
     "data": {
      "application/vnd.jupyter.widget-view+json": {
       "model_id": "348ec3d2443a4040b80eace3977f6570",
       "version_major": 2,
       "version_minor": 0
      },
      "text/plain": [
       "Batches:   0%|          | 0/1 [00:00<?, ?it/s]"
      ]
     },
     "metadata": {},
     "output_type": "display_data"
    },
    {
     "data": {
      "application/vnd.jupyter.widget-view+json": {
       "model_id": "08f87be83e8248de8d5661c3a6beb7d5",
       "version_major": 2,
       "version_minor": 0
      },
      "text/plain": [
       "Batches:   0%|          | 0/1 [00:00<?, ?it/s]"
      ]
     },
     "metadata": {},
     "output_type": "display_data"
    },
    {
     "data": {
      "application/vnd.jupyter.widget-view+json": {
       "model_id": "b6fd584b10894381b98fc42d83270266",
       "version_major": 2,
       "version_minor": 0
      },
      "text/plain": [
       "Batches:   0%|          | 0/1 [00:00<?, ?it/s]"
      ]
     },
     "metadata": {},
     "output_type": "display_data"
    },
    {
     "data": {
      "application/vnd.jupyter.widget-view+json": {
       "model_id": "2a275ece495f45b1a8101025565644d8",
       "version_major": 2,
       "version_minor": 0
      },
      "text/plain": [
       "Batches:   0%|          | 0/1 [00:00<?, ?it/s]"
      ]
     },
     "metadata": {},
     "output_type": "display_data"
    },
    {
     "data": {
      "application/vnd.jupyter.widget-view+json": {
       "model_id": "2a3945c3d13148ddaa05afd1152e0f79",
       "version_major": 2,
       "version_minor": 0
      },
      "text/plain": [
       "Batches:   0%|          | 0/1 [00:00<?, ?it/s]"
      ]
     },
     "metadata": {},
     "output_type": "display_data"
    },
    {
     "data": {
      "application/vnd.jupyter.widget-view+json": {
       "model_id": "51e2ac1f0a5244d2b238320796e31a9e",
       "version_major": 2,
       "version_minor": 0
      },
      "text/plain": [
       "Batches:   0%|          | 0/1 [00:00<?, ?it/s]"
      ]
     },
     "metadata": {},
     "output_type": "display_data"
    },
    {
     "data": {
      "application/vnd.jupyter.widget-view+json": {
       "model_id": "5a8d42fc0f904ffb95702fe597225336",
       "version_major": 2,
       "version_minor": 0
      },
      "text/plain": [
       "Batches:   0%|          | 0/1 [00:00<?, ?it/s]"
      ]
     },
     "metadata": {},
     "output_type": "display_data"
    },
    {
     "data": {
      "application/vnd.jupyter.widget-view+json": {
       "model_id": "78f2aba636444b51b975531d0fc41ce2",
       "version_major": 2,
       "version_minor": 0
      },
      "text/plain": [
       "Batches:   0%|          | 0/1 [00:00<?, ?it/s]"
      ]
     },
     "metadata": {},
     "output_type": "display_data"
    },
    {
     "data": {
      "application/vnd.jupyter.widget-view+json": {
       "model_id": "05d68b67d76c41d3b65cb93e6d20b35d",
       "version_major": 2,
       "version_minor": 0
      },
      "text/plain": [
       "Batches:   0%|          | 0/1 [00:00<?, ?it/s]"
      ]
     },
     "metadata": {},
     "output_type": "display_data"
    },
    {
     "data": {
      "application/vnd.jupyter.widget-view+json": {
       "model_id": "0ee1a1a46439470da8b0b8038c694821",
       "version_major": 2,
       "version_minor": 0
      },
      "text/plain": [
       "Batches:   0%|          | 0/1 [00:00<?, ?it/s]"
      ]
     },
     "metadata": {},
     "output_type": "display_data"
    },
    {
     "data": {
      "application/vnd.jupyter.widget-view+json": {
       "model_id": "0729f49bf219429394f52cd5b197c146",
       "version_major": 2,
       "version_minor": 0
      },
      "text/plain": [
       "Batches:   0%|          | 0/1 [00:00<?, ?it/s]"
      ]
     },
     "metadata": {},
     "output_type": "display_data"
    },
    {
     "data": {
      "application/vnd.jupyter.widget-view+json": {
       "model_id": "588b7e7603da4d48aa23169a9fb07fc7",
       "version_major": 2,
       "version_minor": 0
      },
      "text/plain": [
       "Batches:   0%|          | 0/1 [00:00<?, ?it/s]"
      ]
     },
     "metadata": {},
     "output_type": "display_data"
    },
    {
     "data": {
      "application/vnd.jupyter.widget-view+json": {
       "model_id": "cad10f0d575a4b76bbff6aa4821fa665",
       "version_major": 2,
       "version_minor": 0
      },
      "text/plain": [
       "Batches:   0%|          | 0/1 [00:00<?, ?it/s]"
      ]
     },
     "metadata": {},
     "output_type": "display_data"
    },
    {
     "data": {
      "application/vnd.jupyter.widget-view+json": {
       "model_id": "1cf57a71d2cb4e189a5132c9a0812259",
       "version_major": 2,
       "version_minor": 0
      },
      "text/plain": [
       "Batches:   0%|          | 0/1 [00:00<?, ?it/s]"
      ]
     },
     "metadata": {},
     "output_type": "display_data"
    },
    {
     "data": {
      "application/vnd.jupyter.widget-view+json": {
       "model_id": "99bdffc222304a7f8c87e6a02bf86b11",
       "version_major": 2,
       "version_minor": 0
      },
      "text/plain": [
       "Batches:   0%|          | 0/1 [00:00<?, ?it/s]"
      ]
     },
     "metadata": {},
     "output_type": "display_data"
    },
    {
     "data": {
      "application/vnd.jupyter.widget-view+json": {
       "model_id": "ddc7508ca4334e10aaf3f0447427cf63",
       "version_major": 2,
       "version_minor": 0
      },
      "text/plain": [
       "Batches:   0%|          | 0/1 [00:00<?, ?it/s]"
      ]
     },
     "metadata": {},
     "output_type": "display_data"
    },
    {
     "data": {
      "application/vnd.jupyter.widget-view+json": {
       "model_id": "1d30403c561f40a38337c1d20fdfb902",
       "version_major": 2,
       "version_minor": 0
      },
      "text/plain": [
       "Batches:   0%|          | 0/1 [00:00<?, ?it/s]"
      ]
     },
     "metadata": {},
     "output_type": "display_data"
    },
    {
     "data": {
      "application/vnd.jupyter.widget-view+json": {
       "model_id": "9565c01080ee4cd6aa3b8a45871cc144",
       "version_major": 2,
       "version_minor": 0
      },
      "text/plain": [
       "Batches:   0%|          | 0/1 [00:00<?, ?it/s]"
      ]
     },
     "metadata": {},
     "output_type": "display_data"
    },
    {
     "data": {
      "application/vnd.jupyter.widget-view+json": {
       "model_id": "b86aa1f4d33b4280870efa1ed95d7157",
       "version_major": 2,
       "version_minor": 0
      },
      "text/plain": [
       "Batches:   0%|          | 0/1 [00:00<?, ?it/s]"
      ]
     },
     "metadata": {},
     "output_type": "display_data"
    },
    {
     "data": {
      "application/vnd.jupyter.widget-view+json": {
       "model_id": "1d7d01b630074939b59f40557c9138eb",
       "version_major": 2,
       "version_minor": 0
      },
      "text/plain": [
       "Batches:   0%|          | 0/1 [00:00<?, ?it/s]"
      ]
     },
     "metadata": {},
     "output_type": "display_data"
    },
    {
     "data": {
      "application/vnd.jupyter.widget-view+json": {
       "model_id": "f4ceda8aacb24d089f7d5c835638209c",
       "version_major": 2,
       "version_minor": 0
      },
      "text/plain": [
       "Batches:   0%|          | 0/1 [00:00<?, ?it/s]"
      ]
     },
     "metadata": {},
     "output_type": "display_data"
    },
    {
     "data": {
      "application/vnd.jupyter.widget-view+json": {
       "model_id": "3fae48c5621b46fba39e1264c8cd200f",
       "version_major": 2,
       "version_minor": 0
      },
      "text/plain": [
       "Batches:   0%|          | 0/1 [00:00<?, ?it/s]"
      ]
     },
     "metadata": {},
     "output_type": "display_data"
    },
    {
     "data": {
      "application/vnd.jupyter.widget-view+json": {
       "model_id": "32d5cffe9ea342d28d04e79289594be0",
       "version_major": 2,
       "version_minor": 0
      },
      "text/plain": [
       "Batches:   0%|          | 0/1 [00:00<?, ?it/s]"
      ]
     },
     "metadata": {},
     "output_type": "display_data"
    },
    {
     "data": {
      "application/vnd.jupyter.widget-view+json": {
       "model_id": "171cfb7ffe0b494cbae3ebdac90d8ce5",
       "version_major": 2,
       "version_minor": 0
      },
      "text/plain": [
       "Batches:   0%|          | 0/1 [00:00<?, ?it/s]"
      ]
     },
     "metadata": {},
     "output_type": "display_data"
    },
    {
     "data": {
      "application/vnd.jupyter.widget-view+json": {
       "model_id": "806c9a1698b34a01ae2e293e17e04aa1",
       "version_major": 2,
       "version_minor": 0
      },
      "text/plain": [
       "Batches:   0%|          | 0/1 [00:00<?, ?it/s]"
      ]
     },
     "metadata": {},
     "output_type": "display_data"
    },
    {
     "data": {
      "application/vnd.jupyter.widget-view+json": {
       "model_id": "eaf1aa55f2804febb95f9d9955a92e4e",
       "version_major": 2,
       "version_minor": 0
      },
      "text/plain": [
       "Batches:   0%|          | 0/1 [00:00<?, ?it/s]"
      ]
     },
     "metadata": {},
     "output_type": "display_data"
    },
    {
     "data": {
      "application/vnd.jupyter.widget-view+json": {
       "model_id": "dbd1d4df805d47e19834c9901a365156",
       "version_major": 2,
       "version_minor": 0
      },
      "text/plain": [
       "Batches:   0%|          | 0/1 [00:00<?, ?it/s]"
      ]
     },
     "metadata": {},
     "output_type": "display_data"
    },
    {
     "data": {
      "application/vnd.jupyter.widget-view+json": {
       "model_id": "81dabaa917114197abfd336e2c1d3a6d",
       "version_major": 2,
       "version_minor": 0
      },
      "text/plain": [
       "Batches:   0%|          | 0/1 [00:00<?, ?it/s]"
      ]
     },
     "metadata": {},
     "output_type": "display_data"
    },
    {
     "data": {
      "application/vnd.jupyter.widget-view+json": {
       "model_id": "fb026d2a2562490a805e3cc2f5dfad1e",
       "version_major": 2,
       "version_minor": 0
      },
      "text/plain": [
       "Batches:   0%|          | 0/1 [00:00<?, ?it/s]"
      ]
     },
     "metadata": {},
     "output_type": "display_data"
    },
    {
     "data": {
      "application/vnd.jupyter.widget-view+json": {
       "model_id": "77aa0c4233484fafabc1ef25eab87dbd",
       "version_major": 2,
       "version_minor": 0
      },
      "text/plain": [
       "Batches:   0%|          | 0/1 [00:00<?, ?it/s]"
      ]
     },
     "metadata": {},
     "output_type": "display_data"
    },
    {
     "data": {
      "application/vnd.jupyter.widget-view+json": {
       "model_id": "da4613ece6244e058921db5e05c4f592",
       "version_major": 2,
       "version_minor": 0
      },
      "text/plain": [
       "Batches:   0%|          | 0/1 [00:00<?, ?it/s]"
      ]
     },
     "metadata": {},
     "output_type": "display_data"
    },
    {
     "data": {
      "application/vnd.jupyter.widget-view+json": {
       "model_id": "35c95d5075cf41a584a90f90c43dc818",
       "version_major": 2,
       "version_minor": 0
      },
      "text/plain": [
       "Batches:   0%|          | 0/1 [00:00<?, ?it/s]"
      ]
     },
     "metadata": {},
     "output_type": "display_data"
    },
    {
     "data": {
      "application/vnd.jupyter.widget-view+json": {
       "model_id": "1afe58a78d534fa1a3cae69bed99641d",
       "version_major": 2,
       "version_minor": 0
      },
      "text/plain": [
       "Batches:   0%|          | 0/1 [00:00<?, ?it/s]"
      ]
     },
     "metadata": {},
     "output_type": "display_data"
    },
    {
     "data": {
      "application/vnd.jupyter.widget-view+json": {
       "model_id": "61efafa4e6d44c4bb90ac1b53728d8b3",
       "version_major": 2,
       "version_minor": 0
      },
      "text/plain": [
       "Batches:   0%|          | 0/1 [00:00<?, ?it/s]"
      ]
     },
     "metadata": {},
     "output_type": "display_data"
    },
    {
     "data": {
      "application/vnd.jupyter.widget-view+json": {
       "model_id": "33cb8d24996c462c852efb62da7524b4",
       "version_major": 2,
       "version_minor": 0
      },
      "text/plain": [
       "Batches:   0%|          | 0/1 [00:00<?, ?it/s]"
      ]
     },
     "metadata": {},
     "output_type": "display_data"
    },
    {
     "data": {
      "application/vnd.jupyter.widget-view+json": {
       "model_id": "8a5e6b67504743398d82439522a9e418",
       "version_major": 2,
       "version_minor": 0
      },
      "text/plain": [
       "Batches:   0%|          | 0/1 [00:00<?, ?it/s]"
      ]
     },
     "metadata": {},
     "output_type": "display_data"
    },
    {
     "data": {
      "application/vnd.jupyter.widget-view+json": {
       "model_id": "35df868115ef45f2b32dd495637870aa",
       "version_major": 2,
       "version_minor": 0
      },
      "text/plain": [
       "Batches:   0%|          | 0/1 [00:00<?, ?it/s]"
      ]
     },
     "metadata": {},
     "output_type": "display_data"
    },
    {
     "data": {
      "application/vnd.jupyter.widget-view+json": {
       "model_id": "7ccde8f67c1241458f453777c1e3ab88",
       "version_major": 2,
       "version_minor": 0
      },
      "text/plain": [
       "Batches:   0%|          | 0/1 [00:00<?, ?it/s]"
      ]
     },
     "metadata": {},
     "output_type": "display_data"
    },
    {
     "data": {
      "application/vnd.jupyter.widget-view+json": {
       "model_id": "4df70361e4c143ce8dd1ef482750e5c6",
       "version_major": 2,
       "version_minor": 0
      },
      "text/plain": [
       "Batches:   0%|          | 0/1 [00:00<?, ?it/s]"
      ]
     },
     "metadata": {},
     "output_type": "display_data"
    },
    {
     "data": {
      "application/vnd.jupyter.widget-view+json": {
       "model_id": "d5428caa2e2d444cb73932a7f63b5ccb",
       "version_major": 2,
       "version_minor": 0
      },
      "text/plain": [
       "Batches:   0%|          | 0/1 [00:00<?, ?it/s]"
      ]
     },
     "metadata": {},
     "output_type": "display_data"
    },
    {
     "data": {
      "application/vnd.jupyter.widget-view+json": {
       "model_id": "11965ad45ea44fd5b5d5bb8659a1c413",
       "version_major": 2,
       "version_minor": 0
      },
      "text/plain": [
       "Batches:   0%|          | 0/1 [00:00<?, ?it/s]"
      ]
     },
     "metadata": {},
     "output_type": "display_data"
    },
    {
     "data": {
      "application/vnd.jupyter.widget-view+json": {
       "model_id": "577952898f5440ea99d709b86dca33c6",
       "version_major": 2,
       "version_minor": 0
      },
      "text/plain": [
       "Batches:   0%|          | 0/1 [00:00<?, ?it/s]"
      ]
     },
     "metadata": {},
     "output_type": "display_data"
    },
    {
     "data": {
      "application/vnd.jupyter.widget-view+json": {
       "model_id": "7f67f508e8a2404195a639a6b2524272",
       "version_major": 2,
       "version_minor": 0
      },
      "text/plain": [
       "Batches:   0%|          | 0/1 [00:00<?, ?it/s]"
      ]
     },
     "metadata": {},
     "output_type": "display_data"
    },
    {
     "data": {
      "application/vnd.jupyter.widget-view+json": {
       "model_id": "a86f51eb0d974c2496e379d1a1ac964c",
       "version_major": 2,
       "version_minor": 0
      },
      "text/plain": [
       "Batches:   0%|          | 0/1 [00:00<?, ?it/s]"
      ]
     },
     "metadata": {},
     "output_type": "display_data"
    },
    {
     "data": {
      "application/vnd.jupyter.widget-view+json": {
       "model_id": "20a4231358164275b2e1fe8af5dd66a2",
       "version_major": 2,
       "version_minor": 0
      },
      "text/plain": [
       "Batches:   0%|          | 0/1 [00:00<?, ?it/s]"
      ]
     },
     "metadata": {},
     "output_type": "display_data"
    },
    {
     "data": {
      "application/vnd.jupyter.widget-view+json": {
       "model_id": "97722ce5515e494da0afeb73b8b7e8c2",
       "version_major": 2,
       "version_minor": 0
      },
      "text/plain": [
       "Batches:   0%|          | 0/1 [00:00<?, ?it/s]"
      ]
     },
     "metadata": {},
     "output_type": "display_data"
    },
    {
     "data": {
      "application/vnd.jupyter.widget-view+json": {
       "model_id": "978bf3419dd44707b59c02f4c379afe0",
       "version_major": 2,
       "version_minor": 0
      },
      "text/plain": [
       "Batches:   0%|          | 0/1 [00:00<?, ?it/s]"
      ]
     },
     "metadata": {},
     "output_type": "display_data"
    },
    {
     "data": {
      "application/vnd.jupyter.widget-view+json": {
       "model_id": "19daf3e662514866ae976d971de4127b",
       "version_major": 2,
       "version_minor": 0
      },
      "text/plain": [
       "Batches:   0%|          | 0/1 [00:00<?, ?it/s]"
      ]
     },
     "metadata": {},
     "output_type": "display_data"
    },
    {
     "data": {
      "application/vnd.jupyter.widget-view+json": {
       "model_id": "7dd428e5ac82490389f70942f10efe8d",
       "version_major": 2,
       "version_minor": 0
      },
      "text/plain": [
       "Batches:   0%|          | 0/1 [00:00<?, ?it/s]"
      ]
     },
     "metadata": {},
     "output_type": "display_data"
    },
    {
     "data": {
      "application/vnd.jupyter.widget-view+json": {
       "model_id": "284c95bb1c774bd58b38285f3040a308",
       "version_major": 2,
       "version_minor": 0
      },
      "text/plain": [
       "Batches:   0%|          | 0/1 [00:00<?, ?it/s]"
      ]
     },
     "metadata": {},
     "output_type": "display_data"
    },
    {
     "data": {
      "application/vnd.jupyter.widget-view+json": {
       "model_id": "88e6eba59ff04a139fd6b1b1a98a6f51",
       "version_major": 2,
       "version_minor": 0
      },
      "text/plain": [
       "Batches:   0%|          | 0/1 [00:00<?, ?it/s]"
      ]
     },
     "metadata": {},
     "output_type": "display_data"
    },
    {
     "data": {
      "application/vnd.jupyter.widget-view+json": {
       "model_id": "3bc8864012e344d1b3c9a3ac8ce44a33",
       "version_major": 2,
       "version_minor": 0
      },
      "text/plain": [
       "Batches:   0%|          | 0/1 [00:00<?, ?it/s]"
      ]
     },
     "metadata": {},
     "output_type": "display_data"
    },
    {
     "data": {
      "application/vnd.jupyter.widget-view+json": {
       "model_id": "1d03f3cbff8b405ca51e746c56a27764",
       "version_major": 2,
       "version_minor": 0
      },
      "text/plain": [
       "Batches:   0%|          | 0/1 [00:00<?, ?it/s]"
      ]
     },
     "metadata": {},
     "output_type": "display_data"
    },
    {
     "data": {
      "application/vnd.jupyter.widget-view+json": {
       "model_id": "cc63056a0c71408c99082ab3afc33a41",
       "version_major": 2,
       "version_minor": 0
      },
      "text/plain": [
       "Batches:   0%|          | 0/1 [00:00<?, ?it/s]"
      ]
     },
     "metadata": {},
     "output_type": "display_data"
    },
    {
     "data": {
      "application/vnd.jupyter.widget-view+json": {
       "model_id": "e4256966b65a4deb8a31f1069ccbb8ee",
       "version_major": 2,
       "version_minor": 0
      },
      "text/plain": [
       "Batches:   0%|          | 0/1 [00:00<?, ?it/s]"
      ]
     },
     "metadata": {},
     "output_type": "display_data"
    },
    {
     "data": {
      "application/vnd.jupyter.widget-view+json": {
       "model_id": "232af414d7de4257abb7171c8c19ccf4",
       "version_major": 2,
       "version_minor": 0
      },
      "text/plain": [
       "Batches:   0%|          | 0/1 [00:00<?, ?it/s]"
      ]
     },
     "metadata": {},
     "output_type": "display_data"
    },
    {
     "data": {
      "application/vnd.jupyter.widget-view+json": {
       "model_id": "fdcd218ecff040f698bfb712a2d24f74",
       "version_major": 2,
       "version_minor": 0
      },
      "text/plain": [
       "Batches:   0%|          | 0/1 [00:00<?, ?it/s]"
      ]
     },
     "metadata": {},
     "output_type": "display_data"
    },
    {
     "data": {
      "application/vnd.jupyter.widget-view+json": {
       "model_id": "225a331e480c4023ab810e7f51ca1604",
       "version_major": 2,
       "version_minor": 0
      },
      "text/plain": [
       "Batches:   0%|          | 0/1 [00:00<?, ?it/s]"
      ]
     },
     "metadata": {},
     "output_type": "display_data"
    },
    {
     "data": {
      "application/vnd.jupyter.widget-view+json": {
       "model_id": "95df149afd064bd6ba7f2354eed63d8d",
       "version_major": 2,
       "version_minor": 0
      },
      "text/plain": [
       "Batches:   0%|          | 0/1 [00:00<?, ?it/s]"
      ]
     },
     "metadata": {},
     "output_type": "display_data"
    },
    {
     "data": {
      "application/vnd.jupyter.widget-view+json": {
       "model_id": "80f00131634f451389c1fd26569f8475",
       "version_major": 2,
       "version_minor": 0
      },
      "text/plain": [
       "Batches:   0%|          | 0/1 [00:00<?, ?it/s]"
      ]
     },
     "metadata": {},
     "output_type": "display_data"
    },
    {
     "data": {
      "application/vnd.jupyter.widget-view+json": {
       "model_id": "5a60d0731a6b4a8789cda7a72af92968",
       "version_major": 2,
       "version_minor": 0
      },
      "text/plain": [
       "Batches:   0%|          | 0/1 [00:00<?, ?it/s]"
      ]
     },
     "metadata": {},
     "output_type": "display_data"
    },
    {
     "data": {
      "application/vnd.jupyter.widget-view+json": {
       "model_id": "9eabc4516b0449afb6b9096960ae64f8",
       "version_major": 2,
       "version_minor": 0
      },
      "text/plain": [
       "Batches:   0%|          | 0/1 [00:00<?, ?it/s]"
      ]
     },
     "metadata": {},
     "output_type": "display_data"
    },
    {
     "data": {
      "application/vnd.jupyter.widget-view+json": {
       "model_id": "c195b188e94a4277b070efc7d391e3c2",
       "version_major": 2,
       "version_minor": 0
      },
      "text/plain": [
       "Batches:   0%|          | 0/1 [00:00<?, ?it/s]"
      ]
     },
     "metadata": {},
     "output_type": "display_data"
    },
    {
     "data": {
      "application/vnd.jupyter.widget-view+json": {
       "model_id": "9f5ce906a58c4651974028afec3f5013",
       "version_major": 2,
       "version_minor": 0
      },
      "text/plain": [
       "Batches:   0%|          | 0/1 [00:00<?, ?it/s]"
      ]
     },
     "metadata": {},
     "output_type": "display_data"
    },
    {
     "data": {
      "application/vnd.jupyter.widget-view+json": {
       "model_id": "f01e06146d0b4e15a0cfbcfb8be77048",
       "version_major": 2,
       "version_minor": 0
      },
      "text/plain": [
       "Batches:   0%|          | 0/1 [00:00<?, ?it/s]"
      ]
     },
     "metadata": {},
     "output_type": "display_data"
    },
    {
     "data": {
      "application/vnd.jupyter.widget-view+json": {
       "model_id": "749ef67b7687447789f978ac9ee98dfb",
       "version_major": 2,
       "version_minor": 0
      },
      "text/plain": [
       "Batches:   0%|          | 0/1 [00:00<?, ?it/s]"
      ]
     },
     "metadata": {},
     "output_type": "display_data"
    },
    {
     "data": {
      "application/vnd.jupyter.widget-view+json": {
       "model_id": "fa93eafc502e47efa74c869b70f9ab8d",
       "version_major": 2,
       "version_minor": 0
      },
      "text/plain": [
       "Batches:   0%|          | 0/1 [00:00<?, ?it/s]"
      ]
     },
     "metadata": {},
     "output_type": "display_data"
    },
    {
     "data": {
      "application/vnd.jupyter.widget-view+json": {
       "model_id": "380d6423a55b49bfb7b176c277f75d4c",
       "version_major": 2,
       "version_minor": 0
      },
      "text/plain": [
       "Batches:   0%|          | 0/1 [00:00<?, ?it/s]"
      ]
     },
     "metadata": {},
     "output_type": "display_data"
    },
    {
     "data": {
      "application/vnd.jupyter.widget-view+json": {
       "model_id": "3130be3e1aba4e54a09c090203ac72b0",
       "version_major": 2,
       "version_minor": 0
      },
      "text/plain": [
       "Batches:   0%|          | 0/1 [00:00<?, ?it/s]"
      ]
     },
     "metadata": {},
     "output_type": "display_data"
    },
    {
     "data": {
      "application/vnd.jupyter.widget-view+json": {
       "model_id": "a852b4abc635485384b79c7adc401b3a",
       "version_major": 2,
       "version_minor": 0
      },
      "text/plain": [
       "Batches:   0%|          | 0/1 [00:00<?, ?it/s]"
      ]
     },
     "metadata": {},
     "output_type": "display_data"
    },
    {
     "data": {
      "application/vnd.jupyter.widget-view+json": {
       "model_id": "d92dfcc50c704d46a68cb327697a86db",
       "version_major": 2,
       "version_minor": 0
      },
      "text/plain": [
       "Batches:   0%|          | 0/1 [00:00<?, ?it/s]"
      ]
     },
     "metadata": {},
     "output_type": "display_data"
    },
    {
     "data": {
      "application/vnd.jupyter.widget-view+json": {
       "model_id": "bc5545e135224a9182c7315a105742c6",
       "version_major": 2,
       "version_minor": 0
      },
      "text/plain": [
       "Batches:   0%|          | 0/1 [00:00<?, ?it/s]"
      ]
     },
     "metadata": {},
     "output_type": "display_data"
    },
    {
     "data": {
      "application/vnd.jupyter.widget-view+json": {
       "model_id": "b49d44b115764b4bb6b0657eb4b2dc9c",
       "version_major": 2,
       "version_minor": 0
      },
      "text/plain": [
       "Batches:   0%|          | 0/1 [00:00<?, ?it/s]"
      ]
     },
     "metadata": {},
     "output_type": "display_data"
    },
    {
     "data": {
      "application/vnd.jupyter.widget-view+json": {
       "model_id": "d71d2b6bc8d44033b8d16e6264e9cc8c",
       "version_major": 2,
       "version_minor": 0
      },
      "text/plain": [
       "Batches:   0%|          | 0/1 [00:00<?, ?it/s]"
      ]
     },
     "metadata": {},
     "output_type": "display_data"
    },
    {
     "data": {
      "application/vnd.jupyter.widget-view+json": {
       "model_id": "1e6366f6045b456d9d941efdec904520",
       "version_major": 2,
       "version_minor": 0
      },
      "text/plain": [
       "Batches:   0%|          | 0/1 [00:00<?, ?it/s]"
      ]
     },
     "metadata": {},
     "output_type": "display_data"
    },
    {
     "data": {
      "application/vnd.jupyter.widget-view+json": {
       "model_id": "0277b580d4d048d8b727a48ffb338aea",
       "version_major": 2,
       "version_minor": 0
      },
      "text/plain": [
       "Batches:   0%|          | 0/1 [00:00<?, ?it/s]"
      ]
     },
     "metadata": {},
     "output_type": "display_data"
    },
    {
     "data": {
      "application/vnd.jupyter.widget-view+json": {
       "model_id": "9cbdf43fa5e749ceac78239a0e6d9985",
       "version_major": 2,
       "version_minor": 0
      },
      "text/plain": [
       "Batches:   0%|          | 0/1 [00:00<?, ?it/s]"
      ]
     },
     "metadata": {},
     "output_type": "display_data"
    },
    {
     "data": {
      "application/vnd.jupyter.widget-view+json": {
       "model_id": "893dcc5570874ce6a311fa833832200f",
       "version_major": 2,
       "version_minor": 0
      },
      "text/plain": [
       "Batches:   0%|          | 0/1 [00:00<?, ?it/s]"
      ]
     },
     "metadata": {},
     "output_type": "display_data"
    },
    {
     "data": {
      "application/vnd.jupyter.widget-view+json": {
       "model_id": "7dffe8b4eebe4e648f2bfe450ad5ae8b",
       "version_major": 2,
       "version_minor": 0
      },
      "text/plain": [
       "Batches:   0%|          | 0/1 [00:00<?, ?it/s]"
      ]
     },
     "metadata": {},
     "output_type": "display_data"
    },
    {
     "data": {
      "application/vnd.jupyter.widget-view+json": {
       "model_id": "bd5237a1ed9443a1b74f4b1717e9f227",
       "version_major": 2,
       "version_minor": 0
      },
      "text/plain": [
       "Batches:   0%|          | 0/1 [00:00<?, ?it/s]"
      ]
     },
     "metadata": {},
     "output_type": "display_data"
    },
    {
     "data": {
      "application/vnd.jupyter.widget-view+json": {
       "model_id": "dcefe8fbade343259fa6424f94b2ed7d",
       "version_major": 2,
       "version_minor": 0
      },
      "text/plain": [
       "Batches:   0%|          | 0/1 [00:00<?, ?it/s]"
      ]
     },
     "metadata": {},
     "output_type": "display_data"
    },
    {
     "data": {
      "application/vnd.jupyter.widget-view+json": {
       "model_id": "50ac8731e5e9469c88c3d5f1730b67eb",
       "version_major": 2,
       "version_minor": 0
      },
      "text/plain": [
       "Batches:   0%|          | 0/1 [00:00<?, ?it/s]"
      ]
     },
     "metadata": {},
     "output_type": "display_data"
    },
    {
     "data": {
      "application/vnd.jupyter.widget-view+json": {
       "model_id": "706153be0b0e4206b102cc27fd6bf5cc",
       "version_major": 2,
       "version_minor": 0
      },
      "text/plain": [
       "Batches:   0%|          | 0/1 [00:00<?, ?it/s]"
      ]
     },
     "metadata": {},
     "output_type": "display_data"
    },
    {
     "data": {
      "application/vnd.jupyter.widget-view+json": {
       "model_id": "5e0ecfd23d824ae7b6afe4dd87e81cb0",
       "version_major": 2,
       "version_minor": 0
      },
      "text/plain": [
       "Batches:   0%|          | 0/1 [00:00<?, ?it/s]"
      ]
     },
     "metadata": {},
     "output_type": "display_data"
    },
    {
     "data": {
      "application/vnd.jupyter.widget-view+json": {
       "model_id": "cd45386e7fbe487e8321b5a224dad0c2",
       "version_major": 2,
       "version_minor": 0
      },
      "text/plain": [
       "Batches:   0%|          | 0/1 [00:00<?, ?it/s]"
      ]
     },
     "metadata": {},
     "output_type": "display_data"
    },
    {
     "data": {
      "application/vnd.jupyter.widget-view+json": {
       "model_id": "8da15dfba405460d8b02f9c10964142b",
       "version_major": 2,
       "version_minor": 0
      },
      "text/plain": [
       "Batches:   0%|          | 0/1 [00:00<?, ?it/s]"
      ]
     },
     "metadata": {},
     "output_type": "display_data"
    },
    {
     "data": {
      "application/vnd.jupyter.widget-view+json": {
       "model_id": "4f82ecb8dc864ed89f9215367d2f16b4",
       "version_major": 2,
       "version_minor": 0
      },
      "text/plain": [
       "Batches:   0%|          | 0/1 [00:00<?, ?it/s]"
      ]
     },
     "metadata": {},
     "output_type": "display_data"
    },
    {
     "data": {
      "application/vnd.jupyter.widget-view+json": {
       "model_id": "13b56a1b335247aa85060a0626aae38a",
       "version_major": 2,
       "version_minor": 0
      },
      "text/plain": [
       "Batches:   0%|          | 0/1 [00:00<?, ?it/s]"
      ]
     },
     "metadata": {},
     "output_type": "display_data"
    },
    {
     "data": {
      "application/vnd.jupyter.widget-view+json": {
       "model_id": "d5ca21adb00746babd871cba9b1e71f0",
       "version_major": 2,
       "version_minor": 0
      },
      "text/plain": [
       "Batches:   0%|          | 0/1 [00:00<?, ?it/s]"
      ]
     },
     "metadata": {},
     "output_type": "display_data"
    },
    {
     "data": {
      "application/vnd.jupyter.widget-view+json": {
       "model_id": "01ac28755e9d47608aafccf4830d7dc0",
       "version_major": 2,
       "version_minor": 0
      },
      "text/plain": [
       "Batches:   0%|          | 0/1 [00:00<?, ?it/s]"
      ]
     },
     "metadata": {},
     "output_type": "display_data"
    },
    {
     "data": {
      "application/vnd.jupyter.widget-view+json": {
       "model_id": "256ed82b592840138c6b0ffe7909e08b",
       "version_major": 2,
       "version_minor": 0
      },
      "text/plain": [
       "Batches:   0%|          | 0/1 [00:00<?, ?it/s]"
      ]
     },
     "metadata": {},
     "output_type": "display_data"
    },
    {
     "data": {
      "application/vnd.jupyter.widget-view+json": {
       "model_id": "9bf3ac437a464e2e9395d3ad54216fe3",
       "version_major": 2,
       "version_minor": 0
      },
      "text/plain": [
       "Batches:   0%|          | 0/1 [00:00<?, ?it/s]"
      ]
     },
     "metadata": {},
     "output_type": "display_data"
    },
    {
     "data": {
      "application/vnd.jupyter.widget-view+json": {
       "model_id": "7a26bf6681bb4ebc9328ea691d0c2761",
       "version_major": 2,
       "version_minor": 0
      },
      "text/plain": [
       "Batches:   0%|          | 0/1 [00:00<?, ?it/s]"
      ]
     },
     "metadata": {},
     "output_type": "display_data"
    },
    {
     "data": {
      "application/vnd.jupyter.widget-view+json": {
       "model_id": "e4128e63dde54d04be33965639e96a5d",
       "version_major": 2,
       "version_minor": 0
      },
      "text/plain": [
       "Batches:   0%|          | 0/1 [00:00<?, ?it/s]"
      ]
     },
     "metadata": {},
     "output_type": "display_data"
    },
    {
     "data": {
      "application/vnd.jupyter.widget-view+json": {
       "model_id": "df9c0cfdc28e4635a84bd16c78ecfffa",
       "version_major": 2,
       "version_minor": 0
      },
      "text/plain": [
       "Batches:   0%|          | 0/1 [00:00<?, ?it/s]"
      ]
     },
     "metadata": {},
     "output_type": "display_data"
    },
    {
     "data": {
      "application/vnd.jupyter.widget-view+json": {
       "model_id": "3a6f99320cc94af5965bd09ac74ff7c2",
       "version_major": 2,
       "version_minor": 0
      },
      "text/plain": [
       "Batches:   0%|          | 0/1 [00:00<?, ?it/s]"
      ]
     },
     "metadata": {},
     "output_type": "display_data"
    },
    {
     "data": {
      "application/vnd.jupyter.widget-view+json": {
       "model_id": "0e2d9e2754d3448ba76691ad75f12507",
       "version_major": 2,
       "version_minor": 0
      },
      "text/plain": [
       "Batches:   0%|          | 0/1 [00:00<?, ?it/s]"
      ]
     },
     "metadata": {},
     "output_type": "display_data"
    },
    {
     "data": {
      "application/vnd.jupyter.widget-view+json": {
       "model_id": "c12cb2c36b99493285c75d50a9f7e0ac",
       "version_major": 2,
       "version_minor": 0
      },
      "text/plain": [
       "Batches:   0%|          | 0/1 [00:00<?, ?it/s]"
      ]
     },
     "metadata": {},
     "output_type": "display_data"
    },
    {
     "data": {
      "application/vnd.jupyter.widget-view+json": {
       "model_id": "5bc352d583d745a2b30957f5b0f72f15",
       "version_major": 2,
       "version_minor": 0
      },
      "text/plain": [
       "Batches:   0%|          | 0/1 [00:00<?, ?it/s]"
      ]
     },
     "metadata": {},
     "output_type": "display_data"
    },
    {
     "data": {
      "application/vnd.jupyter.widget-view+json": {
       "model_id": "3cfcb3a8e2a3474f84f12edfec59428f",
       "version_major": 2,
       "version_minor": 0
      },
      "text/plain": [
       "Batches:   0%|          | 0/1 [00:00<?, ?it/s]"
      ]
     },
     "metadata": {},
     "output_type": "display_data"
    },
    {
     "data": {
      "application/vnd.jupyter.widget-view+json": {
       "model_id": "bcf99c386b9a498f8269a4d1d43140cc",
       "version_major": 2,
       "version_minor": 0
      },
      "text/plain": [
       "Batches:   0%|          | 0/1 [00:00<?, ?it/s]"
      ]
     },
     "metadata": {},
     "output_type": "display_data"
    },
    {
     "data": {
      "application/vnd.jupyter.widget-view+json": {
       "model_id": "dfa399ee51524050928e6900b541d7a3",
       "version_major": 2,
       "version_minor": 0
      },
      "text/plain": [
       "Batches:   0%|          | 0/1 [00:00<?, ?it/s]"
      ]
     },
     "metadata": {},
     "output_type": "display_data"
    },
    {
     "data": {
      "application/vnd.jupyter.widget-view+json": {
       "model_id": "b6b52a9e3faf419b80ed64ef6bd96646",
       "version_major": 2,
       "version_minor": 0
      },
      "text/plain": [
       "Batches:   0%|          | 0/1 [00:00<?, ?it/s]"
      ]
     },
     "metadata": {},
     "output_type": "display_data"
    },
    {
     "data": {
      "application/vnd.jupyter.widget-view+json": {
       "model_id": "bb7ac41439c24b2ab703138f863b13a5",
       "version_major": 2,
       "version_minor": 0
      },
      "text/plain": [
       "Batches:   0%|          | 0/1 [00:00<?, ?it/s]"
      ]
     },
     "metadata": {},
     "output_type": "display_data"
    },
    {
     "data": {
      "application/vnd.jupyter.widget-view+json": {
       "model_id": "5c4e4d2dcf434d72b076c6e21954c767",
       "version_major": 2,
       "version_minor": 0
      },
      "text/plain": [
       "Batches:   0%|          | 0/1 [00:00<?, ?it/s]"
      ]
     },
     "metadata": {},
     "output_type": "display_data"
    },
    {
     "data": {
      "application/vnd.jupyter.widget-view+json": {
       "model_id": "97081dbc72b4409c86235b484d9d0240",
       "version_major": 2,
       "version_minor": 0
      },
      "text/plain": [
       "Batches:   0%|          | 0/1 [00:00<?, ?it/s]"
      ]
     },
     "metadata": {},
     "output_type": "display_data"
    },
    {
     "data": {
      "application/vnd.jupyter.widget-view+json": {
       "model_id": "519133470a5a4f87b1329ba9cab1bddf",
       "version_major": 2,
       "version_minor": 0
      },
      "text/plain": [
       "Batches:   0%|          | 0/1 [00:00<?, ?it/s]"
      ]
     },
     "metadata": {},
     "output_type": "display_data"
    },
    {
     "data": {
      "application/vnd.jupyter.widget-view+json": {
       "model_id": "917a7ae5d49a48e1a9027add671bc5cf",
       "version_major": 2,
       "version_minor": 0
      },
      "text/plain": [
       "Batches:   0%|          | 0/1 [00:00<?, ?it/s]"
      ]
     },
     "metadata": {},
     "output_type": "display_data"
    },
    {
     "data": {
      "application/vnd.jupyter.widget-view+json": {
       "model_id": "f06569b30573408888a03c1f6129c30a",
       "version_major": 2,
       "version_minor": 0
      },
      "text/plain": [
       "Batches:   0%|          | 0/1 [00:00<?, ?it/s]"
      ]
     },
     "metadata": {},
     "output_type": "display_data"
    },
    {
     "data": {
      "application/vnd.jupyter.widget-view+json": {
       "model_id": "2fb36d89e989426b953966a771447ecb",
       "version_major": 2,
       "version_minor": 0
      },
      "text/plain": [
       "Batches:   0%|          | 0/1 [00:00<?, ?it/s]"
      ]
     },
     "metadata": {},
     "output_type": "display_data"
    },
    {
     "data": {
      "application/vnd.jupyter.widget-view+json": {
       "model_id": "72d2646afb01479abf60e542bb8fb1fc",
       "version_major": 2,
       "version_minor": 0
      },
      "text/plain": [
       "Batches:   0%|          | 0/1 [00:00<?, ?it/s]"
      ]
     },
     "metadata": {},
     "output_type": "display_data"
    },
    {
     "data": {
      "application/vnd.jupyter.widget-view+json": {
       "model_id": "43ec1fc234e9412693707820a5719dbc",
       "version_major": 2,
       "version_minor": 0
      },
      "text/plain": [
       "Batches:   0%|          | 0/1 [00:00<?, ?it/s]"
      ]
     },
     "metadata": {},
     "output_type": "display_data"
    },
    {
     "data": {
      "application/vnd.jupyter.widget-view+json": {
       "model_id": "5b1806d9234e473cbc3e790726c9c0c2",
       "version_major": 2,
       "version_minor": 0
      },
      "text/plain": [
       "Batches:   0%|          | 0/1 [00:00<?, ?it/s]"
      ]
     },
     "metadata": {},
     "output_type": "display_data"
    },
    {
     "data": {
      "application/vnd.jupyter.widget-view+json": {
       "model_id": "ffaa42ea6d4d49d6a862f54a34db59bf",
       "version_major": 2,
       "version_minor": 0
      },
      "text/plain": [
       "Batches:   0%|          | 0/1 [00:00<?, ?it/s]"
      ]
     },
     "metadata": {},
     "output_type": "display_data"
    },
    {
     "data": {
      "application/vnd.jupyter.widget-view+json": {
       "model_id": "e252e76829c54c498d5ba6b794a87404",
       "version_major": 2,
       "version_minor": 0
      },
      "text/plain": [
       "Batches:   0%|          | 0/1 [00:00<?, ?it/s]"
      ]
     },
     "metadata": {},
     "output_type": "display_data"
    },
    {
     "data": {
      "application/vnd.jupyter.widget-view+json": {
       "model_id": "ec80b3dce8b843458d6acfcff9b97441",
       "version_major": 2,
       "version_minor": 0
      },
      "text/plain": [
       "Batches:   0%|          | 0/1 [00:00<?, ?it/s]"
      ]
     },
     "metadata": {},
     "output_type": "display_data"
    },
    {
     "data": {
      "application/vnd.jupyter.widget-view+json": {
       "model_id": "60a0a33f9777479090e5691cf84514e4",
       "version_major": 2,
       "version_minor": 0
      },
      "text/plain": [
       "Batches:   0%|          | 0/1 [00:00<?, ?it/s]"
      ]
     },
     "metadata": {},
     "output_type": "display_data"
    },
    {
     "data": {
      "application/vnd.jupyter.widget-view+json": {
       "model_id": "0b4a460ce0b548fca874205fd9a7f50c",
       "version_major": 2,
       "version_minor": 0
      },
      "text/plain": [
       "Batches:   0%|          | 0/1 [00:00<?, ?it/s]"
      ]
     },
     "metadata": {},
     "output_type": "display_data"
    },
    {
     "data": {
      "application/vnd.jupyter.widget-view+json": {
       "model_id": "476e5f2e4de84333b52d966dc1833713",
       "version_major": 2,
       "version_minor": 0
      },
      "text/plain": [
       "Batches:   0%|          | 0/1 [00:00<?, ?it/s]"
      ]
     },
     "metadata": {},
     "output_type": "display_data"
    },
    {
     "data": {
      "application/vnd.jupyter.widget-view+json": {
       "model_id": "5ab70da2ea714a5ab9d83c9718089200",
       "version_major": 2,
       "version_minor": 0
      },
      "text/plain": [
       "Batches:   0%|          | 0/1 [00:00<?, ?it/s]"
      ]
     },
     "metadata": {},
     "output_type": "display_data"
    },
    {
     "data": {
      "application/vnd.jupyter.widget-view+json": {
       "model_id": "1d63983aee58407681b94dffd029c737",
       "version_major": 2,
       "version_minor": 0
      },
      "text/plain": [
       "Batches:   0%|          | 0/1 [00:00<?, ?it/s]"
      ]
     },
     "metadata": {},
     "output_type": "display_data"
    },
    {
     "data": {
      "application/vnd.jupyter.widget-view+json": {
       "model_id": "e072fa7876794090a45a2d52dac76b9a",
       "version_major": 2,
       "version_minor": 0
      },
      "text/plain": [
       "Batches:   0%|          | 0/1 [00:00<?, ?it/s]"
      ]
     },
     "metadata": {},
     "output_type": "display_data"
    },
    {
     "data": {
      "application/vnd.jupyter.widget-view+json": {
       "model_id": "8dd4a6c075af4c41bf03bf0e60497ca3",
       "version_major": 2,
       "version_minor": 0
      },
      "text/plain": [
       "Batches:   0%|          | 0/1 [00:00<?, ?it/s]"
      ]
     },
     "metadata": {},
     "output_type": "display_data"
    },
    {
     "data": {
      "application/vnd.jupyter.widget-view+json": {
       "model_id": "88bb9d3adb824baeb6883af728c570e0",
       "version_major": 2,
       "version_minor": 0
      },
      "text/plain": [
       "Batches:   0%|          | 0/1 [00:00<?, ?it/s]"
      ]
     },
     "metadata": {},
     "output_type": "display_data"
    },
    {
     "data": {
      "application/vnd.jupyter.widget-view+json": {
       "model_id": "41edd6c7f892484bb185085de5efbf74",
       "version_major": 2,
       "version_minor": 0
      },
      "text/plain": [
       "Batches:   0%|          | 0/1 [00:00<?, ?it/s]"
      ]
     },
     "metadata": {},
     "output_type": "display_data"
    },
    {
     "data": {
      "application/vnd.jupyter.widget-view+json": {
       "model_id": "e960e18743c54cefa1d7dccfd510078e",
       "version_major": 2,
       "version_minor": 0
      },
      "text/plain": [
       "Batches:   0%|          | 0/1 [00:00<?, ?it/s]"
      ]
     },
     "metadata": {},
     "output_type": "display_data"
    },
    {
     "data": {
      "application/vnd.jupyter.widget-view+json": {
       "model_id": "12207a3c78f74edf8db2db1692fec275",
       "version_major": 2,
       "version_minor": 0
      },
      "text/plain": [
       "Batches:   0%|          | 0/1 [00:00<?, ?it/s]"
      ]
     },
     "metadata": {},
     "output_type": "display_data"
    },
    {
     "data": {
      "application/vnd.jupyter.widget-view+json": {
       "model_id": "794de9d5c50d402e846b2f24cf155436",
       "version_major": 2,
       "version_minor": 0
      },
      "text/plain": [
       "Batches:   0%|          | 0/1 [00:00<?, ?it/s]"
      ]
     },
     "metadata": {},
     "output_type": "display_data"
    },
    {
     "data": {
      "application/vnd.jupyter.widget-view+json": {
       "model_id": "3ba20ed22dc84c82aeb0044984e2c951",
       "version_major": 2,
       "version_minor": 0
      },
      "text/plain": [
       "Batches:   0%|          | 0/1 [00:00<?, ?it/s]"
      ]
     },
     "metadata": {},
     "output_type": "display_data"
    },
    {
     "data": {
      "application/vnd.jupyter.widget-view+json": {
       "model_id": "149b1323f1ad46fc976395f04ac25d1e",
       "version_major": 2,
       "version_minor": 0
      },
      "text/plain": [
       "Batches:   0%|          | 0/1 [00:00<?, ?it/s]"
      ]
     },
     "metadata": {},
     "output_type": "display_data"
    },
    {
     "data": {
      "application/vnd.jupyter.widget-view+json": {
       "model_id": "1a9f209e1b9449249e74a1cc9bb5a11e",
       "version_major": 2,
       "version_minor": 0
      },
      "text/plain": [
       "Batches:   0%|          | 0/1 [00:00<?, ?it/s]"
      ]
     },
     "metadata": {},
     "output_type": "display_data"
    },
    {
     "data": {
      "application/vnd.jupyter.widget-view+json": {
       "model_id": "c615ebfe74db431a839cfec5cabfc6f7",
       "version_major": 2,
       "version_minor": 0
      },
      "text/plain": [
       "Batches:   0%|          | 0/1 [00:00<?, ?it/s]"
      ]
     },
     "metadata": {},
     "output_type": "display_data"
    },
    {
     "data": {
      "application/vnd.jupyter.widget-view+json": {
       "model_id": "76e8bb40ac8b468897a93e1f0e5c37f3",
       "version_major": 2,
       "version_minor": 0
      },
      "text/plain": [
       "Batches:   0%|          | 0/1 [00:00<?, ?it/s]"
      ]
     },
     "metadata": {},
     "output_type": "display_data"
    },
    {
     "data": {
      "application/vnd.jupyter.widget-view+json": {
       "model_id": "0592173abae348ecbf682f5b3920b0f4",
       "version_major": 2,
       "version_minor": 0
      },
      "text/plain": [
       "Batches:   0%|          | 0/1 [00:00<?, ?it/s]"
      ]
     },
     "metadata": {},
     "output_type": "display_data"
    },
    {
     "data": {
      "application/vnd.jupyter.widget-view+json": {
       "model_id": "f694d8d681a5490ba7bea2cd24e5b2aa",
       "version_major": 2,
       "version_minor": 0
      },
      "text/plain": [
       "Batches:   0%|          | 0/1 [00:00<?, ?it/s]"
      ]
     },
     "metadata": {},
     "output_type": "display_data"
    },
    {
     "data": {
      "application/vnd.jupyter.widget-view+json": {
       "model_id": "e848d5cf842240ecbc368b2538f46674",
       "version_major": 2,
       "version_minor": 0
      },
      "text/plain": [
       "Batches:   0%|          | 0/1 [00:00<?, ?it/s]"
      ]
     },
     "metadata": {},
     "output_type": "display_data"
    },
    {
     "data": {
      "application/vnd.jupyter.widget-view+json": {
       "model_id": "9dc5ab6286f0428794550357240474f0",
       "version_major": 2,
       "version_minor": 0
      },
      "text/plain": [
       "Batches:   0%|          | 0/1 [00:00<?, ?it/s]"
      ]
     },
     "metadata": {},
     "output_type": "display_data"
    },
    {
     "data": {
      "application/vnd.jupyter.widget-view+json": {
       "model_id": "e5b788b2acc840df8d8e6b23a98ff422",
       "version_major": 2,
       "version_minor": 0
      },
      "text/plain": [
       "Batches:   0%|          | 0/1 [00:00<?, ?it/s]"
      ]
     },
     "metadata": {},
     "output_type": "display_data"
    },
    {
     "data": {
      "application/vnd.jupyter.widget-view+json": {
       "model_id": "8ad99b1d561146f1b920b3b94a031d75",
       "version_major": 2,
       "version_minor": 0
      },
      "text/plain": [
       "Batches:   0%|          | 0/1 [00:00<?, ?it/s]"
      ]
     },
     "metadata": {},
     "output_type": "display_data"
    },
    {
     "data": {
      "application/vnd.jupyter.widget-view+json": {
       "model_id": "49084c7dbe5d449baafeb8342f5f23b7",
       "version_major": 2,
       "version_minor": 0
      },
      "text/plain": [
       "Batches:   0%|          | 0/1 [00:00<?, ?it/s]"
      ]
     },
     "metadata": {},
     "output_type": "display_data"
    },
    {
     "data": {
      "application/vnd.jupyter.widget-view+json": {
       "model_id": "f7f7d40caa5a445eaa65f9c431e6ee47",
       "version_major": 2,
       "version_minor": 0
      },
      "text/plain": [
       "Batches:   0%|          | 0/1 [00:00<?, ?it/s]"
      ]
     },
     "metadata": {},
     "output_type": "display_data"
    },
    {
     "data": {
      "application/vnd.jupyter.widget-view+json": {
       "model_id": "11c73a64008a4c88bc0126f22c1fa9a1",
       "version_major": 2,
       "version_minor": 0
      },
      "text/plain": [
       "Batches:   0%|          | 0/1 [00:00<?, ?it/s]"
      ]
     },
     "metadata": {},
     "output_type": "display_data"
    },
    {
     "data": {
      "application/vnd.jupyter.widget-view+json": {
       "model_id": "a93276687086430e8aea63f1ac3bac68",
       "version_major": 2,
       "version_minor": 0
      },
      "text/plain": [
       "Batches:   0%|          | 0/1 [00:00<?, ?it/s]"
      ]
     },
     "metadata": {},
     "output_type": "display_data"
    },
    {
     "data": {
      "application/vnd.jupyter.widget-view+json": {
       "model_id": "bd46975bacfb4baea54edea26638e9c1",
       "version_major": 2,
       "version_minor": 0
      },
      "text/plain": [
       "Batches:   0%|          | 0/1 [00:00<?, ?it/s]"
      ]
     },
     "metadata": {},
     "output_type": "display_data"
    },
    {
     "data": {
      "application/vnd.jupyter.widget-view+json": {
       "model_id": "fef8d6b015dd4603af00f7315c42beee",
       "version_major": 2,
       "version_minor": 0
      },
      "text/plain": [
       "Batches:   0%|          | 0/1 [00:00<?, ?it/s]"
      ]
     },
     "metadata": {},
     "output_type": "display_data"
    },
    {
     "data": {
      "application/vnd.jupyter.widget-view+json": {
       "model_id": "234a4cb3b8d44839ab75b35d096bdd76",
       "version_major": 2,
       "version_minor": 0
      },
      "text/plain": [
       "Batches:   0%|          | 0/1 [00:00<?, ?it/s]"
      ]
     },
     "metadata": {},
     "output_type": "display_data"
    },
    {
     "data": {
      "application/vnd.jupyter.widget-view+json": {
       "model_id": "e5d21a5710f544d69320537f7f5f4c3f",
       "version_major": 2,
       "version_minor": 0
      },
      "text/plain": [
       "Batches:   0%|          | 0/1 [00:00<?, ?it/s]"
      ]
     },
     "metadata": {},
     "output_type": "display_data"
    },
    {
     "data": {
      "application/vnd.jupyter.widget-view+json": {
       "model_id": "597d01dc7a77418bac9dde18e2491f3e",
       "version_major": 2,
       "version_minor": 0
      },
      "text/plain": [
       "Batches:   0%|          | 0/1 [00:00<?, ?it/s]"
      ]
     },
     "metadata": {},
     "output_type": "display_data"
    },
    {
     "data": {
      "application/vnd.jupyter.widget-view+json": {
       "model_id": "cb1d668f15594b4cacb4d38827139449",
       "version_major": 2,
       "version_minor": 0
      },
      "text/plain": [
       "Batches:   0%|          | 0/1 [00:00<?, ?it/s]"
      ]
     },
     "metadata": {},
     "output_type": "display_data"
    },
    {
     "data": {
      "application/vnd.jupyter.widget-view+json": {
       "model_id": "dd773fff82e645bcb29ebe4ccc28a6e2",
       "version_major": 2,
       "version_minor": 0
      },
      "text/plain": [
       "Batches:   0%|          | 0/1 [00:00<?, ?it/s]"
      ]
     },
     "metadata": {},
     "output_type": "display_data"
    },
    {
     "data": {
      "application/vnd.jupyter.widget-view+json": {
       "model_id": "2b8eabaadaf744a5a5f73b07c74a5de4",
       "version_major": 2,
       "version_minor": 0
      },
      "text/plain": [
       "Batches:   0%|          | 0/1 [00:00<?, ?it/s]"
      ]
     },
     "metadata": {},
     "output_type": "display_data"
    },
    {
     "data": {
      "application/vnd.jupyter.widget-view+json": {
       "model_id": "33aaea72c0f24a78bd8d1d3145dd475a",
       "version_major": 2,
       "version_minor": 0
      },
      "text/plain": [
       "Batches:   0%|          | 0/1 [00:00<?, ?it/s]"
      ]
     },
     "metadata": {},
     "output_type": "display_data"
    },
    {
     "data": {
      "application/vnd.jupyter.widget-view+json": {
       "model_id": "4f1834dfdfd349b7bbf9b6b31ddea7a9",
       "version_major": 2,
       "version_minor": 0
      },
      "text/plain": [
       "Batches:   0%|          | 0/1 [00:00<?, ?it/s]"
      ]
     },
     "metadata": {},
     "output_type": "display_data"
    },
    {
     "data": {
      "application/vnd.jupyter.widget-view+json": {
       "model_id": "acfb1745c5ae41f6ba37cb742c1ee970",
       "version_major": 2,
       "version_minor": 0
      },
      "text/plain": [
       "Batches:   0%|          | 0/1 [00:00<?, ?it/s]"
      ]
     },
     "metadata": {},
     "output_type": "display_data"
    },
    {
     "data": {
      "application/vnd.jupyter.widget-view+json": {
       "model_id": "2eccc8e706854a449d58bb4664a4a5bf",
       "version_major": 2,
       "version_minor": 0
      },
      "text/plain": [
       "Batches:   0%|          | 0/1 [00:00<?, ?it/s]"
      ]
     },
     "metadata": {},
     "output_type": "display_data"
    },
    {
     "data": {
      "application/vnd.jupyter.widget-view+json": {
       "model_id": "e1978275081f4b428f229f49e0cc8474",
       "version_major": 2,
       "version_minor": 0
      },
      "text/plain": [
       "Batches:   0%|          | 0/1 [00:00<?, ?it/s]"
      ]
     },
     "metadata": {},
     "output_type": "display_data"
    },
    {
     "data": {
      "application/vnd.jupyter.widget-view+json": {
       "model_id": "64efb706f2d449c1b219b98739b24aab",
       "version_major": 2,
       "version_minor": 0
      },
      "text/plain": [
       "Batches:   0%|          | 0/1 [00:00<?, ?it/s]"
      ]
     },
     "metadata": {},
     "output_type": "display_data"
    },
    {
     "data": {
      "application/vnd.jupyter.widget-view+json": {
       "model_id": "5d0fbbbe84364184a3c4bff418a72619",
       "version_major": 2,
       "version_minor": 0
      },
      "text/plain": [
       "Batches:   0%|          | 0/1 [00:00<?, ?it/s]"
      ]
     },
     "metadata": {},
     "output_type": "display_data"
    },
    {
     "data": {
      "application/vnd.jupyter.widget-view+json": {
       "model_id": "9f64eeba00da43b1babbd06ae387febf",
       "version_major": 2,
       "version_minor": 0
      },
      "text/plain": [
       "Batches:   0%|          | 0/1 [00:00<?, ?it/s]"
      ]
     },
     "metadata": {},
     "output_type": "display_data"
    },
    {
     "data": {
      "application/vnd.jupyter.widget-view+json": {
       "model_id": "8a120c7b893748d887b185e9d8f650df",
       "version_major": 2,
       "version_minor": 0
      },
      "text/plain": [
       "Batches:   0%|          | 0/1 [00:00<?, ?it/s]"
      ]
     },
     "metadata": {},
     "output_type": "display_data"
    },
    {
     "data": {
      "application/vnd.jupyter.widget-view+json": {
       "model_id": "fdf3ee9d6bfa4273a1fec3cb743403e9",
       "version_major": 2,
       "version_minor": 0
      },
      "text/plain": [
       "Batches:   0%|          | 0/1 [00:00<?, ?it/s]"
      ]
     },
     "metadata": {},
     "output_type": "display_data"
    },
    {
     "data": {
      "application/vnd.jupyter.widget-view+json": {
       "model_id": "0d1414a650134b0e925a550ce197f344",
       "version_major": 2,
       "version_minor": 0
      },
      "text/plain": [
       "Batches:   0%|          | 0/1 [00:00<?, ?it/s]"
      ]
     },
     "metadata": {},
     "output_type": "display_data"
    },
    {
     "data": {
      "application/vnd.jupyter.widget-view+json": {
       "model_id": "43f340260eb0422690ac6d1d7620e5d6",
       "version_major": 2,
       "version_minor": 0
      },
      "text/plain": [
       "Batches:   0%|          | 0/1 [00:00<?, ?it/s]"
      ]
     },
     "metadata": {},
     "output_type": "display_data"
    },
    {
     "data": {
      "application/vnd.jupyter.widget-view+json": {
       "model_id": "43ddb6e9164f4d20b289164769b02933",
       "version_major": 2,
       "version_minor": 0
      },
      "text/plain": [
       "Batches:   0%|          | 0/1 [00:00<?, ?it/s]"
      ]
     },
     "metadata": {},
     "output_type": "display_data"
    },
    {
     "data": {
      "application/vnd.jupyter.widget-view+json": {
       "model_id": "eb0ffc1c245b45df97d3b63eb1fe770c",
       "version_major": 2,
       "version_minor": 0
      },
      "text/plain": [
       "Batches:   0%|          | 0/1 [00:00<?, ?it/s]"
      ]
     },
     "metadata": {},
     "output_type": "display_data"
    },
    {
     "data": {
      "application/vnd.jupyter.widget-view+json": {
       "model_id": "3582b7e83d664305b338d3b801b2e3a5",
       "version_major": 2,
       "version_minor": 0
      },
      "text/plain": [
       "Batches:   0%|          | 0/1 [00:00<?, ?it/s]"
      ]
     },
     "metadata": {},
     "output_type": "display_data"
    },
    {
     "data": {
      "application/vnd.jupyter.widget-view+json": {
       "model_id": "9b4391d4a9774e0a92ae884276e9cbf7",
       "version_major": 2,
       "version_minor": 0
      },
      "text/plain": [
       "Batches:   0%|          | 0/1 [00:00<?, ?it/s]"
      ]
     },
     "metadata": {},
     "output_type": "display_data"
    },
    {
     "data": {
      "application/vnd.jupyter.widget-view+json": {
       "model_id": "363c1085587a415ea672c1471ec4b3be",
       "version_major": 2,
       "version_minor": 0
      },
      "text/plain": [
       "Batches:   0%|          | 0/1 [00:00<?, ?it/s]"
      ]
     },
     "metadata": {},
     "output_type": "display_data"
    },
    {
     "data": {
      "application/vnd.jupyter.widget-view+json": {
       "model_id": "298a7672fe6148f8b1d3609deab4c71e",
       "version_major": 2,
       "version_minor": 0
      },
      "text/plain": [
       "Batches:   0%|          | 0/1 [00:00<?, ?it/s]"
      ]
     },
     "metadata": {},
     "output_type": "display_data"
    },
    {
     "data": {
      "application/vnd.jupyter.widget-view+json": {
       "model_id": "574d9d962fcc4711a0ed2d71cd0debe7",
       "version_major": 2,
       "version_minor": 0
      },
      "text/plain": [
       "Batches:   0%|          | 0/1 [00:00<?, ?it/s]"
      ]
     },
     "metadata": {},
     "output_type": "display_data"
    },
    {
     "data": {
      "application/vnd.jupyter.widget-view+json": {
       "model_id": "7a6f0e5b070c4b47b6153934f455a2ef",
       "version_major": 2,
       "version_minor": 0
      },
      "text/plain": [
       "Batches:   0%|          | 0/1 [00:00<?, ?it/s]"
      ]
     },
     "metadata": {},
     "output_type": "display_data"
    },
    {
     "data": {
      "application/vnd.jupyter.widget-view+json": {
       "model_id": "6b560ebad0f04a40aab25e9f695331b2",
       "version_major": 2,
       "version_minor": 0
      },
      "text/plain": [
       "Batches:   0%|          | 0/1 [00:00<?, ?it/s]"
      ]
     },
     "metadata": {},
     "output_type": "display_data"
    },
    {
     "data": {
      "application/vnd.jupyter.widget-view+json": {
       "model_id": "8866a75ae1fb4bb789dbf83199741580",
       "version_major": 2,
       "version_minor": 0
      },
      "text/plain": [
       "Batches:   0%|          | 0/1 [00:00<?, ?it/s]"
      ]
     },
     "metadata": {},
     "output_type": "display_data"
    },
    {
     "data": {
      "application/vnd.jupyter.widget-view+json": {
       "model_id": "ee9f70055266461aac04f6f444dd1dfa",
       "version_major": 2,
       "version_minor": 0
      },
      "text/plain": [
       "Batches:   0%|          | 0/1 [00:00<?, ?it/s]"
      ]
     },
     "metadata": {},
     "output_type": "display_data"
    },
    {
     "data": {
      "application/vnd.jupyter.widget-view+json": {
       "model_id": "ebeed49f23184de4a6111a69b77c5e8c",
       "version_major": 2,
       "version_minor": 0
      },
      "text/plain": [
       "Batches:   0%|          | 0/1 [00:00<?, ?it/s]"
      ]
     },
     "metadata": {},
     "output_type": "display_data"
    },
    {
     "data": {
      "application/vnd.jupyter.widget-view+json": {
       "model_id": "48037963ced246b287206256f0f69bb2",
       "version_major": 2,
       "version_minor": 0
      },
      "text/plain": [
       "Batches:   0%|          | 0/1 [00:00<?, ?it/s]"
      ]
     },
     "metadata": {},
     "output_type": "display_data"
    },
    {
     "data": {
      "application/vnd.jupyter.widget-view+json": {
       "model_id": "dce2f3147b0042ecbe1b08cce7b90544",
       "version_major": 2,
       "version_minor": 0
      },
      "text/plain": [
       "Batches:   0%|          | 0/1 [00:00<?, ?it/s]"
      ]
     },
     "metadata": {},
     "output_type": "display_data"
    },
    {
     "data": {
      "application/vnd.jupyter.widget-view+json": {
       "model_id": "a4c47048829b4e36879a85667534cd00",
       "version_major": 2,
       "version_minor": 0
      },
      "text/plain": [
       "Batches:   0%|          | 0/1 [00:00<?, ?it/s]"
      ]
     },
     "metadata": {},
     "output_type": "display_data"
    },
    {
     "data": {
      "application/vnd.jupyter.widget-view+json": {
       "model_id": "73530e7ea0a74f1b98f24e9e69ccaaa2",
       "version_major": 2,
       "version_minor": 0
      },
      "text/plain": [
       "Batches:   0%|          | 0/1 [00:00<?, ?it/s]"
      ]
     },
     "metadata": {},
     "output_type": "display_data"
    },
    {
     "data": {
      "application/vnd.jupyter.widget-view+json": {
       "model_id": "28e778eb3c6c4e24bd1596d7395a3f04",
       "version_major": 2,
       "version_minor": 0
      },
      "text/plain": [
       "Batches:   0%|          | 0/1 [00:00<?, ?it/s]"
      ]
     },
     "metadata": {},
     "output_type": "display_data"
    },
    {
     "data": {
      "application/vnd.jupyter.widget-view+json": {
       "model_id": "1eb4844301df43119a3382e41140710d",
       "version_major": 2,
       "version_minor": 0
      },
      "text/plain": [
       "Batches:   0%|          | 0/1 [00:00<?, ?it/s]"
      ]
     },
     "metadata": {},
     "output_type": "display_data"
    },
    {
     "data": {
      "application/vnd.jupyter.widget-view+json": {
       "model_id": "21a7f0fe263e4774ad94f52e7f20da5d",
       "version_major": 2,
       "version_minor": 0
      },
      "text/plain": [
       "Batches:   0%|          | 0/1 [00:00<?, ?it/s]"
      ]
     },
     "metadata": {},
     "output_type": "display_data"
    },
    {
     "data": {
      "application/vnd.jupyter.widget-view+json": {
       "model_id": "0c2e8acc54e948d0986e7ea5b2e84483",
       "version_major": 2,
       "version_minor": 0
      },
      "text/plain": [
       "Batches:   0%|          | 0/1 [00:00<?, ?it/s]"
      ]
     },
     "metadata": {},
     "output_type": "display_data"
    },
    {
     "data": {
      "application/vnd.jupyter.widget-view+json": {
       "model_id": "d2dd388493d24dc5a0fe81f7b5dae477",
       "version_major": 2,
       "version_minor": 0
      },
      "text/plain": [
       "Batches:   0%|          | 0/1 [00:00<?, ?it/s]"
      ]
     },
     "metadata": {},
     "output_type": "display_data"
    },
    {
     "data": {
      "application/vnd.jupyter.widget-view+json": {
       "model_id": "d74ac7f8786e40abb7244360633b4764",
       "version_major": 2,
       "version_minor": 0
      },
      "text/plain": [
       "Batches:   0%|          | 0/1 [00:00<?, ?it/s]"
      ]
     },
     "metadata": {},
     "output_type": "display_data"
    },
    {
     "data": {
      "application/vnd.jupyter.widget-view+json": {
       "model_id": "929c9eb372874794bee27bd41cdb4221",
       "version_major": 2,
       "version_minor": 0
      },
      "text/plain": [
       "Batches:   0%|          | 0/1 [00:00<?, ?it/s]"
      ]
     },
     "metadata": {},
     "output_type": "display_data"
    },
    {
     "data": {
      "application/vnd.jupyter.widget-view+json": {
       "model_id": "99ea13d50bbe4919be935c4d242f2700",
       "version_major": 2,
       "version_minor": 0
      },
      "text/plain": [
       "Batches:   0%|          | 0/1 [00:00<?, ?it/s]"
      ]
     },
     "metadata": {},
     "output_type": "display_data"
    },
    {
     "data": {
      "application/vnd.jupyter.widget-view+json": {
       "model_id": "f7e82ac67dfe423dbe952a07a6386b85",
       "version_major": 2,
       "version_minor": 0
      },
      "text/plain": [
       "Batches:   0%|          | 0/1 [00:00<?, ?it/s]"
      ]
     },
     "metadata": {},
     "output_type": "display_data"
    },
    {
     "data": {
      "application/vnd.jupyter.widget-view+json": {
       "model_id": "bc2a2a01406840648d4f9334e4bde6fa",
       "version_major": 2,
       "version_minor": 0
      },
      "text/plain": [
       "Batches:   0%|          | 0/1 [00:00<?, ?it/s]"
      ]
     },
     "metadata": {},
     "output_type": "display_data"
    },
    {
     "data": {
      "application/vnd.jupyter.widget-view+json": {
       "model_id": "541fa3920db545febda46ada599ebbf0",
       "version_major": 2,
       "version_minor": 0
      },
      "text/plain": [
       "Batches:   0%|          | 0/1 [00:00<?, ?it/s]"
      ]
     },
     "metadata": {},
     "output_type": "display_data"
    },
    {
     "data": {
      "application/vnd.jupyter.widget-view+json": {
       "model_id": "b08fe4280f4b46a7a1513ec227660def",
       "version_major": 2,
       "version_minor": 0
      },
      "text/plain": [
       "Batches:   0%|          | 0/1 [00:00<?, ?it/s]"
      ]
     },
     "metadata": {},
     "output_type": "display_data"
    },
    {
     "data": {
      "application/vnd.jupyter.widget-view+json": {
       "model_id": "95b69d8c226a4db0bdc03589b278fb1d",
       "version_major": 2,
       "version_minor": 0
      },
      "text/plain": [
       "Batches:   0%|          | 0/1 [00:00<?, ?it/s]"
      ]
     },
     "metadata": {},
     "output_type": "display_data"
    },
    {
     "data": {
      "application/vnd.jupyter.widget-view+json": {
       "model_id": "53ee57be06884b47b581a8b2560fee35",
       "version_major": 2,
       "version_minor": 0
      },
      "text/plain": [
       "Batches:   0%|          | 0/1 [00:00<?, ?it/s]"
      ]
     },
     "metadata": {},
     "output_type": "display_data"
    },
    {
     "data": {
      "application/vnd.jupyter.widget-view+json": {
       "model_id": "f5aec99c9c7e4ea9ba5cb15a1a9b9cef",
       "version_major": 2,
       "version_minor": 0
      },
      "text/plain": [
       "Batches:   0%|          | 0/1 [00:00<?, ?it/s]"
      ]
     },
     "metadata": {},
     "output_type": "display_data"
    },
    {
     "data": {
      "application/vnd.jupyter.widget-view+json": {
       "model_id": "e034d27269ab4c40854305c89a27ad62",
       "version_major": 2,
       "version_minor": 0
      },
      "text/plain": [
       "Batches:   0%|          | 0/1 [00:00<?, ?it/s]"
      ]
     },
     "metadata": {},
     "output_type": "display_data"
    },
    {
     "data": {
      "application/vnd.jupyter.widget-view+json": {
       "model_id": "f6781581f2144970ad4759fcfcc8f801",
       "version_major": 2,
       "version_minor": 0
      },
      "text/plain": [
       "Batches:   0%|          | 0/1 [00:00<?, ?it/s]"
      ]
     },
     "metadata": {},
     "output_type": "display_data"
    },
    {
     "data": {
      "application/vnd.jupyter.widget-view+json": {
       "model_id": "7299b3e4749b46388eb91e1b26e93db5",
       "version_major": 2,
       "version_minor": 0
      },
      "text/plain": [
       "Batches:   0%|          | 0/1 [00:00<?, ?it/s]"
      ]
     },
     "metadata": {},
     "output_type": "display_data"
    },
    {
     "data": {
      "application/vnd.jupyter.widget-view+json": {
       "model_id": "69fd41c5d51a42349564b60e88455bdd",
       "version_major": 2,
       "version_minor": 0
      },
      "text/plain": [
       "Batches:   0%|          | 0/1 [00:00<?, ?it/s]"
      ]
     },
     "metadata": {},
     "output_type": "display_data"
    },
    {
     "data": {
      "application/vnd.jupyter.widget-view+json": {
       "model_id": "4d7abf6e5c984b06a4f81681fb1c2457",
       "version_major": 2,
       "version_minor": 0
      },
      "text/plain": [
       "Batches:   0%|          | 0/1 [00:00<?, ?it/s]"
      ]
     },
     "metadata": {},
     "output_type": "display_data"
    },
    {
     "data": {
      "application/vnd.jupyter.widget-view+json": {
       "model_id": "4833b93d1a324f84bde62e042cd34906",
       "version_major": 2,
       "version_minor": 0
      },
      "text/plain": [
       "Batches:   0%|          | 0/1 [00:00<?, ?it/s]"
      ]
     },
     "metadata": {},
     "output_type": "display_data"
    },
    {
     "data": {
      "application/vnd.jupyter.widget-view+json": {
       "model_id": "6d15db78c06a48018f254b3ace0f6f70",
       "version_major": 2,
       "version_minor": 0
      },
      "text/plain": [
       "Batches:   0%|          | 0/1 [00:00<?, ?it/s]"
      ]
     },
     "metadata": {},
     "output_type": "display_data"
    },
    {
     "data": {
      "application/vnd.jupyter.widget-view+json": {
       "model_id": "5b9d72b5f3e6481082eba0a41841c816",
       "version_major": 2,
       "version_minor": 0
      },
      "text/plain": [
       "Batches:   0%|          | 0/1 [00:00<?, ?it/s]"
      ]
     },
     "metadata": {},
     "output_type": "display_data"
    },
    {
     "data": {
      "application/vnd.jupyter.widget-view+json": {
       "model_id": "8f44b914417143818ef14c123c1f4d1d",
       "version_major": 2,
       "version_minor": 0
      },
      "text/plain": [
       "Batches:   0%|          | 0/1 [00:00<?, ?it/s]"
      ]
     },
     "metadata": {},
     "output_type": "display_data"
    },
    {
     "data": {
      "application/vnd.jupyter.widget-view+json": {
       "model_id": "a1d673a39f0043d1a35b9fedb446e19b",
       "version_major": 2,
       "version_minor": 0
      },
      "text/plain": [
       "Batches:   0%|          | 0/1 [00:00<?, ?it/s]"
      ]
     },
     "metadata": {},
     "output_type": "display_data"
    },
    {
     "data": {
      "application/vnd.jupyter.widget-view+json": {
       "model_id": "e37e655d00554268b36431004b0c4ad0",
       "version_major": 2,
       "version_minor": 0
      },
      "text/plain": [
       "Batches:   0%|          | 0/1 [00:00<?, ?it/s]"
      ]
     },
     "metadata": {},
     "output_type": "display_data"
    },
    {
     "data": {
      "application/vnd.jupyter.widget-view+json": {
       "model_id": "89474c173b434ea58f1407889b770a0d",
       "version_major": 2,
       "version_minor": 0
      },
      "text/plain": [
       "Batches:   0%|          | 0/1 [00:00<?, ?it/s]"
      ]
     },
     "metadata": {},
     "output_type": "display_data"
    },
    {
     "data": {
      "application/vnd.jupyter.widget-view+json": {
       "model_id": "feb5e356b2654331a147102a3bf70743",
       "version_major": 2,
       "version_minor": 0
      },
      "text/plain": [
       "Batches:   0%|          | 0/1 [00:00<?, ?it/s]"
      ]
     },
     "metadata": {},
     "output_type": "display_data"
    },
    {
     "data": {
      "application/vnd.jupyter.widget-view+json": {
       "model_id": "1e8a48fe0b3b477d8be28bdb2421719a",
       "version_major": 2,
       "version_minor": 0
      },
      "text/plain": [
       "Batches:   0%|          | 0/1 [00:00<?, ?it/s]"
      ]
     },
     "metadata": {},
     "output_type": "display_data"
    },
    {
     "data": {
      "application/vnd.jupyter.widget-view+json": {
       "model_id": "dd4dcc130ab04759aca671caf68ce60f",
       "version_major": 2,
       "version_minor": 0
      },
      "text/plain": [
       "Batches:   0%|          | 0/1 [00:00<?, ?it/s]"
      ]
     },
     "metadata": {},
     "output_type": "display_data"
    },
    {
     "data": {
      "application/vnd.jupyter.widget-view+json": {
       "model_id": "92b492661a40407ab0c93a4aa42f6ace",
       "version_major": 2,
       "version_minor": 0
      },
      "text/plain": [
       "Batches:   0%|          | 0/1 [00:00<?, ?it/s]"
      ]
     },
     "metadata": {},
     "output_type": "display_data"
    },
    {
     "data": {
      "application/vnd.jupyter.widget-view+json": {
       "model_id": "e346e79a68ca400dbe2478d055a78d05",
       "version_major": 2,
       "version_minor": 0
      },
      "text/plain": [
       "Batches:   0%|          | 0/1 [00:00<?, ?it/s]"
      ]
     },
     "metadata": {},
     "output_type": "display_data"
    },
    {
     "data": {
      "application/vnd.jupyter.widget-view+json": {
       "model_id": "e9590d8ad1b5410d848ebe8dbd9cd211",
       "version_major": 2,
       "version_minor": 0
      },
      "text/plain": [
       "Batches:   0%|          | 0/1 [00:00<?, ?it/s]"
      ]
     },
     "metadata": {},
     "output_type": "display_data"
    },
    {
     "data": {
      "application/vnd.jupyter.widget-view+json": {
       "model_id": "e9ef73dd50984c9da2769469907b5e82",
       "version_major": 2,
       "version_minor": 0
      },
      "text/plain": [
       "Batches:   0%|          | 0/1 [00:00<?, ?it/s]"
      ]
     },
     "metadata": {},
     "output_type": "display_data"
    },
    {
     "data": {
      "application/vnd.jupyter.widget-view+json": {
       "model_id": "260dc650b9344fdd819db4365329b160",
       "version_major": 2,
       "version_minor": 0
      },
      "text/plain": [
       "Batches:   0%|          | 0/1 [00:00<?, ?it/s]"
      ]
     },
     "metadata": {},
     "output_type": "display_data"
    },
    {
     "data": {
      "application/vnd.jupyter.widget-view+json": {
       "model_id": "0b637a94e1504c71a47e4df0a4f3c1a4",
       "version_major": 2,
       "version_minor": 0
      },
      "text/plain": [
       "Batches:   0%|          | 0/1 [00:00<?, ?it/s]"
      ]
     },
     "metadata": {},
     "output_type": "display_data"
    },
    {
     "data": {
      "application/vnd.jupyter.widget-view+json": {
       "model_id": "b63e9392546440fe81a679fcd7efc2a6",
       "version_major": 2,
       "version_minor": 0
      },
      "text/plain": [
       "Batches:   0%|          | 0/1 [00:00<?, ?it/s]"
      ]
     },
     "metadata": {},
     "output_type": "display_data"
    },
    {
     "data": {
      "application/vnd.jupyter.widget-view+json": {
       "model_id": "cabf1c259fbc41998ef51babe655a024",
       "version_major": 2,
       "version_minor": 0
      },
      "text/plain": [
       "Batches:   0%|          | 0/1 [00:00<?, ?it/s]"
      ]
     },
     "metadata": {},
     "output_type": "display_data"
    },
    {
     "data": {
      "application/vnd.jupyter.widget-view+json": {
       "model_id": "2aae517b30da4b0ea1861a9146f17be8",
       "version_major": 2,
       "version_minor": 0
      },
      "text/plain": [
       "Batches:   0%|          | 0/1 [00:00<?, ?it/s]"
      ]
     },
     "metadata": {},
     "output_type": "display_data"
    },
    {
     "data": {
      "application/vnd.jupyter.widget-view+json": {
       "model_id": "21eb2de6121c4e1cabcbe59c7e0aeef8",
       "version_major": 2,
       "version_minor": 0
      },
      "text/plain": [
       "Batches:   0%|          | 0/1 [00:00<?, ?it/s]"
      ]
     },
     "metadata": {},
     "output_type": "display_data"
    },
    {
     "data": {
      "application/vnd.jupyter.widget-view+json": {
       "model_id": "d385bf1b8d0845bfb4ae3970399b8152",
       "version_major": 2,
       "version_minor": 0
      },
      "text/plain": [
       "Batches:   0%|          | 0/1 [00:00<?, ?it/s]"
      ]
     },
     "metadata": {},
     "output_type": "display_data"
    },
    {
     "data": {
      "application/vnd.jupyter.widget-view+json": {
       "model_id": "b9b6d76472e841308564ee8d3ed72497",
       "version_major": 2,
       "version_minor": 0
      },
      "text/plain": [
       "Batches:   0%|          | 0/1 [00:00<?, ?it/s]"
      ]
     },
     "metadata": {},
     "output_type": "display_data"
    },
    {
     "data": {
      "application/vnd.jupyter.widget-view+json": {
       "model_id": "2ea54465475e4284a3c5ac134dd906a2",
       "version_major": 2,
       "version_minor": 0
      },
      "text/plain": [
       "Batches:   0%|          | 0/1 [00:00<?, ?it/s]"
      ]
     },
     "metadata": {},
     "output_type": "display_data"
    },
    {
     "data": {
      "application/vnd.jupyter.widget-view+json": {
       "model_id": "59f8036cd89d47a8a44ff42c0562d8c4",
       "version_major": 2,
       "version_minor": 0
      },
      "text/plain": [
       "Batches:   0%|          | 0/1 [00:00<?, ?it/s]"
      ]
     },
     "metadata": {},
     "output_type": "display_data"
    },
    {
     "data": {
      "application/vnd.jupyter.widget-view+json": {
       "model_id": "c587180208e5419cbdfe2266efa05cb5",
       "version_major": 2,
       "version_minor": 0
      },
      "text/plain": [
       "Batches:   0%|          | 0/1 [00:00<?, ?it/s]"
      ]
     },
     "metadata": {},
     "output_type": "display_data"
    },
    {
     "data": {
      "application/vnd.jupyter.widget-view+json": {
       "model_id": "3bc3c7aae36d401db7238b38724a678f",
       "version_major": 2,
       "version_minor": 0
      },
      "text/plain": [
       "Batches:   0%|          | 0/1 [00:00<?, ?it/s]"
      ]
     },
     "metadata": {},
     "output_type": "display_data"
    },
    {
     "data": {
      "application/vnd.jupyter.widget-view+json": {
       "model_id": "4af170b2f1264d5ca48490aba635d1bc",
       "version_major": 2,
       "version_minor": 0
      },
      "text/plain": [
       "Batches:   0%|          | 0/1 [00:00<?, ?it/s]"
      ]
     },
     "metadata": {},
     "output_type": "display_data"
    },
    {
     "data": {
      "application/vnd.jupyter.widget-view+json": {
       "model_id": "5ca4a039745c405b987072235f30f439",
       "version_major": 2,
       "version_minor": 0
      },
      "text/plain": [
       "Batches:   0%|          | 0/1 [00:00<?, ?it/s]"
      ]
     },
     "metadata": {},
     "output_type": "display_data"
    },
    {
     "data": {
      "application/vnd.jupyter.widget-view+json": {
       "model_id": "24b1ae9ffd2b48cc815cfcd142f290f8",
       "version_major": 2,
       "version_minor": 0
      },
      "text/plain": [
       "Batches:   0%|          | 0/1 [00:00<?, ?it/s]"
      ]
     },
     "metadata": {},
     "output_type": "display_data"
    },
    {
     "data": {
      "application/vnd.jupyter.widget-view+json": {
       "model_id": "dd430de34e8e4b6ebd669a9d7ef7fb9b",
       "version_major": 2,
       "version_minor": 0
      },
      "text/plain": [
       "Batches:   0%|          | 0/1 [00:00<?, ?it/s]"
      ]
     },
     "metadata": {},
     "output_type": "display_data"
    },
    {
     "data": {
      "application/vnd.jupyter.widget-view+json": {
       "model_id": "f31401bdd70046928431bf41b63b7357",
       "version_major": 2,
       "version_minor": 0
      },
      "text/plain": [
       "Batches:   0%|          | 0/1 [00:00<?, ?it/s]"
      ]
     },
     "metadata": {},
     "output_type": "display_data"
    },
    {
     "data": {
      "application/vnd.jupyter.widget-view+json": {
       "model_id": "9b4308f46372432da410dc2f40ec6df7",
       "version_major": 2,
       "version_minor": 0
      },
      "text/plain": [
       "Batches:   0%|          | 0/1 [00:00<?, ?it/s]"
      ]
     },
     "metadata": {},
     "output_type": "display_data"
    },
    {
     "data": {
      "application/vnd.jupyter.widget-view+json": {
       "model_id": "b48a41963b104fa7aa206fd83d2afd5f",
       "version_major": 2,
       "version_minor": 0
      },
      "text/plain": [
       "Batches:   0%|          | 0/1 [00:00<?, ?it/s]"
      ]
     },
     "metadata": {},
     "output_type": "display_data"
    },
    {
     "data": {
      "application/vnd.jupyter.widget-view+json": {
       "model_id": "71e23b7f8cdf4ac9b10e79c19438c6b2",
       "version_major": 2,
       "version_minor": 0
      },
      "text/plain": [
       "Batches:   0%|          | 0/1 [00:00<?, ?it/s]"
      ]
     },
     "metadata": {},
     "output_type": "display_data"
    },
    {
     "data": {
      "application/vnd.jupyter.widget-view+json": {
       "model_id": "369cc5487d1848cfbbd38ba66965e74d",
       "version_major": 2,
       "version_minor": 0
      },
      "text/plain": [
       "Batches:   0%|          | 0/1 [00:00<?, ?it/s]"
      ]
     },
     "metadata": {},
     "output_type": "display_data"
    },
    {
     "data": {
      "application/vnd.jupyter.widget-view+json": {
       "model_id": "ffcebdd2b2204787925e9341bce62f7d",
       "version_major": 2,
       "version_minor": 0
      },
      "text/plain": [
       "Batches:   0%|          | 0/1 [00:00<?, ?it/s]"
      ]
     },
     "metadata": {},
     "output_type": "display_data"
    },
    {
     "data": {
      "application/vnd.jupyter.widget-view+json": {
       "model_id": "4dcc978cfdba42328ae68ef5179f57b9",
       "version_major": 2,
       "version_minor": 0
      },
      "text/plain": [
       "Batches:   0%|          | 0/1 [00:00<?, ?it/s]"
      ]
     },
     "metadata": {},
     "output_type": "display_data"
    },
    {
     "data": {
      "application/vnd.jupyter.widget-view+json": {
       "model_id": "9a68e9cc2b4a4ba1ae789ea81b420d83",
       "version_major": 2,
       "version_minor": 0
      },
      "text/plain": [
       "Batches:   0%|          | 0/1 [00:00<?, ?it/s]"
      ]
     },
     "metadata": {},
     "output_type": "display_data"
    },
    {
     "data": {
      "application/vnd.jupyter.widget-view+json": {
       "model_id": "3feaf88721b44e09809b10d8579888ac",
       "version_major": 2,
       "version_minor": 0
      },
      "text/plain": [
       "Batches:   0%|          | 0/1 [00:00<?, ?it/s]"
      ]
     },
     "metadata": {},
     "output_type": "display_data"
    },
    {
     "data": {
      "application/vnd.jupyter.widget-view+json": {
       "model_id": "575b7212f30f429e84dbdfe02c3ed7f0",
       "version_major": 2,
       "version_minor": 0
      },
      "text/plain": [
       "Batches:   0%|          | 0/1 [00:00<?, ?it/s]"
      ]
     },
     "metadata": {},
     "output_type": "display_data"
    },
    {
     "data": {
      "application/vnd.jupyter.widget-view+json": {
       "model_id": "477f2b5619ea4a1bbb6a2064fee1f07e",
       "version_major": 2,
       "version_minor": 0
      },
      "text/plain": [
       "Batches:   0%|          | 0/1 [00:00<?, ?it/s]"
      ]
     },
     "metadata": {},
     "output_type": "display_data"
    },
    {
     "data": {
      "application/vnd.jupyter.widget-view+json": {
       "model_id": "35c05b252f6c4e29bdd2a1caf38dc75e",
       "version_major": 2,
       "version_minor": 0
      },
      "text/plain": [
       "Batches:   0%|          | 0/1 [00:00<?, ?it/s]"
      ]
     },
     "metadata": {},
     "output_type": "display_data"
    },
    {
     "data": {
      "application/vnd.jupyter.widget-view+json": {
       "model_id": "a8e0dc3d2ea04ff7bf8f0422cd2f6cbb",
       "version_major": 2,
       "version_minor": 0
      },
      "text/plain": [
       "Batches:   0%|          | 0/1 [00:00<?, ?it/s]"
      ]
     },
     "metadata": {},
     "output_type": "display_data"
    },
    {
     "data": {
      "application/vnd.jupyter.widget-view+json": {
       "model_id": "d305670c72fc4809abc83f6f99684045",
       "version_major": 2,
       "version_minor": 0
      },
      "text/plain": [
       "Batches:   0%|          | 0/1 [00:00<?, ?it/s]"
      ]
     },
     "metadata": {},
     "output_type": "display_data"
    },
    {
     "data": {
      "application/vnd.jupyter.widget-view+json": {
       "model_id": "b84013f69e9149c6aa8b8af44ef3fe57",
       "version_major": 2,
       "version_minor": 0
      },
      "text/plain": [
       "Batches:   0%|          | 0/1 [00:00<?, ?it/s]"
      ]
     },
     "metadata": {},
     "output_type": "display_data"
    },
    {
     "data": {
      "application/vnd.jupyter.widget-view+json": {
       "model_id": "f12cad38c37045bd83949f96fea737c5",
       "version_major": 2,
       "version_minor": 0
      },
      "text/plain": [
       "Batches:   0%|          | 0/1 [00:00<?, ?it/s]"
      ]
     },
     "metadata": {},
     "output_type": "display_data"
    },
    {
     "data": {
      "application/vnd.jupyter.widget-view+json": {
       "model_id": "096540580a3643aa91a8cef251ac0437",
       "version_major": 2,
       "version_minor": 0
      },
      "text/plain": [
       "Batches:   0%|          | 0/1 [00:00<?, ?it/s]"
      ]
     },
     "metadata": {},
     "output_type": "display_data"
    },
    {
     "data": {
      "application/vnd.jupyter.widget-view+json": {
       "model_id": "32c1fc97e2c34caa8489a3d6f661130b",
       "version_major": 2,
       "version_minor": 0
      },
      "text/plain": [
       "Batches:   0%|          | 0/1 [00:00<?, ?it/s]"
      ]
     },
     "metadata": {},
     "output_type": "display_data"
    },
    {
     "data": {
      "application/vnd.jupyter.widget-view+json": {
       "model_id": "b531646b1946406cb26ee5c841376e04",
       "version_major": 2,
       "version_minor": 0
      },
      "text/plain": [
       "Batches:   0%|          | 0/1 [00:00<?, ?it/s]"
      ]
     },
     "metadata": {},
     "output_type": "display_data"
    },
    {
     "data": {
      "application/vnd.jupyter.widget-view+json": {
       "model_id": "a761de0e8422436cac5b2940194c9780",
       "version_major": 2,
       "version_minor": 0
      },
      "text/plain": [
       "Batches:   0%|          | 0/1 [00:00<?, ?it/s]"
      ]
     },
     "metadata": {},
     "output_type": "display_data"
    },
    {
     "data": {
      "application/vnd.jupyter.widget-view+json": {
       "model_id": "803c1a9a53ca4f9fbbc82217632ed59f",
       "version_major": 2,
       "version_minor": 0
      },
      "text/plain": [
       "Batches:   0%|          | 0/1 [00:00<?, ?it/s]"
      ]
     },
     "metadata": {},
     "output_type": "display_data"
    },
    {
     "data": {
      "application/vnd.jupyter.widget-view+json": {
       "model_id": "a2a097177267486ca35a2875e990e413",
       "version_major": 2,
       "version_minor": 0
      },
      "text/plain": [
       "Batches:   0%|          | 0/1 [00:00<?, ?it/s]"
      ]
     },
     "metadata": {},
     "output_type": "display_data"
    },
    {
     "data": {
      "application/vnd.jupyter.widget-view+json": {
       "model_id": "bf15ef4b37cc4d818204bc5a78d6b5f0",
       "version_major": 2,
       "version_minor": 0
      },
      "text/plain": [
       "Batches:   0%|          | 0/1 [00:00<?, ?it/s]"
      ]
     },
     "metadata": {},
     "output_type": "display_data"
    },
    {
     "data": {
      "application/vnd.jupyter.widget-view+json": {
       "model_id": "b008421b222240e3aee892de1af79484",
       "version_major": 2,
       "version_minor": 0
      },
      "text/plain": [
       "Batches:   0%|          | 0/1 [00:00<?, ?it/s]"
      ]
     },
     "metadata": {},
     "output_type": "display_data"
    },
    {
     "data": {
      "application/vnd.jupyter.widget-view+json": {
       "model_id": "13636561cbbe4c0f8cde27d160d532cd",
       "version_major": 2,
       "version_minor": 0
      },
      "text/plain": [
       "Batches:   0%|          | 0/1 [00:00<?, ?it/s]"
      ]
     },
     "metadata": {},
     "output_type": "display_data"
    },
    {
     "data": {
      "application/vnd.jupyter.widget-view+json": {
       "model_id": "14502bdddf084948962b20d7ed0811ff",
       "version_major": 2,
       "version_minor": 0
      },
      "text/plain": [
       "Batches:   0%|          | 0/1 [00:00<?, ?it/s]"
      ]
     },
     "metadata": {},
     "output_type": "display_data"
    },
    {
     "data": {
      "application/vnd.jupyter.widget-view+json": {
       "model_id": "6a44c1e515a84bfa8c65a08a1993f2e3",
       "version_major": 2,
       "version_minor": 0
      },
      "text/plain": [
       "Batches:   0%|          | 0/1 [00:00<?, ?it/s]"
      ]
     },
     "metadata": {},
     "output_type": "display_data"
    },
    {
     "data": {
      "application/vnd.jupyter.widget-view+json": {
       "model_id": "63ab974d2db14b459cf3bb4da578eafc",
       "version_major": 2,
       "version_minor": 0
      },
      "text/plain": [
       "Batches:   0%|          | 0/1 [00:00<?, ?it/s]"
      ]
     },
     "metadata": {},
     "output_type": "display_data"
    },
    {
     "data": {
      "application/vnd.jupyter.widget-view+json": {
       "model_id": "45e6be982fcf48e3af927ceea01f9a5b",
       "version_major": 2,
       "version_minor": 0
      },
      "text/plain": [
       "Batches:   0%|          | 0/1 [00:00<?, ?it/s]"
      ]
     },
     "metadata": {},
     "output_type": "display_data"
    },
    {
     "data": {
      "application/vnd.jupyter.widget-view+json": {
       "model_id": "aed598b032c241c4b3d706d80f7d4ee4",
       "version_major": 2,
       "version_minor": 0
      },
      "text/plain": [
       "Batches:   0%|          | 0/1 [00:00<?, ?it/s]"
      ]
     },
     "metadata": {},
     "output_type": "display_data"
    },
    {
     "data": {
      "application/vnd.jupyter.widget-view+json": {
       "model_id": "d8469b53c4a6480f8954057f0bb6f5d4",
       "version_major": 2,
       "version_minor": 0
      },
      "text/plain": [
       "Batches:   0%|          | 0/1 [00:00<?, ?it/s]"
      ]
     },
     "metadata": {},
     "output_type": "display_data"
    },
    {
     "data": {
      "application/vnd.jupyter.widget-view+json": {
       "model_id": "001705ea056f415fa4152348bdea4999",
       "version_major": 2,
       "version_minor": 0
      },
      "text/plain": [
       "Batches:   0%|          | 0/1 [00:00<?, ?it/s]"
      ]
     },
     "metadata": {},
     "output_type": "display_data"
    },
    {
     "data": {
      "application/vnd.jupyter.widget-view+json": {
       "model_id": "340b96a71f7544faba2bee1ff27928b6",
       "version_major": 2,
       "version_minor": 0
      },
      "text/plain": [
       "Batches:   0%|          | 0/1 [00:00<?, ?it/s]"
      ]
     },
     "metadata": {},
     "output_type": "display_data"
    },
    {
     "data": {
      "application/vnd.jupyter.widget-view+json": {
       "model_id": "f8aa92be3a8e4cf7b9bb447bc3f14eab",
       "version_major": 2,
       "version_minor": 0
      },
      "text/plain": [
       "Batches:   0%|          | 0/1 [00:00<?, ?it/s]"
      ]
     },
     "metadata": {},
     "output_type": "display_data"
    },
    {
     "data": {
      "application/vnd.jupyter.widget-view+json": {
       "model_id": "74e910888fb6493297fc7ff286bc59df",
       "version_major": 2,
       "version_minor": 0
      },
      "text/plain": [
       "Batches:   0%|          | 0/1 [00:00<?, ?it/s]"
      ]
     },
     "metadata": {},
     "output_type": "display_data"
    },
    {
     "data": {
      "application/vnd.jupyter.widget-view+json": {
       "model_id": "a8eaacc2fa8a4dd1a50941adc998e965",
       "version_major": 2,
       "version_minor": 0
      },
      "text/plain": [
       "Batches:   0%|          | 0/1 [00:00<?, ?it/s]"
      ]
     },
     "metadata": {},
     "output_type": "display_data"
    },
    {
     "data": {
      "application/vnd.jupyter.widget-view+json": {
       "model_id": "09d481b533a249388dfbe21d353a5cdf",
       "version_major": 2,
       "version_minor": 0
      },
      "text/plain": [
       "Batches:   0%|          | 0/1 [00:00<?, ?it/s]"
      ]
     },
     "metadata": {},
     "output_type": "display_data"
    },
    {
     "data": {
      "application/vnd.jupyter.widget-view+json": {
       "model_id": "023ed077c1064d5db334b7e508bab0c2",
       "version_major": 2,
       "version_minor": 0
      },
      "text/plain": [
       "Batches:   0%|          | 0/1 [00:00<?, ?it/s]"
      ]
     },
     "metadata": {},
     "output_type": "display_data"
    },
    {
     "data": {
      "application/vnd.jupyter.widget-view+json": {
       "model_id": "e4e0ffed847b430b824d2e905a12f74f",
       "version_major": 2,
       "version_minor": 0
      },
      "text/plain": [
       "Batches:   0%|          | 0/1 [00:00<?, ?it/s]"
      ]
     },
     "metadata": {},
     "output_type": "display_data"
    },
    {
     "data": {
      "application/vnd.jupyter.widget-view+json": {
       "model_id": "8a0340381b564e158b22cb641eee01d5",
       "version_major": 2,
       "version_minor": 0
      },
      "text/plain": [
       "Batches:   0%|          | 0/1 [00:00<?, ?it/s]"
      ]
     },
     "metadata": {},
     "output_type": "display_data"
    },
    {
     "data": {
      "application/vnd.jupyter.widget-view+json": {
       "model_id": "1457dfd1cc5d4f6aba508e43bc8da286",
       "version_major": 2,
       "version_minor": 0
      },
      "text/plain": [
       "Batches:   0%|          | 0/1 [00:00<?, ?it/s]"
      ]
     },
     "metadata": {},
     "output_type": "display_data"
    },
    {
     "data": {
      "application/vnd.jupyter.widget-view+json": {
       "model_id": "6b1eefd599294137b265a2aeeb422a85",
       "version_major": 2,
       "version_minor": 0
      },
      "text/plain": [
       "Batches:   0%|          | 0/1 [00:00<?, ?it/s]"
      ]
     },
     "metadata": {},
     "output_type": "display_data"
    },
    {
     "data": {
      "application/vnd.jupyter.widget-view+json": {
       "model_id": "a7afec6d6ea74a9f82f2af88e59ce236",
       "version_major": 2,
       "version_minor": 0
      },
      "text/plain": [
       "Batches:   0%|          | 0/1 [00:00<?, ?it/s]"
      ]
     },
     "metadata": {},
     "output_type": "display_data"
    },
    {
     "data": {
      "application/vnd.jupyter.widget-view+json": {
       "model_id": "e8728c28a49648da9c2d52c75363caeb",
       "version_major": 2,
       "version_minor": 0
      },
      "text/plain": [
       "Batches:   0%|          | 0/1 [00:00<?, ?it/s]"
      ]
     },
     "metadata": {},
     "output_type": "display_data"
    },
    {
     "data": {
      "application/vnd.jupyter.widget-view+json": {
       "model_id": "9153e61a678d42e7ab28360d4c0de8b5",
       "version_major": 2,
       "version_minor": 0
      },
      "text/plain": [
       "Batches:   0%|          | 0/1 [00:00<?, ?it/s]"
      ]
     },
     "metadata": {},
     "output_type": "display_data"
    },
    {
     "data": {
      "application/vnd.jupyter.widget-view+json": {
       "model_id": "db1b7da5ae084e9093111e1ccf1d46c6",
       "version_major": 2,
       "version_minor": 0
      },
      "text/plain": [
       "Batches:   0%|          | 0/1 [00:00<?, ?it/s]"
      ]
     },
     "metadata": {},
     "output_type": "display_data"
    },
    {
     "data": {
      "application/vnd.jupyter.widget-view+json": {
       "model_id": "db2f8f059f634481a3d9a4507f330f06",
       "version_major": 2,
       "version_minor": 0
      },
      "text/plain": [
       "Batches:   0%|          | 0/1 [00:00<?, ?it/s]"
      ]
     },
     "metadata": {},
     "output_type": "display_data"
    },
    {
     "data": {
      "application/vnd.jupyter.widget-view+json": {
       "model_id": "c9e861bb8b494041859376aec34c5ca6",
       "version_major": 2,
       "version_minor": 0
      },
      "text/plain": [
       "Batches:   0%|          | 0/1 [00:00<?, ?it/s]"
      ]
     },
     "metadata": {},
     "output_type": "display_data"
    },
    {
     "data": {
      "application/vnd.jupyter.widget-view+json": {
       "model_id": "8b368d3bb74340b58dd2478c20e6da23",
       "version_major": 2,
       "version_minor": 0
      },
      "text/plain": [
       "Batches:   0%|          | 0/1 [00:00<?, ?it/s]"
      ]
     },
     "metadata": {},
     "output_type": "display_data"
    },
    {
     "data": {
      "application/vnd.jupyter.widget-view+json": {
       "model_id": "3dc012e84e4344909c1513640c39ed5a",
       "version_major": 2,
       "version_minor": 0
      },
      "text/plain": [
       "Batches:   0%|          | 0/1 [00:00<?, ?it/s]"
      ]
     },
     "metadata": {},
     "output_type": "display_data"
    },
    {
     "data": {
      "application/vnd.jupyter.widget-view+json": {
       "model_id": "32c6734dc1074c7180734810d9db5e07",
       "version_major": 2,
       "version_minor": 0
      },
      "text/plain": [
       "Batches:   0%|          | 0/1 [00:00<?, ?it/s]"
      ]
     },
     "metadata": {},
     "output_type": "display_data"
    },
    {
     "data": {
      "application/vnd.jupyter.widget-view+json": {
       "model_id": "bd12400ab0af43f386a2e910e5173160",
       "version_major": 2,
       "version_minor": 0
      },
      "text/plain": [
       "Batches:   0%|          | 0/1 [00:00<?, ?it/s]"
      ]
     },
     "metadata": {},
     "output_type": "display_data"
    },
    {
     "data": {
      "application/vnd.jupyter.widget-view+json": {
       "model_id": "055d9570548043a9be2d89c7986c7659",
       "version_major": 2,
       "version_minor": 0
      },
      "text/plain": [
       "Batches:   0%|          | 0/1 [00:00<?, ?it/s]"
      ]
     },
     "metadata": {},
     "output_type": "display_data"
    },
    {
     "data": {
      "application/vnd.jupyter.widget-view+json": {
       "model_id": "90db446bb9ea4802a33dabfc79ac5e52",
       "version_major": 2,
       "version_minor": 0
      },
      "text/plain": [
       "Batches:   0%|          | 0/1 [00:00<?, ?it/s]"
      ]
     },
     "metadata": {},
     "output_type": "display_data"
    },
    {
     "data": {
      "application/vnd.jupyter.widget-view+json": {
       "model_id": "c0c61f83e47d4e1b8eeb50644dd6cabf",
       "version_major": 2,
       "version_minor": 0
      },
      "text/plain": [
       "Batches:   0%|          | 0/1 [00:00<?, ?it/s]"
      ]
     },
     "metadata": {},
     "output_type": "display_data"
    },
    {
     "data": {
      "application/vnd.jupyter.widget-view+json": {
       "model_id": "ea1514921cd040ceaaf35ce05dacdcf4",
       "version_major": 2,
       "version_minor": 0
      },
      "text/plain": [
       "Batches:   0%|          | 0/1 [00:00<?, ?it/s]"
      ]
     },
     "metadata": {},
     "output_type": "display_data"
    },
    {
     "data": {
      "application/vnd.jupyter.widget-view+json": {
       "model_id": "f0dd20a5d70d47b987a58ec84112cb22",
       "version_major": 2,
       "version_minor": 0
      },
      "text/plain": [
       "Batches:   0%|          | 0/1 [00:00<?, ?it/s]"
      ]
     },
     "metadata": {},
     "output_type": "display_data"
    },
    {
     "data": {
      "application/vnd.jupyter.widget-view+json": {
       "model_id": "3986c5826cc841c59400cf703e64d749",
       "version_major": 2,
       "version_minor": 0
      },
      "text/plain": [
       "Batches:   0%|          | 0/1 [00:00<?, ?it/s]"
      ]
     },
     "metadata": {},
     "output_type": "display_data"
    },
    {
     "data": {
      "application/vnd.jupyter.widget-view+json": {
       "model_id": "2cfe2c8334494b83946e907793938a19",
       "version_major": 2,
       "version_minor": 0
      },
      "text/plain": [
       "Batches:   0%|          | 0/1 [00:00<?, ?it/s]"
      ]
     },
     "metadata": {},
     "output_type": "display_data"
    },
    {
     "data": {
      "application/vnd.jupyter.widget-view+json": {
       "model_id": "591e04f2eff74c8cbab6528d13a0dd70",
       "version_major": 2,
       "version_minor": 0
      },
      "text/plain": [
       "Batches:   0%|          | 0/1 [00:00<?, ?it/s]"
      ]
     },
     "metadata": {},
     "output_type": "display_data"
    },
    {
     "data": {
      "application/vnd.jupyter.widget-view+json": {
       "model_id": "bfb46c6870564546ab58ded34b21ea31",
       "version_major": 2,
       "version_minor": 0
      },
      "text/plain": [
       "Batches:   0%|          | 0/1 [00:00<?, ?it/s]"
      ]
     },
     "metadata": {},
     "output_type": "display_data"
    },
    {
     "data": {
      "application/vnd.jupyter.widget-view+json": {
       "model_id": "f9a9544ab4534a8f9b571522a77b28a1",
       "version_major": 2,
       "version_minor": 0
      },
      "text/plain": [
       "Batches:   0%|          | 0/1 [00:00<?, ?it/s]"
      ]
     },
     "metadata": {},
     "output_type": "display_data"
    },
    {
     "data": {
      "application/vnd.jupyter.widget-view+json": {
       "model_id": "fa72a53f7e014abfbd0460de66636e0d",
       "version_major": 2,
       "version_minor": 0
      },
      "text/plain": [
       "Batches:   0%|          | 0/1 [00:00<?, ?it/s]"
      ]
     },
     "metadata": {},
     "output_type": "display_data"
    },
    {
     "data": {
      "application/vnd.jupyter.widget-view+json": {
       "model_id": "90d72593a02e4f9b8ccb73f3b27165c8",
       "version_major": 2,
       "version_minor": 0
      },
      "text/plain": [
       "Batches:   0%|          | 0/1 [00:00<?, ?it/s]"
      ]
     },
     "metadata": {},
     "output_type": "display_data"
    },
    {
     "data": {
      "application/vnd.jupyter.widget-view+json": {
       "model_id": "f930fc6c679c448ab251440b6b738ba7",
       "version_major": 2,
       "version_minor": 0
      },
      "text/plain": [
       "Batches:   0%|          | 0/1 [00:00<?, ?it/s]"
      ]
     },
     "metadata": {},
     "output_type": "display_data"
    },
    {
     "data": {
      "application/vnd.jupyter.widget-view+json": {
       "model_id": "fbea90b769bd48099456e4caf152a4de",
       "version_major": 2,
       "version_minor": 0
      },
      "text/plain": [
       "Batches:   0%|          | 0/1 [00:00<?, ?it/s]"
      ]
     },
     "metadata": {},
     "output_type": "display_data"
    },
    {
     "data": {
      "application/vnd.jupyter.widget-view+json": {
       "model_id": "ed272fa97a4046469a5af570f0b65c17",
       "version_major": 2,
       "version_minor": 0
      },
      "text/plain": [
       "Batches:   0%|          | 0/1 [00:00<?, ?it/s]"
      ]
     },
     "metadata": {},
     "output_type": "display_data"
    },
    {
     "data": {
      "application/vnd.jupyter.widget-view+json": {
       "model_id": "53a6711fbf304b99b90b2d80af2906ba",
       "version_major": 2,
       "version_minor": 0
      },
      "text/plain": [
       "Batches:   0%|          | 0/1 [00:00<?, ?it/s]"
      ]
     },
     "metadata": {},
     "output_type": "display_data"
    },
    {
     "data": {
      "application/vnd.jupyter.widget-view+json": {
       "model_id": "e42c8bfdae9c41b0b7259da1454258fc",
       "version_major": 2,
       "version_minor": 0
      },
      "text/plain": [
       "Batches:   0%|          | 0/1 [00:00<?, ?it/s]"
      ]
     },
     "metadata": {},
     "output_type": "display_data"
    },
    {
     "data": {
      "application/vnd.jupyter.widget-view+json": {
       "model_id": "ddd0ec37ba404102bc5399d5d953672a",
       "version_major": 2,
       "version_minor": 0
      },
      "text/plain": [
       "Batches:   0%|          | 0/1 [00:00<?, ?it/s]"
      ]
     },
     "metadata": {},
     "output_type": "display_data"
    },
    {
     "data": {
      "application/vnd.jupyter.widget-view+json": {
       "model_id": "3af777900eaa4a0d957b108316288a68",
       "version_major": 2,
       "version_minor": 0
      },
      "text/plain": [
       "Batches:   0%|          | 0/1 [00:00<?, ?it/s]"
      ]
     },
     "metadata": {},
     "output_type": "display_data"
    },
    {
     "data": {
      "application/vnd.jupyter.widget-view+json": {
       "model_id": "929f8f7efaac4e9f804f1bc285724188",
       "version_major": 2,
       "version_minor": 0
      },
      "text/plain": [
       "Batches:   0%|          | 0/1 [00:00<?, ?it/s]"
      ]
     },
     "metadata": {},
     "output_type": "display_data"
    },
    {
     "data": {
      "application/vnd.jupyter.widget-view+json": {
       "model_id": "d51a4474334c46198de33da23f5a9ac4",
       "version_major": 2,
       "version_minor": 0
      },
      "text/plain": [
       "Batches:   0%|          | 0/1 [00:00<?, ?it/s]"
      ]
     },
     "metadata": {},
     "output_type": "display_data"
    },
    {
     "data": {
      "application/vnd.jupyter.widget-view+json": {
       "model_id": "f15f07e840554105ad75d0bb07ddb837",
       "version_major": 2,
       "version_minor": 0
      },
      "text/plain": [
       "Batches:   0%|          | 0/1 [00:00<?, ?it/s]"
      ]
     },
     "metadata": {},
     "output_type": "display_data"
    },
    {
     "data": {
      "application/vnd.jupyter.widget-view+json": {
       "model_id": "58358a4d16424c59b5a1e2f1142b9798",
       "version_major": 2,
       "version_minor": 0
      },
      "text/plain": [
       "Batches:   0%|          | 0/1 [00:00<?, ?it/s]"
      ]
     },
     "metadata": {},
     "output_type": "display_data"
    },
    {
     "data": {
      "application/vnd.jupyter.widget-view+json": {
       "model_id": "9cbb63bba6c8454e884ad0340c161e9a",
       "version_major": 2,
       "version_minor": 0
      },
      "text/plain": [
       "Batches:   0%|          | 0/1 [00:00<?, ?it/s]"
      ]
     },
     "metadata": {},
     "output_type": "display_data"
    },
    {
     "data": {
      "application/vnd.jupyter.widget-view+json": {
       "model_id": "d15195e27d7f41199769d8aae77d5ca8",
       "version_major": 2,
       "version_minor": 0
      },
      "text/plain": [
       "Batches:   0%|          | 0/1 [00:00<?, ?it/s]"
      ]
     },
     "metadata": {},
     "output_type": "display_data"
    },
    {
     "data": {
      "application/vnd.jupyter.widget-view+json": {
       "model_id": "bb53a19e861846249f636d11b9ac33b8",
       "version_major": 2,
       "version_minor": 0
      },
      "text/plain": [
       "Batches:   0%|          | 0/1 [00:00<?, ?it/s]"
      ]
     },
     "metadata": {},
     "output_type": "display_data"
    },
    {
     "data": {
      "application/vnd.jupyter.widget-view+json": {
       "model_id": "71dd9b3538e344de86c1392320ad68a3",
       "version_major": 2,
       "version_minor": 0
      },
      "text/plain": [
       "Batches:   0%|          | 0/1 [00:00<?, ?it/s]"
      ]
     },
     "metadata": {},
     "output_type": "display_data"
    },
    {
     "data": {
      "application/vnd.jupyter.widget-view+json": {
       "model_id": "281c643d1aa84d19abf38f137244988a",
       "version_major": 2,
       "version_minor": 0
      },
      "text/plain": [
       "Batches:   0%|          | 0/1 [00:00<?, ?it/s]"
      ]
     },
     "metadata": {},
     "output_type": "display_data"
    },
    {
     "data": {
      "application/vnd.jupyter.widget-view+json": {
       "model_id": "4810a32d098d4fa3adaec04f95a491a5",
       "version_major": 2,
       "version_minor": 0
      },
      "text/plain": [
       "Batches:   0%|          | 0/1 [00:00<?, ?it/s]"
      ]
     },
     "metadata": {},
     "output_type": "display_data"
    },
    {
     "data": {
      "application/vnd.jupyter.widget-view+json": {
       "model_id": "61cb8cd2035346dcbc8da3ad9c32ce4a",
       "version_major": 2,
       "version_minor": 0
      },
      "text/plain": [
       "Batches:   0%|          | 0/1 [00:00<?, ?it/s]"
      ]
     },
     "metadata": {},
     "output_type": "display_data"
    },
    {
     "data": {
      "application/vnd.jupyter.widget-view+json": {
       "model_id": "32690edeedce4eb78d94a4d6b3559e3b",
       "version_major": 2,
       "version_minor": 0
      },
      "text/plain": [
       "Batches:   0%|          | 0/1 [00:00<?, ?it/s]"
      ]
     },
     "metadata": {},
     "output_type": "display_data"
    },
    {
     "data": {
      "application/vnd.jupyter.widget-view+json": {
       "model_id": "121e792b38194f1fbb3149a1148e9042",
       "version_major": 2,
       "version_minor": 0
      },
      "text/plain": [
       "Batches:   0%|          | 0/1 [00:00<?, ?it/s]"
      ]
     },
     "metadata": {},
     "output_type": "display_data"
    },
    {
     "data": {
      "application/vnd.jupyter.widget-view+json": {
       "model_id": "efa10a2f3fe64199ae13322e24910261",
       "version_major": 2,
       "version_minor": 0
      },
      "text/plain": [
       "Batches:   0%|          | 0/1 [00:00<?, ?it/s]"
      ]
     },
     "metadata": {},
     "output_type": "display_data"
    },
    {
     "data": {
      "application/vnd.jupyter.widget-view+json": {
       "model_id": "1f31c4fd0c2a4febb7f09203ca595d80",
       "version_major": 2,
       "version_minor": 0
      },
      "text/plain": [
       "Batches:   0%|          | 0/1 [00:00<?, ?it/s]"
      ]
     },
     "metadata": {},
     "output_type": "display_data"
    },
    {
     "data": {
      "application/vnd.jupyter.widget-view+json": {
       "model_id": "a3854524355b459faafffd51190b8903",
       "version_major": 2,
       "version_minor": 0
      },
      "text/plain": [
       "Batches:   0%|          | 0/1 [00:00<?, ?it/s]"
      ]
     },
     "metadata": {},
     "output_type": "display_data"
    },
    {
     "data": {
      "application/vnd.jupyter.widget-view+json": {
       "model_id": "2658de645aa044809163092806412b53",
       "version_major": 2,
       "version_minor": 0
      },
      "text/plain": [
       "Batches:   0%|          | 0/1 [00:00<?, ?it/s]"
      ]
     },
     "metadata": {},
     "output_type": "display_data"
    },
    {
     "data": {
      "application/vnd.jupyter.widget-view+json": {
       "model_id": "64f8fef8cc7b4fbaa7f78aea34fa3f07",
       "version_major": 2,
       "version_minor": 0
      },
      "text/plain": [
       "Batches:   0%|          | 0/1 [00:00<?, ?it/s]"
      ]
     },
     "metadata": {},
     "output_type": "display_data"
    },
    {
     "data": {
      "application/vnd.jupyter.widget-view+json": {
       "model_id": "abb3d10561df45769d8da5da4920ece3",
       "version_major": 2,
       "version_minor": 0
      },
      "text/plain": [
       "Batches:   0%|          | 0/1 [00:00<?, ?it/s]"
      ]
     },
     "metadata": {},
     "output_type": "display_data"
    },
    {
     "data": {
      "application/vnd.jupyter.widget-view+json": {
       "model_id": "dc60c4fc47924afba3f9f8dba7855ba1",
       "version_major": 2,
       "version_minor": 0
      },
      "text/plain": [
       "Batches:   0%|          | 0/1 [00:00<?, ?it/s]"
      ]
     },
     "metadata": {},
     "output_type": "display_data"
    },
    {
     "data": {
      "application/vnd.jupyter.widget-view+json": {
       "model_id": "fca0689f48b548dcbe62d8f41e41923e",
       "version_major": 2,
       "version_minor": 0
      },
      "text/plain": [
       "Batches:   0%|          | 0/1 [00:00<?, ?it/s]"
      ]
     },
     "metadata": {},
     "output_type": "display_data"
    },
    {
     "data": {
      "application/vnd.jupyter.widget-view+json": {
       "model_id": "55cf7868fa3f474f81ecac38adefadfd",
       "version_major": 2,
       "version_minor": 0
      },
      "text/plain": [
       "Batches:   0%|          | 0/1 [00:00<?, ?it/s]"
      ]
     },
     "metadata": {},
     "output_type": "display_data"
    },
    {
     "data": {
      "application/vnd.jupyter.widget-view+json": {
       "model_id": "d9e3f03e711c46d1b4d417a7f6b79687",
       "version_major": 2,
       "version_minor": 0
      },
      "text/plain": [
       "Batches:   0%|          | 0/1 [00:00<?, ?it/s]"
      ]
     },
     "metadata": {},
     "output_type": "display_data"
    },
    {
     "data": {
      "application/vnd.jupyter.widget-view+json": {
       "model_id": "24a50df7bade42c8874587c84c29fb0a",
       "version_major": 2,
       "version_minor": 0
      },
      "text/plain": [
       "Batches:   0%|          | 0/1 [00:00<?, ?it/s]"
      ]
     },
     "metadata": {},
     "output_type": "display_data"
    },
    {
     "data": {
      "application/vnd.jupyter.widget-view+json": {
       "model_id": "29f653b755944989bf9a5b4fb983fa22",
       "version_major": 2,
       "version_minor": 0
      },
      "text/plain": [
       "Batches:   0%|          | 0/1 [00:00<?, ?it/s]"
      ]
     },
     "metadata": {},
     "output_type": "display_data"
    },
    {
     "data": {
      "application/vnd.jupyter.widget-view+json": {
       "model_id": "0068209a67d741f3963f63bbe99b8a4e",
       "version_major": 2,
       "version_minor": 0
      },
      "text/plain": [
       "Batches:   0%|          | 0/1 [00:00<?, ?it/s]"
      ]
     },
     "metadata": {},
     "output_type": "display_data"
    },
    {
     "data": {
      "application/vnd.jupyter.widget-view+json": {
       "model_id": "39ee637375cb43a7a73a76307f44e927",
       "version_major": 2,
       "version_minor": 0
      },
      "text/plain": [
       "Batches:   0%|          | 0/1 [00:00<?, ?it/s]"
      ]
     },
     "metadata": {},
     "output_type": "display_data"
    },
    {
     "data": {
      "application/vnd.jupyter.widget-view+json": {
       "model_id": "ec84cf4dbc6a4ef4b829f2a5f09e3088",
       "version_major": 2,
       "version_minor": 0
      },
      "text/plain": [
       "Batches:   0%|          | 0/1 [00:00<?, ?it/s]"
      ]
     },
     "metadata": {},
     "output_type": "display_data"
    },
    {
     "data": {
      "application/vnd.jupyter.widget-view+json": {
       "model_id": "e8a50303af85467f87da270a51fe1e6a",
       "version_major": 2,
       "version_minor": 0
      },
      "text/plain": [
       "Batches:   0%|          | 0/1 [00:00<?, ?it/s]"
      ]
     },
     "metadata": {},
     "output_type": "display_data"
    },
    {
     "data": {
      "application/vnd.jupyter.widget-view+json": {
       "model_id": "7385a5313a31469fa91efd27c422f465",
       "version_major": 2,
       "version_minor": 0
      },
      "text/plain": [
       "Batches:   0%|          | 0/1 [00:00<?, ?it/s]"
      ]
     },
     "metadata": {},
     "output_type": "display_data"
    },
    {
     "data": {
      "application/vnd.jupyter.widget-view+json": {
       "model_id": "185e997b38b24f92a6a4f9d9224c3833",
       "version_major": 2,
       "version_minor": 0
      },
      "text/plain": [
       "Batches:   0%|          | 0/1 [00:00<?, ?it/s]"
      ]
     },
     "metadata": {},
     "output_type": "display_data"
    },
    {
     "data": {
      "application/vnd.jupyter.widget-view+json": {
       "model_id": "1c8ea20fbc1e4fa9908d241928ad3ff5",
       "version_major": 2,
       "version_minor": 0
      },
      "text/plain": [
       "Batches:   0%|          | 0/1 [00:00<?, ?it/s]"
      ]
     },
     "metadata": {},
     "output_type": "display_data"
    },
    {
     "data": {
      "application/vnd.jupyter.widget-view+json": {
       "model_id": "b62e97e842354d44a2bd8c5a3e76120b",
       "version_major": 2,
       "version_minor": 0
      },
      "text/plain": [
       "Batches:   0%|          | 0/1 [00:00<?, ?it/s]"
      ]
     },
     "metadata": {},
     "output_type": "display_data"
    },
    {
     "data": {
      "application/vnd.jupyter.widget-view+json": {
       "model_id": "b91943550ace40f88190e6c2f82991c8",
       "version_major": 2,
       "version_minor": 0
      },
      "text/plain": [
       "Batches:   0%|          | 0/1 [00:00<?, ?it/s]"
      ]
     },
     "metadata": {},
     "output_type": "display_data"
    },
    {
     "data": {
      "application/vnd.jupyter.widget-view+json": {
       "model_id": "d7ff67aba64a48bca1760a550a562057",
       "version_major": 2,
       "version_minor": 0
      },
      "text/plain": [
       "Batches:   0%|          | 0/1 [00:00<?, ?it/s]"
      ]
     },
     "metadata": {},
     "output_type": "display_data"
    },
    {
     "data": {
      "application/vnd.jupyter.widget-view+json": {
       "model_id": "0e3d000d0a8745cc8ddfd5dacf0bd70e",
       "version_major": 2,
       "version_minor": 0
      },
      "text/plain": [
       "Batches:   0%|          | 0/1 [00:00<?, ?it/s]"
      ]
     },
     "metadata": {},
     "output_type": "display_data"
    },
    {
     "data": {
      "application/vnd.jupyter.widget-view+json": {
       "model_id": "83874f6a0e5d430d9a28ffda1eeacc53",
       "version_major": 2,
       "version_minor": 0
      },
      "text/plain": [
       "Batches:   0%|          | 0/1 [00:00<?, ?it/s]"
      ]
     },
     "metadata": {},
     "output_type": "display_data"
    },
    {
     "data": {
      "application/vnd.jupyter.widget-view+json": {
       "model_id": "385ada0ed75649a9b9bc701e467b986f",
       "version_major": 2,
       "version_minor": 0
      },
      "text/plain": [
       "Batches:   0%|          | 0/1 [00:00<?, ?it/s]"
      ]
     },
     "metadata": {},
     "output_type": "display_data"
    },
    {
     "data": {
      "application/vnd.jupyter.widget-view+json": {
       "model_id": "005039c6937e4d41a325e47d7f89fb13",
       "version_major": 2,
       "version_minor": 0
      },
      "text/plain": [
       "Batches:   0%|          | 0/1 [00:00<?, ?it/s]"
      ]
     },
     "metadata": {},
     "output_type": "display_data"
    },
    {
     "data": {
      "application/vnd.jupyter.widget-view+json": {
       "model_id": "df501779455448c8bf3336691352d284",
       "version_major": 2,
       "version_minor": 0
      },
      "text/plain": [
       "Batches:   0%|          | 0/1 [00:00<?, ?it/s]"
      ]
     },
     "metadata": {},
     "output_type": "display_data"
    },
    {
     "data": {
      "application/vnd.jupyter.widget-view+json": {
       "model_id": "c7fae5b534a148a89544dd3d2612a667",
       "version_major": 2,
       "version_minor": 0
      },
      "text/plain": [
       "Batches:   0%|          | 0/1 [00:00<?, ?it/s]"
      ]
     },
     "metadata": {},
     "output_type": "display_data"
    },
    {
     "data": {
      "application/vnd.jupyter.widget-view+json": {
       "model_id": "3726bdb733ed4fe0861550fa200d198f",
       "version_major": 2,
       "version_minor": 0
      },
      "text/plain": [
       "Batches:   0%|          | 0/1 [00:00<?, ?it/s]"
      ]
     },
     "metadata": {},
     "output_type": "display_data"
    },
    {
     "data": {
      "application/vnd.jupyter.widget-view+json": {
       "model_id": "df4cb3494f48408cb2a01d783cdc29d0",
       "version_major": 2,
       "version_minor": 0
      },
      "text/plain": [
       "Batches:   0%|          | 0/1 [00:00<?, ?it/s]"
      ]
     },
     "metadata": {},
     "output_type": "display_data"
    },
    {
     "data": {
      "application/vnd.jupyter.widget-view+json": {
       "model_id": "9226ce0572844f1a9b2217166155a12c",
       "version_major": 2,
       "version_minor": 0
      },
      "text/plain": [
       "Batches:   0%|          | 0/1 [00:00<?, ?it/s]"
      ]
     },
     "metadata": {},
     "output_type": "display_data"
    },
    {
     "data": {
      "application/vnd.jupyter.widget-view+json": {
       "model_id": "d37c3d61b37e4451991961551d401cae",
       "version_major": 2,
       "version_minor": 0
      },
      "text/plain": [
       "Batches:   0%|          | 0/1 [00:00<?, ?it/s]"
      ]
     },
     "metadata": {},
     "output_type": "display_data"
    },
    {
     "data": {
      "application/vnd.jupyter.widget-view+json": {
       "model_id": "176957be5b05443c9aa9e0078ae35b5d",
       "version_major": 2,
       "version_minor": 0
      },
      "text/plain": [
       "Batches:   0%|          | 0/1 [00:00<?, ?it/s]"
      ]
     },
     "metadata": {},
     "output_type": "display_data"
    },
    {
     "data": {
      "application/vnd.jupyter.widget-view+json": {
       "model_id": "c7907d7bcd4d49f48e8c7ee29285a92a",
       "version_major": 2,
       "version_minor": 0
      },
      "text/plain": [
       "Batches:   0%|          | 0/1 [00:00<?, ?it/s]"
      ]
     },
     "metadata": {},
     "output_type": "display_data"
    },
    {
     "data": {
      "application/vnd.jupyter.widget-view+json": {
       "model_id": "cc490dd0090f4cc4824cc32594e77f17",
       "version_major": 2,
       "version_minor": 0
      },
      "text/plain": [
       "Batches:   0%|          | 0/1 [00:00<?, ?it/s]"
      ]
     },
     "metadata": {},
     "output_type": "display_data"
    },
    {
     "data": {
      "application/vnd.jupyter.widget-view+json": {
       "model_id": "d0264cc53c5e468bab99f56662bdad96",
       "version_major": 2,
       "version_minor": 0
      },
      "text/plain": [
       "Batches:   0%|          | 0/1 [00:00<?, ?it/s]"
      ]
     },
     "metadata": {},
     "output_type": "display_data"
    },
    {
     "data": {
      "application/vnd.jupyter.widget-view+json": {
       "model_id": "d7afaa95f373448e8ee952f6c480419c",
       "version_major": 2,
       "version_minor": 0
      },
      "text/plain": [
       "Batches:   0%|          | 0/1 [00:00<?, ?it/s]"
      ]
     },
     "metadata": {},
     "output_type": "display_data"
    },
    {
     "data": {
      "application/vnd.jupyter.widget-view+json": {
       "model_id": "6e46f9625c304a7886eb24e44f2384c9",
       "version_major": 2,
       "version_minor": 0
      },
      "text/plain": [
       "Batches:   0%|          | 0/1 [00:00<?, ?it/s]"
      ]
     },
     "metadata": {},
     "output_type": "display_data"
    },
    {
     "data": {
      "application/vnd.jupyter.widget-view+json": {
       "model_id": "a2f3493152ea46f8bdb214c33faf9344",
       "version_major": 2,
       "version_minor": 0
      },
      "text/plain": [
       "Batches:   0%|          | 0/1 [00:00<?, ?it/s]"
      ]
     },
     "metadata": {},
     "output_type": "display_data"
    },
    {
     "data": {
      "application/vnd.jupyter.widget-view+json": {
       "model_id": "a9a2a79e87d247c599d6446457268d87",
       "version_major": 2,
       "version_minor": 0
      },
      "text/plain": [
       "Batches:   0%|          | 0/1 [00:00<?, ?it/s]"
      ]
     },
     "metadata": {},
     "output_type": "display_data"
    },
    {
     "data": {
      "application/vnd.jupyter.widget-view+json": {
       "model_id": "53028aa260524d7688b021356943ef37",
       "version_major": 2,
       "version_minor": 0
      },
      "text/plain": [
       "Batches:   0%|          | 0/1 [00:00<?, ?it/s]"
      ]
     },
     "metadata": {},
     "output_type": "display_data"
    },
    {
     "data": {
      "application/vnd.jupyter.widget-view+json": {
       "model_id": "726b08e3aa1a4a5a8f914ab1283d3cae",
       "version_major": 2,
       "version_minor": 0
      },
      "text/plain": [
       "Batches:   0%|          | 0/1 [00:00<?, ?it/s]"
      ]
     },
     "metadata": {},
     "output_type": "display_data"
    },
    {
     "data": {
      "application/vnd.jupyter.widget-view+json": {
       "model_id": "b7a5a20821d44dc88fb61ee32a3a9bfc",
       "version_major": 2,
       "version_minor": 0
      },
      "text/plain": [
       "Batches:   0%|          | 0/1 [00:00<?, ?it/s]"
      ]
     },
     "metadata": {},
     "output_type": "display_data"
    },
    {
     "data": {
      "application/vnd.jupyter.widget-view+json": {
       "model_id": "872def2b61f04b499ed5d60f53612e84",
       "version_major": 2,
       "version_minor": 0
      },
      "text/plain": [
       "Batches:   0%|          | 0/1 [00:00<?, ?it/s]"
      ]
     },
     "metadata": {},
     "output_type": "display_data"
    },
    {
     "data": {
      "application/vnd.jupyter.widget-view+json": {
       "model_id": "2fb39479a42547b88736a96df67a3d47",
       "version_major": 2,
       "version_minor": 0
      },
      "text/plain": [
       "Batches:   0%|          | 0/1 [00:00<?, ?it/s]"
      ]
     },
     "metadata": {},
     "output_type": "display_data"
    },
    {
     "data": {
      "application/vnd.jupyter.widget-view+json": {
       "model_id": "93b77cecd18b42e0aae80b60f3e99c60",
       "version_major": 2,
       "version_minor": 0
      },
      "text/plain": [
       "Batches:   0%|          | 0/1 [00:00<?, ?it/s]"
      ]
     },
     "metadata": {},
     "output_type": "display_data"
    },
    {
     "data": {
      "application/vnd.jupyter.widget-view+json": {
       "model_id": "8d98d555bb3748feb8409851e4e0d5a5",
       "version_major": 2,
       "version_minor": 0
      },
      "text/plain": [
       "Batches:   0%|          | 0/1 [00:00<?, ?it/s]"
      ]
     },
     "metadata": {},
     "output_type": "display_data"
    },
    {
     "data": {
      "application/vnd.jupyter.widget-view+json": {
       "model_id": "0bf152572a4b4cb08c5d3513fcd94afc",
       "version_major": 2,
       "version_minor": 0
      },
      "text/plain": [
       "Batches:   0%|          | 0/1 [00:00<?, ?it/s]"
      ]
     },
     "metadata": {},
     "output_type": "display_data"
    },
    {
     "data": {
      "application/vnd.jupyter.widget-view+json": {
       "model_id": "33b1e9b6ea1a4cb3b4fba68f042c0210",
       "version_major": 2,
       "version_minor": 0
      },
      "text/plain": [
       "Batches:   0%|          | 0/1 [00:00<?, ?it/s]"
      ]
     },
     "metadata": {},
     "output_type": "display_data"
    },
    {
     "data": {
      "application/vnd.jupyter.widget-view+json": {
       "model_id": "d320910f2d9e4f14a306aa3bcd379e01",
       "version_major": 2,
       "version_minor": 0
      },
      "text/plain": [
       "Batches:   0%|          | 0/1 [00:00<?, ?it/s]"
      ]
     },
     "metadata": {},
     "output_type": "display_data"
    },
    {
     "data": {
      "application/vnd.jupyter.widget-view+json": {
       "model_id": "80f78db6a9504cbcbf318c0c50f009ad",
       "version_major": 2,
       "version_minor": 0
      },
      "text/plain": [
       "Batches:   0%|          | 0/1 [00:00<?, ?it/s]"
      ]
     },
     "metadata": {},
     "output_type": "display_data"
    },
    {
     "data": {
      "application/vnd.jupyter.widget-view+json": {
       "model_id": "24173d102c1b494da4e68cf15f4883d9",
       "version_major": 2,
       "version_minor": 0
      },
      "text/plain": [
       "Batches:   0%|          | 0/1 [00:00<?, ?it/s]"
      ]
     },
     "metadata": {},
     "output_type": "display_data"
    },
    {
     "data": {
      "application/vnd.jupyter.widget-view+json": {
       "model_id": "08917efb4d8047029055b6907d6da732",
       "version_major": 2,
       "version_minor": 0
      },
      "text/plain": [
       "Batches:   0%|          | 0/1 [00:00<?, ?it/s]"
      ]
     },
     "metadata": {},
     "output_type": "display_data"
    },
    {
     "data": {
      "application/vnd.jupyter.widget-view+json": {
       "model_id": "0e620d69306143729b636f782d993db5",
       "version_major": 2,
       "version_minor": 0
      },
      "text/plain": [
       "Batches:   0%|          | 0/1 [00:00<?, ?it/s]"
      ]
     },
     "metadata": {},
     "output_type": "display_data"
    },
    {
     "data": {
      "application/vnd.jupyter.widget-view+json": {
       "model_id": "d7ff8e9c6ea24a85bebb5a1d73d11610",
       "version_major": 2,
       "version_minor": 0
      },
      "text/plain": [
       "Batches:   0%|          | 0/1 [00:00<?, ?it/s]"
      ]
     },
     "metadata": {},
     "output_type": "display_data"
    },
    {
     "data": {
      "application/vnd.jupyter.widget-view+json": {
       "model_id": "63ad95a93ce746e387d7dc18eb6db291",
       "version_major": 2,
       "version_minor": 0
      },
      "text/plain": [
       "Batches:   0%|          | 0/1 [00:00<?, ?it/s]"
      ]
     },
     "metadata": {},
     "output_type": "display_data"
    },
    {
     "data": {
      "application/vnd.jupyter.widget-view+json": {
       "model_id": "315db0db7fdb4348b985e3956feee76c",
       "version_major": 2,
       "version_minor": 0
      },
      "text/plain": [
       "Batches:   0%|          | 0/1 [00:00<?, ?it/s]"
      ]
     },
     "metadata": {},
     "output_type": "display_data"
    },
    {
     "data": {
      "application/vnd.jupyter.widget-view+json": {
       "model_id": "7a38c76eb767417a941f20414971e736",
       "version_major": 2,
       "version_minor": 0
      },
      "text/plain": [
       "Batches:   0%|          | 0/1 [00:00<?, ?it/s]"
      ]
     },
     "metadata": {},
     "output_type": "display_data"
    },
    {
     "data": {
      "application/vnd.jupyter.widget-view+json": {
       "model_id": "d72b0724946d4f4a8757d74be5531bd3",
       "version_major": 2,
       "version_minor": 0
      },
      "text/plain": [
       "Batches:   0%|          | 0/1 [00:00<?, ?it/s]"
      ]
     },
     "metadata": {},
     "output_type": "display_data"
    },
    {
     "data": {
      "application/vnd.jupyter.widget-view+json": {
       "model_id": "d229950e6b80442c9a6be5ad229170f8",
       "version_major": 2,
       "version_minor": 0
      },
      "text/plain": [
       "Batches:   0%|          | 0/1 [00:00<?, ?it/s]"
      ]
     },
     "metadata": {},
     "output_type": "display_data"
    },
    {
     "data": {
      "application/vnd.jupyter.widget-view+json": {
       "model_id": "fc065479395a439897a2f949dbeaeedf",
       "version_major": 2,
       "version_minor": 0
      },
      "text/plain": [
       "Batches:   0%|          | 0/1 [00:00<?, ?it/s]"
      ]
     },
     "metadata": {},
     "output_type": "display_data"
    },
    {
     "data": {
      "application/vnd.jupyter.widget-view+json": {
       "model_id": "4774fb1e66d04745b0412e66e8a6da4e",
       "version_major": 2,
       "version_minor": 0
      },
      "text/plain": [
       "Batches:   0%|          | 0/1 [00:00<?, ?it/s]"
      ]
     },
     "metadata": {},
     "output_type": "display_data"
    },
    {
     "data": {
      "application/vnd.jupyter.widget-view+json": {
       "model_id": "bff248fc78df47d0b037225b05e5b3f7",
       "version_major": 2,
       "version_minor": 0
      },
      "text/plain": [
       "Batches:   0%|          | 0/1 [00:00<?, ?it/s]"
      ]
     },
     "metadata": {},
     "output_type": "display_data"
    },
    {
     "data": {
      "application/vnd.jupyter.widget-view+json": {
       "model_id": "1b981dfdc87943adafc852bef549010c",
       "version_major": 2,
       "version_minor": 0
      },
      "text/plain": [
       "Batches:   0%|          | 0/1 [00:00<?, ?it/s]"
      ]
     },
     "metadata": {},
     "output_type": "display_data"
    },
    {
     "data": {
      "application/vnd.jupyter.widget-view+json": {
       "model_id": "1b429734cf214422a475546d1717b7d7",
       "version_major": 2,
       "version_minor": 0
      },
      "text/plain": [
       "Batches:   0%|          | 0/1 [00:00<?, ?it/s]"
      ]
     },
     "metadata": {},
     "output_type": "display_data"
    },
    {
     "data": {
      "application/vnd.jupyter.widget-view+json": {
       "model_id": "c0dd4e9f08ef487d960106622e750d4d",
       "version_major": 2,
       "version_minor": 0
      },
      "text/plain": [
       "Batches:   0%|          | 0/1 [00:00<?, ?it/s]"
      ]
     },
     "metadata": {},
     "output_type": "display_data"
    },
    {
     "data": {
      "application/vnd.jupyter.widget-view+json": {
       "model_id": "4ac4f8a1b781475cae7ab7ac052709fd",
       "version_major": 2,
       "version_minor": 0
      },
      "text/plain": [
       "Batches:   0%|          | 0/1 [00:00<?, ?it/s]"
      ]
     },
     "metadata": {},
     "output_type": "display_data"
    },
    {
     "data": {
      "application/vnd.jupyter.widget-view+json": {
       "model_id": "95f1e364399544f5aef2589279ff81d0",
       "version_major": 2,
       "version_minor": 0
      },
      "text/plain": [
       "Batches:   0%|          | 0/1 [00:00<?, ?it/s]"
      ]
     },
     "metadata": {},
     "output_type": "display_data"
    },
    {
     "data": {
      "application/vnd.jupyter.widget-view+json": {
       "model_id": "5b208e0eec2646cbb4c677631742d29b",
       "version_major": 2,
       "version_minor": 0
      },
      "text/plain": [
       "Batches:   0%|          | 0/1 [00:00<?, ?it/s]"
      ]
     },
     "metadata": {},
     "output_type": "display_data"
    },
    {
     "data": {
      "application/vnd.jupyter.widget-view+json": {
       "model_id": "ce9703ad92584e588872d968df3b963b",
       "version_major": 2,
       "version_minor": 0
      },
      "text/plain": [
       "Batches:   0%|          | 0/1 [00:00<?, ?it/s]"
      ]
     },
     "metadata": {},
     "output_type": "display_data"
    },
    {
     "data": {
      "application/vnd.jupyter.widget-view+json": {
       "model_id": "3c1740fa28554a1ea960b5ca1497f7de",
       "version_major": 2,
       "version_minor": 0
      },
      "text/plain": [
       "Batches:   0%|          | 0/1 [00:00<?, ?it/s]"
      ]
     },
     "metadata": {},
     "output_type": "display_data"
    },
    {
     "data": {
      "application/vnd.jupyter.widget-view+json": {
       "model_id": "e3fa287c0d5d42be8fec286a692abe60",
       "version_major": 2,
       "version_minor": 0
      },
      "text/plain": [
       "Batches:   0%|          | 0/1 [00:00<?, ?it/s]"
      ]
     },
     "metadata": {},
     "output_type": "display_data"
    },
    {
     "data": {
      "application/vnd.jupyter.widget-view+json": {
       "model_id": "898820f8acdb47cbbead0d47ca2b573f",
       "version_major": 2,
       "version_minor": 0
      },
      "text/plain": [
       "Batches:   0%|          | 0/1 [00:00<?, ?it/s]"
      ]
     },
     "metadata": {},
     "output_type": "display_data"
    },
    {
     "data": {
      "application/vnd.jupyter.widget-view+json": {
       "model_id": "e6ef69a2f1c045569fc14a511f4bceef",
       "version_major": 2,
       "version_minor": 0
      },
      "text/plain": [
       "Batches:   0%|          | 0/1 [00:00<?, ?it/s]"
      ]
     },
     "metadata": {},
     "output_type": "display_data"
    },
    {
     "data": {
      "application/vnd.jupyter.widget-view+json": {
       "model_id": "8be7620fb6574d138a00a0698478fa92",
       "version_major": 2,
       "version_minor": 0
      },
      "text/plain": [
       "Batches:   0%|          | 0/1 [00:00<?, ?it/s]"
      ]
     },
     "metadata": {},
     "output_type": "display_data"
    },
    {
     "data": {
      "application/vnd.jupyter.widget-view+json": {
       "model_id": "e4259a579fd243aca9e922f729f86e6c",
       "version_major": 2,
       "version_minor": 0
      },
      "text/plain": [
       "Batches:   0%|          | 0/1 [00:00<?, ?it/s]"
      ]
     },
     "metadata": {},
     "output_type": "display_data"
    },
    {
     "data": {
      "application/vnd.jupyter.widget-view+json": {
       "model_id": "b769112ce7b6496d8ea3626124b899e5",
       "version_major": 2,
       "version_minor": 0
      },
      "text/plain": [
       "Batches:   0%|          | 0/1 [00:00<?, ?it/s]"
      ]
     },
     "metadata": {},
     "output_type": "display_data"
    },
    {
     "data": {
      "application/vnd.jupyter.widget-view+json": {
       "model_id": "83a8dda07ccb4fa8b2c6e89bbe2deeef",
       "version_major": 2,
       "version_minor": 0
      },
      "text/plain": [
       "Batches:   0%|          | 0/1 [00:00<?, ?it/s]"
      ]
     },
     "metadata": {},
     "output_type": "display_data"
    },
    {
     "data": {
      "application/vnd.jupyter.widget-view+json": {
       "model_id": "b9205e3a0e584869819cd4176046ed93",
       "version_major": 2,
       "version_minor": 0
      },
      "text/plain": [
       "Batches:   0%|          | 0/1 [00:00<?, ?it/s]"
      ]
     },
     "metadata": {},
     "output_type": "display_data"
    },
    {
     "data": {
      "application/vnd.jupyter.widget-view+json": {
       "model_id": "533964e94911472496f79807082613ee",
       "version_major": 2,
       "version_minor": 0
      },
      "text/plain": [
       "Batches:   0%|          | 0/1 [00:00<?, ?it/s]"
      ]
     },
     "metadata": {},
     "output_type": "display_data"
    },
    {
     "data": {
      "application/vnd.jupyter.widget-view+json": {
       "model_id": "c30f8a6d9a5743aca3a08dc241884496",
       "version_major": 2,
       "version_minor": 0
      },
      "text/plain": [
       "Batches:   0%|          | 0/1 [00:00<?, ?it/s]"
      ]
     },
     "metadata": {},
     "output_type": "display_data"
    },
    {
     "data": {
      "application/vnd.jupyter.widget-view+json": {
       "model_id": "60d5dab185ac495599889fab49d4be61",
       "version_major": 2,
       "version_minor": 0
      },
      "text/plain": [
       "Batches:   0%|          | 0/1 [00:00<?, ?it/s]"
      ]
     },
     "metadata": {},
     "output_type": "display_data"
    },
    {
     "data": {
      "application/vnd.jupyter.widget-view+json": {
       "model_id": "1d82165dce124d18810d811c2658203c",
       "version_major": 2,
       "version_minor": 0
      },
      "text/plain": [
       "Batches:   0%|          | 0/1 [00:00<?, ?it/s]"
      ]
     },
     "metadata": {},
     "output_type": "display_data"
    },
    {
     "data": {
      "application/vnd.jupyter.widget-view+json": {
       "model_id": "b1705ca60fa84b0e85445e4f65406ab4",
       "version_major": 2,
       "version_minor": 0
      },
      "text/plain": [
       "Batches:   0%|          | 0/1 [00:00<?, ?it/s]"
      ]
     },
     "metadata": {},
     "output_type": "display_data"
    },
    {
     "data": {
      "application/vnd.jupyter.widget-view+json": {
       "model_id": "8b3d3b955b8b47468462efebd147e2a0",
       "version_major": 2,
       "version_minor": 0
      },
      "text/plain": [
       "Batches:   0%|          | 0/1 [00:00<?, ?it/s]"
      ]
     },
     "metadata": {},
     "output_type": "display_data"
    },
    {
     "data": {
      "application/vnd.jupyter.widget-view+json": {
       "model_id": "3758bb5c688e4a758c11f71e5e76bff5",
       "version_major": 2,
       "version_minor": 0
      },
      "text/plain": [
       "Batches:   0%|          | 0/1 [00:00<?, ?it/s]"
      ]
     },
     "metadata": {},
     "output_type": "display_data"
    },
    {
     "data": {
      "application/vnd.jupyter.widget-view+json": {
       "model_id": "4af5693c5d3240f0bb3a98f5f6e8a7b1",
       "version_major": 2,
       "version_minor": 0
      },
      "text/plain": [
       "Batches:   0%|          | 0/1 [00:00<?, ?it/s]"
      ]
     },
     "metadata": {},
     "output_type": "display_data"
    },
    {
     "data": {
      "application/vnd.jupyter.widget-view+json": {
       "model_id": "1f2ad790103a4e76813ca268f112600f",
       "version_major": 2,
       "version_minor": 0
      },
      "text/plain": [
       "Batches:   0%|          | 0/1 [00:00<?, ?it/s]"
      ]
     },
     "metadata": {},
     "output_type": "display_data"
    },
    {
     "data": {
      "application/vnd.jupyter.widget-view+json": {
       "model_id": "1107a39b7ba74fd1b95d2562bc65c092",
       "version_major": 2,
       "version_minor": 0
      },
      "text/plain": [
       "Batches:   0%|          | 0/1 [00:00<?, ?it/s]"
      ]
     },
     "metadata": {},
     "output_type": "display_data"
    },
    {
     "data": {
      "application/vnd.jupyter.widget-view+json": {
       "model_id": "bf6421b32bda4e5696a7a9b706111c2e",
       "version_major": 2,
       "version_minor": 0
      },
      "text/plain": [
       "Batches:   0%|          | 0/1 [00:00<?, ?it/s]"
      ]
     },
     "metadata": {},
     "output_type": "display_data"
    },
    {
     "data": {
      "application/vnd.jupyter.widget-view+json": {
       "model_id": "96ce7013d62546b5a16d7ecd50f97b74",
       "version_major": 2,
       "version_minor": 0
      },
      "text/plain": [
       "Batches:   0%|          | 0/1 [00:00<?, ?it/s]"
      ]
     },
     "metadata": {},
     "output_type": "display_data"
    },
    {
     "data": {
      "application/vnd.jupyter.widget-view+json": {
       "model_id": "fd4a640d10a44f83884316dd94af5656",
       "version_major": 2,
       "version_minor": 0
      },
      "text/plain": [
       "Batches:   0%|          | 0/1 [00:00<?, ?it/s]"
      ]
     },
     "metadata": {},
     "output_type": "display_data"
    },
    {
     "data": {
      "application/vnd.jupyter.widget-view+json": {
       "model_id": "0c26bb3ca76841279d67a67cee000fae",
       "version_major": 2,
       "version_minor": 0
      },
      "text/plain": [
       "Batches:   0%|          | 0/1 [00:00<?, ?it/s]"
      ]
     },
     "metadata": {},
     "output_type": "display_data"
    },
    {
     "data": {
      "application/vnd.jupyter.widget-view+json": {
       "model_id": "40fdeb31050c488fac91fd2aab9d21f3",
       "version_major": 2,
       "version_minor": 0
      },
      "text/plain": [
       "Batches:   0%|          | 0/1 [00:00<?, ?it/s]"
      ]
     },
     "metadata": {},
     "output_type": "display_data"
    },
    {
     "data": {
      "application/vnd.jupyter.widget-view+json": {
       "model_id": "2983ff98e4444273bfa2f7cc184b6f11",
       "version_major": 2,
       "version_minor": 0
      },
      "text/plain": [
       "Batches:   0%|          | 0/1 [00:00<?, ?it/s]"
      ]
     },
     "metadata": {},
     "output_type": "display_data"
    },
    {
     "data": {
      "application/vnd.jupyter.widget-view+json": {
       "model_id": "773d7552cadd4074ac3fffcfdfd377f3",
       "version_major": 2,
       "version_minor": 0
      },
      "text/plain": [
       "Batches:   0%|          | 0/1 [00:00<?, ?it/s]"
      ]
     },
     "metadata": {},
     "output_type": "display_data"
    },
    {
     "data": {
      "application/vnd.jupyter.widget-view+json": {
       "model_id": "28d666e32a384a52b9d4a186ce87c1b3",
       "version_major": 2,
       "version_minor": 0
      },
      "text/plain": [
       "Batches:   0%|          | 0/1 [00:00<?, ?it/s]"
      ]
     },
     "metadata": {},
     "output_type": "display_data"
    },
    {
     "data": {
      "application/vnd.jupyter.widget-view+json": {
       "model_id": "b2f920a8dc1845c294e67b13dfce9a4e",
       "version_major": 2,
       "version_minor": 0
      },
      "text/plain": [
       "Batches:   0%|          | 0/1 [00:00<?, ?it/s]"
      ]
     },
     "metadata": {},
     "output_type": "display_data"
    },
    {
     "data": {
      "application/vnd.jupyter.widget-view+json": {
       "model_id": "5a6315aae88e45e284a2f0ccd0b95ce6",
       "version_major": 2,
       "version_minor": 0
      },
      "text/plain": [
       "Batches:   0%|          | 0/1 [00:00<?, ?it/s]"
      ]
     },
     "metadata": {},
     "output_type": "display_data"
    },
    {
     "data": {
      "application/vnd.jupyter.widget-view+json": {
       "model_id": "04d3fe0d204240e4b3dbafe8f3643d8e",
       "version_major": 2,
       "version_minor": 0
      },
      "text/plain": [
       "Batches:   0%|          | 0/1 [00:00<?, ?it/s]"
      ]
     },
     "metadata": {},
     "output_type": "display_data"
    },
    {
     "data": {
      "application/vnd.jupyter.widget-view+json": {
       "model_id": "008dd8e6b4e84747b06a2c7d304bc747",
       "version_major": 2,
       "version_minor": 0
      },
      "text/plain": [
       "Batches:   0%|          | 0/1 [00:00<?, ?it/s]"
      ]
     },
     "metadata": {},
     "output_type": "display_data"
    },
    {
     "data": {
      "application/vnd.jupyter.widget-view+json": {
       "model_id": "e4f4bfdd647948258bbeb89d0daeac90",
       "version_major": 2,
       "version_minor": 0
      },
      "text/plain": [
       "Batches:   0%|          | 0/1 [00:00<?, ?it/s]"
      ]
     },
     "metadata": {},
     "output_type": "display_data"
    },
    {
     "data": {
      "application/vnd.jupyter.widget-view+json": {
       "model_id": "749d9374b0f149f1a0c319d98d4ebfbd",
       "version_major": 2,
       "version_minor": 0
      },
      "text/plain": [
       "Batches:   0%|          | 0/1 [00:00<?, ?it/s]"
      ]
     },
     "metadata": {},
     "output_type": "display_data"
    },
    {
     "data": {
      "application/vnd.jupyter.widget-view+json": {
       "model_id": "62e1aed313314c25927ba4ba556d803d",
       "version_major": 2,
       "version_minor": 0
      },
      "text/plain": [
       "Batches:   0%|          | 0/1 [00:00<?, ?it/s]"
      ]
     },
     "metadata": {},
     "output_type": "display_data"
    },
    {
     "data": {
      "application/vnd.jupyter.widget-view+json": {
       "model_id": "9bb205db9891479faf2033d62d0d0e4b",
       "version_major": 2,
       "version_minor": 0
      },
      "text/plain": [
       "Batches:   0%|          | 0/1 [00:00<?, ?it/s]"
      ]
     },
     "metadata": {},
     "output_type": "display_data"
    },
    {
     "data": {
      "application/vnd.jupyter.widget-view+json": {
       "model_id": "cd449835290a4c53a553579279986126",
       "version_major": 2,
       "version_minor": 0
      },
      "text/plain": [
       "Batches:   0%|          | 0/1 [00:00<?, ?it/s]"
      ]
     },
     "metadata": {},
     "output_type": "display_data"
    },
    {
     "data": {
      "application/vnd.jupyter.widget-view+json": {
       "model_id": "015027055b24457886f2d81cf92effce",
       "version_major": 2,
       "version_minor": 0
      },
      "text/plain": [
       "Batches:   0%|          | 0/1 [00:00<?, ?it/s]"
      ]
     },
     "metadata": {},
     "output_type": "display_data"
    },
    {
     "data": {
      "application/vnd.jupyter.widget-view+json": {
       "model_id": "2c9f1955c1e64164a51976b420803ae6",
       "version_major": 2,
       "version_minor": 0
      },
      "text/plain": [
       "Batches:   0%|          | 0/1 [00:00<?, ?it/s]"
      ]
     },
     "metadata": {},
     "output_type": "display_data"
    },
    {
     "data": {
      "application/vnd.jupyter.widget-view+json": {
       "model_id": "4c4cb7894c3e45f09708fbe174f5e676",
       "version_major": 2,
       "version_minor": 0
      },
      "text/plain": [
       "Batches:   0%|          | 0/1 [00:00<?, ?it/s]"
      ]
     },
     "metadata": {},
     "output_type": "display_data"
    },
    {
     "data": {
      "application/vnd.jupyter.widget-view+json": {
       "model_id": "6572d1216e2e4d1a94810a346e835f80",
       "version_major": 2,
       "version_minor": 0
      },
      "text/plain": [
       "Batches:   0%|          | 0/1 [00:00<?, ?it/s]"
      ]
     },
     "metadata": {},
     "output_type": "display_data"
    },
    {
     "data": {
      "application/vnd.jupyter.widget-view+json": {
       "model_id": "fd2de988665144cd8be767fc86c9f9ad",
       "version_major": 2,
       "version_minor": 0
      },
      "text/plain": [
       "Batches:   0%|          | 0/1 [00:00<?, ?it/s]"
      ]
     },
     "metadata": {},
     "output_type": "display_data"
    },
    {
     "data": {
      "application/vnd.jupyter.widget-view+json": {
       "model_id": "7b988d9ad4c349ad991ffb2b16be43a6",
       "version_major": 2,
       "version_minor": 0
      },
      "text/plain": [
       "Batches:   0%|          | 0/1 [00:00<?, ?it/s]"
      ]
     },
     "metadata": {},
     "output_type": "display_data"
    },
    {
     "data": {
      "application/vnd.jupyter.widget-view+json": {
       "model_id": "6afa0a1b877346f7aa57c51e67bbf9c9",
       "version_major": 2,
       "version_minor": 0
      },
      "text/plain": [
       "Batches:   0%|          | 0/1 [00:00<?, ?it/s]"
      ]
     },
     "metadata": {},
     "output_type": "display_data"
    },
    {
     "data": {
      "application/vnd.jupyter.widget-view+json": {
       "model_id": "aeb6d8c89de542e3ace708140cf6d9ce",
       "version_major": 2,
       "version_minor": 0
      },
      "text/plain": [
       "Batches:   0%|          | 0/1 [00:00<?, ?it/s]"
      ]
     },
     "metadata": {},
     "output_type": "display_data"
    },
    {
     "data": {
      "application/vnd.jupyter.widget-view+json": {
       "model_id": "74053abf311441ceb7c8f40a8723b709",
       "version_major": 2,
       "version_minor": 0
      },
      "text/plain": [
       "Batches:   0%|          | 0/1 [00:00<?, ?it/s]"
      ]
     },
     "metadata": {},
     "output_type": "display_data"
    },
    {
     "data": {
      "application/vnd.jupyter.widget-view+json": {
       "model_id": "c98812d28a9a43a58386f2b8e1ffaaf1",
       "version_major": 2,
       "version_minor": 0
      },
      "text/plain": [
       "Batches:   0%|          | 0/1 [00:00<?, ?it/s]"
      ]
     },
     "metadata": {},
     "output_type": "display_data"
    },
    {
     "data": {
      "application/vnd.jupyter.widget-view+json": {
       "model_id": "638c75cab46b44549db540543790bee3",
       "version_major": 2,
       "version_minor": 0
      },
      "text/plain": [
       "Batches:   0%|          | 0/1 [00:00<?, ?it/s]"
      ]
     },
     "metadata": {},
     "output_type": "display_data"
    },
    {
     "data": {
      "application/vnd.jupyter.widget-view+json": {
       "model_id": "7a3173b042f74f88be49ba521911bf0b",
       "version_major": 2,
       "version_minor": 0
      },
      "text/plain": [
       "Batches:   0%|          | 0/1 [00:00<?, ?it/s]"
      ]
     },
     "metadata": {},
     "output_type": "display_data"
    },
    {
     "data": {
      "application/vnd.jupyter.widget-view+json": {
       "model_id": "eb7293e80daf474d839a14ef3aff2fdc",
       "version_major": 2,
       "version_minor": 0
      },
      "text/plain": [
       "Batches:   0%|          | 0/1 [00:00<?, ?it/s]"
      ]
     },
     "metadata": {},
     "output_type": "display_data"
    },
    {
     "data": {
      "application/vnd.jupyter.widget-view+json": {
       "model_id": "bb07f45490e84103a53437cae8654dff",
       "version_major": 2,
       "version_minor": 0
      },
      "text/plain": [
       "Batches:   0%|          | 0/1 [00:00<?, ?it/s]"
      ]
     },
     "metadata": {},
     "output_type": "display_data"
    },
    {
     "data": {
      "application/vnd.jupyter.widget-view+json": {
       "model_id": "e92965dad0954c8494be25adbda95390",
       "version_major": 2,
       "version_minor": 0
      },
      "text/plain": [
       "Batches:   0%|          | 0/1 [00:00<?, ?it/s]"
      ]
     },
     "metadata": {},
     "output_type": "display_data"
    },
    {
     "data": {
      "application/vnd.jupyter.widget-view+json": {
       "model_id": "0aaf03a4f42c42808cfae95c20a950d4",
       "version_major": 2,
       "version_minor": 0
      },
      "text/plain": [
       "Batches:   0%|          | 0/1 [00:00<?, ?it/s]"
      ]
     },
     "metadata": {},
     "output_type": "display_data"
    },
    {
     "data": {
      "application/vnd.jupyter.widget-view+json": {
       "model_id": "b53c1043c778463c8997778df85f3e8a",
       "version_major": 2,
       "version_minor": 0
      },
      "text/plain": [
       "Batches:   0%|          | 0/1 [00:00<?, ?it/s]"
      ]
     },
     "metadata": {},
     "output_type": "display_data"
    },
    {
     "data": {
      "application/vnd.jupyter.widget-view+json": {
       "model_id": "eb3dcbb21e244c4fa0fb916d4af20270",
       "version_major": 2,
       "version_minor": 0
      },
      "text/plain": [
       "Batches:   0%|          | 0/1 [00:00<?, ?it/s]"
      ]
     },
     "metadata": {},
     "output_type": "display_data"
    },
    {
     "data": {
      "application/vnd.jupyter.widget-view+json": {
       "model_id": "1db94e3ce1e4492bae98b18663c3c7cc",
       "version_major": 2,
       "version_minor": 0
      },
      "text/plain": [
       "Batches:   0%|          | 0/1 [00:00<?, ?it/s]"
      ]
     },
     "metadata": {},
     "output_type": "display_data"
    },
    {
     "data": {
      "application/vnd.jupyter.widget-view+json": {
       "model_id": "d592beaf6c064db789d4f8f2bff668fc",
       "version_major": 2,
       "version_minor": 0
      },
      "text/plain": [
       "Batches:   0%|          | 0/1 [00:00<?, ?it/s]"
      ]
     },
     "metadata": {},
     "output_type": "display_data"
    },
    {
     "data": {
      "application/vnd.jupyter.widget-view+json": {
       "model_id": "8f9bdfb7dd4b4593a9b5ce5479aabb8b",
       "version_major": 2,
       "version_minor": 0
      },
      "text/plain": [
       "Batches:   0%|          | 0/1 [00:00<?, ?it/s]"
      ]
     },
     "metadata": {},
     "output_type": "display_data"
    },
    {
     "data": {
      "application/vnd.jupyter.widget-view+json": {
       "model_id": "b4c24407432d4895ab5e1e2af27fc5f9",
       "version_major": 2,
       "version_minor": 0
      },
      "text/plain": [
       "Batches:   0%|          | 0/1 [00:00<?, ?it/s]"
      ]
     },
     "metadata": {},
     "output_type": "display_data"
    },
    {
     "data": {
      "application/vnd.jupyter.widget-view+json": {
       "model_id": "436ad831a8bc490e917aa66ddf1cccfb",
       "version_major": 2,
       "version_minor": 0
      },
      "text/plain": [
       "Batches:   0%|          | 0/1 [00:00<?, ?it/s]"
      ]
     },
     "metadata": {},
     "output_type": "display_data"
    },
    {
     "data": {
      "application/vnd.jupyter.widget-view+json": {
       "model_id": "78d1f826dea24aa98628c40ef38d19a2",
       "version_major": 2,
       "version_minor": 0
      },
      "text/plain": [
       "Batches:   0%|          | 0/1 [00:00<?, ?it/s]"
      ]
     },
     "metadata": {},
     "output_type": "display_data"
    },
    {
     "data": {
      "application/vnd.jupyter.widget-view+json": {
       "model_id": "e9c2b5f3e7bb4c1691f3cfe03b6e1302",
       "version_major": 2,
       "version_minor": 0
      },
      "text/plain": [
       "Batches:   0%|          | 0/1 [00:00<?, ?it/s]"
      ]
     },
     "metadata": {},
     "output_type": "display_data"
    },
    {
     "data": {
      "application/vnd.jupyter.widget-view+json": {
       "model_id": "60217761a3be47e2b2c668c98c65b1a6",
       "version_major": 2,
       "version_minor": 0
      },
      "text/plain": [
       "Batches:   0%|          | 0/1 [00:00<?, ?it/s]"
      ]
     },
     "metadata": {},
     "output_type": "display_data"
    },
    {
     "data": {
      "application/vnd.jupyter.widget-view+json": {
       "model_id": "9d3c603538624e748f739e33b16ad94a",
       "version_major": 2,
       "version_minor": 0
      },
      "text/plain": [
       "Batches:   0%|          | 0/1 [00:00<?, ?it/s]"
      ]
     },
     "metadata": {},
     "output_type": "display_data"
    },
    {
     "data": {
      "application/vnd.jupyter.widget-view+json": {
       "model_id": "992cd846d6394904bd335fb0bd90aaa9",
       "version_major": 2,
       "version_minor": 0
      },
      "text/plain": [
       "Batches:   0%|          | 0/1 [00:00<?, ?it/s]"
      ]
     },
     "metadata": {},
     "output_type": "display_data"
    },
    {
     "data": {
      "application/vnd.jupyter.widget-view+json": {
       "model_id": "56055951b36141c2b6531733bd77a65c",
       "version_major": 2,
       "version_minor": 0
      },
      "text/plain": [
       "Batches:   0%|          | 0/1 [00:00<?, ?it/s]"
      ]
     },
     "metadata": {},
     "output_type": "display_data"
    },
    {
     "data": {
      "application/vnd.jupyter.widget-view+json": {
       "model_id": "f4a8b700c0e94a6f9821c71140b11dd9",
       "version_major": 2,
       "version_minor": 0
      },
      "text/plain": [
       "Batches:   0%|          | 0/1 [00:00<?, ?it/s]"
      ]
     },
     "metadata": {},
     "output_type": "display_data"
    },
    {
     "data": {
      "application/vnd.jupyter.widget-view+json": {
       "model_id": "e757fb4bcef944bd9953379f27a634a4",
       "version_major": 2,
       "version_minor": 0
      },
      "text/plain": [
       "Batches:   0%|          | 0/1 [00:00<?, ?it/s]"
      ]
     },
     "metadata": {},
     "output_type": "display_data"
    },
    {
     "data": {
      "application/vnd.jupyter.widget-view+json": {
       "model_id": "6f6504268b4a4b36bc786842e1c429a8",
       "version_major": 2,
       "version_minor": 0
      },
      "text/plain": [
       "Batches:   0%|          | 0/1 [00:00<?, ?it/s]"
      ]
     },
     "metadata": {},
     "output_type": "display_data"
    },
    {
     "data": {
      "application/vnd.jupyter.widget-view+json": {
       "model_id": "568c19f4544e4bf38a4a1892dd13246c",
       "version_major": 2,
       "version_minor": 0
      },
      "text/plain": [
       "Batches:   0%|          | 0/1 [00:00<?, ?it/s]"
      ]
     },
     "metadata": {},
     "output_type": "display_data"
    },
    {
     "data": {
      "application/vnd.jupyter.widget-view+json": {
       "model_id": "2c978338066146a3b9e60af2b9f7cd7d",
       "version_major": 2,
       "version_minor": 0
      },
      "text/plain": [
       "Batches:   0%|          | 0/1 [00:00<?, ?it/s]"
      ]
     },
     "metadata": {},
     "output_type": "display_data"
    },
    {
     "data": {
      "application/vnd.jupyter.widget-view+json": {
       "model_id": "feef58f1fec94250b1bcaab45a8ce775",
       "version_major": 2,
       "version_minor": 0
      },
      "text/plain": [
       "Batches:   0%|          | 0/1 [00:00<?, ?it/s]"
      ]
     },
     "metadata": {},
     "output_type": "display_data"
    },
    {
     "data": {
      "application/vnd.jupyter.widget-view+json": {
       "model_id": "9516bb80cad3441c9ba988affee55553",
       "version_major": 2,
       "version_minor": 0
      },
      "text/plain": [
       "Batches:   0%|          | 0/1 [00:00<?, ?it/s]"
      ]
     },
     "metadata": {},
     "output_type": "display_data"
    },
    {
     "data": {
      "application/vnd.jupyter.widget-view+json": {
       "model_id": "5a387c98e31745d4aabe432f76778b85",
       "version_major": 2,
       "version_minor": 0
      },
      "text/plain": [
       "Batches:   0%|          | 0/1 [00:00<?, ?it/s]"
      ]
     },
     "metadata": {},
     "output_type": "display_data"
    },
    {
     "data": {
      "application/vnd.jupyter.widget-view+json": {
       "model_id": "09748c3ce36840b78d882f8b26e57306",
       "version_major": 2,
       "version_minor": 0
      },
      "text/plain": [
       "Batches:   0%|          | 0/1 [00:00<?, ?it/s]"
      ]
     },
     "metadata": {},
     "output_type": "display_data"
    },
    {
     "data": {
      "text/html": [
       "<div>\n",
       "<style scoped>\n",
       "    .dataframe tbody tr th:only-of-type {\n",
       "        vertical-align: middle;\n",
       "    }\n",
       "\n",
       "    .dataframe tbody tr th {\n",
       "        vertical-align: top;\n",
       "    }\n",
       "\n",
       "    .dataframe thead th {\n",
       "        text-align: right;\n",
       "    }\n",
       "</style>\n",
       "<table border=\"1\" class=\"dataframe\">\n",
       "  <thead>\n",
       "    <tr style=\"text-align: right;\">\n",
       "      <th></th>\n",
       "      <th>endpoint_name</th>\n",
       "      <th>prompt</th>\n",
       "      <th>ground_truth</th>\n",
       "      <th>temperature</th>\n",
       "      <th>max_tokens</th>\n",
       "      <th>top_p</th>\n",
       "      <th>completion</th>\n",
       "      <th>prompt_tokens</th>\n",
       "      <th>completion_tokens</th>\n",
       "      <th>latency</th>\n",
       "      <th>...</th>\n",
       "      <th>uuid</th>\n",
       "      <th>experiment_name</th>\n",
       "      <th>concurrency</th>\n",
       "      <th>instance_type</th>\n",
       "      <th>instance_count</th>\n",
       "      <th>EndpointName</th>\n",
       "      <th>ModelName</th>\n",
       "      <th>Image</th>\n",
       "      <th>S3Uri</th>\n",
       "      <th>cosine_similarity_score</th>\n",
       "    </tr>\n",
       "  </thead>\n",
       "  <tbody>\n",
       "    <tr>\n",
       "      <th>0</th>\n",
       "      <td>mistral.mistral-7b-instruct-v0:2</td>\n",
       "      <td>&lt;s&gt;[INST] &lt;&lt;SYS&gt;&gt;\\nYou are an assistant for qu...</td>\n",
       "      <td>a genus of flowering plant in the Lardizabalac...</td>\n",
       "      <td>0.1</td>\n",
       "      <td>100</td>\n",
       "      <td>0.92</td>\n",
       "      <td>The genera Sinofranchetia and Stauntonia belon...</td>\n",
       "      <td>319</td>\n",
       "      <td>26</td>\n",
       "      <td>0.440897</td>\n",
       "      <td>...</td>\n",
       "      <td>6e77fb90ea804956a115b0268df059b0</td>\n",
       "      <td>mistral.mistral-7b-instruct-v0:2</td>\n",
       "      <td>1</td>\n",
       "      <td>mistral.mistral-7b-instruct-v0:2</td>\n",
       "      <td>1.0</td>\n",
       "      <td>NaN</td>\n",
       "      <td>NaN</td>\n",
       "      <td>NaN</td>\n",
       "      <td>NaN</td>\n",
       "      <td>0.710724</td>\n",
       "    </tr>\n",
       "    <tr>\n",
       "      <th>1</th>\n",
       "      <td>mistral.mistral-7b-instruct-v0:2</td>\n",
       "      <td>&lt;s&gt;[INST] &lt;&lt;SYS&gt;&gt;\\nYou are an assistant for qu...</td>\n",
       "      <td>a genus of flowering plant in the Lardizabalac...</td>\n",
       "      <td>0.1</td>\n",
       "      <td>100</td>\n",
       "      <td>0.92</td>\n",
       "      <td>The genera Sinofranchetia and Stauntonia belon...</td>\n",
       "      <td>319</td>\n",
       "      <td>26</td>\n",
       "      <td>0.450330</td>\n",
       "      <td>...</td>\n",
       "      <td>82d04de71238454a9bbe05f520f22cb0</td>\n",
       "      <td>mistral.mistral-7b-instruct-v0:2</td>\n",
       "      <td>1</td>\n",
       "      <td>mistral.mistral-7b-instruct-v0:2</td>\n",
       "      <td>1.0</td>\n",
       "      <td>NaN</td>\n",
       "      <td>NaN</td>\n",
       "      <td>NaN</td>\n",
       "      <td>NaN</td>\n",
       "      <td>0.710724</td>\n",
       "    </tr>\n",
       "    <tr>\n",
       "      <th>2</th>\n",
       "      <td>mistral.mistral-7b-instruct-v0:2</td>\n",
       "      <td>&lt;s&gt;[INST] &lt;&lt;SYS&gt;&gt;\\nYou are an assistant for qu...</td>\n",
       "      <td>a genus of flowering plant in the Lardizabalac...</td>\n",
       "      <td>0.1</td>\n",
       "      <td>100</td>\n",
       "      <td>0.92</td>\n",
       "      <td>The genera Sinofranchetia and Stauntonia belon...</td>\n",
       "      <td>319</td>\n",
       "      <td>26</td>\n",
       "      <td>0.461762</td>\n",
       "      <td>...</td>\n",
       "      <td>22303e132fb646aa86b938083660dce8</td>\n",
       "      <td>mistral.mistral-7b-instruct-v0:2</td>\n",
       "      <td>1</td>\n",
       "      <td>mistral.mistral-7b-instruct-v0:2</td>\n",
       "      <td>1.0</td>\n",
       "      <td>NaN</td>\n",
       "      <td>NaN</td>\n",
       "      <td>NaN</td>\n",
       "      <td>NaN</td>\n",
       "      <td>0.710724</td>\n",
       "    </tr>\n",
       "    <tr>\n",
       "      <th>3</th>\n",
       "      <td>mistral.mistral-7b-instruct-v0:2</td>\n",
       "      <td>&lt;s&gt;[INST] &lt;&lt;SYS&gt;&gt;\\nYou are an assistant for qu...</td>\n",
       "      <td>a genus of flowering plant in the Lardizabalac...</td>\n",
       "      <td>0.1</td>\n",
       "      <td>100</td>\n",
       "      <td>0.92</td>\n",
       "      <td>The genera Sinofranchetia and Stauntonia belon...</td>\n",
       "      <td>319</td>\n",
       "      <td>26</td>\n",
       "      <td>0.453813</td>\n",
       "      <td>...</td>\n",
       "      <td>715d1d30b18244279ff5c0fbf112f245</td>\n",
       "      <td>mistral.mistral-7b-instruct-v0:2</td>\n",
       "      <td>1</td>\n",
       "      <td>mistral.mistral-7b-instruct-v0:2</td>\n",
       "      <td>1.0</td>\n",
       "      <td>NaN</td>\n",
       "      <td>NaN</td>\n",
       "      <td>NaN</td>\n",
       "      <td>NaN</td>\n",
       "      <td>0.710724</td>\n",
       "    </tr>\n",
       "    <tr>\n",
       "      <th>4</th>\n",
       "      <td>mistral.mistral-7b-instruct-v0:2</td>\n",
       "      <td>&lt;s&gt;[INST] &lt;&lt;SYS&gt;&gt;\\nYou are an assistant for qu...</td>\n",
       "      <td>a genus of flowering plant in the Lardizabalac...</td>\n",
       "      <td>0.1</td>\n",
       "      <td>100</td>\n",
       "      <td>0.92</td>\n",
       "      <td>The genera Sinofranchetia and Stauntonia belon...</td>\n",
       "      <td>319</td>\n",
       "      <td>26</td>\n",
       "      <td>0.435938</td>\n",
       "      <td>...</td>\n",
       "      <td>6ede1f51a3d143f09377dda35107693a</td>\n",
       "      <td>mistral.mistral-7b-instruct-v0:2</td>\n",
       "      <td>1</td>\n",
       "      <td>mistral.mistral-7b-instruct-v0:2</td>\n",
       "      <td>1.0</td>\n",
       "      <td>NaN</td>\n",
       "      <td>NaN</td>\n",
       "      <td>NaN</td>\n",
       "      <td>NaN</td>\n",
       "      <td>0.710724</td>\n",
       "    </tr>\n",
       "  </tbody>\n",
       "</table>\n",
       "<p>5 rows × 23 columns</p>\n",
       "</div>"
      ],
      "text/plain": [
       "                      endpoint_name  \\\n",
       "0  mistral.mistral-7b-instruct-v0:2   \n",
       "1  mistral.mistral-7b-instruct-v0:2   \n",
       "2  mistral.mistral-7b-instruct-v0:2   \n",
       "3  mistral.mistral-7b-instruct-v0:2   \n",
       "4  mistral.mistral-7b-instruct-v0:2   \n",
       "\n",
       "                                              prompt  \\\n",
       "0  <s>[INST] <<SYS>>\\nYou are an assistant for qu...   \n",
       "1  <s>[INST] <<SYS>>\\nYou are an assistant for qu...   \n",
       "2  <s>[INST] <<SYS>>\\nYou are an assistant for qu...   \n",
       "3  <s>[INST] <<SYS>>\\nYou are an assistant for qu...   \n",
       "4  <s>[INST] <<SYS>>\\nYou are an assistant for qu...   \n",
       "\n",
       "                                        ground_truth  temperature  max_tokens  \\\n",
       "0  a genus of flowering plant in the Lardizabalac...          0.1         100   \n",
       "1  a genus of flowering plant in the Lardizabalac...          0.1         100   \n",
       "2  a genus of flowering plant in the Lardizabalac...          0.1         100   \n",
       "3  a genus of flowering plant in the Lardizabalac...          0.1         100   \n",
       "4  a genus of flowering plant in the Lardizabalac...          0.1         100   \n",
       "\n",
       "   top_p                                         completion  prompt_tokens  \\\n",
       "0   0.92  The genera Sinofranchetia and Stauntonia belon...            319   \n",
       "1   0.92  The genera Sinofranchetia and Stauntonia belon...            319   \n",
       "2   0.92  The genera Sinofranchetia and Stauntonia belon...            319   \n",
       "3   0.92  The genera Sinofranchetia and Stauntonia belon...            319   \n",
       "4   0.92  The genera Sinofranchetia and Stauntonia belon...            319   \n",
       "\n",
       "   completion_tokens   latency  ...                              uuid  \\\n",
       "0                 26  0.440897  ...  6e77fb90ea804956a115b0268df059b0   \n",
       "1                 26  0.450330  ...  82d04de71238454a9bbe05f520f22cb0   \n",
       "2                 26  0.461762  ...  22303e132fb646aa86b938083660dce8   \n",
       "3                 26  0.453813  ...  715d1d30b18244279ff5c0fbf112f245   \n",
       "4                 26  0.435938  ...  6ede1f51a3d143f09377dda35107693a   \n",
       "\n",
       "                    experiment_name  concurrency  \\\n",
       "0  mistral.mistral-7b-instruct-v0:2            1   \n",
       "1  mistral.mistral-7b-instruct-v0:2            1   \n",
       "2  mistral.mistral-7b-instruct-v0:2            1   \n",
       "3  mistral.mistral-7b-instruct-v0:2            1   \n",
       "4  mistral.mistral-7b-instruct-v0:2            1   \n",
       "\n",
       "                      instance_type instance_count  EndpointName ModelName  \\\n",
       "0  mistral.mistral-7b-instruct-v0:2            1.0           NaN       NaN   \n",
       "1  mistral.mistral-7b-instruct-v0:2            1.0           NaN       NaN   \n",
       "2  mistral.mistral-7b-instruct-v0:2            1.0           NaN       NaN   \n",
       "3  mistral.mistral-7b-instruct-v0:2            1.0           NaN       NaN   \n",
       "4  mistral.mistral-7b-instruct-v0:2            1.0           NaN       NaN   \n",
       "\n",
       "   Image  S3Uri  cosine_similarity_score  \n",
       "0    NaN    NaN                 0.710724  \n",
       "1    NaN    NaN                 0.710724  \n",
       "2    NaN    NaN                 0.710724  \n",
       "3    NaN    NaN                 0.710724  \n",
       "4    NaN    NaN                 0.710724  \n",
       "\n",
       "[5 rows x 23 columns]"
      ]
     },
     "execution_count": 11,
     "metadata": {},
     "output_type": "execute_result"
    }
   ],
   "source": [
    "# get the quantitiative evaluation information from the config file, such as the embeddings model\n",
    "# to be used\n",
    "embeddings_model_quantitative_info: Dict = config['model_evaluations']['quantitative_eval_info']\n",
    "\n",
    "\n",
    "def load_model():\n",
    "    \"\"\"\n",
    "    This function loads the sentence-transformers model based on the provided model ID.\n",
    "    \"\"\"\n",
    "    model_id = embeddings_model_quantitative_info['embeddings_model_id'].get('model_id', None)\n",
    "    if model_id:\n",
    "        model = SentenceTransformer(model_id)\n",
    "        return model\n",
    "    else:\n",
    "        raise ValueError(\"Model ID is not provided or invalid in the configuration.\")\n",
    "\n",
    "\n",
    "# Load the model\n",
    "model = load_model()\n",
    "\n",
    "\n",
    "def get_embeddings(text: str) -> torch.Tensor:\n",
    "    \"\"\"\n",
    "    This function returns the embedding for a given text using the sentence-transformers model.\n",
    "    \"\"\"\n",
    "    return model.encode([text])[0]  # Return the first element to get the embedding\n",
    "\n",
    "\n",
    "def get_cosine_similarity(text1: str, text2: str) -> float:\n",
    "    \"\"\"\n",
    "    This function calculates the cosine similarity between two texts.\n",
    "    \"\"\"\n",
    "    A = get_embeddings(text1)\n",
    "    B = get_embeddings(text2)\n",
    "    cosine = dot(A, B) / (norm(A) * norm(B))\n",
    "    return cosine\n",
    "\n",
    "# Assuming df_per_inference is your DataFrame\n",
    "df_per_inference['cosine_similarity_score'] = df_per_inference.apply(\n",
    "    lambda row: get_cosine_similarity(row['completion'], row['ground_truth']), axis=1\n",
    ")\n",
    "df_per_inference.head()"
   ]
  },
  {
   "cell_type": "code",
   "execution_count": 22,
   "metadata": {
    "tags": []
   },
   "outputs": [
    {
     "name": "stderr",
     "output_type": "stream",
     "text": [
      "[2024-07-12 01:38:21,262] p13828 {100736689.py:15} INFO - Per inference cosine similarity scores saved to s3://sagemaker-fmbench-write-us-west-2-387192758086/fmbench-bedrock-fmbench-stack-us-west-2-role/data/metrics/yyyy=2024/mm=07/dd=12/hh=01/mm=37/per_inference_cosine_similarity.csv\n"
     ]
    },
    {
     "data": {
      "text/html": [
       "<div>\n",
       "<style scoped>\n",
       "    .dataframe tbody tr th:only-of-type {\n",
       "        vertical-align: middle;\n",
       "    }\n",
       "\n",
       "    .dataframe tbody tr th {\n",
       "        vertical-align: top;\n",
       "    }\n",
       "\n",
       "    .dataframe thead th {\n",
       "        text-align: right;\n",
       "    }\n",
       "</style>\n",
       "<table border=\"1\" class=\"dataframe\">\n",
       "  <thead>\n",
       "    <tr style=\"text-align: right;\">\n",
       "      <th></th>\n",
       "      <th>endpoint_name</th>\n",
       "      <th>prompt</th>\n",
       "      <th>ground_truth</th>\n",
       "      <th>temperature</th>\n",
       "      <th>max_tokens</th>\n",
       "      <th>top_p</th>\n",
       "      <th>completion</th>\n",
       "      <th>prompt_tokens</th>\n",
       "      <th>completion_tokens</th>\n",
       "      <th>latency</th>\n",
       "      <th>...</th>\n",
       "      <th>uuid</th>\n",
       "      <th>experiment_name</th>\n",
       "      <th>concurrency</th>\n",
       "      <th>instance_type</th>\n",
       "      <th>instance_count</th>\n",
       "      <th>EndpointName</th>\n",
       "      <th>ModelName</th>\n",
       "      <th>Image</th>\n",
       "      <th>S3Uri</th>\n",
       "      <th>cosine_similarity_score</th>\n",
       "    </tr>\n",
       "  </thead>\n",
       "  <tbody>\n",
       "    <tr>\n",
       "      <th>0</th>\n",
       "      <td>mistral.mistral-7b-instruct-v0:2</td>\n",
       "      <td>&lt;s&gt;[INST] &lt;&lt;SYS&gt;&gt;\\nYou are an assistant for qu...</td>\n",
       "      <td>a genus of flowering plant in the Lardizabalac...</td>\n",
       "      <td>0.1</td>\n",
       "      <td>100</td>\n",
       "      <td>0.92</td>\n",
       "      <td>The genera Sinofranchetia and Stauntonia belon...</td>\n",
       "      <td>319</td>\n",
       "      <td>26</td>\n",
       "      <td>0.440897</td>\n",
       "      <td>...</td>\n",
       "      <td>6e77fb90ea804956a115b0268df059b0</td>\n",
       "      <td>mistral.mistral-7b-instruct-v0:2</td>\n",
       "      <td>1</td>\n",
       "      <td>mistral.mistral-7b-instruct-v0:2</td>\n",
       "      <td>1.0</td>\n",
       "      <td>NaN</td>\n",
       "      <td>NaN</td>\n",
       "      <td>NaN</td>\n",
       "      <td>NaN</td>\n",
       "      <td>0.710724</td>\n",
       "    </tr>\n",
       "    <tr>\n",
       "      <th>1</th>\n",
       "      <td>mistral.mistral-7b-instruct-v0:2</td>\n",
       "      <td>&lt;s&gt;[INST] &lt;&lt;SYS&gt;&gt;\\nYou are an assistant for qu...</td>\n",
       "      <td>a genus of flowering plant in the Lardizabalac...</td>\n",
       "      <td>0.1</td>\n",
       "      <td>100</td>\n",
       "      <td>0.92</td>\n",
       "      <td>The genera Sinofranchetia and Stauntonia belon...</td>\n",
       "      <td>319</td>\n",
       "      <td>26</td>\n",
       "      <td>0.450330</td>\n",
       "      <td>...</td>\n",
       "      <td>82d04de71238454a9bbe05f520f22cb0</td>\n",
       "      <td>mistral.mistral-7b-instruct-v0:2</td>\n",
       "      <td>1</td>\n",
       "      <td>mistral.mistral-7b-instruct-v0:2</td>\n",
       "      <td>1.0</td>\n",
       "      <td>NaN</td>\n",
       "      <td>NaN</td>\n",
       "      <td>NaN</td>\n",
       "      <td>NaN</td>\n",
       "      <td>0.710724</td>\n",
       "    </tr>\n",
       "    <tr>\n",
       "      <th>2</th>\n",
       "      <td>mistral.mistral-7b-instruct-v0:2</td>\n",
       "      <td>&lt;s&gt;[INST] &lt;&lt;SYS&gt;&gt;\\nYou are an assistant for qu...</td>\n",
       "      <td>a genus of flowering plant in the Lardizabalac...</td>\n",
       "      <td>0.1</td>\n",
       "      <td>100</td>\n",
       "      <td>0.92</td>\n",
       "      <td>The genera Sinofranchetia and Stauntonia belon...</td>\n",
       "      <td>319</td>\n",
       "      <td>26</td>\n",
       "      <td>0.461762</td>\n",
       "      <td>...</td>\n",
       "      <td>22303e132fb646aa86b938083660dce8</td>\n",
       "      <td>mistral.mistral-7b-instruct-v0:2</td>\n",
       "      <td>1</td>\n",
       "      <td>mistral.mistral-7b-instruct-v0:2</td>\n",
       "      <td>1.0</td>\n",
       "      <td>NaN</td>\n",
       "      <td>NaN</td>\n",
       "      <td>NaN</td>\n",
       "      <td>NaN</td>\n",
       "      <td>0.710724</td>\n",
       "    </tr>\n",
       "    <tr>\n",
       "      <th>3</th>\n",
       "      <td>mistral.mistral-7b-instruct-v0:2</td>\n",
       "      <td>&lt;s&gt;[INST] &lt;&lt;SYS&gt;&gt;\\nYou are an assistant for qu...</td>\n",
       "      <td>a genus of flowering plant in the Lardizabalac...</td>\n",
       "      <td>0.1</td>\n",
       "      <td>100</td>\n",
       "      <td>0.92</td>\n",
       "      <td>The genera Sinofranchetia and Stauntonia belon...</td>\n",
       "      <td>319</td>\n",
       "      <td>26</td>\n",
       "      <td>0.453813</td>\n",
       "      <td>...</td>\n",
       "      <td>715d1d30b18244279ff5c0fbf112f245</td>\n",
       "      <td>mistral.mistral-7b-instruct-v0:2</td>\n",
       "      <td>1</td>\n",
       "      <td>mistral.mistral-7b-instruct-v0:2</td>\n",
       "      <td>1.0</td>\n",
       "      <td>NaN</td>\n",
       "      <td>NaN</td>\n",
       "      <td>NaN</td>\n",
       "      <td>NaN</td>\n",
       "      <td>0.710724</td>\n",
       "    </tr>\n",
       "    <tr>\n",
       "      <th>4</th>\n",
       "      <td>mistral.mistral-7b-instruct-v0:2</td>\n",
       "      <td>&lt;s&gt;[INST] &lt;&lt;SYS&gt;&gt;\\nYou are an assistant for qu...</td>\n",
       "      <td>a genus of flowering plant in the Lardizabalac...</td>\n",
       "      <td>0.1</td>\n",
       "      <td>100</td>\n",
       "      <td>0.92</td>\n",
       "      <td>The genera Sinofranchetia and Stauntonia belon...</td>\n",
       "      <td>319</td>\n",
       "      <td>26</td>\n",
       "      <td>0.435938</td>\n",
       "      <td>...</td>\n",
       "      <td>6ede1f51a3d143f09377dda35107693a</td>\n",
       "      <td>mistral.mistral-7b-instruct-v0:2</td>\n",
       "      <td>1</td>\n",
       "      <td>mistral.mistral-7b-instruct-v0:2</td>\n",
       "      <td>1.0</td>\n",
       "      <td>NaN</td>\n",
       "      <td>NaN</td>\n",
       "      <td>NaN</td>\n",
       "      <td>NaN</td>\n",
       "      <td>0.710724</td>\n",
       "    </tr>\n",
       "  </tbody>\n",
       "</table>\n",
       "<p>5 rows × 23 columns</p>\n",
       "</div>"
      ],
      "text/plain": [
       "                      endpoint_name  \\\n",
       "0  mistral.mistral-7b-instruct-v0:2   \n",
       "1  mistral.mistral-7b-instruct-v0:2   \n",
       "2  mistral.mistral-7b-instruct-v0:2   \n",
       "3  mistral.mistral-7b-instruct-v0:2   \n",
       "4  mistral.mistral-7b-instruct-v0:2   \n",
       "\n",
       "                                              prompt  \\\n",
       "0  <s>[INST] <<SYS>>\\nYou are an assistant for qu...   \n",
       "1  <s>[INST] <<SYS>>\\nYou are an assistant for qu...   \n",
       "2  <s>[INST] <<SYS>>\\nYou are an assistant for qu...   \n",
       "3  <s>[INST] <<SYS>>\\nYou are an assistant for qu...   \n",
       "4  <s>[INST] <<SYS>>\\nYou are an assistant for qu...   \n",
       "\n",
       "                                        ground_truth  temperature  max_tokens  \\\n",
       "0  a genus of flowering plant in the Lardizabalac...          0.1         100   \n",
       "1  a genus of flowering plant in the Lardizabalac...          0.1         100   \n",
       "2  a genus of flowering plant in the Lardizabalac...          0.1         100   \n",
       "3  a genus of flowering plant in the Lardizabalac...          0.1         100   \n",
       "4  a genus of flowering plant in the Lardizabalac...          0.1         100   \n",
       "\n",
       "   top_p                                         completion  prompt_tokens  \\\n",
       "0   0.92  The genera Sinofranchetia and Stauntonia belon...            319   \n",
       "1   0.92  The genera Sinofranchetia and Stauntonia belon...            319   \n",
       "2   0.92  The genera Sinofranchetia and Stauntonia belon...            319   \n",
       "3   0.92  The genera Sinofranchetia and Stauntonia belon...            319   \n",
       "4   0.92  The genera Sinofranchetia and Stauntonia belon...            319   \n",
       "\n",
       "   completion_tokens   latency  ...                              uuid  \\\n",
       "0                 26  0.440897  ...  6e77fb90ea804956a115b0268df059b0   \n",
       "1                 26  0.450330  ...  82d04de71238454a9bbe05f520f22cb0   \n",
       "2                 26  0.461762  ...  22303e132fb646aa86b938083660dce8   \n",
       "3                 26  0.453813  ...  715d1d30b18244279ff5c0fbf112f245   \n",
       "4                 26  0.435938  ...  6ede1f51a3d143f09377dda35107693a   \n",
       "\n",
       "                    experiment_name  concurrency  \\\n",
       "0  mistral.mistral-7b-instruct-v0:2            1   \n",
       "1  mistral.mistral-7b-instruct-v0:2            1   \n",
       "2  mistral.mistral-7b-instruct-v0:2            1   \n",
       "3  mistral.mistral-7b-instruct-v0:2            1   \n",
       "4  mistral.mistral-7b-instruct-v0:2            1   \n",
       "\n",
       "                      instance_type instance_count  EndpointName ModelName  \\\n",
       "0  mistral.mistral-7b-instruct-v0:2            1.0           NaN       NaN   \n",
       "1  mistral.mistral-7b-instruct-v0:2            1.0           NaN       NaN   \n",
       "2  mistral.mistral-7b-instruct-v0:2            1.0           NaN       NaN   \n",
       "3  mistral.mistral-7b-instruct-v0:2            1.0           NaN       NaN   \n",
       "4  mistral.mistral-7b-instruct-v0:2            1.0           NaN       NaN   \n",
       "\n",
       "   Image  S3Uri  cosine_similarity_score  \n",
       "0    NaN    NaN                 0.710724  \n",
       "1    NaN    NaN                 0.710724  \n",
       "2    NaN    NaN                 0.710724  \n",
       "3    NaN    NaN                 0.710724  \n",
       "4    NaN    NaN                 0.710724  \n",
       "\n",
       "[5 rows x 23 columns]"
      ]
     },
     "execution_count": 22,
     "metadata": {},
     "output_type": "execute_result"
    }
   ],
   "source": [
    "# define the all_metrics path to send the evaluation metrics to\n",
    "all_metrics_fpath = os.path.join(METRICS_DIR, config[\"report\"][\"all_metrics_file\"])\n",
    "\n",
    "csv_buffer = io.StringIO()\n",
    "df_per_inference.to_csv(csv_buffer, index=False)\n",
    "df_per_inference_with_cosine_similarity_scores_csv = csv_buffer.getvalue()\n",
    "\n",
    "# Define the file name for S3 based on the original file path\n",
    "df_per_inference_with_cosine_similarity_scores_csv = all_metrics_fpath.replace(\"all_metrics\", \"all_metrics_summary\").split('/')[-1] \n",
    "inference_cosine_similarity_scores_s3_path = os.path.join(METRICS_DIR, PER_INFERENCE_FILE_WITH_COSINE_SIMILARITY_SCORES)  # Define full S3 path\n",
    "\n",
    "# Write the CSV data to S3\n",
    "write_to_s3(df_per_inference_with_cosine_similarity_scores_csv, BUCKET_NAME, \"\", \n",
    "            METRICS_DIR, PER_INFERENCE_FILE_WITH_COSINE_SIMILARITY_SCORES)\n",
    "logger.info(f\"Per inference cosine similarity scores saved to s3://{BUCKET_NAME}/{inference_cosine_similarity_scores_s3_path}\")\n",
    "\n",
    "df_per_inference.head()"
   ]
  },
  {
   "cell_type": "markdown",
   "metadata": {},
   "source": [
    "### Use _LLM as a judge_ to get Subjective Evaluations on various evaluation criteria\n",
    "---\n",
    "\n",
    "In this portion of the notebook, we run evaluations on the content generated on various different criteria. By default, \n",
    "FMBench supports `Relevance`, `Depth`, `Creativity`, `Correctness`, and `Helpfulness`. Each criteria is evaluated on a set of \n",
    "rules that are populated into a standard prompt template during the LLM as a judge evaluation process. The steps followed in this \n",
    "process are given below:\n",
    "\n",
    "1. LLM as a judge (configurable) uses a standard prompt template to evaluate content. This standard prompt template is populated with rules and instructions at runtime for the given criteria being evaluated. For example, during the evaluation of correctness, the rules and instructions for correctness will be used in the prompt template to evaluate _content1_. \n",
    "\n",
    "1. Each criteria evaluation is scored on a score of 1-5. The rules to score the content is defined in the standard prompt template.\n",
    "\n",
    "1. Along with each rule, a `subjective_explanation` is provided as to why it gave it that rating and more insights into the evaluation process.\n",
    "\n",
    "1. Towards the end of all evaluations, a final layer of evaluation is added at the end. This layer utilizes another LLM that acts as a final summarizer. It takes in the ratings, answers generated from each unique model that was used in inference, to give a list of trends, overall patterns and observations as to which model is suited for a given task for a given dataset."
   ]
  },
  {
   "cell_type": "code",
   "execution_count": 23,
   "metadata": {
    "tags": []
   },
   "outputs": [
    {
     "name": "stderr",
     "output_type": "stream",
     "text": [
      "[2024-07-12 01:38:26,235] p13828 {474703826.py:5} INFO - available llm as a judge evaluation information to use: {\n",
      "  \"judge_panel_list\": [\n",
      "    {\n",
      "      \"model_id\": \"anthropic.claude-3-haiku-20240307-v1:0\",\n",
      "      \"eval_prompt_template_dir\": \"claude_eval_prompt_templates\",\n",
      "      \"eval_prompt_template_name_prefix\": \"claude_eval_\"\n",
      "    },\n",
      "    {\n",
      "      \"model_id\": \"meta.llama3-70b-instruct-v1:0\",\n",
      "      \"eval_prompt_template_dir\": \"llama3_eval_prompt_templates\",\n",
      "      \"eval_prompt_template_name_prefix\": \"llama3_eval_\"\n",
      "    },\n",
      "    {\n",
      "      \"model_id\": \"cohere.command-r-v1:0\",\n",
      "      \"eval_prompt_template_dir\": \"cohere_eval_prompt_templates\",\n",
      "      \"eval_prompt_template_name_prefix\": \"cohere_eval_\"\n",
      "    }\n",
      "  ],\n",
      "  \"run_parallel_inference_count\": 10,\n",
      "  \"inference_parameters\": {\n",
      "    \"temperature\": 0.1,\n",
      "    \"max_tokens\": 300,\n",
      "    \"top_p\": 0.92,\n",
      "    \"caching\": false\n",
      "  }\n",
      "}\n"
     ]
    }
   ],
   "source": [
    "# get the qualitative/subjective evaluation information from the config file to evaluate answers from different\n",
    "# endpoints on various criteria\n",
    "model_eval_subjective_info: Dict = config['model_evaluations']['subjective_eval_info']\n",
    "eval_criteria_list = model_eval_subjective_info.get('eval_criteria', None)\n",
    "logger.info(f\"available llm as a judge evaluation information to use: {json.dumps(model_eval_subjective_info, indent=2)}\")"
   ]
  },
  {
   "cell_type": "code",
   "execution_count": 24,
   "metadata": {
    "tags": []
   },
   "outputs": [],
   "source": [
    "# get the inference parameters that the LLM judge panel will use while evaluating model candidate responses\n",
    "INFERENCE_PARAMETERS_LLM_PANEL: Dict = config['model_evaluations']['subjective_eval_info'].get('inference_parameters', None)"
   ]
  },
  {
   "cell_type": "code",
   "execution_count": 25,
   "metadata": {
    "tags": []
   },
   "outputs": [],
   "source": [
    "def get_inference(model_id: str,\n",
    "                  prompt: str):\n",
    "    \"\"\"\n",
    "    Get inference using LiteLLM. This get's inference on the answers provided and evaluates each\n",
    "    answer based on a given evaluation prompt template and the specific set of rules for each\n",
    "    evaluation criteria.\n",
    "    \"\"\"\n",
    "    # represents the service name\n",
    "    print(f\"get_inference, model_id={model_id}\")\n",
    "    service_name: str = \"bedrock\"\n",
    "    # represents creating the bedrock model to invoke the litellm api for response for titan, llama and claude\n",
    "    bedrock_model: str = f\"{service_name}/{model_id}\"\n",
    "    # represents the current aws region\n",
    "    aws_region = boto3.Session().region_name \n",
    "    # initialize the response dict\n",
    "    ret = dict(exception=None,\n",
    "               prompt=prompt,\n",
    "               completion=None,\n",
    "               completion_token_count=None,\n",
    "               prompt_token_count=None,\n",
    "               model_id=model_id)\n",
    "    body = ret['prompt']\n",
    "    os.environ[\"AWS_REGION_NAME\"] = aws_region\n",
    "    try:\n",
    "        # Represents calling the litellm completion/messaging api utilizing the completion/embeddings API\n",
    "        print(f\"Invoking {bedrock_model}......\")\n",
    "        response = completion(model=bedrock_model,\n",
    "                              messages=[{\"content\": body,\"role\": \"user\"}],\n",
    "                              temperature=INFERENCE_PARAMETERS_LLM_PANEL.get('temperature', 0.1),\n",
    "                              max_tokens=INFERENCE_PARAMETERS_LLM_PANEL.get('max_tokens', 100),\n",
    "                              caching=INFERENCE_PARAMETERS_LLM_PANEL.get('caching', False))\n",
    "        # iterate through the entire model response\n",
    "        for idx, choice in enumerate(response.choices):\n",
    "            # extract the message and the message's content from litellm\n",
    "            if choice.message and choice.message.content:\n",
    "                # extract the response from the dict\n",
    "                ret[\"completion\"] = choice.message.content.strip()\n",
    "        # Extract number of input and completion prompt tokens        \n",
    "        ret['prompt_token_count'] = response.usage.prompt_tokens\n",
    "        ret['completion_token_count'] = response.usage.completion_tokens\n",
    "    except Exception as e:\n",
    "        logger.error(f\"Exception occurred during invoking {model_id}, exception={e}\")\n",
    "        ret['exception'] = e\n",
    "    logger.info(f\"completion: {ret['completion']}\")\n",
    "    return ret"
   ]
  },
  {
   "cell_type": "code",
   "execution_count": 26,
   "metadata": {
    "tags": []
   },
   "outputs": [],
   "source": [
    "def safe_filename(s):\n",
    "    \"\"\"\n",
    "    convert a string to another string that can be used as a filename\n",
    "    i.e. remove white space and non-word chars\n",
    "    \"\"\"\n",
    "    if s is None:\n",
    "        return \"None\"\n",
    "    # Remove all non-word characters (everything except numbers and letters)\n",
    "    s = re.sub(r\"[^\\w\\s]\", '', s)\n",
    "\n",
    "    # Replace all runs of whitespace with a single dash\n",
    "    s = re.sub(r\"\\s+\", '-', s)\n",
    "\n",
    "    return s"
   ]
  },
  {
   "cell_type": "code",
   "execution_count": 42,
   "metadata": {
    "tags": []
   },
   "outputs": [],
   "source": [
    "# def parse_as_json(x: str) -> Optional[Dict]:\n",
    "#     \"\"\"\n",
    "#     Convert a string into a dictionary. Remove any\n",
    "#     stray whitespaces which could break the json parsing\n",
    "#     \"\"\"\n",
    "#     d: Optional[Dict] = None\n",
    "#     try:\n",
    "#         x = x.replace(\"\\n\", \"\").replace(\"\\t\", \"\")\n",
    "#         d = json.loads(x)\n",
    "#     except Exception as e:\n",
    "#         print(f\"parse_as_json, error parsing string as json, string={x}\")\n",
    "#     return d\n",
    "\n",
    "def parse_as_json(x: str) -> Optional[Dict]:\n",
    "    \"\"\"\n",
    "    Convert a string into a dictionary. Remove any\n",
    "    stray whitespaces which could break the json parsing.\n",
    "    Handle cases where the string starts with 'json'.\n",
    "    \"\"\"\n",
    "    d: Optional[Dict] = None\n",
    "    try:\n",
    "        x = x.strip()\n",
    "        if x.startswith(\"json\"):\n",
    "            x = x[4:].strip()\n",
    "        x = x.replace(\"\\n\", \"\").replace(\"\\t\", \"\")\n",
    "        d = json.loads(x)\n",
    "    except Exception as e:\n",
    "        print(f\"parse_as_json, error parsing string as json, string={x}, error={e}\")\n",
    "    return d"
   ]
  },
  {
   "cell_type": "markdown",
   "metadata": {},
   "source": [
    "### Read the latest dataframe and run LLM as a judge evaluations on it"
   ]
  },
  {
   "cell_type": "code",
   "execution_count": 28,
   "metadata": {
    "tags": []
   },
   "outputs": [
    {
     "data": {
      "text/html": [
       "<div>\n",
       "<style scoped>\n",
       "    .dataframe tbody tr th:only-of-type {\n",
       "        vertical-align: middle;\n",
       "    }\n",
       "\n",
       "    .dataframe tbody tr th {\n",
       "        vertical-align: top;\n",
       "    }\n",
       "\n",
       "    .dataframe thead th {\n",
       "        text-align: right;\n",
       "    }\n",
       "</style>\n",
       "<table border=\"1\" class=\"dataframe\">\n",
       "  <thead>\n",
       "    <tr style=\"text-align: right;\">\n",
       "      <th></th>\n",
       "      <th>endpoint_name</th>\n",
       "      <th>prompt</th>\n",
       "      <th>ground_truth</th>\n",
       "      <th>temperature</th>\n",
       "      <th>max_tokens</th>\n",
       "      <th>top_p</th>\n",
       "      <th>completion</th>\n",
       "      <th>prompt_tokens</th>\n",
       "      <th>completion_tokens</th>\n",
       "      <th>latency</th>\n",
       "      <th>...</th>\n",
       "      <th>uuid</th>\n",
       "      <th>experiment_name</th>\n",
       "      <th>concurrency</th>\n",
       "      <th>instance_type</th>\n",
       "      <th>instance_count</th>\n",
       "      <th>EndpointName</th>\n",
       "      <th>ModelName</th>\n",
       "      <th>Image</th>\n",
       "      <th>S3Uri</th>\n",
       "      <th>cosine_similarity_score</th>\n",
       "    </tr>\n",
       "  </thead>\n",
       "  <tbody>\n",
       "    <tr>\n",
       "      <th>0</th>\n",
       "      <td>mistral.mistral-7b-instruct-v0:2</td>\n",
       "      <td>&lt;s&gt;[INST] &lt;&lt;SYS&gt;&gt;\\nYou are an assistant for qu...</td>\n",
       "      <td>a genus of flowering plant in the Lardizabalac...</td>\n",
       "      <td>0.1</td>\n",
       "      <td>100</td>\n",
       "      <td>0.92</td>\n",
       "      <td>The genera Sinofranchetia and Stauntonia belon...</td>\n",
       "      <td>319</td>\n",
       "      <td>26</td>\n",
       "      <td>0.440897</td>\n",
       "      <td>...</td>\n",
       "      <td>6e77fb90ea804956a115b0268df059b0</td>\n",
       "      <td>mistral.mistral-7b-instruct-v0:2</td>\n",
       "      <td>1</td>\n",
       "      <td>mistral.mistral-7b-instruct-v0:2</td>\n",
       "      <td>1.0</td>\n",
       "      <td>NaN</td>\n",
       "      <td>NaN</td>\n",
       "      <td>NaN</td>\n",
       "      <td>NaN</td>\n",
       "      <td>0.710724</td>\n",
       "    </tr>\n",
       "    <tr>\n",
       "      <th>1</th>\n",
       "      <td>mistral.mistral-7b-instruct-v0:2</td>\n",
       "      <td>&lt;s&gt;[INST] &lt;&lt;SYS&gt;&gt;\\nYou are an assistant for qu...</td>\n",
       "      <td>a genus of flowering plant in the Lardizabalac...</td>\n",
       "      <td>0.1</td>\n",
       "      <td>100</td>\n",
       "      <td>0.92</td>\n",
       "      <td>The genera Sinofranchetia and Stauntonia belon...</td>\n",
       "      <td>319</td>\n",
       "      <td>26</td>\n",
       "      <td>0.450330</td>\n",
       "      <td>...</td>\n",
       "      <td>82d04de71238454a9bbe05f520f22cb0</td>\n",
       "      <td>mistral.mistral-7b-instruct-v0:2</td>\n",
       "      <td>1</td>\n",
       "      <td>mistral.mistral-7b-instruct-v0:2</td>\n",
       "      <td>1.0</td>\n",
       "      <td>NaN</td>\n",
       "      <td>NaN</td>\n",
       "      <td>NaN</td>\n",
       "      <td>NaN</td>\n",
       "      <td>0.710724</td>\n",
       "    </tr>\n",
       "    <tr>\n",
       "      <th>2</th>\n",
       "      <td>mistral.mistral-7b-instruct-v0:2</td>\n",
       "      <td>&lt;s&gt;[INST] &lt;&lt;SYS&gt;&gt;\\nYou are an assistant for qu...</td>\n",
       "      <td>a genus of flowering plant in the Lardizabalac...</td>\n",
       "      <td>0.1</td>\n",
       "      <td>100</td>\n",
       "      <td>0.92</td>\n",
       "      <td>The genera Sinofranchetia and Stauntonia belon...</td>\n",
       "      <td>319</td>\n",
       "      <td>26</td>\n",
       "      <td>0.461762</td>\n",
       "      <td>...</td>\n",
       "      <td>22303e132fb646aa86b938083660dce8</td>\n",
       "      <td>mistral.mistral-7b-instruct-v0:2</td>\n",
       "      <td>1</td>\n",
       "      <td>mistral.mistral-7b-instruct-v0:2</td>\n",
       "      <td>1.0</td>\n",
       "      <td>NaN</td>\n",
       "      <td>NaN</td>\n",
       "      <td>NaN</td>\n",
       "      <td>NaN</td>\n",
       "      <td>0.710724</td>\n",
       "    </tr>\n",
       "    <tr>\n",
       "      <th>3</th>\n",
       "      <td>mistral.mistral-7b-instruct-v0:2</td>\n",
       "      <td>&lt;s&gt;[INST] &lt;&lt;SYS&gt;&gt;\\nYou are an assistant for qu...</td>\n",
       "      <td>a genus of flowering plant in the Lardizabalac...</td>\n",
       "      <td>0.1</td>\n",
       "      <td>100</td>\n",
       "      <td>0.92</td>\n",
       "      <td>The genera Sinofranchetia and Stauntonia belon...</td>\n",
       "      <td>319</td>\n",
       "      <td>26</td>\n",
       "      <td>0.453813</td>\n",
       "      <td>...</td>\n",
       "      <td>715d1d30b18244279ff5c0fbf112f245</td>\n",
       "      <td>mistral.mistral-7b-instruct-v0:2</td>\n",
       "      <td>1</td>\n",
       "      <td>mistral.mistral-7b-instruct-v0:2</td>\n",
       "      <td>1.0</td>\n",
       "      <td>NaN</td>\n",
       "      <td>NaN</td>\n",
       "      <td>NaN</td>\n",
       "      <td>NaN</td>\n",
       "      <td>0.710724</td>\n",
       "    </tr>\n",
       "    <tr>\n",
       "      <th>4</th>\n",
       "      <td>mistral.mistral-7b-instruct-v0:2</td>\n",
       "      <td>&lt;s&gt;[INST] &lt;&lt;SYS&gt;&gt;\\nYou are an assistant for qu...</td>\n",
       "      <td>a genus of flowering plant in the Lardizabalac...</td>\n",
       "      <td>0.1</td>\n",
       "      <td>100</td>\n",
       "      <td>0.92</td>\n",
       "      <td>The genera Sinofranchetia and Stauntonia belon...</td>\n",
       "      <td>319</td>\n",
       "      <td>26</td>\n",
       "      <td>0.435938</td>\n",
       "      <td>...</td>\n",
       "      <td>6ede1f51a3d143f09377dda35107693a</td>\n",
       "      <td>mistral.mistral-7b-instruct-v0:2</td>\n",
       "      <td>1</td>\n",
       "      <td>mistral.mistral-7b-instruct-v0:2</td>\n",
       "      <td>1.0</td>\n",
       "      <td>NaN</td>\n",
       "      <td>NaN</td>\n",
       "      <td>NaN</td>\n",
       "      <td>NaN</td>\n",
       "      <td>0.710724</td>\n",
       "    </tr>\n",
       "  </tbody>\n",
       "</table>\n",
       "<p>5 rows × 23 columns</p>\n",
       "</div>"
      ],
      "text/plain": [
       "                      endpoint_name  \\\n",
       "0  mistral.mistral-7b-instruct-v0:2   \n",
       "1  mistral.mistral-7b-instruct-v0:2   \n",
       "2  mistral.mistral-7b-instruct-v0:2   \n",
       "3  mistral.mistral-7b-instruct-v0:2   \n",
       "4  mistral.mistral-7b-instruct-v0:2   \n",
       "\n",
       "                                              prompt  \\\n",
       "0  <s>[INST] <<SYS>>\\nYou are an assistant for qu...   \n",
       "1  <s>[INST] <<SYS>>\\nYou are an assistant for qu...   \n",
       "2  <s>[INST] <<SYS>>\\nYou are an assistant for qu...   \n",
       "3  <s>[INST] <<SYS>>\\nYou are an assistant for qu...   \n",
       "4  <s>[INST] <<SYS>>\\nYou are an assistant for qu...   \n",
       "\n",
       "                                        ground_truth  temperature  max_tokens  \\\n",
       "0  a genus of flowering plant in the Lardizabalac...          0.1         100   \n",
       "1  a genus of flowering plant in the Lardizabalac...          0.1         100   \n",
       "2  a genus of flowering plant in the Lardizabalac...          0.1         100   \n",
       "3  a genus of flowering plant in the Lardizabalac...          0.1         100   \n",
       "4  a genus of flowering plant in the Lardizabalac...          0.1         100   \n",
       "\n",
       "   top_p                                         completion  prompt_tokens  \\\n",
       "0   0.92  The genera Sinofranchetia and Stauntonia belon...            319   \n",
       "1   0.92  The genera Sinofranchetia and Stauntonia belon...            319   \n",
       "2   0.92  The genera Sinofranchetia and Stauntonia belon...            319   \n",
       "3   0.92  The genera Sinofranchetia and Stauntonia belon...            319   \n",
       "4   0.92  The genera Sinofranchetia and Stauntonia belon...            319   \n",
       "\n",
       "   completion_tokens   latency  ...                              uuid  \\\n",
       "0                 26  0.440897  ...  6e77fb90ea804956a115b0268df059b0   \n",
       "1                 26  0.450330  ...  82d04de71238454a9bbe05f520f22cb0   \n",
       "2                 26  0.461762  ...  22303e132fb646aa86b938083660dce8   \n",
       "3                 26  0.453813  ...  715d1d30b18244279ff5c0fbf112f245   \n",
       "4                 26  0.435938  ...  6ede1f51a3d143f09377dda35107693a   \n",
       "\n",
       "                    experiment_name  concurrency  \\\n",
       "0  mistral.mistral-7b-instruct-v0:2            1   \n",
       "1  mistral.mistral-7b-instruct-v0:2            1   \n",
       "2  mistral.mistral-7b-instruct-v0:2            1   \n",
       "3  mistral.mistral-7b-instruct-v0:2            1   \n",
       "4  mistral.mistral-7b-instruct-v0:2            1   \n",
       "\n",
       "                      instance_type instance_count  EndpointName ModelName  \\\n",
       "0  mistral.mistral-7b-instruct-v0:2            1.0           NaN       NaN   \n",
       "1  mistral.mistral-7b-instruct-v0:2            1.0           NaN       NaN   \n",
       "2  mistral.mistral-7b-instruct-v0:2            1.0           NaN       NaN   \n",
       "3  mistral.mistral-7b-instruct-v0:2            1.0           NaN       NaN   \n",
       "4  mistral.mistral-7b-instruct-v0:2            1.0           NaN       NaN   \n",
       "\n",
       "   Image  S3Uri  cosine_similarity_score  \n",
       "0    NaN    NaN                 0.710724  \n",
       "1    NaN    NaN                 0.710724  \n",
       "2    NaN    NaN                 0.710724  \n",
       "3    NaN    NaN                 0.710724  \n",
       "4    NaN    NaN                 0.710724  \n",
       "\n",
       "[5 rows x 23 columns]"
      ]
     },
     "execution_count": 28,
     "metadata": {},
     "output_type": "execute_result"
    }
   ],
   "source": [
    "df_per_inference.head()"
   ]
  },
  {
   "cell_type": "markdown",
   "metadata": {},
   "source": [
    "### Prepare the evaluation prompt payloads\n",
    "---\n",
    "\n",
    "Here, the evaluation prompt template is used by the LLM judge to evaluate the answers on different criteria.\n",
    "This prompt template function uses a set of rules, prompt template, the answer, and ground truth (if any) in the\n",
    "evaluation solution"
   ]
  },
  {
   "cell_type": "code",
   "execution_count": 29,
   "metadata": {
    "tags": []
   },
   "outputs": [],
   "source": [
    "def prepare_eval_prompts(eval_template: str,\n",
    "                         answer: str, \n",
    "                         rules: str, \n",
    "                         context: str, \n",
    "                         ground_truth: Optional[str]):\n",
    "    \"\"\"\n",
    "    This function prepares the evaluation prompts by preparing the standard eval prompt template\n",
    "    with the rules of a given subjective criteria, context, answer and ground truth (if any ground truth is provided)\n",
    "    \"\"\"\n",
    "    processed_eval_template: Optional[str] = None\n",
    "    processed_eval_template = eval_template.format(\n",
    "        rules=rules,\n",
    "        answer=answer,\n",
    "        context=context,\n",
    "        ground_truth=ground_truth)\n",
    "    return processed_eval_template"
   ]
  },
  {
   "cell_type": "code",
   "execution_count": 30,
   "metadata": {
    "tags": []
   },
   "outputs": [],
   "source": [
    "def run_eval(i: int, total: int, row: Dict,  model_id: str, eval_method_name: str, uuid: str) -> Dict:\n",
    "    \"\"\"\n",
    "    Runs the evaluation for one row \n",
    "    The eval prompt is already available in the row dictionary\n",
    "    and we simply want to run the inference against the judge model.\n",
    "    The results are returned in a new dictionary that contains the model \n",
    "    response and some fields from the original dictionary\n",
    "    \"\"\"\n",
    "    # save all the responses from the model in a dictionary\n",
    "    resp: Dict = {}\n",
    "    print(f\"run_eval, row {i}/{total}, judge_model_id={model_id}, candidate model={row['endpoint_name']}\")\n",
    "\n",
    "    # create the payload for model inference\n",
    "    prompt = row[f'{model_id}_{method_name}_eval_prompt']\n",
    "    # generate the chapter title based on the given chapter in the prompt \n",
    "    resp = get_inference(model_id, prompt)\n",
    "    resp['candidate_model'] = row['endpoint_name']\n",
    "    resp['cosine_similarity_score'] = row['cosine_similarity_score']\n",
    "    if 'ground_truth' in row:\n",
    "        resp['ground_truth'] = row['ground_truth']\n",
    "    resp[f'{model_id}_answer'] = row['completion']\n",
    "    # calculate the input and output token price for all of the calls\n",
    "    model_eval_completions_dir: str = os.path.join(RESULTS_DIR, MODEL_EVALUATION_JUDGE_COMPLETIONS_DIR)\n",
    "    dir_path = os.path.join(model_eval_completions_dir, model_id, eval_method_name)\n",
    "    os.makedirs(dir_path, exist_ok=True)\n",
    "    fpath = os.path.join(dir_path, f\"{model_id}_{eval_method_name}_{uuid}.json\")\n",
    "\n",
    "    Path(fpath).write_text(json.dumps(resp, default=str, indent=2))\n",
    "\n",
    "    return resp\n",
    "\n",
    "# we use Ray to parallize\n",
    "@ray.remote\n",
    "def async_run_eval(i: int, total: int, row: Dict, model_id: str, eval_method_name: str, uuid: str) -> Dict:\n",
    "    print(f\"async_run_eval, i={i}, total={total}, judge_model_info={model_id}, eval_method: {eval_method_name}, uuid: {uuid}\")\n",
    "    return run_eval(i, total, row, model_id, eval_method_name, uuid)"
   ]
  },
  {
   "cell_type": "code",
   "execution_count": 31,
   "metadata": {
    "tags": []
   },
   "outputs": [
    {
     "name": "stderr",
     "output_type": "stream",
     "text": [
      "[2024-07-12 01:38:39,605] p13828 {2376022395.py:3} INFO - eval_records_list has 360 entries\n"
     ]
    }
   ],
   "source": [
    "# convert the dataframe into a list of dicts as that is easy to parallize via Ray\n",
    "df_per_inference_list = json.loads(df_per_inference.to_json(orient='records'))\n",
    "logger.info(f\"eval_records_list has {len(df_per_inference_list)} entries\")"
   ]
  },
  {
   "cell_type": "markdown",
   "metadata": {},
   "source": [
    "### Prepare evaluation prompt templates\n",
    "---\n",
    "\n",
    "This portion of the step prepares the evaluation prompt templates that are used to evaluate answers from different endpoints on a scale of 1-5 using various different evaluation criteria"
   ]
  },
  {
   "cell_type": "code",
   "execution_count": 32,
   "metadata": {
    "tags": []
   },
   "outputs": [
    {
     "data": {
      "text/plain": [
       "{'judge_panel_list': [{'model_id': 'anthropic.claude-3-haiku-20240307-v1:0',\n",
       "   'eval_prompt_template_dir': 'claude_eval_prompt_templates',\n",
       "   'eval_prompt_template_name_prefix': 'claude_eval_'},\n",
       "  {'model_id': 'meta.llama3-70b-instruct-v1:0',\n",
       "   'eval_prompt_template_dir': 'llama3_eval_prompt_templates',\n",
       "   'eval_prompt_template_name_prefix': 'llama3_eval_'},\n",
       "  {'model_id': 'cohere.command-r-v1:0',\n",
       "   'eval_prompt_template_dir': 'cohere_eval_prompt_templates',\n",
       "   'eval_prompt_template_name_prefix': 'cohere_eval_'}],\n",
       " 'run_parallel_inference_count': 10,\n",
       " 'inference_parameters': {'temperature': 0.1,\n",
       "  'max_tokens': 300,\n",
       "  'top_p': 0.92,\n",
       "  'caching': False}}"
      ]
     },
     "execution_count": 32,
     "metadata": {},
     "output_type": "execute_result"
    }
   ],
   "source": [
    "model_eval_subjective_info"
   ]
  },
  {
   "cell_type": "code",
   "execution_count": 33,
   "metadata": {
    "tags": []
   },
   "outputs": [
    {
     "name": "stderr",
     "output_type": "stream",
     "text": [
      "[2024-07-12 01:38:42,431] p13828 {2514474553.py:4} INFO - The evaluation method FMBench is going to use to evaluate different model responses: max_voting\n",
      "[2024-07-12 01:38:42,432] p13828 {2514474553.py:5} INFO - judge panel being used to evaluate model responses: [{'model_id': 'anthropic.claude-3-haiku-20240307-v1:0', 'eval_prompt_template_dir': 'claude_eval_prompt_templates', 'eval_prompt_template_name_prefix': 'claude_eval_'}, {'model_id': 'meta.llama3-70b-instruct-v1:0', 'eval_prompt_template_dir': 'llama3_eval_prompt_templates', 'eval_prompt_template_name_prefix': 'llama3_eval_'}, {'model_id': 'cohere.command-r-v1:0', 'eval_prompt_template_dir': 'cohere_eval_prompt_templates', 'eval_prompt_template_name_prefix': 'cohere_eval_'}]\n"
     ]
    }
   ],
   "source": [
    "# get the method that is being used to evaluate the content (which is either \n",
    "# max voting or average pooling)\n",
    "method_name: str = config['model_evaluations']['PoLL_Composition_and_Voting'].get('method', None)\n",
    "logger.info(f\"The evaluation method FMBench is going to use to evaluate different model responses: {method_name}\")\n",
    "logger.info(f\"judge panel being used to evaluate model responses: {model_eval_subjective_info.get('judge_panel_list', None)}\")"
   ]
  },
  {
   "cell_type": "code",
   "execution_count": 34,
   "metadata": {
    "tags": []
   },
   "outputs": [
    {
     "name": "stderr",
     "output_type": "stream",
     "text": [
      "[2024-07-12 01:38:47,222] p13828 {78993991.py:7} INFO - evaluation prompt template file path being used for anthropic.claude-3-haiku-20240307-v1:0: eval_criteria_prompts/claude_eval_prompt_templates/claude_eval_max_voting.txt\n",
      "[2024-07-12 01:38:47,223] p13828 {78993991.py:8} INFO - evaluation prompt template file name: claude_eval_max_voting.txt\n",
      "[2024-07-12 01:38:47,224] p13828 {78993991.py:19} INFO - rules: 1. Your role is to evaluate whether the answer is \"correct\" or \"incorrect\" compared to the ground truth\n",
      "provided and the question in the context.\n",
      "\n",
      "2. Your response should be a JSON containing 2 main elements: \"verdict\" and \"explanation\". In the \"verdict\"\n",
      "field of the JSON response, you should mention whether the question is \"correct\" or \"incorrect\" based on the \n",
      "comparison of the answer to the ground truth provided. The \"explanation\" field of the JSON contains the \n",
      "reason why the answer is correct or incorrect after your evaluation of it against the ground truth.\n",
      "\n",
      "3. Make sure to be completely accurate and give your response in a proper JSON format containing the two fields.\n",
      "Evaluate the ground truth carefully, and based on the question in the context provided, think about whether the \n",
      "answer is correct or incorrect. It does not have to be an exact match to the ground response, but should answer the\n",
      "question given in the context.\n",
      "\n",
      "4. If the answer is a close match to the ground truth and answers the same answer to the question as the ground truth, \n",
      "then your verdict is correct. If the answer does not match the ground truth and does not answer the question from the \n",
      "context, then your verdict is incorrect.\n",
      "\n",
      "5. Do not have any pre filler words in your response. Your response should only contain the JSON format response with\n",
      "your evaluation. \n",
      "[2024-07-12 01:38:47,225] p13828 {78993991.py:21} INFO - column_name: anthropic.claude-3-haiku-20240307-v1:0_max_voting_eval_prompt\n",
      "[2024-07-12 01:38:47,230] p13828 {78993991.py:7} INFO - evaluation prompt template file path being used for meta.llama3-70b-instruct-v1:0: eval_criteria_prompts/llama3_eval_prompt_templates/llama3_eval_max_voting.txt\n",
      "[2024-07-12 01:38:47,230] p13828 {78993991.py:8} INFO - evaluation prompt template file name: llama3_eval_max_voting.txt\n",
      "[2024-07-12 01:38:47,231] p13828 {78993991.py:19} INFO - rules: 1. Your role is to evaluate whether the answer is \"correct\" or \"incorrect\" compared to the ground truth\n",
      "provided and the question in the context.\n",
      "\n",
      "2. Your response should be a JSON containing 2 main elements: \"verdict\" and \"explanation\". In the \"verdict\"\n",
      "field of the JSON response, you should mention whether the question is \"correct\" or \"incorrect\" based on the \n",
      "comparison of the answer to the ground truth provided. The \"explanation\" field of the JSON contains the \n",
      "reason why the answer is correct or incorrect after your evaluation of it against the ground truth.\n",
      "\n",
      "3. Make sure to be completely accurate and give your response in a proper JSON format containing the two fields.\n",
      "Evaluate the ground truth carefully, and based on the question in the context provided, think about whether the \n",
      "answer is correct or incorrect. It does not have to be an exact match to the ground response, but should answer the\n",
      "question given in the context.\n",
      "\n",
      "4. If the answer is a close match to the ground truth and answers the same answer to the question as the ground truth, \n",
      "then your verdict is correct. If the answer does not match the ground truth and does not answer the question from the \n",
      "context, then your verdict is incorrect.\n",
      "\n",
      "5. Do not have any pre filler words in your response. Your response should only contain the JSON format response with\n",
      "your evaluation. \n",
      "[2024-07-12 01:38:47,231] p13828 {78993991.py:21} INFO - column_name: meta.llama3-70b-instruct-v1:0_max_voting_eval_prompt\n",
      "[2024-07-12 01:38:47,237] p13828 {78993991.py:7} INFO - evaluation prompt template file path being used for cohere.command-r-v1:0: eval_criteria_prompts/cohere_eval_prompt_templates/cohere_eval_max_voting.txt\n",
      "[2024-07-12 01:38:47,238] p13828 {78993991.py:8} INFO - evaluation prompt template file name: cohere_eval_max_voting.txt\n",
      "[2024-07-12 01:38:47,238] p13828 {78993991.py:19} INFO - rules: 1. Your role is to evaluate whether the answer is \"correct\" or \"incorrect\" compared to the ground truth\n",
      "provided and the question in the context.\n",
      "\n",
      "2. Your response should be a JSON containing 2 main elements: \"verdict\" and \"explanation\". In the \"verdict\"\n",
      "field of the JSON response, you should mention whether the question is \"correct\" or \"incorrect\" based on the \n",
      "comparison of the answer to the ground truth provided. The \"explanation\" field of the JSON contains the \n",
      "reason why the answer is correct or incorrect after your evaluation of it against the ground truth.\n",
      "\n",
      "3. Make sure to be completely accurate and give your response in a proper JSON format containing the two fields.\n",
      "Evaluate the ground truth carefully, and based on the question in the context provided, think about whether the \n",
      "answer is correct or incorrect. It does not have to be an exact match to the ground response, but should answer the\n",
      "question given in the context.\n",
      "\n",
      "4. If the answer is a close match to the ground truth and answers the same answer to the question as the ground truth, \n",
      "then your verdict is correct. If the answer does not match the ground truth and does not answer the question from the \n",
      "context, then your verdict is incorrect.\n",
      "\n",
      "5. Do not have any pre filler words in your response. Your response should only contain the JSON format response with\n",
      "your evaluation. \n",
      "[2024-07-12 01:38:47,239] p13828 {78993991.py:21} INFO - column_name: cohere.command-r-v1:0_max_voting_eval_prompt\n"
     ]
    },
    {
     "name": "stdout",
     "output_type": "stream",
     "text": [
      "Evaluation prompt template being used: Human: You are a judge who evaluates the correctness of the answer to a given question in the context \n",
      "in the <context></context> tags. Your role is to evaluate whether the answer provided in the <answer></answer> \n",
      "tags is correct compared to the ground truth answer provided in the <ground_truth></ground_truth> xml tags.\n",
      "\n",
      "Follow the instructions below while giving your evaluation in the <evaluation_instructions></evaluation_instructions>\n",
      "tags:\n",
      "\n",
      "<evaluation_instructions>\n",
      "{rules}\n",
      "</evaluation_instructions>\n",
      "\n",
      "Refer to the context below in the <context></context> xml tags:\n",
      "<context>\n",
      "{context}\n",
      "</context>\n",
      "\n",
      "Refer to the answer to be evaluated in the <answer></answer> tags:\n",
      "<answer>\n",
      "{answer}\n",
      "</answer> \n",
      "\n",
      "Refer to the ground truth to the question in the context below in the <ground_truth></ground_truth> xml tags: \n",
      "<ground_truth>\n",
      "{ground_truth}\n",
      "</ground_truth> \n",
      "\n",
      "Assistant: Sure, here is my evaluation in JSON:\n",
      "Evaluation prompt template being used: <|begin_of_text|><|start_header_id|>user<|end_header_id|>\n",
      "You are a judge who evaluates the correctness of the answer to a given question in the context \n",
      "demarcated by \"```\" below. Your role is to evaluate whether the answer provided in the answer section\n",
      "is correct compared to the ground truth answer provided in the ground_truth section.\n",
      "\n",
      "Follow the instructions below while giving your evaluation in the evaluation_instructions section below:\n",
      "\n",
      "evaluation_instructions:\n",
      "{rules}\n",
      "\n",
      "Refer to the context below demarcated by \"```\"\n",
      "```\n",
      "{context}\n",
      "```\n",
      "\n",
      "Refer to the answer to below that needs to be evaluated:\n",
      "answer: {answer}\n",
      "\n",
      "\n",
      "Refer to the ground truth to the question in the context below in the ground_truth section:\n",
      "ground_truth: {ground_truth}\n",
      "\n",
      "<|eot_id|><|start_header_id|>assistant<|end_header_id|>\n",
      "Evaluation prompt template being used: You are a judge who evaluates the correctness of the answer to a given question in the context section. \n",
      "Your role is to evaluate whether the answer provided in the answer section\n",
      "is correct compared to the ground truth answer provided in the ground_truth section.\n",
      "\n",
      "Follow the instructions below while giving your evaluation in the evaluation_instructions section below:\n",
      "\n",
      "## evaluation_instructions:\n",
      "{rules}\n",
      "\n",
      "## context:\n",
      "{context}\n",
      "\n",
      "Refer to the answer to below that needs to be evaluated:\n",
      "answer: {answer}\n",
      "\n",
      "\n",
      "Refer to the ground truth to the question in the context below in the ground_truth section:\n",
      "ground_truth: {ground_truth}\n"
     ]
    }
   ],
   "source": [
    "# Iterate through each LLM as a judge and each evaluation criterion\n",
    "for llm_info in model_eval_subjective_info.get('judge_panel_list', None):\n",
    "    model_id = llm_info['model_id']\n",
    "    eval_prompt_template_fname: str = f\"{llm_info.get('eval_prompt_template_name_prefix', None)}{method_name}.txt\"\n",
    "    eval_prompt_template_dir = llm_info.get('eval_prompt_template_dir', None)\n",
    "    eval_prompt_template_path: str = os.path.join(EVAL_DIR, eval_prompt_template_dir, eval_prompt_template_fname)\n",
    "    logger.info(f\"evaluation prompt template file path being used for {model_id}: {eval_prompt_template_path}\")\n",
    "    logger.info(f\"evaluation prompt template file name: {eval_prompt_template_fname}\")\n",
    "    \n",
    "    try:\n",
    "        eval_prompt_template = Path(eval_prompt_template_path).read_text()\n",
    "    except FileNotFoundError:\n",
    "        logger.error(f\"File not found: {eval_prompt_template_path}\")\n",
    "        continue\n",
    "\n",
    "    print(f\"Evaluation prompt template being used: {eval_prompt_template}\")\n",
    "    eval_instructions_fname: str = next((rule for rule in config['s3_read_data']['eval_instructions_files'] if method_name in rule), None)\n",
    "    rules = Path(os.path.join(EVAL_DIR, eval_instructions_fname)).read_text()\n",
    "    logger.info(f\"rules: {rules}\")\n",
    "    column_name = f\"{model_id}_{method_name}_eval_prompt\"\n",
    "    logger.info(f\"column_name: {column_name}\")\n",
    "\n",
    "    df_per_inference[column_name] = df_per_inference.apply(\n",
    "        lambda r: prepare_eval_prompts(\n",
    "            eval_prompt_template,\n",
    "            r['completion'],\n",
    "            rules,\n",
    "            r['prompt'],\n",
    "            r['ground_truth']\n",
    "        ),\n",
    "        axis=1\n",
    "    )\n"
   ]
  },
  {
   "cell_type": "code",
   "execution_count": 35,
   "metadata": {
    "tags": []
   },
   "outputs": [
    {
     "name": "stderr",
     "output_type": "stream",
     "text": [
      "[2024-07-12 01:38:54,635] p13828 {4247376453.py:9} INFO - Per inference cosine similarity scores saved to s3://sagemaker-fmbench-write-us-west-2-387192758086/fmbench-bedrock-fmbench-stack-us-west-2-role/data/metrics/yyyy=2024/mm=07/dd=12/hh=01/mm=37/processed_eval_prompts_for_inference.csv\n"
     ]
    },
    {
     "data": {
      "text/html": [
       "<div>\n",
       "<style scoped>\n",
       "    .dataframe tbody tr th:only-of-type {\n",
       "        vertical-align: middle;\n",
       "    }\n",
       "\n",
       "    .dataframe tbody tr th {\n",
       "        vertical-align: top;\n",
       "    }\n",
       "\n",
       "    .dataframe thead th {\n",
       "        text-align: right;\n",
       "    }\n",
       "</style>\n",
       "<table border=\"1\" class=\"dataframe\">\n",
       "  <thead>\n",
       "    <tr style=\"text-align: right;\">\n",
       "      <th></th>\n",
       "      <th>endpoint_name</th>\n",
       "      <th>prompt</th>\n",
       "      <th>ground_truth</th>\n",
       "      <th>temperature</th>\n",
       "      <th>max_tokens</th>\n",
       "      <th>top_p</th>\n",
       "      <th>completion</th>\n",
       "      <th>prompt_tokens</th>\n",
       "      <th>completion_tokens</th>\n",
       "      <th>latency</th>\n",
       "      <th>...</th>\n",
       "      <th>instance_type</th>\n",
       "      <th>instance_count</th>\n",
       "      <th>EndpointName</th>\n",
       "      <th>ModelName</th>\n",
       "      <th>Image</th>\n",
       "      <th>S3Uri</th>\n",
       "      <th>cosine_similarity_score</th>\n",
       "      <th>anthropic.claude-3-haiku-20240307-v1:0_max_voting_eval_prompt</th>\n",
       "      <th>meta.llama3-70b-instruct-v1:0_max_voting_eval_prompt</th>\n",
       "      <th>cohere.command-r-v1:0_max_voting_eval_prompt</th>\n",
       "    </tr>\n",
       "  </thead>\n",
       "  <tbody>\n",
       "    <tr>\n",
       "      <th>0</th>\n",
       "      <td>mistral.mistral-7b-instruct-v0:2</td>\n",
       "      <td>&lt;s&gt;[INST] &lt;&lt;SYS&gt;&gt;\\nYou are an assistant for qu...</td>\n",
       "      <td>a genus of flowering plant in the Lardizabalac...</td>\n",
       "      <td>0.1</td>\n",
       "      <td>100</td>\n",
       "      <td>0.92</td>\n",
       "      <td>The genera Sinofranchetia and Stauntonia belon...</td>\n",
       "      <td>319</td>\n",
       "      <td>26</td>\n",
       "      <td>0.440897</td>\n",
       "      <td>...</td>\n",
       "      <td>mistral.mistral-7b-instruct-v0:2</td>\n",
       "      <td>1.0</td>\n",
       "      <td>NaN</td>\n",
       "      <td>NaN</td>\n",
       "      <td>NaN</td>\n",
       "      <td>NaN</td>\n",
       "      <td>0.710724</td>\n",
       "      <td>Human: You are a judge who evaluates the corre...</td>\n",
       "      <td>&lt;|begin_of_text|&gt;&lt;|start_header_id|&gt;user&lt;|end_...</td>\n",
       "      <td>You are a judge who evaluates the correctness ...</td>\n",
       "    </tr>\n",
       "    <tr>\n",
       "      <th>1</th>\n",
       "      <td>mistral.mistral-7b-instruct-v0:2</td>\n",
       "      <td>&lt;s&gt;[INST] &lt;&lt;SYS&gt;&gt;\\nYou are an assistant for qu...</td>\n",
       "      <td>a genus of flowering plant in the Lardizabalac...</td>\n",
       "      <td>0.1</td>\n",
       "      <td>100</td>\n",
       "      <td>0.92</td>\n",
       "      <td>The genera Sinofranchetia and Stauntonia belon...</td>\n",
       "      <td>319</td>\n",
       "      <td>26</td>\n",
       "      <td>0.450330</td>\n",
       "      <td>...</td>\n",
       "      <td>mistral.mistral-7b-instruct-v0:2</td>\n",
       "      <td>1.0</td>\n",
       "      <td>NaN</td>\n",
       "      <td>NaN</td>\n",
       "      <td>NaN</td>\n",
       "      <td>NaN</td>\n",
       "      <td>0.710724</td>\n",
       "      <td>Human: You are a judge who evaluates the corre...</td>\n",
       "      <td>&lt;|begin_of_text|&gt;&lt;|start_header_id|&gt;user&lt;|end_...</td>\n",
       "      <td>You are a judge who evaluates the correctness ...</td>\n",
       "    </tr>\n",
       "    <tr>\n",
       "      <th>2</th>\n",
       "      <td>mistral.mistral-7b-instruct-v0:2</td>\n",
       "      <td>&lt;s&gt;[INST] &lt;&lt;SYS&gt;&gt;\\nYou are an assistant for qu...</td>\n",
       "      <td>a genus of flowering plant in the Lardizabalac...</td>\n",
       "      <td>0.1</td>\n",
       "      <td>100</td>\n",
       "      <td>0.92</td>\n",
       "      <td>The genera Sinofranchetia and Stauntonia belon...</td>\n",
       "      <td>319</td>\n",
       "      <td>26</td>\n",
       "      <td>0.461762</td>\n",
       "      <td>...</td>\n",
       "      <td>mistral.mistral-7b-instruct-v0:2</td>\n",
       "      <td>1.0</td>\n",
       "      <td>NaN</td>\n",
       "      <td>NaN</td>\n",
       "      <td>NaN</td>\n",
       "      <td>NaN</td>\n",
       "      <td>0.710724</td>\n",
       "      <td>Human: You are a judge who evaluates the corre...</td>\n",
       "      <td>&lt;|begin_of_text|&gt;&lt;|start_header_id|&gt;user&lt;|end_...</td>\n",
       "      <td>You are a judge who evaluates the correctness ...</td>\n",
       "    </tr>\n",
       "    <tr>\n",
       "      <th>3</th>\n",
       "      <td>mistral.mistral-7b-instruct-v0:2</td>\n",
       "      <td>&lt;s&gt;[INST] &lt;&lt;SYS&gt;&gt;\\nYou are an assistant for qu...</td>\n",
       "      <td>a genus of flowering plant in the Lardizabalac...</td>\n",
       "      <td>0.1</td>\n",
       "      <td>100</td>\n",
       "      <td>0.92</td>\n",
       "      <td>The genera Sinofranchetia and Stauntonia belon...</td>\n",
       "      <td>319</td>\n",
       "      <td>26</td>\n",
       "      <td>0.453813</td>\n",
       "      <td>...</td>\n",
       "      <td>mistral.mistral-7b-instruct-v0:2</td>\n",
       "      <td>1.0</td>\n",
       "      <td>NaN</td>\n",
       "      <td>NaN</td>\n",
       "      <td>NaN</td>\n",
       "      <td>NaN</td>\n",
       "      <td>0.710724</td>\n",
       "      <td>Human: You are a judge who evaluates the corre...</td>\n",
       "      <td>&lt;|begin_of_text|&gt;&lt;|start_header_id|&gt;user&lt;|end_...</td>\n",
       "      <td>You are a judge who evaluates the correctness ...</td>\n",
       "    </tr>\n",
       "    <tr>\n",
       "      <th>4</th>\n",
       "      <td>mistral.mistral-7b-instruct-v0:2</td>\n",
       "      <td>&lt;s&gt;[INST] &lt;&lt;SYS&gt;&gt;\\nYou are an assistant for qu...</td>\n",
       "      <td>a genus of flowering plant in the Lardizabalac...</td>\n",
       "      <td>0.1</td>\n",
       "      <td>100</td>\n",
       "      <td>0.92</td>\n",
       "      <td>The genera Sinofranchetia and Stauntonia belon...</td>\n",
       "      <td>319</td>\n",
       "      <td>26</td>\n",
       "      <td>0.435938</td>\n",
       "      <td>...</td>\n",
       "      <td>mistral.mistral-7b-instruct-v0:2</td>\n",
       "      <td>1.0</td>\n",
       "      <td>NaN</td>\n",
       "      <td>NaN</td>\n",
       "      <td>NaN</td>\n",
       "      <td>NaN</td>\n",
       "      <td>0.710724</td>\n",
       "      <td>Human: You are a judge who evaluates the corre...</td>\n",
       "      <td>&lt;|begin_of_text|&gt;&lt;|start_header_id|&gt;user&lt;|end_...</td>\n",
       "      <td>You are a judge who evaluates the correctness ...</td>\n",
       "    </tr>\n",
       "  </tbody>\n",
       "</table>\n",
       "<p>5 rows × 26 columns</p>\n",
       "</div>"
      ],
      "text/plain": [
       "                      endpoint_name  \\\n",
       "0  mistral.mistral-7b-instruct-v0:2   \n",
       "1  mistral.mistral-7b-instruct-v0:2   \n",
       "2  mistral.mistral-7b-instruct-v0:2   \n",
       "3  mistral.mistral-7b-instruct-v0:2   \n",
       "4  mistral.mistral-7b-instruct-v0:2   \n",
       "\n",
       "                                              prompt  \\\n",
       "0  <s>[INST] <<SYS>>\\nYou are an assistant for qu...   \n",
       "1  <s>[INST] <<SYS>>\\nYou are an assistant for qu...   \n",
       "2  <s>[INST] <<SYS>>\\nYou are an assistant for qu...   \n",
       "3  <s>[INST] <<SYS>>\\nYou are an assistant for qu...   \n",
       "4  <s>[INST] <<SYS>>\\nYou are an assistant for qu...   \n",
       "\n",
       "                                        ground_truth  temperature  max_tokens  \\\n",
       "0  a genus of flowering plant in the Lardizabalac...          0.1         100   \n",
       "1  a genus of flowering plant in the Lardizabalac...          0.1         100   \n",
       "2  a genus of flowering plant in the Lardizabalac...          0.1         100   \n",
       "3  a genus of flowering plant in the Lardizabalac...          0.1         100   \n",
       "4  a genus of flowering plant in the Lardizabalac...          0.1         100   \n",
       "\n",
       "   top_p                                         completion  prompt_tokens  \\\n",
       "0   0.92  The genera Sinofranchetia and Stauntonia belon...            319   \n",
       "1   0.92  The genera Sinofranchetia and Stauntonia belon...            319   \n",
       "2   0.92  The genera Sinofranchetia and Stauntonia belon...            319   \n",
       "3   0.92  The genera Sinofranchetia and Stauntonia belon...            319   \n",
       "4   0.92  The genera Sinofranchetia and Stauntonia belon...            319   \n",
       "\n",
       "   completion_tokens   latency  ...                     instance_type  \\\n",
       "0                 26  0.440897  ...  mistral.mistral-7b-instruct-v0:2   \n",
       "1                 26  0.450330  ...  mistral.mistral-7b-instruct-v0:2   \n",
       "2                 26  0.461762  ...  mistral.mistral-7b-instruct-v0:2   \n",
       "3                 26  0.453813  ...  mistral.mistral-7b-instruct-v0:2   \n",
       "4                 26  0.435938  ...  mistral.mistral-7b-instruct-v0:2   \n",
       "\n",
       "   instance_count  EndpointName ModelName Image  S3Uri  \\\n",
       "0             1.0           NaN       NaN   NaN    NaN   \n",
       "1             1.0           NaN       NaN   NaN    NaN   \n",
       "2             1.0           NaN       NaN   NaN    NaN   \n",
       "3             1.0           NaN       NaN   NaN    NaN   \n",
       "4             1.0           NaN       NaN   NaN    NaN   \n",
       "\n",
       "  cosine_similarity_score  \\\n",
       "0                0.710724   \n",
       "1                0.710724   \n",
       "2                0.710724   \n",
       "3                0.710724   \n",
       "4                0.710724   \n",
       "\n",
       "   anthropic.claude-3-haiku-20240307-v1:0_max_voting_eval_prompt  \\\n",
       "0  Human: You are a judge who evaluates the corre...               \n",
       "1  Human: You are a judge who evaluates the corre...               \n",
       "2  Human: You are a judge who evaluates the corre...               \n",
       "3  Human: You are a judge who evaluates the corre...               \n",
       "4  Human: You are a judge who evaluates the corre...               \n",
       "\n",
       "   meta.llama3-70b-instruct-v1:0_max_voting_eval_prompt  \\\n",
       "0  <|begin_of_text|><|start_header_id|>user<|end_...      \n",
       "1  <|begin_of_text|><|start_header_id|>user<|end_...      \n",
       "2  <|begin_of_text|><|start_header_id|>user<|end_...      \n",
       "3  <|begin_of_text|><|start_header_id|>user<|end_...      \n",
       "4  <|begin_of_text|><|start_header_id|>user<|end_...      \n",
       "\n",
       "        cohere.command-r-v1:0_max_voting_eval_prompt  \n",
       "0  You are a judge who evaluates the correctness ...  \n",
       "1  You are a judge who evaluates the correctness ...  \n",
       "2  You are a judge who evaluates the correctness ...  \n",
       "3  You are a judge who evaluates the correctness ...  \n",
       "4  You are a judge who evaluates the correctness ...  \n",
       "\n",
       "[5 rows x 26 columns]"
      ]
     },
     "execution_count": 35,
     "metadata": {},
     "output_type": "execute_result"
    }
   ],
   "source": [
    "csv_buffer = io.StringIO()\n",
    "df_per_inference.to_csv(csv_buffer, index=False)\n",
    "df_per_inference_with_eval_prompt_payloads = csv_buffer.getvalue()\n",
    "eval_prompt_payloads_for_inference = os.path.join(METRICS_DIR, PROCESSED_EVAL_PROMPT_PAYLOADS)  # Define full S3 path\n",
    "\n",
    "# Write the CSV data to S3\n",
    "write_to_s3(df_per_inference_with_eval_prompt_payloads, BUCKET_NAME, \"\", \n",
    "            METRICS_DIR, PROCESSED_EVAL_PROMPT_PAYLOADS)\n",
    "logger.info(f\"Per inference cosine similarity scores saved to s3://{BUCKET_NAME}/{eval_prompt_payloads_for_inference}\")\n",
    "\n",
    "df_per_inference.head()"
   ]
  },
  {
   "cell_type": "code",
   "execution_count": 36,
   "metadata": {
    "tags": []
   },
   "outputs": [
    {
     "name": "stderr",
     "output_type": "stream",
     "text": [
      "[2024-07-12 01:38:57,181] p13828 {3717042138.py:3} INFO - eval_records_list has 360 entries\n"
     ]
    }
   ],
   "source": [
    "# convert the dataframe into a list of dicts as that is easy to parallize via Ray\n",
    "eval_records_list = json.loads(df_per_inference.to_json(orient='records'))\n",
    "logger.info(f\"eval_records_list has {len(eval_records_list)} entries\")"
   ]
  },
  {
   "cell_type": "markdown",
   "metadata": {},
   "source": [
    "### Run LLM as a Judge Evaluations\n",
    "---\n",
    "\n",
    "In this portion of the step, FMBench performs the following actions:\n",
    "\n",
    "1. If the method of evaluation is `Max Voting`, then in that case we suppose that a ground truth to the question from the context or task is pre existing in the dataset. We use the LLM panel of judges (in this case 3 judges), to give a verdict on whether the `answer` from the candidate models during inference is `correct` or `incorrect`. If the response is correct, then it gives it a `correct` and if not, then `incorrect`.\n",
    "\n",
    "1. If the method of evaluation is `Average Pooling`, then in that case we suppose that the completion from the candidate models are supposed to be evlauated on a more subjective criteria rather than just deciding whether it is correct or incorrect compared to the ground truth. In this case, the average pooling prompt templates are used by the Judge Panel to give a rating out of 1-5 to each model completion on different criteria, such as relevancy, helpfulness, correctness, and so on.\n",
    "\n",
    "1. Each model response is given in a JSON structure which is further used for downstream analytics, to decide the comparision of evaluation results between different model candidates and more."
   ]
  },
  {
   "cell_type": "code",
   "execution_count": 37,
   "metadata": {
    "tags": []
   },
   "outputs": [
    {
     "name": "stderr",
     "output_type": "stream",
     "text": [
      "[2024-07-12 01:38:59,158] p13828 {602205354.py:3} INFO - The judge panel list contains 3 judges: [{'model_id': 'anthropic.claude-3-haiku-20240307-v1:0', 'eval_prompt_template_dir': 'claude_eval_prompt_templates', 'eval_prompt_template_name_prefix': 'claude_eval_'}, {'model_id': 'meta.llama3-70b-instruct-v1:0', 'eval_prompt_template_dir': 'llama3_eval_prompt_templates', 'eval_prompt_template_name_prefix': 'llama3_eval_'}, {'model_id': 'cohere.command-r-v1:0', 'eval_prompt_template_dir': 'cohere_eval_prompt_templates', 'eval_prompt_template_name_prefix': 'cohere_eval_'}]\n"
     ]
    }
   ],
   "source": [
    "# get the llm as a judge panel list\n",
    "judge_panel_list = model_eval_subjective_info.get('judge_panel_list', None)\n",
    "logger.info(f\"The judge panel list contains {len(judge_panel_list)} judges: {judge_panel_list}\")"
   ]
  },
  {
   "cell_type": "code",
   "execution_count": 38,
   "metadata": {
    "collapsed": true,
    "jupyter": {
     "outputs_hidden": true
    },
    "tags": []
   },
   "outputs": [
    {
     "name": "stderr",
     "output_type": "stream",
     "text": [
      "[2024-07-12 01:39:02,024] p13828 {2597572843.py:10} INFO - ============Running inference for judge panelist #1 = anthropic.claude-3-haiku-20240307-v1:0============\n",
      "[2024-07-12 01:39:02,025] p13828 {2597572843.py:11} INFO - getting inference for list 1/36, size of list=10\n",
      "[2024-07-12 01:39:06,058] p13828 {2597572843.py:10} INFO - ============Running inference for judge panelist #2 = anthropic.claude-3-haiku-20240307-v1:0============\n",
      "[2024-07-12 01:39:06,058] p13828 {2597572843.py:11} INFO - getting inference for list 2/36, size of list=10\n",
      "[2024-07-12 01:39:08,191] p13828 {2597572843.py:10} INFO - ============Running inference for judge panelist #3 = anthropic.claude-3-haiku-20240307-v1:0============\n",
      "[2024-07-12 01:39:08,191] p13828 {2597572843.py:11} INFO - getting inference for list 3/36, size of list=10\n",
      "[2024-07-12 01:39:10,661] p13828 {2597572843.py:10} INFO - ============Running inference for judge panelist #4 = anthropic.claude-3-haiku-20240307-v1:0============\n",
      "[2024-07-12 01:39:10,661] p13828 {2597572843.py:11} INFO - getting inference for list 4/36, size of list=10\n",
      "[2024-07-12 01:39:13,031] p13828 {2597572843.py:10} INFO - ============Running inference for judge panelist #5 = anthropic.claude-3-haiku-20240307-v1:0============\n",
      "[2024-07-12 01:39:13,031] p13828 {2597572843.py:11} INFO - getting inference for list 5/36, size of list=10\n",
      "[2024-07-12 01:39:15,097] p13828 {2597572843.py:10} INFO - ============Running inference for judge panelist #6 = anthropic.claude-3-haiku-20240307-v1:0============\n",
      "[2024-07-12 01:39:15,098] p13828 {2597572843.py:11} INFO - getting inference for list 6/36, size of list=10\n",
      "[2024-07-12 01:39:17,809] p13828 {2597572843.py:10} INFO - ============Running inference for judge panelist #7 = anthropic.claude-3-haiku-20240307-v1:0============\n",
      "[2024-07-12 01:39:17,809] p13828 {2597572843.py:11} INFO - getting inference for list 7/36, size of list=10\n",
      "[2024-07-12 01:39:20,439] p13828 {2597572843.py:10} INFO - ============Running inference for judge panelist #8 = anthropic.claude-3-haiku-20240307-v1:0============\n",
      "[2024-07-12 01:39:20,439] p13828 {2597572843.py:11} INFO - getting inference for list 8/36, size of list=10\n",
      "[2024-07-12 01:39:22,405] p13828 {2597572843.py:10} INFO - ============Running inference for judge panelist #9 = anthropic.claude-3-haiku-20240307-v1:0============\n",
      "[2024-07-12 01:39:22,406] p13828 {2597572843.py:11} INFO - getting inference for list 9/36, size of list=10\n",
      "[2024-07-12 01:39:25,151] p13828 {2597572843.py:10} INFO - ============Running inference for judge panelist #10 = anthropic.claude-3-haiku-20240307-v1:0============\n",
      "[2024-07-12 01:39:25,152] p13828 {2597572843.py:11} INFO - getting inference for list 10/36, size of list=10\n",
      "[2024-07-12 01:39:27,756] p13828 {2597572843.py:10} INFO - ============Running inference for judge panelist #11 = anthropic.claude-3-haiku-20240307-v1:0============\n",
      "[2024-07-12 01:39:27,756] p13828 {2597572843.py:11} INFO - getting inference for list 11/36, size of list=10\n",
      "[2024-07-12 01:39:29,870] p13828 {2597572843.py:10} INFO - ============Running inference for judge panelist #12 = anthropic.claude-3-haiku-20240307-v1:0============\n",
      "[2024-07-12 01:39:29,870] p13828 {2597572843.py:11} INFO - getting inference for list 12/36, size of list=10\n",
      "[2024-07-12 01:39:32,595] p13828 {2597572843.py:10} INFO - ============Running inference for judge panelist #13 = anthropic.claude-3-haiku-20240307-v1:0============\n",
      "[2024-07-12 01:39:32,595] p13828 {2597572843.py:11} INFO - getting inference for list 13/36, size of list=10\n",
      "[2024-07-12 01:39:34,976] p13828 {2597572843.py:10} INFO - ============Running inference for judge panelist #14 = anthropic.claude-3-haiku-20240307-v1:0============\n",
      "[2024-07-12 01:39:34,976] p13828 {2597572843.py:11} INFO - getting inference for list 14/36, size of list=10\n",
      "[2024-07-12 01:39:37,001] p13828 {2597572843.py:10} INFO - ============Running inference for judge panelist #15 = anthropic.claude-3-haiku-20240307-v1:0============\n",
      "[2024-07-12 01:39:37,001] p13828 {2597572843.py:11} INFO - getting inference for list 15/36, size of list=10\n",
      "[2024-07-12 01:39:39,815] p13828 {2597572843.py:10} INFO - ============Running inference for judge panelist #16 = anthropic.claude-3-haiku-20240307-v1:0============\n",
      "[2024-07-12 01:39:39,815] p13828 {2597572843.py:11} INFO - getting inference for list 16/36, size of list=10\n",
      "[2024-07-12 01:39:42,139] p13828 {2597572843.py:10} INFO - ============Running inference for judge panelist #17 = anthropic.claude-3-haiku-20240307-v1:0============\n",
      "[2024-07-12 01:39:42,140] p13828 {2597572843.py:11} INFO - getting inference for list 17/36, size of list=10\n",
      "[2024-07-12 01:39:44,169] p13828 {2597572843.py:10} INFO - ============Running inference for judge panelist #18 = anthropic.claude-3-haiku-20240307-v1:0============\n",
      "[2024-07-12 01:39:44,170] p13828 {2597572843.py:11} INFO - getting inference for list 18/36, size of list=10\n",
      "[2024-07-12 01:39:46,857] p13828 {2597572843.py:10} INFO - ============Running inference for judge panelist #19 = anthropic.claude-3-haiku-20240307-v1:0============\n",
      "[2024-07-12 01:39:46,857] p13828 {2597572843.py:11} INFO - getting inference for list 19/36, size of list=10\n",
      "[2024-07-12 01:39:49,696] p13828 {2597572843.py:10} INFO - ============Running inference for judge panelist #20 = anthropic.claude-3-haiku-20240307-v1:0============\n",
      "[2024-07-12 01:39:49,697] p13828 {2597572843.py:11} INFO - getting inference for list 20/36, size of list=10\n",
      "[2024-07-12 01:39:51,789] p13828 {2597572843.py:10} INFO - ============Running inference for judge panelist #21 = anthropic.claude-3-haiku-20240307-v1:0============\n",
      "[2024-07-12 01:39:51,789] p13828 {2597572843.py:11} INFO - getting inference for list 21/36, size of list=10\n",
      "[2024-07-12 01:39:54,606] p13828 {2597572843.py:10} INFO - ============Running inference for judge panelist #22 = anthropic.claude-3-haiku-20240307-v1:0============\n",
      "[2024-07-12 01:39:54,607] p13828 {2597572843.py:11} INFO - getting inference for list 22/36, size of list=10\n",
      "[2024-07-12 01:39:57,125] p13828 {2597572843.py:10} INFO - ============Running inference for judge panelist #23 = anthropic.claude-3-haiku-20240307-v1:0============\n",
      "[2024-07-12 01:39:57,126] p13828 {2597572843.py:11} INFO - getting inference for list 23/36, size of list=10\n",
      "[2024-07-12 01:39:59,525] p13828 {2597572843.py:10} INFO - ============Running inference for judge panelist #24 = anthropic.claude-3-haiku-20240307-v1:0============\n",
      "[2024-07-12 01:39:59,526] p13828 {2597572843.py:11} INFO - getting inference for list 24/36, size of list=10\n",
      "[2024-07-12 01:40:02,374] p13828 {2597572843.py:10} INFO - ============Running inference for judge panelist #25 = anthropic.claude-3-haiku-20240307-v1:0============\n",
      "[2024-07-12 01:40:02,374] p13828 {2597572843.py:11} INFO - getting inference for list 25/36, size of list=10\n",
      "[2024-07-12 01:40:04,965] p13828 {2597572843.py:10} INFO - ============Running inference for judge panelist #26 = anthropic.claude-3-haiku-20240307-v1:0============\n",
      "[2024-07-12 01:40:04,966] p13828 {2597572843.py:11} INFO - getting inference for list 26/36, size of list=10\n",
      "[2024-07-12 01:40:07,071] p13828 {2597572843.py:10} INFO - ============Running inference for judge panelist #27 = anthropic.claude-3-haiku-20240307-v1:0============\n",
      "[2024-07-12 01:40:07,072] p13828 {2597572843.py:11} INFO - getting inference for list 27/36, size of list=10\n",
      "[2024-07-12 01:40:09,754] p13828 {2597572843.py:10} INFO - ============Running inference for judge panelist #28 = anthropic.claude-3-haiku-20240307-v1:0============\n",
      "[2024-07-12 01:40:09,754] p13828 {2597572843.py:11} INFO - getting inference for list 28/36, size of list=10\n",
      "[2024-07-12 01:40:12,413] p13828 {2597572843.py:10} INFO - ============Running inference for judge panelist #29 = anthropic.claude-3-haiku-20240307-v1:0============\n",
      "[2024-07-12 01:40:12,413] p13828 {2597572843.py:11} INFO - getting inference for list 29/36, size of list=10\n",
      "[2024-07-12 01:40:14,455] p13828 {2597572843.py:10} INFO - ============Running inference for judge panelist #30 = anthropic.claude-3-haiku-20240307-v1:0============\n",
      "[2024-07-12 01:40:14,455] p13828 {2597572843.py:11} INFO - getting inference for list 30/36, size of list=10\n",
      "[2024-07-12 01:40:17,312] p13828 {2597572843.py:10} INFO - ============Running inference for judge panelist #31 = anthropic.claude-3-haiku-20240307-v1:0============\n",
      "[2024-07-12 01:40:17,312] p13828 {2597572843.py:11} INFO - getting inference for list 31/36, size of list=10\n",
      "[2024-07-12 01:40:19,507] p13828 {2597572843.py:10} INFO - ============Running inference for judge panelist #32 = anthropic.claude-3-haiku-20240307-v1:0============\n",
      "[2024-07-12 01:40:19,508] p13828 {2597572843.py:11} INFO - getting inference for list 32/36, size of list=10\n",
      "[2024-07-12 01:40:21,607] p13828 {2597572843.py:10} INFO - ============Running inference for judge panelist #33 = anthropic.claude-3-haiku-20240307-v1:0============\n",
      "[2024-07-12 01:40:21,607] p13828 {2597572843.py:11} INFO - getting inference for list 33/36, size of list=10\n",
      "[2024-07-12 01:40:23,913] p13828 {2597572843.py:10} INFO - ============Running inference for judge panelist #34 = anthropic.claude-3-haiku-20240307-v1:0============\n",
      "[2024-07-12 01:40:23,914] p13828 {2597572843.py:11} INFO - getting inference for list 34/36, size of list=10\n",
      "[2024-07-12 01:40:25,997] p13828 {2597572843.py:10} INFO - ============Running inference for judge panelist #35 = anthropic.claude-3-haiku-20240307-v1:0============\n",
      "[2024-07-12 01:40:25,998] p13828 {2597572843.py:11} INFO - getting inference for list 35/36, size of list=10\n",
      "[2024-07-12 01:40:27,995] p13828 {2597572843.py:10} INFO - ============Running inference for judge panelist #36 = anthropic.claude-3-haiku-20240307-v1:0============\n",
      "[2024-07-12 01:40:27,996] p13828 {2597572843.py:11} INFO - getting inference for list 36/36, size of list=10\n",
      "[2024-07-12 01:40:30,220] p13828 {2597572843.py:10} INFO - ============Running inference for judge panelist #1 = meta.llama3-70b-instruct-v1:0============\n",
      "[2024-07-12 01:40:30,221] p13828 {2597572843.py:11} INFO - getting inference for list 1/36, size of list=10\n",
      "[2024-07-12 01:40:34,777] p13828 {2597572843.py:10} INFO - ============Running inference for judge panelist #2 = meta.llama3-70b-instruct-v1:0============\n",
      "[2024-07-12 01:40:34,778] p13828 {2597572843.py:11} INFO - getting inference for list 2/36, size of list=10\n",
      "[2024-07-12 01:40:38,828] p13828 {2597572843.py:10} INFO - ============Running inference for judge panelist #3 = meta.llama3-70b-instruct-v1:0============\n",
      "[2024-07-12 01:40:38,829] p13828 {2597572843.py:11} INFO - getting inference for list 3/36, size of list=10\n",
      "[2024-07-12 01:40:43,829] p13828 {2597572843.py:10} INFO - ============Running inference for judge panelist #4 = meta.llama3-70b-instruct-v1:0============\n",
      "[2024-07-12 01:40:43,829] p13828 {2597572843.py:11} INFO - getting inference for list 4/36, size of list=10\n",
      "[2024-07-12 01:40:48,219] p13828 {2597572843.py:10} INFO - ============Running inference for judge panelist #5 = meta.llama3-70b-instruct-v1:0============\n",
      "[2024-07-12 01:40:48,219] p13828 {2597572843.py:11} INFO - getting inference for list 5/36, size of list=10\n",
      "[2024-07-12 01:40:52,281] p13828 {2597572843.py:10} INFO - ============Running inference for judge panelist #6 = meta.llama3-70b-instruct-v1:0============\n",
      "[2024-07-12 01:40:52,282] p13828 {2597572843.py:11} INFO - getting inference for list 6/36, size of list=10\n",
      "[2024-07-12 01:40:57,585] p13828 {2597572843.py:10} INFO - ============Running inference for judge panelist #7 = meta.llama3-70b-instruct-v1:0============\n",
      "[2024-07-12 01:40:57,585] p13828 {2597572843.py:11} INFO - getting inference for list 7/36, size of list=10\n",
      "[2024-07-12 01:41:02,252] p13828 {2597572843.py:10} INFO - ============Running inference for judge panelist #8 = meta.llama3-70b-instruct-v1:0============\n",
      "[2024-07-12 01:41:02,253] p13828 {2597572843.py:11} INFO - getting inference for list 8/36, size of list=10\n",
      "[2024-07-12 01:41:06,207] p13828 {2597572843.py:10} INFO - ============Running inference for judge panelist #9 = meta.llama3-70b-instruct-v1:0============\n",
      "[2024-07-12 01:41:06,207] p13828 {2597572843.py:11} INFO - getting inference for list 9/36, size of list=10\n",
      "[2024-07-12 01:41:16,927] p13828 {2597572843.py:10} INFO - ============Running inference for judge panelist #10 = meta.llama3-70b-instruct-v1:0============\n",
      "[2024-07-12 01:41:16,928] p13828 {2597572843.py:11} INFO - getting inference for list 10/36, size of list=10\n",
      "[2024-07-12 01:41:21,651] p13828 {2597572843.py:10} INFO - ============Running inference for judge panelist #11 = meta.llama3-70b-instruct-v1:0============\n",
      "[2024-07-12 01:41:21,652] p13828 {2597572843.py:11} INFO - getting inference for list 11/36, size of list=10\n",
      "[2024-07-12 01:41:30,682] p13828 {2597572843.py:10} INFO - ============Running inference for judge panelist #12 = meta.llama3-70b-instruct-v1:0============\n",
      "[2024-07-12 01:41:30,682] p13828 {2597572843.py:11} INFO - getting inference for list 12/36, size of list=10\n",
      "[2024-07-12 01:41:35,883] p13828 {2597572843.py:10} INFO - ============Running inference for judge panelist #13 = meta.llama3-70b-instruct-v1:0============\n",
      "[2024-07-12 01:41:35,883] p13828 {2597572843.py:11} INFO - getting inference for list 13/36, size of list=10\n",
      "[2024-07-12 01:41:40,758] p13828 {2597572843.py:10} INFO - ============Running inference for judge panelist #14 = meta.llama3-70b-instruct-v1:0============\n",
      "[2024-07-12 01:41:40,758] p13828 {2597572843.py:11} INFO - getting inference for list 14/36, size of list=10\n",
      "[2024-07-12 01:41:45,140] p13828 {2597572843.py:10} INFO - ============Running inference for judge panelist #15 = meta.llama3-70b-instruct-v1:0============\n",
      "[2024-07-12 01:41:45,141] p13828 {2597572843.py:11} INFO - getting inference for list 15/36, size of list=10\n",
      "[2024-07-12 01:41:49,650] p13828 {2597572843.py:10} INFO - ============Running inference for judge panelist #16 = meta.llama3-70b-instruct-v1:0============\n",
      "[2024-07-12 01:41:49,651] p13828 {2597572843.py:11} INFO - getting inference for list 16/36, size of list=10\n",
      "[2024-07-12 01:41:58,604] p13828 {2597572843.py:10} INFO - ============Running inference for judge panelist #17 = meta.llama3-70b-instruct-v1:0============\n",
      "[2024-07-12 01:41:58,605] p13828 {2597572843.py:11} INFO - getting inference for list 17/36, size of list=10\n",
      "[2024-07-12 01:42:02,765] p13828 {2597572843.py:10} INFO - ============Running inference for judge panelist #18 = meta.llama3-70b-instruct-v1:0============\n",
      "[2024-07-12 01:42:02,766] p13828 {2597572843.py:11} INFO - getting inference for list 18/36, size of list=10\n",
      "[2024-07-12 01:42:09,524] p13828 {2597572843.py:10} INFO - ============Running inference for judge panelist #19 = meta.llama3-70b-instruct-v1:0============\n",
      "[2024-07-12 01:42:09,525] p13828 {2597572843.py:11} INFO - getting inference for list 19/36, size of list=10\n",
      "[2024-07-12 01:42:16,313] p13828 {2597572843.py:10} INFO - ============Running inference for judge panelist #20 = meta.llama3-70b-instruct-v1:0============\n",
      "[2024-07-12 01:42:16,314] p13828 {2597572843.py:11} INFO - getting inference for list 20/36, size of list=10\n",
      "[2024-07-12 01:42:36,998] p13828 {2597572843.py:10} INFO - ============Running inference for judge panelist #21 = meta.llama3-70b-instruct-v1:0============\n",
      "[2024-07-12 01:42:36,999] p13828 {2597572843.py:11} INFO - getting inference for list 21/36, size of list=10\n",
      "[2024-07-12 01:42:43,399] p13828 {2597572843.py:10} INFO - ============Running inference for judge panelist #22 = meta.llama3-70b-instruct-v1:0============\n",
      "[2024-07-12 01:42:43,400] p13828 {2597572843.py:11} INFO - getting inference for list 22/36, size of list=10\n",
      "[2024-07-12 01:42:49,019] p13828 {2597572843.py:10} INFO - ============Running inference for judge panelist #23 = meta.llama3-70b-instruct-v1:0============\n",
      "[2024-07-12 01:42:49,019] p13828 {2597572843.py:11} INFO - getting inference for list 23/36, size of list=10\n",
      "[2024-07-12 01:42:59,842] p13828 {2597572843.py:10} INFO - ============Running inference for judge panelist #24 = meta.llama3-70b-instruct-v1:0============\n",
      "[2024-07-12 01:42:59,842] p13828 {2597572843.py:11} INFO - getting inference for list 24/36, size of list=10\n",
      "[2024-07-12 01:43:06,291] p13828 {2597572843.py:10} INFO - ============Running inference for judge panelist #25 = meta.llama3-70b-instruct-v1:0============\n",
      "[2024-07-12 01:43:06,291] p13828 {2597572843.py:11} INFO - getting inference for list 25/36, size of list=10\n",
      "[2024-07-12 01:43:12,869] p13828 {2597572843.py:10} INFO - ============Running inference for judge panelist #26 = meta.llama3-70b-instruct-v1:0============\n",
      "[2024-07-12 01:43:12,869] p13828 {2597572843.py:11} INFO - getting inference for list 26/36, size of list=10\n",
      "[2024-07-12 01:43:18,471] p13828 {2597572843.py:10} INFO - ============Running inference for judge panelist #27 = meta.llama3-70b-instruct-v1:0============\n",
      "[2024-07-12 01:43:18,471] p13828 {2597572843.py:11} INFO - getting inference for list 27/36, size of list=10\n",
      "[2024-07-12 01:43:34,613] p13828 {2597572843.py:10} INFO - ============Running inference for judge panelist #28 = meta.llama3-70b-instruct-v1:0============\n",
      "[2024-07-12 01:43:34,613] p13828 {2597572843.py:11} INFO - getting inference for list 28/36, size of list=10\n",
      "[2024-07-12 01:43:40,953] p13828 {2597572843.py:10} INFO - ============Running inference for judge panelist #29 = meta.llama3-70b-instruct-v1:0============\n",
      "[2024-07-12 01:43:40,953] p13828 {2597572843.py:11} INFO - getting inference for list 29/36, size of list=10\n",
      "[2024-07-12 01:43:47,036] p13828 {2597572843.py:10} INFO - ============Running inference for judge panelist #30 = meta.llama3-70b-instruct-v1:0============\n",
      "[2024-07-12 01:43:47,037] p13828 {2597572843.py:11} INFO - getting inference for list 30/36, size of list=10\n",
      "[2024-07-12 01:43:52,338] p13828 {2597572843.py:10} INFO - ============Running inference for judge panelist #31 = meta.llama3-70b-instruct-v1:0============\n",
      "[2024-07-12 01:43:52,339] p13828 {2597572843.py:11} INFO - getting inference for list 31/36, size of list=10\n",
      "[2024-07-12 01:43:57,417] p13828 {2597572843.py:10} INFO - ============Running inference for judge panelist #32 = meta.llama3-70b-instruct-v1:0============\n",
      "[2024-07-12 01:43:57,418] p13828 {2597572843.py:11} INFO - getting inference for list 32/36, size of list=10\n",
      "[2024-07-12 01:44:01,404] p13828 {2597572843.py:10} INFO - ============Running inference for judge panelist #33 = meta.llama3-70b-instruct-v1:0============\n",
      "[2024-07-12 01:44:01,404] p13828 {2597572843.py:11} INFO - getting inference for list 33/36, size of list=10\n",
      "[2024-07-12 01:44:05,895] p13828 {2597572843.py:10} INFO - ============Running inference for judge panelist #34 = meta.llama3-70b-instruct-v1:0============\n",
      "[2024-07-12 01:44:05,896] p13828 {2597572843.py:11} INFO - getting inference for list 34/36, size of list=10\n",
      "[2024-07-12 01:44:11,673] p13828 {2597572843.py:10} INFO - ============Running inference for judge panelist #35 = meta.llama3-70b-instruct-v1:0============\n",
      "[2024-07-12 01:44:11,674] p13828 {2597572843.py:11} INFO - getting inference for list 35/36, size of list=10\n",
      "[2024-07-12 01:44:15,942] p13828 {2597572843.py:10} INFO - ============Running inference for judge panelist #36 = meta.llama3-70b-instruct-v1:0============\n",
      "[2024-07-12 01:44:15,943] p13828 {2597572843.py:11} INFO - getting inference for list 36/36, size of list=10\n",
      "[2024-07-12 01:44:22,697] p13828 {2597572843.py:10} INFO - ============Running inference for judge panelist #1 = cohere.command-r-v1:0============\n",
      "[2024-07-12 01:44:22,698] p13828 {2597572843.py:11} INFO - getting inference for list 1/36, size of list=10\n",
      "[2024-07-12 01:44:25,709] p13828 {2597572843.py:10} INFO - ============Running inference for judge panelist #2 = cohere.command-r-v1:0============\n",
      "[2024-07-12 01:44:25,710] p13828 {2597572843.py:11} INFO - getting inference for list 2/36, size of list=10\n",
      "[2024-07-12 01:44:28,262] p13828 {2597572843.py:10} INFO - ============Running inference for judge panelist #3 = cohere.command-r-v1:0============\n",
      "[2024-07-12 01:44:28,263] p13828 {2597572843.py:11} INFO - getting inference for list 3/36, size of list=10\n",
      "[2024-07-12 01:44:30,935] p13828 {2597572843.py:10} INFO - ============Running inference for judge panelist #4 = cohere.command-r-v1:0============\n",
      "[2024-07-12 01:44:30,936] p13828 {2597572843.py:11} INFO - getting inference for list 4/36, size of list=10\n",
      "[2024-07-12 01:44:33,696] p13828 {2597572843.py:10} INFO - ============Running inference for judge panelist #5 = cohere.command-r-v1:0============\n",
      "[2024-07-12 01:44:33,696] p13828 {2597572843.py:11} INFO - getting inference for list 5/36, size of list=10\n",
      "[2024-07-12 01:44:36,040] p13828 {2597572843.py:10} INFO - ============Running inference for judge panelist #6 = cohere.command-r-v1:0============\n",
      "[2024-07-12 01:44:36,040] p13828 {2597572843.py:11} INFO - getting inference for list 6/36, size of list=10\n",
      "[2024-07-12 01:44:38,763] p13828 {2597572843.py:10} INFO - ============Running inference for judge panelist #7 = cohere.command-r-v1:0============\n",
      "[2024-07-12 01:44:38,764] p13828 {2597572843.py:11} INFO - getting inference for list 7/36, size of list=10\n",
      "[2024-07-12 01:44:41,332] p13828 {2597572843.py:10} INFO - ============Running inference for judge panelist #8 = cohere.command-r-v1:0============\n",
      "[2024-07-12 01:44:41,333] p13828 {2597572843.py:11} INFO - getting inference for list 8/36, size of list=10\n",
      "[2024-07-12 01:44:43,686] p13828 {2597572843.py:10} INFO - ============Running inference for judge panelist #9 = cohere.command-r-v1:0============\n",
      "[2024-07-12 01:44:43,687] p13828 {2597572843.py:11} INFO - getting inference for list 9/36, size of list=10\n",
      "[2024-07-12 01:44:46,723] p13828 {2597572843.py:10} INFO - ============Running inference for judge panelist #10 = cohere.command-r-v1:0============\n",
      "[2024-07-12 01:44:46,724] p13828 {2597572843.py:11} INFO - getting inference for list 10/36, size of list=10\n",
      "[2024-07-12 01:44:49,128] p13828 {2597572843.py:10} INFO - ============Running inference for judge panelist #11 = cohere.command-r-v1:0============\n",
      "[2024-07-12 01:44:49,128] p13828 {2597572843.py:11} INFO - getting inference for list 11/36, size of list=10\n",
      "[2024-07-12 01:44:51,479] p13828 {2597572843.py:10} INFO - ============Running inference for judge panelist #12 = cohere.command-r-v1:0============\n",
      "[2024-07-12 01:44:51,479] p13828 {2597572843.py:11} INFO - getting inference for list 12/36, size of list=10\n",
      "[2024-07-12 01:44:53,955] p13828 {2597572843.py:10} INFO - ============Running inference for judge panelist #13 = cohere.command-r-v1:0============\n",
      "[2024-07-12 01:44:53,956] p13828 {2597572843.py:11} INFO - getting inference for list 13/36, size of list=10\n",
      "[2024-07-12 01:44:56,567] p13828 {2597572843.py:10} INFO - ============Running inference for judge panelist #14 = cohere.command-r-v1:0============\n",
      "[2024-07-12 01:44:56,567] p13828 {2597572843.py:11} INFO - getting inference for list 14/36, size of list=10\n",
      "[2024-07-12 01:44:58,769] p13828 {2597572843.py:10} INFO - ============Running inference for judge panelist #15 = cohere.command-r-v1:0============\n",
      "[2024-07-12 01:44:58,769] p13828 {2597572843.py:11} INFO - getting inference for list 15/36, size of list=10\n",
      "[2024-07-12 01:45:01,593] p13828 {2597572843.py:10} INFO - ============Running inference for judge panelist #16 = cohere.command-r-v1:0============\n",
      "[2024-07-12 01:45:01,593] p13828 {2597572843.py:11} INFO - getting inference for list 16/36, size of list=10\n",
      "[2024-07-12 01:45:03,903] p13828 {2597572843.py:10} INFO - ============Running inference for judge panelist #17 = cohere.command-r-v1:0============\n",
      "[2024-07-12 01:45:03,904] p13828 {2597572843.py:11} INFO - getting inference for list 17/36, size of list=10\n",
      "[2024-07-12 01:45:05,843] p13828 {2597572843.py:10} INFO - ============Running inference for judge panelist #18 = cohere.command-r-v1:0============\n",
      "[2024-07-12 01:45:05,843] p13828 {2597572843.py:11} INFO - getting inference for list 18/36, size of list=10\n",
      "[2024-07-12 01:45:08,338] p13828 {2597572843.py:10} INFO - ============Running inference for judge panelist #19 = cohere.command-r-v1:0============\n",
      "[2024-07-12 01:45:08,338] p13828 {2597572843.py:11} INFO - getting inference for list 19/36, size of list=10\n",
      "[2024-07-12 01:45:11,111] p13828 {2597572843.py:10} INFO - ============Running inference for judge panelist #20 = cohere.command-r-v1:0============\n",
      "[2024-07-12 01:45:11,111] p13828 {2597572843.py:11} INFO - getting inference for list 20/36, size of list=10\n",
      "[2024-07-12 01:45:13,372] p13828 {2597572843.py:10} INFO - ============Running inference for judge panelist #21 = cohere.command-r-v1:0============\n",
      "[2024-07-12 01:45:13,373] p13828 {2597572843.py:11} INFO - getting inference for list 21/36, size of list=10\n",
      "[2024-07-12 01:45:16,132] p13828 {2597572843.py:10} INFO - ============Running inference for judge panelist #22 = cohere.command-r-v1:0============\n",
      "[2024-07-12 01:45:16,133] p13828 {2597572843.py:11} INFO - getting inference for list 22/36, size of list=10\n",
      "[2024-07-12 01:45:19,003] p13828 {2597572843.py:10} INFO - ============Running inference for judge panelist #23 = cohere.command-r-v1:0============\n",
      "[2024-07-12 01:45:19,003] p13828 {2597572843.py:11} INFO - getting inference for list 23/36, size of list=10\n",
      "[2024-07-12 01:45:21,340] p13828 {2597572843.py:10} INFO - ============Running inference for judge panelist #24 = cohere.command-r-v1:0============\n",
      "[2024-07-12 01:45:21,340] p13828 {2597572843.py:11} INFO - getting inference for list 24/36, size of list=10\n",
      "[2024-07-12 01:45:24,678] p13828 {2597572843.py:10} INFO - ============Running inference for judge panelist #25 = cohere.command-r-v1:0============\n",
      "[2024-07-12 01:45:24,678] p13828 {2597572843.py:11} INFO - getting inference for list 25/36, size of list=10\n",
      "[2024-07-12 01:45:27,558] p13828 {2597572843.py:10} INFO - ============Running inference for judge panelist #26 = cohere.command-r-v1:0============\n",
      "[2024-07-12 01:45:27,558] p13828 {2597572843.py:11} INFO - getting inference for list 26/36, size of list=10\n",
      "[2024-07-12 01:45:29,884] p13828 {2597572843.py:10} INFO - ============Running inference for judge panelist #27 = cohere.command-r-v1:0============\n",
      "[2024-07-12 01:45:29,885] p13828 {2597572843.py:11} INFO - getting inference for list 27/36, size of list=10\n",
      "[2024-07-12 01:45:32,644] p13828 {2597572843.py:10} INFO - ============Running inference for judge panelist #28 = cohere.command-r-v1:0============\n",
      "[2024-07-12 01:45:32,644] p13828 {2597572843.py:11} INFO - getting inference for list 28/36, size of list=10\n",
      "[2024-07-12 01:45:35,007] p13828 {2597572843.py:10} INFO - ============Running inference for judge panelist #29 = cohere.command-r-v1:0============\n",
      "[2024-07-12 01:45:35,008] p13828 {2597572843.py:11} INFO - getting inference for list 29/36, size of list=10\n",
      "[2024-07-12 01:45:36,662] p13828 {2597572843.py:10} INFO - ============Running inference for judge panelist #30 = cohere.command-r-v1:0============\n",
      "[2024-07-12 01:45:36,663] p13828 {2597572843.py:11} INFO - getting inference for list 30/36, size of list=10\n",
      "[2024-07-12 01:45:39,611] p13828 {2597572843.py:10} INFO - ============Running inference for judge panelist #31 = cohere.command-r-v1:0============\n",
      "[2024-07-12 01:45:39,612] p13828 {2597572843.py:11} INFO - getting inference for list 31/36, size of list=10\n",
      "[2024-07-12 01:45:42,093] p13828 {2597572843.py:10} INFO - ============Running inference for judge panelist #32 = cohere.command-r-v1:0============\n",
      "[2024-07-12 01:45:42,094] p13828 {2597572843.py:11} INFO - getting inference for list 32/36, size of list=10\n",
      "[2024-07-12 01:45:44,392] p13828 {2597572843.py:10} INFO - ============Running inference for judge panelist #33 = cohere.command-r-v1:0============\n",
      "[2024-07-12 01:45:44,392] p13828 {2597572843.py:11} INFO - getting inference for list 33/36, size of list=10\n",
      "[2024-07-12 01:45:46,998] p13828 {2597572843.py:10} INFO - ============Running inference for judge panelist #34 = cohere.command-r-v1:0============\n",
      "[2024-07-12 01:45:46,998] p13828 {2597572843.py:11} INFO - getting inference for list 34/36, size of list=10\n",
      "[2024-07-12 01:45:49,621] p13828 {2597572843.py:10} INFO - ============Running inference for judge panelist #35 = cohere.command-r-v1:0============\n",
      "[2024-07-12 01:45:49,622] p13828 {2597572843.py:11} INFO - getting inference for list 35/36, size of list=10\n",
      "[2024-07-12 01:45:51,875] p13828 {2597572843.py:10} INFO - ============Running inference for judge panelist #36 = cohere.command-r-v1:0============\n",
      "[2024-07-12 01:45:51,876] p13828 {2597572843.py:11} INFO - getting inference for list 36/36, size of list=10\n",
      "[2024-07-12 01:45:54,468] p13828 {2597572843.py:18} INFO - Total elapsed time for inference: 412.44 seconds\n"
     ]
    }
   ],
   "source": [
    "n = model_eval_subjective_info.get('run_parallel_inference_count', 5)\n",
    "list_of_lists = [eval_records_list[i * n:(i + 1) * n] for i in range((len(eval_records_list) + n - 1) // n)]\n",
    "resp_list = []\n",
    "st = time.perf_counter()\n",
    "\n",
    "# Iterate over the judge panel and sublists\n",
    "for judge_panelist_info in judge_panel_list:\n",
    "    for idx, sublist in enumerate(list_of_lists):\n",
    "        model_id = judge_panelist_info['model_id']\n",
    "        logger.info(f\"============Running inference for judge panelist {model_id}============\")\n",
    "        logger.info(f\"getting inference for list {idx + 1}/{len(list_of_lists)}, size of list={len(sublist)}\")\n",
    "\n",
    "        # Run inference in parallel\n",
    "        resp_list.extend(ray.get([async_run_eval.remote(i + 1, len(sublist), record, model_id, method_name, record['uuid'])\n",
    "                                  for i, record in enumerate(sublist)]))\n",
    "\n",
    "elapsed_time = time.perf_counter() - st\n",
    "logger.info(f\"Total elapsed time for inference: {elapsed_time:.2f} seconds\")"
   ]
  },
  {
   "cell_type": "markdown",
   "metadata": {},
   "source": [
    "### Perform downstream analytical tasks on each LLM as a judge evaluation\n",
    "---"
   ]
  },
  {
   "cell_type": "code",
   "execution_count": 43,
   "metadata": {},
   "outputs": [
    {
     "name": "stderr",
     "output_type": "stream",
     "text": [
      "[2024-07-12 01:48:22,421] p13828 {2308676491.py:4} INFO - df_eval_results shape=(1080, 12)\n"
     ]
    },
    {
     "data": {
      "text/html": [
       "<div>\n",
       "<style scoped>\n",
       "    .dataframe tbody tr th:only-of-type {\n",
       "        vertical-align: middle;\n",
       "    }\n",
       "\n",
       "    .dataframe tbody tr th {\n",
       "        vertical-align: top;\n",
       "    }\n",
       "\n",
       "    .dataframe thead th {\n",
       "        text-align: right;\n",
       "    }\n",
       "</style>\n",
       "<table border=\"1\" class=\"dataframe\">\n",
       "  <thead>\n",
       "    <tr style=\"text-align: right;\">\n",
       "      <th></th>\n",
       "      <th>exception</th>\n",
       "      <th>prompt</th>\n",
       "      <th>completion</th>\n",
       "      <th>completion_token_count</th>\n",
       "      <th>prompt_token_count</th>\n",
       "      <th>model_id</th>\n",
       "      <th>candidate_model</th>\n",
       "      <th>cosine_similarity_score</th>\n",
       "      <th>ground_truth</th>\n",
       "      <th>anthropic.claude-3-haiku-20240307-v1:0_answer</th>\n",
       "      <th>meta.llama3-70b-instruct-v1:0_answer</th>\n",
       "      <th>cohere.command-r-v1:0_answer</th>\n",
       "    </tr>\n",
       "  </thead>\n",
       "  <tbody>\n",
       "    <tr>\n",
       "      <th>0</th>\n",
       "      <td>None</td>\n",
       "      <td>Human: You are a judge who evaluates the corre...</td>\n",
       "      <td>{\\n  \"verdict\": \"correct\",\\n  \"explanation\": \"...</td>\n",
       "      <td>63</td>\n",
       "      <td>856</td>\n",
       "      <td>anthropic.claude-3-haiku-20240307-v1:0</td>\n",
       "      <td>mistral.mistral-7b-instruct-v0:2</td>\n",
       "      <td>0.710724</td>\n",
       "      <td>a genus of flowering plant in the Lardizabalac...</td>\n",
       "      <td>The genera Sinofranchetia and Stauntonia belon...</td>\n",
       "      <td>NaN</td>\n",
       "      <td>NaN</td>\n",
       "    </tr>\n",
       "    <tr>\n",
       "      <th>1</th>\n",
       "      <td>None</td>\n",
       "      <td>Human: You are a judge who evaluates the corre...</td>\n",
       "      <td>{\\n  \"verdict\": \"correct\",\\n  \"explanation\": \"...</td>\n",
       "      <td>63</td>\n",
       "      <td>856</td>\n",
       "      <td>anthropic.claude-3-haiku-20240307-v1:0</td>\n",
       "      <td>mistral.mistral-7b-instruct-v0:2</td>\n",
       "      <td>0.710724</td>\n",
       "      <td>a genus of flowering plant in the Lardizabalac...</td>\n",
       "      <td>The genera Sinofranchetia and Stauntonia belon...</td>\n",
       "      <td>NaN</td>\n",
       "      <td>NaN</td>\n",
       "    </tr>\n",
       "    <tr>\n",
       "      <th>2</th>\n",
       "      <td>None</td>\n",
       "      <td>Human: You are a judge who evaluates the corre...</td>\n",
       "      <td>{\\n  \"verdict\": \"correct\",\\n  \"explanation\": \"...</td>\n",
       "      <td>63</td>\n",
       "      <td>856</td>\n",
       "      <td>anthropic.claude-3-haiku-20240307-v1:0</td>\n",
       "      <td>mistral.mistral-7b-instruct-v0:2</td>\n",
       "      <td>0.710724</td>\n",
       "      <td>a genus of flowering plant in the Lardizabalac...</td>\n",
       "      <td>The genera Sinofranchetia and Stauntonia belon...</td>\n",
       "      <td>NaN</td>\n",
       "      <td>NaN</td>\n",
       "    </tr>\n",
       "    <tr>\n",
       "      <th>3</th>\n",
       "      <td>None</td>\n",
       "      <td>Human: You are a judge who evaluates the corre...</td>\n",
       "      <td>{\\n  \"verdict\": \"correct\",\\n  \"explanation\": \"...</td>\n",
       "      <td>63</td>\n",
       "      <td>856</td>\n",
       "      <td>anthropic.claude-3-haiku-20240307-v1:0</td>\n",
       "      <td>mistral.mistral-7b-instruct-v0:2</td>\n",
       "      <td>0.710724</td>\n",
       "      <td>a genus of flowering plant in the Lardizabalac...</td>\n",
       "      <td>The genera Sinofranchetia and Stauntonia belon...</td>\n",
       "      <td>NaN</td>\n",
       "      <td>NaN</td>\n",
       "    </tr>\n",
       "    <tr>\n",
       "      <th>4</th>\n",
       "      <td>None</td>\n",
       "      <td>Human: You are a judge who evaluates the corre...</td>\n",
       "      <td>{\\n  \"verdict\": \"correct\",\\n  \"explanation\": \"...</td>\n",
       "      <td>63</td>\n",
       "      <td>856</td>\n",
       "      <td>anthropic.claude-3-haiku-20240307-v1:0</td>\n",
       "      <td>mistral.mistral-7b-instruct-v0:2</td>\n",
       "      <td>0.710724</td>\n",
       "      <td>a genus of flowering plant in the Lardizabalac...</td>\n",
       "      <td>The genera Sinofranchetia and Stauntonia belon...</td>\n",
       "      <td>NaN</td>\n",
       "      <td>NaN</td>\n",
       "    </tr>\n",
       "  </tbody>\n",
       "</table>\n",
       "</div>"
      ],
      "text/plain": [
       "  exception                                             prompt  \\\n",
       "0      None  Human: You are a judge who evaluates the corre...   \n",
       "1      None  Human: You are a judge who evaluates the corre...   \n",
       "2      None  Human: You are a judge who evaluates the corre...   \n",
       "3      None  Human: You are a judge who evaluates the corre...   \n",
       "4      None  Human: You are a judge who evaluates the corre...   \n",
       "\n",
       "                                          completion  completion_token_count  \\\n",
       "0  {\\n  \"verdict\": \"correct\",\\n  \"explanation\": \"...                      63   \n",
       "1  {\\n  \"verdict\": \"correct\",\\n  \"explanation\": \"...                      63   \n",
       "2  {\\n  \"verdict\": \"correct\",\\n  \"explanation\": \"...                      63   \n",
       "3  {\\n  \"verdict\": \"correct\",\\n  \"explanation\": \"...                      63   \n",
       "4  {\\n  \"verdict\": \"correct\",\\n  \"explanation\": \"...                      63   \n",
       "\n",
       "   prompt_token_count                                model_id  \\\n",
       "0                 856  anthropic.claude-3-haiku-20240307-v1:0   \n",
       "1                 856  anthropic.claude-3-haiku-20240307-v1:0   \n",
       "2                 856  anthropic.claude-3-haiku-20240307-v1:0   \n",
       "3                 856  anthropic.claude-3-haiku-20240307-v1:0   \n",
       "4                 856  anthropic.claude-3-haiku-20240307-v1:0   \n",
       "\n",
       "                    candidate_model  cosine_similarity_score  \\\n",
       "0  mistral.mistral-7b-instruct-v0:2                 0.710724   \n",
       "1  mistral.mistral-7b-instruct-v0:2                 0.710724   \n",
       "2  mistral.mistral-7b-instruct-v0:2                 0.710724   \n",
       "3  mistral.mistral-7b-instruct-v0:2                 0.710724   \n",
       "4  mistral.mistral-7b-instruct-v0:2                 0.710724   \n",
       "\n",
       "                                        ground_truth  \\\n",
       "0  a genus of flowering plant in the Lardizabalac...   \n",
       "1  a genus of flowering plant in the Lardizabalac...   \n",
       "2  a genus of flowering plant in the Lardizabalac...   \n",
       "3  a genus of flowering plant in the Lardizabalac...   \n",
       "4  a genus of flowering plant in the Lardizabalac...   \n",
       "\n",
       "       anthropic.claude-3-haiku-20240307-v1:0_answer  \\\n",
       "0  The genera Sinofranchetia and Stauntonia belon...   \n",
       "1  The genera Sinofranchetia and Stauntonia belon...   \n",
       "2  The genera Sinofranchetia and Stauntonia belon...   \n",
       "3  The genera Sinofranchetia and Stauntonia belon...   \n",
       "4  The genera Sinofranchetia and Stauntonia belon...   \n",
       "\n",
       "  meta.llama3-70b-instruct-v1:0_answer cohere.command-r-v1:0_answer  \n",
       "0                                  NaN                          NaN  \n",
       "1                                  NaN                          NaN  \n",
       "2                                  NaN                          NaN  \n",
       "3                                  NaN                          NaN  \n",
       "4                                  NaN                          NaN  "
      ]
     },
     "execution_count": 43,
     "metadata": {},
     "output_type": "execute_result"
    }
   ],
   "source": [
    "# convert the results list into a dataframe for easy analytics\n",
    "df_eval_results = pd.DataFrame(resp_list)\n",
    "\n",
    "logger.info(f\"df_eval_results shape={df_eval_results.shape}\")\n",
    "df_eval_results.head()"
   ]
  },
  {
   "cell_type": "code",
   "execution_count": 44,
   "metadata": {
    "tags": []
   },
   "outputs": [
    {
     "name": "stdout",
     "output_type": "stream",
     "text": [
      "parse_as_json, error parsing string as json, string={  \"verdict\": \"correct\",  \"explanation\": \"The answer provided correctly identifies that both WAGS Atlanta and WAGS are American reality television series that chronicle the lives of \"WAGs\" (wives and girlfriends of high-profile athletes). The ground truth also confirms that they are both American reality television series, so the answer matches the ground truth.\"}, error=Expecting ',' delimiter: line 1 column 184 (char 183)\n",
      "parse_as_json, error parsing string as json, string={  \"verdict\": \"correct\",  \"explanation\": \"The answer provided correctly identifies that both WAGS Atlanta and WAGS are American reality television series that chronicle the lives of \"WAGs\" (wives and girlfriends of high-profile athletes). The ground truth also confirms that they are both American reality television series, so the answer matches the ground truth.\"}, error=Expecting ',' delimiter: line 1 column 184 (char 183)\n",
      "parse_as_json, error parsing string as json, string={  \"verdict\": \"correct\",  \"explanation\": \"The answer provided correctly identifies that both WAGS Atlanta and WAGS are American reality television series that chronicle the lives of \"WAGs\" (wives and girlfriends of high-profile athletes). The ground truth also confirms that they are both American reality television series, so the answer matches the ground truth.\"}, error=Expecting ',' delimiter: line 1 column 184 (char 183)\n",
      "parse_as_json, error parsing string as json, string={  \"verdict\": \"correct\",  \"explanation\": \"The answer provided, \"reality television shows\", is correct compared to the ground truth \"American reality television series\". Both WAGS Atlanta and WAGS are American reality television shows that chronicle the lives of wives and girlfriends of professional athletes.\"}, error=Expecting ',' delimiter: line 1 column 65 (char 64)\n",
      "parse_as_json, error parsing string as json, string=```json{\"verdict\":\"correct\",\"explanation\":\"The answer matches the ground truth, as both state that the genus Sinofranchetia and Stauntonia are from the Lardizabalaceae family.\"}```, error=Expecting value: line 1 column 1 (char 0)\n",
      "parse_as_json, error parsing string as json, string=```json{\"verdict\":\"correct\",\"explanation\":\"The answer matches the ground truth, as both state that the genus Sinofranchetia and Stauntonia are from the Lardizabalaceae family.\"}```, error=Expecting value: line 1 column 1 (char 0)\n",
      "parse_as_json, error parsing string as json, string=```json{\"verdict\":\"correct\",\"explanation\":\"The answer matches the ground truth, as both state that the genus Sinofranchetia and Stauntonia are from the Lardizabalaceae family.\"}```, error=Expecting value: line 1 column 1 (char 0)\n",
      "parse_as_json, error parsing string as json, string=```json{\"verdict\":\"correct\",\"explanation\":\"The answer matches the ground truth, as both state that the genus Sinofranchetia and Stauntonia are from the Lardizabalaceae family.\"}```, error=Expecting value: line 1 column 1 (char 0)\n",
      "parse_as_json, error parsing string as json, string=```json{\"verdict\":\"correct\",\"explanation\":\"The answer matches the ground truth, as both state that the genus Sinofranchetia and Stauntonia are from the Lardizabalaceae family.\"}```, error=Expecting value: line 1 column 1 (char 0)\n",
      "parse_as_json, error parsing string as json, string=```json{ \"verdict\": \"correct\", \"explanation\": \"Both locations are indeed in different countries. Rhosgoch is in Wales which is part of the United Kingdom, while Qaleh-ye Sahar is in Iran.\"}```, error=Expecting value: line 1 column 1 (char 0)\n",
      "parse_as_json, error parsing string as json, string=```json{\"verdict\":\"correct\",\"explanation\":\"The answer matches the ground truth, as both the Gut (Crișul Alb) and Gepiș are indeed located in Romania.\"}```, error=Expecting value: line 1 column 1 (char 0)\n",
      "parse_as_json, error parsing string as json, string=```json{\"verdict\":\"correct\",\"explanation\":\"The answer matches the ground truth as both Howard Lake and North Buck Lake are indeed located in Canada.\"}```, error=Expecting value: line 1 column 1 (char 0)\n",
      "parse_as_json, error parsing string as json, string=```json{\"verdict\":\"correct\",\"explanation\":\"The answer matches the ground truth, as both mountains are indeed located in Peru.\"}```, error=Expecting value: line 1 column 1 (char 0)\n",
      "parse_as_json, error parsing string as json, string=```json{ \"verdict\": \"correct\", \"explanation\": \"The answer matches the ground truth description of both shows being American reality television series.\"}```, error=Expecting value: line 1 column 1 (char 0)\n",
      "parse_as_json, error parsing string as json, string=```json{\"verdict\":\"correct\",\"explanation\":\"The answer matches the ground truth, as both state that the genus Sinofranchetia and Stauntonia are from the Lardizabalaceae family.\"}```, error=Expecting value: line 1 column 1 (char 0)\n",
      "parse_as_json, error parsing string as json, string=```json{\"verdict\":\"correct\",\"explanation\":\"The answer matches the ground truth, as both state that the genus Sinofranchetia and Stauntonia are from the Lardizabalaceae family.\"}```, error=Expecting value: line 1 column 1 (char 0)\n",
      "parse_as_json, error parsing string as json, string=```json{\"verdict\":\"correct\",\"explanation\":\"The answer matches the ground truth, as both state that the genus Sinofranchetia and Stauntonia are from the Lardizabalaceae family.\"}```, error=Expecting value: line 1 column 1 (char 0)\n",
      "parse_as_json, error parsing string as json, string=```json{\"verdict\":\"correct\",\"explanation\":\"The answer matches the ground truth, as both state that the genus Sinofranchetia and Stauntonia are from the Lardizabalaceae family.\"}```, error=Expecting value: line 1 column 1 (char 0)\n",
      "parse_as_json, error parsing string as json, string=```json{\"verdict\":\"correct\",\"explanation\":\"The answer matches the ground truth, as both state that the genus Sinofranchetia and Stauntonia are from the Lardizabalaceae family.\"}```, error=Expecting value: line 1 column 1 (char 0)\n",
      "parse_as_json, error parsing string as json, string=```json{\"verdict\":\"correct\",\"explanation\":\"The answer matches the ground truth, as both state that the genus Sinofranchetia and Stauntonia are from the Lardizabalaceae family.\"}```, error=Expecting value: line 1 column 1 (char 0)\n",
      "parse_as_json, error parsing string as json, string=```json{\"verdict\":\"correct\",\"explanation\":\"The answer matches the ground truth, as both state that the genus Sinofranchetia and Stauntonia are from the Lardizabalaceae family.\"}```, error=Expecting value: line 1 column 1 (char 0)\n",
      "parse_as_json, error parsing string as json, string=```json{\"verdict\":\"correct\",\"explanation\":\"The answer matches the ground truth, as both state that the genus Sinofranchetia and Stauntonia are from the Lardizabalaceae family.\"}```, error=Expecting value: line 1 column 1 (char 0)\n",
      "parse_as_json, error parsing string as json, string=```json{\"verdict\":\"correct\",\"explanation\":\"The answer matches the ground truth, as both state that the genus Sinofranchetia and Stauntonia are from the Lardizabalaceae family.\"}```, error=Expecting value: line 1 column 1 (char 0)\n",
      "parse_as_json, error parsing string as json, string=```json{\"verdict\":\"correct\",\"explanation\":\"The answer matches the ground truth, as both state that the genus Sinofranchetia and Stauntonia are from the Lardizabalaceae family.\"}```, error=Expecting value: line 1 column 1 (char 0)\n",
      "parse_as_json, error parsing string as json, string=```json{ \"verdict\": \"correct\", \"explanation\": \"Both locations are indeed in different countries. Rhosgoch is in Wales, part of the United Kingdom, while Qaleh-ye Sahar is in Iran.\"}```, error=Expecting value: line 1 column 1 (char 0)\n",
      "parse_as_json, error parsing string as json, string=```json{ \"verdict\":\"correct\", \"explanation\":\"The answer matches the ground truth as both indicate the correct location of the two rivers being in Romania.\"}```, error=Expecting value: line 1 column 1 (char 0)\n",
      "parse_as_json, error parsing string as json, string=```json{ \"verdict\": \"correct\", \"explanation\": \"The answer matches the ground truth as both Howard Lake and North Buck Lake are indeed located in Canada.\"}```, error=Expecting value: line 1 column 1 (char 0)\n",
      "parse_as_json, error parsing string as json, string=```json{\"verdict\":\"correct\",\"explanation\":\"The answer matches the ground truth, as both mountains are indeed located in Peru.\"}```, error=Expecting value: line 1 column 1 (char 0)\n",
      "parse_as_json, error parsing string as json, string=```json{\"verdict\":\"incorrect\",\"explanation\":\"The answer provided states that both WAGS Atlanta and WAGS are reality television shows, which is correct. However, it also mentions that WAGS aired from 2015 to 2017, while the ground truth specifies that it's a series, implying multiple seasons. As the answer doesn't fully capture the nuances of the question, it is incorrect.\"}```, error=Expecting value: line 1 column 1 (char 0)\n",
      "parse_as_json, error parsing string as json, string=```json{\"verdict\":\"correct\",\"explanation\":\"The answer correctly identifies both WAGS Atlanta and WAGS as American reality television series. The original WAGS show, also known as WAGS LA, aired from 2015 to 2017, while WAGS Atlanta premiered in 2018 and was canceled in 2019.\"}```, error=Expecting value: line 1 column 1 (char 0)\n",
      "parse_as_json, error parsing string as json, string=```json{ \"verdict\": \"correct\", \"explanation\": \"Both locations are indeed in different countries. Rhosgoch is in Wales, part of the United Kingdom, while Qaleh-ye Sahar is in Iran.\"}```, error=Expecting value: line 1 column 1 (char 0)\n",
      "parse_as_json, error parsing string as json, string=```json{ \"verdict\":\"correct\", \"explanation\":\"The answer matches the ground truth as both indicate the correct location of the two rivers being in Romania.\"}```, error=Expecting value: line 1 column 1 (char 0)\n",
      "parse_as_json, error parsing string as json, string=```json{\"verdict\":\"correct\",\"explanation\":\"The answer matches the ground truth, as both lakes are indeed located in Canada.\"}```, error=Expecting value: line 1 column 1 (char 0)\n",
      "parse_as_json, error parsing string as json, string=```json{\"verdict\":\"correct\",\"explanation\":\"The answer matches the ground truth, as both mountains are indeed located in Peru.\"}```, error=Expecting value: line 1 column 1 (char 0)\n",
      "parse_as_json, error parsing string as json, string=```json{\"verdict\":\"correct\",\"explanation\":\"The answer provided matches the ground truth as both mention the Lardizabalaceae family\"}```, error=Expecting value: line 1 column 1 (char 0)\n",
      "parse_as_json, error parsing string as json, string=```json{ \"verdict\":\"correct\", \"explanation\":\"The answer matches the ground truth, as both state that the genus' Sinofranchetia and Stauntonia belong to the Lardizabalaceae family.\"}```, error=Expecting value: line 1 column 1 (char 0)\n",
      "parse_as_json, error parsing string as json, string=```json{\"verdict\":\"correct\",\"explanation\":\"The answer matches the ground truth, as both state that the genus' Sinofranchetia and Stauntonia belong to the Lardizabalaceae family.\"}```, error=Expecting value: line 1 column 1 (char 0)\n",
      "parse_as_json, error parsing string as json, string=```json{\"verdict\":\"correct\",\"explanation\":\"The answer matches the ground truth, as both state that the genera Sinofranchetia and Stauntonia belong to the Lardizabalaceae family.\"}```, error=Expecting value: line 1 column 1 (char 0)\n",
      "parse_as_json, error parsing string as json, string=```json{\"verdict\":\"correct\",\"explanation\":\"The answer matches the ground truth, as both state that the genus' Sinofranchetia and Stauntonia belong to the Lardizabalaceae family.\"}```, error=Expecting value: line 1 column 1 (char 0)\n",
      "parse_as_json, error parsing string as json, string=```json{\"verdict\":\"incorrect\",\"explanation\":\"The answer claims that Rhosgoch and Qaleh-Ye Sahar are located in the same countries, Wales and Iran, which contradicts the ground truth that states they are located in different countries.\"}```, error=Expecting value: line 1 column 1 (char 0)\n",
      "parse_as_json, error parsing string as json, string=```json{ \"verdict\": \"correct\", \"explanation\": \"The answer matches the ground truth as both the Gut and Gepiș are indeed located in Romania.\"}```, error=Expecting value: line 1 column 1 (char 0)\n",
      "parse_as_json, error parsing string as json, string=```json{\"verdict\":\"correct\",\"explanation\":\"The answer matches the ground truth as both Howard Lake in British Columbia and North Buck Lake in Alberta are indeed located in Canada.\"}```, error=Expecting value: line 1 column 1 (char 0)\n",
      "parse_as_json, error parsing string as json, string=```json{\"verdict\":\"correct\",\"explanation\":\"The answer matches the ground truth, as both mountains are indeed located in Peru.\"}```, error=Expecting value: line 1 column 1 (char 0)\n",
      "parse_as_json, error parsing string as json, string=```json{ \"verdict\":\"correct\", \"explanation\":\"The answer correctly states that both WAGS Atlanta and WAGS are American reality television shows, which matches the ground truth description of both being 'reality television series'.\"}```, error=Expecting value: line 1 column 1 (char 0)\n",
      "parse_as_json, error parsing string as json, string=```json{\"verdict\":\"correct\",\"explanation\":\"The answer matches the ground truth, as both state that the genus' Sinofranchetia and Stauntonia belong to the Lardizabalaceae family.\"}```, error=Expecting value: line 1 column 1 (char 0)\n",
      "parse_as_json, error parsing string as json, string=```json{ \"verdict\":\"correct\", \"explanation\":\"The answer matches the ground truth, as both state that the genus' Sinofranchetia and Stauntonia belong to the Lardizabalaceae family.\"}```, error=Expecting value: line 1 column 1 (char 0)\n",
      "parse_as_json, error parsing string as json, string=```json{ \"verdict\":\"correct\", \"explanation\":\"The answer matches the ground truth, as both state that the genus' Sinofranchetia and Stauntonia belong to the Lardizabalaceae family.\"}```, error=Expecting value: line 1 column 1 (char 0)\n",
      "parse_as_json, error parsing string as json, string=```json{\"verdict\":\"correct\",\"explanation\":\"The answer provided matches the ground truth and correctly states that the genus' Sinofranchetia and Stauntonia belong to the Lardizabalaceae family.\"}```, error=Expecting value: line 1 column 1 (char 0)\n",
      "parse_as_json, error parsing string as json, string=```json{\"verdict\":\"correct\",\"explanation\":\"The answer provided matches the ground truth as both mention the Lardizabalaceae family\"}```, error=Expecting value: line 1 column 1 (char 0)\n",
      "parse_as_json, error parsing string as json, string=```json{ \"verdict\":\"correct\", \"explanation\":\"The answer matches the ground truth, as both state that the genus' Sinofranchetia and Stauntonia belong to the Lardizabalaceae family.\"}```, error=Expecting value: line 1 column 1 (char 0)\n",
      "parse_as_json, error parsing string as json, string=```json{\"verdict\":\"correct\",\"explanation\":\"The answer matches the ground truth, as both state that the genus' Sinofranchetia and Stauntonia belong to the Lardizabalaceae family.\"}```, error=Expecting value: line 1 column 1 (char 0)\n",
      "parse_as_json, error parsing string as json, string=```json{\"verdict\":\"correct\",\"explanation\":\"The answer matches the ground truth, as both state that the genus' Sinofranchetia and Stauntonia belong to the Lardizabalaceae family.\"}```, error=Expecting value: line 1 column 1 (char 0)\n",
      "parse_as_json, error parsing string as json, string=```json{\"verdict\":\"correct\",\"explanation\":\"The answer matches the ground truth, as both state that the genus' Sinofranchetia and Stauntonia belong to the Lardizabalaceae family.\"}```, error=Expecting value: line 1 column 1 (char 0)\n",
      "parse_as_json, error parsing string as json, string=```json{\"verdict\":\"correct\",\"explanation\":\"The answer matches the ground truth, as both state that the genus' Sinofranchetia and Stauntonia belong to the Lardizabalaceae family.\"}```, error=Expecting value: line 1 column 1 (char 0)\n",
      "parse_as_json, error parsing string as json, string=```json{ \"verdict\": \"incorrect\", \"explanation\": \"The answer claims that Rhosgoch and Qaleh-Ye Sahar are located in different parts of the same country, which is incorrect. Rhosgoch is indeed a village in Wales, but Qaleh-Ye Sahar is located in Iran.\"}```, error=Expecting value: line 1 column 1 (char 0)\n",
      "parse_as_json, error parsing string as json, string=```json{ \"verdict\": \"correct\", \"explanation\": \"The answer matches the ground truth as both the Gut and Gepiș are indeed located in Romania.\"}```, error=Expecting value: line 1 column 1 (char 0)\n",
      "parse_as_json, error parsing string as json, string=```json{\"verdict\": \"correct\",\"explanation\": \"The answer provided matches the ground truth as both Howard Lake in British Columbia and North Buck Lake in Alberta are indeed located in Canada.\"}```, error=Expecting value: line 1 column 1 (char 0)\n",
      "parse_as_json, error parsing string as json, string=```json{\"verdict\": \"correct\",\"explanation\": \"The answer matches the ground truth as both mountains are indeed located in Peru.\"}```, error=Expecting value: line 1 column 1 (char 0)\n",
      "parse_as_json, error parsing string as json, string=```json{ \"verdict\":\"correct\", \"explanation\":\"The answer matches the ground truth description of both shows being American reality television series that focus on the lives of WAGs, fulfilling the criteria closely.\"}```, error=Expecting value: line 1 column 1 (char 0)\n",
      "parse_as_json, error parsing string as json, string=```json{\"verdict\":\"correct\",\"explanation\":\"The answer matches the ground truth as both WAGS Atlanta and WAGS are referred to as American reality television series that revolve around the lives of WAGs, making them the same in terms of their genre and format.\"}```, error=Expecting value: line 1 column 1 (char 0)\n",
      "parse_as_json, error parsing string as json, string=```json{ \"verdict\": \"incorrect\", \"explanation\": \"The answer claims that Rhosgoch and Qaleh-Ye Sahar are located in different parts of the same country, which is incorrect. Rhosgoch is indeed a village in Wales, but Qaleh-Ye Sahar is located in Iran.\"}```, error=Expecting value: line 1 column 1 (char 0)\n",
      "parse_as_json, error parsing string as json, string=```json{ \"verdict\":\"correct\", \"explanation\":\"The answer matches the ground truth as both the Gut (Crișul Alb) and Gepiș are indeed located in Romania.\"}```, error=Expecting value: line 1 column 1 (char 0)\n",
      "parse_as_json, error parsing string as json, string=```json{\"verdict\":\"correct\",\"explanation\":\"The answer matches the ground truth as both Howard Lake in British Columbia and North Buck Lake in Alberta are indeed located in Canada.\"}```, error=Expecting value: line 1 column 1 (char 0)\n",
      "parse_as_json, error parsing string as json, string=```json{\"verdict\":\"correct\",\"explanation\":\"The answer matches the ground truth, as both mountains are indeed located in Peru.\"}```, error=Expecting value: line 1 column 1 (char 0)\n",
      "parse_as_json, error parsing string as json, string=```json{\"verdict\":\"correct\",\"explanation\":\"The answer matches the ground truth, as both state that the genus Sinofranchetia and Stauntonia are from the Lardizabalaceae family.\"}```, error=Expecting value: line 1 column 1 (char 0)\n",
      "parse_as_json, error parsing string as json, string=```json{\"verdict\":\"correct\",\"explanation\":\"The answer matches the ground truth, as both state that the genus Sinofranchetia and Stauntonia are from the Lardizabalaceae family.\"}```, error=Expecting value: line 1 column 1 (char 0)\n",
      "parse_as_json, error parsing string as json, string=```json{  \"verdict\": \"correct\",  \"explanation\": \"The answer matches the ground truth as both mention the Lardizabalaceae family\"}```, error=Expecting value: line 1 column 1 (char 0)\n",
      "parse_as_json, error parsing string as json, string=```json{\"verdict\":\"correct\",\"explanation\":\"The answer matches the ground truth, as both state that the genus Sinofranchetia and Stauntonia are from the Lardizabalaceae family.\"}```, error=Expecting value: line 1 column 1 (char 0)\n",
      "parse_as_json, error parsing string as json, string=```json{\"verdict\":\"correct\",\"explanation\":\"The answer matches the ground truth, as both state that the genus Sinofranchetia and Stauntonia are from the Lardizabalaceae family.\"}```, error=Expecting value: line 1 column 1 (char 0)\n",
      "parse_as_json, error parsing string as json, string=```json{ \"verdict\": \"correct\", \"explanation\": \"The answer correctly states that the two villages are not in the same country, with Rhosgoch being in the United Kingdom and Qaleh-ye Sahar being in Iran.\"}```, error=Expecting value: line 1 column 1 (char 0)\n",
      "parse_as_json, error parsing string as json, string=```json{\"verdict\": \"correct\",\"explanation\": \"The answer is correct as both rivers are indeed located in Romania\"}```, error=Expecting value: line 1 column 1 (char 0)\n",
      "parse_as_json, error parsing string as json, string=```json{\"verdict\":\"correct\",\"explanation\":\"The answer matches the ground truth as both lakes are indeed located in Canada.\"}```, error=Expecting value: line 1 column 1 (char 0)\n",
      "parse_as_json, error parsing string as json, string=```json{    \"verdict\": \"incorrect\",    \"explanation\": \"The answer does not match the ground truth. While Yana Urqu is indeed located in multiple locations including Peru, Puka Rumi is exclusively mentioned in the context as being situated in Peru. Hence, the two mountains are indeed in the same country, contrary to the provided answer.\"}```, error=Expecting value: line 1 column 1 (char 0)\n",
      "parse_as_json, error parsing string as json, string=```json{ \"verdict\":\"correct\", \"explanation\":\"The answer matches the ground truth description of both shows being American reality television series.\"}```, error=Expecting value: line 1 column 1 (char 0)\n",
      "parse_as_json, error parsing string as json, string=```json{\"verdict\":\"correct\",\"explanation\":\"The answer matches the ground truth, as both state that the genus Sinofranchetia and Stauntonia are from the Lardizabalaceae family.\"}```, error=Expecting value: line 1 column 1 (char 0)\n",
      "parse_as_json, error parsing string as json, string=```json{\"verdict\":\"correct\",\"explanation\":\"The answer matches the ground truth, as both state that the genus Sinofranchetia and Stauntonia are from the Lardizabalaceae family.\"}```, error=Expecting value: line 1 column 1 (char 0)\n",
      "parse_as_json, error parsing string as json, string=```json{\"verdict\":\"correct\",\"explanation\":\"The answer matches the ground truth, as both state that the genus Sinofranchetia and Stauntonia are from the Lardizabalaceae family.\"}```, error=Expecting value: line 1 column 1 (char 0)\n",
      "parse_as_json, error parsing string as json, string=```json{\"verdict\":\"correct\",\"explanation\":\"The answer matches the ground truth, as both state that the genus Sinofranchetia and Stauntonia are from the Lardizabalaceae family.\"}```, error=Expecting value: line 1 column 1 (char 0)\n",
      "parse_as_json, error parsing string as json, string=```json{\"verdict\":\"correct\",\"explanation\":\"The answer matches the ground truth, as both state that the genus Sinofranchetia and Stauntonia are from the Lardizabalaceae family.\"}```, error=Expecting value: line 1 column 1 (char 0)\n",
      "parse_as_json, error parsing string as json, string=```json{\"verdict\":\"correct\",\"explanation\":\"The answer matches the ground truth, as both state that the genus Sinofranchetia and Stauntonia are from the Lardizabalaceae family.\"}```, error=Expecting value: line 1 column 1 (char 0)\n",
      "parse_as_json, error parsing string as json, string=```json{\"verdict\":\"correct\",\"explanation\":\"The answer matches the ground truth, as both state that the genus Sinofranchetia and Stauntonia are from the Lardizabalaceae family.\"}```, error=Expecting value: line 1 column 1 (char 0)\n",
      "parse_as_json, error parsing string as json, string=```json{\"verdict\":\"correct\",\"explanation\":\"The answer matches the ground truth, as both state that the genus Sinofranchetia and Stauntonia are from the Lardizabalaceae family.\"}```, error=Expecting value: line 1 column 1 (char 0)\n",
      "parse_as_json, error parsing string as json, string=```json{\"verdict\":\"correct\",\"explanation\":\"The answer matches the ground truth, as both state that the genus Sinofranchetia and Stauntonia are from the Lardizabalaceae family.\"}```, error=Expecting value: line 1 column 1 (char 0)\n",
      "parse_as_json, error parsing string as json, string=```json{\"verdict\":\"correct\",\"explanation\":\"The answer matches the ground truth, as both state that the genus Sinofranchetia and Stauntonia are from the Lardizabalaceae family.\"}```, error=Expecting value: line 1 column 1 (char 0)\n",
      "parse_as_json, error parsing string as json, string=```json{ \"verdict\": \"correct\", \"explanation\": \"The answer correctly states that the two villages are located in different countries, with Rhosgoch being in the United Kingdom and Qaleh-ye Sahar being in Iran.\"}```, error=Expecting value: line 1 column 1 (char 0)\n",
      "parse_as_json, error parsing string as json, string=```json{ \"verdict\":\"correct\", \"explanation\":\"The answer matches the ground truth as both Gut (Crișul Alb) and Gepiș are indeed located in Romania.\"}```, error=Expecting value: line 1 column 1 (char 0)\n",
      "parse_as_json, error parsing string as json, string=```json{\"verdict\":\"correct\",\"explanation\":\"The answer matches the ground truth, as both lakes are indeed located in Canada.\"}```, error=Expecting value: line 1 column 1 (char 0)\n",
      "parse_as_json, error parsing string as json, string=```json{    \"verdict\": \"incorrect\",    \"explanation\": \"The answer does not match the ground truth. While Yana Urqu is indeed located in multiple locations including Peru, Puka Rumi is exclusively mentioned in the context as being situated in Peru. Hence, the two mountains are indeed in the same country, contrary to the provided answer.\"}```, error=Expecting value: line 1 column 1 (char 0)\n",
      "parse_as_json, error parsing string as json, string=```json{ \"verdict\":\"correct\", \"explanation\":\"The answer matches the ground truth description of both shows being American reality television series.\"}```, error=Expecting value: line 1 column 1 (char 0)\n",
      "parse_as_json, error parsing string as json, string=```json{\"verdict\":\"correct\",\"explanation\":\"The answer matches the ground truth description of both shows being American reality television series.\"}```, error=Expecting value: line 1 column 1 (char 0)\n",
      "parse_as_json, error parsing string as json, string=```json{ \"verdict\": \"correct\", \"explanation\": \"Both locations are indeed in different countries. Rhosgoch is in Wales, part of the United Kingdom, while Qaleh-ye Sahar is in Iran.\"}```, error=Expecting value: line 1 column 1 (char 0)\n",
      "parse_as_json, error parsing string as json, string=```json{ \"verdict\": \"correct\", \"explanation\": \"The answer is correct as both Gut (Crișul Alb) and Gepiș are indeed located in Romania.\"}```, error=Expecting value: line 1 column 1 (char 0)\n",
      "parse_as_json, error parsing string as json, string=```json{  \"verdict\": \"correct\",  \"explanation\": \"The answer correctly refers to the relevant information in the context, stating that both Howard Lake and North Buck Lake are indeed located in Canada\"}```, error=Expecting value: line 1 column 1 (char 0)\n",
      "parse_as_json, error parsing string as json, string=```json{ \"verdict\": \"incorrect\", \"explanation\": \"The answer claims that Yana Urqu (Q'umirqucha) is located in Peru, while Puka Rumi is located in both Peru and Bolivia, however, according to the context passages, Yana Urqu (Q'umirqucha) and Puka Rumi are both located solely in Peru.\"}```, error=Expecting value: line 1 column 1 (char 0)\n",
      "parse_as_json, error parsing string as json, string=```json{\"verdict\":\"correct\",\"explanation\":\"The answer matches the ground truth, as both state that the genera Sinofranchetia and Stauntonia belong to the Lardizabalaceae family.\"}```, error=Expecting value: line 1 column 1 (char 0)\n",
      "parse_as_json, error parsing string as json, string=```json{ \"verdict\":\"correct\", \"explanation\":\"The answer matches the ground truth, as both state that the genera Sinofranchetia and Stauntonia belong to the Lardizabalaceae family.\"}```, error=Expecting value: line 1 column 1 (char 0)\n",
      "parse_as_json, error parsing string as json, string=```json{\"verdict\":\"correct\",\"explanation\":\"The answer matches the ground truth, as both state that the genera Sinofranchetia and Stauntonia belong to the Lardizabalaceae family.\"}```, error=Expecting value: line 1 column 1 (char 0)\n",
      "parse_as_json, error parsing string as json, string=```json{\"verdict\":\"correct\",\"explanation\":\"The answer matches the ground truth, as both state that the genera Sinofranchetia and Stauntonia belong to the Lardizabalaceae family.\"}```, error=Expecting value: line 1 column 1 (char 0)\n",
      "parse_as_json, error parsing string as json, string=```json{\"verdict\":\"correct\",\"explanation\":\"The answer matches the ground truth, as both state that the genera Sinofranchetia and Stauntonia belong to the Lardizabalaceae family.\"}```, error=Expecting value: line 1 column 1 (char 0)\n",
      "parse_as_json, error parsing string as json, string=```json{\"verdict\": \"correct\",\"explanation\": \"The answer correctly states that the two villages are in different countries, with Rhosgoch being in the United Kingdom and Qaleh-ye Sahar being in Iran.\"}```, error=Expecting value: line 1 column 1 (char 0)\n",
      "parse_as_json, error parsing string as json, string=```json{\"verdict\":\"correct\",\"explanation\":\"The answer matches the ground truth as both Gut (Crișul Alb) and Gepiș are indeed located in Romania.\"}```, error=Expecting value: line 1 column 1 (char 0)\n",
      "parse_as_json, error parsing string as json, string=```json{\"verdict\":\"correct\",\"explanation\":\"The answer matches the ground truth, as both lakes are indeed located in Canada.\"}```, error=Expecting value: line 1 column 1 (char 0)\n",
      "parse_as_json, error parsing string as json, string=```json{\"verdict\": \"correct\",\"explanation\": \"The answer matches the ground truth value\"}```, error=Expecting value: line 1 column 1 (char 0)\n",
      "parse_as_json, error parsing string as json, string=```json{ \"verdict\":\"correct\", \"explanation\":\"The answer matches the ground truth description of both shows being American reality television series\"}```, error=Expecting value: line 1 column 1 (char 0)\n",
      "parse_as_json, error parsing string as json, string=```json{ \"verdict\":\"correct\", \"explanation\":\"The answer matches the ground truth, as both state that the genera Sinofranchetia and Stauntonia belong to the Lardizabalaceae family.\"}```, error=Expecting value: line 1 column 1 (char 0)\n",
      "parse_as_json, error parsing string as json, string=```json{ \"verdict\":\"correct\", \"explanation\":\"The answer matches the ground truth, as both state that the genera Sinofranchetia and Stauntonia belong to the Lardizabalaceae family.\"}```, error=Expecting value: line 1 column 1 (char 0)\n",
      "parse_as_json, error parsing string as json, string=```json{\"verdict\":\"correct\",\"explanation\":\"The answer matches the ground truth, as both state that the genera Sinofranchetia and Stauntonia belong to the Lardizabalaceae family.\"}```, error=Expecting value: line 1 column 1 (char 0)\n",
      "parse_as_json, error parsing string as json, string=```json{\"verdict\":\"correct\",\"explanation\":\"The answer matches the ground truth, as both state that the genera Sinofranchetia and Stauntonia belong to the Lardizabalaceae family.\"}```, error=Expecting value: line 1 column 1 (char 0)\n",
      "parse_as_json, error parsing string as json, string=```json{ \"verdict\":\"correct\", \"explanation\":\"The answer matches the ground truth, as both state that the genera Sinofranchetia and Stauntonia belong to the Lardizabalaceae family.\"}```, error=Expecting value: line 1 column 1 (char 0)\n",
      "parse_as_json, error parsing string as json, string=```json{\"verdict\":\"correct\",\"explanation\":\"The answer matches the ground truth, as both state that the genera Sinofranchetia and Stauntonia belong to the Lardizabalaceae family.\"}```, error=Expecting value: line 1 column 1 (char 0)\n",
      "parse_as_json, error parsing string as json, string=```json{\"verdict\":\"correct\",\"explanation\":\"The answer matches the ground truth, as both state that the genera Sinofranchetia and Stauntonia belong to the Lardizabalaceae family.\"}```, error=Expecting value: line 1 column 1 (char 0)\n",
      "parse_as_json, error parsing string as json, string=```json{\"verdict\":\"correct\",\"explanation\":\"The answer matches the ground truth, as both state that the genera Sinofranchetia and Stauntonia belong to the Lardizabalaceae family.\"}```, error=Expecting value: line 1 column 1 (char 0)\n",
      "parse_as_json, error parsing string as json, string=```json{\"verdict\":\"correct\",\"explanation\":\"The answer matches the ground truth, as both state that the genera Sinofranchetia and Stauntonia belong to the Lardizabalaceae family.\"}```, error=Expecting value: line 1 column 1 (char 0)\n",
      "parse_as_json, error parsing string as json, string=```json{\"verdict\":\"correct\",\"explanation\":\"The answer matches the ground truth, as both state that the genera Sinofranchetia and Stauntonia belong to the Lardizabalaceae family.\"}```, error=Expecting value: line 1 column 1 (char 0)\n",
      "parse_as_json, error parsing string as json, string=```json{ \"verdict\": \"correct\", \"explanation\": \"The answer correctly states that the two villages are not in the same country, with Rhosgoch being in the United Kingdom and Qaleh-ye Sahar being in Iran.\"}```, error=Expecting value: line 1 column 1 (char 0)\n",
      "parse_as_json, error parsing string as json, string=```json{\"verdict\":\"correct\",\"explanation\":\"The answer matches the ground truth as both Gut (Crișul Alb) and Gepiș are indeed located in Romania.\"}```, error=Expecting value: line 1 column 1 (char 0)\n",
      "parse_as_json, error parsing string as json, string=```json{\"verdict\":\"correct\",\"explanation\":\"The answer matches the ground truth as both lakes are indeed in Canada\"}```, error=Expecting value: line 1 column 1 (char 0)\n",
      "parse_as_json, error parsing string as json, string=```json{\"verdict\": \"correct\",\"explanation\": \"The answer matches the ground truth as both mountains are indeed located in Peru.\"}```, error=Expecting value: line 1 column 1 (char 0)\n",
      "parse_as_json, error parsing string as json, string=```json{\"verdict\":\"correct\",\"explanation\":\"The answer correctly states that both WAGS Atlanta and WAGS are reality television shows, matching the ground truth description of both being 'television series'.\"}```, error=Expecting value: line 1 column 1 (char 0)\n",
      "parse_as_json, error parsing string as json, string=```json{ \"verdict\":\"correct\", \"explanation\":\"The answer matches the ground truth description of both shows being American reality television series\"}```, error=Expecting value: line 1 column 1 (char 0)\n",
      "parse_as_json, error parsing string as json, string=```json{\"verdict\":\"correct\",\"explanation\":\"The answer correctly states that the two villages are in different countries, with Rhosgoch being in the United Kingdom and Qaleh-ye Sahar being in Iran.\"}```, error=Expecting value: line 1 column 1 (char 0)\n",
      "parse_as_json, error parsing string as json, string=```json{\"verdict\":\"correct\",\"explanation\":\"The answer matches the ground truth as both Gut (Crișul Alb) and Gepiș are indeed located in Romania.\"}```, error=Expecting value: line 1 column 1 (char 0)\n",
      "parse_as_json, error parsing string as json, string=```json{ \"verdict\": \"correct\", \"explanation\": \"The answer provided matches the ground truth value as both Howard Lake and North Buck Lake are indeed located in Canada.\"}```, error=Expecting value: line 1 column 1 (char 0)\n",
      "parse_as_json, error parsing string as json, string=```json{ \"verdict\": \"correct\", \"explanation\": \"The answer matches the ground truth as both mountains are indeed located in Peru.\"}```, error=Expecting value: line 1 column 1 (char 0)\n",
      "parse_as_json, error parsing string as json, string=```json{\"verdict\":\"correct\",\"explanation\":\"The answer correctly identifies the Lardizabalaceae family as the origin of both genus' Stauntonia and Sinofranchetia\"}```, error=Expecting value: line 1 column 1 (char 0)\n",
      "parse_as_json, error parsing string as json, string=```json{\"verdict\":\"correct\",\"explanation\":\"The answer matches the ground truth, as both state that the genus Sinofranchetia and Stauntonia are from the Lardizabalaceae family.\"}```, error=Expecting value: line 1 column 1 (char 0)\n",
      "parse_as_json, error parsing string as json, string=```json{  \"verdict\": \"correct\",  \"explanation\": \"The answer matches the ground truth\"}```, error=Expecting value: line 1 column 1 (char 0)\n",
      "parse_as_json, error parsing string as json, string=```json{ \"verdict\":\"correct\", \"explanation\":\"The answer matches the ground truth, as both state that the genus' Sinofranchetia and Stauntonia belong to the Lardizabalaceae family.\"}```, error=Expecting value: line 1 column 1 (char 0)\n",
      "parse_as_json, error parsing string as json, string=```json{\"verdict\":\"correct\",\"explanation\":\"The answer matches the ground truth, as both state that the genus Sinofranchetia and Stauntonia are from the Lardizabalaceae family\"}```, error=Expecting value: line 1 column 1 (char 0)\n",
      "parse_as_json, error parsing string as json, string=```json{\"verdict\": \"incorrect\",\"explanation\": \"The answer given locates both villages in the United Kingdom, however, Qaleh-Ye Sahar is located in Iran while Rhosgoch is located in Wales, United Kingdom. Hence, the answer is incorrect.\"}```, error=Expecting value: line 1 column 1 (char 0)\n",
      "parse_as_json, error parsing string as json, string=```json{    \"verdict\": \"correct\",    \"explanation\": \"The Gut (Condrat\\u0103u) and Gepi\\u0219 are both rivers in Romania.\"}```, error=Expecting value: line 1 column 1 (char 0)\n",
      "parse_as_json, error parsing string as json, string=```json{ \"verdict\": \"correct\", \"explanation\": \"The answer provided matches the ground truth value as both Howard Lake and North Buck Lake are indeed located in Canada.\"}```, error=Expecting value: line 1 column 1 (char 0)\n",
      "parse_as_json, error parsing string as json, string=```json{\"verdict\":\"correct\",\"explanation\":\"The answer matches the ground truth, as both mountains are indeed located in Peru.\"}```, error=Expecting value: line 1 column 1 (char 0)\n",
      "parse_as_json, error parsing string as json, string=```json{ \"verdict\":\"correct\", \"explanation\":\"The answer matches the ground truth as both WAGS Atlanta and WAGS are referred to as American reality television shows in the respective passages.\"}```, error=Expecting value: line 1 column 1 (char 0)\n",
      "parse_as_json, error parsing string as json, string=```json{  \"verdict\": \"correct\",  \"explanation\": \"The answer matches the ground truth as both mention 'Lardizabalaceae family'\"}```, error=Expecting value: line 1 column 1 (char 0)\n",
      "parse_as_json, error parsing string as json, string=```json{\"verdict\":\"correct\",\"explanation\":\"The answer matches the ground truth, as both state that the genus Stauntonia and Sinofranchetia are from the Lardizabalaceae family\"}```, error=Expecting value: line 1 column 1 (char 0)\n",
      "parse_as_json, error parsing string as json, string=```json{\"verdict\":\"correct\",\"explanation\":\"The answer matches the ground truth, as both state that the genus Sinofranchetia and Stauntonia are from the Lardizabalaceae family.\"}```, error=Expecting value: line 1 column 1 (char 0)\n",
      "parse_as_json, error parsing string as json, string=```json{\"verdict\":\"correct\",\"explanation\":\"The answer correctly identifies the Lardizabalaceae family as the origin of both genus' Sinofranchetia and Stauntonia\"}```, error=Expecting value: line 1 column 1 (char 0)\n",
      "parse_as_json, error parsing string as json, string=```json{\"verdict\":\"correct\",\"explanation\":\"The answer matches the ground truth, as both state that the genus Sinofranchetia and Stauntonia are from the Lardizabalaceae family.\"}```, error=Expecting value: line 1 column 1 (char 0)\n",
      "parse_as_json, error parsing string as json, string=```json{\"verdict\":\"correct\",\"explanation\":\"The answer matches the ground truth, as both state that the genus Sinofranchetia and Stauntonia are from the Lardizabalaceae family.\"}```, error=Expecting value: line 1 column 1 (char 0)\n",
      "parse_as_json, error parsing string as json, string=```json{\"verdict\":\"correct\",\"explanation\":\"The answer matches the ground truth, as both state that the genus Sinofranchetia and Stauntonia belong to the Lardizabalaceae family.\"}```, error=Expecting value: line 1 column 1 (char 0)\n",
      "parse_as_json, error parsing string as json, string=```json{\"verdict\":\"correct\",\"explanation\":\"The answer matches the ground truth, as both mention the Lardizabalaceae family\"}```, error=Expecting value: line 1 column 1 (char 0)\n",
      "parse_as_json, error parsing string as json, string=```json{\"verdict\":\"correct\",\"explanation\":\"The answer matches the ground truth, as both state that the genus Stauntonia and Sinofranchetia are from the Lardizabalaceae family\"}```, error=Expecting value: line 1 column 1 (char 0)\n",
      "parse_as_json, error parsing string as json, string=```json{\"verdict\":\"correct\",\"explanation\":\"The answer correctly identifies the Lardizabalaceae family as the origin of both genus' Stauntonia and Sinofranchetia\"}```, error=Expecting value: line 1 column 1 (char 0)\n",
      "parse_as_json, error parsing string as json, string=```json{ \"verdict\": \"incorrect\", \"explanation\": \"The answer provided states that Rhosgoch and Qaleh-Ye Sahar are located in the United Kingdom, however, this is not the case. Rhosgoch is a village located in Wales, United Kingdom, while Qaleh-Ye Sahar is located in Iran.\"}```, error=Expecting value: line 1 column 1 (char 0)\n",
      "parse_as_json, error parsing string as json, string=```json{    \"verdict\": \"correct\",    \"explanation\": \"The Gut (Condrat\\u0103u) and Gepi\\u0219 are both rivers in Romania.\"}```, error=Expecting value: line 1 column 1 (char 0)\n",
      "parse_as_json, error parsing string as json, string=```json{\"verdict\":\"correct\",\"explanation\":\"The answer matches the ground truth, as both lakes are indeed located in Canada.\"}```, error=Expecting value: line 1 column 1 (char 0)\n",
      "parse_as_json, error parsing string as json, string=```json{\"verdict\": \"correct\",\"explanation\": \"The answer matches the ground truth as both mountains are indeed located in Peru.\"}```, error=Expecting value: line 1 column 1 (char 0)\n",
      "parse_as_json, error parsing string as json, string=```json{\"verdict\":\"incorrect\",\"explanation\":\"The answer provided implies that both WAGS Atlanta and WAGS are television shows, which is partially correct. However, the ground truth specifies that both are 'series', meaning that the answer does not match the question intended to inquire about the format of the programs.\"}```, error=Expecting value: line 1 column 1 (char 0)\n",
      "parse_as_json, error parsing string as json, string=```json{ \"verdict\":\"correct\", \"explanation\":\"The answer matches the ground truth as both WAGS Atlanta and WAGS are referred to as American reality television shows in the respective passages.\"}```, error=Expecting value: line 1 column 1 (char 0)\n",
      "parse_as_json, error parsing string as json, string=```json{\"verdict\": \"incorrect\",\"explanation\": \"The answer given locates both villages in the United Kingdom, however, Qaleh-Ye Sahar is located in Iran while Rhosgoch is located in Wales, United Kingdom. Hence, the answer is incorrect.\"}```, error=Expecting value: line 1 column 1 (char 0)\n",
      "parse_as_json, error parsing string as json, string=```json{    \"verdict\": \"correct\",    \"explanation\": \"The Gut (Condrat\\u0103u) and Gepi\\u0219 are both rivers in Romania.\"}```, error=Expecting value: line 1 column 1 (char 0)\n",
      "parse_as_json, error parsing string as json, string=```json{ \"verdict\": \"correct\", \"explanation\": \"The answer matches the ground truth as both Howard Lake and North Buck Lake are indeed located in Canada.\"}```, error=Expecting value: line 1 column 1 (char 0)\n",
      "parse_as_json, error parsing string as json, string=```json{\"verdict\":\"correct\",\"explanation\":\"The answer matches the ground truth, as both mountains are indeed located in Peru.\"}```, error=Expecting value: line 1 column 1 (char 0)\n",
      "parse_as_json, error parsing string as json, string=```json{  \"verdict\": \"correct\",  \"explanation\": \"The answer matches the ground truth\"}```, error=Expecting value: line 1 column 1 (char 0)\n",
      "parse_as_json, error parsing string as json, string=```json{  \"verdict\": \"correct\",  \"explanation\": \"The answer matches the ground truth\"}```, error=Expecting value: line 1 column 1 (char 0)\n",
      "parse_as_json, error parsing string as json, string=```json{\"verdict\":\"correct\",\"explanation\":\"The answer matches the ground truth, as both state that the genus Sinofranchetia and Stauntonia belong to the Lardizabalaceae family.\"}```, error=Expecting value: line 1 column 1 (char 0)\n",
      "parse_as_json, error parsing string as json, string=```json{  \"verdict\": \"correct\",  \"explanation\": \"The answer matches the ground truth\"}```, error=Expecting value: line 1 column 1 (char 0)\n",
      "parse_as_json, error parsing string as json, string=```json{  \"verdict\": \"correct\",  \"explanation\": \"The answer matches the ground truth as both mention that the genus Sinofranchetia and Stauntonia belong to the Lardizabalaceae family.\"}```, error=Expecting value: line 1 column 1 (char 0)\n",
      "parse_as_json, error parsing string as json, string=```json{ \"verdict\": \"correct\", \"explanation\": \"Both locations are indeed in different countries. Rhosgoch is in Wales, part of the United Kingdom, while Qaleh-Ye Sahar is in Iran.\"}```, error=Expecting value: line 1 column 1 (char 0)\n",
      "parse_as_json, error parsing string as json, string=```json{\"verdict\":\"correct\",\"explanation\":\"The answer matches the ground truth, as both Gut (Crișul Alb) and Gepiș are indeed located in Romania.\"}```, error=Expecting value: line 1 column 1 (char 0)\n",
      "parse_as_json, error parsing string as json, string=```json{    \"verdict\": \"correct\",    \"explanation\": \"The answer matches the ground truth as both lakes are indeed in Canada.\"}```, error=Expecting value: line 1 column 1 (char 0)\n",
      "parse_as_json, error parsing string as json, string=```json{\"verdict\": \"correct\",\"explanation\": \"The answer matches the ground truth as both mountains are indeed located in Peru.\"}```, error=Expecting value: line 1 column 1 (char 0)\n",
      "parse_as_json, error parsing string as json, string=```json{ \"verdict\":\"correct\", \"explanation\":\"The answer correctly identifies the genre of the two shows as American reality television, which is the key element of the question.\"}```, error=Expecting value: line 1 column 1 (char 0)\n",
      "parse_as_json, error parsing string as json, string=```json{  \"verdict\": \"correct\",  \"explanation\": \"The answer matches the ground truth\"}```, error=Expecting value: line 1 column 1 (char 0)\n",
      "parse_as_json, error parsing string as json, string=```json{  \"verdict\": \"correct\",  \"explanation\": \"The answer matches the ground truth\"}```, error=Expecting value: line 1 column 1 (char 0)\n",
      "parse_as_json, error parsing string as json, string=```json{\"verdict\":\"correct\",\"explanation\":\"The answer matches the ground truth, as both state that the genus Sinofranchetia and Stauntonia belong to the Lardizabalaceae family.\"}```, error=Expecting value: line 1 column 1 (char 0)\n",
      "parse_as_json, error parsing string as json, string=```json{  \"verdict\": \"correct\",  \"explanation\": \"The answer matches the ground truth\"}```, error=Expecting value: line 1 column 1 (char 0)\n",
      "parse_as_json, error parsing string as json, string=```json{  \"verdict\": \"correct\",  \"explanation\": \"The answer matches the ground truth as both mention that the genus Sinofranchetia and Stauntonia belong to the Lardizabalaceae family.\"}```, error=Expecting value: line 1 column 1 (char 0)\n",
      "parse_as_json, error parsing string as json, string=```json{  \"verdict\": \"correct\",  \"explanation\": \"The answer matches the ground truth\"}```, error=Expecting value: line 1 column 1 (char 0)\n",
      "parse_as_json, error parsing string as json, string=```json{  \"verdict\": \"correct\",  \"explanation\": \"The answer matches the ground truth as both mention the Lardizabalaceae family\"}```, error=Expecting value: line 1 column 1 (char 0)\n",
      "parse_as_json, error parsing string as json, string=```json{  \"verdict\": \"correct\",  \"explanation\": \"The answer matches the ground truth\"}```, error=Expecting value: line 1 column 1 (char 0)\n",
      "parse_as_json, error parsing string as json, string=```json{  \"verdict\": \"correct\",  \"explanation\": \"The answer matches the ground truth as both mention the Lardizabalaceae family\"}```, error=Expecting value: line 1 column 1 (char 0)\n",
      "parse_as_json, error parsing string as json, string=```json{  \"verdict\": \"correct\",  \"explanation\": \"The answer matches the ground truth\"}```, error=Expecting value: line 1 column 1 (char 0)\n",
      "parse_as_json, error parsing string as json, string=```json{ \"verdict\": \"correct\", \"explanation\": \"The answer correctly states that the two villages are not in the same country, with Rhosgoch being in the United Kingdom and Qaleh-Ye Sahar being in Iran.\"}```, error=Expecting value: line 1 column 1 (char 0)\n",
      "parse_as_json, error parsing string as json, string=```json{\"verdict\":\"correct\",\"explanation\":\"The answer matches the ground truth as both Gut (Crișul Alb) and Gepiș are indeed located in Romania.\"}```, error=Expecting value: line 1 column 1 (char 0)\n",
      "parse_as_json, error parsing string as json, string=```json{\"verdict\":\"correct\",\"explanation\":\"The answer matches the ground truth as both lakes are indeed in Canada.\"}```, error=Expecting value: line 1 column 1 (char 0)\n",
      "parse_as_json, error parsing string as json, string=```json{ \"verdict\": \"correct\", \"explanation\": \"The answer matches the ground truth as both Yana Urqu (Q'umirqucha) and Puka Rumi are indeed located in Peru.\"}```, error=Expecting value: line 1 column 1 (char 0)\n",
      "parse_as_json, error parsing string as json, string=```json{\"verdict\":\"correct\",\"explanation\":\"The provided answer matches the ground truth description of being an 'American reality television show' and answers the question asked in the context.\"}```, error=Expecting value: line 1 column 1 (char 0)\n",
      "parse_as_json, error parsing string as json, string=```json{ \"verdict\":\"correct\", \"explanation\":\"The answer correctly identifies the genre of the two shows as American reality television, which is the key element of the question.\"}```, error=Expecting value: line 1 column 1 (char 0)\n",
      "parse_as_json, error parsing string as json, string=```json{ \"verdict\": \"correct\", \"explanation\": \"Both locations are indeed in different countries. Rhosgoch is in Wales, part of the United Kingdom, while Qaleh-Ye Sahar is in Iran.\"}```, error=Expecting value: line 1 column 1 (char 0)\n",
      "parse_as_json, error parsing string as json, string=```json{\"verdict\":\"correct\",\"explanation\":\"The answer matches the ground truth as both Gut (Crișul Alb) and Gepiș are indeed located in Romania.\"}```, error=Expecting value: line 1 column 1 (char 0)\n",
      "parse_as_json, error parsing string as json, string=```json{\"verdict\": \"correct\",\"explanation\": \"The answer matches the ground truth as both lakes are indeed in Canada.\"}```, error=Expecting value: line 1 column 1 (char 0)\n",
      "parse_as_json, error parsing string as json, string=```json{\"verdict\":\"correct\",\"explanation\":\"The answer matches the ground truth, as both mountains are indeed located in Peru.\"}```, error=Expecting value: line 1 column 1 (char 0)\n",
      "parse_as_json, error parsing string as json, string=```json{  \"verdict\": \"correct\",  \"explanation\": \"The answer matches the ground truth and both refer to the Lardizabalaceae family\"}```, error=Expecting value: line 1 column 1 (char 0)\n",
      "parse_as_json, error parsing string as json, string=```json{\"verdict\":\"correct\",\"explanation\":\"The answer matches the ground truth, as both state that the genera Sinofranchetia and Stauntonia belong to the Lardizabalaceae family.\"}```, error=Expecting value: line 1 column 1 (char 0)\n",
      "parse_as_json, error parsing string as json, string=```json{\"verdict\":\"correct\",\"explanation\":\"The answer matches the ground truth, as both state that the genus' Sinofranchetia and Stauntonia belong to the Lardizabalaceae family.\"}```, error=Expecting value: line 1 column 1 (char 0)\n",
      "parse_as_json, error parsing string as json, string=```json{\"verdict\":\"correct\",\"explanation\":\"The answer matches the ground truth, as both state that the genera Sinofranchetia and Stauntonia belong to the Lardizabalaceae family.\"}```, error=Expecting value: line 1 column 1 (char 0)\n",
      "parse_as_json, error parsing string as json, string=```json{\"verdict\":\"correct\",\"explanation\":\"The answer matches the ground truth, as both state that the genus' Sinofranchetia and Stauntonia belong to the Lardizabalaceae family.\"}```, error=Expecting value: line 1 column 1 (char 0)\n",
      "parse_as_json, error parsing string as json, string=```json{\"verdict\":\"correct\",\"explanation\":\"The answer correctly states that the two villages are in different countries, with Rhosgoch being in Wales and Qaleh-ye Sahar being in Iran.\"}```, error=Expecting value: line 1 column 1 (char 0)\n",
      "parse_as_json, error parsing string as json, string=```json{ \"verdict\":\"correct\", \"explanation\":\"The answer is correct as both Gut (Crișul Alb) and Gepiș are indeed located in Romania\"}```, error=Expecting value: line 1 column 1 (char 0)\n",
      "parse_as_json, error parsing string as json, string=```json{\"verdict\":\"correct\",\"explanation\":\"The answer matches the ground truth, as both lakes are indeed located in Canada.\"}```, error=Expecting value: line 1 column 1 (char 0)\n",
      "parse_as_json, error parsing string as json, string=```json{\"verdict\":\"correct\",\"explanation\":\"The answer matches the ground truth as both Yana Urqu (Q'umirqucha) and Puka Rumi are indeed located in Peru.\"}```, error=Expecting value: line 1 column 1 (char 0)\n",
      "parse_as_json, error parsing string as json, string=```json{ \"verdict\":\"correct\", \"explanation\":\"The answer correctly identifies the two given shows, WAGS Atlanta and WAGS, as American reality television series. While the former is a spin-off of the latter, both fall under the same genre and share the common theme of showcasing the lives of WAGs.\"}```, error=Expecting value: line 1 column 1 (char 0)\n",
      "parse_as_json, error parsing string as json, string=```json{  \"verdict\": \"correct\",  \"explanation\": \"The answer matches the ground truth and both refer to the Lardizabalaceae family\"}```, error=Expecting value: line 1 column 1 (char 0)\n",
      "parse_as_json, error parsing string as json, string=```json{  \"verdict\": \"correct\",  \"explanation\": \"The answer matches the ground truth as both mention the 'Lardizabalaceae' family.\"}```, error=Expecting value: line 1 column 1 (char 0)\n",
      "parse_as_json, error parsing string as json, string=```json{\"verdict\":\"correct\",\"explanation\":\"The answer matches the ground truth, as both state that the genus' Sinofranchetia and Stauntonia belong to the Lardizabalaceae family.\"}```, error=Expecting value: line 1 column 1 (char 0)\n",
      "parse_as_json, error parsing string as json, string=```json{\"verdict\":\"correct\",\"explanation\":\"The answer matches the ground truth, as both state that the genera Sinofranchetia and Stauntonia belong to the Lardizabalaceae family.\"}```, error=Expecting value: line 1 column 1 (char 0)\n",
      "parse_as_json, error parsing string as json, string=```json{\"verdict\":\"correct\",\"explanation\":\"The answer matches the ground truth, as both state that the genera Sinofranchetia and Stauntonia belong to the Lardizabalaceae family.\"}```, error=Expecting value: line 1 column 1 (char 0)\n",
      "parse_as_json, error parsing string as json, string=```json{\"verdict\":\"correct\",\"explanation\":\"The answer matches the ground truth, as both state that the genera Sinofranchetia and Stauntonia belong to the Lardizabalaceae family.\"}```, error=Expecting value: line 1 column 1 (char 0)\n",
      "parse_as_json, error parsing string as json, string=```json{\"verdict\":\"correct\",\"explanation\":\"The answer matches the ground truth, as both state that the genus' Sinofranchetia and Stauntonia belong to the Lardizabalaceae family.\"}```, error=Expecting value: line 1 column 1 (char 0)\n",
      "parse_as_json, error parsing string as json, string=```json{\"verdict\":\"correct\",\"explanation\":\"The answer matches the ground truth, as both state that the genus' Sinofranchetia and Stauntonia belong to the Lardizabalaceae family.\"}```, error=Expecting value: line 1 column 1 (char 0)\n",
      "parse_as_json, error parsing string as json, string=```json{\"verdict\":\"correct\",\"explanation\":\"The answer matches the ground truth, as both state that the genus' Sinofranchetia and Stauntonia belong to the Lardizabalaceae family.\"}```, error=Expecting value: line 1 column 1 (char 0)\n",
      "parse_as_json, error parsing string as json, string=```json{\"verdict\":\"correct\",\"explanation\":\"The answer matches the ground truth, as both state that the genus' Sinofranchetia and Stauntonia belong to the Lardizabalaceae family.\"}```, error=Expecting value: line 1 column 1 (char 0)\n",
      "parse_as_json, error parsing string as json, string=```json{ \"verdict\": \"correct\", \"explanation\": \"The answer correctly states that the two villages are in different countries, with Rhosgoch being in Wales and Qaleh-ye Sahar being in Iran.\"}```, error=Expecting value: line 1 column 1 (char 0)\n",
      "parse_as_json, error parsing string as json, string=```json{ \"verdict\":\"correct\", \"explanation\":\"The answer is correct as both Gut (Crișul Alb) and Gepiș are indeed located in Romania\"}```, error=Expecting value: line 1 column 1 (char 0)\n",
      "parse_as_json, error parsing string as json, string=```json{ \"verdict\": \"correct\", \"explanation\": \"The answer matches the ground truth as both Howard Lake and North Buck Lake are indeed located in Canada.\"}```, error=Expecting value: line 1 column 1 (char 0)\n",
      "parse_as_json, error parsing string as json, string=```json{\"verdict\":\"correct\",\"explanation\":\"The answer matches the ground truth as both Yana Urqu (Q'umirqucha) and Puka Rumi are indeed located in Peru.\"}```, error=Expecting value: line 1 column 1 (char 0)\n",
      "parse_as_json, error parsing string as json, string=```json{\"verdict\":\"correct\",\"explanation\":\"The answer correctly identifies both WAGS Atlanta and WAGS as American reality television series that aired on the E! network. While the former is a spin-off of the latter, they both fall under the same genre and share the same network platform.\"}```, error=Expecting value: line 1 column 1 (char 0)\n",
      "parse_as_json, error parsing string as json, string=```json{ \"verdict\":\"correct\", \"explanation\":\"The answer correctly identifies both WAGS Atlanta and WAGS as American reality television series. While the answer also provides additional details, it is a correct response to the question asked.\"}```, error=Expecting value: line 1 column 1 (char 0)\n",
      "parse_as_json, error parsing string as json, string=```json{\"verdict\":\"correct\",\"explanation\":\"The answer correctly states that the two villages are in different countries, with Rhosgoch being in Wales and Qaleh-ye Sahar being in Iran.\"}```, error=Expecting value: line 1 column 1 (char 0)\n",
      "parse_as_json, error parsing string as json, string=```json{ \"verdict\":\"correct\", \"explanation\":\"The answer is correct as both Gut (Crișul Alb) and Gepiș are indeed located in Romania\"}```, error=Expecting value: line 1 column 1 (char 0)\n",
      "parse_as_json, error parsing string as json, string=```json{\"verdict\":\"correct\",\"explanation\":\"The answer matches the ground truth, as both lakes are indeed located in Canada.\"}```, error=Expecting value: line 1 column 1 (char 0)\n",
      "parse_as_json, error parsing string as json, string=```json{\"verdict\":\"correct\",\"explanation\":\"The answer correctly states that both mountains are located in Peru, as supported by the provided passages.\"}```, error=Expecting value: line 1 column 1 (char 0)\n",
      "parse_as_json, error parsing string as json, string=```json{  \"verdict\": \"correct\",  \"explanation\": \"The answer matches the ground truth as both mention the Lardizabalaceae family\"}```, error=Expecting value: line 1 column 1 (char 0)\n",
      "parse_as_json, error parsing string as json, string=```json{  \"verdict\": \"correct\",  \"explanation\": \"The answer matches the ground truth as both mention that the genus Sinofranchetia and Stauntonia belong to the Lardizabalaceae family.\"}```, error=Expecting value: line 1 column 1 (char 0)\n",
      "parse_as_json, error parsing string as json, string=```json{  \"verdict\": \"correct\",  \"explanation\": \"The answer matches the ground truth, as both state that the genus Sinofranchetia and Stauntonia belong to the Lardizabalaceae family.\"}```, error=Expecting value: line 1 column 1 (char 0)\n",
      "parse_as_json, error parsing string as json, string=```json{\"verdict\":\"correct\",\"explanation\":\"The answer matches the ground truth, as both state that the genus Sinofranchetia and Stauntonia are from the Lardizabalaceae family.\"}```, error=Expecting value: line 1 column 1 (char 0)\n",
      "parse_as_json, error parsing string as json, string=```json{  \"verdict\": \"correct\",  \"explanation\": \"The answer matches the ground truth as both mention the Lardizabalaceae family\"}```, error=Expecting value: line 1 column 1 (char 0)\n",
      "parse_as_json, error parsing string as json, string=```json{\"verdict\": \"correct\",\"explanation\": \"The answer correctly states that Rhosgoch is in Wales, United Kingdom, and Qaleh-ye Sahar is in Iran, they are therefore not in the same country.\"}```, error=Expecting value: line 1 column 1 (char 0)\n",
      "parse_as_json, error parsing string as json, string=```json{\"verdict\":\"correct\",\"explanation\":\"The answer is correct as both Gut (Crișul Alb) and Gepiș are indeed located in Romania\"}```, error=Expecting value: line 1 column 1 (char 0)\n",
      "parse_as_json, error parsing string as json, string=```json{\"verdict\":\"correct\",\"explanation\":\"The answer correctly states that both Howard Lake and North Buck Lake are in Canada, which is verified by the passages. Howard Lake is in British Columbia, and North Buck Lake is in Alberta, both of which are Canadian provinces.\"}```, error=Expecting value: line 1 column 1 (char 0)\n",
      "parse_as_json, error parsing string as json, string=```json{\"verdict\":\"correct\",\"explanation\":\"The answer matches the ground truth, as both mountains are indeed located in Peru.\"}```, error=Expecting value: line 1 column 1 (char 0)\n",
      "parse_as_json, error parsing string as json, string=```json{\"verdict\":\"correct\",\"explanation\":\"The answer correctly states that both WAGS Atlanta and WAGS are American reality television series. Although the answer also mentions other details such as the network and the focus on 'WAGs', the question only explicitly asks for the genre of both shows.\"}```, error=Expecting value: line 1 column 1 (char 0)\n",
      "parse_as_json, error parsing string as json, string=```json{  \"verdict\": \"correct\",  \"explanation\": \"The answer matches the ground truth, as both state that the genus Sinofranchetia and Stauntonia belong to the Lardizabalaceae family.\"}```, error=Expecting value: line 1 column 1 (char 0)\n",
      "parse_as_json, error parsing string as json, string=```json{  \"verdict\": \"correct\",  \"explanation\": \"The answer matches the ground truth as both mention the Lardizabalaceae family\"}```, error=Expecting value: line 1 column 1 (char 0)\n",
      "parse_as_json, error parsing string as json, string=```json{  \"verdict\": \"correct\",  \"explanation\": \"The answer matches the ground truth, stating that both genus are from the Lardizabalaceae family.\"}```, error=Expecting value: line 1 column 1 (char 0)\n",
      "parse_as_json, error parsing string as json, string=```json{  \"verdict\": \"correct\",  \"explanation\": \"The answer matches the ground truth, stating that both genus are from the Lardizabalaceae family.\"}```, error=Expecting value: line 1 column 1 (char 0)\n",
      "parse_as_json, error parsing string as json, string=```json{  \"verdict\": \"correct\",  \"explanation\": \"The answer matches the ground truth, as both state that the genus Sinofranchetia and Stauntonia belong to the Lardizabalaceae family.\"}```, error=Expecting value: line 1 column 1 (char 0)\n",
      "parse_as_json, error parsing string as json, string=```json{\"verdict\":\"correct\",\"explanation\":\"The answer matches the ground truth, as both state that the genus Sinofranchetia and Stauntonia are from the Lardizabalaceae family.\"}```, error=Expecting value: line 1 column 1 (char 0)\n",
      "parse_as_json, error parsing string as json, string=```json{\"verdict\":\"correct\",\"explanation\":\"The answer matches the ground truth, as both state that the genus Sinofranchetia and Stauntonia belong to the Lardizabalaceae family.\"}```, error=Expecting value: line 1 column 1 (char 0)\n",
      "parse_as_json, error parsing string as json, string=```json{  \"verdict\": \"correct\",  \"explanation\": \"The answer matches the ground truth, as both state that the genus Sinofranchetia and Stauntonia belong to the Lardizabalaceae family.\"}```, error=Expecting value: line 1 column 1 (char 0)\n",
      "parse_as_json, error parsing string as json, string=```json{  \"verdict\": \"correct\",  \"explanation\": \"The answer matches the ground truth, as both state that the genus Sinofranchetia and Stauntonia belong to the Lardizabalaceae family.\"}```, error=Expecting value: line 1 column 1 (char 0)\n",
      "parse_as_json, error parsing string as json, string=```json{  \"verdict\": \"correct\",  \"explanation\": \"The answer matches the ground truth, as both state that the genus Sinofranchetia and Stauntonia belong to the Lardizabalaceae family.\"}```, error=Expecting value: line 1 column 1 (char 0)\n",
      "parse_as_json, error parsing string as json, string=```json{ \"verdict\": \"correct\", \"explanation\": \"The answer correctly states that the two villages are not in the same country, with Rhosgoch being in Wales, part of the UK, and Qaleh-ye Sahar being in Iran.\"}```, error=Expecting value: line 1 column 1 (char 0)\n",
      "parse_as_json, error parsing string as json, string=```json{\"verdict\":\"correct\",\"explanation\":\"The answer correctly states that both the Gut (Crișul Alb) and Gepiș are located in Romania, which aligns with the information provided in the passages.\"}```, error=Expecting value: line 1 column 1 (char 0)\n",
      "parse_as_json, error parsing string as json, string=```json{\"verdict\":\"correct\",\"explanation\":\"The answer correctly refers to the two locations being in Canada, which is derived from the passages mentioning British Columbia and Alberta, both of which are Canadian provinces.\"}```, error=Expecting value: line 1 column 1 (char 0)\n",
      "parse_as_json, error parsing string as json, string=```json{\"verdict\":\"correct\",\"explanation\":\"The answer matches the ground truth as both Yana Urqu (Q'umirqucha) and Puka Rumi are indeed located in Peru.\"}```, error=Expecting value: line 1 column 1 (char 0)\n",
      "parse_as_json, error parsing string as json, string=```json{\"verdict\":\"correct\",\"explanation\":\"The answer correctly identifies the genre and network of both WAGS Atlanta and WAGS, answering the question from the given context.\"}```, error=Expecting value: line 1 column 1 (char 0)\n",
      "parse_as_json, error parsing string as json, string=```json{\"verdict\":\"correct\",\"explanation\":\"The answer provides the correct information that both WAGS Atlanta and WAGS are American reality television series. The original WAGS series aired from 2015 to 2017, while WAGS Atlanta was a spin-off of the series that premiered in 2018.\"}```, error=Expecting value: line 1 column 1 (char 0)\n",
      "parse_as_json, error parsing string as json, string=```json{ \"verdict\": \"correct\", \"explanation\": \"The answer correctly states that the two villages are not in the same country, with Rhosgoch being in Wales, UK, and Qaleh-Ye Sahar in Iran.\"}```, error=Expecting value: line 1 column 1 (char 0)\n",
      "parse_as_json, error parsing string as json, string=```json{\"verdict\":\"correct\",\"explanation\":\"The answer is correct as both Gut (Crișul Alb) and Gepiș are indeed located in Romania\"}```, error=Expecting value: line 1 column 1 (char 0)\n",
      "parse_as_json, error parsing string as json, string=```json{ \"verdict\":\"correct\", \"explanation\":\"The answer correctly refers to the respective passages and establishes that both lakes are located in Canada\"}```, error=Expecting value: line 1 column 1 (char 0)\n",
      "parse_as_json, error parsing string as json, string=```json{\"verdict\": \"correct\",\"explanation\": \"The answer correctly states that both mountains are located in Peru, which aligns with the ground truth.\"}```, error=Expecting value: line 1 column 1 (char 0)\n",
      "parse_as_json, error parsing string as json, string=```json{\"verdict\":\"correct\",\"explanation\":\"The answer matches the ground truth, as both mention that the genus Sinofranchetia and Stauntonia belong to the Lardizabalaceae family.\"}```, error=Expecting value: line 1 column 1 (char 0)\n",
      "parse_as_json, error parsing string as json, string=```json{\"verdict\":\"correct\",\"explanation\":\"The answer matches the ground truth, as both mention that the genus Sinofranchetia and Stauntonia belong to the Lardizabalaceae family.\"}```, error=Expecting value: line 1 column 1 (char 0)\n",
      "parse_as_json, error parsing string as json, string=```json{\"verdict\":\"correct\",\"explanation\":\"The answer matches the ground truth, as both mention that the genus Sinofranchetia and Stauntonia belong to the Lardizabalaceae family.\"}```, error=Expecting value: line 1 column 1 (char 0)\n",
      "parse_as_json, error parsing string as json, string=```json{\"verdict\":\"correct\",\"explanation\":\"The answer matches the ground truth, as both mention that the genus Sinofranchetia and Stauntonia belong to the Lardizabalaceae family.\"}```, error=Expecting value: line 1 column 1 (char 0)\n",
      "parse_as_json, error parsing string as json, string=```json{\"verdict\":\"correct\",\"explanation\":\"The answer matches the ground truth, as both reveal that Sinofranchetia and Stauntonia belong to the Lardizabalaceae family.\"}```, error=Expecting value: line 1 column 1 (char 0)\n",
      "parse_as_json, error parsing string as json, string=```json{\"verdict\": \"incorrect\",\"explanation\": \"The answer claims that both villages are located in Iran, which is incorrect. While Qaleh-ye Sahar is indeed located in Iran, Rhosgoch is a village in Wales, UK.\"}```, error=Expecting value: line 1 column 1 (char 0)\n",
      "parse_as_json, error parsing string as json, string=```json{\"verdict\": \"correct\",\"explanation\": \"The answer correctly states that both rivers are located in Romania, answering the question accurately.\"}```, error=Expecting value: line 1 column 1 (char 0)\n",
      "parse_as_json, error parsing string as json, string=```json{\"verdict\":\"correct\",\"explanation\":\"The answer correctly refers to the ground truth that both Howard Lake and North Buck Lake are indeed located in Canada.\"}```, error=Expecting value: line 1 column 1 (char 0)\n",
      "parse_as_json, error parsing string as json, string=```json{\"verdict\":\"correct\",\"explanation\":\"The answer correctly states that both mountains are in Peru, which aligns with the ground truth.\"}```, error=Expecting value: line 1 column 1 (char 0)\n",
      "parse_as_json, error parsing string as json, string=```json{ \"verdict\":\"correct\", \"explanation\":\"The provided answer states that both WAGS Atlanta and WAGS are American reality television shows, which matches the ground truth description of both being reality series aired on E!.\"}```, error=Expecting value: line 1 column 1 (char 0)\n",
      "parse_as_json, error parsing string as json, string=```json{\"verdict\":\"correct\",\"explanation\":\"The answer correctly identifies the family of both genus as Lardizabalaceae\"}```, error=Expecting value: line 1 column 1 (char 0)\n",
      "parse_as_json, error parsing string as json, string=```json{ \"verdict\": \"correct\", \"explanation\": \"The answer matches the ground truth as it states that both genus are from the Lardizabalaceae family.\"}```, error=Expecting value: line 1 column 1 (char 0)\n",
      "parse_as_json, error parsing string as json, string=```json{\"verdict\":\"correct\",\"explanation\":\"The answer matches the ground truth, as both mention that the genus Sinofranchetia and Stauntonia belong to the Lardizabalaceae family.\"}```, error=Expecting value: line 1 column 1 (char 0)\n",
      "parse_as_json, error parsing string as json, string=```json{ \"verdict\": \"correct\", \"explanation\": \"The answer matches the ground truth as it states that both genus are from the Lardizabalaceae family.\"}```, error=Expecting value: line 1 column 1 (char 0)\n",
      "parse_as_json, error parsing string as json, string=```json{\"verdict\":\"correct\",\"explanation\":\"The answer matches the ground truth, as both mention that the genus Sinofranchetia and Stauntonia belong to the Lardizabalaceae family.\"}```, error=Expecting value: line 1 column 1 (char 0)\n",
      "parse_as_json, error parsing string as json, string=```json{\"verdict\":\"correct\",\"explanation\":\"The answer matches the ground truth, as both mention that the genus Sinofranchetia and Stauntonia belong to the Lardizabalaceae family.\"}```, error=Expecting value: line 1 column 1 (char 0)\n",
      "parse_as_json, error parsing string as json, string=```json{ \"verdict\":\"correct\", \"explanation\":\"The answer matches the ground truth, as it provides a correct response to the question asked, stating that both genus are from the Lardizabalaceae family.\"}```, error=Expecting value: line 1 column 1 (char 0)\n",
      "parse_as_json, error parsing string as json, string=```json{\"verdict\":\"correct\",\"explanation\":\"The answer matches the ground truth, as both mention that the genus Sinofranchetia and Stauntonia belong to the Lardizabalaceae family.\"}```, error=Expecting value: line 1 column 1 (char 0)\n",
      "parse_as_json, error parsing string as json, string=```json{\"verdict\":\"correct\",\"explanation\":\"The answer matches the ground truth, as both mention that the genus Sinofranchetia and Stauntonia belong to the Lardizabalaceae family.\"}```, error=Expecting value: line 1 column 1 (char 0)\n",
      "parse_as_json, error parsing string as json, string=```json{\"verdict\":\"correct\",\"explanation\":\"The answer matches the ground truth, as both mention that the genus Sinofranchetia and Stauntonia belong to the Lardizabalaceae family.\"}```, error=Expecting value: line 1 column 1 (char 0)\n",
      "parse_as_json, error parsing string as json, string=```json{\"verdict\": \"incorrect\",\"explanation\": \"The answer claims that both villages are located in Iran, which is incorrect. While Qaleh-ye Sahar is indeed located in Iran, Rhosgoch is a village in Wales, UK.\"}```, error=Expecting value: line 1 column 1 (char 0)\n",
      "parse_as_json, error parsing string as json, string=```json{\"verdict\":\"correct\",\"explanation\":\"The answer correctly states that both the Gut and Gepiș rivers are located in Romania, answering the question accurately.\"}```, error=Expecting value: line 1 column 1 (char 0)\n",
      "parse_as_json, error parsing string as json, string=```json{ \"verdict\": \"correct\", \"explanation\": \"The answer matches the ground truth, as both lakes are indeed in Canada.\"}```, error=Expecting value: line 1 column 1 (char 0)\n",
      "parse_as_json, error parsing string as json, string=```json{\"verdict\": \"correct\",\"explanation\": \"The answer correctly states that both mountains are located in Peru and provides additional details about their locations within the country, aligning with the ground truth.\"}```, error=Expecting value: line 1 column 1 (char 0)\n",
      "parse_as_json, error parsing string as json, string=```json{\"verdict\":\"correct\",\"explanation\":\"The answer provided states that both WAGS Atlanta and WAGS are American reality television series, which matches the ground truth answer.\"}```, error=Expecting value: line 1 column 1 (char 0)\n",
      "parse_as_json, error parsing string as json, string=```json{\"verdict\":\"correct\",\"explanation\":\"The answer provided matches the ground truth as both WAGS and WAGS Atlanta are American reality television series that follow the lives of WAGs.\"}```, error=Expecting value: line 1 column 1 (char 0)\n",
      "parse_as_json, error parsing string as json, string=```json{ \"verdict\": \"incorrect\", \"explanation\": \"The answer claims that both villages are located in Iran, which is incorrect. While Qaleh-ye Sahar is indeed located in Iran, Rhosgoch is a village in Wales, UK.\"}```, error=Expecting value: line 1 column 1 (char 0)\n",
      "parse_as_json, error parsing string as json, string=```json{\"verdict\":\"correct\",\"explanation\":\"The answer correctly states that Gut and Gepiș are both located in Romania, answering the question accurately.\"}```, error=Expecting value: line 1 column 1 (char 0)\n",
      "parse_as_json, error parsing string as json, string=```json{ \"verdict\":\"correct\", \"explanation\":\"The answer provided matches the ground truth, as both Howard Lake and North Buck Lake are indeed located in Canada.\"}```, error=Expecting value: line 1 column 1 (char 0)\n",
      "parse_as_json, error parsing string as json, string=```json{\"verdict\":\"correct\",\"explanation\":\"The answer correctly states that both mountains are located in Peru, and provides the correct regions and provinces of each, aligning with the ground truth.\"}```, error=Expecting value: line 1 column 1 (char 0)\n",
      "parse_as_json, error parsing string as json, string=```json{\"verdict\":\"correct\",\"explanation\":\"The answer matches the ground truth\"}```, error=Expecting value: line 1 column 1 (char 0)\n",
      "parse_as_json, error parsing string as json, string=```json{\"verdict\":\"correct\",\"explanation\":\"The answer matches the ground truth\"}```, error=Expecting value: line 1 column 1 (char 0)\n",
      "parse_as_json, error parsing string as json, string=```json{\"verdict\":\"correct\",\"explanation\":\"The answer matches the ground truth, as both state the genus Stauntonia and Sinofranchetia belong to the Lardizabalaceae family.\"}```, error=Expecting value: line 1 column 1 (char 0)\n",
      "parse_as_json, error parsing string as json, string=```json{\"verdict\":\"correct\",\"explanation\":\"The answer matches the ground truth\"}```, error=Expecting value: line 1 column 1 (char 0)\n",
      "parse_as_json, error parsing string as json, string=```json{\"verdict\":\"correct\",\"explanation\":\"The answer matches the ground truth\"}```, error=Expecting value: line 1 column 1 (char 0)\n",
      "parse_as_json, error parsing string as json, string=```json{\"verdict\": \"incorrect\",\"explanation\": \"Rhosgoch is located in Wales, United Kingdom, while Qaleh-Ye Sahar is located in Iran.\"}```, error=Expecting value: line 1 column 1 (char 0)\n",
      "parse_as_json, error parsing string as json, string=```json{\"verdict\": \"correct\",\"explanation\": \"The answer is correct as both Gut (Crișul Alb) and Gepiș are indeed located in Romania.\"}```, error=Expecting value: line 1 column 1 (char 0)\n",
      "parse_as_json, error parsing string as json, string=```json{\"verdict\":\"incorrect\",\"explanation\":\"The answer provided states that Howard Lake (British Columbia) and North Buck Lake (Alberta) are in different countries, with Howard Lake being in Canada and North Buck Lake being in the United States, which contradicts the ground truth that both lakes are in Canada.\"}```, error=Expecting value: line 1 column 1 (char 0)\n",
      "parse_as_json, error parsing string as json, string=```json{\"verdict\": \"correct\",\"explanation\": \"The answer matches the ground truth as both mountains are indeed located in Peru.\"}```, error=Expecting value: line 1 column 1 (char 0)\n",
      "parse_as_json, error parsing string as json, string=```json{\"verdict\":\"correct\",\"explanation\":\"The answer is correct because both WAGS Atlanta and WAGS are reality television shows that air on the E! network and follow the lives of WAGs, or wives and girlfriends, of athletes.\"}```, error=Expecting value: line 1 column 1 (char 0)\n",
      "parse_as_json, error parsing string as json, string=```json{\"verdict\":\"correct\",\"explanation\":\"The answer matches the ground truth\"}```, error=Expecting value: line 1 column 1 (char 0)\n",
      "parse_as_json, error parsing string as json, string=```json{\"verdict\":\"correct\",\"explanation\":\"The answer matches the ground truth\"}```, error=Expecting value: line 1 column 1 (char 0)\n",
      "parse_as_json, error parsing string as json, string=```json{\"verdict\":\"correct\",\"explanation\":\"The answer matches the ground truth\"}```, error=Expecting value: line 1 column 1 (char 0)\n",
      "parse_as_json, error parsing string as json, string=```json{\"verdict\":\"correct\",\"explanation\":\"The answer matches the ground truth, as both state the genus Stauntonia and Sinofranchetia belong to the Lardizabalaceae family.\"}```, error=Expecting value: line 1 column 1 (char 0)\n",
      "parse_as_json, error parsing string as json, string=```json{\"verdict\":\"correct\",\"explanation\":\"The answer matches the ground truth\"}```, error=Expecting value: line 1 column 1 (char 0)\n",
      "parse_as_json, error parsing string as json, string=```json{\"verdict\":\"correct\",\"explanation\":\"The answer matches the ground truth\"}```, error=Expecting value: line 1 column 1 (char 0)\n",
      "parse_as_json, error parsing string as json, string=```json{\"verdict\":\"correct\",\"explanation\":\"The answer matches the ground truth\"}```, error=Expecting value: line 1 column 1 (char 0)\n",
      "parse_as_json, error parsing string as json, string=```json{\"verdict\":\"correct\",\"explanation\":\"The answer matches the ground truth\"}```, error=Expecting value: line 1 column 1 (char 0)\n",
      "parse_as_json, error parsing string as json, string=```json{\"verdict\":\"correct\",\"explanation\":\"The answer matches the ground truth\"}```, error=Expecting value: line 1 column 1 (char 0)\n",
      "parse_as_json, error parsing string as json, string=```json{\"verdict\":\"correct\",\"explanation\":\"The answer matches the ground truth\"}```, error=Expecting value: line 1 column 1 (char 0)\n",
      "parse_as_json, error parsing string as json, string=```json{ \"verdict\": \"incorrect\", \"explanation\": \"Rhosgoch is located in Wales, United Kingdom; Qaleh-Ye Sahar is located in Iran\"}```, error=Expecting value: line 1 column 1 (char 0)\n",
      "parse_as_json, error parsing string as json, string=```json{\"verdict\":\"correct\",\"explanation\":\"The answer matches the ground truth as both Gut (Crișul Alb) and Gepiș are indeed located in Romania.\"}```, error=Expecting value: line 1 column 1 (char 0)\n",
      "parse_as_json, error parsing string as json, string=```json{\"verdict\":\"incorrect\",\"explanation\":\"The answer provided states that Howard Lake (British Columbia) and North Buck Lake (Alberta) are in different countries, with Howard Lake being in Canada and North Buck Lake being in the United States, which contradicts the ground truth. According to the ground truth, both lakes are in Canada.\"}```, error=Expecting value: line 1 column 1 (char 0)\n",
      "parse_as_json, error parsing string as json, string=```json{\"verdict\": \"correct\",\"explanation\": \"The answer matches the ground truth as both mountains are indeed located in Peru.\"}```, error=Expecting value: line 1 column 1 (char 0)\n",
      "parse_as_json, error parsing string as json, string=```json{\"verdict\":\"correct\",\"explanation\":\"The answer matches the ground truth description of being an 'American reality television show' as well as fulfilling the requirement of being a spin-off of WAGS, answering the question correctly.\"}```, error=Expecting value: line 1 column 1 (char 0)\n",
      "parse_as_json, error parsing string as json, string=```json{\"verdict\":\"correct\",\"explanation\":\"The answer is correct because both WAGS Atlanta and WAGS are reality television shows that air on the E! network and follow the lives of WAGs, or 'wives and girlfriends' of athletes.\"}```, error=Expecting value: line 1 column 1 (char 0)\n",
      "parse_as_json, error parsing string as json, string=```json{\"verdict\": \"incorrect\",\"explanation\": \"Rhosgoch is located in Wales, United Kingdom, while Qaleh-Ye Sahar is located in Iran.\"}```, error=Expecting value: line 1 column 1 (char 0)\n",
      "parse_as_json, error parsing string as json, string=```json{    \"verdict\": \"correct\",    \"explanation\": \"The answer is correct as both the Gut (Cri\\u0219ul Alb) and Gepi\\u0219 are indeed located in Romania, as mentioned in Passage 1 and Passage 7.\"}```, error=Expecting value: line 1 column 1 (char 0)\n",
      "parse_as_json, error parsing string as json, string=```json{\"verdict\": \"correct\",\"explanation\": \"The answer correctly refers to Howard Lake being situated in British Columbia, Canada and North Buck Lake being located in Alberta, hence establishing that the two lakes are indeed situated in different countries.\"}```, error=Expecting value: line 1 column 1 (char 0)\n",
      "parse_as_json, error parsing string as json, string=```json{\"verdict\": \"correct\",\"explanation\": \"The answer matches the ground truth as both mountains are indeed located in Peru.\"}```, error=Expecting value: line 1 column 1 (char 0)\n",
      "parse_as_json, error parsing string as json, string=```json{ \"verdict\":\"correct\", \"explanation\":\"The answer matches the ground truth, as both state that the genus' Sinofranchetia and Stauntonia belong to the Lardizabalaceae family.\"}```, error=Expecting value: line 1 column 1 (char 0)\n",
      "parse_as_json, error parsing string as json, string=```json{  \"verdict\": \"correct\",  \"explanation\": \"The answer matches the ground truth, as both state that the genus' Sinofranchetia and Stauntonia belong to the Lardizabalaceae family.\"}```, error=Expecting value: line 1 column 1 (char 0)\n",
      "parse_as_json, error parsing string as json, string=```json{ \"verdict\":\"correct\", \"explanation\":\"The answer matches the ground truth, as both state that the genus' Sinofranchetia and Stauntonia belong to the Lardizabalaceae family.\"}```, error=Expecting value: line 1 column 1 (char 0)\n",
      "parse_as_json, error parsing string as json, string=```json{  \"verdict\": \"correct\",  \"explanation\": \"The answer matches the ground truth, as both state that the genus' Sinofranchetia and Stauntonia belong to the Lardizabalaceae family.\"}```, error=Expecting value: line 1 column 1 (char 0)\n",
      "parse_as_json, error parsing string as json, string=```json{\"verdict\":\"correct\",\"explanation\":\"The answer matches the ground truth, as both state that the genera Sinofranchetia and Stauntonia belong to the Lardizabalaceae family.\"}```, error=Expecting value: line 1 column 1 (char 0)\n",
      "parse_as_json, error parsing string as json, string=```json{ \"verdict\": \"correct\", \"explanation\": \"Both locations are indeed in different countries; Rhosgoch is in the United Kingdom, more precisely in Wales, while Qaleh-Ye Sahar is found in Iran.\"}```, error=Expecting value: line 1 column 1 (char 0)\n",
      "parse_as_json, error parsing string as json, string=```json{\"verdict\":\"correct\",\"explanation\":\"The answer matches the ground truth as both Gut (Crișul Alb) and Gepiș are indeed located in Romania.\"}```, error=Expecting value: line 1 column 1 (char 0)\n",
      "parse_as_json, error parsing string as json, string=```json{ \"verdict\": \"correct\", \"explanation\": \"The answer matches the ground truth as both lakes are indeed in Canada.\"}```, error=Expecting value: line 1 column 1 (char 0)\n",
      "parse_as_json, error parsing string as json, string=```json{\"verdict\": \"correct\",\"explanation\": \"The answer matches the ground truth, as both mountains are indeed located in Peru.\"}```, error=Expecting value: line 1 column 1 (char 0)\n",
      "parse_as_json, error parsing string as json, string=```json{ \"verdict\":\"correct\", \"explanation\":\"The answer matches the ground truth as both WAGS Atlanta and WAGS are referred to as American reality television series.\"}```, error=Expecting value: line 1 column 1 (char 0)\n",
      "parse_as_json, error parsing string as json, string=```json{  \"verdict\": \"correct\",  \"explanation\": \"The answer matches the ground truth, as both state that the genus' Sinofranchetia and Stauntonia belong to the Lardizabalaceae family.\"}```, error=Expecting value: line 1 column 1 (char 0)\n",
      "parse_as_json, error parsing string as json, string=```json{\"verdict\":\"correct\",\"explanation\":\"The answer matches the ground truth, as both state that the genera Sinofranchetia and Stauntonia belong to the Lardizabalaceae family.\"}```, error=Expecting value: line 1 column 1 (char 0)\n",
      "parse_as_json, error parsing string as json, string=```json{\"verdict\":\"correct\",\"explanation\":\"The answer matches the ground truth, as both state that the genera Sinofranchetia and Stauntonia belong to the Lardizabalaceae family.\"}```, error=Expecting value: line 1 column 1 (char 0)\n",
      "parse_as_json, error parsing string as json, string=```json{  \"verdict\": \"correct\",  \"explanation\": \"The answer matches the ground truth, as both state that the genus' Sinofranchetia and Stauntonia belong to the Lardizabalaceae family.\"}```, error=Expecting value: line 1 column 1 (char 0)\n",
      "parse_as_json, error parsing string as json, string=```json{\"verdict\":\"correct\",\"explanation\":\"The answer matches the ground truth, stating that both genus' are from the Lardizabalaceae family.\"}```, error=Expecting value: line 1 column 1 (char 0)\n",
      "parse_as_json, error parsing string as json, string=```json{ \"verdict\":\"correct\", \"explanation\":\"The answer matches the ground truth, as both state that the genus' Sinofranchetia and Stauntonia belong to the Lardizabalaceae family.\"}```, error=Expecting value: line 1 column 1 (char 0)\n",
      "parse_as_json, error parsing string as json, string=```json{  \"verdict\": \"correct\",  \"explanation\": \"The answer matches the ground truth, stating that both genus' are from the Lardizabalaceae family.\"}```, error=Expecting value: line 1 column 1 (char 0)\n",
      "parse_as_json, error parsing string as json, string=```json{ \"verdict\":\"correct\", \"explanation\":\"The answer matches the ground truth, as both state that the genus' Sinofranchetia and Stauntonia belong to the Lardizabalaceae family.\"}```, error=Expecting value: line 1 column 1 (char 0)\n",
      "parse_as_json, error parsing string as json, string=```json{ \"verdict\":\"correct\", \"explanation\":\"The answer matches the ground truth, as both state that the genus' Sinofranchetia and Stauntonia belong to the Lardizabalaceae family.\"}```, error=Expecting value: line 1 column 1 (char 0)\n",
      "parse_as_json, error parsing string as json, string=```json{ \"verdict\":\"correct\", \"explanation\":\"The answer matches the ground truth, as both state that the genus' Sinofranchetia and Stauntonia belong to the Lardizabalaceae family.\"}```, error=Expecting value: line 1 column 1 (char 0)\n",
      "parse_as_json, error parsing string as json, string=```json{ \"verdict\": \"correct\", \"explanation\": \"The answer correctly states that Rhosgoch is located in the United Kingdom, and Qaleh-Ye Sahar is located in Iran, thereby answering the question correctly.\"}```, error=Expecting value: line 1 column 1 (char 0)\n",
      "parse_as_json, error parsing string as json, string=```json{\"verdict\":\"correct\",\"explanation\":\"The answer matches the ground truth as both Gut (Crișul Alb) and Gepiș are indeed located in Romania.\"}```, error=Expecting value: line 1 column 1 (char 0)\n",
      "parse_as_json, error parsing string as json, string=```json{\"verdict\":\"correct\",\"explanation\":\"The answer matches the ground truth as both lakes are indeed in Canada.\"}```, error=Expecting value: line 1 column 1 (char 0)\n",
      "parse_as_json, error parsing string as json, string=```json{\"verdict\":\"correct\",\"explanation\":\"The answer matches the ground truth, as both mountains are indeed located in Peru.\"}```, error=Expecting value: line 1 column 1 (char 0)\n",
      "parse_as_json, error parsing string as json, string=```json{ \"verdict\":\"correct\", \"explanation\":\"The answer matches the ground truth as both WAGS Atlanta and WAGS are referred to as American reality television series.\"}```, error=Expecting value: line 1 column 1 (char 0)\n",
      "parse_as_json, error parsing string as json, string=```json{ \"verdict\":\"correct\", \"explanation\":\"The answer matches the ground truth as both WAGS Atlanta and WAGS are referred to as American reality television series.\"}```, error=Expecting value: line 1 column 1 (char 0)\n",
      "parse_as_json, error parsing string as json, string=```json{ \"verdict\": \"correct\", \"explanation\": \"The answer correctly states that Rhosgoch is located in the United Kingdom, and Qaleh-Ye Sahar is located in Iran, thereby answering the question correctly.\"}```, error=Expecting value: line 1 column 1 (char 0)\n",
      "parse_as_json, error parsing string as json, string=```json{\"verdict\":\"correct\",\"explanation\":\"The answer matches the ground truth as both Gut (Crișul Alb) and Gepiș are indeed located in Romania.\"}```, error=Expecting value: line 1 column 1 (char 0)\n",
      "parse_as_json, error parsing string as json, string=```json{\"verdict\":\"correct\",\"explanation\":\"The answer matches the ground truth, as both lakes are indeed located in Canada.\"}```, error=Expecting value: line 1 column 1 (char 0)\n",
      "parse_as_json, error parsing string as json, string=```json{\"verdict\":\"correct\",\"explanation\":\"The answer matches the ground truth, as both mountains are indeed located in Peru.\"}```, error=Expecting value: line 1 column 1 (char 0)\n",
      "parse_as_json, error parsing string as json, string=```json{  \"verdict\": \"correct\",  \"explanation\": \"The answer matches the ground truth, as both state that Stauntonia and Sinofranchetia are from the Lardizabalaceae family.\"}```, error=Expecting value: line 1 column 1 (char 0)\n",
      "parse_as_json, error parsing string as json, string=```json{  \"verdict\": \"correct\",  \"explanation\": \"The answer matches the ground truth, as both state that Stauntonia and Sinofranchetia are from the Lardizabalaceae family.\"}```, error=Expecting value: line 1 column 1 (char 0)\n",
      "parse_as_json, error parsing string as json, string=```json{\"verdict\":\"correct\",\"explanation\":\"The answer matches the ground truth, as both state that Stauntonia and Sinofranchetia are from the Lardizabalaceae family.\"}```, error=Expecting value: line 1 column 1 (char 0)\n",
      "parse_as_json, error parsing string as json, string=```json{\"verdict\":\"correct\",\"explanation\":\"The answer matches the ground truth, as both state that Stauntonia and Sinofranchetia are from the Lardizabalaceae family.\"}```, error=Expecting value: line 1 column 1 (char 0)\n",
      "parse_as_json, error parsing string as json, string=```json{\"verdict\":\"correct\",\"explanation\":\"The answer matches the ground truth, as both state that Stauntonia and Sinofranchetia are from the Lardizabalaceae family.\"}```, error=Expecting value: line 1 column 1 (char 0)\n",
      "parse_as_json, error parsing string as json, string=```json{ \"verdict\": \"correct\", \"explanation\": \"The answer correctly states that Rhosgoch is located in the United Kingdom, and Qaleh-Ye Sahar is located in Iran, hence they are in different countries.\"}```, error=Expecting value: line 1 column 1 (char 0)\n",
      "parse_as_json, error parsing string as json, string=```json{\"verdict\":\"correct\",\"explanation\":\"The answer matches the ground truth as both Gut (Crișul Alb) and Gepiș are indeed located in Romania.\"}```, error=Expecting value: line 1 column 1 (char 0)\n",
      "parse_as_json, error parsing string as json, string=```json{ \"verdict\": \"correct\", \"explanation\": \"The answer matches the ground truth as both lakes are indeed in Canada.\"}```, error=Expecting value: line 1 column 1 (char 0)\n",
      "parse_as_json, error parsing string as json, string=```json{\"verdict\":\"correct\",\"explanation\":\"The answer matches the ground truth, as both mountains are indeed located in Peru.\"}```, error=Expecting value: line 1 column 1 (char 0)\n",
      "parse_as_json, error parsing string as json, string=```json{ \"verdict\":\"incorrect\", \"explanation\":\"The answer provided implies that WAGS Atlanta and WAGS are both television shows, which is only partially correct. According to the ground truth, both are American reality television series. Hence the answer does not match the ground truth.\"}```, error=Expecting value: line 1 column 1 (char 0)\n",
      "parse_as_json, error parsing string as json, string=```json{  \"verdict\": \"correct\",  \"explanation\": \"The answer matches the ground truth, as both state that Stauntonia and Sinofranchetia are from the Lardizabalaceae family.\"}```, error=Expecting value: line 1 column 1 (char 0)\n",
      "parse_as_json, error parsing string as json, string=```json{\"verdict\":\"correct\",\"explanation\":\"The answer matches the ground truth, as both state that Stauntonia and Sinofranchetia are from the Lardizabalaceae family.\"}```, error=Expecting value: line 1 column 1 (char 0)\n",
      "parse_as_json, error parsing string as json, string=```json{  \"verdict\": \"correct\",  \"explanation\": \"The answer matches the ground truth, as both state that Stauntonia and Sinofranchetia are from the Lardizabalaceae family.\"}```, error=Expecting value: line 1 column 1 (char 0)\n",
      "parse_as_json, error parsing string as json, string=```json{\"verdict\":\"correct\",\"explanation\":\"The answer matches the ground truth, as both state that Stauntonia and Sinofranchetia are from the Lardizabalaceae family.\"}```, error=Expecting value: line 1 column 1 (char 0)\n",
      "parse_as_json, error parsing string as json, string=```json{\"verdict\":\"correct\",\"explanation\":\"The answer matches the ground truth, as both state that Stauntonia and Sinofranchetia are from the Lardizabalaceae family.\"}```, error=Expecting value: line 1 column 1 (char 0)\n",
      "parse_as_json, error parsing string as json, string=```json{\"verdict\":\"correct\",\"explanation\":\"The answer matches the ground truth, as both state that Stauntonia and Sinofranchetia are from the Lardizabalaceae family.\"}```, error=Expecting value: line 1 column 1 (char 0)\n",
      "parse_as_json, error parsing string as json, string=```json{  \"verdict\": \"correct\",  \"explanation\": \"The answer matches the ground truth, as both state that Stauntonia and Sinofranchetia are from the Lardizabalaceae family.\"}```, error=Expecting value: line 1 column 1 (char 0)\n",
      "parse_as_json, error parsing string as json, string=```json{  \"verdict\": \"correct\",  \"explanation\": \"The answer matches the ground truth, as both state that Stauntonia and Sinofranchetia are from the Lardizabalaceae family.\"}```, error=Expecting value: line 1 column 1 (char 0)\n",
      "parse_as_json, error parsing string as json, string=```json{  \"verdict\": \"correct\",  \"explanation\": \"The answer matches the ground truth, as both state that Stauntonia and Sinofranchetia are from the Lardizabalaceae family.\"}```, error=Expecting value: line 1 column 1 (char 0)\n",
      "parse_as_json, error parsing string as json, string=```json{  \"verdict\": \"correct\",  \"explanation\": \"The answer matches the ground truth, as both state that Stauntonia and Sinofranchetia are from the Lardizabalaceae family.\"}```, error=Expecting value: line 1 column 1 (char 0)\n",
      "parse_as_json, error parsing string as json, string=```json{\"verdict\": \"correct\",\"explanation\": \"The answer correctly states that Rhosgoch is located in the United Kingdom, and Qaleh-Ye Sahar is located in Iran, hence they are in different countries.\"}```, error=Expecting value: line 1 column 1 (char 0)\n",
      "parse_as_json, error parsing string as json, string=```json{\"verdict\": \"correct\",\"explanation\": \"The answer matches the ground truth as both Gut (Crișul Alb) and Gepiș are indeed located in Romania.\"}```, error=Expecting value: line 1 column 1 (char 0)\n",
      "parse_as_json, error parsing string as json, string=```json{ \"verdict\": \"correct\", \"explanation\": \"The answer matches the ground truth as both lakes are indeed in Canada.\"}```, error=Expecting value: line 1 column 1 (char 0)\n",
      "parse_as_json, error parsing string as json, string=```json{\"verdict\": \"correct\",\"explanation\": \"The answer matches the ground truth as both mountains are indeed located in Peru.\"}```, error=Expecting value: line 1 column 1 (char 0)\n",
      "parse_as_json, error parsing string as json, string=```json{ \"verdict\":\"incorrect\", \"explanation\":\"The answer provided implies that both WAGS Atlanta and WAGS are 'American reality television shows', which is incorrect. According to the ground truth, both are American reality television series.\"}```, error=Expecting value: line 1 column 1 (char 0)\n",
      "parse_as_json, error parsing string as json, string=```json{ \"verdict\":\"incorrect\", \"explanation\":\"The answer provided implies that WAGS Atlanta and WAGS are both television shows, which is only partially correct. According to the ground truth, both are American reality television series. Hence the answer does not match the ground truth.\"}```, error=Expecting value: line 1 column 1 (char 0)\n",
      "parse_as_json, error parsing string as json, string=```json{\"verdict\": \"correct\",\"explanation\": \"The answer correctly states that Rhosgoch is located in the United Kingdom, and Qaleh-Ye Sahar is located in Iran, hence they are in different countries.\"}```, error=Expecting value: line 1 column 1 (char 0)\n",
      "parse_as_json, error parsing string as json, string=```json{\"verdict\":\"correct\",\"explanation\":\"The answer matches the ground truth as both Gut (Crișul Alb) and Gepiș are indeed located in Romania.\"}```, error=Expecting value: line 1 column 1 (char 0)\n",
      "parse_as_json, error parsing string as json, string=```json{ \"verdict\": \"correct\", \"explanation\": \"The answer matches the ground truth as both lakes are indeed in Canada.\"}```, error=Expecting value: line 1 column 1 (char 0)\n",
      "parse_as_json, error parsing string as json, string=```json{\"verdict\":\"correct\",\"explanation\":\"The answer matches the ground truth, as both mountains are indeed located in Peru.\"}```, error=Expecting value: line 1 column 1 (char 0)\n"
     ]
    },
    {
     "name": "stderr",
     "output_type": "stream",
     "text": [
      "[2024-07-12 01:48:24,208] p13828 {904287205.py:5} INFO - df_eval_results shape=(1080, 14)\n"
     ]
    },
    {
     "data": {
      "text/html": [
       "<div>\n",
       "<style scoped>\n",
       "    .dataframe tbody tr th:only-of-type {\n",
       "        vertical-align: middle;\n",
       "    }\n",
       "\n",
       "    .dataframe tbody tr th {\n",
       "        vertical-align: top;\n",
       "    }\n",
       "\n",
       "    .dataframe thead th {\n",
       "        text-align: right;\n",
       "    }\n",
       "</style>\n",
       "<table border=\"1\" class=\"dataframe\">\n",
       "  <thead>\n",
       "    <tr style=\"text-align: right;\">\n",
       "      <th></th>\n",
       "      <th>exception</th>\n",
       "      <th>prompt</th>\n",
       "      <th>completion</th>\n",
       "      <th>completion_token_count</th>\n",
       "      <th>prompt_token_count</th>\n",
       "      <th>model_id</th>\n",
       "      <th>candidate_model</th>\n",
       "      <th>cosine_similarity_score</th>\n",
       "      <th>ground_truth</th>\n",
       "      <th>anthropic.claude-3-haiku-20240307-v1:0_answer</th>\n",
       "      <th>meta.llama3-70b-instruct-v1:0_answer</th>\n",
       "      <th>cohere.command-r-v1:0_answer</th>\n",
       "      <th>verdict</th>\n",
       "      <th>explanation</th>\n",
       "    </tr>\n",
       "  </thead>\n",
       "  <tbody>\n",
       "    <tr>\n",
       "      <th>0</th>\n",
       "      <td>None</td>\n",
       "      <td>Human: You are a judge who evaluates the corre...</td>\n",
       "      <td>{\\n  \"verdict\": \"correct\",\\n  \"explanation\": \"...</td>\n",
       "      <td>63</td>\n",
       "      <td>856</td>\n",
       "      <td>anthropic.claude-3-haiku-20240307-v1:0</td>\n",
       "      <td>mistral.mistral-7b-instruct-v0:2</td>\n",
       "      <td>0.710724</td>\n",
       "      <td>a genus of flowering plant in the Lardizabalac...</td>\n",
       "      <td>The genera Sinofranchetia and Stauntonia belon...</td>\n",
       "      <td>NaN</td>\n",
       "      <td>NaN</td>\n",
       "      <td>correct</td>\n",
       "      <td>The answer provided correctly states that the ...</td>\n",
       "    </tr>\n",
       "    <tr>\n",
       "      <th>1</th>\n",
       "      <td>None</td>\n",
       "      <td>Human: You are a judge who evaluates the corre...</td>\n",
       "      <td>{\\n  \"verdict\": \"correct\",\\n  \"explanation\": \"...</td>\n",
       "      <td>63</td>\n",
       "      <td>856</td>\n",
       "      <td>anthropic.claude-3-haiku-20240307-v1:0</td>\n",
       "      <td>mistral.mistral-7b-instruct-v0:2</td>\n",
       "      <td>0.710724</td>\n",
       "      <td>a genus of flowering plant in the Lardizabalac...</td>\n",
       "      <td>The genera Sinofranchetia and Stauntonia belon...</td>\n",
       "      <td>NaN</td>\n",
       "      <td>NaN</td>\n",
       "      <td>correct</td>\n",
       "      <td>The answer provided correctly states that the ...</td>\n",
       "    </tr>\n",
       "    <tr>\n",
       "      <th>2</th>\n",
       "      <td>None</td>\n",
       "      <td>Human: You are a judge who evaluates the corre...</td>\n",
       "      <td>{\\n  \"verdict\": \"correct\",\\n  \"explanation\": \"...</td>\n",
       "      <td>63</td>\n",
       "      <td>856</td>\n",
       "      <td>anthropic.claude-3-haiku-20240307-v1:0</td>\n",
       "      <td>mistral.mistral-7b-instruct-v0:2</td>\n",
       "      <td>0.710724</td>\n",
       "      <td>a genus of flowering plant in the Lardizabalac...</td>\n",
       "      <td>The genera Sinofranchetia and Stauntonia belon...</td>\n",
       "      <td>NaN</td>\n",
       "      <td>NaN</td>\n",
       "      <td>correct</td>\n",
       "      <td>The answer provided correctly states that the ...</td>\n",
       "    </tr>\n",
       "    <tr>\n",
       "      <th>3</th>\n",
       "      <td>None</td>\n",
       "      <td>Human: You are a judge who evaluates the corre...</td>\n",
       "      <td>{\\n  \"verdict\": \"correct\",\\n  \"explanation\": \"...</td>\n",
       "      <td>63</td>\n",
       "      <td>856</td>\n",
       "      <td>anthropic.claude-3-haiku-20240307-v1:0</td>\n",
       "      <td>mistral.mistral-7b-instruct-v0:2</td>\n",
       "      <td>0.710724</td>\n",
       "      <td>a genus of flowering plant in the Lardizabalac...</td>\n",
       "      <td>The genera Sinofranchetia and Stauntonia belon...</td>\n",
       "      <td>NaN</td>\n",
       "      <td>NaN</td>\n",
       "      <td>correct</td>\n",
       "      <td>The answer provided correctly states that the ...</td>\n",
       "    </tr>\n",
       "    <tr>\n",
       "      <th>4</th>\n",
       "      <td>None</td>\n",
       "      <td>Human: You are a judge who evaluates the corre...</td>\n",
       "      <td>{\\n  \"verdict\": \"correct\",\\n  \"explanation\": \"...</td>\n",
       "      <td>63</td>\n",
       "      <td>856</td>\n",
       "      <td>anthropic.claude-3-haiku-20240307-v1:0</td>\n",
       "      <td>mistral.mistral-7b-instruct-v0:2</td>\n",
       "      <td>0.710724</td>\n",
       "      <td>a genus of flowering plant in the Lardizabalac...</td>\n",
       "      <td>The genera Sinofranchetia and Stauntonia belon...</td>\n",
       "      <td>NaN</td>\n",
       "      <td>NaN</td>\n",
       "      <td>correct</td>\n",
       "      <td>The answer provided correctly states that the ...</td>\n",
       "    </tr>\n",
       "  </tbody>\n",
       "</table>\n",
       "</div>"
      ],
      "text/plain": [
       "  exception                                             prompt  \\\n",
       "0      None  Human: You are a judge who evaluates the corre...   \n",
       "1      None  Human: You are a judge who evaluates the corre...   \n",
       "2      None  Human: You are a judge who evaluates the corre...   \n",
       "3      None  Human: You are a judge who evaluates the corre...   \n",
       "4      None  Human: You are a judge who evaluates the corre...   \n",
       "\n",
       "                                          completion  completion_token_count  \\\n",
       "0  {\\n  \"verdict\": \"correct\",\\n  \"explanation\": \"...                      63   \n",
       "1  {\\n  \"verdict\": \"correct\",\\n  \"explanation\": \"...                      63   \n",
       "2  {\\n  \"verdict\": \"correct\",\\n  \"explanation\": \"...                      63   \n",
       "3  {\\n  \"verdict\": \"correct\",\\n  \"explanation\": \"...                      63   \n",
       "4  {\\n  \"verdict\": \"correct\",\\n  \"explanation\": \"...                      63   \n",
       "\n",
       "   prompt_token_count                                model_id  \\\n",
       "0                 856  anthropic.claude-3-haiku-20240307-v1:0   \n",
       "1                 856  anthropic.claude-3-haiku-20240307-v1:0   \n",
       "2                 856  anthropic.claude-3-haiku-20240307-v1:0   \n",
       "3                 856  anthropic.claude-3-haiku-20240307-v1:0   \n",
       "4                 856  anthropic.claude-3-haiku-20240307-v1:0   \n",
       "\n",
       "                    candidate_model  cosine_similarity_score  \\\n",
       "0  mistral.mistral-7b-instruct-v0:2                 0.710724   \n",
       "1  mistral.mistral-7b-instruct-v0:2                 0.710724   \n",
       "2  mistral.mistral-7b-instruct-v0:2                 0.710724   \n",
       "3  mistral.mistral-7b-instruct-v0:2                 0.710724   \n",
       "4  mistral.mistral-7b-instruct-v0:2                 0.710724   \n",
       "\n",
       "                                        ground_truth  \\\n",
       "0  a genus of flowering plant in the Lardizabalac...   \n",
       "1  a genus of flowering plant in the Lardizabalac...   \n",
       "2  a genus of flowering plant in the Lardizabalac...   \n",
       "3  a genus of flowering plant in the Lardizabalac...   \n",
       "4  a genus of flowering plant in the Lardizabalac...   \n",
       "\n",
       "       anthropic.claude-3-haiku-20240307-v1:0_answer  \\\n",
       "0  The genera Sinofranchetia and Stauntonia belon...   \n",
       "1  The genera Sinofranchetia and Stauntonia belon...   \n",
       "2  The genera Sinofranchetia and Stauntonia belon...   \n",
       "3  The genera Sinofranchetia and Stauntonia belon...   \n",
       "4  The genera Sinofranchetia and Stauntonia belon...   \n",
       "\n",
       "  meta.llama3-70b-instruct-v1:0_answer cohere.command-r-v1:0_answer  verdict  \\\n",
       "0                                  NaN                          NaN  correct   \n",
       "1                                  NaN                          NaN  correct   \n",
       "2                                  NaN                          NaN  correct   \n",
       "3                                  NaN                          NaN  correct   \n",
       "4                                  NaN                          NaN  correct   \n",
       "\n",
       "                                         explanation  \n",
       "0  The answer provided correctly states that the ...  \n",
       "1  The answer provided correctly states that the ...  \n",
       "2  The answer provided correctly states that the ...  \n",
       "3  The answer provided correctly states that the ...  \n",
       "4  The answer provided correctly states that the ...  "
      ]
     },
     "execution_count": 44,
     "metadata": {},
     "output_type": "execute_result"
    }
   ],
   "source": [
    "# parse out the completion from LLM as a judge and column bind\n",
    "# the fields of the dictionary to the original results dataframe\n",
    "df_eval_results_only = df_eval_results['completion'].apply(parse_as_json).apply(pd.Series)\n",
    "df_eval_results = pd.concat([df_eval_results, df_eval_results_only], axis=1)\n",
    "logger.info(f\"df_eval_results shape={df_eval_results.shape}\")\n",
    "df_eval_results.head()"
   ]
  },
  {
   "cell_type": "code",
   "execution_count": 45,
   "metadata": {
    "tags": []
   },
   "outputs": [
    {
     "name": "stderr",
     "output_type": "stream",
     "text": [
      "[2024-07-12 01:49:23,498] p13828 {1235584531.py:10} INFO - Per inference cosine similarity scores saved to s3://sagemaker-fmbench-write-us-west-2-387192758086/fmbench-bedrock-fmbench-stack-us-west-2-role/data/metrics/yyyy=2024/mm=07/dd=12/hh=01/mm=37/raw_llm_as_a_judge_evals.csv\n"
     ]
    },
    {
     "data": {
      "text/html": [
       "<div>\n",
       "<style scoped>\n",
       "    .dataframe tbody tr th:only-of-type {\n",
       "        vertical-align: middle;\n",
       "    }\n",
       "\n",
       "    .dataframe tbody tr th {\n",
       "        vertical-align: top;\n",
       "    }\n",
       "\n",
       "    .dataframe thead th {\n",
       "        text-align: right;\n",
       "    }\n",
       "</style>\n",
       "<table border=\"1\" class=\"dataframe\">\n",
       "  <thead>\n",
       "    <tr style=\"text-align: right;\">\n",
       "      <th></th>\n",
       "      <th>exception</th>\n",
       "      <th>prompt</th>\n",
       "      <th>completion</th>\n",
       "      <th>completion_token_count</th>\n",
       "      <th>prompt_token_count</th>\n",
       "      <th>model_id</th>\n",
       "      <th>candidate_model</th>\n",
       "      <th>cosine_similarity_score</th>\n",
       "      <th>ground_truth</th>\n",
       "      <th>anthropic.claude-3-haiku-20240307-v1:0_answer</th>\n",
       "      <th>meta.llama3-70b-instruct-v1:0_answer</th>\n",
       "      <th>cohere.command-r-v1:0_answer</th>\n",
       "      <th>verdict</th>\n",
       "      <th>explanation</th>\n",
       "    </tr>\n",
       "  </thead>\n",
       "  <tbody>\n",
       "    <tr>\n",
       "      <th>0</th>\n",
       "      <td>None</td>\n",
       "      <td>Human: You are a judge who evaluates the corre...</td>\n",
       "      <td>{\\n  \"verdict\": \"correct\",\\n  \"explanation\": \"...</td>\n",
       "      <td>63</td>\n",
       "      <td>856</td>\n",
       "      <td>anthropic.claude-3-haiku-20240307-v1:0</td>\n",
       "      <td>mistral.mistral-7b-instruct-v0:2</td>\n",
       "      <td>0.710724</td>\n",
       "      <td>a genus of flowering plant in the Lardizabalac...</td>\n",
       "      <td>The genera Sinofranchetia and Stauntonia belon...</td>\n",
       "      <td>NaN</td>\n",
       "      <td>NaN</td>\n",
       "      <td>correct</td>\n",
       "      <td>The answer provided correctly states that the ...</td>\n",
       "    </tr>\n",
       "    <tr>\n",
       "      <th>1</th>\n",
       "      <td>None</td>\n",
       "      <td>Human: You are a judge who evaluates the corre...</td>\n",
       "      <td>{\\n  \"verdict\": \"correct\",\\n  \"explanation\": \"...</td>\n",
       "      <td>63</td>\n",
       "      <td>856</td>\n",
       "      <td>anthropic.claude-3-haiku-20240307-v1:0</td>\n",
       "      <td>mistral.mistral-7b-instruct-v0:2</td>\n",
       "      <td>0.710724</td>\n",
       "      <td>a genus of flowering plant in the Lardizabalac...</td>\n",
       "      <td>The genera Sinofranchetia and Stauntonia belon...</td>\n",
       "      <td>NaN</td>\n",
       "      <td>NaN</td>\n",
       "      <td>correct</td>\n",
       "      <td>The answer provided correctly states that the ...</td>\n",
       "    </tr>\n",
       "    <tr>\n",
       "      <th>2</th>\n",
       "      <td>None</td>\n",
       "      <td>Human: You are a judge who evaluates the corre...</td>\n",
       "      <td>{\\n  \"verdict\": \"correct\",\\n  \"explanation\": \"...</td>\n",
       "      <td>63</td>\n",
       "      <td>856</td>\n",
       "      <td>anthropic.claude-3-haiku-20240307-v1:0</td>\n",
       "      <td>mistral.mistral-7b-instruct-v0:2</td>\n",
       "      <td>0.710724</td>\n",
       "      <td>a genus of flowering plant in the Lardizabalac...</td>\n",
       "      <td>The genera Sinofranchetia and Stauntonia belon...</td>\n",
       "      <td>NaN</td>\n",
       "      <td>NaN</td>\n",
       "      <td>correct</td>\n",
       "      <td>The answer provided correctly states that the ...</td>\n",
       "    </tr>\n",
       "    <tr>\n",
       "      <th>3</th>\n",
       "      <td>None</td>\n",
       "      <td>Human: You are a judge who evaluates the corre...</td>\n",
       "      <td>{\\n  \"verdict\": \"correct\",\\n  \"explanation\": \"...</td>\n",
       "      <td>63</td>\n",
       "      <td>856</td>\n",
       "      <td>anthropic.claude-3-haiku-20240307-v1:0</td>\n",
       "      <td>mistral.mistral-7b-instruct-v0:2</td>\n",
       "      <td>0.710724</td>\n",
       "      <td>a genus of flowering plant in the Lardizabalac...</td>\n",
       "      <td>The genera Sinofranchetia and Stauntonia belon...</td>\n",
       "      <td>NaN</td>\n",
       "      <td>NaN</td>\n",
       "      <td>correct</td>\n",
       "      <td>The answer provided correctly states that the ...</td>\n",
       "    </tr>\n",
       "    <tr>\n",
       "      <th>4</th>\n",
       "      <td>None</td>\n",
       "      <td>Human: You are a judge who evaluates the corre...</td>\n",
       "      <td>{\\n  \"verdict\": \"correct\",\\n  \"explanation\": \"...</td>\n",
       "      <td>63</td>\n",
       "      <td>856</td>\n",
       "      <td>anthropic.claude-3-haiku-20240307-v1:0</td>\n",
       "      <td>mistral.mistral-7b-instruct-v0:2</td>\n",
       "      <td>0.710724</td>\n",
       "      <td>a genus of flowering plant in the Lardizabalac...</td>\n",
       "      <td>The genera Sinofranchetia and Stauntonia belon...</td>\n",
       "      <td>NaN</td>\n",
       "      <td>NaN</td>\n",
       "      <td>correct</td>\n",
       "      <td>The answer provided correctly states that the ...</td>\n",
       "    </tr>\n",
       "  </tbody>\n",
       "</table>\n",
       "</div>"
      ],
      "text/plain": [
       "  exception                                             prompt  \\\n",
       "0      None  Human: You are a judge who evaluates the corre...   \n",
       "1      None  Human: You are a judge who evaluates the corre...   \n",
       "2      None  Human: You are a judge who evaluates the corre...   \n",
       "3      None  Human: You are a judge who evaluates the corre...   \n",
       "4      None  Human: You are a judge who evaluates the corre...   \n",
       "\n",
       "                                          completion  completion_token_count  \\\n",
       "0  {\\n  \"verdict\": \"correct\",\\n  \"explanation\": \"...                      63   \n",
       "1  {\\n  \"verdict\": \"correct\",\\n  \"explanation\": \"...                      63   \n",
       "2  {\\n  \"verdict\": \"correct\",\\n  \"explanation\": \"...                      63   \n",
       "3  {\\n  \"verdict\": \"correct\",\\n  \"explanation\": \"...                      63   \n",
       "4  {\\n  \"verdict\": \"correct\",\\n  \"explanation\": \"...                      63   \n",
       "\n",
       "   prompt_token_count                                model_id  \\\n",
       "0                 856  anthropic.claude-3-haiku-20240307-v1:0   \n",
       "1                 856  anthropic.claude-3-haiku-20240307-v1:0   \n",
       "2                 856  anthropic.claude-3-haiku-20240307-v1:0   \n",
       "3                 856  anthropic.claude-3-haiku-20240307-v1:0   \n",
       "4                 856  anthropic.claude-3-haiku-20240307-v1:0   \n",
       "\n",
       "                    candidate_model  cosine_similarity_score  \\\n",
       "0  mistral.mistral-7b-instruct-v0:2                 0.710724   \n",
       "1  mistral.mistral-7b-instruct-v0:2                 0.710724   \n",
       "2  mistral.mistral-7b-instruct-v0:2                 0.710724   \n",
       "3  mistral.mistral-7b-instruct-v0:2                 0.710724   \n",
       "4  mistral.mistral-7b-instruct-v0:2                 0.710724   \n",
       "\n",
       "                                        ground_truth  \\\n",
       "0  a genus of flowering plant in the Lardizabalac...   \n",
       "1  a genus of flowering plant in the Lardizabalac...   \n",
       "2  a genus of flowering plant in the Lardizabalac...   \n",
       "3  a genus of flowering plant in the Lardizabalac...   \n",
       "4  a genus of flowering plant in the Lardizabalac...   \n",
       "\n",
       "       anthropic.claude-3-haiku-20240307-v1:0_answer  \\\n",
       "0  The genera Sinofranchetia and Stauntonia belon...   \n",
       "1  The genera Sinofranchetia and Stauntonia belon...   \n",
       "2  The genera Sinofranchetia and Stauntonia belon...   \n",
       "3  The genera Sinofranchetia and Stauntonia belon...   \n",
       "4  The genera Sinofranchetia and Stauntonia belon...   \n",
       "\n",
       "  meta.llama3-70b-instruct-v1:0_answer cohere.command-r-v1:0_answer  verdict  \\\n",
       "0                                  NaN                          NaN  correct   \n",
       "1                                  NaN                          NaN  correct   \n",
       "2                                  NaN                          NaN  correct   \n",
       "3                                  NaN                          NaN  correct   \n",
       "4                                  NaN                          NaN  correct   \n",
       "\n",
       "                                         explanation  \n",
       "0  The answer provided correctly states that the ...  \n",
       "1  The answer provided correctly states that the ...  \n",
       "2  The answer provided correctly states that the ...  \n",
       "3  The answer provided correctly states that the ...  \n",
       "4  The answer provided correctly states that the ...  "
      ]
     },
     "execution_count": 45,
     "metadata": {},
     "output_type": "execute_result"
    }
   ],
   "source": [
    "# send the raw results as a csv file to the S3 bucket\n",
    "csv_buffer = io.StringIO()\n",
    "df_eval_results.to_csv(csv_buffer, index=False)\n",
    "eval_llm_as_a_judge_results = csv_buffer.getvalue()\n",
    "eval_results_csv_fpath = os.path.join(METRICS_DIR, MODEL_EVAL_COMPLETIONS_CSV)  # Define full S3 path\n",
    "\n",
    "# Write the CSV data to S3\n",
    "write_to_s3(eval_llm_as_a_judge_results, BUCKET_NAME, \"\", \n",
    "            METRICS_DIR, MODEL_EVAL_COMPLETIONS_CSV)\n",
    "logger.info(f\"Per inference cosine similarity scores saved to s3://{BUCKET_NAME}/{eval_results_csv_fpath}\")\n",
    "\n",
    "df_eval_results.head()"
   ]
  },
  {
   "cell_type": "code",
   "execution_count": 46,
   "metadata": {
    "tags": []
   },
   "outputs": [],
   "source": [
    "panel_summary_responses_df = df_eval_results.groupby(['model_id', 'candidate_model', 'verdict']).size().unstack(fill_value=0)\n",
    "panel_summary_responses_df.reset_index(inplace=True)"
   ]
  },
  {
   "cell_type": "code",
   "execution_count": 47,
   "metadata": {},
   "outputs": [
    {
     "name": "stderr",
     "output_type": "stream",
     "text": [
      "[2024-07-12 01:49:31,443] p13828 {2538473091.py:10} INFO - Summary on each eval (max voting/average pooling) for each panel judge sent to s3://sagemaker-fmbench-write-us-west-2-387192758086/fmbench-bedrock-fmbench-stack-us-west-2-role/data/metrics/yyyy=2024/mm=07/dd=12/hh=01/mm=37/llm_as_a_judge_per_eval_summary.csv\n"
     ]
    },
    {
     "data": {
      "text/html": [
       "<div>\n",
       "<style scoped>\n",
       "    .dataframe tbody tr th:only-of-type {\n",
       "        vertical-align: middle;\n",
       "    }\n",
       "\n",
       "    .dataframe tbody tr th {\n",
       "        vertical-align: top;\n",
       "    }\n",
       "\n",
       "    .dataframe thead th {\n",
       "        text-align: right;\n",
       "    }\n",
       "</style>\n",
       "<table border=\"1\" class=\"dataframe\">\n",
       "  <thead>\n",
       "    <tr style=\"text-align: right;\">\n",
       "      <th>verdict</th>\n",
       "      <th>model_id</th>\n",
       "      <th>candidate_model</th>\n",
       "      <th>correct</th>\n",
       "      <th>incorrect</th>\n",
       "    </tr>\n",
       "  </thead>\n",
       "  <tbody>\n",
       "    <tr>\n",
       "      <th>0</th>\n",
       "      <td>anthropic.claude-3-haiku-20240307-v1:0</td>\n",
       "      <td>ai21.j2-mid-v1</td>\n",
       "      <td>30</td>\n",
       "      <td>0</td>\n",
       "    </tr>\n",
       "    <tr>\n",
       "      <th>1</th>\n",
       "      <td>anthropic.claude-3-haiku-20240307-v1:0</td>\n",
       "      <td>ai21.j2-ultra-v1</td>\n",
       "      <td>30</td>\n",
       "      <td>0</td>\n",
       "    </tr>\n",
       "    <tr>\n",
       "      <th>2</th>\n",
       "      <td>anthropic.claude-3-haiku-20240307-v1:0</td>\n",
       "      <td>amazon.titan-text-express-v1</td>\n",
       "      <td>30</td>\n",
       "      <td>0</td>\n",
       "    </tr>\n",
       "    <tr>\n",
       "      <th>3</th>\n",
       "      <td>anthropic.claude-3-haiku-20240307-v1:0</td>\n",
       "      <td>amazon.titan-text-lite-v1</td>\n",
       "      <td>27</td>\n",
       "      <td>3</td>\n",
       "    </tr>\n",
       "    <tr>\n",
       "      <th>4</th>\n",
       "      <td>anthropic.claude-3-haiku-20240307-v1:0</td>\n",
       "      <td>anthropic.claude-3-haiku-20240307-v1:0</td>\n",
       "      <td>27</td>\n",
       "      <td>0</td>\n",
       "    </tr>\n",
       "  </tbody>\n",
       "</table>\n",
       "</div>"
      ],
      "text/plain": [
       "verdict                                model_id  \\\n",
       "0        anthropic.claude-3-haiku-20240307-v1:0   \n",
       "1        anthropic.claude-3-haiku-20240307-v1:0   \n",
       "2        anthropic.claude-3-haiku-20240307-v1:0   \n",
       "3        anthropic.claude-3-haiku-20240307-v1:0   \n",
       "4        anthropic.claude-3-haiku-20240307-v1:0   \n",
       "\n",
       "verdict                         candidate_model  correct  incorrect  \n",
       "0                                ai21.j2-mid-v1       30          0  \n",
       "1                              ai21.j2-ultra-v1       30          0  \n",
       "2                  amazon.titan-text-express-v1       30          0  \n",
       "3                     amazon.titan-text-lite-v1       27          3  \n",
       "4        anthropic.claude-3-haiku-20240307-v1:0       27          0  "
      ]
     },
     "execution_count": 47,
     "metadata": {},
     "output_type": "execute_result"
    }
   ],
   "source": [
    "# send the raw results as a csv file to the S3 bucket\n",
    "csv_buffer = io.StringIO()\n",
    "panel_summary_responses_df.to_csv(csv_buffer, index=False)\n",
    "panel_summary_responses = csv_buffer.getvalue()\n",
    "llm_as_a_judge_per_eval_summary_fpath = os.path.join(METRICS_DIR, LLM_JUDGE_PANEL_RESPONSE_SUMMARIES)  # Define full S3 path\n",
    "\n",
    "# Write the CSV data to S3\n",
    "write_to_s3(panel_summary_responses, BUCKET_NAME, \"\", \n",
    "            METRICS_DIR, LLM_JUDGE_PANEL_RESPONSE_SUMMARIES)\n",
    "logger.info(f\"Summary on each eval (max voting/average pooling) for each panel judge sent to s3://{BUCKET_NAME}/{llm_as_a_judge_per_eval_summary_fpath}\")\n",
    "panel_summary_responses_df.head()"
   ]
  },
  {
   "cell_type": "code",
   "execution_count": null,
   "metadata": {},
   "outputs": [],
   "source": []
  }
 ],
 "metadata": {
  "availableInstances": [
   {
    "_defaultOrder": 0,
    "_isFastLaunch": true,
    "category": "General purpose",
    "gpuNum": 0,
    "hideHardwareSpecs": false,
    "memoryGiB": 4,
    "name": "ml.t3.medium",
    "vcpuNum": 2
   },
   {
    "_defaultOrder": 1,
    "_isFastLaunch": false,
    "category": "General purpose",
    "gpuNum": 0,
    "hideHardwareSpecs": false,
    "memoryGiB": 8,
    "name": "ml.t3.large",
    "vcpuNum": 2
   },
   {
    "_defaultOrder": 2,
    "_isFastLaunch": false,
    "category": "General purpose",
    "gpuNum": 0,
    "hideHardwareSpecs": false,
    "memoryGiB": 16,
    "name": "ml.t3.xlarge",
    "vcpuNum": 4
   },
   {
    "_defaultOrder": 3,
    "_isFastLaunch": false,
    "category": "General purpose",
    "gpuNum": 0,
    "hideHardwareSpecs": false,
    "memoryGiB": 32,
    "name": "ml.t3.2xlarge",
    "vcpuNum": 8
   },
   {
    "_defaultOrder": 4,
    "_isFastLaunch": true,
    "category": "General purpose",
    "gpuNum": 0,
    "hideHardwareSpecs": false,
    "memoryGiB": 8,
    "name": "ml.m5.large",
    "vcpuNum": 2
   },
   {
    "_defaultOrder": 5,
    "_isFastLaunch": false,
    "category": "General purpose",
    "gpuNum": 0,
    "hideHardwareSpecs": false,
    "memoryGiB": 16,
    "name": "ml.m5.xlarge",
    "vcpuNum": 4
   },
   {
    "_defaultOrder": 6,
    "_isFastLaunch": false,
    "category": "General purpose",
    "gpuNum": 0,
    "hideHardwareSpecs": false,
    "memoryGiB": 32,
    "name": "ml.m5.2xlarge",
    "vcpuNum": 8
   },
   {
    "_defaultOrder": 7,
    "_isFastLaunch": false,
    "category": "General purpose",
    "gpuNum": 0,
    "hideHardwareSpecs": false,
    "memoryGiB": 64,
    "name": "ml.m5.4xlarge",
    "vcpuNum": 16
   },
   {
    "_defaultOrder": 8,
    "_isFastLaunch": false,
    "category": "General purpose",
    "gpuNum": 0,
    "hideHardwareSpecs": false,
    "memoryGiB": 128,
    "name": "ml.m5.8xlarge",
    "vcpuNum": 32
   },
   {
    "_defaultOrder": 9,
    "_isFastLaunch": false,
    "category": "General purpose",
    "gpuNum": 0,
    "hideHardwareSpecs": false,
    "memoryGiB": 192,
    "name": "ml.m5.12xlarge",
    "vcpuNum": 48
   },
   {
    "_defaultOrder": 10,
    "_isFastLaunch": false,
    "category": "General purpose",
    "gpuNum": 0,
    "hideHardwareSpecs": false,
    "memoryGiB": 256,
    "name": "ml.m5.16xlarge",
    "vcpuNum": 64
   },
   {
    "_defaultOrder": 11,
    "_isFastLaunch": false,
    "category": "General purpose",
    "gpuNum": 0,
    "hideHardwareSpecs": false,
    "memoryGiB": 384,
    "name": "ml.m5.24xlarge",
    "vcpuNum": 96
   },
   {
    "_defaultOrder": 12,
    "_isFastLaunch": false,
    "category": "General purpose",
    "gpuNum": 0,
    "hideHardwareSpecs": false,
    "memoryGiB": 8,
    "name": "ml.m5d.large",
    "vcpuNum": 2
   },
   {
    "_defaultOrder": 13,
    "_isFastLaunch": false,
    "category": "General purpose",
    "gpuNum": 0,
    "hideHardwareSpecs": false,
    "memoryGiB": 16,
    "name": "ml.m5d.xlarge",
    "vcpuNum": 4
   },
   {
    "_defaultOrder": 14,
    "_isFastLaunch": false,
    "category": "General purpose",
    "gpuNum": 0,
    "hideHardwareSpecs": false,
    "memoryGiB": 32,
    "name": "ml.m5d.2xlarge",
    "vcpuNum": 8
   },
   {
    "_defaultOrder": 15,
    "_isFastLaunch": false,
    "category": "General purpose",
    "gpuNum": 0,
    "hideHardwareSpecs": false,
    "memoryGiB": 64,
    "name": "ml.m5d.4xlarge",
    "vcpuNum": 16
   },
   {
    "_defaultOrder": 16,
    "_isFastLaunch": false,
    "category": "General purpose",
    "gpuNum": 0,
    "hideHardwareSpecs": false,
    "memoryGiB": 128,
    "name": "ml.m5d.8xlarge",
    "vcpuNum": 32
   },
   {
    "_defaultOrder": 17,
    "_isFastLaunch": false,
    "category": "General purpose",
    "gpuNum": 0,
    "hideHardwareSpecs": false,
    "memoryGiB": 192,
    "name": "ml.m5d.12xlarge",
    "vcpuNum": 48
   },
   {
    "_defaultOrder": 18,
    "_isFastLaunch": false,
    "category": "General purpose",
    "gpuNum": 0,
    "hideHardwareSpecs": false,
    "memoryGiB": 256,
    "name": "ml.m5d.16xlarge",
    "vcpuNum": 64
   },
   {
    "_defaultOrder": 19,
    "_isFastLaunch": false,
    "category": "General purpose",
    "gpuNum": 0,
    "hideHardwareSpecs": false,
    "memoryGiB": 384,
    "name": "ml.m5d.24xlarge",
    "vcpuNum": 96
   },
   {
    "_defaultOrder": 20,
    "_isFastLaunch": false,
    "category": "General purpose",
    "gpuNum": 0,
    "hideHardwareSpecs": true,
    "memoryGiB": 0,
    "name": "ml.geospatial.interactive",
    "supportedImageNames": [
     "sagemaker-geospatial-v1-0"
    ],
    "vcpuNum": 0
   },
   {
    "_defaultOrder": 21,
    "_isFastLaunch": true,
    "category": "Compute optimized",
    "gpuNum": 0,
    "hideHardwareSpecs": false,
    "memoryGiB": 4,
    "name": "ml.c5.large",
    "vcpuNum": 2
   },
   {
    "_defaultOrder": 22,
    "_isFastLaunch": false,
    "category": "Compute optimized",
    "gpuNum": 0,
    "hideHardwareSpecs": false,
    "memoryGiB": 8,
    "name": "ml.c5.xlarge",
    "vcpuNum": 4
   },
   {
    "_defaultOrder": 23,
    "_isFastLaunch": false,
    "category": "Compute optimized",
    "gpuNum": 0,
    "hideHardwareSpecs": false,
    "memoryGiB": 16,
    "name": "ml.c5.2xlarge",
    "vcpuNum": 8
   },
   {
    "_defaultOrder": 24,
    "_isFastLaunch": false,
    "category": "Compute optimized",
    "gpuNum": 0,
    "hideHardwareSpecs": false,
    "memoryGiB": 32,
    "name": "ml.c5.4xlarge",
    "vcpuNum": 16
   },
   {
    "_defaultOrder": 25,
    "_isFastLaunch": false,
    "category": "Compute optimized",
    "gpuNum": 0,
    "hideHardwareSpecs": false,
    "memoryGiB": 72,
    "name": "ml.c5.9xlarge",
    "vcpuNum": 36
   },
   {
    "_defaultOrder": 26,
    "_isFastLaunch": false,
    "category": "Compute optimized",
    "gpuNum": 0,
    "hideHardwareSpecs": false,
    "memoryGiB": 96,
    "name": "ml.c5.12xlarge",
    "vcpuNum": 48
   },
   {
    "_defaultOrder": 27,
    "_isFastLaunch": false,
    "category": "Compute optimized",
    "gpuNum": 0,
    "hideHardwareSpecs": false,
    "memoryGiB": 144,
    "name": "ml.c5.18xlarge",
    "vcpuNum": 72
   },
   {
    "_defaultOrder": 28,
    "_isFastLaunch": false,
    "category": "Compute optimized",
    "gpuNum": 0,
    "hideHardwareSpecs": false,
    "memoryGiB": 192,
    "name": "ml.c5.24xlarge",
    "vcpuNum": 96
   },
   {
    "_defaultOrder": 29,
    "_isFastLaunch": true,
    "category": "Accelerated computing",
    "gpuNum": 1,
    "hideHardwareSpecs": false,
    "memoryGiB": 16,
    "name": "ml.g4dn.xlarge",
    "vcpuNum": 4
   },
   {
    "_defaultOrder": 30,
    "_isFastLaunch": false,
    "category": "Accelerated computing",
    "gpuNum": 1,
    "hideHardwareSpecs": false,
    "memoryGiB": 32,
    "name": "ml.g4dn.2xlarge",
    "vcpuNum": 8
   },
   {
    "_defaultOrder": 31,
    "_isFastLaunch": false,
    "category": "Accelerated computing",
    "gpuNum": 1,
    "hideHardwareSpecs": false,
    "memoryGiB": 64,
    "name": "ml.g4dn.4xlarge",
    "vcpuNum": 16
   },
   {
    "_defaultOrder": 32,
    "_isFastLaunch": false,
    "category": "Accelerated computing",
    "gpuNum": 1,
    "hideHardwareSpecs": false,
    "memoryGiB": 128,
    "name": "ml.g4dn.8xlarge",
    "vcpuNum": 32
   },
   {
    "_defaultOrder": 33,
    "_isFastLaunch": false,
    "category": "Accelerated computing",
    "gpuNum": 4,
    "hideHardwareSpecs": false,
    "memoryGiB": 192,
    "name": "ml.g4dn.12xlarge",
    "vcpuNum": 48
   },
   {
    "_defaultOrder": 34,
    "_isFastLaunch": false,
    "category": "Accelerated computing",
    "gpuNum": 1,
    "hideHardwareSpecs": false,
    "memoryGiB": 256,
    "name": "ml.g4dn.16xlarge",
    "vcpuNum": 64
   },
   {
    "_defaultOrder": 35,
    "_isFastLaunch": false,
    "category": "Accelerated computing",
    "gpuNum": 1,
    "hideHardwareSpecs": false,
    "memoryGiB": 61,
    "name": "ml.p3.2xlarge",
    "vcpuNum": 8
   },
   {
    "_defaultOrder": 36,
    "_isFastLaunch": false,
    "category": "Accelerated computing",
    "gpuNum": 4,
    "hideHardwareSpecs": false,
    "memoryGiB": 244,
    "name": "ml.p3.8xlarge",
    "vcpuNum": 32
   },
   {
    "_defaultOrder": 37,
    "_isFastLaunch": false,
    "category": "Accelerated computing",
    "gpuNum": 8,
    "hideHardwareSpecs": false,
    "memoryGiB": 488,
    "name": "ml.p3.16xlarge",
    "vcpuNum": 64
   },
   {
    "_defaultOrder": 38,
    "_isFastLaunch": false,
    "category": "Accelerated computing",
    "gpuNum": 8,
    "hideHardwareSpecs": false,
    "memoryGiB": 768,
    "name": "ml.p3dn.24xlarge",
    "vcpuNum": 96
   },
   {
    "_defaultOrder": 39,
    "_isFastLaunch": false,
    "category": "Memory Optimized",
    "gpuNum": 0,
    "hideHardwareSpecs": false,
    "memoryGiB": 16,
    "name": "ml.r5.large",
    "vcpuNum": 2
   },
   {
    "_defaultOrder": 40,
    "_isFastLaunch": false,
    "category": "Memory Optimized",
    "gpuNum": 0,
    "hideHardwareSpecs": false,
    "memoryGiB": 32,
    "name": "ml.r5.xlarge",
    "vcpuNum": 4
   },
   {
    "_defaultOrder": 41,
    "_isFastLaunch": false,
    "category": "Memory Optimized",
    "gpuNum": 0,
    "hideHardwareSpecs": false,
    "memoryGiB": 64,
    "name": "ml.r5.2xlarge",
    "vcpuNum": 8
   },
   {
    "_defaultOrder": 42,
    "_isFastLaunch": false,
    "category": "Memory Optimized",
    "gpuNum": 0,
    "hideHardwareSpecs": false,
    "memoryGiB": 128,
    "name": "ml.r5.4xlarge",
    "vcpuNum": 16
   },
   {
    "_defaultOrder": 43,
    "_isFastLaunch": false,
    "category": "Memory Optimized",
    "gpuNum": 0,
    "hideHardwareSpecs": false,
    "memoryGiB": 256,
    "name": "ml.r5.8xlarge",
    "vcpuNum": 32
   },
   {
    "_defaultOrder": 44,
    "_isFastLaunch": false,
    "category": "Memory Optimized",
    "gpuNum": 0,
    "hideHardwareSpecs": false,
    "memoryGiB": 384,
    "name": "ml.r5.12xlarge",
    "vcpuNum": 48
   },
   {
    "_defaultOrder": 45,
    "_isFastLaunch": false,
    "category": "Memory Optimized",
    "gpuNum": 0,
    "hideHardwareSpecs": false,
    "memoryGiB": 512,
    "name": "ml.r5.16xlarge",
    "vcpuNum": 64
   },
   {
    "_defaultOrder": 46,
    "_isFastLaunch": false,
    "category": "Memory Optimized",
    "gpuNum": 0,
    "hideHardwareSpecs": false,
    "memoryGiB": 768,
    "name": "ml.r5.24xlarge",
    "vcpuNum": 96
   },
   {
    "_defaultOrder": 47,
    "_isFastLaunch": false,
    "category": "Accelerated computing",
    "gpuNum": 1,
    "hideHardwareSpecs": false,
    "memoryGiB": 16,
    "name": "ml.g5.xlarge",
    "vcpuNum": 4
   },
   {
    "_defaultOrder": 48,
    "_isFastLaunch": false,
    "category": "Accelerated computing",
    "gpuNum": 1,
    "hideHardwareSpecs": false,
    "memoryGiB": 32,
    "name": "ml.g5.2xlarge",
    "vcpuNum": 8
   },
   {
    "_defaultOrder": 49,
    "_isFastLaunch": false,
    "category": "Accelerated computing",
    "gpuNum": 1,
    "hideHardwareSpecs": false,
    "memoryGiB": 64,
    "name": "ml.g5.4xlarge",
    "vcpuNum": 16
   },
   {
    "_defaultOrder": 50,
    "_isFastLaunch": false,
    "category": "Accelerated computing",
    "gpuNum": 1,
    "hideHardwareSpecs": false,
    "memoryGiB": 128,
    "name": "ml.g5.8xlarge",
    "vcpuNum": 32
   },
   {
    "_defaultOrder": 51,
    "_isFastLaunch": false,
    "category": "Accelerated computing",
    "gpuNum": 1,
    "hideHardwareSpecs": false,
    "memoryGiB": 256,
    "name": "ml.g5.16xlarge",
    "vcpuNum": 64
   },
   {
    "_defaultOrder": 52,
    "_isFastLaunch": false,
    "category": "Accelerated computing",
    "gpuNum": 4,
    "hideHardwareSpecs": false,
    "memoryGiB": 192,
    "name": "ml.g5.12xlarge",
    "vcpuNum": 48
   },
   {
    "_defaultOrder": 53,
    "_isFastLaunch": false,
    "category": "Accelerated computing",
    "gpuNum": 4,
    "hideHardwareSpecs": false,
    "memoryGiB": 384,
    "name": "ml.g5.24xlarge",
    "vcpuNum": 96
   },
   {
    "_defaultOrder": 54,
    "_isFastLaunch": false,
    "category": "Accelerated computing",
    "gpuNum": 8,
    "hideHardwareSpecs": false,
    "memoryGiB": 768,
    "name": "ml.g5.48xlarge",
    "vcpuNum": 192
   },
   {
    "_defaultOrder": 55,
    "_isFastLaunch": false,
    "category": "Accelerated computing",
    "gpuNum": 8,
    "hideHardwareSpecs": false,
    "memoryGiB": 1152,
    "name": "ml.p4d.24xlarge",
    "vcpuNum": 96
   },
   {
    "_defaultOrder": 56,
    "_isFastLaunch": false,
    "category": "Accelerated computing",
    "gpuNum": 8,
    "hideHardwareSpecs": false,
    "memoryGiB": 1152,
    "name": "ml.p4de.24xlarge",
    "vcpuNum": 96
   },
   {
    "_defaultOrder": 57,
    "_isFastLaunch": false,
    "category": "Accelerated computing",
    "gpuNum": 0,
    "hideHardwareSpecs": false,
    "memoryGiB": 32,
    "name": "ml.trn1.2xlarge",
    "vcpuNum": 8
   },
   {
    "_defaultOrder": 58,
    "_isFastLaunch": false,
    "category": "Accelerated computing",
    "gpuNum": 0,
    "hideHardwareSpecs": false,
    "memoryGiB": 512,
    "name": "ml.trn1.32xlarge",
    "vcpuNum": 128
   },
   {
    "_defaultOrder": 59,
    "_isFastLaunch": false,
    "category": "Accelerated computing",
    "gpuNum": 0,
    "hideHardwareSpecs": false,
    "memoryGiB": 512,
    "name": "ml.trn1n.32xlarge",
    "vcpuNum": 128
   }
  ],
  "instance_type": "ml.c5.large",
  "kernelspec": {
   "display_name": "conda_fmbench_eval_python311",
   "language": "python",
   "name": "conda_fmbench_eval_python311"
  },
  "language_info": {
   "codemirror_mode": {
    "name": "ipython",
    "version": 3
   },
   "file_extension": ".py",
   "mimetype": "text/x-python",
   "name": "python",
   "nbconvert_exporter": "python",
   "pygments_lexer": "ipython3",
   "version": "3.11.9"
  }
 },
 "nbformat": 4,
 "nbformat_minor": 4
}
