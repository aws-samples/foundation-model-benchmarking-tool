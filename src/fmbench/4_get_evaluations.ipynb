{
 "cells": [
  {
   "cell_type": "markdown",
   "metadata": {},
   "source": [
    "## Get Evaluations on all inference files and gather findings on quantitative metrics (such as _Cosine Similarity_) and subjective metrics on various criteria using _LLM as a judge_ - Max Voting & Average Pooling using PoLL (Panel of LLM Evaluators)\n",
    "\n",
    "---------------------\n",
    "*This notebook works best with the conda_python3 kernel on a ml.t3.medium machine*.\n",
    "\n",
    "#### This step of the solution focusses on getting evaluations on the quality of resposes. It does so by gathering the following information and performing the steps below:\n",
    "\n",
    "- **Gets all per inference request file**: This step first accesses and gets all of the per inference request files into a dataframe, containing the response from the LLM as well as the ground truth, if any is provided. \n",
    "\n",
    "- **Generates quantitative metrics for evaluation**: Calculate quantitative metrics to measure similarity and accuracy, for example _Cosine Similarity_. This helps in getting a quantitative overall score to the entire dataset in terms of which model generates outputs that are most similar and accurate to the ground truth (if any is provided). With this statistic, customers and users of the open source community can make business level judgements. \n",
    "\n",
    "- **Uses an _LLM as a judge_ approach to get subjective evaluations**: Refer to this [paper](https://arxiv.org/pdf/2404.18796). We use the following ways to evaluate the responses from the `candidate models` (models used to generate inferences)\n",
    "\n",
    "    1. **Max Voting**: When a dataset provides a ground truth, we use a technique called `Max Voting`. Here, we use PoLL, or a panel of LLM evaluators, from different model families to evaluate each candidate model's response based on whether it generates a `correct` or an `incorrect` answer simply based on ground truth comparisons. Using models from different families as a PoLL, increases it's evaluation ability to be close to that of a human evaluation, and eliminates the intra model bias.\n",
    "    \n",
    "    2. **Average Pooling**: When a dataset does not provide a ground truth, or if a task being evaluated needs to be given subjective level judgements, that is when we use `Average Pooling`. We use a specific subjective level criteria and then evaluate the candidate model responses on a scale of 1-5 for each PoLL. Using this, we get an average score and then can evaluate how each candidate model was scored based on the PoLL evaluations.\n",
    "    \n",
    "***All evaluations are generated in a JSON format for further downstream analytics on the evaluation results***"
   ]
  },
  {
   "cell_type": "markdown",
   "metadata": {},
   "source": [
    "#### Import all of the necessary libraries below to run this notebook"
   ]
  },
  {
   "cell_type": "code",
   "execution_count": 1,
   "metadata": {
    "tags": []
   },
   "outputs": [],
   "source": [
    "# if interactive mode is set to no -> pickup fmbench from Python installation path\n",
    "# if interactive mode is set to yes -> pickup fmbench from the current path (one level above this notebook)\n",
    "# if interactive mode is not defined -> pickup fmbench from the current path (one level above this notebook)\n",
    "# the premise is that if run non-interactively then it can only be run through main.py which will set interactive mode to no\n",
    "import os\n",
    "import sys\n",
    "if os.environ.get(\"INTERACTIVE_MODE_SET\", \"yes\") == \"yes\":\n",
    "    sys.path.append(os.path.dirname(os.getcwd()))"
   ]
  },
  {
   "cell_type": "code",
   "execution_count": 2,
   "metadata": {
    "collapsed": true,
    "jupyter": {
     "outputs_hidden": true
    },
    "tags": []
   },
   "outputs": [
    {
     "name": "stdout",
     "output_type": "stream",
     "text": [
      "region_name=us-west-2\n"
     ]
    },
    {
     "name": "stderr",
     "output_type": "stream",
     "text": [
      "You are using the default legacy behaviour of the <class 'transformers.models.llama.tokenization_llama_fast.LlamaTokenizerFast'>. This is expected, and simply means that the `legacy` (previous) behavior will be used so nothing changes for you. If you want to use the new behaviour, set `legacy=False`. This should only be set if you understand what it means, and thoroughly read the reason why this was added as explained in https://github.com/huggingface/transformers/pull/24565\n"
     ]
    },
    {
     "name": "stdout",
     "output_type": "stream",
     "text": [
      "role_arn_from_env=None, using current sts caller identity to set arn_string\n",
      "the sts role is an assumed role, setting arn_string to arn:aws:iam::387192758086:role/fmbench-stack-us-west-2-role\n",
      "config file current -> configs/bedrock/config-bedrock.yml, None\n",
      "loaded config: {'general': {'name': 'fmbench-bedrock', 'model_name': 'FMs available in Amazon Bedrock'}, 'aws': {'region': 'us-west-2', 'sagemaker_execution_role': 'arn:aws:iam::387192758086:role/fmbench-stack-us-west-2-role', 'bucket': 'sagemaker-fmbench-write-us-west-2-387192758086'}, 'dir_paths': {'data_prefix': 'data', 'prompts_prefix': 'prompts', 'all_prompts_file': 'all_prompts.csv', 'metrics_dir': 'metrics', 'models_dir': 'models', 'metadata_dir': 'metadata'}, 's3_read_data': {'read_bucket': 'sagemaker-fmbench-read-us-west-2-387192758086', 'scripts_prefix': 'scripts', 'script_files': ['hf_token.txt'], 'eval_prompts_dir': 'eval_criteria_prompts', 'eval_prompt_template_dir_list': ['claude_eval_prompt_templates', 'llama3_eval_prompt_templates', 'cohere_eval_prompt_templates'], 'eval_instructions_dir': 'eval_instructions', 'eval_instructions_files': ['evaluation_instructions_max_voting.txt', 'evaluation_instructions_avg_pooling.txt'], 'configs_prefix': 'configs', 'config_files': ['pricing.yml'], 'source_data_prefix': 'source_data', 'source_data_files': ['2wikimqa_e.jsonl', '2wikimqa.jsonl', 'hotpotqa_e.jsonl', 'hotpotqa.jsonl', 'narrativeqa.jsonl', 'triviaqa_e.jsonl', 'triviaqa.jsonl'], 'tokenizer_prefix': 'llama2_tokenizer', 'prompt_template_dir': 'prompt_template', 'prompt_template_file': 'prompt_template_llama2.txt'}, 'run_steps': {'0_setup.ipynb': True, '1_generate_data.ipynb': True, '2_deploy_model.ipynb': False, '3_run_inference.ipynb': True, '4_get_evaluations.ipynb': False, '5_model_metric_analysis.ipynb': False, '6_cleanup.ipynb': False}, 'datasets': {'prompt_template_keys': ['input', 'context'], 'max_iters_per_combination': 105, 'min_iters_per_combination': 5, 'filters': [{'language': 'en', 'min_length_in_tokens': 1, 'max_length_in_tokens': 500, 'payload_file': 'payload_en_1-500.jsonl'}, {'language': 'en', 'min_length_in_tokens': 500, 'max_length_in_tokens': 1000, 'payload_file': 'payload_en_500-1000.jsonl'}, {'language': 'en', 'min_length_in_tokens': 1000, 'max_length_in_tokens': 2000, 'payload_file': 'payload_en_1000-2000.jsonl'}, {'language': 'en', 'min_length_in_tokens': 2000, 'max_length_in_tokens': 3000, 'payload_file': 'payload_en_2000-3000.jsonl'}, {'language': 'en', 'min_length_in_tokens': 3000, 'max_length_in_tokens': 3840, 'payload_file': 'payload_en_3000-3840.jsonl'}]}, 'model_evaluations': {'ground_truth_col_key': 'answers', 'PoLL_Composition_and_Voting': {'method': 'max_voting'}, 'quantitative_eval_info': {'embeddings_model_id': {'model_id': 'sentence-transformers/all-mpnet-base-v2'}}, 'subjective_eval_info': {'judge_panel_list': [{'model_id': 'anthropic.claude-3-haiku-20240307-v1:0', 'eval_prompt_template_dir': 'claude_eval_prompt_templates', 'eval_prompt_template_name_prefix': 'claude_eval'}, {'model_id': 'meta.llama3-70b-instruct-v1:0', 'eval_prompt_template_dir': 'llama3_eval_prompt_templates', 'eval_prompt_template_name_prefix': 'llama3_eval'}, {'model_id': 'cohere.command-r-v1:0', 'eval_prompt_template_dir': 'cohere_eval_prompt_templates', 'eval_prompt_template_name_prefix': 'cohere_eval'}], 'inference_parameters': {'temperature': 0.1, 'max_tokens': 300, 'top_p': 0.92, 'caching': False}, 'run_parallel_inference_count': 10}}, 'metrics': {'dataset_of_interest': 'en_500-1000'}, 'pricing': 'pricing.yml', 'inference_parameters': {'bedrock': {'temperature': 0.1, 'max_tokens': 100, 'top_p': 0.92, 'caching': False}}, 'experiments': [{'name': 'mistral.mistral-7b-instruct-v0:2', 'model_id': 'mistral.mistral-7b-instruct-v0:2', 'model_version': '*', 'model_name': 'mistral.mistral-7b-instruct-v0:2', 'ep_name': 'mistral.mistral-7b-instruct-v0:2', 'instance_type': 'mistral.mistral-7b-instruct-v0:2', 'image_uri': None, 'deploy': False, 'instance_count': 1, 'deployment_script': None, 'inference_script': 'bedrock_predictor.py', 'inference_spec': {'split_input_and_parameters': False, 'parameter_set': 'bedrock', 'parameters': {'temperature': 0.1, 'max_tokens': 100, 'top_p': 0.92, 'caching': False}}, 'payload_files': ['payload_en_1-500.jsonl', 'payload_en_500-1000.jsonl'], 'concurrency_levels': [1, 2], 'env': None, 'bucket': 'sagemaker-fmbench-write-us-west-2-387192758086'}, {'name': 'mistral.mixtral-8x7b-instruct-v0:1', 'model_id': 'mistral.mixtral-8x7b-instruct-v0:1', 'model_version': '*', 'model_name': 'mistral.mixtral-8x7b-instruct-v0:1', 'ep_name': 'mistral.mixtral-8x7b-instruct-v0:1', 'instance_type': 'mistral.mixtral-8x7b-instruct-v0:1', 'image_uri': None, 'deploy': False, 'instance_count': 1, 'deployment_script': None, 'inference_script': 'bedrock_predictor.py', 'inference_spec': {'split_input_and_parameters': False, 'parameter_set': 'bedrock', 'parameters': {'temperature': 0.1, 'max_tokens': 100, 'top_p': 0.92, 'caching': False}}, 'payload_files': ['payload_en_1-500.jsonl', 'payload_en_500-1000.jsonl'], 'concurrency_levels': [1, 2], 'env': None, 'bucket': 'sagemaker-fmbench-write-us-west-2-387192758086'}, {'name': 'meta.llama2-13b-chat-v1', 'model_id': 'meta.llama2-13b-chat-v1', 'model_version': '*', 'model_name': 'meta.llama2-13b-chat-v1', 'ep_name': 'meta.llama2-13b-chat-v1', 'instance_type': 'meta.llama2-13b-chat-v1', 'image_uri': None, 'deploy': False, 'instance_count': None, 'deployment_script': None, 'inference_script': 'bedrock_predictor.py', 'inference_spec': {'split_input_and_parameters': False, 'parameter_set': 'bedrock', 'parameters': {'temperature': 0.1, 'max_tokens': 100, 'top_p': 0.92, 'caching': False}}, 'payload_files': ['payload_en_1-500.jsonl', 'payload_en_500-1000.jsonl'], 'concurrency_levels': [1, 2], 'env': None, 'bucket': 'sagemaker-fmbench-write-us-west-2-387192758086'}, {'name': 'meta.llama2-70b-chat-v1', 'model_id': 'meta.llama2-70b-chat-v1', 'model_version': '*', 'model_name': 'meta.llama2-70b-chat-v1', 'ep_name': 'meta.llama2-70b-chat-v1', 'instance_type': 'meta.llama2-70b-chat-v1', 'image_uri': None, 'deploy': False, 'instance_count': None, 'deployment_script': None, 'inference_script': 'bedrock_predictor.py', 'inference_spec': {'split_input_and_parameters': False, 'parameter_set': 'bedrock', 'parameters': {'temperature': 0.1, 'max_tokens': 100, 'top_p': 0.92, 'caching': False}}, 'payload_files': ['payload_en_1-500.jsonl', 'payload_en_500-1000.jsonl'], 'concurrency_levels': [1, 2], 'env': None, 'bucket': 'sagemaker-fmbench-write-us-west-2-387192758086'}, {'name': 'amazon.titan-text-lite-v1', 'model_id': 'amazon.titan-text-lite-v1', 'model_version': '*', 'model_name': 'amazon.titan-text-lite-v1', 'ep_name': 'amazon.titan-text-lite-v1', 'instance_type': 'amazon.titan-text-lite-v1', 'image_uri': None, 'deploy': False, 'instance_count': None, 'deployment_script': None, 'inference_script': 'bedrock_predictor.py', 'inference_spec': {'split_input_and_parameters': False, 'parameter_set': 'bedrock', 'parameters': {'temperature': 0.1, 'max_tokens': 100, 'top_p': 0.92, 'caching': False}}, 'payload_files': ['payload_en_1-500.jsonl', 'payload_en_500-1000.jsonl'], 'concurrency_levels': [1, 2], 'env': None, 'bucket': 'sagemaker-fmbench-write-us-west-2-387192758086'}, {'name': 'amazon.titan-text-express-v1', 'model_id': 'amazon.titan-text-express-v1', 'model_version': '*', 'model_name': 'amazon.titan-text-express-v1', 'ep_name': 'amazon.titan-text-express-v1', 'instance_type': 'amazon.titan-text-express-v1', 'image_uri': None, 'deploy': False, 'instance_count': None, 'deployment_script': None, 'inference_script': 'bedrock_predictor.py', 'inference_spec': {'split_input_and_parameters': False, 'parameter_set': 'bedrock', 'parameters': {'temperature': 0.1, 'max_tokens': 100, 'top_p': 0.92, 'caching': False}}, 'payload_files': ['payload_en_1-500.jsonl', 'payload_en_500-1000.jsonl'], 'concurrency_levels': [1, 2], 'env': None, 'bucket': 'sagemaker-fmbench-write-us-west-2-387192758086'}, {'name': 'anthropic.claude-3-sonnet-20240229-v1:0', 'model_id': 'anthropic.claude-3-sonnet-20240229-v1:0', 'model_version': '*', 'model_name': 'anthropic.claude-3-sonnet-20240229-v1:0', 'ep_name': 'anthropic.claude-3-sonnet-20240229-v1:0', 'instance_type': 'anthropic.claude-3-sonnet-20240229-v1:0', 'image_uri': None, 'deploy': False, 'instance_count': None, 'deployment_script': None, 'inference_script': 'bedrock_predictor.py', 'inference_spec': {'split_input_and_parameters': False, 'parameter_set': 'bedrock', 'parameters': {'temperature': 0.1, 'max_tokens': 100, 'top_p': 0.92, 'caching': False}}, 'payload_files': ['payload_en_1-500.jsonl', 'payload_en_500-1000.jsonl'], 'concurrency_levels': [1, 2], 'env': None, 'bucket': 'sagemaker-fmbench-write-us-west-2-387192758086'}, {'name': 'anthropic.claude-3-haiku-20240307-v1:0', 'model_id': 'anthropic.claude-3-haiku-20240307-v1:0', 'model_version': '*', 'model_name': 'anthropic.claude-3-haiku-20240307-v1:0', 'ep_name': 'anthropic.claude-3-haiku-20240307-v1:0', 'instance_type': 'anthropic.claude-3-haiku-20240307-v1:0', 'image_uri': None, 'deploy': False, 'instance_count': None, 'deployment_script': None, 'inference_script': 'bedrock_predictor.py', 'inference_spec': {'split_input_and_parameters': False, 'parameter_set': 'bedrock', 'parameters': {'temperature': 0.1, 'max_tokens': 100, 'top_p': 0.92, 'caching': False}}, 'payload_files': ['payload_en_1-500.jsonl', 'payload_en_500-1000.jsonl'], 'concurrency_levels': [1, 2], 'env': None, 'bucket': 'sagemaker-fmbench-write-us-west-2-387192758086'}, {'name': 'cohere.command-text-v14', 'model_id': 'cohere.command-text-v14', 'model_version': '*', 'model_name': 'cohere.command-text-v14', 'ep_name': 'cohere.command-text-v14', 'instance_type': 'cohere.command-text-v14', 'image_uri': None, 'deploy': False, 'instance_count': None, 'deployment_script': None, 'inference_script': 'bedrock_predictor.py', 'inference_spec': {'split_input_and_parameters': False, 'parameter_set': 'bedrock', 'parameters': {'temperature': 0.1, 'max_tokens': 100, 'top_p': 0.92, 'caching': False}}, 'payload_files': ['payload_en_1-500.jsonl', 'payload_en_500-1000.jsonl'], 'concurrency_levels': [1, 2], 'env': None, 'bucket': 'sagemaker-fmbench-write-us-west-2-387192758086'}, {'name': 'cohere.command-light-text-v14', 'model_id': 'cohere.command-light-text-v14', 'model_version': '*', 'model_name': 'cohere.command-light-text-v14', 'ep_name': 'cohere.command-light-text-v14', 'instance_type': 'cohere.command-light-text-v14', 'image_uri': None, 'deploy': False, 'instance_count': None, 'deployment_script': None, 'inference_script': 'bedrock_predictor.py', 'inference_spec': {'split_input_and_parameters': False, 'parameter_set': 'bedrock', 'parameters': {'temperature': 0.1, 'max_tokens': 100, 'top_p': 0.92, 'caching': False}}, 'payload_files': ['payload_en_1-500.jsonl', 'payload_en_500-1000.jsonl'], 'concurrency_levels': [1, 2], 'env': None, 'bucket': 'sagemaker-fmbench-write-us-west-2-387192758086'}, {'name': 'ai21.j2-mid-v1', 'model_id': 'ai21.j2-mid-v1', 'model_version': '*', 'model_name': 'ai21.j2-mid-v1', 'ep_name': 'ai21.j2-mid-v1', 'instance_type': 'ai21.j2-mid-v1', 'image_uri': None, 'deploy': False, 'instance_count': None, 'deployment_script': None, 'inference_script': 'bedrock_predictor.py', 'inference_spec': {'split_input_and_parameters': False, 'parameter_set': 'bedrock', 'parameters': {'temperature': 0.1, 'max_tokens': 100, 'top_p': 0.92, 'caching': False}}, 'payload_files': ['payload_en_1-500.jsonl', 'payload_en_500-1000.jsonl'], 'concurrency_levels': [1, 2], 'env': None, 'bucket': 'sagemaker-fmbench-write-us-west-2-387192758086'}, {'name': 'ai21.j2-ultra-v1', 'model_id': 'ai21.j2-ultra-v1', 'model_version': '*', 'model_name': 'ai21.j2-ultra-v1', 'ep_name': 'ai21.j2-ultra-v1', 'instance_type': 'ai21.j2-ultra-v1', 'image_uri': None, 'deploy': False, 'instance_count': None, 'deployment_script': None, 'inference_script': 'bedrock_predictor.py', 'inference_spec': {'split_input_and_parameters': False, 'parameter_set': 'bedrock', 'parameters': {'temperature': 0.1, 'max_tokens': 100, 'top_p': 0.92, 'caching': False}}, 'payload_files': ['payload_en_1-500.jsonl', 'payload_en_500-1000.jsonl'], 'concurrency_levels': [1, 2], 'env': None, 'bucket': 'sagemaker-fmbench-write-us-west-2-387192758086'}], 'report': {'latency_budget': 2, 'cosine_similarity_budget': 0.3, 'accuracy_budget': 1, 'accuracy_error_rate_budget': 0, 'cost_per_10k_txn_budget': 50, 'error_rate_budget': 0, 'per_inference_request_file': 'per_inference_request_results.csv', 'all_metrics_file': 'all_metrics.csv', 'txn_count_for_showing_cost': 10000, 'v_shift_w_single_instance': 0.025, 'v_shift_w_gt_one_instance': 0.025}}\n",
      "CustomTokenizer, based on HF transformers, sagemaker-fmbench-read-us-west-2-387192758086 prefix: llama2_tokenizer local_dir: tokenizer\n",
      "CustomTokenizer, all_files = [PosixPath('tokenizer/tokenizer.json'), PosixPath('tokenizer/config.json')]\n",
      "loading the provided tokenizer from local_dir=tokenizer, abs_path=/home/ec2-user/SageMaker/foundation-model-benchmarking-tool/src/fmbench/tokenizer\n",
      "successfully loaded the tokenizer using AutoTokenizer.from_pretrained\n"
     ]
    }
   ],
   "source": [
    "import io\n",
    "import ray\n",
    "import math\n",
    "import time\n",
    "import json\n",
    "import torch\n",
    "import tempfile\n",
    "import datetime\n",
    "import matplotlib\n",
    "import numpy as np\n",
    "import pandas as pd\n",
    "from numpy import dot\n",
    "from numpy.linalg import norm\n",
    "from litellm import completion\n",
    "from sentence_transformers import SentenceTransformer\n",
    "\n",
    "# Import seaborn and other related libraries for visualizations and plotting charts\n",
    "import seaborn as sns\n",
    "from pathlib import Path\n",
    "from tomark import Tomark\n",
    "from fmbench.utils import *\n",
    "from fmbench.globals import *\n",
    "from datetime import datetime\n",
    "from datetime import timezone\n",
    "from dateutil.parser import parse\n",
    "from typing import List, Optional, Dict\n",
    "import importlib.resources as pkg_resources\n",
    "from fmbench import __version__ as fmbench_version"
   ]
  },
  {
   "cell_type": "code",
   "execution_count": 3,
   "metadata": {
    "tags": []
   },
   "outputs": [],
   "source": [
    "logging.basicConfig(format='[%(asctime)s] p%(process)s {%(filename)s:%(lineno)d} %(levelname)s - %(message)s', level=logging.INFO)\n",
    "logger = logging.getLogger(__name__)"
   ]
  },
  {
   "cell_type": "code",
   "execution_count": 4,
   "metadata": {
    "tags": []
   },
   "outputs": [
    {
     "name": "stderr",
     "output_type": "stream",
     "text": [
      "2024-07-12 16:35:41,603\tINFO worker.py:1788 -- Started a local Ray instance.\n"
     ]
    },
    {
     "data": {
      "application/vnd.jupyter.widget-view+json": {
       "model_id": "9cfb069838c948d7817bccf603fb26e1",
       "version_major": 2,
       "version_minor": 0
      },
      "text/html": [
       "<div class=\"lm-Widget p-Widget lm-Panel p-Panel jp-Cell-outputWrapper\">\n",
       "    <div style=\"margin-left: 50px;display: flex;flex-direction: row;align-items: center\">\n",
       "        <div class=\"jp-RenderedHTMLCommon\" style=\"display: flex; flex-direction: row;\">\n",
       "  <svg viewBox=\"0 0 567 224\" fill=\"none\" xmlns=\"http://www.w3.org/2000/svg\" style=\"height: 3em;\">\n",
       "    <g clip-path=\"url(#clip0_4338_178347)\">\n",
       "        <path d=\"M341.29 165.561H355.29L330.13 129.051C345.63 123.991 354.21 112.051 354.21 94.2307C354.21 71.3707 338.72 58.1807 311.88 58.1807H271V165.561H283.27V131.661H311.8C314.25 131.661 316.71 131.501 319.01 131.351L341.25 165.561H341.29ZM283.29 119.851V70.0007H311.82C331.3 70.0007 342.34 78.2907 342.34 94.5507C342.34 111.271 331.34 119.861 311.82 119.861L283.29 119.851ZM451.4 138.411L463.4 165.561H476.74L428.74 58.1807H416L367.83 165.561H380.83L392.83 138.411H451.4ZM446.19 126.601H398L422 72.1407L446.24 126.601H446.19ZM526.11 128.741L566.91 58.1807H554.35L519.99 114.181L485.17 58.1807H472.44L514.01 129.181V165.541H526.13V128.741H526.11Z\" fill=\"var(--jp-ui-font-color0)\"/>\n",
       "        <path d=\"M82.35 104.44C84.0187 97.8827 87.8248 92.0678 93.1671 87.9146C98.5094 83.7614 105.083 81.5067 111.85 81.5067C118.617 81.5067 125.191 83.7614 130.533 87.9146C135.875 92.0678 139.681 97.8827 141.35 104.44H163.75C164.476 101.562 165.622 98.8057 167.15 96.2605L127.45 56.5605C121.071 60.3522 113.526 61.6823 106.235 60.3005C98.9443 58.9187 92.4094 54.9203 87.8602 49.0574C83.3109 43.1946 81.0609 35.8714 81.5332 28.4656C82.0056 21.0599 85.1679 14.0819 90.4252 8.8446C95.6824 3.60726 102.672 0.471508 110.08 0.0272655C117.487 -0.416977 124.802 1.86091 130.647 6.4324C136.493 11.0039 140.467 17.5539 141.821 24.8501C143.175 32.1463 141.816 39.6859 138 46.0505L177.69 85.7505C182.31 82.9877 187.58 81.4995 192.962 81.4375C198.345 81.3755 203.648 82.742 208.33 85.3976C213.012 88.0532 216.907 91.9029 219.616 96.5544C222.326 101.206 223.753 106.492 223.753 111.875C223.753 117.258 222.326 122.545 219.616 127.197C216.907 131.848 213.012 135.698 208.33 138.353C203.648 141.009 198.345 142.375 192.962 142.313C187.58 142.251 182.31 140.763 177.69 138L138 177.7C141.808 184.071 143.155 191.614 141.79 198.91C140.424 206.205 136.44 212.75 130.585 217.313C124.731 221.875 117.412 224.141 110.004 223.683C102.596 223.226 95.6103 220.077 90.3621 214.828C85.1139 209.58 81.9647 202.595 81.5072 195.187C81.0497 187.779 83.3154 180.459 87.878 174.605C92.4405 168.751 98.9853 164.766 106.281 163.401C113.576 162.035 121.119 163.383 127.49 167.19L167.19 127.49C165.664 124.941 164.518 122.182 163.79 119.3H141.39C139.721 125.858 135.915 131.673 130.573 135.826C125.231 139.98 118.657 142.234 111.89 142.234C105.123 142.234 98.5494 139.98 93.2071 135.826C87.8648 131.673 84.0587 125.858 82.39 119.3H60C58.1878 126.495 53.8086 132.78 47.6863 136.971C41.5641 141.163 34.1211 142.972 26.7579 142.059C19.3947 141.146 12.6191 137.574 7.70605 132.014C2.79302 126.454 0.0813599 119.29 0.0813599 111.87C0.0813599 104.451 2.79302 97.2871 7.70605 91.7272C12.6191 86.1673 19.3947 82.5947 26.7579 81.6817C34.1211 80.7686 41.5641 82.5781 47.6863 86.7696C53.8086 90.9611 58.1878 97.2456 60 104.44H82.35ZM100.86 204.32C103.407 206.868 106.759 208.453 110.345 208.806C113.93 209.159 117.527 208.258 120.522 206.256C123.517 204.254 125.725 201.276 126.771 197.828C127.816 194.38 127.633 190.677 126.253 187.349C124.874 184.021 122.383 181.274 119.205 179.577C116.027 177.88 112.359 177.337 108.826 178.042C105.293 178.746 102.113 180.654 99.8291 183.44C97.5451 186.226 96.2979 189.718 96.3 193.32C96.2985 195.364 96.7006 197.388 97.4831 199.275C98.2656 201.163 99.4132 202.877 100.86 204.32ZM204.32 122.88C206.868 120.333 208.453 116.981 208.806 113.396C209.159 109.811 208.258 106.214 206.256 103.219C204.254 100.223 201.275 98.0151 197.827 96.97C194.38 95.9249 190.676 96.1077 187.348 97.4873C184.02 98.8669 181.274 101.358 179.577 104.536C177.879 107.714 177.337 111.382 178.041 114.915C178.746 118.448 180.653 121.627 183.439 123.911C186.226 126.195 189.717 127.443 193.32 127.44C195.364 127.443 197.388 127.042 199.275 126.259C201.163 125.476 202.878 124.328 204.32 122.88ZM122.88 19.4205C120.333 16.8729 116.981 15.2876 113.395 14.9347C109.81 14.5817 106.213 15.483 103.218 17.4849C100.223 19.4868 98.0146 22.4654 96.9696 25.9131C95.9245 29.3608 96.1073 33.0642 97.4869 36.3922C98.8665 39.7202 101.358 42.4668 104.535 44.1639C107.713 45.861 111.381 46.4036 114.914 45.6992C118.447 44.9949 121.627 43.0871 123.911 40.301C126.195 37.515 127.442 34.0231 127.44 30.4205C127.44 28.3772 127.038 26.3539 126.255 24.4664C125.473 22.5788 124.326 20.8642 122.88 19.4205ZM19.42 100.86C16.8725 103.408 15.2872 106.76 14.9342 110.345C14.5813 113.93 15.4826 117.527 17.4844 120.522C19.4863 123.518 22.4649 125.726 25.9127 126.771C29.3604 127.816 33.0638 127.633 36.3918 126.254C39.7198 124.874 42.4664 122.383 44.1635 119.205C45.8606 116.027 46.4032 112.359 45.6988 108.826C44.9944 105.293 43.0866 102.114 40.3006 99.8296C37.5145 97.5455 34.0227 96.2983 30.42 96.3005C26.2938 96.3018 22.337 97.9421 19.42 100.86ZM100.86 100.86C98.3125 103.408 96.7272 106.76 96.3742 110.345C96.0213 113.93 96.9226 117.527 98.9244 120.522C100.926 123.518 103.905 125.726 107.353 126.771C110.8 127.816 114.504 127.633 117.832 126.254C121.16 124.874 123.906 122.383 125.604 119.205C127.301 116.027 127.843 112.359 127.139 108.826C126.434 105.293 124.527 102.114 121.741 99.8296C118.955 97.5455 115.463 96.2983 111.86 96.3005C109.817 96.299 107.793 96.701 105.905 97.4835C104.018 98.2661 102.303 99.4136 100.86 100.86Z\" fill=\"#00AEEF\"/>\n",
       "    </g>\n",
       "    <defs>\n",
       "        <clipPath id=\"clip0_4338_178347\">\n",
       "            <rect width=\"566.93\" height=\"223.75\" fill=\"white\"/>\n",
       "        </clipPath>\n",
       "    </defs>\n",
       "  </svg>\n",
       "</div>\n",
       "\n",
       "        <table class=\"jp-RenderedHTMLCommon\" style=\"border-collapse: collapse;color: var(--jp-ui-font-color1);font-size: var(--jp-ui-font-size1);\">\n",
       "    <tr>\n",
       "        <td style=\"text-align: left\"><b>Python version:</b></td>\n",
       "        <td style=\"text-align: left\"><b>3.11.9</b></td>\n",
       "    </tr>\n",
       "    <tr>\n",
       "        <td style=\"text-align: left\"><b>Ray version:</b></td>\n",
       "        <td style=\"text-align: left\"><b>2.32.0</b></td>\n",
       "    </tr>\n",
       "    \n",
       "</table>\n",
       "\n",
       "    </div>\n",
       "</div>\n"
      ],
      "text/plain": [
       "RayContext(dashboard_url='', python_version='3.11.9', ray_version='2.32.0', ray_commit='607f2f30f5f21543b6a5568ee77ea779eeba30a8')"
      ]
     },
     "execution_count": 4,
     "metadata": {},
     "output_type": "execute_result"
    },
    {
     "name": "stdout",
     "output_type": "stream",
     "text": [
      "\u001b[36m(async_run_eval pid=27749)\u001b[0m async_run_eval, i=1, total=10, judge_model_info=anthropic.claude-3-haiku-20240307-v1:0, eval_method: max_voting, uuid: 6e77fb90ea804956a115b0268df059b0\n",
      "\u001b[36m(async_run_eval pid=27749)\u001b[0m run_eval, row 1/10, judge_model_id=anthropic.claude-3-haiku-20240307-v1:0, candidate model=mistral.mistral-7b-instruct-v0:2\n",
      "\u001b[36m(async_run_eval pid=27749)\u001b[0m get_inference, model_id=anthropic.claude-3-haiku-20240307-v1:0\n",
      "\u001b[36m(async_run_eval pid=27750)\u001b[0m Invoking bedrock/anthropic.claude-3-haiku-20240307-v1:0......\n",
      "\u001b[36m(async_run_eval pid=27750)\u001b[0m \n",
      "\u001b[36m(async_run_eval pid=27750)\u001b[0m async_run_eval, i=6, total=10, judge_model_info=anthropic.claude-3-haiku-20240307-v1:0, eval_method: max_voting, uuid: bbf3e53076c3497aba6e0cd8eba686fd\u001b[32m [repeated 24x across cluster] (Ray deduplicates logs by default. Set RAY_DEDUP_LOGS=0 to disable log deduplication, or see https://docs.ray.io/en/master/ray-observability/user-guides/configure-logging.html#log-deduplication for more options.)\u001b[0m\n",
      "\u001b[36m(async_run_eval pid=27750)\u001b[0m run_eval, row 6/10, judge_model_id=anthropic.claude-3-haiku-20240307-v1:0, candidate model=mistral.mistral-7b-instruct-v0:2\u001b[32m [repeated 24x across cluster]\u001b[0m\n",
      "\u001b[36m(async_run_eval pid=27750)\u001b[0m get_inference, model_id=anthropic.claude-3-haiku-20240307-v1:0\u001b[32m [repeated 24x across cluster]\u001b[0m\n",
      "\u001b[36m(async_run_eval pid=27750)\u001b[0m Invoking bedrock/anthropic.claude-3-haiku-20240307-v1:0......\u001b[32m [repeated 24x across cluster]\u001b[0m\n",
      "\u001b[36m(async_run_eval pid=27751)\u001b[0m async_run_eval, i=5, total=10, judge_model_info=anthropic.claude-3-haiku-20240307-v1:0, eval_method: max_voting, uuid: 6004e00fb1d64a0f9d50cdfe712f1066\u001b[32m [repeated 20x across cluster]\u001b[0m\n",
      "\u001b[36m(async_run_eval pid=27751)\u001b[0m run_eval, row 5/10, judge_model_id=anthropic.claude-3-haiku-20240307-v1:0, candidate model=mistral.mixtral-8x7b-instruct-v0:1\u001b[32m [repeated 20x across cluster]\u001b[0m\n",
      "\u001b[36m(async_run_eval pid=27751)\u001b[0m get_inference, model_id=anthropic.claude-3-haiku-20240307-v1:0\u001b[32m [repeated 20x across cluster]\u001b[0m\n",
      "\u001b[36m(async_run_eval pid=27751)\u001b[0m Invoking bedrock/anthropic.claude-3-haiku-20240307-v1:0......\u001b[32m [repeated 20x across cluster]\u001b[0m\n",
      "\u001b[36m(async_run_eval pid=27750)\u001b[0m async_run_eval, i=8, total=10, judge_model_info=anthropic.claude-3-haiku-20240307-v1:0, eval_method: max_voting, uuid: b259ed41b8894b9a887b8a16f453896c\u001b[32m [repeated 21x across cluster]\u001b[0m\n",
      "\u001b[36m(async_run_eval pid=27750)\u001b[0m run_eval, row 8/10, judge_model_id=anthropic.claude-3-haiku-20240307-v1:0, candidate model=meta.llama2-13b-chat-v1\u001b[32m [repeated 21x across cluster]\u001b[0m\n",
      "\u001b[36m(async_run_eval pid=27750)\u001b[0m get_inference, model_id=anthropic.claude-3-haiku-20240307-v1:0\u001b[32m [repeated 21x across cluster]\u001b[0m\n",
      "\u001b[36m(async_run_eval pid=27750)\u001b[0m Invoking bedrock/anthropic.claude-3-haiku-20240307-v1:0......\u001b[32m [repeated 21x across cluster]\u001b[0m\n",
      "\u001b[36m(async_run_eval pid=27748)\u001b[0m async_run_eval, i=8, total=10, judge_model_info=anthropic.claude-3-haiku-20240307-v1:0, eval_method: max_voting, uuid: ecd1f7517ada4a1998e3e309fda90173\u001b[32m [repeated 22x across cluster]\u001b[0m\n",
      "\u001b[36m(async_run_eval pid=27748)\u001b[0m run_eval, row 8/10, judge_model_id=anthropic.claude-3-haiku-20240307-v1:0, candidate model=meta.llama2-13b-chat-v1\u001b[32m [repeated 22x across cluster]\u001b[0m\n",
      "\u001b[36m(async_run_eval pid=27748)\u001b[0m get_inference, model_id=anthropic.claude-3-haiku-20240307-v1:0\u001b[32m [repeated 22x across cluster]\u001b[0m\n",
      "\u001b[36m(async_run_eval pid=27748)\u001b[0m Invoking bedrock/anthropic.claude-3-haiku-20240307-v1:0......\u001b[32m [repeated 22x across cluster]\u001b[0m\n",
      "\u001b[36m(async_run_eval pid=27749)\u001b[0m async_run_eval, i=10, total=10, judge_model_info=anthropic.claude-3-haiku-20240307-v1:0, eval_method: max_voting, uuid: 82dad7cf62af48029f4d78cb43bb55da\u001b[32m [repeated 21x across cluster]\u001b[0m\n",
      "\u001b[36m(async_run_eval pid=27749)\u001b[0m run_eval, row 10/10, judge_model_id=anthropic.claude-3-haiku-20240307-v1:0, candidate model=meta.llama2-70b-chat-v1\u001b[32m [repeated 21x across cluster]\u001b[0m\n",
      "\u001b[36m(async_run_eval pid=27749)\u001b[0m get_inference, model_id=anthropic.claude-3-haiku-20240307-v1:0\u001b[32m [repeated 21x across cluster]\u001b[0m\n",
      "\u001b[36m(async_run_eval pid=27749)\u001b[0m Invoking bedrock/anthropic.claude-3-haiku-20240307-v1:0......\u001b[32m [repeated 21x across cluster]\u001b[0m\n",
      "\u001b[36m(async_run_eval pid=27751)\u001b[0m async_run_eval, i=9, total=10, judge_model_info=anthropic.claude-3-haiku-20240307-v1:0, eval_method: max_voting, uuid: fc0f8a5ffd6240e7986880cdecd675b5\u001b[32m [repeated 20x across cluster]\u001b[0m\n",
      "\u001b[36m(async_run_eval pid=27751)\u001b[0m run_eval, row 9/10, judge_model_id=anthropic.claude-3-haiku-20240307-v1:0, candidate model=amazon.titan-text-lite-v1\u001b[32m [repeated 20x across cluster]\u001b[0m\n",
      "\u001b[36m(async_run_eval pid=27751)\u001b[0m get_inference, model_id=anthropic.claude-3-haiku-20240307-v1:0\u001b[32m [repeated 20x across cluster]\u001b[0m\n",
      "\u001b[36m(async_run_eval pid=27751)\u001b[0m Invoking bedrock/anthropic.claude-3-haiku-20240307-v1:0......\u001b[32m [repeated 20x across cluster]\u001b[0m\n",
      "\u001b[36m(async_run_eval pid=27749)\u001b[0m async_run_eval, i=9, total=10, judge_model_info=anthropic.claude-3-haiku-20240307-v1:0, eval_method: max_voting, uuid: 02274eab2f3845069d602b916bce8355\u001b[32m [repeated 20x across cluster]\u001b[0m\n",
      "\u001b[36m(async_run_eval pid=27749)\u001b[0m run_eval, row 9/10, judge_model_id=anthropic.claude-3-haiku-20240307-v1:0, candidate model=amazon.titan-text-lite-v1\u001b[32m [repeated 20x across cluster]\u001b[0m\n",
      "\u001b[36m(async_run_eval pid=27749)\u001b[0m get_inference, model_id=anthropic.claude-3-haiku-20240307-v1:0\u001b[32m [repeated 20x across cluster]\u001b[0m\n",
      "\u001b[36m(async_run_eval pid=27749)\u001b[0m Invoking bedrock/anthropic.claude-3-haiku-20240307-v1:0......\u001b[32m [repeated 20x across cluster]\u001b[0m\n",
      "\u001b[36m(async_run_eval pid=27749)\u001b[0m async_run_eval, i=9, total=10, judge_model_info=anthropic.claude-3-haiku-20240307-v1:0, eval_method: max_voting, uuid: bc1a795540f8457d80173fb6378f4af0\u001b[32m [repeated 20x across cluster]\u001b[0m\n",
      "\u001b[36m(async_run_eval pid=27749)\u001b[0m run_eval, row 9/10, judge_model_id=anthropic.claude-3-haiku-20240307-v1:0, candidate model=amazon.titan-text-express-v1\u001b[32m [repeated 20x across cluster]\u001b[0m\n",
      "\u001b[36m(async_run_eval pid=27749)\u001b[0m get_inference, model_id=anthropic.claude-3-haiku-20240307-v1:0\u001b[32m [repeated 20x across cluster]\u001b[0m\n",
      "\u001b[36m(async_run_eval pid=27749)\u001b[0m Invoking bedrock/anthropic.claude-3-haiku-20240307-v1:0......\u001b[32m [repeated 20x across cluster]\u001b[0m\n",
      "\u001b[36m(async_run_eval pid=27750)\u001b[0m async_run_eval, i=9, total=10, judge_model_info=anthropic.claude-3-haiku-20240307-v1:0, eval_method: max_voting, uuid: 907f244bb888482e9ac1b24503fad09f\u001b[32m [repeated 20x across cluster]\u001b[0m\n",
      "\u001b[36m(async_run_eval pid=27750)\u001b[0m run_eval, row 9/10, judge_model_id=anthropic.claude-3-haiku-20240307-v1:0, candidate model=anthropic.claude-3-sonnet-20240229-v1:0\u001b[32m [repeated 20x across cluster]\u001b[0m\n",
      "\u001b[36m(async_run_eval pid=27750)\u001b[0m get_inference, model_id=anthropic.claude-3-haiku-20240307-v1:0\u001b[32m [repeated 20x across cluster]\u001b[0m\n",
      "\u001b[36m(async_run_eval pid=27750)\u001b[0m Invoking bedrock/anthropic.claude-3-haiku-20240307-v1:0......\u001b[32m [repeated 20x across cluster]\u001b[0m\n",
      "\u001b[36m(async_run_eval pid=27748)\u001b[0m async_run_eval, i=8, total=10, judge_model_info=anthropic.claude-3-haiku-20240307-v1:0, eval_method: max_voting, uuid: a07f33abaca94d85a33c632a26510f40\u001b[32m [repeated 19x across cluster]\u001b[0m\n",
      "\u001b[36m(async_run_eval pid=27748)\u001b[0m run_eval, row 8/10, judge_model_id=anthropic.claude-3-haiku-20240307-v1:0, candidate model=anthropic.claude-3-sonnet-20240229-v1:0\u001b[32m [repeated 19x across cluster]\u001b[0m\n",
      "\u001b[36m(async_run_eval pid=27748)\u001b[0m get_inference, model_id=anthropic.claude-3-haiku-20240307-v1:0\u001b[32m [repeated 19x across cluster]\u001b[0m\n",
      "\u001b[36m(async_run_eval pid=27748)\u001b[0m Invoking bedrock/anthropic.claude-3-haiku-20240307-v1:0......\u001b[32m [repeated 19x across cluster]\u001b[0m\n",
      "\u001b[36m(async_run_eval pid=27748)\u001b[0m async_run_eval, i=5, total=10, judge_model_info=anthropic.claude-3-haiku-20240307-v1:0, eval_method: max_voting, uuid: f4201d6809c24075980027eb8d37650b\u001b[32m [repeated 17x across cluster]\u001b[0m\n",
      "\u001b[36m(async_run_eval pid=27748)\u001b[0m run_eval, row 5/10, judge_model_id=anthropic.claude-3-haiku-20240307-v1:0, candidate model=anthropic.claude-3-haiku-20240307-v1:0\u001b[32m [repeated 17x across cluster]\u001b[0m\n",
      "\u001b[36m(async_run_eval pid=27748)\u001b[0m get_inference, model_id=anthropic.claude-3-haiku-20240307-v1:0\u001b[32m [repeated 17x across cluster]\u001b[0m\n",
      "\u001b[36m(async_run_eval pid=27748)\u001b[0m Invoking bedrock/anthropic.claude-3-haiku-20240307-v1:0......\u001b[32m [repeated 17x across cluster]\u001b[0m\n",
      "\u001b[36m(async_run_eval pid=27749)\u001b[0m async_run_eval, i=6, total=10, judge_model_info=anthropic.claude-3-haiku-20240307-v1:0, eval_method: max_voting, uuid: 2decd83984eb49dd9ee081d39fff1f75\u001b[32m [repeated 20x across cluster]\u001b[0m\n",
      "\u001b[36m(async_run_eval pid=27749)\u001b[0m run_eval, row 6/10, judge_model_id=anthropic.claude-3-haiku-20240307-v1:0, candidate model=cohere.command-text-v14\u001b[32m [repeated 20x across cluster]\u001b[0m\n",
      "\u001b[36m(async_run_eval pid=27749)\u001b[0m get_inference, model_id=anthropic.claude-3-haiku-20240307-v1:0\u001b[32m [repeated 20x across cluster]\u001b[0m\n",
      "\u001b[36m(async_run_eval pid=27749)\u001b[0m Invoking bedrock/anthropic.claude-3-haiku-20240307-v1:0......\u001b[32m [repeated 20x across cluster]\u001b[0m\n",
      "\u001b[36m(async_run_eval pid=27748)\u001b[0m async_run_eval, i=8, total=10, judge_model_info=anthropic.claude-3-haiku-20240307-v1:0, eval_method: max_voting, uuid: 3f5ff2d749514bafb766da7e39140063\u001b[32m [repeated 23x across cluster]\u001b[0m\n",
      "\u001b[36m(async_run_eval pid=27748)\u001b[0m run_eval, row 8/10, judge_model_id=anthropic.claude-3-haiku-20240307-v1:0, candidate model=cohere.command-text-v14\u001b[32m [repeated 23x across cluster]\u001b[0m\n",
      "\u001b[36m(async_run_eval pid=27748)\u001b[0m get_inference, model_id=anthropic.claude-3-haiku-20240307-v1:0\u001b[32m [repeated 23x across cluster]\u001b[0m\n",
      "\u001b[36m(async_run_eval pid=27748)\u001b[0m Invoking bedrock/anthropic.claude-3-haiku-20240307-v1:0......\u001b[32m [repeated 23x across cluster]\u001b[0m\n",
      "\u001b[36m(async_run_eval pid=27748)\u001b[0m async_run_eval, i=7, total=10, judge_model_info=anthropic.claude-3-haiku-20240307-v1:0, eval_method: max_voting, uuid: 16bad2eb538b4f418542f1f645d2e012\u001b[32m [repeated 20x across cluster]\u001b[0m\n",
      "\u001b[36m(async_run_eval pid=27748)\u001b[0m run_eval, row 7/10, judge_model_id=anthropic.claude-3-haiku-20240307-v1:0, candidate model=cohere.command-light-text-v14\u001b[32m [repeated 20x across cluster]\u001b[0m\n",
      "\u001b[36m(async_run_eval pid=27748)\u001b[0m get_inference, model_id=anthropic.claude-3-haiku-20240307-v1:0\u001b[32m [repeated 20x across cluster]\u001b[0m\n",
      "\u001b[36m(async_run_eval pid=27750)\u001b[0m Invoking bedrock/anthropic.claude-3-haiku-20240307-v1:0......\u001b[32m [repeated 20x across cluster]\u001b[0m\n",
      "\u001b[36m(async_run_eval pid=27749)\u001b[0m async_run_eval, i=5, total=10, judge_model_info=anthropic.claude-3-haiku-20240307-v1:0, eval_method: max_voting, uuid: 6a57532a9343436db9c833cf499c0189\u001b[32m [repeated 17x across cluster]\u001b[0m\n",
      "\u001b[36m(async_run_eval pid=27749)\u001b[0m run_eval, row 5/10, judge_model_id=anthropic.claude-3-haiku-20240307-v1:0, candidate model=ai21.j2-mid-v1\u001b[32m [repeated 17x across cluster]\u001b[0m\n",
      "\u001b[36m(async_run_eval pid=27749)\u001b[0m get_inference, model_id=anthropic.claude-3-haiku-20240307-v1:0\u001b[32m [repeated 17x across cluster]\u001b[0m\n",
      "\u001b[36m(async_run_eval pid=27749)\u001b[0m Invoking bedrock/anthropic.claude-3-haiku-20240307-v1:0......\u001b[32m [repeated 17x across cluster]\u001b[0m\n",
      "\u001b[36m(async_run_eval pid=27751)\u001b[0m async_run_eval, i=9, total=10, judge_model_info=anthropic.claude-3-haiku-20240307-v1:0, eval_method: max_voting, uuid: 977db83eecc740adb2814e1223be1885\u001b[32m [repeated 24x across cluster]\u001b[0m\n",
      "\u001b[36m(async_run_eval pid=27751)\u001b[0m run_eval, row 9/10, judge_model_id=anthropic.claude-3-haiku-20240307-v1:0, candidate model=ai21.j2-mid-v1\u001b[32m [repeated 24x across cluster]\u001b[0m\n",
      "\u001b[36m(async_run_eval pid=27751)\u001b[0m get_inference, model_id=anthropic.claude-3-haiku-20240307-v1:0\u001b[32m [repeated 24x across cluster]\u001b[0m\n",
      "\u001b[36m(async_run_eval pid=27751)\u001b[0m Invoking bedrock/anthropic.claude-3-haiku-20240307-v1:0......\u001b[32m [repeated 24x across cluster]\u001b[0m\n",
      "\u001b[36m(async_run_eval pid=27750)\u001b[0m \n",
      "\u001b[36m(async_run_eval pid=27750)\u001b[0m \u001b[1;31mGive Feedback / Get Help: https://github.com/BerriAI/litellm/issues/new\u001b[0m\n",
      "\u001b[36m(async_run_eval pid=27750)\u001b[0m LiteLLM.Info: If you need to debug this error, use `litellm.set_verbose=True'.\n",
      "\u001b[36m(async_run_eval pid=27750)\u001b[0m \n"
     ]
    },
    {
     "name": "stderr",
     "output_type": "stream",
     "text": [
      "\u001b[36m(async_run_eval pid=27750)\u001b[0m Exception occurred during invoking anthropic.claude-3-haiku-20240307-v1:0, exception=BedrockException: Timeout Error - {\"message\":\"Model has timed out in processing the request. Try your request again.\"}\n"
     ]
    },
    {
     "name": "stdout",
     "output_type": "stream",
     "text": [
      "\u001b[36m(async_run_eval pid=27750)\u001b[0m async_run_eval, i=4, total=10, judge_model_info=anthropic.claude-3-haiku-20240307-v1:0, eval_method: max_voting, uuid: 715d1d30b18244279ff5c0fbf112f245\n",
      "\u001b[36m(async_run_eval pid=27750)\u001b[0m run_eval, row 4/10, judge_model_id=anthropic.claude-3-haiku-20240307-v1:0, candidate model=mistral.mistral-7b-instruct-v0:2\n",
      "\u001b[36m(async_run_eval pid=27750)\u001b[0m get_inference, model_id=anthropic.claude-3-haiku-20240307-v1:0\n",
      "\u001b[36m(async_run_eval pid=27750)\u001b[0m Invoking bedrock/anthropic.claude-3-haiku-20240307-v1:0......\n",
      "\u001b[36m(async_run_eval pid=27749)\u001b[0m async_run_eval, i=5, total=10, judge_model_info=anthropic.claude-3-haiku-20240307-v1:0, eval_method: max_voting, uuid: ea46fe7df1c24763b2332d518096d818\u001b[32m [repeated 24x across cluster]\u001b[0m\n",
      "\u001b[36m(async_run_eval pid=27749)\u001b[0m run_eval, row 5/10, judge_model_id=anthropic.claude-3-haiku-20240307-v1:0, candidate model=mistral.mistral-7b-instruct-v0:2\u001b[32m [repeated 24x across cluster]\u001b[0m\n",
      "\u001b[36m(async_run_eval pid=27749)\u001b[0m get_inference, model_id=anthropic.claude-3-haiku-20240307-v1:0\u001b[32m [repeated 24x across cluster]\u001b[0m\n",
      "\u001b[36m(async_run_eval pid=27749)\u001b[0m Invoking bedrock/anthropic.claude-3-haiku-20240307-v1:0......\u001b[32m [repeated 24x across cluster]\u001b[0m\n",
      "\u001b[36m(async_run_eval pid=27749)\u001b[0m async_run_eval, i=8, total=10, judge_model_info=anthropic.claude-3-haiku-20240307-v1:0, eval_method: max_voting, uuid: 8474db3a53a44ea39c280c669fa0ddee\u001b[32m [repeated 22x across cluster]\u001b[0m\n",
      "\u001b[36m(async_run_eval pid=27749)\u001b[0m run_eval, row 8/10, judge_model_id=anthropic.claude-3-haiku-20240307-v1:0, candidate model=mistral.mixtral-8x7b-instruct-v0:1\u001b[32m [repeated 22x across cluster]\u001b[0m\n",
      "\u001b[36m(async_run_eval pid=27749)\u001b[0m get_inference, model_id=anthropic.claude-3-haiku-20240307-v1:0\u001b[32m [repeated 22x across cluster]\u001b[0m\n",
      "\u001b[36m(async_run_eval pid=27749)\u001b[0m Invoking bedrock/anthropic.claude-3-haiku-20240307-v1:0......\u001b[32m [repeated 22x across cluster]\u001b[0m\n",
      "\u001b[36m(async_run_eval pid=27751)\u001b[0m async_run_eval, i=9, total=10, judge_model_info=anthropic.claude-3-haiku-20240307-v1:0, eval_method: max_voting, uuid: e16e231d948d4c0aa30c4e0fce68eba9\n",
      "\u001b[36m(async_run_eval pid=27751)\u001b[0m run_eval, row 9/10, judge_model_id=anthropic.claude-3-haiku-20240307-v1:0, candidate model=mistral.mixtral-8x7b-instruct-v0:1\n",
      "\u001b[36m(async_run_eval pid=27751)\u001b[0m get_inference, model_id=anthropic.claude-3-haiku-20240307-v1:0\n",
      "\u001b[36m(async_run_eval pid=27751)\u001b[0m Invoking bedrock/anthropic.claude-3-haiku-20240307-v1:0......\n",
      "\u001b[36m(async_run_eval pid=27750)\u001b[0m async_run_eval, i=4, total=10, judge_model_info=anthropic.claude-3-haiku-20240307-v1:0, eval_method: max_voting, uuid: 715d1d30b18244279ff5c0fbf112f245\u001b[32m [repeated 2x across cluster]\u001b[0m\n",
      "\u001b[36m(async_run_eval pid=27750)\u001b[0m run_eval, row 4/10, judge_model_id=anthropic.claude-3-haiku-20240307-v1:0, candidate model=mistral.mistral-7b-instruct-v0:2\u001b[32m [repeated 2x across cluster]\u001b[0m\n",
      "\u001b[36m(async_run_eval pid=27750)\u001b[0m get_inference, model_id=anthropic.claude-3-haiku-20240307-v1:0\u001b[32m [repeated 2x across cluster]\u001b[0m\n",
      "\u001b[36m(async_run_eval pid=27750)\u001b[0m Invoking bedrock/anthropic.claude-3-haiku-20240307-v1:0......\u001b[32m [repeated 2x across cluster]\u001b[0m\n",
      "\u001b[36m(async_run_eval pid=27749)\u001b[0m async_run_eval, i=5, total=10, judge_model_info=anthropic.claude-3-haiku-20240307-v1:0, eval_method: max_voting, uuid: ea46fe7df1c24763b2332d518096d818\u001b[32m [repeated 24x across cluster]\u001b[0m\n",
      "\u001b[36m(async_run_eval pid=27749)\u001b[0m run_eval, row 5/10, judge_model_id=anthropic.claude-3-haiku-20240307-v1:0, candidate model=mistral.mistral-7b-instruct-v0:2\u001b[32m [repeated 24x across cluster]\u001b[0m\n",
      "\u001b[36m(async_run_eval pid=27749)\u001b[0m get_inference, model_id=anthropic.claude-3-haiku-20240307-v1:0\u001b[32m [repeated 24x across cluster]\u001b[0m\n",
      "\u001b[36m(async_run_eval pid=27749)\u001b[0m Invoking bedrock/anthropic.claude-3-haiku-20240307-v1:0......\u001b[32m [repeated 24x across cluster]\u001b[0m\n",
      "\u001b[36m(async_run_eval pid=27749)\u001b[0m async_run_eval, i=9, total=10, judge_model_info=anthropic.claude-3-haiku-20240307-v1:0, eval_method: max_voting, uuid: b3d78d4d89b14126ab7517c28e030382\u001b[32m [repeated 24x across cluster]\u001b[0m\n",
      "\u001b[36m(async_run_eval pid=27749)\u001b[0m run_eval, row 9/10, judge_model_id=anthropic.claude-3-haiku-20240307-v1:0, candidate model=mistral.mixtral-8x7b-instruct-v0:1\u001b[32m [repeated 24x across cluster]\u001b[0m\n",
      "\u001b[36m(async_run_eval pid=27749)\u001b[0m get_inference, model_id=anthropic.claude-3-haiku-20240307-v1:0\u001b[32m [repeated 24x across cluster]\u001b[0m\n",
      "\u001b[36m(async_run_eval pid=27749)\u001b[0m Invoking bedrock/anthropic.claude-3-haiku-20240307-v1:0......\u001b[32m [repeated 24x across cluster]\u001b[0m\n",
      "\u001b[36m(async_run_eval pid=27751)\u001b[0m async_run_eval, i=9, total=10, judge_model_info=anthropic.claude-3-haiku-20240307-v1:0, eval_method: max_voting, uuid: 0b3aee64492642e989b1769f25364860\u001b[32m [repeated 20x across cluster]\u001b[0m\n",
      "\u001b[36m(async_run_eval pid=27751)\u001b[0m run_eval, row 9/10, judge_model_id=anthropic.claude-3-haiku-20240307-v1:0, candidate model=meta.llama2-13b-chat-v1\u001b[32m [repeated 20x across cluster]\u001b[0m\n",
      "\u001b[36m(async_run_eval pid=27751)\u001b[0m get_inference, model_id=anthropic.claude-3-haiku-20240307-v1:0\u001b[32m [repeated 20x across cluster]\u001b[0m\n",
      "\u001b[36m(async_run_eval pid=27751)\u001b[0m Invoking bedrock/anthropic.claude-3-haiku-20240307-v1:0......\u001b[32m [repeated 20x across cluster]\u001b[0m\n",
      "\u001b[36m(async_run_eval pid=27749)\u001b[0m async_run_eval, i=10, total=10, judge_model_info=anthropic.claude-3-haiku-20240307-v1:0, eval_method: max_voting, uuid: c5124cdb25b94111afd6d7a89c0146a0\u001b[32m [repeated 21x across cluster]\u001b[0m\n",
      "\u001b[36m(async_run_eval pid=27749)\u001b[0m run_eval, row 10/10, judge_model_id=anthropic.claude-3-haiku-20240307-v1:0, candidate model=meta.llama2-13b-chat-v1\u001b[32m [repeated 21x across cluster]\u001b[0m\n",
      "\u001b[36m(async_run_eval pid=27749)\u001b[0m get_inference, model_id=anthropic.claude-3-haiku-20240307-v1:0\u001b[32m [repeated 21x across cluster]\u001b[0m\n",
      "\u001b[36m(async_run_eval pid=27749)\u001b[0m Invoking bedrock/anthropic.claude-3-haiku-20240307-v1:0......\u001b[32m [repeated 21x across cluster]\u001b[0m\n",
      "\u001b[36m(async_run_eval pid=27750)\u001b[0m async_run_eval, i=1, total=10, judge_model_info=anthropic.claude-3-haiku-20240307-v1:0, eval_method: max_voting, uuid: e393cf10e50144d69bf0b7d00da572d6\u001b[32m [repeated 21x across cluster]\u001b[0m\n",
      "\u001b[36m(async_run_eval pid=27750)\u001b[0m run_eval, row 1/10, judge_model_id=anthropic.claude-3-haiku-20240307-v1:0, candidate model=meta.llama2-70b-chat-v1\u001b[32m [repeated 21x across cluster]\u001b[0m\n",
      "\u001b[36m(async_run_eval pid=27750)\u001b[0m get_inference, model_id=anthropic.claude-3-haiku-20240307-v1:0\u001b[32m [repeated 21x across cluster]\u001b[0m\n",
      "\u001b[36m(async_run_eval pid=27750)\u001b[0m Invoking bedrock/anthropic.claude-3-haiku-20240307-v1:0......\u001b[32m [repeated 21x across cluster]\u001b[0m\n",
      "\u001b[36m(async_run_eval pid=27750)\u001b[0m async_run_eval, i=2, total=10, judge_model_info=anthropic.claude-3-haiku-20240307-v1:0, eval_method: max_voting, uuid: 6064024f8591456d9239e6f2857cf6cf\u001b[32m [repeated 20x across cluster]\u001b[0m\n",
      "\u001b[36m(async_run_eval pid=27750)\u001b[0m run_eval, row 2/10, judge_model_id=anthropic.claude-3-haiku-20240307-v1:0, candidate model=amazon.titan-text-lite-v1\u001b[32m [repeated 20x across cluster]\u001b[0m\n",
      "\u001b[36m(async_run_eval pid=27750)\u001b[0m get_inference, model_id=anthropic.claude-3-haiku-20240307-v1:0\u001b[32m [repeated 20x across cluster]\u001b[0m\n",
      "\u001b[36m(async_run_eval pid=27750)\u001b[0m Invoking bedrock/anthropic.claude-3-haiku-20240307-v1:0......\u001b[32m [repeated 20x across cluster]\u001b[0m\n",
      "\u001b[36m(async_run_eval pid=27750)\u001b[0m async_run_eval, i=2, total=10, judge_model_info=anthropic.claude-3-haiku-20240307-v1:0, eval_method: max_voting, uuid: 8568a93534e1414288b26d8abb10fd1b\u001b[32m [repeated 20x across cluster]\u001b[0m\n",
      "\u001b[36m(async_run_eval pid=27750)\u001b[0m run_eval, row 2/10, judge_model_id=anthropic.claude-3-haiku-20240307-v1:0, candidate model=amazon.titan-text-express-v1\u001b[32m [repeated 20x across cluster]\u001b[0m\n",
      "\u001b[36m(async_run_eval pid=27750)\u001b[0m get_inference, model_id=anthropic.claude-3-haiku-20240307-v1:0\u001b[32m [repeated 20x across cluster]\u001b[0m\n",
      "\u001b[36m(async_run_eval pid=27748)\u001b[0m Invoking bedrock/anthropic.claude-3-haiku-20240307-v1:0......\u001b[32m [repeated 19x across cluster]\u001b[0m\n",
      "\u001b[36m(async_run_eval pid=27748)\u001b[0m async_run_eval, i=5, total=10, judge_model_info=anthropic.claude-3-haiku-20240307-v1:0, eval_method: max_voting, uuid: 17c41a849ba14d66893b9053a1610b04\u001b[32m [repeated 24x across cluster]\u001b[0m\n",
      "\u001b[36m(async_run_eval pid=27748)\u001b[0m run_eval, row 5/10, judge_model_id=anthropic.claude-3-haiku-20240307-v1:0, candidate model=amazon.titan-text-express-v1\u001b[32m [repeated 24x across cluster]\u001b[0m\n",
      "\u001b[36m(async_run_eval pid=27748)\u001b[0m get_inference, model_id=anthropic.claude-3-haiku-20240307-v1:0\u001b[32m [repeated 24x across cluster]\u001b[0m\n",
      "\u001b[36m(async_run_eval pid=27748)\u001b[0m Invoking bedrock/anthropic.claude-3-haiku-20240307-v1:0......\u001b[32m [repeated 25x across cluster]\u001b[0m\n",
      "\u001b[36m(async_run_eval pid=27751)\u001b[0m async_run_eval, i=5, total=10, judge_model_info=anthropic.claude-3-haiku-20240307-v1:0, eval_method: max_voting, uuid: 6bd604d8bfdd43ca8e90c610be95749e\u001b[32m [repeated 20x across cluster]\u001b[0m\n",
      "\u001b[36m(async_run_eval pid=27751)\u001b[0m run_eval, row 5/10, judge_model_id=anthropic.claude-3-haiku-20240307-v1:0, candidate model=anthropic.claude-3-sonnet-20240229-v1:0\u001b[32m [repeated 20x across cluster]\u001b[0m\n",
      "\u001b[36m(async_run_eval pid=27751)\u001b[0m get_inference, model_id=anthropic.claude-3-haiku-20240307-v1:0\u001b[32m [repeated 20x across cluster]\u001b[0m\n",
      "\u001b[36m(async_run_eval pid=27751)\u001b[0m Invoking bedrock/anthropic.claude-3-haiku-20240307-v1:0......\u001b[32m [repeated 20x across cluster]\u001b[0m\n",
      "\u001b[36m(async_run_eval pid=27748)\u001b[0m async_run_eval, i=6, total=10, judge_model_info=anthropic.claude-3-haiku-20240307-v1:0, eval_method: max_voting, uuid: 19c190c4b2cb41f5b1570fdfdc0657df\u001b[32m [repeated 20x across cluster]\u001b[0m\n",
      "\u001b[36m(async_run_eval pid=27748)\u001b[0m run_eval, row 6/10, judge_model_id=anthropic.claude-3-haiku-20240307-v1:0, candidate model=anthropic.claude-3-haiku-20240307-v1:0\u001b[32m [repeated 20x across cluster]\u001b[0m\n",
      "\u001b[36m(async_run_eval pid=27748)\u001b[0m get_inference, model_id=anthropic.claude-3-haiku-20240307-v1:0\u001b[32m [repeated 20x across cluster]\u001b[0m\n",
      "\u001b[36m(async_run_eval pid=27748)\u001b[0m Invoking bedrock/anthropic.claude-3-haiku-20240307-v1:0......\u001b[32m [repeated 20x across cluster]\u001b[0m\n",
      "\u001b[36m(async_run_eval pid=27748)\u001b[0m async_run_eval, i=7, total=10, judge_model_info=anthropic.claude-3-haiku-20240307-v1:0, eval_method: max_voting, uuid: 4ed5396c6976408092a0253337917325\u001b[32m [repeated 22x across cluster]\u001b[0m\n",
      "\u001b[36m(async_run_eval pid=27748)\u001b[0m run_eval, row 7/10, judge_model_id=anthropic.claude-3-haiku-20240307-v1:0, candidate model=anthropic.claude-3-haiku-20240307-v1:0\u001b[32m [repeated 22x across cluster]\u001b[0m\n",
      "\u001b[36m(async_run_eval pid=27748)\u001b[0m get_inference, model_id=anthropic.claude-3-haiku-20240307-v1:0\u001b[32m [repeated 22x across cluster]\u001b[0m\n",
      "\u001b[36m(async_run_eval pid=27748)\u001b[0m Invoking bedrock/anthropic.claude-3-haiku-20240307-v1:0......\u001b[32m [repeated 22x across cluster]\u001b[0m\n",
      "\u001b[36m(async_run_eval pid=27750)\u001b[0m async_run_eval, i=8, total=10, judge_model_info=anthropic.claude-3-haiku-20240307-v1:0, eval_method: max_voting, uuid: 38d8e0691fcf49f4bfcd55d7ca1e5533\u001b[32m [repeated 21x across cluster]\u001b[0m\n",
      "\u001b[36m(async_run_eval pid=27750)\u001b[0m run_eval, row 8/10, judge_model_id=anthropic.claude-3-haiku-20240307-v1:0, candidate model=cohere.command-text-v14\u001b[32m [repeated 21x across cluster]\u001b[0m\n",
      "\u001b[36m(async_run_eval pid=27750)\u001b[0m get_inference, model_id=anthropic.claude-3-haiku-20240307-v1:0\u001b[32m [repeated 21x across cluster]\u001b[0m\n",
      "\u001b[36m(async_run_eval pid=27750)\u001b[0m Invoking bedrock/anthropic.claude-3-haiku-20240307-v1:0......\u001b[32m [repeated 21x across cluster]\u001b[0m\n",
      "\u001b[36m(async_run_eval pid=27750)\u001b[0m async_run_eval, i=6, total=10, judge_model_info=anthropic.claude-3-haiku-20240307-v1:0, eval_method: max_voting, uuid: 4a97d7988c4145fdba3fd4750c80edc5\u001b[32m [repeated 17x across cluster]\u001b[0m\n",
      "\u001b[36m(async_run_eval pid=27750)\u001b[0m run_eval, row 6/10, judge_model_id=anthropic.claude-3-haiku-20240307-v1:0, candidate model=cohere.command-light-text-v14\u001b[32m [repeated 17x across cluster]\u001b[0m\n",
      "\u001b[36m(async_run_eval pid=27750)\u001b[0m get_inference, model_id=anthropic.claude-3-haiku-20240307-v1:0\u001b[32m [repeated 17x across cluster]\u001b[0m\n",
      "\u001b[36m(async_run_eval pid=27750)\u001b[0m Invoking bedrock/anthropic.claude-3-haiku-20240307-v1:0......\u001b[32m [repeated 17x across cluster]\u001b[0m\n",
      "\u001b[36m(async_run_eval pid=27748)\u001b[0m async_run_eval, i=5, total=10, judge_model_info=anthropic.claude-3-haiku-20240307-v1:0, eval_method: max_voting, uuid: 30439fd81b694badb11562440c8aa6ca\u001b[32m [repeated 20x across cluster]\u001b[0m\n",
      "\u001b[36m(async_run_eval pid=27748)\u001b[0m run_eval, row 5/10, judge_model_id=anthropic.claude-3-haiku-20240307-v1:0, candidate model=cohere.command-light-text-v14\u001b[32m [repeated 20x across cluster]\u001b[0m\n",
      "\u001b[36m(async_run_eval pid=27748)\u001b[0m get_inference, model_id=anthropic.claude-3-haiku-20240307-v1:0\u001b[32m [repeated 20x across cluster]\u001b[0m\n",
      "\u001b[36m(async_run_eval pid=27748)\u001b[0m Invoking bedrock/anthropic.claude-3-haiku-20240307-v1:0......\u001b[32m [repeated 20x across cluster]\u001b[0m\n",
      "\u001b[36m(async_run_eval pid=27750)\u001b[0m async_run_eval, i=8, total=10, judge_model_info=anthropic.claude-3-haiku-20240307-v1:0, eval_method: max_voting, uuid: ab443605f432415faa7f7cdc7bd676e6\u001b[32m [repeated 20x across cluster]\u001b[0m\n",
      "\u001b[36m(async_run_eval pid=27750)\u001b[0m run_eval, row 8/10, judge_model_id=anthropic.claude-3-haiku-20240307-v1:0, candidate model=ai21.j2-mid-v1\u001b[32m [repeated 20x across cluster]\u001b[0m\n",
      "\u001b[36m(async_run_eval pid=27750)\u001b[0m get_inference, model_id=anthropic.claude-3-haiku-20240307-v1:0\u001b[32m [repeated 20x across cluster]\u001b[0m\n",
      "\u001b[36m(async_run_eval pid=27750)\u001b[0m Invoking bedrock/anthropic.claude-3-haiku-20240307-v1:0......\u001b[32m [repeated 20x across cluster]\u001b[0m\n",
      "\u001b[36m(async_run_eval pid=27750)\u001b[0m async_run_eval, i=9, total=10, judge_model_info=anthropic.claude-3-haiku-20240307-v1:0, eval_method: max_voting, uuid: c1c6eec5994244d4bdbe7c607661ba97\u001b[32m [repeated 24x across cluster]\u001b[0m\n",
      "\u001b[36m(async_run_eval pid=27750)\u001b[0m run_eval, row 9/10, judge_model_id=anthropic.claude-3-haiku-20240307-v1:0, candidate model=ai21.j2-ultra-v1\u001b[32m [repeated 24x across cluster]\u001b[0m\n",
      "\u001b[36m(async_run_eval pid=27750)\u001b[0m get_inference, model_id=anthropic.claude-3-haiku-20240307-v1:0\u001b[32m [repeated 24x across cluster]\u001b[0m\n",
      "\u001b[36m(async_run_eval pid=27750)\u001b[0m Invoking bedrock/anthropic.claude-3-haiku-20240307-v1:0......\u001b[32m [repeated 24x across cluster]\u001b[0m\n",
      "\u001b[36m(async_run_eval pid=27750)\u001b[0m async_run_eval, i=4, total=10, judge_model_info=meta.llama3-70b-instruct-v1:0, eval_method: max_voting, uuid: 715d1d30b18244279ff5c0fbf112f245\u001b[32m [repeated 22x across cluster]\u001b[0m\n",
      "\u001b[36m(async_run_eval pid=27750)\u001b[0m run_eval, row 4/10, judge_model_id=meta.llama3-70b-instruct-v1:0, candidate model=mistral.mistral-7b-instruct-v0:2\u001b[32m [repeated 22x across cluster]\u001b[0m\n",
      "\u001b[36m(async_run_eval pid=27750)\u001b[0m get_inference, model_id=meta.llama3-70b-instruct-v1:0\u001b[32m [repeated 22x across cluster]\u001b[0m\n",
      "\u001b[36m(async_run_eval pid=27750)\u001b[0m Invoking bedrock/meta.llama3-70b-instruct-v1:0......\u001b[32m [repeated 22x across cluster]\u001b[0m\n",
      "\u001b[36m(async_run_eval pid=27750)\u001b[0m async_run_eval, i=5, total=10, judge_model_info=meta.llama3-70b-instruct-v1:0, eval_method: max_voting, uuid: f3e548a6770d41f79b3bba3d4bc2b9c4\u001b[32m [repeated 14x across cluster]\u001b[0m\n",
      "\u001b[36m(async_run_eval pid=27750)\u001b[0m run_eval, row 5/10, judge_model_id=meta.llama3-70b-instruct-v1:0, candidate model=mistral.mistral-7b-instruct-v0:2\u001b[32m [repeated 14x across cluster]\u001b[0m\n",
      "\u001b[36m(async_run_eval pid=27750)\u001b[0m get_inference, model_id=meta.llama3-70b-instruct-v1:0\u001b[32m [repeated 14x across cluster]\u001b[0m\n",
      "\u001b[36m(async_run_eval pid=27750)\u001b[0m Invoking bedrock/meta.llama3-70b-instruct-v1:0......\u001b[32m [repeated 14x across cluster]\u001b[0m\n",
      "\u001b[36m(async_run_eval pid=27751)\u001b[0m async_run_eval, i=9, total=10, judge_model_info=meta.llama3-70b-instruct-v1:0, eval_method: max_voting, uuid: 86dd3bb7b5b5432cbd5d626780814bea\u001b[32m [repeated 14x across cluster]\u001b[0m\n",
      "\u001b[36m(async_run_eval pid=27751)\u001b[0m run_eval, row 9/10, judge_model_id=meta.llama3-70b-instruct-v1:0, candidate model=mistral.mistral-7b-instruct-v0:2\u001b[32m [repeated 14x across cluster]\u001b[0m\n",
      "\u001b[36m(async_run_eval pid=27751)\u001b[0m get_inference, model_id=meta.llama3-70b-instruct-v1:0\u001b[32m [repeated 14x across cluster]\u001b[0m\n",
      "\u001b[36m(async_run_eval pid=27751)\u001b[0m Invoking bedrock/meta.llama3-70b-instruct-v1:0......\u001b[32m [repeated 14x across cluster]\u001b[0m\n",
      "\u001b[36m(async_run_eval pid=27750)\u001b[0m async_run_eval, i=1, total=10, judge_model_info=meta.llama3-70b-instruct-v1:0, eval_method: max_voting, uuid: 93ecf77e346f45d68a61dddab47be61f\u001b[32m [repeated 2x across cluster]\u001b[0m\n",
      "\u001b[36m(async_run_eval pid=27750)\u001b[0m run_eval, row 1/10, judge_model_id=meta.llama3-70b-instruct-v1:0, candidate model=mistral.mixtral-8x7b-instruct-v0:1\u001b[32m [repeated 2x across cluster]\u001b[0m\n",
      "\u001b[36m(async_run_eval pid=27750)\u001b[0m get_inference, model_id=meta.llama3-70b-instruct-v1:0\u001b[32m [repeated 2x across cluster]\u001b[0m\n",
      "\u001b[36m(async_run_eval pid=27750)\u001b[0m Invoking bedrock/meta.llama3-70b-instruct-v1:0......\u001b[32m [repeated 2x across cluster]\u001b[0m\n",
      "\u001b[36m(async_run_eval pid=27751)\u001b[0m async_run_eval, i=5, total=10, judge_model_info=meta.llama3-70b-instruct-v1:0, eval_method: max_voting, uuid: 6004e00fb1d64a0f9d50cdfe712f1066\u001b[32m [repeated 14x across cluster]\u001b[0m\n",
      "\u001b[36m(async_run_eval pid=27751)\u001b[0m run_eval, row 5/10, judge_model_id=meta.llama3-70b-instruct-v1:0, candidate model=mistral.mixtral-8x7b-instruct-v0:1\u001b[32m [repeated 14x across cluster]\u001b[0m\n",
      "\u001b[36m(async_run_eval pid=27751)\u001b[0m get_inference, model_id=meta.llama3-70b-instruct-v1:0\u001b[32m [repeated 14x across cluster]\u001b[0m\n",
      "\u001b[36m(async_run_eval pid=27751)\u001b[0m Invoking bedrock/meta.llama3-70b-instruct-v1:0......\u001b[32m [repeated 14x across cluster]\u001b[0m\n",
      "\u001b[36m(async_run_eval pid=27749)\u001b[0m async_run_eval, i=10, total=10, judge_model_info=meta.llama3-70b-instruct-v1:0, eval_method: max_voting, uuid: 316e32397b724c2fba1286d330d2faa2\u001b[32m [repeated 14x across cluster]\u001b[0m\n",
      "\u001b[36m(async_run_eval pid=27749)\u001b[0m run_eval, row 10/10, judge_model_id=meta.llama3-70b-instruct-v1:0, candidate model=mistral.mixtral-8x7b-instruct-v0:1\u001b[32m [repeated 14x across cluster]\u001b[0m\n",
      "\u001b[36m(async_run_eval pid=27749)\u001b[0m get_inference, model_id=meta.llama3-70b-instruct-v1:0\u001b[32m [repeated 14x across cluster]\u001b[0m\n",
      "\u001b[36m(async_run_eval pid=27751)\u001b[0m Invoking bedrock/meta.llama3-70b-instruct-v1:0......\u001b[32m [repeated 13x across cluster]\u001b[0m\n",
      "\u001b[36m(async_run_eval pid=27750)\u001b[0m async_run_eval, i=2, total=10, judge_model_info=meta.llama3-70b-instruct-v1:0, eval_method: max_voting, uuid: fb7ba4e4dabf43eba35c827457da875a\u001b[32m [repeated 12x across cluster]\u001b[0m\n",
      "\u001b[36m(async_run_eval pid=27750)\u001b[0m run_eval, row 2/10, judge_model_id=meta.llama3-70b-instruct-v1:0, candidate model=meta.llama2-13b-chat-v1\u001b[32m [repeated 12x across cluster]\u001b[0m\n",
      "\u001b[36m(async_run_eval pid=27750)\u001b[0m get_inference, model_id=meta.llama3-70b-instruct-v1:0\u001b[32m [repeated 12x across cluster]\u001b[0m\n",
      "\u001b[36m(async_run_eval pid=27750)\u001b[0m Invoking bedrock/meta.llama3-70b-instruct-v1:0......\u001b[32m [repeated 13x across cluster]\u001b[0m\n",
      "\u001b[36m(async_run_eval pid=27751)\u001b[0m async_run_eval, i=5, total=10, judge_model_info=meta.llama3-70b-instruct-v1:0, eval_method: max_voting, uuid: 93212ca167d5438d86f13901f77faa99\u001b[32m [repeated 14x across cluster]\u001b[0m\n",
      "\u001b[36m(async_run_eval pid=27751)\u001b[0m run_eval, row 5/10, judge_model_id=meta.llama3-70b-instruct-v1:0, candidate model=meta.llama2-13b-chat-v1\u001b[32m [repeated 14x across cluster]\u001b[0m\n",
      "\u001b[36m(async_run_eval pid=27751)\u001b[0m get_inference, model_id=meta.llama3-70b-instruct-v1:0\u001b[32m [repeated 14x across cluster]\u001b[0m\n",
      "\u001b[36m(async_run_eval pid=27751)\u001b[0m Invoking bedrock/meta.llama3-70b-instruct-v1:0......\u001b[32m [repeated 14x across cluster]\u001b[0m\n",
      "\u001b[36m(async_run_eval pid=27750)\u001b[0m async_run_eval, i=1, total=10, judge_model_info=meta.llama3-70b-instruct-v1:0, eval_method: max_voting, uuid: 4c3ad1b7251c40deaf40e199c4ab5b2e\u001b[32m [repeated 6x across cluster]\u001b[0m\n",
      "\u001b[36m(async_run_eval pid=27750)\u001b[0m run_eval, row 1/10, judge_model_id=meta.llama3-70b-instruct-v1:0, candidate model=meta.llama2-70b-chat-v1\u001b[32m [repeated 6x across cluster]\u001b[0m\n",
      "\u001b[36m(async_run_eval pid=27750)\u001b[0m get_inference, model_id=meta.llama3-70b-instruct-v1:0\u001b[32m [repeated 6x across cluster]\u001b[0m\n",
      "\u001b[36m(async_run_eval pid=27750)\u001b[0m Invoking bedrock/meta.llama3-70b-instruct-v1:0......\u001b[32m [repeated 6x across cluster]\u001b[0m\n",
      "\u001b[36m(async_run_eval pid=27750)\u001b[0m async_run_eval, i=5, total=10, judge_model_info=meta.llama3-70b-instruct-v1:0, eval_method: max_voting, uuid: e44dce33044a4352bbdd77e3caeaa4e3\u001b[32m [repeated 14x across cluster]\u001b[0m\n",
      "\u001b[36m(async_run_eval pid=27750)\u001b[0m run_eval, row 5/10, judge_model_id=meta.llama3-70b-instruct-v1:0, candidate model=meta.llama2-70b-chat-v1\u001b[32m [repeated 14x across cluster]\u001b[0m\n",
      "\u001b[36m(async_run_eval pid=27750)\u001b[0m get_inference, model_id=meta.llama3-70b-instruct-v1:0\u001b[32m [repeated 14x across cluster]\u001b[0m\n",
      "\u001b[36m(async_run_eval pid=27750)\u001b[0m Invoking bedrock/meta.llama3-70b-instruct-v1:0......\u001b[32m [repeated 14x across cluster]\u001b[0m\n",
      "\u001b[36m(async_run_eval pid=27751)\u001b[0m async_run_eval, i=9, total=10, judge_model_info=meta.llama3-70b-instruct-v1:0, eval_method: max_voting, uuid: 794a7e9a2e184aa68e0444a00c546034\u001b[32m [repeated 14x across cluster]\u001b[0m\n",
      "\u001b[36m(async_run_eval pid=27751)\u001b[0m run_eval, row 9/10, judge_model_id=meta.llama3-70b-instruct-v1:0, candidate model=meta.llama2-70b-chat-v1\u001b[32m [repeated 14x across cluster]\u001b[0m\n",
      "\u001b[36m(async_run_eval pid=27751)\u001b[0m get_inference, model_id=meta.llama3-70b-instruct-v1:0\u001b[32m [repeated 14x across cluster]\u001b[0m\n",
      "\u001b[36m(async_run_eval pid=27751)\u001b[0m Invoking bedrock/meta.llama3-70b-instruct-v1:0......\u001b[32m [repeated 14x across cluster]\u001b[0m\n",
      "\u001b[36m(async_run_eval pid=27750)\u001b[0m async_run_eval, i=3, total=10, judge_model_info=meta.llama3-70b-instruct-v1:0, eval_method: max_voting, uuid: 64b1ada22bf74c8f8359fa07c541b9eb\u001b[32m [repeated 12x across cluster]\u001b[0m\n",
      "\u001b[36m(async_run_eval pid=27750)\u001b[0m run_eval, row 3/10, judge_model_id=meta.llama3-70b-instruct-v1:0, candidate model=amazon.titan-text-lite-v1\u001b[32m [repeated 12x across cluster]\u001b[0m\n",
      "\u001b[36m(async_run_eval pid=27750)\u001b[0m get_inference, model_id=meta.llama3-70b-instruct-v1:0\u001b[32m [repeated 12x across cluster]\u001b[0m\n",
      "\u001b[36m(async_run_eval pid=27750)\u001b[0m Invoking bedrock/meta.llama3-70b-instruct-v1:0......\u001b[32m [repeated 12x across cluster]\u001b[0m\n",
      "\u001b[36m(async_run_eval pid=27750)\u001b[0m async_run_eval, i=5, total=10, judge_model_info=meta.llama3-70b-instruct-v1:0, eval_method: max_voting, uuid: 76b8bbd19f874d82a1796d0cc4e89a6a\u001b[32m [repeated 14x across cluster]\u001b[0m\n",
      "\u001b[36m(async_run_eval pid=27750)\u001b[0m run_eval, row 5/10, judge_model_id=meta.llama3-70b-instruct-v1:0, candidate model=amazon.titan-text-lite-v1\u001b[32m [repeated 14x across cluster]\u001b[0m\n",
      "\u001b[36m(async_run_eval pid=27750)\u001b[0m get_inference, model_id=meta.llama3-70b-instruct-v1:0\u001b[32m [repeated 14x across cluster]\u001b[0m\n",
      "\u001b[36m(async_run_eval pid=27750)\u001b[0m Invoking bedrock/meta.llama3-70b-instruct-v1:0......\u001b[32m [repeated 14x across cluster]\u001b[0m\n",
      "\u001b[36m(async_run_eval pid=27750)\u001b[0m async_run_eval, i=10, total=10, judge_model_info=meta.llama3-70b-instruct-v1:0, eval_method: max_voting, uuid: 4da9c48d70514629a2fb9abc91fc6414\u001b[32m [repeated 14x across cluster]\u001b[0m\n",
      "\u001b[36m(async_run_eval pid=27750)\u001b[0m run_eval, row 10/10, judge_model_id=meta.llama3-70b-instruct-v1:0, candidate model=amazon.titan-text-express-v1\u001b[32m [repeated 14x across cluster]\u001b[0m\n",
      "\u001b[36m(async_run_eval pid=27750)\u001b[0m get_inference, model_id=meta.llama3-70b-instruct-v1:0\u001b[32m [repeated 14x across cluster]\u001b[0m\n",
      "\u001b[36m(async_run_eval pid=27750)\u001b[0m Invoking bedrock/meta.llama3-70b-instruct-v1:0......\u001b[32m [repeated 14x across cluster]\u001b[0m\n",
      "\u001b[36m(async_run_eval pid=27748)\u001b[0m async_run_eval, i=10, total=10, judge_model_info=meta.llama3-70b-instruct-v1:0, eval_method: max_voting, uuid: a32db07f2aa14825b388bb042a544a71\u001b[32m [repeated 11x across cluster]\u001b[0m\n",
      "\u001b[36m(async_run_eval pid=27748)\u001b[0m run_eval, row 10/10, judge_model_id=meta.llama3-70b-instruct-v1:0, candidate model=amazon.titan-text-express-v1\u001b[32m [repeated 11x across cluster]\u001b[0m\n",
      "\u001b[36m(async_run_eval pid=27748)\u001b[0m get_inference, model_id=meta.llama3-70b-instruct-v1:0\u001b[32m [repeated 11x across cluster]\u001b[0m\n",
      "\u001b[36m(async_run_eval pid=27748)\u001b[0m Invoking bedrock/meta.llama3-70b-instruct-v1:0......\u001b[32m [repeated 11x across cluster]\u001b[0m\n",
      "\u001b[36m(async_run_eval pid=27750)\u001b[0m async_run_eval, i=1, total=10, judge_model_info=meta.llama3-70b-instruct-v1:0, eval_method: max_voting, uuid: 2de2ebc935d642d9afd3851721f156e8\u001b[32m [repeated 11x across cluster]\u001b[0m\n",
      "\u001b[36m(async_run_eval pid=27750)\u001b[0m run_eval, row 1/10, judge_model_id=meta.llama3-70b-instruct-v1:0, candidate model=anthropic.claude-3-sonnet-20240229-v1:0\u001b[32m [repeated 11x across cluster]\u001b[0m\n",
      "\u001b[36m(async_run_eval pid=27750)\u001b[0m get_inference, model_id=meta.llama3-70b-instruct-v1:0\u001b[32m [repeated 11x across cluster]\u001b[0m\n",
      "\u001b[36m(async_run_eval pid=27750)\u001b[0m Invoking bedrock/meta.llama3-70b-instruct-v1:0......\u001b[32m [repeated 11x across cluster]\u001b[0m\n",
      "\u001b[36m(async_run_eval pid=27748)\u001b[0m async_run_eval, i=5, total=10, judge_model_info=meta.llama3-70b-instruct-v1:0, eval_method: max_voting, uuid: 6bd604d8bfdd43ca8e90c610be95749e\u001b[32m [repeated 14x across cluster]\u001b[0m\n",
      "\u001b[36m(async_run_eval pid=27748)\u001b[0m run_eval, row 5/10, judge_model_id=meta.llama3-70b-instruct-v1:0, candidate model=anthropic.claude-3-sonnet-20240229-v1:0\u001b[32m [repeated 14x across cluster]\u001b[0m\n",
      "\u001b[36m(async_run_eval pid=27748)\u001b[0m get_inference, model_id=meta.llama3-70b-instruct-v1:0\u001b[32m [repeated 14x across cluster]\u001b[0m\n",
      "\u001b[36m(async_run_eval pid=27748)\u001b[0m Invoking bedrock/meta.llama3-70b-instruct-v1:0......\u001b[32m [repeated 14x across cluster]\u001b[0m\n",
      "\u001b[36m(async_run_eval pid=27749)\u001b[0m async_run_eval, i=9, total=10, judge_model_info=meta.llama3-70b-instruct-v1:0, eval_method: max_voting, uuid: 2fa89b32e68f47d0865a4ea34ba6e8bd\u001b[32m [repeated 14x across cluster]\u001b[0m\n",
      "\u001b[36m(async_run_eval pid=27749)\u001b[0m run_eval, row 9/10, judge_model_id=meta.llama3-70b-instruct-v1:0, candidate model=anthropic.claude-3-sonnet-20240229-v1:0\u001b[32m [repeated 14x across cluster]\u001b[0m\n",
      "\u001b[36m(async_run_eval pid=27749)\u001b[0m get_inference, model_id=meta.llama3-70b-instruct-v1:0\u001b[32m [repeated 14x across cluster]\u001b[0m\n",
      "\u001b[36m(async_run_eval pid=27749)\u001b[0m Invoking bedrock/meta.llama3-70b-instruct-v1:0......\u001b[32m [repeated 14x across cluster]\u001b[0m\n",
      "\u001b[36m(async_run_eval pid=27750)\u001b[0m async_run_eval, i=1, total=10, judge_model_info=meta.llama3-70b-instruct-v1:0, eval_method: max_voting, uuid: 374740e7f9df4ea2a560593568681599\u001b[32m [repeated 12x across cluster]\u001b[0m\n",
      "\u001b[36m(async_run_eval pid=27750)\u001b[0m run_eval, row 1/10, judge_model_id=meta.llama3-70b-instruct-v1:0, candidate model=anthropic.claude-3-haiku-20240307-v1:0\u001b[32m [repeated 12x across cluster]\u001b[0m\n",
      "\u001b[36m(async_run_eval pid=27750)\u001b[0m get_inference, model_id=meta.llama3-70b-instruct-v1:0\u001b[32m [repeated 12x across cluster]\u001b[0m\n",
      "\u001b[36m(async_run_eval pid=27750)\u001b[0m Invoking bedrock/meta.llama3-70b-instruct-v1:0......\u001b[32m [repeated 12x across cluster]\u001b[0m\n",
      "\u001b[36m(async_run_eval pid=27750)\u001b[0m async_run_eval, i=4, total=10, judge_model_info=meta.llama3-70b-instruct-v1:0, eval_method: max_voting, uuid: c75c8e21f6394568b1b92b74b55300f0\u001b[32m [repeated 10x across cluster]\u001b[0m\n",
      "\u001b[36m(async_run_eval pid=27750)\u001b[0m run_eval, row 4/10, judge_model_id=meta.llama3-70b-instruct-v1:0, candidate model=anthropic.claude-3-haiku-20240307-v1:0\u001b[32m [repeated 10x across cluster]\u001b[0m\n",
      "\u001b[36m(async_run_eval pid=27750)\u001b[0m get_inference, model_id=meta.llama3-70b-instruct-v1:0\u001b[32m [repeated 10x across cluster]\u001b[0m\n",
      "\u001b[36m(async_run_eval pid=27750)\u001b[0m Invoking bedrock/meta.llama3-70b-instruct-v1:0......\u001b[32m [repeated 10x across cluster]\u001b[0m\n",
      "\u001b[36m(async_run_eval pid=27749)\u001b[0m async_run_eval, i=7, total=10, judge_model_info=meta.llama3-70b-instruct-v1:0, eval_method: max_voting, uuid: 1b74fe0cb0734aae8f35555a6d0e441f\u001b[32m [repeated 14x across cluster]\u001b[0m\n",
      "\u001b[36m(async_run_eval pid=27749)\u001b[0m run_eval, row 7/10, judge_model_id=meta.llama3-70b-instruct-v1:0, candidate model=cohere.command-text-v14\u001b[32m [repeated 14x across cluster]\u001b[0m\n",
      "\u001b[36m(async_run_eval pid=27749)\u001b[0m get_inference, model_id=meta.llama3-70b-instruct-v1:0\u001b[32m [repeated 14x across cluster]\u001b[0m\n",
      "\u001b[36m(async_run_eval pid=27751)\u001b[0m Invoking bedrock/meta.llama3-70b-instruct-v1:0......\u001b[32m [repeated 13x across cluster]\u001b[0m\n",
      "\u001b[36m(async_run_eval pid=27749)\u001b[0m async_run_eval, i=9, total=10, judge_model_info=meta.llama3-70b-instruct-v1:0, eval_method: max_voting, uuid: 7260cc38cfc246b5bb467ffcf3550941\u001b[32m [repeated 14x across cluster]\u001b[0m\n",
      "\u001b[36m(async_run_eval pid=27749)\u001b[0m run_eval, row 9/10, judge_model_id=meta.llama3-70b-instruct-v1:0, candidate model=cohere.command-text-v14\u001b[32m [repeated 14x across cluster]\u001b[0m\n",
      "\u001b[36m(async_run_eval pid=27749)\u001b[0m get_inference, model_id=meta.llama3-70b-instruct-v1:0\u001b[32m [repeated 14x across cluster]\u001b[0m\n",
      "\u001b[36m(async_run_eval pid=27749)\u001b[0m Invoking bedrock/meta.llama3-70b-instruct-v1:0......\u001b[32m [repeated 15x across cluster]\u001b[0m\n",
      "\u001b[36m(async_run_eval pid=27750)\u001b[0m async_run_eval, i=4, total=10, judge_model_info=meta.llama3-70b-instruct-v1:0, eval_method: max_voting, uuid: f3799d5223134695a49d60836b4c85a1\u001b[32m [repeated 12x across cluster]\u001b[0m\n",
      "\u001b[36m(async_run_eval pid=27750)\u001b[0m run_eval, row 4/10, judge_model_id=meta.llama3-70b-instruct-v1:0, candidate model=cohere.command-light-text-v14\u001b[32m [repeated 12x across cluster]\u001b[0m\n",
      "\u001b[36m(async_run_eval pid=27750)\u001b[0m get_inference, model_id=meta.llama3-70b-instruct-v1:0\u001b[32m [repeated 12x across cluster]\u001b[0m\n",
      "\u001b[36m(async_run_eval pid=27750)\u001b[0m Invoking bedrock/meta.llama3-70b-instruct-v1:0......\u001b[32m [repeated 12x across cluster]\u001b[0m\n",
      "\u001b[36m(async_run_eval pid=27750)\u001b[0m async_run_eval, i=3, total=10, judge_model_info=meta.llama3-70b-instruct-v1:0, eval_method: max_voting, uuid: 6c18e3f64cf749e6b822a76901f56410\u001b[32m [repeated 10x across cluster]\u001b[0m\n",
      "\u001b[36m(async_run_eval pid=27750)\u001b[0m run_eval, row 3/10, judge_model_id=meta.llama3-70b-instruct-v1:0, candidate model=cohere.command-light-text-v14\u001b[32m [repeated 10x across cluster]\u001b[0m\n",
      "\u001b[36m(async_run_eval pid=27750)\u001b[0m get_inference, model_id=meta.llama3-70b-instruct-v1:0\u001b[32m [repeated 10x across cluster]\u001b[0m\n",
      "\u001b[36m(async_run_eval pid=27750)\u001b[0m Invoking bedrock/meta.llama3-70b-instruct-v1:0......\u001b[32m [repeated 10x across cluster]\u001b[0m\n",
      "\u001b[36m(async_run_eval pid=27750)\u001b[0m async_run_eval, i=1, total=10, judge_model_info=meta.llama3-70b-instruct-v1:0, eval_method: max_voting, uuid: 7e125b6afe8e484f84523241a647da8b\u001b[32m [repeated 10x across cluster]\u001b[0m\n",
      "\u001b[36m(async_run_eval pid=27750)\u001b[0m run_eval, row 1/10, judge_model_id=meta.llama3-70b-instruct-v1:0, candidate model=cohere.command-light-text-v14\u001b[32m [repeated 10x across cluster]\u001b[0m\n",
      "\u001b[36m(async_run_eval pid=27750)\u001b[0m get_inference, model_id=meta.llama3-70b-instruct-v1:0\u001b[32m [repeated 10x across cluster]\u001b[0m\n",
      "\u001b[36m(async_run_eval pid=27750)\u001b[0m Invoking bedrock/meta.llama3-70b-instruct-v1:0......\u001b[32m [repeated 10x across cluster]\u001b[0m\n",
      "\u001b[36m(async_run_eval pid=27750)\u001b[0m async_run_eval, i=6, total=10, judge_model_info=meta.llama3-70b-instruct-v1:0, eval_method: max_voting, uuid: 90f83e85d659401c83968c5ccb436d09\u001b[32m [repeated 14x across cluster]\u001b[0m\n",
      "\u001b[36m(async_run_eval pid=27750)\u001b[0m run_eval, row 6/10, judge_model_id=meta.llama3-70b-instruct-v1:0, candidate model=ai21.j2-mid-v1\u001b[32m [repeated 14x across cluster]\u001b[0m\n",
      "\u001b[36m(async_run_eval pid=27750)\u001b[0m get_inference, model_id=meta.llama3-70b-instruct-v1:0\u001b[32m [repeated 14x across cluster]\u001b[0m\n",
      "\u001b[36m(async_run_eval pid=27750)\u001b[0m Invoking bedrock/meta.llama3-70b-instruct-v1:0......\u001b[32m [repeated 14x across cluster]\u001b[0m\n",
      "\u001b[36m(async_run_eval pid=27751)\u001b[0m async_run_eval, i=9, total=10, judge_model_info=meta.llama3-70b-instruct-v1:0, eval_method: max_voting, uuid: 0a6fc01149c44b78ace87fd60469c080\u001b[32m [repeated 14x across cluster]\u001b[0m\n",
      "\u001b[36m(async_run_eval pid=27751)\u001b[0m run_eval, row 9/10, judge_model_id=meta.llama3-70b-instruct-v1:0, candidate model=ai21.j2-mid-v1\u001b[32m [repeated 14x across cluster]\u001b[0m\n",
      "\u001b[36m(async_run_eval pid=27751)\u001b[0m get_inference, model_id=meta.llama3-70b-instruct-v1:0\u001b[32m [repeated 14x across cluster]\u001b[0m\n",
      "\u001b[36m(async_run_eval pid=27751)\u001b[0m Invoking bedrock/meta.llama3-70b-instruct-v1:0......\u001b[32m [repeated 14x across cluster]\u001b[0m\n",
      "\u001b[36m(async_run_eval pid=27750)\u001b[0m async_run_eval, i=3, total=10, judge_model_info=meta.llama3-70b-instruct-v1:0, eval_method: max_voting, uuid: ebc0276d7c5c45888531725986046801\u001b[32m [repeated 12x across cluster]\u001b[0m\n",
      "\u001b[36m(async_run_eval pid=27750)\u001b[0m run_eval, row 3/10, judge_model_id=meta.llama3-70b-instruct-v1:0, candidate model=ai21.j2-ultra-v1\u001b[32m [repeated 12x across cluster]\u001b[0m\n",
      "\u001b[36m(async_run_eval pid=27750)\u001b[0m get_inference, model_id=meta.llama3-70b-instruct-v1:0\u001b[32m [repeated 12x across cluster]\u001b[0m\n",
      "\u001b[36m(async_run_eval pid=27750)\u001b[0m Invoking bedrock/meta.llama3-70b-instruct-v1:0......\u001b[32m [repeated 12x across cluster]\u001b[0m\n",
      "\u001b[36m(async_run_eval pid=27750)\u001b[0m async_run_eval, i=5, total=10, judge_model_info=meta.llama3-70b-instruct-v1:0, eval_method: max_voting, uuid: 6c48cf8157fb4a7681a977b7c60d006e\u001b[32m [repeated 14x across cluster]\u001b[0m\n",
      "\u001b[36m(async_run_eval pid=27750)\u001b[0m run_eval, row 5/10, judge_model_id=meta.llama3-70b-instruct-v1:0, candidate model=ai21.j2-ultra-v1\u001b[32m [repeated 14x across cluster]\u001b[0m\n",
      "\u001b[36m(async_run_eval pid=27750)\u001b[0m get_inference, model_id=meta.llama3-70b-instruct-v1:0\u001b[32m [repeated 14x across cluster]\u001b[0m\n",
      "\u001b[36m(async_run_eval pid=27750)\u001b[0m Invoking bedrock/meta.llama3-70b-instruct-v1:0......\u001b[32m [repeated 14x across cluster]\u001b[0m\n",
      "\u001b[36m(async_run_eval pid=27749)\u001b[0m async_run_eval, i=8, total=10, judge_model_info=meta.llama3-70b-instruct-v1:0, eval_method: max_voting, uuid: 809b84c6fe8a4ab3a23ebdf51332462b\u001b[32m [repeated 13x across cluster]\u001b[0m\n",
      "\u001b[36m(async_run_eval pid=27749)\u001b[0m run_eval, row 8/10, judge_model_id=meta.llama3-70b-instruct-v1:0, candidate model=ai21.j2-ultra-v1\u001b[32m [repeated 13x across cluster]\u001b[0m\n",
      "\u001b[36m(async_run_eval pid=27749)\u001b[0m get_inference, model_id=meta.llama3-70b-instruct-v1:0\u001b[32m [repeated 13x across cluster]\u001b[0m\n",
      "\u001b[36m(async_run_eval pid=27749)\u001b[0m Invoking bedrock/meta.llama3-70b-instruct-v1:0......\u001b[32m [repeated 13x across cluster]\u001b[0m\n",
      "\u001b[36m(async_run_eval pid=27750)\u001b[0m async_run_eval, i=8, total=10, judge_model_info=cohere.command-r-v1:0, eval_method: max_voting, uuid: 8fd37ac5a07d48ada047f65b82b5a4bc\u001b[32m [repeated 17x across cluster]\u001b[0m\n",
      "\u001b[36m(async_run_eval pid=27750)\u001b[0m run_eval, row 8/10, judge_model_id=cohere.command-r-v1:0, candidate model=mistral.mistral-7b-instruct-v0:2\u001b[32m [repeated 17x across cluster]\u001b[0m\n",
      "\u001b[36m(async_run_eval pid=27750)\u001b[0m get_inference, model_id=cohere.command-r-v1:0\u001b[32m [repeated 17x across cluster]\u001b[0m\n",
      "\u001b[36m(async_run_eval pid=27750)\u001b[0m Invoking bedrock/cohere.command-r-v1:0......\u001b[32m [repeated 17x across cluster]\u001b[0m\n",
      "\u001b[36m(async_run_eval pid=27750)\u001b[0m async_run_eval, i=9, total=10, judge_model_info=cohere.command-r-v1:0, eval_method: max_voting, uuid: cad5549c70724d378354b238bd4f9a39\u001b[32m [repeated 24x across cluster]\u001b[0m\n",
      "\u001b[36m(async_run_eval pid=27750)\u001b[0m run_eval, row 9/10, judge_model_id=cohere.command-r-v1:0, candidate model=mistral.mixtral-8x7b-instruct-v0:1\u001b[32m [repeated 24x across cluster]\u001b[0m\n",
      "\u001b[36m(async_run_eval pid=27750)\u001b[0m get_inference, model_id=cohere.command-r-v1:0\u001b[32m [repeated 24x across cluster]\u001b[0m\n",
      "\u001b[36m(async_run_eval pid=27750)\u001b[0m Invoking bedrock/cohere.command-r-v1:0......\u001b[32m [repeated 24x across cluster]\u001b[0m\n",
      "\u001b[36m(async_run_eval pid=27750)\u001b[0m async_run_eval, i=3, total=10, judge_model_info=cohere.command-r-v1:0, eval_method: max_voting, uuid: add18e3784024e16bc553b0246d5011f\u001b[32m [repeated 22x across cluster]\u001b[0m\n",
      "\u001b[36m(async_run_eval pid=27750)\u001b[0m run_eval, row 3/10, judge_model_id=cohere.command-r-v1:0, candidate model=meta.llama2-13b-chat-v1\u001b[32m [repeated 22x across cluster]\u001b[0m\n",
      "\u001b[36m(async_run_eval pid=27750)\u001b[0m get_inference, model_id=cohere.command-r-v1:0\u001b[32m [repeated 22x across cluster]\u001b[0m\n",
      "\u001b[36m(async_run_eval pid=27750)\u001b[0m Invoking bedrock/cohere.command-r-v1:0......\u001b[32m [repeated 22x across cluster]\u001b[0m\n",
      "\u001b[36m(async_run_eval pid=27749)\u001b[0m async_run_eval, i=7, total=10, judge_model_info=cohere.command-r-v1:0, eval_method: max_voting, uuid: 9417305790d146c288dea07973194423\u001b[32m [repeated 26x across cluster]\u001b[0m\n",
      "\u001b[36m(async_run_eval pid=27749)\u001b[0m run_eval, row 7/10, judge_model_id=cohere.command-r-v1:0, candidate model=meta.llama2-13b-chat-v1\u001b[32m [repeated 26x across cluster]\u001b[0m\n",
      "\u001b[36m(async_run_eval pid=27749)\u001b[0m get_inference, model_id=cohere.command-r-v1:0\u001b[32m [repeated 26x across cluster]\u001b[0m\n",
      "\u001b[36m(async_run_eval pid=27749)\u001b[0m Invoking bedrock/cohere.command-r-v1:0......\u001b[32m [repeated 26x across cluster]\u001b[0m\n",
      "\u001b[36m(async_run_eval pid=27749)\u001b[0m async_run_eval, i=10, total=10, judge_model_info=cohere.command-r-v1:0, eval_method: max_voting, uuid: 82dad7cf62af48029f4d78cb43bb55da\u001b[32m [repeated 22x across cluster]\u001b[0m\n",
      "\u001b[36m(async_run_eval pid=27749)\u001b[0m run_eval, row 10/10, judge_model_id=cohere.command-r-v1:0, candidate model=meta.llama2-70b-chat-v1\u001b[32m [repeated 22x across cluster]\u001b[0m\n",
      "\u001b[36m(async_run_eval pid=27749)\u001b[0m get_inference, model_id=cohere.command-r-v1:0\u001b[32m [repeated 22x across cluster]\u001b[0m\n",
      "\u001b[36m(async_run_eval pid=27749)\u001b[0m Invoking bedrock/cohere.command-r-v1:0......\u001b[32m [repeated 22x across cluster]\u001b[0m\n",
      "\u001b[36m(async_run_eval pid=27750)\u001b[0m async_run_eval, i=2, total=10, judge_model_info=cohere.command-r-v1:0, eval_method: max_voting, uuid: 6064024f8591456d9239e6f2857cf6cf\u001b[32m [repeated 22x across cluster]\u001b[0m\n",
      "\u001b[36m(async_run_eval pid=27750)\u001b[0m run_eval, row 2/10, judge_model_id=cohere.command-r-v1:0, candidate model=amazon.titan-text-lite-v1\u001b[32m [repeated 22x across cluster]\u001b[0m\n",
      "\u001b[36m(async_run_eval pid=27750)\u001b[0m get_inference, model_id=cohere.command-r-v1:0\u001b[32m [repeated 22x across cluster]\u001b[0m\n",
      "\u001b[36m(async_run_eval pid=27750)\u001b[0m Invoking bedrock/cohere.command-r-v1:0......\u001b[32m [repeated 22x across cluster]\u001b[0m\n",
      "\u001b[36m(async_run_eval pid=27751)\u001b[0m async_run_eval, i=9, total=10, judge_model_info=cohere.command-r-v1:0, eval_method: max_voting, uuid: 93143ac6d4ca4b678f11226007cb0c0a\u001b[32m [repeated 28x across cluster]\u001b[0m\n",
      "\u001b[36m(async_run_eval pid=27751)\u001b[0m run_eval, row 9/10, judge_model_id=cohere.command-r-v1:0, candidate model=amazon.titan-text-express-v1\u001b[32m [repeated 28x across cluster]\u001b[0m\n",
      "\u001b[36m(async_run_eval pid=27751)\u001b[0m get_inference, model_id=cohere.command-r-v1:0\u001b[32m [repeated 28x across cluster]\u001b[0m\n",
      "\u001b[36m(async_run_eval pid=27751)\u001b[0m Invoking bedrock/cohere.command-r-v1:0......\u001b[32m [repeated 28x across cluster]\u001b[0m\n",
      "\u001b[36m(async_run_eval pid=27750)\u001b[0m async_run_eval, i=3, total=10, judge_model_info=cohere.command-r-v1:0, eval_method: max_voting, uuid: aa729f34b23a49798007e8afc6cdca4a\u001b[32m [repeated 22x across cluster]\u001b[0m\n",
      "\u001b[36m(async_run_eval pid=27750)\u001b[0m run_eval, row 3/10, judge_model_id=cohere.command-r-v1:0, candidate model=anthropic.claude-3-sonnet-20240229-v1:0\u001b[32m [repeated 22x across cluster]\u001b[0m\n",
      "\u001b[36m(async_run_eval pid=27750)\u001b[0m get_inference, model_id=cohere.command-r-v1:0\u001b[32m [repeated 22x across cluster]\u001b[0m\n",
      "\u001b[36m(async_run_eval pid=27751)\u001b[0m Invoking bedrock/cohere.command-r-v1:0......\u001b[32m [repeated 21x across cluster]\u001b[0m\n",
      "\u001b[36m(async_run_eval pid=27751)\u001b[0m async_run_eval, i=5, total=10, judge_model_info=cohere.command-r-v1:0, eval_method: max_voting, uuid: e8e1c241133448898a19115e42fe915f\u001b[32m [repeated 26x across cluster]\u001b[0m\n",
      "\u001b[36m(async_run_eval pid=27751)\u001b[0m run_eval, row 5/10, judge_model_id=cohere.command-r-v1:0, candidate model=anthropic.claude-3-sonnet-20240229-v1:0\u001b[32m [repeated 26x across cluster]\u001b[0m\n",
      "\u001b[36m(async_run_eval pid=27751)\u001b[0m get_inference, model_id=cohere.command-r-v1:0\u001b[32m [repeated 26x across cluster]\u001b[0m\n",
      "\u001b[36m(async_run_eval pid=27749)\u001b[0m Invoking bedrock/cohere.command-r-v1:0......\u001b[32m [repeated 27x across cluster]\u001b[0m\n",
      "\u001b[36m(async_run_eval pid=27750)\u001b[0m async_run_eval, i=1, total=10, judge_model_info=cohere.command-r-v1:0, eval_method: max_voting, uuid: bed11be72d75416abba91d2b8c8c84d3\u001b[32m [repeated 24x across cluster]\u001b[0m\n",
      "\u001b[36m(async_run_eval pid=27750)\u001b[0m run_eval, row 1/10, judge_model_id=cohere.command-r-v1:0, candidate model=anthropic.claude-3-haiku-20240307-v1:0\u001b[32m [repeated 24x across cluster]\u001b[0m\n",
      "\u001b[36m(async_run_eval pid=27750)\u001b[0m get_inference, model_id=cohere.command-r-v1:0\u001b[32m [repeated 24x across cluster]\u001b[0m\n",
      "\u001b[36m(async_run_eval pid=27750)\u001b[0m Invoking bedrock/cohere.command-r-v1:0......\u001b[32m [repeated 24x across cluster]\u001b[0m\n",
      "\u001b[36m(async_run_eval pid=27750)\u001b[0m async_run_eval, i=7, total=10, judge_model_info=cohere.command-r-v1:0, eval_method: max_voting, uuid: 777299f135c6480aae3fa8ee5defa231\u001b[32m [repeated 24x across cluster]\u001b[0m\n",
      "\u001b[36m(async_run_eval pid=27750)\u001b[0m run_eval, row 7/10, judge_model_id=cohere.command-r-v1:0, candidate model=cohere.command-text-v14\u001b[32m [repeated 24x across cluster]\u001b[0m\n",
      "\u001b[36m(async_run_eval pid=27750)\u001b[0m get_inference, model_id=cohere.command-r-v1:0\u001b[32m [repeated 24x across cluster]\u001b[0m\n",
      "\u001b[36m(async_run_eval pid=27750)\u001b[0m Invoking bedrock/cohere.command-r-v1:0......\u001b[32m [repeated 24x across cluster]\u001b[0m\n",
      "\u001b[36m(async_run_eval pid=27748)\u001b[0m async_run_eval, i=9, total=10, judge_model_info=cohere.command-r-v1:0, eval_method: max_voting, uuid: 467fdee306164c5e8b4652159a676f65\u001b[32m [repeated 24x across cluster]\u001b[0m\n",
      "\u001b[36m(async_run_eval pid=27748)\u001b[0m run_eval, row 9/10, judge_model_id=cohere.command-r-v1:0, candidate model=cohere.command-light-text-v14\u001b[32m [repeated 24x across cluster]\u001b[0m\n",
      "\u001b[36m(async_run_eval pid=27748)\u001b[0m get_inference, model_id=cohere.command-r-v1:0\u001b[32m [repeated 24x across cluster]\u001b[0m\n",
      "\u001b[36m(async_run_eval pid=27748)\u001b[0m Invoking bedrock/cohere.command-r-v1:0......\u001b[32m [repeated 24x across cluster]\u001b[0m\n",
      "\u001b[36m(async_run_eval pid=27750)\u001b[0m async_run_eval, i=2, total=10, judge_model_info=cohere.command-r-v1:0, eval_method: max_voting, uuid: e86b46fd705948e5bf6431247248daf1\u001b[32m [repeated 22x across cluster]\u001b[0m\n",
      "\u001b[36m(async_run_eval pid=27750)\u001b[0m run_eval, row 2/10, judge_model_id=cohere.command-r-v1:0, candidate model=ai21.j2-mid-v1\u001b[32m [repeated 22x across cluster]\u001b[0m\n",
      "\u001b[36m(async_run_eval pid=27750)\u001b[0m get_inference, model_id=cohere.command-r-v1:0\u001b[32m [repeated 22x across cluster]\u001b[0m\n",
      "\u001b[36m(async_run_eval pid=27750)\u001b[0m Invoking bedrock/cohere.command-r-v1:0......\u001b[32m [repeated 22x across cluster]\u001b[0m\n",
      "\u001b[36m(async_run_eval pid=27748)\u001b[0m async_run_eval, i=6, total=10, judge_model_info=cohere.command-r-v1:0, eval_method: max_voting, uuid: b892e2961ffe48d2baf05506d6d1c5eb\u001b[32m [repeated 24x across cluster]\u001b[0m\n",
      "\u001b[36m(async_run_eval pid=27748)\u001b[0m run_eval, row 6/10, judge_model_id=cohere.command-r-v1:0, candidate model=ai21.j2-mid-v1\u001b[32m [repeated 24x across cluster]\u001b[0m\n",
      "\u001b[36m(async_run_eval pid=27748)\u001b[0m get_inference, model_id=cohere.command-r-v1:0\u001b[32m [repeated 24x across cluster]\u001b[0m\n",
      "\u001b[36m(async_run_eval pid=27748)\u001b[0m Invoking bedrock/cohere.command-r-v1:0......\u001b[32m [repeated 24x across cluster]\u001b[0m\n",
      "\u001b[36m(async_run_eval pid=27749)\u001b[0m async_run_eval, i=9, total=10, judge_model_info=cohere.command-r-v1:0, eval_method: max_voting, uuid: b181a1e539094c549ac9c37b4e2c7280\u001b[32m [repeated 24x across cluster]\u001b[0m\n",
      "\u001b[36m(async_run_eval pid=27749)\u001b[0m run_eval, row 9/10, judge_model_id=cohere.command-r-v1:0, candidate model=ai21.j2-ultra-v1\u001b[32m [repeated 24x across cluster]\u001b[0m\n",
      "\u001b[36m(async_run_eval pid=27749)\u001b[0m get_inference, model_id=cohere.command-r-v1:0\u001b[32m [repeated 24x across cluster]\u001b[0m\n",
      "\u001b[36m(async_run_eval pid=27749)\u001b[0m Invoking bedrock/cohere.command-r-v1:0......\u001b[32m [repeated 24x across cluster]\u001b[0m\n"
     ]
    }
   ],
   "source": [
    "# initialize the ray service to run async calls in parallel to bedrock easily\n",
    "if ray.is_initialized():\n",
    "    ray.shutdown()\n",
    "ray.init()"
   ]
  },
  {
   "cell_type": "markdown",
   "metadata": {},
   "source": [
    "Load the Config.yml file contains information that is used across this benchmarking environment, such as information about the aws account, prompts, payloads to be used for invocations"
   ]
  },
  {
   "cell_type": "code",
   "execution_count": 5,
   "metadata": {
    "tags": []
   },
   "outputs": [
    {
     "name": "stderr",
     "output_type": "stream",
     "text": [
      "[2024-07-12 16:35:42,281] p27460 {2445076252.py:1} INFO - CONFIG_FILE=configs/bedrock/config-bedrock.yml\n"
     ]
    },
    {
     "name": "stdout",
     "output_type": "stream",
     "text": [
      "region_name=us-west-2\n"
     ]
    },
    {
     "name": "stderr",
     "output_type": "stream",
     "text": [
      "[2024-07-12 16:35:42,602] p27460 {2445076252.py:3} INFO - {\n",
      "  \"general\": {\n",
      "    \"name\": \"fmbench-bedrock\",\n",
      "    \"model_name\": \"FMs available in Amazon Bedrock\"\n",
      "  },\n",
      "  \"aws\": {\n",
      "    \"region\": \"us-west-2\",\n",
      "    \"sagemaker_execution_role\": \"arn:aws:iam::387192758086:role/fmbench-stack-us-west-2-role\",\n",
      "    \"bucket\": \"sagemaker-fmbench-write-us-west-2-387192758086\"\n",
      "  },\n",
      "  \"dir_paths\": {\n",
      "    \"data_prefix\": \"data\",\n",
      "    \"prompts_prefix\": \"prompts\",\n",
      "    \"all_prompts_file\": \"all_prompts.csv\",\n",
      "    \"metrics_dir\": \"metrics\",\n",
      "    \"models_dir\": \"models\",\n",
      "    \"metadata_dir\": \"metadata\"\n",
      "  },\n",
      "  \"s3_read_data\": {\n",
      "    \"read_bucket\": \"sagemaker-fmbench-read-us-west-2-387192758086\",\n",
      "    \"scripts_prefix\": \"scripts\",\n",
      "    \"script_files\": [\n",
      "      \"hf_token.txt\"\n",
      "    ],\n",
      "    \"eval_prompts_dir\": \"eval_criteria_prompts\",\n",
      "    \"eval_prompt_template_dir_list\": [\n",
      "      \"claude_eval_prompt_templates\",\n",
      "      \"llama3_eval_prompt_templates\",\n",
      "      \"cohere_eval_prompt_templates\"\n",
      "    ],\n",
      "    \"eval_instructions_dir\": \"eval_instructions\",\n",
      "    \"eval_instructions_files\": [\n",
      "      \"evaluation_instructions_max_voting.txt\",\n",
      "      \"evaluation_instructions_avg_pooling.txt\"\n",
      "    ],\n",
      "    \"configs_prefix\": \"configs\",\n",
      "    \"config_files\": [\n",
      "      \"pricing.yml\"\n",
      "    ],\n",
      "    \"source_data_prefix\": \"source_data\",\n",
      "    \"source_data_files\": [\n",
      "      \"2wikimqa_e.jsonl\",\n",
      "      \"2wikimqa.jsonl\",\n",
      "      \"hotpotqa_e.jsonl\",\n",
      "      \"hotpotqa.jsonl\",\n",
      "      \"narrativeqa.jsonl\",\n",
      "      \"triviaqa_e.jsonl\",\n",
      "      \"triviaqa.jsonl\"\n",
      "    ],\n",
      "    \"tokenizer_prefix\": \"llama2_tokenizer\",\n",
      "    \"prompt_template_dir\": \"prompt_template\",\n",
      "    \"prompt_template_file\": \"prompt_template_llama2.txt\"\n",
      "  },\n",
      "  \"run_steps\": {\n",
      "    \"0_setup.ipynb\": true,\n",
      "    \"1_generate_data.ipynb\": true,\n",
      "    \"2_deploy_model.ipynb\": false,\n",
      "    \"3_run_inference.ipynb\": true,\n",
      "    \"4_get_evaluations.ipynb\": false,\n",
      "    \"5_model_metric_analysis.ipynb\": false,\n",
      "    \"6_cleanup.ipynb\": false\n",
      "  },\n",
      "  \"datasets\": {\n",
      "    \"prompt_template_keys\": [\n",
      "      \"input\",\n",
      "      \"context\"\n",
      "    ],\n",
      "    \"max_iters_per_combination\": 105,\n",
      "    \"min_iters_per_combination\": 5,\n",
      "    \"filters\": [\n",
      "      {\n",
      "        \"language\": \"en\",\n",
      "        \"min_length_in_tokens\": 1,\n",
      "        \"max_length_in_tokens\": 500,\n",
      "        \"payload_file\": \"payload_en_1-500.jsonl\"\n",
      "      },\n",
      "      {\n",
      "        \"language\": \"en\",\n",
      "        \"min_length_in_tokens\": 500,\n",
      "        \"max_length_in_tokens\": 1000,\n",
      "        \"payload_file\": \"payload_en_500-1000.jsonl\"\n",
      "      },\n",
      "      {\n",
      "        \"language\": \"en\",\n",
      "        \"min_length_in_tokens\": 1000,\n",
      "        \"max_length_in_tokens\": 2000,\n",
      "        \"payload_file\": \"payload_en_1000-2000.jsonl\"\n",
      "      },\n",
      "      {\n",
      "        \"language\": \"en\",\n",
      "        \"min_length_in_tokens\": 2000,\n",
      "        \"max_length_in_tokens\": 3000,\n",
      "        \"payload_file\": \"payload_en_2000-3000.jsonl\"\n",
      "      },\n",
      "      {\n",
      "        \"language\": \"en\",\n",
      "        \"min_length_in_tokens\": 3000,\n",
      "        \"max_length_in_tokens\": 3840,\n",
      "        \"payload_file\": \"payload_en_3000-3840.jsonl\"\n",
      "      }\n",
      "    ]\n",
      "  },\n",
      "  \"model_evaluations\": {\n",
      "    \"ground_truth_col_key\": \"answers\",\n",
      "    \"PoLL_Composition_and_Voting\": {\n",
      "      \"method\": \"max_voting\"\n",
      "    },\n",
      "    \"quantitative_eval_info\": {\n",
      "      \"embeddings_model_id\": {\n",
      "        \"model_id\": \"sentence-transformers/all-mpnet-base-v2\"\n",
      "      }\n",
      "    },\n",
      "    \"subjective_eval_info\": {\n",
      "      \"judge_panel_list\": [\n",
      "        {\n",
      "          \"model_id\": \"anthropic.claude-3-haiku-20240307-v1:0\",\n",
      "          \"eval_prompt_template_dir\": \"claude_eval_prompt_templates\",\n",
      "          \"eval_prompt_template_name_prefix\": \"claude_eval\"\n",
      "        },\n",
      "        {\n",
      "          \"model_id\": \"meta.llama3-70b-instruct-v1:0\",\n",
      "          \"eval_prompt_template_dir\": \"llama3_eval_prompt_templates\",\n",
      "          \"eval_prompt_template_name_prefix\": \"llama3_eval\"\n",
      "        },\n",
      "        {\n",
      "          \"model_id\": \"cohere.command-r-v1:0\",\n",
      "          \"eval_prompt_template_dir\": \"cohere_eval_prompt_templates\",\n",
      "          \"eval_prompt_template_name_prefix\": \"cohere_eval\"\n",
      "        }\n",
      "      ],\n",
      "      \"inference_parameters\": {\n",
      "        \"temperature\": 0.1,\n",
      "        \"max_tokens\": 300,\n",
      "        \"top_p\": 0.92,\n",
      "        \"caching\": false\n",
      "      },\n",
      "      \"run_parallel_inference_count\": 10\n",
      "    }\n",
      "  },\n",
      "  \"metrics\": {\n",
      "    \"dataset_of_interest\": \"en_500-1000\"\n",
      "  },\n",
      "  \"pricing\": \"pricing.yml\",\n",
      "  \"inference_parameters\": {\n",
      "    \"bedrock\": {\n",
      "      \"temperature\": 0.1,\n",
      "      \"max_tokens\": 100,\n",
      "      \"top_p\": 0.92,\n",
      "      \"caching\": false\n",
      "    }\n",
      "  },\n",
      "  \"experiments\": [\n",
      "    {\n",
      "      \"name\": \"mistral.mistral-7b-instruct-v0:2\",\n",
      "      \"model_id\": \"mistral.mistral-7b-instruct-v0:2\",\n",
      "      \"model_version\": \"*\",\n",
      "      \"model_name\": \"mistral.mistral-7b-instruct-v0:2\",\n",
      "      \"ep_name\": \"mistral.mistral-7b-instruct-v0:2\",\n",
      "      \"instance_type\": \"mistral.mistral-7b-instruct-v0:2\",\n",
      "      \"image_uri\": null,\n",
      "      \"deploy\": false,\n",
      "      \"instance_count\": 1,\n",
      "      \"deployment_script\": null,\n",
      "      \"inference_script\": \"bedrock_predictor.py\",\n",
      "      \"inference_spec\": {\n",
      "        \"split_input_and_parameters\": false,\n",
      "        \"parameter_set\": \"bedrock\",\n",
      "        \"parameters\": {\n",
      "          \"temperature\": 0.1,\n",
      "          \"max_tokens\": 100,\n",
      "          \"top_p\": 0.92,\n",
      "          \"caching\": false\n",
      "        }\n",
      "      },\n",
      "      \"payload_files\": [\n",
      "        \"payload_en_1-500.jsonl\",\n",
      "        \"payload_en_500-1000.jsonl\"\n",
      "      ],\n",
      "      \"concurrency_levels\": [\n",
      "        1,\n",
      "        2\n",
      "      ],\n",
      "      \"env\": null,\n",
      "      \"bucket\": \"sagemaker-fmbench-write-us-west-2-387192758086\"\n",
      "    },\n",
      "    {\n",
      "      \"name\": \"mistral.mixtral-8x7b-instruct-v0:1\",\n",
      "      \"model_id\": \"mistral.mixtral-8x7b-instruct-v0:1\",\n",
      "      \"model_version\": \"*\",\n",
      "      \"model_name\": \"mistral.mixtral-8x7b-instruct-v0:1\",\n",
      "      \"ep_name\": \"mistral.mixtral-8x7b-instruct-v0:1\",\n",
      "      \"instance_type\": \"mistral.mixtral-8x7b-instruct-v0:1\",\n",
      "      \"image_uri\": null,\n",
      "      \"deploy\": false,\n",
      "      \"instance_count\": 1,\n",
      "      \"deployment_script\": null,\n",
      "      \"inference_script\": \"bedrock_predictor.py\",\n",
      "      \"inference_spec\": {\n",
      "        \"split_input_and_parameters\": false,\n",
      "        \"parameter_set\": \"bedrock\",\n",
      "        \"parameters\": {\n",
      "          \"temperature\": 0.1,\n",
      "          \"max_tokens\": 100,\n",
      "          \"top_p\": 0.92,\n",
      "          \"caching\": false\n",
      "        }\n",
      "      },\n",
      "      \"payload_files\": [\n",
      "        \"payload_en_1-500.jsonl\",\n",
      "        \"payload_en_500-1000.jsonl\"\n",
      "      ],\n",
      "      \"concurrency_levels\": [\n",
      "        1,\n",
      "        2\n",
      "      ],\n",
      "      \"env\": null,\n",
      "      \"bucket\": \"sagemaker-fmbench-write-us-west-2-387192758086\"\n",
      "    },\n",
      "    {\n",
      "      \"name\": \"meta.llama2-13b-chat-v1\",\n",
      "      \"model_id\": \"meta.llama2-13b-chat-v1\",\n",
      "      \"model_version\": \"*\",\n",
      "      \"model_name\": \"meta.llama2-13b-chat-v1\",\n",
      "      \"ep_name\": \"meta.llama2-13b-chat-v1\",\n",
      "      \"instance_type\": \"meta.llama2-13b-chat-v1\",\n",
      "      \"image_uri\": null,\n",
      "      \"deploy\": false,\n",
      "      \"instance_count\": null,\n",
      "      \"deployment_script\": null,\n",
      "      \"inference_script\": \"bedrock_predictor.py\",\n",
      "      \"inference_spec\": {\n",
      "        \"split_input_and_parameters\": false,\n",
      "        \"parameter_set\": \"bedrock\",\n",
      "        \"parameters\": {\n",
      "          \"temperature\": 0.1,\n",
      "          \"max_tokens\": 100,\n",
      "          \"top_p\": 0.92,\n",
      "          \"caching\": false\n",
      "        }\n",
      "      },\n",
      "      \"payload_files\": [\n",
      "        \"payload_en_1-500.jsonl\",\n",
      "        \"payload_en_500-1000.jsonl\"\n",
      "      ],\n",
      "      \"concurrency_levels\": [\n",
      "        1,\n",
      "        2\n",
      "      ],\n",
      "      \"env\": null,\n",
      "      \"bucket\": \"sagemaker-fmbench-write-us-west-2-387192758086\"\n",
      "    },\n",
      "    {\n",
      "      \"name\": \"meta.llama2-70b-chat-v1\",\n",
      "      \"model_id\": \"meta.llama2-70b-chat-v1\",\n",
      "      \"model_version\": \"*\",\n",
      "      \"model_name\": \"meta.llama2-70b-chat-v1\",\n",
      "      \"ep_name\": \"meta.llama2-70b-chat-v1\",\n",
      "      \"instance_type\": \"meta.llama2-70b-chat-v1\",\n",
      "      \"image_uri\": null,\n",
      "      \"deploy\": false,\n",
      "      \"instance_count\": null,\n",
      "      \"deployment_script\": null,\n",
      "      \"inference_script\": \"bedrock_predictor.py\",\n",
      "      \"inference_spec\": {\n",
      "        \"split_input_and_parameters\": false,\n",
      "        \"parameter_set\": \"bedrock\",\n",
      "        \"parameters\": {\n",
      "          \"temperature\": 0.1,\n",
      "          \"max_tokens\": 100,\n",
      "          \"top_p\": 0.92,\n",
      "          \"caching\": false\n",
      "        }\n",
      "      },\n",
      "      \"payload_files\": [\n",
      "        \"payload_en_1-500.jsonl\",\n",
      "        \"payload_en_500-1000.jsonl\"\n",
      "      ],\n",
      "      \"concurrency_levels\": [\n",
      "        1,\n",
      "        2\n",
      "      ],\n",
      "      \"env\": null,\n",
      "      \"bucket\": \"sagemaker-fmbench-write-us-west-2-387192758086\"\n",
      "    },\n",
      "    {\n",
      "      \"name\": \"amazon.titan-text-lite-v1\",\n",
      "      \"model_id\": \"amazon.titan-text-lite-v1\",\n",
      "      \"model_version\": \"*\",\n",
      "      \"model_name\": \"amazon.titan-text-lite-v1\",\n",
      "      \"ep_name\": \"amazon.titan-text-lite-v1\",\n",
      "      \"instance_type\": \"amazon.titan-text-lite-v1\",\n",
      "      \"image_uri\": null,\n",
      "      \"deploy\": false,\n",
      "      \"instance_count\": null,\n",
      "      \"deployment_script\": null,\n",
      "      \"inference_script\": \"bedrock_predictor.py\",\n",
      "      \"inference_spec\": {\n",
      "        \"split_input_and_parameters\": false,\n",
      "        \"parameter_set\": \"bedrock\",\n",
      "        \"parameters\": {\n",
      "          \"temperature\": 0.1,\n",
      "          \"max_tokens\": 100,\n",
      "          \"top_p\": 0.92,\n",
      "          \"caching\": false\n",
      "        }\n",
      "      },\n",
      "      \"payload_files\": [\n",
      "        \"payload_en_1-500.jsonl\",\n",
      "        \"payload_en_500-1000.jsonl\"\n",
      "      ],\n",
      "      \"concurrency_levels\": [\n",
      "        1,\n",
      "        2\n",
      "      ],\n",
      "      \"env\": null,\n",
      "      \"bucket\": \"sagemaker-fmbench-write-us-west-2-387192758086\"\n",
      "    },\n",
      "    {\n",
      "      \"name\": \"amazon.titan-text-express-v1\",\n",
      "      \"model_id\": \"amazon.titan-text-express-v1\",\n",
      "      \"model_version\": \"*\",\n",
      "      \"model_name\": \"amazon.titan-text-express-v1\",\n",
      "      \"ep_name\": \"amazon.titan-text-express-v1\",\n",
      "      \"instance_type\": \"amazon.titan-text-express-v1\",\n",
      "      \"image_uri\": null,\n",
      "      \"deploy\": false,\n",
      "      \"instance_count\": null,\n",
      "      \"deployment_script\": null,\n",
      "      \"inference_script\": \"bedrock_predictor.py\",\n",
      "      \"inference_spec\": {\n",
      "        \"split_input_and_parameters\": false,\n",
      "        \"parameter_set\": \"bedrock\",\n",
      "        \"parameters\": {\n",
      "          \"temperature\": 0.1,\n",
      "          \"max_tokens\": 100,\n",
      "          \"top_p\": 0.92,\n",
      "          \"caching\": false\n",
      "        }\n",
      "      },\n",
      "      \"payload_files\": [\n",
      "        \"payload_en_1-500.jsonl\",\n",
      "        \"payload_en_500-1000.jsonl\"\n",
      "      ],\n",
      "      \"concurrency_levels\": [\n",
      "        1,\n",
      "        2\n",
      "      ],\n",
      "      \"env\": null,\n",
      "      \"bucket\": \"sagemaker-fmbench-write-us-west-2-387192758086\"\n",
      "    },\n",
      "    {\n",
      "      \"name\": \"anthropic.claude-3-sonnet-20240229-v1:0\",\n",
      "      \"model_id\": \"anthropic.claude-3-sonnet-20240229-v1:0\",\n",
      "      \"model_version\": \"*\",\n",
      "      \"model_name\": \"anthropic.claude-3-sonnet-20240229-v1:0\",\n",
      "      \"ep_name\": \"anthropic.claude-3-sonnet-20240229-v1:0\",\n",
      "      \"instance_type\": \"anthropic.claude-3-sonnet-20240229-v1:0\",\n",
      "      \"image_uri\": null,\n",
      "      \"deploy\": false,\n",
      "      \"instance_count\": null,\n",
      "      \"deployment_script\": null,\n",
      "      \"inference_script\": \"bedrock_predictor.py\",\n",
      "      \"inference_spec\": {\n",
      "        \"split_input_and_parameters\": false,\n",
      "        \"parameter_set\": \"bedrock\",\n",
      "        \"parameters\": {\n",
      "          \"temperature\": 0.1,\n",
      "          \"max_tokens\": 100,\n",
      "          \"top_p\": 0.92,\n",
      "          \"caching\": false\n",
      "        }\n",
      "      },\n",
      "      \"payload_files\": [\n",
      "        \"payload_en_1-500.jsonl\",\n",
      "        \"payload_en_500-1000.jsonl\"\n",
      "      ],\n",
      "      \"concurrency_levels\": [\n",
      "        1,\n",
      "        2\n",
      "      ],\n",
      "      \"env\": null,\n",
      "      \"bucket\": \"sagemaker-fmbench-write-us-west-2-387192758086\"\n",
      "    },\n",
      "    {\n",
      "      \"name\": \"anthropic.claude-3-haiku-20240307-v1:0\",\n",
      "      \"model_id\": \"anthropic.claude-3-haiku-20240307-v1:0\",\n",
      "      \"model_version\": \"*\",\n",
      "      \"model_name\": \"anthropic.claude-3-haiku-20240307-v1:0\",\n",
      "      \"ep_name\": \"anthropic.claude-3-haiku-20240307-v1:0\",\n",
      "      \"instance_type\": \"anthropic.claude-3-haiku-20240307-v1:0\",\n",
      "      \"image_uri\": null,\n",
      "      \"deploy\": false,\n",
      "      \"instance_count\": null,\n",
      "      \"deployment_script\": null,\n",
      "      \"inference_script\": \"bedrock_predictor.py\",\n",
      "      \"inference_spec\": {\n",
      "        \"split_input_and_parameters\": false,\n",
      "        \"parameter_set\": \"bedrock\",\n",
      "        \"parameters\": {\n",
      "          \"temperature\": 0.1,\n",
      "          \"max_tokens\": 100,\n",
      "          \"top_p\": 0.92,\n",
      "          \"caching\": false\n",
      "        }\n",
      "      },\n",
      "      \"payload_files\": [\n",
      "        \"payload_en_1-500.jsonl\",\n",
      "        \"payload_en_500-1000.jsonl\"\n",
      "      ],\n",
      "      \"concurrency_levels\": [\n",
      "        1,\n",
      "        2\n",
      "      ],\n",
      "      \"env\": null,\n",
      "      \"bucket\": \"sagemaker-fmbench-write-us-west-2-387192758086\"\n",
      "    },\n",
      "    {\n",
      "      \"name\": \"cohere.command-text-v14\",\n",
      "      \"model_id\": \"cohere.command-text-v14\",\n",
      "      \"model_version\": \"*\",\n",
      "      \"model_name\": \"cohere.command-text-v14\",\n",
      "      \"ep_name\": \"cohere.command-text-v14\",\n",
      "      \"instance_type\": \"cohere.command-text-v14\",\n",
      "      \"image_uri\": null,\n",
      "      \"deploy\": false,\n",
      "      \"instance_count\": null,\n",
      "      \"deployment_script\": null,\n",
      "      \"inference_script\": \"bedrock_predictor.py\",\n",
      "      \"inference_spec\": {\n",
      "        \"split_input_and_parameters\": false,\n",
      "        \"parameter_set\": \"bedrock\",\n",
      "        \"parameters\": {\n",
      "          \"temperature\": 0.1,\n",
      "          \"max_tokens\": 100,\n",
      "          \"top_p\": 0.92,\n",
      "          \"caching\": false\n",
      "        }\n",
      "      },\n",
      "      \"payload_files\": [\n",
      "        \"payload_en_1-500.jsonl\",\n",
      "        \"payload_en_500-1000.jsonl\"\n",
      "      ],\n",
      "      \"concurrency_levels\": [\n",
      "        1,\n",
      "        2\n",
      "      ],\n",
      "      \"env\": null,\n",
      "      \"bucket\": \"sagemaker-fmbench-write-us-west-2-387192758086\"\n",
      "    },\n",
      "    {\n",
      "      \"name\": \"cohere.command-light-text-v14\",\n",
      "      \"model_id\": \"cohere.command-light-text-v14\",\n",
      "      \"model_version\": \"*\",\n",
      "      \"model_name\": \"cohere.command-light-text-v14\",\n",
      "      \"ep_name\": \"cohere.command-light-text-v14\",\n",
      "      \"instance_type\": \"cohere.command-light-text-v14\",\n",
      "      \"image_uri\": null,\n",
      "      \"deploy\": false,\n",
      "      \"instance_count\": null,\n",
      "      \"deployment_script\": null,\n",
      "      \"inference_script\": \"bedrock_predictor.py\",\n",
      "      \"inference_spec\": {\n",
      "        \"split_input_and_parameters\": false,\n",
      "        \"parameter_set\": \"bedrock\",\n",
      "        \"parameters\": {\n",
      "          \"temperature\": 0.1,\n",
      "          \"max_tokens\": 100,\n",
      "          \"top_p\": 0.92,\n",
      "          \"caching\": false\n",
      "        }\n",
      "      },\n",
      "      \"payload_files\": [\n",
      "        \"payload_en_1-500.jsonl\",\n",
      "        \"payload_en_500-1000.jsonl\"\n",
      "      ],\n",
      "      \"concurrency_levels\": [\n",
      "        1,\n",
      "        2\n",
      "      ],\n",
      "      \"env\": null,\n",
      "      \"bucket\": \"sagemaker-fmbench-write-us-west-2-387192758086\"\n",
      "    },\n",
      "    {\n",
      "      \"name\": \"ai21.j2-mid-v1\",\n",
      "      \"model_id\": \"ai21.j2-mid-v1\",\n",
      "      \"model_version\": \"*\",\n",
      "      \"model_name\": \"ai21.j2-mid-v1\",\n",
      "      \"ep_name\": \"ai21.j2-mid-v1\",\n",
      "      \"instance_type\": \"ai21.j2-mid-v1\",\n",
      "      \"image_uri\": null,\n",
      "      \"deploy\": false,\n",
      "      \"instance_count\": null,\n",
      "      \"deployment_script\": null,\n",
      "      \"inference_script\": \"bedrock_predictor.py\",\n",
      "      \"inference_spec\": {\n",
      "        \"split_input_and_parameters\": false,\n",
      "        \"parameter_set\": \"bedrock\",\n",
      "        \"parameters\": {\n",
      "          \"temperature\": 0.1,\n",
      "          \"max_tokens\": 100,\n",
      "          \"top_p\": 0.92,\n",
      "          \"caching\": false\n",
      "        }\n",
      "      },\n",
      "      \"payload_files\": [\n",
      "        \"payload_en_1-500.jsonl\",\n",
      "        \"payload_en_500-1000.jsonl\"\n",
      "      ],\n",
      "      \"concurrency_levels\": [\n",
      "        1,\n",
      "        2\n",
      "      ],\n",
      "      \"env\": null,\n",
      "      \"bucket\": \"sagemaker-fmbench-write-us-west-2-387192758086\"\n",
      "    },\n",
      "    {\n",
      "      \"name\": \"ai21.j2-ultra-v1\",\n",
      "      \"model_id\": \"ai21.j2-ultra-v1\",\n",
      "      \"model_version\": \"*\",\n",
      "      \"model_name\": \"ai21.j2-ultra-v1\",\n",
      "      \"ep_name\": \"ai21.j2-ultra-v1\",\n",
      "      \"instance_type\": \"ai21.j2-ultra-v1\",\n",
      "      \"image_uri\": null,\n",
      "      \"deploy\": false,\n",
      "      \"instance_count\": null,\n",
      "      \"deployment_script\": null,\n",
      "      \"inference_script\": \"bedrock_predictor.py\",\n",
      "      \"inference_spec\": {\n",
      "        \"split_input_and_parameters\": false,\n",
      "        \"parameter_set\": \"bedrock\",\n",
      "        \"parameters\": {\n",
      "          \"temperature\": 0.1,\n",
      "          \"max_tokens\": 100,\n",
      "          \"top_p\": 0.92,\n",
      "          \"caching\": false\n",
      "        }\n",
      "      },\n",
      "      \"payload_files\": [\n",
      "        \"payload_en_1-500.jsonl\",\n",
      "        \"payload_en_500-1000.jsonl\"\n",
      "      ],\n",
      "      \"concurrency_levels\": [\n",
      "        1,\n",
      "        2\n",
      "      ],\n",
      "      \"env\": null,\n",
      "      \"bucket\": \"sagemaker-fmbench-write-us-west-2-387192758086\"\n",
      "    }\n",
      "  ],\n",
      "  \"report\": {\n",
      "    \"latency_budget\": 2,\n",
      "    \"cosine_similarity_budget\": 0.3,\n",
      "    \"accuracy_budget\": 1,\n",
      "    \"accuracy_error_rate_budget\": 0,\n",
      "    \"cost_per_10k_txn_budget\": 50,\n",
      "    \"error_rate_budget\": 0,\n",
      "    \"per_inference_request_file\": \"per_inference_request_results.csv\",\n",
      "    \"all_metrics_file\": \"all_metrics.csv\",\n",
      "    \"txn_count_for_showing_cost\": 10000,\n",
      "    \"v_shift_w_single_instance\": 0.025,\n",
      "    \"v_shift_w_gt_one_instance\": 0.025\n",
      "  }\n",
      "}\n"
     ]
    },
    {
     "name": "stdout",
     "output_type": "stream",
     "text": [
      "role_arn_from_env=None, using current sts caller identity to set arn_string\n",
      "the sts role is an assumed role, setting arn_string to arn:aws:iam::387192758086:role/fmbench-stack-us-west-2-role\n"
     ]
    }
   ],
   "source": [
    "logger.info(f\"CONFIG_FILE={CONFIG_FILE}\")\n",
    "config = load_main_config(CONFIG_FILE)\n",
    "logger.info(json.dumps(config, indent=2))"
   ]
  },
  {
   "cell_type": "markdown",
   "metadata": {},
   "source": [
    "#### Load the associated pricing config file"
   ]
  },
  {
   "cell_type": "code",
   "execution_count": 6,
   "metadata": {
    "tags": []
   },
   "outputs": [
    {
     "name": "stderr",
     "output_type": "stream",
     "text": [
      "[2024-07-12 16:35:42,608] p27460 {2131877439.py:9} INFO - Using fmbench.configs directory: /home/ec2-user/anaconda3/envs/fmbench_eval_python311/lib/python3.11/site-packages/fmbench/configs\n",
      "[2024-07-12 16:35:42,609] p27460 {2131877439.py:12} INFO - pricing config provided for inference from this model is --> pricing.yml\n",
      "[2024-07-12 16:35:42,610] p27460 {2131877439.py:14} INFO - pricing config file path is --> /home/ec2-user/anaconda3/envs/fmbench_eval_python311/lib/python3.11/site-packages/fmbench/configs/pricing.yml\n"
     ]
    },
    {
     "name": "stdout",
     "output_type": "stream",
     "text": [
      "region_name=us-west-2\n"
     ]
    },
    {
     "name": "stderr",
     "output_type": "stream",
     "text": [
      "[2024-07-12 16:35:42,902] p27460 {2131877439.py:17} INFO - pricing config file recorded: {\n",
      "  \"pricing\": {\n",
      "    \"instance_based\": {\n",
      "      \"ml.m5.xlarge\": 0.23,\n",
      "      \"ml.g5.xlarge\": 1.4084,\n",
      "      \"ml.g5.2xlarge\": 1.515,\n",
      "      \"ml.g5.12xlarge\": 7.09,\n",
      "      \"ml.g5.24xlarge\": 10.18,\n",
      "      \"ml.g5.48xlarge\": 20.36,\n",
      "      \"ml.inf2.xlarge\": 0.99,\n",
      "      \"ml.inf2.8xlarge\": 2.36,\n",
      "      \"ml.inf2.24xlarge\": 7.79,\n",
      "      \"ml.inf2.48xlarge\": 15.58,\n",
      "      \"ml.trn1.32xlarge\": 28.497,\n",
      "      \"ml.p4d.24xlarge\": 37.688,\n",
      "      \"ml.p5.48xlarge\": 113.068,\n",
      "      \"ml.p3.2xlarge\": 3.825,\n",
      "      \"ml.g4dn.12xlarge\": 4.89,\n",
      "      \"ml.g6.2xlarge\": 1.222,\n",
      "      \"ml.g6.16xlarge\": 4.246,\n",
      "      \"ml.g6.12xlarge\": 5.752,\n",
      "      \"ml.g6.24xlarge\": 8.344,\n",
      "      \"ml.g6.48xlarge\": 16.688,\n",
      "      \"anthropic.claude-v3-sonnet-pt-nc\": 88,\n",
      "      \"m5.xlarge\": 0.192,\n",
      "      \"g5.xlarge\": 1.006,\n",
      "      \"g5.2xlarge\": 1.212,\n",
      "      \"g5.12xlarge\": 5.672,\n",
      "      \"g5.24xlarge\": 8.144,\n",
      "      \"g5.48xlarge\": 16.288,\n",
      "      \"inf2.xlarge\": 0.7582,\n",
      "      \"inf2.8xlarge\": 1.96786,\n",
      "      \"inf2.24xlarge\": 6.49063,\n",
      "      \"inf2.48xlarge\": 12.98127,\n",
      "      \"trn1.32xlarge\": 21.5,\n",
      "      \"p4d.24xlarge\": 32.7726,\n",
      "      \"p5.48xlarge\": 98.32,\n",
      "      \"p3.2xlarge\": 3.06,\n",
      "      \"g4dn.12xlarge\": 3.912,\n",
      "      \"g6.2xlarge\": 0.9776,\n",
      "      \"g6.16xlarge\": 3.3968,\n",
      "      \"g6.12xlarge\": 4.6016,\n",
      "      \"g6.24xlarge\": 6.6752,\n",
      "      \"g6.48xlarge\": 13.3504\n",
      "    },\n",
      "    \"token_based\": {\n",
      "      \"anthropic.claude-3-haiku-20240307-v1:0\": {\n",
      "        \"input-per-1k-tokens\": 0.00025,\n",
      "        \"output-per-1k-tokens\": 0.00125\n",
      "      },\n",
      "      \"anthropic.claude-3-sonnet-20240229-v1:0\": {\n",
      "        \"input-per-1k-tokens\": 0.003,\n",
      "        \"output-per-1k-tokens\": 0.015\n",
      "      },\n",
      "      \"amazon.titan-text-lite-v1\": {\n",
      "        \"input-per-1k-tokens\": 0.0003,\n",
      "        \"output-per-1k-tokens\": 0.0004\n",
      "      },\n",
      "      \"amazon.titan-text-express-v1\": {\n",
      "        \"input-per-1k-tokens\": 0.0008,\n",
      "        \"output-per-1k-tokens\": 0.0016\n",
      "      },\n",
      "      \"mistral.mistral-7b-instruct-v0:2\": {\n",
      "        \"input-per-1k-tokens\": 0.00015,\n",
      "        \"output-per-1k-tokens\": 0.0002\n",
      "      },\n",
      "      \"mistral.mixtral-8x7b-instruct-v0:1\": {\n",
      "        \"input-per-1k-tokens\": 0.00045,\n",
      "        \"output-per-1k-tokens\": 0.0007\n",
      "      },\n",
      "      \"meta.llama3-8b-instruct-v1:0\": {\n",
      "        \"input-per-1k-tokens\": 0.0004,\n",
      "        \"output-per-1k-tokens\": 0.0006\n",
      "      },\n",
      "      \"meta.llama3-70b-instruct-v1:0\": {\n",
      "        \"input-per-1k-tokens\": 0.00265,\n",
      "        \"output-per-1k-tokens\": 0.0035\n",
      "      },\n",
      "      \"meta.llama2-13b-chat-v1\": {\n",
      "        \"input-per-1k-tokens\": 0.00075,\n",
      "        \"output-per-1k-tokens\": 0.001\n",
      "      },\n",
      "      \"meta.llama2-70b-chat-v1\": {\n",
      "        \"input-per-1k-tokens\": 0.00195,\n",
      "        \"output-per-1k-tokens\": 0.00256\n",
      "      },\n",
      "      \"ai21.j2-mid-v1\": {\n",
      "        \"input-per-1k-tokens\": 0.0125,\n",
      "        \"output-per-1k-tokens\": 0.0125\n",
      "      },\n",
      "      \"ai21.j2-ultra-v1\": {\n",
      "        \"input-per-1k-tokens\": 0.0188,\n",
      "        \"output-per-1k-tokens\": 0.0188\n",
      "      },\n",
      "      \"cohere.command-text-v14\": {\n",
      "        \"input-per-1k-tokens\": 0.0015,\n",
      "        \"output-per-1k-tokens\": 0.002\n",
      "      },\n",
      "      \"cohere.command-light-text-v14\": {\n",
      "        \"input-per-1k-tokens\": 0.0003,\n",
      "        \"output-per-1k-tokens\": 0.0006\n",
      "      }\n",
      "    }\n",
      "  }\n",
      "}\n"
     ]
    },
    {
     "name": "stdout",
     "output_type": "stream",
     "text": [
      "role_arn_from_env=None, using current sts caller identity to set arn_string\n",
      "the sts role is an assumed role, setting arn_string to arn:aws:iam::387192758086:role/fmbench-stack-us-west-2-role\n"
     ]
    }
   ],
   "source": [
    "# represents getting the config file from the s3 bucket/https path for pricing yml information\n",
    "pricing_file_path: str = config['pricing'] \n",
    "\n",
    "# initialize the pricing config file to None\n",
    "pricing_config: Optional[Dict] = None\n",
    "\n",
    "# get the current config dir path\n",
    "config_dir = Path(pkg_resources.files('fmbench'), 'configs')\n",
    "logger.info(f\"Using fmbench.configs directory: {config_dir}\")\n",
    "\n",
    "pricing_module = Path(config['pricing'])\n",
    "logger.info(f\"pricing config provided for inference from this model is --> {pricing_module}\")\n",
    "pricing_file_path = os.path.join(config_dir, pricing_module)\n",
    "logger.info(f\"pricing config file path is --> {pricing_file_path}\")\n",
    "\n",
    "pricing_config = load_config(pricing_file_path)\n",
    "logger.info(f\"pricing config file recorded: {json.dumps(pricing_config, indent=2)}\")"
   ]
  },
  {
   "cell_type": "code",
   "execution_count": 7,
   "metadata": {
    "tags": []
   },
   "outputs": [
    {
     "name": "stderr",
     "output_type": "stream",
     "text": [
      "[2024-07-12 16:35:42,907] p27460 {3887258129.py:6} INFO - cwd=/home/ec2-user/SageMaker/foundation-model-benchmarking-tool/src/fmbench, METADATA_DIR=metadata, METRICS_PATH_FNAME=metrics_path.txt, metrics_path_file=metadata/metrics_path.txt\n"
     ]
    },
    {
     "ename": "FileNotFoundError",
     "evalue": "[Errno 2] No such file or directory: 'metadata/metrics_path.txt'",
     "output_type": "error",
     "traceback": [
      "\u001b[0;31m---------------------------------------------------------------------------\u001b[0m",
      "\u001b[0;31mFileNotFoundError\u001b[0m                         Traceback (most recent call last)",
      "Cell \u001b[0;32mIn[7], line 7\u001b[0m\n\u001b[1;32m      5\u001b[0m     metrics_path_file: \u001b[38;5;28mstr\u001b[39m \u001b[38;5;241m=\u001b[39m os\u001b[38;5;241m.\u001b[39mpath\u001b[38;5;241m.\u001b[39mjoin(METADATA_DIR, METRICS_PATH_FNAME)\n\u001b[1;32m      6\u001b[0m logger\u001b[38;5;241m.\u001b[39minfo(\u001b[38;5;124mf\u001b[39m\u001b[38;5;124m\"\u001b[39m\u001b[38;5;124mcwd=\u001b[39m\u001b[38;5;132;01m{\u001b[39;00mos\u001b[38;5;241m.\u001b[39mgetcwd()\u001b[38;5;132;01m}\u001b[39;00m\u001b[38;5;124m, METADATA_DIR=\u001b[39m\u001b[38;5;132;01m{\u001b[39;00mMETADATA_DIR\u001b[38;5;132;01m}\u001b[39;00m\u001b[38;5;124m, METRICS_PATH_FNAME=\u001b[39m\u001b[38;5;132;01m{\u001b[39;00mMETRICS_PATH_FNAME\u001b[38;5;132;01m}\u001b[39;00m\u001b[38;5;124m, metrics_path_file=\u001b[39m\u001b[38;5;132;01m{\u001b[39;00mmetrics_path_file\u001b[38;5;132;01m}\u001b[39;00m\u001b[38;5;124m\"\u001b[39m)\n\u001b[0;32m----> 7\u001b[0m METRICS_DIR: \u001b[38;5;28mstr\u001b[39m \u001b[38;5;241m=\u001b[39m \u001b[43mPath\u001b[49m\u001b[43m(\u001b[49m\u001b[43mmetrics_path_file\u001b[49m\u001b[43m)\u001b[49m\u001b[38;5;241;43m.\u001b[39;49m\u001b[43mread_text\u001b[49m\u001b[43m(\u001b[49m\u001b[43m)\u001b[49m\u001b[38;5;241m.\u001b[39mstrip()\n\u001b[1;32m      8\u001b[0m logger\u001b[38;5;241m.\u001b[39minfo(\u001b[38;5;124mf\u001b[39m\u001b[38;5;124m\"\u001b[39m\u001b[38;5;124mmetrics_path_file=\u001b[39m\u001b[38;5;132;01m{\u001b[39;00mmetrics_path_file\u001b[38;5;132;01m}\u001b[39;00m\u001b[38;5;124m, METRICS_DIR=\u001b[39m\u001b[38;5;132;01m{\u001b[39;00mMETRICS_DIR\u001b[38;5;132;01m}\u001b[39;00m\u001b[38;5;124m\"\u001b[39m)\n",
      "File \u001b[0;32m~/anaconda3/envs/fmbench_eval_python311/lib/python3.11/pathlib.py:1058\u001b[0m, in \u001b[0;36mPath.read_text\u001b[0;34m(self, encoding, errors)\u001b[0m\n\u001b[1;32m   1054\u001b[0m \u001b[38;5;250m\u001b[39m\u001b[38;5;124;03m\"\"\"\u001b[39;00m\n\u001b[1;32m   1055\u001b[0m \u001b[38;5;124;03mOpen the file in text mode, read it, and close the file.\u001b[39;00m\n\u001b[1;32m   1056\u001b[0m \u001b[38;5;124;03m\"\"\"\u001b[39;00m\n\u001b[1;32m   1057\u001b[0m encoding \u001b[38;5;241m=\u001b[39m io\u001b[38;5;241m.\u001b[39mtext_encoding(encoding)\n\u001b[0;32m-> 1058\u001b[0m \u001b[38;5;28;01mwith\u001b[39;00m \u001b[38;5;28;43mself\u001b[39;49m\u001b[38;5;241;43m.\u001b[39;49m\u001b[43mopen\u001b[49m\u001b[43m(\u001b[49m\u001b[43mmode\u001b[49m\u001b[38;5;241;43m=\u001b[39;49m\u001b[38;5;124;43m'\u001b[39;49m\u001b[38;5;124;43mr\u001b[39;49m\u001b[38;5;124;43m'\u001b[39;49m\u001b[43m,\u001b[49m\u001b[43m \u001b[49m\u001b[43mencoding\u001b[49m\u001b[38;5;241;43m=\u001b[39;49m\u001b[43mencoding\u001b[49m\u001b[43m,\u001b[49m\u001b[43m \u001b[49m\u001b[43merrors\u001b[49m\u001b[38;5;241;43m=\u001b[39;49m\u001b[43merrors\u001b[49m\u001b[43m)\u001b[49m \u001b[38;5;28;01mas\u001b[39;00m f:\n\u001b[1;32m   1059\u001b[0m     \u001b[38;5;28;01mreturn\u001b[39;00m f\u001b[38;5;241m.\u001b[39mread()\n",
      "File \u001b[0;32m~/anaconda3/envs/fmbench_eval_python311/lib/python3.11/pathlib.py:1044\u001b[0m, in \u001b[0;36mPath.open\u001b[0;34m(self, mode, buffering, encoding, errors, newline)\u001b[0m\n\u001b[1;32m   1042\u001b[0m \u001b[38;5;28;01mif\u001b[39;00m \u001b[38;5;124m\"\u001b[39m\u001b[38;5;124mb\u001b[39m\u001b[38;5;124m\"\u001b[39m \u001b[38;5;129;01mnot\u001b[39;00m \u001b[38;5;129;01min\u001b[39;00m mode:\n\u001b[1;32m   1043\u001b[0m     encoding \u001b[38;5;241m=\u001b[39m io\u001b[38;5;241m.\u001b[39mtext_encoding(encoding)\n\u001b[0;32m-> 1044\u001b[0m \u001b[38;5;28;01mreturn\u001b[39;00m io\u001b[38;5;241m.\u001b[39mopen(\u001b[38;5;28mself\u001b[39m, mode, buffering, encoding, errors, newline)\n",
      "\u001b[0;31mFileNotFoundError\u001b[0m: [Errno 2] No such file or directory: 'metadata/metrics_path.txt'"
     ]
    }
   ],
   "source": [
    "debug = False\n",
    "if debug is True:\n",
    "    metrics_path_file: str = os.path.join(\"..\", \"..\", METADATA_DIR, METRICS_PATH_FNAME)\n",
    "else:\n",
    "    metrics_path_file: str = os.path.join(METADATA_DIR, METRICS_PATH_FNAME)\n",
    "logger.info(f\"cwd={os.getcwd()}, METADATA_DIR={METADATA_DIR}, METRICS_PATH_FNAME={METRICS_PATH_FNAME}, metrics_path_file={metrics_path_file}\")\n",
    "METRICS_DIR: str = Path(metrics_path_file).read_text().strip()\n",
    "logger.info(f\"metrics_path_file={metrics_path_file}, METRICS_DIR={METRICS_DIR}\")"
   ]
  },
  {
   "cell_type": "code",
   "execution_count": 8,
   "metadata": {
    "tags": []
   },
   "outputs": [
    {
     "name": "stderr",
     "output_type": "stream",
     "text": [
      "[2024-07-12 16:35:48,216] p27460 {187576928.py:2} INFO - File path containing the metrics per inference folder --> fmbench-bedrock-fmbench-stack-us-west-2-role/data/metrics/yyyy=2024/mm=07/dd=12/hh=01/mm=18/per_inference_request_results.csv\n",
      "[2024-07-12 16:35:48,321] p27460 {187576928.py:9} INFO - fmbench-bedrock-fmbench-stack-us-west-2-role/data/metrics/yyyy=2024/mm=07/dd=12/hh=01/mm=18/per_inference_request_results.csv read into dataframe of shape (360, 22), cols=Index(['endpoint_name', 'prompt', 'ground_truth', 'temperature', 'max_tokens',\n",
      "       'top_p', 'completion', 'prompt_tokens', 'completion_tokens', 'latency',\n",
      "       'time_to_first_token', 'time_per_output_token', 'time_to_last_token',\n",
      "       'uuid', 'experiment_name', 'concurrency', 'instance_type',\n",
      "       'instance_count', 'EndpointName', 'ModelName', 'Image', 'S3Uri'],\n",
      "      dtype='object')\n",
      "[2024-07-12 16:35:48,322] p27460 {187576928.py:11} INFO - fmbench-bedrock-fmbench-stack-us-west-2-role/data/metrics/yyyy=2024/mm=07/dd=12/hh=01/mm=18/per_inference_request_results.csv contains results for the following endpoints=['mistral.mistral-7b-instruct-v0:2' 'mistral.mixtral-8x7b-instruct-v0:1'\n",
      " 'meta.llama2-13b-chat-v1' 'meta.llama2-70b-chat-v1'\n",
      " 'amazon.titan-text-lite-v1' 'amazon.titan-text-express-v1'\n",
      " 'anthropic.claude-3-sonnet-20240229-v1:0'\n",
      " 'anthropic.claude-3-haiku-20240307-v1:0' 'cohere.command-text-v14'\n",
      " 'cohere.command-light-text-v14' 'ai21.j2-mid-v1' 'ai21.j2-ultra-v1']\n",
      "[2024-07-12 16:35:48,323] p27460 {187576928.py:12} INFO -                       endpoint_name  \\\n",
      "0  mistral.mistral-7b-instruct-v0:2   \n",
      "1  mistral.mistral-7b-instruct-v0:2   \n",
      "2  mistral.mistral-7b-instruct-v0:2   \n",
      "3  mistral.mistral-7b-instruct-v0:2   \n",
      "4  mistral.mistral-7b-instruct-v0:2   \n",
      "\n",
      "                                              prompt  \\\n",
      "0  <s>[INST] <<SYS>>\\nYou are an assistant for qu...   \n",
      "1  <s>[INST] <<SYS>>\\nYou are an assistant for qu...   \n",
      "2  <s>[INST] <<SYS>>\\nYou are an assistant for qu...   \n",
      "3  <s>[INST] <<SYS>>\\nYou are an assistant for qu...   \n",
      "4  <s>[INST] <<SYS>>\\nYou are an assistant for qu...   \n",
      "\n",
      "                                        ground_truth  temperature  max_tokens  \\\n",
      "0  a genus of flowering plant in the Lardizabalac...          0.1         100   \n",
      "1  a genus of flowering plant in the Lardizabalac...          0.1         100   \n",
      "2  a genus of flowering plant in the Lardizabalac...          0.1         100   \n",
      "3  a genus of flowering plant in the Lardizabalac...          0.1         100   \n",
      "4  a genus of flowering plant in the Lardizabalac...          0.1         100   \n",
      "\n",
      "   top_p                                         completion  prompt_tokens  \\\n",
      "0   0.92  The genera Sinofranchetia and Stauntonia belon...            319   \n",
      "1   0.92  The genera Sinofranchetia and Stauntonia belon...            319   \n",
      "2   0.92  The genera Sinofranchetia and Stauntonia belon...            319   \n",
      "3   0.92  The genera Sinofranchetia and Stauntonia belon...            319   \n",
      "4   0.92  The genera Sinofranchetia and Stauntonia belon...            319   \n",
      "\n",
      "   completion_tokens   latency  ...  time_to_last_token  \\\n",
      "0                 26  0.440897  ...                 NaN   \n",
      "1                 26  0.450330  ...                 NaN   \n",
      "2                 26  0.461762  ...                 NaN   \n",
      "3                 26  0.453813  ...                 NaN   \n",
      "4                 26  0.435938  ...                 NaN   \n",
      "\n",
      "                               uuid                   experiment_name  \\\n",
      "0  6e77fb90ea804956a115b0268df059b0  mistral.mistral-7b-instruct-v0:2   \n",
      "1  82d04de71238454a9bbe05f520f22cb0  mistral.mistral-7b-instruct-v0:2   \n",
      "2  22303e132fb646aa86b938083660dce8  mistral.mistral-7b-instruct-v0:2   \n",
      "3  715d1d30b18244279ff5c0fbf112f245  mistral.mistral-7b-instruct-v0:2   \n",
      "4  6ede1f51a3d143f09377dda35107693a  mistral.mistral-7b-instruct-v0:2   \n",
      "\n",
      "  concurrency                     instance_type  instance_count EndpointName  \\\n",
      "0           1  mistral.mistral-7b-instruct-v0:2             1.0          NaN   \n",
      "1           1  mistral.mistral-7b-instruct-v0:2             1.0          NaN   \n",
      "2           1  mistral.mistral-7b-instruct-v0:2             1.0          NaN   \n",
      "3           1  mistral.mistral-7b-instruct-v0:2             1.0          NaN   \n",
      "4           1  mistral.mistral-7b-instruct-v0:2             1.0          NaN   \n",
      "\n",
      "   ModelName  Image  S3Uri  \n",
      "0        NaN    NaN    NaN  \n",
      "1        NaN    NaN    NaN  \n",
      "2        NaN    NaN    NaN  \n",
      "3        NaN    NaN    NaN  \n",
      "4        NaN    NaN    NaN  \n",
      "\n",
      "[5 rows x 22 columns]\n"
     ]
    }
   ],
   "source": [
    "file_path: str = \"fmbench-bedrock-fmbench-stack-us-west-2-role/data/metrics/yyyy=2024/mm=07/dd=12/hh=01/mm=18/per_inference_request_results.csv\"\n",
    "logger.info(f\"File path containing the metrics per inference folder --> {file_path}\")\n",
    "\n",
    "# Read the file from S3\n",
    "try:\n",
    "    file_content = get_s3_object(config['aws']['bucket'], file_path)\n",
    "    # Use pandas to read the CSV content\n",
    "    df_per_inference = pd.read_csv(io.StringIO(file_content))\n",
    "    logger.info(f\"{file_path} read into dataframe of shape {df_per_inference.shape}, \"\n",
    "                f\"cols={df_per_inference.columns}\")\n",
    "    logger.info(f\"{file_path} contains results for the following endpoints={df_per_inference.endpoint_name.unique()}\")\n",
    "    logger.info(df_per_inference.head())\n",
    "except Exception as e:\n",
    "    logger.error(f\"Error reading from S3: {e}\")"
   ]
  },
  {
   "cell_type": "code",
   "execution_count": 9,
   "metadata": {
    "tags": []
   },
   "outputs": [
    {
     "data": {
      "text/html": [
       "<div>\n",
       "<style scoped>\n",
       "    .dataframe tbody tr th:only-of-type {\n",
       "        vertical-align: middle;\n",
       "    }\n",
       "\n",
       "    .dataframe tbody tr th {\n",
       "        vertical-align: top;\n",
       "    }\n",
       "\n",
       "    .dataframe thead th {\n",
       "        text-align: right;\n",
       "    }\n",
       "</style>\n",
       "<table border=\"1\" class=\"dataframe\">\n",
       "  <thead>\n",
       "    <tr style=\"text-align: right;\">\n",
       "      <th></th>\n",
       "      <th>endpoint_name</th>\n",
       "      <th>prompt</th>\n",
       "      <th>ground_truth</th>\n",
       "      <th>temperature</th>\n",
       "      <th>max_tokens</th>\n",
       "      <th>top_p</th>\n",
       "      <th>completion</th>\n",
       "      <th>prompt_tokens</th>\n",
       "      <th>completion_tokens</th>\n",
       "      <th>latency</th>\n",
       "      <th>...</th>\n",
       "      <th>time_to_last_token</th>\n",
       "      <th>uuid</th>\n",
       "      <th>experiment_name</th>\n",
       "      <th>concurrency</th>\n",
       "      <th>instance_type</th>\n",
       "      <th>instance_count</th>\n",
       "      <th>EndpointName</th>\n",
       "      <th>ModelName</th>\n",
       "      <th>Image</th>\n",
       "      <th>S3Uri</th>\n",
       "    </tr>\n",
       "  </thead>\n",
       "  <tbody>\n",
       "    <tr>\n",
       "      <th>0</th>\n",
       "      <td>mistral.mistral-7b-instruct-v0:2</td>\n",
       "      <td>&lt;s&gt;[INST] &lt;&lt;SYS&gt;&gt;\\nYou are an assistant for qu...</td>\n",
       "      <td>a genus of flowering plant in the Lardizabalac...</td>\n",
       "      <td>0.1</td>\n",
       "      <td>100</td>\n",
       "      <td>0.92</td>\n",
       "      <td>The genera Sinofranchetia and Stauntonia belon...</td>\n",
       "      <td>319</td>\n",
       "      <td>26</td>\n",
       "      <td>0.440897</td>\n",
       "      <td>...</td>\n",
       "      <td>NaN</td>\n",
       "      <td>6e77fb90ea804956a115b0268df059b0</td>\n",
       "      <td>mistral.mistral-7b-instruct-v0:2</td>\n",
       "      <td>1</td>\n",
       "      <td>mistral.mistral-7b-instruct-v0:2</td>\n",
       "      <td>1.0</td>\n",
       "      <td>NaN</td>\n",
       "      <td>NaN</td>\n",
       "      <td>NaN</td>\n",
       "      <td>NaN</td>\n",
       "    </tr>\n",
       "    <tr>\n",
       "      <th>1</th>\n",
       "      <td>mistral.mistral-7b-instruct-v0:2</td>\n",
       "      <td>&lt;s&gt;[INST] &lt;&lt;SYS&gt;&gt;\\nYou are an assistant for qu...</td>\n",
       "      <td>a genus of flowering plant in the Lardizabalac...</td>\n",
       "      <td>0.1</td>\n",
       "      <td>100</td>\n",
       "      <td>0.92</td>\n",
       "      <td>The genera Sinofranchetia and Stauntonia belon...</td>\n",
       "      <td>319</td>\n",
       "      <td>26</td>\n",
       "      <td>0.450330</td>\n",
       "      <td>...</td>\n",
       "      <td>NaN</td>\n",
       "      <td>82d04de71238454a9bbe05f520f22cb0</td>\n",
       "      <td>mistral.mistral-7b-instruct-v0:2</td>\n",
       "      <td>1</td>\n",
       "      <td>mistral.mistral-7b-instruct-v0:2</td>\n",
       "      <td>1.0</td>\n",
       "      <td>NaN</td>\n",
       "      <td>NaN</td>\n",
       "      <td>NaN</td>\n",
       "      <td>NaN</td>\n",
       "    </tr>\n",
       "    <tr>\n",
       "      <th>2</th>\n",
       "      <td>mistral.mistral-7b-instruct-v0:2</td>\n",
       "      <td>&lt;s&gt;[INST] &lt;&lt;SYS&gt;&gt;\\nYou are an assistant for qu...</td>\n",
       "      <td>a genus of flowering plant in the Lardizabalac...</td>\n",
       "      <td>0.1</td>\n",
       "      <td>100</td>\n",
       "      <td>0.92</td>\n",
       "      <td>The genera Sinofranchetia and Stauntonia belon...</td>\n",
       "      <td>319</td>\n",
       "      <td>26</td>\n",
       "      <td>0.461762</td>\n",
       "      <td>...</td>\n",
       "      <td>NaN</td>\n",
       "      <td>22303e132fb646aa86b938083660dce8</td>\n",
       "      <td>mistral.mistral-7b-instruct-v0:2</td>\n",
       "      <td>1</td>\n",
       "      <td>mistral.mistral-7b-instruct-v0:2</td>\n",
       "      <td>1.0</td>\n",
       "      <td>NaN</td>\n",
       "      <td>NaN</td>\n",
       "      <td>NaN</td>\n",
       "      <td>NaN</td>\n",
       "    </tr>\n",
       "    <tr>\n",
       "      <th>3</th>\n",
       "      <td>mistral.mistral-7b-instruct-v0:2</td>\n",
       "      <td>&lt;s&gt;[INST] &lt;&lt;SYS&gt;&gt;\\nYou are an assistant for qu...</td>\n",
       "      <td>a genus of flowering plant in the Lardizabalac...</td>\n",
       "      <td>0.1</td>\n",
       "      <td>100</td>\n",
       "      <td>0.92</td>\n",
       "      <td>The genera Sinofranchetia and Stauntonia belon...</td>\n",
       "      <td>319</td>\n",
       "      <td>26</td>\n",
       "      <td>0.453813</td>\n",
       "      <td>...</td>\n",
       "      <td>NaN</td>\n",
       "      <td>715d1d30b18244279ff5c0fbf112f245</td>\n",
       "      <td>mistral.mistral-7b-instruct-v0:2</td>\n",
       "      <td>1</td>\n",
       "      <td>mistral.mistral-7b-instruct-v0:2</td>\n",
       "      <td>1.0</td>\n",
       "      <td>NaN</td>\n",
       "      <td>NaN</td>\n",
       "      <td>NaN</td>\n",
       "      <td>NaN</td>\n",
       "    </tr>\n",
       "    <tr>\n",
       "      <th>4</th>\n",
       "      <td>mistral.mistral-7b-instruct-v0:2</td>\n",
       "      <td>&lt;s&gt;[INST] &lt;&lt;SYS&gt;&gt;\\nYou are an assistant for qu...</td>\n",
       "      <td>a genus of flowering plant in the Lardizabalac...</td>\n",
       "      <td>0.1</td>\n",
       "      <td>100</td>\n",
       "      <td>0.92</td>\n",
       "      <td>The genera Sinofranchetia and Stauntonia belon...</td>\n",
       "      <td>319</td>\n",
       "      <td>26</td>\n",
       "      <td>0.435938</td>\n",
       "      <td>...</td>\n",
       "      <td>NaN</td>\n",
       "      <td>6ede1f51a3d143f09377dda35107693a</td>\n",
       "      <td>mistral.mistral-7b-instruct-v0:2</td>\n",
       "      <td>1</td>\n",
       "      <td>mistral.mistral-7b-instruct-v0:2</td>\n",
       "      <td>1.0</td>\n",
       "      <td>NaN</td>\n",
       "      <td>NaN</td>\n",
       "      <td>NaN</td>\n",
       "      <td>NaN</td>\n",
       "    </tr>\n",
       "  </tbody>\n",
       "</table>\n",
       "<p>5 rows × 22 columns</p>\n",
       "</div>"
      ],
      "text/plain": [
       "                      endpoint_name  \\\n",
       "0  mistral.mistral-7b-instruct-v0:2   \n",
       "1  mistral.mistral-7b-instruct-v0:2   \n",
       "2  mistral.mistral-7b-instruct-v0:2   \n",
       "3  mistral.mistral-7b-instruct-v0:2   \n",
       "4  mistral.mistral-7b-instruct-v0:2   \n",
       "\n",
       "                                              prompt  \\\n",
       "0  <s>[INST] <<SYS>>\\nYou are an assistant for qu...   \n",
       "1  <s>[INST] <<SYS>>\\nYou are an assistant for qu...   \n",
       "2  <s>[INST] <<SYS>>\\nYou are an assistant for qu...   \n",
       "3  <s>[INST] <<SYS>>\\nYou are an assistant for qu...   \n",
       "4  <s>[INST] <<SYS>>\\nYou are an assistant for qu...   \n",
       "\n",
       "                                        ground_truth  temperature  max_tokens  \\\n",
       "0  a genus of flowering plant in the Lardizabalac...          0.1         100   \n",
       "1  a genus of flowering plant in the Lardizabalac...          0.1         100   \n",
       "2  a genus of flowering plant in the Lardizabalac...          0.1         100   \n",
       "3  a genus of flowering plant in the Lardizabalac...          0.1         100   \n",
       "4  a genus of flowering plant in the Lardizabalac...          0.1         100   \n",
       "\n",
       "   top_p                                         completion  prompt_tokens  \\\n",
       "0   0.92  The genera Sinofranchetia and Stauntonia belon...            319   \n",
       "1   0.92  The genera Sinofranchetia and Stauntonia belon...            319   \n",
       "2   0.92  The genera Sinofranchetia and Stauntonia belon...            319   \n",
       "3   0.92  The genera Sinofranchetia and Stauntonia belon...            319   \n",
       "4   0.92  The genera Sinofranchetia and Stauntonia belon...            319   \n",
       "\n",
       "   completion_tokens   latency  ...  time_to_last_token  \\\n",
       "0                 26  0.440897  ...                 NaN   \n",
       "1                 26  0.450330  ...                 NaN   \n",
       "2                 26  0.461762  ...                 NaN   \n",
       "3                 26  0.453813  ...                 NaN   \n",
       "4                 26  0.435938  ...                 NaN   \n",
       "\n",
       "                               uuid                   experiment_name  \\\n",
       "0  6e77fb90ea804956a115b0268df059b0  mistral.mistral-7b-instruct-v0:2   \n",
       "1  82d04de71238454a9bbe05f520f22cb0  mistral.mistral-7b-instruct-v0:2   \n",
       "2  22303e132fb646aa86b938083660dce8  mistral.mistral-7b-instruct-v0:2   \n",
       "3  715d1d30b18244279ff5c0fbf112f245  mistral.mistral-7b-instruct-v0:2   \n",
       "4  6ede1f51a3d143f09377dda35107693a  mistral.mistral-7b-instruct-v0:2   \n",
       "\n",
       "  concurrency                     instance_type  instance_count EndpointName  \\\n",
       "0           1  mistral.mistral-7b-instruct-v0:2             1.0          NaN   \n",
       "1           1  mistral.mistral-7b-instruct-v0:2             1.0          NaN   \n",
       "2           1  mistral.mistral-7b-instruct-v0:2             1.0          NaN   \n",
       "3           1  mistral.mistral-7b-instruct-v0:2             1.0          NaN   \n",
       "4           1  mistral.mistral-7b-instruct-v0:2             1.0          NaN   \n",
       "\n",
       "   ModelName  Image  S3Uri  \n",
       "0        NaN    NaN    NaN  \n",
       "1        NaN    NaN    NaN  \n",
       "2        NaN    NaN    NaN  \n",
       "3        NaN    NaN    NaN  \n",
       "4        NaN    NaN    NaN  \n",
       "\n",
       "[5 rows x 22 columns]"
      ]
     },
     "execution_count": 9,
     "metadata": {},
     "output_type": "execute_result"
    }
   ],
   "source": [
    "df_per_inference.head()"
   ]
  },
  {
   "cell_type": "markdown",
   "metadata": {},
   "source": [
    "### Relationship between prompt token length and inference latency for different instances and concurrency levels"
   ]
  },
  {
   "cell_type": "code",
   "execution_count": 10,
   "metadata": {
    "tags": []
   },
   "outputs": [
    {
     "data": {
      "text/plain": [
       "count    360.000000\n",
       "mean       0.999005\n",
       "std        0.660359\n",
       "min        0.273340\n",
       "25%        0.549609\n",
       "50%        0.800043\n",
       "75%        1.293201\n",
       "max        5.731676\n",
       "Name: latency, dtype: float64"
      ]
     },
     "execution_count": 10,
     "metadata": {},
     "output_type": "execute_result"
    }
   ],
   "source": [
    "df_per_inference.latency.describe()"
   ]
  },
  {
   "cell_type": "markdown",
   "metadata": {},
   "source": [
    "### Use the `sentence-transformers/all-mpnet-base-v2` embeddings model to calculate the _Cosine Similarity_ scores \n",
    "---\n",
    "\n",
    "This portion of the evaluation step does as follows:\n",
    "\n",
    "1. Uses the `sentence-transformers/all-mpnet-base-v2` model from Hugging Face. This is a sentence-transformers model. It maps sentences & paragraphs to a 768 dimensional dense vector space and can be used for tasks like clustering or semantic search.\n",
    "\n",
    "1. Use the embeddings model to get quantitative metrics from the inferences. This helps to get a similarity score between the ground truth answers from a dataset if any are given and the actual responses from the model received during inference.\n",
    "\n",
    "1. If no ground truth is provided, cosine similarity is calculated between the response and the content provided to answer the question.embeddings_model_info"
   ]
  },
  {
   "cell_type": "code",
   "execution_count": 11,
   "metadata": {
    "tags": []
   },
   "outputs": [],
   "source": [
    "# get the quantitiative evaluation information from the config file, such as the embeddings model\n",
    "# to be used\n",
    "embeddings_model_quantitative_info: Dict = config['model_evaluations']['quantitative_eval_info']\n",
    "\n",
    "\n",
    "def load_model():\n",
    "    \"\"\"\n",
    "    This function loads the sentence-transformers model based on the provided model ID.\n",
    "    \"\"\"\n",
    "    try: \n",
    "        model=None\n",
    "        model_id = embeddings_model_quantitative_info['embeddings_model_id'].get('model_id', None)\n",
    "        if model_id:\n",
    "            model = SentenceTransformer(model_id)\n",
    "        else:\n",
    "            raise ValueError(\"Model ID is not provided or invalid in the configuration.\")\n",
    "    except Exception as e:\n",
    "        logger.error(f\"The SentenceTransformer embeddings model could not be loaded: {e}\")\n",
    "        model=None\n",
    "    return model"
   ]
  },
  {
   "cell_type": "code",
   "execution_count": 12,
   "metadata": {
    "tags": []
   },
   "outputs": [
    {
     "name": "stderr",
     "output_type": "stream",
     "text": [
      "[2024-07-12 16:35:50,764] p27460 {SentenceTransformer.py:189} INFO - Use pytorch device_name: cpu\n",
      "[2024-07-12 16:35:50,765] p27460 {SentenceTransformer.py:197} INFO - Load pretrained SentenceTransformer: sentence-transformers/all-mpnet-base-v2\n",
      "/home/ec2-user/anaconda3/envs/fmbench_eval_python311/lib/python3.11/site-packages/huggingface_hub/file_download.py:1132: FutureWarning: `resume_download` is deprecated and will be removed in version 1.0.0. Downloads always resume when possible. If you want to force a new download, use `force_download=True`.\n",
      "  warnings.warn(\n"
     ]
    },
    {
     "data": {
      "application/vnd.jupyter.widget-view+json": {
       "model_id": "a8794b9194524ac1a98780acefc05072",
       "version_major": 2,
       "version_minor": 0
      },
      "text/plain": [
       "Batches:   0%|          | 0/1 [00:00<?, ?it/s]"
      ]
     },
     "metadata": {},
     "output_type": "display_data"
    },
    {
     "name": "stderr",
     "output_type": "stream",
     "text": [
      "huggingface/tokenizers: The current process just got forked, after parallelism has already been used. Disabling parallelism to avoid deadlocks...\n",
      "To disable this warning, you can either:\n",
      "\t- Avoid using `tokenizers` before the fork if possible\n",
      "\t- Explicitly set the environment variable TOKENIZERS_PARALLELISM=(true | false)\n",
      "huggingface/tokenizers: The current process just got forked, after parallelism has already been used. Disabling parallelism to avoid deadlocks...\n",
      "To disable this warning, you can either:\n",
      "\t- Avoid using `tokenizers` before the fork if possible\n",
      "\t- Explicitly set the environment variable TOKENIZERS_PARALLELISM=(true | false)\n",
      "huggingface/tokenizers: The current process just got forked, after parallelism has already been used. Disabling parallelism to avoid deadlocks...\n",
      "To disable this warning, you can either:\n",
      "\t- Avoid using `tokenizers` before the fork if possible\n",
      "\t- Explicitly set the environment variable TOKENIZERS_PARALLELISM=(true | false)\n",
      "/home/ec2-user/anaconda3/envs/fmbench_eval_python311/lib/python3.11/site-packages/torch/cuda/__init__.py:619: UserWarning: Can't initialize NVML\n",
      "  warnings.warn(\"Can't initialize NVML\")\n"
     ]
    },
    {
     "data": {
      "application/vnd.jupyter.widget-view+json": {
       "model_id": "09b4720cf8984103a90d618a17b8973f",
       "version_major": 2,
       "version_minor": 0
      },
      "text/plain": [
       "Batches:   0%|          | 0/1 [00:00<?, ?it/s]"
      ]
     },
     "metadata": {},
     "output_type": "display_data"
    },
    {
     "data": {
      "application/vnd.jupyter.widget-view+json": {
       "model_id": "0866e4deaaba43d8bdf9fc0c0941bec5",
       "version_major": 2,
       "version_minor": 0
      },
      "text/plain": [
       "Batches:   0%|          | 0/1 [00:00<?, ?it/s]"
      ]
     },
     "metadata": {},
     "output_type": "display_data"
    },
    {
     "data": {
      "application/vnd.jupyter.widget-view+json": {
       "model_id": "87b698df17d94fe08664ec6ef56a56a6",
       "version_major": 2,
       "version_minor": 0
      },
      "text/plain": [
       "Batches:   0%|          | 0/1 [00:00<?, ?it/s]"
      ]
     },
     "metadata": {},
     "output_type": "display_data"
    },
    {
     "data": {
      "application/vnd.jupyter.widget-view+json": {
       "model_id": "eac5c1b3eb49459eaeaa389a3b240b50",
       "version_major": 2,
       "version_minor": 0
      },
      "text/plain": [
       "Batches:   0%|          | 0/1 [00:00<?, ?it/s]"
      ]
     },
     "metadata": {},
     "output_type": "display_data"
    },
    {
     "data": {
      "application/vnd.jupyter.widget-view+json": {
       "model_id": "9e99d5b250f14b4fb7fd408191101bff",
       "version_major": 2,
       "version_minor": 0
      },
      "text/plain": [
       "Batches:   0%|          | 0/1 [00:00<?, ?it/s]"
      ]
     },
     "metadata": {},
     "output_type": "display_data"
    },
    {
     "data": {
      "application/vnd.jupyter.widget-view+json": {
       "model_id": "9f3b83cf912243259681c9c73074b36b",
       "version_major": 2,
       "version_minor": 0
      },
      "text/plain": [
       "Batches:   0%|          | 0/1 [00:00<?, ?it/s]"
      ]
     },
     "metadata": {},
     "output_type": "display_data"
    },
    {
     "data": {
      "application/vnd.jupyter.widget-view+json": {
       "model_id": "8dafb54f0c19494abe4c3f62e90a0bdf",
       "version_major": 2,
       "version_minor": 0
      },
      "text/plain": [
       "Batches:   0%|          | 0/1 [00:00<?, ?it/s]"
      ]
     },
     "metadata": {},
     "output_type": "display_data"
    },
    {
     "data": {
      "application/vnd.jupyter.widget-view+json": {
       "model_id": "862d7f6fd77b42718a92c83ad621a45d",
       "version_major": 2,
       "version_minor": 0
      },
      "text/plain": [
       "Batches:   0%|          | 0/1 [00:00<?, ?it/s]"
      ]
     },
     "metadata": {},
     "output_type": "display_data"
    },
    {
     "data": {
      "application/vnd.jupyter.widget-view+json": {
       "model_id": "cbdec52c512e4b94b345378c3fc8fbad",
       "version_major": 2,
       "version_minor": 0
      },
      "text/plain": [
       "Batches:   0%|          | 0/1 [00:00<?, ?it/s]"
      ]
     },
     "metadata": {},
     "output_type": "display_data"
    },
    {
     "data": {
      "application/vnd.jupyter.widget-view+json": {
       "model_id": "2c32d8b4ee65497ebd5407e2a57b02ec",
       "version_major": 2,
       "version_minor": 0
      },
      "text/plain": [
       "Batches:   0%|          | 0/1 [00:00<?, ?it/s]"
      ]
     },
     "metadata": {},
     "output_type": "display_data"
    },
    {
     "data": {
      "application/vnd.jupyter.widget-view+json": {
       "model_id": "5117420ef2a84b24b317172d862d1863",
       "version_major": 2,
       "version_minor": 0
      },
      "text/plain": [
       "Batches:   0%|          | 0/1 [00:00<?, ?it/s]"
      ]
     },
     "metadata": {},
     "output_type": "display_data"
    },
    {
     "data": {
      "application/vnd.jupyter.widget-view+json": {
       "model_id": "48a9a8ff843e4015bade9501d41fb2b7",
       "version_major": 2,
       "version_minor": 0
      },
      "text/plain": [
       "Batches:   0%|          | 0/1 [00:00<?, ?it/s]"
      ]
     },
     "metadata": {},
     "output_type": "display_data"
    },
    {
     "data": {
      "application/vnd.jupyter.widget-view+json": {
       "model_id": "4f2924cc12874b33845d71b5a159c162",
       "version_major": 2,
       "version_minor": 0
      },
      "text/plain": [
       "Batches:   0%|          | 0/1 [00:00<?, ?it/s]"
      ]
     },
     "metadata": {},
     "output_type": "display_data"
    },
    {
     "data": {
      "application/vnd.jupyter.widget-view+json": {
       "model_id": "0afa9268a84945e1b90c5837292eaea2",
       "version_major": 2,
       "version_minor": 0
      },
      "text/plain": [
       "Batches:   0%|          | 0/1 [00:00<?, ?it/s]"
      ]
     },
     "metadata": {},
     "output_type": "display_data"
    },
    {
     "data": {
      "application/vnd.jupyter.widget-view+json": {
       "model_id": "c18384d6cc734cbeb01b63fb31d15e19",
       "version_major": 2,
       "version_minor": 0
      },
      "text/plain": [
       "Batches:   0%|          | 0/1 [00:00<?, ?it/s]"
      ]
     },
     "metadata": {},
     "output_type": "display_data"
    },
    {
     "data": {
      "application/vnd.jupyter.widget-view+json": {
       "model_id": "7de95f033563453e982168e108613f1c",
       "version_major": 2,
       "version_minor": 0
      },
      "text/plain": [
       "Batches:   0%|          | 0/1 [00:00<?, ?it/s]"
      ]
     },
     "metadata": {},
     "output_type": "display_data"
    },
    {
     "data": {
      "application/vnd.jupyter.widget-view+json": {
       "model_id": "7dd6f0a43964453ea2041c6788c02854",
       "version_major": 2,
       "version_minor": 0
      },
      "text/plain": [
       "Batches:   0%|          | 0/1 [00:00<?, ?it/s]"
      ]
     },
     "metadata": {},
     "output_type": "display_data"
    },
    {
     "data": {
      "application/vnd.jupyter.widget-view+json": {
       "model_id": "8cc129652e3e4ef5ae561cd610e027ec",
       "version_major": 2,
       "version_minor": 0
      },
      "text/plain": [
       "Batches:   0%|          | 0/1 [00:00<?, ?it/s]"
      ]
     },
     "metadata": {},
     "output_type": "display_data"
    },
    {
     "data": {
      "application/vnd.jupyter.widget-view+json": {
       "model_id": "56aef9921a234b67ac9a1b17becf68da",
       "version_major": 2,
       "version_minor": 0
      },
      "text/plain": [
       "Batches:   0%|          | 0/1 [00:00<?, ?it/s]"
      ]
     },
     "metadata": {},
     "output_type": "display_data"
    },
    {
     "data": {
      "application/vnd.jupyter.widget-view+json": {
       "model_id": "a2dd613e262448f38cbf1acdc4a77c02",
       "version_major": 2,
       "version_minor": 0
      },
      "text/plain": [
       "Batches:   0%|          | 0/1 [00:00<?, ?it/s]"
      ]
     },
     "metadata": {},
     "output_type": "display_data"
    },
    {
     "data": {
      "application/vnd.jupyter.widget-view+json": {
       "model_id": "d4040a822ed445c6aa1886800e5bd938",
       "version_major": 2,
       "version_minor": 0
      },
      "text/plain": [
       "Batches:   0%|          | 0/1 [00:00<?, ?it/s]"
      ]
     },
     "metadata": {},
     "output_type": "display_data"
    },
    {
     "data": {
      "application/vnd.jupyter.widget-view+json": {
       "model_id": "39290ec7280243548f9aef6f3b8165f0",
       "version_major": 2,
       "version_minor": 0
      },
      "text/plain": [
       "Batches:   0%|          | 0/1 [00:00<?, ?it/s]"
      ]
     },
     "metadata": {},
     "output_type": "display_data"
    },
    {
     "data": {
      "application/vnd.jupyter.widget-view+json": {
       "model_id": "1bf7cba1ca5c40f89d80a6548e8f8d6a",
       "version_major": 2,
       "version_minor": 0
      },
      "text/plain": [
       "Batches:   0%|          | 0/1 [00:00<?, ?it/s]"
      ]
     },
     "metadata": {},
     "output_type": "display_data"
    },
    {
     "data": {
      "application/vnd.jupyter.widget-view+json": {
       "model_id": "f1bfe2a110234271b3c4ac02b1dcd10a",
       "version_major": 2,
       "version_minor": 0
      },
      "text/plain": [
       "Batches:   0%|          | 0/1 [00:00<?, ?it/s]"
      ]
     },
     "metadata": {},
     "output_type": "display_data"
    },
    {
     "data": {
      "application/vnd.jupyter.widget-view+json": {
       "model_id": "1b8a6e95287d4f5d885dfe34027e0c4b",
       "version_major": 2,
       "version_minor": 0
      },
      "text/plain": [
       "Batches:   0%|          | 0/1 [00:00<?, ?it/s]"
      ]
     },
     "metadata": {},
     "output_type": "display_data"
    },
    {
     "data": {
      "application/vnd.jupyter.widget-view+json": {
       "model_id": "27120edbb8a44d8fbf30a6e4de2e9687",
       "version_major": 2,
       "version_minor": 0
      },
      "text/plain": [
       "Batches:   0%|          | 0/1 [00:00<?, ?it/s]"
      ]
     },
     "metadata": {},
     "output_type": "display_data"
    },
    {
     "data": {
      "application/vnd.jupyter.widget-view+json": {
       "model_id": "9ec8b9bbb9634bfcbcde7bec94e7cebf",
       "version_major": 2,
       "version_minor": 0
      },
      "text/plain": [
       "Batches:   0%|          | 0/1 [00:00<?, ?it/s]"
      ]
     },
     "metadata": {},
     "output_type": "display_data"
    },
    {
     "data": {
      "application/vnd.jupyter.widget-view+json": {
       "model_id": "890eac02b39848ef93aae41e5a3f3d58",
       "version_major": 2,
       "version_minor": 0
      },
      "text/plain": [
       "Batches:   0%|          | 0/1 [00:00<?, ?it/s]"
      ]
     },
     "metadata": {},
     "output_type": "display_data"
    },
    {
     "data": {
      "application/vnd.jupyter.widget-view+json": {
       "model_id": "bb65db5e10d24592b229fc786f53326a",
       "version_major": 2,
       "version_minor": 0
      },
      "text/plain": [
       "Batches:   0%|          | 0/1 [00:00<?, ?it/s]"
      ]
     },
     "metadata": {},
     "output_type": "display_data"
    },
    {
     "data": {
      "application/vnd.jupyter.widget-view+json": {
       "model_id": "83bb5b7293be478c863c660f67ff4854",
       "version_major": 2,
       "version_minor": 0
      },
      "text/plain": [
       "Batches:   0%|          | 0/1 [00:00<?, ?it/s]"
      ]
     },
     "metadata": {},
     "output_type": "display_data"
    },
    {
     "data": {
      "application/vnd.jupyter.widget-view+json": {
       "model_id": "1949035e7533464987b116d937f836e1",
       "version_major": 2,
       "version_minor": 0
      },
      "text/plain": [
       "Batches:   0%|          | 0/1 [00:00<?, ?it/s]"
      ]
     },
     "metadata": {},
     "output_type": "display_data"
    },
    {
     "data": {
      "application/vnd.jupyter.widget-view+json": {
       "model_id": "8406a291247f44ee96a601b91858aa1e",
       "version_major": 2,
       "version_minor": 0
      },
      "text/plain": [
       "Batches:   0%|          | 0/1 [00:00<?, ?it/s]"
      ]
     },
     "metadata": {},
     "output_type": "display_data"
    },
    {
     "data": {
      "application/vnd.jupyter.widget-view+json": {
       "model_id": "ed87cc97239a45d4a2adbd8d0cbdf1e6",
       "version_major": 2,
       "version_minor": 0
      },
      "text/plain": [
       "Batches:   0%|          | 0/1 [00:00<?, ?it/s]"
      ]
     },
     "metadata": {},
     "output_type": "display_data"
    },
    {
     "data": {
      "application/vnd.jupyter.widget-view+json": {
       "model_id": "a81fd6b69d0d4d069bf62180598a6e09",
       "version_major": 2,
       "version_minor": 0
      },
      "text/plain": [
       "Batches:   0%|          | 0/1 [00:00<?, ?it/s]"
      ]
     },
     "metadata": {},
     "output_type": "display_data"
    },
    {
     "data": {
      "application/vnd.jupyter.widget-view+json": {
       "model_id": "41ecf7baea55408b98d81c529bd7bfa4",
       "version_major": 2,
       "version_minor": 0
      },
      "text/plain": [
       "Batches:   0%|          | 0/1 [00:00<?, ?it/s]"
      ]
     },
     "metadata": {},
     "output_type": "display_data"
    },
    {
     "data": {
      "application/vnd.jupyter.widget-view+json": {
       "model_id": "a1e314c919ba4840a703836dfb0d5851",
       "version_major": 2,
       "version_minor": 0
      },
      "text/plain": [
       "Batches:   0%|          | 0/1 [00:00<?, ?it/s]"
      ]
     },
     "metadata": {},
     "output_type": "display_data"
    },
    {
     "data": {
      "application/vnd.jupyter.widget-view+json": {
       "model_id": "65b57d0b59b04e20b9928edf728cd3cd",
       "version_major": 2,
       "version_minor": 0
      },
      "text/plain": [
       "Batches:   0%|          | 0/1 [00:00<?, ?it/s]"
      ]
     },
     "metadata": {},
     "output_type": "display_data"
    },
    {
     "data": {
      "application/vnd.jupyter.widget-view+json": {
       "model_id": "9648797997cb441184e80060f74c5cdd",
       "version_major": 2,
       "version_minor": 0
      },
      "text/plain": [
       "Batches:   0%|          | 0/1 [00:00<?, ?it/s]"
      ]
     },
     "metadata": {},
     "output_type": "display_data"
    },
    {
     "data": {
      "application/vnd.jupyter.widget-view+json": {
       "model_id": "482cd86f7bed4e4e819ed26fa7c961d6",
       "version_major": 2,
       "version_minor": 0
      },
      "text/plain": [
       "Batches:   0%|          | 0/1 [00:00<?, ?it/s]"
      ]
     },
     "metadata": {},
     "output_type": "display_data"
    },
    {
     "data": {
      "application/vnd.jupyter.widget-view+json": {
       "model_id": "ebe9500d5e844d5f867a230139aabf5c",
       "version_major": 2,
       "version_minor": 0
      },
      "text/plain": [
       "Batches:   0%|          | 0/1 [00:00<?, ?it/s]"
      ]
     },
     "metadata": {},
     "output_type": "display_data"
    },
    {
     "data": {
      "application/vnd.jupyter.widget-view+json": {
       "model_id": "2721a7f0507f4eaa9ebcbcd2f1448d06",
       "version_major": 2,
       "version_minor": 0
      },
      "text/plain": [
       "Batches:   0%|          | 0/1 [00:00<?, ?it/s]"
      ]
     },
     "metadata": {},
     "output_type": "display_data"
    },
    {
     "data": {
      "application/vnd.jupyter.widget-view+json": {
       "model_id": "e17bc4451bc94ae282bbff750a4d4d09",
       "version_major": 2,
       "version_minor": 0
      },
      "text/plain": [
       "Batches:   0%|          | 0/1 [00:00<?, ?it/s]"
      ]
     },
     "metadata": {},
     "output_type": "display_data"
    },
    {
     "data": {
      "application/vnd.jupyter.widget-view+json": {
       "model_id": "32afd5ea721345cba7244e7b1565a447",
       "version_major": 2,
       "version_minor": 0
      },
      "text/plain": [
       "Batches:   0%|          | 0/1 [00:00<?, ?it/s]"
      ]
     },
     "metadata": {},
     "output_type": "display_data"
    },
    {
     "data": {
      "application/vnd.jupyter.widget-view+json": {
       "model_id": "0811935be3094dafa6ad39d436c7d690",
       "version_major": 2,
       "version_minor": 0
      },
      "text/plain": [
       "Batches:   0%|          | 0/1 [00:00<?, ?it/s]"
      ]
     },
     "metadata": {},
     "output_type": "display_data"
    },
    {
     "data": {
      "application/vnd.jupyter.widget-view+json": {
       "model_id": "5f56e23658e542639551bdf2d1efc99f",
       "version_major": 2,
       "version_minor": 0
      },
      "text/plain": [
       "Batches:   0%|          | 0/1 [00:00<?, ?it/s]"
      ]
     },
     "metadata": {},
     "output_type": "display_data"
    },
    {
     "data": {
      "application/vnd.jupyter.widget-view+json": {
       "model_id": "c701063f4872433289916cb5dd75ddfa",
       "version_major": 2,
       "version_minor": 0
      },
      "text/plain": [
       "Batches:   0%|          | 0/1 [00:00<?, ?it/s]"
      ]
     },
     "metadata": {},
     "output_type": "display_data"
    },
    {
     "data": {
      "application/vnd.jupyter.widget-view+json": {
       "model_id": "fa604c847ce849cf9411294a38afda86",
       "version_major": 2,
       "version_minor": 0
      },
      "text/plain": [
       "Batches:   0%|          | 0/1 [00:00<?, ?it/s]"
      ]
     },
     "metadata": {},
     "output_type": "display_data"
    },
    {
     "data": {
      "application/vnd.jupyter.widget-view+json": {
       "model_id": "993f7044b4974c2981cf709a2a0529f2",
       "version_major": 2,
       "version_minor": 0
      },
      "text/plain": [
       "Batches:   0%|          | 0/1 [00:00<?, ?it/s]"
      ]
     },
     "metadata": {},
     "output_type": "display_data"
    },
    {
     "data": {
      "application/vnd.jupyter.widget-view+json": {
       "model_id": "f3a8b3414756406c83af731669f981cb",
       "version_major": 2,
       "version_minor": 0
      },
      "text/plain": [
       "Batches:   0%|          | 0/1 [00:00<?, ?it/s]"
      ]
     },
     "metadata": {},
     "output_type": "display_data"
    },
    {
     "data": {
      "application/vnd.jupyter.widget-view+json": {
       "model_id": "94cb92925bb747c786686f0b82938d89",
       "version_major": 2,
       "version_minor": 0
      },
      "text/plain": [
       "Batches:   0%|          | 0/1 [00:00<?, ?it/s]"
      ]
     },
     "metadata": {},
     "output_type": "display_data"
    },
    {
     "data": {
      "application/vnd.jupyter.widget-view+json": {
       "model_id": "7216f184fede400490c6045e4a731ab9",
       "version_major": 2,
       "version_minor": 0
      },
      "text/plain": [
       "Batches:   0%|          | 0/1 [00:00<?, ?it/s]"
      ]
     },
     "metadata": {},
     "output_type": "display_data"
    },
    {
     "data": {
      "application/vnd.jupyter.widget-view+json": {
       "model_id": "5466c214728e40018087a163b7045647",
       "version_major": 2,
       "version_minor": 0
      },
      "text/plain": [
       "Batches:   0%|          | 0/1 [00:00<?, ?it/s]"
      ]
     },
     "metadata": {},
     "output_type": "display_data"
    },
    {
     "data": {
      "application/vnd.jupyter.widget-view+json": {
       "model_id": "700394d5844b490b947677b1162c3150",
       "version_major": 2,
       "version_minor": 0
      },
      "text/plain": [
       "Batches:   0%|          | 0/1 [00:00<?, ?it/s]"
      ]
     },
     "metadata": {},
     "output_type": "display_data"
    },
    {
     "data": {
      "application/vnd.jupyter.widget-view+json": {
       "model_id": "0f6cded1f8fe464ba5c3191052107ae0",
       "version_major": 2,
       "version_minor": 0
      },
      "text/plain": [
       "Batches:   0%|          | 0/1 [00:00<?, ?it/s]"
      ]
     },
     "metadata": {},
     "output_type": "display_data"
    },
    {
     "data": {
      "application/vnd.jupyter.widget-view+json": {
       "model_id": "8c74495a1ca24f64bef23a0c888aa4f6",
       "version_major": 2,
       "version_minor": 0
      },
      "text/plain": [
       "Batches:   0%|          | 0/1 [00:00<?, ?it/s]"
      ]
     },
     "metadata": {},
     "output_type": "display_data"
    },
    {
     "data": {
      "application/vnd.jupyter.widget-view+json": {
       "model_id": "1540b3327b134b0f8e3a83f5d3f37eeb",
       "version_major": 2,
       "version_minor": 0
      },
      "text/plain": [
       "Batches:   0%|          | 0/1 [00:00<?, ?it/s]"
      ]
     },
     "metadata": {},
     "output_type": "display_data"
    },
    {
     "data": {
      "application/vnd.jupyter.widget-view+json": {
       "model_id": "c02cdc7414b84a7c9ac48d2a7e8a7802",
       "version_major": 2,
       "version_minor": 0
      },
      "text/plain": [
       "Batches:   0%|          | 0/1 [00:00<?, ?it/s]"
      ]
     },
     "metadata": {},
     "output_type": "display_data"
    },
    {
     "data": {
      "application/vnd.jupyter.widget-view+json": {
       "model_id": "429ec2dc5254492faf0269ff3d7e9755",
       "version_major": 2,
       "version_minor": 0
      },
      "text/plain": [
       "Batches:   0%|          | 0/1 [00:00<?, ?it/s]"
      ]
     },
     "metadata": {},
     "output_type": "display_data"
    },
    {
     "data": {
      "application/vnd.jupyter.widget-view+json": {
       "model_id": "0db34d228f9b4f41b9c7acfafc59532f",
       "version_major": 2,
       "version_minor": 0
      },
      "text/plain": [
       "Batches:   0%|          | 0/1 [00:00<?, ?it/s]"
      ]
     },
     "metadata": {},
     "output_type": "display_data"
    },
    {
     "data": {
      "application/vnd.jupyter.widget-view+json": {
       "model_id": "c15c14f8080746bdb4977b0ecd3b4be1",
       "version_major": 2,
       "version_minor": 0
      },
      "text/plain": [
       "Batches:   0%|          | 0/1 [00:00<?, ?it/s]"
      ]
     },
     "metadata": {},
     "output_type": "display_data"
    },
    {
     "data": {
      "application/vnd.jupyter.widget-view+json": {
       "model_id": "1910565cb6dc4c789c1ec00782941ce0",
       "version_major": 2,
       "version_minor": 0
      },
      "text/plain": [
       "Batches:   0%|          | 0/1 [00:00<?, ?it/s]"
      ]
     },
     "metadata": {},
     "output_type": "display_data"
    },
    {
     "data": {
      "application/vnd.jupyter.widget-view+json": {
       "model_id": "1548b891b7614bc0bbee391c8b3a975c",
       "version_major": 2,
       "version_minor": 0
      },
      "text/plain": [
       "Batches:   0%|          | 0/1 [00:00<?, ?it/s]"
      ]
     },
     "metadata": {},
     "output_type": "display_data"
    },
    {
     "data": {
      "application/vnd.jupyter.widget-view+json": {
       "model_id": "d329fdacbabb44138cbba86fe86b14b1",
       "version_major": 2,
       "version_minor": 0
      },
      "text/plain": [
       "Batches:   0%|          | 0/1 [00:00<?, ?it/s]"
      ]
     },
     "metadata": {},
     "output_type": "display_data"
    },
    {
     "data": {
      "application/vnd.jupyter.widget-view+json": {
       "model_id": "283ed417c85e4bf9b842e5dd7ef908a6",
       "version_major": 2,
       "version_minor": 0
      },
      "text/plain": [
       "Batches:   0%|          | 0/1 [00:00<?, ?it/s]"
      ]
     },
     "metadata": {},
     "output_type": "display_data"
    },
    {
     "data": {
      "application/vnd.jupyter.widget-view+json": {
       "model_id": "8cba810ad59940ac9d187fbda072d42a",
       "version_major": 2,
       "version_minor": 0
      },
      "text/plain": [
       "Batches:   0%|          | 0/1 [00:00<?, ?it/s]"
      ]
     },
     "metadata": {},
     "output_type": "display_data"
    },
    {
     "data": {
      "application/vnd.jupyter.widget-view+json": {
       "model_id": "aae8e852fbf74a5c8d2f15c1a59a1c14",
       "version_major": 2,
       "version_minor": 0
      },
      "text/plain": [
       "Batches:   0%|          | 0/1 [00:00<?, ?it/s]"
      ]
     },
     "metadata": {},
     "output_type": "display_data"
    },
    {
     "data": {
      "application/vnd.jupyter.widget-view+json": {
       "model_id": "d13c823c8da544acbe9f0fc291c2fdd4",
       "version_major": 2,
       "version_minor": 0
      },
      "text/plain": [
       "Batches:   0%|          | 0/1 [00:00<?, ?it/s]"
      ]
     },
     "metadata": {},
     "output_type": "display_data"
    },
    {
     "data": {
      "application/vnd.jupyter.widget-view+json": {
       "model_id": "82ef4bbbd54344ac99176f1651740e44",
       "version_major": 2,
       "version_minor": 0
      },
      "text/plain": [
       "Batches:   0%|          | 0/1 [00:00<?, ?it/s]"
      ]
     },
     "metadata": {},
     "output_type": "display_data"
    },
    {
     "data": {
      "application/vnd.jupyter.widget-view+json": {
       "model_id": "39301d1e6c2846888073bc3b69e7d6e9",
       "version_major": 2,
       "version_minor": 0
      },
      "text/plain": [
       "Batches:   0%|          | 0/1 [00:00<?, ?it/s]"
      ]
     },
     "metadata": {},
     "output_type": "display_data"
    },
    {
     "data": {
      "application/vnd.jupyter.widget-view+json": {
       "model_id": "ffd196b54efd46d888ae2278d469483e",
       "version_major": 2,
       "version_minor": 0
      },
      "text/plain": [
       "Batches:   0%|          | 0/1 [00:00<?, ?it/s]"
      ]
     },
     "metadata": {},
     "output_type": "display_data"
    },
    {
     "data": {
      "application/vnd.jupyter.widget-view+json": {
       "model_id": "5e1d537282634bca84944c09b5fb50cb",
       "version_major": 2,
       "version_minor": 0
      },
      "text/plain": [
       "Batches:   0%|          | 0/1 [00:00<?, ?it/s]"
      ]
     },
     "metadata": {},
     "output_type": "display_data"
    },
    {
     "data": {
      "application/vnd.jupyter.widget-view+json": {
       "model_id": "f80dacfec9464a75b4f7815b4a2868bf",
       "version_major": 2,
       "version_minor": 0
      },
      "text/plain": [
       "Batches:   0%|          | 0/1 [00:00<?, ?it/s]"
      ]
     },
     "metadata": {},
     "output_type": "display_data"
    },
    {
     "data": {
      "application/vnd.jupyter.widget-view+json": {
       "model_id": "3d5841fa6cf14fe2902ce5daa6dc71f1",
       "version_major": 2,
       "version_minor": 0
      },
      "text/plain": [
       "Batches:   0%|          | 0/1 [00:00<?, ?it/s]"
      ]
     },
     "metadata": {},
     "output_type": "display_data"
    },
    {
     "data": {
      "application/vnd.jupyter.widget-view+json": {
       "model_id": "72f1b3cda6ad4ff4a5270b6fa9f97642",
       "version_major": 2,
       "version_minor": 0
      },
      "text/plain": [
       "Batches:   0%|          | 0/1 [00:00<?, ?it/s]"
      ]
     },
     "metadata": {},
     "output_type": "display_data"
    },
    {
     "data": {
      "application/vnd.jupyter.widget-view+json": {
       "model_id": "5feed9415a674eb887862411d9d0c01a",
       "version_major": 2,
       "version_minor": 0
      },
      "text/plain": [
       "Batches:   0%|          | 0/1 [00:00<?, ?it/s]"
      ]
     },
     "metadata": {},
     "output_type": "display_data"
    },
    {
     "data": {
      "application/vnd.jupyter.widget-view+json": {
       "model_id": "9edb7c98961d4dfd8711884615e9db76",
       "version_major": 2,
       "version_minor": 0
      },
      "text/plain": [
       "Batches:   0%|          | 0/1 [00:00<?, ?it/s]"
      ]
     },
     "metadata": {},
     "output_type": "display_data"
    },
    {
     "data": {
      "application/vnd.jupyter.widget-view+json": {
       "model_id": "9b8c8dc2278b4123bf566fba9ef1e0fe",
       "version_major": 2,
       "version_minor": 0
      },
      "text/plain": [
       "Batches:   0%|          | 0/1 [00:00<?, ?it/s]"
      ]
     },
     "metadata": {},
     "output_type": "display_data"
    },
    {
     "data": {
      "application/vnd.jupyter.widget-view+json": {
       "model_id": "ed783450f31e45e397338032f1b5eddf",
       "version_major": 2,
       "version_minor": 0
      },
      "text/plain": [
       "Batches:   0%|          | 0/1 [00:00<?, ?it/s]"
      ]
     },
     "metadata": {},
     "output_type": "display_data"
    },
    {
     "data": {
      "application/vnd.jupyter.widget-view+json": {
       "model_id": "7dc785831a0f402ea2ca73deb1f356b3",
       "version_major": 2,
       "version_minor": 0
      },
      "text/plain": [
       "Batches:   0%|          | 0/1 [00:00<?, ?it/s]"
      ]
     },
     "metadata": {},
     "output_type": "display_data"
    },
    {
     "data": {
      "application/vnd.jupyter.widget-view+json": {
       "model_id": "ed10025c9d304337a3686c1425542d38",
       "version_major": 2,
       "version_minor": 0
      },
      "text/plain": [
       "Batches:   0%|          | 0/1 [00:00<?, ?it/s]"
      ]
     },
     "metadata": {},
     "output_type": "display_data"
    },
    {
     "data": {
      "application/vnd.jupyter.widget-view+json": {
       "model_id": "cfc42ca14eb2492fb38d423e8f859afd",
       "version_major": 2,
       "version_minor": 0
      },
      "text/plain": [
       "Batches:   0%|          | 0/1 [00:00<?, ?it/s]"
      ]
     },
     "metadata": {},
     "output_type": "display_data"
    },
    {
     "data": {
      "application/vnd.jupyter.widget-view+json": {
       "model_id": "15ff4c3bb8c6430e9e4bc1defaee4463",
       "version_major": 2,
       "version_minor": 0
      },
      "text/plain": [
       "Batches:   0%|          | 0/1 [00:00<?, ?it/s]"
      ]
     },
     "metadata": {},
     "output_type": "display_data"
    },
    {
     "data": {
      "application/vnd.jupyter.widget-view+json": {
       "model_id": "ba3a81f118e646a1aa6843888302bb70",
       "version_major": 2,
       "version_minor": 0
      },
      "text/plain": [
       "Batches:   0%|          | 0/1 [00:00<?, ?it/s]"
      ]
     },
     "metadata": {},
     "output_type": "display_data"
    },
    {
     "data": {
      "application/vnd.jupyter.widget-view+json": {
       "model_id": "2c63bc4eca054807a3090f95408c5aca",
       "version_major": 2,
       "version_minor": 0
      },
      "text/plain": [
       "Batches:   0%|          | 0/1 [00:00<?, ?it/s]"
      ]
     },
     "metadata": {},
     "output_type": "display_data"
    },
    {
     "data": {
      "application/vnd.jupyter.widget-view+json": {
       "model_id": "92c459e6b4314dcaa42e1f13cfd13dbf",
       "version_major": 2,
       "version_minor": 0
      },
      "text/plain": [
       "Batches:   0%|          | 0/1 [00:00<?, ?it/s]"
      ]
     },
     "metadata": {},
     "output_type": "display_data"
    },
    {
     "data": {
      "application/vnd.jupyter.widget-view+json": {
       "model_id": "1ecfd8caa1294d4cbdca921f8afe4f43",
       "version_major": 2,
       "version_minor": 0
      },
      "text/plain": [
       "Batches:   0%|          | 0/1 [00:00<?, ?it/s]"
      ]
     },
     "metadata": {},
     "output_type": "display_data"
    },
    {
     "data": {
      "application/vnd.jupyter.widget-view+json": {
       "model_id": "565cb683199b428e9a67f20d511fae4e",
       "version_major": 2,
       "version_minor": 0
      },
      "text/plain": [
       "Batches:   0%|          | 0/1 [00:00<?, ?it/s]"
      ]
     },
     "metadata": {},
     "output_type": "display_data"
    },
    {
     "data": {
      "application/vnd.jupyter.widget-view+json": {
       "model_id": "cc730e28b7314171a2e58b8befffbde8",
       "version_major": 2,
       "version_minor": 0
      },
      "text/plain": [
       "Batches:   0%|          | 0/1 [00:00<?, ?it/s]"
      ]
     },
     "metadata": {},
     "output_type": "display_data"
    },
    {
     "data": {
      "application/vnd.jupyter.widget-view+json": {
       "model_id": "5135d61ee26541478fce842d0825d224",
       "version_major": 2,
       "version_minor": 0
      },
      "text/plain": [
       "Batches:   0%|          | 0/1 [00:00<?, ?it/s]"
      ]
     },
     "metadata": {},
     "output_type": "display_data"
    },
    {
     "data": {
      "application/vnd.jupyter.widget-view+json": {
       "model_id": "2dc837238a794f73bfc657c6fde970f8",
       "version_major": 2,
       "version_minor": 0
      },
      "text/plain": [
       "Batches:   0%|          | 0/1 [00:00<?, ?it/s]"
      ]
     },
     "metadata": {},
     "output_type": "display_data"
    },
    {
     "data": {
      "application/vnd.jupyter.widget-view+json": {
       "model_id": "1b1658ebbc464c6ea67380139e1fe372",
       "version_major": 2,
       "version_minor": 0
      },
      "text/plain": [
       "Batches:   0%|          | 0/1 [00:00<?, ?it/s]"
      ]
     },
     "metadata": {},
     "output_type": "display_data"
    },
    {
     "data": {
      "application/vnd.jupyter.widget-view+json": {
       "model_id": "e94abc0f80054077b12739ac628a5705",
       "version_major": 2,
       "version_minor": 0
      },
      "text/plain": [
       "Batches:   0%|          | 0/1 [00:00<?, ?it/s]"
      ]
     },
     "metadata": {},
     "output_type": "display_data"
    },
    {
     "data": {
      "application/vnd.jupyter.widget-view+json": {
       "model_id": "b5a0a55f64b04098a52457fb5eed4bff",
       "version_major": 2,
       "version_minor": 0
      },
      "text/plain": [
       "Batches:   0%|          | 0/1 [00:00<?, ?it/s]"
      ]
     },
     "metadata": {},
     "output_type": "display_data"
    },
    {
     "data": {
      "application/vnd.jupyter.widget-view+json": {
       "model_id": "059d8336861e4d49be4dccb7c3dc1fd6",
       "version_major": 2,
       "version_minor": 0
      },
      "text/plain": [
       "Batches:   0%|          | 0/1 [00:00<?, ?it/s]"
      ]
     },
     "metadata": {},
     "output_type": "display_data"
    },
    {
     "data": {
      "application/vnd.jupyter.widget-view+json": {
       "model_id": "b28d6ee2c80e450d887c0dc3f80b2870",
       "version_major": 2,
       "version_minor": 0
      },
      "text/plain": [
       "Batches:   0%|          | 0/1 [00:00<?, ?it/s]"
      ]
     },
     "metadata": {},
     "output_type": "display_data"
    },
    {
     "data": {
      "application/vnd.jupyter.widget-view+json": {
       "model_id": "f034dddeccc3452c889a27b33c671d48",
       "version_major": 2,
       "version_minor": 0
      },
      "text/plain": [
       "Batches:   0%|          | 0/1 [00:00<?, ?it/s]"
      ]
     },
     "metadata": {},
     "output_type": "display_data"
    },
    {
     "data": {
      "application/vnd.jupyter.widget-view+json": {
       "model_id": "d61777a3ae4940a79b5da4b88002deb2",
       "version_major": 2,
       "version_minor": 0
      },
      "text/plain": [
       "Batches:   0%|          | 0/1 [00:00<?, ?it/s]"
      ]
     },
     "metadata": {},
     "output_type": "display_data"
    },
    {
     "data": {
      "application/vnd.jupyter.widget-view+json": {
       "model_id": "97db38181b0c4a7ebeb2dbea5b92aef8",
       "version_major": 2,
       "version_minor": 0
      },
      "text/plain": [
       "Batches:   0%|          | 0/1 [00:00<?, ?it/s]"
      ]
     },
     "metadata": {},
     "output_type": "display_data"
    },
    {
     "data": {
      "application/vnd.jupyter.widget-view+json": {
       "model_id": "555cc42471694850b605130d68d86849",
       "version_major": 2,
       "version_minor": 0
      },
      "text/plain": [
       "Batches:   0%|          | 0/1 [00:00<?, ?it/s]"
      ]
     },
     "metadata": {},
     "output_type": "display_data"
    },
    {
     "data": {
      "application/vnd.jupyter.widget-view+json": {
       "model_id": "e51cb09369a24535aec4d4a191d5a1ca",
       "version_major": 2,
       "version_minor": 0
      },
      "text/plain": [
       "Batches:   0%|          | 0/1 [00:00<?, ?it/s]"
      ]
     },
     "metadata": {},
     "output_type": "display_data"
    },
    {
     "data": {
      "application/vnd.jupyter.widget-view+json": {
       "model_id": "217c8004235b4e44a4de68a2561bf1f9",
       "version_major": 2,
       "version_minor": 0
      },
      "text/plain": [
       "Batches:   0%|          | 0/1 [00:00<?, ?it/s]"
      ]
     },
     "metadata": {},
     "output_type": "display_data"
    },
    {
     "data": {
      "application/vnd.jupyter.widget-view+json": {
       "model_id": "8d7b7cfd98284e04b165670f8df92c3f",
       "version_major": 2,
       "version_minor": 0
      },
      "text/plain": [
       "Batches:   0%|          | 0/1 [00:00<?, ?it/s]"
      ]
     },
     "metadata": {},
     "output_type": "display_data"
    },
    {
     "data": {
      "application/vnd.jupyter.widget-view+json": {
       "model_id": "f631c3ad7bb04292a58b96647ce3cd74",
       "version_major": 2,
       "version_minor": 0
      },
      "text/plain": [
       "Batches:   0%|          | 0/1 [00:00<?, ?it/s]"
      ]
     },
     "metadata": {},
     "output_type": "display_data"
    },
    {
     "data": {
      "application/vnd.jupyter.widget-view+json": {
       "model_id": "a59e31e1eb9c471eaad350feedf96ded",
       "version_major": 2,
       "version_minor": 0
      },
      "text/plain": [
       "Batches:   0%|          | 0/1 [00:00<?, ?it/s]"
      ]
     },
     "metadata": {},
     "output_type": "display_data"
    },
    {
     "data": {
      "application/vnd.jupyter.widget-view+json": {
       "model_id": "c8bc646132144de7a817d53e93df9bcc",
       "version_major": 2,
       "version_minor": 0
      },
      "text/plain": [
       "Batches:   0%|          | 0/1 [00:00<?, ?it/s]"
      ]
     },
     "metadata": {},
     "output_type": "display_data"
    },
    {
     "data": {
      "application/vnd.jupyter.widget-view+json": {
       "model_id": "dece8abccb8147fe995730499c35d678",
       "version_major": 2,
       "version_minor": 0
      },
      "text/plain": [
       "Batches:   0%|          | 0/1 [00:00<?, ?it/s]"
      ]
     },
     "metadata": {},
     "output_type": "display_data"
    },
    {
     "data": {
      "application/vnd.jupyter.widget-view+json": {
       "model_id": "8169aa402cc2475c8581521c30423e28",
       "version_major": 2,
       "version_minor": 0
      },
      "text/plain": [
       "Batches:   0%|          | 0/1 [00:00<?, ?it/s]"
      ]
     },
     "metadata": {},
     "output_type": "display_data"
    },
    {
     "data": {
      "application/vnd.jupyter.widget-view+json": {
       "model_id": "78ee6d02cfc244d0b347cc244c8ebc40",
       "version_major": 2,
       "version_minor": 0
      },
      "text/plain": [
       "Batches:   0%|          | 0/1 [00:00<?, ?it/s]"
      ]
     },
     "metadata": {},
     "output_type": "display_data"
    },
    {
     "data": {
      "application/vnd.jupyter.widget-view+json": {
       "model_id": "5dc7c53d8fb64f379bfbbf78e632ef6f",
       "version_major": 2,
       "version_minor": 0
      },
      "text/plain": [
       "Batches:   0%|          | 0/1 [00:00<?, ?it/s]"
      ]
     },
     "metadata": {},
     "output_type": "display_data"
    },
    {
     "data": {
      "application/vnd.jupyter.widget-view+json": {
       "model_id": "e0f782398893479984f747c635e1497d",
       "version_major": 2,
       "version_minor": 0
      },
      "text/plain": [
       "Batches:   0%|          | 0/1 [00:00<?, ?it/s]"
      ]
     },
     "metadata": {},
     "output_type": "display_data"
    },
    {
     "data": {
      "application/vnd.jupyter.widget-view+json": {
       "model_id": "901ad878e21e4708baef19b0e2c12194",
       "version_major": 2,
       "version_minor": 0
      },
      "text/plain": [
       "Batches:   0%|          | 0/1 [00:00<?, ?it/s]"
      ]
     },
     "metadata": {},
     "output_type": "display_data"
    },
    {
     "data": {
      "application/vnd.jupyter.widget-view+json": {
       "model_id": "bf4df5e7d6e148ecae27c1208ab64734",
       "version_major": 2,
       "version_minor": 0
      },
      "text/plain": [
       "Batches:   0%|          | 0/1 [00:00<?, ?it/s]"
      ]
     },
     "metadata": {},
     "output_type": "display_data"
    },
    {
     "data": {
      "application/vnd.jupyter.widget-view+json": {
       "model_id": "5dc89997a7294bec8d056acbe9dd5758",
       "version_major": 2,
       "version_minor": 0
      },
      "text/plain": [
       "Batches:   0%|          | 0/1 [00:00<?, ?it/s]"
      ]
     },
     "metadata": {},
     "output_type": "display_data"
    },
    {
     "data": {
      "application/vnd.jupyter.widget-view+json": {
       "model_id": "617389081fb048e5a9944938ca415d8f",
       "version_major": 2,
       "version_minor": 0
      },
      "text/plain": [
       "Batches:   0%|          | 0/1 [00:00<?, ?it/s]"
      ]
     },
     "metadata": {},
     "output_type": "display_data"
    },
    {
     "data": {
      "application/vnd.jupyter.widget-view+json": {
       "model_id": "d3dd6af8751d4e158889d7610f239fbf",
       "version_major": 2,
       "version_minor": 0
      },
      "text/plain": [
       "Batches:   0%|          | 0/1 [00:00<?, ?it/s]"
      ]
     },
     "metadata": {},
     "output_type": "display_data"
    },
    {
     "data": {
      "application/vnd.jupyter.widget-view+json": {
       "model_id": "1a8964282cb94fe1b66bb313e92b9688",
       "version_major": 2,
       "version_minor": 0
      },
      "text/plain": [
       "Batches:   0%|          | 0/1 [00:00<?, ?it/s]"
      ]
     },
     "metadata": {},
     "output_type": "display_data"
    },
    {
     "data": {
      "application/vnd.jupyter.widget-view+json": {
       "model_id": "791b72d3b5304117a90bee5d7c084261",
       "version_major": 2,
       "version_minor": 0
      },
      "text/plain": [
       "Batches:   0%|          | 0/1 [00:00<?, ?it/s]"
      ]
     },
     "metadata": {},
     "output_type": "display_data"
    },
    {
     "data": {
      "application/vnd.jupyter.widget-view+json": {
       "model_id": "2a7998bcb01a4407ad010d47d77a52aa",
       "version_major": 2,
       "version_minor": 0
      },
      "text/plain": [
       "Batches:   0%|          | 0/1 [00:00<?, ?it/s]"
      ]
     },
     "metadata": {},
     "output_type": "display_data"
    },
    {
     "data": {
      "application/vnd.jupyter.widget-view+json": {
       "model_id": "e7fdc125a5984f2291f5b61d7b1dfc8c",
       "version_major": 2,
       "version_minor": 0
      },
      "text/plain": [
       "Batches:   0%|          | 0/1 [00:00<?, ?it/s]"
      ]
     },
     "metadata": {},
     "output_type": "display_data"
    },
    {
     "data": {
      "application/vnd.jupyter.widget-view+json": {
       "model_id": "8925a8e8007c423d81fd1ae4f1b0cbd9",
       "version_major": 2,
       "version_minor": 0
      },
      "text/plain": [
       "Batches:   0%|          | 0/1 [00:00<?, ?it/s]"
      ]
     },
     "metadata": {},
     "output_type": "display_data"
    },
    {
     "data": {
      "application/vnd.jupyter.widget-view+json": {
       "model_id": "21372440bee941c88976d50fb4a35d16",
       "version_major": 2,
       "version_minor": 0
      },
      "text/plain": [
       "Batches:   0%|          | 0/1 [00:00<?, ?it/s]"
      ]
     },
     "metadata": {},
     "output_type": "display_data"
    },
    {
     "data": {
      "application/vnd.jupyter.widget-view+json": {
       "model_id": "e76ce400b6084085b5a338785fca0343",
       "version_major": 2,
       "version_minor": 0
      },
      "text/plain": [
       "Batches:   0%|          | 0/1 [00:00<?, ?it/s]"
      ]
     },
     "metadata": {},
     "output_type": "display_data"
    },
    {
     "data": {
      "application/vnd.jupyter.widget-view+json": {
       "model_id": "447078f324fb4985bf284c371205150e",
       "version_major": 2,
       "version_minor": 0
      },
      "text/plain": [
       "Batches:   0%|          | 0/1 [00:00<?, ?it/s]"
      ]
     },
     "metadata": {},
     "output_type": "display_data"
    },
    {
     "data": {
      "application/vnd.jupyter.widget-view+json": {
       "model_id": "b5b967acc0174b5c80589d7fb782862f",
       "version_major": 2,
       "version_minor": 0
      },
      "text/plain": [
       "Batches:   0%|          | 0/1 [00:00<?, ?it/s]"
      ]
     },
     "metadata": {},
     "output_type": "display_data"
    },
    {
     "data": {
      "application/vnd.jupyter.widget-view+json": {
       "model_id": "f9c143b8997a40b6bc5f0e47914d362b",
       "version_major": 2,
       "version_minor": 0
      },
      "text/plain": [
       "Batches:   0%|          | 0/1 [00:00<?, ?it/s]"
      ]
     },
     "metadata": {},
     "output_type": "display_data"
    },
    {
     "data": {
      "application/vnd.jupyter.widget-view+json": {
       "model_id": "faf8a2a920154248b50dc2c5b9ca3ba2",
       "version_major": 2,
       "version_minor": 0
      },
      "text/plain": [
       "Batches:   0%|          | 0/1 [00:00<?, ?it/s]"
      ]
     },
     "metadata": {},
     "output_type": "display_data"
    },
    {
     "data": {
      "application/vnd.jupyter.widget-view+json": {
       "model_id": "0dd5b9e9f5454c96a73f55711a1cf5b3",
       "version_major": 2,
       "version_minor": 0
      },
      "text/plain": [
       "Batches:   0%|          | 0/1 [00:00<?, ?it/s]"
      ]
     },
     "metadata": {},
     "output_type": "display_data"
    },
    {
     "data": {
      "application/vnd.jupyter.widget-view+json": {
       "model_id": "35f3f2f59e3e4702a37677732f21be57",
       "version_major": 2,
       "version_minor": 0
      },
      "text/plain": [
       "Batches:   0%|          | 0/1 [00:00<?, ?it/s]"
      ]
     },
     "metadata": {},
     "output_type": "display_data"
    },
    {
     "data": {
      "application/vnd.jupyter.widget-view+json": {
       "model_id": "797379f073ba41e28806462684a59cff",
       "version_major": 2,
       "version_minor": 0
      },
      "text/plain": [
       "Batches:   0%|          | 0/1 [00:00<?, ?it/s]"
      ]
     },
     "metadata": {},
     "output_type": "display_data"
    },
    {
     "data": {
      "application/vnd.jupyter.widget-view+json": {
       "model_id": "1681fe78cca943c282eaf5baca1c02eb",
       "version_major": 2,
       "version_minor": 0
      },
      "text/plain": [
       "Batches:   0%|          | 0/1 [00:00<?, ?it/s]"
      ]
     },
     "metadata": {},
     "output_type": "display_data"
    },
    {
     "data": {
      "application/vnd.jupyter.widget-view+json": {
       "model_id": "5006e8822c404c1da444475cad51a6b8",
       "version_major": 2,
       "version_minor": 0
      },
      "text/plain": [
       "Batches:   0%|          | 0/1 [00:00<?, ?it/s]"
      ]
     },
     "metadata": {},
     "output_type": "display_data"
    },
    {
     "data": {
      "application/vnd.jupyter.widget-view+json": {
       "model_id": "422f88da0aac418caf0ad7ff9d1b998b",
       "version_major": 2,
       "version_minor": 0
      },
      "text/plain": [
       "Batches:   0%|          | 0/1 [00:00<?, ?it/s]"
      ]
     },
     "metadata": {},
     "output_type": "display_data"
    },
    {
     "data": {
      "application/vnd.jupyter.widget-view+json": {
       "model_id": "37cbfec96c934c7d9046c79546cbf8cd",
       "version_major": 2,
       "version_minor": 0
      },
      "text/plain": [
       "Batches:   0%|          | 0/1 [00:00<?, ?it/s]"
      ]
     },
     "metadata": {},
     "output_type": "display_data"
    },
    {
     "data": {
      "application/vnd.jupyter.widget-view+json": {
       "model_id": "5c2f06615b914749b8b28bfcb254d250",
       "version_major": 2,
       "version_minor": 0
      },
      "text/plain": [
       "Batches:   0%|          | 0/1 [00:00<?, ?it/s]"
      ]
     },
     "metadata": {},
     "output_type": "display_data"
    },
    {
     "data": {
      "application/vnd.jupyter.widget-view+json": {
       "model_id": "b3f7e2a9331742cc972a925faa9492a2",
       "version_major": 2,
       "version_minor": 0
      },
      "text/plain": [
       "Batches:   0%|          | 0/1 [00:00<?, ?it/s]"
      ]
     },
     "metadata": {},
     "output_type": "display_data"
    },
    {
     "data": {
      "application/vnd.jupyter.widget-view+json": {
       "model_id": "4b893296e77b4f349f759d6a0b2d2d5e",
       "version_major": 2,
       "version_minor": 0
      },
      "text/plain": [
       "Batches:   0%|          | 0/1 [00:00<?, ?it/s]"
      ]
     },
     "metadata": {},
     "output_type": "display_data"
    },
    {
     "data": {
      "application/vnd.jupyter.widget-view+json": {
       "model_id": "6a86412096134e4d916f1343c5c7d043",
       "version_major": 2,
       "version_minor": 0
      },
      "text/plain": [
       "Batches:   0%|          | 0/1 [00:00<?, ?it/s]"
      ]
     },
     "metadata": {},
     "output_type": "display_data"
    },
    {
     "data": {
      "application/vnd.jupyter.widget-view+json": {
       "model_id": "54d9ff02a2d04fb4acb840d6a1cd3687",
       "version_major": 2,
       "version_minor": 0
      },
      "text/plain": [
       "Batches:   0%|          | 0/1 [00:00<?, ?it/s]"
      ]
     },
     "metadata": {},
     "output_type": "display_data"
    },
    {
     "data": {
      "application/vnd.jupyter.widget-view+json": {
       "model_id": "20c56cdd627a4cb190eab2c357d7cb99",
       "version_major": 2,
       "version_minor": 0
      },
      "text/plain": [
       "Batches:   0%|          | 0/1 [00:00<?, ?it/s]"
      ]
     },
     "metadata": {},
     "output_type": "display_data"
    },
    {
     "data": {
      "application/vnd.jupyter.widget-view+json": {
       "model_id": "b45ca46be82e49669f761589d99cc29d",
       "version_major": 2,
       "version_minor": 0
      },
      "text/plain": [
       "Batches:   0%|          | 0/1 [00:00<?, ?it/s]"
      ]
     },
     "metadata": {},
     "output_type": "display_data"
    },
    {
     "data": {
      "application/vnd.jupyter.widget-view+json": {
       "model_id": "00f68f06e349467b8365afd77a62ffa2",
       "version_major": 2,
       "version_minor": 0
      },
      "text/plain": [
       "Batches:   0%|          | 0/1 [00:00<?, ?it/s]"
      ]
     },
     "metadata": {},
     "output_type": "display_data"
    },
    {
     "data": {
      "application/vnd.jupyter.widget-view+json": {
       "model_id": "472bdf9029d84092a7ba695b71c926e0",
       "version_major": 2,
       "version_minor": 0
      },
      "text/plain": [
       "Batches:   0%|          | 0/1 [00:00<?, ?it/s]"
      ]
     },
     "metadata": {},
     "output_type": "display_data"
    },
    {
     "data": {
      "application/vnd.jupyter.widget-view+json": {
       "model_id": "b6039d0ea6a344c0963cb4d1c77c8414",
       "version_major": 2,
       "version_minor": 0
      },
      "text/plain": [
       "Batches:   0%|          | 0/1 [00:00<?, ?it/s]"
      ]
     },
     "metadata": {},
     "output_type": "display_data"
    },
    {
     "data": {
      "application/vnd.jupyter.widget-view+json": {
       "model_id": "3685dce164d64bdcb940ce533536523e",
       "version_major": 2,
       "version_minor": 0
      },
      "text/plain": [
       "Batches:   0%|          | 0/1 [00:00<?, ?it/s]"
      ]
     },
     "metadata": {},
     "output_type": "display_data"
    },
    {
     "data": {
      "application/vnd.jupyter.widget-view+json": {
       "model_id": "3639f3f96c03408f8c31a26ac50fdc1b",
       "version_major": 2,
       "version_minor": 0
      },
      "text/plain": [
       "Batches:   0%|          | 0/1 [00:00<?, ?it/s]"
      ]
     },
     "metadata": {},
     "output_type": "display_data"
    },
    {
     "data": {
      "application/vnd.jupyter.widget-view+json": {
       "model_id": "b2b13d6e789c4b8980e06f90f81969ae",
       "version_major": 2,
       "version_minor": 0
      },
      "text/plain": [
       "Batches:   0%|          | 0/1 [00:00<?, ?it/s]"
      ]
     },
     "metadata": {},
     "output_type": "display_data"
    },
    {
     "data": {
      "application/vnd.jupyter.widget-view+json": {
       "model_id": "cba4f78e33e7448d8b10818d8486f713",
       "version_major": 2,
       "version_minor": 0
      },
      "text/plain": [
       "Batches:   0%|          | 0/1 [00:00<?, ?it/s]"
      ]
     },
     "metadata": {},
     "output_type": "display_data"
    },
    {
     "data": {
      "application/vnd.jupyter.widget-view+json": {
       "model_id": "0276f8c850d7447d8161135784dfe4c7",
       "version_major": 2,
       "version_minor": 0
      },
      "text/plain": [
       "Batches:   0%|          | 0/1 [00:00<?, ?it/s]"
      ]
     },
     "metadata": {},
     "output_type": "display_data"
    },
    {
     "data": {
      "application/vnd.jupyter.widget-view+json": {
       "model_id": "46507dcce6d54e599bc08df458e2aa53",
       "version_major": 2,
       "version_minor": 0
      },
      "text/plain": [
       "Batches:   0%|          | 0/1 [00:00<?, ?it/s]"
      ]
     },
     "metadata": {},
     "output_type": "display_data"
    },
    {
     "data": {
      "application/vnd.jupyter.widget-view+json": {
       "model_id": "af6f33f478c94b3889120571a9702d28",
       "version_major": 2,
       "version_minor": 0
      },
      "text/plain": [
       "Batches:   0%|          | 0/1 [00:00<?, ?it/s]"
      ]
     },
     "metadata": {},
     "output_type": "display_data"
    },
    {
     "data": {
      "application/vnd.jupyter.widget-view+json": {
       "model_id": "228d297905fa4f32b511a9c7d4515974",
       "version_major": 2,
       "version_minor": 0
      },
      "text/plain": [
       "Batches:   0%|          | 0/1 [00:00<?, ?it/s]"
      ]
     },
     "metadata": {},
     "output_type": "display_data"
    },
    {
     "data": {
      "application/vnd.jupyter.widget-view+json": {
       "model_id": "beda8e860cd74d9ab7d5d12ecd57a05f",
       "version_major": 2,
       "version_minor": 0
      },
      "text/plain": [
       "Batches:   0%|          | 0/1 [00:00<?, ?it/s]"
      ]
     },
     "metadata": {},
     "output_type": "display_data"
    },
    {
     "data": {
      "application/vnd.jupyter.widget-view+json": {
       "model_id": "bd4321d3d2eb43e684b73d24f3574dd0",
       "version_major": 2,
       "version_minor": 0
      },
      "text/plain": [
       "Batches:   0%|          | 0/1 [00:00<?, ?it/s]"
      ]
     },
     "metadata": {},
     "output_type": "display_data"
    },
    {
     "data": {
      "application/vnd.jupyter.widget-view+json": {
       "model_id": "d331b5dece824db4b6b0ca82ca70a49a",
       "version_major": 2,
       "version_minor": 0
      },
      "text/plain": [
       "Batches:   0%|          | 0/1 [00:00<?, ?it/s]"
      ]
     },
     "metadata": {},
     "output_type": "display_data"
    },
    {
     "data": {
      "application/vnd.jupyter.widget-view+json": {
       "model_id": "7c2c0053f10442ee9d1510671109b18b",
       "version_major": 2,
       "version_minor": 0
      },
      "text/plain": [
       "Batches:   0%|          | 0/1 [00:00<?, ?it/s]"
      ]
     },
     "metadata": {},
     "output_type": "display_data"
    },
    {
     "data": {
      "application/vnd.jupyter.widget-view+json": {
       "model_id": "7916dcf6099a48e99ba6c5d2c254a9ea",
       "version_major": 2,
       "version_minor": 0
      },
      "text/plain": [
       "Batches:   0%|          | 0/1 [00:00<?, ?it/s]"
      ]
     },
     "metadata": {},
     "output_type": "display_data"
    },
    {
     "data": {
      "application/vnd.jupyter.widget-view+json": {
       "model_id": "c2fd796876c049139750245bfc4aa7e0",
       "version_major": 2,
       "version_minor": 0
      },
      "text/plain": [
       "Batches:   0%|          | 0/1 [00:00<?, ?it/s]"
      ]
     },
     "metadata": {},
     "output_type": "display_data"
    },
    {
     "data": {
      "application/vnd.jupyter.widget-view+json": {
       "model_id": "867ae58bff7549aea12b26205bc2bfb9",
       "version_major": 2,
       "version_minor": 0
      },
      "text/plain": [
       "Batches:   0%|          | 0/1 [00:00<?, ?it/s]"
      ]
     },
     "metadata": {},
     "output_type": "display_data"
    },
    {
     "data": {
      "application/vnd.jupyter.widget-view+json": {
       "model_id": "448229ec8fa746e89dc680807900c1bb",
       "version_major": 2,
       "version_minor": 0
      },
      "text/plain": [
       "Batches:   0%|          | 0/1 [00:00<?, ?it/s]"
      ]
     },
     "metadata": {},
     "output_type": "display_data"
    },
    {
     "data": {
      "application/vnd.jupyter.widget-view+json": {
       "model_id": "53b84539f44547858f486855a08df9b8",
       "version_major": 2,
       "version_minor": 0
      },
      "text/plain": [
       "Batches:   0%|          | 0/1 [00:00<?, ?it/s]"
      ]
     },
     "metadata": {},
     "output_type": "display_data"
    },
    {
     "data": {
      "application/vnd.jupyter.widget-view+json": {
       "model_id": "2629bc656fd04f069d1bf2353ec2a9dc",
       "version_major": 2,
       "version_minor": 0
      },
      "text/plain": [
       "Batches:   0%|          | 0/1 [00:00<?, ?it/s]"
      ]
     },
     "metadata": {},
     "output_type": "display_data"
    },
    {
     "data": {
      "application/vnd.jupyter.widget-view+json": {
       "model_id": "385e9d59e86846759f5ef660a589aebf",
       "version_major": 2,
       "version_minor": 0
      },
      "text/plain": [
       "Batches:   0%|          | 0/1 [00:00<?, ?it/s]"
      ]
     },
     "metadata": {},
     "output_type": "display_data"
    },
    {
     "data": {
      "application/vnd.jupyter.widget-view+json": {
       "model_id": "ac458fbaaec447f28f42b812755a8b53",
       "version_major": 2,
       "version_minor": 0
      },
      "text/plain": [
       "Batches:   0%|          | 0/1 [00:00<?, ?it/s]"
      ]
     },
     "metadata": {},
     "output_type": "display_data"
    },
    {
     "data": {
      "application/vnd.jupyter.widget-view+json": {
       "model_id": "220e0599257647f4b3fdbd59c6fc8d4d",
       "version_major": 2,
       "version_minor": 0
      },
      "text/plain": [
       "Batches:   0%|          | 0/1 [00:00<?, ?it/s]"
      ]
     },
     "metadata": {},
     "output_type": "display_data"
    },
    {
     "data": {
      "application/vnd.jupyter.widget-view+json": {
       "model_id": "fae050cd25fc48278bdcccb9d3a338d3",
       "version_major": 2,
       "version_minor": 0
      },
      "text/plain": [
       "Batches:   0%|          | 0/1 [00:00<?, ?it/s]"
      ]
     },
     "metadata": {},
     "output_type": "display_data"
    },
    {
     "data": {
      "application/vnd.jupyter.widget-view+json": {
       "model_id": "ea59bafbc6e347f78e3fdf2a3cf587d2",
       "version_major": 2,
       "version_minor": 0
      },
      "text/plain": [
       "Batches:   0%|          | 0/1 [00:00<?, ?it/s]"
      ]
     },
     "metadata": {},
     "output_type": "display_data"
    },
    {
     "data": {
      "application/vnd.jupyter.widget-view+json": {
       "model_id": "99e517882527480d92221ba7d6de7343",
       "version_major": 2,
       "version_minor": 0
      },
      "text/plain": [
       "Batches:   0%|          | 0/1 [00:00<?, ?it/s]"
      ]
     },
     "metadata": {},
     "output_type": "display_data"
    },
    {
     "data": {
      "application/vnd.jupyter.widget-view+json": {
       "model_id": "371552ac015d447b91d50677b9009bc4",
       "version_major": 2,
       "version_minor": 0
      },
      "text/plain": [
       "Batches:   0%|          | 0/1 [00:00<?, ?it/s]"
      ]
     },
     "metadata": {},
     "output_type": "display_data"
    },
    {
     "data": {
      "application/vnd.jupyter.widget-view+json": {
       "model_id": "71fa81cbd4e24b52b6b874d184733019",
       "version_major": 2,
       "version_minor": 0
      },
      "text/plain": [
       "Batches:   0%|          | 0/1 [00:00<?, ?it/s]"
      ]
     },
     "metadata": {},
     "output_type": "display_data"
    },
    {
     "data": {
      "application/vnd.jupyter.widget-view+json": {
       "model_id": "3e3a42111b844fbfb960c27d8effc235",
       "version_major": 2,
       "version_minor": 0
      },
      "text/plain": [
       "Batches:   0%|          | 0/1 [00:00<?, ?it/s]"
      ]
     },
     "metadata": {},
     "output_type": "display_data"
    },
    {
     "data": {
      "application/vnd.jupyter.widget-view+json": {
       "model_id": "8ce175ebf4194192b1a671a1865947db",
       "version_major": 2,
       "version_minor": 0
      },
      "text/plain": [
       "Batches:   0%|          | 0/1 [00:00<?, ?it/s]"
      ]
     },
     "metadata": {},
     "output_type": "display_data"
    },
    {
     "data": {
      "application/vnd.jupyter.widget-view+json": {
       "model_id": "6389c351c91945a2bee285faa620bb97",
       "version_major": 2,
       "version_minor": 0
      },
      "text/plain": [
       "Batches:   0%|          | 0/1 [00:00<?, ?it/s]"
      ]
     },
     "metadata": {},
     "output_type": "display_data"
    },
    {
     "data": {
      "application/vnd.jupyter.widget-view+json": {
       "model_id": "e8508ccf254b410087f3ff1100dd23ff",
       "version_major": 2,
       "version_minor": 0
      },
      "text/plain": [
       "Batches:   0%|          | 0/1 [00:00<?, ?it/s]"
      ]
     },
     "metadata": {},
     "output_type": "display_data"
    },
    {
     "data": {
      "application/vnd.jupyter.widget-view+json": {
       "model_id": "e83f446cc4984029b670386c0480be7c",
       "version_major": 2,
       "version_minor": 0
      },
      "text/plain": [
       "Batches:   0%|          | 0/1 [00:00<?, ?it/s]"
      ]
     },
     "metadata": {},
     "output_type": "display_data"
    },
    {
     "data": {
      "application/vnd.jupyter.widget-view+json": {
       "model_id": "8c0145b06f50446db38911c1af15a6cf",
       "version_major": 2,
       "version_minor": 0
      },
      "text/plain": [
       "Batches:   0%|          | 0/1 [00:00<?, ?it/s]"
      ]
     },
     "metadata": {},
     "output_type": "display_data"
    },
    {
     "data": {
      "application/vnd.jupyter.widget-view+json": {
       "model_id": "2fd93a05944f495fb80623bc975f35d5",
       "version_major": 2,
       "version_minor": 0
      },
      "text/plain": [
       "Batches:   0%|          | 0/1 [00:00<?, ?it/s]"
      ]
     },
     "metadata": {},
     "output_type": "display_data"
    },
    {
     "data": {
      "application/vnd.jupyter.widget-view+json": {
       "model_id": "ea26cf4c4c02425cbae3a2fefd0f88ef",
       "version_major": 2,
       "version_minor": 0
      },
      "text/plain": [
       "Batches:   0%|          | 0/1 [00:00<?, ?it/s]"
      ]
     },
     "metadata": {},
     "output_type": "display_data"
    },
    {
     "data": {
      "application/vnd.jupyter.widget-view+json": {
       "model_id": "61ad2d6807264c5ca6f29bc005966e60",
       "version_major": 2,
       "version_minor": 0
      },
      "text/plain": [
       "Batches:   0%|          | 0/1 [00:00<?, ?it/s]"
      ]
     },
     "metadata": {},
     "output_type": "display_data"
    },
    {
     "data": {
      "application/vnd.jupyter.widget-view+json": {
       "model_id": "092da60a3d734ac68200a0be320b4a01",
       "version_major": 2,
       "version_minor": 0
      },
      "text/plain": [
       "Batches:   0%|          | 0/1 [00:00<?, ?it/s]"
      ]
     },
     "metadata": {},
     "output_type": "display_data"
    },
    {
     "data": {
      "application/vnd.jupyter.widget-view+json": {
       "model_id": "5af83034b215469bb8b9d940158d4031",
       "version_major": 2,
       "version_minor": 0
      },
      "text/plain": [
       "Batches:   0%|          | 0/1 [00:00<?, ?it/s]"
      ]
     },
     "metadata": {},
     "output_type": "display_data"
    },
    {
     "data": {
      "application/vnd.jupyter.widget-view+json": {
       "model_id": "5fd6d7d9c1224ee0ac6aca8faff85b7c",
       "version_major": 2,
       "version_minor": 0
      },
      "text/plain": [
       "Batches:   0%|          | 0/1 [00:00<?, ?it/s]"
      ]
     },
     "metadata": {},
     "output_type": "display_data"
    },
    {
     "data": {
      "application/vnd.jupyter.widget-view+json": {
       "model_id": "7e57f7bd8f464b81a29d8e874d5d4134",
       "version_major": 2,
       "version_minor": 0
      },
      "text/plain": [
       "Batches:   0%|          | 0/1 [00:00<?, ?it/s]"
      ]
     },
     "metadata": {},
     "output_type": "display_data"
    },
    {
     "data": {
      "application/vnd.jupyter.widget-view+json": {
       "model_id": "5d00ea363e0346dc86001f6889191307",
       "version_major": 2,
       "version_minor": 0
      },
      "text/plain": [
       "Batches:   0%|          | 0/1 [00:00<?, ?it/s]"
      ]
     },
     "metadata": {},
     "output_type": "display_data"
    },
    {
     "data": {
      "application/vnd.jupyter.widget-view+json": {
       "model_id": "07377d11b2364df09ae0c6455d77b476",
       "version_major": 2,
       "version_minor": 0
      },
      "text/plain": [
       "Batches:   0%|          | 0/1 [00:00<?, ?it/s]"
      ]
     },
     "metadata": {},
     "output_type": "display_data"
    },
    {
     "data": {
      "application/vnd.jupyter.widget-view+json": {
       "model_id": "c21d064cf34f4fc0b0801e3da541b027",
       "version_major": 2,
       "version_minor": 0
      },
      "text/plain": [
       "Batches:   0%|          | 0/1 [00:00<?, ?it/s]"
      ]
     },
     "metadata": {},
     "output_type": "display_data"
    },
    {
     "data": {
      "application/vnd.jupyter.widget-view+json": {
       "model_id": "05f07afba3a547358376439095b7c891",
       "version_major": 2,
       "version_minor": 0
      },
      "text/plain": [
       "Batches:   0%|          | 0/1 [00:00<?, ?it/s]"
      ]
     },
     "metadata": {},
     "output_type": "display_data"
    },
    {
     "data": {
      "application/vnd.jupyter.widget-view+json": {
       "model_id": "51a45ddaed8142f98561e206d747b093",
       "version_major": 2,
       "version_minor": 0
      },
      "text/plain": [
       "Batches:   0%|          | 0/1 [00:00<?, ?it/s]"
      ]
     },
     "metadata": {},
     "output_type": "display_data"
    },
    {
     "data": {
      "application/vnd.jupyter.widget-view+json": {
       "model_id": "51dfc2a1169b4659a297b7f3b95da345",
       "version_major": 2,
       "version_minor": 0
      },
      "text/plain": [
       "Batches:   0%|          | 0/1 [00:00<?, ?it/s]"
      ]
     },
     "metadata": {},
     "output_type": "display_data"
    },
    {
     "data": {
      "application/vnd.jupyter.widget-view+json": {
       "model_id": "80a70da2c29344fdb878cbc9b11ef34c",
       "version_major": 2,
       "version_minor": 0
      },
      "text/plain": [
       "Batches:   0%|          | 0/1 [00:00<?, ?it/s]"
      ]
     },
     "metadata": {},
     "output_type": "display_data"
    },
    {
     "data": {
      "application/vnd.jupyter.widget-view+json": {
       "model_id": "2c339694c1b4493da80a8c3a62128e1d",
       "version_major": 2,
       "version_minor": 0
      },
      "text/plain": [
       "Batches:   0%|          | 0/1 [00:00<?, ?it/s]"
      ]
     },
     "metadata": {},
     "output_type": "display_data"
    },
    {
     "data": {
      "application/vnd.jupyter.widget-view+json": {
       "model_id": "d1fa185c64c04bf9b54f74a556c46351",
       "version_major": 2,
       "version_minor": 0
      },
      "text/plain": [
       "Batches:   0%|          | 0/1 [00:00<?, ?it/s]"
      ]
     },
     "metadata": {},
     "output_type": "display_data"
    },
    {
     "data": {
      "application/vnd.jupyter.widget-view+json": {
       "model_id": "8d5a0ac3ea934b568f4a1e8aa359e028",
       "version_major": 2,
       "version_minor": 0
      },
      "text/plain": [
       "Batches:   0%|          | 0/1 [00:00<?, ?it/s]"
      ]
     },
     "metadata": {},
     "output_type": "display_data"
    },
    {
     "data": {
      "application/vnd.jupyter.widget-view+json": {
       "model_id": "4ca56b1dad344cbea888b7a9adf7cd4b",
       "version_major": 2,
       "version_minor": 0
      },
      "text/plain": [
       "Batches:   0%|          | 0/1 [00:00<?, ?it/s]"
      ]
     },
     "metadata": {},
     "output_type": "display_data"
    },
    {
     "data": {
      "application/vnd.jupyter.widget-view+json": {
       "model_id": "b150141a7bc244abb06670edf4cd5452",
       "version_major": 2,
       "version_minor": 0
      },
      "text/plain": [
       "Batches:   0%|          | 0/1 [00:00<?, ?it/s]"
      ]
     },
     "metadata": {},
     "output_type": "display_data"
    },
    {
     "data": {
      "application/vnd.jupyter.widget-view+json": {
       "model_id": "44ec2475a9ee4db8a9e9a0e41cc061ad",
       "version_major": 2,
       "version_minor": 0
      },
      "text/plain": [
       "Batches:   0%|          | 0/1 [00:00<?, ?it/s]"
      ]
     },
     "metadata": {},
     "output_type": "display_data"
    },
    {
     "data": {
      "application/vnd.jupyter.widget-view+json": {
       "model_id": "3d302bed6f2c47c891c9484e91ccc6fb",
       "version_major": 2,
       "version_minor": 0
      },
      "text/plain": [
       "Batches:   0%|          | 0/1 [00:00<?, ?it/s]"
      ]
     },
     "metadata": {},
     "output_type": "display_data"
    },
    {
     "data": {
      "application/vnd.jupyter.widget-view+json": {
       "model_id": "9f32ca89c7584175af620a3362160aa3",
       "version_major": 2,
       "version_minor": 0
      },
      "text/plain": [
       "Batches:   0%|          | 0/1 [00:00<?, ?it/s]"
      ]
     },
     "metadata": {},
     "output_type": "display_data"
    },
    {
     "data": {
      "application/vnd.jupyter.widget-view+json": {
       "model_id": "f55687ebcf4c460b882508106a56f9e0",
       "version_major": 2,
       "version_minor": 0
      },
      "text/plain": [
       "Batches:   0%|          | 0/1 [00:00<?, ?it/s]"
      ]
     },
     "metadata": {},
     "output_type": "display_data"
    },
    {
     "data": {
      "application/vnd.jupyter.widget-view+json": {
       "model_id": "7b721c384f0f4d9e8453fdfbcb1b1c31",
       "version_major": 2,
       "version_minor": 0
      },
      "text/plain": [
       "Batches:   0%|          | 0/1 [00:00<?, ?it/s]"
      ]
     },
     "metadata": {},
     "output_type": "display_data"
    },
    {
     "data": {
      "application/vnd.jupyter.widget-view+json": {
       "model_id": "f5c7338ce84e4f27bac2d0a4f5dc5e88",
       "version_major": 2,
       "version_minor": 0
      },
      "text/plain": [
       "Batches:   0%|          | 0/1 [00:00<?, ?it/s]"
      ]
     },
     "metadata": {},
     "output_type": "display_data"
    },
    {
     "data": {
      "application/vnd.jupyter.widget-view+json": {
       "model_id": "a1f6ab15654d472881f4934de35b5145",
       "version_major": 2,
       "version_minor": 0
      },
      "text/plain": [
       "Batches:   0%|          | 0/1 [00:00<?, ?it/s]"
      ]
     },
     "metadata": {},
     "output_type": "display_data"
    },
    {
     "data": {
      "application/vnd.jupyter.widget-view+json": {
       "model_id": "892567719c584c8e839de0a76d8165d4",
       "version_major": 2,
       "version_minor": 0
      },
      "text/plain": [
       "Batches:   0%|          | 0/1 [00:00<?, ?it/s]"
      ]
     },
     "metadata": {},
     "output_type": "display_data"
    },
    {
     "data": {
      "application/vnd.jupyter.widget-view+json": {
       "model_id": "b6edf4950bd248cdb99038f6d924517a",
       "version_major": 2,
       "version_minor": 0
      },
      "text/plain": [
       "Batches:   0%|          | 0/1 [00:00<?, ?it/s]"
      ]
     },
     "metadata": {},
     "output_type": "display_data"
    },
    {
     "data": {
      "application/vnd.jupyter.widget-view+json": {
       "model_id": "a5445c4457fe4408a1d4ff7ccccc12fb",
       "version_major": 2,
       "version_minor": 0
      },
      "text/plain": [
       "Batches:   0%|          | 0/1 [00:00<?, ?it/s]"
      ]
     },
     "metadata": {},
     "output_type": "display_data"
    },
    {
     "data": {
      "application/vnd.jupyter.widget-view+json": {
       "model_id": "2844470cd59343dd9f56dcb2026ba729",
       "version_major": 2,
       "version_minor": 0
      },
      "text/plain": [
       "Batches:   0%|          | 0/1 [00:00<?, ?it/s]"
      ]
     },
     "metadata": {},
     "output_type": "display_data"
    },
    {
     "data": {
      "application/vnd.jupyter.widget-view+json": {
       "model_id": "32f697d59d3840759e0ab268e105261e",
       "version_major": 2,
       "version_minor": 0
      },
      "text/plain": [
       "Batches:   0%|          | 0/1 [00:00<?, ?it/s]"
      ]
     },
     "metadata": {},
     "output_type": "display_data"
    },
    {
     "data": {
      "application/vnd.jupyter.widget-view+json": {
       "model_id": "ad9022672f744b32a539c806f7142891",
       "version_major": 2,
       "version_minor": 0
      },
      "text/plain": [
       "Batches:   0%|          | 0/1 [00:00<?, ?it/s]"
      ]
     },
     "metadata": {},
     "output_type": "display_data"
    },
    {
     "data": {
      "application/vnd.jupyter.widget-view+json": {
       "model_id": "a34959d190b8490188a180114457b4f1",
       "version_major": 2,
       "version_minor": 0
      },
      "text/plain": [
       "Batches:   0%|          | 0/1 [00:00<?, ?it/s]"
      ]
     },
     "metadata": {},
     "output_type": "display_data"
    },
    {
     "data": {
      "application/vnd.jupyter.widget-view+json": {
       "model_id": "8703bc90879f441eaa0c2a027c8991c6",
       "version_major": 2,
       "version_minor": 0
      },
      "text/plain": [
       "Batches:   0%|          | 0/1 [00:00<?, ?it/s]"
      ]
     },
     "metadata": {},
     "output_type": "display_data"
    },
    {
     "data": {
      "application/vnd.jupyter.widget-view+json": {
       "model_id": "f0390204893249dcad5a0d1f42ce9608",
       "version_major": 2,
       "version_minor": 0
      },
      "text/plain": [
       "Batches:   0%|          | 0/1 [00:00<?, ?it/s]"
      ]
     },
     "metadata": {},
     "output_type": "display_data"
    },
    {
     "data": {
      "application/vnd.jupyter.widget-view+json": {
       "model_id": "2762b45e088e4c54bf117f69b1641377",
       "version_major": 2,
       "version_minor": 0
      },
      "text/plain": [
       "Batches:   0%|          | 0/1 [00:00<?, ?it/s]"
      ]
     },
     "metadata": {},
     "output_type": "display_data"
    },
    {
     "data": {
      "application/vnd.jupyter.widget-view+json": {
       "model_id": "1a5a7e142c47410bb7b57021a817e36f",
       "version_major": 2,
       "version_minor": 0
      },
      "text/plain": [
       "Batches:   0%|          | 0/1 [00:00<?, ?it/s]"
      ]
     },
     "metadata": {},
     "output_type": "display_data"
    },
    {
     "data": {
      "application/vnd.jupyter.widget-view+json": {
       "model_id": "c11063f2574c4318a8e3f2827de80bfa",
       "version_major": 2,
       "version_minor": 0
      },
      "text/plain": [
       "Batches:   0%|          | 0/1 [00:00<?, ?it/s]"
      ]
     },
     "metadata": {},
     "output_type": "display_data"
    },
    {
     "data": {
      "application/vnd.jupyter.widget-view+json": {
       "model_id": "b8bbc6248ea94a7ca75036e4f0da0df9",
       "version_major": 2,
       "version_minor": 0
      },
      "text/plain": [
       "Batches:   0%|          | 0/1 [00:00<?, ?it/s]"
      ]
     },
     "metadata": {},
     "output_type": "display_data"
    },
    {
     "data": {
      "application/vnd.jupyter.widget-view+json": {
       "model_id": "da4144a137b94493bdef9d97e1ef1be6",
       "version_major": 2,
       "version_minor": 0
      },
      "text/plain": [
       "Batches:   0%|          | 0/1 [00:00<?, ?it/s]"
      ]
     },
     "metadata": {},
     "output_type": "display_data"
    },
    {
     "data": {
      "application/vnd.jupyter.widget-view+json": {
       "model_id": "cf4e7ae33e7641f89f2c93bb45091622",
       "version_major": 2,
       "version_minor": 0
      },
      "text/plain": [
       "Batches:   0%|          | 0/1 [00:00<?, ?it/s]"
      ]
     },
     "metadata": {},
     "output_type": "display_data"
    },
    {
     "data": {
      "application/vnd.jupyter.widget-view+json": {
       "model_id": "78e2e5df0acd4e3bbafe1bf80627101f",
       "version_major": 2,
       "version_minor": 0
      },
      "text/plain": [
       "Batches:   0%|          | 0/1 [00:00<?, ?it/s]"
      ]
     },
     "metadata": {},
     "output_type": "display_data"
    },
    {
     "data": {
      "application/vnd.jupyter.widget-view+json": {
       "model_id": "8c9ef75d67ef4151916044e2cab0284b",
       "version_major": 2,
       "version_minor": 0
      },
      "text/plain": [
       "Batches:   0%|          | 0/1 [00:00<?, ?it/s]"
      ]
     },
     "metadata": {},
     "output_type": "display_data"
    },
    {
     "data": {
      "application/vnd.jupyter.widget-view+json": {
       "model_id": "e44bb5eb4d1b4caf81ef74c093f3b68a",
       "version_major": 2,
       "version_minor": 0
      },
      "text/plain": [
       "Batches:   0%|          | 0/1 [00:00<?, ?it/s]"
      ]
     },
     "metadata": {},
     "output_type": "display_data"
    },
    {
     "data": {
      "application/vnd.jupyter.widget-view+json": {
       "model_id": "8ad95dbb76c343ac9787301f444adbfd",
       "version_major": 2,
       "version_minor": 0
      },
      "text/plain": [
       "Batches:   0%|          | 0/1 [00:00<?, ?it/s]"
      ]
     },
     "metadata": {},
     "output_type": "display_data"
    },
    {
     "data": {
      "application/vnd.jupyter.widget-view+json": {
       "model_id": "0bca963defe84b84bff54334bb4b4a42",
       "version_major": 2,
       "version_minor": 0
      },
      "text/plain": [
       "Batches:   0%|          | 0/1 [00:00<?, ?it/s]"
      ]
     },
     "metadata": {},
     "output_type": "display_data"
    },
    {
     "data": {
      "application/vnd.jupyter.widget-view+json": {
       "model_id": "cf7a736d0826459e8ed549e7c7361a03",
       "version_major": 2,
       "version_minor": 0
      },
      "text/plain": [
       "Batches:   0%|          | 0/1 [00:00<?, ?it/s]"
      ]
     },
     "metadata": {},
     "output_type": "display_data"
    },
    {
     "data": {
      "application/vnd.jupyter.widget-view+json": {
       "model_id": "335f2e2e4e914518ae9dcaf7916826d4",
       "version_major": 2,
       "version_minor": 0
      },
      "text/plain": [
       "Batches:   0%|          | 0/1 [00:00<?, ?it/s]"
      ]
     },
     "metadata": {},
     "output_type": "display_data"
    },
    {
     "data": {
      "application/vnd.jupyter.widget-view+json": {
       "model_id": "bb63048017a1401780515ea122f8d1f3",
       "version_major": 2,
       "version_minor": 0
      },
      "text/plain": [
       "Batches:   0%|          | 0/1 [00:00<?, ?it/s]"
      ]
     },
     "metadata": {},
     "output_type": "display_data"
    },
    {
     "data": {
      "application/vnd.jupyter.widget-view+json": {
       "model_id": "a96bd9d624a04a3db2862bec3f8a7cc0",
       "version_major": 2,
       "version_minor": 0
      },
      "text/plain": [
       "Batches:   0%|          | 0/1 [00:00<?, ?it/s]"
      ]
     },
     "metadata": {},
     "output_type": "display_data"
    },
    {
     "data": {
      "application/vnd.jupyter.widget-view+json": {
       "model_id": "dc9d625c84974fbc9d3429523b139d36",
       "version_major": 2,
       "version_minor": 0
      },
      "text/plain": [
       "Batches:   0%|          | 0/1 [00:00<?, ?it/s]"
      ]
     },
     "metadata": {},
     "output_type": "display_data"
    },
    {
     "data": {
      "application/vnd.jupyter.widget-view+json": {
       "model_id": "6201d99b69614f8b87c99a109da03540",
       "version_major": 2,
       "version_minor": 0
      },
      "text/plain": [
       "Batches:   0%|          | 0/1 [00:00<?, ?it/s]"
      ]
     },
     "metadata": {},
     "output_type": "display_data"
    },
    {
     "data": {
      "application/vnd.jupyter.widget-view+json": {
       "model_id": "75b1e0eb464d48de8ff4c7d49a6537cb",
       "version_major": 2,
       "version_minor": 0
      },
      "text/plain": [
       "Batches:   0%|          | 0/1 [00:00<?, ?it/s]"
      ]
     },
     "metadata": {},
     "output_type": "display_data"
    },
    {
     "data": {
      "application/vnd.jupyter.widget-view+json": {
       "model_id": "a1fd391bf62341a9b51b3ae4865c2837",
       "version_major": 2,
       "version_minor": 0
      },
      "text/plain": [
       "Batches:   0%|          | 0/1 [00:00<?, ?it/s]"
      ]
     },
     "metadata": {},
     "output_type": "display_data"
    },
    {
     "data": {
      "application/vnd.jupyter.widget-view+json": {
       "model_id": "5000e1eb84d643899205770f6d37ed05",
       "version_major": 2,
       "version_minor": 0
      },
      "text/plain": [
       "Batches:   0%|          | 0/1 [00:00<?, ?it/s]"
      ]
     },
     "metadata": {},
     "output_type": "display_data"
    },
    {
     "data": {
      "application/vnd.jupyter.widget-view+json": {
       "model_id": "5cd3f56ada254bec9221ef0ca02fbc28",
       "version_major": 2,
       "version_minor": 0
      },
      "text/plain": [
       "Batches:   0%|          | 0/1 [00:00<?, ?it/s]"
      ]
     },
     "metadata": {},
     "output_type": "display_data"
    },
    {
     "data": {
      "application/vnd.jupyter.widget-view+json": {
       "model_id": "f8685f3fef3c4c63bfe68bf4e857e5db",
       "version_major": 2,
       "version_minor": 0
      },
      "text/plain": [
       "Batches:   0%|          | 0/1 [00:00<?, ?it/s]"
      ]
     },
     "metadata": {},
     "output_type": "display_data"
    },
    {
     "data": {
      "application/vnd.jupyter.widget-view+json": {
       "model_id": "aa5eebdaccd242089022e1c13adc6346",
       "version_major": 2,
       "version_minor": 0
      },
      "text/plain": [
       "Batches:   0%|          | 0/1 [00:00<?, ?it/s]"
      ]
     },
     "metadata": {},
     "output_type": "display_data"
    },
    {
     "data": {
      "application/vnd.jupyter.widget-view+json": {
       "model_id": "8ae9554ce4a644f8a5af08462e435e22",
       "version_major": 2,
       "version_minor": 0
      },
      "text/plain": [
       "Batches:   0%|          | 0/1 [00:00<?, ?it/s]"
      ]
     },
     "metadata": {},
     "output_type": "display_data"
    },
    {
     "data": {
      "application/vnd.jupyter.widget-view+json": {
       "model_id": "db5e89a24ed4427aae350d24a349b649",
       "version_major": 2,
       "version_minor": 0
      },
      "text/plain": [
       "Batches:   0%|          | 0/1 [00:00<?, ?it/s]"
      ]
     },
     "metadata": {},
     "output_type": "display_data"
    },
    {
     "data": {
      "application/vnd.jupyter.widget-view+json": {
       "model_id": "c55899a8f4df48c6bcf82a963e390bd1",
       "version_major": 2,
       "version_minor": 0
      },
      "text/plain": [
       "Batches:   0%|          | 0/1 [00:00<?, ?it/s]"
      ]
     },
     "metadata": {},
     "output_type": "display_data"
    },
    {
     "data": {
      "application/vnd.jupyter.widget-view+json": {
       "model_id": "8ce65409eb7d4e84a8f216acc736d57e",
       "version_major": 2,
       "version_minor": 0
      },
      "text/plain": [
       "Batches:   0%|          | 0/1 [00:00<?, ?it/s]"
      ]
     },
     "metadata": {},
     "output_type": "display_data"
    },
    {
     "data": {
      "application/vnd.jupyter.widget-view+json": {
       "model_id": "9cedf3acb57c4d6eb511868672cbf5ac",
       "version_major": 2,
       "version_minor": 0
      },
      "text/plain": [
       "Batches:   0%|          | 0/1 [00:00<?, ?it/s]"
      ]
     },
     "metadata": {},
     "output_type": "display_data"
    },
    {
     "data": {
      "application/vnd.jupyter.widget-view+json": {
       "model_id": "4f28dd82dab3437788fbe189157b838f",
       "version_major": 2,
       "version_minor": 0
      },
      "text/plain": [
       "Batches:   0%|          | 0/1 [00:00<?, ?it/s]"
      ]
     },
     "metadata": {},
     "output_type": "display_data"
    },
    {
     "data": {
      "application/vnd.jupyter.widget-view+json": {
       "model_id": "008115d3246b4a9ba2990f213a6998c7",
       "version_major": 2,
       "version_minor": 0
      },
      "text/plain": [
       "Batches:   0%|          | 0/1 [00:00<?, ?it/s]"
      ]
     },
     "metadata": {},
     "output_type": "display_data"
    },
    {
     "data": {
      "application/vnd.jupyter.widget-view+json": {
       "model_id": "6a9fffa558344c3c910e85b172331e49",
       "version_major": 2,
       "version_minor": 0
      },
      "text/plain": [
       "Batches:   0%|          | 0/1 [00:00<?, ?it/s]"
      ]
     },
     "metadata": {},
     "output_type": "display_data"
    },
    {
     "data": {
      "application/vnd.jupyter.widget-view+json": {
       "model_id": "5b01488316af46168b98db7c3a4c4a09",
       "version_major": 2,
       "version_minor": 0
      },
      "text/plain": [
       "Batches:   0%|          | 0/1 [00:00<?, ?it/s]"
      ]
     },
     "metadata": {},
     "output_type": "display_data"
    },
    {
     "data": {
      "application/vnd.jupyter.widget-view+json": {
       "model_id": "fb32f58f57a040f6a0e08c95a7662264",
       "version_major": 2,
       "version_minor": 0
      },
      "text/plain": [
       "Batches:   0%|          | 0/1 [00:00<?, ?it/s]"
      ]
     },
     "metadata": {},
     "output_type": "display_data"
    },
    {
     "data": {
      "application/vnd.jupyter.widget-view+json": {
       "model_id": "af65c05c3c294352b69d0a9098d419ea",
       "version_major": 2,
       "version_minor": 0
      },
      "text/plain": [
       "Batches:   0%|          | 0/1 [00:00<?, ?it/s]"
      ]
     },
     "metadata": {},
     "output_type": "display_data"
    },
    {
     "data": {
      "application/vnd.jupyter.widget-view+json": {
       "model_id": "591240092e1b403e92ea706418821084",
       "version_major": 2,
       "version_minor": 0
      },
      "text/plain": [
       "Batches:   0%|          | 0/1 [00:00<?, ?it/s]"
      ]
     },
     "metadata": {},
     "output_type": "display_data"
    },
    {
     "data": {
      "application/vnd.jupyter.widget-view+json": {
       "model_id": "9cc7d83a1ec647afbdaa066e0afda11e",
       "version_major": 2,
       "version_minor": 0
      },
      "text/plain": [
       "Batches:   0%|          | 0/1 [00:00<?, ?it/s]"
      ]
     },
     "metadata": {},
     "output_type": "display_data"
    },
    {
     "data": {
      "application/vnd.jupyter.widget-view+json": {
       "model_id": "f73c25f65983432ebe7e8f9172055c95",
       "version_major": 2,
       "version_minor": 0
      },
      "text/plain": [
       "Batches:   0%|          | 0/1 [00:00<?, ?it/s]"
      ]
     },
     "metadata": {},
     "output_type": "display_data"
    },
    {
     "data": {
      "application/vnd.jupyter.widget-view+json": {
       "model_id": "1e64e675b7f742948b61f782d11f5894",
       "version_major": 2,
       "version_minor": 0
      },
      "text/plain": [
       "Batches:   0%|          | 0/1 [00:00<?, ?it/s]"
      ]
     },
     "metadata": {},
     "output_type": "display_data"
    },
    {
     "data": {
      "application/vnd.jupyter.widget-view+json": {
       "model_id": "84548f0418c841188105429803b0f571",
       "version_major": 2,
       "version_minor": 0
      },
      "text/plain": [
       "Batches:   0%|          | 0/1 [00:00<?, ?it/s]"
      ]
     },
     "metadata": {},
     "output_type": "display_data"
    },
    {
     "data": {
      "application/vnd.jupyter.widget-view+json": {
       "model_id": "0854a582ae2b4d919a2bc5085b865ff2",
       "version_major": 2,
       "version_minor": 0
      },
      "text/plain": [
       "Batches:   0%|          | 0/1 [00:00<?, ?it/s]"
      ]
     },
     "metadata": {},
     "output_type": "display_data"
    },
    {
     "data": {
      "application/vnd.jupyter.widget-view+json": {
       "model_id": "1332bfe0fcfc4fedb38f8a77b2dbdffe",
       "version_major": 2,
       "version_minor": 0
      },
      "text/plain": [
       "Batches:   0%|          | 0/1 [00:00<?, ?it/s]"
      ]
     },
     "metadata": {},
     "output_type": "display_data"
    },
    {
     "data": {
      "application/vnd.jupyter.widget-view+json": {
       "model_id": "15a6d42d4bdb4d879231250a37e28fa2",
       "version_major": 2,
       "version_minor": 0
      },
      "text/plain": [
       "Batches:   0%|          | 0/1 [00:00<?, ?it/s]"
      ]
     },
     "metadata": {},
     "output_type": "display_data"
    },
    {
     "data": {
      "application/vnd.jupyter.widget-view+json": {
       "model_id": "274ed0a01a91490d957ac4aaa9a405be",
       "version_major": 2,
       "version_minor": 0
      },
      "text/plain": [
       "Batches:   0%|          | 0/1 [00:00<?, ?it/s]"
      ]
     },
     "metadata": {},
     "output_type": "display_data"
    },
    {
     "data": {
      "application/vnd.jupyter.widget-view+json": {
       "model_id": "95ee9e49d366471598238c5185c5d27d",
       "version_major": 2,
       "version_minor": 0
      },
      "text/plain": [
       "Batches:   0%|          | 0/1 [00:00<?, ?it/s]"
      ]
     },
     "metadata": {},
     "output_type": "display_data"
    },
    {
     "data": {
      "application/vnd.jupyter.widget-view+json": {
       "model_id": "28f96d47b0df402a9c63a94a7b30c080",
       "version_major": 2,
       "version_minor": 0
      },
      "text/plain": [
       "Batches:   0%|          | 0/1 [00:00<?, ?it/s]"
      ]
     },
     "metadata": {},
     "output_type": "display_data"
    },
    {
     "data": {
      "application/vnd.jupyter.widget-view+json": {
       "model_id": "036bb7093c704322afec7616266e32c0",
       "version_major": 2,
       "version_minor": 0
      },
      "text/plain": [
       "Batches:   0%|          | 0/1 [00:00<?, ?it/s]"
      ]
     },
     "metadata": {},
     "output_type": "display_data"
    },
    {
     "data": {
      "application/vnd.jupyter.widget-view+json": {
       "model_id": "7a6aa277d3bb4f679a53c94a6f0dc83c",
       "version_major": 2,
       "version_minor": 0
      },
      "text/plain": [
       "Batches:   0%|          | 0/1 [00:00<?, ?it/s]"
      ]
     },
     "metadata": {},
     "output_type": "display_data"
    },
    {
     "data": {
      "application/vnd.jupyter.widget-view+json": {
       "model_id": "00b4602e3f854bd6bc8bb11598cc4cb4",
       "version_major": 2,
       "version_minor": 0
      },
      "text/plain": [
       "Batches:   0%|          | 0/1 [00:00<?, ?it/s]"
      ]
     },
     "metadata": {},
     "output_type": "display_data"
    },
    {
     "data": {
      "application/vnd.jupyter.widget-view+json": {
       "model_id": "e44a3732ee1345f8b5c0eea0d0d42686",
       "version_major": 2,
       "version_minor": 0
      },
      "text/plain": [
       "Batches:   0%|          | 0/1 [00:00<?, ?it/s]"
      ]
     },
     "metadata": {},
     "output_type": "display_data"
    },
    {
     "data": {
      "application/vnd.jupyter.widget-view+json": {
       "model_id": "106e7d3586f843b8a2094df15c356364",
       "version_major": 2,
       "version_minor": 0
      },
      "text/plain": [
       "Batches:   0%|          | 0/1 [00:00<?, ?it/s]"
      ]
     },
     "metadata": {},
     "output_type": "display_data"
    },
    {
     "data": {
      "application/vnd.jupyter.widget-view+json": {
       "model_id": "7c7e94695ea44d4b98a1bed6b83e8bfd",
       "version_major": 2,
       "version_minor": 0
      },
      "text/plain": [
       "Batches:   0%|          | 0/1 [00:00<?, ?it/s]"
      ]
     },
     "metadata": {},
     "output_type": "display_data"
    },
    {
     "data": {
      "application/vnd.jupyter.widget-view+json": {
       "model_id": "ce4a6a17154741a28b7a2ee8c0da0ead",
       "version_major": 2,
       "version_minor": 0
      },
      "text/plain": [
       "Batches:   0%|          | 0/1 [00:00<?, ?it/s]"
      ]
     },
     "metadata": {},
     "output_type": "display_data"
    },
    {
     "data": {
      "application/vnd.jupyter.widget-view+json": {
       "model_id": "ac39b88691a9476c9241c1064a9a8016",
       "version_major": 2,
       "version_minor": 0
      },
      "text/plain": [
       "Batches:   0%|          | 0/1 [00:00<?, ?it/s]"
      ]
     },
     "metadata": {},
     "output_type": "display_data"
    },
    {
     "data": {
      "application/vnd.jupyter.widget-view+json": {
       "model_id": "5491ebd376864755beae7677b72675b8",
       "version_major": 2,
       "version_minor": 0
      },
      "text/plain": [
       "Batches:   0%|          | 0/1 [00:00<?, ?it/s]"
      ]
     },
     "metadata": {},
     "output_type": "display_data"
    },
    {
     "data": {
      "application/vnd.jupyter.widget-view+json": {
       "model_id": "164fd81c0d0743aeab4b3bbf813ccdfd",
       "version_major": 2,
       "version_minor": 0
      },
      "text/plain": [
       "Batches:   0%|          | 0/1 [00:00<?, ?it/s]"
      ]
     },
     "metadata": {},
     "output_type": "display_data"
    },
    {
     "data": {
      "application/vnd.jupyter.widget-view+json": {
       "model_id": "4fd2ce840fc14394973c37cbf2b6e40a",
       "version_major": 2,
       "version_minor": 0
      },
      "text/plain": [
       "Batches:   0%|          | 0/1 [00:00<?, ?it/s]"
      ]
     },
     "metadata": {},
     "output_type": "display_data"
    },
    {
     "data": {
      "application/vnd.jupyter.widget-view+json": {
       "model_id": "320f075aacbe4d898b7ba52fa4ab5892",
       "version_major": 2,
       "version_minor": 0
      },
      "text/plain": [
       "Batches:   0%|          | 0/1 [00:00<?, ?it/s]"
      ]
     },
     "metadata": {},
     "output_type": "display_data"
    },
    {
     "data": {
      "application/vnd.jupyter.widget-view+json": {
       "model_id": "44a6a947aa52492a9541d202c6e685fa",
       "version_major": 2,
       "version_minor": 0
      },
      "text/plain": [
       "Batches:   0%|          | 0/1 [00:00<?, ?it/s]"
      ]
     },
     "metadata": {},
     "output_type": "display_data"
    },
    {
     "data": {
      "application/vnd.jupyter.widget-view+json": {
       "model_id": "b7a05ddc23c44686b117a7fc682639a0",
       "version_major": 2,
       "version_minor": 0
      },
      "text/plain": [
       "Batches:   0%|          | 0/1 [00:00<?, ?it/s]"
      ]
     },
     "metadata": {},
     "output_type": "display_data"
    },
    {
     "data": {
      "application/vnd.jupyter.widget-view+json": {
       "model_id": "4315b8b76de44b9989e892b0e18bd4f6",
       "version_major": 2,
       "version_minor": 0
      },
      "text/plain": [
       "Batches:   0%|          | 0/1 [00:00<?, ?it/s]"
      ]
     },
     "metadata": {},
     "output_type": "display_data"
    },
    {
     "data": {
      "application/vnd.jupyter.widget-view+json": {
       "model_id": "69befde0da8f4240b57806b6cee6a139",
       "version_major": 2,
       "version_minor": 0
      },
      "text/plain": [
       "Batches:   0%|          | 0/1 [00:00<?, ?it/s]"
      ]
     },
     "metadata": {},
     "output_type": "display_data"
    },
    {
     "data": {
      "application/vnd.jupyter.widget-view+json": {
       "model_id": "b7dfb9cda67743688f71a678e0e8e96e",
       "version_major": 2,
       "version_minor": 0
      },
      "text/plain": [
       "Batches:   0%|          | 0/1 [00:00<?, ?it/s]"
      ]
     },
     "metadata": {},
     "output_type": "display_data"
    },
    {
     "data": {
      "application/vnd.jupyter.widget-view+json": {
       "model_id": "26835310af994935aa03dfba66199314",
       "version_major": 2,
       "version_minor": 0
      },
      "text/plain": [
       "Batches:   0%|          | 0/1 [00:00<?, ?it/s]"
      ]
     },
     "metadata": {},
     "output_type": "display_data"
    },
    {
     "data": {
      "application/vnd.jupyter.widget-view+json": {
       "model_id": "c132f30637f349fea0853ddae3264233",
       "version_major": 2,
       "version_minor": 0
      },
      "text/plain": [
       "Batches:   0%|          | 0/1 [00:00<?, ?it/s]"
      ]
     },
     "metadata": {},
     "output_type": "display_data"
    },
    {
     "data": {
      "application/vnd.jupyter.widget-view+json": {
       "model_id": "c379e9e42fe0466985fc7f6bc8b2e3e4",
       "version_major": 2,
       "version_minor": 0
      },
      "text/plain": [
       "Batches:   0%|          | 0/1 [00:00<?, ?it/s]"
      ]
     },
     "metadata": {},
     "output_type": "display_data"
    },
    {
     "data": {
      "application/vnd.jupyter.widget-view+json": {
       "model_id": "29e40563160a4b20b147137f5e967344",
       "version_major": 2,
       "version_minor": 0
      },
      "text/plain": [
       "Batches:   0%|          | 0/1 [00:00<?, ?it/s]"
      ]
     },
     "metadata": {},
     "output_type": "display_data"
    },
    {
     "data": {
      "application/vnd.jupyter.widget-view+json": {
       "model_id": "a12e8814f3f2448fa3c9bbda51036957",
       "version_major": 2,
       "version_minor": 0
      },
      "text/plain": [
       "Batches:   0%|          | 0/1 [00:00<?, ?it/s]"
      ]
     },
     "metadata": {},
     "output_type": "display_data"
    },
    {
     "data": {
      "application/vnd.jupyter.widget-view+json": {
       "model_id": "826c473ef4184c148be4a953c12d2afb",
       "version_major": 2,
       "version_minor": 0
      },
      "text/plain": [
       "Batches:   0%|          | 0/1 [00:00<?, ?it/s]"
      ]
     },
     "metadata": {},
     "output_type": "display_data"
    },
    {
     "data": {
      "application/vnd.jupyter.widget-view+json": {
       "model_id": "0e5ee10d59d54ebc817cc859fa1d8bf7",
       "version_major": 2,
       "version_minor": 0
      },
      "text/plain": [
       "Batches:   0%|          | 0/1 [00:00<?, ?it/s]"
      ]
     },
     "metadata": {},
     "output_type": "display_data"
    },
    {
     "data": {
      "application/vnd.jupyter.widget-view+json": {
       "model_id": "bb8939fd7704449192e4942a77d8bcc3",
       "version_major": 2,
       "version_minor": 0
      },
      "text/plain": [
       "Batches:   0%|          | 0/1 [00:00<?, ?it/s]"
      ]
     },
     "metadata": {},
     "output_type": "display_data"
    },
    {
     "data": {
      "application/vnd.jupyter.widget-view+json": {
       "model_id": "7b3e18ee0f2c4c6c83d02e6d767f3d11",
       "version_major": 2,
       "version_minor": 0
      },
      "text/plain": [
       "Batches:   0%|          | 0/1 [00:00<?, ?it/s]"
      ]
     },
     "metadata": {},
     "output_type": "display_data"
    },
    {
     "data": {
      "application/vnd.jupyter.widget-view+json": {
       "model_id": "3d0d048e76d443228ee76523396c3373",
       "version_major": 2,
       "version_minor": 0
      },
      "text/plain": [
       "Batches:   0%|          | 0/1 [00:00<?, ?it/s]"
      ]
     },
     "metadata": {},
     "output_type": "display_data"
    },
    {
     "data": {
      "application/vnd.jupyter.widget-view+json": {
       "model_id": "347884ee16b0400a8abf5267909f3076",
       "version_major": 2,
       "version_minor": 0
      },
      "text/plain": [
       "Batches:   0%|          | 0/1 [00:00<?, ?it/s]"
      ]
     },
     "metadata": {},
     "output_type": "display_data"
    },
    {
     "data": {
      "application/vnd.jupyter.widget-view+json": {
       "model_id": "4510b9a14d0d4cb09ef07756a858a319",
       "version_major": 2,
       "version_minor": 0
      },
      "text/plain": [
       "Batches:   0%|          | 0/1 [00:00<?, ?it/s]"
      ]
     },
     "metadata": {},
     "output_type": "display_data"
    },
    {
     "data": {
      "application/vnd.jupyter.widget-view+json": {
       "model_id": "d30cfe01df8a4031a1715781d23d91f2",
       "version_major": 2,
       "version_minor": 0
      },
      "text/plain": [
       "Batches:   0%|          | 0/1 [00:00<?, ?it/s]"
      ]
     },
     "metadata": {},
     "output_type": "display_data"
    },
    {
     "data": {
      "application/vnd.jupyter.widget-view+json": {
       "model_id": "b0fd65b99a3e4a4d8647557df6b4435d",
       "version_major": 2,
       "version_minor": 0
      },
      "text/plain": [
       "Batches:   0%|          | 0/1 [00:00<?, ?it/s]"
      ]
     },
     "metadata": {},
     "output_type": "display_data"
    },
    {
     "data": {
      "application/vnd.jupyter.widget-view+json": {
       "model_id": "df84662422054ddebbffcf7c4077abb5",
       "version_major": 2,
       "version_minor": 0
      },
      "text/plain": [
       "Batches:   0%|          | 0/1 [00:00<?, ?it/s]"
      ]
     },
     "metadata": {},
     "output_type": "display_data"
    },
    {
     "data": {
      "application/vnd.jupyter.widget-view+json": {
       "model_id": "022248b1221749fc9f6def303093e2a3",
       "version_major": 2,
       "version_minor": 0
      },
      "text/plain": [
       "Batches:   0%|          | 0/1 [00:00<?, ?it/s]"
      ]
     },
     "metadata": {},
     "output_type": "display_data"
    },
    {
     "data": {
      "application/vnd.jupyter.widget-view+json": {
       "model_id": "b2b12adb64604d4598161ad59dee4fbd",
       "version_major": 2,
       "version_minor": 0
      },
      "text/plain": [
       "Batches:   0%|          | 0/1 [00:00<?, ?it/s]"
      ]
     },
     "metadata": {},
     "output_type": "display_data"
    },
    {
     "data": {
      "application/vnd.jupyter.widget-view+json": {
       "model_id": "d73c7bf5859c42e28f972042029d14ff",
       "version_major": 2,
       "version_minor": 0
      },
      "text/plain": [
       "Batches:   0%|          | 0/1 [00:00<?, ?it/s]"
      ]
     },
     "metadata": {},
     "output_type": "display_data"
    },
    {
     "data": {
      "application/vnd.jupyter.widget-view+json": {
       "model_id": "b88f43c5df094e0da77acf7d3bac70c5",
       "version_major": 2,
       "version_minor": 0
      },
      "text/plain": [
       "Batches:   0%|          | 0/1 [00:00<?, ?it/s]"
      ]
     },
     "metadata": {},
     "output_type": "display_data"
    },
    {
     "data": {
      "application/vnd.jupyter.widget-view+json": {
       "model_id": "09a0381ea9844ad78693664c5ce0c8c8",
       "version_major": 2,
       "version_minor": 0
      },
      "text/plain": [
       "Batches:   0%|          | 0/1 [00:00<?, ?it/s]"
      ]
     },
     "metadata": {},
     "output_type": "display_data"
    },
    {
     "data": {
      "application/vnd.jupyter.widget-view+json": {
       "model_id": "0a585737c9b74d32883faba65a8972ec",
       "version_major": 2,
       "version_minor": 0
      },
      "text/plain": [
       "Batches:   0%|          | 0/1 [00:00<?, ?it/s]"
      ]
     },
     "metadata": {},
     "output_type": "display_data"
    },
    {
     "data": {
      "application/vnd.jupyter.widget-view+json": {
       "model_id": "f70b31f579cd4ddab5e0dd95c885b4a6",
       "version_major": 2,
       "version_minor": 0
      },
      "text/plain": [
       "Batches:   0%|          | 0/1 [00:00<?, ?it/s]"
      ]
     },
     "metadata": {},
     "output_type": "display_data"
    },
    {
     "data": {
      "application/vnd.jupyter.widget-view+json": {
       "model_id": "6a10074ac6c64f10b0dd51a3c6a5edc2",
       "version_major": 2,
       "version_minor": 0
      },
      "text/plain": [
       "Batches:   0%|          | 0/1 [00:00<?, ?it/s]"
      ]
     },
     "metadata": {},
     "output_type": "display_data"
    },
    {
     "data": {
      "application/vnd.jupyter.widget-view+json": {
       "model_id": "c01bd80a500e4e63825d2dbe05466228",
       "version_major": 2,
       "version_minor": 0
      },
      "text/plain": [
       "Batches:   0%|          | 0/1 [00:00<?, ?it/s]"
      ]
     },
     "metadata": {},
     "output_type": "display_data"
    },
    {
     "data": {
      "application/vnd.jupyter.widget-view+json": {
       "model_id": "7a14a141c71244cdba87561b59a94312",
       "version_major": 2,
       "version_minor": 0
      },
      "text/plain": [
       "Batches:   0%|          | 0/1 [00:00<?, ?it/s]"
      ]
     },
     "metadata": {},
     "output_type": "display_data"
    },
    {
     "data": {
      "application/vnd.jupyter.widget-view+json": {
       "model_id": "1b6844b73f634d69a9f1d0bde328aba2",
       "version_major": 2,
       "version_minor": 0
      },
      "text/plain": [
       "Batches:   0%|          | 0/1 [00:00<?, ?it/s]"
      ]
     },
     "metadata": {},
     "output_type": "display_data"
    },
    {
     "data": {
      "application/vnd.jupyter.widget-view+json": {
       "model_id": "83c89a966f1c4a99913435d2702c2cea",
       "version_major": 2,
       "version_minor": 0
      },
      "text/plain": [
       "Batches:   0%|          | 0/1 [00:00<?, ?it/s]"
      ]
     },
     "metadata": {},
     "output_type": "display_data"
    },
    {
     "data": {
      "application/vnd.jupyter.widget-view+json": {
       "model_id": "5de0ca6870064bb496ee7381b0e53770",
       "version_major": 2,
       "version_minor": 0
      },
      "text/plain": [
       "Batches:   0%|          | 0/1 [00:00<?, ?it/s]"
      ]
     },
     "metadata": {},
     "output_type": "display_data"
    },
    {
     "data": {
      "application/vnd.jupyter.widget-view+json": {
       "model_id": "cb8eb886575f4af5888df6b65a90bbfd",
       "version_major": 2,
       "version_minor": 0
      },
      "text/plain": [
       "Batches:   0%|          | 0/1 [00:00<?, ?it/s]"
      ]
     },
     "metadata": {},
     "output_type": "display_data"
    },
    {
     "data": {
      "application/vnd.jupyter.widget-view+json": {
       "model_id": "a324d5df70804837abadebe061e73809",
       "version_major": 2,
       "version_minor": 0
      },
      "text/plain": [
       "Batches:   0%|          | 0/1 [00:00<?, ?it/s]"
      ]
     },
     "metadata": {},
     "output_type": "display_data"
    },
    {
     "data": {
      "application/vnd.jupyter.widget-view+json": {
       "model_id": "41ddceb5dd6848a299a60431b3137cf7",
       "version_major": 2,
       "version_minor": 0
      },
      "text/plain": [
       "Batches:   0%|          | 0/1 [00:00<?, ?it/s]"
      ]
     },
     "metadata": {},
     "output_type": "display_data"
    },
    {
     "data": {
      "application/vnd.jupyter.widget-view+json": {
       "model_id": "cdfd9fa32aef45b0a2e3e32acb8cfe04",
       "version_major": 2,
       "version_minor": 0
      },
      "text/plain": [
       "Batches:   0%|          | 0/1 [00:00<?, ?it/s]"
      ]
     },
     "metadata": {},
     "output_type": "display_data"
    },
    {
     "data": {
      "application/vnd.jupyter.widget-view+json": {
       "model_id": "7b930c8830954e0fb88110b21b9ce8df",
       "version_major": 2,
       "version_minor": 0
      },
      "text/plain": [
       "Batches:   0%|          | 0/1 [00:00<?, ?it/s]"
      ]
     },
     "metadata": {},
     "output_type": "display_data"
    },
    {
     "data": {
      "application/vnd.jupyter.widget-view+json": {
       "model_id": "75beaaf1876c4112afcb1700619dc373",
       "version_major": 2,
       "version_minor": 0
      },
      "text/plain": [
       "Batches:   0%|          | 0/1 [00:00<?, ?it/s]"
      ]
     },
     "metadata": {},
     "output_type": "display_data"
    },
    {
     "data": {
      "application/vnd.jupyter.widget-view+json": {
       "model_id": "92a98ec6971b4c7f9868a0b036553c89",
       "version_major": 2,
       "version_minor": 0
      },
      "text/plain": [
       "Batches:   0%|          | 0/1 [00:00<?, ?it/s]"
      ]
     },
     "metadata": {},
     "output_type": "display_data"
    },
    {
     "data": {
      "application/vnd.jupyter.widget-view+json": {
       "model_id": "634d020849af4ff8ab65f3387290860e",
       "version_major": 2,
       "version_minor": 0
      },
      "text/plain": [
       "Batches:   0%|          | 0/1 [00:00<?, ?it/s]"
      ]
     },
     "metadata": {},
     "output_type": "display_data"
    },
    {
     "data": {
      "application/vnd.jupyter.widget-view+json": {
       "model_id": "ef2eeca8e2d74f32b0582432564c67bd",
       "version_major": 2,
       "version_minor": 0
      },
      "text/plain": [
       "Batches:   0%|          | 0/1 [00:00<?, ?it/s]"
      ]
     },
     "metadata": {},
     "output_type": "display_data"
    },
    {
     "data": {
      "application/vnd.jupyter.widget-view+json": {
       "model_id": "63afd59d52ea4c85b05a0c2ee60990b2",
       "version_major": 2,
       "version_minor": 0
      },
      "text/plain": [
       "Batches:   0%|          | 0/1 [00:00<?, ?it/s]"
      ]
     },
     "metadata": {},
     "output_type": "display_data"
    },
    {
     "data": {
      "application/vnd.jupyter.widget-view+json": {
       "model_id": "9324e094fef540b0a507f82d4a24fce9",
       "version_major": 2,
       "version_minor": 0
      },
      "text/plain": [
       "Batches:   0%|          | 0/1 [00:00<?, ?it/s]"
      ]
     },
     "metadata": {},
     "output_type": "display_data"
    },
    {
     "data": {
      "application/vnd.jupyter.widget-view+json": {
       "model_id": "9094a251c6ce4cf8b2a01325503a4954",
       "version_major": 2,
       "version_minor": 0
      },
      "text/plain": [
       "Batches:   0%|          | 0/1 [00:00<?, ?it/s]"
      ]
     },
     "metadata": {},
     "output_type": "display_data"
    },
    {
     "data": {
      "application/vnd.jupyter.widget-view+json": {
       "model_id": "40be8e80cb2f40f99311450ec6e5f68f",
       "version_major": 2,
       "version_minor": 0
      },
      "text/plain": [
       "Batches:   0%|          | 0/1 [00:00<?, ?it/s]"
      ]
     },
     "metadata": {},
     "output_type": "display_data"
    },
    {
     "data": {
      "application/vnd.jupyter.widget-view+json": {
       "model_id": "c02f8516e129436e8dcacb1e20844b6f",
       "version_major": 2,
       "version_minor": 0
      },
      "text/plain": [
       "Batches:   0%|          | 0/1 [00:00<?, ?it/s]"
      ]
     },
     "metadata": {},
     "output_type": "display_data"
    },
    {
     "data": {
      "application/vnd.jupyter.widget-view+json": {
       "model_id": "68f36aa696974c14b1f756fd4032ff06",
       "version_major": 2,
       "version_minor": 0
      },
      "text/plain": [
       "Batches:   0%|          | 0/1 [00:00<?, ?it/s]"
      ]
     },
     "metadata": {},
     "output_type": "display_data"
    },
    {
     "data": {
      "application/vnd.jupyter.widget-view+json": {
       "model_id": "1cb6e17f7f2c4e0abd0174291bc3a886",
       "version_major": 2,
       "version_minor": 0
      },
      "text/plain": [
       "Batches:   0%|          | 0/1 [00:00<?, ?it/s]"
      ]
     },
     "metadata": {},
     "output_type": "display_data"
    },
    {
     "data": {
      "application/vnd.jupyter.widget-view+json": {
       "model_id": "6c63ab12355b46f7a5fb989e17e02eec",
       "version_major": 2,
       "version_minor": 0
      },
      "text/plain": [
       "Batches:   0%|          | 0/1 [00:00<?, ?it/s]"
      ]
     },
     "metadata": {},
     "output_type": "display_data"
    },
    {
     "data": {
      "application/vnd.jupyter.widget-view+json": {
       "model_id": "d431619993804f9db5c3a4fa7e834509",
       "version_major": 2,
       "version_minor": 0
      },
      "text/plain": [
       "Batches:   0%|          | 0/1 [00:00<?, ?it/s]"
      ]
     },
     "metadata": {},
     "output_type": "display_data"
    },
    {
     "data": {
      "application/vnd.jupyter.widget-view+json": {
       "model_id": "ca260c3aa9954fe38587a7ff02e4f030",
       "version_major": 2,
       "version_minor": 0
      },
      "text/plain": [
       "Batches:   0%|          | 0/1 [00:00<?, ?it/s]"
      ]
     },
     "metadata": {},
     "output_type": "display_data"
    },
    {
     "data": {
      "application/vnd.jupyter.widget-view+json": {
       "model_id": "25e332004cfe48f9839fb22a402951f5",
       "version_major": 2,
       "version_minor": 0
      },
      "text/plain": [
       "Batches:   0%|          | 0/1 [00:00<?, ?it/s]"
      ]
     },
     "metadata": {},
     "output_type": "display_data"
    },
    {
     "data": {
      "application/vnd.jupyter.widget-view+json": {
       "model_id": "f363df065b0347e78547c03da76238aa",
       "version_major": 2,
       "version_minor": 0
      },
      "text/plain": [
       "Batches:   0%|          | 0/1 [00:00<?, ?it/s]"
      ]
     },
     "metadata": {},
     "output_type": "display_data"
    },
    {
     "data": {
      "application/vnd.jupyter.widget-view+json": {
       "model_id": "c4f05a59bbc24eb181b4ddf82692d410",
       "version_major": 2,
       "version_minor": 0
      },
      "text/plain": [
       "Batches:   0%|          | 0/1 [00:00<?, ?it/s]"
      ]
     },
     "metadata": {},
     "output_type": "display_data"
    },
    {
     "data": {
      "application/vnd.jupyter.widget-view+json": {
       "model_id": "6468e5f0c7e64d7eaadb4a0224132226",
       "version_major": 2,
       "version_minor": 0
      },
      "text/plain": [
       "Batches:   0%|          | 0/1 [00:00<?, ?it/s]"
      ]
     },
     "metadata": {},
     "output_type": "display_data"
    },
    {
     "data": {
      "application/vnd.jupyter.widget-view+json": {
       "model_id": "d5d0d87f4c764dc7bf5cdcaba5c1a201",
       "version_major": 2,
       "version_minor": 0
      },
      "text/plain": [
       "Batches:   0%|          | 0/1 [00:00<?, ?it/s]"
      ]
     },
     "metadata": {},
     "output_type": "display_data"
    },
    {
     "data": {
      "application/vnd.jupyter.widget-view+json": {
       "model_id": "5326bac72d084f80991c6c713d4d87e7",
       "version_major": 2,
       "version_minor": 0
      },
      "text/plain": [
       "Batches:   0%|          | 0/1 [00:00<?, ?it/s]"
      ]
     },
     "metadata": {},
     "output_type": "display_data"
    },
    {
     "data": {
      "application/vnd.jupyter.widget-view+json": {
       "model_id": "29797f95bf274a24b128dc2d511b0fe3",
       "version_major": 2,
       "version_minor": 0
      },
      "text/plain": [
       "Batches:   0%|          | 0/1 [00:00<?, ?it/s]"
      ]
     },
     "metadata": {},
     "output_type": "display_data"
    },
    {
     "data": {
      "application/vnd.jupyter.widget-view+json": {
       "model_id": "300de0713d894af3b47615dc4a08fc74",
       "version_major": 2,
       "version_minor": 0
      },
      "text/plain": [
       "Batches:   0%|          | 0/1 [00:00<?, ?it/s]"
      ]
     },
     "metadata": {},
     "output_type": "display_data"
    },
    {
     "data": {
      "application/vnd.jupyter.widget-view+json": {
       "model_id": "fdbc4a405bff41cd96de5bbb5a24293c",
       "version_major": 2,
       "version_minor": 0
      },
      "text/plain": [
       "Batches:   0%|          | 0/1 [00:00<?, ?it/s]"
      ]
     },
     "metadata": {},
     "output_type": "display_data"
    },
    {
     "data": {
      "application/vnd.jupyter.widget-view+json": {
       "model_id": "d78ffb995e584a52b01892e6ac843100",
       "version_major": 2,
       "version_minor": 0
      },
      "text/plain": [
       "Batches:   0%|          | 0/1 [00:00<?, ?it/s]"
      ]
     },
     "metadata": {},
     "output_type": "display_data"
    },
    {
     "data": {
      "application/vnd.jupyter.widget-view+json": {
       "model_id": "e4eb7c5076f44de09d88e6f38f94a114",
       "version_major": 2,
       "version_minor": 0
      },
      "text/plain": [
       "Batches:   0%|          | 0/1 [00:00<?, ?it/s]"
      ]
     },
     "metadata": {},
     "output_type": "display_data"
    },
    {
     "data": {
      "application/vnd.jupyter.widget-view+json": {
       "model_id": "bde656c1965f476080b75df7d7455114",
       "version_major": 2,
       "version_minor": 0
      },
      "text/plain": [
       "Batches:   0%|          | 0/1 [00:00<?, ?it/s]"
      ]
     },
     "metadata": {},
     "output_type": "display_data"
    },
    {
     "data": {
      "application/vnd.jupyter.widget-view+json": {
       "model_id": "4ce3689625fb4aeeac712d302a2d10c6",
       "version_major": 2,
       "version_minor": 0
      },
      "text/plain": [
       "Batches:   0%|          | 0/1 [00:00<?, ?it/s]"
      ]
     },
     "metadata": {},
     "output_type": "display_data"
    },
    {
     "data": {
      "application/vnd.jupyter.widget-view+json": {
       "model_id": "37682dcfeccf4682b20dd4a9d580fe8b",
       "version_major": 2,
       "version_minor": 0
      },
      "text/plain": [
       "Batches:   0%|          | 0/1 [00:00<?, ?it/s]"
      ]
     },
     "metadata": {},
     "output_type": "display_data"
    },
    {
     "data": {
      "application/vnd.jupyter.widget-view+json": {
       "model_id": "9a1293bb6cfd4f57b2a9976940d60f89",
       "version_major": 2,
       "version_minor": 0
      },
      "text/plain": [
       "Batches:   0%|          | 0/1 [00:00<?, ?it/s]"
      ]
     },
     "metadata": {},
     "output_type": "display_data"
    },
    {
     "data": {
      "application/vnd.jupyter.widget-view+json": {
       "model_id": "7d269cf2505d4f8b8453a7483d93b229",
       "version_major": 2,
       "version_minor": 0
      },
      "text/plain": [
       "Batches:   0%|          | 0/1 [00:00<?, ?it/s]"
      ]
     },
     "metadata": {},
     "output_type": "display_data"
    },
    {
     "data": {
      "application/vnd.jupyter.widget-view+json": {
       "model_id": "ab6580ce5b3d4df99f3b0a91a3d9fb01",
       "version_major": 2,
       "version_minor": 0
      },
      "text/plain": [
       "Batches:   0%|          | 0/1 [00:00<?, ?it/s]"
      ]
     },
     "metadata": {},
     "output_type": "display_data"
    },
    {
     "data": {
      "application/vnd.jupyter.widget-view+json": {
       "model_id": "fe45b9161b6f45228167075c637cab88",
       "version_major": 2,
       "version_minor": 0
      },
      "text/plain": [
       "Batches:   0%|          | 0/1 [00:00<?, ?it/s]"
      ]
     },
     "metadata": {},
     "output_type": "display_data"
    },
    {
     "data": {
      "application/vnd.jupyter.widget-view+json": {
       "model_id": "696b65eddeba416db3b97ce401c473d1",
       "version_major": 2,
       "version_minor": 0
      },
      "text/plain": [
       "Batches:   0%|          | 0/1 [00:00<?, ?it/s]"
      ]
     },
     "metadata": {},
     "output_type": "display_data"
    },
    {
     "data": {
      "application/vnd.jupyter.widget-view+json": {
       "model_id": "50e41977f73d48769744ed2181677ba4",
       "version_major": 2,
       "version_minor": 0
      },
      "text/plain": [
       "Batches:   0%|          | 0/1 [00:00<?, ?it/s]"
      ]
     },
     "metadata": {},
     "output_type": "display_data"
    },
    {
     "data": {
      "application/vnd.jupyter.widget-view+json": {
       "model_id": "2852a85223f14deea52830c25f67e33c",
       "version_major": 2,
       "version_minor": 0
      },
      "text/plain": [
       "Batches:   0%|          | 0/1 [00:00<?, ?it/s]"
      ]
     },
     "metadata": {},
     "output_type": "display_data"
    },
    {
     "data": {
      "application/vnd.jupyter.widget-view+json": {
       "model_id": "417be05448584991b5155de912de4de8",
       "version_major": 2,
       "version_minor": 0
      },
      "text/plain": [
       "Batches:   0%|          | 0/1 [00:00<?, ?it/s]"
      ]
     },
     "metadata": {},
     "output_type": "display_data"
    },
    {
     "data": {
      "application/vnd.jupyter.widget-view+json": {
       "model_id": "fe3ae20bc21d4dc2a2f80c9a6e25ee4b",
       "version_major": 2,
       "version_minor": 0
      },
      "text/plain": [
       "Batches:   0%|          | 0/1 [00:00<?, ?it/s]"
      ]
     },
     "metadata": {},
     "output_type": "display_data"
    },
    {
     "data": {
      "application/vnd.jupyter.widget-view+json": {
       "model_id": "c6c788cc919749d8aa66e82da03ca7ce",
       "version_major": 2,
       "version_minor": 0
      },
      "text/plain": [
       "Batches:   0%|          | 0/1 [00:00<?, ?it/s]"
      ]
     },
     "metadata": {},
     "output_type": "display_data"
    },
    {
     "data": {
      "application/vnd.jupyter.widget-view+json": {
       "model_id": "54a5bf6b64c4466d9fed70e129d0248c",
       "version_major": 2,
       "version_minor": 0
      },
      "text/plain": [
       "Batches:   0%|          | 0/1 [00:00<?, ?it/s]"
      ]
     },
     "metadata": {},
     "output_type": "display_data"
    },
    {
     "data": {
      "application/vnd.jupyter.widget-view+json": {
       "model_id": "a90644fd255641e2b1bb7bf9f688e698",
       "version_major": 2,
       "version_minor": 0
      },
      "text/plain": [
       "Batches:   0%|          | 0/1 [00:00<?, ?it/s]"
      ]
     },
     "metadata": {},
     "output_type": "display_data"
    },
    {
     "data": {
      "application/vnd.jupyter.widget-view+json": {
       "model_id": "54cfa79472b94fb0a2a6600ccea8b46e",
       "version_major": 2,
       "version_minor": 0
      },
      "text/plain": [
       "Batches:   0%|          | 0/1 [00:00<?, ?it/s]"
      ]
     },
     "metadata": {},
     "output_type": "display_data"
    },
    {
     "data": {
      "application/vnd.jupyter.widget-view+json": {
       "model_id": "c3c37b36ed5f427cb482c138c7b3c128",
       "version_major": 2,
       "version_minor": 0
      },
      "text/plain": [
       "Batches:   0%|          | 0/1 [00:00<?, ?it/s]"
      ]
     },
     "metadata": {},
     "output_type": "display_data"
    },
    {
     "data": {
      "application/vnd.jupyter.widget-view+json": {
       "model_id": "fe3e87b2ebb84db5a8e9da872720aef9",
       "version_major": 2,
       "version_minor": 0
      },
      "text/plain": [
       "Batches:   0%|          | 0/1 [00:00<?, ?it/s]"
      ]
     },
     "metadata": {},
     "output_type": "display_data"
    },
    {
     "data": {
      "application/vnd.jupyter.widget-view+json": {
       "model_id": "b6758dce3bae437e9c1e0b5215f12d13",
       "version_major": 2,
       "version_minor": 0
      },
      "text/plain": [
       "Batches:   0%|          | 0/1 [00:00<?, ?it/s]"
      ]
     },
     "metadata": {},
     "output_type": "display_data"
    },
    {
     "data": {
      "application/vnd.jupyter.widget-view+json": {
       "model_id": "56e2b3acc66f4b42a9dadcbfc7a53d74",
       "version_major": 2,
       "version_minor": 0
      },
      "text/plain": [
       "Batches:   0%|          | 0/1 [00:00<?, ?it/s]"
      ]
     },
     "metadata": {},
     "output_type": "display_data"
    },
    {
     "data": {
      "application/vnd.jupyter.widget-view+json": {
       "model_id": "bfe7664122b7431caa841a46e95beff1",
       "version_major": 2,
       "version_minor": 0
      },
      "text/plain": [
       "Batches:   0%|          | 0/1 [00:00<?, ?it/s]"
      ]
     },
     "metadata": {},
     "output_type": "display_data"
    },
    {
     "data": {
      "application/vnd.jupyter.widget-view+json": {
       "model_id": "88914e8c7eef4d4b840770160b76b967",
       "version_major": 2,
       "version_minor": 0
      },
      "text/plain": [
       "Batches:   0%|          | 0/1 [00:00<?, ?it/s]"
      ]
     },
     "metadata": {},
     "output_type": "display_data"
    },
    {
     "data": {
      "application/vnd.jupyter.widget-view+json": {
       "model_id": "f44ace8dd1bc479fb50d36e353ef88f5",
       "version_major": 2,
       "version_minor": 0
      },
      "text/plain": [
       "Batches:   0%|          | 0/1 [00:00<?, ?it/s]"
      ]
     },
     "metadata": {},
     "output_type": "display_data"
    },
    {
     "data": {
      "application/vnd.jupyter.widget-view+json": {
       "model_id": "3c1c1ed849ef401b8edca8356e8d2f29",
       "version_major": 2,
       "version_minor": 0
      },
      "text/plain": [
       "Batches:   0%|          | 0/1 [00:00<?, ?it/s]"
      ]
     },
     "metadata": {},
     "output_type": "display_data"
    },
    {
     "data": {
      "application/vnd.jupyter.widget-view+json": {
       "model_id": "deb9cb92160442328a9ecbce67f39e3d",
       "version_major": 2,
       "version_minor": 0
      },
      "text/plain": [
       "Batches:   0%|          | 0/1 [00:00<?, ?it/s]"
      ]
     },
     "metadata": {},
     "output_type": "display_data"
    },
    {
     "data": {
      "application/vnd.jupyter.widget-view+json": {
       "model_id": "5ff03f2c93c54f38a8490ce740d01850",
       "version_major": 2,
       "version_minor": 0
      },
      "text/plain": [
       "Batches:   0%|          | 0/1 [00:00<?, ?it/s]"
      ]
     },
     "metadata": {},
     "output_type": "display_data"
    },
    {
     "data": {
      "application/vnd.jupyter.widget-view+json": {
       "model_id": "06ef57154d5149e293eb2d0994ffa71f",
       "version_major": 2,
       "version_minor": 0
      },
      "text/plain": [
       "Batches:   0%|          | 0/1 [00:00<?, ?it/s]"
      ]
     },
     "metadata": {},
     "output_type": "display_data"
    },
    {
     "data": {
      "application/vnd.jupyter.widget-view+json": {
       "model_id": "3139c0fb8fab4d30b6a89a16d69986ad",
       "version_major": 2,
       "version_minor": 0
      },
      "text/plain": [
       "Batches:   0%|          | 0/1 [00:00<?, ?it/s]"
      ]
     },
     "metadata": {},
     "output_type": "display_data"
    },
    {
     "data": {
      "application/vnd.jupyter.widget-view+json": {
       "model_id": "6aa48d02df864703ab30af4adc858d5d",
       "version_major": 2,
       "version_minor": 0
      },
      "text/plain": [
       "Batches:   0%|          | 0/1 [00:00<?, ?it/s]"
      ]
     },
     "metadata": {},
     "output_type": "display_data"
    },
    {
     "data": {
      "application/vnd.jupyter.widget-view+json": {
       "model_id": "8acb61b301484adcb226c718bcc07092",
       "version_major": 2,
       "version_minor": 0
      },
      "text/plain": [
       "Batches:   0%|          | 0/1 [00:00<?, ?it/s]"
      ]
     },
     "metadata": {},
     "output_type": "display_data"
    },
    {
     "data": {
      "application/vnd.jupyter.widget-view+json": {
       "model_id": "c35c0263b6c943818ed30b6a89aee186",
       "version_major": 2,
       "version_minor": 0
      },
      "text/plain": [
       "Batches:   0%|          | 0/1 [00:00<?, ?it/s]"
      ]
     },
     "metadata": {},
     "output_type": "display_data"
    },
    {
     "data": {
      "application/vnd.jupyter.widget-view+json": {
       "model_id": "7fecfb62f4b84550b59ab7301f2edf98",
       "version_major": 2,
       "version_minor": 0
      },
      "text/plain": [
       "Batches:   0%|          | 0/1 [00:00<?, ?it/s]"
      ]
     },
     "metadata": {},
     "output_type": "display_data"
    },
    {
     "data": {
      "application/vnd.jupyter.widget-view+json": {
       "model_id": "6a630daad9c1478a8b8cfe5d738b8546",
       "version_major": 2,
       "version_minor": 0
      },
      "text/plain": [
       "Batches:   0%|          | 0/1 [00:00<?, ?it/s]"
      ]
     },
     "metadata": {},
     "output_type": "display_data"
    },
    {
     "data": {
      "application/vnd.jupyter.widget-view+json": {
       "model_id": "650664dbe11240e2b14ff90ab850fb9b",
       "version_major": 2,
       "version_minor": 0
      },
      "text/plain": [
       "Batches:   0%|          | 0/1 [00:00<?, ?it/s]"
      ]
     },
     "metadata": {},
     "output_type": "display_data"
    },
    {
     "data": {
      "application/vnd.jupyter.widget-view+json": {
       "model_id": "016489e7e97e4b2a8f37ddff33e6f7f5",
       "version_major": 2,
       "version_minor": 0
      },
      "text/plain": [
       "Batches:   0%|          | 0/1 [00:00<?, ?it/s]"
      ]
     },
     "metadata": {},
     "output_type": "display_data"
    },
    {
     "data": {
      "application/vnd.jupyter.widget-view+json": {
       "model_id": "72b9630e23b04b7092b3ad6ffeb08c9a",
       "version_major": 2,
       "version_minor": 0
      },
      "text/plain": [
       "Batches:   0%|          | 0/1 [00:00<?, ?it/s]"
      ]
     },
     "metadata": {},
     "output_type": "display_data"
    },
    {
     "data": {
      "application/vnd.jupyter.widget-view+json": {
       "model_id": "fd1cc22237e74cb69ed4e39f04be4b47",
       "version_major": 2,
       "version_minor": 0
      },
      "text/plain": [
       "Batches:   0%|          | 0/1 [00:00<?, ?it/s]"
      ]
     },
     "metadata": {},
     "output_type": "display_data"
    },
    {
     "data": {
      "application/vnd.jupyter.widget-view+json": {
       "model_id": "f5facff38690457589f3d65b7863b5b5",
       "version_major": 2,
       "version_minor": 0
      },
      "text/plain": [
       "Batches:   0%|          | 0/1 [00:00<?, ?it/s]"
      ]
     },
     "metadata": {},
     "output_type": "display_data"
    },
    {
     "data": {
      "application/vnd.jupyter.widget-view+json": {
       "model_id": "0786bc05b8894cf7965237e045344cc1",
       "version_major": 2,
       "version_minor": 0
      },
      "text/plain": [
       "Batches:   0%|          | 0/1 [00:00<?, ?it/s]"
      ]
     },
     "metadata": {},
     "output_type": "display_data"
    },
    {
     "data": {
      "application/vnd.jupyter.widget-view+json": {
       "model_id": "8db75e3dcbcf4869b4c5d894a4c19d51",
       "version_major": 2,
       "version_minor": 0
      },
      "text/plain": [
       "Batches:   0%|          | 0/1 [00:00<?, ?it/s]"
      ]
     },
     "metadata": {},
     "output_type": "display_data"
    },
    {
     "data": {
      "application/vnd.jupyter.widget-view+json": {
       "model_id": "63a2ad04df03477ab23f6566bffa8d39",
       "version_major": 2,
       "version_minor": 0
      },
      "text/plain": [
       "Batches:   0%|          | 0/1 [00:00<?, ?it/s]"
      ]
     },
     "metadata": {},
     "output_type": "display_data"
    },
    {
     "data": {
      "application/vnd.jupyter.widget-view+json": {
       "model_id": "3b825db8bb2a4bf1b7013b0152fd5944",
       "version_major": 2,
       "version_minor": 0
      },
      "text/plain": [
       "Batches:   0%|          | 0/1 [00:00<?, ?it/s]"
      ]
     },
     "metadata": {},
     "output_type": "display_data"
    },
    {
     "data": {
      "application/vnd.jupyter.widget-view+json": {
       "model_id": "487c618d356c4a8da45d0b2d937afdf1",
       "version_major": 2,
       "version_minor": 0
      },
      "text/plain": [
       "Batches:   0%|          | 0/1 [00:00<?, ?it/s]"
      ]
     },
     "metadata": {},
     "output_type": "display_data"
    },
    {
     "data": {
      "application/vnd.jupyter.widget-view+json": {
       "model_id": "fa22dcde646e41538c341f229c37649c",
       "version_major": 2,
       "version_minor": 0
      },
      "text/plain": [
       "Batches:   0%|          | 0/1 [00:00<?, ?it/s]"
      ]
     },
     "metadata": {},
     "output_type": "display_data"
    },
    {
     "data": {
      "application/vnd.jupyter.widget-view+json": {
       "model_id": "5c8202f918c840bdb2e2652ebef04788",
       "version_major": 2,
       "version_minor": 0
      },
      "text/plain": [
       "Batches:   0%|          | 0/1 [00:00<?, ?it/s]"
      ]
     },
     "metadata": {},
     "output_type": "display_data"
    },
    {
     "data": {
      "application/vnd.jupyter.widget-view+json": {
       "model_id": "c34ac810c918418cb0cd6b51d6661926",
       "version_major": 2,
       "version_minor": 0
      },
      "text/plain": [
       "Batches:   0%|          | 0/1 [00:00<?, ?it/s]"
      ]
     },
     "metadata": {},
     "output_type": "display_data"
    },
    {
     "data": {
      "application/vnd.jupyter.widget-view+json": {
       "model_id": "c1b93768b1ae493cb53db08ff839d3c5",
       "version_major": 2,
       "version_minor": 0
      },
      "text/plain": [
       "Batches:   0%|          | 0/1 [00:00<?, ?it/s]"
      ]
     },
     "metadata": {},
     "output_type": "display_data"
    },
    {
     "data": {
      "application/vnd.jupyter.widget-view+json": {
       "model_id": "ca0145a5fbb94f43bf5e3114bb7a7d7d",
       "version_major": 2,
       "version_minor": 0
      },
      "text/plain": [
       "Batches:   0%|          | 0/1 [00:00<?, ?it/s]"
      ]
     },
     "metadata": {},
     "output_type": "display_data"
    },
    {
     "data": {
      "application/vnd.jupyter.widget-view+json": {
       "model_id": "bb4faa7099454b16b08c9e68c5d1ed05",
       "version_major": 2,
       "version_minor": 0
      },
      "text/plain": [
       "Batches:   0%|          | 0/1 [00:00<?, ?it/s]"
      ]
     },
     "metadata": {},
     "output_type": "display_data"
    },
    {
     "data": {
      "application/vnd.jupyter.widget-view+json": {
       "model_id": "c31a009903864341987394e43f90165d",
       "version_major": 2,
       "version_minor": 0
      },
      "text/plain": [
       "Batches:   0%|          | 0/1 [00:00<?, ?it/s]"
      ]
     },
     "metadata": {},
     "output_type": "display_data"
    },
    {
     "data": {
      "application/vnd.jupyter.widget-view+json": {
       "model_id": "f8c9c7e78b0f447885d6b6bc21706383",
       "version_major": 2,
       "version_minor": 0
      },
      "text/plain": [
       "Batches:   0%|          | 0/1 [00:00<?, ?it/s]"
      ]
     },
     "metadata": {},
     "output_type": "display_data"
    },
    {
     "data": {
      "application/vnd.jupyter.widget-view+json": {
       "model_id": "519378cb1cf24d769aba85119a5393c4",
       "version_major": 2,
       "version_minor": 0
      },
      "text/plain": [
       "Batches:   0%|          | 0/1 [00:00<?, ?it/s]"
      ]
     },
     "metadata": {},
     "output_type": "display_data"
    },
    {
     "data": {
      "application/vnd.jupyter.widget-view+json": {
       "model_id": "d40052ea78804bde8020f76fa3919490",
       "version_major": 2,
       "version_minor": 0
      },
      "text/plain": [
       "Batches:   0%|          | 0/1 [00:00<?, ?it/s]"
      ]
     },
     "metadata": {},
     "output_type": "display_data"
    },
    {
     "data": {
      "application/vnd.jupyter.widget-view+json": {
       "model_id": "5252c33ef0284c82b21a18f5b5c8140d",
       "version_major": 2,
       "version_minor": 0
      },
      "text/plain": [
       "Batches:   0%|          | 0/1 [00:00<?, ?it/s]"
      ]
     },
     "metadata": {},
     "output_type": "display_data"
    },
    {
     "data": {
      "application/vnd.jupyter.widget-view+json": {
       "model_id": "bf81181650ce4591999fe836361830b3",
       "version_major": 2,
       "version_minor": 0
      },
      "text/plain": [
       "Batches:   0%|          | 0/1 [00:00<?, ?it/s]"
      ]
     },
     "metadata": {},
     "output_type": "display_data"
    },
    {
     "data": {
      "application/vnd.jupyter.widget-view+json": {
       "model_id": "ea3e05ad56da49879685645a1f2f69c2",
       "version_major": 2,
       "version_minor": 0
      },
      "text/plain": [
       "Batches:   0%|          | 0/1 [00:00<?, ?it/s]"
      ]
     },
     "metadata": {},
     "output_type": "display_data"
    },
    {
     "data": {
      "application/vnd.jupyter.widget-view+json": {
       "model_id": "a946010299d04fd7908bb36c09fd8248",
       "version_major": 2,
       "version_minor": 0
      },
      "text/plain": [
       "Batches:   0%|          | 0/1 [00:00<?, ?it/s]"
      ]
     },
     "metadata": {},
     "output_type": "display_data"
    },
    {
     "data": {
      "application/vnd.jupyter.widget-view+json": {
       "model_id": "0f2600aa92c84497ad01e1a3d8375c2b",
       "version_major": 2,
       "version_minor": 0
      },
      "text/plain": [
       "Batches:   0%|          | 0/1 [00:00<?, ?it/s]"
      ]
     },
     "metadata": {},
     "output_type": "display_data"
    },
    {
     "data": {
      "application/vnd.jupyter.widget-view+json": {
       "model_id": "492e346f15db4f50bcf6d1f32328c5fa",
       "version_major": 2,
       "version_minor": 0
      },
      "text/plain": [
       "Batches:   0%|          | 0/1 [00:00<?, ?it/s]"
      ]
     },
     "metadata": {},
     "output_type": "display_data"
    },
    {
     "data": {
      "application/vnd.jupyter.widget-view+json": {
       "model_id": "ef052716847844ec9c6ee320ce51de57",
       "version_major": 2,
       "version_minor": 0
      },
      "text/plain": [
       "Batches:   0%|          | 0/1 [00:00<?, ?it/s]"
      ]
     },
     "metadata": {},
     "output_type": "display_data"
    },
    {
     "data": {
      "application/vnd.jupyter.widget-view+json": {
       "model_id": "066df33663994d879c2bf4c4ae68c584",
       "version_major": 2,
       "version_minor": 0
      },
      "text/plain": [
       "Batches:   0%|          | 0/1 [00:00<?, ?it/s]"
      ]
     },
     "metadata": {},
     "output_type": "display_data"
    },
    {
     "data": {
      "application/vnd.jupyter.widget-view+json": {
       "model_id": "cd621be81eec45409d22f44917173e91",
       "version_major": 2,
       "version_minor": 0
      },
      "text/plain": [
       "Batches:   0%|          | 0/1 [00:00<?, ?it/s]"
      ]
     },
     "metadata": {},
     "output_type": "display_data"
    },
    {
     "data": {
      "application/vnd.jupyter.widget-view+json": {
       "model_id": "09a1b021ce214563a0e89a9f92042c4f",
       "version_major": 2,
       "version_minor": 0
      },
      "text/plain": [
       "Batches:   0%|          | 0/1 [00:00<?, ?it/s]"
      ]
     },
     "metadata": {},
     "output_type": "display_data"
    },
    {
     "data": {
      "application/vnd.jupyter.widget-view+json": {
       "model_id": "d399d31e31b14096b0b82cc251981a03",
       "version_major": 2,
       "version_minor": 0
      },
      "text/plain": [
       "Batches:   0%|          | 0/1 [00:00<?, ?it/s]"
      ]
     },
     "metadata": {},
     "output_type": "display_data"
    },
    {
     "data": {
      "application/vnd.jupyter.widget-view+json": {
       "model_id": "12f2c376e88549b7ac68dae23f488034",
       "version_major": 2,
       "version_minor": 0
      },
      "text/plain": [
       "Batches:   0%|          | 0/1 [00:00<?, ?it/s]"
      ]
     },
     "metadata": {},
     "output_type": "display_data"
    },
    {
     "data": {
      "application/vnd.jupyter.widget-view+json": {
       "model_id": "6a1683a1e43a4599bed18dc811a7279d",
       "version_major": 2,
       "version_minor": 0
      },
      "text/plain": [
       "Batches:   0%|          | 0/1 [00:00<?, ?it/s]"
      ]
     },
     "metadata": {},
     "output_type": "display_data"
    },
    {
     "data": {
      "application/vnd.jupyter.widget-view+json": {
       "model_id": "6796e9b9d3cb4147a1e45f90f43c1224",
       "version_major": 2,
       "version_minor": 0
      },
      "text/plain": [
       "Batches:   0%|          | 0/1 [00:00<?, ?it/s]"
      ]
     },
     "metadata": {},
     "output_type": "display_data"
    },
    {
     "data": {
      "application/vnd.jupyter.widget-view+json": {
       "model_id": "2610304e8c934966b176698a8e77572a",
       "version_major": 2,
       "version_minor": 0
      },
      "text/plain": [
       "Batches:   0%|          | 0/1 [00:00<?, ?it/s]"
      ]
     },
     "metadata": {},
     "output_type": "display_data"
    },
    {
     "data": {
      "application/vnd.jupyter.widget-view+json": {
       "model_id": "5321276d4aa84748b97ab73701a029ed",
       "version_major": 2,
       "version_minor": 0
      },
      "text/plain": [
       "Batches:   0%|          | 0/1 [00:00<?, ?it/s]"
      ]
     },
     "metadata": {},
     "output_type": "display_data"
    },
    {
     "data": {
      "application/vnd.jupyter.widget-view+json": {
       "model_id": "257580680d0d4574bac64616eef44d3e",
       "version_major": 2,
       "version_minor": 0
      },
      "text/plain": [
       "Batches:   0%|          | 0/1 [00:00<?, ?it/s]"
      ]
     },
     "metadata": {},
     "output_type": "display_data"
    },
    {
     "data": {
      "application/vnd.jupyter.widget-view+json": {
       "model_id": "2841c9e917aa4a36b6c5c8eb72665c29",
       "version_major": 2,
       "version_minor": 0
      },
      "text/plain": [
       "Batches:   0%|          | 0/1 [00:00<?, ?it/s]"
      ]
     },
     "metadata": {},
     "output_type": "display_data"
    },
    {
     "data": {
      "application/vnd.jupyter.widget-view+json": {
       "model_id": "4c1c49709305426d95f686ad78d08e31",
       "version_major": 2,
       "version_minor": 0
      },
      "text/plain": [
       "Batches:   0%|          | 0/1 [00:00<?, ?it/s]"
      ]
     },
     "metadata": {},
     "output_type": "display_data"
    },
    {
     "data": {
      "application/vnd.jupyter.widget-view+json": {
       "model_id": "3038d596b87448eaaa75e287248b9021",
       "version_major": 2,
       "version_minor": 0
      },
      "text/plain": [
       "Batches:   0%|          | 0/1 [00:00<?, ?it/s]"
      ]
     },
     "metadata": {},
     "output_type": "display_data"
    },
    {
     "data": {
      "application/vnd.jupyter.widget-view+json": {
       "model_id": "780cb96ba780430bbcd35b9c65b05e35",
       "version_major": 2,
       "version_minor": 0
      },
      "text/plain": [
       "Batches:   0%|          | 0/1 [00:00<?, ?it/s]"
      ]
     },
     "metadata": {},
     "output_type": "display_data"
    },
    {
     "data": {
      "application/vnd.jupyter.widget-view+json": {
       "model_id": "20ccfea5adab452783c993f645cc14bd",
       "version_major": 2,
       "version_minor": 0
      },
      "text/plain": [
       "Batches:   0%|          | 0/1 [00:00<?, ?it/s]"
      ]
     },
     "metadata": {},
     "output_type": "display_data"
    },
    {
     "data": {
      "application/vnd.jupyter.widget-view+json": {
       "model_id": "a11b92e646fa42519bfd91e564f52a63",
       "version_major": 2,
       "version_minor": 0
      },
      "text/plain": [
       "Batches:   0%|          | 0/1 [00:00<?, ?it/s]"
      ]
     },
     "metadata": {},
     "output_type": "display_data"
    },
    {
     "data": {
      "application/vnd.jupyter.widget-view+json": {
       "model_id": "db55f988d8214043b57fb3ffb7043fc7",
       "version_major": 2,
       "version_minor": 0
      },
      "text/plain": [
       "Batches:   0%|          | 0/1 [00:00<?, ?it/s]"
      ]
     },
     "metadata": {},
     "output_type": "display_data"
    },
    {
     "data": {
      "application/vnd.jupyter.widget-view+json": {
       "model_id": "8a467a2cec7840be99e8599a16148fa8",
       "version_major": 2,
       "version_minor": 0
      },
      "text/plain": [
       "Batches:   0%|          | 0/1 [00:00<?, ?it/s]"
      ]
     },
     "metadata": {},
     "output_type": "display_data"
    },
    {
     "data": {
      "application/vnd.jupyter.widget-view+json": {
       "model_id": "9e769d82ccbc4e81b69c8d561f410873",
       "version_major": 2,
       "version_minor": 0
      },
      "text/plain": [
       "Batches:   0%|          | 0/1 [00:00<?, ?it/s]"
      ]
     },
     "metadata": {},
     "output_type": "display_data"
    },
    {
     "data": {
      "application/vnd.jupyter.widget-view+json": {
       "model_id": "269b80d9da8144b893f885bd484c9562",
       "version_major": 2,
       "version_minor": 0
      },
      "text/plain": [
       "Batches:   0%|          | 0/1 [00:00<?, ?it/s]"
      ]
     },
     "metadata": {},
     "output_type": "display_data"
    },
    {
     "data": {
      "application/vnd.jupyter.widget-view+json": {
       "model_id": "54c717b2a4e6491cb2b4814d843fde91",
       "version_major": 2,
       "version_minor": 0
      },
      "text/plain": [
       "Batches:   0%|          | 0/1 [00:00<?, ?it/s]"
      ]
     },
     "metadata": {},
     "output_type": "display_data"
    },
    {
     "data": {
      "application/vnd.jupyter.widget-view+json": {
       "model_id": "527697d4941a48c1ad752e81d120bbef",
       "version_major": 2,
       "version_minor": 0
      },
      "text/plain": [
       "Batches:   0%|          | 0/1 [00:00<?, ?it/s]"
      ]
     },
     "metadata": {},
     "output_type": "display_data"
    },
    {
     "data": {
      "application/vnd.jupyter.widget-view+json": {
       "model_id": "86c680cb4d96482b96f2298bff9f5832",
       "version_major": 2,
       "version_minor": 0
      },
      "text/plain": [
       "Batches:   0%|          | 0/1 [00:00<?, ?it/s]"
      ]
     },
     "metadata": {},
     "output_type": "display_data"
    },
    {
     "data": {
      "application/vnd.jupyter.widget-view+json": {
       "model_id": "fa2567c8c03247e2aef57cf680f2a400",
       "version_major": 2,
       "version_minor": 0
      },
      "text/plain": [
       "Batches:   0%|          | 0/1 [00:00<?, ?it/s]"
      ]
     },
     "metadata": {},
     "output_type": "display_data"
    },
    {
     "data": {
      "application/vnd.jupyter.widget-view+json": {
       "model_id": "0ffe8589b3af4e5fa1ccf17eafa7f6eb",
       "version_major": 2,
       "version_minor": 0
      },
      "text/plain": [
       "Batches:   0%|          | 0/1 [00:00<?, ?it/s]"
      ]
     },
     "metadata": {},
     "output_type": "display_data"
    },
    {
     "data": {
      "application/vnd.jupyter.widget-view+json": {
       "model_id": "dd8ce476c624439bbdcba7f2c02a7057",
       "version_major": 2,
       "version_minor": 0
      },
      "text/plain": [
       "Batches:   0%|          | 0/1 [00:00<?, ?it/s]"
      ]
     },
     "metadata": {},
     "output_type": "display_data"
    },
    {
     "data": {
      "application/vnd.jupyter.widget-view+json": {
       "model_id": "8dbbf45c430346c2bf6aad001c9ed2da",
       "version_major": 2,
       "version_minor": 0
      },
      "text/plain": [
       "Batches:   0%|          | 0/1 [00:00<?, ?it/s]"
      ]
     },
     "metadata": {},
     "output_type": "display_data"
    },
    {
     "data": {
      "application/vnd.jupyter.widget-view+json": {
       "model_id": "6bee12cf4df54b4288ee9f58517f6ced",
       "version_major": 2,
       "version_minor": 0
      },
      "text/plain": [
       "Batches:   0%|          | 0/1 [00:00<?, ?it/s]"
      ]
     },
     "metadata": {},
     "output_type": "display_data"
    },
    {
     "data": {
      "application/vnd.jupyter.widget-view+json": {
       "model_id": "04551bc45b6f479786f2505c525f568b",
       "version_major": 2,
       "version_minor": 0
      },
      "text/plain": [
       "Batches:   0%|          | 0/1 [00:00<?, ?it/s]"
      ]
     },
     "metadata": {},
     "output_type": "display_data"
    },
    {
     "data": {
      "application/vnd.jupyter.widget-view+json": {
       "model_id": "7d4e8ce29afa4b6e8cce4c0bbbe3576c",
       "version_major": 2,
       "version_minor": 0
      },
      "text/plain": [
       "Batches:   0%|          | 0/1 [00:00<?, ?it/s]"
      ]
     },
     "metadata": {},
     "output_type": "display_data"
    },
    {
     "data": {
      "application/vnd.jupyter.widget-view+json": {
       "model_id": "9c01321bf5204d5ab9a455afdde2495e",
       "version_major": 2,
       "version_minor": 0
      },
      "text/plain": [
       "Batches:   0%|          | 0/1 [00:00<?, ?it/s]"
      ]
     },
     "metadata": {},
     "output_type": "display_data"
    },
    {
     "data": {
      "application/vnd.jupyter.widget-view+json": {
       "model_id": "7e3503af833c4ec0a78ef8dc5979b0bd",
       "version_major": 2,
       "version_minor": 0
      },
      "text/plain": [
       "Batches:   0%|          | 0/1 [00:00<?, ?it/s]"
      ]
     },
     "metadata": {},
     "output_type": "display_data"
    },
    {
     "data": {
      "application/vnd.jupyter.widget-view+json": {
       "model_id": "37c10a9e38624f2592f0e7eac4bcda1f",
       "version_major": 2,
       "version_minor": 0
      },
      "text/plain": [
       "Batches:   0%|          | 0/1 [00:00<?, ?it/s]"
      ]
     },
     "metadata": {},
     "output_type": "display_data"
    },
    {
     "data": {
      "application/vnd.jupyter.widget-view+json": {
       "model_id": "c152d831021f44ee8bfa535e161dd7c4",
       "version_major": 2,
       "version_minor": 0
      },
      "text/plain": [
       "Batches:   0%|          | 0/1 [00:00<?, ?it/s]"
      ]
     },
     "metadata": {},
     "output_type": "display_data"
    },
    {
     "data": {
      "application/vnd.jupyter.widget-view+json": {
       "model_id": "575067de16dd43a39eaae3086a5ba0e7",
       "version_major": 2,
       "version_minor": 0
      },
      "text/plain": [
       "Batches:   0%|          | 0/1 [00:00<?, ?it/s]"
      ]
     },
     "metadata": {},
     "output_type": "display_data"
    },
    {
     "data": {
      "application/vnd.jupyter.widget-view+json": {
       "model_id": "5deade65ea29437baecee2ac9388f0cf",
       "version_major": 2,
       "version_minor": 0
      },
      "text/plain": [
       "Batches:   0%|          | 0/1 [00:00<?, ?it/s]"
      ]
     },
     "metadata": {},
     "output_type": "display_data"
    },
    {
     "data": {
      "application/vnd.jupyter.widget-view+json": {
       "model_id": "a4370f7867954e53ae586407f78c7803",
       "version_major": 2,
       "version_minor": 0
      },
      "text/plain": [
       "Batches:   0%|          | 0/1 [00:00<?, ?it/s]"
      ]
     },
     "metadata": {},
     "output_type": "display_data"
    },
    {
     "data": {
      "application/vnd.jupyter.widget-view+json": {
       "model_id": "948e3159114e49cea0b2da6a0d93c858",
       "version_major": 2,
       "version_minor": 0
      },
      "text/plain": [
       "Batches:   0%|          | 0/1 [00:00<?, ?it/s]"
      ]
     },
     "metadata": {},
     "output_type": "display_data"
    },
    {
     "data": {
      "application/vnd.jupyter.widget-view+json": {
       "model_id": "3ec8c16b7832497da1a83f69aac58a27",
       "version_major": 2,
       "version_minor": 0
      },
      "text/plain": [
       "Batches:   0%|          | 0/1 [00:00<?, ?it/s]"
      ]
     },
     "metadata": {},
     "output_type": "display_data"
    },
    {
     "data": {
      "application/vnd.jupyter.widget-view+json": {
       "model_id": "5bdfca9dc1064342ac45c858155b4913",
       "version_major": 2,
       "version_minor": 0
      },
      "text/plain": [
       "Batches:   0%|          | 0/1 [00:00<?, ?it/s]"
      ]
     },
     "metadata": {},
     "output_type": "display_data"
    },
    {
     "data": {
      "application/vnd.jupyter.widget-view+json": {
       "model_id": "890033fa03364c4b9982202517a64a9d",
       "version_major": 2,
       "version_minor": 0
      },
      "text/plain": [
       "Batches:   0%|          | 0/1 [00:00<?, ?it/s]"
      ]
     },
     "metadata": {},
     "output_type": "display_data"
    },
    {
     "data": {
      "application/vnd.jupyter.widget-view+json": {
       "model_id": "5ca624e7375446ddbee2a1e149d9f8dd",
       "version_major": 2,
       "version_minor": 0
      },
      "text/plain": [
       "Batches:   0%|          | 0/1 [00:00<?, ?it/s]"
      ]
     },
     "metadata": {},
     "output_type": "display_data"
    },
    {
     "data": {
      "application/vnd.jupyter.widget-view+json": {
       "model_id": "3db5529b986f4094a9eec66665bc7b5d",
       "version_major": 2,
       "version_minor": 0
      },
      "text/plain": [
       "Batches:   0%|          | 0/1 [00:00<?, ?it/s]"
      ]
     },
     "metadata": {},
     "output_type": "display_data"
    },
    {
     "data": {
      "application/vnd.jupyter.widget-view+json": {
       "model_id": "da894e575ed2439abda063f6df34b8f1",
       "version_major": 2,
       "version_minor": 0
      },
      "text/plain": [
       "Batches:   0%|          | 0/1 [00:00<?, ?it/s]"
      ]
     },
     "metadata": {},
     "output_type": "display_data"
    },
    {
     "data": {
      "application/vnd.jupyter.widget-view+json": {
       "model_id": "87b92e39e6c34806ba8623426ec8b142",
       "version_major": 2,
       "version_minor": 0
      },
      "text/plain": [
       "Batches:   0%|          | 0/1 [00:00<?, ?it/s]"
      ]
     },
     "metadata": {},
     "output_type": "display_data"
    },
    {
     "data": {
      "application/vnd.jupyter.widget-view+json": {
       "model_id": "da1b5f350e254268b34cf52c6721679d",
       "version_major": 2,
       "version_minor": 0
      },
      "text/plain": [
       "Batches:   0%|          | 0/1 [00:00<?, ?it/s]"
      ]
     },
     "metadata": {},
     "output_type": "display_data"
    },
    {
     "data": {
      "application/vnd.jupyter.widget-view+json": {
       "model_id": "0a9f72d6fc964bc288dee655302ed5cf",
       "version_major": 2,
       "version_minor": 0
      },
      "text/plain": [
       "Batches:   0%|          | 0/1 [00:00<?, ?it/s]"
      ]
     },
     "metadata": {},
     "output_type": "display_data"
    },
    {
     "data": {
      "application/vnd.jupyter.widget-view+json": {
       "model_id": "bbffe19c28b34153a162ca59073aac03",
       "version_major": 2,
       "version_minor": 0
      },
      "text/plain": [
       "Batches:   0%|          | 0/1 [00:00<?, ?it/s]"
      ]
     },
     "metadata": {},
     "output_type": "display_data"
    },
    {
     "data": {
      "application/vnd.jupyter.widget-view+json": {
       "model_id": "36a31cbf6ff14b6aad9856b319eb7ad2",
       "version_major": 2,
       "version_minor": 0
      },
      "text/plain": [
       "Batches:   0%|          | 0/1 [00:00<?, ?it/s]"
      ]
     },
     "metadata": {},
     "output_type": "display_data"
    },
    {
     "data": {
      "application/vnd.jupyter.widget-view+json": {
       "model_id": "a3e89af222a843e2b6009442bf704029",
       "version_major": 2,
       "version_minor": 0
      },
      "text/plain": [
       "Batches:   0%|          | 0/1 [00:00<?, ?it/s]"
      ]
     },
     "metadata": {},
     "output_type": "display_data"
    },
    {
     "data": {
      "application/vnd.jupyter.widget-view+json": {
       "model_id": "67987d62928e455bbb9a37a2a253bb17",
       "version_major": 2,
       "version_minor": 0
      },
      "text/plain": [
       "Batches:   0%|          | 0/1 [00:00<?, ?it/s]"
      ]
     },
     "metadata": {},
     "output_type": "display_data"
    },
    {
     "data": {
      "application/vnd.jupyter.widget-view+json": {
       "model_id": "d2dbaec6a6044a73b5a0d2e3b51e0902",
       "version_major": 2,
       "version_minor": 0
      },
      "text/plain": [
       "Batches:   0%|          | 0/1 [00:00<?, ?it/s]"
      ]
     },
     "metadata": {},
     "output_type": "display_data"
    },
    {
     "data": {
      "application/vnd.jupyter.widget-view+json": {
       "model_id": "25ff013d94df4801a17d5f6055677355",
       "version_major": 2,
       "version_minor": 0
      },
      "text/plain": [
       "Batches:   0%|          | 0/1 [00:00<?, ?it/s]"
      ]
     },
     "metadata": {},
     "output_type": "display_data"
    },
    {
     "data": {
      "application/vnd.jupyter.widget-view+json": {
       "model_id": "d774734d17c3467b932d33b72b00ef90",
       "version_major": 2,
       "version_minor": 0
      },
      "text/plain": [
       "Batches:   0%|          | 0/1 [00:00<?, ?it/s]"
      ]
     },
     "metadata": {},
     "output_type": "display_data"
    },
    {
     "data": {
      "application/vnd.jupyter.widget-view+json": {
       "model_id": "aa400830c32648afbbb96fa2bb25c87f",
       "version_major": 2,
       "version_minor": 0
      },
      "text/plain": [
       "Batches:   0%|          | 0/1 [00:00<?, ?it/s]"
      ]
     },
     "metadata": {},
     "output_type": "display_data"
    },
    {
     "data": {
      "application/vnd.jupyter.widget-view+json": {
       "model_id": "0f2ba04e5ab34288a9633de6f77d4c88",
       "version_major": 2,
       "version_minor": 0
      },
      "text/plain": [
       "Batches:   0%|          | 0/1 [00:00<?, ?it/s]"
      ]
     },
     "metadata": {},
     "output_type": "display_data"
    },
    {
     "data": {
      "application/vnd.jupyter.widget-view+json": {
       "model_id": "27fe74329ddb4d7ba2f882aa7a11a6ca",
       "version_major": 2,
       "version_minor": 0
      },
      "text/plain": [
       "Batches:   0%|          | 0/1 [00:00<?, ?it/s]"
      ]
     },
     "metadata": {},
     "output_type": "display_data"
    },
    {
     "data": {
      "application/vnd.jupyter.widget-view+json": {
       "model_id": "29ff0a62200d4a32af7a1cbccf8f0d63",
       "version_major": 2,
       "version_minor": 0
      },
      "text/plain": [
       "Batches:   0%|          | 0/1 [00:00<?, ?it/s]"
      ]
     },
     "metadata": {},
     "output_type": "display_data"
    },
    {
     "data": {
      "application/vnd.jupyter.widget-view+json": {
       "model_id": "68c50a793a51469cb4ff1c5efdee0f36",
       "version_major": 2,
       "version_minor": 0
      },
      "text/plain": [
       "Batches:   0%|          | 0/1 [00:00<?, ?it/s]"
      ]
     },
     "metadata": {},
     "output_type": "display_data"
    },
    {
     "data": {
      "application/vnd.jupyter.widget-view+json": {
       "model_id": "faee009ed3a44deaa71de1805b12d507",
       "version_major": 2,
       "version_minor": 0
      },
      "text/plain": [
       "Batches:   0%|          | 0/1 [00:00<?, ?it/s]"
      ]
     },
     "metadata": {},
     "output_type": "display_data"
    },
    {
     "data": {
      "application/vnd.jupyter.widget-view+json": {
       "model_id": "6377feb6d79348d0810d68d8ce5deb1c",
       "version_major": 2,
       "version_minor": 0
      },
      "text/plain": [
       "Batches:   0%|          | 0/1 [00:00<?, ?it/s]"
      ]
     },
     "metadata": {},
     "output_type": "display_data"
    },
    {
     "data": {
      "application/vnd.jupyter.widget-view+json": {
       "model_id": "4ce46131b8484feda1753dcbcd37a2d1",
       "version_major": 2,
       "version_minor": 0
      },
      "text/plain": [
       "Batches:   0%|          | 0/1 [00:00<?, ?it/s]"
      ]
     },
     "metadata": {},
     "output_type": "display_data"
    },
    {
     "data": {
      "application/vnd.jupyter.widget-view+json": {
       "model_id": "f9e30b5dec4145d8a90252fd0db349c6",
       "version_major": 2,
       "version_minor": 0
      },
      "text/plain": [
       "Batches:   0%|          | 0/1 [00:00<?, ?it/s]"
      ]
     },
     "metadata": {},
     "output_type": "display_data"
    },
    {
     "data": {
      "application/vnd.jupyter.widget-view+json": {
       "model_id": "1e068a5d118a44b9b6b2ed370af2514c",
       "version_major": 2,
       "version_minor": 0
      },
      "text/plain": [
       "Batches:   0%|          | 0/1 [00:00<?, ?it/s]"
      ]
     },
     "metadata": {},
     "output_type": "display_data"
    },
    {
     "data": {
      "application/vnd.jupyter.widget-view+json": {
       "model_id": "93456f5342224563a3d1a55ddada5916",
       "version_major": 2,
       "version_minor": 0
      },
      "text/plain": [
       "Batches:   0%|          | 0/1 [00:00<?, ?it/s]"
      ]
     },
     "metadata": {},
     "output_type": "display_data"
    },
    {
     "data": {
      "application/vnd.jupyter.widget-view+json": {
       "model_id": "2644d7f9fa0041b688fe2b82f5fdebac",
       "version_major": 2,
       "version_minor": 0
      },
      "text/plain": [
       "Batches:   0%|          | 0/1 [00:00<?, ?it/s]"
      ]
     },
     "metadata": {},
     "output_type": "display_data"
    },
    {
     "data": {
      "application/vnd.jupyter.widget-view+json": {
       "model_id": "22e796c6e13f4e0db0ab46f89dc7822f",
       "version_major": 2,
       "version_minor": 0
      },
      "text/plain": [
       "Batches:   0%|          | 0/1 [00:00<?, ?it/s]"
      ]
     },
     "metadata": {},
     "output_type": "display_data"
    },
    {
     "data": {
      "application/vnd.jupyter.widget-view+json": {
       "model_id": "198f75d00ac041d6803680ff45ced157",
       "version_major": 2,
       "version_minor": 0
      },
      "text/plain": [
       "Batches:   0%|          | 0/1 [00:00<?, ?it/s]"
      ]
     },
     "metadata": {},
     "output_type": "display_data"
    },
    {
     "data": {
      "application/vnd.jupyter.widget-view+json": {
       "model_id": "773388f89952433dac55c14714b7e580",
       "version_major": 2,
       "version_minor": 0
      },
      "text/plain": [
       "Batches:   0%|          | 0/1 [00:00<?, ?it/s]"
      ]
     },
     "metadata": {},
     "output_type": "display_data"
    },
    {
     "data": {
      "application/vnd.jupyter.widget-view+json": {
       "model_id": "e90c546de47e4389a8dd44610ee2cf17",
       "version_major": 2,
       "version_minor": 0
      },
      "text/plain": [
       "Batches:   0%|          | 0/1 [00:00<?, ?it/s]"
      ]
     },
     "metadata": {},
     "output_type": "display_data"
    },
    {
     "data": {
      "application/vnd.jupyter.widget-view+json": {
       "model_id": "86f6d3380b144578bb435d42d058be90",
       "version_major": 2,
       "version_minor": 0
      },
      "text/plain": [
       "Batches:   0%|          | 0/1 [00:00<?, ?it/s]"
      ]
     },
     "metadata": {},
     "output_type": "display_data"
    },
    {
     "data": {
      "application/vnd.jupyter.widget-view+json": {
       "model_id": "2737db603aa44b33b0097cc47ef57d8e",
       "version_major": 2,
       "version_minor": 0
      },
      "text/plain": [
       "Batches:   0%|          | 0/1 [00:00<?, ?it/s]"
      ]
     },
     "metadata": {},
     "output_type": "display_data"
    },
    {
     "data": {
      "application/vnd.jupyter.widget-view+json": {
       "model_id": "ddcd352b25e14403bf1827f09838e6cb",
       "version_major": 2,
       "version_minor": 0
      },
      "text/plain": [
       "Batches:   0%|          | 0/1 [00:00<?, ?it/s]"
      ]
     },
     "metadata": {},
     "output_type": "display_data"
    },
    {
     "data": {
      "application/vnd.jupyter.widget-view+json": {
       "model_id": "0f7b4b12468c44198e376bb58b6521da",
       "version_major": 2,
       "version_minor": 0
      },
      "text/plain": [
       "Batches:   0%|          | 0/1 [00:00<?, ?it/s]"
      ]
     },
     "metadata": {},
     "output_type": "display_data"
    },
    {
     "data": {
      "application/vnd.jupyter.widget-view+json": {
       "model_id": "982065a8603b4d82a65f1f38eb677d7b",
       "version_major": 2,
       "version_minor": 0
      },
      "text/plain": [
       "Batches:   0%|          | 0/1 [00:00<?, ?it/s]"
      ]
     },
     "metadata": {},
     "output_type": "display_data"
    },
    {
     "data": {
      "application/vnd.jupyter.widget-view+json": {
       "model_id": "07946b154216406584f23166d935a9b2",
       "version_major": 2,
       "version_minor": 0
      },
      "text/plain": [
       "Batches:   0%|          | 0/1 [00:00<?, ?it/s]"
      ]
     },
     "metadata": {},
     "output_type": "display_data"
    },
    {
     "data": {
      "application/vnd.jupyter.widget-view+json": {
       "model_id": "69656533263a453c804bbc4610abf13a",
       "version_major": 2,
       "version_minor": 0
      },
      "text/plain": [
       "Batches:   0%|          | 0/1 [00:00<?, ?it/s]"
      ]
     },
     "metadata": {},
     "output_type": "display_data"
    },
    {
     "data": {
      "application/vnd.jupyter.widget-view+json": {
       "model_id": "ffb12f952d9045d192a4147b9b8419ed",
       "version_major": 2,
       "version_minor": 0
      },
      "text/plain": [
       "Batches:   0%|          | 0/1 [00:00<?, ?it/s]"
      ]
     },
     "metadata": {},
     "output_type": "display_data"
    },
    {
     "data": {
      "application/vnd.jupyter.widget-view+json": {
       "model_id": "f909b68bc2394e18ab1fae5cd76dc294",
       "version_major": 2,
       "version_minor": 0
      },
      "text/plain": [
       "Batches:   0%|          | 0/1 [00:00<?, ?it/s]"
      ]
     },
     "metadata": {},
     "output_type": "display_data"
    },
    {
     "data": {
      "application/vnd.jupyter.widget-view+json": {
       "model_id": "8f318e2991e646af8b9c89466545b663",
       "version_major": 2,
       "version_minor": 0
      },
      "text/plain": [
       "Batches:   0%|          | 0/1 [00:00<?, ?it/s]"
      ]
     },
     "metadata": {},
     "output_type": "display_data"
    },
    {
     "data": {
      "application/vnd.jupyter.widget-view+json": {
       "model_id": "718044d358c94a67bbf2c20dd7b8cd77",
       "version_major": 2,
       "version_minor": 0
      },
      "text/plain": [
       "Batches:   0%|          | 0/1 [00:00<?, ?it/s]"
      ]
     },
     "metadata": {},
     "output_type": "display_data"
    },
    {
     "data": {
      "application/vnd.jupyter.widget-view+json": {
       "model_id": "19e2c944b4304e6b8ee667f36feeb90c",
       "version_major": 2,
       "version_minor": 0
      },
      "text/plain": [
       "Batches:   0%|          | 0/1 [00:00<?, ?it/s]"
      ]
     },
     "metadata": {},
     "output_type": "display_data"
    },
    {
     "data": {
      "application/vnd.jupyter.widget-view+json": {
       "model_id": "25d3138d9b0f4e18915a099c86be8a51",
       "version_major": 2,
       "version_minor": 0
      },
      "text/plain": [
       "Batches:   0%|          | 0/1 [00:00<?, ?it/s]"
      ]
     },
     "metadata": {},
     "output_type": "display_data"
    },
    {
     "data": {
      "application/vnd.jupyter.widget-view+json": {
       "model_id": "2984f6f2942d4392bf5c72d88b2da162",
       "version_major": 2,
       "version_minor": 0
      },
      "text/plain": [
       "Batches:   0%|          | 0/1 [00:00<?, ?it/s]"
      ]
     },
     "metadata": {},
     "output_type": "display_data"
    },
    {
     "data": {
      "application/vnd.jupyter.widget-view+json": {
       "model_id": "db4acbfbe1c84cb9a143962a2e5cf5ee",
       "version_major": 2,
       "version_minor": 0
      },
      "text/plain": [
       "Batches:   0%|          | 0/1 [00:00<?, ?it/s]"
      ]
     },
     "metadata": {},
     "output_type": "display_data"
    },
    {
     "data": {
      "application/vnd.jupyter.widget-view+json": {
       "model_id": "b10a1049deee4ac1bd106a34c8fe51ab",
       "version_major": 2,
       "version_minor": 0
      },
      "text/plain": [
       "Batches:   0%|          | 0/1 [00:00<?, ?it/s]"
      ]
     },
     "metadata": {},
     "output_type": "display_data"
    },
    {
     "data": {
      "application/vnd.jupyter.widget-view+json": {
       "model_id": "6eb6720987f04fa3a53407672c5c0617",
       "version_major": 2,
       "version_minor": 0
      },
      "text/plain": [
       "Batches:   0%|          | 0/1 [00:00<?, ?it/s]"
      ]
     },
     "metadata": {},
     "output_type": "display_data"
    },
    {
     "data": {
      "application/vnd.jupyter.widget-view+json": {
       "model_id": "21ff04a1529c4208abd8607da1c23792",
       "version_major": 2,
       "version_minor": 0
      },
      "text/plain": [
       "Batches:   0%|          | 0/1 [00:00<?, ?it/s]"
      ]
     },
     "metadata": {},
     "output_type": "display_data"
    },
    {
     "data": {
      "application/vnd.jupyter.widget-view+json": {
       "model_id": "bf56175489e7435ca0cdc4c0c6201694",
       "version_major": 2,
       "version_minor": 0
      },
      "text/plain": [
       "Batches:   0%|          | 0/1 [00:00<?, ?it/s]"
      ]
     },
     "metadata": {},
     "output_type": "display_data"
    },
    {
     "data": {
      "application/vnd.jupyter.widget-view+json": {
       "model_id": "77516fd4c5574c9590e9e978b621e9ec",
       "version_major": 2,
       "version_minor": 0
      },
      "text/plain": [
       "Batches:   0%|          | 0/1 [00:00<?, ?it/s]"
      ]
     },
     "metadata": {},
     "output_type": "display_data"
    },
    {
     "data": {
      "application/vnd.jupyter.widget-view+json": {
       "model_id": "d24974533a974f74926dfe759bcc6110",
       "version_major": 2,
       "version_minor": 0
      },
      "text/plain": [
       "Batches:   0%|          | 0/1 [00:00<?, ?it/s]"
      ]
     },
     "metadata": {},
     "output_type": "display_data"
    },
    {
     "data": {
      "application/vnd.jupyter.widget-view+json": {
       "model_id": "5a99ab0e93d4400f89387011cdc07073",
       "version_major": 2,
       "version_minor": 0
      },
      "text/plain": [
       "Batches:   0%|          | 0/1 [00:00<?, ?it/s]"
      ]
     },
     "metadata": {},
     "output_type": "display_data"
    },
    {
     "data": {
      "application/vnd.jupyter.widget-view+json": {
       "model_id": "6bf93ae1f3994d699e3385c906c8c85e",
       "version_major": 2,
       "version_minor": 0
      },
      "text/plain": [
       "Batches:   0%|          | 0/1 [00:00<?, ?it/s]"
      ]
     },
     "metadata": {},
     "output_type": "display_data"
    },
    {
     "data": {
      "application/vnd.jupyter.widget-view+json": {
       "model_id": "ed02707f38b04078a528a528630adc8c",
       "version_major": 2,
       "version_minor": 0
      },
      "text/plain": [
       "Batches:   0%|          | 0/1 [00:00<?, ?it/s]"
      ]
     },
     "metadata": {},
     "output_type": "display_data"
    },
    {
     "data": {
      "application/vnd.jupyter.widget-view+json": {
       "model_id": "208827f422e94b5099fb2271788fb992",
       "version_major": 2,
       "version_minor": 0
      },
      "text/plain": [
       "Batches:   0%|          | 0/1 [00:00<?, ?it/s]"
      ]
     },
     "metadata": {},
     "output_type": "display_data"
    },
    {
     "data": {
      "application/vnd.jupyter.widget-view+json": {
       "model_id": "a15c3a29ec5b46d1a696321dc7f53f7d",
       "version_major": 2,
       "version_minor": 0
      },
      "text/plain": [
       "Batches:   0%|          | 0/1 [00:00<?, ?it/s]"
      ]
     },
     "metadata": {},
     "output_type": "display_data"
    },
    {
     "data": {
      "application/vnd.jupyter.widget-view+json": {
       "model_id": "bdf6d8472d204582860eff37a2073eda",
       "version_major": 2,
       "version_minor": 0
      },
      "text/plain": [
       "Batches:   0%|          | 0/1 [00:00<?, ?it/s]"
      ]
     },
     "metadata": {},
     "output_type": "display_data"
    },
    {
     "data": {
      "application/vnd.jupyter.widget-view+json": {
       "model_id": "50fdceec9a1042558fec9e266b1704ee",
       "version_major": 2,
       "version_minor": 0
      },
      "text/plain": [
       "Batches:   0%|          | 0/1 [00:00<?, ?it/s]"
      ]
     },
     "metadata": {},
     "output_type": "display_data"
    },
    {
     "data": {
      "application/vnd.jupyter.widget-view+json": {
       "model_id": "7633c5e23dcd4da982a7260301f891fd",
       "version_major": 2,
       "version_minor": 0
      },
      "text/plain": [
       "Batches:   0%|          | 0/1 [00:00<?, ?it/s]"
      ]
     },
     "metadata": {},
     "output_type": "display_data"
    },
    {
     "data": {
      "application/vnd.jupyter.widget-view+json": {
       "model_id": "3f034980c4224b9e91fb64f42d8fb19d",
       "version_major": 2,
       "version_minor": 0
      },
      "text/plain": [
       "Batches:   0%|          | 0/1 [00:00<?, ?it/s]"
      ]
     },
     "metadata": {},
     "output_type": "display_data"
    },
    {
     "data": {
      "application/vnd.jupyter.widget-view+json": {
       "model_id": "f508ce77af1247beb43a2a141b5e890f",
       "version_major": 2,
       "version_minor": 0
      },
      "text/plain": [
       "Batches:   0%|          | 0/1 [00:00<?, ?it/s]"
      ]
     },
     "metadata": {},
     "output_type": "display_data"
    },
    {
     "data": {
      "application/vnd.jupyter.widget-view+json": {
       "model_id": "be10a2d2446349d6b5fba084a9cc47e3",
       "version_major": 2,
       "version_minor": 0
      },
      "text/plain": [
       "Batches:   0%|          | 0/1 [00:00<?, ?it/s]"
      ]
     },
     "metadata": {},
     "output_type": "display_data"
    },
    {
     "data": {
      "application/vnd.jupyter.widget-view+json": {
       "model_id": "aa2ac8d44a0b42bdbff544bbd7aacc29",
       "version_major": 2,
       "version_minor": 0
      },
      "text/plain": [
       "Batches:   0%|          | 0/1 [00:00<?, ?it/s]"
      ]
     },
     "metadata": {},
     "output_type": "display_data"
    },
    {
     "data": {
      "application/vnd.jupyter.widget-view+json": {
       "model_id": "63ec041a7b07415896b24bd45a7f088a",
       "version_major": 2,
       "version_minor": 0
      },
      "text/plain": [
       "Batches:   0%|          | 0/1 [00:00<?, ?it/s]"
      ]
     },
     "metadata": {},
     "output_type": "display_data"
    },
    {
     "data": {
      "application/vnd.jupyter.widget-view+json": {
       "model_id": "852f4b0340cb4f228a586e2fa9d2c1b0",
       "version_major": 2,
       "version_minor": 0
      },
      "text/plain": [
       "Batches:   0%|          | 0/1 [00:00<?, ?it/s]"
      ]
     },
     "metadata": {},
     "output_type": "display_data"
    },
    {
     "data": {
      "application/vnd.jupyter.widget-view+json": {
       "model_id": "7b25b3bb4cc345f780254b89d7557e25",
       "version_major": 2,
       "version_minor": 0
      },
      "text/plain": [
       "Batches:   0%|          | 0/1 [00:00<?, ?it/s]"
      ]
     },
     "metadata": {},
     "output_type": "display_data"
    },
    {
     "data": {
      "application/vnd.jupyter.widget-view+json": {
       "model_id": "3036fc77a9c5473a9f4a365d96526533",
       "version_major": 2,
       "version_minor": 0
      },
      "text/plain": [
       "Batches:   0%|          | 0/1 [00:00<?, ?it/s]"
      ]
     },
     "metadata": {},
     "output_type": "display_data"
    },
    {
     "data": {
      "application/vnd.jupyter.widget-view+json": {
       "model_id": "1cd2d89f6f264abcb5346e403a5b8da5",
       "version_major": 2,
       "version_minor": 0
      },
      "text/plain": [
       "Batches:   0%|          | 0/1 [00:00<?, ?it/s]"
      ]
     },
     "metadata": {},
     "output_type": "display_data"
    },
    {
     "data": {
      "application/vnd.jupyter.widget-view+json": {
       "model_id": "53182009005143d5b64bc4a3197a4c5a",
       "version_major": 2,
       "version_minor": 0
      },
      "text/plain": [
       "Batches:   0%|          | 0/1 [00:00<?, ?it/s]"
      ]
     },
     "metadata": {},
     "output_type": "display_data"
    },
    {
     "data": {
      "application/vnd.jupyter.widget-view+json": {
       "model_id": "4e585bca431048dd8e4bfc1ebc260d76",
       "version_major": 2,
       "version_minor": 0
      },
      "text/plain": [
       "Batches:   0%|          | 0/1 [00:00<?, ?it/s]"
      ]
     },
     "metadata": {},
     "output_type": "display_data"
    },
    {
     "data": {
      "application/vnd.jupyter.widget-view+json": {
       "model_id": "61483052674b44f6b61f8d61dfe3889e",
       "version_major": 2,
       "version_minor": 0
      },
      "text/plain": [
       "Batches:   0%|          | 0/1 [00:00<?, ?it/s]"
      ]
     },
     "metadata": {},
     "output_type": "display_data"
    },
    {
     "data": {
      "application/vnd.jupyter.widget-view+json": {
       "model_id": "b5724bae66734a6299f66379f4308e36",
       "version_major": 2,
       "version_minor": 0
      },
      "text/plain": [
       "Batches:   0%|          | 0/1 [00:00<?, ?it/s]"
      ]
     },
     "metadata": {},
     "output_type": "display_data"
    },
    {
     "data": {
      "application/vnd.jupyter.widget-view+json": {
       "model_id": "e4f2405438754fa4a96b43e6e1c2e450",
       "version_major": 2,
       "version_minor": 0
      },
      "text/plain": [
       "Batches:   0%|          | 0/1 [00:00<?, ?it/s]"
      ]
     },
     "metadata": {},
     "output_type": "display_data"
    },
    {
     "data": {
      "application/vnd.jupyter.widget-view+json": {
       "model_id": "6f3f5ba32054491da1478e6382764a68",
       "version_major": 2,
       "version_minor": 0
      },
      "text/plain": [
       "Batches:   0%|          | 0/1 [00:00<?, ?it/s]"
      ]
     },
     "metadata": {},
     "output_type": "display_data"
    },
    {
     "data": {
      "application/vnd.jupyter.widget-view+json": {
       "model_id": "a9db6df54ece40589b76feb326883dff",
       "version_major": 2,
       "version_minor": 0
      },
      "text/plain": [
       "Batches:   0%|          | 0/1 [00:00<?, ?it/s]"
      ]
     },
     "metadata": {},
     "output_type": "display_data"
    },
    {
     "data": {
      "application/vnd.jupyter.widget-view+json": {
       "model_id": "86064d980ba748dfb7ba863b273ff419",
       "version_major": 2,
       "version_minor": 0
      },
      "text/plain": [
       "Batches:   0%|          | 0/1 [00:00<?, ?it/s]"
      ]
     },
     "metadata": {},
     "output_type": "display_data"
    },
    {
     "data": {
      "application/vnd.jupyter.widget-view+json": {
       "model_id": "c774beb0e81e4a47a78eabd40ccf4876",
       "version_major": 2,
       "version_minor": 0
      },
      "text/plain": [
       "Batches:   0%|          | 0/1 [00:00<?, ?it/s]"
      ]
     },
     "metadata": {},
     "output_type": "display_data"
    },
    {
     "data": {
      "application/vnd.jupyter.widget-view+json": {
       "model_id": "aa7fabe4d58f4a938aaa0797a3476efa",
       "version_major": 2,
       "version_minor": 0
      },
      "text/plain": [
       "Batches:   0%|          | 0/1 [00:00<?, ?it/s]"
      ]
     },
     "metadata": {},
     "output_type": "display_data"
    },
    {
     "data": {
      "application/vnd.jupyter.widget-view+json": {
       "model_id": "9faf579365e54cd6b4fa4c3206d2f45d",
       "version_major": 2,
       "version_minor": 0
      },
      "text/plain": [
       "Batches:   0%|          | 0/1 [00:00<?, ?it/s]"
      ]
     },
     "metadata": {},
     "output_type": "display_data"
    },
    {
     "data": {
      "application/vnd.jupyter.widget-view+json": {
       "model_id": "fc1e736cd1cd4a6fa5071138772f7cb6",
       "version_major": 2,
       "version_minor": 0
      },
      "text/plain": [
       "Batches:   0%|          | 0/1 [00:00<?, ?it/s]"
      ]
     },
     "metadata": {},
     "output_type": "display_data"
    },
    {
     "data": {
      "application/vnd.jupyter.widget-view+json": {
       "model_id": "8c0c69932d9145769524e902b5eedcb3",
       "version_major": 2,
       "version_minor": 0
      },
      "text/plain": [
       "Batches:   0%|          | 0/1 [00:00<?, ?it/s]"
      ]
     },
     "metadata": {},
     "output_type": "display_data"
    },
    {
     "data": {
      "application/vnd.jupyter.widget-view+json": {
       "model_id": "c485c4e10cf549488605d5ad9389d45e",
       "version_major": 2,
       "version_minor": 0
      },
      "text/plain": [
       "Batches:   0%|          | 0/1 [00:00<?, ?it/s]"
      ]
     },
     "metadata": {},
     "output_type": "display_data"
    },
    {
     "data": {
      "application/vnd.jupyter.widget-view+json": {
       "model_id": "8574bad6b3df48c08a9e559384dfd628",
       "version_major": 2,
       "version_minor": 0
      },
      "text/plain": [
       "Batches:   0%|          | 0/1 [00:00<?, ?it/s]"
      ]
     },
     "metadata": {},
     "output_type": "display_data"
    },
    {
     "data": {
      "application/vnd.jupyter.widget-view+json": {
       "model_id": "62ca899a6d854fc9a4cd59d2fffbaf5c",
       "version_major": 2,
       "version_minor": 0
      },
      "text/plain": [
       "Batches:   0%|          | 0/1 [00:00<?, ?it/s]"
      ]
     },
     "metadata": {},
     "output_type": "display_data"
    },
    {
     "data": {
      "application/vnd.jupyter.widget-view+json": {
       "model_id": "b5bbf4fd5ae241ddb308e9fe1970ab48",
       "version_major": 2,
       "version_minor": 0
      },
      "text/plain": [
       "Batches:   0%|          | 0/1 [00:00<?, ?it/s]"
      ]
     },
     "metadata": {},
     "output_type": "display_data"
    },
    {
     "data": {
      "application/vnd.jupyter.widget-view+json": {
       "model_id": "9b9389a17a9c4e87ae806e639dee36bc",
       "version_major": 2,
       "version_minor": 0
      },
      "text/plain": [
       "Batches:   0%|          | 0/1 [00:00<?, ?it/s]"
      ]
     },
     "metadata": {},
     "output_type": "display_data"
    },
    {
     "data": {
      "application/vnd.jupyter.widget-view+json": {
       "model_id": "969076bce8b04af1829bc1d159fd2ca6",
       "version_major": 2,
       "version_minor": 0
      },
      "text/plain": [
       "Batches:   0%|          | 0/1 [00:00<?, ?it/s]"
      ]
     },
     "metadata": {},
     "output_type": "display_data"
    },
    {
     "data": {
      "application/vnd.jupyter.widget-view+json": {
       "model_id": "47e224d22f1c4f3eaabf2917a9ab615c",
       "version_major": 2,
       "version_minor": 0
      },
      "text/plain": [
       "Batches:   0%|          | 0/1 [00:00<?, ?it/s]"
      ]
     },
     "metadata": {},
     "output_type": "display_data"
    },
    {
     "data": {
      "application/vnd.jupyter.widget-view+json": {
       "model_id": "815e1f1b4257411eb34f950f003098be",
       "version_major": 2,
       "version_minor": 0
      },
      "text/plain": [
       "Batches:   0%|          | 0/1 [00:00<?, ?it/s]"
      ]
     },
     "metadata": {},
     "output_type": "display_data"
    },
    {
     "data": {
      "application/vnd.jupyter.widget-view+json": {
       "model_id": "d57e261a0d86408988a26af5260ecea9",
       "version_major": 2,
       "version_minor": 0
      },
      "text/plain": [
       "Batches:   0%|          | 0/1 [00:00<?, ?it/s]"
      ]
     },
     "metadata": {},
     "output_type": "display_data"
    },
    {
     "data": {
      "application/vnd.jupyter.widget-view+json": {
       "model_id": "3f52b0de65c046359d465609d54913a4",
       "version_major": 2,
       "version_minor": 0
      },
      "text/plain": [
       "Batches:   0%|          | 0/1 [00:00<?, ?it/s]"
      ]
     },
     "metadata": {},
     "output_type": "display_data"
    },
    {
     "data": {
      "application/vnd.jupyter.widget-view+json": {
       "model_id": "a80d861d0eb8489aa2cca25493986cf2",
       "version_major": 2,
       "version_minor": 0
      },
      "text/plain": [
       "Batches:   0%|          | 0/1 [00:00<?, ?it/s]"
      ]
     },
     "metadata": {},
     "output_type": "display_data"
    },
    {
     "data": {
      "application/vnd.jupyter.widget-view+json": {
       "model_id": "06c14117a18c4205a72318cd797ccecc",
       "version_major": 2,
       "version_minor": 0
      },
      "text/plain": [
       "Batches:   0%|          | 0/1 [00:00<?, ?it/s]"
      ]
     },
     "metadata": {},
     "output_type": "display_data"
    },
    {
     "data": {
      "application/vnd.jupyter.widget-view+json": {
       "model_id": "e4767f6c43e84af2bcba99c7b4ea3247",
       "version_major": 2,
       "version_minor": 0
      },
      "text/plain": [
       "Batches:   0%|          | 0/1 [00:00<?, ?it/s]"
      ]
     },
     "metadata": {},
     "output_type": "display_data"
    },
    {
     "data": {
      "application/vnd.jupyter.widget-view+json": {
       "model_id": "0d86769ed5734c0085b7690888e11aeb",
       "version_major": 2,
       "version_minor": 0
      },
      "text/plain": [
       "Batches:   0%|          | 0/1 [00:00<?, ?it/s]"
      ]
     },
     "metadata": {},
     "output_type": "display_data"
    },
    {
     "data": {
      "application/vnd.jupyter.widget-view+json": {
       "model_id": "248f4ccb94944d79aea287cf01a3df11",
       "version_major": 2,
       "version_minor": 0
      },
      "text/plain": [
       "Batches:   0%|          | 0/1 [00:00<?, ?it/s]"
      ]
     },
     "metadata": {},
     "output_type": "display_data"
    },
    {
     "data": {
      "application/vnd.jupyter.widget-view+json": {
       "model_id": "42c70527d2174f08a41692f8c768b023",
       "version_major": 2,
       "version_minor": 0
      },
      "text/plain": [
       "Batches:   0%|          | 0/1 [00:00<?, ?it/s]"
      ]
     },
     "metadata": {},
     "output_type": "display_data"
    },
    {
     "data": {
      "application/vnd.jupyter.widget-view+json": {
       "model_id": "d817afea41f548f18e2321217d0cc4f3",
       "version_major": 2,
       "version_minor": 0
      },
      "text/plain": [
       "Batches:   0%|          | 0/1 [00:00<?, ?it/s]"
      ]
     },
     "metadata": {},
     "output_type": "display_data"
    },
    {
     "data": {
      "application/vnd.jupyter.widget-view+json": {
       "model_id": "aaf31e16470f41a69e4fa28e5f000602",
       "version_major": 2,
       "version_minor": 0
      },
      "text/plain": [
       "Batches:   0%|          | 0/1 [00:00<?, ?it/s]"
      ]
     },
     "metadata": {},
     "output_type": "display_data"
    },
    {
     "data": {
      "application/vnd.jupyter.widget-view+json": {
       "model_id": "fceee21cc59a47d58fcb9d7bb012a16c",
       "version_major": 2,
       "version_minor": 0
      },
      "text/plain": [
       "Batches:   0%|          | 0/1 [00:00<?, ?it/s]"
      ]
     },
     "metadata": {},
     "output_type": "display_data"
    },
    {
     "data": {
      "application/vnd.jupyter.widget-view+json": {
       "model_id": "5731daabc939441cb827a1884aedd338",
       "version_major": 2,
       "version_minor": 0
      },
      "text/plain": [
       "Batches:   0%|          | 0/1 [00:00<?, ?it/s]"
      ]
     },
     "metadata": {},
     "output_type": "display_data"
    },
    {
     "data": {
      "application/vnd.jupyter.widget-view+json": {
       "model_id": "3486e88c9a524233b46900018d749866",
       "version_major": 2,
       "version_minor": 0
      },
      "text/plain": [
       "Batches:   0%|          | 0/1 [00:00<?, ?it/s]"
      ]
     },
     "metadata": {},
     "output_type": "display_data"
    },
    {
     "data": {
      "application/vnd.jupyter.widget-view+json": {
       "model_id": "b18d949618a8442bb44392e04db4b7f9",
       "version_major": 2,
       "version_minor": 0
      },
      "text/plain": [
       "Batches:   0%|          | 0/1 [00:00<?, ?it/s]"
      ]
     },
     "metadata": {},
     "output_type": "display_data"
    },
    {
     "data": {
      "application/vnd.jupyter.widget-view+json": {
       "model_id": "15c268e05a924297abe67c104e3e4f01",
       "version_major": 2,
       "version_minor": 0
      },
      "text/plain": [
       "Batches:   0%|          | 0/1 [00:00<?, ?it/s]"
      ]
     },
     "metadata": {},
     "output_type": "display_data"
    },
    {
     "data": {
      "application/vnd.jupyter.widget-view+json": {
       "model_id": "9a87f639897f413b9e0791ed5b3e58aa",
       "version_major": 2,
       "version_minor": 0
      },
      "text/plain": [
       "Batches:   0%|          | 0/1 [00:00<?, ?it/s]"
      ]
     },
     "metadata": {},
     "output_type": "display_data"
    },
    {
     "data": {
      "application/vnd.jupyter.widget-view+json": {
       "model_id": "3d462db67d814213973d1865c0e1f130",
       "version_major": 2,
       "version_minor": 0
      },
      "text/plain": [
       "Batches:   0%|          | 0/1 [00:00<?, ?it/s]"
      ]
     },
     "metadata": {},
     "output_type": "display_data"
    },
    {
     "data": {
      "application/vnd.jupyter.widget-view+json": {
       "model_id": "6b7ffe3f39a04bbca4f4d35c6eadfb1e",
       "version_major": 2,
       "version_minor": 0
      },
      "text/plain": [
       "Batches:   0%|          | 0/1 [00:00<?, ?it/s]"
      ]
     },
     "metadata": {},
     "output_type": "display_data"
    },
    {
     "data": {
      "application/vnd.jupyter.widget-view+json": {
       "model_id": "a62bf83aa5354f84bd4c08cc20763d77",
       "version_major": 2,
       "version_minor": 0
      },
      "text/plain": [
       "Batches:   0%|          | 0/1 [00:00<?, ?it/s]"
      ]
     },
     "metadata": {},
     "output_type": "display_data"
    },
    {
     "data": {
      "application/vnd.jupyter.widget-view+json": {
       "model_id": "40b8787972d4493495e355043c48b0f9",
       "version_major": 2,
       "version_minor": 0
      },
      "text/plain": [
       "Batches:   0%|          | 0/1 [00:00<?, ?it/s]"
      ]
     },
     "metadata": {},
     "output_type": "display_data"
    },
    {
     "data": {
      "application/vnd.jupyter.widget-view+json": {
       "model_id": "e4f4743bcdd24f4996aa3a32c50fecaa",
       "version_major": 2,
       "version_minor": 0
      },
      "text/plain": [
       "Batches:   0%|          | 0/1 [00:00<?, ?it/s]"
      ]
     },
     "metadata": {},
     "output_type": "display_data"
    },
    {
     "data": {
      "application/vnd.jupyter.widget-view+json": {
       "model_id": "b4119a4726bf4d29a6d13daf324a35d7",
       "version_major": 2,
       "version_minor": 0
      },
      "text/plain": [
       "Batches:   0%|          | 0/1 [00:00<?, ?it/s]"
      ]
     },
     "metadata": {},
     "output_type": "display_data"
    },
    {
     "data": {
      "application/vnd.jupyter.widget-view+json": {
       "model_id": "5b58a6f9fc5c488bbe42736bbf5b2b02",
       "version_major": 2,
       "version_minor": 0
      },
      "text/plain": [
       "Batches:   0%|          | 0/1 [00:00<?, ?it/s]"
      ]
     },
     "metadata": {},
     "output_type": "display_data"
    },
    {
     "data": {
      "application/vnd.jupyter.widget-view+json": {
       "model_id": "5a9e657831c546acb78d36c9a12b9f6c",
       "version_major": 2,
       "version_minor": 0
      },
      "text/plain": [
       "Batches:   0%|          | 0/1 [00:00<?, ?it/s]"
      ]
     },
     "metadata": {},
     "output_type": "display_data"
    },
    {
     "data": {
      "application/vnd.jupyter.widget-view+json": {
       "model_id": "076e5ec6cee64ebfb050396865f57997",
       "version_major": 2,
       "version_minor": 0
      },
      "text/plain": [
       "Batches:   0%|          | 0/1 [00:00<?, ?it/s]"
      ]
     },
     "metadata": {},
     "output_type": "display_data"
    },
    {
     "data": {
      "application/vnd.jupyter.widget-view+json": {
       "model_id": "582fff70f6514add88b65e066bada09c",
       "version_major": 2,
       "version_minor": 0
      },
      "text/plain": [
       "Batches:   0%|          | 0/1 [00:00<?, ?it/s]"
      ]
     },
     "metadata": {},
     "output_type": "display_data"
    },
    {
     "data": {
      "application/vnd.jupyter.widget-view+json": {
       "model_id": "199c9beedbd241cfbcc1672837d23fe3",
       "version_major": 2,
       "version_minor": 0
      },
      "text/plain": [
       "Batches:   0%|          | 0/1 [00:00<?, ?it/s]"
      ]
     },
     "metadata": {},
     "output_type": "display_data"
    },
    {
     "data": {
      "application/vnd.jupyter.widget-view+json": {
       "model_id": "21dc3fbf3c7b466b92b2f1f3becef7a9",
       "version_major": 2,
       "version_minor": 0
      },
      "text/plain": [
       "Batches:   0%|          | 0/1 [00:00<?, ?it/s]"
      ]
     },
     "metadata": {},
     "output_type": "display_data"
    },
    {
     "data": {
      "application/vnd.jupyter.widget-view+json": {
       "model_id": "0f2b44b247fe4f1aaa94f6415cf8f636",
       "version_major": 2,
       "version_minor": 0
      },
      "text/plain": [
       "Batches:   0%|          | 0/1 [00:00<?, ?it/s]"
      ]
     },
     "metadata": {},
     "output_type": "display_data"
    },
    {
     "data": {
      "application/vnd.jupyter.widget-view+json": {
       "model_id": "5f4ef1adb1fe4aa9ae22ae10b4d5cef3",
       "version_major": 2,
       "version_minor": 0
      },
      "text/plain": [
       "Batches:   0%|          | 0/1 [00:00<?, ?it/s]"
      ]
     },
     "metadata": {},
     "output_type": "display_data"
    },
    {
     "data": {
      "application/vnd.jupyter.widget-view+json": {
       "model_id": "e53a4f835750463697eb02557cf6995a",
       "version_major": 2,
       "version_minor": 0
      },
      "text/plain": [
       "Batches:   0%|          | 0/1 [00:00<?, ?it/s]"
      ]
     },
     "metadata": {},
     "output_type": "display_data"
    },
    {
     "data": {
      "application/vnd.jupyter.widget-view+json": {
       "model_id": "26f0bb52d17a452eacee95a7f83c8863",
       "version_major": 2,
       "version_minor": 0
      },
      "text/plain": [
       "Batches:   0%|          | 0/1 [00:00<?, ?it/s]"
      ]
     },
     "metadata": {},
     "output_type": "display_data"
    },
    {
     "data": {
      "application/vnd.jupyter.widget-view+json": {
       "model_id": "b63aab51c38f4b96b62eb5d77ee45551",
       "version_major": 2,
       "version_minor": 0
      },
      "text/plain": [
       "Batches:   0%|          | 0/1 [00:00<?, ?it/s]"
      ]
     },
     "metadata": {},
     "output_type": "display_data"
    },
    {
     "data": {
      "application/vnd.jupyter.widget-view+json": {
       "model_id": "84d34a5b3add4f088925c749d3fdad00",
       "version_major": 2,
       "version_minor": 0
      },
      "text/plain": [
       "Batches:   0%|          | 0/1 [00:00<?, ?it/s]"
      ]
     },
     "metadata": {},
     "output_type": "display_data"
    },
    {
     "data": {
      "application/vnd.jupyter.widget-view+json": {
       "model_id": "4a0d6d8a6e1b441ca0a4eec4789c3d0c",
       "version_major": 2,
       "version_minor": 0
      },
      "text/plain": [
       "Batches:   0%|          | 0/1 [00:00<?, ?it/s]"
      ]
     },
     "metadata": {},
     "output_type": "display_data"
    },
    {
     "data": {
      "application/vnd.jupyter.widget-view+json": {
       "model_id": "f4a7e44d2a9548db8fca35fa98bb8858",
       "version_major": 2,
       "version_minor": 0
      },
      "text/plain": [
       "Batches:   0%|          | 0/1 [00:00<?, ?it/s]"
      ]
     },
     "metadata": {},
     "output_type": "display_data"
    },
    {
     "data": {
      "application/vnd.jupyter.widget-view+json": {
       "model_id": "50b4090a14354ddcacae22f10d4c5f49",
       "version_major": 2,
       "version_minor": 0
      },
      "text/plain": [
       "Batches:   0%|          | 0/1 [00:00<?, ?it/s]"
      ]
     },
     "metadata": {},
     "output_type": "display_data"
    },
    {
     "data": {
      "application/vnd.jupyter.widget-view+json": {
       "model_id": "424acdeab8314d97a2311eef77b01a67",
       "version_major": 2,
       "version_minor": 0
      },
      "text/plain": [
       "Batches:   0%|          | 0/1 [00:00<?, ?it/s]"
      ]
     },
     "metadata": {},
     "output_type": "display_data"
    },
    {
     "data": {
      "application/vnd.jupyter.widget-view+json": {
       "model_id": "15c48e973e5c488a8cc0f37dd0f70052",
       "version_major": 2,
       "version_minor": 0
      },
      "text/plain": [
       "Batches:   0%|          | 0/1 [00:00<?, ?it/s]"
      ]
     },
     "metadata": {},
     "output_type": "display_data"
    },
    {
     "data": {
      "application/vnd.jupyter.widget-view+json": {
       "model_id": "48c6909a0d8b4040afd94fd50c46f763",
       "version_major": 2,
       "version_minor": 0
      },
      "text/plain": [
       "Batches:   0%|          | 0/1 [00:00<?, ?it/s]"
      ]
     },
     "metadata": {},
     "output_type": "display_data"
    },
    {
     "data": {
      "application/vnd.jupyter.widget-view+json": {
       "model_id": "b2946cf1f64446bf8833c69f44ce0050",
       "version_major": 2,
       "version_minor": 0
      },
      "text/plain": [
       "Batches:   0%|          | 0/1 [00:00<?, ?it/s]"
      ]
     },
     "metadata": {},
     "output_type": "display_data"
    },
    {
     "data": {
      "application/vnd.jupyter.widget-view+json": {
       "model_id": "387405308dd047e2870d31246323f12f",
       "version_major": 2,
       "version_minor": 0
      },
      "text/plain": [
       "Batches:   0%|          | 0/1 [00:00<?, ?it/s]"
      ]
     },
     "metadata": {},
     "output_type": "display_data"
    },
    {
     "data": {
      "application/vnd.jupyter.widget-view+json": {
       "model_id": "eed20e0de2a24bd49d95f93b3b3fee69",
       "version_major": 2,
       "version_minor": 0
      },
      "text/plain": [
       "Batches:   0%|          | 0/1 [00:00<?, ?it/s]"
      ]
     },
     "metadata": {},
     "output_type": "display_data"
    },
    {
     "data": {
      "application/vnd.jupyter.widget-view+json": {
       "model_id": "b2d73be3e5b147e4818fbf7f570eb38c",
       "version_major": 2,
       "version_minor": 0
      },
      "text/plain": [
       "Batches:   0%|          | 0/1 [00:00<?, ?it/s]"
      ]
     },
     "metadata": {},
     "output_type": "display_data"
    },
    {
     "data": {
      "application/vnd.jupyter.widget-view+json": {
       "model_id": "7a4cb2d61a964b23a8e88b43719349c9",
       "version_major": 2,
       "version_minor": 0
      },
      "text/plain": [
       "Batches:   0%|          | 0/1 [00:00<?, ?it/s]"
      ]
     },
     "metadata": {},
     "output_type": "display_data"
    },
    {
     "data": {
      "application/vnd.jupyter.widget-view+json": {
       "model_id": "ed92b6a16b354ee09d05f955b86380ad",
       "version_major": 2,
       "version_minor": 0
      },
      "text/plain": [
       "Batches:   0%|          | 0/1 [00:00<?, ?it/s]"
      ]
     },
     "metadata": {},
     "output_type": "display_data"
    },
    {
     "data": {
      "application/vnd.jupyter.widget-view+json": {
       "model_id": "d706afb5acc74a6599314cf61d6f0104",
       "version_major": 2,
       "version_minor": 0
      },
      "text/plain": [
       "Batches:   0%|          | 0/1 [00:00<?, ?it/s]"
      ]
     },
     "metadata": {},
     "output_type": "display_data"
    },
    {
     "data": {
      "application/vnd.jupyter.widget-view+json": {
       "model_id": "fb2d5b667ca345a2acbc8e40947ce292",
       "version_major": 2,
       "version_minor": 0
      },
      "text/plain": [
       "Batches:   0%|          | 0/1 [00:00<?, ?it/s]"
      ]
     },
     "metadata": {},
     "output_type": "display_data"
    },
    {
     "data": {
      "application/vnd.jupyter.widget-view+json": {
       "model_id": "f2b1f201bbab4e7ba5e30a1fa7bedceb",
       "version_major": 2,
       "version_minor": 0
      },
      "text/plain": [
       "Batches:   0%|          | 0/1 [00:00<?, ?it/s]"
      ]
     },
     "metadata": {},
     "output_type": "display_data"
    },
    {
     "data": {
      "application/vnd.jupyter.widget-view+json": {
       "model_id": "f46d057251914707bc07d7ce2e61ebaa",
       "version_major": 2,
       "version_minor": 0
      },
      "text/plain": [
       "Batches:   0%|          | 0/1 [00:00<?, ?it/s]"
      ]
     },
     "metadata": {},
     "output_type": "display_data"
    },
    {
     "data": {
      "application/vnd.jupyter.widget-view+json": {
       "model_id": "6625ea1f7ed14f28a70fba1d667c8c71",
       "version_major": 2,
       "version_minor": 0
      },
      "text/plain": [
       "Batches:   0%|          | 0/1 [00:00<?, ?it/s]"
      ]
     },
     "metadata": {},
     "output_type": "display_data"
    },
    {
     "data": {
      "application/vnd.jupyter.widget-view+json": {
       "model_id": "02feddd2f005460badedcee97c0086db",
       "version_major": 2,
       "version_minor": 0
      },
      "text/plain": [
       "Batches:   0%|          | 0/1 [00:00<?, ?it/s]"
      ]
     },
     "metadata": {},
     "output_type": "display_data"
    },
    {
     "data": {
      "application/vnd.jupyter.widget-view+json": {
       "model_id": "b57a803adf0c4278861a4962f56faa51",
       "version_major": 2,
       "version_minor": 0
      },
      "text/plain": [
       "Batches:   0%|          | 0/1 [00:00<?, ?it/s]"
      ]
     },
     "metadata": {},
     "output_type": "display_data"
    },
    {
     "data": {
      "application/vnd.jupyter.widget-view+json": {
       "model_id": "6e01b52d2ba44e2cbf855f973de7fc0f",
       "version_major": 2,
       "version_minor": 0
      },
      "text/plain": [
       "Batches:   0%|          | 0/1 [00:00<?, ?it/s]"
      ]
     },
     "metadata": {},
     "output_type": "display_data"
    },
    {
     "data": {
      "application/vnd.jupyter.widget-view+json": {
       "model_id": "3a43756911d7477aadbc0a0d030210d5",
       "version_major": 2,
       "version_minor": 0
      },
      "text/plain": [
       "Batches:   0%|          | 0/1 [00:00<?, ?it/s]"
      ]
     },
     "metadata": {},
     "output_type": "display_data"
    },
    {
     "data": {
      "application/vnd.jupyter.widget-view+json": {
       "model_id": "6b1baecd4d8147318b2d782fcab4bd44",
       "version_major": 2,
       "version_minor": 0
      },
      "text/plain": [
       "Batches:   0%|          | 0/1 [00:00<?, ?it/s]"
      ]
     },
     "metadata": {},
     "output_type": "display_data"
    },
    {
     "data": {
      "application/vnd.jupyter.widget-view+json": {
       "model_id": "95c4f0c3aa8a421ebc6d38401806aba1",
       "version_major": 2,
       "version_minor": 0
      },
      "text/plain": [
       "Batches:   0%|          | 0/1 [00:00<?, ?it/s]"
      ]
     },
     "metadata": {},
     "output_type": "display_data"
    },
    {
     "data": {
      "application/vnd.jupyter.widget-view+json": {
       "model_id": "cc6c509cabe94508bd4c2e4dcc284b4e",
       "version_major": 2,
       "version_minor": 0
      },
      "text/plain": [
       "Batches:   0%|          | 0/1 [00:00<?, ?it/s]"
      ]
     },
     "metadata": {},
     "output_type": "display_data"
    },
    {
     "data": {
      "application/vnd.jupyter.widget-view+json": {
       "model_id": "82e60447052343efad4bcbb907d198cb",
       "version_major": 2,
       "version_minor": 0
      },
      "text/plain": [
       "Batches:   0%|          | 0/1 [00:00<?, ?it/s]"
      ]
     },
     "metadata": {},
     "output_type": "display_data"
    },
    {
     "data": {
      "application/vnd.jupyter.widget-view+json": {
       "model_id": "a831397ec1224172afce61d711b79b15",
       "version_major": 2,
       "version_minor": 0
      },
      "text/plain": [
       "Batches:   0%|          | 0/1 [00:00<?, ?it/s]"
      ]
     },
     "metadata": {},
     "output_type": "display_data"
    },
    {
     "data": {
      "application/vnd.jupyter.widget-view+json": {
       "model_id": "3cfc7c76c32140e88af9e5b0aad1c94a",
       "version_major": 2,
       "version_minor": 0
      },
      "text/plain": [
       "Batches:   0%|          | 0/1 [00:00<?, ?it/s]"
      ]
     },
     "metadata": {},
     "output_type": "display_data"
    },
    {
     "data": {
      "application/vnd.jupyter.widget-view+json": {
       "model_id": "617052f44dd5448b8ddbbf4f931dc0d6",
       "version_major": 2,
       "version_minor": 0
      },
      "text/plain": [
       "Batches:   0%|          | 0/1 [00:00<?, ?it/s]"
      ]
     },
     "metadata": {},
     "output_type": "display_data"
    },
    {
     "data": {
      "application/vnd.jupyter.widget-view+json": {
       "model_id": "30c3b75118c34957be8dcb280b84a99c",
       "version_major": 2,
       "version_minor": 0
      },
      "text/plain": [
       "Batches:   0%|          | 0/1 [00:00<?, ?it/s]"
      ]
     },
     "metadata": {},
     "output_type": "display_data"
    },
    {
     "data": {
      "application/vnd.jupyter.widget-view+json": {
       "model_id": "2cad04d73d324999bc3d21761b248303",
       "version_major": 2,
       "version_minor": 0
      },
      "text/plain": [
       "Batches:   0%|          | 0/1 [00:00<?, ?it/s]"
      ]
     },
     "metadata": {},
     "output_type": "display_data"
    },
    {
     "data": {
      "application/vnd.jupyter.widget-view+json": {
       "model_id": "98b52d6346c94af0b86e3ff7e70fd41e",
       "version_major": 2,
       "version_minor": 0
      },
      "text/plain": [
       "Batches:   0%|          | 0/1 [00:00<?, ?it/s]"
      ]
     },
     "metadata": {},
     "output_type": "display_data"
    },
    {
     "data": {
      "application/vnd.jupyter.widget-view+json": {
       "model_id": "a124d45467fb4034937e2244d537427f",
       "version_major": 2,
       "version_minor": 0
      },
      "text/plain": [
       "Batches:   0%|          | 0/1 [00:00<?, ?it/s]"
      ]
     },
     "metadata": {},
     "output_type": "display_data"
    },
    {
     "data": {
      "application/vnd.jupyter.widget-view+json": {
       "model_id": "741097fe0479444a939e7e6c480078a9",
       "version_major": 2,
       "version_minor": 0
      },
      "text/plain": [
       "Batches:   0%|          | 0/1 [00:00<?, ?it/s]"
      ]
     },
     "metadata": {},
     "output_type": "display_data"
    },
    {
     "data": {
      "application/vnd.jupyter.widget-view+json": {
       "model_id": "e72767eded564816a7ce44bdf0b53795",
       "version_major": 2,
       "version_minor": 0
      },
      "text/plain": [
       "Batches:   0%|          | 0/1 [00:00<?, ?it/s]"
      ]
     },
     "metadata": {},
     "output_type": "display_data"
    },
    {
     "data": {
      "application/vnd.jupyter.widget-view+json": {
       "model_id": "428beda376e6481eae34d11358838c6a",
       "version_major": 2,
       "version_minor": 0
      },
      "text/plain": [
       "Batches:   0%|          | 0/1 [00:00<?, ?it/s]"
      ]
     },
     "metadata": {},
     "output_type": "display_data"
    },
    {
     "data": {
      "application/vnd.jupyter.widget-view+json": {
       "model_id": "3ba0cf1717494eeca11ea59b4a87d52f",
       "version_major": 2,
       "version_minor": 0
      },
      "text/plain": [
       "Batches:   0%|          | 0/1 [00:00<?, ?it/s]"
      ]
     },
     "metadata": {},
     "output_type": "display_data"
    },
    {
     "data": {
      "application/vnd.jupyter.widget-view+json": {
       "model_id": "449205f9bfa64623939c47893bc060cd",
       "version_major": 2,
       "version_minor": 0
      },
      "text/plain": [
       "Batches:   0%|          | 0/1 [00:00<?, ?it/s]"
      ]
     },
     "metadata": {},
     "output_type": "display_data"
    },
    {
     "data": {
      "application/vnd.jupyter.widget-view+json": {
       "model_id": "676edd05ce664478ac14d92f36e796e9",
       "version_major": 2,
       "version_minor": 0
      },
      "text/plain": [
       "Batches:   0%|          | 0/1 [00:00<?, ?it/s]"
      ]
     },
     "metadata": {},
     "output_type": "display_data"
    },
    {
     "data": {
      "application/vnd.jupyter.widget-view+json": {
       "model_id": "a12c95c7d549468d9d322ba2f0c694b7",
       "version_major": 2,
       "version_minor": 0
      },
      "text/plain": [
       "Batches:   0%|          | 0/1 [00:00<?, ?it/s]"
      ]
     },
     "metadata": {},
     "output_type": "display_data"
    },
    {
     "data": {
      "application/vnd.jupyter.widget-view+json": {
       "model_id": "7e605d7d80bd4510a409b132a9cac818",
       "version_major": 2,
       "version_minor": 0
      },
      "text/plain": [
       "Batches:   0%|          | 0/1 [00:00<?, ?it/s]"
      ]
     },
     "metadata": {},
     "output_type": "display_data"
    },
    {
     "data": {
      "application/vnd.jupyter.widget-view+json": {
       "model_id": "d6feffb536704e3ea948753b8e900da3",
       "version_major": 2,
       "version_minor": 0
      },
      "text/plain": [
       "Batches:   0%|          | 0/1 [00:00<?, ?it/s]"
      ]
     },
     "metadata": {},
     "output_type": "display_data"
    },
    {
     "data": {
      "application/vnd.jupyter.widget-view+json": {
       "model_id": "fbf0ac81bfea4d48b88fb2130b14e1a7",
       "version_major": 2,
       "version_minor": 0
      },
      "text/plain": [
       "Batches:   0%|          | 0/1 [00:00<?, ?it/s]"
      ]
     },
     "metadata": {},
     "output_type": "display_data"
    },
    {
     "data": {
      "application/vnd.jupyter.widget-view+json": {
       "model_id": "fcb1362490644411a2db0aadc33bbd4b",
       "version_major": 2,
       "version_minor": 0
      },
      "text/plain": [
       "Batches:   0%|          | 0/1 [00:00<?, ?it/s]"
      ]
     },
     "metadata": {},
     "output_type": "display_data"
    },
    {
     "data": {
      "application/vnd.jupyter.widget-view+json": {
       "model_id": "b241800cc18d49d882b02359d73a7091",
       "version_major": 2,
       "version_minor": 0
      },
      "text/plain": [
       "Batches:   0%|          | 0/1 [00:00<?, ?it/s]"
      ]
     },
     "metadata": {},
     "output_type": "display_data"
    },
    {
     "data": {
      "application/vnd.jupyter.widget-view+json": {
       "model_id": "5d08f6ee11a947c48bfe8f67f0d559b6",
       "version_major": 2,
       "version_minor": 0
      },
      "text/plain": [
       "Batches:   0%|          | 0/1 [00:00<?, ?it/s]"
      ]
     },
     "metadata": {},
     "output_type": "display_data"
    },
    {
     "data": {
      "application/vnd.jupyter.widget-view+json": {
       "model_id": "54d156e35aab40e298c2d2c128d9fbcf",
       "version_major": 2,
       "version_minor": 0
      },
      "text/plain": [
       "Batches:   0%|          | 0/1 [00:00<?, ?it/s]"
      ]
     },
     "metadata": {},
     "output_type": "display_data"
    },
    {
     "data": {
      "application/vnd.jupyter.widget-view+json": {
       "model_id": "1606916062ab4ef5be68e0d68ab41cc7",
       "version_major": 2,
       "version_minor": 0
      },
      "text/plain": [
       "Batches:   0%|          | 0/1 [00:00<?, ?it/s]"
      ]
     },
     "metadata": {},
     "output_type": "display_data"
    },
    {
     "data": {
      "application/vnd.jupyter.widget-view+json": {
       "model_id": "023c6994ae0846b2a27717c174b5d489",
       "version_major": 2,
       "version_minor": 0
      },
      "text/plain": [
       "Batches:   0%|          | 0/1 [00:00<?, ?it/s]"
      ]
     },
     "metadata": {},
     "output_type": "display_data"
    },
    {
     "data": {
      "application/vnd.jupyter.widget-view+json": {
       "model_id": "0c139858802448959d7363525aba860c",
       "version_major": 2,
       "version_minor": 0
      },
      "text/plain": [
       "Batches:   0%|          | 0/1 [00:00<?, ?it/s]"
      ]
     },
     "metadata": {},
     "output_type": "display_data"
    },
    {
     "data": {
      "application/vnd.jupyter.widget-view+json": {
       "model_id": "5f215b56d06b4621b1613518804d42b0",
       "version_major": 2,
       "version_minor": 0
      },
      "text/plain": [
       "Batches:   0%|          | 0/1 [00:00<?, ?it/s]"
      ]
     },
     "metadata": {},
     "output_type": "display_data"
    },
    {
     "data": {
      "application/vnd.jupyter.widget-view+json": {
       "model_id": "7292a71d4032491db5ae41fe79920965",
       "version_major": 2,
       "version_minor": 0
      },
      "text/plain": [
       "Batches:   0%|          | 0/1 [00:00<?, ?it/s]"
      ]
     },
     "metadata": {},
     "output_type": "display_data"
    },
    {
     "data": {
      "application/vnd.jupyter.widget-view+json": {
       "model_id": "52d49a12dea14c8f9ad7ba92f94bd010",
       "version_major": 2,
       "version_minor": 0
      },
      "text/plain": [
       "Batches:   0%|          | 0/1 [00:00<?, ?it/s]"
      ]
     },
     "metadata": {},
     "output_type": "display_data"
    },
    {
     "data": {
      "application/vnd.jupyter.widget-view+json": {
       "model_id": "ca8902fc410a483290485e4526cc91b4",
       "version_major": 2,
       "version_minor": 0
      },
      "text/plain": [
       "Batches:   0%|          | 0/1 [00:00<?, ?it/s]"
      ]
     },
     "metadata": {},
     "output_type": "display_data"
    },
    {
     "data": {
      "application/vnd.jupyter.widget-view+json": {
       "model_id": "b08bc0c3e11e49fcb4b2fd1783b45526",
       "version_major": 2,
       "version_minor": 0
      },
      "text/plain": [
       "Batches:   0%|          | 0/1 [00:00<?, ?it/s]"
      ]
     },
     "metadata": {},
     "output_type": "display_data"
    },
    {
     "data": {
      "application/vnd.jupyter.widget-view+json": {
       "model_id": "b61bca1686974248a76fa84b7852f4c8",
       "version_major": 2,
       "version_minor": 0
      },
      "text/plain": [
       "Batches:   0%|          | 0/1 [00:00<?, ?it/s]"
      ]
     },
     "metadata": {},
     "output_type": "display_data"
    },
    {
     "data": {
      "application/vnd.jupyter.widget-view+json": {
       "model_id": "86ddd1a25383420a908a57424e1dc0b4",
       "version_major": 2,
       "version_minor": 0
      },
      "text/plain": [
       "Batches:   0%|          | 0/1 [00:00<?, ?it/s]"
      ]
     },
     "metadata": {},
     "output_type": "display_data"
    },
    {
     "data": {
      "application/vnd.jupyter.widget-view+json": {
       "model_id": "6f504394741d4028b61cff91b67f1a15",
       "version_major": 2,
       "version_minor": 0
      },
      "text/plain": [
       "Batches:   0%|          | 0/1 [00:00<?, ?it/s]"
      ]
     },
     "metadata": {},
     "output_type": "display_data"
    },
    {
     "data": {
      "application/vnd.jupyter.widget-view+json": {
       "model_id": "b997236e9bb142f99e524d26df1ee83f",
       "version_major": 2,
       "version_minor": 0
      },
      "text/plain": [
       "Batches:   0%|          | 0/1 [00:00<?, ?it/s]"
      ]
     },
     "metadata": {},
     "output_type": "display_data"
    },
    {
     "data": {
      "application/vnd.jupyter.widget-view+json": {
       "model_id": "4c08d2c3d16b4f738cd8a6b94f4adad5",
       "version_major": 2,
       "version_minor": 0
      },
      "text/plain": [
       "Batches:   0%|          | 0/1 [00:00<?, ?it/s]"
      ]
     },
     "metadata": {},
     "output_type": "display_data"
    },
    {
     "data": {
      "application/vnd.jupyter.widget-view+json": {
       "model_id": "bf8b059227d94d8f88199e7c3dd7f64e",
       "version_major": 2,
       "version_minor": 0
      },
      "text/plain": [
       "Batches:   0%|          | 0/1 [00:00<?, ?it/s]"
      ]
     },
     "metadata": {},
     "output_type": "display_data"
    },
    {
     "data": {
      "application/vnd.jupyter.widget-view+json": {
       "model_id": "af100c10927a4daba1d8f695d6cf53c3",
       "version_major": 2,
       "version_minor": 0
      },
      "text/plain": [
       "Batches:   0%|          | 0/1 [00:00<?, ?it/s]"
      ]
     },
     "metadata": {},
     "output_type": "display_data"
    },
    {
     "data": {
      "application/vnd.jupyter.widget-view+json": {
       "model_id": "7ec026ffb8814a90ab8f8155108292d9",
       "version_major": 2,
       "version_minor": 0
      },
      "text/plain": [
       "Batches:   0%|          | 0/1 [00:00<?, ?it/s]"
      ]
     },
     "metadata": {},
     "output_type": "display_data"
    },
    {
     "data": {
      "application/vnd.jupyter.widget-view+json": {
       "model_id": "1f22ba85bb4648e89b30b663d11401a1",
       "version_major": 2,
       "version_minor": 0
      },
      "text/plain": [
       "Batches:   0%|          | 0/1 [00:00<?, ?it/s]"
      ]
     },
     "metadata": {},
     "output_type": "display_data"
    },
    {
     "data": {
      "application/vnd.jupyter.widget-view+json": {
       "model_id": "7a18d69ea7a7408796c5bb66ef876b2f",
       "version_major": 2,
       "version_minor": 0
      },
      "text/plain": [
       "Batches:   0%|          | 0/1 [00:00<?, ?it/s]"
      ]
     },
     "metadata": {},
     "output_type": "display_data"
    },
    {
     "data": {
      "application/vnd.jupyter.widget-view+json": {
       "model_id": "087e82b508904ad0947c829550dfa32f",
       "version_major": 2,
       "version_minor": 0
      },
      "text/plain": [
       "Batches:   0%|          | 0/1 [00:00<?, ?it/s]"
      ]
     },
     "metadata": {},
     "output_type": "display_data"
    },
    {
     "data": {
      "application/vnd.jupyter.widget-view+json": {
       "model_id": "1117a394ee5d44aba13925fb7f9b321d",
       "version_major": 2,
       "version_minor": 0
      },
      "text/plain": [
       "Batches:   0%|          | 0/1 [00:00<?, ?it/s]"
      ]
     },
     "metadata": {},
     "output_type": "display_data"
    },
    {
     "data": {
      "application/vnd.jupyter.widget-view+json": {
       "model_id": "910f1634c2724a49ad9166d3c2db30f3",
       "version_major": 2,
       "version_minor": 0
      },
      "text/plain": [
       "Batches:   0%|          | 0/1 [00:00<?, ?it/s]"
      ]
     },
     "metadata": {},
     "output_type": "display_data"
    },
    {
     "data": {
      "application/vnd.jupyter.widget-view+json": {
       "model_id": "84013ab61bd64bcab250be1060865ac5",
       "version_major": 2,
       "version_minor": 0
      },
      "text/plain": [
       "Batches:   0%|          | 0/1 [00:00<?, ?it/s]"
      ]
     },
     "metadata": {},
     "output_type": "display_data"
    },
    {
     "data": {
      "application/vnd.jupyter.widget-view+json": {
       "model_id": "a64d3bc0292543cda37cf06ecfb48b52",
       "version_major": 2,
       "version_minor": 0
      },
      "text/plain": [
       "Batches:   0%|          | 0/1 [00:00<?, ?it/s]"
      ]
     },
     "metadata": {},
     "output_type": "display_data"
    },
    {
     "data": {
      "application/vnd.jupyter.widget-view+json": {
       "model_id": "15ac02313d7042f1842688fbb07b1ce3",
       "version_major": 2,
       "version_minor": 0
      },
      "text/plain": [
       "Batches:   0%|          | 0/1 [00:00<?, ?it/s]"
      ]
     },
     "metadata": {},
     "output_type": "display_data"
    },
    {
     "data": {
      "application/vnd.jupyter.widget-view+json": {
       "model_id": "27c1f97c0809469db5bbfc404d5ec66e",
       "version_major": 2,
       "version_minor": 0
      },
      "text/plain": [
       "Batches:   0%|          | 0/1 [00:00<?, ?it/s]"
      ]
     },
     "metadata": {},
     "output_type": "display_data"
    },
    {
     "data": {
      "application/vnd.jupyter.widget-view+json": {
       "model_id": "799ea2454e0c4ec7ad930259b85f787b",
       "version_major": 2,
       "version_minor": 0
      },
      "text/plain": [
       "Batches:   0%|          | 0/1 [00:00<?, ?it/s]"
      ]
     },
     "metadata": {},
     "output_type": "display_data"
    },
    {
     "data": {
      "application/vnd.jupyter.widget-view+json": {
       "model_id": "74b96278be614d3d9af4b7e40979b576",
       "version_major": 2,
       "version_minor": 0
      },
      "text/plain": [
       "Batches:   0%|          | 0/1 [00:00<?, ?it/s]"
      ]
     },
     "metadata": {},
     "output_type": "display_data"
    },
    {
     "data": {
      "application/vnd.jupyter.widget-view+json": {
       "model_id": "84c473e3524245e09aad739ce232e3e4",
       "version_major": 2,
       "version_minor": 0
      },
      "text/plain": [
       "Batches:   0%|          | 0/1 [00:00<?, ?it/s]"
      ]
     },
     "metadata": {},
     "output_type": "display_data"
    },
    {
     "data": {
      "application/vnd.jupyter.widget-view+json": {
       "model_id": "30a4f34f510040359b13e52d8ff9a51c",
       "version_major": 2,
       "version_minor": 0
      },
      "text/plain": [
       "Batches:   0%|          | 0/1 [00:00<?, ?it/s]"
      ]
     },
     "metadata": {},
     "output_type": "display_data"
    },
    {
     "data": {
      "application/vnd.jupyter.widget-view+json": {
       "model_id": "d8d3829eda374e11b478f83e5e0729b8",
       "version_major": 2,
       "version_minor": 0
      },
      "text/plain": [
       "Batches:   0%|          | 0/1 [00:00<?, ?it/s]"
      ]
     },
     "metadata": {},
     "output_type": "display_data"
    },
    {
     "data": {
      "application/vnd.jupyter.widget-view+json": {
       "model_id": "9d85b4bebeb242b09371a98eb65c6793",
       "version_major": 2,
       "version_minor": 0
      },
      "text/plain": [
       "Batches:   0%|          | 0/1 [00:00<?, ?it/s]"
      ]
     },
     "metadata": {},
     "output_type": "display_data"
    },
    {
     "data": {
      "application/vnd.jupyter.widget-view+json": {
       "model_id": "1ccb771f901041e1afe8d3ac70f3c3fd",
       "version_major": 2,
       "version_minor": 0
      },
      "text/plain": [
       "Batches:   0%|          | 0/1 [00:00<?, ?it/s]"
      ]
     },
     "metadata": {},
     "output_type": "display_data"
    },
    {
     "data": {
      "application/vnd.jupyter.widget-view+json": {
       "model_id": "54fc6c5319604851a606990843260477",
       "version_major": 2,
       "version_minor": 0
      },
      "text/plain": [
       "Batches:   0%|          | 0/1 [00:00<?, ?it/s]"
      ]
     },
     "metadata": {},
     "output_type": "display_data"
    },
    {
     "data": {
      "application/vnd.jupyter.widget-view+json": {
       "model_id": "ef93677078f54308aafdbcfdd05e0885",
       "version_major": 2,
       "version_minor": 0
      },
      "text/plain": [
       "Batches:   0%|          | 0/1 [00:00<?, ?it/s]"
      ]
     },
     "metadata": {},
     "output_type": "display_data"
    },
    {
     "data": {
      "application/vnd.jupyter.widget-view+json": {
       "model_id": "5abe00ba96fa485da0ce0d85e764c296",
       "version_major": 2,
       "version_minor": 0
      },
      "text/plain": [
       "Batches:   0%|          | 0/1 [00:00<?, ?it/s]"
      ]
     },
     "metadata": {},
     "output_type": "display_data"
    },
    {
     "data": {
      "application/vnd.jupyter.widget-view+json": {
       "model_id": "afa00cf5ef7c4b61b99fd3f381498ce8",
       "version_major": 2,
       "version_minor": 0
      },
      "text/plain": [
       "Batches:   0%|          | 0/1 [00:00<?, ?it/s]"
      ]
     },
     "metadata": {},
     "output_type": "display_data"
    },
    {
     "data": {
      "application/vnd.jupyter.widget-view+json": {
       "model_id": "b4557ec9a70948daa04d839fcd660938",
       "version_major": 2,
       "version_minor": 0
      },
      "text/plain": [
       "Batches:   0%|          | 0/1 [00:00<?, ?it/s]"
      ]
     },
     "metadata": {},
     "output_type": "display_data"
    },
    {
     "data": {
      "application/vnd.jupyter.widget-view+json": {
       "model_id": "298fa79372d14e98bcf2e72062bde386",
       "version_major": 2,
       "version_minor": 0
      },
      "text/plain": [
       "Batches:   0%|          | 0/1 [00:00<?, ?it/s]"
      ]
     },
     "metadata": {},
     "output_type": "display_data"
    },
    {
     "data": {
      "application/vnd.jupyter.widget-view+json": {
       "model_id": "d85da47a9d9e495684ff97389b72cd85",
       "version_major": 2,
       "version_minor": 0
      },
      "text/plain": [
       "Batches:   0%|          | 0/1 [00:00<?, ?it/s]"
      ]
     },
     "metadata": {},
     "output_type": "display_data"
    },
    {
     "data": {
      "application/vnd.jupyter.widget-view+json": {
       "model_id": "5ad3e44dee574aab9083bd4e89db41d1",
       "version_major": 2,
       "version_minor": 0
      },
      "text/plain": [
       "Batches:   0%|          | 0/1 [00:00<?, ?it/s]"
      ]
     },
     "metadata": {},
     "output_type": "display_data"
    },
    {
     "data": {
      "application/vnd.jupyter.widget-view+json": {
       "model_id": "0c103aba5acc419087fe4a4c3fa3f301",
       "version_major": 2,
       "version_minor": 0
      },
      "text/plain": [
       "Batches:   0%|          | 0/1 [00:00<?, ?it/s]"
      ]
     },
     "metadata": {},
     "output_type": "display_data"
    },
    {
     "data": {
      "application/vnd.jupyter.widget-view+json": {
       "model_id": "f41fecba4d6b4aa79788d009131b9f05",
       "version_major": 2,
       "version_minor": 0
      },
      "text/plain": [
       "Batches:   0%|          | 0/1 [00:00<?, ?it/s]"
      ]
     },
     "metadata": {},
     "output_type": "display_data"
    },
    {
     "data": {
      "application/vnd.jupyter.widget-view+json": {
       "model_id": "65fdff9c04ce4c3788e4b9cb42cd13da",
       "version_major": 2,
       "version_minor": 0
      },
      "text/plain": [
       "Batches:   0%|          | 0/1 [00:00<?, ?it/s]"
      ]
     },
     "metadata": {},
     "output_type": "display_data"
    },
    {
     "data": {
      "application/vnd.jupyter.widget-view+json": {
       "model_id": "3b709224f64d4e599e39ee1d78392d2d",
       "version_major": 2,
       "version_minor": 0
      },
      "text/plain": [
       "Batches:   0%|          | 0/1 [00:00<?, ?it/s]"
      ]
     },
     "metadata": {},
     "output_type": "display_data"
    },
    {
     "data": {
      "application/vnd.jupyter.widget-view+json": {
       "model_id": "c164a88fb6a743fba0af2c34dd5003eb",
       "version_major": 2,
       "version_minor": 0
      },
      "text/plain": [
       "Batches:   0%|          | 0/1 [00:00<?, ?it/s]"
      ]
     },
     "metadata": {},
     "output_type": "display_data"
    },
    {
     "data": {
      "application/vnd.jupyter.widget-view+json": {
       "model_id": "53f07896e2e3462db9677d694460516a",
       "version_major": 2,
       "version_minor": 0
      },
      "text/plain": [
       "Batches:   0%|          | 0/1 [00:00<?, ?it/s]"
      ]
     },
     "metadata": {},
     "output_type": "display_data"
    },
    {
     "data": {
      "application/vnd.jupyter.widget-view+json": {
       "model_id": "40c7df22b96543f6bafffb53c17c9b8e",
       "version_major": 2,
       "version_minor": 0
      },
      "text/plain": [
       "Batches:   0%|          | 0/1 [00:00<?, ?it/s]"
      ]
     },
     "metadata": {},
     "output_type": "display_data"
    },
    {
     "data": {
      "application/vnd.jupyter.widget-view+json": {
       "model_id": "b83b9eea10104a5baad0b628141a80dc",
       "version_major": 2,
       "version_minor": 0
      },
      "text/plain": [
       "Batches:   0%|          | 0/1 [00:00<?, ?it/s]"
      ]
     },
     "metadata": {},
     "output_type": "display_data"
    },
    {
     "data": {
      "application/vnd.jupyter.widget-view+json": {
       "model_id": "4240aae157e747738c163c9cfb8eef73",
       "version_major": 2,
       "version_minor": 0
      },
      "text/plain": [
       "Batches:   0%|          | 0/1 [00:00<?, ?it/s]"
      ]
     },
     "metadata": {},
     "output_type": "display_data"
    },
    {
     "data": {
      "application/vnd.jupyter.widget-view+json": {
       "model_id": "2353b1cf643b4769a1e27dae1eaf6957",
       "version_major": 2,
       "version_minor": 0
      },
      "text/plain": [
       "Batches:   0%|          | 0/1 [00:00<?, ?it/s]"
      ]
     },
     "metadata": {},
     "output_type": "display_data"
    },
    {
     "data": {
      "application/vnd.jupyter.widget-view+json": {
       "model_id": "f2aed29990624a73a5e84a1efeebf141",
       "version_major": 2,
       "version_minor": 0
      },
      "text/plain": [
       "Batches:   0%|          | 0/1 [00:00<?, ?it/s]"
      ]
     },
     "metadata": {},
     "output_type": "display_data"
    },
    {
     "data": {
      "application/vnd.jupyter.widget-view+json": {
       "model_id": "d8b2ef3c611f4c66b2c1cd061434f411",
       "version_major": 2,
       "version_minor": 0
      },
      "text/plain": [
       "Batches:   0%|          | 0/1 [00:00<?, ?it/s]"
      ]
     },
     "metadata": {},
     "output_type": "display_data"
    },
    {
     "data": {
      "application/vnd.jupyter.widget-view+json": {
       "model_id": "69f2c0c3b4f140f7a4470040698fa9f9",
       "version_major": 2,
       "version_minor": 0
      },
      "text/plain": [
       "Batches:   0%|          | 0/1 [00:00<?, ?it/s]"
      ]
     },
     "metadata": {},
     "output_type": "display_data"
    },
    {
     "data": {
      "application/vnd.jupyter.widget-view+json": {
       "model_id": "ed1076adf03d495796e51da94b4b0481",
       "version_major": 2,
       "version_minor": 0
      },
      "text/plain": [
       "Batches:   0%|          | 0/1 [00:00<?, ?it/s]"
      ]
     },
     "metadata": {},
     "output_type": "display_data"
    },
    {
     "data": {
      "application/vnd.jupyter.widget-view+json": {
       "model_id": "6f3c9527f3e74c968da43b0ea74fa98f",
       "version_major": 2,
       "version_minor": 0
      },
      "text/plain": [
       "Batches:   0%|          | 0/1 [00:00<?, ?it/s]"
      ]
     },
     "metadata": {},
     "output_type": "display_data"
    },
    {
     "data": {
      "application/vnd.jupyter.widget-view+json": {
       "model_id": "87f228f607f74636a1612f944441fdee",
       "version_major": 2,
       "version_minor": 0
      },
      "text/plain": [
       "Batches:   0%|          | 0/1 [00:00<?, ?it/s]"
      ]
     },
     "metadata": {},
     "output_type": "display_data"
    },
    {
     "data": {
      "application/vnd.jupyter.widget-view+json": {
       "model_id": "b7dedd9ccc6e43d39e845a6ea2b34e93",
       "version_major": 2,
       "version_minor": 0
      },
      "text/plain": [
       "Batches:   0%|          | 0/1 [00:00<?, ?it/s]"
      ]
     },
     "metadata": {},
     "output_type": "display_data"
    },
    {
     "data": {
      "application/vnd.jupyter.widget-view+json": {
       "model_id": "3de982419bad4a5aa8805023fb429f5d",
       "version_major": 2,
       "version_minor": 0
      },
      "text/plain": [
       "Batches:   0%|          | 0/1 [00:00<?, ?it/s]"
      ]
     },
     "metadata": {},
     "output_type": "display_data"
    },
    {
     "data": {
      "application/vnd.jupyter.widget-view+json": {
       "model_id": "a72e7a35d904493d9c9f4c5ca041262d",
       "version_major": 2,
       "version_minor": 0
      },
      "text/plain": [
       "Batches:   0%|          | 0/1 [00:00<?, ?it/s]"
      ]
     },
     "metadata": {},
     "output_type": "display_data"
    },
    {
     "data": {
      "application/vnd.jupyter.widget-view+json": {
       "model_id": "d7eeb49f4f024cee9f0a802936b8d17d",
       "version_major": 2,
       "version_minor": 0
      },
      "text/plain": [
       "Batches:   0%|          | 0/1 [00:00<?, ?it/s]"
      ]
     },
     "metadata": {},
     "output_type": "display_data"
    },
    {
     "data": {
      "application/vnd.jupyter.widget-view+json": {
       "model_id": "8087d1a699ae4bb8861d66e7dabde763",
       "version_major": 2,
       "version_minor": 0
      },
      "text/plain": [
       "Batches:   0%|          | 0/1 [00:00<?, ?it/s]"
      ]
     },
     "metadata": {},
     "output_type": "display_data"
    },
    {
     "data": {
      "application/vnd.jupyter.widget-view+json": {
       "model_id": "51de03e1d8334631a1200119e975b570",
       "version_major": 2,
       "version_minor": 0
      },
      "text/plain": [
       "Batches:   0%|          | 0/1 [00:00<?, ?it/s]"
      ]
     },
     "metadata": {},
     "output_type": "display_data"
    },
    {
     "data": {
      "application/vnd.jupyter.widget-view+json": {
       "model_id": "bfc7f9f31f6b4e0198ab07ac74c53c63",
       "version_major": 2,
       "version_minor": 0
      },
      "text/plain": [
       "Batches:   0%|          | 0/1 [00:00<?, ?it/s]"
      ]
     },
     "metadata": {},
     "output_type": "display_data"
    },
    {
     "data": {
      "application/vnd.jupyter.widget-view+json": {
       "model_id": "deea2f6ec4024b5caa57dff99fd9ddd6",
       "version_major": 2,
       "version_minor": 0
      },
      "text/plain": [
       "Batches:   0%|          | 0/1 [00:00<?, ?it/s]"
      ]
     },
     "metadata": {},
     "output_type": "display_data"
    },
    {
     "data": {
      "application/vnd.jupyter.widget-view+json": {
       "model_id": "1d8810532960400c93c826cd18b0fb37",
       "version_major": 2,
       "version_minor": 0
      },
      "text/plain": [
       "Batches:   0%|          | 0/1 [00:00<?, ?it/s]"
      ]
     },
     "metadata": {},
     "output_type": "display_data"
    },
    {
     "data": {
      "application/vnd.jupyter.widget-view+json": {
       "model_id": "a349f07831c34d189898dbedc07283bd",
       "version_major": 2,
       "version_minor": 0
      },
      "text/plain": [
       "Batches:   0%|          | 0/1 [00:00<?, ?it/s]"
      ]
     },
     "metadata": {},
     "output_type": "display_data"
    },
    {
     "data": {
      "application/vnd.jupyter.widget-view+json": {
       "model_id": "35a69821dd244369826ac3e56b4e3f65",
       "version_major": 2,
       "version_minor": 0
      },
      "text/plain": [
       "Batches:   0%|          | 0/1 [00:00<?, ?it/s]"
      ]
     },
     "metadata": {},
     "output_type": "display_data"
    },
    {
     "data": {
      "application/vnd.jupyter.widget-view+json": {
       "model_id": "2d3eb91375124a7e82dd72144a0d25e7",
       "version_major": 2,
       "version_minor": 0
      },
      "text/plain": [
       "Batches:   0%|          | 0/1 [00:00<?, ?it/s]"
      ]
     },
     "metadata": {},
     "output_type": "display_data"
    },
    {
     "data": {
      "application/vnd.jupyter.widget-view+json": {
       "model_id": "996f8e345b5942bb93c84b857fe51b29",
       "version_major": 2,
       "version_minor": 0
      },
      "text/plain": [
       "Batches:   0%|          | 0/1 [00:00<?, ?it/s]"
      ]
     },
     "metadata": {},
     "output_type": "display_data"
    },
    {
     "data": {
      "application/vnd.jupyter.widget-view+json": {
       "model_id": "8efe8ff08953435288f6c5d3d4ee72a9",
       "version_major": 2,
       "version_minor": 0
      },
      "text/plain": [
       "Batches:   0%|          | 0/1 [00:00<?, ?it/s]"
      ]
     },
     "metadata": {},
     "output_type": "display_data"
    },
    {
     "data": {
      "application/vnd.jupyter.widget-view+json": {
       "model_id": "c502ec06c96349b7a121167e04dfb0d7",
       "version_major": 2,
       "version_minor": 0
      },
      "text/plain": [
       "Batches:   0%|          | 0/1 [00:00<?, ?it/s]"
      ]
     },
     "metadata": {},
     "output_type": "display_data"
    },
    {
     "data": {
      "application/vnd.jupyter.widget-view+json": {
       "model_id": "6f98cc6f307b4044b0e941fc98ea952a",
       "version_major": 2,
       "version_minor": 0
      },
      "text/plain": [
       "Batches:   0%|          | 0/1 [00:00<?, ?it/s]"
      ]
     },
     "metadata": {},
     "output_type": "display_data"
    },
    {
     "data": {
      "application/vnd.jupyter.widget-view+json": {
       "model_id": "8bb0de305c9a41e39e6907a38307e159",
       "version_major": 2,
       "version_minor": 0
      },
      "text/plain": [
       "Batches:   0%|          | 0/1 [00:00<?, ?it/s]"
      ]
     },
     "metadata": {},
     "output_type": "display_data"
    },
    {
     "data": {
      "application/vnd.jupyter.widget-view+json": {
       "model_id": "328d20e1c48f46b6a384090618b13208",
       "version_major": 2,
       "version_minor": 0
      },
      "text/plain": [
       "Batches:   0%|          | 0/1 [00:00<?, ?it/s]"
      ]
     },
     "metadata": {},
     "output_type": "display_data"
    },
    {
     "data": {
      "application/vnd.jupyter.widget-view+json": {
       "model_id": "fda2733424f74254a626c49492b05cde",
       "version_major": 2,
       "version_minor": 0
      },
      "text/plain": [
       "Batches:   0%|          | 0/1 [00:00<?, ?it/s]"
      ]
     },
     "metadata": {},
     "output_type": "display_data"
    },
    {
     "data": {
      "application/vnd.jupyter.widget-view+json": {
       "model_id": "25138d095d8f4999abbb3594efe2e72f",
       "version_major": 2,
       "version_minor": 0
      },
      "text/plain": [
       "Batches:   0%|          | 0/1 [00:00<?, ?it/s]"
      ]
     },
     "metadata": {},
     "output_type": "display_data"
    },
    {
     "data": {
      "application/vnd.jupyter.widget-view+json": {
       "model_id": "4911b42b4dfe465c883f04409f19ae05",
       "version_major": 2,
       "version_minor": 0
      },
      "text/plain": [
       "Batches:   0%|          | 0/1 [00:00<?, ?it/s]"
      ]
     },
     "metadata": {},
     "output_type": "display_data"
    },
    {
     "data": {
      "application/vnd.jupyter.widget-view+json": {
       "model_id": "f4e8720000104ae9aa22be36a4090d3c",
       "version_major": 2,
       "version_minor": 0
      },
      "text/plain": [
       "Batches:   0%|          | 0/1 [00:00<?, ?it/s]"
      ]
     },
     "metadata": {},
     "output_type": "display_data"
    },
    {
     "data": {
      "application/vnd.jupyter.widget-view+json": {
       "model_id": "58dbb22c339249caa1f0e656e4c9005e",
       "version_major": 2,
       "version_minor": 0
      },
      "text/plain": [
       "Batches:   0%|          | 0/1 [00:00<?, ?it/s]"
      ]
     },
     "metadata": {},
     "output_type": "display_data"
    },
    {
     "data": {
      "application/vnd.jupyter.widget-view+json": {
       "model_id": "e8991fa6ecb24d3f95a68dbbeeb661f4",
       "version_major": 2,
       "version_minor": 0
      },
      "text/plain": [
       "Batches:   0%|          | 0/1 [00:00<?, ?it/s]"
      ]
     },
     "metadata": {},
     "output_type": "display_data"
    },
    {
     "data": {
      "application/vnd.jupyter.widget-view+json": {
       "model_id": "c7ddb0d56d014b999f316aa4530cb752",
       "version_major": 2,
       "version_minor": 0
      },
      "text/plain": [
       "Batches:   0%|          | 0/1 [00:00<?, ?it/s]"
      ]
     },
     "metadata": {},
     "output_type": "display_data"
    },
    {
     "data": {
      "application/vnd.jupyter.widget-view+json": {
       "model_id": "88e292d2ad294bcab2a064b0c48a58c5",
       "version_major": 2,
       "version_minor": 0
      },
      "text/plain": [
       "Batches:   0%|          | 0/1 [00:00<?, ?it/s]"
      ]
     },
     "metadata": {},
     "output_type": "display_data"
    },
    {
     "data": {
      "application/vnd.jupyter.widget-view+json": {
       "model_id": "fb62b1dfaac24618a4c4296275cec8be",
       "version_major": 2,
       "version_minor": 0
      },
      "text/plain": [
       "Batches:   0%|          | 0/1 [00:00<?, ?it/s]"
      ]
     },
     "metadata": {},
     "output_type": "display_data"
    },
    {
     "data": {
      "application/vnd.jupyter.widget-view+json": {
       "model_id": "5d96cbff88a948b8b14214da8887225c",
       "version_major": 2,
       "version_minor": 0
      },
      "text/plain": [
       "Batches:   0%|          | 0/1 [00:00<?, ?it/s]"
      ]
     },
     "metadata": {},
     "output_type": "display_data"
    },
    {
     "data": {
      "application/vnd.jupyter.widget-view+json": {
       "model_id": "d0391c4a274e46dcad2edd81ebf6aaa9",
       "version_major": 2,
       "version_minor": 0
      },
      "text/plain": [
       "Batches:   0%|          | 0/1 [00:00<?, ?it/s]"
      ]
     },
     "metadata": {},
     "output_type": "display_data"
    },
    {
     "data": {
      "application/vnd.jupyter.widget-view+json": {
       "model_id": "1c7e304d9b7141cf9015ecb234c12e3b",
       "version_major": 2,
       "version_minor": 0
      },
      "text/plain": [
       "Batches:   0%|          | 0/1 [00:00<?, ?it/s]"
      ]
     },
     "metadata": {},
     "output_type": "display_data"
    },
    {
     "data": {
      "application/vnd.jupyter.widget-view+json": {
       "model_id": "e1949d017849497784530960f1ea6a02",
       "version_major": 2,
       "version_minor": 0
      },
      "text/plain": [
       "Batches:   0%|          | 0/1 [00:00<?, ?it/s]"
      ]
     },
     "metadata": {},
     "output_type": "display_data"
    },
    {
     "data": {
      "application/vnd.jupyter.widget-view+json": {
       "model_id": "80385852ba9f488d987498da61147772",
       "version_major": 2,
       "version_minor": 0
      },
      "text/plain": [
       "Batches:   0%|          | 0/1 [00:00<?, ?it/s]"
      ]
     },
     "metadata": {},
     "output_type": "display_data"
    },
    {
     "data": {
      "application/vnd.jupyter.widget-view+json": {
       "model_id": "e7c46e6b13314f20916724a8244a3ed8",
       "version_major": 2,
       "version_minor": 0
      },
      "text/plain": [
       "Batches:   0%|          | 0/1 [00:00<?, ?it/s]"
      ]
     },
     "metadata": {},
     "output_type": "display_data"
    },
    {
     "data": {
      "application/vnd.jupyter.widget-view+json": {
       "model_id": "a3c53576d27b4f41868e649d12ff5b0d",
       "version_major": 2,
       "version_minor": 0
      },
      "text/plain": [
       "Batches:   0%|          | 0/1 [00:00<?, ?it/s]"
      ]
     },
     "metadata": {},
     "output_type": "display_data"
    },
    {
     "data": {
      "application/vnd.jupyter.widget-view+json": {
       "model_id": "e8f72ef2253646a9b6f945538c0c3008",
       "version_major": 2,
       "version_minor": 0
      },
      "text/plain": [
       "Batches:   0%|          | 0/1 [00:00<?, ?it/s]"
      ]
     },
     "metadata": {},
     "output_type": "display_data"
    },
    {
     "data": {
      "application/vnd.jupyter.widget-view+json": {
       "model_id": "ef15b1875d40476ab8d076adfa850f7b",
       "version_major": 2,
       "version_minor": 0
      },
      "text/plain": [
       "Batches:   0%|          | 0/1 [00:00<?, ?it/s]"
      ]
     },
     "metadata": {},
     "output_type": "display_data"
    },
    {
     "data": {
      "application/vnd.jupyter.widget-view+json": {
       "model_id": "f8ed71fa76ad4f3ea628f2edf023ceeb",
       "version_major": 2,
       "version_minor": 0
      },
      "text/plain": [
       "Batches:   0%|          | 0/1 [00:00<?, ?it/s]"
      ]
     },
     "metadata": {},
     "output_type": "display_data"
    },
    {
     "data": {
      "application/vnd.jupyter.widget-view+json": {
       "model_id": "25baf2f6aabb42368a51fe38eb9696de",
       "version_major": 2,
       "version_minor": 0
      },
      "text/plain": [
       "Batches:   0%|          | 0/1 [00:00<?, ?it/s]"
      ]
     },
     "metadata": {},
     "output_type": "display_data"
    },
    {
     "data": {
      "application/vnd.jupyter.widget-view+json": {
       "model_id": "631d234de88f44f29f186557c8f65d57",
       "version_major": 2,
       "version_minor": 0
      },
      "text/plain": [
       "Batches:   0%|          | 0/1 [00:00<?, ?it/s]"
      ]
     },
     "metadata": {},
     "output_type": "display_data"
    },
    {
     "data": {
      "application/vnd.jupyter.widget-view+json": {
       "model_id": "6a5a38bb02514cbf86e48d590479e14f",
       "version_major": 2,
       "version_minor": 0
      },
      "text/plain": [
       "Batches:   0%|          | 0/1 [00:00<?, ?it/s]"
      ]
     },
     "metadata": {},
     "output_type": "display_data"
    },
    {
     "data": {
      "application/vnd.jupyter.widget-view+json": {
       "model_id": "44e46c25a490496b8cb7839abc77d5ef",
       "version_major": 2,
       "version_minor": 0
      },
      "text/plain": [
       "Batches:   0%|          | 0/1 [00:00<?, ?it/s]"
      ]
     },
     "metadata": {},
     "output_type": "display_data"
    },
    {
     "data": {
      "application/vnd.jupyter.widget-view+json": {
       "model_id": "28d324df15a949358c51bee3dd6f49d6",
       "version_major": 2,
       "version_minor": 0
      },
      "text/plain": [
       "Batches:   0%|          | 0/1 [00:00<?, ?it/s]"
      ]
     },
     "metadata": {},
     "output_type": "display_data"
    },
    {
     "data": {
      "application/vnd.jupyter.widget-view+json": {
       "model_id": "7992a7962d6d42f9a62b854c176450b5",
       "version_major": 2,
       "version_minor": 0
      },
      "text/plain": [
       "Batches:   0%|          | 0/1 [00:00<?, ?it/s]"
      ]
     },
     "metadata": {},
     "output_type": "display_data"
    },
    {
     "data": {
      "application/vnd.jupyter.widget-view+json": {
       "model_id": "1c7414ae94624872ab2187265c625a03",
       "version_major": 2,
       "version_minor": 0
      },
      "text/plain": [
       "Batches:   0%|          | 0/1 [00:00<?, ?it/s]"
      ]
     },
     "metadata": {},
     "output_type": "display_data"
    },
    {
     "data": {
      "application/vnd.jupyter.widget-view+json": {
       "model_id": "b43246f8b35448ddba3074865eef4dae",
       "version_major": 2,
       "version_minor": 0
      },
      "text/plain": [
       "Batches:   0%|          | 0/1 [00:00<?, ?it/s]"
      ]
     },
     "metadata": {},
     "output_type": "display_data"
    },
    {
     "data": {
      "application/vnd.jupyter.widget-view+json": {
       "model_id": "3b7e340f53b64cbbb2cc287c41ff71c3",
       "version_major": 2,
       "version_minor": 0
      },
      "text/plain": [
       "Batches:   0%|          | 0/1 [00:00<?, ?it/s]"
      ]
     },
     "metadata": {},
     "output_type": "display_data"
    },
    {
     "data": {
      "application/vnd.jupyter.widget-view+json": {
       "model_id": "61e37c2a16cb48789e8db8520a17291b",
       "version_major": 2,
       "version_minor": 0
      },
      "text/plain": [
       "Batches:   0%|          | 0/1 [00:00<?, ?it/s]"
      ]
     },
     "metadata": {},
     "output_type": "display_data"
    },
    {
     "data": {
      "application/vnd.jupyter.widget-view+json": {
       "model_id": "8a390de14a8a42f084b5ae2228ace2b3",
       "version_major": 2,
       "version_minor": 0
      },
      "text/plain": [
       "Batches:   0%|          | 0/1 [00:00<?, ?it/s]"
      ]
     },
     "metadata": {},
     "output_type": "display_data"
    },
    {
     "data": {
      "application/vnd.jupyter.widget-view+json": {
       "model_id": "98e449fd25f849c497fe727e86872c92",
       "version_major": 2,
       "version_minor": 0
      },
      "text/plain": [
       "Batches:   0%|          | 0/1 [00:00<?, ?it/s]"
      ]
     },
     "metadata": {},
     "output_type": "display_data"
    },
    {
     "data": {
      "application/vnd.jupyter.widget-view+json": {
       "model_id": "509bef51789241a4b4af53aa3cf40b34",
       "version_major": 2,
       "version_minor": 0
      },
      "text/plain": [
       "Batches:   0%|          | 0/1 [00:00<?, ?it/s]"
      ]
     },
     "metadata": {},
     "output_type": "display_data"
    },
    {
     "data": {
      "application/vnd.jupyter.widget-view+json": {
       "model_id": "a4f580e156054344b779a69e6478d54d",
       "version_major": 2,
       "version_minor": 0
      },
      "text/plain": [
       "Batches:   0%|          | 0/1 [00:00<?, ?it/s]"
      ]
     },
     "metadata": {},
     "output_type": "display_data"
    },
    {
     "data": {
      "application/vnd.jupyter.widget-view+json": {
       "model_id": "5738b3ee49024cfa9de2cfefb695d21a",
       "version_major": 2,
       "version_minor": 0
      },
      "text/plain": [
       "Batches:   0%|          | 0/1 [00:00<?, ?it/s]"
      ]
     },
     "metadata": {},
     "output_type": "display_data"
    },
    {
     "data": {
      "application/vnd.jupyter.widget-view+json": {
       "model_id": "0b99449282524394baccbb9453682d0a",
       "version_major": 2,
       "version_minor": 0
      },
      "text/plain": [
       "Batches:   0%|          | 0/1 [00:00<?, ?it/s]"
      ]
     },
     "metadata": {},
     "output_type": "display_data"
    },
    {
     "data": {
      "application/vnd.jupyter.widget-view+json": {
       "model_id": "c1a89435d82242b3ae84c2175a8e80b6",
       "version_major": 2,
       "version_minor": 0
      },
      "text/plain": [
       "Batches:   0%|          | 0/1 [00:00<?, ?it/s]"
      ]
     },
     "metadata": {},
     "output_type": "display_data"
    },
    {
     "data": {
      "application/vnd.jupyter.widget-view+json": {
       "model_id": "d15f5b45d0e2499ea6f4608d2d8ed68f",
       "version_major": 2,
       "version_minor": 0
      },
      "text/plain": [
       "Batches:   0%|          | 0/1 [00:00<?, ?it/s]"
      ]
     },
     "metadata": {},
     "output_type": "display_data"
    },
    {
     "data": {
      "application/vnd.jupyter.widget-view+json": {
       "model_id": "024c745521f843c29db4d822d3028c06",
       "version_major": 2,
       "version_minor": 0
      },
      "text/plain": [
       "Batches:   0%|          | 0/1 [00:00<?, ?it/s]"
      ]
     },
     "metadata": {},
     "output_type": "display_data"
    },
    {
     "data": {
      "application/vnd.jupyter.widget-view+json": {
       "model_id": "c5e875aa18454d5f8b668f507f045360",
       "version_major": 2,
       "version_minor": 0
      },
      "text/plain": [
       "Batches:   0%|          | 0/1 [00:00<?, ?it/s]"
      ]
     },
     "metadata": {},
     "output_type": "display_data"
    },
    {
     "data": {
      "application/vnd.jupyter.widget-view+json": {
       "model_id": "265ac240452e4e4caa1cfeceb41530bc",
       "version_major": 2,
       "version_minor": 0
      },
      "text/plain": [
       "Batches:   0%|          | 0/1 [00:00<?, ?it/s]"
      ]
     },
     "metadata": {},
     "output_type": "display_data"
    },
    {
     "data": {
      "application/vnd.jupyter.widget-view+json": {
       "model_id": "ff8a24ef15a9433e8d4c0f17148cb621",
       "version_major": 2,
       "version_minor": 0
      },
      "text/plain": [
       "Batches:   0%|          | 0/1 [00:00<?, ?it/s]"
      ]
     },
     "metadata": {},
     "output_type": "display_data"
    },
    {
     "data": {
      "application/vnd.jupyter.widget-view+json": {
       "model_id": "fd53b515d74c4f6a9882452634d55149",
       "version_major": 2,
       "version_minor": 0
      },
      "text/plain": [
       "Batches:   0%|          | 0/1 [00:00<?, ?it/s]"
      ]
     },
     "metadata": {},
     "output_type": "display_data"
    },
    {
     "data": {
      "application/vnd.jupyter.widget-view+json": {
       "model_id": "859f4faa77054a368c1f6da10e2f0876",
       "version_major": 2,
       "version_minor": 0
      },
      "text/plain": [
       "Batches:   0%|          | 0/1 [00:00<?, ?it/s]"
      ]
     },
     "metadata": {},
     "output_type": "display_data"
    },
    {
     "data": {
      "application/vnd.jupyter.widget-view+json": {
       "model_id": "d0e428cd6c4f4ce0979183ea1f75026a",
       "version_major": 2,
       "version_minor": 0
      },
      "text/plain": [
       "Batches:   0%|          | 0/1 [00:00<?, ?it/s]"
      ]
     },
     "metadata": {},
     "output_type": "display_data"
    },
    {
     "data": {
      "application/vnd.jupyter.widget-view+json": {
       "model_id": "e52153219c544503b17496f05879b777",
       "version_major": 2,
       "version_minor": 0
      },
      "text/plain": [
       "Batches:   0%|          | 0/1 [00:00<?, ?it/s]"
      ]
     },
     "metadata": {},
     "output_type": "display_data"
    },
    {
     "data": {
      "application/vnd.jupyter.widget-view+json": {
       "model_id": "19d50429936f47f187908e412cf3dc5f",
       "version_major": 2,
       "version_minor": 0
      },
      "text/plain": [
       "Batches:   0%|          | 0/1 [00:00<?, ?it/s]"
      ]
     },
     "metadata": {},
     "output_type": "display_data"
    },
    {
     "data": {
      "text/html": [
       "<div>\n",
       "<style scoped>\n",
       "    .dataframe tbody tr th:only-of-type {\n",
       "        vertical-align: middle;\n",
       "    }\n",
       "\n",
       "    .dataframe tbody tr th {\n",
       "        vertical-align: top;\n",
       "    }\n",
       "\n",
       "    .dataframe thead th {\n",
       "        text-align: right;\n",
       "    }\n",
       "</style>\n",
       "<table border=\"1\" class=\"dataframe\">\n",
       "  <thead>\n",
       "    <tr style=\"text-align: right;\">\n",
       "      <th></th>\n",
       "      <th>endpoint_name</th>\n",
       "      <th>prompt</th>\n",
       "      <th>ground_truth</th>\n",
       "      <th>temperature</th>\n",
       "      <th>max_tokens</th>\n",
       "      <th>top_p</th>\n",
       "      <th>completion</th>\n",
       "      <th>prompt_tokens</th>\n",
       "      <th>completion_tokens</th>\n",
       "      <th>latency</th>\n",
       "      <th>...</th>\n",
       "      <th>uuid</th>\n",
       "      <th>experiment_name</th>\n",
       "      <th>concurrency</th>\n",
       "      <th>instance_type</th>\n",
       "      <th>instance_count</th>\n",
       "      <th>EndpointName</th>\n",
       "      <th>ModelName</th>\n",
       "      <th>Image</th>\n",
       "      <th>S3Uri</th>\n",
       "      <th>cosine_similarity_score</th>\n",
       "    </tr>\n",
       "  </thead>\n",
       "  <tbody>\n",
       "    <tr>\n",
       "      <th>0</th>\n",
       "      <td>mistral.mistral-7b-instruct-v0:2</td>\n",
       "      <td>&lt;s&gt;[INST] &lt;&lt;SYS&gt;&gt;\\nYou are an assistant for qu...</td>\n",
       "      <td>a genus of flowering plant in the Lardizabalac...</td>\n",
       "      <td>0.1</td>\n",
       "      <td>100</td>\n",
       "      <td>0.92</td>\n",
       "      <td>The genera Sinofranchetia and Stauntonia belon...</td>\n",
       "      <td>319</td>\n",
       "      <td>26</td>\n",
       "      <td>0.440897</td>\n",
       "      <td>...</td>\n",
       "      <td>6e77fb90ea804956a115b0268df059b0</td>\n",
       "      <td>mistral.mistral-7b-instruct-v0:2</td>\n",
       "      <td>1</td>\n",
       "      <td>mistral.mistral-7b-instruct-v0:2</td>\n",
       "      <td>1.0</td>\n",
       "      <td>NaN</td>\n",
       "      <td>NaN</td>\n",
       "      <td>NaN</td>\n",
       "      <td>NaN</td>\n",
       "      <td>0.710724</td>\n",
       "    </tr>\n",
       "    <tr>\n",
       "      <th>1</th>\n",
       "      <td>mistral.mistral-7b-instruct-v0:2</td>\n",
       "      <td>&lt;s&gt;[INST] &lt;&lt;SYS&gt;&gt;\\nYou are an assistant for qu...</td>\n",
       "      <td>a genus of flowering plant in the Lardizabalac...</td>\n",
       "      <td>0.1</td>\n",
       "      <td>100</td>\n",
       "      <td>0.92</td>\n",
       "      <td>The genera Sinofranchetia and Stauntonia belon...</td>\n",
       "      <td>319</td>\n",
       "      <td>26</td>\n",
       "      <td>0.450330</td>\n",
       "      <td>...</td>\n",
       "      <td>82d04de71238454a9bbe05f520f22cb0</td>\n",
       "      <td>mistral.mistral-7b-instruct-v0:2</td>\n",
       "      <td>1</td>\n",
       "      <td>mistral.mistral-7b-instruct-v0:2</td>\n",
       "      <td>1.0</td>\n",
       "      <td>NaN</td>\n",
       "      <td>NaN</td>\n",
       "      <td>NaN</td>\n",
       "      <td>NaN</td>\n",
       "      <td>0.710724</td>\n",
       "    </tr>\n",
       "    <tr>\n",
       "      <th>2</th>\n",
       "      <td>mistral.mistral-7b-instruct-v0:2</td>\n",
       "      <td>&lt;s&gt;[INST] &lt;&lt;SYS&gt;&gt;\\nYou are an assistant for qu...</td>\n",
       "      <td>a genus of flowering plant in the Lardizabalac...</td>\n",
       "      <td>0.1</td>\n",
       "      <td>100</td>\n",
       "      <td>0.92</td>\n",
       "      <td>The genera Sinofranchetia and Stauntonia belon...</td>\n",
       "      <td>319</td>\n",
       "      <td>26</td>\n",
       "      <td>0.461762</td>\n",
       "      <td>...</td>\n",
       "      <td>22303e132fb646aa86b938083660dce8</td>\n",
       "      <td>mistral.mistral-7b-instruct-v0:2</td>\n",
       "      <td>1</td>\n",
       "      <td>mistral.mistral-7b-instruct-v0:2</td>\n",
       "      <td>1.0</td>\n",
       "      <td>NaN</td>\n",
       "      <td>NaN</td>\n",
       "      <td>NaN</td>\n",
       "      <td>NaN</td>\n",
       "      <td>0.710724</td>\n",
       "    </tr>\n",
       "    <tr>\n",
       "      <th>3</th>\n",
       "      <td>mistral.mistral-7b-instruct-v0:2</td>\n",
       "      <td>&lt;s&gt;[INST] &lt;&lt;SYS&gt;&gt;\\nYou are an assistant for qu...</td>\n",
       "      <td>a genus of flowering plant in the Lardizabalac...</td>\n",
       "      <td>0.1</td>\n",
       "      <td>100</td>\n",
       "      <td>0.92</td>\n",
       "      <td>The genera Sinofranchetia and Stauntonia belon...</td>\n",
       "      <td>319</td>\n",
       "      <td>26</td>\n",
       "      <td>0.453813</td>\n",
       "      <td>...</td>\n",
       "      <td>715d1d30b18244279ff5c0fbf112f245</td>\n",
       "      <td>mistral.mistral-7b-instruct-v0:2</td>\n",
       "      <td>1</td>\n",
       "      <td>mistral.mistral-7b-instruct-v0:2</td>\n",
       "      <td>1.0</td>\n",
       "      <td>NaN</td>\n",
       "      <td>NaN</td>\n",
       "      <td>NaN</td>\n",
       "      <td>NaN</td>\n",
       "      <td>0.710724</td>\n",
       "    </tr>\n",
       "    <tr>\n",
       "      <th>4</th>\n",
       "      <td>mistral.mistral-7b-instruct-v0:2</td>\n",
       "      <td>&lt;s&gt;[INST] &lt;&lt;SYS&gt;&gt;\\nYou are an assistant for qu...</td>\n",
       "      <td>a genus of flowering plant in the Lardizabalac...</td>\n",
       "      <td>0.1</td>\n",
       "      <td>100</td>\n",
       "      <td>0.92</td>\n",
       "      <td>The genera Sinofranchetia and Stauntonia belon...</td>\n",
       "      <td>319</td>\n",
       "      <td>26</td>\n",
       "      <td>0.435938</td>\n",
       "      <td>...</td>\n",
       "      <td>6ede1f51a3d143f09377dda35107693a</td>\n",
       "      <td>mistral.mistral-7b-instruct-v0:2</td>\n",
       "      <td>1</td>\n",
       "      <td>mistral.mistral-7b-instruct-v0:2</td>\n",
       "      <td>1.0</td>\n",
       "      <td>NaN</td>\n",
       "      <td>NaN</td>\n",
       "      <td>NaN</td>\n",
       "      <td>NaN</td>\n",
       "      <td>0.710724</td>\n",
       "    </tr>\n",
       "  </tbody>\n",
       "</table>\n",
       "<p>5 rows × 23 columns</p>\n",
       "</div>"
      ],
      "text/plain": [
       "                      endpoint_name  \\\n",
       "0  mistral.mistral-7b-instruct-v0:2   \n",
       "1  mistral.mistral-7b-instruct-v0:2   \n",
       "2  mistral.mistral-7b-instruct-v0:2   \n",
       "3  mistral.mistral-7b-instruct-v0:2   \n",
       "4  mistral.mistral-7b-instruct-v0:2   \n",
       "\n",
       "                                              prompt  \\\n",
       "0  <s>[INST] <<SYS>>\\nYou are an assistant for qu...   \n",
       "1  <s>[INST] <<SYS>>\\nYou are an assistant for qu...   \n",
       "2  <s>[INST] <<SYS>>\\nYou are an assistant for qu...   \n",
       "3  <s>[INST] <<SYS>>\\nYou are an assistant for qu...   \n",
       "4  <s>[INST] <<SYS>>\\nYou are an assistant for qu...   \n",
       "\n",
       "                                        ground_truth  temperature  max_tokens  \\\n",
       "0  a genus of flowering plant in the Lardizabalac...          0.1         100   \n",
       "1  a genus of flowering plant in the Lardizabalac...          0.1         100   \n",
       "2  a genus of flowering plant in the Lardizabalac...          0.1         100   \n",
       "3  a genus of flowering plant in the Lardizabalac...          0.1         100   \n",
       "4  a genus of flowering plant in the Lardizabalac...          0.1         100   \n",
       "\n",
       "   top_p                                         completion  prompt_tokens  \\\n",
       "0   0.92  The genera Sinofranchetia and Stauntonia belon...            319   \n",
       "1   0.92  The genera Sinofranchetia and Stauntonia belon...            319   \n",
       "2   0.92  The genera Sinofranchetia and Stauntonia belon...            319   \n",
       "3   0.92  The genera Sinofranchetia and Stauntonia belon...            319   \n",
       "4   0.92  The genera Sinofranchetia and Stauntonia belon...            319   \n",
       "\n",
       "   completion_tokens   latency  ...                              uuid  \\\n",
       "0                 26  0.440897  ...  6e77fb90ea804956a115b0268df059b0   \n",
       "1                 26  0.450330  ...  82d04de71238454a9bbe05f520f22cb0   \n",
       "2                 26  0.461762  ...  22303e132fb646aa86b938083660dce8   \n",
       "3                 26  0.453813  ...  715d1d30b18244279ff5c0fbf112f245   \n",
       "4                 26  0.435938  ...  6ede1f51a3d143f09377dda35107693a   \n",
       "\n",
       "                    experiment_name  concurrency  \\\n",
       "0  mistral.mistral-7b-instruct-v0:2            1   \n",
       "1  mistral.mistral-7b-instruct-v0:2            1   \n",
       "2  mistral.mistral-7b-instruct-v0:2            1   \n",
       "3  mistral.mistral-7b-instruct-v0:2            1   \n",
       "4  mistral.mistral-7b-instruct-v0:2            1   \n",
       "\n",
       "                      instance_type instance_count  EndpointName ModelName  \\\n",
       "0  mistral.mistral-7b-instruct-v0:2            1.0           NaN       NaN   \n",
       "1  mistral.mistral-7b-instruct-v0:2            1.0           NaN       NaN   \n",
       "2  mistral.mistral-7b-instruct-v0:2            1.0           NaN       NaN   \n",
       "3  mistral.mistral-7b-instruct-v0:2            1.0           NaN       NaN   \n",
       "4  mistral.mistral-7b-instruct-v0:2            1.0           NaN       NaN   \n",
       "\n",
       "   Image  S3Uri  cosine_similarity_score  \n",
       "0    NaN    NaN                 0.710724  \n",
       "1    NaN    NaN                 0.710724  \n",
       "2    NaN    NaN                 0.710724  \n",
       "3    NaN    NaN                 0.710724  \n",
       "4    NaN    NaN                 0.710724  \n",
       "\n",
       "[5 rows x 23 columns]"
      ]
     },
     "execution_count": 12,
     "metadata": {},
     "output_type": "execute_result"
    }
   ],
   "source": [
    "# load the embeddings model to calculate the cosine similarity scores\n",
    "model = load_model()\n",
    "\n",
    "\n",
    "def get_cosine_similarity(text1: str, text2: str) -> float:\n",
    "    \"\"\"\n",
    "    This function calculates the cosine similarity between two texts.\n",
    "    \"\"\"\n",
    "    try:\n",
    "        cosine: float = None\n",
    "        # returns the embedding for a given text using the sentence-transformers model.\n",
    "        A = model.encode([text1])[0]\n",
    "        B = model.encode([text2])[0]\n",
    "        cosine = dot(A, B) / (norm(A) * norm(B))\n",
    "    except Exception as e:\n",
    "        logger.error(f\"Cosine similarity was not calculated at this iteration: {e}\")\n",
    "        cosine=None\n",
    "    return cosine\n",
    "\n",
    "\n",
    "# Assuming df_per_inference is your DataFrame\n",
    "df_per_inference['cosine_similarity_score'] = df_per_inference.apply(\n",
    "    lambda row: get_cosine_similarity(row['completion'], row['ground_truth']), axis=1\n",
    ")\n",
    "df_per_inference.head()"
   ]
  },
  {
   "cell_type": "code",
   "execution_count": 13,
   "metadata": {
    "tags": []
   },
   "outputs": [
    {
     "name": "stderr",
     "output_type": "stream",
     "text": [
      "[2024-07-12 16:36:34,492] p27460 {100736689.py:15} INFO - Per inference cosine similarity scores saved to s3://sagemaker-fmbench-write-us-west-2-387192758086/fmbench-bedrock-fmbench-stack-us-west-2-role/data/metrics/yyyy=2024/mm=07/dd=12/hh=16/mm=35/per_inference_cosine_similarity.csv\n"
     ]
    },
    {
     "data": {
      "text/html": [
       "<div>\n",
       "<style scoped>\n",
       "    .dataframe tbody tr th:only-of-type {\n",
       "        vertical-align: middle;\n",
       "    }\n",
       "\n",
       "    .dataframe tbody tr th {\n",
       "        vertical-align: top;\n",
       "    }\n",
       "\n",
       "    .dataframe thead th {\n",
       "        text-align: right;\n",
       "    }\n",
       "</style>\n",
       "<table border=\"1\" class=\"dataframe\">\n",
       "  <thead>\n",
       "    <tr style=\"text-align: right;\">\n",
       "      <th></th>\n",
       "      <th>endpoint_name</th>\n",
       "      <th>prompt</th>\n",
       "      <th>ground_truth</th>\n",
       "      <th>temperature</th>\n",
       "      <th>max_tokens</th>\n",
       "      <th>top_p</th>\n",
       "      <th>completion</th>\n",
       "      <th>prompt_tokens</th>\n",
       "      <th>completion_tokens</th>\n",
       "      <th>latency</th>\n",
       "      <th>...</th>\n",
       "      <th>uuid</th>\n",
       "      <th>experiment_name</th>\n",
       "      <th>concurrency</th>\n",
       "      <th>instance_type</th>\n",
       "      <th>instance_count</th>\n",
       "      <th>EndpointName</th>\n",
       "      <th>ModelName</th>\n",
       "      <th>Image</th>\n",
       "      <th>S3Uri</th>\n",
       "      <th>cosine_similarity_score</th>\n",
       "    </tr>\n",
       "  </thead>\n",
       "  <tbody>\n",
       "    <tr>\n",
       "      <th>0</th>\n",
       "      <td>mistral.mistral-7b-instruct-v0:2</td>\n",
       "      <td>&lt;s&gt;[INST] &lt;&lt;SYS&gt;&gt;\\nYou are an assistant for qu...</td>\n",
       "      <td>a genus of flowering plant in the Lardizabalac...</td>\n",
       "      <td>0.1</td>\n",
       "      <td>100</td>\n",
       "      <td>0.92</td>\n",
       "      <td>The genera Sinofranchetia and Stauntonia belon...</td>\n",
       "      <td>319</td>\n",
       "      <td>26</td>\n",
       "      <td>0.440897</td>\n",
       "      <td>...</td>\n",
       "      <td>6e77fb90ea804956a115b0268df059b0</td>\n",
       "      <td>mistral.mistral-7b-instruct-v0:2</td>\n",
       "      <td>1</td>\n",
       "      <td>mistral.mistral-7b-instruct-v0:2</td>\n",
       "      <td>1.0</td>\n",
       "      <td>NaN</td>\n",
       "      <td>NaN</td>\n",
       "      <td>NaN</td>\n",
       "      <td>NaN</td>\n",
       "      <td>0.710724</td>\n",
       "    </tr>\n",
       "    <tr>\n",
       "      <th>1</th>\n",
       "      <td>mistral.mistral-7b-instruct-v0:2</td>\n",
       "      <td>&lt;s&gt;[INST] &lt;&lt;SYS&gt;&gt;\\nYou are an assistant for qu...</td>\n",
       "      <td>a genus of flowering plant in the Lardizabalac...</td>\n",
       "      <td>0.1</td>\n",
       "      <td>100</td>\n",
       "      <td>0.92</td>\n",
       "      <td>The genera Sinofranchetia and Stauntonia belon...</td>\n",
       "      <td>319</td>\n",
       "      <td>26</td>\n",
       "      <td>0.450330</td>\n",
       "      <td>...</td>\n",
       "      <td>82d04de71238454a9bbe05f520f22cb0</td>\n",
       "      <td>mistral.mistral-7b-instruct-v0:2</td>\n",
       "      <td>1</td>\n",
       "      <td>mistral.mistral-7b-instruct-v0:2</td>\n",
       "      <td>1.0</td>\n",
       "      <td>NaN</td>\n",
       "      <td>NaN</td>\n",
       "      <td>NaN</td>\n",
       "      <td>NaN</td>\n",
       "      <td>0.710724</td>\n",
       "    </tr>\n",
       "    <tr>\n",
       "      <th>2</th>\n",
       "      <td>mistral.mistral-7b-instruct-v0:2</td>\n",
       "      <td>&lt;s&gt;[INST] &lt;&lt;SYS&gt;&gt;\\nYou are an assistant for qu...</td>\n",
       "      <td>a genus of flowering plant in the Lardizabalac...</td>\n",
       "      <td>0.1</td>\n",
       "      <td>100</td>\n",
       "      <td>0.92</td>\n",
       "      <td>The genera Sinofranchetia and Stauntonia belon...</td>\n",
       "      <td>319</td>\n",
       "      <td>26</td>\n",
       "      <td>0.461762</td>\n",
       "      <td>...</td>\n",
       "      <td>22303e132fb646aa86b938083660dce8</td>\n",
       "      <td>mistral.mistral-7b-instruct-v0:2</td>\n",
       "      <td>1</td>\n",
       "      <td>mistral.mistral-7b-instruct-v0:2</td>\n",
       "      <td>1.0</td>\n",
       "      <td>NaN</td>\n",
       "      <td>NaN</td>\n",
       "      <td>NaN</td>\n",
       "      <td>NaN</td>\n",
       "      <td>0.710724</td>\n",
       "    </tr>\n",
       "    <tr>\n",
       "      <th>3</th>\n",
       "      <td>mistral.mistral-7b-instruct-v0:2</td>\n",
       "      <td>&lt;s&gt;[INST] &lt;&lt;SYS&gt;&gt;\\nYou are an assistant for qu...</td>\n",
       "      <td>a genus of flowering plant in the Lardizabalac...</td>\n",
       "      <td>0.1</td>\n",
       "      <td>100</td>\n",
       "      <td>0.92</td>\n",
       "      <td>The genera Sinofranchetia and Stauntonia belon...</td>\n",
       "      <td>319</td>\n",
       "      <td>26</td>\n",
       "      <td>0.453813</td>\n",
       "      <td>...</td>\n",
       "      <td>715d1d30b18244279ff5c0fbf112f245</td>\n",
       "      <td>mistral.mistral-7b-instruct-v0:2</td>\n",
       "      <td>1</td>\n",
       "      <td>mistral.mistral-7b-instruct-v0:2</td>\n",
       "      <td>1.0</td>\n",
       "      <td>NaN</td>\n",
       "      <td>NaN</td>\n",
       "      <td>NaN</td>\n",
       "      <td>NaN</td>\n",
       "      <td>0.710724</td>\n",
       "    </tr>\n",
       "    <tr>\n",
       "      <th>4</th>\n",
       "      <td>mistral.mistral-7b-instruct-v0:2</td>\n",
       "      <td>&lt;s&gt;[INST] &lt;&lt;SYS&gt;&gt;\\nYou are an assistant for qu...</td>\n",
       "      <td>a genus of flowering plant in the Lardizabalac...</td>\n",
       "      <td>0.1</td>\n",
       "      <td>100</td>\n",
       "      <td>0.92</td>\n",
       "      <td>The genera Sinofranchetia and Stauntonia belon...</td>\n",
       "      <td>319</td>\n",
       "      <td>26</td>\n",
       "      <td>0.435938</td>\n",
       "      <td>...</td>\n",
       "      <td>6ede1f51a3d143f09377dda35107693a</td>\n",
       "      <td>mistral.mistral-7b-instruct-v0:2</td>\n",
       "      <td>1</td>\n",
       "      <td>mistral.mistral-7b-instruct-v0:2</td>\n",
       "      <td>1.0</td>\n",
       "      <td>NaN</td>\n",
       "      <td>NaN</td>\n",
       "      <td>NaN</td>\n",
       "      <td>NaN</td>\n",
       "      <td>0.710724</td>\n",
       "    </tr>\n",
       "  </tbody>\n",
       "</table>\n",
       "<p>5 rows × 23 columns</p>\n",
       "</div>"
      ],
      "text/plain": [
       "                      endpoint_name  \\\n",
       "0  mistral.mistral-7b-instruct-v0:2   \n",
       "1  mistral.mistral-7b-instruct-v0:2   \n",
       "2  mistral.mistral-7b-instruct-v0:2   \n",
       "3  mistral.mistral-7b-instruct-v0:2   \n",
       "4  mistral.mistral-7b-instruct-v0:2   \n",
       "\n",
       "                                              prompt  \\\n",
       "0  <s>[INST] <<SYS>>\\nYou are an assistant for qu...   \n",
       "1  <s>[INST] <<SYS>>\\nYou are an assistant for qu...   \n",
       "2  <s>[INST] <<SYS>>\\nYou are an assistant for qu...   \n",
       "3  <s>[INST] <<SYS>>\\nYou are an assistant for qu...   \n",
       "4  <s>[INST] <<SYS>>\\nYou are an assistant for qu...   \n",
       "\n",
       "                                        ground_truth  temperature  max_tokens  \\\n",
       "0  a genus of flowering plant in the Lardizabalac...          0.1         100   \n",
       "1  a genus of flowering plant in the Lardizabalac...          0.1         100   \n",
       "2  a genus of flowering plant in the Lardizabalac...          0.1         100   \n",
       "3  a genus of flowering plant in the Lardizabalac...          0.1         100   \n",
       "4  a genus of flowering plant in the Lardizabalac...          0.1         100   \n",
       "\n",
       "   top_p                                         completion  prompt_tokens  \\\n",
       "0   0.92  The genera Sinofranchetia and Stauntonia belon...            319   \n",
       "1   0.92  The genera Sinofranchetia and Stauntonia belon...            319   \n",
       "2   0.92  The genera Sinofranchetia and Stauntonia belon...            319   \n",
       "3   0.92  The genera Sinofranchetia and Stauntonia belon...            319   \n",
       "4   0.92  The genera Sinofranchetia and Stauntonia belon...            319   \n",
       "\n",
       "   completion_tokens   latency  ...                              uuid  \\\n",
       "0                 26  0.440897  ...  6e77fb90ea804956a115b0268df059b0   \n",
       "1                 26  0.450330  ...  82d04de71238454a9bbe05f520f22cb0   \n",
       "2                 26  0.461762  ...  22303e132fb646aa86b938083660dce8   \n",
       "3                 26  0.453813  ...  715d1d30b18244279ff5c0fbf112f245   \n",
       "4                 26  0.435938  ...  6ede1f51a3d143f09377dda35107693a   \n",
       "\n",
       "                    experiment_name  concurrency  \\\n",
       "0  mistral.mistral-7b-instruct-v0:2            1   \n",
       "1  mistral.mistral-7b-instruct-v0:2            1   \n",
       "2  mistral.mistral-7b-instruct-v0:2            1   \n",
       "3  mistral.mistral-7b-instruct-v0:2            1   \n",
       "4  mistral.mistral-7b-instruct-v0:2            1   \n",
       "\n",
       "                      instance_type instance_count  EndpointName ModelName  \\\n",
       "0  mistral.mistral-7b-instruct-v0:2            1.0           NaN       NaN   \n",
       "1  mistral.mistral-7b-instruct-v0:2            1.0           NaN       NaN   \n",
       "2  mistral.mistral-7b-instruct-v0:2            1.0           NaN       NaN   \n",
       "3  mistral.mistral-7b-instruct-v0:2            1.0           NaN       NaN   \n",
       "4  mistral.mistral-7b-instruct-v0:2            1.0           NaN       NaN   \n",
       "\n",
       "   Image  S3Uri  cosine_similarity_score  \n",
       "0    NaN    NaN                 0.710724  \n",
       "1    NaN    NaN                 0.710724  \n",
       "2    NaN    NaN                 0.710724  \n",
       "3    NaN    NaN                 0.710724  \n",
       "4    NaN    NaN                 0.710724  \n",
       "\n",
       "[5 rows x 23 columns]"
      ]
     },
     "execution_count": 13,
     "metadata": {},
     "output_type": "execute_result"
    }
   ],
   "source": [
    "# define the all_metrics path to send the evaluation metrics to\n",
    "all_metrics_fpath = os.path.join(METRICS_DIR, config[\"report\"][\"all_metrics_file\"])\n",
    "\n",
    "csv_buffer = io.StringIO()\n",
    "df_per_inference.to_csv(csv_buffer, index=False)\n",
    "df_per_inference_with_cosine_similarity_scores_csv = csv_buffer.getvalue()\n",
    "\n",
    "# Define the file name for S3 based on the original file path\n",
    "df_per_inference_with_cosine_similarity_scores_csv = all_metrics_fpath.replace(\"all_metrics\", \"all_metrics_summary\").split('/')[-1] \n",
    "inference_cosine_similarity_scores_s3_path = os.path.join(METRICS_DIR, PER_INFERENCE_FILE_WITH_COSINE_SIMILARITY_SCORES)  # Define full S3 path\n",
    "\n",
    "# Write the CSV data to S3\n",
    "write_to_s3(df_per_inference_with_cosine_similarity_scores_csv, BUCKET_NAME, \"\", \n",
    "            METRICS_DIR, PER_INFERENCE_FILE_WITH_COSINE_SIMILARITY_SCORES)\n",
    "logger.info(f\"Per inference cosine similarity scores saved to s3://{BUCKET_NAME}/{inference_cosine_similarity_scores_s3_path}\")\n",
    "\n",
    "df_per_inference.head()"
   ]
  },
  {
   "cell_type": "markdown",
   "metadata": {},
   "source": [
    "### Use _Panel of LLM Evaluators_ to get Subjective Evaluations on various evaluation criteria\n",
    "---\n",
    "\n",
    "In this portion of the notebook, we run evaluations on the content generated by different candidate models. We use two main evaluation methods: `Max Voting` and `Average Pooling`. To eliminate intra-model bias, we address this by scoring answer correctness based not on a single judge, but instead on a panel composed of multiple evaluator models. Similar pooling techniques are used to reduce variance in human annotations by normalizing out both natural variation in human judgements caused by their own subjective biases as well as human error. We use the following two techniques:\n",
    "\n",
    "1. **Max Voting**: We use the PoLL to evaluate candidate model responses by checking its correctness compared to a provided ground truth answer in the dataset. We prompt each PoLL to evaluate and give the response in a JSON structure, giving a verdict on whether the response is correct or incorrect, and an explanation as to why that is. Using this, we can perform downstream analytics such as: \n",
    "\n",
    "    1. Calculate the overall accuracy of each model using the correct versus the (correct + incorrect) responses\n",
    "    \n",
    "    1. Calculate the `error rate` or frequency or incorrect responses\n",
    "    \n",
    "    1. Categorize the errors based on the explanations provided by the evaluators. Common categories might include misunderstanding the question, incomplete answers, factual inaccuracies\n",
    "    \n",
    "    1. Summary of overall correct/incorrect, and the best model based on the PoLL. Rank the models on Correctness versus Incorrectness.\n",
    "\n",
    "1. **Average Pooling**: We use the PoLL to rate the response of each candidate model on a more subjective criteria. Here, we have the candidate model responses rated on a scale of 1-5 based on the subjective criteria and then get an explanation to that. Using this we can do as follows:\n",
    "\n",
    "    1. Calculate the average score for each model across all questions to get an overall performance measure.\n",
    "    \n",
    "    1. Compute the standard deviation of the scores to understand the consistency of the model's performance.\n",
    "\n",
    "1. Towards the end of all evaluations, a final layer of evaluation is added at the end. This layer utilizes another LLM that acts as a final summarizer. It takes in the ratings, answers generated from each unique model that was used in inference, to give a list of trends, overall patterns and observations as to which model is suited for a given task for a given dataset."
   ]
  },
  {
   "cell_type": "code",
   "execution_count": 14,
   "metadata": {
    "tags": []
   },
   "outputs": [
    {
     "name": "stderr",
     "output_type": "stream",
     "text": [
      "[2024-07-12 16:36:34,505] p27460 {474703826.py:5} INFO - available llm as a judge evaluation information to use: {\n",
      "  \"judge_panel_list\": [\n",
      "    {\n",
      "      \"model_id\": \"anthropic.claude-3-haiku-20240307-v1:0\",\n",
      "      \"eval_prompt_template_dir\": \"claude_eval_prompt_templates\",\n",
      "      \"eval_prompt_template_name_prefix\": \"claude_eval\"\n",
      "    },\n",
      "    {\n",
      "      \"model_id\": \"meta.llama3-70b-instruct-v1:0\",\n",
      "      \"eval_prompt_template_dir\": \"llama3_eval_prompt_templates\",\n",
      "      \"eval_prompt_template_name_prefix\": \"llama3_eval\"\n",
      "    },\n",
      "    {\n",
      "      \"model_id\": \"cohere.command-r-v1:0\",\n",
      "      \"eval_prompt_template_dir\": \"cohere_eval_prompt_templates\",\n",
      "      \"eval_prompt_template_name_prefix\": \"cohere_eval\"\n",
      "    }\n",
      "  ],\n",
      "  \"inference_parameters\": {\n",
      "    \"temperature\": 0.1,\n",
      "    \"max_tokens\": 300,\n",
      "    \"top_p\": 0.92,\n",
      "    \"caching\": false\n",
      "  },\n",
      "  \"run_parallel_inference_count\": 10\n",
      "}\n"
     ]
    }
   ],
   "source": [
    "# get the qualitative/subjective evaluation information from the config file to evaluate answers from different\n",
    "# endpoints on various criteria\n",
    "model_eval_subjective_info: Dict = config['model_evaluations']['subjective_eval_info']\n",
    "eval_criteria_list = model_eval_subjective_info.get('eval_criteria', None)\n",
    "logger.info(f\"available llm as a judge evaluation information to use: {json.dumps(model_eval_subjective_info, indent=2)}\")"
   ]
  },
  {
   "cell_type": "code",
   "execution_count": 15,
   "metadata": {
    "tags": []
   },
   "outputs": [],
   "source": [
    "# get the inference parameters that the LLM judge panel will use while evaluating model candidate responses\n",
    "INFERENCE_PARAMETERS_LLM_PANEL: Dict = config['model_evaluations']['subjective_eval_info'].get('inference_parameters', None)"
   ]
  },
  {
   "cell_type": "code",
   "execution_count": 16,
   "metadata": {
    "tags": []
   },
   "outputs": [],
   "source": [
    "def get_inference(model_id: str,\n",
    "                  prompt: str):\n",
    "    \"\"\"\n",
    "    Get inference using LiteLLM. This get's inference on the answers provided and evaluates each\n",
    "    answer based on a given evaluation prompt template and the specific set of rules for each\n",
    "    evaluation criteria.\n",
    "    \"\"\"\n",
    "    # represents the service name\n",
    "    print(f\"get_inference, model_id={model_id}\")\n",
    "    service_name: str = \"bedrock\"\n",
    "    # represents creating the bedrock model to invoke the litellm api for response for titan, llama and claude\n",
    "    bedrock_model: str = f\"{service_name}/{model_id}\"\n",
    "    # represents the current aws region\n",
    "    aws_region = boto3.Session().region_name \n",
    "    # initialize the response dict\n",
    "    ret = dict(exception=None,\n",
    "               prompt=prompt,\n",
    "               completion=None,\n",
    "               completion_token_count=None,\n",
    "               prompt_token_count=None,\n",
    "               model_id=model_id)\n",
    "    body = ret['prompt']\n",
    "    os.environ[\"AWS_REGION_NAME\"] = aws_region\n",
    "    try:\n",
    "        # Represents calling the litellm completion/messaging api utilizing the completion/embeddings API\n",
    "        print(f\"Invoking {bedrock_model}......\")\n",
    "        response = completion(model=bedrock_model,\n",
    "                              messages=[{\"content\": body,\"role\": \"user\"}],\n",
    "                              temperature=INFERENCE_PARAMETERS_LLM_PANEL.get('temperature', 0.1),\n",
    "                              max_tokens=INFERENCE_PARAMETERS_LLM_PANEL.get('max_tokens', 100),\n",
    "                              caching=INFERENCE_PARAMETERS_LLM_PANEL.get('caching', False))\n",
    "        # iterate through the entire model response\n",
    "        for idx, choice in enumerate(response.choices):\n",
    "            # extract the message and the message's content from litellm\n",
    "            if choice.message and choice.message.content:\n",
    "                # extract the response from the dict\n",
    "                ret[\"completion\"] = choice.message.content.strip()\n",
    "        # Extract number of input and completion prompt tokens        \n",
    "        ret['prompt_token_count'] = response.usage.prompt_tokens\n",
    "        ret['completion_token_count'] = response.usage.completion_tokens\n",
    "    except Exception as e:\n",
    "        logger.error(f\"Exception occurred during invoking {model_id}, exception={e}\")\n",
    "        ret['exception'] = e\n",
    "    logger.info(f\"completion: {ret['completion']}\")\n",
    "    return ret"
   ]
  },
  {
   "cell_type": "code",
   "execution_count": 17,
   "metadata": {
    "tags": []
   },
   "outputs": [],
   "source": [
    "def safe_filename(s):\n",
    "    \"\"\"\n",
    "    convert a string to another string that can be used as a filename\n",
    "    i.e. remove white space and non-word chars\n",
    "    \"\"\"\n",
    "    if s is None:\n",
    "        return \"None\"\n",
    "    # Remove all non-word characters (everything except numbers and letters)\n",
    "    s = re.sub(r\"[^\\w\\s]\", '', s)\n",
    "\n",
    "    # Replace all runs of whitespace with a single dash\n",
    "    s = re.sub(r\"\\s+\", '-', s)\n",
    "\n",
    "    return s"
   ]
  },
  {
   "cell_type": "code",
   "execution_count": 18,
   "metadata": {
    "tags": []
   },
   "outputs": [],
   "source": [
    "def parse_as_json(x: str) -> Optional[Dict]:\n",
    "    \"\"\"\n",
    "    Convert a string into a dictionary. Remove any\n",
    "    stray whitespaces which could break the json parsing\n",
    "    \"\"\"\n",
    "    d: Optional[Dict] = None\n",
    "    try:\n",
    "        x = x.replace(\"\\n\", \"\").replace(\"\\t\", \"\")\n",
    "        d = json.loads(x)\n",
    "    except Exception as e:\n",
    "        print(f\"parse_as_json, error parsing string as json, string={x}\")\n",
    "    return d"
   ]
  },
  {
   "cell_type": "markdown",
   "metadata": {},
   "source": [
    "### Read the latest dataframe and run LLM as a judge evaluations on it"
   ]
  },
  {
   "cell_type": "code",
   "execution_count": 19,
   "metadata": {
    "tags": []
   },
   "outputs": [
    {
     "data": {
      "text/html": [
       "<div>\n",
       "<style scoped>\n",
       "    .dataframe tbody tr th:only-of-type {\n",
       "        vertical-align: middle;\n",
       "    }\n",
       "\n",
       "    .dataframe tbody tr th {\n",
       "        vertical-align: top;\n",
       "    }\n",
       "\n",
       "    .dataframe thead th {\n",
       "        text-align: right;\n",
       "    }\n",
       "</style>\n",
       "<table border=\"1\" class=\"dataframe\">\n",
       "  <thead>\n",
       "    <tr style=\"text-align: right;\">\n",
       "      <th></th>\n",
       "      <th>endpoint_name</th>\n",
       "      <th>prompt</th>\n",
       "      <th>ground_truth</th>\n",
       "      <th>temperature</th>\n",
       "      <th>max_tokens</th>\n",
       "      <th>top_p</th>\n",
       "      <th>completion</th>\n",
       "      <th>prompt_tokens</th>\n",
       "      <th>completion_tokens</th>\n",
       "      <th>latency</th>\n",
       "      <th>...</th>\n",
       "      <th>uuid</th>\n",
       "      <th>experiment_name</th>\n",
       "      <th>concurrency</th>\n",
       "      <th>instance_type</th>\n",
       "      <th>instance_count</th>\n",
       "      <th>EndpointName</th>\n",
       "      <th>ModelName</th>\n",
       "      <th>Image</th>\n",
       "      <th>S3Uri</th>\n",
       "      <th>cosine_similarity_score</th>\n",
       "    </tr>\n",
       "  </thead>\n",
       "  <tbody>\n",
       "    <tr>\n",
       "      <th>0</th>\n",
       "      <td>mistral.mistral-7b-instruct-v0:2</td>\n",
       "      <td>&lt;s&gt;[INST] &lt;&lt;SYS&gt;&gt;\\nYou are an assistant for qu...</td>\n",
       "      <td>a genus of flowering plant in the Lardizabalac...</td>\n",
       "      <td>0.1</td>\n",
       "      <td>100</td>\n",
       "      <td>0.92</td>\n",
       "      <td>The genera Sinofranchetia and Stauntonia belon...</td>\n",
       "      <td>319</td>\n",
       "      <td>26</td>\n",
       "      <td>0.440897</td>\n",
       "      <td>...</td>\n",
       "      <td>6e77fb90ea804956a115b0268df059b0</td>\n",
       "      <td>mistral.mistral-7b-instruct-v0:2</td>\n",
       "      <td>1</td>\n",
       "      <td>mistral.mistral-7b-instruct-v0:2</td>\n",
       "      <td>1.0</td>\n",
       "      <td>NaN</td>\n",
       "      <td>NaN</td>\n",
       "      <td>NaN</td>\n",
       "      <td>NaN</td>\n",
       "      <td>0.710724</td>\n",
       "    </tr>\n",
       "    <tr>\n",
       "      <th>1</th>\n",
       "      <td>mistral.mistral-7b-instruct-v0:2</td>\n",
       "      <td>&lt;s&gt;[INST] &lt;&lt;SYS&gt;&gt;\\nYou are an assistant for qu...</td>\n",
       "      <td>a genus of flowering plant in the Lardizabalac...</td>\n",
       "      <td>0.1</td>\n",
       "      <td>100</td>\n",
       "      <td>0.92</td>\n",
       "      <td>The genera Sinofranchetia and Stauntonia belon...</td>\n",
       "      <td>319</td>\n",
       "      <td>26</td>\n",
       "      <td>0.450330</td>\n",
       "      <td>...</td>\n",
       "      <td>82d04de71238454a9bbe05f520f22cb0</td>\n",
       "      <td>mistral.mistral-7b-instruct-v0:2</td>\n",
       "      <td>1</td>\n",
       "      <td>mistral.mistral-7b-instruct-v0:2</td>\n",
       "      <td>1.0</td>\n",
       "      <td>NaN</td>\n",
       "      <td>NaN</td>\n",
       "      <td>NaN</td>\n",
       "      <td>NaN</td>\n",
       "      <td>0.710724</td>\n",
       "    </tr>\n",
       "    <tr>\n",
       "      <th>2</th>\n",
       "      <td>mistral.mistral-7b-instruct-v0:2</td>\n",
       "      <td>&lt;s&gt;[INST] &lt;&lt;SYS&gt;&gt;\\nYou are an assistant for qu...</td>\n",
       "      <td>a genus of flowering plant in the Lardizabalac...</td>\n",
       "      <td>0.1</td>\n",
       "      <td>100</td>\n",
       "      <td>0.92</td>\n",
       "      <td>The genera Sinofranchetia and Stauntonia belon...</td>\n",
       "      <td>319</td>\n",
       "      <td>26</td>\n",
       "      <td>0.461762</td>\n",
       "      <td>...</td>\n",
       "      <td>22303e132fb646aa86b938083660dce8</td>\n",
       "      <td>mistral.mistral-7b-instruct-v0:2</td>\n",
       "      <td>1</td>\n",
       "      <td>mistral.mistral-7b-instruct-v0:2</td>\n",
       "      <td>1.0</td>\n",
       "      <td>NaN</td>\n",
       "      <td>NaN</td>\n",
       "      <td>NaN</td>\n",
       "      <td>NaN</td>\n",
       "      <td>0.710724</td>\n",
       "    </tr>\n",
       "    <tr>\n",
       "      <th>3</th>\n",
       "      <td>mistral.mistral-7b-instruct-v0:2</td>\n",
       "      <td>&lt;s&gt;[INST] &lt;&lt;SYS&gt;&gt;\\nYou are an assistant for qu...</td>\n",
       "      <td>a genus of flowering plant in the Lardizabalac...</td>\n",
       "      <td>0.1</td>\n",
       "      <td>100</td>\n",
       "      <td>0.92</td>\n",
       "      <td>The genera Sinofranchetia and Stauntonia belon...</td>\n",
       "      <td>319</td>\n",
       "      <td>26</td>\n",
       "      <td>0.453813</td>\n",
       "      <td>...</td>\n",
       "      <td>715d1d30b18244279ff5c0fbf112f245</td>\n",
       "      <td>mistral.mistral-7b-instruct-v0:2</td>\n",
       "      <td>1</td>\n",
       "      <td>mistral.mistral-7b-instruct-v0:2</td>\n",
       "      <td>1.0</td>\n",
       "      <td>NaN</td>\n",
       "      <td>NaN</td>\n",
       "      <td>NaN</td>\n",
       "      <td>NaN</td>\n",
       "      <td>0.710724</td>\n",
       "    </tr>\n",
       "    <tr>\n",
       "      <th>4</th>\n",
       "      <td>mistral.mistral-7b-instruct-v0:2</td>\n",
       "      <td>&lt;s&gt;[INST] &lt;&lt;SYS&gt;&gt;\\nYou are an assistant for qu...</td>\n",
       "      <td>a genus of flowering plant in the Lardizabalac...</td>\n",
       "      <td>0.1</td>\n",
       "      <td>100</td>\n",
       "      <td>0.92</td>\n",
       "      <td>The genera Sinofranchetia and Stauntonia belon...</td>\n",
       "      <td>319</td>\n",
       "      <td>26</td>\n",
       "      <td>0.435938</td>\n",
       "      <td>...</td>\n",
       "      <td>6ede1f51a3d143f09377dda35107693a</td>\n",
       "      <td>mistral.mistral-7b-instruct-v0:2</td>\n",
       "      <td>1</td>\n",
       "      <td>mistral.mistral-7b-instruct-v0:2</td>\n",
       "      <td>1.0</td>\n",
       "      <td>NaN</td>\n",
       "      <td>NaN</td>\n",
       "      <td>NaN</td>\n",
       "      <td>NaN</td>\n",
       "      <td>0.710724</td>\n",
       "    </tr>\n",
       "  </tbody>\n",
       "</table>\n",
       "<p>5 rows × 23 columns</p>\n",
       "</div>"
      ],
      "text/plain": [
       "                      endpoint_name  \\\n",
       "0  mistral.mistral-7b-instruct-v0:2   \n",
       "1  mistral.mistral-7b-instruct-v0:2   \n",
       "2  mistral.mistral-7b-instruct-v0:2   \n",
       "3  mistral.mistral-7b-instruct-v0:2   \n",
       "4  mistral.mistral-7b-instruct-v0:2   \n",
       "\n",
       "                                              prompt  \\\n",
       "0  <s>[INST] <<SYS>>\\nYou are an assistant for qu...   \n",
       "1  <s>[INST] <<SYS>>\\nYou are an assistant for qu...   \n",
       "2  <s>[INST] <<SYS>>\\nYou are an assistant for qu...   \n",
       "3  <s>[INST] <<SYS>>\\nYou are an assistant for qu...   \n",
       "4  <s>[INST] <<SYS>>\\nYou are an assistant for qu...   \n",
       "\n",
       "                                        ground_truth  temperature  max_tokens  \\\n",
       "0  a genus of flowering plant in the Lardizabalac...          0.1         100   \n",
       "1  a genus of flowering plant in the Lardizabalac...          0.1         100   \n",
       "2  a genus of flowering plant in the Lardizabalac...          0.1         100   \n",
       "3  a genus of flowering plant in the Lardizabalac...          0.1         100   \n",
       "4  a genus of flowering plant in the Lardizabalac...          0.1         100   \n",
       "\n",
       "   top_p                                         completion  prompt_tokens  \\\n",
       "0   0.92  The genera Sinofranchetia and Stauntonia belon...            319   \n",
       "1   0.92  The genera Sinofranchetia and Stauntonia belon...            319   \n",
       "2   0.92  The genera Sinofranchetia and Stauntonia belon...            319   \n",
       "3   0.92  The genera Sinofranchetia and Stauntonia belon...            319   \n",
       "4   0.92  The genera Sinofranchetia and Stauntonia belon...            319   \n",
       "\n",
       "   completion_tokens   latency  ...                              uuid  \\\n",
       "0                 26  0.440897  ...  6e77fb90ea804956a115b0268df059b0   \n",
       "1                 26  0.450330  ...  82d04de71238454a9bbe05f520f22cb0   \n",
       "2                 26  0.461762  ...  22303e132fb646aa86b938083660dce8   \n",
       "3                 26  0.453813  ...  715d1d30b18244279ff5c0fbf112f245   \n",
       "4                 26  0.435938  ...  6ede1f51a3d143f09377dda35107693a   \n",
       "\n",
       "                    experiment_name  concurrency  \\\n",
       "0  mistral.mistral-7b-instruct-v0:2            1   \n",
       "1  mistral.mistral-7b-instruct-v0:2            1   \n",
       "2  mistral.mistral-7b-instruct-v0:2            1   \n",
       "3  mistral.mistral-7b-instruct-v0:2            1   \n",
       "4  mistral.mistral-7b-instruct-v0:2            1   \n",
       "\n",
       "                      instance_type instance_count  EndpointName ModelName  \\\n",
       "0  mistral.mistral-7b-instruct-v0:2            1.0           NaN       NaN   \n",
       "1  mistral.mistral-7b-instruct-v0:2            1.0           NaN       NaN   \n",
       "2  mistral.mistral-7b-instruct-v0:2            1.0           NaN       NaN   \n",
       "3  mistral.mistral-7b-instruct-v0:2            1.0           NaN       NaN   \n",
       "4  mistral.mistral-7b-instruct-v0:2            1.0           NaN       NaN   \n",
       "\n",
       "   Image  S3Uri  cosine_similarity_score  \n",
       "0    NaN    NaN                 0.710724  \n",
       "1    NaN    NaN                 0.710724  \n",
       "2    NaN    NaN                 0.710724  \n",
       "3    NaN    NaN                 0.710724  \n",
       "4    NaN    NaN                 0.710724  \n",
       "\n",
       "[5 rows x 23 columns]"
      ]
     },
     "execution_count": 19,
     "metadata": {},
     "output_type": "execute_result"
    }
   ],
   "source": [
    "df_per_inference.head()"
   ]
  },
  {
   "cell_type": "markdown",
   "metadata": {},
   "source": [
    "### Prepare the evaluation prompt payloads\n",
    "---\n",
    "\n",
    "Here, the evaluation prompt template is used by the LLM judge to evaluate the answers on different criteria.\n",
    "This prompt template function uses a set of rules, prompt template, the answer, and ground truth (if any) in the\n",
    "evaluation solution"
   ]
  },
  {
   "cell_type": "code",
   "execution_count": 20,
   "metadata": {
    "tags": []
   },
   "outputs": [],
   "source": [
    "def prepare_eval_prompts(eval_template: str,\n",
    "                         answer: str, \n",
    "                         rules: str, \n",
    "                         context: str, \n",
    "                         ground_truth: Optional[str]):\n",
    "    \"\"\"\n",
    "    This function prepares the evaluation prompts by preparing the standard eval prompt template\n",
    "    with the rules of a given subjective criteria, context, answer and ground truth (if any ground truth is provided)\n",
    "    \"\"\"\n",
    "    processed_eval_template: Optional[str] = None\n",
    "    processed_eval_template = eval_template.format(\n",
    "        rules=rules,\n",
    "        answer=answer,\n",
    "        context=context,\n",
    "        ground_truth=ground_truth)\n",
    "    return processed_eval_template"
   ]
  },
  {
   "cell_type": "code",
   "execution_count": 21,
   "metadata": {
    "tags": []
   },
   "outputs": [],
   "source": [
    "def run_eval(i: int, total: int, row: Dict,  model_id: str, eval_method_name: str, uuid: str) -> Dict:\n",
    "    \"\"\"\n",
    "    Runs the evaluation for one row \n",
    "    The eval prompt is already available in the row dictionary\n",
    "    and we simply want to run the inference against the judge model.\n",
    "    The results are returned in a new dictionary that contains the model \n",
    "    response and some fields from the original dictionary\n",
    "    \"\"\"\n",
    "    # save all the responses from the model in a dictionary\n",
    "    resp: Dict = {}\n",
    "    print(f\"run_eval, row {i}/{total}, judge_model_id={model_id}, candidate model={row['endpoint_name']}\")\n",
    "    candidate_model_response: str = row['completion']\n",
    "    # create the payload for model inference\n",
    "    prompt = row[f'{model_id}_{method_name}_eval_prompt']\n",
    "    # generate the chapter title based on the given chapter in the prompt \n",
    "    resp = get_inference(model_id, prompt)\n",
    "    resp['candidate_model_response'] = candidate_model_response\n",
    "    resp['candidate_model'] = row['endpoint_name']\n",
    "    resp['cosine_similarity_score'] = row['cosine_similarity_score']\n",
    "    if 'ground_truth' in row:\n",
    "        resp['ground_truth'] = row['ground_truth']\n",
    "    # calculate the input and output token price for all of the calls\n",
    "    model_eval_completions_dir: str = os.path.join(RESULTS_DIR, MODEL_EVALUATION_JUDGE_COMPLETIONS_DIR)\n",
    "    dir_path = os.path.join(model_eval_completions_dir, model_id, eval_method_name)\n",
    "    os.makedirs(dir_path, exist_ok=True)\n",
    "    fpath = os.path.join(dir_path, f\"{model_id}_{eval_method_name}_{uuid}.json\")\n",
    "\n",
    "    Path(fpath).write_text(json.dumps(resp, default=str, indent=2))\n",
    "\n",
    "    return resp\n",
    "\n",
    "# we use Ray to parallize\n",
    "@ray.remote\n",
    "def async_run_eval(i: int, total: int, row: Dict, model_id: str, eval_method_name: str, uuid: str) -> Dict:\n",
    "    print(f\"async_run_eval, i={i}, total={total}, judge_model_info={model_id}, eval_method: {eval_method_name}, uuid: {uuid}\")\n",
    "    return run_eval(i, total, row, model_id, eval_method_name, uuid)"
   ]
  },
  {
   "cell_type": "code",
   "execution_count": 22,
   "metadata": {
    "tags": []
   },
   "outputs": [
    {
     "name": "stderr",
     "output_type": "stream",
     "text": [
      "[2024-07-12 16:36:34,557] p27460 {2376022395.py:3} INFO - eval_records_list has 360 entries\n"
     ]
    }
   ],
   "source": [
    "# convert the dataframe into a list of dicts as that is easy to parallize via Ray\n",
    "df_per_inference_list = json.loads(df_per_inference.to_json(orient='records'))\n",
    "logger.info(f\"eval_records_list has {len(df_per_inference_list)} entries\")"
   ]
  },
  {
   "cell_type": "markdown",
   "metadata": {},
   "source": [
    "### Prepare evaluation prompt templates\n",
    "---\n",
    "\n",
    "This portion of the step prepares the evaluation prompt templates that are used in the evaluation process of using `Max Voting` or `Average Pooling` using the PoLL."
   ]
  },
  {
   "cell_type": "code",
   "execution_count": 23,
   "metadata": {
    "tags": []
   },
   "outputs": [
    {
     "data": {
      "text/plain": [
       "{'judge_panel_list': [{'model_id': 'anthropic.claude-3-haiku-20240307-v1:0',\n",
       "   'eval_prompt_template_dir': 'claude_eval_prompt_templates',\n",
       "   'eval_prompt_template_name_prefix': 'claude_eval'},\n",
       "  {'model_id': 'meta.llama3-70b-instruct-v1:0',\n",
       "   'eval_prompt_template_dir': 'llama3_eval_prompt_templates',\n",
       "   'eval_prompt_template_name_prefix': 'llama3_eval'},\n",
       "  {'model_id': 'cohere.command-r-v1:0',\n",
       "   'eval_prompt_template_dir': 'cohere_eval_prompt_templates',\n",
       "   'eval_prompt_template_name_prefix': 'cohere_eval'}],\n",
       " 'inference_parameters': {'temperature': 0.1,\n",
       "  'max_tokens': 300,\n",
       "  'top_p': 0.92,\n",
       "  'caching': False},\n",
       " 'run_parallel_inference_count': 10}"
      ]
     },
     "execution_count": 23,
     "metadata": {},
     "output_type": "execute_result"
    }
   ],
   "source": [
    "model_eval_subjective_info"
   ]
  },
  {
   "cell_type": "code",
   "execution_count": 24,
   "metadata": {
    "tags": []
   },
   "outputs": [
    {
     "name": "stderr",
     "output_type": "stream",
     "text": [
      "[2024-07-12 16:36:34,566] p27460 {2514474553.py:4} INFO - The evaluation method FMBench is going to use to evaluate different model responses: max_voting\n",
      "[2024-07-12 16:36:34,567] p27460 {2514474553.py:5} INFO - judge panel being used to evaluate model responses: [{'model_id': 'anthropic.claude-3-haiku-20240307-v1:0', 'eval_prompt_template_dir': 'claude_eval_prompt_templates', 'eval_prompt_template_name_prefix': 'claude_eval'}, {'model_id': 'meta.llama3-70b-instruct-v1:0', 'eval_prompt_template_dir': 'llama3_eval_prompt_templates', 'eval_prompt_template_name_prefix': 'llama3_eval'}, {'model_id': 'cohere.command-r-v1:0', 'eval_prompt_template_dir': 'cohere_eval_prompt_templates', 'eval_prompt_template_name_prefix': 'cohere_eval'}]\n"
     ]
    }
   ],
   "source": [
    "# get the method that is being used to evaluate the content (which is either \n",
    "# max voting or average pooling)\n",
    "method_name: str = config['model_evaluations']['PoLL_Composition_and_Voting'].get('method', None)\n",
    "logger.info(f\"The evaluation method FMBench is going to use to evaluate different model responses: {method_name}\")\n",
    "logger.info(f\"judge panel being used to evaluate model responses: {model_eval_subjective_info.get('judge_panel_list', None)}\")"
   ]
  },
  {
   "cell_type": "code",
   "execution_count": 25,
   "metadata": {
    "tags": []
   },
   "outputs": [
    {
     "name": "stderr",
     "output_type": "stream",
     "text": [
      "[2024-07-12 16:36:34,574] p27460 {578681319.py:7} INFO - evaluation prompt template file path being used for anthropic.claude-3-haiku-20240307-v1:0: eval_criteria_prompts/claude_eval_prompt_templates/claude_eval_max_voting.txt\n",
      "[2024-07-12 16:36:34,575] p27460 {578681319.py:8} INFO - evaluation prompt template file name: claude_eval_max_voting.txt\n",
      "[2024-07-12 16:36:34,575] p27460 {578681319.py:18} INFO - rules: 1. Your role is to evaluate whether the answer is \"correct\" or \"incorrect\" compared to the ground truth\n",
      "provided and the question in the context.\n",
      "\n",
      "2. Your response should be a JSON containing 2 main elements: \"verdict\" and \"explanation\". In the \"verdict\"\n",
      "field of the JSON response, you should mention whether the question is \"correct\" or \"incorrect\" based on the \n",
      "comparison of the answer to the ground truth provided. The \"explanation\" field of the JSON contains the \n",
      "reason why the answer is correct or incorrect after your evaluation of it against the ground truth.\n",
      "\n",
      "3. Make sure to be completely accurate and give your response in a proper JSON format containing the two fields.\n",
      "Evaluate the ground truth carefully, and based on the question in the context provided, think about whether the \n",
      "answer is correct or incorrect. It does not have to be an exact match to the ground response, but should answer the\n",
      "question given in the context.\n",
      "\n",
      "4. If the answer is a close match to the ground truth and answers the same answer to the question as the ground truth, \n",
      "then your verdict is correct. If the answer does not match the ground truth and does not answer the question from the \n",
      "context, then your verdict is incorrect.\n",
      "\n",
      "5. Do not have any pre filler words in your response. Your response should only contain the JSON format response with\n",
      "your evaluation. \n",
      "[2024-07-12 16:36:34,576] p27460 {578681319.py:20} INFO - column_name: anthropic.claude-3-haiku-20240307-v1:0_max_voting_eval_prompt\n",
      "[2024-07-12 16:36:34,581] p27460 {578681319.py:7} INFO - evaluation prompt template file path being used for meta.llama3-70b-instruct-v1:0: eval_criteria_prompts/llama3_eval_prompt_templates/llama3_eval_max_voting.txt\n",
      "[2024-07-12 16:36:34,581] p27460 {578681319.py:8} INFO - evaluation prompt template file name: llama3_eval_max_voting.txt\n",
      "[2024-07-12 16:36:34,582] p27460 {578681319.py:18} INFO - rules: 1. Your role is to evaluate whether the answer is \"correct\" or \"incorrect\" compared to the ground truth\n",
      "provided and the question in the context.\n",
      "\n",
      "2. Your response should be a JSON containing 2 main elements: \"verdict\" and \"explanation\". In the \"verdict\"\n",
      "field of the JSON response, you should mention whether the question is \"correct\" or \"incorrect\" based on the \n",
      "comparison of the answer to the ground truth provided. The \"explanation\" field of the JSON contains the \n",
      "reason why the answer is correct or incorrect after your evaluation of it against the ground truth.\n",
      "\n",
      "3. Make sure to be completely accurate and give your response in a proper JSON format containing the two fields.\n",
      "Evaluate the ground truth carefully, and based on the question in the context provided, think about whether the \n",
      "answer is correct or incorrect. It does not have to be an exact match to the ground response, but should answer the\n",
      "question given in the context.\n",
      "\n",
      "4. If the answer is a close match to the ground truth and answers the same answer to the question as the ground truth, \n",
      "then your verdict is correct. If the answer does not match the ground truth and does not answer the question from the \n",
      "context, then your verdict is incorrect.\n",
      "\n",
      "5. Do not have any pre filler words in your response. Your response should only contain the JSON format response with\n",
      "your evaluation. \n",
      "[2024-07-12 16:36:34,582] p27460 {578681319.py:20} INFO - column_name: meta.llama3-70b-instruct-v1:0_max_voting_eval_prompt\n",
      "[2024-07-12 16:36:34,587] p27460 {578681319.py:7} INFO - evaluation prompt template file path being used for cohere.command-r-v1:0: eval_criteria_prompts/cohere_eval_prompt_templates/cohere_eval_max_voting.txt\n",
      "[2024-07-12 16:36:34,587] p27460 {578681319.py:8} INFO - evaluation prompt template file name: cohere_eval_max_voting.txt\n",
      "[2024-07-12 16:36:34,588] p27460 {578681319.py:18} INFO - rules: 1. Your role is to evaluate whether the answer is \"correct\" or \"incorrect\" compared to the ground truth\n",
      "provided and the question in the context.\n",
      "\n",
      "2. Your response should be a JSON containing 2 main elements: \"verdict\" and \"explanation\". In the \"verdict\"\n",
      "field of the JSON response, you should mention whether the question is \"correct\" or \"incorrect\" based on the \n",
      "comparison of the answer to the ground truth provided. The \"explanation\" field of the JSON contains the \n",
      "reason why the answer is correct or incorrect after your evaluation of it against the ground truth.\n",
      "\n",
      "3. Make sure to be completely accurate and give your response in a proper JSON format containing the two fields.\n",
      "Evaluate the ground truth carefully, and based on the question in the context provided, think about whether the \n",
      "answer is correct or incorrect. It does not have to be an exact match to the ground response, but should answer the\n",
      "question given in the context.\n",
      "\n",
      "4. If the answer is a close match to the ground truth and answers the same answer to the question as the ground truth, \n",
      "then your verdict is correct. If the answer does not match the ground truth and does not answer the question from the \n",
      "context, then your verdict is incorrect.\n",
      "\n",
      "5. Do not have any pre filler words in your response. Your response should only contain the JSON format response with\n",
      "your evaluation. \n",
      "[2024-07-12 16:36:34,589] p27460 {578681319.py:20} INFO - column_name: cohere.command-r-v1:0_max_voting_eval_prompt\n"
     ]
    },
    {
     "name": "stdout",
     "output_type": "stream",
     "text": [
      "Evaluation prompt template being used: Human: You are a judge who evaluates the correctness of the answer to a given question in the context \n",
      "in the <context></context> tags. Your role is to evaluate whether the answer provided in the <answer></answer> \n",
      "tags is correct compared to the ground truth answer provided in the <ground_truth></ground_truth> xml tags.\n",
      "\n",
      "Follow the instructions below while giving your evaluation in the <evaluation_instructions></evaluation_instructions>\n",
      "tags:\n",
      "\n",
      "<evaluation_instructions>\n",
      "{rules}\n",
      "</evaluation_instructions>\n",
      "\n",
      "Refer to the context below in the <context></context> xml tags:\n",
      "<context>\n",
      "{context}\n",
      "</context>\n",
      "\n",
      "Refer to the answer to be evaluated in the <answer></answer> tags:\n",
      "<answer>\n",
      "{answer}\n",
      "</answer> \n",
      "\n",
      "Refer to the ground truth to the question in the context below in the <ground_truth></ground_truth> xml tags: \n",
      "<ground_truth>\n",
      "{ground_truth}\n",
      "</ground_truth> \n",
      "\n",
      "Assistant: Sure, here is my evaluation in JSON:\n",
      "Evaluation prompt template being used: <|begin_of_text|><|start_header_id|>user<|end_header_id|>\n",
      "You are a judge who evaluates the correctness of the answer to a given question in the context \n",
      "demarcated by \"```\" below. Your role is to evaluate whether the answer provided in the answer section\n",
      "is correct compared to the ground truth answer provided in the ground_truth section.\n",
      "\n",
      "Follow the instructions below while giving your evaluation in the evaluation_instructions section below:\n",
      "\n",
      "evaluation_instructions:\n",
      "{rules}\n",
      "\n",
      "Refer to the context below demarcated by \"```\"\n",
      "```\n",
      "{context}\n",
      "```\n",
      "\n",
      "Refer to the answer to below that needs to be evaluated:\n",
      "answer: {answer}\n",
      "\n",
      "\n",
      "Refer to the ground truth to the question in the context below in the ground_truth section:\n",
      "ground_truth: {ground_truth}\n",
      "\n",
      "Do not add anything else in your response. Give your response only in a correct formatted json starting with an \n",
      "opening and ending with a bracket.\n",
      "\n",
      "Do not add any pre filler words. Your response should contain the JSON structured output only.\n",
      "\n",
      "<|eot_id|><|start_header_id|>assistant<|end_header_id|>\n",
      "Evaluation prompt template being used: You are a judge who evaluates the correctness of the answer to a given question in the context section. \n",
      "Your role is to evaluate whether the answer provided in the answer section\n",
      "is correct compared to the ground truth answer provided in the ground_truth section.\n",
      "\n",
      "Follow the instructions below while giving your evaluation in the evaluation_instructions section below:\n",
      "\n",
      "## evaluation_instructions:\n",
      "{rules}\n",
      "\n",
      "## context:\n",
      "{context}\n",
      "\n",
      "Refer to the answer to below that needs to be evaluated:\n",
      "answer: {answer}\n",
      "\n",
      "\n",
      "Refer to the ground truth to the question in the context below in the ground_truth section:\n",
      "ground_truth: {ground_truth}\n",
      "\n",
      "## Response Instructions:\n",
      "\n",
      "Only give your response in a JSON format. Do not prefix your response with ``` json .....  ``` and so on. \n",
      "\n",
      "Do not add anything else but the format above in your evaluation response. Your response should just start with \n",
      "an opening JSON bracket, the fields, and then a closing JSON bracket, nothing else.\n",
      "\n"
     ]
    }
   ],
   "source": [
    "# Iterate through each LLM as a judge and each evaluation criterion\n",
    "for llm_info in model_eval_subjective_info.get('judge_panel_list', None):\n",
    "    model_id = llm_info['model_id']\n",
    "    eval_prompt_template_fname: str = f\"{llm_info.get('eval_prompt_template_name_prefix', None)}_{method_name}.txt\"\n",
    "    eval_prompt_template_dir = llm_info.get('eval_prompt_template_dir', None)\n",
    "    eval_prompt_template_path: str = os.path.join(EVAL_DIR, eval_prompt_template_dir, eval_prompt_template_fname)\n",
    "    logger.info(f\"evaluation prompt template file path being used for {model_id}: {eval_prompt_template_path}\")\n",
    "    logger.info(f\"evaluation prompt template file name: {eval_prompt_template_fname}\")\n",
    "    try:\n",
    "        eval_prompt_template = Path(eval_prompt_template_path).read_text()\n",
    "    except FileNotFoundError:\n",
    "        logger.error(f\"File not found: {eval_prompt_template_path}\")\n",
    "        continue\n",
    "\n",
    "    print(f\"Evaluation prompt template being used: {eval_prompt_template}\")\n",
    "    eval_instructions_fname: str = next((rule for rule in config['s3_read_data']['eval_instructions_files'] if method_name in rule), None)\n",
    "    rules = Path(os.path.join(EVAL_DIR, eval_instructions_fname)).read_text()\n",
    "    logger.info(f\"rules: {rules}\")\n",
    "    column_name = f\"{model_id}_{method_name}_eval_prompt\"\n",
    "    logger.info(f\"column_name: {column_name}\")\n",
    "\n",
    "    df_per_inference[column_name] = df_per_inference.apply(\n",
    "        lambda r: prepare_eval_prompts(\n",
    "            eval_prompt_template,\n",
    "            r['completion'],\n",
    "            rules,\n",
    "            r['prompt'],\n",
    "            r['ground_truth']\n",
    "        ),\n",
    "        axis=1\n",
    "    )"
   ]
  },
  {
   "cell_type": "code",
   "execution_count": 26,
   "metadata": {
    "tags": []
   },
   "outputs": [
    {
     "name": "stderr",
     "output_type": "stream",
     "text": [
      "[2024-07-12 16:36:34,909] p27460 {4247376453.py:9} INFO - Per inference cosine similarity scores saved to s3://sagemaker-fmbench-write-us-west-2-387192758086/fmbench-bedrock-fmbench-stack-us-west-2-role/data/metrics/yyyy=2024/mm=07/dd=12/hh=16/mm=35/processed_eval_prompts_for_inference.csv\n"
     ]
    },
    {
     "data": {
      "text/html": [
       "<div>\n",
       "<style scoped>\n",
       "    .dataframe tbody tr th:only-of-type {\n",
       "        vertical-align: middle;\n",
       "    }\n",
       "\n",
       "    .dataframe tbody tr th {\n",
       "        vertical-align: top;\n",
       "    }\n",
       "\n",
       "    .dataframe thead th {\n",
       "        text-align: right;\n",
       "    }\n",
       "</style>\n",
       "<table border=\"1\" class=\"dataframe\">\n",
       "  <thead>\n",
       "    <tr style=\"text-align: right;\">\n",
       "      <th></th>\n",
       "      <th>endpoint_name</th>\n",
       "      <th>prompt</th>\n",
       "      <th>ground_truth</th>\n",
       "      <th>temperature</th>\n",
       "      <th>max_tokens</th>\n",
       "      <th>top_p</th>\n",
       "      <th>completion</th>\n",
       "      <th>prompt_tokens</th>\n",
       "      <th>completion_tokens</th>\n",
       "      <th>latency</th>\n",
       "      <th>...</th>\n",
       "      <th>instance_type</th>\n",
       "      <th>instance_count</th>\n",
       "      <th>EndpointName</th>\n",
       "      <th>ModelName</th>\n",
       "      <th>Image</th>\n",
       "      <th>S3Uri</th>\n",
       "      <th>cosine_similarity_score</th>\n",
       "      <th>anthropic.claude-3-haiku-20240307-v1:0_max_voting_eval_prompt</th>\n",
       "      <th>meta.llama3-70b-instruct-v1:0_max_voting_eval_prompt</th>\n",
       "      <th>cohere.command-r-v1:0_max_voting_eval_prompt</th>\n",
       "    </tr>\n",
       "  </thead>\n",
       "  <tbody>\n",
       "    <tr>\n",
       "      <th>0</th>\n",
       "      <td>mistral.mistral-7b-instruct-v0:2</td>\n",
       "      <td>&lt;s&gt;[INST] &lt;&lt;SYS&gt;&gt;\\nYou are an assistant for qu...</td>\n",
       "      <td>a genus of flowering plant in the Lardizabalac...</td>\n",
       "      <td>0.1</td>\n",
       "      <td>100</td>\n",
       "      <td>0.92</td>\n",
       "      <td>The genera Sinofranchetia and Stauntonia belon...</td>\n",
       "      <td>319</td>\n",
       "      <td>26</td>\n",
       "      <td>0.440897</td>\n",
       "      <td>...</td>\n",
       "      <td>mistral.mistral-7b-instruct-v0:2</td>\n",
       "      <td>1.0</td>\n",
       "      <td>NaN</td>\n",
       "      <td>NaN</td>\n",
       "      <td>NaN</td>\n",
       "      <td>NaN</td>\n",
       "      <td>0.710724</td>\n",
       "      <td>Human: You are a judge who evaluates the corre...</td>\n",
       "      <td>&lt;|begin_of_text|&gt;&lt;|start_header_id|&gt;user&lt;|end_...</td>\n",
       "      <td>You are a judge who evaluates the correctness ...</td>\n",
       "    </tr>\n",
       "    <tr>\n",
       "      <th>1</th>\n",
       "      <td>mistral.mistral-7b-instruct-v0:2</td>\n",
       "      <td>&lt;s&gt;[INST] &lt;&lt;SYS&gt;&gt;\\nYou are an assistant for qu...</td>\n",
       "      <td>a genus of flowering plant in the Lardizabalac...</td>\n",
       "      <td>0.1</td>\n",
       "      <td>100</td>\n",
       "      <td>0.92</td>\n",
       "      <td>The genera Sinofranchetia and Stauntonia belon...</td>\n",
       "      <td>319</td>\n",
       "      <td>26</td>\n",
       "      <td>0.450330</td>\n",
       "      <td>...</td>\n",
       "      <td>mistral.mistral-7b-instruct-v0:2</td>\n",
       "      <td>1.0</td>\n",
       "      <td>NaN</td>\n",
       "      <td>NaN</td>\n",
       "      <td>NaN</td>\n",
       "      <td>NaN</td>\n",
       "      <td>0.710724</td>\n",
       "      <td>Human: You are a judge who evaluates the corre...</td>\n",
       "      <td>&lt;|begin_of_text|&gt;&lt;|start_header_id|&gt;user&lt;|end_...</td>\n",
       "      <td>You are a judge who evaluates the correctness ...</td>\n",
       "    </tr>\n",
       "    <tr>\n",
       "      <th>2</th>\n",
       "      <td>mistral.mistral-7b-instruct-v0:2</td>\n",
       "      <td>&lt;s&gt;[INST] &lt;&lt;SYS&gt;&gt;\\nYou are an assistant for qu...</td>\n",
       "      <td>a genus of flowering plant in the Lardizabalac...</td>\n",
       "      <td>0.1</td>\n",
       "      <td>100</td>\n",
       "      <td>0.92</td>\n",
       "      <td>The genera Sinofranchetia and Stauntonia belon...</td>\n",
       "      <td>319</td>\n",
       "      <td>26</td>\n",
       "      <td>0.461762</td>\n",
       "      <td>...</td>\n",
       "      <td>mistral.mistral-7b-instruct-v0:2</td>\n",
       "      <td>1.0</td>\n",
       "      <td>NaN</td>\n",
       "      <td>NaN</td>\n",
       "      <td>NaN</td>\n",
       "      <td>NaN</td>\n",
       "      <td>0.710724</td>\n",
       "      <td>Human: You are a judge who evaluates the corre...</td>\n",
       "      <td>&lt;|begin_of_text|&gt;&lt;|start_header_id|&gt;user&lt;|end_...</td>\n",
       "      <td>You are a judge who evaluates the correctness ...</td>\n",
       "    </tr>\n",
       "    <tr>\n",
       "      <th>3</th>\n",
       "      <td>mistral.mistral-7b-instruct-v0:2</td>\n",
       "      <td>&lt;s&gt;[INST] &lt;&lt;SYS&gt;&gt;\\nYou are an assistant for qu...</td>\n",
       "      <td>a genus of flowering plant in the Lardizabalac...</td>\n",
       "      <td>0.1</td>\n",
       "      <td>100</td>\n",
       "      <td>0.92</td>\n",
       "      <td>The genera Sinofranchetia and Stauntonia belon...</td>\n",
       "      <td>319</td>\n",
       "      <td>26</td>\n",
       "      <td>0.453813</td>\n",
       "      <td>...</td>\n",
       "      <td>mistral.mistral-7b-instruct-v0:2</td>\n",
       "      <td>1.0</td>\n",
       "      <td>NaN</td>\n",
       "      <td>NaN</td>\n",
       "      <td>NaN</td>\n",
       "      <td>NaN</td>\n",
       "      <td>0.710724</td>\n",
       "      <td>Human: You are a judge who evaluates the corre...</td>\n",
       "      <td>&lt;|begin_of_text|&gt;&lt;|start_header_id|&gt;user&lt;|end_...</td>\n",
       "      <td>You are a judge who evaluates the correctness ...</td>\n",
       "    </tr>\n",
       "    <tr>\n",
       "      <th>4</th>\n",
       "      <td>mistral.mistral-7b-instruct-v0:2</td>\n",
       "      <td>&lt;s&gt;[INST] &lt;&lt;SYS&gt;&gt;\\nYou are an assistant for qu...</td>\n",
       "      <td>a genus of flowering plant in the Lardizabalac...</td>\n",
       "      <td>0.1</td>\n",
       "      <td>100</td>\n",
       "      <td>0.92</td>\n",
       "      <td>The genera Sinofranchetia and Stauntonia belon...</td>\n",
       "      <td>319</td>\n",
       "      <td>26</td>\n",
       "      <td>0.435938</td>\n",
       "      <td>...</td>\n",
       "      <td>mistral.mistral-7b-instruct-v0:2</td>\n",
       "      <td>1.0</td>\n",
       "      <td>NaN</td>\n",
       "      <td>NaN</td>\n",
       "      <td>NaN</td>\n",
       "      <td>NaN</td>\n",
       "      <td>0.710724</td>\n",
       "      <td>Human: You are a judge who evaluates the corre...</td>\n",
       "      <td>&lt;|begin_of_text|&gt;&lt;|start_header_id|&gt;user&lt;|end_...</td>\n",
       "      <td>You are a judge who evaluates the correctness ...</td>\n",
       "    </tr>\n",
       "  </tbody>\n",
       "</table>\n",
       "<p>5 rows × 26 columns</p>\n",
       "</div>"
      ],
      "text/plain": [
       "                      endpoint_name  \\\n",
       "0  mistral.mistral-7b-instruct-v0:2   \n",
       "1  mistral.mistral-7b-instruct-v0:2   \n",
       "2  mistral.mistral-7b-instruct-v0:2   \n",
       "3  mistral.mistral-7b-instruct-v0:2   \n",
       "4  mistral.mistral-7b-instruct-v0:2   \n",
       "\n",
       "                                              prompt  \\\n",
       "0  <s>[INST] <<SYS>>\\nYou are an assistant for qu...   \n",
       "1  <s>[INST] <<SYS>>\\nYou are an assistant for qu...   \n",
       "2  <s>[INST] <<SYS>>\\nYou are an assistant for qu...   \n",
       "3  <s>[INST] <<SYS>>\\nYou are an assistant for qu...   \n",
       "4  <s>[INST] <<SYS>>\\nYou are an assistant for qu...   \n",
       "\n",
       "                                        ground_truth  temperature  max_tokens  \\\n",
       "0  a genus of flowering plant in the Lardizabalac...          0.1         100   \n",
       "1  a genus of flowering plant in the Lardizabalac...          0.1         100   \n",
       "2  a genus of flowering plant in the Lardizabalac...          0.1         100   \n",
       "3  a genus of flowering plant in the Lardizabalac...          0.1         100   \n",
       "4  a genus of flowering plant in the Lardizabalac...          0.1         100   \n",
       "\n",
       "   top_p                                         completion  prompt_tokens  \\\n",
       "0   0.92  The genera Sinofranchetia and Stauntonia belon...            319   \n",
       "1   0.92  The genera Sinofranchetia and Stauntonia belon...            319   \n",
       "2   0.92  The genera Sinofranchetia and Stauntonia belon...            319   \n",
       "3   0.92  The genera Sinofranchetia and Stauntonia belon...            319   \n",
       "4   0.92  The genera Sinofranchetia and Stauntonia belon...            319   \n",
       "\n",
       "   completion_tokens   latency  ...                     instance_type  \\\n",
       "0                 26  0.440897  ...  mistral.mistral-7b-instruct-v0:2   \n",
       "1                 26  0.450330  ...  mistral.mistral-7b-instruct-v0:2   \n",
       "2                 26  0.461762  ...  mistral.mistral-7b-instruct-v0:2   \n",
       "3                 26  0.453813  ...  mistral.mistral-7b-instruct-v0:2   \n",
       "4                 26  0.435938  ...  mistral.mistral-7b-instruct-v0:2   \n",
       "\n",
       "   instance_count  EndpointName ModelName Image  S3Uri  \\\n",
       "0             1.0           NaN       NaN   NaN    NaN   \n",
       "1             1.0           NaN       NaN   NaN    NaN   \n",
       "2             1.0           NaN       NaN   NaN    NaN   \n",
       "3             1.0           NaN       NaN   NaN    NaN   \n",
       "4             1.0           NaN       NaN   NaN    NaN   \n",
       "\n",
       "  cosine_similarity_score  \\\n",
       "0                0.710724   \n",
       "1                0.710724   \n",
       "2                0.710724   \n",
       "3                0.710724   \n",
       "4                0.710724   \n",
       "\n",
       "   anthropic.claude-3-haiku-20240307-v1:0_max_voting_eval_prompt  \\\n",
       "0  Human: You are a judge who evaluates the corre...               \n",
       "1  Human: You are a judge who evaluates the corre...               \n",
       "2  Human: You are a judge who evaluates the corre...               \n",
       "3  Human: You are a judge who evaluates the corre...               \n",
       "4  Human: You are a judge who evaluates the corre...               \n",
       "\n",
       "   meta.llama3-70b-instruct-v1:0_max_voting_eval_prompt  \\\n",
       "0  <|begin_of_text|><|start_header_id|>user<|end_...      \n",
       "1  <|begin_of_text|><|start_header_id|>user<|end_...      \n",
       "2  <|begin_of_text|><|start_header_id|>user<|end_...      \n",
       "3  <|begin_of_text|><|start_header_id|>user<|end_...      \n",
       "4  <|begin_of_text|><|start_header_id|>user<|end_...      \n",
       "\n",
       "        cohere.command-r-v1:0_max_voting_eval_prompt  \n",
       "0  You are a judge who evaluates the correctness ...  \n",
       "1  You are a judge who evaluates the correctness ...  \n",
       "2  You are a judge who evaluates the correctness ...  \n",
       "3  You are a judge who evaluates the correctness ...  \n",
       "4  You are a judge who evaluates the correctness ...  \n",
       "\n",
       "[5 rows x 26 columns]"
      ]
     },
     "execution_count": 26,
     "metadata": {},
     "output_type": "execute_result"
    }
   ],
   "source": [
    "csv_buffer = io.StringIO()\n",
    "df_per_inference.to_csv(csv_buffer, index=False)\n",
    "df_per_inference_with_eval_prompt_payloads = csv_buffer.getvalue()\n",
    "eval_prompt_payloads_for_inference = os.path.join(METRICS_DIR, PROCESSED_EVAL_PROMPT_PAYLOADS)  # Define full S3 path\n",
    "\n",
    "# Write the CSV data to S3\n",
    "write_to_s3(df_per_inference_with_eval_prompt_payloads, BUCKET_NAME, \"\", \n",
    "            METRICS_DIR, PROCESSED_EVAL_PROMPT_PAYLOADS)\n",
    "logger.info(f\"Per inference cosine similarity scores saved to s3://{BUCKET_NAME}/{eval_prompt_payloads_for_inference}\")\n",
    "\n",
    "df_per_inference.head()"
   ]
  },
  {
   "cell_type": "code",
   "execution_count": 27,
   "metadata": {
    "tags": []
   },
   "outputs": [
    {
     "name": "stderr",
     "output_type": "stream",
     "text": [
      "[2024-07-12 16:36:34,950] p27460 {3717042138.py:3} INFO - eval_records_list has 360 entries\n"
     ]
    }
   ],
   "source": [
    "# convert the dataframe into a list of dicts as that is easy to parallize via Ray\n",
    "eval_records_list = json.loads(df_per_inference.to_json(orient='records'))\n",
    "logger.info(f\"eval_records_list has {len(eval_records_list)} entries\")"
   ]
  },
  {
   "cell_type": "markdown",
   "metadata": {},
   "source": [
    "### Run LLM as a Judge Evaluations\n",
    "---\n",
    "\n",
    "In this portion of the step, FMBench performs the following actions:\n",
    "\n",
    "1. If the method of evaluation is `Max Voting`, then in that case we suppose that a ground truth to the question from the context or task is pre existing in the dataset. We use the LLM panel of judges (in this case 3 judges), to give a verdict on whether the `answer` from the candidate models during inference is `correct` or `incorrect`. If the response is correct, then it gives it a `correct` and if not, then `incorrect`.\n",
    "\n",
    "1. If the method of evaluation is `Average Pooling`, then in that case we suppose that the completion from the candidate models are supposed to be evlauated on a more subjective criteria rather than just deciding whether it is correct or incorrect compared to the ground truth. In this case, the average pooling prompt templates are used by the Judge Panel to give a rating out of 1-5 to each model completion on different criteria, such as relevancy, helpfulness, correctness, and so on.\n",
    "\n",
    "1. Each model response is given in a JSON structure which is further used for downstream analytics, to decide the comparision of evaluation results between different model candidates and more.\n",
    "\n",
    "***This step takes about ~6 minutes to complete. Model completion time depends on the PoLL models being used. `Llama3-70b`, `Cohere command-r-v1` and `claude 3 haiku` were used for this example***"
   ]
  },
  {
   "cell_type": "code",
   "execution_count": 28,
   "metadata": {
    "tags": []
   },
   "outputs": [
    {
     "name": "stderr",
     "output_type": "stream",
     "text": [
      "[2024-07-12 16:36:34,954] p27460 {602205354.py:3} INFO - The judge panel list contains 3 judges: [{'model_id': 'anthropic.claude-3-haiku-20240307-v1:0', 'eval_prompt_template_dir': 'claude_eval_prompt_templates', 'eval_prompt_template_name_prefix': 'claude_eval'}, {'model_id': 'meta.llama3-70b-instruct-v1:0', 'eval_prompt_template_dir': 'llama3_eval_prompt_templates', 'eval_prompt_template_name_prefix': 'llama3_eval'}, {'model_id': 'cohere.command-r-v1:0', 'eval_prompt_template_dir': 'cohere_eval_prompt_templates', 'eval_prompt_template_name_prefix': 'cohere_eval'}]\n"
     ]
    }
   ],
   "source": [
    "# get the llm as a judge panel list\n",
    "judge_panel_list = model_eval_subjective_info.get('judge_panel_list', None)\n",
    "logger.info(f\"The judge panel list contains {len(judge_panel_list)} judges: {judge_panel_list}\")"
   ]
  },
  {
   "cell_type": "code",
   "execution_count": 31,
   "metadata": {
    "tags": []
   },
   "outputs": [
    {
     "name": "stderr",
     "output_type": "stream",
     "text": [
      "[2024-07-12 16:38:58,899] p27460 {3777942767.py:8} INFO - ============Running inference for judge panelist anthropic.claude-3-haiku-20240307-v1:0============\n",
      "[2024-07-12 16:38:58,900] p27460 {3777942767.py:11} INFO - getting inference for list 1/36, size of list=10\n",
      "[2024-07-12 16:39:01,639] p27460 {3777942767.py:11} INFO - getting inference for list 2/36, size of list=10\n",
      "[2024-07-12 16:39:03,834] p27460 {3777942767.py:11} INFO - getting inference for list 3/36, size of list=10\n",
      "[2024-07-12 16:39:06,366] p27460 {3777942767.py:11} INFO - getting inference for list 4/36, size of list=10\n",
      "[2024-07-12 16:39:08,851] p27460 {3777942767.py:11} INFO - getting inference for list 5/36, size of list=10\n",
      "[2024-07-12 16:39:11,269] p27460 {3777942767.py:11} INFO - getting inference for list 6/36, size of list=10\n",
      "[2024-07-12 16:39:14,318] p27460 {3777942767.py:11} INFO - getting inference for list 7/36, size of list=10\n",
      "[2024-07-12 16:39:16,838] p27460 {3777942767.py:11} INFO - getting inference for list 8/36, size of list=10\n",
      "[2024-07-12 16:39:19,074] p27460 {3777942767.py:11} INFO - getting inference for list 9/36, size of list=10\n",
      "[2024-07-12 16:39:22,004] p27460 {3777942767.py:11} INFO - getting inference for list 10/36, size of list=10\n",
      "[2024-07-12 16:39:24,385] p27460 {3777942767.py:11} INFO - getting inference for list 11/36, size of list=10\n",
      "[2024-07-12 16:39:26,533] p27460 {3777942767.py:11} INFO - getting inference for list 12/36, size of list=10\n",
      "[2024-07-12 16:39:29,306] p27460 {3777942767.py:11} INFO - getting inference for list 13/36, size of list=10\n",
      "[2024-07-12 16:39:31,873] p27460 {3777942767.py:11} INFO - getting inference for list 14/36, size of list=10\n",
      "[2024-07-12 16:39:34,031] p27460 {3777942767.py:11} INFO - getting inference for list 15/36, size of list=10\n",
      "[2024-07-12 16:39:36,910] p27460 {3777942767.py:11} INFO - getting inference for list 16/36, size of list=10\n",
      "[2024-07-12 16:39:39,584] p27460 {3777942767.py:11} INFO - getting inference for list 17/36, size of list=10\n",
      "[2024-07-12 16:39:41,638] p27460 {3777942767.py:11} INFO - getting inference for list 18/36, size of list=10\n",
      "[2024-07-12 16:39:44,369] p27460 {3777942767.py:11} INFO - getting inference for list 19/36, size of list=10\n",
      "[2024-07-12 16:39:47,282] p27460 {3777942767.py:11} INFO - getting inference for list 20/36, size of list=10\n",
      "[2024-07-12 16:39:49,560] p27460 {3777942767.py:11} INFO - getting inference for list 21/36, size of list=10\n",
      "[2024-07-12 16:39:52,688] p27460 {3777942767.py:11} INFO - getting inference for list 22/36, size of list=10\n",
      "[2024-07-12 16:39:55,197] p27460 {3777942767.py:11} INFO - getting inference for list 23/36, size of list=10\n",
      "[2024-07-12 16:39:57,345] p27460 {3777942767.py:11} INFO - getting inference for list 24/36, size of list=10\n",
      "[2024-07-12 16:40:00,263] p27460 {3777942767.py:11} INFO - getting inference for list 25/36, size of list=10\n",
      "[2024-07-12 16:40:02,721] p27460 {3777942767.py:11} INFO - getting inference for list 26/36, size of list=10\n",
      "[2024-07-12 16:40:05,033] p27460 {3777942767.py:11} INFO - getting inference for list 27/36, size of list=10\n",
      "[2024-07-12 16:40:08,274] p27460 {3777942767.py:11} INFO - getting inference for list 28/36, size of list=10\n",
      "[2024-07-12 16:40:11,222] p27460 {3777942767.py:11} INFO - getting inference for list 29/36, size of list=10\n",
      "[2024-07-12 16:40:13,316] p27460 {3777942767.py:11} INFO - getting inference for list 30/36, size of list=10\n",
      "[2024-07-12 16:40:16,234] p27460 {3777942767.py:11} INFO - getting inference for list 31/36, size of list=10\n",
      "[2024-07-12 16:40:18,556] p27460 {3777942767.py:11} INFO - getting inference for list 32/36, size of list=10\n",
      "[2024-07-12 16:40:20,761] p27460 {3777942767.py:11} INFO - getting inference for list 33/36, size of list=10\n",
      "[2024-07-12 16:40:23,113] p27460 {3777942767.py:11} INFO - getting inference for list 34/36, size of list=10\n",
      "[2024-07-12 16:40:25,411] p27460 {3777942767.py:11} INFO - getting inference for list 35/36, size of list=10\n",
      "[2024-07-12 16:40:27,518] p27460 {3777942767.py:11} INFO - getting inference for list 36/36, size of list=10\n",
      "[2024-07-12 16:40:29,875] p27460 {3777942767.py:8} INFO - ============Running inference for judge panelist meta.llama3-70b-instruct-v1:0============\n",
      "[2024-07-12 16:40:29,876] p27460 {3777942767.py:11} INFO - getting inference for list 1/36, size of list=10\n",
      "[2024-07-12 16:40:34,249] p27460 {3777942767.py:11} INFO - getting inference for list 2/36, size of list=10\n",
      "[2024-07-12 16:40:38,270] p27460 {3777942767.py:11} INFO - getting inference for list 3/36, size of list=10\n",
      "[2024-07-12 16:40:46,682] p27460 {3777942767.py:11} INFO - getting inference for list 4/36, size of list=10\n",
      "[2024-07-12 16:40:50,609] p27460 {3777942767.py:11} INFO - getting inference for list 5/36, size of list=10\n",
      "[2024-07-12 16:40:54,526] p27460 {3777942767.py:11} INFO - getting inference for list 6/36, size of list=10\n",
      "[2024-07-12 16:40:58,625] p27460 {3777942767.py:11} INFO - getting inference for list 7/36, size of list=10\n",
      "[2024-07-12 16:41:03,224] p27460 {3777942767.py:11} INFO - getting inference for list 8/36, size of list=10\n",
      "[2024-07-12 16:41:07,911] p27460 {3777942767.py:11} INFO - getting inference for list 9/36, size of list=10\n",
      "[2024-07-12 16:41:16,949] p27460 {3777942767.py:11} INFO - getting inference for list 10/36, size of list=10\n",
      "[2024-07-12 16:41:21,022] p27460 {3777942767.py:11} INFO - getting inference for list 11/36, size of list=10\n",
      "[2024-07-12 16:41:24,837] p27460 {3777942767.py:11} INFO - getting inference for list 12/36, size of list=10\n",
      "[2024-07-12 16:41:29,298] p27460 {3777942767.py:11} INFO - getting inference for list 13/36, size of list=10\n",
      "[2024-07-12 16:41:34,856] p27460 {3777942767.py:11} INFO - getting inference for list 14/36, size of list=10\n",
      "[2024-07-12 16:41:39,084] p27460 {3777942767.py:11} INFO - getting inference for list 15/36, size of list=10\n",
      "[2024-07-12 16:41:43,211] p27460 {3777942767.py:11} INFO - getting inference for list 16/36, size of list=10\n",
      "[2024-07-12 16:41:47,716] p27460 {3777942767.py:11} INFO - getting inference for list 17/36, size of list=10\n",
      "[2024-07-12 16:41:52,048] p27460 {3777942767.py:11} INFO - getting inference for list 18/36, size of list=10\n",
      "[2024-07-12 16:41:58,383] p27460 {3777942767.py:11} INFO - getting inference for list 19/36, size of list=10\n",
      "[2024-07-12 16:42:02,204] p27460 {3777942767.py:11} INFO - getting inference for list 20/36, size of list=10\n",
      "[2024-07-12 16:42:06,196] p27460 {3777942767.py:11} INFO - getting inference for list 21/36, size of list=10\n",
      "[2024-07-12 16:42:09,832] p27460 {3777942767.py:11} INFO - getting inference for list 22/36, size of list=10\n",
      "[2024-07-12 16:42:13,745] p27460 {3777942767.py:11} INFO - getting inference for list 23/36, size of list=10\n",
      "[2024-07-12 16:42:19,690] p27460 {3777942767.py:11} INFO - getting inference for list 24/36, size of list=10\n",
      "[2024-07-12 16:42:23,923] p27460 {3777942767.py:11} INFO - getting inference for list 25/36, size of list=10\n",
      "[2024-07-12 16:42:27,789] p27460 {3777942767.py:11} INFO - getting inference for list 26/36, size of list=10\n",
      "[2024-07-12 16:42:31,575] p27460 {3777942767.py:11} INFO - getting inference for list 27/36, size of list=10\n",
      "[2024-07-12 16:42:35,397] p27460 {3777942767.py:11} INFO - getting inference for list 28/36, size of list=10\n",
      "[2024-07-12 16:42:42,038] p27460 {3777942767.py:11} INFO - getting inference for list 29/36, size of list=10\n",
      "[2024-07-12 16:42:53,288] p27460 {3777942767.py:11} INFO - getting inference for list 30/36, size of list=10\n",
      "[2024-07-12 16:42:57,688] p27460 {3777942767.py:11} INFO - getting inference for list 31/36, size of list=10\n",
      "[2024-07-12 16:43:01,818] p27460 {3777942767.py:11} INFO - getting inference for list 32/36, size of list=10\n",
      "[2024-07-12 16:43:06,528] p27460 {3777942767.py:11} INFO - getting inference for list 33/36, size of list=10\n",
      "[2024-07-12 16:43:10,788] p27460 {3777942767.py:11} INFO - getting inference for list 34/36, size of list=10\n",
      "[2024-07-12 16:43:15,364] p27460 {3777942767.py:11} INFO - getting inference for list 35/36, size of list=10\n",
      "[2024-07-12 16:43:19,473] p27460 {3777942767.py:11} INFO - getting inference for list 36/36, size of list=10\n",
      "[2024-07-12 16:43:24,089] p27460 {3777942767.py:8} INFO - ============Running inference for judge panelist cohere.command-r-v1:0============\n",
      "[2024-07-12 16:43:24,090] p27460 {3777942767.py:11} INFO - getting inference for list 1/36, size of list=10\n",
      "[2024-07-12 16:43:26,606] p27460 {3777942767.py:11} INFO - getting inference for list 2/36, size of list=10\n",
      "[2024-07-12 16:43:28,634] p27460 {3777942767.py:11} INFO - getting inference for list 3/36, size of list=10\n",
      "[2024-07-12 16:43:31,074] p27460 {3777942767.py:11} INFO - getting inference for list 4/36, size of list=10\n",
      "[2024-07-12 16:43:33,461] p27460 {3777942767.py:11} INFO - getting inference for list 5/36, size of list=10\n",
      "[2024-07-12 16:43:35,450] p27460 {3777942767.py:11} INFO - getting inference for list 6/36, size of list=10\n",
      "[2024-07-12 16:43:37,641] p27460 {3777942767.py:11} INFO - getting inference for list 7/36, size of list=10\n",
      "[2024-07-12 16:43:39,859] p27460 {3777942767.py:11} INFO - getting inference for list 8/36, size of list=10\n",
      "[2024-07-12 16:43:41,810] p27460 {3777942767.py:11} INFO - getting inference for list 9/36, size of list=10\n",
      "[2024-07-12 16:43:44,226] p27460 {3777942767.py:11} INFO - getting inference for list 10/36, size of list=10\n",
      "[2024-07-12 16:43:46,587] p27460 {3777942767.py:11} INFO - getting inference for list 11/36, size of list=10\n",
      "[2024-07-12 16:43:48,599] p27460 {3777942767.py:11} INFO - getting inference for list 12/36, size of list=10\n",
      "[2024-07-12 16:43:50,849] p27460 {3777942767.py:11} INFO - getting inference for list 13/36, size of list=10\n",
      "[2024-07-12 16:43:53,056] p27460 {3777942767.py:11} INFO - getting inference for list 14/36, size of list=10\n",
      "[2024-07-12 16:43:54,976] p27460 {3777942767.py:11} INFO - getting inference for list 15/36, size of list=10\n",
      "[2024-07-12 16:43:57,243] p27460 {3777942767.py:11} INFO - getting inference for list 16/36, size of list=10\n",
      "[2024-07-12 16:43:59,710] p27460 {3777942767.py:11} INFO - getting inference for list 17/36, size of list=10\n",
      "[2024-07-12 16:44:01,572] p27460 {3777942767.py:11} INFO - getting inference for list 18/36, size of list=10\n",
      "[2024-07-12 16:44:03,635] p27460 {3777942767.py:11} INFO - getting inference for list 19/36, size of list=10\n",
      "[2024-07-12 16:44:05,894] p27460 {3777942767.py:11} INFO - getting inference for list 20/36, size of list=10\n",
      "[2024-07-12 16:44:07,823] p27460 {3777942767.py:11} INFO - getting inference for list 21/36, size of list=10\n",
      "[2024-07-12 16:44:09,848] p27460 {3777942767.py:11} INFO - getting inference for list 22/36, size of list=10\n",
      "[2024-07-12 16:44:12,059] p27460 {3777942767.py:11} INFO - getting inference for list 23/36, size of list=10\n",
      "[2024-07-12 16:44:14,001] p27460 {3777942767.py:11} INFO - getting inference for list 24/36, size of list=10\n",
      "[2024-07-12 16:44:16,568] p27460 {3777942767.py:11} INFO - getting inference for list 25/36, size of list=10\n",
      "[2024-07-12 16:44:18,841] p27460 {3777942767.py:11} INFO - getting inference for list 26/36, size of list=10\n",
      "[2024-07-12 16:44:20,810] p27460 {3777942767.py:11} INFO - getting inference for list 27/36, size of list=10\n",
      "[2024-07-12 16:44:23,307] p27460 {3777942767.py:11} INFO - getting inference for list 28/36, size of list=10\n",
      "[2024-07-12 16:44:25,925] p27460 {3777942767.py:11} INFO - getting inference for list 29/36, size of list=10\n",
      "[2024-07-12 16:44:27,840] p27460 {3777942767.py:11} INFO - getting inference for list 30/36, size of list=10\n",
      "[2024-07-12 16:44:30,163] p27460 {3777942767.py:11} INFO - getting inference for list 31/36, size of list=10\n",
      "[2024-07-12 16:44:32,469] p27460 {3777942767.py:11} INFO - getting inference for list 32/36, size of list=10\n",
      "[2024-07-12 16:44:34,406] p27460 {3777942767.py:11} INFO - getting inference for list 33/36, size of list=10\n",
      "[2024-07-12 16:44:36,988] p27460 {3777942767.py:11} INFO - getting inference for list 34/36, size of list=10\n",
      "[2024-07-12 16:44:39,319] p27460 {3777942767.py:11} INFO - getting inference for list 35/36, size of list=10\n",
      "[2024-07-12 16:44:41,269] p27460 {3777942767.py:11} INFO - getting inference for list 36/36, size of list=10\n",
      "[2024-07-12 16:44:43,684] p27460 {3777942767.py:18} INFO - Total elapsed time for inference: 344.78 seconds\n"
     ]
    }
   ],
   "source": [
    "n = model_eval_subjective_info.get('run_parallel_inference_count', 5)\n",
    "list_of_lists = [eval_records_list[i * n:(i + 1) * n] for i in range((len(eval_records_list) + n - 1) // n)]\n",
    "resp_list = []\n",
    "st = time.perf_counter()\n",
    "\n",
    "# Iterate over the judge panel and sublists\n",
    "for judge_panelist_info in judge_panel_list:\n",
    "    logger.info(f\"============Running inference for judge panelist {judge_panelist_info['model_id']} for {method_name} ============\")\n",
    "    for idx, sublist in enumerate(list_of_lists):\n",
    "        model_id = judge_panelist_info['model_id']\n",
    "        logger.info(f\"getting inference for list {idx + 1}/{len(list_of_lists)}, size of list={len(sublist)}\")\n",
    "\n",
    "        # Run inference in parallel\n",
    "        resp_list.extend(ray.get([async_run_eval.remote(i + 1, len(sublist), record, model_id, method_name, record['uuid'])\n",
    "                                  for i, record in enumerate(sublist)]))\n",
    "\n",
    "elapsed_time = time.perf_counter() - st\n",
    "logger.info(f\"Total elapsed time for inference: {elapsed_time:.2f} seconds\")"
   ]
  },
  {
   "cell_type": "markdown",
   "metadata": {},
   "source": [
    "### Perform downstream analytical tasks on each PoLL evaluation result\n",
    "---"
   ]
  },
  {
   "cell_type": "code",
   "execution_count": 32,
   "metadata": {},
   "outputs": [
    {
     "name": "stderr",
     "output_type": "stream",
     "text": [
      "[2024-07-12 16:44:46,615] p27460 {1134668164.py:3} INFO - df_eval_results shape=(1080, 10)\n"
     ]
    },
    {
     "data": {
      "text/html": [
       "<div>\n",
       "<style scoped>\n",
       "    .dataframe tbody tr th:only-of-type {\n",
       "        vertical-align: middle;\n",
       "    }\n",
       "\n",
       "    .dataframe tbody tr th {\n",
       "        vertical-align: top;\n",
       "    }\n",
       "\n",
       "    .dataframe thead th {\n",
       "        text-align: right;\n",
       "    }\n",
       "</style>\n",
       "<table border=\"1\" class=\"dataframe\">\n",
       "  <thead>\n",
       "    <tr style=\"text-align: right;\">\n",
       "      <th></th>\n",
       "      <th>exception</th>\n",
       "      <th>prompt</th>\n",
       "      <th>completion</th>\n",
       "      <th>completion_token_count</th>\n",
       "      <th>prompt_token_count</th>\n",
       "      <th>model_id</th>\n",
       "      <th>candidate_model_response</th>\n",
       "      <th>candidate_model</th>\n",
       "      <th>cosine_similarity_score</th>\n",
       "      <th>ground_truth</th>\n",
       "    </tr>\n",
       "  </thead>\n",
       "  <tbody>\n",
       "    <tr>\n",
       "      <th>0</th>\n",
       "      <td>None</td>\n",
       "      <td>Human: You are a judge who evaluates the corre...</td>\n",
       "      <td>{\\n  \"verdict\": \"correct\",\\n  \"explanation\": \"...</td>\n",
       "      <td>63</td>\n",
       "      <td>856</td>\n",
       "      <td>anthropic.claude-3-haiku-20240307-v1:0</td>\n",
       "      <td>The genera Sinofranchetia and Stauntonia belon...</td>\n",
       "      <td>mistral.mistral-7b-instruct-v0:2</td>\n",
       "      <td>0.710724</td>\n",
       "      <td>a genus of flowering plant in the Lardizabalac...</td>\n",
       "    </tr>\n",
       "    <tr>\n",
       "      <th>1</th>\n",
       "      <td>None</td>\n",
       "      <td>Human: You are a judge who evaluates the corre...</td>\n",
       "      <td>{\\n  \"verdict\": \"correct\",\\n  \"explanation\": \"...</td>\n",
       "      <td>63</td>\n",
       "      <td>856</td>\n",
       "      <td>anthropic.claude-3-haiku-20240307-v1:0</td>\n",
       "      <td>The genera Sinofranchetia and Stauntonia belon...</td>\n",
       "      <td>mistral.mistral-7b-instruct-v0:2</td>\n",
       "      <td>0.710724</td>\n",
       "      <td>a genus of flowering plant in the Lardizabalac...</td>\n",
       "    </tr>\n",
       "    <tr>\n",
       "      <th>2</th>\n",
       "      <td>None</td>\n",
       "      <td>Human: You are a judge who evaluates the corre...</td>\n",
       "      <td>{\\n    \"verdict\": \"correct\",\\n    \"explanation...</td>\n",
       "      <td>63</td>\n",
       "      <td>856</td>\n",
       "      <td>anthropic.claude-3-haiku-20240307-v1:0</td>\n",
       "      <td>The genera Sinofranchetia and Stauntonia belon...</td>\n",
       "      <td>mistral.mistral-7b-instruct-v0:2</td>\n",
       "      <td>0.710724</td>\n",
       "      <td>a genus of flowering plant in the Lardizabalac...</td>\n",
       "    </tr>\n",
       "    <tr>\n",
       "      <th>3</th>\n",
       "      <td>None</td>\n",
       "      <td>Human: You are a judge who evaluates the corre...</td>\n",
       "      <td>{\\n  \"verdict\": \"correct\",\\n  \"explanation\": \"...</td>\n",
       "      <td>63</td>\n",
       "      <td>856</td>\n",
       "      <td>anthropic.claude-3-haiku-20240307-v1:0</td>\n",
       "      <td>The genera Sinofranchetia and Stauntonia belon...</td>\n",
       "      <td>mistral.mistral-7b-instruct-v0:2</td>\n",
       "      <td>0.710724</td>\n",
       "      <td>a genus of flowering plant in the Lardizabalac...</td>\n",
       "    </tr>\n",
       "    <tr>\n",
       "      <th>4</th>\n",
       "      <td>None</td>\n",
       "      <td>Human: You are a judge who evaluates the corre...</td>\n",
       "      <td>{\\n  \"verdict\": \"correct\",\\n  \"explanation\": \"...</td>\n",
       "      <td>63</td>\n",
       "      <td>856</td>\n",
       "      <td>anthropic.claude-3-haiku-20240307-v1:0</td>\n",
       "      <td>The genera Sinofranchetia and Stauntonia belon...</td>\n",
       "      <td>mistral.mistral-7b-instruct-v0:2</td>\n",
       "      <td>0.710724</td>\n",
       "      <td>a genus of flowering plant in the Lardizabalac...</td>\n",
       "    </tr>\n",
       "  </tbody>\n",
       "</table>\n",
       "</div>"
      ],
      "text/plain": [
       "  exception                                             prompt  \\\n",
       "0      None  Human: You are a judge who evaluates the corre...   \n",
       "1      None  Human: You are a judge who evaluates the corre...   \n",
       "2      None  Human: You are a judge who evaluates the corre...   \n",
       "3      None  Human: You are a judge who evaluates the corre...   \n",
       "4      None  Human: You are a judge who evaluates the corre...   \n",
       "\n",
       "                                          completion  completion_token_count  \\\n",
       "0  {\\n  \"verdict\": \"correct\",\\n  \"explanation\": \"...                      63   \n",
       "1  {\\n  \"verdict\": \"correct\",\\n  \"explanation\": \"...                      63   \n",
       "2  {\\n    \"verdict\": \"correct\",\\n    \"explanation...                      63   \n",
       "3  {\\n  \"verdict\": \"correct\",\\n  \"explanation\": \"...                      63   \n",
       "4  {\\n  \"verdict\": \"correct\",\\n  \"explanation\": \"...                      63   \n",
       "\n",
       "   prompt_token_count                                model_id  \\\n",
       "0                 856  anthropic.claude-3-haiku-20240307-v1:0   \n",
       "1                 856  anthropic.claude-3-haiku-20240307-v1:0   \n",
       "2                 856  anthropic.claude-3-haiku-20240307-v1:0   \n",
       "3                 856  anthropic.claude-3-haiku-20240307-v1:0   \n",
       "4                 856  anthropic.claude-3-haiku-20240307-v1:0   \n",
       "\n",
       "                            candidate_model_response  \\\n",
       "0  The genera Sinofranchetia and Stauntonia belon...   \n",
       "1  The genera Sinofranchetia and Stauntonia belon...   \n",
       "2  The genera Sinofranchetia and Stauntonia belon...   \n",
       "3  The genera Sinofranchetia and Stauntonia belon...   \n",
       "4  The genera Sinofranchetia and Stauntonia belon...   \n",
       "\n",
       "                    candidate_model  cosine_similarity_score  \\\n",
       "0  mistral.mistral-7b-instruct-v0:2                 0.710724   \n",
       "1  mistral.mistral-7b-instruct-v0:2                 0.710724   \n",
       "2  mistral.mistral-7b-instruct-v0:2                 0.710724   \n",
       "3  mistral.mistral-7b-instruct-v0:2                 0.710724   \n",
       "4  mistral.mistral-7b-instruct-v0:2                 0.710724   \n",
       "\n",
       "                                        ground_truth  \n",
       "0  a genus of flowering plant in the Lardizabalac...  \n",
       "1  a genus of flowering plant in the Lardizabalac...  \n",
       "2  a genus of flowering plant in the Lardizabalac...  \n",
       "3  a genus of flowering plant in the Lardizabalac...  \n",
       "4  a genus of flowering plant in the Lardizabalac...  "
      ]
     },
     "execution_count": 32,
     "metadata": {},
     "output_type": "execute_result"
    }
   ],
   "source": [
    "# convert the results list into a dataframe for easy analytics\n",
    "df_eval_results = pd.DataFrame(resp_list)\n",
    "logger.info(f\"df_eval_results shape={df_eval_results.shape}\")\n",
    "df_eval_results.head()"
   ]
  },
  {
   "cell_type": "code",
   "execution_count": 33,
   "metadata": {
    "tags": []
   },
   "outputs": [
    {
     "name": "stderr",
     "output_type": "stream",
     "text": [
      "[2024-07-12 16:44:47,691] p27460 {4249199706.py:6} INFO - df_eval_results shape=(1080, 12)\n"
     ]
    },
    {
     "name": "stdout",
     "output_type": "stream",
     "text": [
      "parse_as_json, error parsing string as json, string={  \"verdict\": \"correct\",  \"explanation\": \"The answer provided, \"Reality television shows\", is correct compared to the ground truth answer \"American reality television series\". Both WAGS Atlanta and WAGS are American reality television series that chronicle the lives of wives and girlfriends of professional athletes.\"}\n",
      "parse_as_json, error parsing string as json, string={  \"verdict\": \"correct\",  \"explanation\": \"The answer provided correctly identifies that both WAGS Atlanta and WAGS are American reality television series that chronicle the lives of \"WAGs\" (wives and girlfriends of high-profile athletes). The ground truth also confirms that they are both American reality television series, so the answer matches the ground truth.\"}\n",
      "parse_as_json, error parsing string as json, string={  \"verdict\": \"correct\",  \"explanation\": \"The answer provided correctly identifies that both WAGS Atlanta and WAGS are American reality television series that chronicle the lives of \"WAGs\" (wives and girlfriends of high-profile athletes). The ground truth also confirms that they are both American reality television series, so the answer matches the ground truth.\"}\n",
      "parse_as_json, error parsing string as json, string={  \"verdict\": \"correct\",  \"explanation\": \"The answer provided correctly identifies that both WAGS Atlanta and WAGS are American reality television series that chronicle the lives of \"WAGs\" (wives and girlfriends of high-profile athletes). The ground truth also confirms that they are both American reality television series, so the answer matches the ground truth.\"}\n",
      "parse_as_json, error parsing string as json, string={  \"verdict\": \"correct\",  \"explanation\": \"The answer provided, \"reality television shows\", is correct compared to the ground truth answer of \"American reality television series\". Both WAGS Atlanta and WAGS are American reality television shows that chronicle the lives of wives and girlfriends (WAGs) of high-profile athletes, as described in the context provided.\"}\n"
     ]
    },
    {
     "data": {
      "text/html": [
       "<div>\n",
       "<style scoped>\n",
       "    .dataframe tbody tr th:only-of-type {\n",
       "        vertical-align: middle;\n",
       "    }\n",
       "\n",
       "    .dataframe tbody tr th {\n",
       "        vertical-align: top;\n",
       "    }\n",
       "\n",
       "    .dataframe thead th {\n",
       "        text-align: right;\n",
       "    }\n",
       "</style>\n",
       "<table border=\"1\" class=\"dataframe\">\n",
       "  <thead>\n",
       "    <tr style=\"text-align: right;\">\n",
       "      <th></th>\n",
       "      <th>exception</th>\n",
       "      <th>prompt</th>\n",
       "      <th>completion</th>\n",
       "      <th>completion_token_count</th>\n",
       "      <th>prompt_token_count</th>\n",
       "      <th>judge_model_id</th>\n",
       "      <th>candidate_model_response</th>\n",
       "      <th>candidate_model</th>\n",
       "      <th>cosine_similarity_score</th>\n",
       "      <th>ground_truth</th>\n",
       "      <th>verdict</th>\n",
       "      <th>explanation</th>\n",
       "    </tr>\n",
       "  </thead>\n",
       "  <tbody>\n",
       "    <tr>\n",
       "      <th>0</th>\n",
       "      <td>None</td>\n",
       "      <td>Human: You are a judge who evaluates the corre...</td>\n",
       "      <td>{\\n  \"verdict\": \"correct\",\\n  \"explanation\": \"...</td>\n",
       "      <td>63</td>\n",
       "      <td>856</td>\n",
       "      <td>anthropic.claude-3-haiku-20240307-v1:0</td>\n",
       "      <td>The genera Sinofranchetia and Stauntonia belon...</td>\n",
       "      <td>mistral.mistral-7b-instruct-v0:2</td>\n",
       "      <td>0.710724</td>\n",
       "      <td>a genus of flowering plant in the Lardizabalac...</td>\n",
       "      <td>correct</td>\n",
       "      <td>The answer provided correctly states that the ...</td>\n",
       "    </tr>\n",
       "    <tr>\n",
       "      <th>1</th>\n",
       "      <td>None</td>\n",
       "      <td>Human: You are a judge who evaluates the corre...</td>\n",
       "      <td>{\\n  \"verdict\": \"correct\",\\n  \"explanation\": \"...</td>\n",
       "      <td>63</td>\n",
       "      <td>856</td>\n",
       "      <td>anthropic.claude-3-haiku-20240307-v1:0</td>\n",
       "      <td>The genera Sinofranchetia and Stauntonia belon...</td>\n",
       "      <td>mistral.mistral-7b-instruct-v0:2</td>\n",
       "      <td>0.710724</td>\n",
       "      <td>a genus of flowering plant in the Lardizabalac...</td>\n",
       "      <td>correct</td>\n",
       "      <td>The answer provided correctly states that the ...</td>\n",
       "    </tr>\n",
       "    <tr>\n",
       "      <th>2</th>\n",
       "      <td>None</td>\n",
       "      <td>Human: You are a judge who evaluates the corre...</td>\n",
       "      <td>{\\n    \"verdict\": \"correct\",\\n    \"explanation...</td>\n",
       "      <td>63</td>\n",
       "      <td>856</td>\n",
       "      <td>anthropic.claude-3-haiku-20240307-v1:0</td>\n",
       "      <td>The genera Sinofranchetia and Stauntonia belon...</td>\n",
       "      <td>mistral.mistral-7b-instruct-v0:2</td>\n",
       "      <td>0.710724</td>\n",
       "      <td>a genus of flowering plant in the Lardizabalac...</td>\n",
       "      <td>correct</td>\n",
       "      <td>The answer provided correctly states that the ...</td>\n",
       "    </tr>\n",
       "    <tr>\n",
       "      <th>3</th>\n",
       "      <td>None</td>\n",
       "      <td>Human: You are a judge who evaluates the corre...</td>\n",
       "      <td>{\\n  \"verdict\": \"correct\",\\n  \"explanation\": \"...</td>\n",
       "      <td>63</td>\n",
       "      <td>856</td>\n",
       "      <td>anthropic.claude-3-haiku-20240307-v1:0</td>\n",
       "      <td>The genera Sinofranchetia and Stauntonia belon...</td>\n",
       "      <td>mistral.mistral-7b-instruct-v0:2</td>\n",
       "      <td>0.710724</td>\n",
       "      <td>a genus of flowering plant in the Lardizabalac...</td>\n",
       "      <td>correct</td>\n",
       "      <td>The answer provided correctly states that the ...</td>\n",
       "    </tr>\n",
       "    <tr>\n",
       "      <th>4</th>\n",
       "      <td>None</td>\n",
       "      <td>Human: You are a judge who evaluates the corre...</td>\n",
       "      <td>{\\n  \"verdict\": \"correct\",\\n  \"explanation\": \"...</td>\n",
       "      <td>63</td>\n",
       "      <td>856</td>\n",
       "      <td>anthropic.claude-3-haiku-20240307-v1:0</td>\n",
       "      <td>The genera Sinofranchetia and Stauntonia belon...</td>\n",
       "      <td>mistral.mistral-7b-instruct-v0:2</td>\n",
       "      <td>0.710724</td>\n",
       "      <td>a genus of flowering plant in the Lardizabalac...</td>\n",
       "      <td>correct</td>\n",
       "      <td>The answer provided correctly states that the ...</td>\n",
       "    </tr>\n",
       "  </tbody>\n",
       "</table>\n",
       "</div>"
      ],
      "text/plain": [
       "  exception                                             prompt  \\\n",
       "0      None  Human: You are a judge who evaluates the corre...   \n",
       "1      None  Human: You are a judge who evaluates the corre...   \n",
       "2      None  Human: You are a judge who evaluates the corre...   \n",
       "3      None  Human: You are a judge who evaluates the corre...   \n",
       "4      None  Human: You are a judge who evaluates the corre...   \n",
       "\n",
       "                                          completion  completion_token_count  \\\n",
       "0  {\\n  \"verdict\": \"correct\",\\n  \"explanation\": \"...                      63   \n",
       "1  {\\n  \"verdict\": \"correct\",\\n  \"explanation\": \"...                      63   \n",
       "2  {\\n    \"verdict\": \"correct\",\\n    \"explanation...                      63   \n",
       "3  {\\n  \"verdict\": \"correct\",\\n  \"explanation\": \"...                      63   \n",
       "4  {\\n  \"verdict\": \"correct\",\\n  \"explanation\": \"...                      63   \n",
       "\n",
       "   prompt_token_count                          judge_model_id  \\\n",
       "0                 856  anthropic.claude-3-haiku-20240307-v1:0   \n",
       "1                 856  anthropic.claude-3-haiku-20240307-v1:0   \n",
       "2                 856  anthropic.claude-3-haiku-20240307-v1:0   \n",
       "3                 856  anthropic.claude-3-haiku-20240307-v1:0   \n",
       "4                 856  anthropic.claude-3-haiku-20240307-v1:0   \n",
       "\n",
       "                            candidate_model_response  \\\n",
       "0  The genera Sinofranchetia and Stauntonia belon...   \n",
       "1  The genera Sinofranchetia and Stauntonia belon...   \n",
       "2  The genera Sinofranchetia and Stauntonia belon...   \n",
       "3  The genera Sinofranchetia and Stauntonia belon...   \n",
       "4  The genera Sinofranchetia and Stauntonia belon...   \n",
       "\n",
       "                    candidate_model  cosine_similarity_score  \\\n",
       "0  mistral.mistral-7b-instruct-v0:2                 0.710724   \n",
       "1  mistral.mistral-7b-instruct-v0:2                 0.710724   \n",
       "2  mistral.mistral-7b-instruct-v0:2                 0.710724   \n",
       "3  mistral.mistral-7b-instruct-v0:2                 0.710724   \n",
       "4  mistral.mistral-7b-instruct-v0:2                 0.710724   \n",
       "\n",
       "                                        ground_truth  verdict  \\\n",
       "0  a genus of flowering plant in the Lardizabalac...  correct   \n",
       "1  a genus of flowering plant in the Lardizabalac...  correct   \n",
       "2  a genus of flowering plant in the Lardizabalac...  correct   \n",
       "3  a genus of flowering plant in the Lardizabalac...  correct   \n",
       "4  a genus of flowering plant in the Lardizabalac...  correct   \n",
       "\n",
       "                                         explanation  \n",
       "0  The answer provided correctly states that the ...  \n",
       "1  The answer provided correctly states that the ...  \n",
       "2  The answer provided correctly states that the ...  \n",
       "3  The answer provided correctly states that the ...  \n",
       "4  The answer provided correctly states that the ...  "
      ]
     },
     "execution_count": 33,
     "metadata": {},
     "output_type": "execute_result"
    }
   ],
   "source": [
    "# parse out the completion from LLM as a judge and column bind\n",
    "# the fields of the dictionary to the original results dataframe\n",
    "df_eval_results_only = df_eval_results['completion'].apply(parse_as_json).apply(pd.Series)\n",
    "df_eval_results = pd.concat([df_eval_results, df_eval_results_only], axis=1)\n",
    "df_eval_results.rename(columns={'model_id': 'judge_model_id'}, inplace=True)\n",
    "logger.info(f\"df_eval_results shape={df_eval_results.shape}\")\n",
    "df_eval_results.head()"
   ]
  },
  {
   "cell_type": "code",
   "execution_count": 34,
   "metadata": {
    "tags": []
   },
   "outputs": [
    {
     "name": "stderr",
     "output_type": "stream",
     "text": [
      "[2024-07-12 16:44:48,463] p27460 {3367761925.py:10} INFO - Per PoLL model responses saved as a csv to s3://sagemaker-fmbench-write-us-west-2-387192758086/fmbench-bedrock-fmbench-stack-us-west-2-role/data/metrics/yyyy=2024/mm=07/dd=12/hh=16/mm=35/raw_llm_as_a_judge_evals.csv\n"
     ]
    },
    {
     "data": {
      "text/html": [
       "<div>\n",
       "<style scoped>\n",
       "    .dataframe tbody tr th:only-of-type {\n",
       "        vertical-align: middle;\n",
       "    }\n",
       "\n",
       "    .dataframe tbody tr th {\n",
       "        vertical-align: top;\n",
       "    }\n",
       "\n",
       "    .dataframe thead th {\n",
       "        text-align: right;\n",
       "    }\n",
       "</style>\n",
       "<table border=\"1\" class=\"dataframe\">\n",
       "  <thead>\n",
       "    <tr style=\"text-align: right;\">\n",
       "      <th></th>\n",
       "      <th>exception</th>\n",
       "      <th>prompt</th>\n",
       "      <th>completion</th>\n",
       "      <th>completion_token_count</th>\n",
       "      <th>prompt_token_count</th>\n",
       "      <th>judge_model_id</th>\n",
       "      <th>candidate_model_response</th>\n",
       "      <th>candidate_model</th>\n",
       "      <th>cosine_similarity_score</th>\n",
       "      <th>ground_truth</th>\n",
       "      <th>verdict</th>\n",
       "      <th>explanation</th>\n",
       "    </tr>\n",
       "  </thead>\n",
       "  <tbody>\n",
       "    <tr>\n",
       "      <th>0</th>\n",
       "      <td>None</td>\n",
       "      <td>Human: You are a judge who evaluates the corre...</td>\n",
       "      <td>{\\n  \"verdict\": \"correct\",\\n  \"explanation\": \"...</td>\n",
       "      <td>63</td>\n",
       "      <td>856</td>\n",
       "      <td>anthropic.claude-3-haiku-20240307-v1:0</td>\n",
       "      <td>The genera Sinofranchetia and Stauntonia belon...</td>\n",
       "      <td>mistral.mistral-7b-instruct-v0:2</td>\n",
       "      <td>0.710724</td>\n",
       "      <td>a genus of flowering plant in the Lardizabalac...</td>\n",
       "      <td>correct</td>\n",
       "      <td>The answer provided correctly states that the ...</td>\n",
       "    </tr>\n",
       "    <tr>\n",
       "      <th>1</th>\n",
       "      <td>None</td>\n",
       "      <td>Human: You are a judge who evaluates the corre...</td>\n",
       "      <td>{\\n  \"verdict\": \"correct\",\\n  \"explanation\": \"...</td>\n",
       "      <td>63</td>\n",
       "      <td>856</td>\n",
       "      <td>anthropic.claude-3-haiku-20240307-v1:0</td>\n",
       "      <td>The genera Sinofranchetia and Stauntonia belon...</td>\n",
       "      <td>mistral.mistral-7b-instruct-v0:2</td>\n",
       "      <td>0.710724</td>\n",
       "      <td>a genus of flowering plant in the Lardizabalac...</td>\n",
       "      <td>correct</td>\n",
       "      <td>The answer provided correctly states that the ...</td>\n",
       "    </tr>\n",
       "    <tr>\n",
       "      <th>2</th>\n",
       "      <td>None</td>\n",
       "      <td>Human: You are a judge who evaluates the corre...</td>\n",
       "      <td>{\\n    \"verdict\": \"correct\",\\n    \"explanation...</td>\n",
       "      <td>63</td>\n",
       "      <td>856</td>\n",
       "      <td>anthropic.claude-3-haiku-20240307-v1:0</td>\n",
       "      <td>The genera Sinofranchetia and Stauntonia belon...</td>\n",
       "      <td>mistral.mistral-7b-instruct-v0:2</td>\n",
       "      <td>0.710724</td>\n",
       "      <td>a genus of flowering plant in the Lardizabalac...</td>\n",
       "      <td>correct</td>\n",
       "      <td>The answer provided correctly states that the ...</td>\n",
       "    </tr>\n",
       "    <tr>\n",
       "      <th>3</th>\n",
       "      <td>None</td>\n",
       "      <td>Human: You are a judge who evaluates the corre...</td>\n",
       "      <td>{\\n  \"verdict\": \"correct\",\\n  \"explanation\": \"...</td>\n",
       "      <td>63</td>\n",
       "      <td>856</td>\n",
       "      <td>anthropic.claude-3-haiku-20240307-v1:0</td>\n",
       "      <td>The genera Sinofranchetia and Stauntonia belon...</td>\n",
       "      <td>mistral.mistral-7b-instruct-v0:2</td>\n",
       "      <td>0.710724</td>\n",
       "      <td>a genus of flowering plant in the Lardizabalac...</td>\n",
       "      <td>correct</td>\n",
       "      <td>The answer provided correctly states that the ...</td>\n",
       "    </tr>\n",
       "    <tr>\n",
       "      <th>4</th>\n",
       "      <td>None</td>\n",
       "      <td>Human: You are a judge who evaluates the corre...</td>\n",
       "      <td>{\\n  \"verdict\": \"correct\",\\n  \"explanation\": \"...</td>\n",
       "      <td>63</td>\n",
       "      <td>856</td>\n",
       "      <td>anthropic.claude-3-haiku-20240307-v1:0</td>\n",
       "      <td>The genera Sinofranchetia and Stauntonia belon...</td>\n",
       "      <td>mistral.mistral-7b-instruct-v0:2</td>\n",
       "      <td>0.710724</td>\n",
       "      <td>a genus of flowering plant in the Lardizabalac...</td>\n",
       "      <td>correct</td>\n",
       "      <td>The answer provided correctly states that the ...</td>\n",
       "    </tr>\n",
       "  </tbody>\n",
       "</table>\n",
       "</div>"
      ],
      "text/plain": [
       "  exception                                             prompt  \\\n",
       "0      None  Human: You are a judge who evaluates the corre...   \n",
       "1      None  Human: You are a judge who evaluates the corre...   \n",
       "2      None  Human: You are a judge who evaluates the corre...   \n",
       "3      None  Human: You are a judge who evaluates the corre...   \n",
       "4      None  Human: You are a judge who evaluates the corre...   \n",
       "\n",
       "                                          completion  completion_token_count  \\\n",
       "0  {\\n  \"verdict\": \"correct\",\\n  \"explanation\": \"...                      63   \n",
       "1  {\\n  \"verdict\": \"correct\",\\n  \"explanation\": \"...                      63   \n",
       "2  {\\n    \"verdict\": \"correct\",\\n    \"explanation...                      63   \n",
       "3  {\\n  \"verdict\": \"correct\",\\n  \"explanation\": \"...                      63   \n",
       "4  {\\n  \"verdict\": \"correct\",\\n  \"explanation\": \"...                      63   \n",
       "\n",
       "   prompt_token_count                          judge_model_id  \\\n",
       "0                 856  anthropic.claude-3-haiku-20240307-v1:0   \n",
       "1                 856  anthropic.claude-3-haiku-20240307-v1:0   \n",
       "2                 856  anthropic.claude-3-haiku-20240307-v1:0   \n",
       "3                 856  anthropic.claude-3-haiku-20240307-v1:0   \n",
       "4                 856  anthropic.claude-3-haiku-20240307-v1:0   \n",
       "\n",
       "                            candidate_model_response  \\\n",
       "0  The genera Sinofranchetia and Stauntonia belon...   \n",
       "1  The genera Sinofranchetia and Stauntonia belon...   \n",
       "2  The genera Sinofranchetia and Stauntonia belon...   \n",
       "3  The genera Sinofranchetia and Stauntonia belon...   \n",
       "4  The genera Sinofranchetia and Stauntonia belon...   \n",
       "\n",
       "                    candidate_model  cosine_similarity_score  \\\n",
       "0  mistral.mistral-7b-instruct-v0:2                 0.710724   \n",
       "1  mistral.mistral-7b-instruct-v0:2                 0.710724   \n",
       "2  mistral.mistral-7b-instruct-v0:2                 0.710724   \n",
       "3  mistral.mistral-7b-instruct-v0:2                 0.710724   \n",
       "4  mistral.mistral-7b-instruct-v0:2                 0.710724   \n",
       "\n",
       "                                        ground_truth  verdict  \\\n",
       "0  a genus of flowering plant in the Lardizabalac...  correct   \n",
       "1  a genus of flowering plant in the Lardizabalac...  correct   \n",
       "2  a genus of flowering plant in the Lardizabalac...  correct   \n",
       "3  a genus of flowering plant in the Lardizabalac...  correct   \n",
       "4  a genus of flowering plant in the Lardizabalac...  correct   \n",
       "\n",
       "                                         explanation  \n",
       "0  The answer provided correctly states that the ...  \n",
       "1  The answer provided correctly states that the ...  \n",
       "2  The answer provided correctly states that the ...  \n",
       "3  The answer provided correctly states that the ...  \n",
       "4  The answer provided correctly states that the ...  "
      ]
     },
     "execution_count": 34,
     "metadata": {},
     "output_type": "execute_result"
    }
   ],
   "source": [
    "# send the raw results as a csv file to the S3 bucket\n",
    "csv_buffer = io.StringIO()\n",
    "df_eval_results.to_csv(csv_buffer, index=False)\n",
    "eval_llm_as_a_judge_results = csv_buffer.getvalue()\n",
    "eval_results_csv_fpath = os.path.join(METRICS_DIR, MODEL_EVAL_COMPLETIONS_CSV)  # Define full S3 path\n",
    "\n",
    "# Write the CSV data to S3\n",
    "write_to_s3(eval_llm_as_a_judge_results, BUCKET_NAME, \"\", \n",
    "            METRICS_DIR, MODEL_EVAL_COMPLETIONS_CSV)\n",
    "logger.info(f\"Per PoLL model responses saved as a csv to s3://{BUCKET_NAME}/{eval_results_csv_fpath}\")\n",
    "df_eval_results.head()"
   ]
  },
  {
   "cell_type": "code",
   "execution_count": 35,
   "metadata": {
    "tags": []
   },
   "outputs": [],
   "source": [
    "panel_summary_responses_df = df_eval_results.groupby(['judge_model_id', 'candidate_model', 'verdict']).size().unstack(fill_value=0)\n",
    "panel_summary_responses_df.reset_index(inplace=True)"
   ]
  },
  {
   "cell_type": "code",
   "execution_count": 36,
   "metadata": {},
   "outputs": [
    {
     "name": "stderr",
     "output_type": "stream",
     "text": [
      "[2024-07-12 16:44:50,952] p27460 {1355189319.py:10} INFO - Summary on each eval (max voting/average pooling) for each panel judge sent to s3://sagemaker-fmbench-write-us-west-2-387192758086/fmbench-bedrock-fmbench-stack-us-west-2-role/data/metrics/yyyy=2024/mm=07/dd=12/hh=16/mm=35/llm_as_a_judge_per_eval_summary.csv\n"
     ]
    },
    {
     "data": {
      "text/html": [
       "<div>\n",
       "<style scoped>\n",
       "    .dataframe tbody tr th:only-of-type {\n",
       "        vertical-align: middle;\n",
       "    }\n",
       "\n",
       "    .dataframe tbody tr th {\n",
       "        vertical-align: top;\n",
       "    }\n",
       "\n",
       "    .dataframe thead th {\n",
       "        text-align: right;\n",
       "    }\n",
       "</style>\n",
       "<table border=\"1\" class=\"dataframe\">\n",
       "  <thead>\n",
       "    <tr style=\"text-align: right;\">\n",
       "      <th>verdict</th>\n",
       "      <th>judge_model_id</th>\n",
       "      <th>candidate_model</th>\n",
       "      <th>correct</th>\n",
       "      <th>incorrect</th>\n",
       "    </tr>\n",
       "  </thead>\n",
       "  <tbody>\n",
       "    <tr>\n",
       "      <th>0</th>\n",
       "      <td>anthropic.claude-3-haiku-20240307-v1:0</td>\n",
       "      <td>ai21.j2-mid-v1</td>\n",
       "      <td>30</td>\n",
       "      <td>0</td>\n",
       "    </tr>\n",
       "    <tr>\n",
       "      <th>1</th>\n",
       "      <td>anthropic.claude-3-haiku-20240307-v1:0</td>\n",
       "      <td>ai21.j2-ultra-v1</td>\n",
       "      <td>30</td>\n",
       "      <td>0</td>\n",
       "    </tr>\n",
       "    <tr>\n",
       "      <th>2</th>\n",
       "      <td>anthropic.claude-3-haiku-20240307-v1:0</td>\n",
       "      <td>amazon.titan-text-express-v1</td>\n",
       "      <td>30</td>\n",
       "      <td>0</td>\n",
       "    </tr>\n",
       "    <tr>\n",
       "      <th>3</th>\n",
       "      <td>anthropic.claude-3-haiku-20240307-v1:0</td>\n",
       "      <td>amazon.titan-text-lite-v1</td>\n",
       "      <td>26</td>\n",
       "      <td>3</td>\n",
       "    </tr>\n",
       "    <tr>\n",
       "      <th>4</th>\n",
       "      <td>anthropic.claude-3-haiku-20240307-v1:0</td>\n",
       "      <td>anthropic.claude-3-haiku-20240307-v1:0</td>\n",
       "      <td>27</td>\n",
       "      <td>0</td>\n",
       "    </tr>\n",
       "    <tr>\n",
       "      <th>5</th>\n",
       "      <td>anthropic.claude-3-haiku-20240307-v1:0</td>\n",
       "      <td>anthropic.claude-3-sonnet-20240229-v1:0</td>\n",
       "      <td>30</td>\n",
       "      <td>0</td>\n",
       "    </tr>\n",
       "    <tr>\n",
       "      <th>6</th>\n",
       "      <td>anthropic.claude-3-haiku-20240307-v1:0</td>\n",
       "      <td>cohere.command-light-text-v14</td>\n",
       "      <td>23</td>\n",
       "      <td>6</td>\n",
       "    </tr>\n",
       "    <tr>\n",
       "      <th>7</th>\n",
       "      <td>anthropic.claude-3-haiku-20240307-v1:0</td>\n",
       "      <td>cohere.command-text-v14</td>\n",
       "      <td>27</td>\n",
       "      <td>3</td>\n",
       "    </tr>\n",
       "    <tr>\n",
       "      <th>8</th>\n",
       "      <td>anthropic.claude-3-haiku-20240307-v1:0</td>\n",
       "      <td>meta.llama2-13b-chat-v1</td>\n",
       "      <td>27</td>\n",
       "      <td>3</td>\n",
       "    </tr>\n",
       "    <tr>\n",
       "      <th>9</th>\n",
       "      <td>anthropic.claude-3-haiku-20240307-v1:0</td>\n",
       "      <td>meta.llama2-70b-chat-v1</td>\n",
       "      <td>30</td>\n",
       "      <td>0</td>\n",
       "    </tr>\n",
       "    <tr>\n",
       "      <th>10</th>\n",
       "      <td>anthropic.claude-3-haiku-20240307-v1:0</td>\n",
       "      <td>mistral.mistral-7b-instruct-v0:2</td>\n",
       "      <td>30</td>\n",
       "      <td>0</td>\n",
       "    </tr>\n",
       "    <tr>\n",
       "      <th>11</th>\n",
       "      <td>anthropic.claude-3-haiku-20240307-v1:0</td>\n",
       "      <td>mistral.mixtral-8x7b-instruct-v0:1</td>\n",
       "      <td>27</td>\n",
       "      <td>3</td>\n",
       "    </tr>\n",
       "    <tr>\n",
       "      <th>12</th>\n",
       "      <td>cohere.command-r-v1:0</td>\n",
       "      <td>ai21.j2-mid-v1</td>\n",
       "      <td>30</td>\n",
       "      <td>0</td>\n",
       "    </tr>\n",
       "    <tr>\n",
       "      <th>13</th>\n",
       "      <td>cohere.command-r-v1:0</td>\n",
       "      <td>ai21.j2-ultra-v1</td>\n",
       "      <td>27</td>\n",
       "      <td>3</td>\n",
       "    </tr>\n",
       "    <tr>\n",
       "      <th>14</th>\n",
       "      <td>cohere.command-r-v1:0</td>\n",
       "      <td>amazon.titan-text-express-v1</td>\n",
       "      <td>28</td>\n",
       "      <td>2</td>\n",
       "    </tr>\n",
       "    <tr>\n",
       "      <th>15</th>\n",
       "      <td>cohere.command-r-v1:0</td>\n",
       "      <td>amazon.titan-text-lite-v1</td>\n",
       "      <td>26</td>\n",
       "      <td>4</td>\n",
       "    </tr>\n",
       "    <tr>\n",
       "      <th>16</th>\n",
       "      <td>cohere.command-r-v1:0</td>\n",
       "      <td>anthropic.claude-3-haiku-20240307-v1:0</td>\n",
       "      <td>30</td>\n",
       "      <td>0</td>\n",
       "    </tr>\n",
       "    <tr>\n",
       "      <th>17</th>\n",
       "      <td>cohere.command-r-v1:0</td>\n",
       "      <td>anthropic.claude-3-sonnet-20240229-v1:0</td>\n",
       "      <td>30</td>\n",
       "      <td>0</td>\n",
       "    </tr>\n",
       "    <tr>\n",
       "      <th>18</th>\n",
       "      <td>cohere.command-r-v1:0</td>\n",
       "      <td>cohere.command-light-text-v14</td>\n",
       "      <td>27</td>\n",
       "      <td>3</td>\n",
       "    </tr>\n",
       "    <tr>\n",
       "      <th>19</th>\n",
       "      <td>cohere.command-r-v1:0</td>\n",
       "      <td>cohere.command-text-v14</td>\n",
       "      <td>27</td>\n",
       "      <td>3</td>\n",
       "    </tr>\n",
       "    <tr>\n",
       "      <th>20</th>\n",
       "      <td>cohere.command-r-v1:0</td>\n",
       "      <td>meta.llama2-13b-chat-v1</td>\n",
       "      <td>27</td>\n",
       "      <td>3</td>\n",
       "    </tr>\n",
       "    <tr>\n",
       "      <th>21</th>\n",
       "      <td>cohere.command-r-v1:0</td>\n",
       "      <td>meta.llama2-70b-chat-v1</td>\n",
       "      <td>30</td>\n",
       "      <td>0</td>\n",
       "    </tr>\n",
       "    <tr>\n",
       "      <th>22</th>\n",
       "      <td>cohere.command-r-v1:0</td>\n",
       "      <td>mistral.mistral-7b-instruct-v0:2</td>\n",
       "      <td>30</td>\n",
       "      <td>0</td>\n",
       "    </tr>\n",
       "    <tr>\n",
       "      <th>23</th>\n",
       "      <td>cohere.command-r-v1:0</td>\n",
       "      <td>mistral.mixtral-8x7b-instruct-v0:1</td>\n",
       "      <td>27</td>\n",
       "      <td>3</td>\n",
       "    </tr>\n",
       "    <tr>\n",
       "      <th>24</th>\n",
       "      <td>meta.llama3-70b-instruct-v1:0</td>\n",
       "      <td>ai21.j2-mid-v1</td>\n",
       "      <td>30</td>\n",
       "      <td>0</td>\n",
       "    </tr>\n",
       "    <tr>\n",
       "      <th>25</th>\n",
       "      <td>meta.llama3-70b-instruct-v1:0</td>\n",
       "      <td>ai21.j2-ultra-v1</td>\n",
       "      <td>30</td>\n",
       "      <td>0</td>\n",
       "    </tr>\n",
       "    <tr>\n",
       "      <th>26</th>\n",
       "      <td>meta.llama3-70b-instruct-v1:0</td>\n",
       "      <td>amazon.titan-text-express-v1</td>\n",
       "      <td>30</td>\n",
       "      <td>0</td>\n",
       "    </tr>\n",
       "    <tr>\n",
       "      <th>27</th>\n",
       "      <td>meta.llama3-70b-instruct-v1:0</td>\n",
       "      <td>amazon.titan-text-lite-v1</td>\n",
       "      <td>27</td>\n",
       "      <td>3</td>\n",
       "    </tr>\n",
       "    <tr>\n",
       "      <th>28</th>\n",
       "      <td>meta.llama3-70b-instruct-v1:0</td>\n",
       "      <td>anthropic.claude-3-haiku-20240307-v1:0</td>\n",
       "      <td>30</td>\n",
       "      <td>0</td>\n",
       "    </tr>\n",
       "    <tr>\n",
       "      <th>29</th>\n",
       "      <td>meta.llama3-70b-instruct-v1:0</td>\n",
       "      <td>anthropic.claude-3-sonnet-20240229-v1:0</td>\n",
       "      <td>30</td>\n",
       "      <td>0</td>\n",
       "    </tr>\n",
       "    <tr>\n",
       "      <th>30</th>\n",
       "      <td>meta.llama3-70b-instruct-v1:0</td>\n",
       "      <td>cohere.command-light-text-v14</td>\n",
       "      <td>24</td>\n",
       "      <td>6</td>\n",
       "    </tr>\n",
       "    <tr>\n",
       "      <th>31</th>\n",
       "      <td>meta.llama3-70b-instruct-v1:0</td>\n",
       "      <td>cohere.command-text-v14</td>\n",
       "      <td>27</td>\n",
       "      <td>3</td>\n",
       "    </tr>\n",
       "    <tr>\n",
       "      <th>32</th>\n",
       "      <td>meta.llama3-70b-instruct-v1:0</td>\n",
       "      <td>meta.llama2-13b-chat-v1</td>\n",
       "      <td>27</td>\n",
       "      <td>3</td>\n",
       "    </tr>\n",
       "    <tr>\n",
       "      <th>33</th>\n",
       "      <td>meta.llama3-70b-instruct-v1:0</td>\n",
       "      <td>meta.llama2-70b-chat-v1</td>\n",
       "      <td>30</td>\n",
       "      <td>0</td>\n",
       "    </tr>\n",
       "    <tr>\n",
       "      <th>34</th>\n",
       "      <td>meta.llama3-70b-instruct-v1:0</td>\n",
       "      <td>mistral.mistral-7b-instruct-v0:2</td>\n",
       "      <td>30</td>\n",
       "      <td>0</td>\n",
       "    </tr>\n",
       "    <tr>\n",
       "      <th>35</th>\n",
       "      <td>meta.llama3-70b-instruct-v1:0</td>\n",
       "      <td>mistral.mixtral-8x7b-instruct-v0:1</td>\n",
       "      <td>27</td>\n",
       "      <td>3</td>\n",
       "    </tr>\n",
       "  </tbody>\n",
       "</table>\n",
       "</div>"
      ],
      "text/plain": [
       "verdict                          judge_model_id  \\\n",
       "0        anthropic.claude-3-haiku-20240307-v1:0   \n",
       "1        anthropic.claude-3-haiku-20240307-v1:0   \n",
       "2        anthropic.claude-3-haiku-20240307-v1:0   \n",
       "3        anthropic.claude-3-haiku-20240307-v1:0   \n",
       "4        anthropic.claude-3-haiku-20240307-v1:0   \n",
       "5        anthropic.claude-3-haiku-20240307-v1:0   \n",
       "6        anthropic.claude-3-haiku-20240307-v1:0   \n",
       "7        anthropic.claude-3-haiku-20240307-v1:0   \n",
       "8        anthropic.claude-3-haiku-20240307-v1:0   \n",
       "9        anthropic.claude-3-haiku-20240307-v1:0   \n",
       "10       anthropic.claude-3-haiku-20240307-v1:0   \n",
       "11       anthropic.claude-3-haiku-20240307-v1:0   \n",
       "12                        cohere.command-r-v1:0   \n",
       "13                        cohere.command-r-v1:0   \n",
       "14                        cohere.command-r-v1:0   \n",
       "15                        cohere.command-r-v1:0   \n",
       "16                        cohere.command-r-v1:0   \n",
       "17                        cohere.command-r-v1:0   \n",
       "18                        cohere.command-r-v1:0   \n",
       "19                        cohere.command-r-v1:0   \n",
       "20                        cohere.command-r-v1:0   \n",
       "21                        cohere.command-r-v1:0   \n",
       "22                        cohere.command-r-v1:0   \n",
       "23                        cohere.command-r-v1:0   \n",
       "24                meta.llama3-70b-instruct-v1:0   \n",
       "25                meta.llama3-70b-instruct-v1:0   \n",
       "26                meta.llama3-70b-instruct-v1:0   \n",
       "27                meta.llama3-70b-instruct-v1:0   \n",
       "28                meta.llama3-70b-instruct-v1:0   \n",
       "29                meta.llama3-70b-instruct-v1:0   \n",
       "30                meta.llama3-70b-instruct-v1:0   \n",
       "31                meta.llama3-70b-instruct-v1:0   \n",
       "32                meta.llama3-70b-instruct-v1:0   \n",
       "33                meta.llama3-70b-instruct-v1:0   \n",
       "34                meta.llama3-70b-instruct-v1:0   \n",
       "35                meta.llama3-70b-instruct-v1:0   \n",
       "\n",
       "verdict                          candidate_model  correct  incorrect  \n",
       "0                                 ai21.j2-mid-v1       30          0  \n",
       "1                               ai21.j2-ultra-v1       30          0  \n",
       "2                   amazon.titan-text-express-v1       30          0  \n",
       "3                      amazon.titan-text-lite-v1       26          3  \n",
       "4         anthropic.claude-3-haiku-20240307-v1:0       27          0  \n",
       "5        anthropic.claude-3-sonnet-20240229-v1:0       30          0  \n",
       "6                  cohere.command-light-text-v14       23          6  \n",
       "7                        cohere.command-text-v14       27          3  \n",
       "8                        meta.llama2-13b-chat-v1       27          3  \n",
       "9                        meta.llama2-70b-chat-v1       30          0  \n",
       "10              mistral.mistral-7b-instruct-v0:2       30          0  \n",
       "11            mistral.mixtral-8x7b-instruct-v0:1       27          3  \n",
       "12                                ai21.j2-mid-v1       30          0  \n",
       "13                              ai21.j2-ultra-v1       27          3  \n",
       "14                  amazon.titan-text-express-v1       28          2  \n",
       "15                     amazon.titan-text-lite-v1       26          4  \n",
       "16        anthropic.claude-3-haiku-20240307-v1:0       30          0  \n",
       "17       anthropic.claude-3-sonnet-20240229-v1:0       30          0  \n",
       "18                 cohere.command-light-text-v14       27          3  \n",
       "19                       cohere.command-text-v14       27          3  \n",
       "20                       meta.llama2-13b-chat-v1       27          3  \n",
       "21                       meta.llama2-70b-chat-v1       30          0  \n",
       "22              mistral.mistral-7b-instruct-v0:2       30          0  \n",
       "23            mistral.mixtral-8x7b-instruct-v0:1       27          3  \n",
       "24                                ai21.j2-mid-v1       30          0  \n",
       "25                              ai21.j2-ultra-v1       30          0  \n",
       "26                  amazon.titan-text-express-v1       30          0  \n",
       "27                     amazon.titan-text-lite-v1       27          3  \n",
       "28        anthropic.claude-3-haiku-20240307-v1:0       30          0  \n",
       "29       anthropic.claude-3-sonnet-20240229-v1:0       30          0  \n",
       "30                 cohere.command-light-text-v14       24          6  \n",
       "31                       cohere.command-text-v14       27          3  \n",
       "32                       meta.llama2-13b-chat-v1       27          3  \n",
       "33                       meta.llama2-70b-chat-v1       30          0  \n",
       "34              mistral.mistral-7b-instruct-v0:2       30          0  \n",
       "35            mistral.mixtral-8x7b-instruct-v0:1       27          3  "
      ]
     },
     "execution_count": 36,
     "metadata": {},
     "output_type": "execute_result"
    }
   ],
   "source": [
    "# send the raw results as a csv file to the S3 bucket\n",
    "csv_buffer = io.StringIO()\n",
    "panel_summary_responses_df.to_csv(csv_buffer, index=False)\n",
    "panel_summary_responses = csv_buffer.getvalue()\n",
    "llm_as_a_judge_per_eval_summary_fpath = os.path.join(METRICS_DIR, LLM_JUDGE_PANEL_RESPONSE_SUMMARIES)  # Define full S3 path\n",
    "\n",
    "# Write the CSV data to S3\n",
    "write_to_s3(panel_summary_responses, BUCKET_NAME, \"\", \n",
    "            METRICS_DIR, LLM_JUDGE_PANEL_RESPONSE_SUMMARIES)\n",
    "logger.info(f\"Summary on each eval (max voting/average pooling) for each panel judge sent to s3://{BUCKET_NAME}/{llm_as_a_judge_per_eval_summary_fpath}\")\n",
    "panel_summary_responses_df.head(40)"
   ]
  },
  {
   "cell_type": "markdown",
   "metadata": {},
   "source": [
    "#### Calculate the overall accuracy of each model scored by the PoLL\n",
    "---"
   ]
  },
  {
   "cell_type": "code",
   "execution_count": 37,
   "metadata": {
    "tags": []
   },
   "outputs": [
    {
     "data": {
      "text/html": [
       "<div>\n",
       "<style scoped>\n",
       "    .dataframe tbody tr th:only-of-type {\n",
       "        vertical-align: middle;\n",
       "    }\n",
       "\n",
       "    .dataframe tbody tr th {\n",
       "        vertical-align: top;\n",
       "    }\n",
       "\n",
       "    .dataframe thead th {\n",
       "        text-align: right;\n",
       "    }\n",
       "</style>\n",
       "<table border=\"1\" class=\"dataframe\">\n",
       "  <thead>\n",
       "    <tr style=\"text-align: right;\">\n",
       "      <th>verdict</th>\n",
       "      <th>candidate_model</th>\n",
       "      <th>judge_model_id</th>\n",
       "      <th>accuracy</th>\n",
       "      <th>error_rate</th>\n",
       "    </tr>\n",
       "  </thead>\n",
       "  <tbody>\n",
       "    <tr>\n",
       "      <th>0</th>\n",
       "      <td>ai21.j2-mid-v1</td>\n",
       "      <td>anthropic.claude-3-haiku-20240307-v1:0</td>\n",
       "      <td>100.0</td>\n",
       "      <td>0.0</td>\n",
       "    </tr>\n",
       "    <tr>\n",
       "      <th>1</th>\n",
       "      <td>ai21.j2-mid-v1</td>\n",
       "      <td>cohere.command-r-v1:0</td>\n",
       "      <td>100.0</td>\n",
       "      <td>0.0</td>\n",
       "    </tr>\n",
       "    <tr>\n",
       "      <th>2</th>\n",
       "      <td>ai21.j2-mid-v1</td>\n",
       "      <td>meta.llama3-70b-instruct-v1:0</td>\n",
       "      <td>100.0</td>\n",
       "      <td>0.0</td>\n",
       "    </tr>\n",
       "    <tr>\n",
       "      <th>3</th>\n",
       "      <td>ai21.j2-ultra-v1</td>\n",
       "      <td>anthropic.claude-3-haiku-20240307-v1:0</td>\n",
       "      <td>100.0</td>\n",
       "      <td>0.0</td>\n",
       "    </tr>\n",
       "    <tr>\n",
       "      <th>4</th>\n",
       "      <td>ai21.j2-ultra-v1</td>\n",
       "      <td>cohere.command-r-v1:0</td>\n",
       "      <td>90.0</td>\n",
       "      <td>10.0</td>\n",
       "    </tr>\n",
       "    <tr>\n",
       "      <th>5</th>\n",
       "      <td>ai21.j2-ultra-v1</td>\n",
       "      <td>meta.llama3-70b-instruct-v1:0</td>\n",
       "      <td>100.0</td>\n",
       "      <td>0.0</td>\n",
       "    </tr>\n",
       "    <tr>\n",
       "      <th>6</th>\n",
       "      <td>amazon.titan-text-express-v1</td>\n",
       "      <td>anthropic.claude-3-haiku-20240307-v1:0</td>\n",
       "      <td>100.0</td>\n",
       "      <td>0.0</td>\n",
       "    </tr>\n",
       "    <tr>\n",
       "      <th>7</th>\n",
       "      <td>amazon.titan-text-express-v1</td>\n",
       "      <td>cohere.command-r-v1:0</td>\n",
       "      <td>93.0</td>\n",
       "      <td>7.0</td>\n",
       "    </tr>\n",
       "    <tr>\n",
       "      <th>8</th>\n",
       "      <td>amazon.titan-text-express-v1</td>\n",
       "      <td>meta.llama3-70b-instruct-v1:0</td>\n",
       "      <td>100.0</td>\n",
       "      <td>0.0</td>\n",
       "    </tr>\n",
       "    <tr>\n",
       "      <th>9</th>\n",
       "      <td>amazon.titan-text-lite-v1</td>\n",
       "      <td>anthropic.claude-3-haiku-20240307-v1:0</td>\n",
       "      <td>90.0</td>\n",
       "      <td>10.0</td>\n",
       "    </tr>\n",
       "    <tr>\n",
       "      <th>10</th>\n",
       "      <td>amazon.titan-text-lite-v1</td>\n",
       "      <td>cohere.command-r-v1:0</td>\n",
       "      <td>87.0</td>\n",
       "      <td>13.0</td>\n",
       "    </tr>\n",
       "    <tr>\n",
       "      <th>11</th>\n",
       "      <td>amazon.titan-text-lite-v1</td>\n",
       "      <td>meta.llama3-70b-instruct-v1:0</td>\n",
       "      <td>90.0</td>\n",
       "      <td>10.0</td>\n",
       "    </tr>\n",
       "    <tr>\n",
       "      <th>12</th>\n",
       "      <td>anthropic.claude-3-haiku-20240307-v1:0</td>\n",
       "      <td>anthropic.claude-3-haiku-20240307-v1:0</td>\n",
       "      <td>100.0</td>\n",
       "      <td>0.0</td>\n",
       "    </tr>\n",
       "    <tr>\n",
       "      <th>13</th>\n",
       "      <td>anthropic.claude-3-haiku-20240307-v1:0</td>\n",
       "      <td>cohere.command-r-v1:0</td>\n",
       "      <td>100.0</td>\n",
       "      <td>0.0</td>\n",
       "    </tr>\n",
       "    <tr>\n",
       "      <th>14</th>\n",
       "      <td>anthropic.claude-3-haiku-20240307-v1:0</td>\n",
       "      <td>meta.llama3-70b-instruct-v1:0</td>\n",
       "      <td>100.0</td>\n",
       "      <td>0.0</td>\n",
       "    </tr>\n",
       "    <tr>\n",
       "      <th>15</th>\n",
       "      <td>anthropic.claude-3-sonnet-20240229-v1:0</td>\n",
       "      <td>anthropic.claude-3-haiku-20240307-v1:0</td>\n",
       "      <td>100.0</td>\n",
       "      <td>0.0</td>\n",
       "    </tr>\n",
       "    <tr>\n",
       "      <th>16</th>\n",
       "      <td>anthropic.claude-3-sonnet-20240229-v1:0</td>\n",
       "      <td>cohere.command-r-v1:0</td>\n",
       "      <td>100.0</td>\n",
       "      <td>0.0</td>\n",
       "    </tr>\n",
       "    <tr>\n",
       "      <th>17</th>\n",
       "      <td>anthropic.claude-3-sonnet-20240229-v1:0</td>\n",
       "      <td>meta.llama3-70b-instruct-v1:0</td>\n",
       "      <td>100.0</td>\n",
       "      <td>0.0</td>\n",
       "    </tr>\n",
       "    <tr>\n",
       "      <th>18</th>\n",
       "      <td>cohere.command-light-text-v14</td>\n",
       "      <td>anthropic.claude-3-haiku-20240307-v1:0</td>\n",
       "      <td>79.0</td>\n",
       "      <td>21.0</td>\n",
       "    </tr>\n",
       "    <tr>\n",
       "      <th>19</th>\n",
       "      <td>cohere.command-light-text-v14</td>\n",
       "      <td>cohere.command-r-v1:0</td>\n",
       "      <td>90.0</td>\n",
       "      <td>10.0</td>\n",
       "    </tr>\n",
       "    <tr>\n",
       "      <th>20</th>\n",
       "      <td>cohere.command-light-text-v14</td>\n",
       "      <td>meta.llama3-70b-instruct-v1:0</td>\n",
       "      <td>80.0</td>\n",
       "      <td>20.0</td>\n",
       "    </tr>\n",
       "    <tr>\n",
       "      <th>21</th>\n",
       "      <td>cohere.command-text-v14</td>\n",
       "      <td>anthropic.claude-3-haiku-20240307-v1:0</td>\n",
       "      <td>90.0</td>\n",
       "      <td>10.0</td>\n",
       "    </tr>\n",
       "    <tr>\n",
       "      <th>22</th>\n",
       "      <td>cohere.command-text-v14</td>\n",
       "      <td>cohere.command-r-v1:0</td>\n",
       "      <td>90.0</td>\n",
       "      <td>10.0</td>\n",
       "    </tr>\n",
       "    <tr>\n",
       "      <th>23</th>\n",
       "      <td>cohere.command-text-v14</td>\n",
       "      <td>meta.llama3-70b-instruct-v1:0</td>\n",
       "      <td>90.0</td>\n",
       "      <td>10.0</td>\n",
       "    </tr>\n",
       "    <tr>\n",
       "      <th>24</th>\n",
       "      <td>meta.llama2-13b-chat-v1</td>\n",
       "      <td>anthropic.claude-3-haiku-20240307-v1:0</td>\n",
       "      <td>90.0</td>\n",
       "      <td>10.0</td>\n",
       "    </tr>\n",
       "    <tr>\n",
       "      <th>25</th>\n",
       "      <td>meta.llama2-13b-chat-v1</td>\n",
       "      <td>cohere.command-r-v1:0</td>\n",
       "      <td>90.0</td>\n",
       "      <td>10.0</td>\n",
       "    </tr>\n",
       "    <tr>\n",
       "      <th>26</th>\n",
       "      <td>meta.llama2-13b-chat-v1</td>\n",
       "      <td>meta.llama3-70b-instruct-v1:0</td>\n",
       "      <td>90.0</td>\n",
       "      <td>10.0</td>\n",
       "    </tr>\n",
       "    <tr>\n",
       "      <th>27</th>\n",
       "      <td>meta.llama2-70b-chat-v1</td>\n",
       "      <td>anthropic.claude-3-haiku-20240307-v1:0</td>\n",
       "      <td>100.0</td>\n",
       "      <td>0.0</td>\n",
       "    </tr>\n",
       "    <tr>\n",
       "      <th>28</th>\n",
       "      <td>meta.llama2-70b-chat-v1</td>\n",
       "      <td>cohere.command-r-v1:0</td>\n",
       "      <td>100.0</td>\n",
       "      <td>0.0</td>\n",
       "    </tr>\n",
       "    <tr>\n",
       "      <th>29</th>\n",
       "      <td>meta.llama2-70b-chat-v1</td>\n",
       "      <td>meta.llama3-70b-instruct-v1:0</td>\n",
       "      <td>100.0</td>\n",
       "      <td>0.0</td>\n",
       "    </tr>\n",
       "    <tr>\n",
       "      <th>30</th>\n",
       "      <td>mistral.mistral-7b-instruct-v0:2</td>\n",
       "      <td>anthropic.claude-3-haiku-20240307-v1:0</td>\n",
       "      <td>100.0</td>\n",
       "      <td>0.0</td>\n",
       "    </tr>\n",
       "    <tr>\n",
       "      <th>31</th>\n",
       "      <td>mistral.mistral-7b-instruct-v0:2</td>\n",
       "      <td>cohere.command-r-v1:0</td>\n",
       "      <td>100.0</td>\n",
       "      <td>0.0</td>\n",
       "    </tr>\n",
       "    <tr>\n",
       "      <th>32</th>\n",
       "      <td>mistral.mistral-7b-instruct-v0:2</td>\n",
       "      <td>meta.llama3-70b-instruct-v1:0</td>\n",
       "      <td>100.0</td>\n",
       "      <td>0.0</td>\n",
       "    </tr>\n",
       "    <tr>\n",
       "      <th>33</th>\n",
       "      <td>mistral.mixtral-8x7b-instruct-v0:1</td>\n",
       "      <td>anthropic.claude-3-haiku-20240307-v1:0</td>\n",
       "      <td>90.0</td>\n",
       "      <td>10.0</td>\n",
       "    </tr>\n",
       "    <tr>\n",
       "      <th>34</th>\n",
       "      <td>mistral.mixtral-8x7b-instruct-v0:1</td>\n",
       "      <td>cohere.command-r-v1:0</td>\n",
       "      <td>90.0</td>\n",
       "      <td>10.0</td>\n",
       "    </tr>\n",
       "    <tr>\n",
       "      <th>35</th>\n",
       "      <td>mistral.mixtral-8x7b-instruct-v0:1</td>\n",
       "      <td>meta.llama3-70b-instruct-v1:0</td>\n",
       "      <td>90.0</td>\n",
       "      <td>10.0</td>\n",
       "    </tr>\n",
       "  </tbody>\n",
       "</table>\n",
       "</div>"
      ],
      "text/plain": [
       "verdict                          candidate_model  \\\n",
       "0                                 ai21.j2-mid-v1   \n",
       "1                                 ai21.j2-mid-v1   \n",
       "2                                 ai21.j2-mid-v1   \n",
       "3                               ai21.j2-ultra-v1   \n",
       "4                               ai21.j2-ultra-v1   \n",
       "5                               ai21.j2-ultra-v1   \n",
       "6                   amazon.titan-text-express-v1   \n",
       "7                   amazon.titan-text-express-v1   \n",
       "8                   amazon.titan-text-express-v1   \n",
       "9                      amazon.titan-text-lite-v1   \n",
       "10                     amazon.titan-text-lite-v1   \n",
       "11                     amazon.titan-text-lite-v1   \n",
       "12        anthropic.claude-3-haiku-20240307-v1:0   \n",
       "13        anthropic.claude-3-haiku-20240307-v1:0   \n",
       "14        anthropic.claude-3-haiku-20240307-v1:0   \n",
       "15       anthropic.claude-3-sonnet-20240229-v1:0   \n",
       "16       anthropic.claude-3-sonnet-20240229-v1:0   \n",
       "17       anthropic.claude-3-sonnet-20240229-v1:0   \n",
       "18                 cohere.command-light-text-v14   \n",
       "19                 cohere.command-light-text-v14   \n",
       "20                 cohere.command-light-text-v14   \n",
       "21                       cohere.command-text-v14   \n",
       "22                       cohere.command-text-v14   \n",
       "23                       cohere.command-text-v14   \n",
       "24                       meta.llama2-13b-chat-v1   \n",
       "25                       meta.llama2-13b-chat-v1   \n",
       "26                       meta.llama2-13b-chat-v1   \n",
       "27                       meta.llama2-70b-chat-v1   \n",
       "28                       meta.llama2-70b-chat-v1   \n",
       "29                       meta.llama2-70b-chat-v1   \n",
       "30              mistral.mistral-7b-instruct-v0:2   \n",
       "31              mistral.mistral-7b-instruct-v0:2   \n",
       "32              mistral.mistral-7b-instruct-v0:2   \n",
       "33            mistral.mixtral-8x7b-instruct-v0:1   \n",
       "34            mistral.mixtral-8x7b-instruct-v0:1   \n",
       "35            mistral.mixtral-8x7b-instruct-v0:1   \n",
       "\n",
       "verdict                          judge_model_id  accuracy  error_rate  \n",
       "0        anthropic.claude-3-haiku-20240307-v1:0     100.0         0.0  \n",
       "1                         cohere.command-r-v1:0     100.0         0.0  \n",
       "2                 meta.llama3-70b-instruct-v1:0     100.0         0.0  \n",
       "3        anthropic.claude-3-haiku-20240307-v1:0     100.0         0.0  \n",
       "4                         cohere.command-r-v1:0      90.0        10.0  \n",
       "5                 meta.llama3-70b-instruct-v1:0     100.0         0.0  \n",
       "6        anthropic.claude-3-haiku-20240307-v1:0     100.0         0.0  \n",
       "7                         cohere.command-r-v1:0      93.0         7.0  \n",
       "8                 meta.llama3-70b-instruct-v1:0     100.0         0.0  \n",
       "9        anthropic.claude-3-haiku-20240307-v1:0      90.0        10.0  \n",
       "10                        cohere.command-r-v1:0      87.0        13.0  \n",
       "11                meta.llama3-70b-instruct-v1:0      90.0        10.0  \n",
       "12       anthropic.claude-3-haiku-20240307-v1:0     100.0         0.0  \n",
       "13                        cohere.command-r-v1:0     100.0         0.0  \n",
       "14                meta.llama3-70b-instruct-v1:0     100.0         0.0  \n",
       "15       anthropic.claude-3-haiku-20240307-v1:0     100.0         0.0  \n",
       "16                        cohere.command-r-v1:0     100.0         0.0  \n",
       "17                meta.llama3-70b-instruct-v1:0     100.0         0.0  \n",
       "18       anthropic.claude-3-haiku-20240307-v1:0      79.0        21.0  \n",
       "19                        cohere.command-r-v1:0      90.0        10.0  \n",
       "20                meta.llama3-70b-instruct-v1:0      80.0        20.0  \n",
       "21       anthropic.claude-3-haiku-20240307-v1:0      90.0        10.0  \n",
       "22                        cohere.command-r-v1:0      90.0        10.0  \n",
       "23                meta.llama3-70b-instruct-v1:0      90.0        10.0  \n",
       "24       anthropic.claude-3-haiku-20240307-v1:0      90.0        10.0  \n",
       "25                        cohere.command-r-v1:0      90.0        10.0  \n",
       "26                meta.llama3-70b-instruct-v1:0      90.0        10.0  \n",
       "27       anthropic.claude-3-haiku-20240307-v1:0     100.0         0.0  \n",
       "28                        cohere.command-r-v1:0     100.0         0.0  \n",
       "29                meta.llama3-70b-instruct-v1:0     100.0         0.0  \n",
       "30       anthropic.claude-3-haiku-20240307-v1:0     100.0         0.0  \n",
       "31                        cohere.command-r-v1:0     100.0         0.0  \n",
       "32                meta.llama3-70b-instruct-v1:0     100.0         0.0  \n",
       "33       anthropic.claude-3-haiku-20240307-v1:0      90.0        10.0  \n",
       "34                        cohere.command-r-v1:0      90.0        10.0  \n",
       "35                meta.llama3-70b-instruct-v1:0      90.0        10.0  "
      ]
     },
     "execution_count": 37,
     "metadata": {},
     "output_type": "execute_result"
    }
   ],
   "source": [
    "per_panel_judgement_result_df= panel_summary_responses_df.groupby(['candidate_model', 'judge_model_id']).sum()\n",
    "# Compute the accuracy and error rate of each candidate model id\n",
    "per_panel_judgement_result_df['accuracy'] = ((per_panel_judgement_result_df['correct'] / (per_panel_judgement_result_df['correct'] + per_panel_judgement_result_df['incorrect'])).round(2) * 100)\n",
    "per_panel_judgement_result_df['error_rate'] = ((per_panel_judgement_result_df['incorrect'] / (per_panel_judgement_result_df['correct'] + per_panel_judgement_result_df['incorrect'])).round(2) * 100)\n",
    "per_panel_judgement_result_df = per_panel_judgement_result_df[['accuracy', 'error_rate']].reset_index()\n",
    "per_panel_judgement_result_df.head(40)"
   ]
  },
  {
   "cell_type": "code",
   "execution_count": 38,
   "metadata": {
    "tags": []
   },
   "outputs": [
    {
     "data": {
      "text/html": [
       "<div>\n",
       "<style scoped>\n",
       "    .dataframe tbody tr th:only-of-type {\n",
       "        vertical-align: middle;\n",
       "    }\n",
       "\n",
       "    .dataframe tbody tr th {\n",
       "        vertical-align: top;\n",
       "    }\n",
       "\n",
       "    .dataframe thead th {\n",
       "        text-align: right;\n",
       "    }\n",
       "</style>\n",
       "<table border=\"1\" class=\"dataframe\">\n",
       "  <thead>\n",
       "    <tr style=\"text-align: right;\">\n",
       "      <th></th>\n",
       "      <th>candidate_model</th>\n",
       "      <th>mean_cosine_similarity</th>\n",
       "    </tr>\n",
       "  </thead>\n",
       "  <tbody>\n",
       "    <tr>\n",
       "      <th>0</th>\n",
       "      <td>ai21.j2-mid-v1</td>\n",
       "      <td>0.408040</td>\n",
       "    </tr>\n",
       "    <tr>\n",
       "      <th>1</th>\n",
       "      <td>ai21.j2-ultra-v1</td>\n",
       "      <td>0.418304</td>\n",
       "    </tr>\n",
       "    <tr>\n",
       "      <th>2</th>\n",
       "      <td>amazon.titan-text-express-v1</td>\n",
       "      <td>0.477337</td>\n",
       "    </tr>\n",
       "    <tr>\n",
       "      <th>3</th>\n",
       "      <td>amazon.titan-text-lite-v1</td>\n",
       "      <td>0.537419</td>\n",
       "    </tr>\n",
       "    <tr>\n",
       "      <th>4</th>\n",
       "      <td>anthropic.claude-3-haiku-20240307-v1:0</td>\n",
       "      <td>0.400099</td>\n",
       "    </tr>\n",
       "    <tr>\n",
       "      <th>5</th>\n",
       "      <td>anthropic.claude-3-sonnet-20240229-v1:0</td>\n",
       "      <td>0.433328</td>\n",
       "    </tr>\n",
       "    <tr>\n",
       "      <th>6</th>\n",
       "      <td>cohere.command-light-text-v14</td>\n",
       "      <td>0.590262</td>\n",
       "    </tr>\n",
       "    <tr>\n",
       "      <th>7</th>\n",
       "      <td>cohere.command-text-v14</td>\n",
       "      <td>0.338896</td>\n",
       "    </tr>\n",
       "    <tr>\n",
       "      <th>8</th>\n",
       "      <td>meta.llama2-13b-chat-v1</td>\n",
       "      <td>0.431822</td>\n",
       "    </tr>\n",
       "    <tr>\n",
       "      <th>9</th>\n",
       "      <td>meta.llama2-70b-chat-v1</td>\n",
       "      <td>0.438103</td>\n",
       "    </tr>\n",
       "    <tr>\n",
       "      <th>10</th>\n",
       "      <td>mistral.mistral-7b-instruct-v0:2</td>\n",
       "      <td>0.424023</td>\n",
       "    </tr>\n",
       "    <tr>\n",
       "      <th>11</th>\n",
       "      <td>mistral.mixtral-8x7b-instruct-v0:1</td>\n",
       "      <td>0.432573</td>\n",
       "    </tr>\n",
       "  </tbody>\n",
       "</table>\n",
       "</div>"
      ],
      "text/plain": [
       "                            candidate_model  mean_cosine_similarity\n",
       "0                            ai21.j2-mid-v1                0.408040\n",
       "1                          ai21.j2-ultra-v1                0.418304\n",
       "2              amazon.titan-text-express-v1                0.477337\n",
       "3                 amazon.titan-text-lite-v1                0.537419\n",
       "4    anthropic.claude-3-haiku-20240307-v1:0                0.400099\n",
       "5   anthropic.claude-3-sonnet-20240229-v1:0                0.433328\n",
       "6             cohere.command-light-text-v14                0.590262\n",
       "7                   cohere.command-text-v14                0.338896\n",
       "8                   meta.llama2-13b-chat-v1                0.431822\n",
       "9                   meta.llama2-70b-chat-v1                0.438103\n",
       "10         mistral.mistral-7b-instruct-v0:2                0.424023\n",
       "11       mistral.mixtral-8x7b-instruct-v0:1                0.432573"
      ]
     },
     "execution_count": 38,
     "metadata": {},
     "output_type": "execute_result"
    }
   ],
   "source": [
    "# Calculate mean cosine similarity for each candidate model\n",
    "mean_cosine_similarity = df_eval_results.groupby('candidate_model')['cosine_similarity_score'].mean().reset_index()\n",
    "mean_cosine_similarity = mean_cosine_similarity.rename(columns={'cosine_similarity_score': 'mean_cosine_similarity'})\n",
    "mean_cosine_similarity"
   ]
  },
  {
   "cell_type": "code",
   "execution_count": 39,
   "metadata": {
    "tags": []
   },
   "outputs": [
    {
     "data": {
      "text/html": [
       "<div>\n",
       "<style scoped>\n",
       "    .dataframe tbody tr th:only-of-type {\n",
       "        vertical-align: middle;\n",
       "    }\n",
       "\n",
       "    .dataframe tbody tr th {\n",
       "        vertical-align: top;\n",
       "    }\n",
       "\n",
       "    .dataframe thead th {\n",
       "        text-align: right;\n",
       "    }\n",
       "</style>\n",
       "<table border=\"1\" class=\"dataframe\">\n",
       "  <thead>\n",
       "    <tr style=\"text-align: right;\">\n",
       "      <th></th>\n",
       "      <th>candidate_model</th>\n",
       "      <th>mean_cosine_similarity</th>\n",
       "      <th>accuracy</th>\n",
       "      <th>error_rate</th>\n",
       "    </tr>\n",
       "  </thead>\n",
       "  <tbody>\n",
       "    <tr>\n",
       "      <th>0</th>\n",
       "      <td>ai21.j2-mid-v1</td>\n",
       "      <td>0.408040</td>\n",
       "      <td>100.0</td>\n",
       "      <td>0.0</td>\n",
       "    </tr>\n",
       "    <tr>\n",
       "      <th>1</th>\n",
       "      <td>ai21.j2-ultra-v1</td>\n",
       "      <td>0.418304</td>\n",
       "      <td>97.0</td>\n",
       "      <td>3.0</td>\n",
       "    </tr>\n",
       "    <tr>\n",
       "      <th>2</th>\n",
       "      <td>amazon.titan-text-express-v1</td>\n",
       "      <td>0.477337</td>\n",
       "      <td>98.0</td>\n",
       "      <td>2.0</td>\n",
       "    </tr>\n",
       "    <tr>\n",
       "      <th>3</th>\n",
       "      <td>amazon.titan-text-lite-v1</td>\n",
       "      <td>0.537419</td>\n",
       "      <td>89.0</td>\n",
       "      <td>11.0</td>\n",
       "    </tr>\n",
       "    <tr>\n",
       "      <th>4</th>\n",
       "      <td>anthropic.claude-3-haiku-20240307-v1:0</td>\n",
       "      <td>0.400099</td>\n",
       "      <td>100.0</td>\n",
       "      <td>0.0</td>\n",
       "    </tr>\n",
       "    <tr>\n",
       "      <th>5</th>\n",
       "      <td>anthropic.claude-3-sonnet-20240229-v1:0</td>\n",
       "      <td>0.433328</td>\n",
       "      <td>100.0</td>\n",
       "      <td>0.0</td>\n",
       "    </tr>\n",
       "    <tr>\n",
       "      <th>6</th>\n",
       "      <td>cohere.command-light-text-v14</td>\n",
       "      <td>0.590262</td>\n",
       "      <td>83.0</td>\n",
       "      <td>17.0</td>\n",
       "    </tr>\n",
       "    <tr>\n",
       "      <th>7</th>\n",
       "      <td>cohere.command-text-v14</td>\n",
       "      <td>0.338896</td>\n",
       "      <td>90.0</td>\n",
       "      <td>10.0</td>\n",
       "    </tr>\n",
       "    <tr>\n",
       "      <th>8</th>\n",
       "      <td>meta.llama2-13b-chat-v1</td>\n",
       "      <td>0.431822</td>\n",
       "      <td>90.0</td>\n",
       "      <td>10.0</td>\n",
       "    </tr>\n",
       "    <tr>\n",
       "      <th>9</th>\n",
       "      <td>meta.llama2-70b-chat-v1</td>\n",
       "      <td>0.438103</td>\n",
       "      <td>100.0</td>\n",
       "      <td>0.0</td>\n",
       "    </tr>\n",
       "    <tr>\n",
       "      <th>10</th>\n",
       "      <td>mistral.mistral-7b-instruct-v0:2</td>\n",
       "      <td>0.424023</td>\n",
       "      <td>100.0</td>\n",
       "      <td>0.0</td>\n",
       "    </tr>\n",
       "    <tr>\n",
       "      <th>11</th>\n",
       "      <td>mistral.mixtral-8x7b-instruct-v0:1</td>\n",
       "      <td>0.432573</td>\n",
       "      <td>90.0</td>\n",
       "      <td>10.0</td>\n",
       "    </tr>\n",
       "  </tbody>\n",
       "</table>\n",
       "</div>"
      ],
      "text/plain": [
       "                            candidate_model  mean_cosine_similarity  accuracy  \\\n",
       "0                            ai21.j2-mid-v1                0.408040     100.0   \n",
       "1                          ai21.j2-ultra-v1                0.418304      97.0   \n",
       "2              amazon.titan-text-express-v1                0.477337      98.0   \n",
       "3                 amazon.titan-text-lite-v1                0.537419      89.0   \n",
       "4    anthropic.claude-3-haiku-20240307-v1:0                0.400099     100.0   \n",
       "5   anthropic.claude-3-sonnet-20240229-v1:0                0.433328     100.0   \n",
       "6             cohere.command-light-text-v14                0.590262      83.0   \n",
       "7                   cohere.command-text-v14                0.338896      90.0   \n",
       "8                   meta.llama2-13b-chat-v1                0.431822      90.0   \n",
       "9                   meta.llama2-70b-chat-v1                0.438103     100.0   \n",
       "10         mistral.mistral-7b-instruct-v0:2                0.424023     100.0   \n",
       "11       mistral.mixtral-8x7b-instruct-v0:1                0.432573      90.0   \n",
       "\n",
       "    error_rate  \n",
       "0          0.0  \n",
       "1          3.0  \n",
       "2          2.0  \n",
       "3         11.0  \n",
       "4          0.0  \n",
       "5          0.0  \n",
       "6         17.0  \n",
       "7         10.0  \n",
       "8         10.0  \n",
       "9          0.0  \n",
       "10         0.0  \n",
       "11        10.0  "
      ]
     },
     "execution_count": 39,
     "metadata": {},
     "output_type": "execute_result"
    }
   ],
   "source": [
    "overall_accuracy_grouped_panel_df = panel_summary_responses_df.groupby('candidate_model').sum()\n",
    "# Compute the accuracy and error rate of each candidate model id\n",
    "overall_accuracy_grouped_panel_df['accuracy'] = ((overall_accuracy_grouped_panel_df['correct'] / (overall_accuracy_grouped_panel_df['correct'] + overall_accuracy_grouped_panel_df['incorrect'])).round(2) * 100)\n",
    "overall_accuracy_grouped_panel_df['error_rate'] = ((overall_accuracy_grouped_panel_df['incorrect'] / (overall_accuracy_grouped_panel_df['correct'] + overall_accuracy_grouped_panel_df['incorrect'])).round(2) * 100)\n",
    "overall_accuracy_grouped_panel_df = overall_accuracy_grouped_panel_df[['accuracy', 'error_rate']].reset_index()\n",
    "overall_accuracy_grouped_panel_df = overall_accuracy_grouped_panel_df.sort_values(by='accuracy', ascending=False)\n",
    "overall_accuracy_grouped_panel_df = pd.merge(mean_cosine_similarity, overall_accuracy_grouped_panel_df, on='candidate_model')\n",
    "overall_accuracy_grouped_panel_df"
   ]
  },
  {
   "cell_type": "code",
   "execution_count": 40,
   "metadata": {
    "tags": []
   },
   "outputs": [
    {
     "name": "stderr",
     "output_type": "stream",
     "text": [
      "[2024-07-12 16:45:10,049] p27460 {1651915844.py:10} INFO - Overall accuracy and error rates results of each model sent to s3://sagemaker-fmbench-write-us-west-2-387192758086/fmbench-bedrock-fmbench-stack-us-west-2-role/data/metrics/yyyy=2024/mm=07/dd=12/hh=16/mm=35/PoLL_per_model_accuracy.csv\n"
     ]
    },
    {
     "data": {
      "text/html": [
       "<div>\n",
       "<style scoped>\n",
       "    .dataframe tbody tr th:only-of-type {\n",
       "        vertical-align: middle;\n",
       "    }\n",
       "\n",
       "    .dataframe tbody tr th {\n",
       "        vertical-align: top;\n",
       "    }\n",
       "\n",
       "    .dataframe thead th {\n",
       "        text-align: right;\n",
       "    }\n",
       "</style>\n",
       "<table border=\"1\" class=\"dataframe\">\n",
       "  <thead>\n",
       "    <tr style=\"text-align: right;\">\n",
       "      <th></th>\n",
       "      <th>candidate_model</th>\n",
       "      <th>mean_cosine_similarity</th>\n",
       "      <th>accuracy</th>\n",
       "      <th>error_rate</th>\n",
       "    </tr>\n",
       "  </thead>\n",
       "  <tbody>\n",
       "    <tr>\n",
       "      <th>0</th>\n",
       "      <td>ai21.j2-mid-v1</td>\n",
       "      <td>0.408040</td>\n",
       "      <td>100.0</td>\n",
       "      <td>0.0</td>\n",
       "    </tr>\n",
       "    <tr>\n",
       "      <th>1</th>\n",
       "      <td>ai21.j2-ultra-v1</td>\n",
       "      <td>0.418304</td>\n",
       "      <td>97.0</td>\n",
       "      <td>3.0</td>\n",
       "    </tr>\n",
       "    <tr>\n",
       "      <th>2</th>\n",
       "      <td>amazon.titan-text-express-v1</td>\n",
       "      <td>0.477337</td>\n",
       "      <td>98.0</td>\n",
       "      <td>2.0</td>\n",
       "    </tr>\n",
       "    <tr>\n",
       "      <th>3</th>\n",
       "      <td>amazon.titan-text-lite-v1</td>\n",
       "      <td>0.537419</td>\n",
       "      <td>89.0</td>\n",
       "      <td>11.0</td>\n",
       "    </tr>\n",
       "    <tr>\n",
       "      <th>4</th>\n",
       "      <td>anthropic.claude-3-haiku-20240307-v1:0</td>\n",
       "      <td>0.400099</td>\n",
       "      <td>100.0</td>\n",
       "      <td>0.0</td>\n",
       "    </tr>\n",
       "    <tr>\n",
       "      <th>5</th>\n",
       "      <td>anthropic.claude-3-sonnet-20240229-v1:0</td>\n",
       "      <td>0.433328</td>\n",
       "      <td>100.0</td>\n",
       "      <td>0.0</td>\n",
       "    </tr>\n",
       "    <tr>\n",
       "      <th>6</th>\n",
       "      <td>cohere.command-light-text-v14</td>\n",
       "      <td>0.590262</td>\n",
       "      <td>83.0</td>\n",
       "      <td>17.0</td>\n",
       "    </tr>\n",
       "    <tr>\n",
       "      <th>7</th>\n",
       "      <td>cohere.command-text-v14</td>\n",
       "      <td>0.338896</td>\n",
       "      <td>90.0</td>\n",
       "      <td>10.0</td>\n",
       "    </tr>\n",
       "    <tr>\n",
       "      <th>8</th>\n",
       "      <td>meta.llama2-13b-chat-v1</td>\n",
       "      <td>0.431822</td>\n",
       "      <td>90.0</td>\n",
       "      <td>10.0</td>\n",
       "    </tr>\n",
       "    <tr>\n",
       "      <th>9</th>\n",
       "      <td>meta.llama2-70b-chat-v1</td>\n",
       "      <td>0.438103</td>\n",
       "      <td>100.0</td>\n",
       "      <td>0.0</td>\n",
       "    </tr>\n",
       "  </tbody>\n",
       "</table>\n",
       "</div>"
      ],
      "text/plain": [
       "                           candidate_model  mean_cosine_similarity  accuracy  \\\n",
       "0                           ai21.j2-mid-v1                0.408040     100.0   \n",
       "1                         ai21.j2-ultra-v1                0.418304      97.0   \n",
       "2             amazon.titan-text-express-v1                0.477337      98.0   \n",
       "3                amazon.titan-text-lite-v1                0.537419      89.0   \n",
       "4   anthropic.claude-3-haiku-20240307-v1:0                0.400099     100.0   \n",
       "5  anthropic.claude-3-sonnet-20240229-v1:0                0.433328     100.0   \n",
       "6            cohere.command-light-text-v14                0.590262      83.0   \n",
       "7                  cohere.command-text-v14                0.338896      90.0   \n",
       "8                  meta.llama2-13b-chat-v1                0.431822      90.0   \n",
       "9                  meta.llama2-70b-chat-v1                0.438103     100.0   \n",
       "\n",
       "   error_rate  \n",
       "0         0.0  \n",
       "1         3.0  \n",
       "2         2.0  \n",
       "3        11.0  \n",
       "4         0.0  \n",
       "5         0.0  \n",
       "6        17.0  \n",
       "7        10.0  \n",
       "8        10.0  \n",
       "9         0.0  "
      ]
     },
     "execution_count": 40,
     "metadata": {},
     "output_type": "execute_result"
    }
   ],
   "source": [
    "# send the accuracy metrics to s3\n",
    "csv_buffer = io.StringIO()\n",
    "overall_accuracy_grouped_panel_df.to_csv(csv_buffer, index=False)\n",
    "overall_panel_result = csv_buffer.getvalue()\n",
    "overall_panel_accuracy_metrics_fpath = os.path.join(METRICS_DIR, PER_MODEL_ACCURACY_POLL)  # Define full S3 path\n",
    "\n",
    "# Write the CSV data to S3\n",
    "write_to_s3(overall_panel_result, BUCKET_NAME, \"\", \n",
    "            METRICS_DIR, PER_MODEL_ACCURACY_POLL)\n",
    "logger.info(f\"Overall accuracy and error rates results of each model sent to s3://{BUCKET_NAME}/{overall_panel_accuracy_metrics_fpath}\")\n",
    "overall_accuracy_grouped_panel_df.head(10)"
   ]
  },
  {
   "cell_type": "code",
   "execution_count": 41,
   "metadata": {
    "tags": []
   },
   "outputs": [],
   "source": [
    "# get accuracy statements\n",
    "# Rank models by accuracy\n",
    "ranked_models = overall_accuracy_grouped_panel_df.sort_values(by='accuracy', ascending=False)\n",
    "highest_accuracy = ranked_models['accuracy'].max()\n",
    "\n",
    "# Group models with the highest accuracy\n",
    "top_performers = ranked_models[ranked_models['accuracy'] == highest_accuracy]\n",
    "other_models = ranked_models[ranked_models['accuracy'] < highest_accuracy]\n",
    "final_ranking = pd.concat([top_performers, other_models])\n",
    "unique_judge_model_ids = per_panel_judgement_result_df['judge_model_id'].unique()\n",
    "PoLL_model_ids = ', '.join(map(str, unique_judge_model_ids))\n",
    "top_performing_model_ids = ', '.join(top_performers['candidate_model'].tolist())\n",
    "\n",
    "# cosine similarity score data\n",
    "highest_cosine_model = final_ranking.loc[final_ranking['mean_cosine_similarity'].idxmax()]\n",
    "highest_cosine_model_name = highest_cosine_model['candidate_model']\n",
    "highest_cosine_similarity = highest_cosine_model['mean_cosine_similarity']"
   ]
  },
  {
   "cell_type": "code",
   "execution_count": 47,
   "metadata": {
    "tags": []
   },
   "outputs": [],
   "source": [
    "accuracy_statement = MAX_VOTING_RESULT_STATEMENT.format(\n",
    "    judge_model_ids=PoLL_model_ids,\n",
    "    highest_accuracy=highest_accuracy,\n",
    "    top_models=top_performers.to_string(index=False),\n",
    "    highest_cosine_similarity=round(highest_cosine_similarity, 4),\n",
    "    top_cosine_similarity_model=highest_cosine_model_name,\n",
    "    ranked_models=other_models.to_string(index=False),\n",
    "    top_performing_model_ids=top_performing_model_ids\n",
    ")"
   ]
  },
  {
   "cell_type": "code",
   "execution_count": 49,
   "metadata": {
    "tags": []
   },
   "outputs": [
    {
     "name": "stderr",
     "output_type": "stream",
     "text": [
      "[2024-07-12 16:46:58,497] p27460 {84484965.py:8} INFO - Overall accuracy and error rates results of each model sent to s3://sagemaker-fmbench-write-us-west-2-387192758086/fmbench-bedrock-fmbench-stack-us-west-2-role/data/metrics/yyyy=2024/mm=07/dd=12/hh=16/mm=35/overall_PoLL_report.txt\n"
     ]
    },
    {
     "name": "stdout",
     "output_type": "stream",
     "text": [
      " \n",
      "A Detailed Analysis of Model Performance Based on Accuracy using Panel of LLM Evaluators (PoLL):\n",
      "\n",
      "This accuracy benchmarking was done using a Panel of LLM evaluators. anthropic.claude-3-haiku-20240307-v1:0, cohere.command-r-v1:0, meta.llama3-70b-instruct-v1:0 were used as judges.\n",
      "\n",
      "Top Performing Models (100.0% Accuracy):\n",
      "                        candidate_model  mean_cosine_similarity  accuracy  error_rate\n",
      "                         ai21.j2-mid-v1                0.408040     100.0         0.0\n",
      "       mistral.mistral-7b-instruct-v0:2                0.424023     100.0         0.0\n",
      "anthropic.claude-3-sonnet-20240229-v1:0                0.433328     100.0         0.0\n",
      " anthropic.claude-3-haiku-20240307-v1:0                0.400099     100.0         0.0\n",
      "                meta.llama2-70b-chat-v1                0.438103     100.0         0.0\n",
      "\n",
      "Top Performing Model (0.5903 Cosine Similarity Score):\n",
      "cohere.command-light-text-v14\n",
      "\n",
      "Other Ranked Models:\n",
      "                   candidate_model  mean_cosine_similarity  accuracy  error_rate\n",
      "      amazon.titan-text-express-v1                0.477337      98.0         2.0\n",
      "                  ai21.j2-ultra-v1                0.418304      97.0         3.0\n",
      "           meta.llama2-13b-chat-v1                0.431822      90.0        10.0\n",
      "mistral.mixtral-8x7b-instruct-v0:1                0.432573      90.0        10.0\n",
      "           cohere.command-text-v14                0.338896      90.0        10.0\n",
      "         amazon.titan-text-lite-v1                0.537419      89.0        11.0\n",
      "     cohere.command-light-text-v14                0.590262      83.0        17.0\n",
      "\n",
      "Summary:\n",
      "The top-performing models, including ai21.j2-mid-v1, mistral.mistral-7b-instruct-v0:2, anthropic.claude-3-sonnet-20240229-v1:0, anthropic.claude-3-haiku-20240307-v1:0, meta.llama2-70b-chat-v1, have achieved 100.0% accuracy with no errors, setting a benchmark for accuracy. The remaining models are ranked based on their accuracy and error rates.\n",
      "\n"
     ]
    }
   ],
   "source": [
    "# send the overall accuracy report to s3\n",
    "txt_buffer = io.StringIO()\n",
    "txt_buffer.write(accuracy_statement)\n",
    "poll_txt_file_content = txt_buffer.getvalue()\n",
    "overall_panel_accuracy_metrics_fpath = os.path.join(METRICS_DIR, OVERALL_POLL_REPORT)\n",
    "write_to_s3(poll_txt_file_content, BUCKET_NAME, \"\", \n",
    "            METRICS_DIR, OVERALL_POLL_REPORT)\n",
    "logger.info(f\"Overall accuracy and error rates results of each model sent to s3://{BUCKET_NAME}/{overall_panel_accuracy_metrics_fpath}\")\n",
    "print(accuracy_statement)"
   ]
  }
 ],
 "metadata": {
  "availableInstances": [
   {
    "_defaultOrder": 0,
    "_isFastLaunch": true,
    "category": "General purpose",
    "gpuNum": 0,
    "hideHardwareSpecs": false,
    "memoryGiB": 4,
    "name": "ml.t3.medium",
    "vcpuNum": 2
   },
   {
    "_defaultOrder": 1,
    "_isFastLaunch": false,
    "category": "General purpose",
    "gpuNum": 0,
    "hideHardwareSpecs": false,
    "memoryGiB": 8,
    "name": "ml.t3.large",
    "vcpuNum": 2
   },
   {
    "_defaultOrder": 2,
    "_isFastLaunch": false,
    "category": "General purpose",
    "gpuNum": 0,
    "hideHardwareSpecs": false,
    "memoryGiB": 16,
    "name": "ml.t3.xlarge",
    "vcpuNum": 4
   },
   {
    "_defaultOrder": 3,
    "_isFastLaunch": false,
    "category": "General purpose",
    "gpuNum": 0,
    "hideHardwareSpecs": false,
    "memoryGiB": 32,
    "name": "ml.t3.2xlarge",
    "vcpuNum": 8
   },
   {
    "_defaultOrder": 4,
    "_isFastLaunch": true,
    "category": "General purpose",
    "gpuNum": 0,
    "hideHardwareSpecs": false,
    "memoryGiB": 8,
    "name": "ml.m5.large",
    "vcpuNum": 2
   },
   {
    "_defaultOrder": 5,
    "_isFastLaunch": false,
    "category": "General purpose",
    "gpuNum": 0,
    "hideHardwareSpecs": false,
    "memoryGiB": 16,
    "name": "ml.m5.xlarge",
    "vcpuNum": 4
   },
   {
    "_defaultOrder": 6,
    "_isFastLaunch": false,
    "category": "General purpose",
    "gpuNum": 0,
    "hideHardwareSpecs": false,
    "memoryGiB": 32,
    "name": "ml.m5.2xlarge",
    "vcpuNum": 8
   },
   {
    "_defaultOrder": 7,
    "_isFastLaunch": false,
    "category": "General purpose",
    "gpuNum": 0,
    "hideHardwareSpecs": false,
    "memoryGiB": 64,
    "name": "ml.m5.4xlarge",
    "vcpuNum": 16
   },
   {
    "_defaultOrder": 8,
    "_isFastLaunch": false,
    "category": "General purpose",
    "gpuNum": 0,
    "hideHardwareSpecs": false,
    "memoryGiB": 128,
    "name": "ml.m5.8xlarge",
    "vcpuNum": 32
   },
   {
    "_defaultOrder": 9,
    "_isFastLaunch": false,
    "category": "General purpose",
    "gpuNum": 0,
    "hideHardwareSpecs": false,
    "memoryGiB": 192,
    "name": "ml.m5.12xlarge",
    "vcpuNum": 48
   },
   {
    "_defaultOrder": 10,
    "_isFastLaunch": false,
    "category": "General purpose",
    "gpuNum": 0,
    "hideHardwareSpecs": false,
    "memoryGiB": 256,
    "name": "ml.m5.16xlarge",
    "vcpuNum": 64
   },
   {
    "_defaultOrder": 11,
    "_isFastLaunch": false,
    "category": "General purpose",
    "gpuNum": 0,
    "hideHardwareSpecs": false,
    "memoryGiB": 384,
    "name": "ml.m5.24xlarge",
    "vcpuNum": 96
   },
   {
    "_defaultOrder": 12,
    "_isFastLaunch": false,
    "category": "General purpose",
    "gpuNum": 0,
    "hideHardwareSpecs": false,
    "memoryGiB": 8,
    "name": "ml.m5d.large",
    "vcpuNum": 2
   },
   {
    "_defaultOrder": 13,
    "_isFastLaunch": false,
    "category": "General purpose",
    "gpuNum": 0,
    "hideHardwareSpecs": false,
    "memoryGiB": 16,
    "name": "ml.m5d.xlarge",
    "vcpuNum": 4
   },
   {
    "_defaultOrder": 14,
    "_isFastLaunch": false,
    "category": "General purpose",
    "gpuNum": 0,
    "hideHardwareSpecs": false,
    "memoryGiB": 32,
    "name": "ml.m5d.2xlarge",
    "vcpuNum": 8
   },
   {
    "_defaultOrder": 15,
    "_isFastLaunch": false,
    "category": "General purpose",
    "gpuNum": 0,
    "hideHardwareSpecs": false,
    "memoryGiB": 64,
    "name": "ml.m5d.4xlarge",
    "vcpuNum": 16
   },
   {
    "_defaultOrder": 16,
    "_isFastLaunch": false,
    "category": "General purpose",
    "gpuNum": 0,
    "hideHardwareSpecs": false,
    "memoryGiB": 128,
    "name": "ml.m5d.8xlarge",
    "vcpuNum": 32
   },
   {
    "_defaultOrder": 17,
    "_isFastLaunch": false,
    "category": "General purpose",
    "gpuNum": 0,
    "hideHardwareSpecs": false,
    "memoryGiB": 192,
    "name": "ml.m5d.12xlarge",
    "vcpuNum": 48
   },
   {
    "_defaultOrder": 18,
    "_isFastLaunch": false,
    "category": "General purpose",
    "gpuNum": 0,
    "hideHardwareSpecs": false,
    "memoryGiB": 256,
    "name": "ml.m5d.16xlarge",
    "vcpuNum": 64
   },
   {
    "_defaultOrder": 19,
    "_isFastLaunch": false,
    "category": "General purpose",
    "gpuNum": 0,
    "hideHardwareSpecs": false,
    "memoryGiB": 384,
    "name": "ml.m5d.24xlarge",
    "vcpuNum": 96
   },
   {
    "_defaultOrder": 20,
    "_isFastLaunch": false,
    "category": "General purpose",
    "gpuNum": 0,
    "hideHardwareSpecs": true,
    "memoryGiB": 0,
    "name": "ml.geospatial.interactive",
    "supportedImageNames": [
     "sagemaker-geospatial-v1-0"
    ],
    "vcpuNum": 0
   },
   {
    "_defaultOrder": 21,
    "_isFastLaunch": true,
    "category": "Compute optimized",
    "gpuNum": 0,
    "hideHardwareSpecs": false,
    "memoryGiB": 4,
    "name": "ml.c5.large",
    "vcpuNum": 2
   },
   {
    "_defaultOrder": 22,
    "_isFastLaunch": false,
    "category": "Compute optimized",
    "gpuNum": 0,
    "hideHardwareSpecs": false,
    "memoryGiB": 8,
    "name": "ml.c5.xlarge",
    "vcpuNum": 4
   },
   {
    "_defaultOrder": 23,
    "_isFastLaunch": false,
    "category": "Compute optimized",
    "gpuNum": 0,
    "hideHardwareSpecs": false,
    "memoryGiB": 16,
    "name": "ml.c5.2xlarge",
    "vcpuNum": 8
   },
   {
    "_defaultOrder": 24,
    "_isFastLaunch": false,
    "category": "Compute optimized",
    "gpuNum": 0,
    "hideHardwareSpecs": false,
    "memoryGiB": 32,
    "name": "ml.c5.4xlarge",
    "vcpuNum": 16
   },
   {
    "_defaultOrder": 25,
    "_isFastLaunch": false,
    "category": "Compute optimized",
    "gpuNum": 0,
    "hideHardwareSpecs": false,
    "memoryGiB": 72,
    "name": "ml.c5.9xlarge",
    "vcpuNum": 36
   },
   {
    "_defaultOrder": 26,
    "_isFastLaunch": false,
    "category": "Compute optimized",
    "gpuNum": 0,
    "hideHardwareSpecs": false,
    "memoryGiB": 96,
    "name": "ml.c5.12xlarge",
    "vcpuNum": 48
   },
   {
    "_defaultOrder": 27,
    "_isFastLaunch": false,
    "category": "Compute optimized",
    "gpuNum": 0,
    "hideHardwareSpecs": false,
    "memoryGiB": 144,
    "name": "ml.c5.18xlarge",
    "vcpuNum": 72
   },
   {
    "_defaultOrder": 28,
    "_isFastLaunch": false,
    "category": "Compute optimized",
    "gpuNum": 0,
    "hideHardwareSpecs": false,
    "memoryGiB": 192,
    "name": "ml.c5.24xlarge",
    "vcpuNum": 96
   },
   {
    "_defaultOrder": 29,
    "_isFastLaunch": true,
    "category": "Accelerated computing",
    "gpuNum": 1,
    "hideHardwareSpecs": false,
    "memoryGiB": 16,
    "name": "ml.g4dn.xlarge",
    "vcpuNum": 4
   },
   {
    "_defaultOrder": 30,
    "_isFastLaunch": false,
    "category": "Accelerated computing",
    "gpuNum": 1,
    "hideHardwareSpecs": false,
    "memoryGiB": 32,
    "name": "ml.g4dn.2xlarge",
    "vcpuNum": 8
   },
   {
    "_defaultOrder": 31,
    "_isFastLaunch": false,
    "category": "Accelerated computing",
    "gpuNum": 1,
    "hideHardwareSpecs": false,
    "memoryGiB": 64,
    "name": "ml.g4dn.4xlarge",
    "vcpuNum": 16
   },
   {
    "_defaultOrder": 32,
    "_isFastLaunch": false,
    "category": "Accelerated computing",
    "gpuNum": 1,
    "hideHardwareSpecs": false,
    "memoryGiB": 128,
    "name": "ml.g4dn.8xlarge",
    "vcpuNum": 32
   },
   {
    "_defaultOrder": 33,
    "_isFastLaunch": false,
    "category": "Accelerated computing",
    "gpuNum": 4,
    "hideHardwareSpecs": false,
    "memoryGiB": 192,
    "name": "ml.g4dn.12xlarge",
    "vcpuNum": 48
   },
   {
    "_defaultOrder": 34,
    "_isFastLaunch": false,
    "category": "Accelerated computing",
    "gpuNum": 1,
    "hideHardwareSpecs": false,
    "memoryGiB": 256,
    "name": "ml.g4dn.16xlarge",
    "vcpuNum": 64
   },
   {
    "_defaultOrder": 35,
    "_isFastLaunch": false,
    "category": "Accelerated computing",
    "gpuNum": 1,
    "hideHardwareSpecs": false,
    "memoryGiB": 61,
    "name": "ml.p3.2xlarge",
    "vcpuNum": 8
   },
   {
    "_defaultOrder": 36,
    "_isFastLaunch": false,
    "category": "Accelerated computing",
    "gpuNum": 4,
    "hideHardwareSpecs": false,
    "memoryGiB": 244,
    "name": "ml.p3.8xlarge",
    "vcpuNum": 32
   },
   {
    "_defaultOrder": 37,
    "_isFastLaunch": false,
    "category": "Accelerated computing",
    "gpuNum": 8,
    "hideHardwareSpecs": false,
    "memoryGiB": 488,
    "name": "ml.p3.16xlarge",
    "vcpuNum": 64
   },
   {
    "_defaultOrder": 38,
    "_isFastLaunch": false,
    "category": "Accelerated computing",
    "gpuNum": 8,
    "hideHardwareSpecs": false,
    "memoryGiB": 768,
    "name": "ml.p3dn.24xlarge",
    "vcpuNum": 96
   },
   {
    "_defaultOrder": 39,
    "_isFastLaunch": false,
    "category": "Memory Optimized",
    "gpuNum": 0,
    "hideHardwareSpecs": false,
    "memoryGiB": 16,
    "name": "ml.r5.large",
    "vcpuNum": 2
   },
   {
    "_defaultOrder": 40,
    "_isFastLaunch": false,
    "category": "Memory Optimized",
    "gpuNum": 0,
    "hideHardwareSpecs": false,
    "memoryGiB": 32,
    "name": "ml.r5.xlarge",
    "vcpuNum": 4
   },
   {
    "_defaultOrder": 41,
    "_isFastLaunch": false,
    "category": "Memory Optimized",
    "gpuNum": 0,
    "hideHardwareSpecs": false,
    "memoryGiB": 64,
    "name": "ml.r5.2xlarge",
    "vcpuNum": 8
   },
   {
    "_defaultOrder": 42,
    "_isFastLaunch": false,
    "category": "Memory Optimized",
    "gpuNum": 0,
    "hideHardwareSpecs": false,
    "memoryGiB": 128,
    "name": "ml.r5.4xlarge",
    "vcpuNum": 16
   },
   {
    "_defaultOrder": 43,
    "_isFastLaunch": false,
    "category": "Memory Optimized",
    "gpuNum": 0,
    "hideHardwareSpecs": false,
    "memoryGiB": 256,
    "name": "ml.r5.8xlarge",
    "vcpuNum": 32
   },
   {
    "_defaultOrder": 44,
    "_isFastLaunch": false,
    "category": "Memory Optimized",
    "gpuNum": 0,
    "hideHardwareSpecs": false,
    "memoryGiB": 384,
    "name": "ml.r5.12xlarge",
    "vcpuNum": 48
   },
   {
    "_defaultOrder": 45,
    "_isFastLaunch": false,
    "category": "Memory Optimized",
    "gpuNum": 0,
    "hideHardwareSpecs": false,
    "memoryGiB": 512,
    "name": "ml.r5.16xlarge",
    "vcpuNum": 64
   },
   {
    "_defaultOrder": 46,
    "_isFastLaunch": false,
    "category": "Memory Optimized",
    "gpuNum": 0,
    "hideHardwareSpecs": false,
    "memoryGiB": 768,
    "name": "ml.r5.24xlarge",
    "vcpuNum": 96
   },
   {
    "_defaultOrder": 47,
    "_isFastLaunch": false,
    "category": "Accelerated computing",
    "gpuNum": 1,
    "hideHardwareSpecs": false,
    "memoryGiB": 16,
    "name": "ml.g5.xlarge",
    "vcpuNum": 4
   },
   {
    "_defaultOrder": 48,
    "_isFastLaunch": false,
    "category": "Accelerated computing",
    "gpuNum": 1,
    "hideHardwareSpecs": false,
    "memoryGiB": 32,
    "name": "ml.g5.2xlarge",
    "vcpuNum": 8
   },
   {
    "_defaultOrder": 49,
    "_isFastLaunch": false,
    "category": "Accelerated computing",
    "gpuNum": 1,
    "hideHardwareSpecs": false,
    "memoryGiB": 64,
    "name": "ml.g5.4xlarge",
    "vcpuNum": 16
   },
   {
    "_defaultOrder": 50,
    "_isFastLaunch": false,
    "category": "Accelerated computing",
    "gpuNum": 1,
    "hideHardwareSpecs": false,
    "memoryGiB": 128,
    "name": "ml.g5.8xlarge",
    "vcpuNum": 32
   },
   {
    "_defaultOrder": 51,
    "_isFastLaunch": false,
    "category": "Accelerated computing",
    "gpuNum": 1,
    "hideHardwareSpecs": false,
    "memoryGiB": 256,
    "name": "ml.g5.16xlarge",
    "vcpuNum": 64
   },
   {
    "_defaultOrder": 52,
    "_isFastLaunch": false,
    "category": "Accelerated computing",
    "gpuNum": 4,
    "hideHardwareSpecs": false,
    "memoryGiB": 192,
    "name": "ml.g5.12xlarge",
    "vcpuNum": 48
   },
   {
    "_defaultOrder": 53,
    "_isFastLaunch": false,
    "category": "Accelerated computing",
    "gpuNum": 4,
    "hideHardwareSpecs": false,
    "memoryGiB": 384,
    "name": "ml.g5.24xlarge",
    "vcpuNum": 96
   },
   {
    "_defaultOrder": 54,
    "_isFastLaunch": false,
    "category": "Accelerated computing",
    "gpuNum": 8,
    "hideHardwareSpecs": false,
    "memoryGiB": 768,
    "name": "ml.g5.48xlarge",
    "vcpuNum": 192
   },
   {
    "_defaultOrder": 55,
    "_isFastLaunch": false,
    "category": "Accelerated computing",
    "gpuNum": 8,
    "hideHardwareSpecs": false,
    "memoryGiB": 1152,
    "name": "ml.p4d.24xlarge",
    "vcpuNum": 96
   },
   {
    "_defaultOrder": 56,
    "_isFastLaunch": false,
    "category": "Accelerated computing",
    "gpuNum": 8,
    "hideHardwareSpecs": false,
    "memoryGiB": 1152,
    "name": "ml.p4de.24xlarge",
    "vcpuNum": 96
   },
   {
    "_defaultOrder": 57,
    "_isFastLaunch": false,
    "category": "Accelerated computing",
    "gpuNum": 0,
    "hideHardwareSpecs": false,
    "memoryGiB": 32,
    "name": "ml.trn1.2xlarge",
    "vcpuNum": 8
   },
   {
    "_defaultOrder": 58,
    "_isFastLaunch": false,
    "category": "Accelerated computing",
    "gpuNum": 0,
    "hideHardwareSpecs": false,
    "memoryGiB": 512,
    "name": "ml.trn1.32xlarge",
    "vcpuNum": 128
   },
   {
    "_defaultOrder": 59,
    "_isFastLaunch": false,
    "category": "Accelerated computing",
    "gpuNum": 0,
    "hideHardwareSpecs": false,
    "memoryGiB": 512,
    "name": "ml.trn1n.32xlarge",
    "vcpuNum": 128
   }
  ],
  "instance_type": "ml.c5.large",
  "kernelspec": {
   "display_name": "conda_fmbench_eval_python311",
   "language": "python",
   "name": "conda_fmbench_eval_python311"
  },
  "language_info": {
   "codemirror_mode": {
    "name": "ipython",
    "version": 3
   },
   "file_extension": ".py",
   "mimetype": "text/x-python",
   "name": "python",
   "nbconvert_exporter": "python",
   "pygments_lexer": "ipython3",
   "version": "3.11.9"
  }
 },
 "nbformat": 4,
 "nbformat_minor": 4
}
