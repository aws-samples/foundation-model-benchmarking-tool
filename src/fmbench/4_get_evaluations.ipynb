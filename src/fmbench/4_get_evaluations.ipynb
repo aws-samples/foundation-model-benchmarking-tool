{
 "cells": [
  {
   "cell_type": "markdown",
   "metadata": {},
   "source": [
    "## Get Evaluations on all inference files and gather findings on quantitative metrics (such as _Cosine Similarity_) and subjective metrics on various criteria using _LLM as a judge_ - Max Voting & Average Pooling using PoLL (Panel of LLM Evaluators)\n",
    "\n",
    "---------------------\n",
    "*This notebook works best with the conda_python3 kernel on a ml.t3.medium machine*.\n",
    "\n",
    "#### This step of the solution focusses on getting evaluations on the quality of resposes. It does so by gathering the following information and performing the steps below:\n",
    "\n",
    "- **Gets all per inference request file**: This step first accesses and gets all of the per inference request files into a dataframe, containing the response from the LLM as well as the ground truth, if any is provided. \n",
    "\n",
    "- **Generates quantitative metrics for evaluation**: Calculate quantitative metrics to measure similarity and accuracy, for example _Cosine Similarity_. This helps in getting a quantitative overall score to the entire dataset in terms of which model generates outputs that are most similar and accurate to the ground truth (if any is provided). With this statistic, customers and users of the open source community can make business level judgements. \n",
    "\n",
    "- **Uses an _LLM as a judge_ approach to get subjective evaluations**: Refer to this [paper](https://arxiv.org/pdf/2404.18796). We use the following ways to evaluate the responses from the `candidate models` (models used to generate inferences)\n",
    "\n",
    "    1. **Max Voting**: When a dataset provides a ground truth, we use a technique called `Max Voting`. Here, we use PoLL, or a panel of LLM evaluators, from different model families to evaluate each candidate model's response based on whether it generates a `correct` or an `incorrect` answer simply based on ground truth comparisons. Using models from different families as a PoLL, increases it's evaluation ability to be close to that of a human evaluation, and eliminates the intra model bias.\n",
    "    \n",
    "    2. **Average Pooling**: When a dataset does not provide a ground truth, or if a task being evaluated needs to be given subjective level judgements, that is when we use `Average Pooling`. We use a specific subjective level criteria and then evaluate the candidate model responses on a scale of 1-5 for each PoLL. Using this, we get an average score and then can evaluate how each candidate model was scored based on the PoLL evaluations.\n",
    "    \n",
    "***All evaluations are generated in a JSON format for further downstream analytics on the evaluation results***"
   ]
  },
  {
   "cell_type": "markdown",
   "metadata": {},
   "source": [
    "#### Import all of the necessary libraries below to run this notebook"
   ]
  },
  {
   "cell_type": "code",
   "execution_count": null,
   "metadata": {
    "tags": []
   },
   "outputs": [],
   "source": [
    "# if interactive mode is set to no -> pickup fmbench from Python installation path\n",
    "# if interactive mode is set to yes -> pickup fmbench from the current path (one level above this notebook)\n",
    "# if interactive mode is not defined -> pickup fmbench from the current path (one level above this notebook)\n",
    "# the premise is that if run non-interactively then it can only be run through main.py which will set interactive mode to no\n",
    "import os\n",
    "import sys\n",
    "if os.environ.get(\"INTERACTIVE_MODE_SET\", \"yes\") == \"yes\":\n",
    "    sys.path.append(os.path.dirname(os.getcwd()))"
   ]
  },
  {
   "cell_type": "code",
   "execution_count": null,
   "metadata": {
    "tags": []
   },
   "outputs": [],
   "source": [
    "import io\n",
    "import ray\n",
    "import math\n",
    "import time\n",
    "import json\n",
    "import torch\n",
    "import tempfile\n",
    "import datetime\n",
    "import matplotlib\n",
    "import numpy as np\n",
    "import pandas as pd\n",
    "from numpy import dot\n",
    "from numpy.linalg import norm\n",
    "from litellm import completion\n",
    "from sentence_transformers import SentenceTransformer\n",
    "\n",
    "# Import seaborn and other related libraries for visualizations and plotting charts\n",
    "import seaborn as sns\n",
    "from pathlib import Path\n",
    "from tomark import Tomark\n",
    "from fmbench.utils import *\n",
    "from fmbench.globals import *\n",
    "from datetime import datetime\n",
    "from datetime import timezone\n",
    "from dateutil.parser import parse\n",
    "from typing import List, Optional, Dict\n",
    "import importlib.resources as pkg_resources\n",
    "from fmbench import __version__ as fmbench_version"
   ]
  },
  {
   "cell_type": "code",
   "execution_count": null,
   "metadata": {
    "tags": []
   },
   "outputs": [],
   "source": [
    "logging.basicConfig(format='[%(asctime)s] p%(process)s {%(filename)s:%(lineno)d} %(levelname)s - %(message)s', level=logging.INFO)\n",
    "logger = logging.getLogger(__name__)"
   ]
  },
  {
   "cell_type": "code",
   "execution_count": null,
   "metadata": {
    "tags": []
   },
   "outputs": [
    {
     "name": "stdout",
     "output_type": "stream",
     "text": [
      "\u001b[36m(async_run_eval pid=30977)\u001b[0m async_run_eval, i=3, total=10, judge_model_info=anthropic.claude-3-haiku-20240307-v1:0, eval_method: max_voting, uuid: 22303e132fb646aa86b938083660dce8\n",
      "\u001b[36m(async_run_eval pid=30977)\u001b[0m run_eval, row 3/10, judge_model_id=anthropic.claude-3-haiku-20240307-v1:0, candidate model=mistral.mistral-7b-instruct-v0:2\n",
      "\u001b[36m(async_run_eval pid=30977)\u001b[0m get_inference, model_id=anthropic.claude-3-haiku-20240307-v1:0\n",
      "\u001b[36m(async_run_eval pid=30977)\u001b[0m Invoking bedrock/anthropic.claude-3-haiku-20240307-v1:0......\n",
      "\u001b[36m(async_run_eval pid=30975)\u001b[0m async_run_eval, i=5, total=10, judge_model_info=anthropic.claude-3-haiku-20240307-v1:0, eval_method: max_voting, uuid: ea46fe7df1c24763b2332d518096d818\u001b[32m [repeated 24x across cluster]\u001b[0m\n",
      "\u001b[36m(async_run_eval pid=30975)\u001b[0m run_eval, row 5/10, judge_model_id=anthropic.claude-3-haiku-20240307-v1:0, candidate model=mistral.mistral-7b-instruct-v0:2\u001b[32m [repeated 24x across cluster]\u001b[0m\n",
      "\u001b[36m(async_run_eval pid=30975)\u001b[0m get_inference, model_id=anthropic.claude-3-haiku-20240307-v1:0\u001b[32m [repeated 24x across cluster]\u001b[0m\n",
      "\u001b[36m(async_run_eval pid=30975)\u001b[0m Invoking bedrock/anthropic.claude-3-haiku-20240307-v1:0......\u001b[32m [repeated 24x across cluster]\u001b[0m\n",
      "\u001b[36m(async_run_eval pid=30975)\u001b[0m async_run_eval, i=5, total=10, judge_model_info=anthropic.claude-3-haiku-20240307-v1:0, eval_method: max_voting, uuid: 6004e00fb1d64a0f9d50cdfe712f1066\u001b[32m [repeated 20x across cluster]\u001b[0m\n",
      "\u001b[36m(async_run_eval pid=30975)\u001b[0m run_eval, row 5/10, judge_model_id=anthropic.claude-3-haiku-20240307-v1:0, candidate model=mistral.mixtral-8x7b-instruct-v0:1\u001b[32m [repeated 20x across cluster]\u001b[0m\n",
      "\u001b[36m(async_run_eval pid=30975)\u001b[0m get_inference, model_id=anthropic.claude-3-haiku-20240307-v1:0\u001b[32m [repeated 20x across cluster]\u001b[0m\n",
      "\u001b[36m(async_run_eval pid=30975)\u001b[0m Invoking bedrock/anthropic.claude-3-haiku-20240307-v1:0......\u001b[32m [repeated 20x across cluster]\u001b[0m\n",
      "\u001b[36m(async_run_eval pid=30977)\u001b[0m async_run_eval, i=6, total=10, judge_model_info=anthropic.claude-3-haiku-20240307-v1:0, eval_method: max_voting, uuid: ba4bff2415724cefae06cb938242a86c\u001b[32m [repeated 20x across cluster]\u001b[0m\n",
      "\u001b[36m(async_run_eval pid=30977)\u001b[0m run_eval, row 6/10, judge_model_id=anthropic.claude-3-haiku-20240307-v1:0, candidate model=meta.llama2-13b-chat-v1\u001b[32m [repeated 20x across cluster]\u001b[0m\n",
      "\u001b[36m(async_run_eval pid=30977)\u001b[0m get_inference, model_id=anthropic.claude-3-haiku-20240307-v1:0\u001b[32m [repeated 20x across cluster]\u001b[0m\n",
      "\u001b[36m(async_run_eval pid=30977)\u001b[0m Invoking bedrock/anthropic.claude-3-haiku-20240307-v1:0......\u001b[32m [repeated 20x across cluster]\u001b[0m\n",
      "\u001b[36m(async_run_eval pid=30974)\u001b[0m async_run_eval, i=6, total=10, judge_model_info=anthropic.claude-3-haiku-20240307-v1:0, eval_method: max_voting, uuid: bcc39a9ce6984142b2a92624b41bdf89\u001b[32m [repeated 21x across cluster]\u001b[0m\n",
      "\u001b[36m(async_run_eval pid=30974)\u001b[0m run_eval, row 6/10, judge_model_id=anthropic.claude-3-haiku-20240307-v1:0, candidate model=meta.llama2-13b-chat-v1\u001b[32m [repeated 21x across cluster]\u001b[0m\n",
      "\u001b[36m(async_run_eval pid=30974)\u001b[0m get_inference, model_id=anthropic.claude-3-haiku-20240307-v1:0\u001b[32m [repeated 21x across cluster]\u001b[0m\n",
      "\u001b[36m(async_run_eval pid=30974)\u001b[0m Invoking bedrock/anthropic.claude-3-haiku-20240307-v1:0......\u001b[32m [repeated 21x across cluster]\u001b[0m\n",
      "\u001b[36m(async_run_eval pid=30977)\u001b[0m async_run_eval, i=9, total=10, judge_model_info=anthropic.claude-3-haiku-20240307-v1:0, eval_method: max_voting, uuid: 0d112a74a9fc4ce8a3ce52049982cc73\u001b[32m [repeated 23x across cluster]\u001b[0m\n",
      "\u001b[36m(async_run_eval pid=30977)\u001b[0m run_eval, row 9/10, judge_model_id=anthropic.claude-3-haiku-20240307-v1:0, candidate model=meta.llama2-70b-chat-v1\u001b[32m [repeated 23x across cluster]\u001b[0m\n",
      "\u001b[36m(async_run_eval pid=30977)\u001b[0m get_inference, model_id=anthropic.claude-3-haiku-20240307-v1:0\u001b[32m [repeated 23x across cluster]\u001b[0m\n",
      "\u001b[36m(async_run_eval pid=30977)\u001b[0m Invoking bedrock/anthropic.claude-3-haiku-20240307-v1:0......\u001b[32m [repeated 23x across cluster]\u001b[0m\n",
      "\u001b[36m(async_run_eval pid=30977)\u001b[0m async_run_eval, i=10, total=10, judge_model_info=anthropic.claude-3-haiku-20240307-v1:0, eval_method: max_voting, uuid: 3410a20839464894a18ce8452311c69d\u001b[32m [repeated 21x across cluster]\u001b[0m\n",
      "\u001b[36m(async_run_eval pid=30977)\u001b[0m run_eval, row 10/10, judge_model_id=anthropic.claude-3-haiku-20240307-v1:0, candidate model=amazon.titan-text-lite-v1\u001b[32m [repeated 21x across cluster]\u001b[0m\n",
      "\u001b[36m(async_run_eval pid=30977)\u001b[0m get_inference, model_id=anthropic.claude-3-haiku-20240307-v1:0\u001b[32m [repeated 21x across cluster]\u001b[0m\n",
      "\u001b[36m(async_run_eval pid=30977)\u001b[0m Invoking bedrock/anthropic.claude-3-haiku-20240307-v1:0......\u001b[32m [repeated 21x across cluster]\u001b[0m\n",
      "\u001b[36m(async_run_eval pid=30977)\u001b[0m async_run_eval, i=2, total=10, judge_model_info=anthropic.claude-3-haiku-20240307-v1:0, eval_method: max_voting, uuid: 8568a93534e1414288b26d8abb10fd1b\u001b[32m [repeated 21x across cluster]\u001b[0m\n",
      "\u001b[36m(async_run_eval pid=30977)\u001b[0m run_eval, row 2/10, judge_model_id=anthropic.claude-3-haiku-20240307-v1:0, candidate model=amazon.titan-text-express-v1\u001b[32m [repeated 21x across cluster]\u001b[0m\n",
      "\u001b[36m(async_run_eval pid=30977)\u001b[0m get_inference, model_id=anthropic.claude-3-haiku-20240307-v1:0\u001b[32m [repeated 21x across cluster]\u001b[0m\n",
      "\u001b[36m(async_run_eval pid=30977)\u001b[0m Invoking bedrock/anthropic.claude-3-haiku-20240307-v1:0......\u001b[32m [repeated 21x across cluster]\u001b[0m\n",
      "\u001b[36m(async_run_eval pid=30974)\u001b[0m async_run_eval, i=6, total=10, judge_model_info=anthropic.claude-3-haiku-20240307-v1:0, eval_method: max_voting, uuid: bd3e55aff6ae4e43ab96da64e665b9f6\u001b[32m [repeated 24x across cluster]\u001b[0m\n",
      "\u001b[36m(async_run_eval pid=30974)\u001b[0m run_eval, row 6/10, judge_model_id=anthropic.claude-3-haiku-20240307-v1:0, candidate model=amazon.titan-text-express-v1\u001b[32m [repeated 24x across cluster]\u001b[0m\n",
      "\u001b[36m(async_run_eval pid=30974)\u001b[0m get_inference, model_id=anthropic.claude-3-haiku-20240307-v1:0\u001b[32m [repeated 24x across cluster]\u001b[0m\n",
      "\u001b[36m(async_run_eval pid=30974)\u001b[0m Invoking bedrock/anthropic.claude-3-haiku-20240307-v1:0......\u001b[32m [repeated 24x across cluster]\u001b[0m\n",
      "\u001b[36m(async_run_eval pid=30974)\u001b[0m async_run_eval, i=5, total=10, judge_model_info=anthropic.claude-3-haiku-20240307-v1:0, eval_method: max_voting, uuid: 6bd604d8bfdd43ca8e90c610be95749e\u001b[32m [repeated 20x across cluster]\u001b[0m\n",
      "\u001b[36m(async_run_eval pid=30974)\u001b[0m run_eval, row 5/10, judge_model_id=anthropic.claude-3-haiku-20240307-v1:0, candidate model=anthropic.claude-3-sonnet-20240229-v1:0\u001b[32m [repeated 20x across cluster]\u001b[0m\n",
      "\u001b[36m(async_run_eval pid=30974)\u001b[0m get_inference, model_id=anthropic.claude-3-haiku-20240307-v1:0\u001b[32m [repeated 20x across cluster]\u001b[0m\n",
      "\u001b[36m(async_run_eval pid=30974)\u001b[0m Invoking bedrock/anthropic.claude-3-haiku-20240307-v1:0......\u001b[32m [repeated 20x across cluster]\u001b[0m\n",
      "\u001b[36m(async_run_eval pid=30977)\u001b[0m async_run_eval, i=5, total=10, judge_model_info=anthropic.claude-3-haiku-20240307-v1:0, eval_method: max_voting, uuid: 89a62eaca09b4d08bc353e82ab136fa2\u001b[32m [repeated 20x across cluster]\u001b[0m\n",
      "\u001b[36m(async_run_eval pid=30977)\u001b[0m run_eval, row 5/10, judge_model_id=anthropic.claude-3-haiku-20240307-v1:0, candidate model=anthropic.claude-3-haiku-20240307-v1:0\u001b[32m [repeated 20x across cluster]\u001b[0m\n",
      "\u001b[36m(async_run_eval pid=30977)\u001b[0m get_inference, model_id=anthropic.claude-3-haiku-20240307-v1:0\u001b[32m [repeated 20x across cluster]\u001b[0m\n",
      "\u001b[36m(async_run_eval pid=30977)\u001b[0m Invoking bedrock/anthropic.claude-3-haiku-20240307-v1:0......\u001b[32m [repeated 20x across cluster]\u001b[0m\n",
      "\u001b[36m(async_run_eval pid=30974)\u001b[0m async_run_eval, i=6, total=10, judge_model_info=anthropic.claude-3-haiku-20240307-v1:0, eval_method: max_voting, uuid: 540c1266d9f1435798d84216000e4fbf\u001b[32m [repeated 21x across cluster]\u001b[0m\n",
      "\u001b[36m(async_run_eval pid=30974)\u001b[0m run_eval, row 6/10, judge_model_id=anthropic.claude-3-haiku-20240307-v1:0, candidate model=anthropic.claude-3-haiku-20240307-v1:0\u001b[32m [repeated 21x across cluster]\u001b[0m\n",
      "\u001b[36m(async_run_eval pid=30974)\u001b[0m get_inference, model_id=anthropic.claude-3-haiku-20240307-v1:0\u001b[32m [repeated 21x across cluster]\u001b[0m\n",
      "\u001b[36m(async_run_eval pid=30974)\u001b[0m Invoking bedrock/anthropic.claude-3-haiku-20240307-v1:0......\u001b[32m [repeated 21x across cluster]\u001b[0m\n",
      "\u001b[36m(async_run_eval pid=30977)\u001b[0m async_run_eval, i=8, total=10, judge_model_info=anthropic.claude-3-haiku-20240307-v1:0, eval_method: max_voting, uuid: 38d8e0691fcf49f4bfcd55d7ca1e5533\u001b[32m [repeated 22x across cluster]\u001b[0m\n",
      "\u001b[36m(async_run_eval pid=30977)\u001b[0m run_eval, row 8/10, judge_model_id=anthropic.claude-3-haiku-20240307-v1:0, candidate model=cohere.command-text-v14\u001b[32m [repeated 22x across cluster]\u001b[0m\n",
      "\u001b[36m(async_run_eval pid=30977)\u001b[0m get_inference, model_id=anthropic.claude-3-haiku-20240307-v1:0\u001b[32m [repeated 22x across cluster]\u001b[0m\n",
      "\u001b[36m(async_run_eval pid=30977)\u001b[0m Invoking bedrock/anthropic.claude-3-haiku-20240307-v1:0......\u001b[32m [repeated 21x across cluster]\u001b[0m\n",
      "\u001b[36m(async_run_eval pid=30977)\u001b[0m async_run_eval, i=7, total=10, judge_model_info=anthropic.claude-3-haiku-20240307-v1:0, eval_method: max_voting, uuid: 9456fe055f25477ea2349c02da5a7063\u001b[32m [repeated 17x across cluster]\u001b[0m\n",
      "\u001b[36m(async_run_eval pid=30977)\u001b[0m run_eval, row 7/10, judge_model_id=anthropic.claude-3-haiku-20240307-v1:0, candidate model=cohere.command-light-text-v14\u001b[32m [repeated 17x across cluster]\u001b[0m\n",
      "\u001b[36m(async_run_eval pid=30977)\u001b[0m get_inference, model_id=anthropic.claude-3-haiku-20240307-v1:0\u001b[32m [repeated 17x across cluster]\u001b[0m\n",
      "\u001b[36m(async_run_eval pid=30977)\u001b[0m Invoking bedrock/anthropic.claude-3-haiku-20240307-v1:0......\u001b[32m [repeated 18x across cluster]\u001b[0m\n",
      "\u001b[36m(async_run_eval pid=30976)\u001b[0m async_run_eval, i=5, total=10, judge_model_info=anthropic.claude-3-haiku-20240307-v1:0, eval_method: max_voting, uuid: 30439fd81b694badb11562440c8aa6ca\u001b[32m [repeated 20x across cluster]\u001b[0m\n",
      "\u001b[36m(async_run_eval pid=30976)\u001b[0m run_eval, row 5/10, judge_model_id=anthropic.claude-3-haiku-20240307-v1:0, candidate model=cohere.command-light-text-v14\u001b[32m [repeated 20x across cluster]\u001b[0m\n",
      "\u001b[36m(async_run_eval pid=30976)\u001b[0m get_inference, model_id=anthropic.claude-3-haiku-20240307-v1:0\u001b[32m [repeated 20x across cluster]\u001b[0m\n",
      "\u001b[36m(async_run_eval pid=30976)\u001b[0m Invoking bedrock/anthropic.claude-3-haiku-20240307-v1:0......\u001b[32m [repeated 20x across cluster]\u001b[0m\n",
      "\u001b[36m(async_run_eval pid=30977)\u001b[0m async_run_eval, i=5, total=10, judge_model_info=anthropic.claude-3-haiku-20240307-v1:0, eval_method: max_voting, uuid: e04fed2ac0ec4ec8a17e0d6d10816948\u001b[32m [repeated 20x across cluster]\u001b[0m\n",
      "\u001b[36m(async_run_eval pid=30977)\u001b[0m run_eval, row 5/10, judge_model_id=anthropic.claude-3-haiku-20240307-v1:0, candidate model=ai21.j2-mid-v1\u001b[32m [repeated 20x across cluster]\u001b[0m\n",
      "\u001b[36m(async_run_eval pid=30977)\u001b[0m get_inference, model_id=anthropic.claude-3-haiku-20240307-v1:0\u001b[32m [repeated 20x across cluster]\u001b[0m\n",
      "\u001b[36m(async_run_eval pid=30977)\u001b[0m Invoking bedrock/anthropic.claude-3-haiku-20240307-v1:0......\u001b[32m [repeated 20x across cluster]\u001b[0m\n",
      "\u001b[36m(async_run_eval pid=30976)\u001b[0m async_run_eval, i=9, total=10, judge_model_info=anthropic.claude-3-haiku-20240307-v1:0, eval_method: max_voting, uuid: c1c6eec5994244d4bdbe7c607661ba97\u001b[32m [repeated 24x across cluster]\u001b[0m\n",
      "\u001b[36m(async_run_eval pid=30976)\u001b[0m run_eval, row 9/10, judge_model_id=anthropic.claude-3-haiku-20240307-v1:0, candidate model=ai21.j2-ultra-v1\u001b[32m [repeated 24x across cluster]\u001b[0m\n",
      "\u001b[36m(async_run_eval pid=30976)\u001b[0m get_inference, model_id=anthropic.claude-3-haiku-20240307-v1:0\u001b[32m [repeated 24x across cluster]\u001b[0m\n",
      "\u001b[36m(async_run_eval pid=30976)\u001b[0m Invoking bedrock/anthropic.claude-3-haiku-20240307-v1:0......\u001b[32m [repeated 24x across cluster]\u001b[0m\n",
      "\u001b[36m(async_run_eval pid=30977)\u001b[0m async_run_eval, i=2, total=10, judge_model_info=meta.llama3-70b-instruct-v1:0, eval_method: max_voting, uuid: 82d04de71238454a9bbe05f520f22cb0\u001b[32m [repeated 22x across cluster]\u001b[0m\n",
      "\u001b[36m(async_run_eval pid=30977)\u001b[0m run_eval, row 2/10, judge_model_id=meta.llama3-70b-instruct-v1:0, candidate model=mistral.mistral-7b-instruct-v0:2\u001b[32m [repeated 22x across cluster]\u001b[0m\n",
      "\u001b[36m(async_run_eval pid=30977)\u001b[0m get_inference, model_id=meta.llama3-70b-instruct-v1:0\u001b[32m [repeated 22x across cluster]\u001b[0m\n",
      "\u001b[36m(async_run_eval pid=30977)\u001b[0m Invoking bedrock/meta.llama3-70b-instruct-v1:0......\u001b[32m [repeated 22x across cluster]\u001b[0m\n",
      "\u001b[36m(async_run_eval pid=30975)\u001b[0m async_run_eval, i=5, total=10, judge_model_info=meta.llama3-70b-instruct-v1:0, eval_method: max_voting, uuid: f3e548a6770d41f79b3bba3d4bc2b9c4\u001b[32m [repeated 14x across cluster]\u001b[0m\n",
      "\u001b[36m(async_run_eval pid=30975)\u001b[0m run_eval, row 5/10, judge_model_id=meta.llama3-70b-instruct-v1:0, candidate model=mistral.mistral-7b-instruct-v0:2\u001b[32m [repeated 14x across cluster]\u001b[0m\n",
      "\u001b[36m(async_run_eval pid=30975)\u001b[0m get_inference, model_id=meta.llama3-70b-instruct-v1:0\u001b[32m [repeated 14x across cluster]\u001b[0m\n",
      "\u001b[36m(async_run_eval pid=30975)\u001b[0m Invoking bedrock/meta.llama3-70b-instruct-v1:0......\u001b[32m [repeated 14x across cluster]\u001b[0m\n",
      "\u001b[36m(async_run_eval pid=30976)\u001b[0m async_run_eval, i=9, total=10, judge_model_info=meta.llama3-70b-instruct-v1:0, eval_method: max_voting, uuid: 86dd3bb7b5b5432cbd5d626780814bea\u001b[32m [repeated 14x across cluster]\u001b[0m\n",
      "\u001b[36m(async_run_eval pid=30976)\u001b[0m run_eval, row 9/10, judge_model_id=meta.llama3-70b-instruct-v1:0, candidate model=mistral.mistral-7b-instruct-v0:2\u001b[32m [repeated 14x across cluster]\u001b[0m\n",
      "\u001b[36m(async_run_eval pid=30976)\u001b[0m get_inference, model_id=meta.llama3-70b-instruct-v1:0\u001b[32m [repeated 14x across cluster]\u001b[0m\n",
      "\u001b[36m(async_run_eval pid=30976)\u001b[0m Invoking bedrock/meta.llama3-70b-instruct-v1:0......\u001b[32m [repeated 14x across cluster]\u001b[0m\n",
      "\u001b[36m(async_run_eval pid=30975)\u001b[0m async_run_eval, i=10, total=10, judge_model_info=meta.llama3-70b-instruct-v1:0, eval_method: max_voting, uuid: f3aaf9cfcb844fd1be9c6d9fe52f3bf6\u001b[32m [repeated 11x across cluster]\u001b[0m\n",
      "\u001b[36m(async_run_eval pid=30975)\u001b[0m run_eval, row 10/10, judge_model_id=meta.llama3-70b-instruct-v1:0, candidate model=mistral.mixtral-8x7b-instruct-v0:1\u001b[32m [repeated 11x across cluster]\u001b[0m\n",
      "\u001b[36m(async_run_eval pid=30975)\u001b[0m get_inference, model_id=meta.llama3-70b-instruct-v1:0\u001b[32m [repeated 11x across cluster]\u001b[0m\n",
      "\u001b[36m(async_run_eval pid=30975)\u001b[0m Invoking bedrock/meta.llama3-70b-instruct-v1:0......\u001b[32m [repeated 11x across cluster]\u001b[0m\n",
      "\u001b[36m(async_run_eval pid=30977)\u001b[0m async_run_eval, i=3, total=10, judge_model_info=meta.llama3-70b-instruct-v1:0, eval_method: max_voting, uuid: c29109199aff40bca2a6de5f2c8890dc\u001b[32m [repeated 11x across cluster]\u001b[0m\n",
      "\u001b[36m(async_run_eval pid=30977)\u001b[0m run_eval, row 3/10, judge_model_id=meta.llama3-70b-instruct-v1:0, candidate model=mistral.mixtral-8x7b-instruct-v0:1\u001b[32m [repeated 11x across cluster]\u001b[0m\n",
      "\u001b[36m(async_run_eval pid=30977)\u001b[0m get_inference, model_id=meta.llama3-70b-instruct-v1:0\u001b[32m [repeated 11x across cluster]\u001b[0m\n",
      "\u001b[36m(async_run_eval pid=30977)\u001b[0m Invoking bedrock/meta.llama3-70b-instruct-v1:0......\u001b[32m [repeated 11x across cluster]\u001b[0m\n",
      "\u001b[36m(async_run_eval pid=30974)\u001b[0m async_run_eval, i=7, total=10, judge_model_info=meta.llama3-70b-instruct-v1:0, eval_method: max_voting, uuid: e7784a9f48c44ae1a2f0509b017df513\u001b[32m [repeated 14x across cluster]\u001b[0m\n",
      "\u001b[36m(async_run_eval pid=30974)\u001b[0m run_eval, row 7/10, judge_model_id=meta.llama3-70b-instruct-v1:0, candidate model=meta.llama2-13b-chat-v1\u001b[32m [repeated 14x across cluster]\u001b[0m\n",
      "\u001b[36m(async_run_eval pid=30974)\u001b[0m get_inference, model_id=meta.llama3-70b-instruct-v1:0\u001b[32m [repeated 14x across cluster]\u001b[0m\n",
      "\u001b[36m(async_run_eval pid=30974)\u001b[0m Invoking bedrock/meta.llama3-70b-instruct-v1:0......\u001b[32m [repeated 14x across cluster]\u001b[0m\n",
      "\u001b[36m(async_run_eval pid=30977)\u001b[0m async_run_eval, i=10, total=10, judge_model_info=meta.llama3-70b-instruct-v1:0, eval_method: max_voting, uuid: 97813d8b8ff94d7d845292d9f6ed3ad9\u001b[32m [repeated 14x across cluster]\u001b[0m\n",
      "\u001b[36m(async_run_eval pid=30977)\u001b[0m run_eval, row 10/10, judge_model_id=meta.llama3-70b-instruct-v1:0, candidate model=meta.llama2-13b-chat-v1\u001b[32m [repeated 14x across cluster]\u001b[0m\n",
      "\u001b[36m(async_run_eval pid=30977)\u001b[0m get_inference, model_id=meta.llama3-70b-instruct-v1:0\u001b[32m [repeated 14x across cluster]\u001b[0m\n",
      "\u001b[36m(async_run_eval pid=30977)\u001b[0m Invoking bedrock/meta.llama3-70b-instruct-v1:0......\u001b[32m [repeated 14x across cluster]\u001b[0m\n",
      "\u001b[36m(async_run_eval pid=30977)\u001b[0m async_run_eval, i=1, total=10, judge_model_info=meta.llama3-70b-instruct-v1:0, eval_method: max_voting, uuid: 4c3ad1b7251c40deaf40e199c4ab5b2e\u001b[32m [repeated 12x across cluster]\u001b[0m\n",
      "\u001b[36m(async_run_eval pid=30977)\u001b[0m run_eval, row 1/10, judge_model_id=meta.llama3-70b-instruct-v1:0, candidate model=meta.llama2-70b-chat-v1\u001b[32m [repeated 12x across cluster]\u001b[0m\n",
      "\u001b[36m(async_run_eval pid=30977)\u001b[0m get_inference, model_id=meta.llama3-70b-instruct-v1:0\u001b[32m [repeated 12x across cluster]\u001b[0m\n",
      "\u001b[36m(async_run_eval pid=30977)\u001b[0m Invoking bedrock/meta.llama3-70b-instruct-v1:0......\u001b[32m [repeated 12x across cluster]\u001b[0m\n",
      "\u001b[36m(async_run_eval pid=30977)\u001b[0m async_run_eval, i=3, total=10, judge_model_info=meta.llama3-70b-instruct-v1:0, eval_method: max_voting, uuid: f601918d844a408e908043ffac4ee740\u001b[32m [repeated 10x across cluster]\u001b[0m\n",
      "\u001b[36m(async_run_eval pid=30977)\u001b[0m run_eval, row 3/10, judge_model_id=meta.llama3-70b-instruct-v1:0, candidate model=meta.llama2-70b-chat-v1\u001b[32m [repeated 10x across cluster]\u001b[0m\n",
      "\u001b[36m(async_run_eval pid=30977)\u001b[0m get_inference, model_id=meta.llama3-70b-instruct-v1:0\u001b[32m [repeated 10x across cluster]\u001b[0m\n",
      "\u001b[36m(async_run_eval pid=30977)\u001b[0m Invoking bedrock/meta.llama3-70b-instruct-v1:0......\u001b[32m [repeated 10x across cluster]\u001b[0m\n",
      "\u001b[36m(async_run_eval pid=30976)\u001b[0m async_run_eval, i=5, total=10, judge_model_info=meta.llama3-70b-instruct-v1:0, eval_method: max_voting, uuid: 3313d0347dcc48b095938a566183648a\u001b[32m [repeated 14x across cluster]\u001b[0m\n",
      "\u001b[36m(async_run_eval pid=30976)\u001b[0m run_eval, row 5/10, judge_model_id=meta.llama3-70b-instruct-v1:0, candidate model=meta.llama2-70b-chat-v1\u001b[32m [repeated 14x across cluster]\u001b[0m\n",
      "\u001b[36m(async_run_eval pid=30976)\u001b[0m get_inference, model_id=meta.llama3-70b-instruct-v1:0\u001b[32m [repeated 14x across cluster]\u001b[0m\n",
      "\u001b[36m(async_run_eval pid=30976)\u001b[0m Invoking bedrock/meta.llama3-70b-instruct-v1:0......\u001b[32m [repeated 13x across cluster]\u001b[0m\n",
      "\u001b[36m(async_run_eval pid=30975)\u001b[0m async_run_eval, i=5, total=10, judge_model_info=meta.llama3-70b-instruct-v1:0, eval_method: max_voting, uuid: de85521ef8df4d51bb5022575ebc2658\u001b[32m [repeated 10x across cluster]\u001b[0m\n",
      "\u001b[36m(async_run_eval pid=30975)\u001b[0m run_eval, row 5/10, judge_model_id=meta.llama3-70b-instruct-v1:0, candidate model=amazon.titan-text-lite-v1\u001b[32m [repeated 10x across cluster]\u001b[0m\n",
      "\u001b[36m(async_run_eval pid=30975)\u001b[0m get_inference, model_id=meta.llama3-70b-instruct-v1:0\u001b[32m [repeated 10x across cluster]\u001b[0m\n",
      "\u001b[36m(async_run_eval pid=30975)\u001b[0m Invoking bedrock/meta.llama3-70b-instruct-v1:0......\u001b[32m [repeated 11x across cluster]\u001b[0m\n",
      "\u001b[36m(async_run_eval pid=30976)\u001b[0m async_run_eval, i=9, total=10, judge_model_info=meta.llama3-70b-instruct-v1:0, eval_method: max_voting, uuid: d8425235d5e94d78a76d26e02730c752\u001b[32m [repeated 14x across cluster]\u001b[0m\n",
      "\u001b[36m(async_run_eval pid=30976)\u001b[0m run_eval, row 9/10, judge_model_id=meta.llama3-70b-instruct-v1:0, candidate model=amazon.titan-text-lite-v1\u001b[32m [repeated 14x across cluster]\u001b[0m\n",
      "\u001b[36m(async_run_eval pid=30976)\u001b[0m get_inference, model_id=meta.llama3-70b-instruct-v1:0\u001b[32m [repeated 14x across cluster]\u001b[0m\n",
      "\u001b[36m(async_run_eval pid=30976)\u001b[0m Invoking bedrock/meta.llama3-70b-instruct-v1:0......\u001b[32m [repeated 14x across cluster]\u001b[0m\n",
      "\u001b[36m(async_run_eval pid=30977)\u001b[0m async_run_eval, i=3, total=10, judge_model_info=meta.llama3-70b-instruct-v1:0, eval_method: max_voting, uuid: b95a1de6410249ccbd95062b982299eb\u001b[32m [repeated 12x across cluster]\u001b[0m\n",
      "\u001b[36m(async_run_eval pid=30977)\u001b[0m run_eval, row 3/10, judge_model_id=meta.llama3-70b-instruct-v1:0, candidate model=amazon.titan-text-express-v1\u001b[32m [repeated 12x across cluster]\u001b[0m\n",
      "\u001b[36m(async_run_eval pid=30977)\u001b[0m get_inference, model_id=meta.llama3-70b-instruct-v1:0\u001b[32m [repeated 12x across cluster]\u001b[0m\n",
      "\u001b[36m(async_run_eval pid=30977)\u001b[0m Invoking bedrock/meta.llama3-70b-instruct-v1:0......\u001b[32m [repeated 12x across cluster]\u001b[0m\n",
      "\u001b[36m(async_run_eval pid=30977)\u001b[0m async_run_eval, i=2, total=10, judge_model_info=meta.llama3-70b-instruct-v1:0, eval_method: max_voting, uuid: 023c8b99931445499060a7cda7372b6e\u001b[32m [repeated 10x across cluster]\u001b[0m\n",
      "\u001b[36m(async_run_eval pid=30977)\u001b[0m run_eval, row 2/10, judge_model_id=meta.llama3-70b-instruct-v1:0, candidate model=amazon.titan-text-express-v1\u001b[32m [repeated 10x across cluster]\u001b[0m\n",
      "\u001b[36m(async_run_eval pid=30977)\u001b[0m get_inference, model_id=meta.llama3-70b-instruct-v1:0\u001b[32m [repeated 10x across cluster]\u001b[0m\n",
      "\u001b[36m(async_run_eval pid=30977)\u001b[0m Invoking bedrock/meta.llama3-70b-instruct-v1:0......\u001b[32m [repeated 10x across cluster]\u001b[0m\n",
      "\u001b[36m(async_run_eval pid=30975)\u001b[0m async_run_eval, i=5, total=10, judge_model_info=meta.llama3-70b-instruct-v1:0, eval_method: max_voting, uuid: 17c41a849ba14d66893b9053a1610b04\u001b[32m [repeated 14x across cluster]\u001b[0m\n",
      "\u001b[36m(async_run_eval pid=30975)\u001b[0m run_eval, row 5/10, judge_model_id=meta.llama3-70b-instruct-v1:0, candidate model=amazon.titan-text-express-v1\u001b[32m [repeated 14x across cluster]\u001b[0m\n",
      "\u001b[36m(async_run_eval pid=30975)\u001b[0m get_inference, model_id=meta.llama3-70b-instruct-v1:0\u001b[32m [repeated 14x across cluster]\u001b[0m\n",
      "\u001b[36m(async_run_eval pid=30975)\u001b[0m Invoking bedrock/meta.llama3-70b-instruct-v1:0......\u001b[32m [repeated 14x across cluster]\u001b[0m\n",
      "\u001b[36m(async_run_eval pid=30977)\u001b[0m async_run_eval, i=3, total=10, judge_model_info=meta.llama3-70b-instruct-v1:0, eval_method: max_voting, uuid: aa729f34b23a49798007e8afc6cdca4a\u001b[32m [repeated 6x across cluster]\u001b[0m\n",
      "\u001b[36m(async_run_eval pid=30977)\u001b[0m run_eval, row 3/10, judge_model_id=meta.llama3-70b-instruct-v1:0, candidate model=anthropic.claude-3-sonnet-20240229-v1:0\u001b[32m [repeated 6x across cluster]\u001b[0m\n",
      "\u001b[36m(async_run_eval pid=30977)\u001b[0m get_inference, model_id=meta.llama3-70b-instruct-v1:0\u001b[32m [repeated 6x across cluster]\u001b[0m\n",
      "\u001b[36m(async_run_eval pid=30977)\u001b[0m Invoking bedrock/meta.llama3-70b-instruct-v1:0......\u001b[32m [repeated 6x across cluster]\u001b[0m\n",
      "\u001b[36m(async_run_eval pid=30974)\u001b[0m async_run_eval, i=5, total=10, judge_model_info=meta.llama3-70b-instruct-v1:0, eval_method: max_voting, uuid: 6bd604d8bfdd43ca8e90c610be95749e\u001b[32m [repeated 14x across cluster]\u001b[0m\n",
      "\u001b[36m(async_run_eval pid=30974)\u001b[0m run_eval, row 5/10, judge_model_id=meta.llama3-70b-instruct-v1:0, candidate model=anthropic.claude-3-sonnet-20240229-v1:0\u001b[32m [repeated 14x across cluster]\u001b[0m\n",
      "\u001b[36m(async_run_eval pid=30974)\u001b[0m get_inference, model_id=meta.llama3-70b-instruct-v1:0\u001b[32m [repeated 14x across cluster]\u001b[0m\n",
      "\u001b[36m(async_run_eval pid=30974)\u001b[0m Invoking bedrock/meta.llama3-70b-instruct-v1:0......\u001b[32m [repeated 14x across cluster]\u001b[0m\n",
      "\u001b[36m(async_run_eval pid=30975)\u001b[0m async_run_eval, i=5, total=10, judge_model_info=meta.llama3-70b-instruct-v1:0, eval_method: max_voting, uuid: e8e1c241133448898a19115e42fe915f\u001b[32m [repeated 10x across cluster]\u001b[0m\n",
      "\u001b[36m(async_run_eval pid=30975)\u001b[0m run_eval, row 5/10, judge_model_id=meta.llama3-70b-instruct-v1:0, candidate model=anthropic.claude-3-sonnet-20240229-v1:0\u001b[32m [repeated 10x across cluster]\u001b[0m\n",
      "\u001b[36m(async_run_eval pid=30975)\u001b[0m get_inference, model_id=meta.llama3-70b-instruct-v1:0\u001b[32m [repeated 10x across cluster]\u001b[0m\n",
      "\u001b[36m(async_run_eval pid=30975)\u001b[0m Invoking bedrock/meta.llama3-70b-instruct-v1:0......\u001b[32m [repeated 10x across cluster]\u001b[0m\n",
      "\u001b[36m(async_run_eval pid=30974)\u001b[0m async_run_eval, i=9, total=10, judge_model_info=meta.llama3-70b-instruct-v1:0, eval_method: max_voting, uuid: b107e6e987524da08f9fe5bc66cec5da\u001b[32m [repeated 13x across cluster]\u001b[0m\n",
      "\u001b[36m(async_run_eval pid=30974)\u001b[0m run_eval, row 9/10, judge_model_id=meta.llama3-70b-instruct-v1:0, candidate model=anthropic.claude-3-haiku-20240307-v1:0\u001b[32m [repeated 13x across cluster]\u001b[0m\n",
      "\u001b[36m(async_run_eval pid=30974)\u001b[0m get_inference, model_id=meta.llama3-70b-instruct-v1:0\u001b[32m [repeated 13x across cluster]\u001b[0m\n",
      "\u001b[36m(async_run_eval pid=30974)\u001b[0m Invoking bedrock/meta.llama3-70b-instruct-v1:0......\u001b[32m [repeated 13x across cluster]\u001b[0m\n",
      "\u001b[36m(async_run_eval pid=30977)\u001b[0m async_run_eval, i=3, total=10, judge_model_info=meta.llama3-70b-instruct-v1:0, eval_method: max_voting, uuid: 06719aa2941c4f5e9679a7edde860b2d\u001b[32m [repeated 13x across cluster]\u001b[0m\n",
      "\u001b[36m(async_run_eval pid=30977)\u001b[0m run_eval, row 3/10, judge_model_id=meta.llama3-70b-instruct-v1:0, candidate model=anthropic.claude-3-haiku-20240307-v1:0\u001b[32m [repeated 13x across cluster]\u001b[0m\n",
      "\u001b[36m(async_run_eval pid=30977)\u001b[0m get_inference, model_id=meta.llama3-70b-instruct-v1:0\u001b[32m [repeated 13x across cluster]\u001b[0m\n",
      "\u001b[36m(async_run_eval pid=30977)\u001b[0m Invoking bedrock/meta.llama3-70b-instruct-v1:0......\u001b[32m [repeated 13x across cluster]\u001b[0m\n",
      "\u001b[36m(async_run_eval pid=30975)\u001b[0m async_run_eval, i=5, total=10, judge_model_info=meta.llama3-70b-instruct-v1:0, eval_method: max_voting, uuid: 8a91b594de124c648904efeb91a58429\u001b[32m [repeated 14x across cluster]\u001b[0m\n",
      "\u001b[36m(async_run_eval pid=30975)\u001b[0m run_eval, row 5/10, judge_model_id=meta.llama3-70b-instruct-v1:0, candidate model=cohere.command-text-v14\u001b[32m [repeated 14x across cluster]\u001b[0m\n",
      "\u001b[36m(async_run_eval pid=30975)\u001b[0m get_inference, model_id=meta.llama3-70b-instruct-v1:0\u001b[32m [repeated 14x across cluster]\u001b[0m\n",
      "\u001b[36m(async_run_eval pid=30975)\u001b[0m Invoking bedrock/meta.llama3-70b-instruct-v1:0......\u001b[32m [repeated 14x across cluster]\u001b[0m\n",
      "\u001b[36m(async_run_eval pid=30977)\u001b[0m async_run_eval, i=8, total=10, judge_model_info=meta.llama3-70b-instruct-v1:0, eval_method: max_voting, uuid: 38d8e0691fcf49f4bfcd55d7ca1e5533\u001b[32m [repeated 13x across cluster]\u001b[0m\n",
      "\u001b[36m(async_run_eval pid=30977)\u001b[0m run_eval, row 8/10, judge_model_id=meta.llama3-70b-instruct-v1:0, candidate model=cohere.command-text-v14\u001b[32m [repeated 13x across cluster]\u001b[0m\n",
      "\u001b[36m(async_run_eval pid=30977)\u001b[0m get_inference, model_id=meta.llama3-70b-instruct-v1:0\u001b[32m [repeated 13x across cluster]\u001b[0m\n",
      "\u001b[36m(async_run_eval pid=30977)\u001b[0m Invoking bedrock/meta.llama3-70b-instruct-v1:0......\u001b[32m [repeated 13x across cluster]\u001b[0m\n",
      "\u001b[36m(async_run_eval pid=30974)\u001b[0m async_run_eval, i=9, total=10, judge_model_info=meta.llama3-70b-instruct-v1:0, eval_method: max_voting, uuid: 6e40eb8af36b401db5b267b0f473f5eb\u001b[32m [repeated 11x across cluster]\u001b[0m\n",
      "\u001b[36m(async_run_eval pid=30974)\u001b[0m run_eval, row 9/10, judge_model_id=meta.llama3-70b-instruct-v1:0, candidate model=cohere.command-text-v14\u001b[32m [repeated 11x across cluster]\u001b[0m\n",
      "\u001b[36m(async_run_eval pid=30974)\u001b[0m get_inference, model_id=meta.llama3-70b-instruct-v1:0\u001b[32m [repeated 11x across cluster]\u001b[0m\n",
      "\u001b[36m(async_run_eval pid=30974)\u001b[0m Invoking bedrock/meta.llama3-70b-instruct-v1:0......\u001b[32m [repeated 11x across cluster]\u001b[0m\n",
      "\u001b[36m(async_run_eval pid=30977)\u001b[0m async_run_eval, i=4, total=10, judge_model_info=meta.llama3-70b-instruct-v1:0, eval_method: max_voting, uuid: f3799d5223134695a49d60836b4c85a1\u001b[32m [repeated 2x across cluster]\u001b[0m\n",
      "\u001b[36m(async_run_eval pid=30977)\u001b[0m run_eval, row 4/10, judge_model_id=meta.llama3-70b-instruct-v1:0, candidate model=cohere.command-light-text-v14\u001b[32m [repeated 2x across cluster]\u001b[0m\n",
      "\u001b[36m(async_run_eval pid=30977)\u001b[0m get_inference, model_id=meta.llama3-70b-instruct-v1:0\u001b[32m [repeated 2x across cluster]\u001b[0m\n",
      "\u001b[36m(async_run_eval pid=30977)\u001b[0m Invoking bedrock/meta.llama3-70b-instruct-v1:0......\u001b[32m [repeated 2x across cluster]\u001b[0m\n",
      "\u001b[36m(async_run_eval pid=30974)\u001b[0m async_run_eval, i=7, total=10, judge_model_info=meta.llama3-70b-instruct-v1:0, eval_method: max_voting, uuid: 16bad2eb538b4f418542f1f645d2e012\u001b[32m [repeated 14x across cluster]\u001b[0m\n",
      "\u001b[36m(async_run_eval pid=30974)\u001b[0m run_eval, row 7/10, judge_model_id=meta.llama3-70b-instruct-v1:0, candidate model=cohere.command-light-text-v14\u001b[32m [repeated 14x across cluster]\u001b[0m\n",
      "\u001b[36m(async_run_eval pid=30974)\u001b[0m get_inference, model_id=meta.llama3-70b-instruct-v1:0\u001b[32m [repeated 14x across cluster]\u001b[0m\n",
      "\u001b[36m(async_run_eval pid=30974)\u001b[0m Invoking bedrock/meta.llama3-70b-instruct-v1:0......\u001b[32m [repeated 14x across cluster]\u001b[0m\n",
      "\u001b[36m(async_run_eval pid=30974)\u001b[0m async_run_eval, i=9, total=10, judge_model_info=meta.llama3-70b-instruct-v1:0, eval_method: max_voting, uuid: 18427e320d104f58970de5a4d2728b8e\u001b[32m [repeated 14x across cluster]\u001b[0m\n",
      "\u001b[36m(async_run_eval pid=30974)\u001b[0m run_eval, row 9/10, judge_model_id=meta.llama3-70b-instruct-v1:0, candidate model=cohere.command-light-text-v14\u001b[32m [repeated 14x across cluster]\u001b[0m\n",
      "\u001b[36m(async_run_eval pid=30974)\u001b[0m get_inference, model_id=meta.llama3-70b-instruct-v1:0\u001b[32m [repeated 14x across cluster]\u001b[0m\n",
      "\u001b[36m(async_run_eval pid=30974)\u001b[0m Invoking bedrock/meta.llama3-70b-instruct-v1:0......\u001b[32m [repeated 14x across cluster]\u001b[0m\n",
      "\u001b[36m(async_run_eval pid=30977)\u001b[0m async_run_eval, i=7, total=10, judge_model_info=meta.llama3-70b-instruct-v1:0, eval_method: max_voting, uuid: fe1a43d8a4cb41968f181dc97c6e9fb4\u001b[32m [repeated 6x across cluster]\u001b[0m\n",
      "\u001b[36m(async_run_eval pid=30977)\u001b[0m run_eval, row 7/10, judge_model_id=meta.llama3-70b-instruct-v1:0, candidate model=ai21.j2-mid-v1\u001b[32m [repeated 6x across cluster]\u001b[0m\n",
      "\u001b[36m(async_run_eval pid=30977)\u001b[0m get_inference, model_id=meta.llama3-70b-instruct-v1:0\u001b[32m [repeated 6x across cluster]\u001b[0m\n",
      "\u001b[36m(async_run_eval pid=30977)\u001b[0m Invoking bedrock/meta.llama3-70b-instruct-v1:0......\u001b[32m [repeated 6x across cluster]\u001b[0m\n",
      "\u001b[36m(async_run_eval pid=30975)\u001b[0m async_run_eval, i=10, total=10, judge_model_info=meta.llama3-70b-instruct-v1:0, eval_method: max_voting, uuid: cfe0634a62414d47b2fdef95db8fa316\u001b[32m [repeated 14x across cluster]\u001b[0m\n",
      "\u001b[36m(async_run_eval pid=30975)\u001b[0m run_eval, row 10/10, judge_model_id=meta.llama3-70b-instruct-v1:0, candidate model=ai21.j2-mid-v1\u001b[32m [repeated 14x across cluster]\u001b[0m\n",
      "\u001b[36m(async_run_eval pid=30975)\u001b[0m get_inference, model_id=meta.llama3-70b-instruct-v1:0\u001b[32m [repeated 14x across cluster]\u001b[0m\n",
      "\u001b[36m(async_run_eval pid=30975)\u001b[0m Invoking bedrock/meta.llama3-70b-instruct-v1:0......\u001b[32m [repeated 14x across cluster]\u001b[0m\n",
      "\u001b[36m(async_run_eval pid=30977)\u001b[0m async_run_eval, i=2, total=10, judge_model_info=meta.llama3-70b-instruct-v1:0, eval_method: max_voting, uuid: c3b300292b61448f936307b64de26f42\u001b[32m [repeated 12x across cluster]\u001b[0m\n",
      "\u001b[36m(async_run_eval pid=30977)\u001b[0m run_eval, row 2/10, judge_model_id=meta.llama3-70b-instruct-v1:0, candidate model=ai21.j2-ultra-v1\u001b[32m [repeated 12x across cluster]\u001b[0m\n",
      "\u001b[36m(async_run_eval pid=30977)\u001b[0m get_inference, model_id=meta.llama3-70b-instruct-v1:0\u001b[32m [repeated 12x across cluster]\u001b[0m\n",
      "\u001b[36m(async_run_eval pid=30977)\u001b[0m Invoking bedrock/meta.llama3-70b-instruct-v1:0......\u001b[32m [repeated 12x across cluster]\u001b[0m\n",
      "\u001b[36m(async_run_eval pid=30975)\u001b[0m async_run_eval, i=5, total=10, judge_model_info=meta.llama3-70b-instruct-v1:0, eval_method: max_voting, uuid: 6c48cf8157fb4a7681a977b7c60d006e\u001b[32m [repeated 14x across cluster]\u001b[0m\n",
      "\u001b[36m(async_run_eval pid=30975)\u001b[0m run_eval, row 5/10, judge_model_id=meta.llama3-70b-instruct-v1:0, candidate model=ai21.j2-ultra-v1\u001b[32m [repeated 14x across cluster]\u001b[0m\n",
      "\u001b[36m(async_run_eval pid=30975)\u001b[0m get_inference, model_id=meta.llama3-70b-instruct-v1:0\u001b[32m [repeated 14x across cluster]\u001b[0m\n",
      "\u001b[36m(async_run_eval pid=30975)\u001b[0m Invoking bedrock/meta.llama3-70b-instruct-v1:0......\u001b[32m [repeated 14x across cluster]\u001b[0m\n",
      "\u001b[36m(async_run_eval pid=30974)\u001b[0m async_run_eval, i=8, total=10, judge_model_info=meta.llama3-70b-instruct-v1:0, eval_method: max_voting, uuid: 809b84c6fe8a4ab3a23ebdf51332462b\u001b[32m [repeated 13x across cluster]\u001b[0m\n",
      "\u001b[36m(async_run_eval pid=30974)\u001b[0m run_eval, row 8/10, judge_model_id=meta.llama3-70b-instruct-v1:0, candidate model=ai21.j2-ultra-v1\u001b[32m [repeated 13x across cluster]\u001b[0m\n",
      "\u001b[36m(async_run_eval pid=30974)\u001b[0m get_inference, model_id=meta.llama3-70b-instruct-v1:0\u001b[32m [repeated 13x across cluster]\u001b[0m\n",
      "\u001b[36m(async_run_eval pid=30974)\u001b[0m Invoking bedrock/meta.llama3-70b-instruct-v1:0......\u001b[32m [repeated 13x across cluster]\u001b[0m\n",
      "\u001b[36m(async_run_eval pid=30974)\u001b[0m async_run_eval, i=10, total=10, judge_model_info=cohere.command-r-v1:0, eval_method: max_voting, uuid: 16a86cb8c1154b93ab029538e12d721d\u001b[32m [repeated 21x across cluster]\u001b[0m\n",
      "\u001b[36m(async_run_eval pid=30974)\u001b[0m run_eval, row 10/10, judge_model_id=cohere.command-r-v1:0, candidate model=mistral.mistral-7b-instruct-v0:2\u001b[32m [repeated 21x across cluster]\u001b[0m\n",
      "\u001b[36m(async_run_eval pid=30974)\u001b[0m get_inference, model_id=cohere.command-r-v1:0\u001b[32m [repeated 21x across cluster]\u001b[0m\n",
      "\u001b[36m(async_run_eval pid=30974)\u001b[0m Invoking bedrock/cohere.command-r-v1:0......\u001b[32m [repeated 21x across cluster]\u001b[0m\n",
      "\u001b[36m(async_run_eval pid=30977)\u001b[0m async_run_eval, i=4, total=10, judge_model_info=cohere.command-r-v1:0, eval_method: max_voting, uuid: 401da0f28cf64ea2bc8519662979cedd\u001b[32m [repeated 22x across cluster]\u001b[0m\n",
      "\u001b[36m(async_run_eval pid=30977)\u001b[0m run_eval, row 4/10, judge_model_id=cohere.command-r-v1:0, candidate model=mistral.mixtral-8x7b-instruct-v0:1\u001b[32m [repeated 22x across cluster]\u001b[0m\n",
      "\u001b[36m(async_run_eval pid=30977)\u001b[0m get_inference, model_id=cohere.command-r-v1:0\u001b[32m [repeated 22x across cluster]\u001b[0m\n",
      "\u001b[36m(async_run_eval pid=30977)\u001b[0m Invoking bedrock/cohere.command-r-v1:0......\u001b[32m [repeated 22x across cluster]\u001b[0m\n",
      "\u001b[36m(async_run_eval pid=30977)\u001b[0m async_run_eval, i=8, total=10, judge_model_info=cohere.command-r-v1:0, eval_method: max_voting, uuid: b259ed41b8894b9a887b8a16f453896c\u001b[32m [repeated 24x across cluster]\u001b[0m\n",
      "\u001b[36m(async_run_eval pid=30977)\u001b[0m run_eval, row 8/10, judge_model_id=cohere.command-r-v1:0, candidate model=meta.llama2-13b-chat-v1\u001b[32m [repeated 24x across cluster]\u001b[0m\n",
      "\u001b[36m(async_run_eval pid=30977)\u001b[0m get_inference, model_id=cohere.command-r-v1:0\u001b[32m [repeated 24x across cluster]\u001b[0m\n",
      "\u001b[36m(async_run_eval pid=30977)\u001b[0m Invoking bedrock/cohere.command-r-v1:0......\u001b[32m [repeated 24x across cluster]\u001b[0m\n",
      "\u001b[36m(async_run_eval pid=30976)\u001b[0m async_run_eval, i=9, total=10, judge_model_info=cohere.command-r-v1:0, eval_method: max_voting, uuid: 4afb5afe42bf4741aacf91678e1b7976\u001b[32m [repeated 24x across cluster]\u001b[0m\n",
      "\u001b[36m(async_run_eval pid=30976)\u001b[0m run_eval, row 9/10, judge_model_id=cohere.command-r-v1:0, candidate model=meta.llama2-13b-chat-v1\u001b[32m [repeated 24x across cluster]\u001b[0m\n",
      "\u001b[36m(async_run_eval pid=30976)\u001b[0m get_inference, model_id=cohere.command-r-v1:0\u001b[32m [repeated 24x across cluster]\u001b[0m\n",
      "\u001b[36m(async_run_eval pid=30976)\u001b[0m Invoking bedrock/cohere.command-r-v1:0......\u001b[32m [repeated 24x across cluster]\u001b[0m\n",
      "\u001b[36m(async_run_eval pid=30977)\u001b[0m async_run_eval, i=4, total=10, judge_model_info=cohere.command-r-v1:0, eval_method: max_voting, uuid: 44926a07a9e6478c8e9709334940f887\u001b[32m [repeated 22x across cluster]\u001b[0m\n",
      "\u001b[36m(async_run_eval pid=30977)\u001b[0m run_eval, row 4/10, judge_model_id=cohere.command-r-v1:0, candidate model=meta.llama2-70b-chat-v1\u001b[32m [repeated 22x across cluster]\u001b[0m\n",
      "\u001b[36m(async_run_eval pid=30977)\u001b[0m get_inference, model_id=cohere.command-r-v1:0\u001b[32m [repeated 22x across cluster]\u001b[0m\n",
      "\u001b[36m(async_run_eval pid=30977)\u001b[0m Invoking bedrock/cohere.command-r-v1:0......\u001b[32m [repeated 22x across cluster]\u001b[0m\n",
      "\u001b[36m(async_run_eval pid=30977)\u001b[0m async_run_eval, i=7, total=10, judge_model_info=cohere.command-r-v1:0, eval_method: max_voting, uuid: e77c1acf562343269ede370f48e72544\u001b[32m [repeated 24x across cluster]\u001b[0m\n",
      "\u001b[36m(async_run_eval pid=30977)\u001b[0m run_eval, row 7/10, judge_model_id=cohere.command-r-v1:0, candidate model=amazon.titan-text-lite-v1\u001b[32m [repeated 24x across cluster]\u001b[0m\n",
      "\u001b[36m(async_run_eval pid=30977)\u001b[0m get_inference, model_id=cohere.command-r-v1:0\u001b[32m [repeated 24x across cluster]\u001b[0m\n",
      "\u001b[36m(async_run_eval pid=30977)\u001b[0m Invoking bedrock/cohere.command-r-v1:0......\u001b[32m [repeated 24x across cluster]\u001b[0m\n",
      "\u001b[36m(async_run_eval pid=30977)\u001b[0m async_run_eval, i=4, total=10, judge_model_info=cohere.command-r-v1:0, eval_method: max_voting, uuid: 641dc8ffac424ed49646d9567ceaa91d\u001b[32m [repeated 26x across cluster]\u001b[0m\n",
      "\u001b[36m(async_run_eval pid=30977)\u001b[0m run_eval, row 4/10, judge_model_id=cohere.command-r-v1:0, candidate model=amazon.titan-text-express-v1\u001b[32m [repeated 26x across cluster]\u001b[0m\n",
      "\u001b[36m(async_run_eval pid=30977)\u001b[0m get_inference, model_id=cohere.command-r-v1:0\u001b[32m [repeated 26x across cluster]\u001b[0m\n",
      "\u001b[36m(async_run_eval pid=30977)\u001b[0m Invoking bedrock/cohere.command-r-v1:0......\u001b[32m [repeated 26x across cluster]\u001b[0m\n",
      "\u001b[36m(async_run_eval pid=30974)\u001b[0m async_run_eval, i=9, total=10, judge_model_info=cohere.command-r-v1:0, eval_method: max_voting, uuid: 907f244bb888482e9ac1b24503fad09f\u001b[32m [repeated 28x across cluster]\u001b[0m\n",
      "\u001b[36m(async_run_eval pid=30974)\u001b[0m run_eval, row 9/10, judge_model_id=cohere.command-r-v1:0, candidate model=anthropic.claude-3-sonnet-20240229-v1:0\u001b[32m [repeated 28x across cluster]\u001b[0m\n",
      "\u001b[36m(async_run_eval pid=30974)\u001b[0m get_inference, model_id=cohere.command-r-v1:0\u001b[32m [repeated 28x across cluster]\u001b[0m\n",
      "\u001b[36m(async_run_eval pid=30974)\u001b[0m Invoking bedrock/cohere.command-r-v1:0......\u001b[32m [repeated 28x across cluster]\u001b[0m\n",
      "\u001b[36m(async_run_eval pid=30977)\u001b[0m async_run_eval, i=4, total=10, judge_model_info=cohere.command-r-v1:0, eval_method: max_voting, uuid: 6dc100525c4b4e278ce7dcfb887cfec6\u001b[32m [repeated 22x across cluster]\u001b[0m\n",
      "\u001b[36m(async_run_eval pid=30977)\u001b[0m run_eval, row 4/10, judge_model_id=cohere.command-r-v1:0, candidate model=anthropic.claude-3-haiku-20240307-v1:0\u001b[32m [repeated 22x across cluster]\u001b[0m\n",
      "\u001b[36m(async_run_eval pid=30977)\u001b[0m get_inference, model_id=cohere.command-r-v1:0\u001b[32m [repeated 22x across cluster]\u001b[0m\n",
      "\u001b[36m(async_run_eval pid=30976)\u001b[0m Invoking bedrock/cohere.command-r-v1:0......\u001b[32m [repeated 21x across cluster]\u001b[0m\n",
      "\u001b[36m(async_run_eval pid=30977)\u001b[0m async_run_eval, i=6, total=10, judge_model_info=cohere.command-r-v1:0, eval_method: max_voting, uuid: 540c1266d9f1435798d84216000e4fbf\u001b[32m [repeated 24x across cluster]\u001b[0m\n",
      "\u001b[36m(async_run_eval pid=30977)\u001b[0m run_eval, row 6/10, judge_model_id=cohere.command-r-v1:0, candidate model=anthropic.claude-3-haiku-20240307-v1:0\u001b[32m [repeated 24x across cluster]\u001b[0m\n",
      "\u001b[36m(async_run_eval pid=30977)\u001b[0m get_inference, model_id=cohere.command-r-v1:0\u001b[32m [repeated 24x across cluster]\u001b[0m\n",
      "\u001b[36m(async_run_eval pid=30977)\u001b[0m Invoking bedrock/cohere.command-r-v1:0......\u001b[32m [repeated 25x across cluster]\u001b[0m\n",
      "\u001b[36m(async_run_eval pid=30976)\u001b[0m async_run_eval, i=9, total=10, judge_model_info=cohere.command-r-v1:0, eval_method: max_voting, uuid: 7260cc38cfc246b5bb467ffcf3550941\u001b[32m [repeated 24x across cluster]\u001b[0m\n",
      "\u001b[36m(async_run_eval pid=30976)\u001b[0m run_eval, row 9/10, judge_model_id=cohere.command-r-v1:0, candidate model=cohere.command-text-v14\u001b[32m [repeated 24x across cluster]\u001b[0m\n",
      "\u001b[36m(async_run_eval pid=30976)\u001b[0m get_inference, model_id=cohere.command-r-v1:0\u001b[32m [repeated 24x across cluster]\u001b[0m\n",
      "\u001b[36m(async_run_eval pid=30976)\u001b[0m Invoking bedrock/cohere.command-r-v1:0......\u001b[32m [repeated 24x across cluster]\u001b[0m\n",
      "\u001b[36m(async_run_eval pid=30977)\u001b[0m async_run_eval, i=1, total=10, judge_model_info=cohere.command-r-v1:0, eval_method: max_voting, uuid: ea446181ceb049119ddcea4d0cc81efd\u001b[32m [repeated 22x across cluster]\u001b[0m\n",
      "\u001b[36m(async_run_eval pid=30977)\u001b[0m run_eval, row 1/10, judge_model_id=cohere.command-r-v1:0, candidate model=cohere.command-light-text-v14\u001b[32m [repeated 22x across cluster]\u001b[0m\n",
      "\u001b[36m(async_run_eval pid=30977)\u001b[0m get_inference, model_id=cohere.command-r-v1:0\u001b[32m [repeated 22x across cluster]\u001b[0m\n",
      "\u001b[36m(async_run_eval pid=30977)\u001b[0m Invoking bedrock/cohere.command-r-v1:0......\u001b[32m [repeated 22x across cluster]\u001b[0m\n",
      "\u001b[36m(async_run_eval pid=30977)\u001b[0m async_run_eval, i=6, total=10, judge_model_info=cohere.command-r-v1:0, eval_method: max_voting, uuid: 90f83e85d659401c83968c5ccb436d09\u001b[32m [repeated 24x across cluster]\u001b[0m\n",
      "\u001b[36m(async_run_eval pid=30977)\u001b[0m run_eval, row 6/10, judge_model_id=cohere.command-r-v1:0, candidate model=ai21.j2-mid-v1\u001b[32m [repeated 24x across cluster]\u001b[0m\n",
      "\u001b[36m(async_run_eval pid=30977)\u001b[0m get_inference, model_id=cohere.command-r-v1:0\u001b[32m [repeated 24x across cluster]\u001b[0m\n",
      "\u001b[36m(async_run_eval pid=30977)\u001b[0m Invoking bedrock/cohere.command-r-v1:0......\u001b[32m [repeated 24x across cluster]\u001b[0m\n",
      "\u001b[36m(async_run_eval pid=30974)\u001b[0m async_run_eval, i=9, total=10, judge_model_info=cohere.command-r-v1:0, eval_method: max_voting, uuid: 977db83eecc740adb2814e1223be1885\u001b[32m [repeated 24x across cluster]\u001b[0m\n",
      "\u001b[36m(async_run_eval pid=30974)\u001b[0m run_eval, row 9/10, judge_model_id=cohere.command-r-v1:0, candidate model=ai21.j2-mid-v1\u001b[32m [repeated 24x across cluster]\u001b[0m\n",
      "\u001b[36m(async_run_eval pid=30974)\u001b[0m get_inference, model_id=cohere.command-r-v1:0\u001b[32m [repeated 24x across cluster]\u001b[0m\n",
      "\u001b[36m(async_run_eval pid=30974)\u001b[0m Invoking bedrock/cohere.command-r-v1:0......\u001b[32m [repeated 24x across cluster]\u001b[0m\n",
      "\u001b[36m(async_run_eval pid=30977)\u001b[0m async_run_eval, i=4, total=10, judge_model_info=cohere.command-r-v1:0, eval_method: max_voting, uuid: a0cf0f58932d4a56a678a481d39e179f\u001b[32m [repeated 22x across cluster]\u001b[0m\n",
      "\u001b[36m(async_run_eval pid=30977)\u001b[0m run_eval, row 4/10, judge_model_id=cohere.command-r-v1:0, candidate model=ai21.j2-ultra-v1\u001b[32m [repeated 22x across cluster]\u001b[0m\n",
      "\u001b[36m(async_run_eval pid=30977)\u001b[0m get_inference, model_id=cohere.command-r-v1:0\u001b[32m [repeated 22x across cluster]\u001b[0m\n",
      "\u001b[36m(async_run_eval pid=30977)\u001b[0m Invoking bedrock/cohere.command-r-v1:0......\u001b[32m [repeated 22x across cluster]\u001b[0m\n"
     ]
    }
   ],
   "source": [
    "# initialize the ray service to run async calls in parallel to bedrock easily\n",
    "if ray.is_initialized():\n",
    "    ray.shutdown()\n",
    "ray.init()"
   ]
  },
  {
   "cell_type": "markdown",
   "metadata": {},
   "source": [
    "Load the Config.yml file contains information that is used across this benchmarking environment, such as information about the aws account, prompts, payloads to be used for invocations"
   ]
  },
  {
   "cell_type": "code",
   "execution_count": null,
   "metadata": {
    "tags": []
   },
   "outputs": [],
   "source": [
    "logger.info(f\"CONFIG_FILE={CONFIG_FILE}\")\n",
    "config = load_main_config(CONFIG_FILE)\n",
    "logger.info(json.dumps(config, indent=2))"
   ]
  },
  {
   "cell_type": "markdown",
   "metadata": {},
   "source": [
    "#### Load the associated pricing config file"
   ]
  },
  {
   "cell_type": "code",
   "execution_count": null,
   "metadata": {
    "tags": []
   },
   "outputs": [],
   "source": [
    "# represents getting the config file from the s3 bucket/https path for pricing yml information\n",
    "pricing_file_path: str = config['pricing'] \n",
    "\n",
    "# initialize the pricing config file to None\n",
    "pricing_config: Optional[Dict] = None\n",
    "\n",
    "# get the current config dir path\n",
    "config_dir = Path(pkg_resources.files('fmbench'), 'configs')\n",
    "logger.info(f\"Using fmbench.configs directory: {config_dir}\")\n",
    "\n",
    "pricing_module = Path(config['pricing'])\n",
    "logger.info(f\"pricing config provided for inference from this model is --> {pricing_module}\")\n",
    "pricing_file_path = os.path.join(config_dir, pricing_module)\n",
    "logger.info(f\"pricing config file path is --> {pricing_file_path}\")\n",
    "\n",
    "pricing_config = load_config(pricing_file_path)\n",
    "logger.info(f\"pricing config file recorded: {json.dumps(pricing_config, indent=2)}\")"
   ]
  },
  {
   "cell_type": "code",
   "execution_count": null,
   "metadata": {
    "tags": []
   },
   "outputs": [],
   "source": [
    "debug = False\n",
    "if debug is True:\n",
    "    metrics_path_file: str = os.path.join(\"..\", \"..\", METADATA_DIR, METRICS_PATH_FNAME)\n",
    "else:\n",
    "    metrics_path_file: str = os.path.join(METADATA_DIR, METRICS_PATH_FNAME)\n",
    "logger.info(f\"cwd={os.getcwd()}, METADATA_DIR={METADATA_DIR}, METRICS_PATH_FNAME={METRICS_PATH_FNAME}, metrics_path_file={metrics_path_file}\")\n",
    "METRICS_DIR: str = Path(metrics_path_file).read_text().strip()\n",
    "logger.info(f\"metrics_path_file={metrics_path_file}, METRICS_DIR={METRICS_DIR}\")"
   ]
  },
  {
   "cell_type": "code",
   "execution_count": 105,
   "metadata": {
    "tags": []
   },
   "outputs": [
    {
     "name": "stderr",
     "output_type": "stream",
     "text": [
      "[2024-07-12 17:46:06,690] p27460 {187576928.py:2} INFO - File path containing the metrics per inference folder --> fmbench-bedrock-fmbench-stack-us-west-2-role/data/metrics/yyyy=2024/mm=07/dd=12/hh=01/mm=18/per_inference_request_results.csv\n",
      "[2024-07-12 17:46:06,820] p27460 {187576928.py:9} INFO - fmbench-bedrock-fmbench-stack-us-west-2-role/data/metrics/yyyy=2024/mm=07/dd=12/hh=01/mm=18/per_inference_request_results.csv read into dataframe of shape (360, 22), cols=Index(['endpoint_name', 'prompt', 'ground_truth', 'temperature', 'max_tokens',\n",
      "       'top_p', 'completion', 'prompt_tokens', 'completion_tokens', 'latency',\n",
      "       'time_to_first_token', 'time_per_output_token', 'time_to_last_token',\n",
      "       'uuid', 'experiment_name', 'concurrency', 'instance_type',\n",
      "       'instance_count', 'EndpointName', 'ModelName', 'Image', 'S3Uri'],\n",
      "      dtype='object')\n",
      "[2024-07-12 17:46:06,821] p27460 {187576928.py:11} INFO - fmbench-bedrock-fmbench-stack-us-west-2-role/data/metrics/yyyy=2024/mm=07/dd=12/hh=01/mm=18/per_inference_request_results.csv contains results for the following endpoints=['mistral.mistral-7b-instruct-v0:2' 'mistral.mixtral-8x7b-instruct-v0:1'\n",
      " 'meta.llama2-13b-chat-v1' 'meta.llama2-70b-chat-v1'\n",
      " 'amazon.titan-text-lite-v1' 'amazon.titan-text-express-v1'\n",
      " 'anthropic.claude-3-sonnet-20240229-v1:0'\n",
      " 'anthropic.claude-3-haiku-20240307-v1:0' 'cohere.command-text-v14'\n",
      " 'cohere.command-light-text-v14' 'ai21.j2-mid-v1' 'ai21.j2-ultra-v1']\n",
      "[2024-07-12 17:46:06,821] p27460 {187576928.py:12} INFO -                       endpoint_name  \\\n",
      "0  mistral.mistral-7b-instruct-v0:2   \n",
      "1  mistral.mistral-7b-instruct-v0:2   \n",
      "2  mistral.mistral-7b-instruct-v0:2   \n",
      "3  mistral.mistral-7b-instruct-v0:2   \n",
      "4  mistral.mistral-7b-instruct-v0:2   \n",
      "\n",
      "                                              prompt  \\\n",
      "0  <s>[INST] <<SYS>>\\nYou are an assistant for qu...   \n",
      "1  <s>[INST] <<SYS>>\\nYou are an assistant for qu...   \n",
      "2  <s>[INST] <<SYS>>\\nYou are an assistant for qu...   \n",
      "3  <s>[INST] <<SYS>>\\nYou are an assistant for qu...   \n",
      "4  <s>[INST] <<SYS>>\\nYou are an assistant for qu...   \n",
      "\n",
      "                                        ground_truth  temperature  max_tokens  \\\n",
      "0  a genus of flowering plant in the Lardizabalac...          0.1         100   \n",
      "1  a genus of flowering plant in the Lardizabalac...          0.1         100   \n",
      "2  a genus of flowering plant in the Lardizabalac...          0.1         100   \n",
      "3  a genus of flowering plant in the Lardizabalac...          0.1         100   \n",
      "4  a genus of flowering plant in the Lardizabalac...          0.1         100   \n",
      "\n",
      "   top_p                                         completion  prompt_tokens  \\\n",
      "0   0.92  The genera Sinofranchetia and Stauntonia belon...            319   \n",
      "1   0.92  The genera Sinofranchetia and Stauntonia belon...            319   \n",
      "2   0.92  The genera Sinofranchetia and Stauntonia belon...            319   \n",
      "3   0.92  The genera Sinofranchetia and Stauntonia belon...            319   \n",
      "4   0.92  The genera Sinofranchetia and Stauntonia belon...            319   \n",
      "\n",
      "   completion_tokens   latency  ...  time_to_last_token  \\\n",
      "0                 26  0.440897  ...                 NaN   \n",
      "1                 26  0.450330  ...                 NaN   \n",
      "2                 26  0.461762  ...                 NaN   \n",
      "3                 26  0.453813  ...                 NaN   \n",
      "4                 26  0.435938  ...                 NaN   \n",
      "\n",
      "                               uuid                   experiment_name  \\\n",
      "0  6e77fb90ea804956a115b0268df059b0  mistral.mistral-7b-instruct-v0:2   \n",
      "1  82d04de71238454a9bbe05f520f22cb0  mistral.mistral-7b-instruct-v0:2   \n",
      "2  22303e132fb646aa86b938083660dce8  mistral.mistral-7b-instruct-v0:2   \n",
      "3  715d1d30b18244279ff5c0fbf112f245  mistral.mistral-7b-instruct-v0:2   \n",
      "4  6ede1f51a3d143f09377dda35107693a  mistral.mistral-7b-instruct-v0:2   \n",
      "\n",
      "  concurrency                     instance_type  instance_count EndpointName  \\\n",
      "0           1  mistral.mistral-7b-instruct-v0:2             1.0          NaN   \n",
      "1           1  mistral.mistral-7b-instruct-v0:2             1.0          NaN   \n",
      "2           1  mistral.mistral-7b-instruct-v0:2             1.0          NaN   \n",
      "3           1  mistral.mistral-7b-instruct-v0:2             1.0          NaN   \n",
      "4           1  mistral.mistral-7b-instruct-v0:2             1.0          NaN   \n",
      "\n",
      "   ModelName  Image  S3Uri  \n",
      "0        NaN    NaN    NaN  \n",
      "1        NaN    NaN    NaN  \n",
      "2        NaN    NaN    NaN  \n",
      "3        NaN    NaN    NaN  \n",
      "4        NaN    NaN    NaN  \n",
      "\n",
      "[5 rows x 22 columns]\n"
     ]
    }
   ],
   "source": [
    "file_path: str = \"fmbench-bedrock-fmbench-stack-us-west-2-role/data/metrics/yyyy=2024/mm=07/dd=12/hh=01/mm=18/per_inference_request_results.csv\"\n",
    "logger.info(f\"File path containing the metrics per inference folder --> {file_path}\")\n",
    "\n",
    "# Read the file from S3\n",
    "try:\n",
    "    file_content = get_s3_object(config['aws']['bucket'], file_path)\n",
    "    # Use pandas to read the CSV content\n",
    "    df_per_inference = pd.read_csv(io.StringIO(file_content))\n",
    "    logger.info(f\"{file_path} read into dataframe of shape {df_per_inference.shape}, \"\n",
    "                f\"cols={df_per_inference.columns}\")\n",
    "    logger.info(f\"{file_path} contains results for the following endpoints={df_per_inference.endpoint_name.unique()}\")\n",
    "    logger.info(df_per_inference.head())\n",
    "except Exception as e:\n",
    "    logger.error(f\"Error reading from S3: {e}\")"
   ]
  },
  {
   "cell_type": "code",
   "execution_count": 109,
   "metadata": {
    "tags": []
   },
   "outputs": [
    {
     "data": {
      "text/html": [
       "<div>\n",
       "<style scoped>\n",
       "    .dataframe tbody tr th:only-of-type {\n",
       "        vertical-align: middle;\n",
       "    }\n",
       "\n",
       "    .dataframe tbody tr th {\n",
       "        vertical-align: top;\n",
       "    }\n",
       "\n",
       "    .dataframe thead th {\n",
       "        text-align: right;\n",
       "    }\n",
       "</style>\n",
       "<table border=\"1\" class=\"dataframe\">\n",
       "  <thead>\n",
       "    <tr style=\"text-align: right;\">\n",
       "      <th></th>\n",
       "      <th>endpoint_name</th>\n",
       "      <th>prompt</th>\n",
       "      <th>ground_truth</th>\n",
       "      <th>temperature</th>\n",
       "      <th>max_tokens</th>\n",
       "      <th>top_p</th>\n",
       "      <th>completion</th>\n",
       "      <th>prompt_tokens</th>\n",
       "      <th>completion_tokens</th>\n",
       "      <th>latency</th>\n",
       "      <th>...</th>\n",
       "      <th>time_to_last_token</th>\n",
       "      <th>uuid</th>\n",
       "      <th>experiment_name</th>\n",
       "      <th>concurrency</th>\n",
       "      <th>instance_type</th>\n",
       "      <th>instance_count</th>\n",
       "      <th>EndpointName</th>\n",
       "      <th>ModelName</th>\n",
       "      <th>Image</th>\n",
       "      <th>S3Uri</th>\n",
       "    </tr>\n",
       "  </thead>\n",
       "  <tbody>\n",
       "    <tr>\n",
       "      <th>0</th>\n",
       "      <td>mistral.mistral-7b-instruct-v0:2</td>\n",
       "      <td>&lt;s&gt;[INST] &lt;&lt;SYS&gt;&gt;\\nYou are an assistant for qu...</td>\n",
       "      <td>a genus of flowering plant in the Lardizabalac...</td>\n",
       "      <td>0.1</td>\n",
       "      <td>100</td>\n",
       "      <td>0.92</td>\n",
       "      <td>The genera Sinofranchetia and Stauntonia belon...</td>\n",
       "      <td>319</td>\n",
       "      <td>26</td>\n",
       "      <td>0.440897</td>\n",
       "      <td>...</td>\n",
       "      <td>NaN</td>\n",
       "      <td>6e77fb90ea804956a115b0268df059b0</td>\n",
       "      <td>mistral.mistral-7b-instruct-v0:2</td>\n",
       "      <td>1</td>\n",
       "      <td>mistral.mistral-7b-instruct-v0:2</td>\n",
       "      <td>1.0</td>\n",
       "      <td>NaN</td>\n",
       "      <td>NaN</td>\n",
       "      <td>NaN</td>\n",
       "      <td>NaN</td>\n",
       "    </tr>\n",
       "    <tr>\n",
       "      <th>1</th>\n",
       "      <td>mistral.mistral-7b-instruct-v0:2</td>\n",
       "      <td>&lt;s&gt;[INST] &lt;&lt;SYS&gt;&gt;\\nYou are an assistant for qu...</td>\n",
       "      <td>a genus of flowering plant in the Lardizabalac...</td>\n",
       "      <td>0.1</td>\n",
       "      <td>100</td>\n",
       "      <td>0.92</td>\n",
       "      <td>The genera Sinofranchetia and Stauntonia belon...</td>\n",
       "      <td>319</td>\n",
       "      <td>26</td>\n",
       "      <td>0.450330</td>\n",
       "      <td>...</td>\n",
       "      <td>NaN</td>\n",
       "      <td>82d04de71238454a9bbe05f520f22cb0</td>\n",
       "      <td>mistral.mistral-7b-instruct-v0:2</td>\n",
       "      <td>1</td>\n",
       "      <td>mistral.mistral-7b-instruct-v0:2</td>\n",
       "      <td>1.0</td>\n",
       "      <td>NaN</td>\n",
       "      <td>NaN</td>\n",
       "      <td>NaN</td>\n",
       "      <td>NaN</td>\n",
       "    </tr>\n",
       "    <tr>\n",
       "      <th>2</th>\n",
       "      <td>mistral.mistral-7b-instruct-v0:2</td>\n",
       "      <td>&lt;s&gt;[INST] &lt;&lt;SYS&gt;&gt;\\nYou are an assistant for qu...</td>\n",
       "      <td>a genus of flowering plant in the Lardizabalac...</td>\n",
       "      <td>0.1</td>\n",
       "      <td>100</td>\n",
       "      <td>0.92</td>\n",
       "      <td>The genera Sinofranchetia and Stauntonia belon...</td>\n",
       "      <td>319</td>\n",
       "      <td>26</td>\n",
       "      <td>0.461762</td>\n",
       "      <td>...</td>\n",
       "      <td>NaN</td>\n",
       "      <td>22303e132fb646aa86b938083660dce8</td>\n",
       "      <td>mistral.mistral-7b-instruct-v0:2</td>\n",
       "      <td>1</td>\n",
       "      <td>mistral.mistral-7b-instruct-v0:2</td>\n",
       "      <td>1.0</td>\n",
       "      <td>NaN</td>\n",
       "      <td>NaN</td>\n",
       "      <td>NaN</td>\n",
       "      <td>NaN</td>\n",
       "    </tr>\n",
       "    <tr>\n",
       "      <th>3</th>\n",
       "      <td>mistral.mistral-7b-instruct-v0:2</td>\n",
       "      <td>&lt;s&gt;[INST] &lt;&lt;SYS&gt;&gt;\\nYou are an assistant for qu...</td>\n",
       "      <td>a genus of flowering plant in the Lardizabalac...</td>\n",
       "      <td>0.1</td>\n",
       "      <td>100</td>\n",
       "      <td>0.92</td>\n",
       "      <td>The genera Sinofranchetia and Stauntonia belon...</td>\n",
       "      <td>319</td>\n",
       "      <td>26</td>\n",
       "      <td>0.453813</td>\n",
       "      <td>...</td>\n",
       "      <td>NaN</td>\n",
       "      <td>715d1d30b18244279ff5c0fbf112f245</td>\n",
       "      <td>mistral.mistral-7b-instruct-v0:2</td>\n",
       "      <td>1</td>\n",
       "      <td>mistral.mistral-7b-instruct-v0:2</td>\n",
       "      <td>1.0</td>\n",
       "      <td>NaN</td>\n",
       "      <td>NaN</td>\n",
       "      <td>NaN</td>\n",
       "      <td>NaN</td>\n",
       "    </tr>\n",
       "    <tr>\n",
       "      <th>4</th>\n",
       "      <td>mistral.mistral-7b-instruct-v0:2</td>\n",
       "      <td>&lt;s&gt;[INST] &lt;&lt;SYS&gt;&gt;\\nYou are an assistant for qu...</td>\n",
       "      <td>a genus of flowering plant in the Lardizabalac...</td>\n",
       "      <td>0.1</td>\n",
       "      <td>100</td>\n",
       "      <td>0.92</td>\n",
       "      <td>The genera Sinofranchetia and Stauntonia belon...</td>\n",
       "      <td>319</td>\n",
       "      <td>26</td>\n",
       "      <td>0.435938</td>\n",
       "      <td>...</td>\n",
       "      <td>NaN</td>\n",
       "      <td>6ede1f51a3d143f09377dda35107693a</td>\n",
       "      <td>mistral.mistral-7b-instruct-v0:2</td>\n",
       "      <td>1</td>\n",
       "      <td>mistral.mistral-7b-instruct-v0:2</td>\n",
       "      <td>1.0</td>\n",
       "      <td>NaN</td>\n",
       "      <td>NaN</td>\n",
       "      <td>NaN</td>\n",
       "      <td>NaN</td>\n",
       "    </tr>\n",
       "  </tbody>\n",
       "</table>\n",
       "<p>5 rows × 22 columns</p>\n",
       "</div>"
      ],
      "text/plain": [
       "                      endpoint_name  \\\n",
       "0  mistral.mistral-7b-instruct-v0:2   \n",
       "1  mistral.mistral-7b-instruct-v0:2   \n",
       "2  mistral.mistral-7b-instruct-v0:2   \n",
       "3  mistral.mistral-7b-instruct-v0:2   \n",
       "4  mistral.mistral-7b-instruct-v0:2   \n",
       "\n",
       "                                              prompt  \\\n",
       "0  <s>[INST] <<SYS>>\\nYou are an assistant for qu...   \n",
       "1  <s>[INST] <<SYS>>\\nYou are an assistant for qu...   \n",
       "2  <s>[INST] <<SYS>>\\nYou are an assistant for qu...   \n",
       "3  <s>[INST] <<SYS>>\\nYou are an assistant for qu...   \n",
       "4  <s>[INST] <<SYS>>\\nYou are an assistant for qu...   \n",
       "\n",
       "                                        ground_truth  temperature  max_tokens  \\\n",
       "0  a genus of flowering plant in the Lardizabalac...          0.1         100   \n",
       "1  a genus of flowering plant in the Lardizabalac...          0.1         100   \n",
       "2  a genus of flowering plant in the Lardizabalac...          0.1         100   \n",
       "3  a genus of flowering plant in the Lardizabalac...          0.1         100   \n",
       "4  a genus of flowering plant in the Lardizabalac...          0.1         100   \n",
       "\n",
       "   top_p                                         completion  prompt_tokens  \\\n",
       "0   0.92  The genera Sinofranchetia and Stauntonia belon...            319   \n",
       "1   0.92  The genera Sinofranchetia and Stauntonia belon...            319   \n",
       "2   0.92  The genera Sinofranchetia and Stauntonia belon...            319   \n",
       "3   0.92  The genera Sinofranchetia and Stauntonia belon...            319   \n",
       "4   0.92  The genera Sinofranchetia and Stauntonia belon...            319   \n",
       "\n",
       "   completion_tokens   latency  ...  time_to_last_token  \\\n",
       "0                 26  0.440897  ...                 NaN   \n",
       "1                 26  0.450330  ...                 NaN   \n",
       "2                 26  0.461762  ...                 NaN   \n",
       "3                 26  0.453813  ...                 NaN   \n",
       "4                 26  0.435938  ...                 NaN   \n",
       "\n",
       "                               uuid                   experiment_name  \\\n",
       "0  6e77fb90ea804956a115b0268df059b0  mistral.mistral-7b-instruct-v0:2   \n",
       "1  82d04de71238454a9bbe05f520f22cb0  mistral.mistral-7b-instruct-v0:2   \n",
       "2  22303e132fb646aa86b938083660dce8  mistral.mistral-7b-instruct-v0:2   \n",
       "3  715d1d30b18244279ff5c0fbf112f245  mistral.mistral-7b-instruct-v0:2   \n",
       "4  6ede1f51a3d143f09377dda35107693a  mistral.mistral-7b-instruct-v0:2   \n",
       "\n",
       "  concurrency                     instance_type  instance_count EndpointName  \\\n",
       "0           1  mistral.mistral-7b-instruct-v0:2             1.0          NaN   \n",
       "1           1  mistral.mistral-7b-instruct-v0:2             1.0          NaN   \n",
       "2           1  mistral.mistral-7b-instruct-v0:2             1.0          NaN   \n",
       "3           1  mistral.mistral-7b-instruct-v0:2             1.0          NaN   \n",
       "4           1  mistral.mistral-7b-instruct-v0:2             1.0          NaN   \n",
       "\n",
       "   ModelName  Image  S3Uri  \n",
       "0        NaN    NaN    NaN  \n",
       "1        NaN    NaN    NaN  \n",
       "2        NaN    NaN    NaN  \n",
       "3        NaN    NaN    NaN  \n",
       "4        NaN    NaN    NaN  \n",
       "\n",
       "[5 rows x 22 columns]"
      ]
     },
     "execution_count": 109,
     "metadata": {},
     "output_type": "execute_result"
    }
   ],
   "source": [
    "df_per_inference.head()"
   ]
  },
  {
   "cell_type": "markdown",
   "metadata": {},
   "source": [
    "### Relationship between prompt token length and inference latency for different instances and concurrency levels"
   ]
  },
  {
   "cell_type": "code",
   "execution_count": 110,
   "metadata": {
    "tags": []
   },
   "outputs": [
    {
     "data": {
      "text/plain": [
       "count    360.000000\n",
       "mean       0.999005\n",
       "std        0.660359\n",
       "min        0.273340\n",
       "25%        0.549609\n",
       "50%        0.800043\n",
       "75%        1.293201\n",
       "max        5.731676\n",
       "Name: latency, dtype: float64"
      ]
     },
     "execution_count": 110,
     "metadata": {},
     "output_type": "execute_result"
    }
   ],
   "source": [
    "df_per_inference.latency.describe()"
   ]
  },
  {
   "cell_type": "markdown",
   "metadata": {},
   "source": [
    "### Use the `sentence-transformers/all-mpnet-base-v2` embeddings model to calculate the _Cosine Similarity_ scores \n",
    "---\n",
    "\n",
    "This portion of the evaluation step does as follows:\n",
    "\n",
    "1. Uses the `sentence-transformers/all-mpnet-base-v2` model from Hugging Face. This is a sentence-transformers model. It maps sentences & paragraphs to a 768 dimensional dense vector space and can be used for tasks like clustering or semantic search.\n",
    "\n",
    "1. Use the embeddings model to get quantitative metrics from the inferences. This helps to get a similarity score between the ground truth answers from a dataset if any are given and the actual responses from the model received during inference.\n",
    "\n",
    "1. If no ground truth is provided, cosine similarity is calculated between the response and the content provided to answer the question.embeddings_model_info"
   ]
  },
  {
   "cell_type": "code",
   "execution_count": 111,
   "metadata": {
    "tags": []
   },
   "outputs": [],
   "source": [
    "# get the quantitiative evaluation information from the config file, such as the embeddings model\n",
    "# to be used\n",
    "embeddings_model_quantitative_info: Dict = config['model_evaluations']['quantitative_eval_info']\n",
    "\n",
    "\n",
    "def load_model():\n",
    "    \"\"\"\n",
    "    This function loads the sentence-transformers model based on the provided model ID.\n",
    "    \"\"\"\n",
    "    try: \n",
    "        model=None\n",
    "        model_id = embeddings_model_quantitative_info['embeddings_model_id'].get('model_id', None)\n",
    "        if model_id:\n",
    "            model = SentenceTransformer(model_id)\n",
    "        else:\n",
    "            raise ValueError(\"Model ID is not provided or invalid in the configuration.\")\n",
    "    except Exception as e:\n",
    "        logger.error(f\"The SentenceTransformer embeddings model could not be loaded: {e}\")\n",
    "        model=None\n",
    "    return model"
   ]
  },
  {
   "cell_type": "code",
   "execution_count": 112,
   "metadata": {
    "tags": []
   },
   "outputs": [
    {
     "name": "stderr",
     "output_type": "stream",
     "text": [
      "[2024-07-12 17:46:18,270] p27460 {SentenceTransformer.py:189} INFO - Use pytorch device_name: cpu\n",
      "[2024-07-12 17:46:18,271] p27460 {SentenceTransformer.py:197} INFO - Load pretrained SentenceTransformer: sentence-transformers/all-mpnet-base-v2\n",
      "/home/ec2-user/anaconda3/envs/fmbench_eval_python311/lib/python3.11/site-packages/huggingface_hub/file_download.py:1132: FutureWarning: `resume_download` is deprecated and will be removed in version 1.0.0. Downloads always resume when possible. If you want to force a new download, use `force_download=True`.\n",
      "  warnings.warn(\n"
     ]
    },
    {
     "data": {
      "application/vnd.jupyter.widget-view+json": {
       "model_id": "b891e046dec248acaed55411a30295f4",
       "version_major": 2,
       "version_minor": 0
      },
      "text/plain": [
       "Batches:   0%|          | 0/1 [00:00<?, ?it/s]"
      ]
     },
     "metadata": {},
     "output_type": "display_data"
    },
    {
     "data": {
      "application/vnd.jupyter.widget-view+json": {
       "model_id": "096a8f445f624f89971d2fb03111a18a",
       "version_major": 2,
       "version_minor": 0
      },
      "text/plain": [
       "Batches:   0%|          | 0/1 [00:00<?, ?it/s]"
      ]
     },
     "metadata": {},
     "output_type": "display_data"
    },
    {
     "data": {
      "application/vnd.jupyter.widget-view+json": {
       "model_id": "3139024fd91e4f09bffa761a0f692153",
       "version_major": 2,
       "version_minor": 0
      },
      "text/plain": [
       "Batches:   0%|          | 0/1 [00:00<?, ?it/s]"
      ]
     },
     "metadata": {},
     "output_type": "display_data"
    },
    {
     "data": {
      "application/vnd.jupyter.widget-view+json": {
       "model_id": "ec8ce4d38e00422cadfa15a3b31d50fc",
       "version_major": 2,
       "version_minor": 0
      },
      "text/plain": [
       "Batches:   0%|          | 0/1 [00:00<?, ?it/s]"
      ]
     },
     "metadata": {},
     "output_type": "display_data"
    },
    {
     "data": {
      "application/vnd.jupyter.widget-view+json": {
       "model_id": "6d0b5e4507ef41009fe61d6b8a28137b",
       "version_major": 2,
       "version_minor": 0
      },
      "text/plain": [
       "Batches:   0%|          | 0/1 [00:00<?, ?it/s]"
      ]
     },
     "metadata": {},
     "output_type": "display_data"
    },
    {
     "data": {
      "application/vnd.jupyter.widget-view+json": {
       "model_id": "17ec105d24eb4cab8b744f6409b13b5e",
       "version_major": 2,
       "version_minor": 0
      },
      "text/plain": [
       "Batches:   0%|          | 0/1 [00:00<?, ?it/s]"
      ]
     },
     "metadata": {},
     "output_type": "display_data"
    },
    {
     "data": {
      "application/vnd.jupyter.widget-view+json": {
       "model_id": "b88da7a4e5694cd5894540e3f7362540",
       "version_major": 2,
       "version_minor": 0
      },
      "text/plain": [
       "Batches:   0%|          | 0/1 [00:00<?, ?it/s]"
      ]
     },
     "metadata": {},
     "output_type": "display_data"
    },
    {
     "data": {
      "application/vnd.jupyter.widget-view+json": {
       "model_id": "f09114b7ee0449db8ee319ab68e2ff01",
       "version_major": 2,
       "version_minor": 0
      },
      "text/plain": [
       "Batches:   0%|          | 0/1 [00:00<?, ?it/s]"
      ]
     },
     "metadata": {},
     "output_type": "display_data"
    },
    {
     "data": {
      "application/vnd.jupyter.widget-view+json": {
       "model_id": "51c9e36dc48d470287bd0a941426ba97",
       "version_major": 2,
       "version_minor": 0
      },
      "text/plain": [
       "Batches:   0%|          | 0/1 [00:00<?, ?it/s]"
      ]
     },
     "metadata": {},
     "output_type": "display_data"
    },
    {
     "data": {
      "application/vnd.jupyter.widget-view+json": {
       "model_id": "86ee67f7171d4f05a9d04363c60b390e",
       "version_major": 2,
       "version_minor": 0
      },
      "text/plain": [
       "Batches:   0%|          | 0/1 [00:00<?, ?it/s]"
      ]
     },
     "metadata": {},
     "output_type": "display_data"
    },
    {
     "data": {
      "application/vnd.jupyter.widget-view+json": {
       "model_id": "f257a390a90541acbf139ee1f1e40b6c",
       "version_major": 2,
       "version_minor": 0
      },
      "text/plain": [
       "Batches:   0%|          | 0/1 [00:00<?, ?it/s]"
      ]
     },
     "metadata": {},
     "output_type": "display_data"
    },
    {
     "data": {
      "application/vnd.jupyter.widget-view+json": {
       "model_id": "b5293584d50e4d0ea93f085c149d792c",
       "version_major": 2,
       "version_minor": 0
      },
      "text/plain": [
       "Batches:   0%|          | 0/1 [00:00<?, ?it/s]"
      ]
     },
     "metadata": {},
     "output_type": "display_data"
    },
    {
     "data": {
      "application/vnd.jupyter.widget-view+json": {
       "model_id": "4be1ada581db4d0b8f32ee0e2f3e36c8",
       "version_major": 2,
       "version_minor": 0
      },
      "text/plain": [
       "Batches:   0%|          | 0/1 [00:00<?, ?it/s]"
      ]
     },
     "metadata": {},
     "output_type": "display_data"
    },
    {
     "data": {
      "application/vnd.jupyter.widget-view+json": {
       "model_id": "1be4bba858014f0f973dd350f555a3f2",
       "version_major": 2,
       "version_minor": 0
      },
      "text/plain": [
       "Batches:   0%|          | 0/1 [00:00<?, ?it/s]"
      ]
     },
     "metadata": {},
     "output_type": "display_data"
    },
    {
     "data": {
      "application/vnd.jupyter.widget-view+json": {
       "model_id": "ebdfe09669f9407aa0035bb3cbb5eef8",
       "version_major": 2,
       "version_minor": 0
      },
      "text/plain": [
       "Batches:   0%|          | 0/1 [00:00<?, ?it/s]"
      ]
     },
     "metadata": {},
     "output_type": "display_data"
    },
    {
     "data": {
      "application/vnd.jupyter.widget-view+json": {
       "model_id": "f1c7c93f195e41bf90caed1860dd1ce1",
       "version_major": 2,
       "version_minor": 0
      },
      "text/plain": [
       "Batches:   0%|          | 0/1 [00:00<?, ?it/s]"
      ]
     },
     "metadata": {},
     "output_type": "display_data"
    },
    {
     "data": {
      "application/vnd.jupyter.widget-view+json": {
       "model_id": "4da4ae4b7cbf41799878d3bec696b3a0",
       "version_major": 2,
       "version_minor": 0
      },
      "text/plain": [
       "Batches:   0%|          | 0/1 [00:00<?, ?it/s]"
      ]
     },
     "metadata": {},
     "output_type": "display_data"
    },
    {
     "data": {
      "application/vnd.jupyter.widget-view+json": {
       "model_id": "09b2691697a9414798d4ea752cfc98d5",
       "version_major": 2,
       "version_minor": 0
      },
      "text/plain": [
       "Batches:   0%|          | 0/1 [00:00<?, ?it/s]"
      ]
     },
     "metadata": {},
     "output_type": "display_data"
    },
    {
     "data": {
      "application/vnd.jupyter.widget-view+json": {
       "model_id": "8aabe491d0f94823a7505aef7ab71d82",
       "version_major": 2,
       "version_minor": 0
      },
      "text/plain": [
       "Batches:   0%|          | 0/1 [00:00<?, ?it/s]"
      ]
     },
     "metadata": {},
     "output_type": "display_data"
    },
    {
     "data": {
      "application/vnd.jupyter.widget-view+json": {
       "model_id": "5f07be61d27041f9a37eb7be84f1818a",
       "version_major": 2,
       "version_minor": 0
      },
      "text/plain": [
       "Batches:   0%|          | 0/1 [00:00<?, ?it/s]"
      ]
     },
     "metadata": {},
     "output_type": "display_data"
    },
    {
     "data": {
      "application/vnd.jupyter.widget-view+json": {
       "model_id": "473684be5b2641be9dbd2154b4ec5560",
       "version_major": 2,
       "version_minor": 0
      },
      "text/plain": [
       "Batches:   0%|          | 0/1 [00:00<?, ?it/s]"
      ]
     },
     "metadata": {},
     "output_type": "display_data"
    },
    {
     "data": {
      "application/vnd.jupyter.widget-view+json": {
       "model_id": "64f38c560a134c5b940b5838b3eb2c35",
       "version_major": 2,
       "version_minor": 0
      },
      "text/plain": [
       "Batches:   0%|          | 0/1 [00:00<?, ?it/s]"
      ]
     },
     "metadata": {},
     "output_type": "display_data"
    },
    {
     "data": {
      "application/vnd.jupyter.widget-view+json": {
       "model_id": "0283b6d13ab14421859eeb9b396de577",
       "version_major": 2,
       "version_minor": 0
      },
      "text/plain": [
       "Batches:   0%|          | 0/1 [00:00<?, ?it/s]"
      ]
     },
     "metadata": {},
     "output_type": "display_data"
    },
    {
     "data": {
      "application/vnd.jupyter.widget-view+json": {
       "model_id": "061236c6f985406dbf40f1cd7034fee8",
       "version_major": 2,
       "version_minor": 0
      },
      "text/plain": [
       "Batches:   0%|          | 0/1 [00:00<?, ?it/s]"
      ]
     },
     "metadata": {},
     "output_type": "display_data"
    },
    {
     "data": {
      "application/vnd.jupyter.widget-view+json": {
       "model_id": "23d0aa8c0bc145139c78acf54f42a4e3",
       "version_major": 2,
       "version_minor": 0
      },
      "text/plain": [
       "Batches:   0%|          | 0/1 [00:00<?, ?it/s]"
      ]
     },
     "metadata": {},
     "output_type": "display_data"
    },
    {
     "data": {
      "application/vnd.jupyter.widget-view+json": {
       "model_id": "e9617a04a7f140cbb80e4fbc69a300f6",
       "version_major": 2,
       "version_minor": 0
      },
      "text/plain": [
       "Batches:   0%|          | 0/1 [00:00<?, ?it/s]"
      ]
     },
     "metadata": {},
     "output_type": "display_data"
    },
    {
     "data": {
      "application/vnd.jupyter.widget-view+json": {
       "model_id": "6429a16281564beeabe1aa32048b881c",
       "version_major": 2,
       "version_minor": 0
      },
      "text/plain": [
       "Batches:   0%|          | 0/1 [00:00<?, ?it/s]"
      ]
     },
     "metadata": {},
     "output_type": "display_data"
    },
    {
     "data": {
      "application/vnd.jupyter.widget-view+json": {
       "model_id": "babe5427ed4b429a8e1be2fb1eb3b4c5",
       "version_major": 2,
       "version_minor": 0
      },
      "text/plain": [
       "Batches:   0%|          | 0/1 [00:00<?, ?it/s]"
      ]
     },
     "metadata": {},
     "output_type": "display_data"
    },
    {
     "data": {
      "application/vnd.jupyter.widget-view+json": {
       "model_id": "f85b61ac527c4007883dc3f127fdf027",
       "version_major": 2,
       "version_minor": 0
      },
      "text/plain": [
       "Batches:   0%|          | 0/1 [00:00<?, ?it/s]"
      ]
     },
     "metadata": {},
     "output_type": "display_data"
    },
    {
     "data": {
      "application/vnd.jupyter.widget-view+json": {
       "model_id": "707273ddb8574678a85baa6604c7b4f9",
       "version_major": 2,
       "version_minor": 0
      },
      "text/plain": [
       "Batches:   0%|          | 0/1 [00:00<?, ?it/s]"
      ]
     },
     "metadata": {},
     "output_type": "display_data"
    },
    {
     "data": {
      "application/vnd.jupyter.widget-view+json": {
       "model_id": "14331aa119c84b66820fce53be2a4493",
       "version_major": 2,
       "version_minor": 0
      },
      "text/plain": [
       "Batches:   0%|          | 0/1 [00:00<?, ?it/s]"
      ]
     },
     "metadata": {},
     "output_type": "display_data"
    },
    {
     "data": {
      "application/vnd.jupyter.widget-view+json": {
       "model_id": "836bea9711c7438ca7037879b285cad7",
       "version_major": 2,
       "version_minor": 0
      },
      "text/plain": [
       "Batches:   0%|          | 0/1 [00:00<?, ?it/s]"
      ]
     },
     "metadata": {},
     "output_type": "display_data"
    },
    {
     "data": {
      "application/vnd.jupyter.widget-view+json": {
       "model_id": "bae0e94d8ee64bfbbed4a072f2c8c8d9",
       "version_major": 2,
       "version_minor": 0
      },
      "text/plain": [
       "Batches:   0%|          | 0/1 [00:00<?, ?it/s]"
      ]
     },
     "metadata": {},
     "output_type": "display_data"
    },
    {
     "data": {
      "application/vnd.jupyter.widget-view+json": {
       "model_id": "a3cdf425144042719607d547ae41e8ed",
       "version_major": 2,
       "version_minor": 0
      },
      "text/plain": [
       "Batches:   0%|          | 0/1 [00:00<?, ?it/s]"
      ]
     },
     "metadata": {},
     "output_type": "display_data"
    },
    {
     "data": {
      "application/vnd.jupyter.widget-view+json": {
       "model_id": "76e86f3d7c0946eeb9e33e6363af729e",
       "version_major": 2,
       "version_minor": 0
      },
      "text/plain": [
       "Batches:   0%|          | 0/1 [00:00<?, ?it/s]"
      ]
     },
     "metadata": {},
     "output_type": "display_data"
    },
    {
     "data": {
      "application/vnd.jupyter.widget-view+json": {
       "model_id": "26b1439b368c413db548b53592e02d2b",
       "version_major": 2,
       "version_minor": 0
      },
      "text/plain": [
       "Batches:   0%|          | 0/1 [00:00<?, ?it/s]"
      ]
     },
     "metadata": {},
     "output_type": "display_data"
    },
    {
     "data": {
      "application/vnd.jupyter.widget-view+json": {
       "model_id": "e4cbd84d0e354e65b8ed3ffafbd5e55f",
       "version_major": 2,
       "version_minor": 0
      },
      "text/plain": [
       "Batches:   0%|          | 0/1 [00:00<?, ?it/s]"
      ]
     },
     "metadata": {},
     "output_type": "display_data"
    },
    {
     "data": {
      "application/vnd.jupyter.widget-view+json": {
       "model_id": "3702ceb1f8e54eb4beac83157dbbd49d",
       "version_major": 2,
       "version_minor": 0
      },
      "text/plain": [
       "Batches:   0%|          | 0/1 [00:00<?, ?it/s]"
      ]
     },
     "metadata": {},
     "output_type": "display_data"
    },
    {
     "data": {
      "application/vnd.jupyter.widget-view+json": {
       "model_id": "87ff1094d3334dfc8098a13809aa9661",
       "version_major": 2,
       "version_minor": 0
      },
      "text/plain": [
       "Batches:   0%|          | 0/1 [00:00<?, ?it/s]"
      ]
     },
     "metadata": {},
     "output_type": "display_data"
    },
    {
     "data": {
      "application/vnd.jupyter.widget-view+json": {
       "model_id": "8fae00bd0dcf443b8483e3b87f9a669e",
       "version_major": 2,
       "version_minor": 0
      },
      "text/plain": [
       "Batches:   0%|          | 0/1 [00:00<?, ?it/s]"
      ]
     },
     "metadata": {},
     "output_type": "display_data"
    },
    {
     "data": {
      "application/vnd.jupyter.widget-view+json": {
       "model_id": "f7daa55414a64d27bcfc7ec72db8433a",
       "version_major": 2,
       "version_minor": 0
      },
      "text/plain": [
       "Batches:   0%|          | 0/1 [00:00<?, ?it/s]"
      ]
     },
     "metadata": {},
     "output_type": "display_data"
    },
    {
     "data": {
      "application/vnd.jupyter.widget-view+json": {
       "model_id": "f854fc231e234c7ba12f8119593c4a22",
       "version_major": 2,
       "version_minor": 0
      },
      "text/plain": [
       "Batches:   0%|          | 0/1 [00:00<?, ?it/s]"
      ]
     },
     "metadata": {},
     "output_type": "display_data"
    },
    {
     "data": {
      "application/vnd.jupyter.widget-view+json": {
       "model_id": "0996cca7892f402c9f2348d1d308508f",
       "version_major": 2,
       "version_minor": 0
      },
      "text/plain": [
       "Batches:   0%|          | 0/1 [00:00<?, ?it/s]"
      ]
     },
     "metadata": {},
     "output_type": "display_data"
    },
    {
     "data": {
      "application/vnd.jupyter.widget-view+json": {
       "model_id": "958ed87ef1d74e30b2ad6cd85e8b6495",
       "version_major": 2,
       "version_minor": 0
      },
      "text/plain": [
       "Batches:   0%|          | 0/1 [00:00<?, ?it/s]"
      ]
     },
     "metadata": {},
     "output_type": "display_data"
    },
    {
     "data": {
      "application/vnd.jupyter.widget-view+json": {
       "model_id": "6c0a10d78d4749faabae19fcb713a9b5",
       "version_major": 2,
       "version_minor": 0
      },
      "text/plain": [
       "Batches:   0%|          | 0/1 [00:00<?, ?it/s]"
      ]
     },
     "metadata": {},
     "output_type": "display_data"
    },
    {
     "data": {
      "application/vnd.jupyter.widget-view+json": {
       "model_id": "6c30b3e2ba61437b84e2b3a4192c59a7",
       "version_major": 2,
       "version_minor": 0
      },
      "text/plain": [
       "Batches:   0%|          | 0/1 [00:00<?, ?it/s]"
      ]
     },
     "metadata": {},
     "output_type": "display_data"
    },
    {
     "data": {
      "application/vnd.jupyter.widget-view+json": {
       "model_id": "4b280214298e48648e923396ec1a7e82",
       "version_major": 2,
       "version_minor": 0
      },
      "text/plain": [
       "Batches:   0%|          | 0/1 [00:00<?, ?it/s]"
      ]
     },
     "metadata": {},
     "output_type": "display_data"
    },
    {
     "data": {
      "application/vnd.jupyter.widget-view+json": {
       "model_id": "e98952ece3714662b59de9c0e29d538a",
       "version_major": 2,
       "version_minor": 0
      },
      "text/plain": [
       "Batches:   0%|          | 0/1 [00:00<?, ?it/s]"
      ]
     },
     "metadata": {},
     "output_type": "display_data"
    },
    {
     "data": {
      "application/vnd.jupyter.widget-view+json": {
       "model_id": "ee7ee63426ac4d689931200d50fe212b",
       "version_major": 2,
       "version_minor": 0
      },
      "text/plain": [
       "Batches:   0%|          | 0/1 [00:00<?, ?it/s]"
      ]
     },
     "metadata": {},
     "output_type": "display_data"
    },
    {
     "data": {
      "application/vnd.jupyter.widget-view+json": {
       "model_id": "08e5115ca301413fa0e3152d2d30c82e",
       "version_major": 2,
       "version_minor": 0
      },
      "text/plain": [
       "Batches:   0%|          | 0/1 [00:00<?, ?it/s]"
      ]
     },
     "metadata": {},
     "output_type": "display_data"
    },
    {
     "data": {
      "application/vnd.jupyter.widget-view+json": {
       "model_id": "0ef5aa7719124195b696afe7422e4d5d",
       "version_major": 2,
       "version_minor": 0
      },
      "text/plain": [
       "Batches:   0%|          | 0/1 [00:00<?, ?it/s]"
      ]
     },
     "metadata": {},
     "output_type": "display_data"
    },
    {
     "data": {
      "application/vnd.jupyter.widget-view+json": {
       "model_id": "cdaf9bfa9dad44a2b76bacbf7f05b498",
       "version_major": 2,
       "version_minor": 0
      },
      "text/plain": [
       "Batches:   0%|          | 0/1 [00:00<?, ?it/s]"
      ]
     },
     "metadata": {},
     "output_type": "display_data"
    },
    {
     "data": {
      "application/vnd.jupyter.widget-view+json": {
       "model_id": "23cce69293824ca3b41b087be6e9aef6",
       "version_major": 2,
       "version_minor": 0
      },
      "text/plain": [
       "Batches:   0%|          | 0/1 [00:00<?, ?it/s]"
      ]
     },
     "metadata": {},
     "output_type": "display_data"
    },
    {
     "data": {
      "application/vnd.jupyter.widget-view+json": {
       "model_id": "ba67c670c2b44aec8c88c1fc7bf7e32c",
       "version_major": 2,
       "version_minor": 0
      },
      "text/plain": [
       "Batches:   0%|          | 0/1 [00:00<?, ?it/s]"
      ]
     },
     "metadata": {},
     "output_type": "display_data"
    },
    {
     "data": {
      "application/vnd.jupyter.widget-view+json": {
       "model_id": "09f6d30393c44024880f107e23b9099f",
       "version_major": 2,
       "version_minor": 0
      },
      "text/plain": [
       "Batches:   0%|          | 0/1 [00:00<?, ?it/s]"
      ]
     },
     "metadata": {},
     "output_type": "display_data"
    },
    {
     "data": {
      "application/vnd.jupyter.widget-view+json": {
       "model_id": "7cb3d95148ba4527b203448a9ada18e8",
       "version_major": 2,
       "version_minor": 0
      },
      "text/plain": [
       "Batches:   0%|          | 0/1 [00:00<?, ?it/s]"
      ]
     },
     "metadata": {},
     "output_type": "display_data"
    },
    {
     "data": {
      "application/vnd.jupyter.widget-view+json": {
       "model_id": "4c16fea64231491c9fc29099bb7c44d1",
       "version_major": 2,
       "version_minor": 0
      },
      "text/plain": [
       "Batches:   0%|          | 0/1 [00:00<?, ?it/s]"
      ]
     },
     "metadata": {},
     "output_type": "display_data"
    },
    {
     "data": {
      "application/vnd.jupyter.widget-view+json": {
       "model_id": "f59af76e61684a41af851df229cf60fb",
       "version_major": 2,
       "version_minor": 0
      },
      "text/plain": [
       "Batches:   0%|          | 0/1 [00:00<?, ?it/s]"
      ]
     },
     "metadata": {},
     "output_type": "display_data"
    },
    {
     "data": {
      "application/vnd.jupyter.widget-view+json": {
       "model_id": "780b4590f0d84ab3a984351fbefabb4c",
       "version_major": 2,
       "version_minor": 0
      },
      "text/plain": [
       "Batches:   0%|          | 0/1 [00:00<?, ?it/s]"
      ]
     },
     "metadata": {},
     "output_type": "display_data"
    },
    {
     "data": {
      "application/vnd.jupyter.widget-view+json": {
       "model_id": "084ccbdc02eb4f79bee9ceabfbacd7e2",
       "version_major": 2,
       "version_minor": 0
      },
      "text/plain": [
       "Batches:   0%|          | 0/1 [00:00<?, ?it/s]"
      ]
     },
     "metadata": {},
     "output_type": "display_data"
    },
    {
     "data": {
      "application/vnd.jupyter.widget-view+json": {
       "model_id": "37974254d29d4f34ae5a88097ce97c8d",
       "version_major": 2,
       "version_minor": 0
      },
      "text/plain": [
       "Batches:   0%|          | 0/1 [00:00<?, ?it/s]"
      ]
     },
     "metadata": {},
     "output_type": "display_data"
    },
    {
     "data": {
      "application/vnd.jupyter.widget-view+json": {
       "model_id": "6099e8ddcad844b7a595d8e9e0957471",
       "version_major": 2,
       "version_minor": 0
      },
      "text/plain": [
       "Batches:   0%|          | 0/1 [00:00<?, ?it/s]"
      ]
     },
     "metadata": {},
     "output_type": "display_data"
    },
    {
     "data": {
      "application/vnd.jupyter.widget-view+json": {
       "model_id": "965445865c33431cbc7004fc2c346acd",
       "version_major": 2,
       "version_minor": 0
      },
      "text/plain": [
       "Batches:   0%|          | 0/1 [00:00<?, ?it/s]"
      ]
     },
     "metadata": {},
     "output_type": "display_data"
    },
    {
     "data": {
      "application/vnd.jupyter.widget-view+json": {
       "model_id": "1ee73fed72e045978233c5e1ed16ced7",
       "version_major": 2,
       "version_minor": 0
      },
      "text/plain": [
       "Batches:   0%|          | 0/1 [00:00<?, ?it/s]"
      ]
     },
     "metadata": {},
     "output_type": "display_data"
    },
    {
     "data": {
      "application/vnd.jupyter.widget-view+json": {
       "model_id": "a18382e5f84a4ce188807ed16e220360",
       "version_major": 2,
       "version_minor": 0
      },
      "text/plain": [
       "Batches:   0%|          | 0/1 [00:00<?, ?it/s]"
      ]
     },
     "metadata": {},
     "output_type": "display_data"
    },
    {
     "data": {
      "application/vnd.jupyter.widget-view+json": {
       "model_id": "6243c41670d6482da071a62344ae146a",
       "version_major": 2,
       "version_minor": 0
      },
      "text/plain": [
       "Batches:   0%|          | 0/1 [00:00<?, ?it/s]"
      ]
     },
     "metadata": {},
     "output_type": "display_data"
    },
    {
     "data": {
      "application/vnd.jupyter.widget-view+json": {
       "model_id": "816d89dcdeee49cbb979a70b1418795d",
       "version_major": 2,
       "version_minor": 0
      },
      "text/plain": [
       "Batches:   0%|          | 0/1 [00:00<?, ?it/s]"
      ]
     },
     "metadata": {},
     "output_type": "display_data"
    },
    {
     "data": {
      "application/vnd.jupyter.widget-view+json": {
       "model_id": "d8961310c6bb414d80de198f4878c3b9",
       "version_major": 2,
       "version_minor": 0
      },
      "text/plain": [
       "Batches:   0%|          | 0/1 [00:00<?, ?it/s]"
      ]
     },
     "metadata": {},
     "output_type": "display_data"
    },
    {
     "data": {
      "application/vnd.jupyter.widget-view+json": {
       "model_id": "d82117b691414066872666d8ed48aa55",
       "version_major": 2,
       "version_minor": 0
      },
      "text/plain": [
       "Batches:   0%|          | 0/1 [00:00<?, ?it/s]"
      ]
     },
     "metadata": {},
     "output_type": "display_data"
    },
    {
     "data": {
      "application/vnd.jupyter.widget-view+json": {
       "model_id": "3d1a2807099844379c7df3d1a8caf4ea",
       "version_major": 2,
       "version_minor": 0
      },
      "text/plain": [
       "Batches:   0%|          | 0/1 [00:00<?, ?it/s]"
      ]
     },
     "metadata": {},
     "output_type": "display_data"
    },
    {
     "data": {
      "application/vnd.jupyter.widget-view+json": {
       "model_id": "2d62396df8e54d22af768adc2cfae1fd",
       "version_major": 2,
       "version_minor": 0
      },
      "text/plain": [
       "Batches:   0%|          | 0/1 [00:00<?, ?it/s]"
      ]
     },
     "metadata": {},
     "output_type": "display_data"
    },
    {
     "data": {
      "application/vnd.jupyter.widget-view+json": {
       "model_id": "5ff9e773af544e5483786d8620fee560",
       "version_major": 2,
       "version_minor": 0
      },
      "text/plain": [
       "Batches:   0%|          | 0/1 [00:00<?, ?it/s]"
      ]
     },
     "metadata": {},
     "output_type": "display_data"
    },
    {
     "data": {
      "application/vnd.jupyter.widget-view+json": {
       "model_id": "d20f15c51b064f6aabfcd4655db7460c",
       "version_major": 2,
       "version_minor": 0
      },
      "text/plain": [
       "Batches:   0%|          | 0/1 [00:00<?, ?it/s]"
      ]
     },
     "metadata": {},
     "output_type": "display_data"
    },
    {
     "data": {
      "application/vnd.jupyter.widget-view+json": {
       "model_id": "bd06126a032747c79dbbfa9059c1a061",
       "version_major": 2,
       "version_minor": 0
      },
      "text/plain": [
       "Batches:   0%|          | 0/1 [00:00<?, ?it/s]"
      ]
     },
     "metadata": {},
     "output_type": "display_data"
    },
    {
     "data": {
      "application/vnd.jupyter.widget-view+json": {
       "model_id": "bd0405a23a90488f8f57966f876a5bb0",
       "version_major": 2,
       "version_minor": 0
      },
      "text/plain": [
       "Batches:   0%|          | 0/1 [00:00<?, ?it/s]"
      ]
     },
     "metadata": {},
     "output_type": "display_data"
    },
    {
     "data": {
      "application/vnd.jupyter.widget-view+json": {
       "model_id": "752110b3b0404cf1ac63a760e45b2b27",
       "version_major": 2,
       "version_minor": 0
      },
      "text/plain": [
       "Batches:   0%|          | 0/1 [00:00<?, ?it/s]"
      ]
     },
     "metadata": {},
     "output_type": "display_data"
    },
    {
     "data": {
      "application/vnd.jupyter.widget-view+json": {
       "model_id": "42917f5b75aa44f6bd84e602de60c207",
       "version_major": 2,
       "version_minor": 0
      },
      "text/plain": [
       "Batches:   0%|          | 0/1 [00:00<?, ?it/s]"
      ]
     },
     "metadata": {},
     "output_type": "display_data"
    },
    {
     "data": {
      "application/vnd.jupyter.widget-view+json": {
       "model_id": "814054c15ee848e2995cf56e6bfb1fd1",
       "version_major": 2,
       "version_minor": 0
      },
      "text/plain": [
       "Batches:   0%|          | 0/1 [00:00<?, ?it/s]"
      ]
     },
     "metadata": {},
     "output_type": "display_data"
    },
    {
     "data": {
      "application/vnd.jupyter.widget-view+json": {
       "model_id": "96ef0ca077ac4f5986cb26ebbacd45b0",
       "version_major": 2,
       "version_minor": 0
      },
      "text/plain": [
       "Batches:   0%|          | 0/1 [00:00<?, ?it/s]"
      ]
     },
     "metadata": {},
     "output_type": "display_data"
    },
    {
     "data": {
      "application/vnd.jupyter.widget-view+json": {
       "model_id": "f145003096934dfebdc4ba9e53d5c44e",
       "version_major": 2,
       "version_minor": 0
      },
      "text/plain": [
       "Batches:   0%|          | 0/1 [00:00<?, ?it/s]"
      ]
     },
     "metadata": {},
     "output_type": "display_data"
    },
    {
     "data": {
      "application/vnd.jupyter.widget-view+json": {
       "model_id": "1fd9b6940f9f4c06a2d33a537cda2efe",
       "version_major": 2,
       "version_minor": 0
      },
      "text/plain": [
       "Batches:   0%|          | 0/1 [00:00<?, ?it/s]"
      ]
     },
     "metadata": {},
     "output_type": "display_data"
    },
    {
     "data": {
      "application/vnd.jupyter.widget-view+json": {
       "model_id": "f77ea79a32e94b37975521fcdd85b7fe",
       "version_major": 2,
       "version_minor": 0
      },
      "text/plain": [
       "Batches:   0%|          | 0/1 [00:00<?, ?it/s]"
      ]
     },
     "metadata": {},
     "output_type": "display_data"
    },
    {
     "data": {
      "application/vnd.jupyter.widget-view+json": {
       "model_id": "92438953e0b54e5f949e7f57f552e115",
       "version_major": 2,
       "version_minor": 0
      },
      "text/plain": [
       "Batches:   0%|          | 0/1 [00:00<?, ?it/s]"
      ]
     },
     "metadata": {},
     "output_type": "display_data"
    },
    {
     "data": {
      "application/vnd.jupyter.widget-view+json": {
       "model_id": "4976ff9fe43742229f6729581c455647",
       "version_major": 2,
       "version_minor": 0
      },
      "text/plain": [
       "Batches:   0%|          | 0/1 [00:00<?, ?it/s]"
      ]
     },
     "metadata": {},
     "output_type": "display_data"
    },
    {
     "data": {
      "application/vnd.jupyter.widget-view+json": {
       "model_id": "0a3baa90f57c4dc8aea1f002e928801b",
       "version_major": 2,
       "version_minor": 0
      },
      "text/plain": [
       "Batches:   0%|          | 0/1 [00:00<?, ?it/s]"
      ]
     },
     "metadata": {},
     "output_type": "display_data"
    },
    {
     "data": {
      "application/vnd.jupyter.widget-view+json": {
       "model_id": "2cc2773e7cf64d7a90301efe24f6a44f",
       "version_major": 2,
       "version_minor": 0
      },
      "text/plain": [
       "Batches:   0%|          | 0/1 [00:00<?, ?it/s]"
      ]
     },
     "metadata": {},
     "output_type": "display_data"
    },
    {
     "data": {
      "application/vnd.jupyter.widget-view+json": {
       "model_id": "0c721611f1c84badaee588d4839cb55c",
       "version_major": 2,
       "version_minor": 0
      },
      "text/plain": [
       "Batches:   0%|          | 0/1 [00:00<?, ?it/s]"
      ]
     },
     "metadata": {},
     "output_type": "display_data"
    },
    {
     "data": {
      "application/vnd.jupyter.widget-view+json": {
       "model_id": "eb10c65b6c2a49bfabb77ff4a2f2eaa0",
       "version_major": 2,
       "version_minor": 0
      },
      "text/plain": [
       "Batches:   0%|          | 0/1 [00:00<?, ?it/s]"
      ]
     },
     "metadata": {},
     "output_type": "display_data"
    },
    {
     "data": {
      "application/vnd.jupyter.widget-view+json": {
       "model_id": "7fc6f31424764de79c0151941bfb632d",
       "version_major": 2,
       "version_minor": 0
      },
      "text/plain": [
       "Batches:   0%|          | 0/1 [00:00<?, ?it/s]"
      ]
     },
     "metadata": {},
     "output_type": "display_data"
    },
    {
     "data": {
      "application/vnd.jupyter.widget-view+json": {
       "model_id": "8587faeb8b97429a94fce76c116d48da",
       "version_major": 2,
       "version_minor": 0
      },
      "text/plain": [
       "Batches:   0%|          | 0/1 [00:00<?, ?it/s]"
      ]
     },
     "metadata": {},
     "output_type": "display_data"
    },
    {
     "data": {
      "application/vnd.jupyter.widget-view+json": {
       "model_id": "5758ab5585cd4a6fb16769e59c43b520",
       "version_major": 2,
       "version_minor": 0
      },
      "text/plain": [
       "Batches:   0%|          | 0/1 [00:00<?, ?it/s]"
      ]
     },
     "metadata": {},
     "output_type": "display_data"
    },
    {
     "data": {
      "application/vnd.jupyter.widget-view+json": {
       "model_id": "4741c32624a945908b99b7f9eb4cf3cd",
       "version_major": 2,
       "version_minor": 0
      },
      "text/plain": [
       "Batches:   0%|          | 0/1 [00:00<?, ?it/s]"
      ]
     },
     "metadata": {},
     "output_type": "display_data"
    },
    {
     "data": {
      "application/vnd.jupyter.widget-view+json": {
       "model_id": "85e3f7c1d21e49b480e565dc29f694cc",
       "version_major": 2,
       "version_minor": 0
      },
      "text/plain": [
       "Batches:   0%|          | 0/1 [00:00<?, ?it/s]"
      ]
     },
     "metadata": {},
     "output_type": "display_data"
    },
    {
     "data": {
      "application/vnd.jupyter.widget-view+json": {
       "model_id": "d996d999ee464e8ba3ee124944b71931",
       "version_major": 2,
       "version_minor": 0
      },
      "text/plain": [
       "Batches:   0%|          | 0/1 [00:00<?, ?it/s]"
      ]
     },
     "metadata": {},
     "output_type": "display_data"
    },
    {
     "data": {
      "application/vnd.jupyter.widget-view+json": {
       "model_id": "8c927796614e485bb5bf06ca6fbdf37d",
       "version_major": 2,
       "version_minor": 0
      },
      "text/plain": [
       "Batches:   0%|          | 0/1 [00:00<?, ?it/s]"
      ]
     },
     "metadata": {},
     "output_type": "display_data"
    },
    {
     "data": {
      "application/vnd.jupyter.widget-view+json": {
       "model_id": "79a4d66739c54785b8f8fc8e4501f78d",
       "version_major": 2,
       "version_minor": 0
      },
      "text/plain": [
       "Batches:   0%|          | 0/1 [00:00<?, ?it/s]"
      ]
     },
     "metadata": {},
     "output_type": "display_data"
    },
    {
     "data": {
      "application/vnd.jupyter.widget-view+json": {
       "model_id": "7bfb46c233f94902a8ef3020c41dc37a",
       "version_major": 2,
       "version_minor": 0
      },
      "text/plain": [
       "Batches:   0%|          | 0/1 [00:00<?, ?it/s]"
      ]
     },
     "metadata": {},
     "output_type": "display_data"
    },
    {
     "data": {
      "application/vnd.jupyter.widget-view+json": {
       "model_id": "ad1d7725acb44344b15a00456fb98f56",
       "version_major": 2,
       "version_minor": 0
      },
      "text/plain": [
       "Batches:   0%|          | 0/1 [00:00<?, ?it/s]"
      ]
     },
     "metadata": {},
     "output_type": "display_data"
    },
    {
     "data": {
      "application/vnd.jupyter.widget-view+json": {
       "model_id": "51855d8799fa43a19fb3eaed6cfecaa0",
       "version_major": 2,
       "version_minor": 0
      },
      "text/plain": [
       "Batches:   0%|          | 0/1 [00:00<?, ?it/s]"
      ]
     },
     "metadata": {},
     "output_type": "display_data"
    },
    {
     "data": {
      "application/vnd.jupyter.widget-view+json": {
       "model_id": "8f7bf231d3824688af5ddb2a63b0767a",
       "version_major": 2,
       "version_minor": 0
      },
      "text/plain": [
       "Batches:   0%|          | 0/1 [00:00<?, ?it/s]"
      ]
     },
     "metadata": {},
     "output_type": "display_data"
    },
    {
     "data": {
      "application/vnd.jupyter.widget-view+json": {
       "model_id": "6bdc4f5dd5c44653ad6931aa4086ec49",
       "version_major": 2,
       "version_minor": 0
      },
      "text/plain": [
       "Batches:   0%|          | 0/1 [00:00<?, ?it/s]"
      ]
     },
     "metadata": {},
     "output_type": "display_data"
    },
    {
     "data": {
      "application/vnd.jupyter.widget-view+json": {
       "model_id": "e3142713defc4069a346935ae09b9d53",
       "version_major": 2,
       "version_minor": 0
      },
      "text/plain": [
       "Batches:   0%|          | 0/1 [00:00<?, ?it/s]"
      ]
     },
     "metadata": {},
     "output_type": "display_data"
    },
    {
     "data": {
      "application/vnd.jupyter.widget-view+json": {
       "model_id": "2bc634629b2342b3a5a4e9e708e2bc35",
       "version_major": 2,
       "version_minor": 0
      },
      "text/plain": [
       "Batches:   0%|          | 0/1 [00:00<?, ?it/s]"
      ]
     },
     "metadata": {},
     "output_type": "display_data"
    },
    {
     "data": {
      "application/vnd.jupyter.widget-view+json": {
       "model_id": "06414d987c8c44feb5fdca77aaf71c5b",
       "version_major": 2,
       "version_minor": 0
      },
      "text/plain": [
       "Batches:   0%|          | 0/1 [00:00<?, ?it/s]"
      ]
     },
     "metadata": {},
     "output_type": "display_data"
    },
    {
     "data": {
      "application/vnd.jupyter.widget-view+json": {
       "model_id": "e9f747d2724d4c93adf1f2c86cab1dab",
       "version_major": 2,
       "version_minor": 0
      },
      "text/plain": [
       "Batches:   0%|          | 0/1 [00:00<?, ?it/s]"
      ]
     },
     "metadata": {},
     "output_type": "display_data"
    },
    {
     "data": {
      "application/vnd.jupyter.widget-view+json": {
       "model_id": "43ba2d0442e34accb157b252d4ab2b79",
       "version_major": 2,
       "version_minor": 0
      },
      "text/plain": [
       "Batches:   0%|          | 0/1 [00:00<?, ?it/s]"
      ]
     },
     "metadata": {},
     "output_type": "display_data"
    },
    {
     "data": {
      "application/vnd.jupyter.widget-view+json": {
       "model_id": "ff213d95455c4981851252f7da092e7e",
       "version_major": 2,
       "version_minor": 0
      },
      "text/plain": [
       "Batches:   0%|          | 0/1 [00:00<?, ?it/s]"
      ]
     },
     "metadata": {},
     "output_type": "display_data"
    },
    {
     "data": {
      "application/vnd.jupyter.widget-view+json": {
       "model_id": "c1646aa2c20d4fa39eda424daf8712f1",
       "version_major": 2,
       "version_minor": 0
      },
      "text/plain": [
       "Batches:   0%|          | 0/1 [00:00<?, ?it/s]"
      ]
     },
     "metadata": {},
     "output_type": "display_data"
    },
    {
     "data": {
      "application/vnd.jupyter.widget-view+json": {
       "model_id": "fabc719222fb44be8a99ec4ef52c9ed9",
       "version_major": 2,
       "version_minor": 0
      },
      "text/plain": [
       "Batches:   0%|          | 0/1 [00:00<?, ?it/s]"
      ]
     },
     "metadata": {},
     "output_type": "display_data"
    },
    {
     "data": {
      "application/vnd.jupyter.widget-view+json": {
       "model_id": "1ddc177e55b3440dbb7a729bd6b75084",
       "version_major": 2,
       "version_minor": 0
      },
      "text/plain": [
       "Batches:   0%|          | 0/1 [00:00<?, ?it/s]"
      ]
     },
     "metadata": {},
     "output_type": "display_data"
    },
    {
     "data": {
      "application/vnd.jupyter.widget-view+json": {
       "model_id": "e5d746043eed49458312f119fa656c73",
       "version_major": 2,
       "version_minor": 0
      },
      "text/plain": [
       "Batches:   0%|          | 0/1 [00:00<?, ?it/s]"
      ]
     },
     "metadata": {},
     "output_type": "display_data"
    },
    {
     "data": {
      "application/vnd.jupyter.widget-view+json": {
       "model_id": "1fd618e2852a4f2591bac58cac1d6c70",
       "version_major": 2,
       "version_minor": 0
      },
      "text/plain": [
       "Batches:   0%|          | 0/1 [00:00<?, ?it/s]"
      ]
     },
     "metadata": {},
     "output_type": "display_data"
    },
    {
     "data": {
      "application/vnd.jupyter.widget-view+json": {
       "model_id": "1fb287a90e7642b3b30e464174315de3",
       "version_major": 2,
       "version_minor": 0
      },
      "text/plain": [
       "Batches:   0%|          | 0/1 [00:00<?, ?it/s]"
      ]
     },
     "metadata": {},
     "output_type": "display_data"
    },
    {
     "data": {
      "application/vnd.jupyter.widget-view+json": {
       "model_id": "a4f8907c560b4d5e84d42ebc19d563c3",
       "version_major": 2,
       "version_minor": 0
      },
      "text/plain": [
       "Batches:   0%|          | 0/1 [00:00<?, ?it/s]"
      ]
     },
     "metadata": {},
     "output_type": "display_data"
    },
    {
     "data": {
      "application/vnd.jupyter.widget-view+json": {
       "model_id": "2605830cbfdd420a86e92066085b2de6",
       "version_major": 2,
       "version_minor": 0
      },
      "text/plain": [
       "Batches:   0%|          | 0/1 [00:00<?, ?it/s]"
      ]
     },
     "metadata": {},
     "output_type": "display_data"
    },
    {
     "data": {
      "application/vnd.jupyter.widget-view+json": {
       "model_id": "18cf9dc1ee9940ca8e56cbc651986595",
       "version_major": 2,
       "version_minor": 0
      },
      "text/plain": [
       "Batches:   0%|          | 0/1 [00:00<?, ?it/s]"
      ]
     },
     "metadata": {},
     "output_type": "display_data"
    },
    {
     "data": {
      "application/vnd.jupyter.widget-view+json": {
       "model_id": "b42ba9dcb7b745fe8464a4f1c6df1783",
       "version_major": 2,
       "version_minor": 0
      },
      "text/plain": [
       "Batches:   0%|          | 0/1 [00:00<?, ?it/s]"
      ]
     },
     "metadata": {},
     "output_type": "display_data"
    },
    {
     "data": {
      "application/vnd.jupyter.widget-view+json": {
       "model_id": "111775802ad44b208e1468ec634aded8",
       "version_major": 2,
       "version_minor": 0
      },
      "text/plain": [
       "Batches:   0%|          | 0/1 [00:00<?, ?it/s]"
      ]
     },
     "metadata": {},
     "output_type": "display_data"
    },
    {
     "data": {
      "application/vnd.jupyter.widget-view+json": {
       "model_id": "6d978dff35d94293b1781d7d64797e66",
       "version_major": 2,
       "version_minor": 0
      },
      "text/plain": [
       "Batches:   0%|          | 0/1 [00:00<?, ?it/s]"
      ]
     },
     "metadata": {},
     "output_type": "display_data"
    },
    {
     "data": {
      "application/vnd.jupyter.widget-view+json": {
       "model_id": "4b0527ff717a4c778c6b0d3cb224a97d",
       "version_major": 2,
       "version_minor": 0
      },
      "text/plain": [
       "Batches:   0%|          | 0/1 [00:00<?, ?it/s]"
      ]
     },
     "metadata": {},
     "output_type": "display_data"
    },
    {
     "data": {
      "application/vnd.jupyter.widget-view+json": {
       "model_id": "14e8ffc449a1486caee794e04d7cb06f",
       "version_major": 2,
       "version_minor": 0
      },
      "text/plain": [
       "Batches:   0%|          | 0/1 [00:00<?, ?it/s]"
      ]
     },
     "metadata": {},
     "output_type": "display_data"
    },
    {
     "data": {
      "application/vnd.jupyter.widget-view+json": {
       "model_id": "94f47660e2354cec97fa4607ddbe4683",
       "version_major": 2,
       "version_minor": 0
      },
      "text/plain": [
       "Batches:   0%|          | 0/1 [00:00<?, ?it/s]"
      ]
     },
     "metadata": {},
     "output_type": "display_data"
    },
    {
     "data": {
      "application/vnd.jupyter.widget-view+json": {
       "model_id": "98e6344d6532423bb1bf96d7fbeac64b",
       "version_major": 2,
       "version_minor": 0
      },
      "text/plain": [
       "Batches:   0%|          | 0/1 [00:00<?, ?it/s]"
      ]
     },
     "metadata": {},
     "output_type": "display_data"
    },
    {
     "data": {
      "application/vnd.jupyter.widget-view+json": {
       "model_id": "8930a22635a0406b8c5df0e27d52641c",
       "version_major": 2,
       "version_minor": 0
      },
      "text/plain": [
       "Batches:   0%|          | 0/1 [00:00<?, ?it/s]"
      ]
     },
     "metadata": {},
     "output_type": "display_data"
    },
    {
     "data": {
      "application/vnd.jupyter.widget-view+json": {
       "model_id": "7873716498e44b43b6513791724b3134",
       "version_major": 2,
       "version_minor": 0
      },
      "text/plain": [
       "Batches:   0%|          | 0/1 [00:00<?, ?it/s]"
      ]
     },
     "metadata": {},
     "output_type": "display_data"
    },
    {
     "data": {
      "application/vnd.jupyter.widget-view+json": {
       "model_id": "30633280d43a4aa5baaa8997b0f13050",
       "version_major": 2,
       "version_minor": 0
      },
      "text/plain": [
       "Batches:   0%|          | 0/1 [00:00<?, ?it/s]"
      ]
     },
     "metadata": {},
     "output_type": "display_data"
    },
    {
     "data": {
      "application/vnd.jupyter.widget-view+json": {
       "model_id": "c7c07cfd689f4c53b88ee7c8bd68ec89",
       "version_major": 2,
       "version_minor": 0
      },
      "text/plain": [
       "Batches:   0%|          | 0/1 [00:00<?, ?it/s]"
      ]
     },
     "metadata": {},
     "output_type": "display_data"
    },
    {
     "data": {
      "application/vnd.jupyter.widget-view+json": {
       "model_id": "08952cba38bb4c1ca46b631cbf772390",
       "version_major": 2,
       "version_minor": 0
      },
      "text/plain": [
       "Batches:   0%|          | 0/1 [00:00<?, ?it/s]"
      ]
     },
     "metadata": {},
     "output_type": "display_data"
    },
    {
     "data": {
      "application/vnd.jupyter.widget-view+json": {
       "model_id": "a00979ee95214e4ea2abb48e4cfba692",
       "version_major": 2,
       "version_minor": 0
      },
      "text/plain": [
       "Batches:   0%|          | 0/1 [00:00<?, ?it/s]"
      ]
     },
     "metadata": {},
     "output_type": "display_data"
    },
    {
     "data": {
      "application/vnd.jupyter.widget-view+json": {
       "model_id": "50346d2062fb4aa9ae427caaa98aa485",
       "version_major": 2,
       "version_minor": 0
      },
      "text/plain": [
       "Batches:   0%|          | 0/1 [00:00<?, ?it/s]"
      ]
     },
     "metadata": {},
     "output_type": "display_data"
    },
    {
     "data": {
      "application/vnd.jupyter.widget-view+json": {
       "model_id": "2bf3ce9cf023473eb825297f8ee17dd4",
       "version_major": 2,
       "version_minor": 0
      },
      "text/plain": [
       "Batches:   0%|          | 0/1 [00:00<?, ?it/s]"
      ]
     },
     "metadata": {},
     "output_type": "display_data"
    },
    {
     "data": {
      "application/vnd.jupyter.widget-view+json": {
       "model_id": "b0cdd5cb4e32419ba56e130577b75528",
       "version_major": 2,
       "version_minor": 0
      },
      "text/plain": [
       "Batches:   0%|          | 0/1 [00:00<?, ?it/s]"
      ]
     },
     "metadata": {},
     "output_type": "display_data"
    },
    {
     "data": {
      "application/vnd.jupyter.widget-view+json": {
       "model_id": "caa39dbe159641cc8f397b23ba59b215",
       "version_major": 2,
       "version_minor": 0
      },
      "text/plain": [
       "Batches:   0%|          | 0/1 [00:00<?, ?it/s]"
      ]
     },
     "metadata": {},
     "output_type": "display_data"
    },
    {
     "data": {
      "application/vnd.jupyter.widget-view+json": {
       "model_id": "3217f2dd9e1441d79d76a650aba68bef",
       "version_major": 2,
       "version_minor": 0
      },
      "text/plain": [
       "Batches:   0%|          | 0/1 [00:00<?, ?it/s]"
      ]
     },
     "metadata": {},
     "output_type": "display_data"
    },
    {
     "data": {
      "application/vnd.jupyter.widget-view+json": {
       "model_id": "7839769583474dcaafdcd8b74fbd8f19",
       "version_major": 2,
       "version_minor": 0
      },
      "text/plain": [
       "Batches:   0%|          | 0/1 [00:00<?, ?it/s]"
      ]
     },
     "metadata": {},
     "output_type": "display_data"
    },
    {
     "data": {
      "application/vnd.jupyter.widget-view+json": {
       "model_id": "0ba7471fece24c43ba5f85b015a4c642",
       "version_major": 2,
       "version_minor": 0
      },
      "text/plain": [
       "Batches:   0%|          | 0/1 [00:00<?, ?it/s]"
      ]
     },
     "metadata": {},
     "output_type": "display_data"
    },
    {
     "data": {
      "application/vnd.jupyter.widget-view+json": {
       "model_id": "2ac3419558a2490fb19896ecd34055a2",
       "version_major": 2,
       "version_minor": 0
      },
      "text/plain": [
       "Batches:   0%|          | 0/1 [00:00<?, ?it/s]"
      ]
     },
     "metadata": {},
     "output_type": "display_data"
    },
    {
     "data": {
      "application/vnd.jupyter.widget-view+json": {
       "model_id": "398cd8e035e740b09139c49f435576b1",
       "version_major": 2,
       "version_minor": 0
      },
      "text/plain": [
       "Batches:   0%|          | 0/1 [00:00<?, ?it/s]"
      ]
     },
     "metadata": {},
     "output_type": "display_data"
    },
    {
     "data": {
      "application/vnd.jupyter.widget-view+json": {
       "model_id": "ed28854a26c04ad1845eed580359566c",
       "version_major": 2,
       "version_minor": 0
      },
      "text/plain": [
       "Batches:   0%|          | 0/1 [00:00<?, ?it/s]"
      ]
     },
     "metadata": {},
     "output_type": "display_data"
    },
    {
     "data": {
      "application/vnd.jupyter.widget-view+json": {
       "model_id": "984fd4a2444b41a0b37b748ad364d652",
       "version_major": 2,
       "version_minor": 0
      },
      "text/plain": [
       "Batches:   0%|          | 0/1 [00:00<?, ?it/s]"
      ]
     },
     "metadata": {},
     "output_type": "display_data"
    },
    {
     "data": {
      "application/vnd.jupyter.widget-view+json": {
       "model_id": "b7e4a7e9218e4312b87aae500d471a47",
       "version_major": 2,
       "version_minor": 0
      },
      "text/plain": [
       "Batches:   0%|          | 0/1 [00:00<?, ?it/s]"
      ]
     },
     "metadata": {},
     "output_type": "display_data"
    },
    {
     "data": {
      "application/vnd.jupyter.widget-view+json": {
       "model_id": "858bb43bbdf14a169e8c6ab984a52826",
       "version_major": 2,
       "version_minor": 0
      },
      "text/plain": [
       "Batches:   0%|          | 0/1 [00:00<?, ?it/s]"
      ]
     },
     "metadata": {},
     "output_type": "display_data"
    },
    {
     "data": {
      "application/vnd.jupyter.widget-view+json": {
       "model_id": "e1ab97e0ffcd4205b0a488a80612f297",
       "version_major": 2,
       "version_minor": 0
      },
      "text/plain": [
       "Batches:   0%|          | 0/1 [00:00<?, ?it/s]"
      ]
     },
     "metadata": {},
     "output_type": "display_data"
    },
    {
     "data": {
      "application/vnd.jupyter.widget-view+json": {
       "model_id": "c813d9ddd94149db9504c94092cfcd51",
       "version_major": 2,
       "version_minor": 0
      },
      "text/plain": [
       "Batches:   0%|          | 0/1 [00:00<?, ?it/s]"
      ]
     },
     "metadata": {},
     "output_type": "display_data"
    },
    {
     "data": {
      "application/vnd.jupyter.widget-view+json": {
       "model_id": "8e1c01a186ae4cb7a7c47abcb37001b6",
       "version_major": 2,
       "version_minor": 0
      },
      "text/plain": [
       "Batches:   0%|          | 0/1 [00:00<?, ?it/s]"
      ]
     },
     "metadata": {},
     "output_type": "display_data"
    },
    {
     "data": {
      "application/vnd.jupyter.widget-view+json": {
       "model_id": "5b083bddd59a4d189b33631272de5b83",
       "version_major": 2,
       "version_minor": 0
      },
      "text/plain": [
       "Batches:   0%|          | 0/1 [00:00<?, ?it/s]"
      ]
     },
     "metadata": {},
     "output_type": "display_data"
    },
    {
     "data": {
      "application/vnd.jupyter.widget-view+json": {
       "model_id": "db9921c630d3412a940d27c4e0d0a6dc",
       "version_major": 2,
       "version_minor": 0
      },
      "text/plain": [
       "Batches:   0%|          | 0/1 [00:00<?, ?it/s]"
      ]
     },
     "metadata": {},
     "output_type": "display_data"
    },
    {
     "data": {
      "application/vnd.jupyter.widget-view+json": {
       "model_id": "b2d70720dd4d458c8a6b61d5ba7a8afb",
       "version_major": 2,
       "version_minor": 0
      },
      "text/plain": [
       "Batches:   0%|          | 0/1 [00:00<?, ?it/s]"
      ]
     },
     "metadata": {},
     "output_type": "display_data"
    },
    {
     "data": {
      "application/vnd.jupyter.widget-view+json": {
       "model_id": "d80320b9cb5c4bb1bd1a8063d7bf511b",
       "version_major": 2,
       "version_minor": 0
      },
      "text/plain": [
       "Batches:   0%|          | 0/1 [00:00<?, ?it/s]"
      ]
     },
     "metadata": {},
     "output_type": "display_data"
    },
    {
     "data": {
      "application/vnd.jupyter.widget-view+json": {
       "model_id": "143f8136cd514e6484995faaf752946d",
       "version_major": 2,
       "version_minor": 0
      },
      "text/plain": [
       "Batches:   0%|          | 0/1 [00:00<?, ?it/s]"
      ]
     },
     "metadata": {},
     "output_type": "display_data"
    },
    {
     "data": {
      "application/vnd.jupyter.widget-view+json": {
       "model_id": "2970edb0d6354f0a902888e117e71f1a",
       "version_major": 2,
       "version_minor": 0
      },
      "text/plain": [
       "Batches:   0%|          | 0/1 [00:00<?, ?it/s]"
      ]
     },
     "metadata": {},
     "output_type": "display_data"
    },
    {
     "data": {
      "application/vnd.jupyter.widget-view+json": {
       "model_id": "68793837e1ac43b194915c8997641728",
       "version_major": 2,
       "version_minor": 0
      },
      "text/plain": [
       "Batches:   0%|          | 0/1 [00:00<?, ?it/s]"
      ]
     },
     "metadata": {},
     "output_type": "display_data"
    },
    {
     "data": {
      "application/vnd.jupyter.widget-view+json": {
       "model_id": "73685d39286549c5bf3c06826de8f4d3",
       "version_major": 2,
       "version_minor": 0
      },
      "text/plain": [
       "Batches:   0%|          | 0/1 [00:00<?, ?it/s]"
      ]
     },
     "metadata": {},
     "output_type": "display_data"
    },
    {
     "data": {
      "application/vnd.jupyter.widget-view+json": {
       "model_id": "1e72adbe3358462bbc0328d990cb964f",
       "version_major": 2,
       "version_minor": 0
      },
      "text/plain": [
       "Batches:   0%|          | 0/1 [00:00<?, ?it/s]"
      ]
     },
     "metadata": {},
     "output_type": "display_data"
    },
    {
     "data": {
      "application/vnd.jupyter.widget-view+json": {
       "model_id": "e49d9b1b8f1a43f7ae5d3c351feccbae",
       "version_major": 2,
       "version_minor": 0
      },
      "text/plain": [
       "Batches:   0%|          | 0/1 [00:00<?, ?it/s]"
      ]
     },
     "metadata": {},
     "output_type": "display_data"
    },
    {
     "data": {
      "application/vnd.jupyter.widget-view+json": {
       "model_id": "c6a6a6f9c5894a6bb1514076ade18454",
       "version_major": 2,
       "version_minor": 0
      },
      "text/plain": [
       "Batches:   0%|          | 0/1 [00:00<?, ?it/s]"
      ]
     },
     "metadata": {},
     "output_type": "display_data"
    },
    {
     "data": {
      "application/vnd.jupyter.widget-view+json": {
       "model_id": "c64b924471f648d585a7ea46a0ea2009",
       "version_major": 2,
       "version_minor": 0
      },
      "text/plain": [
       "Batches:   0%|          | 0/1 [00:00<?, ?it/s]"
      ]
     },
     "metadata": {},
     "output_type": "display_data"
    },
    {
     "data": {
      "application/vnd.jupyter.widget-view+json": {
       "model_id": "e8e17511862a449882e4727e8d12ee80",
       "version_major": 2,
       "version_minor": 0
      },
      "text/plain": [
       "Batches:   0%|          | 0/1 [00:00<?, ?it/s]"
      ]
     },
     "metadata": {},
     "output_type": "display_data"
    },
    {
     "data": {
      "application/vnd.jupyter.widget-view+json": {
       "model_id": "5e73e3d26eab4d9ea70c8b8471e6a843",
       "version_major": 2,
       "version_minor": 0
      },
      "text/plain": [
       "Batches:   0%|          | 0/1 [00:00<?, ?it/s]"
      ]
     },
     "metadata": {},
     "output_type": "display_data"
    },
    {
     "data": {
      "application/vnd.jupyter.widget-view+json": {
       "model_id": "e3938a9480f2424486fc6698d47b333e",
       "version_major": 2,
       "version_minor": 0
      },
      "text/plain": [
       "Batches:   0%|          | 0/1 [00:00<?, ?it/s]"
      ]
     },
     "metadata": {},
     "output_type": "display_data"
    },
    {
     "data": {
      "application/vnd.jupyter.widget-view+json": {
       "model_id": "524b793bfb354dbfb4e886c7f7ce65f0",
       "version_major": 2,
       "version_minor": 0
      },
      "text/plain": [
       "Batches:   0%|          | 0/1 [00:00<?, ?it/s]"
      ]
     },
     "metadata": {},
     "output_type": "display_data"
    },
    {
     "data": {
      "application/vnd.jupyter.widget-view+json": {
       "model_id": "310142bf6d504f06bd40227a9645680a",
       "version_major": 2,
       "version_minor": 0
      },
      "text/plain": [
       "Batches:   0%|          | 0/1 [00:00<?, ?it/s]"
      ]
     },
     "metadata": {},
     "output_type": "display_data"
    },
    {
     "data": {
      "application/vnd.jupyter.widget-view+json": {
       "model_id": "95bb6afaeef24b6691b1084fbf833183",
       "version_major": 2,
       "version_minor": 0
      },
      "text/plain": [
       "Batches:   0%|          | 0/1 [00:00<?, ?it/s]"
      ]
     },
     "metadata": {},
     "output_type": "display_data"
    },
    {
     "data": {
      "application/vnd.jupyter.widget-view+json": {
       "model_id": "4a2b4da0e4084d888e20d7a4706ba7da",
       "version_major": 2,
       "version_minor": 0
      },
      "text/plain": [
       "Batches:   0%|          | 0/1 [00:00<?, ?it/s]"
      ]
     },
     "metadata": {},
     "output_type": "display_data"
    },
    {
     "data": {
      "application/vnd.jupyter.widget-view+json": {
       "model_id": "84642c05533246f9b821bad3fbfef485",
       "version_major": 2,
       "version_minor": 0
      },
      "text/plain": [
       "Batches:   0%|          | 0/1 [00:00<?, ?it/s]"
      ]
     },
     "metadata": {},
     "output_type": "display_data"
    },
    {
     "data": {
      "application/vnd.jupyter.widget-view+json": {
       "model_id": "51e328b03af243da99a15fd76976cc83",
       "version_major": 2,
       "version_minor": 0
      },
      "text/plain": [
       "Batches:   0%|          | 0/1 [00:00<?, ?it/s]"
      ]
     },
     "metadata": {},
     "output_type": "display_data"
    },
    {
     "data": {
      "application/vnd.jupyter.widget-view+json": {
       "model_id": "2072d9961e6d448db297af53eb60c916",
       "version_major": 2,
       "version_minor": 0
      },
      "text/plain": [
       "Batches:   0%|          | 0/1 [00:00<?, ?it/s]"
      ]
     },
     "metadata": {},
     "output_type": "display_data"
    },
    {
     "data": {
      "application/vnd.jupyter.widget-view+json": {
       "model_id": "295e760cf219414bb055e26ebbc54c94",
       "version_major": 2,
       "version_minor": 0
      },
      "text/plain": [
       "Batches:   0%|          | 0/1 [00:00<?, ?it/s]"
      ]
     },
     "metadata": {},
     "output_type": "display_data"
    },
    {
     "data": {
      "application/vnd.jupyter.widget-view+json": {
       "model_id": "f502ed876aa3419b9f78315c1ece4a1f",
       "version_major": 2,
       "version_minor": 0
      },
      "text/plain": [
       "Batches:   0%|          | 0/1 [00:00<?, ?it/s]"
      ]
     },
     "metadata": {},
     "output_type": "display_data"
    },
    {
     "data": {
      "application/vnd.jupyter.widget-view+json": {
       "model_id": "49f9c3eb23f24059b2cc5ac736faa75a",
       "version_major": 2,
       "version_minor": 0
      },
      "text/plain": [
       "Batches:   0%|          | 0/1 [00:00<?, ?it/s]"
      ]
     },
     "metadata": {},
     "output_type": "display_data"
    },
    {
     "data": {
      "application/vnd.jupyter.widget-view+json": {
       "model_id": "335d7eda2a354d989e4bca5972a14073",
       "version_major": 2,
       "version_minor": 0
      },
      "text/plain": [
       "Batches:   0%|          | 0/1 [00:00<?, ?it/s]"
      ]
     },
     "metadata": {},
     "output_type": "display_data"
    },
    {
     "data": {
      "application/vnd.jupyter.widget-view+json": {
       "model_id": "5d878483c2b248fbb7f430b9b867480a",
       "version_major": 2,
       "version_minor": 0
      },
      "text/plain": [
       "Batches:   0%|          | 0/1 [00:00<?, ?it/s]"
      ]
     },
     "metadata": {},
     "output_type": "display_data"
    },
    {
     "data": {
      "application/vnd.jupyter.widget-view+json": {
       "model_id": "e43fe17c40314793b715212c00357365",
       "version_major": 2,
       "version_minor": 0
      },
      "text/plain": [
       "Batches:   0%|          | 0/1 [00:00<?, ?it/s]"
      ]
     },
     "metadata": {},
     "output_type": "display_data"
    },
    {
     "data": {
      "application/vnd.jupyter.widget-view+json": {
       "model_id": "9e5c45d33c1d4ecb92eafbbe8d58d0e5",
       "version_major": 2,
       "version_minor": 0
      },
      "text/plain": [
       "Batches:   0%|          | 0/1 [00:00<?, ?it/s]"
      ]
     },
     "metadata": {},
     "output_type": "display_data"
    },
    {
     "data": {
      "application/vnd.jupyter.widget-view+json": {
       "model_id": "26eac4e7ad3047e9bcfd00130a71e51a",
       "version_major": 2,
       "version_minor": 0
      },
      "text/plain": [
       "Batches:   0%|          | 0/1 [00:00<?, ?it/s]"
      ]
     },
     "metadata": {},
     "output_type": "display_data"
    },
    {
     "data": {
      "application/vnd.jupyter.widget-view+json": {
       "model_id": "612699f44684471ca5f6e031fae7c725",
       "version_major": 2,
       "version_minor": 0
      },
      "text/plain": [
       "Batches:   0%|          | 0/1 [00:00<?, ?it/s]"
      ]
     },
     "metadata": {},
     "output_type": "display_data"
    },
    {
     "data": {
      "application/vnd.jupyter.widget-view+json": {
       "model_id": "d36791bbfc82458e81a6611f42dbfd78",
       "version_major": 2,
       "version_minor": 0
      },
      "text/plain": [
       "Batches:   0%|          | 0/1 [00:00<?, ?it/s]"
      ]
     },
     "metadata": {},
     "output_type": "display_data"
    },
    {
     "data": {
      "application/vnd.jupyter.widget-view+json": {
       "model_id": "3359ef8b06904e68a1ee3467c8c083db",
       "version_major": 2,
       "version_minor": 0
      },
      "text/plain": [
       "Batches:   0%|          | 0/1 [00:00<?, ?it/s]"
      ]
     },
     "metadata": {},
     "output_type": "display_data"
    },
    {
     "data": {
      "application/vnd.jupyter.widget-view+json": {
       "model_id": "a0f9f03af32341a9a5119213ef64a16d",
       "version_major": 2,
       "version_minor": 0
      },
      "text/plain": [
       "Batches:   0%|          | 0/1 [00:00<?, ?it/s]"
      ]
     },
     "metadata": {},
     "output_type": "display_data"
    },
    {
     "data": {
      "application/vnd.jupyter.widget-view+json": {
       "model_id": "9125fc0721734868b70c68a1cc1e6065",
       "version_major": 2,
       "version_minor": 0
      },
      "text/plain": [
       "Batches:   0%|          | 0/1 [00:00<?, ?it/s]"
      ]
     },
     "metadata": {},
     "output_type": "display_data"
    },
    {
     "data": {
      "application/vnd.jupyter.widget-view+json": {
       "model_id": "f0f3bc3679354df6a9c190881f4f5246",
       "version_major": 2,
       "version_minor": 0
      },
      "text/plain": [
       "Batches:   0%|          | 0/1 [00:00<?, ?it/s]"
      ]
     },
     "metadata": {},
     "output_type": "display_data"
    },
    {
     "data": {
      "application/vnd.jupyter.widget-view+json": {
       "model_id": "8dc6c91cad98469ea677d4e86aff1812",
       "version_major": 2,
       "version_minor": 0
      },
      "text/plain": [
       "Batches:   0%|          | 0/1 [00:00<?, ?it/s]"
      ]
     },
     "metadata": {},
     "output_type": "display_data"
    },
    {
     "data": {
      "application/vnd.jupyter.widget-view+json": {
       "model_id": "6f40cf5f45784883892c4e29fb2a2e4c",
       "version_major": 2,
       "version_minor": 0
      },
      "text/plain": [
       "Batches:   0%|          | 0/1 [00:00<?, ?it/s]"
      ]
     },
     "metadata": {},
     "output_type": "display_data"
    },
    {
     "data": {
      "application/vnd.jupyter.widget-view+json": {
       "model_id": "230bf7faa3704e9ea84c9c413d2ddbea",
       "version_major": 2,
       "version_minor": 0
      },
      "text/plain": [
       "Batches:   0%|          | 0/1 [00:00<?, ?it/s]"
      ]
     },
     "metadata": {},
     "output_type": "display_data"
    },
    {
     "data": {
      "application/vnd.jupyter.widget-view+json": {
       "model_id": "0591177fc8184967b995bb68b3c33a8b",
       "version_major": 2,
       "version_minor": 0
      },
      "text/plain": [
       "Batches:   0%|          | 0/1 [00:00<?, ?it/s]"
      ]
     },
     "metadata": {},
     "output_type": "display_data"
    },
    {
     "data": {
      "application/vnd.jupyter.widget-view+json": {
       "model_id": "068b43ae34ab46af818318ed08028b9e",
       "version_major": 2,
       "version_minor": 0
      },
      "text/plain": [
       "Batches:   0%|          | 0/1 [00:00<?, ?it/s]"
      ]
     },
     "metadata": {},
     "output_type": "display_data"
    },
    {
     "data": {
      "application/vnd.jupyter.widget-view+json": {
       "model_id": "2d0c266451e640d78d5785997beb5a2e",
       "version_major": 2,
       "version_minor": 0
      },
      "text/plain": [
       "Batches:   0%|          | 0/1 [00:00<?, ?it/s]"
      ]
     },
     "metadata": {},
     "output_type": "display_data"
    },
    {
     "data": {
      "application/vnd.jupyter.widget-view+json": {
       "model_id": "30f9e8f593ec4b39b23799c866a4159f",
       "version_major": 2,
       "version_minor": 0
      },
      "text/plain": [
       "Batches:   0%|          | 0/1 [00:00<?, ?it/s]"
      ]
     },
     "metadata": {},
     "output_type": "display_data"
    },
    {
     "data": {
      "application/vnd.jupyter.widget-view+json": {
       "model_id": "626aefda5a3e4ab0b55464d75e4c4c63",
       "version_major": 2,
       "version_minor": 0
      },
      "text/plain": [
       "Batches:   0%|          | 0/1 [00:00<?, ?it/s]"
      ]
     },
     "metadata": {},
     "output_type": "display_data"
    },
    {
     "data": {
      "application/vnd.jupyter.widget-view+json": {
       "model_id": "b74684eb74bc4f418c24092f70ce915e",
       "version_major": 2,
       "version_minor": 0
      },
      "text/plain": [
       "Batches:   0%|          | 0/1 [00:00<?, ?it/s]"
      ]
     },
     "metadata": {},
     "output_type": "display_data"
    },
    {
     "data": {
      "application/vnd.jupyter.widget-view+json": {
       "model_id": "07304dca8a3d4c77940634ea4b779d97",
       "version_major": 2,
       "version_minor": 0
      },
      "text/plain": [
       "Batches:   0%|          | 0/1 [00:00<?, ?it/s]"
      ]
     },
     "metadata": {},
     "output_type": "display_data"
    },
    {
     "data": {
      "application/vnd.jupyter.widget-view+json": {
       "model_id": "391bef56a9eb4e78aefb632cc51f3f32",
       "version_major": 2,
       "version_minor": 0
      },
      "text/plain": [
       "Batches:   0%|          | 0/1 [00:00<?, ?it/s]"
      ]
     },
     "metadata": {},
     "output_type": "display_data"
    },
    {
     "data": {
      "application/vnd.jupyter.widget-view+json": {
       "model_id": "da4c6aeca7d1494888e977d7abf83024",
       "version_major": 2,
       "version_minor": 0
      },
      "text/plain": [
       "Batches:   0%|          | 0/1 [00:00<?, ?it/s]"
      ]
     },
     "metadata": {},
     "output_type": "display_data"
    },
    {
     "data": {
      "application/vnd.jupyter.widget-view+json": {
       "model_id": "79f9de94c4bb44a38128de7d8ee34937",
       "version_major": 2,
       "version_minor": 0
      },
      "text/plain": [
       "Batches:   0%|          | 0/1 [00:00<?, ?it/s]"
      ]
     },
     "metadata": {},
     "output_type": "display_data"
    },
    {
     "data": {
      "application/vnd.jupyter.widget-view+json": {
       "model_id": "bd99ede03e004dfd90a32c010df7f42e",
       "version_major": 2,
       "version_minor": 0
      },
      "text/plain": [
       "Batches:   0%|          | 0/1 [00:00<?, ?it/s]"
      ]
     },
     "metadata": {},
     "output_type": "display_data"
    },
    {
     "data": {
      "application/vnd.jupyter.widget-view+json": {
       "model_id": "cba6ff9f5e07455e9cb1385d5a7b264a",
       "version_major": 2,
       "version_minor": 0
      },
      "text/plain": [
       "Batches:   0%|          | 0/1 [00:00<?, ?it/s]"
      ]
     },
     "metadata": {},
     "output_type": "display_data"
    },
    {
     "data": {
      "application/vnd.jupyter.widget-view+json": {
       "model_id": "8b5e9417c25047998741603892dea8b3",
       "version_major": 2,
       "version_minor": 0
      },
      "text/plain": [
       "Batches:   0%|          | 0/1 [00:00<?, ?it/s]"
      ]
     },
     "metadata": {},
     "output_type": "display_data"
    },
    {
     "data": {
      "application/vnd.jupyter.widget-view+json": {
       "model_id": "684cd78b8b03493d8bb22a17058cc2ac",
       "version_major": 2,
       "version_minor": 0
      },
      "text/plain": [
       "Batches:   0%|          | 0/1 [00:00<?, ?it/s]"
      ]
     },
     "metadata": {},
     "output_type": "display_data"
    },
    {
     "data": {
      "application/vnd.jupyter.widget-view+json": {
       "model_id": "3c172a43c2554cfdb3341e30567c3836",
       "version_major": 2,
       "version_minor": 0
      },
      "text/plain": [
       "Batches:   0%|          | 0/1 [00:00<?, ?it/s]"
      ]
     },
     "metadata": {},
     "output_type": "display_data"
    },
    {
     "data": {
      "application/vnd.jupyter.widget-view+json": {
       "model_id": "683bfdda890f4b458ee1fd22400b2751",
       "version_major": 2,
       "version_minor": 0
      },
      "text/plain": [
       "Batches:   0%|          | 0/1 [00:00<?, ?it/s]"
      ]
     },
     "metadata": {},
     "output_type": "display_data"
    },
    {
     "data": {
      "application/vnd.jupyter.widget-view+json": {
       "model_id": "c79ddd94320641e5a7b276c3e85c3dcc",
       "version_major": 2,
       "version_minor": 0
      },
      "text/plain": [
       "Batches:   0%|          | 0/1 [00:00<?, ?it/s]"
      ]
     },
     "metadata": {},
     "output_type": "display_data"
    },
    {
     "data": {
      "application/vnd.jupyter.widget-view+json": {
       "model_id": "4252d24105a2421b83d850731dc33b69",
       "version_major": 2,
       "version_minor": 0
      },
      "text/plain": [
       "Batches:   0%|          | 0/1 [00:00<?, ?it/s]"
      ]
     },
     "metadata": {},
     "output_type": "display_data"
    },
    {
     "data": {
      "application/vnd.jupyter.widget-view+json": {
       "model_id": "18a41420552e4b7887336158db231399",
       "version_major": 2,
       "version_minor": 0
      },
      "text/plain": [
       "Batches:   0%|          | 0/1 [00:00<?, ?it/s]"
      ]
     },
     "metadata": {},
     "output_type": "display_data"
    },
    {
     "data": {
      "application/vnd.jupyter.widget-view+json": {
       "model_id": "f68b9af546fb4a84874b658cd2de987f",
       "version_major": 2,
       "version_minor": 0
      },
      "text/plain": [
       "Batches:   0%|          | 0/1 [00:00<?, ?it/s]"
      ]
     },
     "metadata": {},
     "output_type": "display_data"
    },
    {
     "data": {
      "application/vnd.jupyter.widget-view+json": {
       "model_id": "38fe7328face4a809a492ef4dfd03cce",
       "version_major": 2,
       "version_minor": 0
      },
      "text/plain": [
       "Batches:   0%|          | 0/1 [00:00<?, ?it/s]"
      ]
     },
     "metadata": {},
     "output_type": "display_data"
    },
    {
     "data": {
      "application/vnd.jupyter.widget-view+json": {
       "model_id": "96c51f83609944b98e0ff150d3e42c23",
       "version_major": 2,
       "version_minor": 0
      },
      "text/plain": [
       "Batches:   0%|          | 0/1 [00:00<?, ?it/s]"
      ]
     },
     "metadata": {},
     "output_type": "display_data"
    },
    {
     "data": {
      "application/vnd.jupyter.widget-view+json": {
       "model_id": "a08ce60a072349438eddf5d9863e2d5f",
       "version_major": 2,
       "version_minor": 0
      },
      "text/plain": [
       "Batches:   0%|          | 0/1 [00:00<?, ?it/s]"
      ]
     },
     "metadata": {},
     "output_type": "display_data"
    },
    {
     "data": {
      "application/vnd.jupyter.widget-view+json": {
       "model_id": "64bfba3c7884490e8ec19aef52df7ceb",
       "version_major": 2,
       "version_minor": 0
      },
      "text/plain": [
       "Batches:   0%|          | 0/1 [00:00<?, ?it/s]"
      ]
     },
     "metadata": {},
     "output_type": "display_data"
    },
    {
     "data": {
      "application/vnd.jupyter.widget-view+json": {
       "model_id": "9c57fd446e974103b6b888e4e6833b5d",
       "version_major": 2,
       "version_minor": 0
      },
      "text/plain": [
       "Batches:   0%|          | 0/1 [00:00<?, ?it/s]"
      ]
     },
     "metadata": {},
     "output_type": "display_data"
    },
    {
     "data": {
      "application/vnd.jupyter.widget-view+json": {
       "model_id": "771ebf464907492888e62fdc21aa4dc8",
       "version_major": 2,
       "version_minor": 0
      },
      "text/plain": [
       "Batches:   0%|          | 0/1 [00:00<?, ?it/s]"
      ]
     },
     "metadata": {},
     "output_type": "display_data"
    },
    {
     "data": {
      "application/vnd.jupyter.widget-view+json": {
       "model_id": "4d94c94d878d41e3b511877ff323f9aa",
       "version_major": 2,
       "version_minor": 0
      },
      "text/plain": [
       "Batches:   0%|          | 0/1 [00:00<?, ?it/s]"
      ]
     },
     "metadata": {},
     "output_type": "display_data"
    },
    {
     "data": {
      "application/vnd.jupyter.widget-view+json": {
       "model_id": "c47489c4aa654cf5be4f84d32fa07721",
       "version_major": 2,
       "version_minor": 0
      },
      "text/plain": [
       "Batches:   0%|          | 0/1 [00:00<?, ?it/s]"
      ]
     },
     "metadata": {},
     "output_type": "display_data"
    },
    {
     "data": {
      "application/vnd.jupyter.widget-view+json": {
       "model_id": "eebeaba8e3ba44589391ce36196cbfdb",
       "version_major": 2,
       "version_minor": 0
      },
      "text/plain": [
       "Batches:   0%|          | 0/1 [00:00<?, ?it/s]"
      ]
     },
     "metadata": {},
     "output_type": "display_data"
    },
    {
     "data": {
      "application/vnd.jupyter.widget-view+json": {
       "model_id": "9af20caf16dc4de1b4af7991970d19cd",
       "version_major": 2,
       "version_minor": 0
      },
      "text/plain": [
       "Batches:   0%|          | 0/1 [00:00<?, ?it/s]"
      ]
     },
     "metadata": {},
     "output_type": "display_data"
    },
    {
     "data": {
      "application/vnd.jupyter.widget-view+json": {
       "model_id": "5788d7421edf471c9b177f560d237e94",
       "version_major": 2,
       "version_minor": 0
      },
      "text/plain": [
       "Batches:   0%|          | 0/1 [00:00<?, ?it/s]"
      ]
     },
     "metadata": {},
     "output_type": "display_data"
    },
    {
     "data": {
      "application/vnd.jupyter.widget-view+json": {
       "model_id": "042e138ad1674d5d9addc88abfc1d0b5",
       "version_major": 2,
       "version_minor": 0
      },
      "text/plain": [
       "Batches:   0%|          | 0/1 [00:00<?, ?it/s]"
      ]
     },
     "metadata": {},
     "output_type": "display_data"
    },
    {
     "data": {
      "application/vnd.jupyter.widget-view+json": {
       "model_id": "2d85f34c859b4073b0ff059cb1bc3aa8",
       "version_major": 2,
       "version_minor": 0
      },
      "text/plain": [
       "Batches:   0%|          | 0/1 [00:00<?, ?it/s]"
      ]
     },
     "metadata": {},
     "output_type": "display_data"
    },
    {
     "data": {
      "application/vnd.jupyter.widget-view+json": {
       "model_id": "26c0d361e0274dbdab72c842fcc7f608",
       "version_major": 2,
       "version_minor": 0
      },
      "text/plain": [
       "Batches:   0%|          | 0/1 [00:00<?, ?it/s]"
      ]
     },
     "metadata": {},
     "output_type": "display_data"
    },
    {
     "data": {
      "application/vnd.jupyter.widget-view+json": {
       "model_id": "5b4bbd8df61c497eb21eb114a53b33e3",
       "version_major": 2,
       "version_minor": 0
      },
      "text/plain": [
       "Batches:   0%|          | 0/1 [00:00<?, ?it/s]"
      ]
     },
     "metadata": {},
     "output_type": "display_data"
    },
    {
     "data": {
      "application/vnd.jupyter.widget-view+json": {
       "model_id": "9ea7b4571bd74a0a9482149652beee05",
       "version_major": 2,
       "version_minor": 0
      },
      "text/plain": [
       "Batches:   0%|          | 0/1 [00:00<?, ?it/s]"
      ]
     },
     "metadata": {},
     "output_type": "display_data"
    },
    {
     "data": {
      "application/vnd.jupyter.widget-view+json": {
       "model_id": "f6af8972f9de4a7bbf6736226892bd73",
       "version_major": 2,
       "version_minor": 0
      },
      "text/plain": [
       "Batches:   0%|          | 0/1 [00:00<?, ?it/s]"
      ]
     },
     "metadata": {},
     "output_type": "display_data"
    },
    {
     "data": {
      "application/vnd.jupyter.widget-view+json": {
       "model_id": "738a9e2022b14d6c8ab285d78d408f80",
       "version_major": 2,
       "version_minor": 0
      },
      "text/plain": [
       "Batches:   0%|          | 0/1 [00:00<?, ?it/s]"
      ]
     },
     "metadata": {},
     "output_type": "display_data"
    },
    {
     "data": {
      "application/vnd.jupyter.widget-view+json": {
       "model_id": "a87214a9f1b04a05b8b8774a7bfa05a9",
       "version_major": 2,
       "version_minor": 0
      },
      "text/plain": [
       "Batches:   0%|          | 0/1 [00:00<?, ?it/s]"
      ]
     },
     "metadata": {},
     "output_type": "display_data"
    },
    {
     "data": {
      "application/vnd.jupyter.widget-view+json": {
       "model_id": "87e328576c1c48cca4259bd01f576243",
       "version_major": 2,
       "version_minor": 0
      },
      "text/plain": [
       "Batches:   0%|          | 0/1 [00:00<?, ?it/s]"
      ]
     },
     "metadata": {},
     "output_type": "display_data"
    },
    {
     "data": {
      "application/vnd.jupyter.widget-view+json": {
       "model_id": "77e590f6d017437b85776428d667f68d",
       "version_major": 2,
       "version_minor": 0
      },
      "text/plain": [
       "Batches:   0%|          | 0/1 [00:00<?, ?it/s]"
      ]
     },
     "metadata": {},
     "output_type": "display_data"
    },
    {
     "data": {
      "application/vnd.jupyter.widget-view+json": {
       "model_id": "03b253db545045a7812cebf92b6e87a7",
       "version_major": 2,
       "version_minor": 0
      },
      "text/plain": [
       "Batches:   0%|          | 0/1 [00:00<?, ?it/s]"
      ]
     },
     "metadata": {},
     "output_type": "display_data"
    },
    {
     "data": {
      "application/vnd.jupyter.widget-view+json": {
       "model_id": "c39351e59bf5436ebe6cff6e26bd5c0c",
       "version_major": 2,
       "version_minor": 0
      },
      "text/plain": [
       "Batches:   0%|          | 0/1 [00:00<?, ?it/s]"
      ]
     },
     "metadata": {},
     "output_type": "display_data"
    },
    {
     "data": {
      "application/vnd.jupyter.widget-view+json": {
       "model_id": "daee9c26639d4ad3b2d867279912729e",
       "version_major": 2,
       "version_minor": 0
      },
      "text/plain": [
       "Batches:   0%|          | 0/1 [00:00<?, ?it/s]"
      ]
     },
     "metadata": {},
     "output_type": "display_data"
    },
    {
     "data": {
      "application/vnd.jupyter.widget-view+json": {
       "model_id": "7a5f285833b64cc1862616c08492b405",
       "version_major": 2,
       "version_minor": 0
      },
      "text/plain": [
       "Batches:   0%|          | 0/1 [00:00<?, ?it/s]"
      ]
     },
     "metadata": {},
     "output_type": "display_data"
    },
    {
     "data": {
      "application/vnd.jupyter.widget-view+json": {
       "model_id": "10c92c35119a4acb99e70a3758777c2a",
       "version_major": 2,
       "version_minor": 0
      },
      "text/plain": [
       "Batches:   0%|          | 0/1 [00:00<?, ?it/s]"
      ]
     },
     "metadata": {},
     "output_type": "display_data"
    },
    {
     "data": {
      "application/vnd.jupyter.widget-view+json": {
       "model_id": "53a3516c66324785b276a49bdf738983",
       "version_major": 2,
       "version_minor": 0
      },
      "text/plain": [
       "Batches:   0%|          | 0/1 [00:00<?, ?it/s]"
      ]
     },
     "metadata": {},
     "output_type": "display_data"
    },
    {
     "data": {
      "application/vnd.jupyter.widget-view+json": {
       "model_id": "db09dfc6a325495e844d04c78808f7ab",
       "version_major": 2,
       "version_minor": 0
      },
      "text/plain": [
       "Batches:   0%|          | 0/1 [00:00<?, ?it/s]"
      ]
     },
     "metadata": {},
     "output_type": "display_data"
    },
    {
     "data": {
      "application/vnd.jupyter.widget-view+json": {
       "model_id": "a4ef0bd9f8b44cf5beed2e73b693225c",
       "version_major": 2,
       "version_minor": 0
      },
      "text/plain": [
       "Batches:   0%|          | 0/1 [00:00<?, ?it/s]"
      ]
     },
     "metadata": {},
     "output_type": "display_data"
    },
    {
     "data": {
      "application/vnd.jupyter.widget-view+json": {
       "model_id": "d30953f9f27a4002bb1c61f20a1c0198",
       "version_major": 2,
       "version_minor": 0
      },
      "text/plain": [
       "Batches:   0%|          | 0/1 [00:00<?, ?it/s]"
      ]
     },
     "metadata": {},
     "output_type": "display_data"
    },
    {
     "data": {
      "application/vnd.jupyter.widget-view+json": {
       "model_id": "9f03a596ffab4a0eb99395574b5bf98e",
       "version_major": 2,
       "version_minor": 0
      },
      "text/plain": [
       "Batches:   0%|          | 0/1 [00:00<?, ?it/s]"
      ]
     },
     "metadata": {},
     "output_type": "display_data"
    },
    {
     "data": {
      "application/vnd.jupyter.widget-view+json": {
       "model_id": "80e3326978be453e8abe1debb9ca4ab2",
       "version_major": 2,
       "version_minor": 0
      },
      "text/plain": [
       "Batches:   0%|          | 0/1 [00:00<?, ?it/s]"
      ]
     },
     "metadata": {},
     "output_type": "display_data"
    },
    {
     "data": {
      "application/vnd.jupyter.widget-view+json": {
       "model_id": "8da3b34cfdbe446c88b1c817988374b4",
       "version_major": 2,
       "version_minor": 0
      },
      "text/plain": [
       "Batches:   0%|          | 0/1 [00:00<?, ?it/s]"
      ]
     },
     "metadata": {},
     "output_type": "display_data"
    },
    {
     "data": {
      "application/vnd.jupyter.widget-view+json": {
       "model_id": "9cdb22964e624d3e85e912fb2c2b001d",
       "version_major": 2,
       "version_minor": 0
      },
      "text/plain": [
       "Batches:   0%|          | 0/1 [00:00<?, ?it/s]"
      ]
     },
     "metadata": {},
     "output_type": "display_data"
    },
    {
     "data": {
      "application/vnd.jupyter.widget-view+json": {
       "model_id": "a656cabe4bc04d758b6821bf953b9166",
       "version_major": 2,
       "version_minor": 0
      },
      "text/plain": [
       "Batches:   0%|          | 0/1 [00:00<?, ?it/s]"
      ]
     },
     "metadata": {},
     "output_type": "display_data"
    },
    {
     "data": {
      "application/vnd.jupyter.widget-view+json": {
       "model_id": "7b38e4a38fae46158de0da44d774a788",
       "version_major": 2,
       "version_minor": 0
      },
      "text/plain": [
       "Batches:   0%|          | 0/1 [00:00<?, ?it/s]"
      ]
     },
     "metadata": {},
     "output_type": "display_data"
    },
    {
     "data": {
      "application/vnd.jupyter.widget-view+json": {
       "model_id": "edf33089974e49ec85d68092349798a9",
       "version_major": 2,
       "version_minor": 0
      },
      "text/plain": [
       "Batches:   0%|          | 0/1 [00:00<?, ?it/s]"
      ]
     },
     "metadata": {},
     "output_type": "display_data"
    },
    {
     "data": {
      "application/vnd.jupyter.widget-view+json": {
       "model_id": "1465c4cbbe0b49e28784498b231d230c",
       "version_major": 2,
       "version_minor": 0
      },
      "text/plain": [
       "Batches:   0%|          | 0/1 [00:00<?, ?it/s]"
      ]
     },
     "metadata": {},
     "output_type": "display_data"
    },
    {
     "data": {
      "application/vnd.jupyter.widget-view+json": {
       "model_id": "77b9d0b746d34b3382d3c3b104f3259f",
       "version_major": 2,
       "version_minor": 0
      },
      "text/plain": [
       "Batches:   0%|          | 0/1 [00:00<?, ?it/s]"
      ]
     },
     "metadata": {},
     "output_type": "display_data"
    },
    {
     "data": {
      "application/vnd.jupyter.widget-view+json": {
       "model_id": "7533b1432fca41108d5040fe6c9b8227",
       "version_major": 2,
       "version_minor": 0
      },
      "text/plain": [
       "Batches:   0%|          | 0/1 [00:00<?, ?it/s]"
      ]
     },
     "metadata": {},
     "output_type": "display_data"
    },
    {
     "data": {
      "application/vnd.jupyter.widget-view+json": {
       "model_id": "9ea90f502cc84ce38dde9af67b90ebf3",
       "version_major": 2,
       "version_minor": 0
      },
      "text/plain": [
       "Batches:   0%|          | 0/1 [00:00<?, ?it/s]"
      ]
     },
     "metadata": {},
     "output_type": "display_data"
    },
    {
     "data": {
      "application/vnd.jupyter.widget-view+json": {
       "model_id": "3233f6a4aee546f48848b98777b76185",
       "version_major": 2,
       "version_minor": 0
      },
      "text/plain": [
       "Batches:   0%|          | 0/1 [00:00<?, ?it/s]"
      ]
     },
     "metadata": {},
     "output_type": "display_data"
    },
    {
     "data": {
      "application/vnd.jupyter.widget-view+json": {
       "model_id": "336fa01f5a2348b4b0bdf4d064111867",
       "version_major": 2,
       "version_minor": 0
      },
      "text/plain": [
       "Batches:   0%|          | 0/1 [00:00<?, ?it/s]"
      ]
     },
     "metadata": {},
     "output_type": "display_data"
    },
    {
     "data": {
      "application/vnd.jupyter.widget-view+json": {
       "model_id": "e07035890feb496cbca03311d31806c5",
       "version_major": 2,
       "version_minor": 0
      },
      "text/plain": [
       "Batches:   0%|          | 0/1 [00:00<?, ?it/s]"
      ]
     },
     "metadata": {},
     "output_type": "display_data"
    },
    {
     "data": {
      "application/vnd.jupyter.widget-view+json": {
       "model_id": "a5c959d1fa8c45f08b087b719d6b1624",
       "version_major": 2,
       "version_minor": 0
      },
      "text/plain": [
       "Batches:   0%|          | 0/1 [00:00<?, ?it/s]"
      ]
     },
     "metadata": {},
     "output_type": "display_data"
    },
    {
     "data": {
      "application/vnd.jupyter.widget-view+json": {
       "model_id": "044ee2ea5b5041fcaa2f7f2853b8e6bc",
       "version_major": 2,
       "version_minor": 0
      },
      "text/plain": [
       "Batches:   0%|          | 0/1 [00:00<?, ?it/s]"
      ]
     },
     "metadata": {},
     "output_type": "display_data"
    },
    {
     "data": {
      "application/vnd.jupyter.widget-view+json": {
       "model_id": "bff67634a1914b2d896fe8b803fa5a99",
       "version_major": 2,
       "version_minor": 0
      },
      "text/plain": [
       "Batches:   0%|          | 0/1 [00:00<?, ?it/s]"
      ]
     },
     "metadata": {},
     "output_type": "display_data"
    },
    {
     "data": {
      "application/vnd.jupyter.widget-view+json": {
       "model_id": "3d7f524cb3fc4683b4d8990c2acf577a",
       "version_major": 2,
       "version_minor": 0
      },
      "text/plain": [
       "Batches:   0%|          | 0/1 [00:00<?, ?it/s]"
      ]
     },
     "metadata": {},
     "output_type": "display_data"
    },
    {
     "data": {
      "application/vnd.jupyter.widget-view+json": {
       "model_id": "188b3edfd7b64a6e99be483d47e7785b",
       "version_major": 2,
       "version_minor": 0
      },
      "text/plain": [
       "Batches:   0%|          | 0/1 [00:00<?, ?it/s]"
      ]
     },
     "metadata": {},
     "output_type": "display_data"
    },
    {
     "data": {
      "application/vnd.jupyter.widget-view+json": {
       "model_id": "d5d3f300984a4b60979899615e5146c9",
       "version_major": 2,
       "version_minor": 0
      },
      "text/plain": [
       "Batches:   0%|          | 0/1 [00:00<?, ?it/s]"
      ]
     },
     "metadata": {},
     "output_type": "display_data"
    },
    {
     "data": {
      "application/vnd.jupyter.widget-view+json": {
       "model_id": "70f85a81e262486280cfd19de9a0cac4",
       "version_major": 2,
       "version_minor": 0
      },
      "text/plain": [
       "Batches:   0%|          | 0/1 [00:00<?, ?it/s]"
      ]
     },
     "metadata": {},
     "output_type": "display_data"
    },
    {
     "data": {
      "application/vnd.jupyter.widget-view+json": {
       "model_id": "c8ae3447da4647bb8fad379f49cb0cb0",
       "version_major": 2,
       "version_minor": 0
      },
      "text/plain": [
       "Batches:   0%|          | 0/1 [00:00<?, ?it/s]"
      ]
     },
     "metadata": {},
     "output_type": "display_data"
    },
    {
     "data": {
      "application/vnd.jupyter.widget-view+json": {
       "model_id": "c8e454324a0841e090665d2774ed5530",
       "version_major": 2,
       "version_minor": 0
      },
      "text/plain": [
       "Batches:   0%|          | 0/1 [00:00<?, ?it/s]"
      ]
     },
     "metadata": {},
     "output_type": "display_data"
    },
    {
     "data": {
      "application/vnd.jupyter.widget-view+json": {
       "model_id": "bac6f2744fc54293a3340e8c05ecd02a",
       "version_major": 2,
       "version_minor": 0
      },
      "text/plain": [
       "Batches:   0%|          | 0/1 [00:00<?, ?it/s]"
      ]
     },
     "metadata": {},
     "output_type": "display_data"
    },
    {
     "data": {
      "application/vnd.jupyter.widget-view+json": {
       "model_id": "a90e65cd30774d70bfd14fb5f7a5ce7d",
       "version_major": 2,
       "version_minor": 0
      },
      "text/plain": [
       "Batches:   0%|          | 0/1 [00:00<?, ?it/s]"
      ]
     },
     "metadata": {},
     "output_type": "display_data"
    },
    {
     "data": {
      "application/vnd.jupyter.widget-view+json": {
       "model_id": "3121e391636a443eaca5453030d193b2",
       "version_major": 2,
       "version_minor": 0
      },
      "text/plain": [
       "Batches:   0%|          | 0/1 [00:00<?, ?it/s]"
      ]
     },
     "metadata": {},
     "output_type": "display_data"
    },
    {
     "data": {
      "application/vnd.jupyter.widget-view+json": {
       "model_id": "3dc1a1da0e0c4712be60b852cfd946dc",
       "version_major": 2,
       "version_minor": 0
      },
      "text/plain": [
       "Batches:   0%|          | 0/1 [00:00<?, ?it/s]"
      ]
     },
     "metadata": {},
     "output_type": "display_data"
    },
    {
     "data": {
      "application/vnd.jupyter.widget-view+json": {
       "model_id": "3d39abf7650b40ecba673506f341bc1d",
       "version_major": 2,
       "version_minor": 0
      },
      "text/plain": [
       "Batches:   0%|          | 0/1 [00:00<?, ?it/s]"
      ]
     },
     "metadata": {},
     "output_type": "display_data"
    },
    {
     "data": {
      "application/vnd.jupyter.widget-view+json": {
       "model_id": "109e6eed78c349a0a56da1a8b6ba15df",
       "version_major": 2,
       "version_minor": 0
      },
      "text/plain": [
       "Batches:   0%|          | 0/1 [00:00<?, ?it/s]"
      ]
     },
     "metadata": {},
     "output_type": "display_data"
    },
    {
     "data": {
      "application/vnd.jupyter.widget-view+json": {
       "model_id": "e07684ab7839419c913c677f2ece608c",
       "version_major": 2,
       "version_minor": 0
      },
      "text/plain": [
       "Batches:   0%|          | 0/1 [00:00<?, ?it/s]"
      ]
     },
     "metadata": {},
     "output_type": "display_data"
    },
    {
     "data": {
      "application/vnd.jupyter.widget-view+json": {
       "model_id": "453a683c146c45b2acd3fb5c386d5b49",
       "version_major": 2,
       "version_minor": 0
      },
      "text/plain": [
       "Batches:   0%|          | 0/1 [00:00<?, ?it/s]"
      ]
     },
     "metadata": {},
     "output_type": "display_data"
    },
    {
     "data": {
      "application/vnd.jupyter.widget-view+json": {
       "model_id": "f16d0e0017c443c3828dbe5a09ed8f30",
       "version_major": 2,
       "version_minor": 0
      },
      "text/plain": [
       "Batches:   0%|          | 0/1 [00:00<?, ?it/s]"
      ]
     },
     "metadata": {},
     "output_type": "display_data"
    },
    {
     "data": {
      "application/vnd.jupyter.widget-view+json": {
       "model_id": "2562036d33614a4b82ef675eb757f111",
       "version_major": 2,
       "version_minor": 0
      },
      "text/plain": [
       "Batches:   0%|          | 0/1 [00:00<?, ?it/s]"
      ]
     },
     "metadata": {},
     "output_type": "display_data"
    },
    {
     "data": {
      "application/vnd.jupyter.widget-view+json": {
       "model_id": "03a068b747574830998b037c4a6a83bf",
       "version_major": 2,
       "version_minor": 0
      },
      "text/plain": [
       "Batches:   0%|          | 0/1 [00:00<?, ?it/s]"
      ]
     },
     "metadata": {},
     "output_type": "display_data"
    },
    {
     "data": {
      "application/vnd.jupyter.widget-view+json": {
       "model_id": "e2f11c7fcf4443f2a7de5e175bd74abe",
       "version_major": 2,
       "version_minor": 0
      },
      "text/plain": [
       "Batches:   0%|          | 0/1 [00:00<?, ?it/s]"
      ]
     },
     "metadata": {},
     "output_type": "display_data"
    },
    {
     "data": {
      "application/vnd.jupyter.widget-view+json": {
       "model_id": "991bdcb312894e449524642f37d44274",
       "version_major": 2,
       "version_minor": 0
      },
      "text/plain": [
       "Batches:   0%|          | 0/1 [00:00<?, ?it/s]"
      ]
     },
     "metadata": {},
     "output_type": "display_data"
    },
    {
     "data": {
      "application/vnd.jupyter.widget-view+json": {
       "model_id": "13922efd00b24373b05b1eac19643a2e",
       "version_major": 2,
       "version_minor": 0
      },
      "text/plain": [
       "Batches:   0%|          | 0/1 [00:00<?, ?it/s]"
      ]
     },
     "metadata": {},
     "output_type": "display_data"
    },
    {
     "data": {
      "application/vnd.jupyter.widget-view+json": {
       "model_id": "bcadf6ecb3c442e59363c98b7c4aec67",
       "version_major": 2,
       "version_minor": 0
      },
      "text/plain": [
       "Batches:   0%|          | 0/1 [00:00<?, ?it/s]"
      ]
     },
     "metadata": {},
     "output_type": "display_data"
    },
    {
     "data": {
      "application/vnd.jupyter.widget-view+json": {
       "model_id": "2c43410b3cbc420fa39420978bb83379",
       "version_major": 2,
       "version_minor": 0
      },
      "text/plain": [
       "Batches:   0%|          | 0/1 [00:00<?, ?it/s]"
      ]
     },
     "metadata": {},
     "output_type": "display_data"
    },
    {
     "data": {
      "application/vnd.jupyter.widget-view+json": {
       "model_id": "93cfc45ddbb8413baec1cf3e4f1536c7",
       "version_major": 2,
       "version_minor": 0
      },
      "text/plain": [
       "Batches:   0%|          | 0/1 [00:00<?, ?it/s]"
      ]
     },
     "metadata": {},
     "output_type": "display_data"
    },
    {
     "data": {
      "application/vnd.jupyter.widget-view+json": {
       "model_id": "290b7fdb74b6400db0c44dd668f0fee5",
       "version_major": 2,
       "version_minor": 0
      },
      "text/plain": [
       "Batches:   0%|          | 0/1 [00:00<?, ?it/s]"
      ]
     },
     "metadata": {},
     "output_type": "display_data"
    },
    {
     "data": {
      "application/vnd.jupyter.widget-view+json": {
       "model_id": "dceaa79eabe84d5696a0b2c7d6cd29af",
       "version_major": 2,
       "version_minor": 0
      },
      "text/plain": [
       "Batches:   0%|          | 0/1 [00:00<?, ?it/s]"
      ]
     },
     "metadata": {},
     "output_type": "display_data"
    },
    {
     "data": {
      "application/vnd.jupyter.widget-view+json": {
       "model_id": "ff2f973b234d486d921b4e6890c400c6",
       "version_major": 2,
       "version_minor": 0
      },
      "text/plain": [
       "Batches:   0%|          | 0/1 [00:00<?, ?it/s]"
      ]
     },
     "metadata": {},
     "output_type": "display_data"
    },
    {
     "data": {
      "application/vnd.jupyter.widget-view+json": {
       "model_id": "ba6c968fb1754806add2cc91fa183b4d",
       "version_major": 2,
       "version_minor": 0
      },
      "text/plain": [
       "Batches:   0%|          | 0/1 [00:00<?, ?it/s]"
      ]
     },
     "metadata": {},
     "output_type": "display_data"
    },
    {
     "data": {
      "application/vnd.jupyter.widget-view+json": {
       "model_id": "b37bfe63c4ac4f39851998ef6b9a66a2",
       "version_major": 2,
       "version_minor": 0
      },
      "text/plain": [
       "Batches:   0%|          | 0/1 [00:00<?, ?it/s]"
      ]
     },
     "metadata": {},
     "output_type": "display_data"
    },
    {
     "data": {
      "application/vnd.jupyter.widget-view+json": {
       "model_id": "6a7a1757eb6648e48ff47e39622df3cc",
       "version_major": 2,
       "version_minor": 0
      },
      "text/plain": [
       "Batches:   0%|          | 0/1 [00:00<?, ?it/s]"
      ]
     },
     "metadata": {},
     "output_type": "display_data"
    },
    {
     "data": {
      "application/vnd.jupyter.widget-view+json": {
       "model_id": "b2266fde5ace45ee8f3879228d76addc",
       "version_major": 2,
       "version_minor": 0
      },
      "text/plain": [
       "Batches:   0%|          | 0/1 [00:00<?, ?it/s]"
      ]
     },
     "metadata": {},
     "output_type": "display_data"
    },
    {
     "data": {
      "application/vnd.jupyter.widget-view+json": {
       "model_id": "7fb83cba788844b4bb7ad0127286dd04",
       "version_major": 2,
       "version_minor": 0
      },
      "text/plain": [
       "Batches:   0%|          | 0/1 [00:00<?, ?it/s]"
      ]
     },
     "metadata": {},
     "output_type": "display_data"
    },
    {
     "data": {
      "application/vnd.jupyter.widget-view+json": {
       "model_id": "1127125d841d48588a9baa25cfd88159",
       "version_major": 2,
       "version_minor": 0
      },
      "text/plain": [
       "Batches:   0%|          | 0/1 [00:00<?, ?it/s]"
      ]
     },
     "metadata": {},
     "output_type": "display_data"
    },
    {
     "data": {
      "application/vnd.jupyter.widget-view+json": {
       "model_id": "34713820a2be449b919dff95277a6481",
       "version_major": 2,
       "version_minor": 0
      },
      "text/plain": [
       "Batches:   0%|          | 0/1 [00:00<?, ?it/s]"
      ]
     },
     "metadata": {},
     "output_type": "display_data"
    },
    {
     "data": {
      "application/vnd.jupyter.widget-view+json": {
       "model_id": "9ac4aac42da8473f8cd3d401f9ea4143",
       "version_major": 2,
       "version_minor": 0
      },
      "text/plain": [
       "Batches:   0%|          | 0/1 [00:00<?, ?it/s]"
      ]
     },
     "metadata": {},
     "output_type": "display_data"
    },
    {
     "data": {
      "application/vnd.jupyter.widget-view+json": {
       "model_id": "44440b7d05d34e6b8ca8a9a59aab4fbf",
       "version_major": 2,
       "version_minor": 0
      },
      "text/plain": [
       "Batches:   0%|          | 0/1 [00:00<?, ?it/s]"
      ]
     },
     "metadata": {},
     "output_type": "display_data"
    },
    {
     "data": {
      "application/vnd.jupyter.widget-view+json": {
       "model_id": "f3f6a936aa7b48219d2f61f0a520be89",
       "version_major": 2,
       "version_minor": 0
      },
      "text/plain": [
       "Batches:   0%|          | 0/1 [00:00<?, ?it/s]"
      ]
     },
     "metadata": {},
     "output_type": "display_data"
    },
    {
     "data": {
      "application/vnd.jupyter.widget-view+json": {
       "model_id": "22742853759a47cb8223e16f66911db8",
       "version_major": 2,
       "version_minor": 0
      },
      "text/plain": [
       "Batches:   0%|          | 0/1 [00:00<?, ?it/s]"
      ]
     },
     "metadata": {},
     "output_type": "display_data"
    },
    {
     "data": {
      "application/vnd.jupyter.widget-view+json": {
       "model_id": "5be6036f6205492b9051388b4532fece",
       "version_major": 2,
       "version_minor": 0
      },
      "text/plain": [
       "Batches:   0%|          | 0/1 [00:00<?, ?it/s]"
      ]
     },
     "metadata": {},
     "output_type": "display_data"
    },
    {
     "data": {
      "application/vnd.jupyter.widget-view+json": {
       "model_id": "fadbbd56b0f94c9489118a7ce441c425",
       "version_major": 2,
       "version_minor": 0
      },
      "text/plain": [
       "Batches:   0%|          | 0/1 [00:00<?, ?it/s]"
      ]
     },
     "metadata": {},
     "output_type": "display_data"
    },
    {
     "data": {
      "application/vnd.jupyter.widget-view+json": {
       "model_id": "070b0000aeec467290ed10af19110048",
       "version_major": 2,
       "version_minor": 0
      },
      "text/plain": [
       "Batches:   0%|          | 0/1 [00:00<?, ?it/s]"
      ]
     },
     "metadata": {},
     "output_type": "display_data"
    },
    {
     "data": {
      "application/vnd.jupyter.widget-view+json": {
       "model_id": "4c8da20bf3ea407ea1c6a9bfb345413a",
       "version_major": 2,
       "version_minor": 0
      },
      "text/plain": [
       "Batches:   0%|          | 0/1 [00:00<?, ?it/s]"
      ]
     },
     "metadata": {},
     "output_type": "display_data"
    },
    {
     "data": {
      "application/vnd.jupyter.widget-view+json": {
       "model_id": "4fdc172cb0a645b693f5c3b29027bf1f",
       "version_major": 2,
       "version_minor": 0
      },
      "text/plain": [
       "Batches:   0%|          | 0/1 [00:00<?, ?it/s]"
      ]
     },
     "metadata": {},
     "output_type": "display_data"
    },
    {
     "data": {
      "application/vnd.jupyter.widget-view+json": {
       "model_id": "b47997af49bb48009959d2464b67ecfd",
       "version_major": 2,
       "version_minor": 0
      },
      "text/plain": [
       "Batches:   0%|          | 0/1 [00:00<?, ?it/s]"
      ]
     },
     "metadata": {},
     "output_type": "display_data"
    },
    {
     "data": {
      "application/vnd.jupyter.widget-view+json": {
       "model_id": "7fa61497b1024df48b616dd239a021f7",
       "version_major": 2,
       "version_minor": 0
      },
      "text/plain": [
       "Batches:   0%|          | 0/1 [00:00<?, ?it/s]"
      ]
     },
     "metadata": {},
     "output_type": "display_data"
    },
    {
     "data": {
      "application/vnd.jupyter.widget-view+json": {
       "model_id": "dfdc514faa86416b99a70533f3f73311",
       "version_major": 2,
       "version_minor": 0
      },
      "text/plain": [
       "Batches:   0%|          | 0/1 [00:00<?, ?it/s]"
      ]
     },
     "metadata": {},
     "output_type": "display_data"
    },
    {
     "data": {
      "application/vnd.jupyter.widget-view+json": {
       "model_id": "a1ab855b6a224c899d185ea3a84137e8",
       "version_major": 2,
       "version_minor": 0
      },
      "text/plain": [
       "Batches:   0%|          | 0/1 [00:00<?, ?it/s]"
      ]
     },
     "metadata": {},
     "output_type": "display_data"
    },
    {
     "data": {
      "application/vnd.jupyter.widget-view+json": {
       "model_id": "c205c522548640bcb61307596ad62067",
       "version_major": 2,
       "version_minor": 0
      },
      "text/plain": [
       "Batches:   0%|          | 0/1 [00:00<?, ?it/s]"
      ]
     },
     "metadata": {},
     "output_type": "display_data"
    },
    {
     "data": {
      "application/vnd.jupyter.widget-view+json": {
       "model_id": "d25fcb8624ce46269ba6fe7bb8a98ff3",
       "version_major": 2,
       "version_minor": 0
      },
      "text/plain": [
       "Batches:   0%|          | 0/1 [00:00<?, ?it/s]"
      ]
     },
     "metadata": {},
     "output_type": "display_data"
    },
    {
     "data": {
      "application/vnd.jupyter.widget-view+json": {
       "model_id": "21f1b8cced104c54b993215fe05987d6",
       "version_major": 2,
       "version_minor": 0
      },
      "text/plain": [
       "Batches:   0%|          | 0/1 [00:00<?, ?it/s]"
      ]
     },
     "metadata": {},
     "output_type": "display_data"
    },
    {
     "data": {
      "application/vnd.jupyter.widget-view+json": {
       "model_id": "bf487f4fa188455f9b53fb135bb5f566",
       "version_major": 2,
       "version_minor": 0
      },
      "text/plain": [
       "Batches:   0%|          | 0/1 [00:00<?, ?it/s]"
      ]
     },
     "metadata": {},
     "output_type": "display_data"
    },
    {
     "data": {
      "application/vnd.jupyter.widget-view+json": {
       "model_id": "b98428833afe4c159f4e4c9d334da6dd",
       "version_major": 2,
       "version_minor": 0
      },
      "text/plain": [
       "Batches:   0%|          | 0/1 [00:00<?, ?it/s]"
      ]
     },
     "metadata": {},
     "output_type": "display_data"
    },
    {
     "data": {
      "application/vnd.jupyter.widget-view+json": {
       "model_id": "53343e2c82034913b3110b2fb84fa555",
       "version_major": 2,
       "version_minor": 0
      },
      "text/plain": [
       "Batches:   0%|          | 0/1 [00:00<?, ?it/s]"
      ]
     },
     "metadata": {},
     "output_type": "display_data"
    },
    {
     "data": {
      "application/vnd.jupyter.widget-view+json": {
       "model_id": "2575e859cd924d7d997d4d27f4438789",
       "version_major": 2,
       "version_minor": 0
      },
      "text/plain": [
       "Batches:   0%|          | 0/1 [00:00<?, ?it/s]"
      ]
     },
     "metadata": {},
     "output_type": "display_data"
    },
    {
     "data": {
      "application/vnd.jupyter.widget-view+json": {
       "model_id": "e6be8b4487c842bdaea2d3fadfd891b9",
       "version_major": 2,
       "version_minor": 0
      },
      "text/plain": [
       "Batches:   0%|          | 0/1 [00:00<?, ?it/s]"
      ]
     },
     "metadata": {},
     "output_type": "display_data"
    },
    {
     "data": {
      "application/vnd.jupyter.widget-view+json": {
       "model_id": "e5d3e9159d644b66bcd34c5cf496ff2d",
       "version_major": 2,
       "version_minor": 0
      },
      "text/plain": [
       "Batches:   0%|          | 0/1 [00:00<?, ?it/s]"
      ]
     },
     "metadata": {},
     "output_type": "display_data"
    },
    {
     "data": {
      "application/vnd.jupyter.widget-view+json": {
       "model_id": "a973c3becabb453cbc469034cae4850f",
       "version_major": 2,
       "version_minor": 0
      },
      "text/plain": [
       "Batches:   0%|          | 0/1 [00:00<?, ?it/s]"
      ]
     },
     "metadata": {},
     "output_type": "display_data"
    },
    {
     "data": {
      "application/vnd.jupyter.widget-view+json": {
       "model_id": "79fadc6bf967404bac5f191f6abeb2f0",
       "version_major": 2,
       "version_minor": 0
      },
      "text/plain": [
       "Batches:   0%|          | 0/1 [00:00<?, ?it/s]"
      ]
     },
     "metadata": {},
     "output_type": "display_data"
    },
    {
     "data": {
      "application/vnd.jupyter.widget-view+json": {
       "model_id": "c113d78fe2fa4204a531170101f4a909",
       "version_major": 2,
       "version_minor": 0
      },
      "text/plain": [
       "Batches:   0%|          | 0/1 [00:00<?, ?it/s]"
      ]
     },
     "metadata": {},
     "output_type": "display_data"
    },
    {
     "data": {
      "application/vnd.jupyter.widget-view+json": {
       "model_id": "57e36e4fd0f741e79125a58e7328772f",
       "version_major": 2,
       "version_minor": 0
      },
      "text/plain": [
       "Batches:   0%|          | 0/1 [00:00<?, ?it/s]"
      ]
     },
     "metadata": {},
     "output_type": "display_data"
    },
    {
     "data": {
      "application/vnd.jupyter.widget-view+json": {
       "model_id": "0a2addfcb1dc48069b53e2372cb4811a",
       "version_major": 2,
       "version_minor": 0
      },
      "text/plain": [
       "Batches:   0%|          | 0/1 [00:00<?, ?it/s]"
      ]
     },
     "metadata": {},
     "output_type": "display_data"
    },
    {
     "data": {
      "application/vnd.jupyter.widget-view+json": {
       "model_id": "cc7850708d244436908a8825786c7875",
       "version_major": 2,
       "version_minor": 0
      },
      "text/plain": [
       "Batches:   0%|          | 0/1 [00:00<?, ?it/s]"
      ]
     },
     "metadata": {},
     "output_type": "display_data"
    },
    {
     "data": {
      "application/vnd.jupyter.widget-view+json": {
       "model_id": "7d87130f72264451989a02c3ae3fb404",
       "version_major": 2,
       "version_minor": 0
      },
      "text/plain": [
       "Batches:   0%|          | 0/1 [00:00<?, ?it/s]"
      ]
     },
     "metadata": {},
     "output_type": "display_data"
    },
    {
     "data": {
      "application/vnd.jupyter.widget-view+json": {
       "model_id": "1a84a520a0594dc89487683721a2f15b",
       "version_major": 2,
       "version_minor": 0
      },
      "text/plain": [
       "Batches:   0%|          | 0/1 [00:00<?, ?it/s]"
      ]
     },
     "metadata": {},
     "output_type": "display_data"
    },
    {
     "data": {
      "application/vnd.jupyter.widget-view+json": {
       "model_id": "1d661fbe5068458abb390a69c49be76c",
       "version_major": 2,
       "version_minor": 0
      },
      "text/plain": [
       "Batches:   0%|          | 0/1 [00:00<?, ?it/s]"
      ]
     },
     "metadata": {},
     "output_type": "display_data"
    },
    {
     "data": {
      "application/vnd.jupyter.widget-view+json": {
       "model_id": "7b7aeca06b8540519b29b47f0fb36197",
       "version_major": 2,
       "version_minor": 0
      },
      "text/plain": [
       "Batches:   0%|          | 0/1 [00:00<?, ?it/s]"
      ]
     },
     "metadata": {},
     "output_type": "display_data"
    },
    {
     "data": {
      "application/vnd.jupyter.widget-view+json": {
       "model_id": "09c45129d41449a7a8fcb056136d833e",
       "version_major": 2,
       "version_minor": 0
      },
      "text/plain": [
       "Batches:   0%|          | 0/1 [00:00<?, ?it/s]"
      ]
     },
     "metadata": {},
     "output_type": "display_data"
    },
    {
     "data": {
      "application/vnd.jupyter.widget-view+json": {
       "model_id": "f0eefdc48ddc47d3a38c29dc91a8b586",
       "version_major": 2,
       "version_minor": 0
      },
      "text/plain": [
       "Batches:   0%|          | 0/1 [00:00<?, ?it/s]"
      ]
     },
     "metadata": {},
     "output_type": "display_data"
    },
    {
     "data": {
      "application/vnd.jupyter.widget-view+json": {
       "model_id": "ac091074823b4f6682b3210aab642f49",
       "version_major": 2,
       "version_minor": 0
      },
      "text/plain": [
       "Batches:   0%|          | 0/1 [00:00<?, ?it/s]"
      ]
     },
     "metadata": {},
     "output_type": "display_data"
    },
    {
     "data": {
      "application/vnd.jupyter.widget-view+json": {
       "model_id": "ca424f677b17465185d098d5f6629bfd",
       "version_major": 2,
       "version_minor": 0
      },
      "text/plain": [
       "Batches:   0%|          | 0/1 [00:00<?, ?it/s]"
      ]
     },
     "metadata": {},
     "output_type": "display_data"
    },
    {
     "data": {
      "application/vnd.jupyter.widget-view+json": {
       "model_id": "d243f121a47a4e34bfbe81ae2b5dabab",
       "version_major": 2,
       "version_minor": 0
      },
      "text/plain": [
       "Batches:   0%|          | 0/1 [00:00<?, ?it/s]"
      ]
     },
     "metadata": {},
     "output_type": "display_data"
    },
    {
     "data": {
      "application/vnd.jupyter.widget-view+json": {
       "model_id": "481f91eb511d4c4fbdcda49aa1e4e819",
       "version_major": 2,
       "version_minor": 0
      },
      "text/plain": [
       "Batches:   0%|          | 0/1 [00:00<?, ?it/s]"
      ]
     },
     "metadata": {},
     "output_type": "display_data"
    },
    {
     "data": {
      "application/vnd.jupyter.widget-view+json": {
       "model_id": "2384201491844a70b22ca487b73aea5d",
       "version_major": 2,
       "version_minor": 0
      },
      "text/plain": [
       "Batches:   0%|          | 0/1 [00:00<?, ?it/s]"
      ]
     },
     "metadata": {},
     "output_type": "display_data"
    },
    {
     "data": {
      "application/vnd.jupyter.widget-view+json": {
       "model_id": "e4925215d6f74af690df152f03be1f62",
       "version_major": 2,
       "version_minor": 0
      },
      "text/plain": [
       "Batches:   0%|          | 0/1 [00:00<?, ?it/s]"
      ]
     },
     "metadata": {},
     "output_type": "display_data"
    },
    {
     "data": {
      "application/vnd.jupyter.widget-view+json": {
       "model_id": "0122ef64230243f09bdd11734b220b6c",
       "version_major": 2,
       "version_minor": 0
      },
      "text/plain": [
       "Batches:   0%|          | 0/1 [00:00<?, ?it/s]"
      ]
     },
     "metadata": {},
     "output_type": "display_data"
    },
    {
     "data": {
      "application/vnd.jupyter.widget-view+json": {
       "model_id": "5d16fbb8955643d49757085497eb045c",
       "version_major": 2,
       "version_minor": 0
      },
      "text/plain": [
       "Batches:   0%|          | 0/1 [00:00<?, ?it/s]"
      ]
     },
     "metadata": {},
     "output_type": "display_data"
    },
    {
     "data": {
      "application/vnd.jupyter.widget-view+json": {
       "model_id": "af4ab50a1b1349c295c3304ea65a3702",
       "version_major": 2,
       "version_minor": 0
      },
      "text/plain": [
       "Batches:   0%|          | 0/1 [00:00<?, ?it/s]"
      ]
     },
     "metadata": {},
     "output_type": "display_data"
    },
    {
     "data": {
      "application/vnd.jupyter.widget-view+json": {
       "model_id": "c3af2d6c2e16495aa712ba3882c099b0",
       "version_major": 2,
       "version_minor": 0
      },
      "text/plain": [
       "Batches:   0%|          | 0/1 [00:00<?, ?it/s]"
      ]
     },
     "metadata": {},
     "output_type": "display_data"
    },
    {
     "data": {
      "application/vnd.jupyter.widget-view+json": {
       "model_id": "634a7bcebe134fbfb4d36b91f82ca65c",
       "version_major": 2,
       "version_minor": 0
      },
      "text/plain": [
       "Batches:   0%|          | 0/1 [00:00<?, ?it/s]"
      ]
     },
     "metadata": {},
     "output_type": "display_data"
    },
    {
     "data": {
      "application/vnd.jupyter.widget-view+json": {
       "model_id": "3bb737b7ead841d48686bcd3c96b8aa1",
       "version_major": 2,
       "version_minor": 0
      },
      "text/plain": [
       "Batches:   0%|          | 0/1 [00:00<?, ?it/s]"
      ]
     },
     "metadata": {},
     "output_type": "display_data"
    },
    {
     "data": {
      "application/vnd.jupyter.widget-view+json": {
       "model_id": "ecc4ed3a39c740859ccdac1dc7d60405",
       "version_major": 2,
       "version_minor": 0
      },
      "text/plain": [
       "Batches:   0%|          | 0/1 [00:00<?, ?it/s]"
      ]
     },
     "metadata": {},
     "output_type": "display_data"
    },
    {
     "data": {
      "application/vnd.jupyter.widget-view+json": {
       "model_id": "c0ff3513314646948a2003528303c8fc",
       "version_major": 2,
       "version_minor": 0
      },
      "text/plain": [
       "Batches:   0%|          | 0/1 [00:00<?, ?it/s]"
      ]
     },
     "metadata": {},
     "output_type": "display_data"
    },
    {
     "data": {
      "application/vnd.jupyter.widget-view+json": {
       "model_id": "b660df5d999d442184113112c55f86ff",
       "version_major": 2,
       "version_minor": 0
      },
      "text/plain": [
       "Batches:   0%|          | 0/1 [00:00<?, ?it/s]"
      ]
     },
     "metadata": {},
     "output_type": "display_data"
    },
    {
     "data": {
      "application/vnd.jupyter.widget-view+json": {
       "model_id": "eed804508dd94e94a3466f88780a0fd9",
       "version_major": 2,
       "version_minor": 0
      },
      "text/plain": [
       "Batches:   0%|          | 0/1 [00:00<?, ?it/s]"
      ]
     },
     "metadata": {},
     "output_type": "display_data"
    },
    {
     "data": {
      "application/vnd.jupyter.widget-view+json": {
       "model_id": "5ec00235b5e842fc8ea39e8bc9de44cb",
       "version_major": 2,
       "version_minor": 0
      },
      "text/plain": [
       "Batches:   0%|          | 0/1 [00:00<?, ?it/s]"
      ]
     },
     "metadata": {},
     "output_type": "display_data"
    },
    {
     "data": {
      "application/vnd.jupyter.widget-view+json": {
       "model_id": "9d49ae6d40524c679f79c78be7426407",
       "version_major": 2,
       "version_minor": 0
      },
      "text/plain": [
       "Batches:   0%|          | 0/1 [00:00<?, ?it/s]"
      ]
     },
     "metadata": {},
     "output_type": "display_data"
    },
    {
     "data": {
      "application/vnd.jupyter.widget-view+json": {
       "model_id": "23dcfdfb56934aa3821892c2de88b57e",
       "version_major": 2,
       "version_minor": 0
      },
      "text/plain": [
       "Batches:   0%|          | 0/1 [00:00<?, ?it/s]"
      ]
     },
     "metadata": {},
     "output_type": "display_data"
    },
    {
     "data": {
      "application/vnd.jupyter.widget-view+json": {
       "model_id": "43dc8b6f0e6641ac82a34ff89293a6f9",
       "version_major": 2,
       "version_minor": 0
      },
      "text/plain": [
       "Batches:   0%|          | 0/1 [00:00<?, ?it/s]"
      ]
     },
     "metadata": {},
     "output_type": "display_data"
    },
    {
     "data": {
      "application/vnd.jupyter.widget-view+json": {
       "model_id": "cac5b1f4b1874606a593ee17d12e3f05",
       "version_major": 2,
       "version_minor": 0
      },
      "text/plain": [
       "Batches:   0%|          | 0/1 [00:00<?, ?it/s]"
      ]
     },
     "metadata": {},
     "output_type": "display_data"
    },
    {
     "data": {
      "application/vnd.jupyter.widget-view+json": {
       "model_id": "b4cf5f845fdf4540a0e3f5339624ca95",
       "version_major": 2,
       "version_minor": 0
      },
      "text/plain": [
       "Batches:   0%|          | 0/1 [00:00<?, ?it/s]"
      ]
     },
     "metadata": {},
     "output_type": "display_data"
    },
    {
     "data": {
      "application/vnd.jupyter.widget-view+json": {
       "model_id": "db43d2aadedf481894817ae9848f94f7",
       "version_major": 2,
       "version_minor": 0
      },
      "text/plain": [
       "Batches:   0%|          | 0/1 [00:00<?, ?it/s]"
      ]
     },
     "metadata": {},
     "output_type": "display_data"
    },
    {
     "data": {
      "application/vnd.jupyter.widget-view+json": {
       "model_id": "8a538c26fb6940cba232d4a15b47435c",
       "version_major": 2,
       "version_minor": 0
      },
      "text/plain": [
       "Batches:   0%|          | 0/1 [00:00<?, ?it/s]"
      ]
     },
     "metadata": {},
     "output_type": "display_data"
    },
    {
     "data": {
      "application/vnd.jupyter.widget-view+json": {
       "model_id": "6dca5e96014f47d7b2a6f4a46a84951e",
       "version_major": 2,
       "version_minor": 0
      },
      "text/plain": [
       "Batches:   0%|          | 0/1 [00:00<?, ?it/s]"
      ]
     },
     "metadata": {},
     "output_type": "display_data"
    },
    {
     "data": {
      "application/vnd.jupyter.widget-view+json": {
       "model_id": "8c507adcbce04fabaebd2933f52cd658",
       "version_major": 2,
       "version_minor": 0
      },
      "text/plain": [
       "Batches:   0%|          | 0/1 [00:00<?, ?it/s]"
      ]
     },
     "metadata": {},
     "output_type": "display_data"
    },
    {
     "data": {
      "application/vnd.jupyter.widget-view+json": {
       "model_id": "b9c5dc1c010c4723b3334fa891d18db9",
       "version_major": 2,
       "version_minor": 0
      },
      "text/plain": [
       "Batches:   0%|          | 0/1 [00:00<?, ?it/s]"
      ]
     },
     "metadata": {},
     "output_type": "display_data"
    },
    {
     "data": {
      "application/vnd.jupyter.widget-view+json": {
       "model_id": "81eee33e45cb473686af2d2e16e49a7d",
       "version_major": 2,
       "version_minor": 0
      },
      "text/plain": [
       "Batches:   0%|          | 0/1 [00:00<?, ?it/s]"
      ]
     },
     "metadata": {},
     "output_type": "display_data"
    },
    {
     "data": {
      "application/vnd.jupyter.widget-view+json": {
       "model_id": "0cb0daf81cdc4c4fb14f804985d7a8fe",
       "version_major": 2,
       "version_minor": 0
      },
      "text/plain": [
       "Batches:   0%|          | 0/1 [00:00<?, ?it/s]"
      ]
     },
     "metadata": {},
     "output_type": "display_data"
    },
    {
     "data": {
      "application/vnd.jupyter.widget-view+json": {
       "model_id": "ff6305a388d64ada97e062ee55c45b5d",
       "version_major": 2,
       "version_minor": 0
      },
      "text/plain": [
       "Batches:   0%|          | 0/1 [00:00<?, ?it/s]"
      ]
     },
     "metadata": {},
     "output_type": "display_data"
    },
    {
     "data": {
      "application/vnd.jupyter.widget-view+json": {
       "model_id": "05367be1e4a144c59cc33d1dbc750e80",
       "version_major": 2,
       "version_minor": 0
      },
      "text/plain": [
       "Batches:   0%|          | 0/1 [00:00<?, ?it/s]"
      ]
     },
     "metadata": {},
     "output_type": "display_data"
    },
    {
     "data": {
      "application/vnd.jupyter.widget-view+json": {
       "model_id": "e93a655796844f8d920b6b423b6a530c",
       "version_major": 2,
       "version_minor": 0
      },
      "text/plain": [
       "Batches:   0%|          | 0/1 [00:00<?, ?it/s]"
      ]
     },
     "metadata": {},
     "output_type": "display_data"
    },
    {
     "data": {
      "application/vnd.jupyter.widget-view+json": {
       "model_id": "ba61c3012bac4545a295d3b39e16b29a",
       "version_major": 2,
       "version_minor": 0
      },
      "text/plain": [
       "Batches:   0%|          | 0/1 [00:00<?, ?it/s]"
      ]
     },
     "metadata": {},
     "output_type": "display_data"
    },
    {
     "data": {
      "application/vnd.jupyter.widget-view+json": {
       "model_id": "7dea46d7c6664b8fbe61e8f13e1e9397",
       "version_major": 2,
       "version_minor": 0
      },
      "text/plain": [
       "Batches:   0%|          | 0/1 [00:00<?, ?it/s]"
      ]
     },
     "metadata": {},
     "output_type": "display_data"
    },
    {
     "data": {
      "application/vnd.jupyter.widget-view+json": {
       "model_id": "75d30cd38df14adf9c8bcea52b1f4e9c",
       "version_major": 2,
       "version_minor": 0
      },
      "text/plain": [
       "Batches:   0%|          | 0/1 [00:00<?, ?it/s]"
      ]
     },
     "metadata": {},
     "output_type": "display_data"
    },
    {
     "data": {
      "application/vnd.jupyter.widget-view+json": {
       "model_id": "1bfb90dc8671416397571231e998f85b",
       "version_major": 2,
       "version_minor": 0
      },
      "text/plain": [
       "Batches:   0%|          | 0/1 [00:00<?, ?it/s]"
      ]
     },
     "metadata": {},
     "output_type": "display_data"
    },
    {
     "data": {
      "application/vnd.jupyter.widget-view+json": {
       "model_id": "e044a4cf95fb4b62b3d90b962914b26e",
       "version_major": 2,
       "version_minor": 0
      },
      "text/plain": [
       "Batches:   0%|          | 0/1 [00:00<?, ?it/s]"
      ]
     },
     "metadata": {},
     "output_type": "display_data"
    },
    {
     "data": {
      "application/vnd.jupyter.widget-view+json": {
       "model_id": "4622e2b540ac48438c6e4bbef74ff6d7",
       "version_major": 2,
       "version_minor": 0
      },
      "text/plain": [
       "Batches:   0%|          | 0/1 [00:00<?, ?it/s]"
      ]
     },
     "metadata": {},
     "output_type": "display_data"
    },
    {
     "data": {
      "application/vnd.jupyter.widget-view+json": {
       "model_id": "a3eb7318b2014ba38b8c64cee29ff776",
       "version_major": 2,
       "version_minor": 0
      },
      "text/plain": [
       "Batches:   0%|          | 0/1 [00:00<?, ?it/s]"
      ]
     },
     "metadata": {},
     "output_type": "display_data"
    },
    {
     "data": {
      "application/vnd.jupyter.widget-view+json": {
       "model_id": "ab71c32cede84a8a91f3c5e93adb7e6d",
       "version_major": 2,
       "version_minor": 0
      },
      "text/plain": [
       "Batches:   0%|          | 0/1 [00:00<?, ?it/s]"
      ]
     },
     "metadata": {},
     "output_type": "display_data"
    },
    {
     "data": {
      "application/vnd.jupyter.widget-view+json": {
       "model_id": "f5452089afb04bf8a456b1a340c9b213",
       "version_major": 2,
       "version_minor": 0
      },
      "text/plain": [
       "Batches:   0%|          | 0/1 [00:00<?, ?it/s]"
      ]
     },
     "metadata": {},
     "output_type": "display_data"
    },
    {
     "data": {
      "application/vnd.jupyter.widget-view+json": {
       "model_id": "aef55014028c4f5ca3d29a7282d56890",
       "version_major": 2,
       "version_minor": 0
      },
      "text/plain": [
       "Batches:   0%|          | 0/1 [00:00<?, ?it/s]"
      ]
     },
     "metadata": {},
     "output_type": "display_data"
    },
    {
     "data": {
      "application/vnd.jupyter.widget-view+json": {
       "model_id": "d29427835d934b49b63811ea89d2286e",
       "version_major": 2,
       "version_minor": 0
      },
      "text/plain": [
       "Batches:   0%|          | 0/1 [00:00<?, ?it/s]"
      ]
     },
     "metadata": {},
     "output_type": "display_data"
    },
    {
     "data": {
      "application/vnd.jupyter.widget-view+json": {
       "model_id": "0141cd6b507442e0bfb0da8fe294555c",
       "version_major": 2,
       "version_minor": 0
      },
      "text/plain": [
       "Batches:   0%|          | 0/1 [00:00<?, ?it/s]"
      ]
     },
     "metadata": {},
     "output_type": "display_data"
    },
    {
     "data": {
      "application/vnd.jupyter.widget-view+json": {
       "model_id": "52c764bbbace49c68ae1949c763f451b",
       "version_major": 2,
       "version_minor": 0
      },
      "text/plain": [
       "Batches:   0%|          | 0/1 [00:00<?, ?it/s]"
      ]
     },
     "metadata": {},
     "output_type": "display_data"
    },
    {
     "data": {
      "application/vnd.jupyter.widget-view+json": {
       "model_id": "049ba09c652b4572959c92f45077c032",
       "version_major": 2,
       "version_minor": 0
      },
      "text/plain": [
       "Batches:   0%|          | 0/1 [00:00<?, ?it/s]"
      ]
     },
     "metadata": {},
     "output_type": "display_data"
    },
    {
     "data": {
      "application/vnd.jupyter.widget-view+json": {
       "model_id": "a019c379879f403e9a09f037665a2fd0",
       "version_major": 2,
       "version_minor": 0
      },
      "text/plain": [
       "Batches:   0%|          | 0/1 [00:00<?, ?it/s]"
      ]
     },
     "metadata": {},
     "output_type": "display_data"
    },
    {
     "data": {
      "application/vnd.jupyter.widget-view+json": {
       "model_id": "e2f35af917624067a0042cd9e5d8a92f",
       "version_major": 2,
       "version_minor": 0
      },
      "text/plain": [
       "Batches:   0%|          | 0/1 [00:00<?, ?it/s]"
      ]
     },
     "metadata": {},
     "output_type": "display_data"
    },
    {
     "data": {
      "application/vnd.jupyter.widget-view+json": {
       "model_id": "7f3c49336e114c18b8613bdd8c4a3e80",
       "version_major": 2,
       "version_minor": 0
      },
      "text/plain": [
       "Batches:   0%|          | 0/1 [00:00<?, ?it/s]"
      ]
     },
     "metadata": {},
     "output_type": "display_data"
    },
    {
     "data": {
      "application/vnd.jupyter.widget-view+json": {
       "model_id": "93aa5046bd7e48fc8932e82f679fabf5",
       "version_major": 2,
       "version_minor": 0
      },
      "text/plain": [
       "Batches:   0%|          | 0/1 [00:00<?, ?it/s]"
      ]
     },
     "metadata": {},
     "output_type": "display_data"
    },
    {
     "data": {
      "application/vnd.jupyter.widget-view+json": {
       "model_id": "87b84724a6464e0db5ab3be1e99ff221",
       "version_major": 2,
       "version_minor": 0
      },
      "text/plain": [
       "Batches:   0%|          | 0/1 [00:00<?, ?it/s]"
      ]
     },
     "metadata": {},
     "output_type": "display_data"
    },
    {
     "data": {
      "application/vnd.jupyter.widget-view+json": {
       "model_id": "b68079cfcd404ca9903f5bd73a9c3b14",
       "version_major": 2,
       "version_minor": 0
      },
      "text/plain": [
       "Batches:   0%|          | 0/1 [00:00<?, ?it/s]"
      ]
     },
     "metadata": {},
     "output_type": "display_data"
    },
    {
     "data": {
      "application/vnd.jupyter.widget-view+json": {
       "model_id": "ad4a3b36a0794763b5cd2dda6fe4351a",
       "version_major": 2,
       "version_minor": 0
      },
      "text/plain": [
       "Batches:   0%|          | 0/1 [00:00<?, ?it/s]"
      ]
     },
     "metadata": {},
     "output_type": "display_data"
    },
    {
     "data": {
      "application/vnd.jupyter.widget-view+json": {
       "model_id": "8cccdbe319394b26ae7945cb8bc99d7b",
       "version_major": 2,
       "version_minor": 0
      },
      "text/plain": [
       "Batches:   0%|          | 0/1 [00:00<?, ?it/s]"
      ]
     },
     "metadata": {},
     "output_type": "display_data"
    },
    {
     "data": {
      "application/vnd.jupyter.widget-view+json": {
       "model_id": "84e2b5771c8f439aa69b9802616eb0e6",
       "version_major": 2,
       "version_minor": 0
      },
      "text/plain": [
       "Batches:   0%|          | 0/1 [00:00<?, ?it/s]"
      ]
     },
     "metadata": {},
     "output_type": "display_data"
    },
    {
     "data": {
      "application/vnd.jupyter.widget-view+json": {
       "model_id": "84ba390278dd40cbad257583c6446d4f",
       "version_major": 2,
       "version_minor": 0
      },
      "text/plain": [
       "Batches:   0%|          | 0/1 [00:00<?, ?it/s]"
      ]
     },
     "metadata": {},
     "output_type": "display_data"
    },
    {
     "data": {
      "application/vnd.jupyter.widget-view+json": {
       "model_id": "7e568b1d30d44efe86256028cd7c4370",
       "version_major": 2,
       "version_minor": 0
      },
      "text/plain": [
       "Batches:   0%|          | 0/1 [00:00<?, ?it/s]"
      ]
     },
     "metadata": {},
     "output_type": "display_data"
    },
    {
     "data": {
      "application/vnd.jupyter.widget-view+json": {
       "model_id": "48819af3a0e74bb3a90d6f18a764dc8b",
       "version_major": 2,
       "version_minor": 0
      },
      "text/plain": [
       "Batches:   0%|          | 0/1 [00:00<?, ?it/s]"
      ]
     },
     "metadata": {},
     "output_type": "display_data"
    },
    {
     "data": {
      "application/vnd.jupyter.widget-view+json": {
       "model_id": "3dca9963db0740878352d010d15db4c7",
       "version_major": 2,
       "version_minor": 0
      },
      "text/plain": [
       "Batches:   0%|          | 0/1 [00:00<?, ?it/s]"
      ]
     },
     "metadata": {},
     "output_type": "display_data"
    },
    {
     "data": {
      "application/vnd.jupyter.widget-view+json": {
       "model_id": "f52af124d073415e88b3b8ac1aef17ef",
       "version_major": 2,
       "version_minor": 0
      },
      "text/plain": [
       "Batches:   0%|          | 0/1 [00:00<?, ?it/s]"
      ]
     },
     "metadata": {},
     "output_type": "display_data"
    },
    {
     "data": {
      "application/vnd.jupyter.widget-view+json": {
       "model_id": "87a746946c3c45cdb972cc428eb002be",
       "version_major": 2,
       "version_minor": 0
      },
      "text/plain": [
       "Batches:   0%|          | 0/1 [00:00<?, ?it/s]"
      ]
     },
     "metadata": {},
     "output_type": "display_data"
    },
    {
     "data": {
      "application/vnd.jupyter.widget-view+json": {
       "model_id": "a6b46632f9d54f889421fa0fafaae155",
       "version_major": 2,
       "version_minor": 0
      },
      "text/plain": [
       "Batches:   0%|          | 0/1 [00:00<?, ?it/s]"
      ]
     },
     "metadata": {},
     "output_type": "display_data"
    },
    {
     "data": {
      "application/vnd.jupyter.widget-view+json": {
       "model_id": "5ce7c9719a994e3d9d2625dfcbcf142e",
       "version_major": 2,
       "version_minor": 0
      },
      "text/plain": [
       "Batches:   0%|          | 0/1 [00:00<?, ?it/s]"
      ]
     },
     "metadata": {},
     "output_type": "display_data"
    },
    {
     "data": {
      "application/vnd.jupyter.widget-view+json": {
       "model_id": "24cf10b8008c4647ab3b75a4bcc5932c",
       "version_major": 2,
       "version_minor": 0
      },
      "text/plain": [
       "Batches:   0%|          | 0/1 [00:00<?, ?it/s]"
      ]
     },
     "metadata": {},
     "output_type": "display_data"
    },
    {
     "data": {
      "application/vnd.jupyter.widget-view+json": {
       "model_id": "abb2a1b5bdee4ef4a19e0fad713abb8f",
       "version_major": 2,
       "version_minor": 0
      },
      "text/plain": [
       "Batches:   0%|          | 0/1 [00:00<?, ?it/s]"
      ]
     },
     "metadata": {},
     "output_type": "display_data"
    },
    {
     "data": {
      "application/vnd.jupyter.widget-view+json": {
       "model_id": "6bd5c70d50684a16a9072969aa9b8489",
       "version_major": 2,
       "version_minor": 0
      },
      "text/plain": [
       "Batches:   0%|          | 0/1 [00:00<?, ?it/s]"
      ]
     },
     "metadata": {},
     "output_type": "display_data"
    },
    {
     "data": {
      "application/vnd.jupyter.widget-view+json": {
       "model_id": "3e5487374b3d4fe6adfa40c36a579801",
       "version_major": 2,
       "version_minor": 0
      },
      "text/plain": [
       "Batches:   0%|          | 0/1 [00:00<?, ?it/s]"
      ]
     },
     "metadata": {},
     "output_type": "display_data"
    },
    {
     "data": {
      "application/vnd.jupyter.widget-view+json": {
       "model_id": "b3f560155cda4aa6a73c40adbe6f629f",
       "version_major": 2,
       "version_minor": 0
      },
      "text/plain": [
       "Batches:   0%|          | 0/1 [00:00<?, ?it/s]"
      ]
     },
     "metadata": {},
     "output_type": "display_data"
    },
    {
     "data": {
      "application/vnd.jupyter.widget-view+json": {
       "model_id": "7779402e22b24e7db2a5c16b5d42c3e1",
       "version_major": 2,
       "version_minor": 0
      },
      "text/plain": [
       "Batches:   0%|          | 0/1 [00:00<?, ?it/s]"
      ]
     },
     "metadata": {},
     "output_type": "display_data"
    },
    {
     "data": {
      "application/vnd.jupyter.widget-view+json": {
       "model_id": "785eb1b46448406587fab6d892ab51fb",
       "version_major": 2,
       "version_minor": 0
      },
      "text/plain": [
       "Batches:   0%|          | 0/1 [00:00<?, ?it/s]"
      ]
     },
     "metadata": {},
     "output_type": "display_data"
    },
    {
     "data": {
      "application/vnd.jupyter.widget-view+json": {
       "model_id": "cbf2be24bf3047dcbba021dec79d70d0",
       "version_major": 2,
       "version_minor": 0
      },
      "text/plain": [
       "Batches:   0%|          | 0/1 [00:00<?, ?it/s]"
      ]
     },
     "metadata": {},
     "output_type": "display_data"
    },
    {
     "data": {
      "application/vnd.jupyter.widget-view+json": {
       "model_id": "710eca4821774e64b39bd7ccd0529dac",
       "version_major": 2,
       "version_minor": 0
      },
      "text/plain": [
       "Batches:   0%|          | 0/1 [00:00<?, ?it/s]"
      ]
     },
     "metadata": {},
     "output_type": "display_data"
    },
    {
     "data": {
      "application/vnd.jupyter.widget-view+json": {
       "model_id": "f41d2686200c4b62a30a4e0ace6a0b79",
       "version_major": 2,
       "version_minor": 0
      },
      "text/plain": [
       "Batches:   0%|          | 0/1 [00:00<?, ?it/s]"
      ]
     },
     "metadata": {},
     "output_type": "display_data"
    },
    {
     "data": {
      "application/vnd.jupyter.widget-view+json": {
       "model_id": "56b0ea7b383e475bad37f9bc355a38f7",
       "version_major": 2,
       "version_minor": 0
      },
      "text/plain": [
       "Batches:   0%|          | 0/1 [00:00<?, ?it/s]"
      ]
     },
     "metadata": {},
     "output_type": "display_data"
    },
    {
     "data": {
      "application/vnd.jupyter.widget-view+json": {
       "model_id": "8864e9ac109c474aa3aefda34a1140e1",
       "version_major": 2,
       "version_minor": 0
      },
      "text/plain": [
       "Batches:   0%|          | 0/1 [00:00<?, ?it/s]"
      ]
     },
     "metadata": {},
     "output_type": "display_data"
    },
    {
     "data": {
      "application/vnd.jupyter.widget-view+json": {
       "model_id": "745488b3e8d54364abb7197e14505dc4",
       "version_major": 2,
       "version_minor": 0
      },
      "text/plain": [
       "Batches:   0%|          | 0/1 [00:00<?, ?it/s]"
      ]
     },
     "metadata": {},
     "output_type": "display_data"
    },
    {
     "data": {
      "application/vnd.jupyter.widget-view+json": {
       "model_id": "d91ef65ab6c444a8b055b489b03f26df",
       "version_major": 2,
       "version_minor": 0
      },
      "text/plain": [
       "Batches:   0%|          | 0/1 [00:00<?, ?it/s]"
      ]
     },
     "metadata": {},
     "output_type": "display_data"
    },
    {
     "data": {
      "application/vnd.jupyter.widget-view+json": {
       "model_id": "3b0d1a0d71794fa084e921ad17b6a358",
       "version_major": 2,
       "version_minor": 0
      },
      "text/plain": [
       "Batches:   0%|          | 0/1 [00:00<?, ?it/s]"
      ]
     },
     "metadata": {},
     "output_type": "display_data"
    },
    {
     "data": {
      "application/vnd.jupyter.widget-view+json": {
       "model_id": "29106726c20747419b13ee0e111b362a",
       "version_major": 2,
       "version_minor": 0
      },
      "text/plain": [
       "Batches:   0%|          | 0/1 [00:00<?, ?it/s]"
      ]
     },
     "metadata": {},
     "output_type": "display_data"
    },
    {
     "data": {
      "application/vnd.jupyter.widget-view+json": {
       "model_id": "62c009ecf62b4c37b3d8676cec14b36f",
       "version_major": 2,
       "version_minor": 0
      },
      "text/plain": [
       "Batches:   0%|          | 0/1 [00:00<?, ?it/s]"
      ]
     },
     "metadata": {},
     "output_type": "display_data"
    },
    {
     "data": {
      "application/vnd.jupyter.widget-view+json": {
       "model_id": "21bcbde13ea14e5b9b81d00823a9ef13",
       "version_major": 2,
       "version_minor": 0
      },
      "text/plain": [
       "Batches:   0%|          | 0/1 [00:00<?, ?it/s]"
      ]
     },
     "metadata": {},
     "output_type": "display_data"
    },
    {
     "data": {
      "application/vnd.jupyter.widget-view+json": {
       "model_id": "92be0100bd464f54bc66ace4d08b62bf",
       "version_major": 2,
       "version_minor": 0
      },
      "text/plain": [
       "Batches:   0%|          | 0/1 [00:00<?, ?it/s]"
      ]
     },
     "metadata": {},
     "output_type": "display_data"
    },
    {
     "data": {
      "application/vnd.jupyter.widget-view+json": {
       "model_id": "4186c925fc81433fafc632e814656ed2",
       "version_major": 2,
       "version_minor": 0
      },
      "text/plain": [
       "Batches:   0%|          | 0/1 [00:00<?, ?it/s]"
      ]
     },
     "metadata": {},
     "output_type": "display_data"
    },
    {
     "data": {
      "application/vnd.jupyter.widget-view+json": {
       "model_id": "9ae15321146d4bd8ab66d1424a29a391",
       "version_major": 2,
       "version_minor": 0
      },
      "text/plain": [
       "Batches:   0%|          | 0/1 [00:00<?, ?it/s]"
      ]
     },
     "metadata": {},
     "output_type": "display_data"
    },
    {
     "data": {
      "application/vnd.jupyter.widget-view+json": {
       "model_id": "95e1f8b1e3674cd39a790176468f8db1",
       "version_major": 2,
       "version_minor": 0
      },
      "text/plain": [
       "Batches:   0%|          | 0/1 [00:00<?, ?it/s]"
      ]
     },
     "metadata": {},
     "output_type": "display_data"
    },
    {
     "data": {
      "application/vnd.jupyter.widget-view+json": {
       "model_id": "5c6380a7fb5643648baf94edd6bee31a",
       "version_major": 2,
       "version_minor": 0
      },
      "text/plain": [
       "Batches:   0%|          | 0/1 [00:00<?, ?it/s]"
      ]
     },
     "metadata": {},
     "output_type": "display_data"
    },
    {
     "data": {
      "application/vnd.jupyter.widget-view+json": {
       "model_id": "cb0609957bb341a2b635dc532396a2cd",
       "version_major": 2,
       "version_minor": 0
      },
      "text/plain": [
       "Batches:   0%|          | 0/1 [00:00<?, ?it/s]"
      ]
     },
     "metadata": {},
     "output_type": "display_data"
    },
    {
     "data": {
      "application/vnd.jupyter.widget-view+json": {
       "model_id": "a80bf9f1508749b1b91ee0f133fbee0c",
       "version_major": 2,
       "version_minor": 0
      },
      "text/plain": [
       "Batches:   0%|          | 0/1 [00:00<?, ?it/s]"
      ]
     },
     "metadata": {},
     "output_type": "display_data"
    },
    {
     "data": {
      "application/vnd.jupyter.widget-view+json": {
       "model_id": "135a6531cbe24bba850adb0f20f06279",
       "version_major": 2,
       "version_minor": 0
      },
      "text/plain": [
       "Batches:   0%|          | 0/1 [00:00<?, ?it/s]"
      ]
     },
     "metadata": {},
     "output_type": "display_data"
    },
    {
     "data": {
      "application/vnd.jupyter.widget-view+json": {
       "model_id": "09003756b02c495fa8f16d1096cbd7a2",
       "version_major": 2,
       "version_minor": 0
      },
      "text/plain": [
       "Batches:   0%|          | 0/1 [00:00<?, ?it/s]"
      ]
     },
     "metadata": {},
     "output_type": "display_data"
    },
    {
     "data": {
      "application/vnd.jupyter.widget-view+json": {
       "model_id": "313dca0c61bc47debd61fb1ce0a39079",
       "version_major": 2,
       "version_minor": 0
      },
      "text/plain": [
       "Batches:   0%|          | 0/1 [00:00<?, ?it/s]"
      ]
     },
     "metadata": {},
     "output_type": "display_data"
    },
    {
     "data": {
      "application/vnd.jupyter.widget-view+json": {
       "model_id": "25f7b6362b404996b8ad7f1e9331a027",
       "version_major": 2,
       "version_minor": 0
      },
      "text/plain": [
       "Batches:   0%|          | 0/1 [00:00<?, ?it/s]"
      ]
     },
     "metadata": {},
     "output_type": "display_data"
    },
    {
     "data": {
      "application/vnd.jupyter.widget-view+json": {
       "model_id": "aebcd59ba2cf4fa4be31c4a8fa1bebfc",
       "version_major": 2,
       "version_minor": 0
      },
      "text/plain": [
       "Batches:   0%|          | 0/1 [00:00<?, ?it/s]"
      ]
     },
     "metadata": {},
     "output_type": "display_data"
    },
    {
     "data": {
      "application/vnd.jupyter.widget-view+json": {
       "model_id": "9b0895b7bc1f485984ec956a59390427",
       "version_major": 2,
       "version_minor": 0
      },
      "text/plain": [
       "Batches:   0%|          | 0/1 [00:00<?, ?it/s]"
      ]
     },
     "metadata": {},
     "output_type": "display_data"
    },
    {
     "data": {
      "application/vnd.jupyter.widget-view+json": {
       "model_id": "47407aa405f642e099974368a1db91fa",
       "version_major": 2,
       "version_minor": 0
      },
      "text/plain": [
       "Batches:   0%|          | 0/1 [00:00<?, ?it/s]"
      ]
     },
     "metadata": {},
     "output_type": "display_data"
    },
    {
     "data": {
      "application/vnd.jupyter.widget-view+json": {
       "model_id": "318b73da3aeb45d7978d0f6c0d2f93be",
       "version_major": 2,
       "version_minor": 0
      },
      "text/plain": [
       "Batches:   0%|          | 0/1 [00:00<?, ?it/s]"
      ]
     },
     "metadata": {},
     "output_type": "display_data"
    },
    {
     "data": {
      "application/vnd.jupyter.widget-view+json": {
       "model_id": "90faa2abaeb04441ac6b407e74c22724",
       "version_major": 2,
       "version_minor": 0
      },
      "text/plain": [
       "Batches:   0%|          | 0/1 [00:00<?, ?it/s]"
      ]
     },
     "metadata": {},
     "output_type": "display_data"
    },
    {
     "data": {
      "application/vnd.jupyter.widget-view+json": {
       "model_id": "359348265aea41adb981ea0d8c83db97",
       "version_major": 2,
       "version_minor": 0
      },
      "text/plain": [
       "Batches:   0%|          | 0/1 [00:00<?, ?it/s]"
      ]
     },
     "metadata": {},
     "output_type": "display_data"
    },
    {
     "data": {
      "application/vnd.jupyter.widget-view+json": {
       "model_id": "a80a857599834d56a3f05d219bd1164e",
       "version_major": 2,
       "version_minor": 0
      },
      "text/plain": [
       "Batches:   0%|          | 0/1 [00:00<?, ?it/s]"
      ]
     },
     "metadata": {},
     "output_type": "display_data"
    },
    {
     "data": {
      "application/vnd.jupyter.widget-view+json": {
       "model_id": "4821966aef6042b8bf6cc225d888956e",
       "version_major": 2,
       "version_minor": 0
      },
      "text/plain": [
       "Batches:   0%|          | 0/1 [00:00<?, ?it/s]"
      ]
     },
     "metadata": {},
     "output_type": "display_data"
    },
    {
     "data": {
      "application/vnd.jupyter.widget-view+json": {
       "model_id": "94e41be2bfe446f4890319bcff544be0",
       "version_major": 2,
       "version_minor": 0
      },
      "text/plain": [
       "Batches:   0%|          | 0/1 [00:00<?, ?it/s]"
      ]
     },
     "metadata": {},
     "output_type": "display_data"
    },
    {
     "data": {
      "application/vnd.jupyter.widget-view+json": {
       "model_id": "58be122b2f774ca49e2d2ec17f6f5a29",
       "version_major": 2,
       "version_minor": 0
      },
      "text/plain": [
       "Batches:   0%|          | 0/1 [00:00<?, ?it/s]"
      ]
     },
     "metadata": {},
     "output_type": "display_data"
    },
    {
     "data": {
      "application/vnd.jupyter.widget-view+json": {
       "model_id": "c04993bb88a84ceeb399380215dc282f",
       "version_major": 2,
       "version_minor": 0
      },
      "text/plain": [
       "Batches:   0%|          | 0/1 [00:00<?, ?it/s]"
      ]
     },
     "metadata": {},
     "output_type": "display_data"
    },
    {
     "data": {
      "application/vnd.jupyter.widget-view+json": {
       "model_id": "9dcf419ce7e9435f9f950af4470eff96",
       "version_major": 2,
       "version_minor": 0
      },
      "text/plain": [
       "Batches:   0%|          | 0/1 [00:00<?, ?it/s]"
      ]
     },
     "metadata": {},
     "output_type": "display_data"
    },
    {
     "data": {
      "application/vnd.jupyter.widget-view+json": {
       "model_id": "6761ca7bf3ea408487c38a9ba119388f",
       "version_major": 2,
       "version_minor": 0
      },
      "text/plain": [
       "Batches:   0%|          | 0/1 [00:00<?, ?it/s]"
      ]
     },
     "metadata": {},
     "output_type": "display_data"
    },
    {
     "data": {
      "application/vnd.jupyter.widget-view+json": {
       "model_id": "6bc59a890e8542e2ae6f0af7c5fa18f5",
       "version_major": 2,
       "version_minor": 0
      },
      "text/plain": [
       "Batches:   0%|          | 0/1 [00:00<?, ?it/s]"
      ]
     },
     "metadata": {},
     "output_type": "display_data"
    },
    {
     "data": {
      "application/vnd.jupyter.widget-view+json": {
       "model_id": "f8b52c0540bb428dab7655bbced8d61b",
       "version_major": 2,
       "version_minor": 0
      },
      "text/plain": [
       "Batches:   0%|          | 0/1 [00:00<?, ?it/s]"
      ]
     },
     "metadata": {},
     "output_type": "display_data"
    },
    {
     "data": {
      "application/vnd.jupyter.widget-view+json": {
       "model_id": "70714e932fea4f2d8731847d40dd989f",
       "version_major": 2,
       "version_minor": 0
      },
      "text/plain": [
       "Batches:   0%|          | 0/1 [00:00<?, ?it/s]"
      ]
     },
     "metadata": {},
     "output_type": "display_data"
    },
    {
     "data": {
      "application/vnd.jupyter.widget-view+json": {
       "model_id": "7ed984b214de4859ba0c92223418c62e",
       "version_major": 2,
       "version_minor": 0
      },
      "text/plain": [
       "Batches:   0%|          | 0/1 [00:00<?, ?it/s]"
      ]
     },
     "metadata": {},
     "output_type": "display_data"
    },
    {
     "data": {
      "application/vnd.jupyter.widget-view+json": {
       "model_id": "5b01f2e1b16444b4a78b84f8d0847fb0",
       "version_major": 2,
       "version_minor": 0
      },
      "text/plain": [
       "Batches:   0%|          | 0/1 [00:00<?, ?it/s]"
      ]
     },
     "metadata": {},
     "output_type": "display_data"
    },
    {
     "data": {
      "application/vnd.jupyter.widget-view+json": {
       "model_id": "7ffda600352644cc97611b7661571512",
       "version_major": 2,
       "version_minor": 0
      },
      "text/plain": [
       "Batches:   0%|          | 0/1 [00:00<?, ?it/s]"
      ]
     },
     "metadata": {},
     "output_type": "display_data"
    },
    {
     "data": {
      "application/vnd.jupyter.widget-view+json": {
       "model_id": "0b4513e12a3a4bafb5aca5eefec66239",
       "version_major": 2,
       "version_minor": 0
      },
      "text/plain": [
       "Batches:   0%|          | 0/1 [00:00<?, ?it/s]"
      ]
     },
     "metadata": {},
     "output_type": "display_data"
    },
    {
     "data": {
      "application/vnd.jupyter.widget-view+json": {
       "model_id": "c569abdb29254e459ca2304913203fbb",
       "version_major": 2,
       "version_minor": 0
      },
      "text/plain": [
       "Batches:   0%|          | 0/1 [00:00<?, ?it/s]"
      ]
     },
     "metadata": {},
     "output_type": "display_data"
    },
    {
     "data": {
      "application/vnd.jupyter.widget-view+json": {
       "model_id": "95705268b8b449ebadb5e0503dbef002",
       "version_major": 2,
       "version_minor": 0
      },
      "text/plain": [
       "Batches:   0%|          | 0/1 [00:00<?, ?it/s]"
      ]
     },
     "metadata": {},
     "output_type": "display_data"
    },
    {
     "data": {
      "application/vnd.jupyter.widget-view+json": {
       "model_id": "8aeace27ec0547c39017dc23cef04255",
       "version_major": 2,
       "version_minor": 0
      },
      "text/plain": [
       "Batches:   0%|          | 0/1 [00:00<?, ?it/s]"
      ]
     },
     "metadata": {},
     "output_type": "display_data"
    },
    {
     "data": {
      "application/vnd.jupyter.widget-view+json": {
       "model_id": "2c4afaf81e854fd2b2d7b0847f690aba",
       "version_major": 2,
       "version_minor": 0
      },
      "text/plain": [
       "Batches:   0%|          | 0/1 [00:00<?, ?it/s]"
      ]
     },
     "metadata": {},
     "output_type": "display_data"
    },
    {
     "data": {
      "application/vnd.jupyter.widget-view+json": {
       "model_id": "60b3540ae45943f19a52b41cf2580f51",
       "version_major": 2,
       "version_minor": 0
      },
      "text/plain": [
       "Batches:   0%|          | 0/1 [00:00<?, ?it/s]"
      ]
     },
     "metadata": {},
     "output_type": "display_data"
    },
    {
     "data": {
      "application/vnd.jupyter.widget-view+json": {
       "model_id": "3cfeef16ca7b4a80915df9595b599c74",
       "version_major": 2,
       "version_minor": 0
      },
      "text/plain": [
       "Batches:   0%|          | 0/1 [00:00<?, ?it/s]"
      ]
     },
     "metadata": {},
     "output_type": "display_data"
    },
    {
     "data": {
      "application/vnd.jupyter.widget-view+json": {
       "model_id": "4de687497f2546e2ae2a9c7c9f465518",
       "version_major": 2,
       "version_minor": 0
      },
      "text/plain": [
       "Batches:   0%|          | 0/1 [00:00<?, ?it/s]"
      ]
     },
     "metadata": {},
     "output_type": "display_data"
    },
    {
     "data": {
      "application/vnd.jupyter.widget-view+json": {
       "model_id": "7addf647d3cd4a9e9b7394cd3756dafa",
       "version_major": 2,
       "version_minor": 0
      },
      "text/plain": [
       "Batches:   0%|          | 0/1 [00:00<?, ?it/s]"
      ]
     },
     "metadata": {},
     "output_type": "display_data"
    },
    {
     "data": {
      "application/vnd.jupyter.widget-view+json": {
       "model_id": "d682a29b1aa74d278459d80f2dcd2715",
       "version_major": 2,
       "version_minor": 0
      },
      "text/plain": [
       "Batches:   0%|          | 0/1 [00:00<?, ?it/s]"
      ]
     },
     "metadata": {},
     "output_type": "display_data"
    },
    {
     "data": {
      "application/vnd.jupyter.widget-view+json": {
       "model_id": "a30c947f07e84725895464f735bb4e6e",
       "version_major": 2,
       "version_minor": 0
      },
      "text/plain": [
       "Batches:   0%|          | 0/1 [00:00<?, ?it/s]"
      ]
     },
     "metadata": {},
     "output_type": "display_data"
    },
    {
     "data": {
      "application/vnd.jupyter.widget-view+json": {
       "model_id": "d80b2c19f805456e9e888f2c8b081e36",
       "version_major": 2,
       "version_minor": 0
      },
      "text/plain": [
       "Batches:   0%|          | 0/1 [00:00<?, ?it/s]"
      ]
     },
     "metadata": {},
     "output_type": "display_data"
    },
    {
     "data": {
      "application/vnd.jupyter.widget-view+json": {
       "model_id": "75d8d60526da485f92e6682e0870ab16",
       "version_major": 2,
       "version_minor": 0
      },
      "text/plain": [
       "Batches:   0%|          | 0/1 [00:00<?, ?it/s]"
      ]
     },
     "metadata": {},
     "output_type": "display_data"
    },
    {
     "data": {
      "application/vnd.jupyter.widget-view+json": {
       "model_id": "066375affb264a96898e439b608cbef3",
       "version_major": 2,
       "version_minor": 0
      },
      "text/plain": [
       "Batches:   0%|          | 0/1 [00:00<?, ?it/s]"
      ]
     },
     "metadata": {},
     "output_type": "display_data"
    },
    {
     "data": {
      "application/vnd.jupyter.widget-view+json": {
       "model_id": "b0a8bd01d78a4d189bf714ebd1a67853",
       "version_major": 2,
       "version_minor": 0
      },
      "text/plain": [
       "Batches:   0%|          | 0/1 [00:00<?, ?it/s]"
      ]
     },
     "metadata": {},
     "output_type": "display_data"
    },
    {
     "data": {
      "application/vnd.jupyter.widget-view+json": {
       "model_id": "ff88f967b03e4e4b8e6c57ccf4ff3f65",
       "version_major": 2,
       "version_minor": 0
      },
      "text/plain": [
       "Batches:   0%|          | 0/1 [00:00<?, ?it/s]"
      ]
     },
     "metadata": {},
     "output_type": "display_data"
    },
    {
     "data": {
      "application/vnd.jupyter.widget-view+json": {
       "model_id": "c6976b5c1c6c4bcbb6e8e8bae90064bd",
       "version_major": 2,
       "version_minor": 0
      },
      "text/plain": [
       "Batches:   0%|          | 0/1 [00:00<?, ?it/s]"
      ]
     },
     "metadata": {},
     "output_type": "display_data"
    },
    {
     "data": {
      "application/vnd.jupyter.widget-view+json": {
       "model_id": "1b89ee5cb8d1439f9ae2a40a8a5a274c",
       "version_major": 2,
       "version_minor": 0
      },
      "text/plain": [
       "Batches:   0%|          | 0/1 [00:00<?, ?it/s]"
      ]
     },
     "metadata": {},
     "output_type": "display_data"
    },
    {
     "data": {
      "application/vnd.jupyter.widget-view+json": {
       "model_id": "8754ff2ed314414880db8e263b13f8b6",
       "version_major": 2,
       "version_minor": 0
      },
      "text/plain": [
       "Batches:   0%|          | 0/1 [00:00<?, ?it/s]"
      ]
     },
     "metadata": {},
     "output_type": "display_data"
    },
    {
     "data": {
      "application/vnd.jupyter.widget-view+json": {
       "model_id": "4bd8e189cc6d4be694038ad0d06341d3",
       "version_major": 2,
       "version_minor": 0
      },
      "text/plain": [
       "Batches:   0%|          | 0/1 [00:00<?, ?it/s]"
      ]
     },
     "metadata": {},
     "output_type": "display_data"
    },
    {
     "data": {
      "application/vnd.jupyter.widget-view+json": {
       "model_id": "b27a96a06c08435389fe92a8ef6c132b",
       "version_major": 2,
       "version_minor": 0
      },
      "text/plain": [
       "Batches:   0%|          | 0/1 [00:00<?, ?it/s]"
      ]
     },
     "metadata": {},
     "output_type": "display_data"
    },
    {
     "data": {
      "application/vnd.jupyter.widget-view+json": {
       "model_id": "c18dd6744fff476bbfc429ad7d5244d4",
       "version_major": 2,
       "version_minor": 0
      },
      "text/plain": [
       "Batches:   0%|          | 0/1 [00:00<?, ?it/s]"
      ]
     },
     "metadata": {},
     "output_type": "display_data"
    },
    {
     "data": {
      "application/vnd.jupyter.widget-view+json": {
       "model_id": "d12dd840583c45aeb9762ab1f4c452db",
       "version_major": 2,
       "version_minor": 0
      },
      "text/plain": [
       "Batches:   0%|          | 0/1 [00:00<?, ?it/s]"
      ]
     },
     "metadata": {},
     "output_type": "display_data"
    },
    {
     "data": {
      "application/vnd.jupyter.widget-view+json": {
       "model_id": "7dffce9a6b424cc79e0dcc6c3b359a82",
       "version_major": 2,
       "version_minor": 0
      },
      "text/plain": [
       "Batches:   0%|          | 0/1 [00:00<?, ?it/s]"
      ]
     },
     "metadata": {},
     "output_type": "display_data"
    },
    {
     "data": {
      "application/vnd.jupyter.widget-view+json": {
       "model_id": "631fb57c39ca4c42acad71529c583ab8",
       "version_major": 2,
       "version_minor": 0
      },
      "text/plain": [
       "Batches:   0%|          | 0/1 [00:00<?, ?it/s]"
      ]
     },
     "metadata": {},
     "output_type": "display_data"
    },
    {
     "data": {
      "application/vnd.jupyter.widget-view+json": {
       "model_id": "b84d0771186a4cf98f32e586ba47d6d4",
       "version_major": 2,
       "version_minor": 0
      },
      "text/plain": [
       "Batches:   0%|          | 0/1 [00:00<?, ?it/s]"
      ]
     },
     "metadata": {},
     "output_type": "display_data"
    },
    {
     "data": {
      "application/vnd.jupyter.widget-view+json": {
       "model_id": "9fb700f767f6481a99cdea410d65597e",
       "version_major": 2,
       "version_minor": 0
      },
      "text/plain": [
       "Batches:   0%|          | 0/1 [00:00<?, ?it/s]"
      ]
     },
     "metadata": {},
     "output_type": "display_data"
    },
    {
     "data": {
      "application/vnd.jupyter.widget-view+json": {
       "model_id": "df30139172c44fe3b8ee881948a8e4af",
       "version_major": 2,
       "version_minor": 0
      },
      "text/plain": [
       "Batches:   0%|          | 0/1 [00:00<?, ?it/s]"
      ]
     },
     "metadata": {},
     "output_type": "display_data"
    },
    {
     "data": {
      "application/vnd.jupyter.widget-view+json": {
       "model_id": "7769dedeb1ca43e9a374831406cfc566",
       "version_major": 2,
       "version_minor": 0
      },
      "text/plain": [
       "Batches:   0%|          | 0/1 [00:00<?, ?it/s]"
      ]
     },
     "metadata": {},
     "output_type": "display_data"
    },
    {
     "data": {
      "application/vnd.jupyter.widget-view+json": {
       "model_id": "f96619eff1af44baa433ab4af89b1548",
       "version_major": 2,
       "version_minor": 0
      },
      "text/plain": [
       "Batches:   0%|          | 0/1 [00:00<?, ?it/s]"
      ]
     },
     "metadata": {},
     "output_type": "display_data"
    },
    {
     "data": {
      "application/vnd.jupyter.widget-view+json": {
       "model_id": "8f3593a594e14506a49c25f32698c5ec",
       "version_major": 2,
       "version_minor": 0
      },
      "text/plain": [
       "Batches:   0%|          | 0/1 [00:00<?, ?it/s]"
      ]
     },
     "metadata": {},
     "output_type": "display_data"
    },
    {
     "data": {
      "application/vnd.jupyter.widget-view+json": {
       "model_id": "97726ff0e0e640b996127b32a9df1fef",
       "version_major": 2,
       "version_minor": 0
      },
      "text/plain": [
       "Batches:   0%|          | 0/1 [00:00<?, ?it/s]"
      ]
     },
     "metadata": {},
     "output_type": "display_data"
    },
    {
     "data": {
      "application/vnd.jupyter.widget-view+json": {
       "model_id": "6153b38a6b1641b0b0da08bcda8a6088",
       "version_major": 2,
       "version_minor": 0
      },
      "text/plain": [
       "Batches:   0%|          | 0/1 [00:00<?, ?it/s]"
      ]
     },
     "metadata": {},
     "output_type": "display_data"
    },
    {
     "data": {
      "application/vnd.jupyter.widget-view+json": {
       "model_id": "e9d6699de8334b1598f2824615f1ac07",
       "version_major": 2,
       "version_minor": 0
      },
      "text/plain": [
       "Batches:   0%|          | 0/1 [00:00<?, ?it/s]"
      ]
     },
     "metadata": {},
     "output_type": "display_data"
    },
    {
     "data": {
      "application/vnd.jupyter.widget-view+json": {
       "model_id": "47a45a8b0ef74a249bd32aadf6e9ae61",
       "version_major": 2,
       "version_minor": 0
      },
      "text/plain": [
       "Batches:   0%|          | 0/1 [00:00<?, ?it/s]"
      ]
     },
     "metadata": {},
     "output_type": "display_data"
    },
    {
     "data": {
      "application/vnd.jupyter.widget-view+json": {
       "model_id": "0fa6d4a4fd274a5ebf8227b819d74abd",
       "version_major": 2,
       "version_minor": 0
      },
      "text/plain": [
       "Batches:   0%|          | 0/1 [00:00<?, ?it/s]"
      ]
     },
     "metadata": {},
     "output_type": "display_data"
    },
    {
     "data": {
      "application/vnd.jupyter.widget-view+json": {
       "model_id": "feaba81dbdfa475c9ba02974f7fe88e9",
       "version_major": 2,
       "version_minor": 0
      },
      "text/plain": [
       "Batches:   0%|          | 0/1 [00:00<?, ?it/s]"
      ]
     },
     "metadata": {},
     "output_type": "display_data"
    },
    {
     "data": {
      "application/vnd.jupyter.widget-view+json": {
       "model_id": "d40093a68cef43a0884ddf67ec20da58",
       "version_major": 2,
       "version_minor": 0
      },
      "text/plain": [
       "Batches:   0%|          | 0/1 [00:00<?, ?it/s]"
      ]
     },
     "metadata": {},
     "output_type": "display_data"
    },
    {
     "data": {
      "application/vnd.jupyter.widget-view+json": {
       "model_id": "8e69fbc4f193485ca54fdd8996155aaf",
       "version_major": 2,
       "version_minor": 0
      },
      "text/plain": [
       "Batches:   0%|          | 0/1 [00:00<?, ?it/s]"
      ]
     },
     "metadata": {},
     "output_type": "display_data"
    },
    {
     "data": {
      "application/vnd.jupyter.widget-view+json": {
       "model_id": "4fb02dceaacd4011ac0096f23e3da2cf",
       "version_major": 2,
       "version_minor": 0
      },
      "text/plain": [
       "Batches:   0%|          | 0/1 [00:00<?, ?it/s]"
      ]
     },
     "metadata": {},
     "output_type": "display_data"
    },
    {
     "data": {
      "application/vnd.jupyter.widget-view+json": {
       "model_id": "512644f0d05749cdbfd250f933d49baf",
       "version_major": 2,
       "version_minor": 0
      },
      "text/plain": [
       "Batches:   0%|          | 0/1 [00:00<?, ?it/s]"
      ]
     },
     "metadata": {},
     "output_type": "display_data"
    },
    {
     "data": {
      "application/vnd.jupyter.widget-view+json": {
       "model_id": "6bd87aa087054350b9a9effe02822c05",
       "version_major": 2,
       "version_minor": 0
      },
      "text/plain": [
       "Batches:   0%|          | 0/1 [00:00<?, ?it/s]"
      ]
     },
     "metadata": {},
     "output_type": "display_data"
    },
    {
     "data": {
      "application/vnd.jupyter.widget-view+json": {
       "model_id": "990cfb724bb542c09a53be9fb1109529",
       "version_major": 2,
       "version_minor": 0
      },
      "text/plain": [
       "Batches:   0%|          | 0/1 [00:00<?, ?it/s]"
      ]
     },
     "metadata": {},
     "output_type": "display_data"
    },
    {
     "data": {
      "application/vnd.jupyter.widget-view+json": {
       "model_id": "35912f8afd844a28aa54162db1c273c0",
       "version_major": 2,
       "version_minor": 0
      },
      "text/plain": [
       "Batches:   0%|          | 0/1 [00:00<?, ?it/s]"
      ]
     },
     "metadata": {},
     "output_type": "display_data"
    },
    {
     "data": {
      "application/vnd.jupyter.widget-view+json": {
       "model_id": "6be144c27a7d499fa25ded21fc891cdb",
       "version_major": 2,
       "version_minor": 0
      },
      "text/plain": [
       "Batches:   0%|          | 0/1 [00:00<?, ?it/s]"
      ]
     },
     "metadata": {},
     "output_type": "display_data"
    },
    {
     "data": {
      "application/vnd.jupyter.widget-view+json": {
       "model_id": "7b9cf6d5dd0e47a98c13ef661647f60e",
       "version_major": 2,
       "version_minor": 0
      },
      "text/plain": [
       "Batches:   0%|          | 0/1 [00:00<?, ?it/s]"
      ]
     },
     "metadata": {},
     "output_type": "display_data"
    },
    {
     "data": {
      "application/vnd.jupyter.widget-view+json": {
       "model_id": "a2ac849ae02b4f19a30bc3ce087b7ad2",
       "version_major": 2,
       "version_minor": 0
      },
      "text/plain": [
       "Batches:   0%|          | 0/1 [00:00<?, ?it/s]"
      ]
     },
     "metadata": {},
     "output_type": "display_data"
    },
    {
     "data": {
      "application/vnd.jupyter.widget-view+json": {
       "model_id": "f5ce551890044a05b8768da638f544b1",
       "version_major": 2,
       "version_minor": 0
      },
      "text/plain": [
       "Batches:   0%|          | 0/1 [00:00<?, ?it/s]"
      ]
     },
     "metadata": {},
     "output_type": "display_data"
    },
    {
     "data": {
      "application/vnd.jupyter.widget-view+json": {
       "model_id": "982383ac728e4f118afb2675f925dded",
       "version_major": 2,
       "version_minor": 0
      },
      "text/plain": [
       "Batches:   0%|          | 0/1 [00:00<?, ?it/s]"
      ]
     },
     "metadata": {},
     "output_type": "display_data"
    },
    {
     "data": {
      "application/vnd.jupyter.widget-view+json": {
       "model_id": "f0eb649115314c3d9022fac004f5783b",
       "version_major": 2,
       "version_minor": 0
      },
      "text/plain": [
       "Batches:   0%|          | 0/1 [00:00<?, ?it/s]"
      ]
     },
     "metadata": {},
     "output_type": "display_data"
    },
    {
     "data": {
      "application/vnd.jupyter.widget-view+json": {
       "model_id": "022f6a5be6c14e0ebc2cdcbd7618d987",
       "version_major": 2,
       "version_minor": 0
      },
      "text/plain": [
       "Batches:   0%|          | 0/1 [00:00<?, ?it/s]"
      ]
     },
     "metadata": {},
     "output_type": "display_data"
    },
    {
     "data": {
      "application/vnd.jupyter.widget-view+json": {
       "model_id": "d55039dc10184712a0ea1a53d2f753a5",
       "version_major": 2,
       "version_minor": 0
      },
      "text/plain": [
       "Batches:   0%|          | 0/1 [00:00<?, ?it/s]"
      ]
     },
     "metadata": {},
     "output_type": "display_data"
    },
    {
     "data": {
      "application/vnd.jupyter.widget-view+json": {
       "model_id": "23fb403602404e91800a61a420e19a4e",
       "version_major": 2,
       "version_minor": 0
      },
      "text/plain": [
       "Batches:   0%|          | 0/1 [00:00<?, ?it/s]"
      ]
     },
     "metadata": {},
     "output_type": "display_data"
    },
    {
     "data": {
      "application/vnd.jupyter.widget-view+json": {
       "model_id": "1e6f229d82a241cfb973d9a749212ea1",
       "version_major": 2,
       "version_minor": 0
      },
      "text/plain": [
       "Batches:   0%|          | 0/1 [00:00<?, ?it/s]"
      ]
     },
     "metadata": {},
     "output_type": "display_data"
    },
    {
     "data": {
      "application/vnd.jupyter.widget-view+json": {
       "model_id": "4d3bace75ac740efb37e783c250031f6",
       "version_major": 2,
       "version_minor": 0
      },
      "text/plain": [
       "Batches:   0%|          | 0/1 [00:00<?, ?it/s]"
      ]
     },
     "metadata": {},
     "output_type": "display_data"
    },
    {
     "data": {
      "application/vnd.jupyter.widget-view+json": {
       "model_id": "1aff8985e84c44d09d6158c31b800ead",
       "version_major": 2,
       "version_minor": 0
      },
      "text/plain": [
       "Batches:   0%|          | 0/1 [00:00<?, ?it/s]"
      ]
     },
     "metadata": {},
     "output_type": "display_data"
    },
    {
     "data": {
      "application/vnd.jupyter.widget-view+json": {
       "model_id": "f1c3c36f7fae4d45970570e3c5d8c1c3",
       "version_major": 2,
       "version_minor": 0
      },
      "text/plain": [
       "Batches:   0%|          | 0/1 [00:00<?, ?it/s]"
      ]
     },
     "metadata": {},
     "output_type": "display_data"
    },
    {
     "data": {
      "application/vnd.jupyter.widget-view+json": {
       "model_id": "4185191f56904d4cb65bf8219780a250",
       "version_major": 2,
       "version_minor": 0
      },
      "text/plain": [
       "Batches:   0%|          | 0/1 [00:00<?, ?it/s]"
      ]
     },
     "metadata": {},
     "output_type": "display_data"
    },
    {
     "data": {
      "application/vnd.jupyter.widget-view+json": {
       "model_id": "5c9edf7e5199471490e3a50106110b0d",
       "version_major": 2,
       "version_minor": 0
      },
      "text/plain": [
       "Batches:   0%|          | 0/1 [00:00<?, ?it/s]"
      ]
     },
     "metadata": {},
     "output_type": "display_data"
    },
    {
     "data": {
      "application/vnd.jupyter.widget-view+json": {
       "model_id": "b0201063215d4a73bfeaba42abe7649b",
       "version_major": 2,
       "version_minor": 0
      },
      "text/plain": [
       "Batches:   0%|          | 0/1 [00:00<?, ?it/s]"
      ]
     },
     "metadata": {},
     "output_type": "display_data"
    },
    {
     "data": {
      "application/vnd.jupyter.widget-view+json": {
       "model_id": "0649b0048f0c45d1831e0204bd5d084c",
       "version_major": 2,
       "version_minor": 0
      },
      "text/plain": [
       "Batches:   0%|          | 0/1 [00:00<?, ?it/s]"
      ]
     },
     "metadata": {},
     "output_type": "display_data"
    },
    {
     "data": {
      "application/vnd.jupyter.widget-view+json": {
       "model_id": "cde6c33cc9be4f9f85ef73f368b1c2dd",
       "version_major": 2,
       "version_minor": 0
      },
      "text/plain": [
       "Batches:   0%|          | 0/1 [00:00<?, ?it/s]"
      ]
     },
     "metadata": {},
     "output_type": "display_data"
    },
    {
     "data": {
      "application/vnd.jupyter.widget-view+json": {
       "model_id": "739b1f51b6704368b958d7b72e4a5f81",
       "version_major": 2,
       "version_minor": 0
      },
      "text/plain": [
       "Batches:   0%|          | 0/1 [00:00<?, ?it/s]"
      ]
     },
     "metadata": {},
     "output_type": "display_data"
    },
    {
     "data": {
      "application/vnd.jupyter.widget-view+json": {
       "model_id": "1e1765dd125541be8651c6cdb33f6c72",
       "version_major": 2,
       "version_minor": 0
      },
      "text/plain": [
       "Batches:   0%|          | 0/1 [00:00<?, ?it/s]"
      ]
     },
     "metadata": {},
     "output_type": "display_data"
    },
    {
     "data": {
      "application/vnd.jupyter.widget-view+json": {
       "model_id": "c22b7003cdc5437dae8d910973f32418",
       "version_major": 2,
       "version_minor": 0
      },
      "text/plain": [
       "Batches:   0%|          | 0/1 [00:00<?, ?it/s]"
      ]
     },
     "metadata": {},
     "output_type": "display_data"
    },
    {
     "data": {
      "application/vnd.jupyter.widget-view+json": {
       "model_id": "e408b578a96e471592e0e427e710a2a9",
       "version_major": 2,
       "version_minor": 0
      },
      "text/plain": [
       "Batches:   0%|          | 0/1 [00:00<?, ?it/s]"
      ]
     },
     "metadata": {},
     "output_type": "display_data"
    },
    {
     "data": {
      "application/vnd.jupyter.widget-view+json": {
       "model_id": "3e197979dee34c6d861e94e63b6966ae",
       "version_major": 2,
       "version_minor": 0
      },
      "text/plain": [
       "Batches:   0%|          | 0/1 [00:00<?, ?it/s]"
      ]
     },
     "metadata": {},
     "output_type": "display_data"
    },
    {
     "data": {
      "application/vnd.jupyter.widget-view+json": {
       "model_id": "2234318da4984d2c932d930abdc5a753",
       "version_major": 2,
       "version_minor": 0
      },
      "text/plain": [
       "Batches:   0%|          | 0/1 [00:00<?, ?it/s]"
      ]
     },
     "metadata": {},
     "output_type": "display_data"
    },
    {
     "data": {
      "application/vnd.jupyter.widget-view+json": {
       "model_id": "7d0f81ab1d344c5f94d85257d4ad6370",
       "version_major": 2,
       "version_minor": 0
      },
      "text/plain": [
       "Batches:   0%|          | 0/1 [00:00<?, ?it/s]"
      ]
     },
     "metadata": {},
     "output_type": "display_data"
    },
    {
     "data": {
      "application/vnd.jupyter.widget-view+json": {
       "model_id": "5ba9d1b98d5b48d59333ba3a0de453f3",
       "version_major": 2,
       "version_minor": 0
      },
      "text/plain": [
       "Batches:   0%|          | 0/1 [00:00<?, ?it/s]"
      ]
     },
     "metadata": {},
     "output_type": "display_data"
    },
    {
     "data": {
      "application/vnd.jupyter.widget-view+json": {
       "model_id": "e0f5552e9689496c88e2f5b14feec7c2",
       "version_major": 2,
       "version_minor": 0
      },
      "text/plain": [
       "Batches:   0%|          | 0/1 [00:00<?, ?it/s]"
      ]
     },
     "metadata": {},
     "output_type": "display_data"
    },
    {
     "data": {
      "application/vnd.jupyter.widget-view+json": {
       "model_id": "cac320f00fb642e7a9c569401df35770",
       "version_major": 2,
       "version_minor": 0
      },
      "text/plain": [
       "Batches:   0%|          | 0/1 [00:00<?, ?it/s]"
      ]
     },
     "metadata": {},
     "output_type": "display_data"
    },
    {
     "data": {
      "application/vnd.jupyter.widget-view+json": {
       "model_id": "9f94d792a65c4f7e83b1c086f501ef53",
       "version_major": 2,
       "version_minor": 0
      },
      "text/plain": [
       "Batches:   0%|          | 0/1 [00:00<?, ?it/s]"
      ]
     },
     "metadata": {},
     "output_type": "display_data"
    },
    {
     "data": {
      "application/vnd.jupyter.widget-view+json": {
       "model_id": "97e019e16772484582944587b81b8ceb",
       "version_major": 2,
       "version_minor": 0
      },
      "text/plain": [
       "Batches:   0%|          | 0/1 [00:00<?, ?it/s]"
      ]
     },
     "metadata": {},
     "output_type": "display_data"
    },
    {
     "data": {
      "application/vnd.jupyter.widget-view+json": {
       "model_id": "2d2ebe79cbeb49eea5ea7f34f43944ec",
       "version_major": 2,
       "version_minor": 0
      },
      "text/plain": [
       "Batches:   0%|          | 0/1 [00:00<?, ?it/s]"
      ]
     },
     "metadata": {},
     "output_type": "display_data"
    },
    {
     "data": {
      "application/vnd.jupyter.widget-view+json": {
       "model_id": "49c60de83c6f47ffbfb5109ff8da929a",
       "version_major": 2,
       "version_minor": 0
      },
      "text/plain": [
       "Batches:   0%|          | 0/1 [00:00<?, ?it/s]"
      ]
     },
     "metadata": {},
     "output_type": "display_data"
    },
    {
     "data": {
      "application/vnd.jupyter.widget-view+json": {
       "model_id": "75cef45342214caf8e92f85db2c9e578",
       "version_major": 2,
       "version_minor": 0
      },
      "text/plain": [
       "Batches:   0%|          | 0/1 [00:00<?, ?it/s]"
      ]
     },
     "metadata": {},
     "output_type": "display_data"
    },
    {
     "data": {
      "application/vnd.jupyter.widget-view+json": {
       "model_id": "1a968c0af51c4e65acfa3834a00bdb00",
       "version_major": 2,
       "version_minor": 0
      },
      "text/plain": [
       "Batches:   0%|          | 0/1 [00:00<?, ?it/s]"
      ]
     },
     "metadata": {},
     "output_type": "display_data"
    },
    {
     "data": {
      "application/vnd.jupyter.widget-view+json": {
       "model_id": "b517deb884b449e99e30f19c87fb710c",
       "version_major": 2,
       "version_minor": 0
      },
      "text/plain": [
       "Batches:   0%|          | 0/1 [00:00<?, ?it/s]"
      ]
     },
     "metadata": {},
     "output_type": "display_data"
    },
    {
     "data": {
      "application/vnd.jupyter.widget-view+json": {
       "model_id": "d08722e6603e4cc88aa7e30807481166",
       "version_major": 2,
       "version_minor": 0
      },
      "text/plain": [
       "Batches:   0%|          | 0/1 [00:00<?, ?it/s]"
      ]
     },
     "metadata": {},
     "output_type": "display_data"
    },
    {
     "data": {
      "application/vnd.jupyter.widget-view+json": {
       "model_id": "443280368db3488eab8c09e68865bf91",
       "version_major": 2,
       "version_minor": 0
      },
      "text/plain": [
       "Batches:   0%|          | 0/1 [00:00<?, ?it/s]"
      ]
     },
     "metadata": {},
     "output_type": "display_data"
    },
    {
     "data": {
      "application/vnd.jupyter.widget-view+json": {
       "model_id": "cc1e09c58d0a4f0db8206f9efe9b85d8",
       "version_major": 2,
       "version_minor": 0
      },
      "text/plain": [
       "Batches:   0%|          | 0/1 [00:00<?, ?it/s]"
      ]
     },
     "metadata": {},
     "output_type": "display_data"
    },
    {
     "data": {
      "application/vnd.jupyter.widget-view+json": {
       "model_id": "8d0d19031c03449b9d8ff5b39be4e432",
       "version_major": 2,
       "version_minor": 0
      },
      "text/plain": [
       "Batches:   0%|          | 0/1 [00:00<?, ?it/s]"
      ]
     },
     "metadata": {},
     "output_type": "display_data"
    },
    {
     "data": {
      "application/vnd.jupyter.widget-view+json": {
       "model_id": "d32608b56434433786bac73d3000e256",
       "version_major": 2,
       "version_minor": 0
      },
      "text/plain": [
       "Batches:   0%|          | 0/1 [00:00<?, ?it/s]"
      ]
     },
     "metadata": {},
     "output_type": "display_data"
    },
    {
     "data": {
      "application/vnd.jupyter.widget-view+json": {
       "model_id": "4f0594cdf1b94713bf53455171dd560f",
       "version_major": 2,
       "version_minor": 0
      },
      "text/plain": [
       "Batches:   0%|          | 0/1 [00:00<?, ?it/s]"
      ]
     },
     "metadata": {},
     "output_type": "display_data"
    },
    {
     "data": {
      "application/vnd.jupyter.widget-view+json": {
       "model_id": "08511a76492b4502aa4f43acc61eb383",
       "version_major": 2,
       "version_minor": 0
      },
      "text/plain": [
       "Batches:   0%|          | 0/1 [00:00<?, ?it/s]"
      ]
     },
     "metadata": {},
     "output_type": "display_data"
    },
    {
     "data": {
      "application/vnd.jupyter.widget-view+json": {
       "model_id": "b795ca14bbb64598b259d76680b5e178",
       "version_major": 2,
       "version_minor": 0
      },
      "text/plain": [
       "Batches:   0%|          | 0/1 [00:00<?, ?it/s]"
      ]
     },
     "metadata": {},
     "output_type": "display_data"
    },
    {
     "data": {
      "application/vnd.jupyter.widget-view+json": {
       "model_id": "703f6ee3676f4ecf80dd0962b8e53cc6",
       "version_major": 2,
       "version_minor": 0
      },
      "text/plain": [
       "Batches:   0%|          | 0/1 [00:00<?, ?it/s]"
      ]
     },
     "metadata": {},
     "output_type": "display_data"
    },
    {
     "data": {
      "application/vnd.jupyter.widget-view+json": {
       "model_id": "27201d960a3c4c26b8bbb12fbfe9c188",
       "version_major": 2,
       "version_minor": 0
      },
      "text/plain": [
       "Batches:   0%|          | 0/1 [00:00<?, ?it/s]"
      ]
     },
     "metadata": {},
     "output_type": "display_data"
    },
    {
     "data": {
      "application/vnd.jupyter.widget-view+json": {
       "model_id": "0862f8a154914694b65986abf406472f",
       "version_major": 2,
       "version_minor": 0
      },
      "text/plain": [
       "Batches:   0%|          | 0/1 [00:00<?, ?it/s]"
      ]
     },
     "metadata": {},
     "output_type": "display_data"
    },
    {
     "data": {
      "application/vnd.jupyter.widget-view+json": {
       "model_id": "7667f4c2a2d14ea597fc8992aae99a8f",
       "version_major": 2,
       "version_minor": 0
      },
      "text/plain": [
       "Batches:   0%|          | 0/1 [00:00<?, ?it/s]"
      ]
     },
     "metadata": {},
     "output_type": "display_data"
    },
    {
     "data": {
      "application/vnd.jupyter.widget-view+json": {
       "model_id": "e6316fad1d0e48409b210073348bf544",
       "version_major": 2,
       "version_minor": 0
      },
      "text/plain": [
       "Batches:   0%|          | 0/1 [00:00<?, ?it/s]"
      ]
     },
     "metadata": {},
     "output_type": "display_data"
    },
    {
     "data": {
      "application/vnd.jupyter.widget-view+json": {
       "model_id": "b0721a6774d34f59b0b5fd3275cfa11d",
       "version_major": 2,
       "version_minor": 0
      },
      "text/plain": [
       "Batches:   0%|          | 0/1 [00:00<?, ?it/s]"
      ]
     },
     "metadata": {},
     "output_type": "display_data"
    },
    {
     "data": {
      "application/vnd.jupyter.widget-view+json": {
       "model_id": "751730d8833045c49a2a1dbb7c387bdd",
       "version_major": 2,
       "version_minor": 0
      },
      "text/plain": [
       "Batches:   0%|          | 0/1 [00:00<?, ?it/s]"
      ]
     },
     "metadata": {},
     "output_type": "display_data"
    },
    {
     "data": {
      "application/vnd.jupyter.widget-view+json": {
       "model_id": "42276480287943c89e910ef55840c350",
       "version_major": 2,
       "version_minor": 0
      },
      "text/plain": [
       "Batches:   0%|          | 0/1 [00:00<?, ?it/s]"
      ]
     },
     "metadata": {},
     "output_type": "display_data"
    },
    {
     "data": {
      "application/vnd.jupyter.widget-view+json": {
       "model_id": "34be52bf3d2846b7b1ded5cb3722495f",
       "version_major": 2,
       "version_minor": 0
      },
      "text/plain": [
       "Batches:   0%|          | 0/1 [00:00<?, ?it/s]"
      ]
     },
     "metadata": {},
     "output_type": "display_data"
    },
    {
     "data": {
      "application/vnd.jupyter.widget-view+json": {
       "model_id": "b01c0fe1f32245d086b4fe20d399a0f9",
       "version_major": 2,
       "version_minor": 0
      },
      "text/plain": [
       "Batches:   0%|          | 0/1 [00:00<?, ?it/s]"
      ]
     },
     "metadata": {},
     "output_type": "display_data"
    },
    {
     "data": {
      "application/vnd.jupyter.widget-view+json": {
       "model_id": "a0003f18540843808bb2eeda7fb40974",
       "version_major": 2,
       "version_minor": 0
      },
      "text/plain": [
       "Batches:   0%|          | 0/1 [00:00<?, ?it/s]"
      ]
     },
     "metadata": {},
     "output_type": "display_data"
    },
    {
     "data": {
      "application/vnd.jupyter.widget-view+json": {
       "model_id": "d9e07111d83c42a39a7724e3a21574d5",
       "version_major": 2,
       "version_minor": 0
      },
      "text/plain": [
       "Batches:   0%|          | 0/1 [00:00<?, ?it/s]"
      ]
     },
     "metadata": {},
     "output_type": "display_data"
    },
    {
     "data": {
      "application/vnd.jupyter.widget-view+json": {
       "model_id": "b9ab187fb8904d5c923a022fc2c090dd",
       "version_major": 2,
       "version_minor": 0
      },
      "text/plain": [
       "Batches:   0%|          | 0/1 [00:00<?, ?it/s]"
      ]
     },
     "metadata": {},
     "output_type": "display_data"
    },
    {
     "data": {
      "application/vnd.jupyter.widget-view+json": {
       "model_id": "e935bad33feb45eab0996d2a51a6ae73",
       "version_major": 2,
       "version_minor": 0
      },
      "text/plain": [
       "Batches:   0%|          | 0/1 [00:00<?, ?it/s]"
      ]
     },
     "metadata": {},
     "output_type": "display_data"
    },
    {
     "data": {
      "application/vnd.jupyter.widget-view+json": {
       "model_id": "c68cf5d90d5d44b2a953eb1a7b523950",
       "version_major": 2,
       "version_minor": 0
      },
      "text/plain": [
       "Batches:   0%|          | 0/1 [00:00<?, ?it/s]"
      ]
     },
     "metadata": {},
     "output_type": "display_data"
    },
    {
     "data": {
      "application/vnd.jupyter.widget-view+json": {
       "model_id": "2263dda6e6594d1589c383bc3632a3dc",
       "version_major": 2,
       "version_minor": 0
      },
      "text/plain": [
       "Batches:   0%|          | 0/1 [00:00<?, ?it/s]"
      ]
     },
     "metadata": {},
     "output_type": "display_data"
    },
    {
     "data": {
      "application/vnd.jupyter.widget-view+json": {
       "model_id": "7ee3fc95b7fe459881cd5842543fbae3",
       "version_major": 2,
       "version_minor": 0
      },
      "text/plain": [
       "Batches:   0%|          | 0/1 [00:00<?, ?it/s]"
      ]
     },
     "metadata": {},
     "output_type": "display_data"
    },
    {
     "data": {
      "application/vnd.jupyter.widget-view+json": {
       "model_id": "164db90519c34e8cbb3cd64bce02cd4d",
       "version_major": 2,
       "version_minor": 0
      },
      "text/plain": [
       "Batches:   0%|          | 0/1 [00:00<?, ?it/s]"
      ]
     },
     "metadata": {},
     "output_type": "display_data"
    },
    {
     "data": {
      "application/vnd.jupyter.widget-view+json": {
       "model_id": "3fdeaae41de54e19a2a7c84fa4780a50",
       "version_major": 2,
       "version_minor": 0
      },
      "text/plain": [
       "Batches:   0%|          | 0/1 [00:00<?, ?it/s]"
      ]
     },
     "metadata": {},
     "output_type": "display_data"
    },
    {
     "data": {
      "application/vnd.jupyter.widget-view+json": {
       "model_id": "4c6cb91eabf242168ed1eff215dbe7a3",
       "version_major": 2,
       "version_minor": 0
      },
      "text/plain": [
       "Batches:   0%|          | 0/1 [00:00<?, ?it/s]"
      ]
     },
     "metadata": {},
     "output_type": "display_data"
    },
    {
     "data": {
      "application/vnd.jupyter.widget-view+json": {
       "model_id": "ba047f8a4c2b4757bb595fa8cfcaf4a8",
       "version_major": 2,
       "version_minor": 0
      },
      "text/plain": [
       "Batches:   0%|          | 0/1 [00:00<?, ?it/s]"
      ]
     },
     "metadata": {},
     "output_type": "display_data"
    },
    {
     "data": {
      "application/vnd.jupyter.widget-view+json": {
       "model_id": "215326ed31a248d4a4ef035566090e48",
       "version_major": 2,
       "version_minor": 0
      },
      "text/plain": [
       "Batches:   0%|          | 0/1 [00:00<?, ?it/s]"
      ]
     },
     "metadata": {},
     "output_type": "display_data"
    },
    {
     "data": {
      "application/vnd.jupyter.widget-view+json": {
       "model_id": "d44d6d5d2b7144cba79ce7bd5763f020",
       "version_major": 2,
       "version_minor": 0
      },
      "text/plain": [
       "Batches:   0%|          | 0/1 [00:00<?, ?it/s]"
      ]
     },
     "metadata": {},
     "output_type": "display_data"
    },
    {
     "data": {
      "application/vnd.jupyter.widget-view+json": {
       "model_id": "e4c47d27bdfc4cf4af9ffbc5108eb10f",
       "version_major": 2,
       "version_minor": 0
      },
      "text/plain": [
       "Batches:   0%|          | 0/1 [00:00<?, ?it/s]"
      ]
     },
     "metadata": {},
     "output_type": "display_data"
    },
    {
     "data": {
      "application/vnd.jupyter.widget-view+json": {
       "model_id": "4653f117ab2f40d5b33f1f6cadd1ee11",
       "version_major": 2,
       "version_minor": 0
      },
      "text/plain": [
       "Batches:   0%|          | 0/1 [00:00<?, ?it/s]"
      ]
     },
     "metadata": {},
     "output_type": "display_data"
    },
    {
     "data": {
      "application/vnd.jupyter.widget-view+json": {
       "model_id": "b85466b633774cdd99f596d5023fd3f0",
       "version_major": 2,
       "version_minor": 0
      },
      "text/plain": [
       "Batches:   0%|          | 0/1 [00:00<?, ?it/s]"
      ]
     },
     "metadata": {},
     "output_type": "display_data"
    },
    {
     "data": {
      "application/vnd.jupyter.widget-view+json": {
       "model_id": "c6111295477f41dea2558e389bc8c2a5",
       "version_major": 2,
       "version_minor": 0
      },
      "text/plain": [
       "Batches:   0%|          | 0/1 [00:00<?, ?it/s]"
      ]
     },
     "metadata": {},
     "output_type": "display_data"
    },
    {
     "data": {
      "application/vnd.jupyter.widget-view+json": {
       "model_id": "1367b329180645cfba3a96decdf59ea2",
       "version_major": 2,
       "version_minor": 0
      },
      "text/plain": [
       "Batches:   0%|          | 0/1 [00:00<?, ?it/s]"
      ]
     },
     "metadata": {},
     "output_type": "display_data"
    },
    {
     "data": {
      "application/vnd.jupyter.widget-view+json": {
       "model_id": "08a6a8ab5ab8412c915c952ce75916cc",
       "version_major": 2,
       "version_minor": 0
      },
      "text/plain": [
       "Batches:   0%|          | 0/1 [00:00<?, ?it/s]"
      ]
     },
     "metadata": {},
     "output_type": "display_data"
    },
    {
     "data": {
      "application/vnd.jupyter.widget-view+json": {
       "model_id": "88851b9b82504ad48e053f7517feda4b",
       "version_major": 2,
       "version_minor": 0
      },
      "text/plain": [
       "Batches:   0%|          | 0/1 [00:00<?, ?it/s]"
      ]
     },
     "metadata": {},
     "output_type": "display_data"
    },
    {
     "data": {
      "application/vnd.jupyter.widget-view+json": {
       "model_id": "9fc12f697598471784faa7ccb4c230c4",
       "version_major": 2,
       "version_minor": 0
      },
      "text/plain": [
       "Batches:   0%|          | 0/1 [00:00<?, ?it/s]"
      ]
     },
     "metadata": {},
     "output_type": "display_data"
    },
    {
     "data": {
      "application/vnd.jupyter.widget-view+json": {
       "model_id": "079a8f03714b48f7ab8369aa858a18c2",
       "version_major": 2,
       "version_minor": 0
      },
      "text/plain": [
       "Batches:   0%|          | 0/1 [00:00<?, ?it/s]"
      ]
     },
     "metadata": {},
     "output_type": "display_data"
    },
    {
     "data": {
      "application/vnd.jupyter.widget-view+json": {
       "model_id": "c234142218c94ad991e7ccd02f9e4c84",
       "version_major": 2,
       "version_minor": 0
      },
      "text/plain": [
       "Batches:   0%|          | 0/1 [00:00<?, ?it/s]"
      ]
     },
     "metadata": {},
     "output_type": "display_data"
    },
    {
     "data": {
      "application/vnd.jupyter.widget-view+json": {
       "model_id": "8d1af43ff8ee4f8bae4e68882d5726ff",
       "version_major": 2,
       "version_minor": 0
      },
      "text/plain": [
       "Batches:   0%|          | 0/1 [00:00<?, ?it/s]"
      ]
     },
     "metadata": {},
     "output_type": "display_data"
    },
    {
     "data": {
      "application/vnd.jupyter.widget-view+json": {
       "model_id": "348afd455b6a4f0680a3922fb657d3d5",
       "version_major": 2,
       "version_minor": 0
      },
      "text/plain": [
       "Batches:   0%|          | 0/1 [00:00<?, ?it/s]"
      ]
     },
     "metadata": {},
     "output_type": "display_data"
    },
    {
     "data": {
      "application/vnd.jupyter.widget-view+json": {
       "model_id": "1eedc63598884b099967780904c9ac5c",
       "version_major": 2,
       "version_minor": 0
      },
      "text/plain": [
       "Batches:   0%|          | 0/1 [00:00<?, ?it/s]"
      ]
     },
     "metadata": {},
     "output_type": "display_data"
    },
    {
     "data": {
      "application/vnd.jupyter.widget-view+json": {
       "model_id": "ffc797f3c9854a34861a4d5a9d911e01",
       "version_major": 2,
       "version_minor": 0
      },
      "text/plain": [
       "Batches:   0%|          | 0/1 [00:00<?, ?it/s]"
      ]
     },
     "metadata": {},
     "output_type": "display_data"
    },
    {
     "data": {
      "application/vnd.jupyter.widget-view+json": {
       "model_id": "84d620bab62640e794255e6a700fe791",
       "version_major": 2,
       "version_minor": 0
      },
      "text/plain": [
       "Batches:   0%|          | 0/1 [00:00<?, ?it/s]"
      ]
     },
     "metadata": {},
     "output_type": "display_data"
    },
    {
     "data": {
      "application/vnd.jupyter.widget-view+json": {
       "model_id": "ea5cda07667045888c6d42298d7838e2",
       "version_major": 2,
       "version_minor": 0
      },
      "text/plain": [
       "Batches:   0%|          | 0/1 [00:00<?, ?it/s]"
      ]
     },
     "metadata": {},
     "output_type": "display_data"
    },
    {
     "data": {
      "application/vnd.jupyter.widget-view+json": {
       "model_id": "093a93ae330b4cb0bb18ae7fcfa48ee6",
       "version_major": 2,
       "version_minor": 0
      },
      "text/plain": [
       "Batches:   0%|          | 0/1 [00:00<?, ?it/s]"
      ]
     },
     "metadata": {},
     "output_type": "display_data"
    },
    {
     "data": {
      "application/vnd.jupyter.widget-view+json": {
       "model_id": "eb186a0f553145fea94fe33ded6c1cf0",
       "version_major": 2,
       "version_minor": 0
      },
      "text/plain": [
       "Batches:   0%|          | 0/1 [00:00<?, ?it/s]"
      ]
     },
     "metadata": {},
     "output_type": "display_data"
    },
    {
     "data": {
      "application/vnd.jupyter.widget-view+json": {
       "model_id": "e933c16bb2844fe89be778a2e469bb13",
       "version_major": 2,
       "version_minor": 0
      },
      "text/plain": [
       "Batches:   0%|          | 0/1 [00:00<?, ?it/s]"
      ]
     },
     "metadata": {},
     "output_type": "display_data"
    },
    {
     "data": {
      "application/vnd.jupyter.widget-view+json": {
       "model_id": "031c748afbb640f3938e9e19488b18f4",
       "version_major": 2,
       "version_minor": 0
      },
      "text/plain": [
       "Batches:   0%|          | 0/1 [00:00<?, ?it/s]"
      ]
     },
     "metadata": {},
     "output_type": "display_data"
    },
    {
     "data": {
      "application/vnd.jupyter.widget-view+json": {
       "model_id": "d958446807d8413e8a5f2363960938d2",
       "version_major": 2,
       "version_minor": 0
      },
      "text/plain": [
       "Batches:   0%|          | 0/1 [00:00<?, ?it/s]"
      ]
     },
     "metadata": {},
     "output_type": "display_data"
    },
    {
     "data": {
      "application/vnd.jupyter.widget-view+json": {
       "model_id": "8d1aa04c977a4f21ab4a1e9246fd6df8",
       "version_major": 2,
       "version_minor": 0
      },
      "text/plain": [
       "Batches:   0%|          | 0/1 [00:00<?, ?it/s]"
      ]
     },
     "metadata": {},
     "output_type": "display_data"
    },
    {
     "data": {
      "application/vnd.jupyter.widget-view+json": {
       "model_id": "d39e21ae3cbe4118ab6f7c90d0b14cef",
       "version_major": 2,
       "version_minor": 0
      },
      "text/plain": [
       "Batches:   0%|          | 0/1 [00:00<?, ?it/s]"
      ]
     },
     "metadata": {},
     "output_type": "display_data"
    },
    {
     "data": {
      "application/vnd.jupyter.widget-view+json": {
       "model_id": "7be400042c9749369c23e5a08229bade",
       "version_major": 2,
       "version_minor": 0
      },
      "text/plain": [
       "Batches:   0%|          | 0/1 [00:00<?, ?it/s]"
      ]
     },
     "metadata": {},
     "output_type": "display_data"
    },
    {
     "data": {
      "application/vnd.jupyter.widget-view+json": {
       "model_id": "7e59acbbf3cc4ef483e1942bd9bd389c",
       "version_major": 2,
       "version_minor": 0
      },
      "text/plain": [
       "Batches:   0%|          | 0/1 [00:00<?, ?it/s]"
      ]
     },
     "metadata": {},
     "output_type": "display_data"
    },
    {
     "data": {
      "application/vnd.jupyter.widget-view+json": {
       "model_id": "4cda4500beed459e95d9e5d61343328a",
       "version_major": 2,
       "version_minor": 0
      },
      "text/plain": [
       "Batches:   0%|          | 0/1 [00:00<?, ?it/s]"
      ]
     },
     "metadata": {},
     "output_type": "display_data"
    },
    {
     "data": {
      "application/vnd.jupyter.widget-view+json": {
       "model_id": "17a4a7f6f9f845a4912e46fcf93eee97",
       "version_major": 2,
       "version_minor": 0
      },
      "text/plain": [
       "Batches:   0%|          | 0/1 [00:00<?, ?it/s]"
      ]
     },
     "metadata": {},
     "output_type": "display_data"
    },
    {
     "data": {
      "application/vnd.jupyter.widget-view+json": {
       "model_id": "23e790cb5cf54b4d905e59f4a267aabb",
       "version_major": 2,
       "version_minor": 0
      },
      "text/plain": [
       "Batches:   0%|          | 0/1 [00:00<?, ?it/s]"
      ]
     },
     "metadata": {},
     "output_type": "display_data"
    },
    {
     "data": {
      "application/vnd.jupyter.widget-view+json": {
       "model_id": "315b6f633b4d42d3bfcf09aa62e99d82",
       "version_major": 2,
       "version_minor": 0
      },
      "text/plain": [
       "Batches:   0%|          | 0/1 [00:00<?, ?it/s]"
      ]
     },
     "metadata": {},
     "output_type": "display_data"
    },
    {
     "data": {
      "application/vnd.jupyter.widget-view+json": {
       "model_id": "b1189d3447a54577b6d56effdcb4754f",
       "version_major": 2,
       "version_minor": 0
      },
      "text/plain": [
       "Batches:   0%|          | 0/1 [00:00<?, ?it/s]"
      ]
     },
     "metadata": {},
     "output_type": "display_data"
    },
    {
     "data": {
      "application/vnd.jupyter.widget-view+json": {
       "model_id": "29e7d2c57a804de5901e60d4a52bf04c",
       "version_major": 2,
       "version_minor": 0
      },
      "text/plain": [
       "Batches:   0%|          | 0/1 [00:00<?, ?it/s]"
      ]
     },
     "metadata": {},
     "output_type": "display_data"
    },
    {
     "data": {
      "application/vnd.jupyter.widget-view+json": {
       "model_id": "7be26e529f794b35aa3e45a50ec43858",
       "version_major": 2,
       "version_minor": 0
      },
      "text/plain": [
       "Batches:   0%|          | 0/1 [00:00<?, ?it/s]"
      ]
     },
     "metadata": {},
     "output_type": "display_data"
    },
    {
     "data": {
      "application/vnd.jupyter.widget-view+json": {
       "model_id": "cc40bfa8d447499baf483387ceb3d2c9",
       "version_major": 2,
       "version_minor": 0
      },
      "text/plain": [
       "Batches:   0%|          | 0/1 [00:00<?, ?it/s]"
      ]
     },
     "metadata": {},
     "output_type": "display_data"
    },
    {
     "data": {
      "application/vnd.jupyter.widget-view+json": {
       "model_id": "3fcdad35e63b4b639a8313d17ac5876b",
       "version_major": 2,
       "version_minor": 0
      },
      "text/plain": [
       "Batches:   0%|          | 0/1 [00:00<?, ?it/s]"
      ]
     },
     "metadata": {},
     "output_type": "display_data"
    },
    {
     "data": {
      "application/vnd.jupyter.widget-view+json": {
       "model_id": "32dda4dde98844eb93707aea06db73a7",
       "version_major": 2,
       "version_minor": 0
      },
      "text/plain": [
       "Batches:   0%|          | 0/1 [00:00<?, ?it/s]"
      ]
     },
     "metadata": {},
     "output_type": "display_data"
    },
    {
     "data": {
      "application/vnd.jupyter.widget-view+json": {
       "model_id": "e75cbc7d7a2147edb8391255e29ad555",
       "version_major": 2,
       "version_minor": 0
      },
      "text/plain": [
       "Batches:   0%|          | 0/1 [00:00<?, ?it/s]"
      ]
     },
     "metadata": {},
     "output_type": "display_data"
    },
    {
     "data": {
      "application/vnd.jupyter.widget-view+json": {
       "model_id": "32a6c7664c4940e184e1a12a9a1b6d03",
       "version_major": 2,
       "version_minor": 0
      },
      "text/plain": [
       "Batches:   0%|          | 0/1 [00:00<?, ?it/s]"
      ]
     },
     "metadata": {},
     "output_type": "display_data"
    },
    {
     "data": {
      "application/vnd.jupyter.widget-view+json": {
       "model_id": "89d1edc03c7a41bd9d2a367a62cb86f3",
       "version_major": 2,
       "version_minor": 0
      },
      "text/plain": [
       "Batches:   0%|          | 0/1 [00:00<?, ?it/s]"
      ]
     },
     "metadata": {},
     "output_type": "display_data"
    },
    {
     "data": {
      "application/vnd.jupyter.widget-view+json": {
       "model_id": "9ec02612c330447b82ea53df80531abe",
       "version_major": 2,
       "version_minor": 0
      },
      "text/plain": [
       "Batches:   0%|          | 0/1 [00:00<?, ?it/s]"
      ]
     },
     "metadata": {},
     "output_type": "display_data"
    },
    {
     "data": {
      "application/vnd.jupyter.widget-view+json": {
       "model_id": "ee8eca2b7abc4fe983da592d24f66103",
       "version_major": 2,
       "version_minor": 0
      },
      "text/plain": [
       "Batches:   0%|          | 0/1 [00:00<?, ?it/s]"
      ]
     },
     "metadata": {},
     "output_type": "display_data"
    },
    {
     "data": {
      "application/vnd.jupyter.widget-view+json": {
       "model_id": "c1d71e669b0e4dec9ea1eefaa9b7d030",
       "version_major": 2,
       "version_minor": 0
      },
      "text/plain": [
       "Batches:   0%|          | 0/1 [00:00<?, ?it/s]"
      ]
     },
     "metadata": {},
     "output_type": "display_data"
    },
    {
     "data": {
      "application/vnd.jupyter.widget-view+json": {
       "model_id": "5177d0f554054568aa443aad0f7eb43d",
       "version_major": 2,
       "version_minor": 0
      },
      "text/plain": [
       "Batches:   0%|          | 0/1 [00:00<?, ?it/s]"
      ]
     },
     "metadata": {},
     "output_type": "display_data"
    },
    {
     "data": {
      "application/vnd.jupyter.widget-view+json": {
       "model_id": "025c8ac4933d4936bba88563d71c60e4",
       "version_major": 2,
       "version_minor": 0
      },
      "text/plain": [
       "Batches:   0%|          | 0/1 [00:00<?, ?it/s]"
      ]
     },
     "metadata": {},
     "output_type": "display_data"
    },
    {
     "data": {
      "application/vnd.jupyter.widget-view+json": {
       "model_id": "32d8865c9fa24c18a69e2fbfa5fa0605",
       "version_major": 2,
       "version_minor": 0
      },
      "text/plain": [
       "Batches:   0%|          | 0/1 [00:00<?, ?it/s]"
      ]
     },
     "metadata": {},
     "output_type": "display_data"
    },
    {
     "data": {
      "application/vnd.jupyter.widget-view+json": {
       "model_id": "59b7aabc861a41199c59636f7312a557",
       "version_major": 2,
       "version_minor": 0
      },
      "text/plain": [
       "Batches:   0%|          | 0/1 [00:00<?, ?it/s]"
      ]
     },
     "metadata": {},
     "output_type": "display_data"
    },
    {
     "data": {
      "application/vnd.jupyter.widget-view+json": {
       "model_id": "98d2616cefe84a649640125dc5edfa83",
       "version_major": 2,
       "version_minor": 0
      },
      "text/plain": [
       "Batches:   0%|          | 0/1 [00:00<?, ?it/s]"
      ]
     },
     "metadata": {},
     "output_type": "display_data"
    },
    {
     "data": {
      "application/vnd.jupyter.widget-view+json": {
       "model_id": "d109d463531b4e09948583c4caadd7d5",
       "version_major": 2,
       "version_minor": 0
      },
      "text/plain": [
       "Batches:   0%|          | 0/1 [00:00<?, ?it/s]"
      ]
     },
     "metadata": {},
     "output_type": "display_data"
    },
    {
     "data": {
      "application/vnd.jupyter.widget-view+json": {
       "model_id": "39a3acff194c40c398d3e859cb0bb798",
       "version_major": 2,
       "version_minor": 0
      },
      "text/plain": [
       "Batches:   0%|          | 0/1 [00:00<?, ?it/s]"
      ]
     },
     "metadata": {},
     "output_type": "display_data"
    },
    {
     "data": {
      "application/vnd.jupyter.widget-view+json": {
       "model_id": "34151ec8c9204d69b15631a608f9e229",
       "version_major": 2,
       "version_minor": 0
      },
      "text/plain": [
       "Batches:   0%|          | 0/1 [00:00<?, ?it/s]"
      ]
     },
     "metadata": {},
     "output_type": "display_data"
    },
    {
     "data": {
      "application/vnd.jupyter.widget-view+json": {
       "model_id": "3d67fbd98eda45b8adcf6e209e6661dc",
       "version_major": 2,
       "version_minor": 0
      },
      "text/plain": [
       "Batches:   0%|          | 0/1 [00:00<?, ?it/s]"
      ]
     },
     "metadata": {},
     "output_type": "display_data"
    },
    {
     "data": {
      "application/vnd.jupyter.widget-view+json": {
       "model_id": "f0d1226812f14d43a2b70e797c2309af",
       "version_major": 2,
       "version_minor": 0
      },
      "text/plain": [
       "Batches:   0%|          | 0/1 [00:00<?, ?it/s]"
      ]
     },
     "metadata": {},
     "output_type": "display_data"
    },
    {
     "data": {
      "application/vnd.jupyter.widget-view+json": {
       "model_id": "3d54e3fadd1743969ac5bf331f6fd995",
       "version_major": 2,
       "version_minor": 0
      },
      "text/plain": [
       "Batches:   0%|          | 0/1 [00:00<?, ?it/s]"
      ]
     },
     "metadata": {},
     "output_type": "display_data"
    },
    {
     "data": {
      "application/vnd.jupyter.widget-view+json": {
       "model_id": "8b13fa2c97d74092a52b6efd61e27069",
       "version_major": 2,
       "version_minor": 0
      },
      "text/plain": [
       "Batches:   0%|          | 0/1 [00:00<?, ?it/s]"
      ]
     },
     "metadata": {},
     "output_type": "display_data"
    },
    {
     "data": {
      "application/vnd.jupyter.widget-view+json": {
       "model_id": "44a8688c326b4dc993bda60ff2a035da",
       "version_major": 2,
       "version_minor": 0
      },
      "text/plain": [
       "Batches:   0%|          | 0/1 [00:00<?, ?it/s]"
      ]
     },
     "metadata": {},
     "output_type": "display_data"
    },
    {
     "data": {
      "application/vnd.jupyter.widget-view+json": {
       "model_id": "d6fe5a4256d648e2958705245ed8e909",
       "version_major": 2,
       "version_minor": 0
      },
      "text/plain": [
       "Batches:   0%|          | 0/1 [00:00<?, ?it/s]"
      ]
     },
     "metadata": {},
     "output_type": "display_data"
    },
    {
     "data": {
      "application/vnd.jupyter.widget-view+json": {
       "model_id": "d755edf2fee148d08836605e9ec3f666",
       "version_major": 2,
       "version_minor": 0
      },
      "text/plain": [
       "Batches:   0%|          | 0/1 [00:00<?, ?it/s]"
      ]
     },
     "metadata": {},
     "output_type": "display_data"
    },
    {
     "data": {
      "application/vnd.jupyter.widget-view+json": {
       "model_id": "4039e3937e61403599560de1dec4fcca",
       "version_major": 2,
       "version_minor": 0
      },
      "text/plain": [
       "Batches:   0%|          | 0/1 [00:00<?, ?it/s]"
      ]
     },
     "metadata": {},
     "output_type": "display_data"
    },
    {
     "data": {
      "application/vnd.jupyter.widget-view+json": {
       "model_id": "7f5e9ff04e5d472e802433b2367743e7",
       "version_major": 2,
       "version_minor": 0
      },
      "text/plain": [
       "Batches:   0%|          | 0/1 [00:00<?, ?it/s]"
      ]
     },
     "metadata": {},
     "output_type": "display_data"
    },
    {
     "data": {
      "application/vnd.jupyter.widget-view+json": {
       "model_id": "37e7747c45c34217a25568228fdd543c",
       "version_major": 2,
       "version_minor": 0
      },
      "text/plain": [
       "Batches:   0%|          | 0/1 [00:00<?, ?it/s]"
      ]
     },
     "metadata": {},
     "output_type": "display_data"
    },
    {
     "data": {
      "application/vnd.jupyter.widget-view+json": {
       "model_id": "5270c8adc02347a1af620e8ed656511b",
       "version_major": 2,
       "version_minor": 0
      },
      "text/plain": [
       "Batches:   0%|          | 0/1 [00:00<?, ?it/s]"
      ]
     },
     "metadata": {},
     "output_type": "display_data"
    },
    {
     "data": {
      "application/vnd.jupyter.widget-view+json": {
       "model_id": "ce5a111e8b7d43ffb7103d2681e706a5",
       "version_major": 2,
       "version_minor": 0
      },
      "text/plain": [
       "Batches:   0%|          | 0/1 [00:00<?, ?it/s]"
      ]
     },
     "metadata": {},
     "output_type": "display_data"
    },
    {
     "data": {
      "application/vnd.jupyter.widget-view+json": {
       "model_id": "15df6de05e714e4aa2cb7db031010649",
       "version_major": 2,
       "version_minor": 0
      },
      "text/plain": [
       "Batches:   0%|          | 0/1 [00:00<?, ?it/s]"
      ]
     },
     "metadata": {},
     "output_type": "display_data"
    },
    {
     "data": {
      "application/vnd.jupyter.widget-view+json": {
       "model_id": "22a29b8308ec4095aaa574e3846b6b74",
       "version_major": 2,
       "version_minor": 0
      },
      "text/plain": [
       "Batches:   0%|          | 0/1 [00:00<?, ?it/s]"
      ]
     },
     "metadata": {},
     "output_type": "display_data"
    },
    {
     "data": {
      "application/vnd.jupyter.widget-view+json": {
       "model_id": "3f72265b29704e1ab881d387686d014e",
       "version_major": 2,
       "version_minor": 0
      },
      "text/plain": [
       "Batches:   0%|          | 0/1 [00:00<?, ?it/s]"
      ]
     },
     "metadata": {},
     "output_type": "display_data"
    },
    {
     "data": {
      "application/vnd.jupyter.widget-view+json": {
       "model_id": "f11d055dcdc740c1ba480e625fee3603",
       "version_major": 2,
       "version_minor": 0
      },
      "text/plain": [
       "Batches:   0%|          | 0/1 [00:00<?, ?it/s]"
      ]
     },
     "metadata": {},
     "output_type": "display_data"
    },
    {
     "data": {
      "application/vnd.jupyter.widget-view+json": {
       "model_id": "620830ff0e9c437380850ab29d83408f",
       "version_major": 2,
       "version_minor": 0
      },
      "text/plain": [
       "Batches:   0%|          | 0/1 [00:00<?, ?it/s]"
      ]
     },
     "metadata": {},
     "output_type": "display_data"
    },
    {
     "data": {
      "application/vnd.jupyter.widget-view+json": {
       "model_id": "b421b06edd89486eafc4405f92f8421a",
       "version_major": 2,
       "version_minor": 0
      },
      "text/plain": [
       "Batches:   0%|          | 0/1 [00:00<?, ?it/s]"
      ]
     },
     "metadata": {},
     "output_type": "display_data"
    },
    {
     "data": {
      "application/vnd.jupyter.widget-view+json": {
       "model_id": "150d510db0254064919eb17089361cf7",
       "version_major": 2,
       "version_minor": 0
      },
      "text/plain": [
       "Batches:   0%|          | 0/1 [00:00<?, ?it/s]"
      ]
     },
     "metadata": {},
     "output_type": "display_data"
    },
    {
     "data": {
      "application/vnd.jupyter.widget-view+json": {
       "model_id": "696326e3d1da4003928c2230defa93fb",
       "version_major": 2,
       "version_minor": 0
      },
      "text/plain": [
       "Batches:   0%|          | 0/1 [00:00<?, ?it/s]"
      ]
     },
     "metadata": {},
     "output_type": "display_data"
    },
    {
     "data": {
      "application/vnd.jupyter.widget-view+json": {
       "model_id": "b6b5f925b2e445cf9e539faabc5d4b7d",
       "version_major": 2,
       "version_minor": 0
      },
      "text/plain": [
       "Batches:   0%|          | 0/1 [00:00<?, ?it/s]"
      ]
     },
     "metadata": {},
     "output_type": "display_data"
    },
    {
     "data": {
      "application/vnd.jupyter.widget-view+json": {
       "model_id": "b7d51d6b78274b6d8ccfca8c9778acbb",
       "version_major": 2,
       "version_minor": 0
      },
      "text/plain": [
       "Batches:   0%|          | 0/1 [00:00<?, ?it/s]"
      ]
     },
     "metadata": {},
     "output_type": "display_data"
    },
    {
     "data": {
      "application/vnd.jupyter.widget-view+json": {
       "model_id": "f8cf0ab8a8c84fca8914011cf1a297e6",
       "version_major": 2,
       "version_minor": 0
      },
      "text/plain": [
       "Batches:   0%|          | 0/1 [00:00<?, ?it/s]"
      ]
     },
     "metadata": {},
     "output_type": "display_data"
    },
    {
     "data": {
      "application/vnd.jupyter.widget-view+json": {
       "model_id": "48da742b473a4b4bb6b3d4acd2fd3138",
       "version_major": 2,
       "version_minor": 0
      },
      "text/plain": [
       "Batches:   0%|          | 0/1 [00:00<?, ?it/s]"
      ]
     },
     "metadata": {},
     "output_type": "display_data"
    },
    {
     "data": {
      "application/vnd.jupyter.widget-view+json": {
       "model_id": "5e14d7c5115c48beb433fac44bec21b1",
       "version_major": 2,
       "version_minor": 0
      },
      "text/plain": [
       "Batches:   0%|          | 0/1 [00:00<?, ?it/s]"
      ]
     },
     "metadata": {},
     "output_type": "display_data"
    },
    {
     "data": {
      "application/vnd.jupyter.widget-view+json": {
       "model_id": "a8269a94462047dcab9beda2884919ad",
       "version_major": 2,
       "version_minor": 0
      },
      "text/plain": [
       "Batches:   0%|          | 0/1 [00:00<?, ?it/s]"
      ]
     },
     "metadata": {},
     "output_type": "display_data"
    },
    {
     "data": {
      "application/vnd.jupyter.widget-view+json": {
       "model_id": "94fc3372b9b8488791c7a49f7a9d790d",
       "version_major": 2,
       "version_minor": 0
      },
      "text/plain": [
       "Batches:   0%|          | 0/1 [00:00<?, ?it/s]"
      ]
     },
     "metadata": {},
     "output_type": "display_data"
    },
    {
     "data": {
      "application/vnd.jupyter.widget-view+json": {
       "model_id": "c394005d12dc4bc2a91072f35f0893d4",
       "version_major": 2,
       "version_minor": 0
      },
      "text/plain": [
       "Batches:   0%|          | 0/1 [00:00<?, ?it/s]"
      ]
     },
     "metadata": {},
     "output_type": "display_data"
    },
    {
     "data": {
      "application/vnd.jupyter.widget-view+json": {
       "model_id": "1a53cc31a03348ebb936d6db7456e2f1",
       "version_major": 2,
       "version_minor": 0
      },
      "text/plain": [
       "Batches:   0%|          | 0/1 [00:00<?, ?it/s]"
      ]
     },
     "metadata": {},
     "output_type": "display_data"
    },
    {
     "data": {
      "application/vnd.jupyter.widget-view+json": {
       "model_id": "b1e9af9cfa9f4bcebb111b4ec7a97650",
       "version_major": 2,
       "version_minor": 0
      },
      "text/plain": [
       "Batches:   0%|          | 0/1 [00:00<?, ?it/s]"
      ]
     },
     "metadata": {},
     "output_type": "display_data"
    },
    {
     "data": {
      "application/vnd.jupyter.widget-view+json": {
       "model_id": "0667933926774c928d230b735d12b8be",
       "version_major": 2,
       "version_minor": 0
      },
      "text/plain": [
       "Batches:   0%|          | 0/1 [00:00<?, ?it/s]"
      ]
     },
     "metadata": {},
     "output_type": "display_data"
    },
    {
     "data": {
      "application/vnd.jupyter.widget-view+json": {
       "model_id": "9788fe68c4a544d58d4a3fbb3a7a254d",
       "version_major": 2,
       "version_minor": 0
      },
      "text/plain": [
       "Batches:   0%|          | 0/1 [00:00<?, ?it/s]"
      ]
     },
     "metadata": {},
     "output_type": "display_data"
    },
    {
     "data": {
      "application/vnd.jupyter.widget-view+json": {
       "model_id": "6b34e3fe61134256a8eaf9c71f47f110",
       "version_major": 2,
       "version_minor": 0
      },
      "text/plain": [
       "Batches:   0%|          | 0/1 [00:00<?, ?it/s]"
      ]
     },
     "metadata": {},
     "output_type": "display_data"
    },
    {
     "data": {
      "application/vnd.jupyter.widget-view+json": {
       "model_id": "ecdac8d47c144d759f742596512af7d0",
       "version_major": 2,
       "version_minor": 0
      },
      "text/plain": [
       "Batches:   0%|          | 0/1 [00:00<?, ?it/s]"
      ]
     },
     "metadata": {},
     "output_type": "display_data"
    },
    {
     "data": {
      "application/vnd.jupyter.widget-view+json": {
       "model_id": "710ded68da714cdcaf5110224e7791f4",
       "version_major": 2,
       "version_minor": 0
      },
      "text/plain": [
       "Batches:   0%|          | 0/1 [00:00<?, ?it/s]"
      ]
     },
     "metadata": {},
     "output_type": "display_data"
    },
    {
     "data": {
      "application/vnd.jupyter.widget-view+json": {
       "model_id": "657a3b73eceb4fc0b5573bdf196ac96b",
       "version_major": 2,
       "version_minor": 0
      },
      "text/plain": [
       "Batches:   0%|          | 0/1 [00:00<?, ?it/s]"
      ]
     },
     "metadata": {},
     "output_type": "display_data"
    },
    {
     "data": {
      "application/vnd.jupyter.widget-view+json": {
       "model_id": "4e113e9f550a4206887fa0abfd6c3a8f",
       "version_major": 2,
       "version_minor": 0
      },
      "text/plain": [
       "Batches:   0%|          | 0/1 [00:00<?, ?it/s]"
      ]
     },
     "metadata": {},
     "output_type": "display_data"
    },
    {
     "data": {
      "application/vnd.jupyter.widget-view+json": {
       "model_id": "86f9c287202b4bdeb797a8de2439c038",
       "version_major": 2,
       "version_minor": 0
      },
      "text/plain": [
       "Batches:   0%|          | 0/1 [00:00<?, ?it/s]"
      ]
     },
     "metadata": {},
     "output_type": "display_data"
    },
    {
     "data": {
      "application/vnd.jupyter.widget-view+json": {
       "model_id": "88a059d1207040548679e567cd68a500",
       "version_major": 2,
       "version_minor": 0
      },
      "text/plain": [
       "Batches:   0%|          | 0/1 [00:00<?, ?it/s]"
      ]
     },
     "metadata": {},
     "output_type": "display_data"
    },
    {
     "data": {
      "application/vnd.jupyter.widget-view+json": {
       "model_id": "cb8aab60ba3b4e889eeec6650ce4b731",
       "version_major": 2,
       "version_minor": 0
      },
      "text/plain": [
       "Batches:   0%|          | 0/1 [00:00<?, ?it/s]"
      ]
     },
     "metadata": {},
     "output_type": "display_data"
    },
    {
     "data": {
      "application/vnd.jupyter.widget-view+json": {
       "model_id": "f2b911484fc143d1929e2a3de5e03da8",
       "version_major": 2,
       "version_minor": 0
      },
      "text/plain": [
       "Batches:   0%|          | 0/1 [00:00<?, ?it/s]"
      ]
     },
     "metadata": {},
     "output_type": "display_data"
    },
    {
     "data": {
      "application/vnd.jupyter.widget-view+json": {
       "model_id": "78c5900f89604fa28a7757205dbcf0d1",
       "version_major": 2,
       "version_minor": 0
      },
      "text/plain": [
       "Batches:   0%|          | 0/1 [00:00<?, ?it/s]"
      ]
     },
     "metadata": {},
     "output_type": "display_data"
    },
    {
     "data": {
      "application/vnd.jupyter.widget-view+json": {
       "model_id": "55389fa4ffd846299575c89cfc948bec",
       "version_major": 2,
       "version_minor": 0
      },
      "text/plain": [
       "Batches:   0%|          | 0/1 [00:00<?, ?it/s]"
      ]
     },
     "metadata": {},
     "output_type": "display_data"
    },
    {
     "data": {
      "application/vnd.jupyter.widget-view+json": {
       "model_id": "cfc4599d3da0402cb9cd5f3e7864b088",
       "version_major": 2,
       "version_minor": 0
      },
      "text/plain": [
       "Batches:   0%|          | 0/1 [00:00<?, ?it/s]"
      ]
     },
     "metadata": {},
     "output_type": "display_data"
    },
    {
     "data": {
      "application/vnd.jupyter.widget-view+json": {
       "model_id": "2ac08dadf1294dfd85c08c7cbc8ba880",
       "version_major": 2,
       "version_minor": 0
      },
      "text/plain": [
       "Batches:   0%|          | 0/1 [00:00<?, ?it/s]"
      ]
     },
     "metadata": {},
     "output_type": "display_data"
    },
    {
     "data": {
      "application/vnd.jupyter.widget-view+json": {
       "model_id": "93b11d64516c468ca4147f90f3ad560b",
       "version_major": 2,
       "version_minor": 0
      },
      "text/plain": [
       "Batches:   0%|          | 0/1 [00:00<?, ?it/s]"
      ]
     },
     "metadata": {},
     "output_type": "display_data"
    },
    {
     "data": {
      "application/vnd.jupyter.widget-view+json": {
       "model_id": "ea4b46bcc4cf476b8ef737687f48e465",
       "version_major": 2,
       "version_minor": 0
      },
      "text/plain": [
       "Batches:   0%|          | 0/1 [00:00<?, ?it/s]"
      ]
     },
     "metadata": {},
     "output_type": "display_data"
    },
    {
     "data": {
      "application/vnd.jupyter.widget-view+json": {
       "model_id": "64fb022e9be84a76b2eee3255babfe62",
       "version_major": 2,
       "version_minor": 0
      },
      "text/plain": [
       "Batches:   0%|          | 0/1 [00:00<?, ?it/s]"
      ]
     },
     "metadata": {},
     "output_type": "display_data"
    },
    {
     "data": {
      "application/vnd.jupyter.widget-view+json": {
       "model_id": "1e5f581919b9405eb4b702bfe239bef4",
       "version_major": 2,
       "version_minor": 0
      },
      "text/plain": [
       "Batches:   0%|          | 0/1 [00:00<?, ?it/s]"
      ]
     },
     "metadata": {},
     "output_type": "display_data"
    },
    {
     "data": {
      "application/vnd.jupyter.widget-view+json": {
       "model_id": "a11549bdb50e4f47abfb350cb1c24049",
       "version_major": 2,
       "version_minor": 0
      },
      "text/plain": [
       "Batches:   0%|          | 0/1 [00:00<?, ?it/s]"
      ]
     },
     "metadata": {},
     "output_type": "display_data"
    },
    {
     "data": {
      "application/vnd.jupyter.widget-view+json": {
       "model_id": "7bb2356eb1ad4997853dcfdc83a1b314",
       "version_major": 2,
       "version_minor": 0
      },
      "text/plain": [
       "Batches:   0%|          | 0/1 [00:00<?, ?it/s]"
      ]
     },
     "metadata": {},
     "output_type": "display_data"
    },
    {
     "data": {
      "application/vnd.jupyter.widget-view+json": {
       "model_id": "5748bfa1e144474abbe2f5bf13ae0677",
       "version_major": 2,
       "version_minor": 0
      },
      "text/plain": [
       "Batches:   0%|          | 0/1 [00:00<?, ?it/s]"
      ]
     },
     "metadata": {},
     "output_type": "display_data"
    },
    {
     "data": {
      "application/vnd.jupyter.widget-view+json": {
       "model_id": "34988b065a884f12adaaadf483106290",
       "version_major": 2,
       "version_minor": 0
      },
      "text/plain": [
       "Batches:   0%|          | 0/1 [00:00<?, ?it/s]"
      ]
     },
     "metadata": {},
     "output_type": "display_data"
    },
    {
     "data": {
      "application/vnd.jupyter.widget-view+json": {
       "model_id": "f4d8af74744a4e95b2104660bdb902ba",
       "version_major": 2,
       "version_minor": 0
      },
      "text/plain": [
       "Batches:   0%|          | 0/1 [00:00<?, ?it/s]"
      ]
     },
     "metadata": {},
     "output_type": "display_data"
    },
    {
     "data": {
      "application/vnd.jupyter.widget-view+json": {
       "model_id": "1b2575ee89214ae38b0670441d033ab4",
       "version_major": 2,
       "version_minor": 0
      },
      "text/plain": [
       "Batches:   0%|          | 0/1 [00:00<?, ?it/s]"
      ]
     },
     "metadata": {},
     "output_type": "display_data"
    },
    {
     "data": {
      "application/vnd.jupyter.widget-view+json": {
       "model_id": "06dcf9bfcdde46bcae03642ead7147d3",
       "version_major": 2,
       "version_minor": 0
      },
      "text/plain": [
       "Batches:   0%|          | 0/1 [00:00<?, ?it/s]"
      ]
     },
     "metadata": {},
     "output_type": "display_data"
    },
    {
     "data": {
      "application/vnd.jupyter.widget-view+json": {
       "model_id": "2a7829a66a254d6eb23787911f1b71f4",
       "version_major": 2,
       "version_minor": 0
      },
      "text/plain": [
       "Batches:   0%|          | 0/1 [00:00<?, ?it/s]"
      ]
     },
     "metadata": {},
     "output_type": "display_data"
    },
    {
     "data": {
      "application/vnd.jupyter.widget-view+json": {
       "model_id": "cf7d9f79c15b4308ba99c896e30abf08",
       "version_major": 2,
       "version_minor": 0
      },
      "text/plain": [
       "Batches:   0%|          | 0/1 [00:00<?, ?it/s]"
      ]
     },
     "metadata": {},
     "output_type": "display_data"
    },
    {
     "data": {
      "application/vnd.jupyter.widget-view+json": {
       "model_id": "38fbfce5cfd444c4b584455c72c9f7d8",
       "version_major": 2,
       "version_minor": 0
      },
      "text/plain": [
       "Batches:   0%|          | 0/1 [00:00<?, ?it/s]"
      ]
     },
     "metadata": {},
     "output_type": "display_data"
    },
    {
     "data": {
      "application/vnd.jupyter.widget-view+json": {
       "model_id": "4e75d9a949b544ce8bb1baffd5f0b072",
       "version_major": 2,
       "version_minor": 0
      },
      "text/plain": [
       "Batches:   0%|          | 0/1 [00:00<?, ?it/s]"
      ]
     },
     "metadata": {},
     "output_type": "display_data"
    },
    {
     "data": {
      "application/vnd.jupyter.widget-view+json": {
       "model_id": "27d9bc7f3eca49009d9c2276833e3c0a",
       "version_major": 2,
       "version_minor": 0
      },
      "text/plain": [
       "Batches:   0%|          | 0/1 [00:00<?, ?it/s]"
      ]
     },
     "metadata": {},
     "output_type": "display_data"
    },
    {
     "data": {
      "application/vnd.jupyter.widget-view+json": {
       "model_id": "edd51c9d3e11449b8814ab9121370052",
       "version_major": 2,
       "version_minor": 0
      },
      "text/plain": [
       "Batches:   0%|          | 0/1 [00:00<?, ?it/s]"
      ]
     },
     "metadata": {},
     "output_type": "display_data"
    },
    {
     "data": {
      "application/vnd.jupyter.widget-view+json": {
       "model_id": "7275c5d123cc421dad0796fc773246cb",
       "version_major": 2,
       "version_minor": 0
      },
      "text/plain": [
       "Batches:   0%|          | 0/1 [00:00<?, ?it/s]"
      ]
     },
     "metadata": {},
     "output_type": "display_data"
    },
    {
     "data": {
      "application/vnd.jupyter.widget-view+json": {
       "model_id": "922d99b4183a4caabc5927390a9c9acd",
       "version_major": 2,
       "version_minor": 0
      },
      "text/plain": [
       "Batches:   0%|          | 0/1 [00:00<?, ?it/s]"
      ]
     },
     "metadata": {},
     "output_type": "display_data"
    },
    {
     "data": {
      "application/vnd.jupyter.widget-view+json": {
       "model_id": "589ce628e505436cb005d298187f5377",
       "version_major": 2,
       "version_minor": 0
      },
      "text/plain": [
       "Batches:   0%|          | 0/1 [00:00<?, ?it/s]"
      ]
     },
     "metadata": {},
     "output_type": "display_data"
    },
    {
     "data": {
      "application/vnd.jupyter.widget-view+json": {
       "model_id": "58238d6d5cc44df19e4013cbeac80c36",
       "version_major": 2,
       "version_minor": 0
      },
      "text/plain": [
       "Batches:   0%|          | 0/1 [00:00<?, ?it/s]"
      ]
     },
     "metadata": {},
     "output_type": "display_data"
    },
    {
     "data": {
      "application/vnd.jupyter.widget-view+json": {
       "model_id": "94ac271e72db418db11c3def44873f2b",
       "version_major": 2,
       "version_minor": 0
      },
      "text/plain": [
       "Batches:   0%|          | 0/1 [00:00<?, ?it/s]"
      ]
     },
     "metadata": {},
     "output_type": "display_data"
    },
    {
     "data": {
      "application/vnd.jupyter.widget-view+json": {
       "model_id": "16674496b9b946cd8fee3a2ab7ad4696",
       "version_major": 2,
       "version_minor": 0
      },
      "text/plain": [
       "Batches:   0%|          | 0/1 [00:00<?, ?it/s]"
      ]
     },
     "metadata": {},
     "output_type": "display_data"
    },
    {
     "data": {
      "application/vnd.jupyter.widget-view+json": {
       "model_id": "d7a7552ed7b341f38a23ead74e7be86b",
       "version_major": 2,
       "version_minor": 0
      },
      "text/plain": [
       "Batches:   0%|          | 0/1 [00:00<?, ?it/s]"
      ]
     },
     "metadata": {},
     "output_type": "display_data"
    },
    {
     "data": {
      "application/vnd.jupyter.widget-view+json": {
       "model_id": "25797b68164f43abb97865ce4689649c",
       "version_major": 2,
       "version_minor": 0
      },
      "text/plain": [
       "Batches:   0%|          | 0/1 [00:00<?, ?it/s]"
      ]
     },
     "metadata": {},
     "output_type": "display_data"
    },
    {
     "data": {
      "application/vnd.jupyter.widget-view+json": {
       "model_id": "f561e2277326446b8b365f845ad0bbe6",
       "version_major": 2,
       "version_minor": 0
      },
      "text/plain": [
       "Batches:   0%|          | 0/1 [00:00<?, ?it/s]"
      ]
     },
     "metadata": {},
     "output_type": "display_data"
    },
    {
     "data": {
      "application/vnd.jupyter.widget-view+json": {
       "model_id": "2f2dbc797dc644af9fc8bd97d6df9479",
       "version_major": 2,
       "version_minor": 0
      },
      "text/plain": [
       "Batches:   0%|          | 0/1 [00:00<?, ?it/s]"
      ]
     },
     "metadata": {},
     "output_type": "display_data"
    },
    {
     "data": {
      "application/vnd.jupyter.widget-view+json": {
       "model_id": "04f7b543121f46b6b38ddfd002018291",
       "version_major": 2,
       "version_minor": 0
      },
      "text/plain": [
       "Batches:   0%|          | 0/1 [00:00<?, ?it/s]"
      ]
     },
     "metadata": {},
     "output_type": "display_data"
    },
    {
     "data": {
      "application/vnd.jupyter.widget-view+json": {
       "model_id": "87c51f3259264ebd886e157573fd6c40",
       "version_major": 2,
       "version_minor": 0
      },
      "text/plain": [
       "Batches:   0%|          | 0/1 [00:00<?, ?it/s]"
      ]
     },
     "metadata": {},
     "output_type": "display_data"
    },
    {
     "data": {
      "application/vnd.jupyter.widget-view+json": {
       "model_id": "7dae0d55ae364e1ab280682bf5cc9b0a",
       "version_major": 2,
       "version_minor": 0
      },
      "text/plain": [
       "Batches:   0%|          | 0/1 [00:00<?, ?it/s]"
      ]
     },
     "metadata": {},
     "output_type": "display_data"
    },
    {
     "data": {
      "application/vnd.jupyter.widget-view+json": {
       "model_id": "e2623167ad424b49ba9339de874bd2e9",
       "version_major": 2,
       "version_minor": 0
      },
      "text/plain": [
       "Batches:   0%|          | 0/1 [00:00<?, ?it/s]"
      ]
     },
     "metadata": {},
     "output_type": "display_data"
    },
    {
     "data": {
      "application/vnd.jupyter.widget-view+json": {
       "model_id": "590c17f9335d447a91c73a2f0e266730",
       "version_major": 2,
       "version_minor": 0
      },
      "text/plain": [
       "Batches:   0%|          | 0/1 [00:00<?, ?it/s]"
      ]
     },
     "metadata": {},
     "output_type": "display_data"
    },
    {
     "data": {
      "application/vnd.jupyter.widget-view+json": {
       "model_id": "2d5e88b7502c4b6b8c8a6a892edcf913",
       "version_major": 2,
       "version_minor": 0
      },
      "text/plain": [
       "Batches:   0%|          | 0/1 [00:00<?, ?it/s]"
      ]
     },
     "metadata": {},
     "output_type": "display_data"
    },
    {
     "data": {
      "application/vnd.jupyter.widget-view+json": {
       "model_id": "9db099f90c1c4a80bf34225660357add",
       "version_major": 2,
       "version_minor": 0
      },
      "text/plain": [
       "Batches:   0%|          | 0/1 [00:00<?, ?it/s]"
      ]
     },
     "metadata": {},
     "output_type": "display_data"
    },
    {
     "data": {
      "application/vnd.jupyter.widget-view+json": {
       "model_id": "53e5993ec4ac42e8b8f3f35747b2a32d",
       "version_major": 2,
       "version_minor": 0
      },
      "text/plain": [
       "Batches:   0%|          | 0/1 [00:00<?, ?it/s]"
      ]
     },
     "metadata": {},
     "output_type": "display_data"
    },
    {
     "data": {
      "application/vnd.jupyter.widget-view+json": {
       "model_id": "ed565406975643fab46ee36f3ac96115",
       "version_major": 2,
       "version_minor": 0
      },
      "text/plain": [
       "Batches:   0%|          | 0/1 [00:00<?, ?it/s]"
      ]
     },
     "metadata": {},
     "output_type": "display_data"
    },
    {
     "data": {
      "application/vnd.jupyter.widget-view+json": {
       "model_id": "1d26de0f5a134598b1fe889467ce24e0",
       "version_major": 2,
       "version_minor": 0
      },
      "text/plain": [
       "Batches:   0%|          | 0/1 [00:00<?, ?it/s]"
      ]
     },
     "metadata": {},
     "output_type": "display_data"
    },
    {
     "data": {
      "application/vnd.jupyter.widget-view+json": {
       "model_id": "9d33687f6de84ccbaabea19b8b833374",
       "version_major": 2,
       "version_minor": 0
      },
      "text/plain": [
       "Batches:   0%|          | 0/1 [00:00<?, ?it/s]"
      ]
     },
     "metadata": {},
     "output_type": "display_data"
    },
    {
     "data": {
      "application/vnd.jupyter.widget-view+json": {
       "model_id": "03655e998b6247b0b55f8620cb260b39",
       "version_major": 2,
       "version_minor": 0
      },
      "text/plain": [
       "Batches:   0%|          | 0/1 [00:00<?, ?it/s]"
      ]
     },
     "metadata": {},
     "output_type": "display_data"
    },
    {
     "data": {
      "application/vnd.jupyter.widget-view+json": {
       "model_id": "37480eecb10243eeac6e8047be8f052f",
       "version_major": 2,
       "version_minor": 0
      },
      "text/plain": [
       "Batches:   0%|          | 0/1 [00:00<?, ?it/s]"
      ]
     },
     "metadata": {},
     "output_type": "display_data"
    },
    {
     "data": {
      "application/vnd.jupyter.widget-view+json": {
       "model_id": "e1fe188797b944f1adb4832fd3bc04bb",
       "version_major": 2,
       "version_minor": 0
      },
      "text/plain": [
       "Batches:   0%|          | 0/1 [00:00<?, ?it/s]"
      ]
     },
     "metadata": {},
     "output_type": "display_data"
    },
    {
     "data": {
      "application/vnd.jupyter.widget-view+json": {
       "model_id": "86dbe43b2b1f457eb7d49ff2453f122d",
       "version_major": 2,
       "version_minor": 0
      },
      "text/plain": [
       "Batches:   0%|          | 0/1 [00:00<?, ?it/s]"
      ]
     },
     "metadata": {},
     "output_type": "display_data"
    },
    {
     "data": {
      "application/vnd.jupyter.widget-view+json": {
       "model_id": "fc2bcd2e349f4cb9bfb24886df892462",
       "version_major": 2,
       "version_minor": 0
      },
      "text/plain": [
       "Batches:   0%|          | 0/1 [00:00<?, ?it/s]"
      ]
     },
     "metadata": {},
     "output_type": "display_data"
    },
    {
     "data": {
      "application/vnd.jupyter.widget-view+json": {
       "model_id": "0273a5d37782472f95d36b375d2956f3",
       "version_major": 2,
       "version_minor": 0
      },
      "text/plain": [
       "Batches:   0%|          | 0/1 [00:00<?, ?it/s]"
      ]
     },
     "metadata": {},
     "output_type": "display_data"
    },
    {
     "data": {
      "application/vnd.jupyter.widget-view+json": {
       "model_id": "8ab67beeecab42f78b23fcf3415d48c6",
       "version_major": 2,
       "version_minor": 0
      },
      "text/plain": [
       "Batches:   0%|          | 0/1 [00:00<?, ?it/s]"
      ]
     },
     "metadata": {},
     "output_type": "display_data"
    },
    {
     "data": {
      "application/vnd.jupyter.widget-view+json": {
       "model_id": "f9b19a19551743a9bfd418473b3cbd36",
       "version_major": 2,
       "version_minor": 0
      },
      "text/plain": [
       "Batches:   0%|          | 0/1 [00:00<?, ?it/s]"
      ]
     },
     "metadata": {},
     "output_type": "display_data"
    },
    {
     "data": {
      "application/vnd.jupyter.widget-view+json": {
       "model_id": "a35e7997622d4eb58bb05da4d73207ab",
       "version_major": 2,
       "version_minor": 0
      },
      "text/plain": [
       "Batches:   0%|          | 0/1 [00:00<?, ?it/s]"
      ]
     },
     "metadata": {},
     "output_type": "display_data"
    },
    {
     "data": {
      "application/vnd.jupyter.widget-view+json": {
       "model_id": "6eccc5e8e21a42298002706ca544eeb0",
       "version_major": 2,
       "version_minor": 0
      },
      "text/plain": [
       "Batches:   0%|          | 0/1 [00:00<?, ?it/s]"
      ]
     },
     "metadata": {},
     "output_type": "display_data"
    },
    {
     "data": {
      "application/vnd.jupyter.widget-view+json": {
       "model_id": "8ccdfbe5918a4de290f9236769e1ae49",
       "version_major": 2,
       "version_minor": 0
      },
      "text/plain": [
       "Batches:   0%|          | 0/1 [00:00<?, ?it/s]"
      ]
     },
     "metadata": {},
     "output_type": "display_data"
    },
    {
     "data": {
      "application/vnd.jupyter.widget-view+json": {
       "model_id": "0a0b88d3260f442ea23c60ea8e3fe923",
       "version_major": 2,
       "version_minor": 0
      },
      "text/plain": [
       "Batches:   0%|          | 0/1 [00:00<?, ?it/s]"
      ]
     },
     "metadata": {},
     "output_type": "display_data"
    },
    {
     "data": {
      "application/vnd.jupyter.widget-view+json": {
       "model_id": "4cabe3fc2ee4403ebcde94a28770cc7a",
       "version_major": 2,
       "version_minor": 0
      },
      "text/plain": [
       "Batches:   0%|          | 0/1 [00:00<?, ?it/s]"
      ]
     },
     "metadata": {},
     "output_type": "display_data"
    },
    {
     "data": {
      "application/vnd.jupyter.widget-view+json": {
       "model_id": "8ecc163156cd4043936e2c0233c82ce1",
       "version_major": 2,
       "version_minor": 0
      },
      "text/plain": [
       "Batches:   0%|          | 0/1 [00:00<?, ?it/s]"
      ]
     },
     "metadata": {},
     "output_type": "display_data"
    },
    {
     "data": {
      "application/vnd.jupyter.widget-view+json": {
       "model_id": "8dcac155541846d5be556036dd90a8e6",
       "version_major": 2,
       "version_minor": 0
      },
      "text/plain": [
       "Batches:   0%|          | 0/1 [00:00<?, ?it/s]"
      ]
     },
     "metadata": {},
     "output_type": "display_data"
    },
    {
     "data": {
      "application/vnd.jupyter.widget-view+json": {
       "model_id": "4be41ceff47d4611abf87d9a5a0652ad",
       "version_major": 2,
       "version_minor": 0
      },
      "text/plain": [
       "Batches:   0%|          | 0/1 [00:00<?, ?it/s]"
      ]
     },
     "metadata": {},
     "output_type": "display_data"
    },
    {
     "data": {
      "application/vnd.jupyter.widget-view+json": {
       "model_id": "d5ae0bb82e6340b294410c2179be11d7",
       "version_major": 2,
       "version_minor": 0
      },
      "text/plain": [
       "Batches:   0%|          | 0/1 [00:00<?, ?it/s]"
      ]
     },
     "metadata": {},
     "output_type": "display_data"
    },
    {
     "data": {
      "application/vnd.jupyter.widget-view+json": {
       "model_id": "8d7581608ff94cd582bcdc3e6793a657",
       "version_major": 2,
       "version_minor": 0
      },
      "text/plain": [
       "Batches:   0%|          | 0/1 [00:00<?, ?it/s]"
      ]
     },
     "metadata": {},
     "output_type": "display_data"
    },
    {
     "data": {
      "application/vnd.jupyter.widget-view+json": {
       "model_id": "83358b05b7bf437fb2478996bb4cf780",
       "version_major": 2,
       "version_minor": 0
      },
      "text/plain": [
       "Batches:   0%|          | 0/1 [00:00<?, ?it/s]"
      ]
     },
     "metadata": {},
     "output_type": "display_data"
    },
    {
     "data": {
      "application/vnd.jupyter.widget-view+json": {
       "model_id": "1a3d832850684718a754f0e82eb859e4",
       "version_major": 2,
       "version_minor": 0
      },
      "text/plain": [
       "Batches:   0%|          | 0/1 [00:00<?, ?it/s]"
      ]
     },
     "metadata": {},
     "output_type": "display_data"
    },
    {
     "data": {
      "application/vnd.jupyter.widget-view+json": {
       "model_id": "67cf97b72357428fb0fba2b525273d1b",
       "version_major": 2,
       "version_minor": 0
      },
      "text/plain": [
       "Batches:   0%|          | 0/1 [00:00<?, ?it/s]"
      ]
     },
     "metadata": {},
     "output_type": "display_data"
    },
    {
     "data": {
      "application/vnd.jupyter.widget-view+json": {
       "model_id": "6aa45611cbd3493fbac8a5a391455b4b",
       "version_major": 2,
       "version_minor": 0
      },
      "text/plain": [
       "Batches:   0%|          | 0/1 [00:00<?, ?it/s]"
      ]
     },
     "metadata": {},
     "output_type": "display_data"
    },
    {
     "data": {
      "application/vnd.jupyter.widget-view+json": {
       "model_id": "5671f6d841154e6b80b420b80b83b21a",
       "version_major": 2,
       "version_minor": 0
      },
      "text/plain": [
       "Batches:   0%|          | 0/1 [00:00<?, ?it/s]"
      ]
     },
     "metadata": {},
     "output_type": "display_data"
    },
    {
     "data": {
      "application/vnd.jupyter.widget-view+json": {
       "model_id": "9e9620c05c2a4886b1dd3d912e4db481",
       "version_major": 2,
       "version_minor": 0
      },
      "text/plain": [
       "Batches:   0%|          | 0/1 [00:00<?, ?it/s]"
      ]
     },
     "metadata": {},
     "output_type": "display_data"
    },
    {
     "data": {
      "application/vnd.jupyter.widget-view+json": {
       "model_id": "fd4f93a744674753a1d2bea56c60a9eb",
       "version_major": 2,
       "version_minor": 0
      },
      "text/plain": [
       "Batches:   0%|          | 0/1 [00:00<?, ?it/s]"
      ]
     },
     "metadata": {},
     "output_type": "display_data"
    },
    {
     "data": {
      "application/vnd.jupyter.widget-view+json": {
       "model_id": "9b748e9141444d679e3768576cfbfee0",
       "version_major": 2,
       "version_minor": 0
      },
      "text/plain": [
       "Batches:   0%|          | 0/1 [00:00<?, ?it/s]"
      ]
     },
     "metadata": {},
     "output_type": "display_data"
    },
    {
     "data": {
      "application/vnd.jupyter.widget-view+json": {
       "model_id": "e86ddd093f474a4bbac1972c0cd02c4a",
       "version_major": 2,
       "version_minor": 0
      },
      "text/plain": [
       "Batches:   0%|          | 0/1 [00:00<?, ?it/s]"
      ]
     },
     "metadata": {},
     "output_type": "display_data"
    },
    {
     "data": {
      "application/vnd.jupyter.widget-view+json": {
       "model_id": "81366fe1902f48f5b2cb605b835cf587",
       "version_major": 2,
       "version_minor": 0
      },
      "text/plain": [
       "Batches:   0%|          | 0/1 [00:00<?, ?it/s]"
      ]
     },
     "metadata": {},
     "output_type": "display_data"
    },
    {
     "data": {
      "application/vnd.jupyter.widget-view+json": {
       "model_id": "49553f91d2be444f8a6aeb6c82d0a35b",
       "version_major": 2,
       "version_minor": 0
      },
      "text/plain": [
       "Batches:   0%|          | 0/1 [00:00<?, ?it/s]"
      ]
     },
     "metadata": {},
     "output_type": "display_data"
    },
    {
     "data": {
      "application/vnd.jupyter.widget-view+json": {
       "model_id": "2fda7ad8d9d84355838da8568fb1f97e",
       "version_major": 2,
       "version_minor": 0
      },
      "text/plain": [
       "Batches:   0%|          | 0/1 [00:00<?, ?it/s]"
      ]
     },
     "metadata": {},
     "output_type": "display_data"
    },
    {
     "data": {
      "application/vnd.jupyter.widget-view+json": {
       "model_id": "0cee069576214eceb048c305ef36ed33",
       "version_major": 2,
       "version_minor": 0
      },
      "text/plain": [
       "Batches:   0%|          | 0/1 [00:00<?, ?it/s]"
      ]
     },
     "metadata": {},
     "output_type": "display_data"
    },
    {
     "data": {
      "application/vnd.jupyter.widget-view+json": {
       "model_id": "89d04c1cb88645589281e6cba9f06d6f",
       "version_major": 2,
       "version_minor": 0
      },
      "text/plain": [
       "Batches:   0%|          | 0/1 [00:00<?, ?it/s]"
      ]
     },
     "metadata": {},
     "output_type": "display_data"
    },
    {
     "data": {
      "application/vnd.jupyter.widget-view+json": {
       "model_id": "cabb95f14b204919a46620dc886908d0",
       "version_major": 2,
       "version_minor": 0
      },
      "text/plain": [
       "Batches:   0%|          | 0/1 [00:00<?, ?it/s]"
      ]
     },
     "metadata": {},
     "output_type": "display_data"
    },
    {
     "data": {
      "application/vnd.jupyter.widget-view+json": {
       "model_id": "c48413fe0dca49f984534c4a2f96967f",
       "version_major": 2,
       "version_minor": 0
      },
      "text/plain": [
       "Batches:   0%|          | 0/1 [00:00<?, ?it/s]"
      ]
     },
     "metadata": {},
     "output_type": "display_data"
    },
    {
     "data": {
      "application/vnd.jupyter.widget-view+json": {
       "model_id": "12cbedf5ea93486b94df87b021993dfb",
       "version_major": 2,
       "version_minor": 0
      },
      "text/plain": [
       "Batches:   0%|          | 0/1 [00:00<?, ?it/s]"
      ]
     },
     "metadata": {},
     "output_type": "display_data"
    },
    {
     "data": {
      "application/vnd.jupyter.widget-view+json": {
       "model_id": "163a1992e15a4868a71a32d2ef77e556",
       "version_major": 2,
       "version_minor": 0
      },
      "text/plain": [
       "Batches:   0%|          | 0/1 [00:00<?, ?it/s]"
      ]
     },
     "metadata": {},
     "output_type": "display_data"
    },
    {
     "data": {
      "application/vnd.jupyter.widget-view+json": {
       "model_id": "bfd8ebb77b0543c0aaf27bfc5af3bb83",
       "version_major": 2,
       "version_minor": 0
      },
      "text/plain": [
       "Batches:   0%|          | 0/1 [00:00<?, ?it/s]"
      ]
     },
     "metadata": {},
     "output_type": "display_data"
    },
    {
     "data": {
      "application/vnd.jupyter.widget-view+json": {
       "model_id": "1bf98e5607ea494b95fbdc76ea2de693",
       "version_major": 2,
       "version_minor": 0
      },
      "text/plain": [
       "Batches:   0%|          | 0/1 [00:00<?, ?it/s]"
      ]
     },
     "metadata": {},
     "output_type": "display_data"
    },
    {
     "data": {
      "application/vnd.jupyter.widget-view+json": {
       "model_id": "e0a89837e445411e80cfd7ab5277926e",
       "version_major": 2,
       "version_minor": 0
      },
      "text/plain": [
       "Batches:   0%|          | 0/1 [00:00<?, ?it/s]"
      ]
     },
     "metadata": {},
     "output_type": "display_data"
    },
    {
     "data": {
      "application/vnd.jupyter.widget-view+json": {
       "model_id": "fa4e7e00e61c4e7fb47ecc0b60ea93dc",
       "version_major": 2,
       "version_minor": 0
      },
      "text/plain": [
       "Batches:   0%|          | 0/1 [00:00<?, ?it/s]"
      ]
     },
     "metadata": {},
     "output_type": "display_data"
    },
    {
     "data": {
      "application/vnd.jupyter.widget-view+json": {
       "model_id": "c9be8554d15241b58d7283fcccb5f6bd",
       "version_major": 2,
       "version_minor": 0
      },
      "text/plain": [
       "Batches:   0%|          | 0/1 [00:00<?, ?it/s]"
      ]
     },
     "metadata": {},
     "output_type": "display_data"
    },
    {
     "data": {
      "application/vnd.jupyter.widget-view+json": {
       "model_id": "8b7b548591884314bf9273eea3843026",
       "version_major": 2,
       "version_minor": 0
      },
      "text/plain": [
       "Batches:   0%|          | 0/1 [00:00<?, ?it/s]"
      ]
     },
     "metadata": {},
     "output_type": "display_data"
    },
    {
     "data": {
      "application/vnd.jupyter.widget-view+json": {
       "model_id": "5697599770a24c09b08beb19b340368a",
       "version_major": 2,
       "version_minor": 0
      },
      "text/plain": [
       "Batches:   0%|          | 0/1 [00:00<?, ?it/s]"
      ]
     },
     "metadata": {},
     "output_type": "display_data"
    },
    {
     "data": {
      "application/vnd.jupyter.widget-view+json": {
       "model_id": "c564f3c38e7d4774b23969708815fb38",
       "version_major": 2,
       "version_minor": 0
      },
      "text/plain": [
       "Batches:   0%|          | 0/1 [00:00<?, ?it/s]"
      ]
     },
     "metadata": {},
     "output_type": "display_data"
    },
    {
     "data": {
      "application/vnd.jupyter.widget-view+json": {
       "model_id": "0297709282b94ca6b08712711d3bd529",
       "version_major": 2,
       "version_minor": 0
      },
      "text/plain": [
       "Batches:   0%|          | 0/1 [00:00<?, ?it/s]"
      ]
     },
     "metadata": {},
     "output_type": "display_data"
    },
    {
     "data": {
      "application/vnd.jupyter.widget-view+json": {
       "model_id": "9965c3ca1a0d49ee9aa22297a24b6e08",
       "version_major": 2,
       "version_minor": 0
      },
      "text/plain": [
       "Batches:   0%|          | 0/1 [00:00<?, ?it/s]"
      ]
     },
     "metadata": {},
     "output_type": "display_data"
    },
    {
     "data": {
      "application/vnd.jupyter.widget-view+json": {
       "model_id": "799ece58c09245ee87b55fdb8c45fe41",
       "version_major": 2,
       "version_minor": 0
      },
      "text/plain": [
       "Batches:   0%|          | 0/1 [00:00<?, ?it/s]"
      ]
     },
     "metadata": {},
     "output_type": "display_data"
    },
    {
     "data": {
      "application/vnd.jupyter.widget-view+json": {
       "model_id": "181d26c27a0a4e13b44a21e839710adc",
       "version_major": 2,
       "version_minor": 0
      },
      "text/plain": [
       "Batches:   0%|          | 0/1 [00:00<?, ?it/s]"
      ]
     },
     "metadata": {},
     "output_type": "display_data"
    },
    {
     "data": {
      "application/vnd.jupyter.widget-view+json": {
       "model_id": "5fc569ed6aa544278f8ebd4474457eb8",
       "version_major": 2,
       "version_minor": 0
      },
      "text/plain": [
       "Batches:   0%|          | 0/1 [00:00<?, ?it/s]"
      ]
     },
     "metadata": {},
     "output_type": "display_data"
    },
    {
     "data": {
      "text/html": [
       "<div>\n",
       "<style scoped>\n",
       "    .dataframe tbody tr th:only-of-type {\n",
       "        vertical-align: middle;\n",
       "    }\n",
       "\n",
       "    .dataframe tbody tr th {\n",
       "        vertical-align: top;\n",
       "    }\n",
       "\n",
       "    .dataframe thead th {\n",
       "        text-align: right;\n",
       "    }\n",
       "</style>\n",
       "<table border=\"1\" class=\"dataframe\">\n",
       "  <thead>\n",
       "    <tr style=\"text-align: right;\">\n",
       "      <th></th>\n",
       "      <th>endpoint_name</th>\n",
       "      <th>prompt</th>\n",
       "      <th>ground_truth</th>\n",
       "      <th>temperature</th>\n",
       "      <th>max_tokens</th>\n",
       "      <th>top_p</th>\n",
       "      <th>completion</th>\n",
       "      <th>prompt_tokens</th>\n",
       "      <th>completion_tokens</th>\n",
       "      <th>latency</th>\n",
       "      <th>...</th>\n",
       "      <th>uuid</th>\n",
       "      <th>experiment_name</th>\n",
       "      <th>concurrency</th>\n",
       "      <th>instance_type</th>\n",
       "      <th>instance_count</th>\n",
       "      <th>EndpointName</th>\n",
       "      <th>ModelName</th>\n",
       "      <th>Image</th>\n",
       "      <th>S3Uri</th>\n",
       "      <th>cosine_similarity_score</th>\n",
       "    </tr>\n",
       "  </thead>\n",
       "  <tbody>\n",
       "    <tr>\n",
       "      <th>0</th>\n",
       "      <td>mistral.mistral-7b-instruct-v0:2</td>\n",
       "      <td>&lt;s&gt;[INST] &lt;&lt;SYS&gt;&gt;\\nYou are an assistant for qu...</td>\n",
       "      <td>a genus of flowering plant in the Lardizabalac...</td>\n",
       "      <td>0.1</td>\n",
       "      <td>100</td>\n",
       "      <td>0.92</td>\n",
       "      <td>The genera Sinofranchetia and Stauntonia belon...</td>\n",
       "      <td>319</td>\n",
       "      <td>26</td>\n",
       "      <td>0.440897</td>\n",
       "      <td>...</td>\n",
       "      <td>6e77fb90ea804956a115b0268df059b0</td>\n",
       "      <td>mistral.mistral-7b-instruct-v0:2</td>\n",
       "      <td>1</td>\n",
       "      <td>mistral.mistral-7b-instruct-v0:2</td>\n",
       "      <td>1.0</td>\n",
       "      <td>NaN</td>\n",
       "      <td>NaN</td>\n",
       "      <td>NaN</td>\n",
       "      <td>NaN</td>\n",
       "      <td>0.710724</td>\n",
       "    </tr>\n",
       "    <tr>\n",
       "      <th>1</th>\n",
       "      <td>mistral.mistral-7b-instruct-v0:2</td>\n",
       "      <td>&lt;s&gt;[INST] &lt;&lt;SYS&gt;&gt;\\nYou are an assistant for qu...</td>\n",
       "      <td>a genus of flowering plant in the Lardizabalac...</td>\n",
       "      <td>0.1</td>\n",
       "      <td>100</td>\n",
       "      <td>0.92</td>\n",
       "      <td>The genera Sinofranchetia and Stauntonia belon...</td>\n",
       "      <td>319</td>\n",
       "      <td>26</td>\n",
       "      <td>0.450330</td>\n",
       "      <td>...</td>\n",
       "      <td>82d04de71238454a9bbe05f520f22cb0</td>\n",
       "      <td>mistral.mistral-7b-instruct-v0:2</td>\n",
       "      <td>1</td>\n",
       "      <td>mistral.mistral-7b-instruct-v0:2</td>\n",
       "      <td>1.0</td>\n",
       "      <td>NaN</td>\n",
       "      <td>NaN</td>\n",
       "      <td>NaN</td>\n",
       "      <td>NaN</td>\n",
       "      <td>0.710724</td>\n",
       "    </tr>\n",
       "    <tr>\n",
       "      <th>2</th>\n",
       "      <td>mistral.mistral-7b-instruct-v0:2</td>\n",
       "      <td>&lt;s&gt;[INST] &lt;&lt;SYS&gt;&gt;\\nYou are an assistant for qu...</td>\n",
       "      <td>a genus of flowering plant in the Lardizabalac...</td>\n",
       "      <td>0.1</td>\n",
       "      <td>100</td>\n",
       "      <td>0.92</td>\n",
       "      <td>The genera Sinofranchetia and Stauntonia belon...</td>\n",
       "      <td>319</td>\n",
       "      <td>26</td>\n",
       "      <td>0.461762</td>\n",
       "      <td>...</td>\n",
       "      <td>22303e132fb646aa86b938083660dce8</td>\n",
       "      <td>mistral.mistral-7b-instruct-v0:2</td>\n",
       "      <td>1</td>\n",
       "      <td>mistral.mistral-7b-instruct-v0:2</td>\n",
       "      <td>1.0</td>\n",
       "      <td>NaN</td>\n",
       "      <td>NaN</td>\n",
       "      <td>NaN</td>\n",
       "      <td>NaN</td>\n",
       "      <td>0.710724</td>\n",
       "    </tr>\n",
       "    <tr>\n",
       "      <th>3</th>\n",
       "      <td>mistral.mistral-7b-instruct-v0:2</td>\n",
       "      <td>&lt;s&gt;[INST] &lt;&lt;SYS&gt;&gt;\\nYou are an assistant for qu...</td>\n",
       "      <td>a genus of flowering plant in the Lardizabalac...</td>\n",
       "      <td>0.1</td>\n",
       "      <td>100</td>\n",
       "      <td>0.92</td>\n",
       "      <td>The genera Sinofranchetia and Stauntonia belon...</td>\n",
       "      <td>319</td>\n",
       "      <td>26</td>\n",
       "      <td>0.453813</td>\n",
       "      <td>...</td>\n",
       "      <td>715d1d30b18244279ff5c0fbf112f245</td>\n",
       "      <td>mistral.mistral-7b-instruct-v0:2</td>\n",
       "      <td>1</td>\n",
       "      <td>mistral.mistral-7b-instruct-v0:2</td>\n",
       "      <td>1.0</td>\n",
       "      <td>NaN</td>\n",
       "      <td>NaN</td>\n",
       "      <td>NaN</td>\n",
       "      <td>NaN</td>\n",
       "      <td>0.710724</td>\n",
       "    </tr>\n",
       "    <tr>\n",
       "      <th>4</th>\n",
       "      <td>mistral.mistral-7b-instruct-v0:2</td>\n",
       "      <td>&lt;s&gt;[INST] &lt;&lt;SYS&gt;&gt;\\nYou are an assistant for qu...</td>\n",
       "      <td>a genus of flowering plant in the Lardizabalac...</td>\n",
       "      <td>0.1</td>\n",
       "      <td>100</td>\n",
       "      <td>0.92</td>\n",
       "      <td>The genera Sinofranchetia and Stauntonia belon...</td>\n",
       "      <td>319</td>\n",
       "      <td>26</td>\n",
       "      <td>0.435938</td>\n",
       "      <td>...</td>\n",
       "      <td>6ede1f51a3d143f09377dda35107693a</td>\n",
       "      <td>mistral.mistral-7b-instruct-v0:2</td>\n",
       "      <td>1</td>\n",
       "      <td>mistral.mistral-7b-instruct-v0:2</td>\n",
       "      <td>1.0</td>\n",
       "      <td>NaN</td>\n",
       "      <td>NaN</td>\n",
       "      <td>NaN</td>\n",
       "      <td>NaN</td>\n",
       "      <td>0.710724</td>\n",
       "    </tr>\n",
       "  </tbody>\n",
       "</table>\n",
       "<p>5 rows × 23 columns</p>\n",
       "</div>"
      ],
      "text/plain": [
       "                      endpoint_name  \\\n",
       "0  mistral.mistral-7b-instruct-v0:2   \n",
       "1  mistral.mistral-7b-instruct-v0:2   \n",
       "2  mistral.mistral-7b-instruct-v0:2   \n",
       "3  mistral.mistral-7b-instruct-v0:2   \n",
       "4  mistral.mistral-7b-instruct-v0:2   \n",
       "\n",
       "                                              prompt  \\\n",
       "0  <s>[INST] <<SYS>>\\nYou are an assistant for qu...   \n",
       "1  <s>[INST] <<SYS>>\\nYou are an assistant for qu...   \n",
       "2  <s>[INST] <<SYS>>\\nYou are an assistant for qu...   \n",
       "3  <s>[INST] <<SYS>>\\nYou are an assistant for qu...   \n",
       "4  <s>[INST] <<SYS>>\\nYou are an assistant for qu...   \n",
       "\n",
       "                                        ground_truth  temperature  max_tokens  \\\n",
       "0  a genus of flowering plant in the Lardizabalac...          0.1         100   \n",
       "1  a genus of flowering plant in the Lardizabalac...          0.1         100   \n",
       "2  a genus of flowering plant in the Lardizabalac...          0.1         100   \n",
       "3  a genus of flowering plant in the Lardizabalac...          0.1         100   \n",
       "4  a genus of flowering plant in the Lardizabalac...          0.1         100   \n",
       "\n",
       "   top_p                                         completion  prompt_tokens  \\\n",
       "0   0.92  The genera Sinofranchetia and Stauntonia belon...            319   \n",
       "1   0.92  The genera Sinofranchetia and Stauntonia belon...            319   \n",
       "2   0.92  The genera Sinofranchetia and Stauntonia belon...            319   \n",
       "3   0.92  The genera Sinofranchetia and Stauntonia belon...            319   \n",
       "4   0.92  The genera Sinofranchetia and Stauntonia belon...            319   \n",
       "\n",
       "   completion_tokens   latency  ...                              uuid  \\\n",
       "0                 26  0.440897  ...  6e77fb90ea804956a115b0268df059b0   \n",
       "1                 26  0.450330  ...  82d04de71238454a9bbe05f520f22cb0   \n",
       "2                 26  0.461762  ...  22303e132fb646aa86b938083660dce8   \n",
       "3                 26  0.453813  ...  715d1d30b18244279ff5c0fbf112f245   \n",
       "4                 26  0.435938  ...  6ede1f51a3d143f09377dda35107693a   \n",
       "\n",
       "                    experiment_name  concurrency  \\\n",
       "0  mistral.mistral-7b-instruct-v0:2            1   \n",
       "1  mistral.mistral-7b-instruct-v0:2            1   \n",
       "2  mistral.mistral-7b-instruct-v0:2            1   \n",
       "3  mistral.mistral-7b-instruct-v0:2            1   \n",
       "4  mistral.mistral-7b-instruct-v0:2            1   \n",
       "\n",
       "                      instance_type instance_count  EndpointName ModelName  \\\n",
       "0  mistral.mistral-7b-instruct-v0:2            1.0           NaN       NaN   \n",
       "1  mistral.mistral-7b-instruct-v0:2            1.0           NaN       NaN   \n",
       "2  mistral.mistral-7b-instruct-v0:2            1.0           NaN       NaN   \n",
       "3  mistral.mistral-7b-instruct-v0:2            1.0           NaN       NaN   \n",
       "4  mistral.mistral-7b-instruct-v0:2            1.0           NaN       NaN   \n",
       "\n",
       "   Image  S3Uri  cosine_similarity_score  \n",
       "0    NaN    NaN                 0.710724  \n",
       "1    NaN    NaN                 0.710724  \n",
       "2    NaN    NaN                 0.710724  \n",
       "3    NaN    NaN                 0.710724  \n",
       "4    NaN    NaN                 0.710724  \n",
       "\n",
       "[5 rows x 23 columns]"
      ]
     },
     "execution_count": 112,
     "metadata": {},
     "output_type": "execute_result"
    }
   ],
   "source": [
    "# load the embeddings model to calculate the cosine similarity scores\n",
    "model = load_model()\n",
    "\n",
    "\n",
    "def get_cosine_similarity(text1: str, text2: str) -> float:\n",
    "    \"\"\"\n",
    "    This function calculates the cosine similarity between two texts.\n",
    "    \"\"\"\n",
    "    try:\n",
    "        cosine: float = None\n",
    "        # returns the embedding for a given text using the sentence-transformers model.\n",
    "        A = model.encode([text1])[0]\n",
    "        B = model.encode([text2])[0]\n",
    "        cosine = dot(A, B) / (norm(A) * norm(B))\n",
    "    except Exception as e:\n",
    "        logger.error(f\"Cosine similarity was not calculated at this iteration: {e}\")\n",
    "        cosine=None\n",
    "    return cosine\n",
    "\n",
    "\n",
    "# Assuming df_per_inference is your DataFrame\n",
    "df_per_inference['cosine_similarity_score'] = df_per_inference.apply(\n",
    "    lambda row: get_cosine_similarity(row['completion'], row['ground_truth']), axis=1\n",
    ")\n",
    "df_per_inference.head()"
   ]
  },
  {
   "cell_type": "code",
   "execution_count": 113,
   "metadata": {
    "tags": []
   },
   "outputs": [
    {
     "name": "stderr",
     "output_type": "stream",
     "text": [
      "[2024-07-12 17:47:02,609] p27460 {100736689.py:15} INFO - Per inference cosine similarity scores saved to s3://sagemaker-fmbench-write-us-west-2-387192758086/fmbench-bedrock-fmbench-stack-us-west-2-role/data/metrics/yyyy=2024/mm=07/dd=12/hh=16/mm=35/per_inference_cosine_similarity.csv\n"
     ]
    },
    {
     "data": {
      "text/html": [
       "<div>\n",
       "<style scoped>\n",
       "    .dataframe tbody tr th:only-of-type {\n",
       "        vertical-align: middle;\n",
       "    }\n",
       "\n",
       "    .dataframe tbody tr th {\n",
       "        vertical-align: top;\n",
       "    }\n",
       "\n",
       "    .dataframe thead th {\n",
       "        text-align: right;\n",
       "    }\n",
       "</style>\n",
       "<table border=\"1\" class=\"dataframe\">\n",
       "  <thead>\n",
       "    <tr style=\"text-align: right;\">\n",
       "      <th></th>\n",
       "      <th>endpoint_name</th>\n",
       "      <th>prompt</th>\n",
       "      <th>ground_truth</th>\n",
       "      <th>temperature</th>\n",
       "      <th>max_tokens</th>\n",
       "      <th>top_p</th>\n",
       "      <th>completion</th>\n",
       "      <th>prompt_tokens</th>\n",
       "      <th>completion_tokens</th>\n",
       "      <th>latency</th>\n",
       "      <th>...</th>\n",
       "      <th>uuid</th>\n",
       "      <th>experiment_name</th>\n",
       "      <th>concurrency</th>\n",
       "      <th>instance_type</th>\n",
       "      <th>instance_count</th>\n",
       "      <th>EndpointName</th>\n",
       "      <th>ModelName</th>\n",
       "      <th>Image</th>\n",
       "      <th>S3Uri</th>\n",
       "      <th>cosine_similarity_score</th>\n",
       "    </tr>\n",
       "  </thead>\n",
       "  <tbody>\n",
       "    <tr>\n",
       "      <th>0</th>\n",
       "      <td>mistral.mistral-7b-instruct-v0:2</td>\n",
       "      <td>&lt;s&gt;[INST] &lt;&lt;SYS&gt;&gt;\\nYou are an assistant for qu...</td>\n",
       "      <td>a genus of flowering plant in the Lardizabalac...</td>\n",
       "      <td>0.1</td>\n",
       "      <td>100</td>\n",
       "      <td>0.92</td>\n",
       "      <td>The genera Sinofranchetia and Stauntonia belon...</td>\n",
       "      <td>319</td>\n",
       "      <td>26</td>\n",
       "      <td>0.440897</td>\n",
       "      <td>...</td>\n",
       "      <td>6e77fb90ea804956a115b0268df059b0</td>\n",
       "      <td>mistral.mistral-7b-instruct-v0:2</td>\n",
       "      <td>1</td>\n",
       "      <td>mistral.mistral-7b-instruct-v0:2</td>\n",
       "      <td>1.0</td>\n",
       "      <td>NaN</td>\n",
       "      <td>NaN</td>\n",
       "      <td>NaN</td>\n",
       "      <td>NaN</td>\n",
       "      <td>0.710724</td>\n",
       "    </tr>\n",
       "    <tr>\n",
       "      <th>1</th>\n",
       "      <td>mistral.mistral-7b-instruct-v0:2</td>\n",
       "      <td>&lt;s&gt;[INST] &lt;&lt;SYS&gt;&gt;\\nYou are an assistant for qu...</td>\n",
       "      <td>a genus of flowering plant in the Lardizabalac...</td>\n",
       "      <td>0.1</td>\n",
       "      <td>100</td>\n",
       "      <td>0.92</td>\n",
       "      <td>The genera Sinofranchetia and Stauntonia belon...</td>\n",
       "      <td>319</td>\n",
       "      <td>26</td>\n",
       "      <td>0.450330</td>\n",
       "      <td>...</td>\n",
       "      <td>82d04de71238454a9bbe05f520f22cb0</td>\n",
       "      <td>mistral.mistral-7b-instruct-v0:2</td>\n",
       "      <td>1</td>\n",
       "      <td>mistral.mistral-7b-instruct-v0:2</td>\n",
       "      <td>1.0</td>\n",
       "      <td>NaN</td>\n",
       "      <td>NaN</td>\n",
       "      <td>NaN</td>\n",
       "      <td>NaN</td>\n",
       "      <td>0.710724</td>\n",
       "    </tr>\n",
       "    <tr>\n",
       "      <th>2</th>\n",
       "      <td>mistral.mistral-7b-instruct-v0:2</td>\n",
       "      <td>&lt;s&gt;[INST] &lt;&lt;SYS&gt;&gt;\\nYou are an assistant for qu...</td>\n",
       "      <td>a genus of flowering plant in the Lardizabalac...</td>\n",
       "      <td>0.1</td>\n",
       "      <td>100</td>\n",
       "      <td>0.92</td>\n",
       "      <td>The genera Sinofranchetia and Stauntonia belon...</td>\n",
       "      <td>319</td>\n",
       "      <td>26</td>\n",
       "      <td>0.461762</td>\n",
       "      <td>...</td>\n",
       "      <td>22303e132fb646aa86b938083660dce8</td>\n",
       "      <td>mistral.mistral-7b-instruct-v0:2</td>\n",
       "      <td>1</td>\n",
       "      <td>mistral.mistral-7b-instruct-v0:2</td>\n",
       "      <td>1.0</td>\n",
       "      <td>NaN</td>\n",
       "      <td>NaN</td>\n",
       "      <td>NaN</td>\n",
       "      <td>NaN</td>\n",
       "      <td>0.710724</td>\n",
       "    </tr>\n",
       "    <tr>\n",
       "      <th>3</th>\n",
       "      <td>mistral.mistral-7b-instruct-v0:2</td>\n",
       "      <td>&lt;s&gt;[INST] &lt;&lt;SYS&gt;&gt;\\nYou are an assistant for qu...</td>\n",
       "      <td>a genus of flowering plant in the Lardizabalac...</td>\n",
       "      <td>0.1</td>\n",
       "      <td>100</td>\n",
       "      <td>0.92</td>\n",
       "      <td>The genera Sinofranchetia and Stauntonia belon...</td>\n",
       "      <td>319</td>\n",
       "      <td>26</td>\n",
       "      <td>0.453813</td>\n",
       "      <td>...</td>\n",
       "      <td>715d1d30b18244279ff5c0fbf112f245</td>\n",
       "      <td>mistral.mistral-7b-instruct-v0:2</td>\n",
       "      <td>1</td>\n",
       "      <td>mistral.mistral-7b-instruct-v0:2</td>\n",
       "      <td>1.0</td>\n",
       "      <td>NaN</td>\n",
       "      <td>NaN</td>\n",
       "      <td>NaN</td>\n",
       "      <td>NaN</td>\n",
       "      <td>0.710724</td>\n",
       "    </tr>\n",
       "    <tr>\n",
       "      <th>4</th>\n",
       "      <td>mistral.mistral-7b-instruct-v0:2</td>\n",
       "      <td>&lt;s&gt;[INST] &lt;&lt;SYS&gt;&gt;\\nYou are an assistant for qu...</td>\n",
       "      <td>a genus of flowering plant in the Lardizabalac...</td>\n",
       "      <td>0.1</td>\n",
       "      <td>100</td>\n",
       "      <td>0.92</td>\n",
       "      <td>The genera Sinofranchetia and Stauntonia belon...</td>\n",
       "      <td>319</td>\n",
       "      <td>26</td>\n",
       "      <td>0.435938</td>\n",
       "      <td>...</td>\n",
       "      <td>6ede1f51a3d143f09377dda35107693a</td>\n",
       "      <td>mistral.mistral-7b-instruct-v0:2</td>\n",
       "      <td>1</td>\n",
       "      <td>mistral.mistral-7b-instruct-v0:2</td>\n",
       "      <td>1.0</td>\n",
       "      <td>NaN</td>\n",
       "      <td>NaN</td>\n",
       "      <td>NaN</td>\n",
       "      <td>NaN</td>\n",
       "      <td>0.710724</td>\n",
       "    </tr>\n",
       "  </tbody>\n",
       "</table>\n",
       "<p>5 rows × 23 columns</p>\n",
       "</div>"
      ],
      "text/plain": [
       "                      endpoint_name  \\\n",
       "0  mistral.mistral-7b-instruct-v0:2   \n",
       "1  mistral.mistral-7b-instruct-v0:2   \n",
       "2  mistral.mistral-7b-instruct-v0:2   \n",
       "3  mistral.mistral-7b-instruct-v0:2   \n",
       "4  mistral.mistral-7b-instruct-v0:2   \n",
       "\n",
       "                                              prompt  \\\n",
       "0  <s>[INST] <<SYS>>\\nYou are an assistant for qu...   \n",
       "1  <s>[INST] <<SYS>>\\nYou are an assistant for qu...   \n",
       "2  <s>[INST] <<SYS>>\\nYou are an assistant for qu...   \n",
       "3  <s>[INST] <<SYS>>\\nYou are an assistant for qu...   \n",
       "4  <s>[INST] <<SYS>>\\nYou are an assistant for qu...   \n",
       "\n",
       "                                        ground_truth  temperature  max_tokens  \\\n",
       "0  a genus of flowering plant in the Lardizabalac...          0.1         100   \n",
       "1  a genus of flowering plant in the Lardizabalac...          0.1         100   \n",
       "2  a genus of flowering plant in the Lardizabalac...          0.1         100   \n",
       "3  a genus of flowering plant in the Lardizabalac...          0.1         100   \n",
       "4  a genus of flowering plant in the Lardizabalac...          0.1         100   \n",
       "\n",
       "   top_p                                         completion  prompt_tokens  \\\n",
       "0   0.92  The genera Sinofranchetia and Stauntonia belon...            319   \n",
       "1   0.92  The genera Sinofranchetia and Stauntonia belon...            319   \n",
       "2   0.92  The genera Sinofranchetia and Stauntonia belon...            319   \n",
       "3   0.92  The genera Sinofranchetia and Stauntonia belon...            319   \n",
       "4   0.92  The genera Sinofranchetia and Stauntonia belon...            319   \n",
       "\n",
       "   completion_tokens   latency  ...                              uuid  \\\n",
       "0                 26  0.440897  ...  6e77fb90ea804956a115b0268df059b0   \n",
       "1                 26  0.450330  ...  82d04de71238454a9bbe05f520f22cb0   \n",
       "2                 26  0.461762  ...  22303e132fb646aa86b938083660dce8   \n",
       "3                 26  0.453813  ...  715d1d30b18244279ff5c0fbf112f245   \n",
       "4                 26  0.435938  ...  6ede1f51a3d143f09377dda35107693a   \n",
       "\n",
       "                    experiment_name  concurrency  \\\n",
       "0  mistral.mistral-7b-instruct-v0:2            1   \n",
       "1  mistral.mistral-7b-instruct-v0:2            1   \n",
       "2  mistral.mistral-7b-instruct-v0:2            1   \n",
       "3  mistral.mistral-7b-instruct-v0:2            1   \n",
       "4  mistral.mistral-7b-instruct-v0:2            1   \n",
       "\n",
       "                      instance_type instance_count  EndpointName ModelName  \\\n",
       "0  mistral.mistral-7b-instruct-v0:2            1.0           NaN       NaN   \n",
       "1  mistral.mistral-7b-instruct-v0:2            1.0           NaN       NaN   \n",
       "2  mistral.mistral-7b-instruct-v0:2            1.0           NaN       NaN   \n",
       "3  mistral.mistral-7b-instruct-v0:2            1.0           NaN       NaN   \n",
       "4  mistral.mistral-7b-instruct-v0:2            1.0           NaN       NaN   \n",
       "\n",
       "   Image  S3Uri  cosine_similarity_score  \n",
       "0    NaN    NaN                 0.710724  \n",
       "1    NaN    NaN                 0.710724  \n",
       "2    NaN    NaN                 0.710724  \n",
       "3    NaN    NaN                 0.710724  \n",
       "4    NaN    NaN                 0.710724  \n",
       "\n",
       "[5 rows x 23 columns]"
      ]
     },
     "execution_count": 113,
     "metadata": {},
     "output_type": "execute_result"
    }
   ],
   "source": [
    "# define the all_metrics path to send the evaluation metrics to\n",
    "all_metrics_fpath = os.path.join(METRICS_DIR, config[\"report\"][\"all_metrics_file\"])\n",
    "\n",
    "csv_buffer = io.StringIO()\n",
    "df_per_inference.to_csv(csv_buffer, index=False)\n",
    "df_per_inference_with_cosine_similarity_scores_csv = csv_buffer.getvalue()\n",
    "\n",
    "# Define the file name for S3 based on the original file path\n",
    "df_per_inference_with_cosine_similarity_scores_csv = all_metrics_fpath.replace(\"all_metrics\", \"all_metrics_summary\").split('/')[-1] \n",
    "inference_cosine_similarity_scores_s3_path = os.path.join(METRICS_DIR, PER_INFERENCE_FILE_WITH_COSINE_SIMILARITY_SCORES)  # Define full S3 path\n",
    "\n",
    "# Write the CSV data to S3\n",
    "write_to_s3(df_per_inference_with_cosine_similarity_scores_csv, BUCKET_NAME, \"\", \n",
    "            METRICS_DIR, PER_INFERENCE_FILE_WITH_COSINE_SIMILARITY_SCORES)\n",
    "logger.info(f\"Per inference cosine similarity scores saved to s3://{BUCKET_NAME}/{inference_cosine_similarity_scores_s3_path}\")\n",
    "\n",
    "df_per_inference.head()"
   ]
  },
  {
   "cell_type": "markdown",
   "metadata": {},
   "source": [
    "### Use _Panel of LLM Evaluators_ to get Subjective Evaluations on various evaluation criteria\n",
    "---\n",
    "\n",
    "In this portion of the notebook, we run evaluations on the content generated by different candidate models. We use two main evaluation methods: `Max Voting` and `Average Pooling`. To eliminate intra-model bias, we address this by scoring answer correctness based not on a single judge, but instead on a panel composed of multiple evaluator models. Similar pooling techniques are used to reduce variance in human annotations by normalizing out both natural variation in human judgements caused by their own subjective biases as well as human error. We use the following two techniques:\n",
    "\n",
    "1. **Max Voting**: We use the PoLL to evaluate candidate model responses by checking its correctness compared to a provided ground truth answer in the dataset. We prompt each PoLL to evaluate and give the response in a JSON structure, giving a verdict on whether the response is correct or incorrect, and an explanation as to why that is. Using this, we can perform downstream analytics such as: \n",
    "\n",
    "    1. Calculate the overall accuracy of each model using the correct versus the (correct + incorrect) responses\n",
    "    \n",
    "    1. Calculate the `error rate` or frequency or incorrect responses\n",
    "    \n",
    "    1. Categorize the errors based on the explanations provided by the evaluators. Common categories might include misunderstanding the question, incomplete answers, factual inaccuracies\n",
    "    \n",
    "    1. Summary of overall correct/incorrect, and the best model based on the PoLL. Rank the models on Correctness versus Incorrectness.\n",
    "\n",
    "1. **Average Pooling**: We use the PoLL to rate the response of each candidate model on a more subjective criteria. Here, we have the candidate model responses rated on a scale of 1-5 based on the subjective criteria and then get an explanation to that. Using this we can do as follows:\n",
    "\n",
    "    1. Calculate the average score for each model across all questions to get an overall performance measure.\n",
    "    \n",
    "    1. Compute the standard deviation of the scores to understand the consistency of the model's performance.\n",
    "\n",
    "1. Towards the end of all evaluations, a final layer of evaluation is added at the end. This layer utilizes another LLM that acts as a final summarizer. It takes in the ratings, answers generated from each unique model that was used in inference, to give a list of trends, overall patterns and observations as to which model is suited for a given task for a given dataset."
   ]
  },
  {
   "cell_type": "code",
   "execution_count": 114,
   "metadata": {
    "tags": []
   },
   "outputs": [
    {
     "name": "stderr",
     "output_type": "stream",
     "text": [
      "[2024-07-12 17:47:02,629] p27460 {474703826.py:5} INFO - available llm as a judge evaluation information to use: {\n",
      "  \"judge_panel_list\": [\n",
      "    {\n",
      "      \"model_id\": \"anthropic.claude-3-haiku-20240307-v1:0\",\n",
      "      \"eval_prompt_template_dir\": \"claude_eval_prompt_templates\",\n",
      "      \"eval_prompt_template_name_prefix\": \"claude_eval\"\n",
      "    },\n",
      "    {\n",
      "      \"model_id\": \"meta.llama3-70b-instruct-v1:0\",\n",
      "      \"eval_prompt_template_dir\": \"llama3_eval_prompt_templates\",\n",
      "      \"eval_prompt_template_name_prefix\": \"llama3_eval\"\n",
      "    },\n",
      "    {\n",
      "      \"model_id\": \"cohere.command-r-v1:0\",\n",
      "      \"eval_prompt_template_dir\": \"cohere_eval_prompt_templates\",\n",
      "      \"eval_prompt_template_name_prefix\": \"cohere_eval\"\n",
      "    }\n",
      "  ],\n",
      "  \"inference_parameters\": {\n",
      "    \"temperature\": 0.1,\n",
      "    \"max_tokens\": 300,\n",
      "    \"top_p\": 0.92,\n",
      "    \"caching\": false\n",
      "  },\n",
      "  \"run_parallel_inference_count\": 10\n",
      "}\n"
     ]
    }
   ],
   "source": [
    "# get the qualitative/subjective evaluation information from the config file to evaluate answers from different\n",
    "# endpoints on various criteria\n",
    "model_eval_subjective_info: Dict = config['model_evaluations']['subjective_eval_info']\n",
    "eval_criteria_list = model_eval_subjective_info.get('eval_criteria', None)\n",
    "logger.info(f\"available llm as a judge evaluation information to use: {json.dumps(model_eval_subjective_info, indent=2)}\")"
   ]
  },
  {
   "cell_type": "code",
   "execution_count": 115,
   "metadata": {
    "tags": []
   },
   "outputs": [],
   "source": [
    "# get the inference parameters that the LLM judge panel will use while evaluating model candidate responses\n",
    "INFERENCE_PARAMETERS_LLM_PANEL: Dict = config['model_evaluations']['subjective_eval_info'].get('inference_parameters', None)"
   ]
  },
  {
   "cell_type": "code",
   "execution_count": 116,
   "metadata": {
    "tags": []
   },
   "outputs": [],
   "source": [
    "def get_inference(model_id: str,\n",
    "                  prompt: str):\n",
    "    \"\"\"\n",
    "    Get inference using LiteLLM. This get's inference on the answers provided and evaluates each\n",
    "    answer based on a given evaluation prompt template and the specific set of rules for each\n",
    "    evaluation criteria.\n",
    "    \"\"\"\n",
    "    # represents the service name\n",
    "    print(f\"get_inference, model_id={model_id}\")\n",
    "    service_name: str = \"bedrock\"\n",
    "    # represents creating the bedrock model to invoke the litellm api for response for titan, llama and claude\n",
    "    bedrock_model: str = f\"{service_name}/{model_id}\"\n",
    "    # represents the current aws region\n",
    "    aws_region = boto3.Session().region_name \n",
    "    # initialize the response dict\n",
    "    ret = dict(exception=None,\n",
    "               prompt=prompt,\n",
    "               completion=None,\n",
    "               completion_token_count=None,\n",
    "               prompt_token_count=None,\n",
    "               model_id=model_id)\n",
    "    body = ret['prompt']\n",
    "    os.environ[\"AWS_REGION_NAME\"] = aws_region\n",
    "    try:\n",
    "        # Represents calling the litellm completion/messaging api utilizing the completion/embeddings API\n",
    "        print(f\"Invoking {bedrock_model}......\")\n",
    "        response = completion(model=bedrock_model,\n",
    "                              messages=[{\"content\": body,\"role\": \"user\"}],\n",
    "                              temperature=INFERENCE_PARAMETERS_LLM_PANEL.get('temperature', 0.1),\n",
    "                              max_tokens=INFERENCE_PARAMETERS_LLM_PANEL.get('max_tokens', 100),\n",
    "                              caching=INFERENCE_PARAMETERS_LLM_PANEL.get('caching', False))\n",
    "        # iterate through the entire model response\n",
    "        for idx, choice in enumerate(response.choices):\n",
    "            # extract the message and the message's content from litellm\n",
    "            if choice.message and choice.message.content:\n",
    "                # extract the response from the dict\n",
    "                ret[\"completion\"] = choice.message.content.strip()\n",
    "        # Extract number of input and completion prompt tokens        \n",
    "        ret['prompt_token_count'] = response.usage.prompt_tokens\n",
    "        ret['completion_token_count'] = response.usage.completion_tokens\n",
    "    except Exception as e:\n",
    "        logger.error(f\"Exception occurred during invoking {model_id}, exception={e}\")\n",
    "        ret['exception'] = e\n",
    "    logger.info(f\"completion: {ret['completion']}\")\n",
    "    return ret"
   ]
  },
  {
   "cell_type": "code",
   "execution_count": 117,
   "metadata": {
    "tags": []
   },
   "outputs": [],
   "source": [
    "def safe_filename(s):\n",
    "    \"\"\"\n",
    "    convert a string to another string that can be used as a filename\n",
    "    i.e. remove white space and non-word chars\n",
    "    \"\"\"\n",
    "    if s is None:\n",
    "        return \"None\"\n",
    "    # Remove all non-word characters (everything except numbers and letters)\n",
    "    s = re.sub(r\"[^\\w\\s]\", '', s)\n",
    "\n",
    "    # Replace all runs of whitespace with a single dash\n",
    "    s = re.sub(r\"\\s+\", '-', s)\n",
    "\n",
    "    return s"
   ]
  },
  {
   "cell_type": "code",
   "execution_count": 118,
   "metadata": {
    "tags": []
   },
   "outputs": [],
   "source": [
    "def parse_as_json(x: str) -> Optional[Dict]:\n",
    "    \"\"\"\n",
    "    Convert a string into a dictionary. Remove any\n",
    "    stray whitespaces which could break the json parsing\n",
    "    \"\"\"\n",
    "    d: Optional[Dict] = None\n",
    "    try:\n",
    "        x = x.replace(\"\\n\", \"\").replace(\"\\t\", \"\")\n",
    "        d = json.loads(x)\n",
    "    except Exception as e:\n",
    "        print(f\"parse_as_json, error parsing string as json, string={x}\")\n",
    "    return d"
   ]
  },
  {
   "cell_type": "markdown",
   "metadata": {},
   "source": [
    "### Read the latest dataframe and run LLM as a judge evaluations on it"
   ]
  },
  {
   "cell_type": "code",
   "execution_count": 119,
   "metadata": {
    "tags": []
   },
   "outputs": [
    {
     "data": {
      "text/html": [
       "<div>\n",
       "<style scoped>\n",
       "    .dataframe tbody tr th:only-of-type {\n",
       "        vertical-align: middle;\n",
       "    }\n",
       "\n",
       "    .dataframe tbody tr th {\n",
       "        vertical-align: top;\n",
       "    }\n",
       "\n",
       "    .dataframe thead th {\n",
       "        text-align: right;\n",
       "    }\n",
       "</style>\n",
       "<table border=\"1\" class=\"dataframe\">\n",
       "  <thead>\n",
       "    <tr style=\"text-align: right;\">\n",
       "      <th></th>\n",
       "      <th>endpoint_name</th>\n",
       "      <th>prompt</th>\n",
       "      <th>ground_truth</th>\n",
       "      <th>temperature</th>\n",
       "      <th>max_tokens</th>\n",
       "      <th>top_p</th>\n",
       "      <th>completion</th>\n",
       "      <th>prompt_tokens</th>\n",
       "      <th>completion_tokens</th>\n",
       "      <th>latency</th>\n",
       "      <th>...</th>\n",
       "      <th>uuid</th>\n",
       "      <th>experiment_name</th>\n",
       "      <th>concurrency</th>\n",
       "      <th>instance_type</th>\n",
       "      <th>instance_count</th>\n",
       "      <th>EndpointName</th>\n",
       "      <th>ModelName</th>\n",
       "      <th>Image</th>\n",
       "      <th>S3Uri</th>\n",
       "      <th>cosine_similarity_score</th>\n",
       "    </tr>\n",
       "  </thead>\n",
       "  <tbody>\n",
       "    <tr>\n",
       "      <th>0</th>\n",
       "      <td>mistral.mistral-7b-instruct-v0:2</td>\n",
       "      <td>&lt;s&gt;[INST] &lt;&lt;SYS&gt;&gt;\\nYou are an assistant for qu...</td>\n",
       "      <td>a genus of flowering plant in the Lardizabalac...</td>\n",
       "      <td>0.1</td>\n",
       "      <td>100</td>\n",
       "      <td>0.92</td>\n",
       "      <td>The genera Sinofranchetia and Stauntonia belon...</td>\n",
       "      <td>319</td>\n",
       "      <td>26</td>\n",
       "      <td>0.440897</td>\n",
       "      <td>...</td>\n",
       "      <td>6e77fb90ea804956a115b0268df059b0</td>\n",
       "      <td>mistral.mistral-7b-instruct-v0:2</td>\n",
       "      <td>1</td>\n",
       "      <td>mistral.mistral-7b-instruct-v0:2</td>\n",
       "      <td>1.0</td>\n",
       "      <td>NaN</td>\n",
       "      <td>NaN</td>\n",
       "      <td>NaN</td>\n",
       "      <td>NaN</td>\n",
       "      <td>0.710724</td>\n",
       "    </tr>\n",
       "    <tr>\n",
       "      <th>1</th>\n",
       "      <td>mistral.mistral-7b-instruct-v0:2</td>\n",
       "      <td>&lt;s&gt;[INST] &lt;&lt;SYS&gt;&gt;\\nYou are an assistant for qu...</td>\n",
       "      <td>a genus of flowering plant in the Lardizabalac...</td>\n",
       "      <td>0.1</td>\n",
       "      <td>100</td>\n",
       "      <td>0.92</td>\n",
       "      <td>The genera Sinofranchetia and Stauntonia belon...</td>\n",
       "      <td>319</td>\n",
       "      <td>26</td>\n",
       "      <td>0.450330</td>\n",
       "      <td>...</td>\n",
       "      <td>82d04de71238454a9bbe05f520f22cb0</td>\n",
       "      <td>mistral.mistral-7b-instruct-v0:2</td>\n",
       "      <td>1</td>\n",
       "      <td>mistral.mistral-7b-instruct-v0:2</td>\n",
       "      <td>1.0</td>\n",
       "      <td>NaN</td>\n",
       "      <td>NaN</td>\n",
       "      <td>NaN</td>\n",
       "      <td>NaN</td>\n",
       "      <td>0.710724</td>\n",
       "    </tr>\n",
       "    <tr>\n",
       "      <th>2</th>\n",
       "      <td>mistral.mistral-7b-instruct-v0:2</td>\n",
       "      <td>&lt;s&gt;[INST] &lt;&lt;SYS&gt;&gt;\\nYou are an assistant for qu...</td>\n",
       "      <td>a genus of flowering plant in the Lardizabalac...</td>\n",
       "      <td>0.1</td>\n",
       "      <td>100</td>\n",
       "      <td>0.92</td>\n",
       "      <td>The genera Sinofranchetia and Stauntonia belon...</td>\n",
       "      <td>319</td>\n",
       "      <td>26</td>\n",
       "      <td>0.461762</td>\n",
       "      <td>...</td>\n",
       "      <td>22303e132fb646aa86b938083660dce8</td>\n",
       "      <td>mistral.mistral-7b-instruct-v0:2</td>\n",
       "      <td>1</td>\n",
       "      <td>mistral.mistral-7b-instruct-v0:2</td>\n",
       "      <td>1.0</td>\n",
       "      <td>NaN</td>\n",
       "      <td>NaN</td>\n",
       "      <td>NaN</td>\n",
       "      <td>NaN</td>\n",
       "      <td>0.710724</td>\n",
       "    </tr>\n",
       "    <tr>\n",
       "      <th>3</th>\n",
       "      <td>mistral.mistral-7b-instruct-v0:2</td>\n",
       "      <td>&lt;s&gt;[INST] &lt;&lt;SYS&gt;&gt;\\nYou are an assistant for qu...</td>\n",
       "      <td>a genus of flowering plant in the Lardizabalac...</td>\n",
       "      <td>0.1</td>\n",
       "      <td>100</td>\n",
       "      <td>0.92</td>\n",
       "      <td>The genera Sinofranchetia and Stauntonia belon...</td>\n",
       "      <td>319</td>\n",
       "      <td>26</td>\n",
       "      <td>0.453813</td>\n",
       "      <td>...</td>\n",
       "      <td>715d1d30b18244279ff5c0fbf112f245</td>\n",
       "      <td>mistral.mistral-7b-instruct-v0:2</td>\n",
       "      <td>1</td>\n",
       "      <td>mistral.mistral-7b-instruct-v0:2</td>\n",
       "      <td>1.0</td>\n",
       "      <td>NaN</td>\n",
       "      <td>NaN</td>\n",
       "      <td>NaN</td>\n",
       "      <td>NaN</td>\n",
       "      <td>0.710724</td>\n",
       "    </tr>\n",
       "    <tr>\n",
       "      <th>4</th>\n",
       "      <td>mistral.mistral-7b-instruct-v0:2</td>\n",
       "      <td>&lt;s&gt;[INST] &lt;&lt;SYS&gt;&gt;\\nYou are an assistant for qu...</td>\n",
       "      <td>a genus of flowering plant in the Lardizabalac...</td>\n",
       "      <td>0.1</td>\n",
       "      <td>100</td>\n",
       "      <td>0.92</td>\n",
       "      <td>The genera Sinofranchetia and Stauntonia belon...</td>\n",
       "      <td>319</td>\n",
       "      <td>26</td>\n",
       "      <td>0.435938</td>\n",
       "      <td>...</td>\n",
       "      <td>6ede1f51a3d143f09377dda35107693a</td>\n",
       "      <td>mistral.mistral-7b-instruct-v0:2</td>\n",
       "      <td>1</td>\n",
       "      <td>mistral.mistral-7b-instruct-v0:2</td>\n",
       "      <td>1.0</td>\n",
       "      <td>NaN</td>\n",
       "      <td>NaN</td>\n",
       "      <td>NaN</td>\n",
       "      <td>NaN</td>\n",
       "      <td>0.710724</td>\n",
       "    </tr>\n",
       "  </tbody>\n",
       "</table>\n",
       "<p>5 rows × 23 columns</p>\n",
       "</div>"
      ],
      "text/plain": [
       "                      endpoint_name  \\\n",
       "0  mistral.mistral-7b-instruct-v0:2   \n",
       "1  mistral.mistral-7b-instruct-v0:2   \n",
       "2  mistral.mistral-7b-instruct-v0:2   \n",
       "3  mistral.mistral-7b-instruct-v0:2   \n",
       "4  mistral.mistral-7b-instruct-v0:2   \n",
       "\n",
       "                                              prompt  \\\n",
       "0  <s>[INST] <<SYS>>\\nYou are an assistant for qu...   \n",
       "1  <s>[INST] <<SYS>>\\nYou are an assistant for qu...   \n",
       "2  <s>[INST] <<SYS>>\\nYou are an assistant for qu...   \n",
       "3  <s>[INST] <<SYS>>\\nYou are an assistant for qu...   \n",
       "4  <s>[INST] <<SYS>>\\nYou are an assistant for qu...   \n",
       "\n",
       "                                        ground_truth  temperature  max_tokens  \\\n",
       "0  a genus of flowering plant in the Lardizabalac...          0.1         100   \n",
       "1  a genus of flowering plant in the Lardizabalac...          0.1         100   \n",
       "2  a genus of flowering plant in the Lardizabalac...          0.1         100   \n",
       "3  a genus of flowering plant in the Lardizabalac...          0.1         100   \n",
       "4  a genus of flowering plant in the Lardizabalac...          0.1         100   \n",
       "\n",
       "   top_p                                         completion  prompt_tokens  \\\n",
       "0   0.92  The genera Sinofranchetia and Stauntonia belon...            319   \n",
       "1   0.92  The genera Sinofranchetia and Stauntonia belon...            319   \n",
       "2   0.92  The genera Sinofranchetia and Stauntonia belon...            319   \n",
       "3   0.92  The genera Sinofranchetia and Stauntonia belon...            319   \n",
       "4   0.92  The genera Sinofranchetia and Stauntonia belon...            319   \n",
       "\n",
       "   completion_tokens   latency  ...                              uuid  \\\n",
       "0                 26  0.440897  ...  6e77fb90ea804956a115b0268df059b0   \n",
       "1                 26  0.450330  ...  82d04de71238454a9bbe05f520f22cb0   \n",
       "2                 26  0.461762  ...  22303e132fb646aa86b938083660dce8   \n",
       "3                 26  0.453813  ...  715d1d30b18244279ff5c0fbf112f245   \n",
       "4                 26  0.435938  ...  6ede1f51a3d143f09377dda35107693a   \n",
       "\n",
       "                    experiment_name  concurrency  \\\n",
       "0  mistral.mistral-7b-instruct-v0:2            1   \n",
       "1  mistral.mistral-7b-instruct-v0:2            1   \n",
       "2  mistral.mistral-7b-instruct-v0:2            1   \n",
       "3  mistral.mistral-7b-instruct-v0:2            1   \n",
       "4  mistral.mistral-7b-instruct-v0:2            1   \n",
       "\n",
       "                      instance_type instance_count  EndpointName ModelName  \\\n",
       "0  mistral.mistral-7b-instruct-v0:2            1.0           NaN       NaN   \n",
       "1  mistral.mistral-7b-instruct-v0:2            1.0           NaN       NaN   \n",
       "2  mistral.mistral-7b-instruct-v0:2            1.0           NaN       NaN   \n",
       "3  mistral.mistral-7b-instruct-v0:2            1.0           NaN       NaN   \n",
       "4  mistral.mistral-7b-instruct-v0:2            1.0           NaN       NaN   \n",
       "\n",
       "   Image  S3Uri  cosine_similarity_score  \n",
       "0    NaN    NaN                 0.710724  \n",
       "1    NaN    NaN                 0.710724  \n",
       "2    NaN    NaN                 0.710724  \n",
       "3    NaN    NaN                 0.710724  \n",
       "4    NaN    NaN                 0.710724  \n",
       "\n",
       "[5 rows x 23 columns]"
      ]
     },
     "execution_count": 119,
     "metadata": {},
     "output_type": "execute_result"
    }
   ],
   "source": [
    "df_per_inference.head()"
   ]
  },
  {
   "cell_type": "markdown",
   "metadata": {},
   "source": [
    "### Prepare the evaluation prompt payloads\n",
    "---\n",
    "\n",
    "Here, the evaluation prompt template is used by the LLM judge to evaluate the answers on different criteria.\n",
    "This prompt template function uses a set of rules, prompt template, the answer, and ground truth (if any) in the\n",
    "evaluation solution"
   ]
  },
  {
   "cell_type": "code",
   "execution_count": 120,
   "metadata": {
    "tags": []
   },
   "outputs": [],
   "source": [
    "def prepare_eval_prompts(eval_template: str,\n",
    "                         answer: str, \n",
    "                         rules: str, \n",
    "                         context: str, \n",
    "                         ground_truth: Optional[str]):\n",
    "    \"\"\"\n",
    "    This function prepares the evaluation prompts by preparing the standard eval prompt template\n",
    "    with the rules of a given subjective criteria, context, answer and ground truth (if any ground truth is provided)\n",
    "    \"\"\"\n",
    "    processed_eval_template: Optional[str] = None\n",
    "    processed_eval_template = eval_template.format(\n",
    "        rules=rules,\n",
    "        answer=answer,\n",
    "        context=context,\n",
    "        ground_truth=ground_truth)\n",
    "    return processed_eval_template"
   ]
  },
  {
   "cell_type": "code",
   "execution_count": 121,
   "metadata": {
    "tags": []
   },
   "outputs": [],
   "source": [
    "def run_eval(i: int, total: int, row: Dict,  model_id: str, eval_method_name: str, uuid: str) -> Dict:\n",
    "    \"\"\"\n",
    "    Runs the evaluation for one row \n",
    "    The eval prompt is already available in the row dictionary\n",
    "    and we simply want to run the inference against the judge model.\n",
    "    The results are returned in a new dictionary that contains the model \n",
    "    response and some fields from the original dictionary\n",
    "    \"\"\"\n",
    "    # save all the responses from the model in a dictionary\n",
    "    resp: Dict = {}\n",
    "    print(f\"run_eval, row {i}/{total}, judge_model_id={model_id}, candidate model={row['endpoint_name']}\")\n",
    "    candidate_model_response: str = row['completion']\n",
    "    # create the payload for model inference\n",
    "    prompt = row[f'{model_id}_{method_name}_eval_prompt']\n",
    "    # generate the chapter title based on the given chapter in the prompt \n",
    "    resp = get_inference(model_id, prompt)\n",
    "    resp['candidate_model_response'] = candidate_model_response\n",
    "    resp['candidate_model'] = row['endpoint_name']\n",
    "    resp['cosine_similarity_score'] = row['cosine_similarity_score']\n",
    "    if 'ground_truth' in row:\n",
    "        resp['ground_truth'] = row['ground_truth']\n",
    "    # calculate the input and output token price for all of the calls\n",
    "    model_eval_completions_dir: str = os.path.join(RESULTS_DIR, MODEL_EVALUATION_JUDGE_COMPLETIONS_DIR)\n",
    "    dir_path = os.path.join(model_eval_completions_dir, model_id, eval_method_name)\n",
    "    os.makedirs(dir_path, exist_ok=True)\n",
    "    fpath = os.path.join(dir_path, f\"{model_id}_{eval_method_name}_{uuid}.json\")\n",
    "\n",
    "    Path(fpath).write_text(json.dumps(resp, default=str, indent=2))\n",
    "\n",
    "    return resp\n",
    "\n",
    "# we use Ray to parallize\n",
    "@ray.remote\n",
    "def async_run_eval(i: int, total: int, row: Dict, model_id: str, eval_method_name: str, uuid: str) -> Dict:\n",
    "    print(f\"async_run_eval, i={i}, total={total}, judge_model_info={model_id}, eval_method: {eval_method_name}, uuid: {uuid}\")\n",
    "    return run_eval(i, total, row, model_id, eval_method_name, uuid)"
   ]
  },
  {
   "cell_type": "code",
   "execution_count": 122,
   "metadata": {
    "tags": []
   },
   "outputs": [
    {
     "name": "stderr",
     "output_type": "stream",
     "text": [
      "[2024-07-12 17:47:02,693] p27460 {2376022395.py:3} INFO - eval_records_list has 360 entries\n"
     ]
    }
   ],
   "source": [
    "# convert the dataframe into a list of dicts as that is easy to parallize via Ray\n",
    "df_per_inference_list = json.loads(df_per_inference.to_json(orient='records'))\n",
    "logger.info(f\"eval_records_list has {len(df_per_inference_list)} entries\")"
   ]
  },
  {
   "cell_type": "markdown",
   "metadata": {},
   "source": [
    "### Prepare evaluation prompt templates\n",
    "---\n",
    "\n",
    "This portion of the step prepares the evaluation prompt templates that are used in the evaluation process of using `Max Voting` or `Average Pooling` using the PoLL."
   ]
  },
  {
   "cell_type": "code",
   "execution_count": 123,
   "metadata": {
    "tags": []
   },
   "outputs": [
    {
     "data": {
      "text/plain": [
       "{'judge_panel_list': [{'model_id': 'anthropic.claude-3-haiku-20240307-v1:0',\n",
       "   'eval_prompt_template_dir': 'claude_eval_prompt_templates',\n",
       "   'eval_prompt_template_name_prefix': 'claude_eval'},\n",
       "  {'model_id': 'meta.llama3-70b-instruct-v1:0',\n",
       "   'eval_prompt_template_dir': 'llama3_eval_prompt_templates',\n",
       "   'eval_prompt_template_name_prefix': 'llama3_eval'},\n",
       "  {'model_id': 'cohere.command-r-v1:0',\n",
       "   'eval_prompt_template_dir': 'cohere_eval_prompt_templates',\n",
       "   'eval_prompt_template_name_prefix': 'cohere_eval'}],\n",
       " 'inference_parameters': {'temperature': 0.1,\n",
       "  'max_tokens': 300,\n",
       "  'top_p': 0.92,\n",
       "  'caching': False},\n",
       " 'run_parallel_inference_count': 10}"
      ]
     },
     "execution_count": 123,
     "metadata": {},
     "output_type": "execute_result"
    }
   ],
   "source": [
    "model_eval_subjective_info"
   ]
  },
  {
   "cell_type": "code",
   "execution_count": 124,
   "metadata": {
    "tags": []
   },
   "outputs": [
    {
     "name": "stderr",
     "output_type": "stream",
     "text": [
      "[2024-07-12 17:47:02,702] p27460 {2514474553.py:4} INFO - The evaluation method FMBench is going to use to evaluate different model responses: max_voting\n",
      "[2024-07-12 17:47:02,703] p27460 {2514474553.py:5} INFO - judge panel being used to evaluate model responses: [{'model_id': 'anthropic.claude-3-haiku-20240307-v1:0', 'eval_prompt_template_dir': 'claude_eval_prompt_templates', 'eval_prompt_template_name_prefix': 'claude_eval'}, {'model_id': 'meta.llama3-70b-instruct-v1:0', 'eval_prompt_template_dir': 'llama3_eval_prompt_templates', 'eval_prompt_template_name_prefix': 'llama3_eval'}, {'model_id': 'cohere.command-r-v1:0', 'eval_prompt_template_dir': 'cohere_eval_prompt_templates', 'eval_prompt_template_name_prefix': 'cohere_eval'}]\n"
     ]
    }
   ],
   "source": [
    "# get the method that is being used to evaluate the content (which is either \n",
    "# max voting or average pooling)\n",
    "method_name: str = config['model_evaluations']['PoLL_Composition_and_Voting'].get('method', None)\n",
    "logger.info(f\"The evaluation method FMBench is going to use to evaluate different model responses: {method_name}\")\n",
    "logger.info(f\"judge panel being used to evaluate model responses: {model_eval_subjective_info.get('judge_panel_list', None)}\")"
   ]
  },
  {
   "cell_type": "code",
   "execution_count": 125,
   "metadata": {
    "tags": []
   },
   "outputs": [
    {
     "name": "stderr",
     "output_type": "stream",
     "text": [
      "[2024-07-12 17:47:02,709] p27460 {578681319.py:7} INFO - evaluation prompt template file path being used for anthropic.claude-3-haiku-20240307-v1:0: eval_criteria_prompts/claude_eval_prompt_templates/claude_eval_max_voting.txt\n",
      "[2024-07-12 17:47:02,709] p27460 {578681319.py:8} INFO - evaluation prompt template file name: claude_eval_max_voting.txt\n",
      "[2024-07-12 17:47:02,710] p27460 {578681319.py:18} INFO - rules: 1. Your role is to evaluate whether the answer is \"correct\" or \"incorrect\" compared to the ground truth\n",
      "provided and the question in the context.\n",
      "\n",
      "2. Your response should be a JSON containing 2 main elements: \"verdict\" and \"explanation\". In the \"verdict\"\n",
      "field of the JSON response, you should mention whether the question is \"correct\" or \"incorrect\" based on the \n",
      "comparison of the answer to the ground truth provided. The \"explanation\" field of the JSON contains the \n",
      "reason why the answer is correct or incorrect after your evaluation of it against the ground truth.\n",
      "\n",
      "3. Make sure to be completely accurate and give your response in a proper JSON format containing the two fields.\n",
      "Evaluate the ground truth carefully, and based on the question in the context provided, think about whether the \n",
      "answer is correct or incorrect. It does not have to be an exact match to the ground response, but should answer the\n",
      "question given in the context.\n",
      "\n",
      "4. If the answer is a close match to the ground truth and answers the same answer to the question as the ground truth, \n",
      "then your verdict is correct. If the answer does not match the ground truth and does not answer the question from the \n",
      "context, then your verdict is incorrect.\n",
      "\n",
      "5. Do not have any pre filler words in your response. Your response should only contain the JSON format response with\n",
      "your evaluation. \n",
      "[2024-07-12 17:47:02,711] p27460 {578681319.py:20} INFO - column_name: anthropic.claude-3-haiku-20240307-v1:0_max_voting_eval_prompt\n",
      "[2024-07-12 17:47:02,715] p27460 {578681319.py:7} INFO - evaluation prompt template file path being used for meta.llama3-70b-instruct-v1:0: eval_criteria_prompts/llama3_eval_prompt_templates/llama3_eval_max_voting.txt\n",
      "[2024-07-12 17:47:02,716] p27460 {578681319.py:8} INFO - evaluation prompt template file name: llama3_eval_max_voting.txt\n",
      "[2024-07-12 17:47:02,716] p27460 {578681319.py:18} INFO - rules: 1. Your role is to evaluate whether the answer is \"correct\" or \"incorrect\" compared to the ground truth\n",
      "provided and the question in the context.\n",
      "\n",
      "2. Your response should be a JSON containing 2 main elements: \"verdict\" and \"explanation\". In the \"verdict\"\n",
      "field of the JSON response, you should mention whether the question is \"correct\" or \"incorrect\" based on the \n",
      "comparison of the answer to the ground truth provided. The \"explanation\" field of the JSON contains the \n",
      "reason why the answer is correct or incorrect after your evaluation of it against the ground truth.\n",
      "\n",
      "3. Make sure to be completely accurate and give your response in a proper JSON format containing the two fields.\n",
      "Evaluate the ground truth carefully, and based on the question in the context provided, think about whether the \n",
      "answer is correct or incorrect. It does not have to be an exact match to the ground response, but should answer the\n",
      "question given in the context.\n",
      "\n",
      "4. If the answer is a close match to the ground truth and answers the same answer to the question as the ground truth, \n",
      "then your verdict is correct. If the answer does not match the ground truth and does not answer the question from the \n",
      "context, then your verdict is incorrect.\n",
      "\n",
      "5. Do not have any pre filler words in your response. Your response should only contain the JSON format response with\n",
      "your evaluation. \n",
      "[2024-07-12 17:47:02,717] p27460 {578681319.py:20} INFO - column_name: meta.llama3-70b-instruct-v1:0_max_voting_eval_prompt\n",
      "[2024-07-12 17:47:02,721] p27460 {578681319.py:7} INFO - evaluation prompt template file path being used for cohere.command-r-v1:0: eval_criteria_prompts/cohere_eval_prompt_templates/cohere_eval_max_voting.txt\n",
      "[2024-07-12 17:47:02,722] p27460 {578681319.py:8} INFO - evaluation prompt template file name: cohere_eval_max_voting.txt\n",
      "[2024-07-12 17:47:02,722] p27460 {578681319.py:18} INFO - rules: 1. Your role is to evaluate whether the answer is \"correct\" or \"incorrect\" compared to the ground truth\n",
      "provided and the question in the context.\n",
      "\n",
      "2. Your response should be a JSON containing 2 main elements: \"verdict\" and \"explanation\". In the \"verdict\"\n",
      "field of the JSON response, you should mention whether the question is \"correct\" or \"incorrect\" based on the \n",
      "comparison of the answer to the ground truth provided. The \"explanation\" field of the JSON contains the \n",
      "reason why the answer is correct or incorrect after your evaluation of it against the ground truth.\n",
      "\n",
      "3. Make sure to be completely accurate and give your response in a proper JSON format containing the two fields.\n",
      "Evaluate the ground truth carefully, and based on the question in the context provided, think about whether the \n",
      "answer is correct or incorrect. It does not have to be an exact match to the ground response, but should answer the\n",
      "question given in the context.\n",
      "\n",
      "4. If the answer is a close match to the ground truth and answers the same answer to the question as the ground truth, \n",
      "then your verdict is correct. If the answer does not match the ground truth and does not answer the question from the \n",
      "context, then your verdict is incorrect.\n",
      "\n",
      "5. Do not have any pre filler words in your response. Your response should only contain the JSON format response with\n",
      "your evaluation. \n",
      "[2024-07-12 17:47:02,723] p27460 {578681319.py:20} INFO - column_name: cohere.command-r-v1:0_max_voting_eval_prompt\n"
     ]
    },
    {
     "name": "stdout",
     "output_type": "stream",
     "text": [
      "Evaluation prompt template being used: Human: You are a judge who evaluates the correctness of the answer to a given question in the context \n",
      "in the <context></context> tags. Your role is to evaluate whether the answer provided in the <answer></answer> \n",
      "tags is correct compared to the ground truth answer provided in the <ground_truth></ground_truth> xml tags.\n",
      "\n",
      "Follow the instructions below while giving your evaluation in the <evaluation_instructions></evaluation_instructions>\n",
      "tags:\n",
      "\n",
      "<evaluation_instructions>\n",
      "{rules}\n",
      "</evaluation_instructions>\n",
      "\n",
      "Refer to the context below in the <context></context> xml tags:\n",
      "<context>\n",
      "{context}\n",
      "</context>\n",
      "\n",
      "Refer to the answer to be evaluated in the <answer></answer> tags:\n",
      "<answer>\n",
      "{answer}\n",
      "</answer> \n",
      "\n",
      "Refer to the ground truth to the question in the context below in the <ground_truth></ground_truth> xml tags: \n",
      "<ground_truth>\n",
      "{ground_truth}\n",
      "</ground_truth> \n",
      "\n",
      "Assistant: Sure, here is my evaluation in JSON:\n",
      "Evaluation prompt template being used: <|begin_of_text|><|start_header_id|>user<|end_header_id|>\n",
      "You are a judge who evaluates the correctness of the answer to a given question in the context \n",
      "demarcated by \"```\" below. Your role is to evaluate whether the answer provided in the answer section\n",
      "is correct compared to the ground truth answer provided in the ground_truth section.\n",
      "\n",
      "Follow the instructions below while giving your evaluation in the evaluation_instructions section below:\n",
      "\n",
      "evaluation_instructions:\n",
      "{rules}\n",
      "\n",
      "Refer to the context below demarcated by \"```\"\n",
      "```\n",
      "{context}\n",
      "```\n",
      "\n",
      "Refer to the answer to below that needs to be evaluated:\n",
      "answer: {answer}\n",
      "\n",
      "\n",
      "Refer to the ground truth to the question in the context below in the ground_truth section:\n",
      "ground_truth: {ground_truth}\n",
      "\n",
      "Do not add anything else in your response. Give your response only in a correct formatted json starting with an \n",
      "opening and ending with a bracket.\n",
      "\n",
      "Do not add any pre filler words. Your response should contain the JSON structured output only.\n",
      "\n",
      "<|eot_id|><|start_header_id|>assistant<|end_header_id|>\n",
      "Evaluation prompt template being used: You are a judge who evaluates the correctness of the answer to a given question in the context section. \n",
      "Your role is to evaluate whether the answer provided in the answer section\n",
      "is correct compared to the ground truth answer provided in the ground_truth section.\n",
      "\n",
      "Follow the instructions below while giving your evaluation in the evaluation_instructions section below:\n",
      "\n",
      "## evaluation_instructions:\n",
      "{rules}\n",
      "\n",
      "## context:\n",
      "{context}\n",
      "\n",
      "Refer to the answer to below that needs to be evaluated:\n",
      "answer: {answer}\n",
      "\n",
      "\n",
      "Refer to the ground truth to the question in the context below in the ground_truth section:\n",
      "ground_truth: {ground_truth}\n",
      "\n",
      "## Response Instructions:\n",
      "\n",
      "Only give your response in a JSON format. Do not prefix your response with ``` json .....  ``` and so on. \n",
      "\n",
      "Do not add anything else but the format above in your evaluation response. Your response should just start with \n",
      "an opening JSON bracket, the fields, and then a closing JSON bracket, nothing else.\n",
      "\n"
     ]
    }
   ],
   "source": [
    "# Assuming fmbench is a valid Python package and scripts is a subdirectory within it\n",
    "eval_prompts_dir = Path(pkg_resources.files('fmbench'), config['s3_read_data']['eval_prompts_dir'])\n",
    "# Iterate through each LLM as a judge and each evaluation criterion\n",
    "for llm_info in model_eval_subjective_info.get('judge_panel_list', None):\n",
    "    model_id = llm_info['model_id']\n",
    "    eval_prompt_template_fname: str = f\"{llm_info.get('eval_prompt_template_name_prefix', None)}_{method_name}.txt\"\n",
    "    eval_prompt_template_dir = llm_info.get('eval_prompt_template_dir', None)\n",
    "    eval_prompt_template_path: str = os.path.join(eval_prompts_dir, eval_prompt_template_dir, eval_prompt_template_fname)\n",
    "    logger.info(f\"evaluation prompt template file path being used for {model_id}: {eval_prompt_template_path}\")\n",
    "    logger.info(f\"evaluation prompt template file name: {eval_prompt_template_fname}\")\n",
    "    try:\n",
    "        eval_prompt_template = Path(eval_prompt_template_path).read_text()\n",
    "    except FileNotFoundError:\n",
    "        logger.error(f\"File not found: {eval_prompt_template_path}\")\n",
    "        continue\n",
    "\n",
    "    print(f\"Evaluation prompt template being used: {eval_prompt_template}\")\n",
    "    eval_instructions_fname: str = next((rule for rule in config['s3_read_data']['eval_instructions_files'] if method_name in rule), None)\n",
    "    rules = Path(os.path.join(eval_prompts_dir, eval_instructions_fname)).read_text()\n",
    "    logger.info(f\"rules: {rules}\")\n",
    "    column_name = f\"{model_id}_{method_name}_eval_prompt\"\n",
    "    logger.info(f\"column_name: {column_name}\")\n",
    "\n",
    "    df_per_inference[column_name] = df_per_inference.apply(\n",
    "        lambda r: prepare_eval_prompts(\n",
    "            eval_prompt_template,\n",
    "            r['completion'],\n",
    "            rules,\n",
    "            r['prompt'],\n",
    "            r['ground_truth']\n",
    "        ),\n",
    "        axis=1\n",
    "    )"
   ]
  },
  {
   "cell_type": "code",
   "execution_count": 126,
   "metadata": {
    "tags": []
   },
   "outputs": [
    {
     "name": "stderr",
     "output_type": "stream",
     "text": [
      "[2024-07-12 17:47:02,953] p27460 {4247376453.py:9} INFO - Per inference cosine similarity scores saved to s3://sagemaker-fmbench-write-us-west-2-387192758086/fmbench-bedrock-fmbench-stack-us-west-2-role/data/metrics/yyyy=2024/mm=07/dd=12/hh=16/mm=35/processed_eval_prompts_for_inference.csv\n"
     ]
    },
    {
     "data": {
      "text/html": [
       "<div>\n",
       "<style scoped>\n",
       "    .dataframe tbody tr th:only-of-type {\n",
       "        vertical-align: middle;\n",
       "    }\n",
       "\n",
       "    .dataframe tbody tr th {\n",
       "        vertical-align: top;\n",
       "    }\n",
       "\n",
       "    .dataframe thead th {\n",
       "        text-align: right;\n",
       "    }\n",
       "</style>\n",
       "<table border=\"1\" class=\"dataframe\">\n",
       "  <thead>\n",
       "    <tr style=\"text-align: right;\">\n",
       "      <th></th>\n",
       "      <th>endpoint_name</th>\n",
       "      <th>prompt</th>\n",
       "      <th>ground_truth</th>\n",
       "      <th>temperature</th>\n",
       "      <th>max_tokens</th>\n",
       "      <th>top_p</th>\n",
       "      <th>completion</th>\n",
       "      <th>prompt_tokens</th>\n",
       "      <th>completion_tokens</th>\n",
       "      <th>latency</th>\n",
       "      <th>...</th>\n",
       "      <th>instance_type</th>\n",
       "      <th>instance_count</th>\n",
       "      <th>EndpointName</th>\n",
       "      <th>ModelName</th>\n",
       "      <th>Image</th>\n",
       "      <th>S3Uri</th>\n",
       "      <th>cosine_similarity_score</th>\n",
       "      <th>anthropic.claude-3-haiku-20240307-v1:0_max_voting_eval_prompt</th>\n",
       "      <th>meta.llama3-70b-instruct-v1:0_max_voting_eval_prompt</th>\n",
       "      <th>cohere.command-r-v1:0_max_voting_eval_prompt</th>\n",
       "    </tr>\n",
       "  </thead>\n",
       "  <tbody>\n",
       "    <tr>\n",
       "      <th>0</th>\n",
       "      <td>mistral.mistral-7b-instruct-v0:2</td>\n",
       "      <td>&lt;s&gt;[INST] &lt;&lt;SYS&gt;&gt;\\nYou are an assistant for qu...</td>\n",
       "      <td>a genus of flowering plant in the Lardizabalac...</td>\n",
       "      <td>0.1</td>\n",
       "      <td>100</td>\n",
       "      <td>0.92</td>\n",
       "      <td>The genera Sinofranchetia and Stauntonia belon...</td>\n",
       "      <td>319</td>\n",
       "      <td>26</td>\n",
       "      <td>0.440897</td>\n",
       "      <td>...</td>\n",
       "      <td>mistral.mistral-7b-instruct-v0:2</td>\n",
       "      <td>1.0</td>\n",
       "      <td>NaN</td>\n",
       "      <td>NaN</td>\n",
       "      <td>NaN</td>\n",
       "      <td>NaN</td>\n",
       "      <td>0.710724</td>\n",
       "      <td>Human: You are a judge who evaluates the corre...</td>\n",
       "      <td>&lt;|begin_of_text|&gt;&lt;|start_header_id|&gt;user&lt;|end_...</td>\n",
       "      <td>You are a judge who evaluates the correctness ...</td>\n",
       "    </tr>\n",
       "    <tr>\n",
       "      <th>1</th>\n",
       "      <td>mistral.mistral-7b-instruct-v0:2</td>\n",
       "      <td>&lt;s&gt;[INST] &lt;&lt;SYS&gt;&gt;\\nYou are an assistant for qu...</td>\n",
       "      <td>a genus of flowering plant in the Lardizabalac...</td>\n",
       "      <td>0.1</td>\n",
       "      <td>100</td>\n",
       "      <td>0.92</td>\n",
       "      <td>The genera Sinofranchetia and Stauntonia belon...</td>\n",
       "      <td>319</td>\n",
       "      <td>26</td>\n",
       "      <td>0.450330</td>\n",
       "      <td>...</td>\n",
       "      <td>mistral.mistral-7b-instruct-v0:2</td>\n",
       "      <td>1.0</td>\n",
       "      <td>NaN</td>\n",
       "      <td>NaN</td>\n",
       "      <td>NaN</td>\n",
       "      <td>NaN</td>\n",
       "      <td>0.710724</td>\n",
       "      <td>Human: You are a judge who evaluates the corre...</td>\n",
       "      <td>&lt;|begin_of_text|&gt;&lt;|start_header_id|&gt;user&lt;|end_...</td>\n",
       "      <td>You are a judge who evaluates the correctness ...</td>\n",
       "    </tr>\n",
       "    <tr>\n",
       "      <th>2</th>\n",
       "      <td>mistral.mistral-7b-instruct-v0:2</td>\n",
       "      <td>&lt;s&gt;[INST] &lt;&lt;SYS&gt;&gt;\\nYou are an assistant for qu...</td>\n",
       "      <td>a genus of flowering plant in the Lardizabalac...</td>\n",
       "      <td>0.1</td>\n",
       "      <td>100</td>\n",
       "      <td>0.92</td>\n",
       "      <td>The genera Sinofranchetia and Stauntonia belon...</td>\n",
       "      <td>319</td>\n",
       "      <td>26</td>\n",
       "      <td>0.461762</td>\n",
       "      <td>...</td>\n",
       "      <td>mistral.mistral-7b-instruct-v0:2</td>\n",
       "      <td>1.0</td>\n",
       "      <td>NaN</td>\n",
       "      <td>NaN</td>\n",
       "      <td>NaN</td>\n",
       "      <td>NaN</td>\n",
       "      <td>0.710724</td>\n",
       "      <td>Human: You are a judge who evaluates the corre...</td>\n",
       "      <td>&lt;|begin_of_text|&gt;&lt;|start_header_id|&gt;user&lt;|end_...</td>\n",
       "      <td>You are a judge who evaluates the correctness ...</td>\n",
       "    </tr>\n",
       "    <tr>\n",
       "      <th>3</th>\n",
       "      <td>mistral.mistral-7b-instruct-v0:2</td>\n",
       "      <td>&lt;s&gt;[INST] &lt;&lt;SYS&gt;&gt;\\nYou are an assistant for qu...</td>\n",
       "      <td>a genus of flowering plant in the Lardizabalac...</td>\n",
       "      <td>0.1</td>\n",
       "      <td>100</td>\n",
       "      <td>0.92</td>\n",
       "      <td>The genera Sinofranchetia and Stauntonia belon...</td>\n",
       "      <td>319</td>\n",
       "      <td>26</td>\n",
       "      <td>0.453813</td>\n",
       "      <td>...</td>\n",
       "      <td>mistral.mistral-7b-instruct-v0:2</td>\n",
       "      <td>1.0</td>\n",
       "      <td>NaN</td>\n",
       "      <td>NaN</td>\n",
       "      <td>NaN</td>\n",
       "      <td>NaN</td>\n",
       "      <td>0.710724</td>\n",
       "      <td>Human: You are a judge who evaluates the corre...</td>\n",
       "      <td>&lt;|begin_of_text|&gt;&lt;|start_header_id|&gt;user&lt;|end_...</td>\n",
       "      <td>You are a judge who evaluates the correctness ...</td>\n",
       "    </tr>\n",
       "    <tr>\n",
       "      <th>4</th>\n",
       "      <td>mistral.mistral-7b-instruct-v0:2</td>\n",
       "      <td>&lt;s&gt;[INST] &lt;&lt;SYS&gt;&gt;\\nYou are an assistant for qu...</td>\n",
       "      <td>a genus of flowering plant in the Lardizabalac...</td>\n",
       "      <td>0.1</td>\n",
       "      <td>100</td>\n",
       "      <td>0.92</td>\n",
       "      <td>The genera Sinofranchetia and Stauntonia belon...</td>\n",
       "      <td>319</td>\n",
       "      <td>26</td>\n",
       "      <td>0.435938</td>\n",
       "      <td>...</td>\n",
       "      <td>mistral.mistral-7b-instruct-v0:2</td>\n",
       "      <td>1.0</td>\n",
       "      <td>NaN</td>\n",
       "      <td>NaN</td>\n",
       "      <td>NaN</td>\n",
       "      <td>NaN</td>\n",
       "      <td>0.710724</td>\n",
       "      <td>Human: You are a judge who evaluates the corre...</td>\n",
       "      <td>&lt;|begin_of_text|&gt;&lt;|start_header_id|&gt;user&lt;|end_...</td>\n",
       "      <td>You are a judge who evaluates the correctness ...</td>\n",
       "    </tr>\n",
       "  </tbody>\n",
       "</table>\n",
       "<p>5 rows × 26 columns</p>\n",
       "</div>"
      ],
      "text/plain": [
       "                      endpoint_name  \\\n",
       "0  mistral.mistral-7b-instruct-v0:2   \n",
       "1  mistral.mistral-7b-instruct-v0:2   \n",
       "2  mistral.mistral-7b-instruct-v0:2   \n",
       "3  mistral.mistral-7b-instruct-v0:2   \n",
       "4  mistral.mistral-7b-instruct-v0:2   \n",
       "\n",
       "                                              prompt  \\\n",
       "0  <s>[INST] <<SYS>>\\nYou are an assistant for qu...   \n",
       "1  <s>[INST] <<SYS>>\\nYou are an assistant for qu...   \n",
       "2  <s>[INST] <<SYS>>\\nYou are an assistant for qu...   \n",
       "3  <s>[INST] <<SYS>>\\nYou are an assistant for qu...   \n",
       "4  <s>[INST] <<SYS>>\\nYou are an assistant for qu...   \n",
       "\n",
       "                                        ground_truth  temperature  max_tokens  \\\n",
       "0  a genus of flowering plant in the Lardizabalac...          0.1         100   \n",
       "1  a genus of flowering plant in the Lardizabalac...          0.1         100   \n",
       "2  a genus of flowering plant in the Lardizabalac...          0.1         100   \n",
       "3  a genus of flowering plant in the Lardizabalac...          0.1         100   \n",
       "4  a genus of flowering plant in the Lardizabalac...          0.1         100   \n",
       "\n",
       "   top_p                                         completion  prompt_tokens  \\\n",
       "0   0.92  The genera Sinofranchetia and Stauntonia belon...            319   \n",
       "1   0.92  The genera Sinofranchetia and Stauntonia belon...            319   \n",
       "2   0.92  The genera Sinofranchetia and Stauntonia belon...            319   \n",
       "3   0.92  The genera Sinofranchetia and Stauntonia belon...            319   \n",
       "4   0.92  The genera Sinofranchetia and Stauntonia belon...            319   \n",
       "\n",
       "   completion_tokens   latency  ...                     instance_type  \\\n",
       "0                 26  0.440897  ...  mistral.mistral-7b-instruct-v0:2   \n",
       "1                 26  0.450330  ...  mistral.mistral-7b-instruct-v0:2   \n",
       "2                 26  0.461762  ...  mistral.mistral-7b-instruct-v0:2   \n",
       "3                 26  0.453813  ...  mistral.mistral-7b-instruct-v0:2   \n",
       "4                 26  0.435938  ...  mistral.mistral-7b-instruct-v0:2   \n",
       "\n",
       "   instance_count  EndpointName ModelName Image  S3Uri  \\\n",
       "0             1.0           NaN       NaN   NaN    NaN   \n",
       "1             1.0           NaN       NaN   NaN    NaN   \n",
       "2             1.0           NaN       NaN   NaN    NaN   \n",
       "3             1.0           NaN       NaN   NaN    NaN   \n",
       "4             1.0           NaN       NaN   NaN    NaN   \n",
       "\n",
       "  cosine_similarity_score  \\\n",
       "0                0.710724   \n",
       "1                0.710724   \n",
       "2                0.710724   \n",
       "3                0.710724   \n",
       "4                0.710724   \n",
       "\n",
       "   anthropic.claude-3-haiku-20240307-v1:0_max_voting_eval_prompt  \\\n",
       "0  Human: You are a judge who evaluates the corre...               \n",
       "1  Human: You are a judge who evaluates the corre...               \n",
       "2  Human: You are a judge who evaluates the corre...               \n",
       "3  Human: You are a judge who evaluates the corre...               \n",
       "4  Human: You are a judge who evaluates the corre...               \n",
       "\n",
       "   meta.llama3-70b-instruct-v1:0_max_voting_eval_prompt  \\\n",
       "0  <|begin_of_text|><|start_header_id|>user<|end_...      \n",
       "1  <|begin_of_text|><|start_header_id|>user<|end_...      \n",
       "2  <|begin_of_text|><|start_header_id|>user<|end_...      \n",
       "3  <|begin_of_text|><|start_header_id|>user<|end_...      \n",
       "4  <|begin_of_text|><|start_header_id|>user<|end_...      \n",
       "\n",
       "        cohere.command-r-v1:0_max_voting_eval_prompt  \n",
       "0  You are a judge who evaluates the correctness ...  \n",
       "1  You are a judge who evaluates the correctness ...  \n",
       "2  You are a judge who evaluates the correctness ...  \n",
       "3  You are a judge who evaluates the correctness ...  \n",
       "4  You are a judge who evaluates the correctness ...  \n",
       "\n",
       "[5 rows x 26 columns]"
      ]
     },
     "execution_count": 126,
     "metadata": {},
     "output_type": "execute_result"
    }
   ],
   "source": [
    "csv_buffer = io.StringIO()\n",
    "df_per_inference.to_csv(csv_buffer, index=False)\n",
    "df_per_inference_with_eval_prompt_payloads = csv_buffer.getvalue()\n",
    "eval_prompt_payloads_for_inference = os.path.join(METRICS_DIR, PROCESSED_EVAL_PROMPT_PAYLOADS)  # Define full S3 path\n",
    "\n",
    "# Write the CSV data to S3\n",
    "write_to_s3(df_per_inference_with_eval_prompt_payloads, BUCKET_NAME, \"\", \n",
    "            METRICS_DIR, PROCESSED_EVAL_PROMPT_PAYLOADS)\n",
    "logger.info(f\"Per inference cosine similarity scores saved to s3://{BUCKET_NAME}/{eval_prompt_payloads_for_inference}\")\n",
    "\n",
    "df_per_inference.head()"
   ]
  },
  {
   "cell_type": "code",
   "execution_count": 127,
   "metadata": {
    "tags": []
   },
   "outputs": [
    {
     "name": "stderr",
     "output_type": "stream",
     "text": [
      "[2024-07-12 17:47:02,996] p27460 {3717042138.py:3} INFO - eval_records_list has 360 entries\n"
     ]
    }
   ],
   "source": [
    "# convert the dataframe into a list of dicts as that is easy to parallize via Ray\n",
    "eval_records_list = json.loads(df_per_inference.to_json(orient='records'))\n",
    "logger.info(f\"eval_records_list has {len(eval_records_list)} entries\")"
   ]
  },
  {
   "cell_type": "markdown",
   "metadata": {},
   "source": [
    "### Run LLM as a Judge Evaluations\n",
    "---\n",
    "\n",
    "In this portion of the step, FMBench performs the following actions:\n",
    "\n",
    "1. If the method of evaluation is `Max Voting`, then in that case we suppose that a ground truth to the question from the context or task is pre existing in the dataset. We use the LLM panel of judges (in this case 3 judges), to give a verdict on whether the `answer` from the candidate models during inference is `correct` or `incorrect`. If the response is correct, then it gives it a `correct` and if not, then `incorrect`.\n",
    "\n",
    "1. If the method of evaluation is `Average Pooling`, then in that case we suppose that the completion from the candidate models are supposed to be evlauated on a more subjective criteria rather than just deciding whether it is correct or incorrect compared to the ground truth. In this case, the average pooling prompt templates are used by the Judge Panel to give a rating out of 1-5 to each model completion on different criteria, such as relevancy, helpfulness, correctness, and so on.\n",
    "\n",
    "1. Each model response is given in a JSON structure which is further used for downstream analytics, to decide the comparision of evaluation results between different model candidates and more.\n",
    "\n",
    "***This step takes about ~6 minutes to complete. Model completion time depends on the PoLL models being used. `Llama3-70b`, `Cohere command-r-v1` and `claude 3 haiku` were used for this example***"
   ]
  },
  {
   "cell_type": "code",
   "execution_count": 128,
   "metadata": {
    "tags": []
   },
   "outputs": [
    {
     "name": "stderr",
     "output_type": "stream",
     "text": [
      "[2024-07-12 17:47:03,001] p27460 {602205354.py:3} INFO - The judge panel list contains 3 judges: [{'model_id': 'anthropic.claude-3-haiku-20240307-v1:0', 'eval_prompt_template_dir': 'claude_eval_prompt_templates', 'eval_prompt_template_name_prefix': 'claude_eval'}, {'model_id': 'meta.llama3-70b-instruct-v1:0', 'eval_prompt_template_dir': 'llama3_eval_prompt_templates', 'eval_prompt_template_name_prefix': 'llama3_eval'}, {'model_id': 'cohere.command-r-v1:0', 'eval_prompt_template_dir': 'cohere_eval_prompt_templates', 'eval_prompt_template_name_prefix': 'cohere_eval'}]\n"
     ]
    }
   ],
   "source": [
    "# get the llm as a judge panel list\n",
    "judge_panel_list = model_eval_subjective_info.get('judge_panel_list', None)\n",
    "logger.info(f\"The judge panel list contains {len(judge_panel_list)} judges: {judge_panel_list}\")"
   ]
  },
  {
   "cell_type": "code",
   "execution_count": 129,
   "metadata": {
    "tags": []
   },
   "outputs": [
    {
     "name": "stderr",
     "output_type": "stream",
     "text": [
      "[2024-07-12 17:47:03,006] p27460 {4184728912.py:8} INFO - ============Running inference for judge panelist anthropic.claude-3-haiku-20240307-v1:0 for max_voting ============\n",
      "[2024-07-12 17:47:03,007] p27460 {4184728912.py:11} INFO - getting inference for list 1/36, size of list=10\n",
      "[2024-07-12 17:47:05,612] p27460 {4184728912.py:11} INFO - getting inference for list 2/36, size of list=10\n",
      "[2024-07-12 17:47:07,762] p27460 {4184728912.py:11} INFO - getting inference for list 3/36, size of list=10\n",
      "[2024-07-12 17:47:10,494] p27460 {4184728912.py:11} INFO - getting inference for list 4/36, size of list=10\n",
      "[2024-07-12 17:47:13,132] p27460 {4184728912.py:11} INFO - getting inference for list 5/36, size of list=10\n",
      "[2024-07-12 17:47:15,733] p27460 {4184728912.py:11} INFO - getting inference for list 6/36, size of list=10\n",
      "[2024-07-12 17:47:18,521] p27460 {4184728912.py:11} INFO - getting inference for list 7/36, size of list=10\n",
      "[2024-07-12 17:47:21,049] p27460 {4184728912.py:11} INFO - getting inference for list 8/36, size of list=10\n",
      "[2024-07-12 17:47:23,225] p27460 {4184728912.py:11} INFO - getting inference for list 9/36, size of list=10\n",
      "[2024-07-12 17:47:25,897] p27460 {4184728912.py:11} INFO - getting inference for list 10/36, size of list=10\n",
      "[2024-07-12 17:47:28,376] p27460 {4184728912.py:11} INFO - getting inference for list 11/36, size of list=10\n",
      "[2024-07-12 17:47:30,544] p27460 {4184728912.py:11} INFO - getting inference for list 12/36, size of list=10\n",
      "[2024-07-12 17:47:33,296] p27460 {4184728912.py:11} INFO - getting inference for list 13/36, size of list=10\n",
      "[2024-07-12 17:47:35,811] p27460 {4184728912.py:11} INFO - getting inference for list 14/36, size of list=10\n",
      "[2024-07-12 17:47:37,918] p27460 {4184728912.py:11} INFO - getting inference for list 15/36, size of list=10\n",
      "[2024-07-12 17:47:40,789] p27460 {4184728912.py:11} INFO - getting inference for list 16/36, size of list=10\n",
      "[2024-07-12 17:47:43,214] p27460 {4184728912.py:11} INFO - getting inference for list 17/36, size of list=10\n",
      "[2024-07-12 17:47:45,297] p27460 {4184728912.py:11} INFO - getting inference for list 18/36, size of list=10\n",
      "[2024-07-12 17:47:48,177] p27460 {4184728912.py:11} INFO - getting inference for list 19/36, size of list=10\n",
      "[2024-07-12 17:47:50,742] p27460 {4184728912.py:11} INFO - getting inference for list 20/36, size of list=10\n",
      "[2024-07-12 17:47:52,939] p27460 {4184728912.py:11} INFO - getting inference for list 21/36, size of list=10\n",
      "[2024-07-12 17:47:55,917] p27460 {4184728912.py:11} INFO - getting inference for list 22/36, size of list=10\n",
      "[2024-07-12 17:47:58,338] p27460 {4184728912.py:11} INFO - getting inference for list 23/36, size of list=10\n",
      "[2024-07-12 17:48:00,790] p27460 {4184728912.py:11} INFO - getting inference for list 24/36, size of list=10\n",
      "[2024-07-12 17:48:03,471] p27460 {4184728912.py:11} INFO - getting inference for list 25/36, size of list=10\n",
      "[2024-07-12 17:48:05,979] p27460 {4184728912.py:11} INFO - getting inference for list 26/36, size of list=10\n",
      "[2024-07-12 17:48:08,314] p27460 {4184728912.py:11} INFO - getting inference for list 27/36, size of list=10\n",
      "[2024-07-12 17:48:11,242] p27460 {4184728912.py:11} INFO - getting inference for list 28/36, size of list=10\n",
      "[2024-07-12 17:48:14,127] p27460 {4184728912.py:11} INFO - getting inference for list 29/36, size of list=10\n",
      "[2024-07-12 17:48:16,242] p27460 {4184728912.py:11} INFO - getting inference for list 30/36, size of list=10\n",
      "[2024-07-12 17:48:19,554] p27460 {4184728912.py:11} INFO - getting inference for list 31/36, size of list=10\n",
      "[2024-07-12 17:48:21,810] p27460 {4184728912.py:11} INFO - getting inference for list 32/36, size of list=10\n",
      "[2024-07-12 17:48:23,972] p27460 {4184728912.py:11} INFO - getting inference for list 33/36, size of list=10\n",
      "[2024-07-12 17:48:26,386] p27460 {4184728912.py:11} INFO - getting inference for list 34/36, size of list=10\n",
      "[2024-07-12 17:48:28,806] p27460 {4184728912.py:11} INFO - getting inference for list 35/36, size of list=10\n",
      "[2024-07-12 17:48:30,925] p27460 {4184728912.py:11} INFO - getting inference for list 36/36, size of list=10\n",
      "[2024-07-12 17:48:33,383] p27460 {4184728912.py:8} INFO - ============Running inference for judge panelist meta.llama3-70b-instruct-v1:0 for max_voting ============\n",
      "[2024-07-12 17:48:33,384] p27460 {4184728912.py:11} INFO - getting inference for list 1/36, size of list=10\n",
      "[2024-07-12 17:48:37,734] p27460 {4184728912.py:11} INFO - getting inference for list 2/36, size of list=10\n",
      "[2024-07-12 17:48:41,980] p27460 {4184728912.py:11} INFO - getting inference for list 3/36, size of list=10\n",
      "[2024-07-12 17:48:46,469] p27460 {4184728912.py:11} INFO - getting inference for list 4/36, size of list=10\n",
      "[2024-07-12 17:48:50,915] p27460 {4184728912.py:11} INFO - getting inference for list 5/36, size of list=10\n",
      "[2024-07-12 17:48:55,133] p27460 {4184728912.py:11} INFO - getting inference for list 6/36, size of list=10\n",
      "[2024-07-12 17:48:59,559] p27460 {4184728912.py:11} INFO - getting inference for list 7/36, size of list=10\n",
      "[2024-07-12 17:49:04,109] p27460 {4184728912.py:11} INFO - getting inference for list 8/36, size of list=10\n",
      "[2024-07-12 17:49:07,861] p27460 {4184728912.py:11} INFO - getting inference for list 9/36, size of list=10\n",
      "[2024-07-12 17:49:12,908] p27460 {4184728912.py:11} INFO - getting inference for list 10/36, size of list=10\n",
      "[2024-07-12 17:49:17,898] p27460 {4184728912.py:11} INFO - getting inference for list 11/36, size of list=10\n",
      "[2024-07-12 17:49:21,840] p27460 {4184728912.py:11} INFO - getting inference for list 12/36, size of list=10\n",
      "[2024-07-12 17:49:26,968] p27460 {4184728912.py:11} INFO - getting inference for list 13/36, size of list=10\n",
      "[2024-07-12 17:49:30,990] p27460 {4184728912.py:11} INFO - getting inference for list 14/36, size of list=10\n",
      "[2024-07-12 17:49:34,750] p27460 {4184728912.py:11} INFO - getting inference for list 15/36, size of list=10\n",
      "[2024-07-12 17:49:39,478] p27460 {4184728912.py:11} INFO - getting inference for list 16/36, size of list=10\n",
      "[2024-07-12 17:49:44,546] p27460 {4184728912.py:11} INFO - getting inference for list 17/36, size of list=10\n",
      "[2024-07-12 17:49:48,957] p27460 {4184728912.py:11} INFO - getting inference for list 18/36, size of list=10\n",
      "[2024-07-12 17:49:55,907] p27460 {4184728912.py:11} INFO - getting inference for list 19/36, size of list=10\n",
      "[2024-07-12 17:49:59,930] p27460 {4184728912.py:11} INFO - getting inference for list 20/36, size of list=10\n",
      "[2024-07-12 17:50:05,403] p27460 {4184728912.py:11} INFO - getting inference for list 21/36, size of list=10\n",
      "[2024-07-12 17:50:09,325] p27460 {4184728912.py:11} INFO - getting inference for list 22/36, size of list=10\n",
      "[2024-07-12 17:50:13,448] p27460 {4184728912.py:11} INFO - getting inference for list 23/36, size of list=10\n",
      "[2024-07-12 17:50:17,227] p27460 {4184728912.py:11} INFO - getting inference for list 24/36, size of list=10\n",
      "[2024-07-12 17:50:21,755] p27460 {4184728912.py:11} INFO - getting inference for list 25/36, size of list=10\n",
      "[2024-07-12 17:50:25,725] p27460 {4184728912.py:11} INFO - getting inference for list 26/36, size of list=10\n",
      "[2024-07-12 17:50:30,770] p27460 {4184728912.py:11} INFO - getting inference for list 27/36, size of list=10\n",
      "[2024-07-12 17:50:38,455] p27460 {4184728912.py:11} INFO - getting inference for list 28/36, size of list=10\n",
      "[2024-07-12 17:50:42,626] p27460 {4184728912.py:11} INFO - getting inference for list 29/36, size of list=10\n",
      "[2024-07-12 17:50:46,747] p27460 {4184728912.py:11} INFO - getting inference for list 30/36, size of list=10\n",
      "[2024-07-12 17:50:53,369] p27460 {4184728912.py:11} INFO - getting inference for list 31/36, size of list=10\n",
      "[2024-07-12 17:50:57,848] p27460 {4184728912.py:11} INFO - getting inference for list 32/36, size of list=10\n",
      "[2024-07-12 17:51:01,790] p27460 {4184728912.py:11} INFO - getting inference for list 33/36, size of list=10\n",
      "[2024-07-12 17:51:07,333] p27460 {4184728912.py:11} INFO - getting inference for list 34/36, size of list=10\n",
      "[2024-07-12 17:51:12,205] p27460 {4184728912.py:11} INFO - getting inference for list 35/36, size of list=10\n",
      "[2024-07-12 17:51:16,307] p27460 {4184728912.py:11} INFO - getting inference for list 36/36, size of list=10\n",
      "[2024-07-12 17:51:20,974] p27460 {4184728912.py:8} INFO - ============Running inference for judge panelist cohere.command-r-v1:0 for max_voting ============\n",
      "[2024-07-12 17:51:20,975] p27460 {4184728912.py:11} INFO - getting inference for list 1/36, size of list=10\n",
      "[2024-07-12 17:51:23,553] p27460 {4184728912.py:11} INFO - getting inference for list 2/36, size of list=10\n",
      "[2024-07-12 17:51:25,895] p27460 {4184728912.py:11} INFO - getting inference for list 3/36, size of list=10\n",
      "[2024-07-12 17:51:28,465] p27460 {4184728912.py:11} INFO - getting inference for list 4/36, size of list=10\n",
      "[2024-07-12 17:51:30,767] p27460 {4184728912.py:11} INFO - getting inference for list 5/36, size of list=10\n",
      "[2024-07-12 17:51:32,762] p27460 {4184728912.py:11} INFO - getting inference for list 6/36, size of list=10\n",
      "[2024-07-12 17:51:35,036] p27460 {4184728912.py:11} INFO - getting inference for list 7/36, size of list=10\n",
      "[2024-07-12 17:51:37,413] p27460 {4184728912.py:11} INFO - getting inference for list 8/36, size of list=10\n",
      "[2024-07-12 17:51:39,374] p27460 {4184728912.py:11} INFO - getting inference for list 9/36, size of list=10\n",
      "[2024-07-12 17:51:41,965] p27460 {4184728912.py:11} INFO - getting inference for list 10/36, size of list=10\n",
      "[2024-07-12 17:51:44,324] p27460 {4184728912.py:11} INFO - getting inference for list 11/36, size of list=10\n",
      "[2024-07-12 17:51:46,324] p27460 {4184728912.py:11} INFO - getting inference for list 12/36, size of list=10\n",
      "[2024-07-12 17:51:48,575] p27460 {4184728912.py:11} INFO - getting inference for list 13/36, size of list=10\n",
      "[2024-07-12 17:51:50,859] p27460 {4184728912.py:11} INFO - getting inference for list 14/36, size of list=10\n",
      "[2024-07-12 17:51:52,812] p27460 {4184728912.py:11} INFO - getting inference for list 15/36, size of list=10\n",
      "[2024-07-12 17:51:54,996] p27460 {4184728912.py:11} INFO - getting inference for list 16/36, size of list=10\n",
      "[2024-07-12 17:51:57,472] p27460 {4184728912.py:11} INFO - getting inference for list 17/36, size of list=10\n",
      "[2024-07-12 17:51:59,329] p27460 {4184728912.py:11} INFO - getting inference for list 18/36, size of list=10\n",
      "[2024-07-12 17:52:01,496] p27460 {4184728912.py:11} INFO - getting inference for list 19/36, size of list=10\n",
      "[2024-07-12 17:52:03,742] p27460 {4184728912.py:11} INFO - getting inference for list 20/36, size of list=10\n",
      "[2024-07-12 17:52:05,686] p27460 {4184728912.py:11} INFO - getting inference for list 21/36, size of list=10\n",
      "[2024-07-12 17:52:07,921] p27460 {4184728912.py:11} INFO - getting inference for list 22/36, size of list=10\n",
      "[2024-07-12 17:52:10,213] p27460 {4184728912.py:11} INFO - getting inference for list 23/36, size of list=10\n",
      "[2024-07-12 17:52:12,134] p27460 {4184728912.py:11} INFO - getting inference for list 24/36, size of list=10\n",
      "[2024-07-12 17:52:14,716] p27460 {4184728912.py:11} INFO - getting inference for list 25/36, size of list=10\n",
      "[2024-07-12 17:52:16,915] p27460 {4184728912.py:11} INFO - getting inference for list 26/36, size of list=10\n",
      "[2024-07-12 17:52:18,885] p27460 {4184728912.py:11} INFO - getting inference for list 27/36, size of list=10\n",
      "[2024-07-12 17:52:21,269] p27460 {4184728912.py:11} INFO - getting inference for list 28/36, size of list=10\n",
      "[2024-07-12 17:52:23,961] p27460 {4184728912.py:11} INFO - getting inference for list 29/36, size of list=10\n",
      "[2024-07-12 17:52:25,953] p27460 {4184728912.py:11} INFO - getting inference for list 30/36, size of list=10\n",
      "[2024-07-12 17:52:28,535] p27460 {4184728912.py:11} INFO - getting inference for list 31/36, size of list=10\n",
      "[2024-07-12 17:52:30,752] p27460 {4184728912.py:11} INFO - getting inference for list 32/36, size of list=10\n",
      "[2024-07-12 17:52:32,692] p27460 {4184728912.py:11} INFO - getting inference for list 33/36, size of list=10\n",
      "[2024-07-12 17:52:35,264] p27460 {4184728912.py:11} INFO - getting inference for list 34/36, size of list=10\n",
      "[2024-07-12 17:52:37,609] p27460 {4184728912.py:11} INFO - getting inference for list 35/36, size of list=10\n",
      "[2024-07-12 17:52:39,544] p27460 {4184728912.py:11} INFO - getting inference for list 36/36, size of list=10\n",
      "[2024-07-12 17:52:42,049] p27460 {4184728912.py:18} INFO - Total elapsed time for inference: 339.04 seconds\n"
     ]
    }
   ],
   "source": [
    "n = model_eval_subjective_info.get('run_parallel_inference_count', 5)\n",
    "list_of_lists = [eval_records_list[i * n:(i + 1) * n] for i in range((len(eval_records_list) + n - 1) // n)]\n",
    "resp_list = []\n",
    "st = time.perf_counter()\n",
    "\n",
    "# Iterate over the judge panel and sublists\n",
    "for judge_panelist_info in judge_panel_list:\n",
    "    logger.info(f\"============Running inference for judge panelist {judge_panelist_info['model_id']} for {method_name} ============\")\n",
    "    for idx, sublist in enumerate(list_of_lists):\n",
    "        model_id = judge_panelist_info['model_id']\n",
    "        logger.info(f\"getting inference for list {idx + 1}/{len(list_of_lists)}, size of list={len(sublist)}\")\n",
    "\n",
    "        # Run inference in parallel\n",
    "        resp_list.extend(ray.get([async_run_eval.remote(i + 1, len(sublist), record, model_id, method_name, record['uuid'])\n",
    "                                  for i, record in enumerate(sublist)]))\n",
    "\n",
    "elapsed_time = time.perf_counter() - st\n",
    "logger.info(f\"Total elapsed time for inference: {elapsed_time:.2f} seconds\")"
   ]
  },
  {
   "cell_type": "markdown",
   "metadata": {},
   "source": [
    "### Perform downstream analytical tasks on each PoLL evaluation result\n",
    "---"
   ]
  },
  {
   "cell_type": "code",
   "execution_count": 130,
   "metadata": {},
   "outputs": [
    {
     "name": "stderr",
     "output_type": "stream",
     "text": [
      "[2024-07-12 17:52:42,057] p27460 {1134668164.py:3} INFO - df_eval_results shape=(1080, 10)\n"
     ]
    },
    {
     "data": {
      "text/html": [
       "<div>\n",
       "<style scoped>\n",
       "    .dataframe tbody tr th:only-of-type {\n",
       "        vertical-align: middle;\n",
       "    }\n",
       "\n",
       "    .dataframe tbody tr th {\n",
       "        vertical-align: top;\n",
       "    }\n",
       "\n",
       "    .dataframe thead th {\n",
       "        text-align: right;\n",
       "    }\n",
       "</style>\n",
       "<table border=\"1\" class=\"dataframe\">\n",
       "  <thead>\n",
       "    <tr style=\"text-align: right;\">\n",
       "      <th></th>\n",
       "      <th>exception</th>\n",
       "      <th>prompt</th>\n",
       "      <th>completion</th>\n",
       "      <th>completion_token_count</th>\n",
       "      <th>prompt_token_count</th>\n",
       "      <th>model_id</th>\n",
       "      <th>candidate_model_response</th>\n",
       "      <th>candidate_model</th>\n",
       "      <th>cosine_similarity_score</th>\n",
       "      <th>ground_truth</th>\n",
       "    </tr>\n",
       "  </thead>\n",
       "  <tbody>\n",
       "    <tr>\n",
       "      <th>0</th>\n",
       "      <td>None</td>\n",
       "      <td>Human: You are a judge who evaluates the corre...</td>\n",
       "      <td>{\\n  \"verdict\": \"correct\",\\n  \"explanation\": \"...</td>\n",
       "      <td>63</td>\n",
       "      <td>856</td>\n",
       "      <td>anthropic.claude-3-haiku-20240307-v1:0</td>\n",
       "      <td>The genera Sinofranchetia and Stauntonia belon...</td>\n",
       "      <td>mistral.mistral-7b-instruct-v0:2</td>\n",
       "      <td>0.710724</td>\n",
       "      <td>a genus of flowering plant in the Lardizabalac...</td>\n",
       "    </tr>\n",
       "    <tr>\n",
       "      <th>1</th>\n",
       "      <td>None</td>\n",
       "      <td>Human: You are a judge who evaluates the corre...</td>\n",
       "      <td>{\\n  \"verdict\": \"correct\",\\n  \"explanation\": \"...</td>\n",
       "      <td>63</td>\n",
       "      <td>856</td>\n",
       "      <td>anthropic.claude-3-haiku-20240307-v1:0</td>\n",
       "      <td>The genera Sinofranchetia and Stauntonia belon...</td>\n",
       "      <td>mistral.mistral-7b-instruct-v0:2</td>\n",
       "      <td>0.710724</td>\n",
       "      <td>a genus of flowering plant in the Lardizabalac...</td>\n",
       "    </tr>\n",
       "    <tr>\n",
       "      <th>2</th>\n",
       "      <td>None</td>\n",
       "      <td>Human: You are a judge who evaluates the corre...</td>\n",
       "      <td>{\\n    \"verdict\": \"correct\",\\n    \"explanation...</td>\n",
       "      <td>63</td>\n",
       "      <td>856</td>\n",
       "      <td>anthropic.claude-3-haiku-20240307-v1:0</td>\n",
       "      <td>The genera Sinofranchetia and Stauntonia belon...</td>\n",
       "      <td>mistral.mistral-7b-instruct-v0:2</td>\n",
       "      <td>0.710724</td>\n",
       "      <td>a genus of flowering plant in the Lardizabalac...</td>\n",
       "    </tr>\n",
       "    <tr>\n",
       "      <th>3</th>\n",
       "      <td>None</td>\n",
       "      <td>Human: You are a judge who evaluates the corre...</td>\n",
       "      <td>{\\n  \"verdict\": \"correct\",\\n  \"explanation\": \"...</td>\n",
       "      <td>63</td>\n",
       "      <td>856</td>\n",
       "      <td>anthropic.claude-3-haiku-20240307-v1:0</td>\n",
       "      <td>The genera Sinofranchetia and Stauntonia belon...</td>\n",
       "      <td>mistral.mistral-7b-instruct-v0:2</td>\n",
       "      <td>0.710724</td>\n",
       "      <td>a genus of flowering plant in the Lardizabalac...</td>\n",
       "    </tr>\n",
       "    <tr>\n",
       "      <th>4</th>\n",
       "      <td>None</td>\n",
       "      <td>Human: You are a judge who evaluates the corre...</td>\n",
       "      <td>{\\n  \"verdict\": \"correct\",\\n  \"explanation\": \"...</td>\n",
       "      <td>63</td>\n",
       "      <td>856</td>\n",
       "      <td>anthropic.claude-3-haiku-20240307-v1:0</td>\n",
       "      <td>The genera Sinofranchetia and Stauntonia belon...</td>\n",
       "      <td>mistral.mistral-7b-instruct-v0:2</td>\n",
       "      <td>0.710724</td>\n",
       "      <td>a genus of flowering plant in the Lardizabalac...</td>\n",
       "    </tr>\n",
       "  </tbody>\n",
       "</table>\n",
       "</div>"
      ],
      "text/plain": [
       "  exception                                             prompt  \\\n",
       "0      None  Human: You are a judge who evaluates the corre...   \n",
       "1      None  Human: You are a judge who evaluates the corre...   \n",
       "2      None  Human: You are a judge who evaluates the corre...   \n",
       "3      None  Human: You are a judge who evaluates the corre...   \n",
       "4      None  Human: You are a judge who evaluates the corre...   \n",
       "\n",
       "                                          completion  completion_token_count  \\\n",
       "0  {\\n  \"verdict\": \"correct\",\\n  \"explanation\": \"...                      63   \n",
       "1  {\\n  \"verdict\": \"correct\",\\n  \"explanation\": \"...                      63   \n",
       "2  {\\n    \"verdict\": \"correct\",\\n    \"explanation...                      63   \n",
       "3  {\\n  \"verdict\": \"correct\",\\n  \"explanation\": \"...                      63   \n",
       "4  {\\n  \"verdict\": \"correct\",\\n  \"explanation\": \"...                      63   \n",
       "\n",
       "   prompt_token_count                                model_id  \\\n",
       "0                 856  anthropic.claude-3-haiku-20240307-v1:0   \n",
       "1                 856  anthropic.claude-3-haiku-20240307-v1:0   \n",
       "2                 856  anthropic.claude-3-haiku-20240307-v1:0   \n",
       "3                 856  anthropic.claude-3-haiku-20240307-v1:0   \n",
       "4                 856  anthropic.claude-3-haiku-20240307-v1:0   \n",
       "\n",
       "                            candidate_model_response  \\\n",
       "0  The genera Sinofranchetia and Stauntonia belon...   \n",
       "1  The genera Sinofranchetia and Stauntonia belon...   \n",
       "2  The genera Sinofranchetia and Stauntonia belon...   \n",
       "3  The genera Sinofranchetia and Stauntonia belon...   \n",
       "4  The genera Sinofranchetia and Stauntonia belon...   \n",
       "\n",
       "                    candidate_model  cosine_similarity_score  \\\n",
       "0  mistral.mistral-7b-instruct-v0:2                 0.710724   \n",
       "1  mistral.mistral-7b-instruct-v0:2                 0.710724   \n",
       "2  mistral.mistral-7b-instruct-v0:2                 0.710724   \n",
       "3  mistral.mistral-7b-instruct-v0:2                 0.710724   \n",
       "4  mistral.mistral-7b-instruct-v0:2                 0.710724   \n",
       "\n",
       "                                        ground_truth  \n",
       "0  a genus of flowering plant in the Lardizabalac...  \n",
       "1  a genus of flowering plant in the Lardizabalac...  \n",
       "2  a genus of flowering plant in the Lardizabalac...  \n",
       "3  a genus of flowering plant in the Lardizabalac...  \n",
       "4  a genus of flowering plant in the Lardizabalac...  "
      ]
     },
     "execution_count": 130,
     "metadata": {},
     "output_type": "execute_result"
    }
   ],
   "source": [
    "# convert the results list into a dataframe for easy analytics\n",
    "df_eval_results = pd.DataFrame(resp_list)\n",
    "logger.info(f\"df_eval_results shape={df_eval_results.shape}\")\n",
    "df_eval_results.head()"
   ]
  },
  {
   "cell_type": "code",
   "execution_count": 131,
   "metadata": {
    "tags": []
   },
   "outputs": [
    {
     "name": "stderr",
     "output_type": "stream",
     "text": [
      "[2024-07-12 17:52:42,185] p27460 {4249199706.py:6} INFO - df_eval_results shape=(1080, 12)\n"
     ]
    },
    {
     "name": "stdout",
     "output_type": "stream",
     "text": [
      "parse_as_json, error parsing string as json, string={  \"verdict\": \"correct\",  \"explanation\": \"The answer provided correctly identifies that both WAGS Atlanta and WAGS are American reality television series that chronicle the lives of \"WAGs\" (wives and girlfriends of high-profile athletes). The ground truth also confirms that they are both American reality television series, so the answer matches the ground truth.\"}\n",
      "parse_as_json, error parsing string as json, string={  \"verdict\": \"correct\",  \"explanation\": \"The answer provided correctly identifies that both WAGS Atlanta and WAGS are American reality television series that chronicle the lives of \"WAGs\" (wives and girlfriends of high-profile athletes). The ground truth also confirms that they are both American reality television series, so the answer matches the ground truth.\"}\n",
      "parse_as_json, error parsing string as json, string={  \"verdict\": \"correct\",  \"explanation\": \"The answer provided correctly identifies that both WAGS Atlanta and WAGS are American reality television series that chronicle the lives of \"WAGs\" (wives and girlfriends of high-profile athletes). The ground truth also confirms that they are both American reality television series, so the answer matches the ground truth.\"}\n",
      "parse_as_json, error parsing string as json, string={  \"verdict\": \"correct\",  \"explanation\": \"The answer provided, \"reality television shows\", is correct compared to the ground truth answer of \"American reality television series\". Both WAGS Atlanta and WAGS are American reality television shows that chronicle the lives of wives and girlfriends (WAGs) of high-profile athletes.\"}\n"
     ]
    },
    {
     "data": {
      "text/html": [
       "<div>\n",
       "<style scoped>\n",
       "    .dataframe tbody tr th:only-of-type {\n",
       "        vertical-align: middle;\n",
       "    }\n",
       "\n",
       "    .dataframe tbody tr th {\n",
       "        vertical-align: top;\n",
       "    }\n",
       "\n",
       "    .dataframe thead th {\n",
       "        text-align: right;\n",
       "    }\n",
       "</style>\n",
       "<table border=\"1\" class=\"dataframe\">\n",
       "  <thead>\n",
       "    <tr style=\"text-align: right;\">\n",
       "      <th></th>\n",
       "      <th>exception</th>\n",
       "      <th>prompt</th>\n",
       "      <th>completion</th>\n",
       "      <th>completion_token_count</th>\n",
       "      <th>prompt_token_count</th>\n",
       "      <th>judge_model_id</th>\n",
       "      <th>candidate_model_response</th>\n",
       "      <th>candidate_model</th>\n",
       "      <th>cosine_similarity_score</th>\n",
       "      <th>ground_truth</th>\n",
       "      <th>verdict</th>\n",
       "      <th>explanation</th>\n",
       "    </tr>\n",
       "  </thead>\n",
       "  <tbody>\n",
       "    <tr>\n",
       "      <th>0</th>\n",
       "      <td>None</td>\n",
       "      <td>Human: You are a judge who evaluates the corre...</td>\n",
       "      <td>{\\n  \"verdict\": \"correct\",\\n  \"explanation\": \"...</td>\n",
       "      <td>63</td>\n",
       "      <td>856</td>\n",
       "      <td>anthropic.claude-3-haiku-20240307-v1:0</td>\n",
       "      <td>The genera Sinofranchetia and Stauntonia belon...</td>\n",
       "      <td>mistral.mistral-7b-instruct-v0:2</td>\n",
       "      <td>0.710724</td>\n",
       "      <td>a genus of flowering plant in the Lardizabalac...</td>\n",
       "      <td>correct</td>\n",
       "      <td>The answer provided correctly states that the ...</td>\n",
       "    </tr>\n",
       "    <tr>\n",
       "      <th>1</th>\n",
       "      <td>None</td>\n",
       "      <td>Human: You are a judge who evaluates the corre...</td>\n",
       "      <td>{\\n  \"verdict\": \"correct\",\\n  \"explanation\": \"...</td>\n",
       "      <td>63</td>\n",
       "      <td>856</td>\n",
       "      <td>anthropic.claude-3-haiku-20240307-v1:0</td>\n",
       "      <td>The genera Sinofranchetia and Stauntonia belon...</td>\n",
       "      <td>mistral.mistral-7b-instruct-v0:2</td>\n",
       "      <td>0.710724</td>\n",
       "      <td>a genus of flowering plant in the Lardizabalac...</td>\n",
       "      <td>correct</td>\n",
       "      <td>The answer provided correctly states that the ...</td>\n",
       "    </tr>\n",
       "    <tr>\n",
       "      <th>2</th>\n",
       "      <td>None</td>\n",
       "      <td>Human: You are a judge who evaluates the corre...</td>\n",
       "      <td>{\\n    \"verdict\": \"correct\",\\n    \"explanation...</td>\n",
       "      <td>63</td>\n",
       "      <td>856</td>\n",
       "      <td>anthropic.claude-3-haiku-20240307-v1:0</td>\n",
       "      <td>The genera Sinofranchetia and Stauntonia belon...</td>\n",
       "      <td>mistral.mistral-7b-instruct-v0:2</td>\n",
       "      <td>0.710724</td>\n",
       "      <td>a genus of flowering plant in the Lardizabalac...</td>\n",
       "      <td>correct</td>\n",
       "      <td>The answer provided correctly states that the ...</td>\n",
       "    </tr>\n",
       "    <tr>\n",
       "      <th>3</th>\n",
       "      <td>None</td>\n",
       "      <td>Human: You are a judge who evaluates the corre...</td>\n",
       "      <td>{\\n  \"verdict\": \"correct\",\\n  \"explanation\": \"...</td>\n",
       "      <td>63</td>\n",
       "      <td>856</td>\n",
       "      <td>anthropic.claude-3-haiku-20240307-v1:0</td>\n",
       "      <td>The genera Sinofranchetia and Stauntonia belon...</td>\n",
       "      <td>mistral.mistral-7b-instruct-v0:2</td>\n",
       "      <td>0.710724</td>\n",
       "      <td>a genus of flowering plant in the Lardizabalac...</td>\n",
       "      <td>correct</td>\n",
       "      <td>The answer provided correctly states that the ...</td>\n",
       "    </tr>\n",
       "    <tr>\n",
       "      <th>4</th>\n",
       "      <td>None</td>\n",
       "      <td>Human: You are a judge who evaluates the corre...</td>\n",
       "      <td>{\\n  \"verdict\": \"correct\",\\n  \"explanation\": \"...</td>\n",
       "      <td>63</td>\n",
       "      <td>856</td>\n",
       "      <td>anthropic.claude-3-haiku-20240307-v1:0</td>\n",
       "      <td>The genera Sinofranchetia and Stauntonia belon...</td>\n",
       "      <td>mistral.mistral-7b-instruct-v0:2</td>\n",
       "      <td>0.710724</td>\n",
       "      <td>a genus of flowering plant in the Lardizabalac...</td>\n",
       "      <td>correct</td>\n",
       "      <td>The answer provided correctly states that the ...</td>\n",
       "    </tr>\n",
       "  </tbody>\n",
       "</table>\n",
       "</div>"
      ],
      "text/plain": [
       "  exception                                             prompt  \\\n",
       "0      None  Human: You are a judge who evaluates the corre...   \n",
       "1      None  Human: You are a judge who evaluates the corre...   \n",
       "2      None  Human: You are a judge who evaluates the corre...   \n",
       "3      None  Human: You are a judge who evaluates the corre...   \n",
       "4      None  Human: You are a judge who evaluates the corre...   \n",
       "\n",
       "                                          completion  completion_token_count  \\\n",
       "0  {\\n  \"verdict\": \"correct\",\\n  \"explanation\": \"...                      63   \n",
       "1  {\\n  \"verdict\": \"correct\",\\n  \"explanation\": \"...                      63   \n",
       "2  {\\n    \"verdict\": \"correct\",\\n    \"explanation...                      63   \n",
       "3  {\\n  \"verdict\": \"correct\",\\n  \"explanation\": \"...                      63   \n",
       "4  {\\n  \"verdict\": \"correct\",\\n  \"explanation\": \"...                      63   \n",
       "\n",
       "   prompt_token_count                          judge_model_id  \\\n",
       "0                 856  anthropic.claude-3-haiku-20240307-v1:0   \n",
       "1                 856  anthropic.claude-3-haiku-20240307-v1:0   \n",
       "2                 856  anthropic.claude-3-haiku-20240307-v1:0   \n",
       "3                 856  anthropic.claude-3-haiku-20240307-v1:0   \n",
       "4                 856  anthropic.claude-3-haiku-20240307-v1:0   \n",
       "\n",
       "                            candidate_model_response  \\\n",
       "0  The genera Sinofranchetia and Stauntonia belon...   \n",
       "1  The genera Sinofranchetia and Stauntonia belon...   \n",
       "2  The genera Sinofranchetia and Stauntonia belon...   \n",
       "3  The genera Sinofranchetia and Stauntonia belon...   \n",
       "4  The genera Sinofranchetia and Stauntonia belon...   \n",
       "\n",
       "                    candidate_model  cosine_similarity_score  \\\n",
       "0  mistral.mistral-7b-instruct-v0:2                 0.710724   \n",
       "1  mistral.mistral-7b-instruct-v0:2                 0.710724   \n",
       "2  mistral.mistral-7b-instruct-v0:2                 0.710724   \n",
       "3  mistral.mistral-7b-instruct-v0:2                 0.710724   \n",
       "4  mistral.mistral-7b-instruct-v0:2                 0.710724   \n",
       "\n",
       "                                        ground_truth  verdict  \\\n",
       "0  a genus of flowering plant in the Lardizabalac...  correct   \n",
       "1  a genus of flowering plant in the Lardizabalac...  correct   \n",
       "2  a genus of flowering plant in the Lardizabalac...  correct   \n",
       "3  a genus of flowering plant in the Lardizabalac...  correct   \n",
       "4  a genus of flowering plant in the Lardizabalac...  correct   \n",
       "\n",
       "                                         explanation  \n",
       "0  The answer provided correctly states that the ...  \n",
       "1  The answer provided correctly states that the ...  \n",
       "2  The answer provided correctly states that the ...  \n",
       "3  The answer provided correctly states that the ...  \n",
       "4  The answer provided correctly states that the ...  "
      ]
     },
     "execution_count": 131,
     "metadata": {},
     "output_type": "execute_result"
    }
   ],
   "source": [
    "# parse out the completion from LLM as a judge and column bind\n",
    "# the fields of the dictionary to the original results dataframe\n",
    "df_eval_results_only = df_eval_results['completion'].apply(parse_as_json).apply(pd.Series)\n",
    "df_eval_results = pd.concat([df_eval_results, df_eval_results_only], axis=1)\n",
    "df_eval_results.rename(columns={'model_id': 'judge_model_id'}, inplace=True)\n",
    "logger.info(f\"df_eval_results shape={df_eval_results.shape}\")\n",
    "df_eval_results.head()"
   ]
  },
  {
   "cell_type": "code",
   "execution_count": 132,
   "metadata": {
    "tags": []
   },
   "outputs": [
    {
     "name": "stderr",
     "output_type": "stream",
     "text": [
      "[2024-07-12 17:52:42,394] p27460 {3367761925.py:10} INFO - Per PoLL model responses saved as a csv to s3://sagemaker-fmbench-write-us-west-2-387192758086/fmbench-bedrock-fmbench-stack-us-west-2-role/data/metrics/yyyy=2024/mm=07/dd=12/hh=16/mm=35/raw_llm_as_a_judge_evals.csv\n"
     ]
    },
    {
     "data": {
      "text/html": [
       "<div>\n",
       "<style scoped>\n",
       "    .dataframe tbody tr th:only-of-type {\n",
       "        vertical-align: middle;\n",
       "    }\n",
       "\n",
       "    .dataframe tbody tr th {\n",
       "        vertical-align: top;\n",
       "    }\n",
       "\n",
       "    .dataframe thead th {\n",
       "        text-align: right;\n",
       "    }\n",
       "</style>\n",
       "<table border=\"1\" class=\"dataframe\">\n",
       "  <thead>\n",
       "    <tr style=\"text-align: right;\">\n",
       "      <th></th>\n",
       "      <th>exception</th>\n",
       "      <th>prompt</th>\n",
       "      <th>completion</th>\n",
       "      <th>completion_token_count</th>\n",
       "      <th>prompt_token_count</th>\n",
       "      <th>judge_model_id</th>\n",
       "      <th>candidate_model_response</th>\n",
       "      <th>candidate_model</th>\n",
       "      <th>cosine_similarity_score</th>\n",
       "      <th>ground_truth</th>\n",
       "      <th>verdict</th>\n",
       "      <th>explanation</th>\n",
       "    </tr>\n",
       "  </thead>\n",
       "  <tbody>\n",
       "    <tr>\n",
       "      <th>0</th>\n",
       "      <td>None</td>\n",
       "      <td>Human: You are a judge who evaluates the corre...</td>\n",
       "      <td>{\\n  \"verdict\": \"correct\",\\n  \"explanation\": \"...</td>\n",
       "      <td>63</td>\n",
       "      <td>856</td>\n",
       "      <td>anthropic.claude-3-haiku-20240307-v1:0</td>\n",
       "      <td>The genera Sinofranchetia and Stauntonia belon...</td>\n",
       "      <td>mistral.mistral-7b-instruct-v0:2</td>\n",
       "      <td>0.710724</td>\n",
       "      <td>a genus of flowering plant in the Lardizabalac...</td>\n",
       "      <td>correct</td>\n",
       "      <td>The answer provided correctly states that the ...</td>\n",
       "    </tr>\n",
       "    <tr>\n",
       "      <th>1</th>\n",
       "      <td>None</td>\n",
       "      <td>Human: You are a judge who evaluates the corre...</td>\n",
       "      <td>{\\n  \"verdict\": \"correct\",\\n  \"explanation\": \"...</td>\n",
       "      <td>63</td>\n",
       "      <td>856</td>\n",
       "      <td>anthropic.claude-3-haiku-20240307-v1:0</td>\n",
       "      <td>The genera Sinofranchetia and Stauntonia belon...</td>\n",
       "      <td>mistral.mistral-7b-instruct-v0:2</td>\n",
       "      <td>0.710724</td>\n",
       "      <td>a genus of flowering plant in the Lardizabalac...</td>\n",
       "      <td>correct</td>\n",
       "      <td>The answer provided correctly states that the ...</td>\n",
       "    </tr>\n",
       "    <tr>\n",
       "      <th>2</th>\n",
       "      <td>None</td>\n",
       "      <td>Human: You are a judge who evaluates the corre...</td>\n",
       "      <td>{\\n    \"verdict\": \"correct\",\\n    \"explanation...</td>\n",
       "      <td>63</td>\n",
       "      <td>856</td>\n",
       "      <td>anthropic.claude-3-haiku-20240307-v1:0</td>\n",
       "      <td>The genera Sinofranchetia and Stauntonia belon...</td>\n",
       "      <td>mistral.mistral-7b-instruct-v0:2</td>\n",
       "      <td>0.710724</td>\n",
       "      <td>a genus of flowering plant in the Lardizabalac...</td>\n",
       "      <td>correct</td>\n",
       "      <td>The answer provided correctly states that the ...</td>\n",
       "    </tr>\n",
       "    <tr>\n",
       "      <th>3</th>\n",
       "      <td>None</td>\n",
       "      <td>Human: You are a judge who evaluates the corre...</td>\n",
       "      <td>{\\n  \"verdict\": \"correct\",\\n  \"explanation\": \"...</td>\n",
       "      <td>63</td>\n",
       "      <td>856</td>\n",
       "      <td>anthropic.claude-3-haiku-20240307-v1:0</td>\n",
       "      <td>The genera Sinofranchetia and Stauntonia belon...</td>\n",
       "      <td>mistral.mistral-7b-instruct-v0:2</td>\n",
       "      <td>0.710724</td>\n",
       "      <td>a genus of flowering plant in the Lardizabalac...</td>\n",
       "      <td>correct</td>\n",
       "      <td>The answer provided correctly states that the ...</td>\n",
       "    </tr>\n",
       "    <tr>\n",
       "      <th>4</th>\n",
       "      <td>None</td>\n",
       "      <td>Human: You are a judge who evaluates the corre...</td>\n",
       "      <td>{\\n  \"verdict\": \"correct\",\\n  \"explanation\": \"...</td>\n",
       "      <td>63</td>\n",
       "      <td>856</td>\n",
       "      <td>anthropic.claude-3-haiku-20240307-v1:0</td>\n",
       "      <td>The genera Sinofranchetia and Stauntonia belon...</td>\n",
       "      <td>mistral.mistral-7b-instruct-v0:2</td>\n",
       "      <td>0.710724</td>\n",
       "      <td>a genus of flowering plant in the Lardizabalac...</td>\n",
       "      <td>correct</td>\n",
       "      <td>The answer provided correctly states that the ...</td>\n",
       "    </tr>\n",
       "  </tbody>\n",
       "</table>\n",
       "</div>"
      ],
      "text/plain": [
       "  exception                                             prompt  \\\n",
       "0      None  Human: You are a judge who evaluates the corre...   \n",
       "1      None  Human: You are a judge who evaluates the corre...   \n",
       "2      None  Human: You are a judge who evaluates the corre...   \n",
       "3      None  Human: You are a judge who evaluates the corre...   \n",
       "4      None  Human: You are a judge who evaluates the corre...   \n",
       "\n",
       "                                          completion  completion_token_count  \\\n",
       "0  {\\n  \"verdict\": \"correct\",\\n  \"explanation\": \"...                      63   \n",
       "1  {\\n  \"verdict\": \"correct\",\\n  \"explanation\": \"...                      63   \n",
       "2  {\\n    \"verdict\": \"correct\",\\n    \"explanation...                      63   \n",
       "3  {\\n  \"verdict\": \"correct\",\\n  \"explanation\": \"...                      63   \n",
       "4  {\\n  \"verdict\": \"correct\",\\n  \"explanation\": \"...                      63   \n",
       "\n",
       "   prompt_token_count                          judge_model_id  \\\n",
       "0                 856  anthropic.claude-3-haiku-20240307-v1:0   \n",
       "1                 856  anthropic.claude-3-haiku-20240307-v1:0   \n",
       "2                 856  anthropic.claude-3-haiku-20240307-v1:0   \n",
       "3                 856  anthropic.claude-3-haiku-20240307-v1:0   \n",
       "4                 856  anthropic.claude-3-haiku-20240307-v1:0   \n",
       "\n",
       "                            candidate_model_response  \\\n",
       "0  The genera Sinofranchetia and Stauntonia belon...   \n",
       "1  The genera Sinofranchetia and Stauntonia belon...   \n",
       "2  The genera Sinofranchetia and Stauntonia belon...   \n",
       "3  The genera Sinofranchetia and Stauntonia belon...   \n",
       "4  The genera Sinofranchetia and Stauntonia belon...   \n",
       "\n",
       "                    candidate_model  cosine_similarity_score  \\\n",
       "0  mistral.mistral-7b-instruct-v0:2                 0.710724   \n",
       "1  mistral.mistral-7b-instruct-v0:2                 0.710724   \n",
       "2  mistral.mistral-7b-instruct-v0:2                 0.710724   \n",
       "3  mistral.mistral-7b-instruct-v0:2                 0.710724   \n",
       "4  mistral.mistral-7b-instruct-v0:2                 0.710724   \n",
       "\n",
       "                                        ground_truth  verdict  \\\n",
       "0  a genus of flowering plant in the Lardizabalac...  correct   \n",
       "1  a genus of flowering plant in the Lardizabalac...  correct   \n",
       "2  a genus of flowering plant in the Lardizabalac...  correct   \n",
       "3  a genus of flowering plant in the Lardizabalac...  correct   \n",
       "4  a genus of flowering plant in the Lardizabalac...  correct   \n",
       "\n",
       "                                         explanation  \n",
       "0  The answer provided correctly states that the ...  \n",
       "1  The answer provided correctly states that the ...  \n",
       "2  The answer provided correctly states that the ...  \n",
       "3  The answer provided correctly states that the ...  \n",
       "4  The answer provided correctly states that the ...  "
      ]
     },
     "execution_count": 132,
     "metadata": {},
     "output_type": "execute_result"
    }
   ],
   "source": [
    "# send the raw results as a csv file to the S3 bucket\n",
    "csv_buffer = io.StringIO()\n",
    "df_eval_results.to_csv(csv_buffer, index=False)\n",
    "eval_llm_as_a_judge_results = csv_buffer.getvalue()\n",
    "eval_results_csv_fpath = os.path.join(METRICS_DIR, MODEL_EVAL_COMPLETIONS_CSV)  # Define full S3 path\n",
    "\n",
    "# Write the CSV data to S3\n",
    "write_to_s3(eval_llm_as_a_judge_results, BUCKET_NAME, \"\", \n",
    "            METRICS_DIR, MODEL_EVAL_COMPLETIONS_CSV)\n",
    "logger.info(f\"Per PoLL model responses saved as a csv to s3://{BUCKET_NAME}/{eval_results_csv_fpath}\")\n",
    "df_eval_results.head()"
   ]
  },
  {
   "cell_type": "code",
   "execution_count": 133,
   "metadata": {
    "tags": []
   },
   "outputs": [],
   "source": [
    "panel_summary_responses_df = df_eval_results.groupby(['judge_model_id', 'candidate_model', 'verdict']).size().unstack(fill_value=0)\n",
    "panel_summary_responses_df.reset_index(inplace=True)"
   ]
  },
  {
   "cell_type": "code",
   "execution_count": 134,
   "metadata": {},
   "outputs": [
    {
     "name": "stderr",
     "output_type": "stream",
     "text": [
      "[2024-07-12 17:52:42,462] p27460 {1355189319.py:10} INFO - Summary on each eval (max voting/average pooling) for each panel judge sent to s3://sagemaker-fmbench-write-us-west-2-387192758086/fmbench-bedrock-fmbench-stack-us-west-2-role/data/metrics/yyyy=2024/mm=07/dd=12/hh=16/mm=35/llm_as_a_judge_per_eval_summary.csv\n"
     ]
    },
    {
     "data": {
      "text/html": [
       "<div>\n",
       "<style scoped>\n",
       "    .dataframe tbody tr th:only-of-type {\n",
       "        vertical-align: middle;\n",
       "    }\n",
       "\n",
       "    .dataframe tbody tr th {\n",
       "        vertical-align: top;\n",
       "    }\n",
       "\n",
       "    .dataframe thead th {\n",
       "        text-align: right;\n",
       "    }\n",
       "</style>\n",
       "<table border=\"1\" class=\"dataframe\">\n",
       "  <thead>\n",
       "    <tr style=\"text-align: right;\">\n",
       "      <th>verdict</th>\n",
       "      <th>judge_model_id</th>\n",
       "      <th>candidate_model</th>\n",
       "      <th>correct</th>\n",
       "      <th>incorrect</th>\n",
       "    </tr>\n",
       "  </thead>\n",
       "  <tbody>\n",
       "    <tr>\n",
       "      <th>0</th>\n",
       "      <td>anthropic.claude-3-haiku-20240307-v1:0</td>\n",
       "      <td>ai21.j2-mid-v1</td>\n",
       "      <td>30</td>\n",
       "      <td>0</td>\n",
       "    </tr>\n",
       "    <tr>\n",
       "      <th>1</th>\n",
       "      <td>anthropic.claude-3-haiku-20240307-v1:0</td>\n",
       "      <td>ai21.j2-ultra-v1</td>\n",
       "      <td>30</td>\n",
       "      <td>0</td>\n",
       "    </tr>\n",
       "    <tr>\n",
       "      <th>2</th>\n",
       "      <td>anthropic.claude-3-haiku-20240307-v1:0</td>\n",
       "      <td>amazon.titan-text-express-v1</td>\n",
       "      <td>30</td>\n",
       "      <td>0</td>\n",
       "    </tr>\n",
       "    <tr>\n",
       "      <th>3</th>\n",
       "      <td>anthropic.claude-3-haiku-20240307-v1:0</td>\n",
       "      <td>amazon.titan-text-lite-v1</td>\n",
       "      <td>27</td>\n",
       "      <td>3</td>\n",
       "    </tr>\n",
       "    <tr>\n",
       "      <th>4</th>\n",
       "      <td>anthropic.claude-3-haiku-20240307-v1:0</td>\n",
       "      <td>anthropic.claude-3-haiku-20240307-v1:0</td>\n",
       "      <td>27</td>\n",
       "      <td>0</td>\n",
       "    </tr>\n",
       "    <tr>\n",
       "      <th>5</th>\n",
       "      <td>anthropic.claude-3-haiku-20240307-v1:0</td>\n",
       "      <td>anthropic.claude-3-sonnet-20240229-v1:0</td>\n",
       "      <td>30</td>\n",
       "      <td>0</td>\n",
       "    </tr>\n",
       "    <tr>\n",
       "      <th>6</th>\n",
       "      <td>anthropic.claude-3-haiku-20240307-v1:0</td>\n",
       "      <td>cohere.command-light-text-v14</td>\n",
       "      <td>23</td>\n",
       "      <td>6</td>\n",
       "    </tr>\n",
       "    <tr>\n",
       "      <th>7</th>\n",
       "      <td>anthropic.claude-3-haiku-20240307-v1:0</td>\n",
       "      <td>cohere.command-text-v14</td>\n",
       "      <td>27</td>\n",
       "      <td>3</td>\n",
       "    </tr>\n",
       "    <tr>\n",
       "      <th>8</th>\n",
       "      <td>anthropic.claude-3-haiku-20240307-v1:0</td>\n",
       "      <td>meta.llama2-13b-chat-v1</td>\n",
       "      <td>27</td>\n",
       "      <td>3</td>\n",
       "    </tr>\n",
       "    <tr>\n",
       "      <th>9</th>\n",
       "      <td>anthropic.claude-3-haiku-20240307-v1:0</td>\n",
       "      <td>meta.llama2-70b-chat-v1</td>\n",
       "      <td>30</td>\n",
       "      <td>0</td>\n",
       "    </tr>\n",
       "    <tr>\n",
       "      <th>10</th>\n",
       "      <td>anthropic.claude-3-haiku-20240307-v1:0</td>\n",
       "      <td>mistral.mistral-7b-instruct-v0:2</td>\n",
       "      <td>30</td>\n",
       "      <td>0</td>\n",
       "    </tr>\n",
       "    <tr>\n",
       "      <th>11</th>\n",
       "      <td>anthropic.claude-3-haiku-20240307-v1:0</td>\n",
       "      <td>mistral.mixtral-8x7b-instruct-v0:1</td>\n",
       "      <td>27</td>\n",
       "      <td>3</td>\n",
       "    </tr>\n",
       "    <tr>\n",
       "      <th>12</th>\n",
       "      <td>cohere.command-r-v1:0</td>\n",
       "      <td>ai21.j2-mid-v1</td>\n",
       "      <td>30</td>\n",
       "      <td>0</td>\n",
       "    </tr>\n",
       "    <tr>\n",
       "      <th>13</th>\n",
       "      <td>cohere.command-r-v1:0</td>\n",
       "      <td>ai21.j2-ultra-v1</td>\n",
       "      <td>27</td>\n",
       "      <td>3</td>\n",
       "    </tr>\n",
       "    <tr>\n",
       "      <th>14</th>\n",
       "      <td>cohere.command-r-v1:0</td>\n",
       "      <td>amazon.titan-text-express-v1</td>\n",
       "      <td>27</td>\n",
       "      <td>3</td>\n",
       "    </tr>\n",
       "    <tr>\n",
       "      <th>15</th>\n",
       "      <td>cohere.command-r-v1:0</td>\n",
       "      <td>amazon.titan-text-lite-v1</td>\n",
       "      <td>26</td>\n",
       "      <td>4</td>\n",
       "    </tr>\n",
       "    <tr>\n",
       "      <th>16</th>\n",
       "      <td>cohere.command-r-v1:0</td>\n",
       "      <td>anthropic.claude-3-haiku-20240307-v1:0</td>\n",
       "      <td>30</td>\n",
       "      <td>0</td>\n",
       "    </tr>\n",
       "    <tr>\n",
       "      <th>17</th>\n",
       "      <td>cohere.command-r-v1:0</td>\n",
       "      <td>anthropic.claude-3-sonnet-20240229-v1:0</td>\n",
       "      <td>30</td>\n",
       "      <td>0</td>\n",
       "    </tr>\n",
       "    <tr>\n",
       "      <th>18</th>\n",
       "      <td>cohere.command-r-v1:0</td>\n",
       "      <td>cohere.command-light-text-v14</td>\n",
       "      <td>27</td>\n",
       "      <td>3</td>\n",
       "    </tr>\n",
       "    <tr>\n",
       "      <th>19</th>\n",
       "      <td>cohere.command-r-v1:0</td>\n",
       "      <td>cohere.command-text-v14</td>\n",
       "      <td>27</td>\n",
       "      <td>3</td>\n",
       "    </tr>\n",
       "    <tr>\n",
       "      <th>20</th>\n",
       "      <td>cohere.command-r-v1:0</td>\n",
       "      <td>meta.llama2-13b-chat-v1</td>\n",
       "      <td>27</td>\n",
       "      <td>3</td>\n",
       "    </tr>\n",
       "    <tr>\n",
       "      <th>21</th>\n",
       "      <td>cohere.command-r-v1:0</td>\n",
       "      <td>meta.llama2-70b-chat-v1</td>\n",
       "      <td>30</td>\n",
       "      <td>0</td>\n",
       "    </tr>\n",
       "    <tr>\n",
       "      <th>22</th>\n",
       "      <td>cohere.command-r-v1:0</td>\n",
       "      <td>mistral.mistral-7b-instruct-v0:2</td>\n",
       "      <td>30</td>\n",
       "      <td>0</td>\n",
       "    </tr>\n",
       "    <tr>\n",
       "      <th>23</th>\n",
       "      <td>cohere.command-r-v1:0</td>\n",
       "      <td>mistral.mixtral-8x7b-instruct-v0:1</td>\n",
       "      <td>27</td>\n",
       "      <td>3</td>\n",
       "    </tr>\n",
       "    <tr>\n",
       "      <th>24</th>\n",
       "      <td>meta.llama3-70b-instruct-v1:0</td>\n",
       "      <td>ai21.j2-mid-v1</td>\n",
       "      <td>30</td>\n",
       "      <td>0</td>\n",
       "    </tr>\n",
       "    <tr>\n",
       "      <th>25</th>\n",
       "      <td>meta.llama3-70b-instruct-v1:0</td>\n",
       "      <td>ai21.j2-ultra-v1</td>\n",
       "      <td>30</td>\n",
       "      <td>0</td>\n",
       "    </tr>\n",
       "    <tr>\n",
       "      <th>26</th>\n",
       "      <td>meta.llama3-70b-instruct-v1:0</td>\n",
       "      <td>amazon.titan-text-express-v1</td>\n",
       "      <td>30</td>\n",
       "      <td>0</td>\n",
       "    </tr>\n",
       "    <tr>\n",
       "      <th>27</th>\n",
       "      <td>meta.llama3-70b-instruct-v1:0</td>\n",
       "      <td>amazon.titan-text-lite-v1</td>\n",
       "      <td>27</td>\n",
       "      <td>3</td>\n",
       "    </tr>\n",
       "    <tr>\n",
       "      <th>28</th>\n",
       "      <td>meta.llama3-70b-instruct-v1:0</td>\n",
       "      <td>anthropic.claude-3-haiku-20240307-v1:0</td>\n",
       "      <td>30</td>\n",
       "      <td>0</td>\n",
       "    </tr>\n",
       "    <tr>\n",
       "      <th>29</th>\n",
       "      <td>meta.llama3-70b-instruct-v1:0</td>\n",
       "      <td>anthropic.claude-3-sonnet-20240229-v1:0</td>\n",
       "      <td>30</td>\n",
       "      <td>0</td>\n",
       "    </tr>\n",
       "    <tr>\n",
       "      <th>30</th>\n",
       "      <td>meta.llama3-70b-instruct-v1:0</td>\n",
       "      <td>cohere.command-light-text-v14</td>\n",
       "      <td>24</td>\n",
       "      <td>6</td>\n",
       "    </tr>\n",
       "    <tr>\n",
       "      <th>31</th>\n",
       "      <td>meta.llama3-70b-instruct-v1:0</td>\n",
       "      <td>cohere.command-text-v14</td>\n",
       "      <td>27</td>\n",
       "      <td>3</td>\n",
       "    </tr>\n",
       "    <tr>\n",
       "      <th>32</th>\n",
       "      <td>meta.llama3-70b-instruct-v1:0</td>\n",
       "      <td>meta.llama2-13b-chat-v1</td>\n",
       "      <td>27</td>\n",
       "      <td>3</td>\n",
       "    </tr>\n",
       "    <tr>\n",
       "      <th>33</th>\n",
       "      <td>meta.llama3-70b-instruct-v1:0</td>\n",
       "      <td>meta.llama2-70b-chat-v1</td>\n",
       "      <td>30</td>\n",
       "      <td>0</td>\n",
       "    </tr>\n",
       "    <tr>\n",
       "      <th>34</th>\n",
       "      <td>meta.llama3-70b-instruct-v1:0</td>\n",
       "      <td>mistral.mistral-7b-instruct-v0:2</td>\n",
       "      <td>30</td>\n",
       "      <td>0</td>\n",
       "    </tr>\n",
       "    <tr>\n",
       "      <th>35</th>\n",
       "      <td>meta.llama3-70b-instruct-v1:0</td>\n",
       "      <td>mistral.mixtral-8x7b-instruct-v0:1</td>\n",
       "      <td>27</td>\n",
       "      <td>3</td>\n",
       "    </tr>\n",
       "  </tbody>\n",
       "</table>\n",
       "</div>"
      ],
      "text/plain": [
       "verdict                          judge_model_id  \\\n",
       "0        anthropic.claude-3-haiku-20240307-v1:0   \n",
       "1        anthropic.claude-3-haiku-20240307-v1:0   \n",
       "2        anthropic.claude-3-haiku-20240307-v1:0   \n",
       "3        anthropic.claude-3-haiku-20240307-v1:0   \n",
       "4        anthropic.claude-3-haiku-20240307-v1:0   \n",
       "5        anthropic.claude-3-haiku-20240307-v1:0   \n",
       "6        anthropic.claude-3-haiku-20240307-v1:0   \n",
       "7        anthropic.claude-3-haiku-20240307-v1:0   \n",
       "8        anthropic.claude-3-haiku-20240307-v1:0   \n",
       "9        anthropic.claude-3-haiku-20240307-v1:0   \n",
       "10       anthropic.claude-3-haiku-20240307-v1:0   \n",
       "11       anthropic.claude-3-haiku-20240307-v1:0   \n",
       "12                        cohere.command-r-v1:0   \n",
       "13                        cohere.command-r-v1:0   \n",
       "14                        cohere.command-r-v1:0   \n",
       "15                        cohere.command-r-v1:0   \n",
       "16                        cohere.command-r-v1:0   \n",
       "17                        cohere.command-r-v1:0   \n",
       "18                        cohere.command-r-v1:0   \n",
       "19                        cohere.command-r-v1:0   \n",
       "20                        cohere.command-r-v1:0   \n",
       "21                        cohere.command-r-v1:0   \n",
       "22                        cohere.command-r-v1:0   \n",
       "23                        cohere.command-r-v1:0   \n",
       "24                meta.llama3-70b-instruct-v1:0   \n",
       "25                meta.llama3-70b-instruct-v1:0   \n",
       "26                meta.llama3-70b-instruct-v1:0   \n",
       "27                meta.llama3-70b-instruct-v1:0   \n",
       "28                meta.llama3-70b-instruct-v1:0   \n",
       "29                meta.llama3-70b-instruct-v1:0   \n",
       "30                meta.llama3-70b-instruct-v1:0   \n",
       "31                meta.llama3-70b-instruct-v1:0   \n",
       "32                meta.llama3-70b-instruct-v1:0   \n",
       "33                meta.llama3-70b-instruct-v1:0   \n",
       "34                meta.llama3-70b-instruct-v1:0   \n",
       "35                meta.llama3-70b-instruct-v1:0   \n",
       "\n",
       "verdict                          candidate_model  correct  incorrect  \n",
       "0                                 ai21.j2-mid-v1       30          0  \n",
       "1                               ai21.j2-ultra-v1       30          0  \n",
       "2                   amazon.titan-text-express-v1       30          0  \n",
       "3                      amazon.titan-text-lite-v1       27          3  \n",
       "4         anthropic.claude-3-haiku-20240307-v1:0       27          0  \n",
       "5        anthropic.claude-3-sonnet-20240229-v1:0       30          0  \n",
       "6                  cohere.command-light-text-v14       23          6  \n",
       "7                        cohere.command-text-v14       27          3  \n",
       "8                        meta.llama2-13b-chat-v1       27          3  \n",
       "9                        meta.llama2-70b-chat-v1       30          0  \n",
       "10              mistral.mistral-7b-instruct-v0:2       30          0  \n",
       "11            mistral.mixtral-8x7b-instruct-v0:1       27          3  \n",
       "12                                ai21.j2-mid-v1       30          0  \n",
       "13                              ai21.j2-ultra-v1       27          3  \n",
       "14                  amazon.titan-text-express-v1       27          3  \n",
       "15                     amazon.titan-text-lite-v1       26          4  \n",
       "16        anthropic.claude-3-haiku-20240307-v1:0       30          0  \n",
       "17       anthropic.claude-3-sonnet-20240229-v1:0       30          0  \n",
       "18                 cohere.command-light-text-v14       27          3  \n",
       "19                       cohere.command-text-v14       27          3  \n",
       "20                       meta.llama2-13b-chat-v1       27          3  \n",
       "21                       meta.llama2-70b-chat-v1       30          0  \n",
       "22              mistral.mistral-7b-instruct-v0:2       30          0  \n",
       "23            mistral.mixtral-8x7b-instruct-v0:1       27          3  \n",
       "24                                ai21.j2-mid-v1       30          0  \n",
       "25                              ai21.j2-ultra-v1       30          0  \n",
       "26                  amazon.titan-text-express-v1       30          0  \n",
       "27                     amazon.titan-text-lite-v1       27          3  \n",
       "28        anthropic.claude-3-haiku-20240307-v1:0       30          0  \n",
       "29       anthropic.claude-3-sonnet-20240229-v1:0       30          0  \n",
       "30                 cohere.command-light-text-v14       24          6  \n",
       "31                       cohere.command-text-v14       27          3  \n",
       "32                       meta.llama2-13b-chat-v1       27          3  \n",
       "33                       meta.llama2-70b-chat-v1       30          0  \n",
       "34              mistral.mistral-7b-instruct-v0:2       30          0  \n",
       "35            mistral.mixtral-8x7b-instruct-v0:1       27          3  "
      ]
     },
     "execution_count": 134,
     "metadata": {},
     "output_type": "execute_result"
    }
   ],
   "source": [
    "# send the raw results as a csv file to the S3 bucket\n",
    "csv_buffer = io.StringIO()\n",
    "panel_summary_responses_df.to_csv(csv_buffer, index=False)\n",
    "panel_summary_responses = csv_buffer.getvalue()\n",
    "llm_as_a_judge_per_eval_summary_fpath = os.path.join(METRICS_DIR, LLM_JUDGE_PANEL_RESPONSE_SUMMARIES)  # Define full S3 path\n",
    "\n",
    "# Write the CSV data to S3\n",
    "write_to_s3(panel_summary_responses, BUCKET_NAME, \"\", \n",
    "            METRICS_DIR, LLM_JUDGE_PANEL_RESPONSE_SUMMARIES)\n",
    "logger.info(f\"Summary on each eval (max voting/average pooling) for each panel judge sent to s3://{BUCKET_NAME}/{llm_as_a_judge_per_eval_summary_fpath}\")\n",
    "panel_summary_responses_df.head(40)"
   ]
  },
  {
   "cell_type": "markdown",
   "metadata": {},
   "source": [
    "#### Calculate the overall accuracy of each model scored by the PoLL\n",
    "---"
   ]
  },
  {
   "cell_type": "code",
   "execution_count": 139,
   "metadata": {
    "tags": []
   },
   "outputs": [
    {
     "data": {
      "text/html": [
       "<div>\n",
       "<style scoped>\n",
       "    .dataframe tbody tr th:only-of-type {\n",
       "        vertical-align: middle;\n",
       "    }\n",
       "\n",
       "    .dataframe tbody tr th {\n",
       "        vertical-align: top;\n",
       "    }\n",
       "\n",
       "    .dataframe thead th {\n",
       "        text-align: right;\n",
       "    }\n",
       "</style>\n",
       "<table border=\"1\" class=\"dataframe\">\n",
       "  <thead>\n",
       "    <tr style=\"text-align: right;\">\n",
       "      <th>verdict</th>\n",
       "      <th>candidate_model</th>\n",
       "      <th>judge_model_id</th>\n",
       "      <th>accuracy</th>\n",
       "      <th>error_rate</th>\n",
       "    </tr>\n",
       "  </thead>\n",
       "  <tbody>\n",
       "    <tr>\n",
       "      <th>0</th>\n",
       "      <td>ai21.j2-mid-v1</td>\n",
       "      <td>anthropic.claude-3-haiku-20240307-v1:0</td>\n",
       "      <td>100.0</td>\n",
       "      <td>0.0</td>\n",
       "    </tr>\n",
       "    <tr>\n",
       "      <th>1</th>\n",
       "      <td>ai21.j2-mid-v1</td>\n",
       "      <td>cohere.command-r-v1:0</td>\n",
       "      <td>100.0</td>\n",
       "      <td>0.0</td>\n",
       "    </tr>\n",
       "    <tr>\n",
       "      <th>2</th>\n",
       "      <td>ai21.j2-mid-v1</td>\n",
       "      <td>meta.llama3-70b-instruct-v1:0</td>\n",
       "      <td>100.0</td>\n",
       "      <td>0.0</td>\n",
       "    </tr>\n",
       "    <tr>\n",
       "      <th>3</th>\n",
       "      <td>ai21.j2-ultra-v1</td>\n",
       "      <td>anthropic.claude-3-haiku-20240307-v1:0</td>\n",
       "      <td>100.0</td>\n",
       "      <td>0.0</td>\n",
       "    </tr>\n",
       "    <tr>\n",
       "      <th>4</th>\n",
       "      <td>ai21.j2-ultra-v1</td>\n",
       "      <td>cohere.command-r-v1:0</td>\n",
       "      <td>90.0</td>\n",
       "      <td>10.0</td>\n",
       "    </tr>\n",
       "    <tr>\n",
       "      <th>5</th>\n",
       "      <td>ai21.j2-ultra-v1</td>\n",
       "      <td>meta.llama3-70b-instruct-v1:0</td>\n",
       "      <td>100.0</td>\n",
       "      <td>0.0</td>\n",
       "    </tr>\n",
       "    <tr>\n",
       "      <th>6</th>\n",
       "      <td>amazon.titan-text-express-v1</td>\n",
       "      <td>anthropic.claude-3-haiku-20240307-v1:0</td>\n",
       "      <td>100.0</td>\n",
       "      <td>0.0</td>\n",
       "    </tr>\n",
       "    <tr>\n",
       "      <th>7</th>\n",
       "      <td>amazon.titan-text-express-v1</td>\n",
       "      <td>cohere.command-r-v1:0</td>\n",
       "      <td>90.0</td>\n",
       "      <td>10.0</td>\n",
       "    </tr>\n",
       "    <tr>\n",
       "      <th>8</th>\n",
       "      <td>amazon.titan-text-express-v1</td>\n",
       "      <td>meta.llama3-70b-instruct-v1:0</td>\n",
       "      <td>100.0</td>\n",
       "      <td>0.0</td>\n",
       "    </tr>\n",
       "    <tr>\n",
       "      <th>9</th>\n",
       "      <td>amazon.titan-text-lite-v1</td>\n",
       "      <td>anthropic.claude-3-haiku-20240307-v1:0</td>\n",
       "      <td>90.0</td>\n",
       "      <td>10.0</td>\n",
       "    </tr>\n",
       "    <tr>\n",
       "      <th>10</th>\n",
       "      <td>amazon.titan-text-lite-v1</td>\n",
       "      <td>cohere.command-r-v1:0</td>\n",
       "      <td>87.0</td>\n",
       "      <td>13.0</td>\n",
       "    </tr>\n",
       "    <tr>\n",
       "      <th>11</th>\n",
       "      <td>amazon.titan-text-lite-v1</td>\n",
       "      <td>meta.llama3-70b-instruct-v1:0</td>\n",
       "      <td>90.0</td>\n",
       "      <td>10.0</td>\n",
       "    </tr>\n",
       "    <tr>\n",
       "      <th>12</th>\n",
       "      <td>anthropic.claude-3-haiku-20240307-v1:0</td>\n",
       "      <td>anthropic.claude-3-haiku-20240307-v1:0</td>\n",
       "      <td>100.0</td>\n",
       "      <td>0.0</td>\n",
       "    </tr>\n",
       "    <tr>\n",
       "      <th>13</th>\n",
       "      <td>anthropic.claude-3-haiku-20240307-v1:0</td>\n",
       "      <td>cohere.command-r-v1:0</td>\n",
       "      <td>100.0</td>\n",
       "      <td>0.0</td>\n",
       "    </tr>\n",
       "    <tr>\n",
       "      <th>14</th>\n",
       "      <td>anthropic.claude-3-haiku-20240307-v1:0</td>\n",
       "      <td>meta.llama3-70b-instruct-v1:0</td>\n",
       "      <td>100.0</td>\n",
       "      <td>0.0</td>\n",
       "    </tr>\n",
       "    <tr>\n",
       "      <th>15</th>\n",
       "      <td>anthropic.claude-3-sonnet-20240229-v1:0</td>\n",
       "      <td>anthropic.claude-3-haiku-20240307-v1:0</td>\n",
       "      <td>100.0</td>\n",
       "      <td>0.0</td>\n",
       "    </tr>\n",
       "    <tr>\n",
       "      <th>16</th>\n",
       "      <td>anthropic.claude-3-sonnet-20240229-v1:0</td>\n",
       "      <td>cohere.command-r-v1:0</td>\n",
       "      <td>100.0</td>\n",
       "      <td>0.0</td>\n",
       "    </tr>\n",
       "    <tr>\n",
       "      <th>17</th>\n",
       "      <td>anthropic.claude-3-sonnet-20240229-v1:0</td>\n",
       "      <td>meta.llama3-70b-instruct-v1:0</td>\n",
       "      <td>100.0</td>\n",
       "      <td>0.0</td>\n",
       "    </tr>\n",
       "    <tr>\n",
       "      <th>18</th>\n",
       "      <td>cohere.command-light-text-v14</td>\n",
       "      <td>anthropic.claude-3-haiku-20240307-v1:0</td>\n",
       "      <td>79.0</td>\n",
       "      <td>21.0</td>\n",
       "    </tr>\n",
       "    <tr>\n",
       "      <th>19</th>\n",
       "      <td>cohere.command-light-text-v14</td>\n",
       "      <td>cohere.command-r-v1:0</td>\n",
       "      <td>90.0</td>\n",
       "      <td>10.0</td>\n",
       "    </tr>\n",
       "    <tr>\n",
       "      <th>20</th>\n",
       "      <td>cohere.command-light-text-v14</td>\n",
       "      <td>meta.llama3-70b-instruct-v1:0</td>\n",
       "      <td>80.0</td>\n",
       "      <td>20.0</td>\n",
       "    </tr>\n",
       "    <tr>\n",
       "      <th>21</th>\n",
       "      <td>cohere.command-text-v14</td>\n",
       "      <td>anthropic.claude-3-haiku-20240307-v1:0</td>\n",
       "      <td>90.0</td>\n",
       "      <td>10.0</td>\n",
       "    </tr>\n",
       "    <tr>\n",
       "      <th>22</th>\n",
       "      <td>cohere.command-text-v14</td>\n",
       "      <td>cohere.command-r-v1:0</td>\n",
       "      <td>90.0</td>\n",
       "      <td>10.0</td>\n",
       "    </tr>\n",
       "    <tr>\n",
       "      <th>23</th>\n",
       "      <td>cohere.command-text-v14</td>\n",
       "      <td>meta.llama3-70b-instruct-v1:0</td>\n",
       "      <td>90.0</td>\n",
       "      <td>10.0</td>\n",
       "    </tr>\n",
       "    <tr>\n",
       "      <th>24</th>\n",
       "      <td>meta.llama2-13b-chat-v1</td>\n",
       "      <td>anthropic.claude-3-haiku-20240307-v1:0</td>\n",
       "      <td>90.0</td>\n",
       "      <td>10.0</td>\n",
       "    </tr>\n",
       "    <tr>\n",
       "      <th>25</th>\n",
       "      <td>meta.llama2-13b-chat-v1</td>\n",
       "      <td>cohere.command-r-v1:0</td>\n",
       "      <td>90.0</td>\n",
       "      <td>10.0</td>\n",
       "    </tr>\n",
       "    <tr>\n",
       "      <th>26</th>\n",
       "      <td>meta.llama2-13b-chat-v1</td>\n",
       "      <td>meta.llama3-70b-instruct-v1:0</td>\n",
       "      <td>90.0</td>\n",
       "      <td>10.0</td>\n",
       "    </tr>\n",
       "    <tr>\n",
       "      <th>27</th>\n",
       "      <td>meta.llama2-70b-chat-v1</td>\n",
       "      <td>anthropic.claude-3-haiku-20240307-v1:0</td>\n",
       "      <td>100.0</td>\n",
       "      <td>0.0</td>\n",
       "    </tr>\n",
       "    <tr>\n",
       "      <th>28</th>\n",
       "      <td>meta.llama2-70b-chat-v1</td>\n",
       "      <td>cohere.command-r-v1:0</td>\n",
       "      <td>100.0</td>\n",
       "      <td>0.0</td>\n",
       "    </tr>\n",
       "    <tr>\n",
       "      <th>29</th>\n",
       "      <td>meta.llama2-70b-chat-v1</td>\n",
       "      <td>meta.llama3-70b-instruct-v1:0</td>\n",
       "      <td>100.0</td>\n",
       "      <td>0.0</td>\n",
       "    </tr>\n",
       "    <tr>\n",
       "      <th>30</th>\n",
       "      <td>mistral.mistral-7b-instruct-v0:2</td>\n",
       "      <td>anthropic.claude-3-haiku-20240307-v1:0</td>\n",
       "      <td>100.0</td>\n",
       "      <td>0.0</td>\n",
       "    </tr>\n",
       "    <tr>\n",
       "      <th>31</th>\n",
       "      <td>mistral.mistral-7b-instruct-v0:2</td>\n",
       "      <td>cohere.command-r-v1:0</td>\n",
       "      <td>100.0</td>\n",
       "      <td>0.0</td>\n",
       "    </tr>\n",
       "    <tr>\n",
       "      <th>32</th>\n",
       "      <td>mistral.mistral-7b-instruct-v0:2</td>\n",
       "      <td>meta.llama3-70b-instruct-v1:0</td>\n",
       "      <td>100.0</td>\n",
       "      <td>0.0</td>\n",
       "    </tr>\n",
       "    <tr>\n",
       "      <th>33</th>\n",
       "      <td>mistral.mixtral-8x7b-instruct-v0:1</td>\n",
       "      <td>anthropic.claude-3-haiku-20240307-v1:0</td>\n",
       "      <td>90.0</td>\n",
       "      <td>10.0</td>\n",
       "    </tr>\n",
       "    <tr>\n",
       "      <th>34</th>\n",
       "      <td>mistral.mixtral-8x7b-instruct-v0:1</td>\n",
       "      <td>cohere.command-r-v1:0</td>\n",
       "      <td>90.0</td>\n",
       "      <td>10.0</td>\n",
       "    </tr>\n",
       "    <tr>\n",
       "      <th>35</th>\n",
       "      <td>mistral.mixtral-8x7b-instruct-v0:1</td>\n",
       "      <td>meta.llama3-70b-instruct-v1:0</td>\n",
       "      <td>90.0</td>\n",
       "      <td>10.0</td>\n",
       "    </tr>\n",
       "  </tbody>\n",
       "</table>\n",
       "</div>"
      ],
      "text/plain": [
       "verdict                          candidate_model  \\\n",
       "0                                 ai21.j2-mid-v1   \n",
       "1                                 ai21.j2-mid-v1   \n",
       "2                                 ai21.j2-mid-v1   \n",
       "3                               ai21.j2-ultra-v1   \n",
       "4                               ai21.j2-ultra-v1   \n",
       "5                               ai21.j2-ultra-v1   \n",
       "6                   amazon.titan-text-express-v1   \n",
       "7                   amazon.titan-text-express-v1   \n",
       "8                   amazon.titan-text-express-v1   \n",
       "9                      amazon.titan-text-lite-v1   \n",
       "10                     amazon.titan-text-lite-v1   \n",
       "11                     amazon.titan-text-lite-v1   \n",
       "12        anthropic.claude-3-haiku-20240307-v1:0   \n",
       "13        anthropic.claude-3-haiku-20240307-v1:0   \n",
       "14        anthropic.claude-3-haiku-20240307-v1:0   \n",
       "15       anthropic.claude-3-sonnet-20240229-v1:0   \n",
       "16       anthropic.claude-3-sonnet-20240229-v1:0   \n",
       "17       anthropic.claude-3-sonnet-20240229-v1:0   \n",
       "18                 cohere.command-light-text-v14   \n",
       "19                 cohere.command-light-text-v14   \n",
       "20                 cohere.command-light-text-v14   \n",
       "21                       cohere.command-text-v14   \n",
       "22                       cohere.command-text-v14   \n",
       "23                       cohere.command-text-v14   \n",
       "24                       meta.llama2-13b-chat-v1   \n",
       "25                       meta.llama2-13b-chat-v1   \n",
       "26                       meta.llama2-13b-chat-v1   \n",
       "27                       meta.llama2-70b-chat-v1   \n",
       "28                       meta.llama2-70b-chat-v1   \n",
       "29                       meta.llama2-70b-chat-v1   \n",
       "30              mistral.mistral-7b-instruct-v0:2   \n",
       "31              mistral.mistral-7b-instruct-v0:2   \n",
       "32              mistral.mistral-7b-instruct-v0:2   \n",
       "33            mistral.mixtral-8x7b-instruct-v0:1   \n",
       "34            mistral.mixtral-8x7b-instruct-v0:1   \n",
       "35            mistral.mixtral-8x7b-instruct-v0:1   \n",
       "\n",
       "verdict                          judge_model_id  accuracy  error_rate  \n",
       "0        anthropic.claude-3-haiku-20240307-v1:0     100.0         0.0  \n",
       "1                         cohere.command-r-v1:0     100.0         0.0  \n",
       "2                 meta.llama3-70b-instruct-v1:0     100.0         0.0  \n",
       "3        anthropic.claude-3-haiku-20240307-v1:0     100.0         0.0  \n",
       "4                         cohere.command-r-v1:0      90.0        10.0  \n",
       "5                 meta.llama3-70b-instruct-v1:0     100.0         0.0  \n",
       "6        anthropic.claude-3-haiku-20240307-v1:0     100.0         0.0  \n",
       "7                         cohere.command-r-v1:0      90.0        10.0  \n",
       "8                 meta.llama3-70b-instruct-v1:0     100.0         0.0  \n",
       "9        anthropic.claude-3-haiku-20240307-v1:0      90.0        10.0  \n",
       "10                        cohere.command-r-v1:0      87.0        13.0  \n",
       "11                meta.llama3-70b-instruct-v1:0      90.0        10.0  \n",
       "12       anthropic.claude-3-haiku-20240307-v1:0     100.0         0.0  \n",
       "13                        cohere.command-r-v1:0     100.0         0.0  \n",
       "14                meta.llama3-70b-instruct-v1:0     100.0         0.0  \n",
       "15       anthropic.claude-3-haiku-20240307-v1:0     100.0         0.0  \n",
       "16                        cohere.command-r-v1:0     100.0         0.0  \n",
       "17                meta.llama3-70b-instruct-v1:0     100.0         0.0  \n",
       "18       anthropic.claude-3-haiku-20240307-v1:0      79.0        21.0  \n",
       "19                        cohere.command-r-v1:0      90.0        10.0  \n",
       "20                meta.llama3-70b-instruct-v1:0      80.0        20.0  \n",
       "21       anthropic.claude-3-haiku-20240307-v1:0      90.0        10.0  \n",
       "22                        cohere.command-r-v1:0      90.0        10.0  \n",
       "23                meta.llama3-70b-instruct-v1:0      90.0        10.0  \n",
       "24       anthropic.claude-3-haiku-20240307-v1:0      90.0        10.0  \n",
       "25                        cohere.command-r-v1:0      90.0        10.0  \n",
       "26                meta.llama3-70b-instruct-v1:0      90.0        10.0  \n",
       "27       anthropic.claude-3-haiku-20240307-v1:0     100.0         0.0  \n",
       "28                        cohere.command-r-v1:0     100.0         0.0  \n",
       "29                meta.llama3-70b-instruct-v1:0     100.0         0.0  \n",
       "30       anthropic.claude-3-haiku-20240307-v1:0     100.0         0.0  \n",
       "31                        cohere.command-r-v1:0     100.0         0.0  \n",
       "32                meta.llama3-70b-instruct-v1:0     100.0         0.0  \n",
       "33       anthropic.claude-3-haiku-20240307-v1:0      90.0        10.0  \n",
       "34                        cohere.command-r-v1:0      90.0        10.0  \n",
       "35                meta.llama3-70b-instruct-v1:0      90.0        10.0  "
      ]
     },
     "execution_count": 139,
     "metadata": {},
     "output_type": "execute_result"
    }
   ],
   "source": [
    "per_panel_judgement_result_df= panel_summary_responses_df.groupby(['candidate_model', 'judge_model_id']).sum()\n",
    "# Compute the accuracy and error rate of each candidate model id\n",
    "if 'incorrect' in panel_summary_responses_df:\n",
    "    per_panel_judgement_result_df['accuracy'] = ((per_panel_judgement_result_df['correct'] / (per_panel_judgement_result_df['correct'] + per_panel_judgement_result_df['incorrect'])).round(2) * 100)\n",
    "    per_panel_judgement_result_df['error_rate'] = ((per_panel_judgement_result_df['incorrect'] / (per_panel_judgement_result_df['correct'] + per_panel_judgement_result_df['incorrect'])).round(2) * 100)\n",
    "else: \n",
    "    per_panel_judgement_result_df['accuracy'] = 100\n",
    "    per_panel_judgement_result_df['error_rate'] = 0\n",
    "per_panel_judgement_result_df = per_panel_judgement_result_df[['accuracy', 'error_rate']].reset_index()\n",
    "per_panel_judgement_result_df.head(40)"
   ]
  },
  {
   "cell_type": "code",
   "execution_count": 140,
   "metadata": {
    "tags": []
   },
   "outputs": [
    {
     "data": {
      "text/html": [
       "<div>\n",
       "<style scoped>\n",
       "    .dataframe tbody tr th:only-of-type {\n",
       "        vertical-align: middle;\n",
       "    }\n",
       "\n",
       "    .dataframe tbody tr th {\n",
       "        vertical-align: top;\n",
       "    }\n",
       "\n",
       "    .dataframe thead th {\n",
       "        text-align: right;\n",
       "    }\n",
       "</style>\n",
       "<table border=\"1\" class=\"dataframe\">\n",
       "  <thead>\n",
       "    <tr style=\"text-align: right;\">\n",
       "      <th></th>\n",
       "      <th>candidate_model</th>\n",
       "      <th>mean_cosine_similarity</th>\n",
       "    </tr>\n",
       "  </thead>\n",
       "  <tbody>\n",
       "    <tr>\n",
       "      <th>0</th>\n",
       "      <td>ai21.j2-mid-v1</td>\n",
       "      <td>0.408040</td>\n",
       "    </tr>\n",
       "    <tr>\n",
       "      <th>1</th>\n",
       "      <td>ai21.j2-ultra-v1</td>\n",
       "      <td>0.418304</td>\n",
       "    </tr>\n",
       "    <tr>\n",
       "      <th>2</th>\n",
       "      <td>amazon.titan-text-express-v1</td>\n",
       "      <td>0.477337</td>\n",
       "    </tr>\n",
       "    <tr>\n",
       "      <th>3</th>\n",
       "      <td>amazon.titan-text-lite-v1</td>\n",
       "      <td>0.537419</td>\n",
       "    </tr>\n",
       "    <tr>\n",
       "      <th>4</th>\n",
       "      <td>anthropic.claude-3-haiku-20240307-v1:0</td>\n",
       "      <td>0.400099</td>\n",
       "    </tr>\n",
       "    <tr>\n",
       "      <th>5</th>\n",
       "      <td>anthropic.claude-3-sonnet-20240229-v1:0</td>\n",
       "      <td>0.433328</td>\n",
       "    </tr>\n",
       "    <tr>\n",
       "      <th>6</th>\n",
       "      <td>cohere.command-light-text-v14</td>\n",
       "      <td>0.590262</td>\n",
       "    </tr>\n",
       "    <tr>\n",
       "      <th>7</th>\n",
       "      <td>cohere.command-text-v14</td>\n",
       "      <td>0.338896</td>\n",
       "    </tr>\n",
       "    <tr>\n",
       "      <th>8</th>\n",
       "      <td>meta.llama2-13b-chat-v1</td>\n",
       "      <td>0.431822</td>\n",
       "    </tr>\n",
       "    <tr>\n",
       "      <th>9</th>\n",
       "      <td>meta.llama2-70b-chat-v1</td>\n",
       "      <td>0.438103</td>\n",
       "    </tr>\n",
       "    <tr>\n",
       "      <th>10</th>\n",
       "      <td>mistral.mistral-7b-instruct-v0:2</td>\n",
       "      <td>0.424023</td>\n",
       "    </tr>\n",
       "    <tr>\n",
       "      <th>11</th>\n",
       "      <td>mistral.mixtral-8x7b-instruct-v0:1</td>\n",
       "      <td>0.432573</td>\n",
       "    </tr>\n",
       "  </tbody>\n",
       "</table>\n",
       "</div>"
      ],
      "text/plain": [
       "                            candidate_model  mean_cosine_similarity\n",
       "0                            ai21.j2-mid-v1                0.408040\n",
       "1                          ai21.j2-ultra-v1                0.418304\n",
       "2              amazon.titan-text-express-v1                0.477337\n",
       "3                 amazon.titan-text-lite-v1                0.537419\n",
       "4    anthropic.claude-3-haiku-20240307-v1:0                0.400099\n",
       "5   anthropic.claude-3-sonnet-20240229-v1:0                0.433328\n",
       "6             cohere.command-light-text-v14                0.590262\n",
       "7                   cohere.command-text-v14                0.338896\n",
       "8                   meta.llama2-13b-chat-v1                0.431822\n",
       "9                   meta.llama2-70b-chat-v1                0.438103\n",
       "10         mistral.mistral-7b-instruct-v0:2                0.424023\n",
       "11       mistral.mixtral-8x7b-instruct-v0:1                0.432573"
      ]
     },
     "execution_count": 140,
     "metadata": {},
     "output_type": "execute_result"
    }
   ],
   "source": [
    "# Calculate mean cosine similarity for each candidate model\n",
    "mean_cosine_similarity = df_eval_results.groupby('candidate_model')['cosine_similarity_score'].mean().reset_index()\n",
    "mean_cosine_similarity = mean_cosine_similarity.rename(columns={'cosine_similarity_score': 'mean_cosine_similarity'})\n",
    "mean_cosine_similarity"
   ]
  },
  {
   "cell_type": "code",
   "execution_count": 148,
   "metadata": {
    "tags": []
   },
   "outputs": [
    {
     "data": {
      "text/html": [
       "<div>\n",
       "<style scoped>\n",
       "    .dataframe tbody tr th:only-of-type {\n",
       "        vertical-align: middle;\n",
       "    }\n",
       "\n",
       "    .dataframe tbody tr th {\n",
       "        vertical-align: top;\n",
       "    }\n",
       "\n",
       "    .dataframe thead th {\n",
       "        text-align: right;\n",
       "    }\n",
       "</style>\n",
       "<table border=\"1\" class=\"dataframe\">\n",
       "  <thead>\n",
       "    <tr style=\"text-align: right;\">\n",
       "      <th></th>\n",
       "      <th>candidate_model</th>\n",
       "      <th>mean_cosine_similarity</th>\n",
       "      <th>accuracy</th>\n",
       "      <th>error_rate</th>\n",
       "    </tr>\n",
       "  </thead>\n",
       "  <tbody>\n",
       "    <tr>\n",
       "      <th>0</th>\n",
       "      <td>ai21.j2-mid-v1</td>\n",
       "      <td>0.408040</td>\n",
       "      <td>100.0</td>\n",
       "      <td>0.0</td>\n",
       "    </tr>\n",
       "    <tr>\n",
       "      <th>10</th>\n",
       "      <td>mistral.mistral-7b-instruct-v0:2</td>\n",
       "      <td>0.424023</td>\n",
       "      <td>100.0</td>\n",
       "      <td>0.0</td>\n",
       "    </tr>\n",
       "    <tr>\n",
       "      <th>5</th>\n",
       "      <td>anthropic.claude-3-sonnet-20240229-v1:0</td>\n",
       "      <td>0.433328</td>\n",
       "      <td>100.0</td>\n",
       "      <td>0.0</td>\n",
       "    </tr>\n",
       "    <tr>\n",
       "      <th>4</th>\n",
       "      <td>anthropic.claude-3-haiku-20240307-v1:0</td>\n",
       "      <td>0.400099</td>\n",
       "      <td>100.0</td>\n",
       "      <td>0.0</td>\n",
       "    </tr>\n",
       "    <tr>\n",
       "      <th>9</th>\n",
       "      <td>meta.llama2-70b-chat-v1</td>\n",
       "      <td>0.438103</td>\n",
       "      <td>100.0</td>\n",
       "      <td>0.0</td>\n",
       "    </tr>\n",
       "    <tr>\n",
       "      <th>1</th>\n",
       "      <td>ai21.j2-ultra-v1</td>\n",
       "      <td>0.418304</td>\n",
       "      <td>97.0</td>\n",
       "      <td>3.0</td>\n",
       "    </tr>\n",
       "    <tr>\n",
       "      <th>2</th>\n",
       "      <td>amazon.titan-text-express-v1</td>\n",
       "      <td>0.477337</td>\n",
       "      <td>97.0</td>\n",
       "      <td>3.0</td>\n",
       "    </tr>\n",
       "    <tr>\n",
       "      <th>8</th>\n",
       "      <td>meta.llama2-13b-chat-v1</td>\n",
       "      <td>0.431822</td>\n",
       "      <td>90.0</td>\n",
       "      <td>10.0</td>\n",
       "    </tr>\n",
       "    <tr>\n",
       "      <th>11</th>\n",
       "      <td>mistral.mixtral-8x7b-instruct-v0:1</td>\n",
       "      <td>0.432573</td>\n",
       "      <td>90.0</td>\n",
       "      <td>10.0</td>\n",
       "    </tr>\n",
       "    <tr>\n",
       "      <th>7</th>\n",
       "      <td>cohere.command-text-v14</td>\n",
       "      <td>0.338896</td>\n",
       "      <td>90.0</td>\n",
       "      <td>10.0</td>\n",
       "    </tr>\n",
       "    <tr>\n",
       "      <th>3</th>\n",
       "      <td>amazon.titan-text-lite-v1</td>\n",
       "      <td>0.537419</td>\n",
       "      <td>89.0</td>\n",
       "      <td>11.0</td>\n",
       "    </tr>\n",
       "    <tr>\n",
       "      <th>6</th>\n",
       "      <td>cohere.command-light-text-v14</td>\n",
       "      <td>0.590262</td>\n",
       "      <td>83.0</td>\n",
       "      <td>17.0</td>\n",
       "    </tr>\n",
       "  </tbody>\n",
       "</table>\n",
       "</div>"
      ],
      "text/plain": [
       "                            candidate_model  mean_cosine_similarity  accuracy  \\\n",
       "0                            ai21.j2-mid-v1                0.408040     100.0   \n",
       "10         mistral.mistral-7b-instruct-v0:2                0.424023     100.0   \n",
       "5   anthropic.claude-3-sonnet-20240229-v1:0                0.433328     100.0   \n",
       "4    anthropic.claude-3-haiku-20240307-v1:0                0.400099     100.0   \n",
       "9                   meta.llama2-70b-chat-v1                0.438103     100.0   \n",
       "1                          ai21.j2-ultra-v1                0.418304      97.0   \n",
       "2              amazon.titan-text-express-v1                0.477337      97.0   \n",
       "8                   meta.llama2-13b-chat-v1                0.431822      90.0   \n",
       "11       mistral.mixtral-8x7b-instruct-v0:1                0.432573      90.0   \n",
       "7                   cohere.command-text-v14                0.338896      90.0   \n",
       "3                 amazon.titan-text-lite-v1                0.537419      89.0   \n",
       "6             cohere.command-light-text-v14                0.590262      83.0   \n",
       "\n",
       "    error_rate  \n",
       "0          0.0  \n",
       "10         0.0  \n",
       "5          0.0  \n",
       "4          0.0  \n",
       "9          0.0  \n",
       "1          3.0  \n",
       "2          3.0  \n",
       "8         10.0  \n",
       "11        10.0  \n",
       "7         10.0  \n",
       "3         11.0  \n",
       "6         17.0  "
      ]
     },
     "execution_count": 148,
     "metadata": {},
     "output_type": "execute_result"
    }
   ],
   "source": [
    "overall_accuracy_grouped_panel_df = panel_summary_responses_df.groupby('candidate_model').sum()\n",
    "# Compute the accuracy and error rate of each candidate model id\n",
    "overall_accuracy_grouped_panel_df['accuracy'] = ((overall_accuracy_grouped_panel_df['correct'] / (overall_accuracy_grouped_panel_df['correct'] + overall_accuracy_grouped_panel_df['incorrect'])).round(2) * 100)\n",
    "overall_accuracy_grouped_panel_df['error_rate'] = ((overall_accuracy_grouped_panel_df['incorrect'] / (overall_accuracy_grouped_panel_df['correct'] + overall_accuracy_grouped_panel_df['incorrect'])).round(2) * 100)\n",
    "overall_accuracy_grouped_panel_df = overall_accuracy_grouped_panel_df[['accuracy', 'error_rate']].reset_index()\n",
    "overall_accuracy_grouped_panel_df = pd.merge(mean_cosine_similarity, overall_accuracy_grouped_panel_df, on='candidate_model')\n",
    "overall_accuracy_grouped_panel_df = overall_accuracy_grouped_panel_df.sort_values(by='accuracy', ascending=False)\n",
    "overall_accuracy_grouped_panel_df"
   ]
  },
  {
   "cell_type": "code",
   "execution_count": 149,
   "metadata": {
    "tags": []
   },
   "outputs": [
    {
     "name": "stderr",
     "output_type": "stream",
     "text": [
      "[2024-07-12 17:54:25,753] p27460 {1651915844.py:10} INFO - Overall accuracy and error rates results of each model sent to s3://sagemaker-fmbench-write-us-west-2-387192758086/fmbench-bedrock-fmbench-stack-us-west-2-role/data/metrics/yyyy=2024/mm=07/dd=12/hh=16/mm=35/PoLL_per_model_accuracy.csv\n"
     ]
    },
    {
     "data": {
      "text/html": [
       "<div>\n",
       "<style scoped>\n",
       "    .dataframe tbody tr th:only-of-type {\n",
       "        vertical-align: middle;\n",
       "    }\n",
       "\n",
       "    .dataframe tbody tr th {\n",
       "        vertical-align: top;\n",
       "    }\n",
       "\n",
       "    .dataframe thead th {\n",
       "        text-align: right;\n",
       "    }\n",
       "</style>\n",
       "<table border=\"1\" class=\"dataframe\">\n",
       "  <thead>\n",
       "    <tr style=\"text-align: right;\">\n",
       "      <th></th>\n",
       "      <th>candidate_model</th>\n",
       "      <th>mean_cosine_similarity</th>\n",
       "      <th>accuracy</th>\n",
       "      <th>error_rate</th>\n",
       "    </tr>\n",
       "  </thead>\n",
       "  <tbody>\n",
       "    <tr>\n",
       "      <th>0</th>\n",
       "      <td>ai21.j2-mid-v1</td>\n",
       "      <td>0.408040</td>\n",
       "      <td>100.0</td>\n",
       "      <td>0.0</td>\n",
       "    </tr>\n",
       "    <tr>\n",
       "      <th>10</th>\n",
       "      <td>mistral.mistral-7b-instruct-v0:2</td>\n",
       "      <td>0.424023</td>\n",
       "      <td>100.0</td>\n",
       "      <td>0.0</td>\n",
       "    </tr>\n",
       "    <tr>\n",
       "      <th>5</th>\n",
       "      <td>anthropic.claude-3-sonnet-20240229-v1:0</td>\n",
       "      <td>0.433328</td>\n",
       "      <td>100.0</td>\n",
       "      <td>0.0</td>\n",
       "    </tr>\n",
       "    <tr>\n",
       "      <th>4</th>\n",
       "      <td>anthropic.claude-3-haiku-20240307-v1:0</td>\n",
       "      <td>0.400099</td>\n",
       "      <td>100.0</td>\n",
       "      <td>0.0</td>\n",
       "    </tr>\n",
       "    <tr>\n",
       "      <th>9</th>\n",
       "      <td>meta.llama2-70b-chat-v1</td>\n",
       "      <td>0.438103</td>\n",
       "      <td>100.0</td>\n",
       "      <td>0.0</td>\n",
       "    </tr>\n",
       "    <tr>\n",
       "      <th>1</th>\n",
       "      <td>ai21.j2-ultra-v1</td>\n",
       "      <td>0.418304</td>\n",
       "      <td>97.0</td>\n",
       "      <td>3.0</td>\n",
       "    </tr>\n",
       "    <tr>\n",
       "      <th>2</th>\n",
       "      <td>amazon.titan-text-express-v1</td>\n",
       "      <td>0.477337</td>\n",
       "      <td>97.0</td>\n",
       "      <td>3.0</td>\n",
       "    </tr>\n",
       "    <tr>\n",
       "      <th>8</th>\n",
       "      <td>meta.llama2-13b-chat-v1</td>\n",
       "      <td>0.431822</td>\n",
       "      <td>90.0</td>\n",
       "      <td>10.0</td>\n",
       "    </tr>\n",
       "    <tr>\n",
       "      <th>11</th>\n",
       "      <td>mistral.mixtral-8x7b-instruct-v0:1</td>\n",
       "      <td>0.432573</td>\n",
       "      <td>90.0</td>\n",
       "      <td>10.0</td>\n",
       "    </tr>\n",
       "    <tr>\n",
       "      <th>7</th>\n",
       "      <td>cohere.command-text-v14</td>\n",
       "      <td>0.338896</td>\n",
       "      <td>90.0</td>\n",
       "      <td>10.0</td>\n",
       "    </tr>\n",
       "  </tbody>\n",
       "</table>\n",
       "</div>"
      ],
      "text/plain": [
       "                            candidate_model  mean_cosine_similarity  accuracy  \\\n",
       "0                            ai21.j2-mid-v1                0.408040     100.0   \n",
       "10         mistral.mistral-7b-instruct-v0:2                0.424023     100.0   \n",
       "5   anthropic.claude-3-sonnet-20240229-v1:0                0.433328     100.0   \n",
       "4    anthropic.claude-3-haiku-20240307-v1:0                0.400099     100.0   \n",
       "9                   meta.llama2-70b-chat-v1                0.438103     100.0   \n",
       "1                          ai21.j2-ultra-v1                0.418304      97.0   \n",
       "2              amazon.titan-text-express-v1                0.477337      97.0   \n",
       "8                   meta.llama2-13b-chat-v1                0.431822      90.0   \n",
       "11       mistral.mixtral-8x7b-instruct-v0:1                0.432573      90.0   \n",
       "7                   cohere.command-text-v14                0.338896      90.0   \n",
       "\n",
       "    error_rate  \n",
       "0          0.0  \n",
       "10         0.0  \n",
       "5          0.0  \n",
       "4          0.0  \n",
       "9          0.0  \n",
       "1          3.0  \n",
       "2          3.0  \n",
       "8         10.0  \n",
       "11        10.0  \n",
       "7         10.0  "
      ]
     },
     "execution_count": 149,
     "metadata": {},
     "output_type": "execute_result"
    }
   ],
   "source": [
    "# send the accuracy metrics to s3\n",
    "csv_buffer = io.StringIO()\n",
    "overall_accuracy_grouped_panel_df.to_csv(csv_buffer, index=False)\n",
    "overall_panel_result = csv_buffer.getvalue()\n",
    "overall_panel_accuracy_metrics_fpath = os.path.join(METRICS_DIR, PER_MODEL_ACCURACY_POLL)  # Define full S3 path\n",
    "\n",
    "# Write the CSV data to S3\n",
    "write_to_s3(overall_panel_result, BUCKET_NAME, \"\", \n",
    "            METRICS_DIR, PER_MODEL_ACCURACY_POLL)\n",
    "logger.info(f\"Overall accuracy and error rates results of each model sent to s3://{BUCKET_NAME}/{overall_panel_accuracy_metrics_fpath}\")\n",
    "overall_accuracy_grouped_panel_df.head(10)"
   ]
  },
  {
   "cell_type": "code",
   "execution_count": 150,
   "metadata": {
    "tags": []
   },
   "outputs": [],
   "source": [
    "# get accuracy statements\n",
    "# Rank models by accuracy\n",
    "ranked_models = overall_accuracy_grouped_panel_df.sort_values(by='accuracy', ascending=False)\n",
    "highest_accuracy = ranked_models['accuracy'].max()\n",
    "\n",
    "# Group models with the highest accuracy\n",
    "top_performers = ranked_models[ranked_models['accuracy'] == highest_accuracy]\n",
    "other_models = ranked_models[ranked_models['accuracy'] < highest_accuracy]\n",
    "final_ranking = pd.concat([top_performers, other_models])\n",
    "unique_judge_model_ids = per_panel_judgement_result_df['judge_model_id'].unique()\n",
    "PoLL_model_ids = ', '.join(map(str, unique_judge_model_ids))\n",
    "top_performing_model_ids = ', '.join(top_performers['candidate_model'].tolist())\n",
    "\n",
    "# cosine similarity score data\n",
    "highest_cosine_model = final_ranking.loc[final_ranking['mean_cosine_similarity'].idxmax()]\n",
    "highest_cosine_model_name = highest_cosine_model['candidate_model']\n",
    "highest_cosine_similarity = highest_cosine_model['mean_cosine_similarity']"
   ]
  },
  {
   "cell_type": "code",
   "execution_count": 151,
   "metadata": {
    "tags": []
   },
   "outputs": [],
   "source": [
    "if other_models.empty:\n",
    "    other_models = f\"All models performed the same with an accuracy of {highest_accuracy:.2f}.\""
   ]
  },
  {
   "cell_type": "code",
   "execution_count": 155,
   "metadata": {
    "tags": []
   },
   "outputs": [],
   "source": [
    "accuracy_statement = MAX_VOTING_RESULT_STATEMENT.format(\n",
    "    judge_model_ids=PoLL_model_ids,\n",
    "    highest_accuracy=highest_accuracy,\n",
    "    top_models=top_performers.to_string(index=False),\n",
    "    highest_cosine_similarity=round(highest_cosine_similarity, 4),\n",
    "    top_cosine_similarity_model=highest_cosine_model_name,\n",
    "    ranked_models=other_models.to_string(index=False),\n",
    "    top_performing_model_ids=top_performing_model_ids\n",
    ")"
   ]
  },
  {
   "cell_type": "code",
   "execution_count": 156,
   "metadata": {
    "tags": []
   },
   "outputs": [
    {
     "name": "stderr",
     "output_type": "stream",
     "text": [
      "[2024-07-12 17:55:31,862] p27460 {84484965.py:8} INFO - Overall accuracy and error rates results of each model sent to s3://sagemaker-fmbench-write-us-west-2-387192758086/fmbench-bedrock-fmbench-stack-us-west-2-role/data/metrics/yyyy=2024/mm=07/dd=12/hh=16/mm=35/overall_PoLL_report.txt\n"
     ]
    },
    {
     "name": "stdout",
     "output_type": "stream",
     "text": [
      " \n",
      "A Detailed Analysis of Model Performance Based on Accuracy using Panel of LLM Evaluators (PoLL):\n",
      "\n",
      "This accuracy benchmarking was done using a Panel of LLM evaluators. anthropic.claude-3-haiku-20240307-v1:0, cohere.command-r-v1:0, meta.llama3-70b-instruct-v1:0 were used as judges.\n",
      "\n",
      "Top Performing Models (100.0% Accuracy):\n",
      "                        candidate_model  mean_cosine_similarity  accuracy  error_rate\n",
      "                         ai21.j2-mid-v1                0.408040     100.0         0.0\n",
      "       mistral.mistral-7b-instruct-v0:2                0.424023     100.0         0.0\n",
      "anthropic.claude-3-sonnet-20240229-v1:0                0.433328     100.0         0.0\n",
      " anthropic.claude-3-haiku-20240307-v1:0                0.400099     100.0         0.0\n",
      "                meta.llama2-70b-chat-v1                0.438103     100.0         0.0\n",
      "\n",
      "Top Performing Model (0.5903 Cosine Similarity Score):\n",
      "cohere.command-light-text-v14\n",
      "\n",
      "Other Ranked Models:\n",
      "                   candidate_model  mean_cosine_similarity  accuracy  error_rate\n",
      "                  ai21.j2-ultra-v1                0.418304      97.0         3.0\n",
      "      amazon.titan-text-express-v1                0.477337      97.0         3.0\n",
      "           meta.llama2-13b-chat-v1                0.431822      90.0        10.0\n",
      "mistral.mixtral-8x7b-instruct-v0:1                0.432573      90.0        10.0\n",
      "           cohere.command-text-v14                0.338896      90.0        10.0\n",
      "         amazon.titan-text-lite-v1                0.537419      89.0        11.0\n",
      "     cohere.command-light-text-v14                0.590262      83.0        17.0\n",
      "\n",
      "Summary:\n",
      "The top-performing models, including ai21.j2-mid-v1, mistral.mistral-7b-instruct-v0:2, anthropic.claude-3-sonnet-20240229-v1:0, anthropic.claude-3-haiku-20240307-v1:0, meta.llama2-70b-chat-v1, have achieved 100.0% accuracy with no errors, setting a benchmark for accuracy. The remaining models are ranked based on their accuracy and error rates.\n",
      "\n"
     ]
    }
   ],
   "source": [
    "# send the overall accuracy report to s3\n",
    "txt_buffer = io.StringIO()\n",
    "txt_buffer.write(accuracy_statement)\n",
    "poll_txt_file_content = txt_buffer.getvalue()\n",
    "overall_panel_accuracy_metrics_fpath = os.path.join(METRICS_DIR, OVERALL_POLL_REPORT)\n",
    "write_to_s3(poll_txt_file_content, BUCKET_NAME, \"\", \n",
    "            METRICS_DIR, OVERALL_POLL_REPORT)\n",
    "logger.info(f\"Overall accuracy and error rates results of each model sent to s3://{BUCKET_NAME}/{overall_panel_accuracy_metrics_fpath}\")\n",
    "print(accuracy_statement)"
   ]
  }
 ],
 "metadata": {
  "availableInstances": [
   {
    "_defaultOrder": 0,
    "_isFastLaunch": true,
    "category": "General purpose",
    "gpuNum": 0,
    "hideHardwareSpecs": false,
    "memoryGiB": 4,
    "name": "ml.t3.medium",
    "vcpuNum": 2
   },
   {
    "_defaultOrder": 1,
    "_isFastLaunch": false,
    "category": "General purpose",
    "gpuNum": 0,
    "hideHardwareSpecs": false,
    "memoryGiB": 8,
    "name": "ml.t3.large",
    "vcpuNum": 2
   },
   {
    "_defaultOrder": 2,
    "_isFastLaunch": false,
    "category": "General purpose",
    "gpuNum": 0,
    "hideHardwareSpecs": false,
    "memoryGiB": 16,
    "name": "ml.t3.xlarge",
    "vcpuNum": 4
   },
   {
    "_defaultOrder": 3,
    "_isFastLaunch": false,
    "category": "General purpose",
    "gpuNum": 0,
    "hideHardwareSpecs": false,
    "memoryGiB": 32,
    "name": "ml.t3.2xlarge",
    "vcpuNum": 8
   },
   {
    "_defaultOrder": 4,
    "_isFastLaunch": true,
    "category": "General purpose",
    "gpuNum": 0,
    "hideHardwareSpecs": false,
    "memoryGiB": 8,
    "name": "ml.m5.large",
    "vcpuNum": 2
   },
   {
    "_defaultOrder": 5,
    "_isFastLaunch": false,
    "category": "General purpose",
    "gpuNum": 0,
    "hideHardwareSpecs": false,
    "memoryGiB": 16,
    "name": "ml.m5.xlarge",
    "vcpuNum": 4
   },
   {
    "_defaultOrder": 6,
    "_isFastLaunch": false,
    "category": "General purpose",
    "gpuNum": 0,
    "hideHardwareSpecs": false,
    "memoryGiB": 32,
    "name": "ml.m5.2xlarge",
    "vcpuNum": 8
   },
   {
    "_defaultOrder": 7,
    "_isFastLaunch": false,
    "category": "General purpose",
    "gpuNum": 0,
    "hideHardwareSpecs": false,
    "memoryGiB": 64,
    "name": "ml.m5.4xlarge",
    "vcpuNum": 16
   },
   {
    "_defaultOrder": 8,
    "_isFastLaunch": false,
    "category": "General purpose",
    "gpuNum": 0,
    "hideHardwareSpecs": false,
    "memoryGiB": 128,
    "name": "ml.m5.8xlarge",
    "vcpuNum": 32
   },
   {
    "_defaultOrder": 9,
    "_isFastLaunch": false,
    "category": "General purpose",
    "gpuNum": 0,
    "hideHardwareSpecs": false,
    "memoryGiB": 192,
    "name": "ml.m5.12xlarge",
    "vcpuNum": 48
   },
   {
    "_defaultOrder": 10,
    "_isFastLaunch": false,
    "category": "General purpose",
    "gpuNum": 0,
    "hideHardwareSpecs": false,
    "memoryGiB": 256,
    "name": "ml.m5.16xlarge",
    "vcpuNum": 64
   },
   {
    "_defaultOrder": 11,
    "_isFastLaunch": false,
    "category": "General purpose",
    "gpuNum": 0,
    "hideHardwareSpecs": false,
    "memoryGiB": 384,
    "name": "ml.m5.24xlarge",
    "vcpuNum": 96
   },
   {
    "_defaultOrder": 12,
    "_isFastLaunch": false,
    "category": "General purpose",
    "gpuNum": 0,
    "hideHardwareSpecs": false,
    "memoryGiB": 8,
    "name": "ml.m5d.large",
    "vcpuNum": 2
   },
   {
    "_defaultOrder": 13,
    "_isFastLaunch": false,
    "category": "General purpose",
    "gpuNum": 0,
    "hideHardwareSpecs": false,
    "memoryGiB": 16,
    "name": "ml.m5d.xlarge",
    "vcpuNum": 4
   },
   {
    "_defaultOrder": 14,
    "_isFastLaunch": false,
    "category": "General purpose",
    "gpuNum": 0,
    "hideHardwareSpecs": false,
    "memoryGiB": 32,
    "name": "ml.m5d.2xlarge",
    "vcpuNum": 8
   },
   {
    "_defaultOrder": 15,
    "_isFastLaunch": false,
    "category": "General purpose",
    "gpuNum": 0,
    "hideHardwareSpecs": false,
    "memoryGiB": 64,
    "name": "ml.m5d.4xlarge",
    "vcpuNum": 16
   },
   {
    "_defaultOrder": 16,
    "_isFastLaunch": false,
    "category": "General purpose",
    "gpuNum": 0,
    "hideHardwareSpecs": false,
    "memoryGiB": 128,
    "name": "ml.m5d.8xlarge",
    "vcpuNum": 32
   },
   {
    "_defaultOrder": 17,
    "_isFastLaunch": false,
    "category": "General purpose",
    "gpuNum": 0,
    "hideHardwareSpecs": false,
    "memoryGiB": 192,
    "name": "ml.m5d.12xlarge",
    "vcpuNum": 48
   },
   {
    "_defaultOrder": 18,
    "_isFastLaunch": false,
    "category": "General purpose",
    "gpuNum": 0,
    "hideHardwareSpecs": false,
    "memoryGiB": 256,
    "name": "ml.m5d.16xlarge",
    "vcpuNum": 64
   },
   {
    "_defaultOrder": 19,
    "_isFastLaunch": false,
    "category": "General purpose",
    "gpuNum": 0,
    "hideHardwareSpecs": false,
    "memoryGiB": 384,
    "name": "ml.m5d.24xlarge",
    "vcpuNum": 96
   },
   {
    "_defaultOrder": 20,
    "_isFastLaunch": false,
    "category": "General purpose",
    "gpuNum": 0,
    "hideHardwareSpecs": true,
    "memoryGiB": 0,
    "name": "ml.geospatial.interactive",
    "supportedImageNames": [
     "sagemaker-geospatial-v1-0"
    ],
    "vcpuNum": 0
   },
   {
    "_defaultOrder": 21,
    "_isFastLaunch": true,
    "category": "Compute optimized",
    "gpuNum": 0,
    "hideHardwareSpecs": false,
    "memoryGiB": 4,
    "name": "ml.c5.large",
    "vcpuNum": 2
   },
   {
    "_defaultOrder": 22,
    "_isFastLaunch": false,
    "category": "Compute optimized",
    "gpuNum": 0,
    "hideHardwareSpecs": false,
    "memoryGiB": 8,
    "name": "ml.c5.xlarge",
    "vcpuNum": 4
   },
   {
    "_defaultOrder": 23,
    "_isFastLaunch": false,
    "category": "Compute optimized",
    "gpuNum": 0,
    "hideHardwareSpecs": false,
    "memoryGiB": 16,
    "name": "ml.c5.2xlarge",
    "vcpuNum": 8
   },
   {
    "_defaultOrder": 24,
    "_isFastLaunch": false,
    "category": "Compute optimized",
    "gpuNum": 0,
    "hideHardwareSpecs": false,
    "memoryGiB": 32,
    "name": "ml.c5.4xlarge",
    "vcpuNum": 16
   },
   {
    "_defaultOrder": 25,
    "_isFastLaunch": false,
    "category": "Compute optimized",
    "gpuNum": 0,
    "hideHardwareSpecs": false,
    "memoryGiB": 72,
    "name": "ml.c5.9xlarge",
    "vcpuNum": 36
   },
   {
    "_defaultOrder": 26,
    "_isFastLaunch": false,
    "category": "Compute optimized",
    "gpuNum": 0,
    "hideHardwareSpecs": false,
    "memoryGiB": 96,
    "name": "ml.c5.12xlarge",
    "vcpuNum": 48
   },
   {
    "_defaultOrder": 27,
    "_isFastLaunch": false,
    "category": "Compute optimized",
    "gpuNum": 0,
    "hideHardwareSpecs": false,
    "memoryGiB": 144,
    "name": "ml.c5.18xlarge",
    "vcpuNum": 72
   },
   {
    "_defaultOrder": 28,
    "_isFastLaunch": false,
    "category": "Compute optimized",
    "gpuNum": 0,
    "hideHardwareSpecs": false,
    "memoryGiB": 192,
    "name": "ml.c5.24xlarge",
    "vcpuNum": 96
   },
   {
    "_defaultOrder": 29,
    "_isFastLaunch": true,
    "category": "Accelerated computing",
    "gpuNum": 1,
    "hideHardwareSpecs": false,
    "memoryGiB": 16,
    "name": "ml.g4dn.xlarge",
    "vcpuNum": 4
   },
   {
    "_defaultOrder": 30,
    "_isFastLaunch": false,
    "category": "Accelerated computing",
    "gpuNum": 1,
    "hideHardwareSpecs": false,
    "memoryGiB": 32,
    "name": "ml.g4dn.2xlarge",
    "vcpuNum": 8
   },
   {
    "_defaultOrder": 31,
    "_isFastLaunch": false,
    "category": "Accelerated computing",
    "gpuNum": 1,
    "hideHardwareSpecs": false,
    "memoryGiB": 64,
    "name": "ml.g4dn.4xlarge",
    "vcpuNum": 16
   },
   {
    "_defaultOrder": 32,
    "_isFastLaunch": false,
    "category": "Accelerated computing",
    "gpuNum": 1,
    "hideHardwareSpecs": false,
    "memoryGiB": 128,
    "name": "ml.g4dn.8xlarge",
    "vcpuNum": 32
   },
   {
    "_defaultOrder": 33,
    "_isFastLaunch": false,
    "category": "Accelerated computing",
    "gpuNum": 4,
    "hideHardwareSpecs": false,
    "memoryGiB": 192,
    "name": "ml.g4dn.12xlarge",
    "vcpuNum": 48
   },
   {
    "_defaultOrder": 34,
    "_isFastLaunch": false,
    "category": "Accelerated computing",
    "gpuNum": 1,
    "hideHardwareSpecs": false,
    "memoryGiB": 256,
    "name": "ml.g4dn.16xlarge",
    "vcpuNum": 64
   },
   {
    "_defaultOrder": 35,
    "_isFastLaunch": false,
    "category": "Accelerated computing",
    "gpuNum": 1,
    "hideHardwareSpecs": false,
    "memoryGiB": 61,
    "name": "ml.p3.2xlarge",
    "vcpuNum": 8
   },
   {
    "_defaultOrder": 36,
    "_isFastLaunch": false,
    "category": "Accelerated computing",
    "gpuNum": 4,
    "hideHardwareSpecs": false,
    "memoryGiB": 244,
    "name": "ml.p3.8xlarge",
    "vcpuNum": 32
   },
   {
    "_defaultOrder": 37,
    "_isFastLaunch": false,
    "category": "Accelerated computing",
    "gpuNum": 8,
    "hideHardwareSpecs": false,
    "memoryGiB": 488,
    "name": "ml.p3.16xlarge",
    "vcpuNum": 64
   },
   {
    "_defaultOrder": 38,
    "_isFastLaunch": false,
    "category": "Accelerated computing",
    "gpuNum": 8,
    "hideHardwareSpecs": false,
    "memoryGiB": 768,
    "name": "ml.p3dn.24xlarge",
    "vcpuNum": 96
   },
   {
    "_defaultOrder": 39,
    "_isFastLaunch": false,
    "category": "Memory Optimized",
    "gpuNum": 0,
    "hideHardwareSpecs": false,
    "memoryGiB": 16,
    "name": "ml.r5.large",
    "vcpuNum": 2
   },
   {
    "_defaultOrder": 40,
    "_isFastLaunch": false,
    "category": "Memory Optimized",
    "gpuNum": 0,
    "hideHardwareSpecs": false,
    "memoryGiB": 32,
    "name": "ml.r5.xlarge",
    "vcpuNum": 4
   },
   {
    "_defaultOrder": 41,
    "_isFastLaunch": false,
    "category": "Memory Optimized",
    "gpuNum": 0,
    "hideHardwareSpecs": false,
    "memoryGiB": 64,
    "name": "ml.r5.2xlarge",
    "vcpuNum": 8
   },
   {
    "_defaultOrder": 42,
    "_isFastLaunch": false,
    "category": "Memory Optimized",
    "gpuNum": 0,
    "hideHardwareSpecs": false,
    "memoryGiB": 128,
    "name": "ml.r5.4xlarge",
    "vcpuNum": 16
   },
   {
    "_defaultOrder": 43,
    "_isFastLaunch": false,
    "category": "Memory Optimized",
    "gpuNum": 0,
    "hideHardwareSpecs": false,
    "memoryGiB": 256,
    "name": "ml.r5.8xlarge",
    "vcpuNum": 32
   },
   {
    "_defaultOrder": 44,
    "_isFastLaunch": false,
    "category": "Memory Optimized",
    "gpuNum": 0,
    "hideHardwareSpecs": false,
    "memoryGiB": 384,
    "name": "ml.r5.12xlarge",
    "vcpuNum": 48
   },
   {
    "_defaultOrder": 45,
    "_isFastLaunch": false,
    "category": "Memory Optimized",
    "gpuNum": 0,
    "hideHardwareSpecs": false,
    "memoryGiB": 512,
    "name": "ml.r5.16xlarge",
    "vcpuNum": 64
   },
   {
    "_defaultOrder": 46,
    "_isFastLaunch": false,
    "category": "Memory Optimized",
    "gpuNum": 0,
    "hideHardwareSpecs": false,
    "memoryGiB": 768,
    "name": "ml.r5.24xlarge",
    "vcpuNum": 96
   },
   {
    "_defaultOrder": 47,
    "_isFastLaunch": false,
    "category": "Accelerated computing",
    "gpuNum": 1,
    "hideHardwareSpecs": false,
    "memoryGiB": 16,
    "name": "ml.g5.xlarge",
    "vcpuNum": 4
   },
   {
    "_defaultOrder": 48,
    "_isFastLaunch": false,
    "category": "Accelerated computing",
    "gpuNum": 1,
    "hideHardwareSpecs": false,
    "memoryGiB": 32,
    "name": "ml.g5.2xlarge",
    "vcpuNum": 8
   },
   {
    "_defaultOrder": 49,
    "_isFastLaunch": false,
    "category": "Accelerated computing",
    "gpuNum": 1,
    "hideHardwareSpecs": false,
    "memoryGiB": 64,
    "name": "ml.g5.4xlarge",
    "vcpuNum": 16
   },
   {
    "_defaultOrder": 50,
    "_isFastLaunch": false,
    "category": "Accelerated computing",
    "gpuNum": 1,
    "hideHardwareSpecs": false,
    "memoryGiB": 128,
    "name": "ml.g5.8xlarge",
    "vcpuNum": 32
   },
   {
    "_defaultOrder": 51,
    "_isFastLaunch": false,
    "category": "Accelerated computing",
    "gpuNum": 1,
    "hideHardwareSpecs": false,
    "memoryGiB": 256,
    "name": "ml.g5.16xlarge",
    "vcpuNum": 64
   },
   {
    "_defaultOrder": 52,
    "_isFastLaunch": false,
    "category": "Accelerated computing",
    "gpuNum": 4,
    "hideHardwareSpecs": false,
    "memoryGiB": 192,
    "name": "ml.g5.12xlarge",
    "vcpuNum": 48
   },
   {
    "_defaultOrder": 53,
    "_isFastLaunch": false,
    "category": "Accelerated computing",
    "gpuNum": 4,
    "hideHardwareSpecs": false,
    "memoryGiB": 384,
    "name": "ml.g5.24xlarge",
    "vcpuNum": 96
   },
   {
    "_defaultOrder": 54,
    "_isFastLaunch": false,
    "category": "Accelerated computing",
    "gpuNum": 8,
    "hideHardwareSpecs": false,
    "memoryGiB": 768,
    "name": "ml.g5.48xlarge",
    "vcpuNum": 192
   },
   {
    "_defaultOrder": 55,
    "_isFastLaunch": false,
    "category": "Accelerated computing",
    "gpuNum": 8,
    "hideHardwareSpecs": false,
    "memoryGiB": 1152,
    "name": "ml.p4d.24xlarge",
    "vcpuNum": 96
   },
   {
    "_defaultOrder": 56,
    "_isFastLaunch": false,
    "category": "Accelerated computing",
    "gpuNum": 8,
    "hideHardwareSpecs": false,
    "memoryGiB": 1152,
    "name": "ml.p4de.24xlarge",
    "vcpuNum": 96
   },
   {
    "_defaultOrder": 57,
    "_isFastLaunch": false,
    "category": "Accelerated computing",
    "gpuNum": 0,
    "hideHardwareSpecs": false,
    "memoryGiB": 32,
    "name": "ml.trn1.2xlarge",
    "vcpuNum": 8
   },
   {
    "_defaultOrder": 58,
    "_isFastLaunch": false,
    "category": "Accelerated computing",
    "gpuNum": 0,
    "hideHardwareSpecs": false,
    "memoryGiB": 512,
    "name": "ml.trn1.32xlarge",
    "vcpuNum": 128
   },
   {
    "_defaultOrder": 59,
    "_isFastLaunch": false,
    "category": "Accelerated computing",
    "gpuNum": 0,
    "hideHardwareSpecs": false,
    "memoryGiB": 512,
    "name": "ml.trn1n.32xlarge",
    "vcpuNum": 128
   }
  ],
  "instance_type": "ml.c5.large",
  "kernelspec": {
   "display_name": "conda_fmbench_eval_python311",
   "language": "python",
   "name": "conda_fmbench_eval_python311"
  },
  "language_info": {
   "codemirror_mode": {
    "name": "ipython",
    "version": 3
   },
   "file_extension": ".py",
   "mimetype": "text/x-python",
   "name": "python",
   "nbconvert_exporter": "python",
   "pygments_lexer": "ipython3",
   "version": "3.11.9"
  }
 },
 "nbformat": 4,
 "nbformat_minor": 4
}
