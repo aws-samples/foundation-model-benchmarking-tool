{
 "cells": [
  {
   "cell_type": "markdown",
   "metadata": {},
   "source": [
    "## Get Evaluations on all inference files and gather findings on quantitative metrics (such as _Cosine Similarity_) and subjective metrics on various criteria using _LLM as a judge_ - Max Voting & Average Pooling using PoLL (Panel of LLM Evaluators)\n",
    "\n",
    "---------------------\n",
    "*This notebook works best with the conda_python3 kernel on a ml.t3.medium machine*.\n",
    "\n",
    "#### This step of the solution focusses on getting evaluations on the quality of resposes. It does so by gathering the following information and performing the steps below:\n",
    "\n",
    "- **Gets all per inference request file**: This step first accesses and gets all of the per inference request files into a dataframe, containing the response from the LLM as well as the ground truth, if any is provided. \n",
    "\n",
    "- **Generates quantitative metrics for evaluation**: Calculate quantitative metrics to measure similarity and accuracy, for example _Cosine Similarity_. This helps in getting a quantitative overall score to the entire dataset in terms of which model generates outputs that are most similar and accurate to the ground truth (if any is provided). With this statistic, customers and users of the open source community can make business level judgements. \n",
    "\n",
    "- **Uses an _LLM as a judge_ approach to get subjective evaluations**: Refer to this [paper](https://arxiv.org/pdf/2404.18796). We use the following ways to evaluate the responses from the `candidate models` (models used to generate inferences)\n",
    "\n",
    "    1. **Max Voting**: When a dataset provides a ground truth, we use a technique called `Max Voting`. Here, we use PoLL, or a panel of LLM evaluators, from different model families to evaluate each candidate model's response based on whether it generates a `correct` or an `incorrect` answer simply based on ground truth comparisons. Using models from different families as a PoLL, increases it's evaluation ability to be close to that of a human evaluation, and eliminates the intra model bias.\n",
    "    \n",
    "    2. **Average Pooling**: When a dataset does not provide a ground truth, or if a task being evaluated needs to be given subjective level judgements, that is when we use `Average Pooling`. We use a specific subjective level criteria and then evaluate the candidate model responses on a scale of 1-5 for each PoLL. Using this, we get an average score and then can evaluate how each candidate model was scored based on the PoLL evaluations.\n",
    "    \n",
    "***All evaluations are generated in a JSON format for further downstream analytics on the evaluation results***"
   ]
  },
  {
   "cell_type": "markdown",
   "metadata": {},
   "source": [
    "#### Import all of the necessary libraries below to run this notebook"
   ]
  },
  {
   "cell_type": "code",
   "execution_count": 1,
   "metadata": {
    "tags": []
   },
   "outputs": [],
   "source": [
    "# if interactive mode is set to no -> pickup fmbench from Python installation path\n",
    "# if interactive mode is set to yes -> pickup fmbench from the current path (one level above this notebook)\n",
    "# if interactive mode is not defined -> pickup fmbench from the current path (one level above this notebook)\n",
    "# the premise is that if run non-interactively then it can only be run through main.py which will set interactive mode to no\n",
    "import os\n",
    "import sys\n",
    "if os.environ.get(\"INTERACTIVE_MODE_SET\", \"yes\") == \"yes\":\n",
    "    sys.path.append(os.path.dirname(os.getcwd()))"
   ]
  },
  {
   "cell_type": "code",
   "execution_count": 2,
   "metadata": {
    "tags": []
   },
   "outputs": [
    {
     "name": "stdout",
     "output_type": "stream",
     "text": [
      "region_name=us-west-2\n"
     ]
    },
    {
     "name": "stderr",
     "output_type": "stream",
     "text": [
      "You are using the default legacy behaviour of the <class 'transformers.models.llama.tokenization_llama_fast.LlamaTokenizerFast'>. This is expected, and simply means that the `legacy` (previous) behavior will be used so nothing changes for you. If you want to use the new behaviour, set `legacy=False`. This should only be set if you understand what it means, and thoroughly read the reason why this was added as explained in https://github.com/huggingface/transformers/pull/24565\n"
     ]
    },
    {
     "name": "stdout",
     "output_type": "stream",
     "text": [
      "role_arn_from_env=None, using current sts caller identity to set arn_string\n",
      "the sts role is an assumed role, setting arn_string to arn:aws:iam::387192758086:role/fmbench-stack-us-west-2-role\n",
      "config file current -> configs/bedrock/config-bedrock.yml, None\n",
      "loaded config: {'general': {'name': 'fmbench-bedrock', 'model_name': 'FMs available in Amazon Bedrock'}, 'aws': {'region': 'us-west-2', 'sagemaker_execution_role': 'arn:aws:iam::387192758086:role/fmbench-stack-us-west-2-role', 'bucket': 'sagemaker-fmbench-write-us-west-2-387192758086'}, 'dir_paths': {'data_prefix': 'data', 'prompts_prefix': 'prompts', 'all_prompts_file': 'all_prompts.csv', 'metrics_dir': 'metrics', 'models_dir': 'models', 'metadata_dir': 'metadata'}, 's3_read_data': {'read_bucket': 'sagemaker-fmbench-read-us-west-2-387192758086', 'scripts_prefix': 'scripts', 'script_files': ['hf_token.txt'], 'eval_prompts_dir': 'eval_criteria_prompts', 'eval_prompt_template_dir_list': ['claude_eval_prompt_templates', 'llama3_eval_prompt_templates', 'cohere_eval_prompt_templates'], 'eval_instructions_dir': 'eval_instructions', 'eval_instructions_files': ['evaluation_instructions_max_voting.txt', 'evaluation_instructions_avg_pooling.txt'], 'configs_prefix': 'configs', 'config_files': ['pricing.yml'], 'source_data_prefix': 'source_data', 'source_data_files': ['2wikimqa_e.jsonl', '2wikimqa.jsonl', 'hotpotqa_e.jsonl', 'hotpotqa.jsonl', 'narrativeqa.jsonl', 'triviaqa_e.jsonl', 'triviaqa.jsonl'], 'tokenizer_prefix': 'llama2_tokenizer', 'prompt_template_dir': 'prompt_template', 'prompt_template_file': 'prompt_template_llama2.txt'}, 'run_steps': {'0_setup.ipynb': True, '1_generate_data.ipynb': True, '2_deploy_model.ipynb': False, '3_run_inference.ipynb': True, '4_get_evaluations.ipynb': False, '5_model_metric_analysis.ipynb': False, '6_cleanup.ipynb': False}, 'datasets': {'prompt_template_keys': ['input', 'context'], 'max_iters_per_combination': 105, 'min_iters_per_combination': 5, 'filters': [{'language': 'en', 'min_length_in_tokens': 1, 'max_length_in_tokens': 500, 'payload_file': 'payload_en_1-500.jsonl'}, {'language': 'en', 'min_length_in_tokens': 500, 'max_length_in_tokens': 1000, 'payload_file': 'payload_en_500-1000.jsonl'}, {'language': 'en', 'min_length_in_tokens': 1000, 'max_length_in_tokens': 2000, 'payload_file': 'payload_en_1000-2000.jsonl'}, {'language': 'en', 'min_length_in_tokens': 2000, 'max_length_in_tokens': 3000, 'payload_file': 'payload_en_2000-3000.jsonl'}, {'language': 'en', 'min_length_in_tokens': 3000, 'max_length_in_tokens': 3840, 'payload_file': 'payload_en_3000-3840.jsonl'}]}, 'model_evaluations': {'ground_truth_col_key': 'answers', 'PoLL_Composition_and_Voting': {'method': 'max_voting'}, 'quantitative_eval_info': {'embeddings_model_id': {'model_id': 'sentence-transformers/all-mpnet-base-v2', 'is_hf': True}}, 'subjective_eval_info': {'judge_panel_list': [{'model_id': 'anthropic.claude-3-haiku-20240307-v1:0', 'eval_prompt_template_dir': 'claude_eval_prompt_templates', 'eval_prompt_template_name_prefix': 'claude_eval'}, {'model_id': 'meta.llama3-70b-instruct-v1:0', 'eval_prompt_template_dir': 'llama3_eval_prompt_templates', 'eval_prompt_template_name_prefix': 'llama3_eval'}, {'model_id': 'cohere.command-r-v1:0', 'eval_prompt_template_dir': 'cohere_eval_prompt_templates', 'eval_prompt_template_name_prefix': 'cohere_eval'}], 'inference_parameters': {'temperature': 0.1, 'max_tokens': 300, 'top_p': 0.92, 'caching': False}, 'run_parallel_inference_count': 10}}, 'metrics': {'dataset_of_interest': 'en_500-1000'}, 'pricing': 'pricing.yml', 'inference_parameters': {'bedrock': {'temperature': 0.1, 'max_tokens': 100, 'top_p': 0.92, 'caching': False}}, 'experiments': [{'name': 'mistral.mistral-7b-instruct-v0:2', 'model_id': 'mistral.mistral-7b-instruct-v0:2', 'model_version': '*', 'model_name': 'mistral.mistral-7b-instruct-v0:2', 'ep_name': 'mistral.mistral-7b-instruct-v0:2', 'instance_type': 'mistral.mistral-7b-instruct-v0:2', 'image_uri': None, 'deploy': False, 'instance_count': 1, 'deployment_script': None, 'inference_script': 'bedrock_predictor.py', 'inference_spec': {'split_input_and_parameters': False, 'parameter_set': 'bedrock', 'parameters': {'temperature': 0.1, 'max_tokens': 100, 'top_p': 0.92, 'caching': False}}, 'payload_files': ['payload_en_1-500.jsonl', 'payload_en_500-1000.jsonl'], 'concurrency_levels': [1, 2], 'env': None, 'bucket': 'sagemaker-fmbench-write-us-west-2-387192758086'}, {'name': 'mistral.mixtral-8x7b-instruct-v0:1', 'model_id': 'mistral.mixtral-8x7b-instruct-v0:1', 'model_version': '*', 'model_name': 'mistral.mixtral-8x7b-instruct-v0:1', 'ep_name': 'mistral.mixtral-8x7b-instruct-v0:1', 'instance_type': 'mistral.mixtral-8x7b-instruct-v0:1', 'image_uri': None, 'deploy': False, 'instance_count': 1, 'deployment_script': None, 'inference_script': 'bedrock_predictor.py', 'inference_spec': {'split_input_and_parameters': False, 'parameter_set': 'bedrock', 'parameters': {'temperature': 0.1, 'max_tokens': 100, 'top_p': 0.92, 'caching': False}}, 'payload_files': ['payload_en_1-500.jsonl', 'payload_en_500-1000.jsonl'], 'concurrency_levels': [1, 2], 'env': None, 'bucket': 'sagemaker-fmbench-write-us-west-2-387192758086'}, {'name': 'meta.llama2-13b-chat-v1', 'model_id': 'meta.llama2-13b-chat-v1', 'model_version': '*', 'model_name': 'meta.llama2-13b-chat-v1', 'ep_name': 'meta.llama2-13b-chat-v1', 'instance_type': 'meta.llama2-13b-chat-v1', 'image_uri': None, 'deploy': False, 'instance_count': None, 'deployment_script': None, 'inference_script': 'bedrock_predictor.py', 'inference_spec': {'split_input_and_parameters': False, 'parameter_set': 'bedrock', 'parameters': {'temperature': 0.1, 'max_tokens': 100, 'top_p': 0.92, 'caching': False}}, 'payload_files': ['payload_en_1-500.jsonl', 'payload_en_500-1000.jsonl'], 'concurrency_levels': [1, 2], 'env': None, 'bucket': 'sagemaker-fmbench-write-us-west-2-387192758086'}, {'name': 'meta.llama2-70b-chat-v1', 'model_id': 'meta.llama2-70b-chat-v1', 'model_version': '*', 'model_name': 'meta.llama2-70b-chat-v1', 'ep_name': 'meta.llama2-70b-chat-v1', 'instance_type': 'meta.llama2-70b-chat-v1', 'image_uri': None, 'deploy': False, 'instance_count': None, 'deployment_script': None, 'inference_script': 'bedrock_predictor.py', 'inference_spec': {'split_input_and_parameters': False, 'parameter_set': 'bedrock', 'parameters': {'temperature': 0.1, 'max_tokens': 100, 'top_p': 0.92, 'caching': False}}, 'payload_files': ['payload_en_1-500.jsonl', 'payload_en_500-1000.jsonl'], 'concurrency_levels': [1, 2], 'env': None, 'bucket': 'sagemaker-fmbench-write-us-west-2-387192758086'}, {'name': 'amazon.titan-text-lite-v1', 'model_id': 'amazon.titan-text-lite-v1', 'model_version': '*', 'model_name': 'amazon.titan-text-lite-v1', 'ep_name': 'amazon.titan-text-lite-v1', 'instance_type': 'amazon.titan-text-lite-v1', 'image_uri': None, 'deploy': False, 'instance_count': None, 'deployment_script': None, 'inference_script': 'bedrock_predictor.py', 'inference_spec': {'split_input_and_parameters': False, 'parameter_set': 'bedrock', 'parameters': {'temperature': 0.1, 'max_tokens': 100, 'top_p': 0.92, 'caching': False}}, 'payload_files': ['payload_en_1-500.jsonl', 'payload_en_500-1000.jsonl'], 'concurrency_levels': [1, 2], 'env': None, 'bucket': 'sagemaker-fmbench-write-us-west-2-387192758086'}, {'name': 'amazon.titan-text-express-v1', 'model_id': 'amazon.titan-text-express-v1', 'model_version': '*', 'model_name': 'amazon.titan-text-express-v1', 'ep_name': 'amazon.titan-text-express-v1', 'instance_type': 'amazon.titan-text-express-v1', 'image_uri': None, 'deploy': False, 'instance_count': None, 'deployment_script': None, 'inference_script': 'bedrock_predictor.py', 'inference_spec': {'split_input_and_parameters': False, 'parameter_set': 'bedrock', 'parameters': {'temperature': 0.1, 'max_tokens': 100, 'top_p': 0.92, 'caching': False}}, 'payload_files': ['payload_en_1-500.jsonl', 'payload_en_500-1000.jsonl'], 'concurrency_levels': [1, 2], 'env': None, 'bucket': 'sagemaker-fmbench-write-us-west-2-387192758086'}, {'name': 'anthropic.claude-3-sonnet-20240229-v1:0', 'model_id': 'anthropic.claude-3-sonnet-20240229-v1:0', 'model_version': '*', 'model_name': 'anthropic.claude-3-sonnet-20240229-v1:0', 'ep_name': 'anthropic.claude-3-sonnet-20240229-v1:0', 'instance_type': 'anthropic.claude-3-sonnet-20240229-v1:0', 'image_uri': None, 'deploy': False, 'instance_count': None, 'deployment_script': None, 'inference_script': 'bedrock_predictor.py', 'inference_spec': {'split_input_and_parameters': False, 'parameter_set': 'bedrock', 'parameters': {'temperature': 0.1, 'max_tokens': 100, 'top_p': 0.92, 'caching': False}}, 'payload_files': ['payload_en_1-500.jsonl', 'payload_en_500-1000.jsonl'], 'concurrency_levels': [1, 2], 'env': None, 'bucket': 'sagemaker-fmbench-write-us-west-2-387192758086'}, {'name': 'anthropic.claude-3-haiku-20240307-v1:0', 'model_id': 'anthropic.claude-3-haiku-20240307-v1:0', 'model_version': '*', 'model_name': 'anthropic.claude-3-haiku-20240307-v1:0', 'ep_name': 'anthropic.claude-3-haiku-20240307-v1:0', 'instance_type': 'anthropic.claude-3-haiku-20240307-v1:0', 'image_uri': None, 'deploy': False, 'instance_count': None, 'deployment_script': None, 'inference_script': 'bedrock_predictor.py', 'inference_spec': {'split_input_and_parameters': False, 'parameter_set': 'bedrock', 'parameters': {'temperature': 0.1, 'max_tokens': 100, 'top_p': 0.92, 'caching': False}}, 'payload_files': ['payload_en_1-500.jsonl', 'payload_en_500-1000.jsonl'], 'concurrency_levels': [1, 2], 'env': None, 'bucket': 'sagemaker-fmbench-write-us-west-2-387192758086'}, {'name': 'cohere.command-text-v14', 'model_id': 'cohere.command-text-v14', 'model_version': '*', 'model_name': 'cohere.command-text-v14', 'ep_name': 'cohere.command-text-v14', 'instance_type': 'cohere.command-text-v14', 'image_uri': None, 'deploy': False, 'instance_count': None, 'deployment_script': None, 'inference_script': 'bedrock_predictor.py', 'inference_spec': {'split_input_and_parameters': False, 'parameter_set': 'bedrock', 'parameters': {'temperature': 0.1, 'max_tokens': 100, 'top_p': 0.92, 'caching': False}}, 'payload_files': ['payload_en_1-500.jsonl', 'payload_en_500-1000.jsonl'], 'concurrency_levels': [1, 2], 'env': None, 'bucket': 'sagemaker-fmbench-write-us-west-2-387192758086'}, {'name': 'cohere.command-light-text-v14', 'model_id': 'cohere.command-light-text-v14', 'model_version': '*', 'model_name': 'cohere.command-light-text-v14', 'ep_name': 'cohere.command-light-text-v14', 'instance_type': 'cohere.command-light-text-v14', 'image_uri': None, 'deploy': False, 'instance_count': None, 'deployment_script': None, 'inference_script': 'bedrock_predictor.py', 'inference_spec': {'split_input_and_parameters': False, 'parameter_set': 'bedrock', 'parameters': {'temperature': 0.1, 'max_tokens': 100, 'top_p': 0.92, 'caching': False}}, 'payload_files': ['payload_en_1-500.jsonl', 'payload_en_500-1000.jsonl'], 'concurrency_levels': [1, 2], 'env': None, 'bucket': 'sagemaker-fmbench-write-us-west-2-387192758086'}, {'name': 'ai21.j2-mid-v1', 'model_id': 'ai21.j2-mid-v1', 'model_version': '*', 'model_name': 'ai21.j2-mid-v1', 'ep_name': 'ai21.j2-mid-v1', 'instance_type': 'ai21.j2-mid-v1', 'image_uri': None, 'deploy': False, 'instance_count': None, 'deployment_script': None, 'inference_script': 'bedrock_predictor.py', 'inference_spec': {'split_input_and_parameters': False, 'parameter_set': 'bedrock', 'parameters': {'temperature': 0.1, 'max_tokens': 100, 'top_p': 0.92, 'caching': False}}, 'payload_files': ['payload_en_1-500.jsonl', 'payload_en_500-1000.jsonl'], 'concurrency_levels': [1, 2], 'env': None, 'bucket': 'sagemaker-fmbench-write-us-west-2-387192758086'}, {'name': 'ai21.j2-ultra-v1', 'model_id': 'ai21.j2-ultra-v1', 'model_version': '*', 'model_name': 'ai21.j2-ultra-v1', 'ep_name': 'ai21.j2-ultra-v1', 'instance_type': 'ai21.j2-ultra-v1', 'image_uri': None, 'deploy': False, 'instance_count': None, 'deployment_script': None, 'inference_script': 'bedrock_predictor.py', 'inference_spec': {'split_input_and_parameters': False, 'parameter_set': 'bedrock', 'parameters': {'temperature': 0.1, 'max_tokens': 100, 'top_p': 0.92, 'caching': False}}, 'payload_files': ['payload_en_1-500.jsonl', 'payload_en_500-1000.jsonl'], 'concurrency_levels': [1, 2], 'env': None, 'bucket': 'sagemaker-fmbench-write-us-west-2-387192758086'}], 'report': {'latency_budget': 2, 'cost_per_10k_txn_budget': 50, 'error_rate_budget': 0, 'per_inference_request_file': 'per_inference_request_results.csv', 'all_metrics_file': 'all_metrics.csv', 'txn_count_for_showing_cost': 10000, 'v_shift_w_single_instance': 0.025, 'v_shift_w_gt_one_instance': 0.025}}\n",
      "CustomTokenizer, based on HF transformers, sagemaker-fmbench-read-us-west-2-387192758086 prefix: llama2_tokenizer local_dir: tokenizer\n",
      "CustomTokenizer, all_files = [PosixPath('tokenizer/tokenizer.json'), PosixPath('tokenizer/config.json')]\n",
      "loading the provided tokenizer from local_dir=tokenizer, abs_path=/home/ec2-user/SageMaker/foundation-model-benchmarking-tool/src/fmbench/tokenizer\n",
      "successfully loaded the tokenizer using AutoTokenizer.from_pretrained\n"
     ]
    }
   ],
   "source": [
    "import io\n",
    "import ray\n",
    "import math\n",
    "import time\n",
    "import json\n",
    "import torch\n",
    "import tempfile\n",
    "import datetime\n",
    "import matplotlib\n",
    "import numpy as np\n",
    "import pandas as pd\n",
    "from numpy import dot\n",
    "from numpy.linalg import norm\n",
    "from litellm import completion\n",
    "from sentence_transformers import SentenceTransformer\n",
    "\n",
    "# Import seaborn and other related libraries for visualizations and plotting charts\n",
    "import seaborn as sns\n",
    "from pathlib import Path\n",
    "from tomark import Tomark\n",
    "from fmbench.utils import *\n",
    "from fmbench.globals import *\n",
    "from datetime import datetime\n",
    "from datetime import timezone\n",
    "from dateutil.parser import parse\n",
    "from typing import List, Optional, Dict\n",
    "import importlib.resources as pkg_resources\n",
    "from fmbench import __version__ as fmbench_version"
   ]
  },
  {
   "cell_type": "code",
   "execution_count": 3,
   "metadata": {
    "tags": []
   },
   "outputs": [],
   "source": [
    "logging.basicConfig(format='[%(asctime)s] p%(process)s {%(filename)s:%(lineno)d} %(levelname)s - %(message)s', level=logging.INFO)\n",
    "logger = logging.getLogger(__name__)"
   ]
  },
  {
   "cell_type": "code",
   "execution_count": 4,
   "metadata": {
    "tags": []
   },
   "outputs": [
    {
     "name": "stderr",
     "output_type": "stream",
     "text": [
      "2024-07-12 15:10:16,816\tINFO worker.py:1788 -- Started a local Ray instance.\n"
     ]
    },
    {
     "data": {
      "application/vnd.jupyter.widget-view+json": {
       "model_id": "1a3de9f46d4d4a7ab4aec452e6ed5f4d",
       "version_major": 2,
       "version_minor": 0
      },
      "text/html": [
       "<div class=\"lm-Widget p-Widget lm-Panel p-Panel jp-Cell-outputWrapper\">\n",
       "    <div style=\"margin-left: 50px;display: flex;flex-direction: row;align-items: center\">\n",
       "        <div class=\"jp-RenderedHTMLCommon\" style=\"display: flex; flex-direction: row;\">\n",
       "  <svg viewBox=\"0 0 567 224\" fill=\"none\" xmlns=\"http://www.w3.org/2000/svg\" style=\"height: 3em;\">\n",
       "    <g clip-path=\"url(#clip0_4338_178347)\">\n",
       "        <path d=\"M341.29 165.561H355.29L330.13 129.051C345.63 123.991 354.21 112.051 354.21 94.2307C354.21 71.3707 338.72 58.1807 311.88 58.1807H271V165.561H283.27V131.661H311.8C314.25 131.661 316.71 131.501 319.01 131.351L341.25 165.561H341.29ZM283.29 119.851V70.0007H311.82C331.3 70.0007 342.34 78.2907 342.34 94.5507C342.34 111.271 331.34 119.861 311.82 119.861L283.29 119.851ZM451.4 138.411L463.4 165.561H476.74L428.74 58.1807H416L367.83 165.561H380.83L392.83 138.411H451.4ZM446.19 126.601H398L422 72.1407L446.24 126.601H446.19ZM526.11 128.741L566.91 58.1807H554.35L519.99 114.181L485.17 58.1807H472.44L514.01 129.181V165.541H526.13V128.741H526.11Z\" fill=\"var(--jp-ui-font-color0)\"/>\n",
       "        <path d=\"M82.35 104.44C84.0187 97.8827 87.8248 92.0678 93.1671 87.9146C98.5094 83.7614 105.083 81.5067 111.85 81.5067C118.617 81.5067 125.191 83.7614 130.533 87.9146C135.875 92.0678 139.681 97.8827 141.35 104.44H163.75C164.476 101.562 165.622 98.8057 167.15 96.2605L127.45 56.5605C121.071 60.3522 113.526 61.6823 106.235 60.3005C98.9443 58.9187 92.4094 54.9203 87.8602 49.0574C83.3109 43.1946 81.0609 35.8714 81.5332 28.4656C82.0056 21.0599 85.1679 14.0819 90.4252 8.8446C95.6824 3.60726 102.672 0.471508 110.08 0.0272655C117.487 -0.416977 124.802 1.86091 130.647 6.4324C136.493 11.0039 140.467 17.5539 141.821 24.8501C143.175 32.1463 141.816 39.6859 138 46.0505L177.69 85.7505C182.31 82.9877 187.58 81.4995 192.962 81.4375C198.345 81.3755 203.648 82.742 208.33 85.3976C213.012 88.0532 216.907 91.9029 219.616 96.5544C222.326 101.206 223.753 106.492 223.753 111.875C223.753 117.258 222.326 122.545 219.616 127.197C216.907 131.848 213.012 135.698 208.33 138.353C203.648 141.009 198.345 142.375 192.962 142.313C187.58 142.251 182.31 140.763 177.69 138L138 177.7C141.808 184.071 143.155 191.614 141.79 198.91C140.424 206.205 136.44 212.75 130.585 217.313C124.731 221.875 117.412 224.141 110.004 223.683C102.596 223.226 95.6103 220.077 90.3621 214.828C85.1139 209.58 81.9647 202.595 81.5072 195.187C81.0497 187.779 83.3154 180.459 87.878 174.605C92.4405 168.751 98.9853 164.766 106.281 163.401C113.576 162.035 121.119 163.383 127.49 167.19L167.19 127.49C165.664 124.941 164.518 122.182 163.79 119.3H141.39C139.721 125.858 135.915 131.673 130.573 135.826C125.231 139.98 118.657 142.234 111.89 142.234C105.123 142.234 98.5494 139.98 93.2071 135.826C87.8648 131.673 84.0587 125.858 82.39 119.3H60C58.1878 126.495 53.8086 132.78 47.6863 136.971C41.5641 141.163 34.1211 142.972 26.7579 142.059C19.3947 141.146 12.6191 137.574 7.70605 132.014C2.79302 126.454 0.0813599 119.29 0.0813599 111.87C0.0813599 104.451 2.79302 97.2871 7.70605 91.7272C12.6191 86.1673 19.3947 82.5947 26.7579 81.6817C34.1211 80.7686 41.5641 82.5781 47.6863 86.7696C53.8086 90.9611 58.1878 97.2456 60 104.44H82.35ZM100.86 204.32C103.407 206.868 106.759 208.453 110.345 208.806C113.93 209.159 117.527 208.258 120.522 206.256C123.517 204.254 125.725 201.276 126.771 197.828C127.816 194.38 127.633 190.677 126.253 187.349C124.874 184.021 122.383 181.274 119.205 179.577C116.027 177.88 112.359 177.337 108.826 178.042C105.293 178.746 102.113 180.654 99.8291 183.44C97.5451 186.226 96.2979 189.718 96.3 193.32C96.2985 195.364 96.7006 197.388 97.4831 199.275C98.2656 201.163 99.4132 202.877 100.86 204.32ZM204.32 122.88C206.868 120.333 208.453 116.981 208.806 113.396C209.159 109.811 208.258 106.214 206.256 103.219C204.254 100.223 201.275 98.0151 197.827 96.97C194.38 95.9249 190.676 96.1077 187.348 97.4873C184.02 98.8669 181.274 101.358 179.577 104.536C177.879 107.714 177.337 111.382 178.041 114.915C178.746 118.448 180.653 121.627 183.439 123.911C186.226 126.195 189.717 127.443 193.32 127.44C195.364 127.443 197.388 127.042 199.275 126.259C201.163 125.476 202.878 124.328 204.32 122.88ZM122.88 19.4205C120.333 16.8729 116.981 15.2876 113.395 14.9347C109.81 14.5817 106.213 15.483 103.218 17.4849C100.223 19.4868 98.0146 22.4654 96.9696 25.9131C95.9245 29.3608 96.1073 33.0642 97.4869 36.3922C98.8665 39.7202 101.358 42.4668 104.535 44.1639C107.713 45.861 111.381 46.4036 114.914 45.6992C118.447 44.9949 121.627 43.0871 123.911 40.301C126.195 37.515 127.442 34.0231 127.44 30.4205C127.44 28.3772 127.038 26.3539 126.255 24.4664C125.473 22.5788 124.326 20.8642 122.88 19.4205ZM19.42 100.86C16.8725 103.408 15.2872 106.76 14.9342 110.345C14.5813 113.93 15.4826 117.527 17.4844 120.522C19.4863 123.518 22.4649 125.726 25.9127 126.771C29.3604 127.816 33.0638 127.633 36.3918 126.254C39.7198 124.874 42.4664 122.383 44.1635 119.205C45.8606 116.027 46.4032 112.359 45.6988 108.826C44.9944 105.293 43.0866 102.114 40.3006 99.8296C37.5145 97.5455 34.0227 96.2983 30.42 96.3005C26.2938 96.3018 22.337 97.9421 19.42 100.86ZM100.86 100.86C98.3125 103.408 96.7272 106.76 96.3742 110.345C96.0213 113.93 96.9226 117.527 98.9244 120.522C100.926 123.518 103.905 125.726 107.353 126.771C110.8 127.816 114.504 127.633 117.832 126.254C121.16 124.874 123.906 122.383 125.604 119.205C127.301 116.027 127.843 112.359 127.139 108.826C126.434 105.293 124.527 102.114 121.741 99.8296C118.955 97.5455 115.463 96.2983 111.86 96.3005C109.817 96.299 107.793 96.701 105.905 97.4835C104.018 98.2661 102.303 99.4136 100.86 100.86Z\" fill=\"#00AEEF\"/>\n",
       "    </g>\n",
       "    <defs>\n",
       "        <clipPath id=\"clip0_4338_178347\">\n",
       "            <rect width=\"566.93\" height=\"223.75\" fill=\"white\"/>\n",
       "        </clipPath>\n",
       "    </defs>\n",
       "  </svg>\n",
       "</div>\n",
       "\n",
       "        <table class=\"jp-RenderedHTMLCommon\" style=\"border-collapse: collapse;color: var(--jp-ui-font-color1);font-size: var(--jp-ui-font-size1);\">\n",
       "    <tr>\n",
       "        <td style=\"text-align: left\"><b>Python version:</b></td>\n",
       "        <td style=\"text-align: left\"><b>3.11.9</b></td>\n",
       "    </tr>\n",
       "    <tr>\n",
       "        <td style=\"text-align: left\"><b>Ray version:</b></td>\n",
       "        <td style=\"text-align: left\"><b>2.32.0</b></td>\n",
       "    </tr>\n",
       "    \n",
       "</table>\n",
       "\n",
       "    </div>\n",
       "</div>\n"
      ],
      "text/plain": [
       "RayContext(dashboard_url='', python_version='3.11.9', ray_version='2.32.0', ray_commit='607f2f30f5f21543b6a5568ee77ea779eeba30a8')"
      ]
     },
     "execution_count": 4,
     "metadata": {},
     "output_type": "execute_result"
    },
    {
     "name": "stdout",
     "output_type": "stream",
     "text": [
      "\u001b[36m(async_run_eval pid=22633)\u001b[0m async_run_eval, i=4, total=10, judge_model_info=anthropic.claude-3-haiku-20240307-v1:0, eval_method: max_voting, uuid: 715d1d30b18244279ff5c0fbf112f245\n",
      "\u001b[36m(async_run_eval pid=22633)\u001b[0m run_eval, row 4/10, judge_model_id=anthropic.claude-3-haiku-20240307-v1:0, candidate model=mistral.mistral-7b-instruct-v0:2\n",
      "\u001b[36m(async_run_eval pid=22633)\u001b[0m get_inference, model_id=anthropic.claude-3-haiku-20240307-v1:0\n",
      "\u001b[36m(async_run_eval pid=22633)\u001b[0m Invoking bedrock/anthropic.claude-3-haiku-20240307-v1:0......\n",
      "\u001b[36m(async_run_eval pid=22631)\u001b[0m async_run_eval, i=5, total=10, judge_model_info=anthropic.claude-3-haiku-20240307-v1:0, eval_method: max_voting, uuid: ea46fe7df1c24763b2332d518096d818\u001b[32m [repeated 24x across cluster] (Ray deduplicates logs by default. Set RAY_DEDUP_LOGS=0 to disable log deduplication, or see https://docs.ray.io/en/master/ray-observability/user-guides/configure-logging.html#log-deduplication for more options.)\u001b[0m\n",
      "\u001b[36m(async_run_eval pid=22631)\u001b[0m run_eval, row 5/10, judge_model_id=anthropic.claude-3-haiku-20240307-v1:0, candidate model=mistral.mistral-7b-instruct-v0:2\u001b[32m [repeated 24x across cluster]\u001b[0m\n",
      "\u001b[36m(async_run_eval pid=22631)\u001b[0m get_inference, model_id=anthropic.claude-3-haiku-20240307-v1:0\u001b[32m [repeated 24x across cluster]\u001b[0m\n",
      "\u001b[36m(async_run_eval pid=22631)\u001b[0m Invoking bedrock/anthropic.claude-3-haiku-20240307-v1:0......\u001b[32m [repeated 24x across cluster]\u001b[0m\n",
      "\u001b[36m(async_run_eval pid=22632)\u001b[0m async_run_eval, i=7, total=10, judge_model_info=anthropic.claude-3-haiku-20240307-v1:0, eval_method: max_voting, uuid: 1639fc0cfba14bf0b1580d2bd2ad443d\u001b[32m [repeated 20x across cluster]\u001b[0m\n",
      "\u001b[36m(async_run_eval pid=22632)\u001b[0m run_eval, row 7/10, judge_model_id=anthropic.claude-3-haiku-20240307-v1:0, candidate model=mistral.mixtral-8x7b-instruct-v0:1\u001b[32m [repeated 20x across cluster]\u001b[0m\n",
      "\u001b[36m(async_run_eval pid=22632)\u001b[0m get_inference, model_id=anthropic.claude-3-haiku-20240307-v1:0\u001b[32m [repeated 20x across cluster]\u001b[0m\n",
      "\u001b[36m(async_run_eval pid=22632)\u001b[0m Invoking bedrock/anthropic.claude-3-haiku-20240307-v1:0......\u001b[32m [repeated 20x across cluster]\u001b[0m\n",
      "\u001b[36m(async_run_eval pid=22630)\u001b[0m async_run_eval, i=5, total=10, judge_model_info=anthropic.claude-3-haiku-20240307-v1:0, eval_method: max_voting, uuid: 168bee57f6704acda9183e66de503152\u001b[32m [repeated 20x across cluster]\u001b[0m\n",
      "\u001b[36m(async_run_eval pid=22630)\u001b[0m run_eval, row 5/10, judge_model_id=anthropic.claude-3-haiku-20240307-v1:0, candidate model=meta.llama2-13b-chat-v1\u001b[32m [repeated 20x across cluster]\u001b[0m\n",
      "\u001b[36m(async_run_eval pid=22630)\u001b[0m get_inference, model_id=anthropic.claude-3-haiku-20240307-v1:0\u001b[32m [repeated 20x across cluster]\u001b[0m\n",
      "\u001b[36m(async_run_eval pid=22630)\u001b[0m Invoking bedrock/anthropic.claude-3-haiku-20240307-v1:0......\u001b[32m [repeated 20x across cluster]\u001b[0m\n",
      "\u001b[36m(async_run_eval pid=22630)\u001b[0m async_run_eval, i=8, total=10, judge_model_info=anthropic.claude-3-haiku-20240307-v1:0, eval_method: max_voting, uuid: ecd1f7517ada4a1998e3e309fda90173\u001b[32m [repeated 23x across cluster]\u001b[0m\n",
      "\u001b[36m(async_run_eval pid=22630)\u001b[0m run_eval, row 8/10, judge_model_id=anthropic.claude-3-haiku-20240307-v1:0, candidate model=meta.llama2-13b-chat-v1\u001b[32m [repeated 23x across cluster]\u001b[0m\n",
      "\u001b[36m(async_run_eval pid=22630)\u001b[0m get_inference, model_id=anthropic.claude-3-haiku-20240307-v1:0\u001b[32m [repeated 23x across cluster]\u001b[0m\n",
      "\u001b[36m(async_run_eval pid=22630)\u001b[0m Invoking bedrock/anthropic.claude-3-haiku-20240307-v1:0......\u001b[32m [repeated 23x across cluster]\u001b[0m\n",
      "\u001b[36m(async_run_eval pid=22630)\u001b[0m async_run_eval, i=7, total=10, judge_model_info=anthropic.claude-3-haiku-20240307-v1:0, eval_method: max_voting, uuid: ca3c663a65cb45e49794c90f70f336df\u001b[32m [repeated 19x across cluster]\u001b[0m\n",
      "\u001b[36m(async_run_eval pid=22630)\u001b[0m run_eval, row 7/10, judge_model_id=anthropic.claude-3-haiku-20240307-v1:0, candidate model=meta.llama2-70b-chat-v1\u001b[32m [repeated 19x across cluster]\u001b[0m\n",
      "\u001b[36m(async_run_eval pid=22630)\u001b[0m get_inference, model_id=anthropic.claude-3-haiku-20240307-v1:0\u001b[32m [repeated 19x across cluster]\u001b[0m\n",
      "\u001b[36m(async_run_eval pid=22630)\u001b[0m Invoking bedrock/anthropic.claude-3-haiku-20240307-v1:0......\u001b[32m [repeated 19x across cluster]\u001b[0m\n",
      "\u001b[36m(async_run_eval pid=22630)\u001b[0m async_run_eval, i=8, total=10, judge_model_info=anthropic.claude-3-haiku-20240307-v1:0, eval_method: max_voting, uuid: 1dc5c956a05e4662873ff86a25a89c84\u001b[32m [repeated 21x across cluster]\u001b[0m\n",
      "\u001b[36m(async_run_eval pid=22630)\u001b[0m run_eval, row 8/10, judge_model_id=anthropic.claude-3-haiku-20240307-v1:0, candidate model=amazon.titan-text-lite-v1\u001b[32m [repeated 21x across cluster]\u001b[0m\n",
      "\u001b[36m(async_run_eval pid=22630)\u001b[0m get_inference, model_id=anthropic.claude-3-haiku-20240307-v1:0\u001b[32m [repeated 21x across cluster]\u001b[0m\n",
      "\u001b[36m(async_run_eval pid=22630)\u001b[0m Invoking bedrock/anthropic.claude-3-haiku-20240307-v1:0......\u001b[32m [repeated 21x across cluster]\u001b[0m\n",
      "\u001b[36m(async_run_eval pid=22630)\u001b[0m async_run_eval, i=8, total=10, judge_model_info=anthropic.claude-3-haiku-20240307-v1:0, eval_method: max_voting, uuid: 6811139eb05b4faeb2b6fadfe3bd9028\u001b[32m [repeated 20x across cluster]\u001b[0m\n",
      "\u001b[36m(async_run_eval pid=22630)\u001b[0m run_eval, row 8/10, judge_model_id=anthropic.claude-3-haiku-20240307-v1:0, candidate model=amazon.titan-text-lite-v1\u001b[32m [repeated 20x across cluster]\u001b[0m\n",
      "\u001b[36m(async_run_eval pid=22630)\u001b[0m get_inference, model_id=anthropic.claude-3-haiku-20240307-v1:0\u001b[32m [repeated 20x across cluster]\u001b[0m\n",
      "\u001b[36m(async_run_eval pid=22630)\u001b[0m Invoking bedrock/anthropic.claude-3-haiku-20240307-v1:0......\u001b[32m [repeated 20x across cluster]\u001b[0m\n",
      "\u001b[36m(async_run_eval pid=22633)\u001b[0m async_run_eval, i=7, total=10, judge_model_info=anthropic.claude-3-haiku-20240307-v1:0, eval_method: max_voting, uuid: 5c10c40acfe14369b0d10584824f9630\u001b[32m [repeated 17x across cluster]\u001b[0m\n",
      "\u001b[36m(async_run_eval pid=22633)\u001b[0m run_eval, row 7/10, judge_model_id=anthropic.claude-3-haiku-20240307-v1:0, candidate model=amazon.titan-text-express-v1\u001b[32m [repeated 17x across cluster]\u001b[0m\n",
      "\u001b[36m(async_run_eval pid=22633)\u001b[0m get_inference, model_id=anthropic.claude-3-haiku-20240307-v1:0\u001b[32m [repeated 17x across cluster]\u001b[0m\n",
      "\u001b[36m(async_run_eval pid=22633)\u001b[0m Invoking bedrock/anthropic.claude-3-haiku-20240307-v1:0......\u001b[32m [repeated 17x across cluster]\u001b[0m\n",
      "\u001b[36m(async_run_eval pid=22632)\u001b[0m async_run_eval, i=5, total=10, judge_model_info=anthropic.claude-3-haiku-20240307-v1:0, eval_method: max_voting, uuid: 0f4c4125bae746489433522f15a1cc2b\u001b[32m [repeated 20x across cluster]\u001b[0m\n",
      "\u001b[36m(async_run_eval pid=22632)\u001b[0m run_eval, row 5/10, judge_model_id=anthropic.claude-3-haiku-20240307-v1:0, candidate model=anthropic.claude-3-sonnet-20240229-v1:0\u001b[32m [repeated 20x across cluster]\u001b[0m\n",
      "\u001b[36m(async_run_eval pid=22632)\u001b[0m get_inference, model_id=anthropic.claude-3-haiku-20240307-v1:0\u001b[32m [repeated 20x across cluster]\u001b[0m\n",
      "\u001b[36m(async_run_eval pid=22632)\u001b[0m Invoking bedrock/anthropic.claude-3-haiku-20240307-v1:0......\u001b[32m [repeated 20x across cluster]\u001b[0m\n",
      "\u001b[36m(async_run_eval pid=22632)\u001b[0m async_run_eval, i=5, total=10, judge_model_info=anthropic.claude-3-haiku-20240307-v1:0, eval_method: max_voting, uuid: e8e1c241133448898a19115e42fe915f\u001b[32m [repeated 20x across cluster]\u001b[0m\n",
      "\u001b[36m(async_run_eval pid=22632)\u001b[0m run_eval, row 5/10, judge_model_id=anthropic.claude-3-haiku-20240307-v1:0, candidate model=anthropic.claude-3-sonnet-20240229-v1:0\u001b[32m [repeated 20x across cluster]\u001b[0m\n",
      "\u001b[36m(async_run_eval pid=22632)\u001b[0m get_inference, model_id=anthropic.claude-3-haiku-20240307-v1:0\u001b[32m [repeated 20x across cluster]\u001b[0m\n",
      "\u001b[36m(async_run_eval pid=22632)\u001b[0m Invoking bedrock/anthropic.claude-3-haiku-20240307-v1:0......\u001b[32m [repeated 20x across cluster]\u001b[0m\n",
      "\u001b[36m(async_run_eval pid=22633)\u001b[0m async_run_eval, i=1, total=10, judge_model_info=anthropic.claude-3-haiku-20240307-v1:0, eval_method: max_voting, uuid: 374740e7f9df4ea2a560593568681599\u001b[32m [repeated 16x across cluster]\u001b[0m\n",
      "\u001b[36m(async_run_eval pid=22633)\u001b[0m run_eval, row 1/10, judge_model_id=anthropic.claude-3-haiku-20240307-v1:0, candidate model=anthropic.claude-3-haiku-20240307-v1:0\u001b[32m [repeated 16x across cluster]\u001b[0m\n",
      "\u001b[36m(async_run_eval pid=22633)\u001b[0m get_inference, model_id=anthropic.claude-3-haiku-20240307-v1:0\u001b[32m [repeated 16x across cluster]\u001b[0m\n",
      "\u001b[36m(async_run_eval pid=22633)\u001b[0m Invoking bedrock/anthropic.claude-3-haiku-20240307-v1:0......\u001b[32m [repeated 16x across cluster]\u001b[0m\n",
      "\u001b[36m(async_run_eval pid=22633)\u001b[0m async_run_eval, i=4, total=10, judge_model_info=anthropic.claude-3-haiku-20240307-v1:0, eval_method: max_voting, uuid: 862e40cb22f748fe95192d16f68293cc\u001b[32m [repeated 20x across cluster]\u001b[0m\n",
      "\u001b[36m(async_run_eval pid=22633)\u001b[0m run_eval, row 4/10, judge_model_id=anthropic.claude-3-haiku-20240307-v1:0, candidate model=cohere.command-text-v14\u001b[32m [repeated 20x across cluster]\u001b[0m\n",
      "\u001b[36m(async_run_eval pid=22633)\u001b[0m get_inference, model_id=anthropic.claude-3-haiku-20240307-v1:0\u001b[32m [repeated 20x across cluster]\u001b[0m\n",
      "\u001b[36m(async_run_eval pid=22633)\u001b[0m Invoking bedrock/anthropic.claude-3-haiku-20240307-v1:0......\u001b[32m [repeated 20x across cluster]\u001b[0m\n",
      "\u001b[36m(async_run_eval pid=22633)\u001b[0m async_run_eval, i=5, total=10, judge_model_info=anthropic.claude-3-haiku-20240307-v1:0, eval_method: max_voting, uuid: ca33fb3d920a47a9ab6cfbe09e0a0bb3\u001b[32m [repeated 24x across cluster]\u001b[0m\n",
      "\u001b[36m(async_run_eval pid=22633)\u001b[0m run_eval, row 5/10, judge_model_id=anthropic.claude-3-haiku-20240307-v1:0, candidate model=cohere.command-text-v14\u001b[32m [repeated 24x across cluster]\u001b[0m\n",
      "\u001b[36m(async_run_eval pid=22633)\u001b[0m get_inference, model_id=anthropic.claude-3-haiku-20240307-v1:0\u001b[32m [repeated 24x across cluster]\u001b[0m\n",
      "\u001b[36m(async_run_eval pid=22633)\u001b[0m Invoking bedrock/anthropic.claude-3-haiku-20240307-v1:0......\u001b[32m [repeated 24x across cluster]\u001b[0m\n",
      "\u001b[36m(async_run_eval pid=22630)\u001b[0m async_run_eval, i=3, total=10, judge_model_info=anthropic.claude-3-haiku-20240307-v1:0, eval_method: max_voting, uuid: 6c18e3f64cf749e6b822a76901f56410\u001b[32m [repeated 19x across cluster]\u001b[0m\n",
      "\u001b[36m(async_run_eval pid=22630)\u001b[0m run_eval, row 3/10, judge_model_id=anthropic.claude-3-haiku-20240307-v1:0, candidate model=cohere.command-light-text-v14\u001b[32m [repeated 19x across cluster]\u001b[0m\n",
      "\u001b[36m(async_run_eval pid=22630)\u001b[0m get_inference, model_id=anthropic.claude-3-haiku-20240307-v1:0\u001b[32m [repeated 19x across cluster]\u001b[0m\n",
      "\u001b[36m(async_run_eval pid=22633)\u001b[0m Invoking bedrock/anthropic.claude-3-haiku-20240307-v1:0......\u001b[32m [repeated 16x across cluster]\u001b[0m\n",
      "\u001b[36m(async_run_eval pid=22633)\u001b[0m async_run_eval, i=4, total=10, judge_model_info=anthropic.claude-3-haiku-20240307-v1:0, eval_method: max_voting, uuid: 774e74a333794ac5b199bba80802baee\u001b[32m [repeated 17x across cluster]\u001b[0m\n",
      "\u001b[36m(async_run_eval pid=22633)\u001b[0m run_eval, row 4/10, judge_model_id=anthropic.claude-3-haiku-20240307-v1:0, candidate model=ai21.j2-mid-v1\u001b[32m [repeated 17x across cluster]\u001b[0m\n",
      "\u001b[36m(async_run_eval pid=22633)\u001b[0m get_inference, model_id=anthropic.claude-3-haiku-20240307-v1:0\u001b[32m [repeated 17x across cluster]\u001b[0m\n",
      "\u001b[36m(async_run_eval pid=22633)\u001b[0m Invoking bedrock/anthropic.claude-3-haiku-20240307-v1:0......\u001b[32m [repeated 20x across cluster]\u001b[0m\n",
      "\u001b[36m(async_run_eval pid=22630)\u001b[0m async_run_eval, i=5, total=10, judge_model_info=anthropic.claude-3-haiku-20240307-v1:0, eval_method: max_voting, uuid: 4dead8f6db6c43f2b0832ffd8e70d3f7\u001b[32m [repeated 24x across cluster]\u001b[0m\n",
      "\u001b[36m(async_run_eval pid=22630)\u001b[0m run_eval, row 5/10, judge_model_id=anthropic.claude-3-haiku-20240307-v1:0, candidate model=ai21.j2-mid-v1\u001b[32m [repeated 24x across cluster]\u001b[0m\n",
      "\u001b[36m(async_run_eval pid=22630)\u001b[0m get_inference, model_id=anthropic.claude-3-haiku-20240307-v1:0\u001b[32m [repeated 24x across cluster]\u001b[0m\n",
      "\u001b[36m(async_run_eval pid=22630)\u001b[0m Invoking bedrock/anthropic.claude-3-haiku-20240307-v1:0......\u001b[32m [repeated 24x across cluster]\u001b[0m\n",
      "\u001b[36m(async_run_eval pid=22633)\u001b[0m async_run_eval, i=10, total=10, judge_model_info=anthropic.claude-3-haiku-20240307-v1:0, eval_method: max_voting, uuid: 20728961d4e3476a85fba5d614c876fb\u001b[32m [repeated 24x across cluster]\u001b[0m\n",
      "\u001b[36m(async_run_eval pid=22633)\u001b[0m run_eval, row 10/10, judge_model_id=anthropic.claude-3-haiku-20240307-v1:0, candidate model=ai21.j2-ultra-v1\u001b[32m [repeated 24x across cluster]\u001b[0m\n",
      "\u001b[36m(async_run_eval pid=22633)\u001b[0m get_inference, model_id=anthropic.claude-3-haiku-20240307-v1:0\u001b[32m [repeated 24x across cluster]\u001b[0m\n",
      "\u001b[36m(async_run_eval pid=22633)\u001b[0m Invoking bedrock/anthropic.claude-3-haiku-20240307-v1:0......\u001b[32m [repeated 24x across cluster]\u001b[0m\n",
      "\u001b[36m(async_run_eval pid=22630)\u001b[0m async_run_eval, i=8, total=10, judge_model_info=meta.llama3-70b-instruct-v1:0, eval_method: max_voting, uuid: 3ba8c602ceb241378b6274e1837aa38f\u001b[32m [repeated 19x across cluster]\u001b[0m\n",
      "\u001b[36m(async_run_eval pid=22630)\u001b[0m run_eval, row 8/10, judge_model_id=meta.llama3-70b-instruct-v1:0, candidate model=mistral.mistral-7b-instruct-v0:2\u001b[32m [repeated 19x across cluster]\u001b[0m\n",
      "\u001b[36m(async_run_eval pid=22630)\u001b[0m get_inference, model_id=meta.llama3-70b-instruct-v1:0\u001b[32m [repeated 19x across cluster]\u001b[0m\n",
      "\u001b[36m(async_run_eval pid=22630)\u001b[0m Invoking bedrock/meta.llama3-70b-instruct-v1:0......\u001b[32m [repeated 19x across cluster]\u001b[0m\n",
      "\u001b[36m(async_run_eval pid=22633)\u001b[0m async_run_eval, i=3, total=10, judge_model_info=meta.llama3-70b-instruct-v1:0, eval_method: max_voting, uuid: 77e0d7f97efd4ac0a16d113fadb4e767\u001b[32m [repeated 13x across cluster]\u001b[0m\n",
      "\u001b[36m(async_run_eval pid=22633)\u001b[0m run_eval, row 3/10, judge_model_id=meta.llama3-70b-instruct-v1:0, candidate model=mistral.mistral-7b-instruct-v0:2\u001b[32m [repeated 13x across cluster]\u001b[0m\n",
      "\u001b[36m(async_run_eval pid=22633)\u001b[0m get_inference, model_id=meta.llama3-70b-instruct-v1:0\u001b[32m [repeated 13x across cluster]\u001b[0m\n",
      "\u001b[36m(async_run_eval pid=22633)\u001b[0m Invoking bedrock/meta.llama3-70b-instruct-v1:0......\u001b[32m [repeated 13x across cluster]\u001b[0m\n",
      "\u001b[36m(async_run_eval pid=22633)\u001b[0m async_run_eval, i=1, total=10, judge_model_info=meta.llama3-70b-instruct-v1:0, eval_method: max_voting, uuid: 93ecf77e346f45d68a61dddab47be61f\u001b[32m [repeated 10x across cluster]\u001b[0m\n",
      "\u001b[36m(async_run_eval pid=22633)\u001b[0m run_eval, row 1/10, judge_model_id=meta.llama3-70b-instruct-v1:0, candidate model=mistral.mixtral-8x7b-instruct-v0:1\u001b[32m [repeated 10x across cluster]\u001b[0m\n",
      "\u001b[36m(async_run_eval pid=22633)\u001b[0m get_inference, model_id=meta.llama3-70b-instruct-v1:0\u001b[32m [repeated 10x across cluster]\u001b[0m\n",
      "\u001b[36m(async_run_eval pid=22633)\u001b[0m Invoking bedrock/meta.llama3-70b-instruct-v1:0......\u001b[32m [repeated 10x across cluster]\u001b[0m\n",
      "\u001b[36m(async_run_eval pid=22633)\u001b[0m async_run_eval, i=6, total=10, judge_model_info=meta.llama3-70b-instruct-v1:0, eval_method: max_voting, uuid: 3b4394dd39ff4762b96d755a5e08d878\u001b[32m [repeated 14x across cluster]\u001b[0m\n",
      "\u001b[36m(async_run_eval pid=22633)\u001b[0m run_eval, row 6/10, judge_model_id=meta.llama3-70b-instruct-v1:0, candidate model=mistral.mixtral-8x7b-instruct-v0:1\u001b[32m [repeated 14x across cluster]\u001b[0m\n",
      "\u001b[36m(async_run_eval pid=22633)\u001b[0m get_inference, model_id=meta.llama3-70b-instruct-v1:0\u001b[32m [repeated 14x across cluster]\u001b[0m\n",
      "\u001b[36m(async_run_eval pid=22633)\u001b[0m Invoking bedrock/meta.llama3-70b-instruct-v1:0......\u001b[32m [repeated 14x across cluster]\u001b[0m\n",
      "\u001b[36m(async_run_eval pid=22633)\u001b[0m async_run_eval, i=8, total=10, judge_model_info=meta.llama3-70b-instruct-v1:0, eval_method: max_voting, uuid: 3049f7b969444a32b8713d96624511db\u001b[32m [repeated 13x across cluster]\u001b[0m\n",
      "\u001b[36m(async_run_eval pid=22633)\u001b[0m run_eval, row 8/10, judge_model_id=meta.llama3-70b-instruct-v1:0, candidate model=mistral.mixtral-8x7b-instruct-v0:1\u001b[32m [repeated 13x across cluster]\u001b[0m\n",
      "\u001b[36m(async_run_eval pid=22633)\u001b[0m get_inference, model_id=meta.llama3-70b-instruct-v1:0\u001b[32m [repeated 13x across cluster]\u001b[0m\n",
      "\u001b[36m(async_run_eval pid=22633)\u001b[0m Invoking bedrock/meta.llama3-70b-instruct-v1:0......\u001b[32m [repeated 13x across cluster]\u001b[0m\n",
      "\u001b[36m(async_run_eval pid=22631)\u001b[0m async_run_eval, i=10, total=10, judge_model_info=meta.llama3-70b-instruct-v1:0, eval_method: max_voting, uuid: 71baf06b9c864c0eaab87ba8a977907f\u001b[32m [repeated 12x across cluster]\u001b[0m\n",
      "\u001b[36m(async_run_eval pid=22631)\u001b[0m run_eval, row 10/10, judge_model_id=meta.llama3-70b-instruct-v1:0, candidate model=meta.llama2-13b-chat-v1\u001b[32m [repeated 12x across cluster]\u001b[0m\n",
      "\u001b[36m(async_run_eval pid=22631)\u001b[0m get_inference, model_id=meta.llama3-70b-instruct-v1:0\u001b[32m [repeated 12x across cluster]\u001b[0m\n",
      "\u001b[36m(async_run_eval pid=22631)\u001b[0m Invoking bedrock/meta.llama3-70b-instruct-v1:0......\u001b[32m [repeated 12x across cluster]\u001b[0m\n",
      "\u001b[36m(async_run_eval pid=22633)\u001b[0m async_run_eval, i=3, total=10, judge_model_info=meta.llama3-70b-instruct-v1:0, eval_method: max_voting, uuid: 32bddaec80cc4b92b95dce17d5426778\u001b[32m [repeated 11x across cluster]\u001b[0m\n",
      "\u001b[36m(async_run_eval pid=22633)\u001b[0m run_eval, row 3/10, judge_model_id=meta.llama3-70b-instruct-v1:0, candidate model=meta.llama2-13b-chat-v1\u001b[32m [repeated 11x across cluster]\u001b[0m\n",
      "\u001b[36m(async_run_eval pid=22633)\u001b[0m get_inference, model_id=meta.llama3-70b-instruct-v1:0\u001b[32m [repeated 11x across cluster]\u001b[0m\n",
      "\u001b[36m(async_run_eval pid=22633)\u001b[0m Invoking bedrock/meta.llama3-70b-instruct-v1:0......\u001b[32m [repeated 11x across cluster]\u001b[0m\n",
      "\u001b[36m(async_run_eval pid=22633)\u001b[0m async_run_eval, i=2, total=10, judge_model_info=meta.llama3-70b-instruct-v1:0, eval_method: max_voting, uuid: dd0108afb67843638a6af5c7d36a191c\u001b[32m [repeated 10x across cluster]\u001b[0m\n",
      "\u001b[36m(async_run_eval pid=22633)\u001b[0m run_eval, row 2/10, judge_model_id=meta.llama3-70b-instruct-v1:0, candidate model=meta.llama2-70b-chat-v1\u001b[32m [repeated 10x across cluster]\u001b[0m\n",
      "\u001b[36m(async_run_eval pid=22633)\u001b[0m get_inference, model_id=meta.llama3-70b-instruct-v1:0\u001b[32m [repeated 10x across cluster]\u001b[0m\n",
      "\u001b[36m(async_run_eval pid=22633)\u001b[0m Invoking bedrock/meta.llama3-70b-instruct-v1:0......\u001b[32m [repeated 10x across cluster]\u001b[0m\n",
      "\u001b[36m(async_run_eval pid=22633)\u001b[0m async_run_eval, i=6, total=10, judge_model_info=meta.llama3-70b-instruct-v1:0, eval_method: max_voting, uuid: fbd34375ec3b4b7b8b5f66ad64726b5a\u001b[32m [repeated 14x across cluster]\u001b[0m\n",
      "\u001b[36m(async_run_eval pid=22633)\u001b[0m run_eval, row 6/10, judge_model_id=meta.llama3-70b-instruct-v1:0, candidate model=meta.llama2-70b-chat-v1\u001b[32m [repeated 14x across cluster]\u001b[0m\n",
      "\u001b[36m(async_run_eval pid=22633)\u001b[0m get_inference, model_id=meta.llama3-70b-instruct-v1:0\u001b[32m [repeated 14x across cluster]\u001b[0m\n",
      "\u001b[36m(async_run_eval pid=22633)\u001b[0m Invoking bedrock/meta.llama3-70b-instruct-v1:0......\u001b[32m [repeated 14x across cluster]\u001b[0m\n",
      "\u001b[36m(async_run_eval pid=22633)\u001b[0m async_run_eval, i=9, total=10, judge_model_info=meta.llama3-70b-instruct-v1:0, eval_method: max_voting, uuid: 794a7e9a2e184aa68e0444a00c546034\u001b[32m [repeated 14x across cluster]\u001b[0m\n",
      "\u001b[36m(async_run_eval pid=22633)\u001b[0m run_eval, row 9/10, judge_model_id=meta.llama3-70b-instruct-v1:0, candidate model=meta.llama2-70b-chat-v1\u001b[32m [repeated 14x across cluster]\u001b[0m\n",
      "\u001b[36m(async_run_eval pid=22633)\u001b[0m get_inference, model_id=meta.llama3-70b-instruct-v1:0\u001b[32m [repeated 14x across cluster]\u001b[0m\n",
      "\u001b[36m(async_run_eval pid=22633)\u001b[0m Invoking bedrock/meta.llama3-70b-instruct-v1:0......\u001b[32m [repeated 14x across cluster]\u001b[0m\n",
      "\u001b[36m(async_run_eval pid=22633)\u001b[0m async_run_eval, i=4, total=10, judge_model_info=meta.llama3-70b-instruct-v1:0, eval_method: max_voting, uuid: 750edd1d1df14bb99dd8199e70cf8527\u001b[32m [repeated 12x across cluster]\u001b[0m\n",
      "\u001b[36m(async_run_eval pid=22633)\u001b[0m run_eval, row 4/10, judge_model_id=meta.llama3-70b-instruct-v1:0, candidate model=amazon.titan-text-lite-v1\u001b[32m [repeated 12x across cluster]\u001b[0m\n",
      "\u001b[36m(async_run_eval pid=22633)\u001b[0m get_inference, model_id=meta.llama3-70b-instruct-v1:0\u001b[32m [repeated 12x across cluster]\u001b[0m\n",
      "\u001b[36m(async_run_eval pid=22633)\u001b[0m Invoking bedrock/meta.llama3-70b-instruct-v1:0......\u001b[32m [repeated 12x across cluster]\u001b[0m\n",
      "\u001b[36m(async_run_eval pid=22633)\u001b[0m async_run_eval, i=6, total=10, judge_model_info=meta.llama3-70b-instruct-v1:0, eval_method: max_voting, uuid: 1315dd3a78c544bf843510b7acce243f\u001b[32m [repeated 14x across cluster]\u001b[0m\n",
      "\u001b[36m(async_run_eval pid=22633)\u001b[0m run_eval, row 6/10, judge_model_id=meta.llama3-70b-instruct-v1:0, candidate model=amazon.titan-text-lite-v1\u001b[32m [repeated 14x across cluster]\u001b[0m\n",
      "\u001b[36m(async_run_eval pid=22633)\u001b[0m get_inference, model_id=meta.llama3-70b-instruct-v1:0\u001b[32m [repeated 14x across cluster]\u001b[0m\n",
      "\u001b[36m(async_run_eval pid=22633)\u001b[0m Invoking bedrock/meta.llama3-70b-instruct-v1:0......\u001b[32m [repeated 14x across cluster]\u001b[0m\n",
      "\u001b[36m(async_run_eval pid=22633)\u001b[0m async_run_eval, i=2, total=10, judge_model_info=meta.llama3-70b-instruct-v1:0, eval_method: max_voting, uuid: 8568a93534e1414288b26d8abb10fd1b\u001b[32m [repeated 6x across cluster]\u001b[0m\n",
      "\u001b[36m(async_run_eval pid=22633)\u001b[0m run_eval, row 2/10, judge_model_id=meta.llama3-70b-instruct-v1:0, candidate model=amazon.titan-text-express-v1\u001b[32m [repeated 6x across cluster]\u001b[0m\n",
      "\u001b[36m(async_run_eval pid=22633)\u001b[0m get_inference, model_id=meta.llama3-70b-instruct-v1:0\u001b[32m [repeated 6x across cluster]\u001b[0m\n",
      "\u001b[36m(async_run_eval pid=22633)\u001b[0m Invoking bedrock/meta.llama3-70b-instruct-v1:0......\u001b[32m [repeated 6x across cluster]\u001b[0m\n",
      "\u001b[36m(async_run_eval pid=22633)\u001b[0m async_run_eval, i=1, total=10, judge_model_info=meta.llama3-70b-instruct-v1:0, eval_method: max_voting, uuid: d1a5333683174ad28d21b2a40319124b\u001b[32m [repeated 10x across cluster]\u001b[0m\n",
      "\u001b[36m(async_run_eval pid=22633)\u001b[0m run_eval, row 1/10, judge_model_id=meta.llama3-70b-instruct-v1:0, candidate model=amazon.titan-text-express-v1\u001b[32m [repeated 10x across cluster]\u001b[0m\n",
      "\u001b[36m(async_run_eval pid=22633)\u001b[0m get_inference, model_id=meta.llama3-70b-instruct-v1:0\u001b[32m [repeated 10x across cluster]\u001b[0m\n",
      "\u001b[36m(async_run_eval pid=22633)\u001b[0m Invoking bedrock/meta.llama3-70b-instruct-v1:0......\u001b[32m [repeated 10x across cluster]\u001b[0m\n",
      "\u001b[36m(async_run_eval pid=22630)\u001b[0m async_run_eval, i=5, total=10, judge_model_info=meta.llama3-70b-instruct-v1:0, eval_method: max_voting, uuid: 17c41a849ba14d66893b9053a1610b04\u001b[32m [repeated 14x across cluster]\u001b[0m\n",
      "\u001b[36m(async_run_eval pid=22630)\u001b[0m run_eval, row 5/10, judge_model_id=meta.llama3-70b-instruct-v1:0, candidate model=amazon.titan-text-express-v1\u001b[32m [repeated 14x across cluster]\u001b[0m\n",
      "\u001b[36m(async_run_eval pid=22630)\u001b[0m get_inference, model_id=meta.llama3-70b-instruct-v1:0\u001b[32m [repeated 14x across cluster]\u001b[0m\n",
      "\u001b[36m(async_run_eval pid=22630)\u001b[0m Invoking bedrock/meta.llama3-70b-instruct-v1:0......\u001b[32m [repeated 14x across cluster]\u001b[0m\n",
      "\u001b[36m(async_run_eval pid=22633)\u001b[0m async_run_eval, i=1, total=10, judge_model_info=meta.llama3-70b-instruct-v1:0, eval_method: max_voting, uuid: 2de2ebc935d642d9afd3851721f156e8\u001b[32m [repeated 6x across cluster]\u001b[0m\n",
      "\u001b[36m(async_run_eval pid=22633)\u001b[0m run_eval, row 1/10, judge_model_id=meta.llama3-70b-instruct-v1:0, candidate model=anthropic.claude-3-sonnet-20240229-v1:0\u001b[32m [repeated 6x across cluster]\u001b[0m\n",
      "\u001b[36m(async_run_eval pid=22633)\u001b[0m get_inference, model_id=meta.llama3-70b-instruct-v1:0\u001b[32m [repeated 6x across cluster]\u001b[0m\n",
      "\u001b[36m(async_run_eval pid=22633)\u001b[0m Invoking bedrock/meta.llama3-70b-instruct-v1:0......\u001b[32m [repeated 6x across cluster]\u001b[0m\n",
      "\u001b[36m(async_run_eval pid=22630)\u001b[0m async_run_eval, i=5, total=10, judge_model_info=meta.llama3-70b-instruct-v1:0, eval_method: max_voting, uuid: 6bd604d8bfdd43ca8e90c610be95749e\u001b[32m [repeated 14x across cluster]\u001b[0m\n",
      "\u001b[36m(async_run_eval pid=22630)\u001b[0m run_eval, row 5/10, judge_model_id=meta.llama3-70b-instruct-v1:0, candidate model=anthropic.claude-3-sonnet-20240229-v1:0\u001b[32m [repeated 14x across cluster]\u001b[0m\n",
      "\u001b[36m(async_run_eval pid=22630)\u001b[0m get_inference, model_id=meta.llama3-70b-instruct-v1:0\u001b[32m [repeated 14x across cluster]\u001b[0m\n",
      "\u001b[36m(async_run_eval pid=22630)\u001b[0m Invoking bedrock/meta.llama3-70b-instruct-v1:0......\u001b[32m [repeated 14x across cluster]\u001b[0m\n",
      "\u001b[36m(async_run_eval pid=22631)\u001b[0m async_run_eval, i=9, total=10, judge_model_info=meta.llama3-70b-instruct-v1:0, eval_method: max_voting, uuid: 2fa89b32e68f47d0865a4ea34ba6e8bd\u001b[32m [repeated 14x across cluster]\u001b[0m\n",
      "\u001b[36m(async_run_eval pid=22631)\u001b[0m run_eval, row 9/10, judge_model_id=meta.llama3-70b-instruct-v1:0, candidate model=anthropic.claude-3-sonnet-20240229-v1:0\u001b[32m [repeated 14x across cluster]\u001b[0m\n",
      "\u001b[36m(async_run_eval pid=22631)\u001b[0m get_inference, model_id=meta.llama3-70b-instruct-v1:0\u001b[32m [repeated 14x across cluster]\u001b[0m\n",
      "\u001b[36m(async_run_eval pid=22631)\u001b[0m Invoking bedrock/meta.llama3-70b-instruct-v1:0......\u001b[32m [repeated 14x across cluster]\u001b[0m\n",
      "\u001b[36m(async_run_eval pid=22633)\u001b[0m async_run_eval, i=2, total=10, judge_model_info=meta.llama3-70b-instruct-v1:0, eval_method: max_voting, uuid: 59ea22b0abcf4047a76941590a22ae2f\u001b[32m [repeated 12x across cluster]\u001b[0m\n",
      "\u001b[36m(async_run_eval pid=22633)\u001b[0m run_eval, row 2/10, judge_model_id=meta.llama3-70b-instruct-v1:0, candidate model=anthropic.claude-3-haiku-20240307-v1:0\u001b[32m [repeated 12x across cluster]\u001b[0m\n",
      "\u001b[36m(async_run_eval pid=22633)\u001b[0m get_inference, model_id=meta.llama3-70b-instruct-v1:0\u001b[32m [repeated 12x across cluster]\u001b[0m\n",
      "\u001b[36m(async_run_eval pid=22633)\u001b[0m Invoking bedrock/meta.llama3-70b-instruct-v1:0......\u001b[32m [repeated 12x across cluster]\u001b[0m\n",
      "\u001b[36m(async_run_eval pid=22630)\u001b[0m async_run_eval, i=6, total=10, judge_model_info=meta.llama3-70b-instruct-v1:0, eval_method: max_voting, uuid: 540c1266d9f1435798d84216000e4fbf\u001b[32m [repeated 15x across cluster]\u001b[0m\n",
      "\u001b[36m(async_run_eval pid=22630)\u001b[0m run_eval, row 6/10, judge_model_id=meta.llama3-70b-instruct-v1:0, candidate model=anthropic.claude-3-haiku-20240307-v1:0\u001b[32m [repeated 15x across cluster]\u001b[0m\n",
      "\u001b[36m(async_run_eval pid=22630)\u001b[0m get_inference, model_id=meta.llama3-70b-instruct-v1:0\u001b[32m [repeated 15x across cluster]\u001b[0m\n",
      "\u001b[36m(async_run_eval pid=22630)\u001b[0m Invoking bedrock/meta.llama3-70b-instruct-v1:0......\u001b[32m [repeated 15x across cluster]\u001b[0m\n",
      "\u001b[36m(async_run_eval pid=22630)\u001b[0m async_run_eval, i=8, total=10, judge_model_info=meta.llama3-70b-instruct-v1:0, eval_method: max_voting, uuid: ef65fc63523444bd80292dedba4e2e76\u001b[32m [repeated 12x across cluster]\u001b[0m\n",
      "\u001b[36m(async_run_eval pid=22630)\u001b[0m run_eval, row 8/10, judge_model_id=meta.llama3-70b-instruct-v1:0, candidate model=cohere.command-text-v14\u001b[32m [repeated 12x across cluster]\u001b[0m\n",
      "\u001b[36m(async_run_eval pid=22630)\u001b[0m get_inference, model_id=meta.llama3-70b-instruct-v1:0\u001b[32m [repeated 12x across cluster]\u001b[0m\n",
      "\u001b[36m(async_run_eval pid=22630)\u001b[0m Invoking bedrock/meta.llama3-70b-instruct-v1:0......\u001b[32m [repeated 12x across cluster]\u001b[0m\n",
      "\u001b[36m(async_run_eval pid=22631)\u001b[0m async_run_eval, i=9, total=10, judge_model_info=meta.llama3-70b-instruct-v1:0, eval_method: max_voting, uuid: 7260cc38cfc246b5bb467ffcf3550941\u001b[32m [repeated 11x across cluster]\u001b[0m\n",
      "\u001b[36m(async_run_eval pid=22631)\u001b[0m run_eval, row 9/10, judge_model_id=meta.llama3-70b-instruct-v1:0, candidate model=cohere.command-text-v14\u001b[32m [repeated 11x across cluster]\u001b[0m\n",
      "\u001b[36m(async_run_eval pid=22631)\u001b[0m get_inference, model_id=meta.llama3-70b-instruct-v1:0\u001b[32m [repeated 11x across cluster]\u001b[0m\n",
      "\u001b[36m(async_run_eval pid=22631)\u001b[0m Invoking bedrock/meta.llama3-70b-instruct-v1:0......\u001b[32m [repeated 11x across cluster]\u001b[0m\n",
      "\u001b[36m(async_run_eval pid=22633)\u001b[0m async_run_eval, i=4, total=10, judge_model_info=meta.llama3-70b-instruct-v1:0, eval_method: max_voting, uuid: f3799d5223134695a49d60836b4c85a1\u001b[32m [repeated 12x across cluster]\u001b[0m\n",
      "\u001b[36m(async_run_eval pid=22633)\u001b[0m run_eval, row 4/10, judge_model_id=meta.llama3-70b-instruct-v1:0, candidate model=cohere.command-light-text-v14\u001b[32m [repeated 12x across cluster]\u001b[0m\n",
      "\u001b[36m(async_run_eval pid=22633)\u001b[0m get_inference, model_id=meta.llama3-70b-instruct-v1:0\u001b[32m [repeated 12x across cluster]\u001b[0m\n",
      "\u001b[36m(async_run_eval pid=22633)\u001b[0m Invoking bedrock/meta.llama3-70b-instruct-v1:0......\u001b[32m [repeated 12x across cluster]\u001b[0m\n",
      "\u001b[36m(async_run_eval pid=22633)\u001b[0m async_run_eval, i=6, total=10, judge_model_info=meta.llama3-70b-instruct-v1:0, eval_method: max_voting, uuid: e54d9c79a03a491cb612c0c03315292d\u001b[32m [repeated 14x across cluster]\u001b[0m\n",
      "\u001b[36m(async_run_eval pid=22633)\u001b[0m run_eval, row 6/10, judge_model_id=meta.llama3-70b-instruct-v1:0, candidate model=cohere.command-light-text-v14\u001b[32m [repeated 14x across cluster]\u001b[0m\n",
      "\u001b[36m(async_run_eval pid=22633)\u001b[0m get_inference, model_id=meta.llama3-70b-instruct-v1:0\u001b[32m [repeated 14x across cluster]\u001b[0m\n",
      "\u001b[36m(async_run_eval pid=22633)\u001b[0m Invoking bedrock/meta.llama3-70b-instruct-v1:0......\u001b[32m [repeated 14x across cluster]\u001b[0m\n",
      "\u001b[36m(async_run_eval pid=22632)\u001b[0m async_run_eval, i=5, total=10, judge_model_info=meta.llama3-70b-instruct-v1:0, eval_method: max_voting, uuid: 30439fd81b694badb11562440c8aa6ca\u001b[32m [repeated 10x across cluster]\u001b[0m\n",
      "\u001b[36m(async_run_eval pid=22632)\u001b[0m run_eval, row 5/10, judge_model_id=meta.llama3-70b-instruct-v1:0, candidate model=cohere.command-light-text-v14\u001b[32m [repeated 10x across cluster]\u001b[0m\n",
      "\u001b[36m(async_run_eval pid=22632)\u001b[0m get_inference, model_id=meta.llama3-70b-instruct-v1:0\u001b[32m [repeated 10x across cluster]\u001b[0m\n",
      "\u001b[36m(async_run_eval pid=22632)\u001b[0m Invoking bedrock/meta.llama3-70b-instruct-v1:0......\u001b[32m [repeated 10x across cluster]\u001b[0m\n",
      "\u001b[36m(async_run_eval pid=22631)\u001b[0m async_run_eval, i=9, total=10, judge_model_info=meta.llama3-70b-instruct-v1:0, eval_method: max_voting, uuid: 95b6b8faf4bd481cb7b2a461c3512661\u001b[32m [repeated 14x across cluster]\u001b[0m\n",
      "\u001b[36m(async_run_eval pid=22631)\u001b[0m run_eval, row 9/10, judge_model_id=meta.llama3-70b-instruct-v1:0, candidate model=ai21.j2-mid-v1\u001b[32m [repeated 14x across cluster]\u001b[0m\n",
      "\u001b[36m(async_run_eval pid=22631)\u001b[0m get_inference, model_id=meta.llama3-70b-instruct-v1:0\u001b[32m [repeated 14x across cluster]\u001b[0m\n",
      "\u001b[36m(async_run_eval pid=22631)\u001b[0m Invoking bedrock/meta.llama3-70b-instruct-v1:0......\u001b[32m [repeated 14x across cluster]\u001b[0m\n",
      "\u001b[36m(async_run_eval pid=22633)\u001b[0m async_run_eval, i=1, total=10, judge_model_info=meta.llama3-70b-instruct-v1:0, eval_method: max_voting, uuid: ac4e793629b941168a6cc66d0fdf7d54\u001b[32m [repeated 12x across cluster]\u001b[0m\n",
      "\u001b[36m(async_run_eval pid=22633)\u001b[0m run_eval, row 1/10, judge_model_id=meta.llama3-70b-instruct-v1:0, candidate model=ai21.j2-mid-v1\u001b[32m [repeated 12x across cluster]\u001b[0m\n",
      "\u001b[36m(async_run_eval pid=22633)\u001b[0m get_inference, model_id=meta.llama3-70b-instruct-v1:0\u001b[32m [repeated 12x across cluster]\u001b[0m\n",
      "\u001b[36m(async_run_eval pid=22633)\u001b[0m Invoking bedrock/meta.llama3-70b-instruct-v1:0......\u001b[32m [repeated 12x across cluster]\u001b[0m\n",
      "\u001b[36m(async_run_eval pid=22632)\u001b[0m async_run_eval, i=5, total=10, judge_model_info=meta.llama3-70b-instruct-v1:0, eval_method: max_voting, uuid: e475e28a7f5f420892a50d009e934436\u001b[32m [repeated 14x across cluster]\u001b[0m\n",
      "\u001b[36m(async_run_eval pid=22632)\u001b[0m run_eval, row 5/10, judge_model_id=meta.llama3-70b-instruct-v1:0, candidate model=ai21.j2-ultra-v1\u001b[32m [repeated 14x across cluster]\u001b[0m\n",
      "\u001b[36m(async_run_eval pid=22632)\u001b[0m get_inference, model_id=meta.llama3-70b-instruct-v1:0\u001b[32m [repeated 14x across cluster]\u001b[0m\n",
      "\u001b[36m(async_run_eval pid=22632)\u001b[0m Invoking bedrock/meta.llama3-70b-instruct-v1:0......\u001b[32m [repeated 14x across cluster]\u001b[0m\n",
      "\u001b[36m(async_run_eval pid=22631)\u001b[0m async_run_eval, i=7, total=10, judge_model_info=meta.llama3-70b-instruct-v1:0, eval_method: max_voting, uuid: 24a2aab0aab547b78cdf2ce7405f3019\u001b[32m [repeated 11x across cluster]\u001b[0m\n",
      "\u001b[36m(async_run_eval pid=22631)\u001b[0m run_eval, row 7/10, judge_model_id=meta.llama3-70b-instruct-v1:0, candidate model=ai21.j2-ultra-v1\u001b[32m [repeated 11x across cluster]\u001b[0m\n",
      "\u001b[36m(async_run_eval pid=22631)\u001b[0m get_inference, model_id=meta.llama3-70b-instruct-v1:0\u001b[32m [repeated 11x across cluster]\u001b[0m\n",
      "\u001b[36m(async_run_eval pid=22631)\u001b[0m Invoking bedrock/meta.llama3-70b-instruct-v1:0......\u001b[32m [repeated 11x across cluster]\u001b[0m\n",
      "\u001b[36m(async_run_eval pid=22631)\u001b[0m async_run_eval, i=9, total=10, judge_model_info=meta.llama3-70b-instruct-v1:0, eval_method: max_voting, uuid: abdf030dc60540758f4bc2da688183bf\u001b[32m [repeated 13x across cluster]\u001b[0m\n",
      "\u001b[36m(async_run_eval pid=22631)\u001b[0m run_eval, row 9/10, judge_model_id=meta.llama3-70b-instruct-v1:0, candidate model=ai21.j2-ultra-v1\u001b[32m [repeated 13x across cluster]\u001b[0m\n",
      "\u001b[36m(async_run_eval pid=22631)\u001b[0m get_inference, model_id=meta.llama3-70b-instruct-v1:0\u001b[32m [repeated 13x across cluster]\u001b[0m\n",
      "\u001b[36m(async_run_eval pid=22631)\u001b[0m Invoking bedrock/meta.llama3-70b-instruct-v1:0......\u001b[32m [repeated 13x across cluster]\u001b[0m\n",
      "\u001b[36m(async_run_eval pid=22632)\u001b[0m async_run_eval, i=9, total=10, judge_model_info=cohere.command-r-v1:0, eval_method: max_voting, uuid: 36e74d02017946b3a8000645419fd371\u001b[32m [repeated 20x across cluster]\u001b[0m\n",
      "\u001b[36m(async_run_eval pid=22632)\u001b[0m run_eval, row 9/10, judge_model_id=cohere.command-r-v1:0, candidate model=mistral.mistral-7b-instruct-v0:2\u001b[32m [repeated 20x across cluster]\u001b[0m\n",
      "\u001b[36m(async_run_eval pid=22632)\u001b[0m get_inference, model_id=cohere.command-r-v1:0\u001b[32m [repeated 20x across cluster]\u001b[0m\n",
      "\u001b[36m(async_run_eval pid=22632)\u001b[0m Invoking bedrock/cohere.command-r-v1:0......\u001b[32m [repeated 20x across cluster]\u001b[0m\n",
      "\u001b[36m(async_run_eval pid=22633)\u001b[0m async_run_eval, i=3, total=10, judge_model_info=cohere.command-r-v1:0, eval_method: max_voting, uuid: 1de99a4e87aa4e5c88d91aa18737e2d9\u001b[32m [repeated 22x across cluster]\u001b[0m\n",
      "\u001b[36m(async_run_eval pid=22633)\u001b[0m run_eval, row 3/10, judge_model_id=cohere.command-r-v1:0, candidate model=mistral.mixtral-8x7b-instruct-v0:1\u001b[32m [repeated 22x across cluster]\u001b[0m\n",
      "\u001b[36m(async_run_eval pid=22633)\u001b[0m get_inference, model_id=cohere.command-r-v1:0\u001b[32m [repeated 22x across cluster]\u001b[0m\n",
      "\u001b[36m(async_run_eval pid=22633)\u001b[0m Invoking bedrock/cohere.command-r-v1:0......\u001b[32m [repeated 22x across cluster]\u001b[0m\n",
      "\u001b[36m(async_run_eval pid=22630)\u001b[0m async_run_eval, i=9, total=10, judge_model_info=cohere.command-r-v1:0, eval_method: max_voting, uuid: 0b3aee64492642e989b1769f25364860\u001b[32m [repeated 28x across cluster]\u001b[0m\n",
      "\u001b[36m(async_run_eval pid=22630)\u001b[0m run_eval, row 9/10, judge_model_id=cohere.command-r-v1:0, candidate model=meta.llama2-13b-chat-v1\u001b[32m [repeated 28x across cluster]\u001b[0m\n",
      "\u001b[36m(async_run_eval pid=22630)\u001b[0m get_inference, model_id=cohere.command-r-v1:0\u001b[32m [repeated 28x across cluster]\u001b[0m\n",
      "\u001b[36m(async_run_eval pid=22630)\u001b[0m Invoking bedrock/cohere.command-r-v1:0......\u001b[32m [repeated 28x across cluster]\u001b[0m\n",
      "\u001b[36m(async_run_eval pid=22633)\u001b[0m async_run_eval, i=4, total=10, judge_model_info=cohere.command-r-v1:0, eval_method: max_voting, uuid: 5d0a3101ddf74ab0bfe7e08e7ed3b953\u001b[32m [repeated 22x across cluster]\u001b[0m\n",
      "\u001b[36m(async_run_eval pid=22633)\u001b[0m run_eval, row 4/10, judge_model_id=cohere.command-r-v1:0, candidate model=meta.llama2-70b-chat-v1\u001b[32m [repeated 22x across cluster]\u001b[0m\n",
      "\u001b[36m(async_run_eval pid=22633)\u001b[0m get_inference, model_id=cohere.command-r-v1:0\u001b[32m [repeated 22x across cluster]\u001b[0m\n",
      "\u001b[36m(async_run_eval pid=22631)\u001b[0m Invoking bedrock/cohere.command-r-v1:0......\u001b[32m [repeated 21x across cluster]\u001b[0m\n",
      "\u001b[36m(async_run_eval pid=22633)\u001b[0m async_run_eval, i=5, total=10, judge_model_info=cohere.command-r-v1:0, eval_method: max_voting, uuid: 3313d0347dcc48b095938a566183648a\u001b[32m [repeated 24x across cluster]\u001b[0m\n",
      "\u001b[36m(async_run_eval pid=22633)\u001b[0m run_eval, row 5/10, judge_model_id=cohere.command-r-v1:0, candidate model=meta.llama2-70b-chat-v1\u001b[32m [repeated 24x across cluster]\u001b[0m\n",
      "\u001b[36m(async_run_eval pid=22633)\u001b[0m get_inference, model_id=cohere.command-r-v1:0\u001b[32m [repeated 24x across cluster]\u001b[0m\n",
      "\u001b[36m(async_run_eval pid=22633)\u001b[0m Invoking bedrock/cohere.command-r-v1:0......\u001b[32m [repeated 25x across cluster]\u001b[0m\n",
      "\u001b[36m(async_run_eval pid=22633)\u001b[0m async_run_eval, i=9, total=10, judge_model_info=cohere.command-r-v1:0, eval_method: max_voting, uuid: d8425235d5e94d78a76d26e02730c752\u001b[32m [repeated 24x across cluster]\u001b[0m\n",
      "\u001b[36m(async_run_eval pid=22633)\u001b[0m run_eval, row 9/10, judge_model_id=cohere.command-r-v1:0, candidate model=amazon.titan-text-lite-v1\u001b[32m [repeated 24x across cluster]\u001b[0m\n",
      "\u001b[36m(async_run_eval pid=22633)\u001b[0m get_inference, model_id=cohere.command-r-v1:0\u001b[32m [repeated 24x across cluster]\u001b[0m\n",
      "\u001b[36m(async_run_eval pid=22633)\u001b[0m Invoking bedrock/cohere.command-r-v1:0......\u001b[32m [repeated 24x across cluster]\u001b[0m\n",
      "\u001b[36m(async_run_eval pid=22630)\u001b[0m async_run_eval, i=5, total=10, judge_model_info=cohere.command-r-v1:0, eval_method: max_voting, uuid: 11294c46307742d8b236e34b19aaeb86\u001b[32m [repeated 26x across cluster]\u001b[0m\n",
      "\u001b[36m(async_run_eval pid=22630)\u001b[0m run_eval, row 5/10, judge_model_id=cohere.command-r-v1:0, candidate model=amazon.titan-text-express-v1\u001b[32m [repeated 26x across cluster]\u001b[0m\n",
      "\u001b[36m(async_run_eval pid=22630)\u001b[0m get_inference, model_id=cohere.command-r-v1:0\u001b[32m [repeated 26x across cluster]\u001b[0m\n",
      "\u001b[36m(async_run_eval pid=22630)\u001b[0m Invoking bedrock/cohere.command-r-v1:0......\u001b[32m [repeated 26x across cluster]\u001b[0m\n",
      "\u001b[36m(async_run_eval pid=22633)\u001b[0m async_run_eval, i=4, total=10, judge_model_info=cohere.command-r-v1:0, eval_method: max_voting, uuid: 742e3d32e2504bbfaff86bb4372db7f1\u001b[32m [repeated 26x across cluster]\u001b[0m\n",
      "\u001b[36m(async_run_eval pid=22633)\u001b[0m run_eval, row 4/10, judge_model_id=cohere.command-r-v1:0, candidate model=anthropic.claude-3-sonnet-20240229-v1:0\u001b[32m [repeated 26x across cluster]\u001b[0m\n",
      "\u001b[36m(async_run_eval pid=22633)\u001b[0m get_inference, model_id=cohere.command-r-v1:0\u001b[32m [repeated 26x across cluster]\u001b[0m\n",
      "\u001b[36m(async_run_eval pid=22633)\u001b[0m Invoking bedrock/cohere.command-r-v1:0......\u001b[32m [repeated 26x across cluster]\u001b[0m\n",
      "\u001b[36m(async_run_eval pid=22633)\u001b[0m async_run_eval, i=8, total=10, judge_model_info=cohere.command-r-v1:0, eval_method: max_voting, uuid: a829da3044054722989c27937d07241e\u001b[32m [repeated 24x across cluster]\u001b[0m\n",
      "\u001b[36m(async_run_eval pid=22633)\u001b[0m run_eval, row 8/10, judge_model_id=cohere.command-r-v1:0, candidate model=anthropic.claude-3-haiku-20240307-v1:0\u001b[32m [repeated 24x across cluster]\u001b[0m\n",
      "\u001b[36m(async_run_eval pid=22633)\u001b[0m get_inference, model_id=cohere.command-r-v1:0\u001b[32m [repeated 24x across cluster]\u001b[0m\n",
      "\u001b[36m(async_run_eval pid=22633)\u001b[0m Invoking bedrock/cohere.command-r-v1:0......\u001b[32m [repeated 24x across cluster]\u001b[0m\n",
      "\u001b[36m(async_run_eval pid=22630)\u001b[0m async_run_eval, i=9, total=10, judge_model_info=cohere.command-r-v1:0, eval_method: max_voting, uuid: d2d67bf209d94cc0ae3a8c3d3a68f591\u001b[32m [repeated 24x across cluster]\u001b[0m\n",
      "\u001b[36m(async_run_eval pid=22630)\u001b[0m run_eval, row 9/10, judge_model_id=cohere.command-r-v1:0, candidate model=anthropic.claude-3-haiku-20240307-v1:0\u001b[32m [repeated 24x across cluster]\u001b[0m\n",
      "\u001b[36m(async_run_eval pid=22630)\u001b[0m get_inference, model_id=cohere.command-r-v1:0\u001b[32m [repeated 24x across cluster]\u001b[0m\n",
      "\u001b[36m(async_run_eval pid=22630)\u001b[0m Invoking bedrock/cohere.command-r-v1:0......\u001b[32m [repeated 24x across cluster]\u001b[0m\n",
      "\u001b[36m(async_run_eval pid=22633)\u001b[0m async_run_eval, i=2, total=10, judge_model_info=cohere.command-r-v1:0, eval_method: max_voting, uuid: 4dad67a3790245e4a41be8b83b1b84f2\u001b[32m [repeated 22x across cluster]\u001b[0m\n",
      "\u001b[36m(async_run_eval pid=22633)\u001b[0m run_eval, row 2/10, judge_model_id=cohere.command-r-v1:0, candidate model=cohere.command-text-v14\u001b[32m [repeated 22x across cluster]\u001b[0m\n",
      "\u001b[36m(async_run_eval pid=22633)\u001b[0m get_inference, model_id=cohere.command-r-v1:0\u001b[32m [repeated 22x across cluster]\u001b[0m\n",
      "\u001b[36m(async_run_eval pid=22633)\u001b[0m Invoking bedrock/cohere.command-r-v1:0......\u001b[32m [repeated 22x across cluster]\u001b[0m\n",
      "\u001b[36m(async_run_eval pid=22631)\u001b[0m async_run_eval, i=5, total=10, judge_model_info=cohere.command-r-v1:0, eval_method: max_voting, uuid: 4834cfdfa8de44b085955adea117bef4\u001b[32m [repeated 24x across cluster]\u001b[0m\n",
      "\u001b[36m(async_run_eval pid=22631)\u001b[0m run_eval, row 5/10, judge_model_id=cohere.command-r-v1:0, candidate model=cohere.command-light-text-v14\u001b[32m [repeated 24x across cluster]\u001b[0m\n",
      "\u001b[36m(async_run_eval pid=22631)\u001b[0m get_inference, model_id=cohere.command-r-v1:0\u001b[32m [repeated 24x across cluster]\u001b[0m\n",
      "\u001b[36m(async_run_eval pid=22631)\u001b[0m Invoking bedrock/cohere.command-r-v1:0......\u001b[32m [repeated 24x across cluster]\u001b[0m\n",
      "\u001b[36m(async_run_eval pid=22633)\u001b[0m async_run_eval, i=10, total=10, judge_model_info=cohere.command-r-v1:0, eval_method: max_voting, uuid: 0b9a8c519c61414eaaf03c4c7f0c44ee\u001b[32m [repeated 24x across cluster]\u001b[0m\n",
      "\u001b[36m(async_run_eval pid=22633)\u001b[0m run_eval, row 10/10, judge_model_id=cohere.command-r-v1:0, candidate model=ai21.j2-mid-v1\u001b[32m [repeated 24x across cluster]\u001b[0m\n",
      "\u001b[36m(async_run_eval pid=22633)\u001b[0m get_inference, model_id=cohere.command-r-v1:0\u001b[32m [repeated 24x across cluster]\u001b[0m\n",
      "\u001b[36m(async_run_eval pid=22633)\u001b[0m Invoking bedrock/cohere.command-r-v1:0......\u001b[32m [repeated 24x across cluster]\u001b[0m\n",
      "\u001b[36m(async_run_eval pid=22633)\u001b[0m async_run_eval, i=1, total=10, judge_model_info=cohere.command-r-v1:0, eval_method: max_voting, uuid: 47ec858903364ca4a90eb3ce6f8cb890\u001b[32m [repeated 22x across cluster]\u001b[0m\n",
      "\u001b[36m(async_run_eval pid=22633)\u001b[0m run_eval, row 1/10, judge_model_id=cohere.command-r-v1:0, candidate model=ai21.j2-ultra-v1\u001b[32m [repeated 22x across cluster]\u001b[0m\n",
      "\u001b[36m(async_run_eval pid=22633)\u001b[0m get_inference, model_id=cohere.command-r-v1:0\u001b[32m [repeated 22x across cluster]\u001b[0m\n",
      "\u001b[36m(async_run_eval pid=22633)\u001b[0m Invoking bedrock/cohere.command-r-v1:0......\u001b[32m [repeated 22x across cluster]\u001b[0m\n",
      "\u001b[36m(async_run_eval pid=22632)\u001b[0m async_run_eval, i=6, total=10, judge_model_info=cohere.command-r-v1:0, eval_method: max_voting, uuid: bc1ab000640c42fb82ea04d55190ad3e\u001b[32m [repeated 25x across cluster]\u001b[0m\n",
      "\u001b[36m(async_run_eval pid=22632)\u001b[0m run_eval, row 6/10, judge_model_id=cohere.command-r-v1:0, candidate model=ai21.j2-ultra-v1\u001b[32m [repeated 25x across cluster]\u001b[0m\n",
      "\u001b[36m(async_run_eval pid=22632)\u001b[0m get_inference, model_id=cohere.command-r-v1:0\u001b[32m [repeated 25x across cluster]\u001b[0m\n",
      "\u001b[36m(async_run_eval pid=22632)\u001b[0m Invoking bedrock/cohere.command-r-v1:0......\u001b[32m [repeated 25x across cluster]\u001b[0m\n"
     ]
    }
   ],
   "source": [
    "# initialize the ray service to run async calls in parallel to bedrock easily\n",
    "if ray.is_initialized():\n",
    "    ray.shutdown()\n",
    "ray.init()"
   ]
  },
  {
   "cell_type": "markdown",
   "metadata": {},
   "source": [
    "Load the Config.yml file contains information that is used across this benchmarking environment, such as information about the aws account, prompts, payloads to be used for invocations"
   ]
  },
  {
   "cell_type": "code",
   "execution_count": 5,
   "metadata": {
    "tags": []
   },
   "outputs": [
    {
     "name": "stderr",
     "output_type": "stream",
     "text": [
      "[2024-07-12 15:10:17,550] p22383 {2445076252.py:1} INFO - CONFIG_FILE=configs/bedrock/config-bedrock.yml\n"
     ]
    },
    {
     "name": "stdout",
     "output_type": "stream",
     "text": [
      "region_name=us-west-2\n"
     ]
    },
    {
     "name": "stderr",
     "output_type": "stream",
     "text": [
      "[2024-07-12 15:10:17,851] p22383 {2445076252.py:3} INFO - {\n",
      "  \"general\": {\n",
      "    \"name\": \"fmbench-bedrock\",\n",
      "    \"model_name\": \"FMs available in Amazon Bedrock\"\n",
      "  },\n",
      "  \"aws\": {\n",
      "    \"region\": \"us-west-2\",\n",
      "    \"sagemaker_execution_role\": \"arn:aws:iam::387192758086:role/fmbench-stack-us-west-2-role\",\n",
      "    \"bucket\": \"sagemaker-fmbench-write-us-west-2-387192758086\"\n",
      "  },\n",
      "  \"dir_paths\": {\n",
      "    \"data_prefix\": \"data\",\n",
      "    \"prompts_prefix\": \"prompts\",\n",
      "    \"all_prompts_file\": \"all_prompts.csv\",\n",
      "    \"metrics_dir\": \"metrics\",\n",
      "    \"models_dir\": \"models\",\n",
      "    \"metadata_dir\": \"metadata\"\n",
      "  },\n",
      "  \"s3_read_data\": {\n",
      "    \"read_bucket\": \"sagemaker-fmbench-read-us-west-2-387192758086\",\n",
      "    \"scripts_prefix\": \"scripts\",\n",
      "    \"script_files\": [\n",
      "      \"hf_token.txt\"\n",
      "    ],\n",
      "    \"eval_prompts_dir\": \"eval_criteria_prompts\",\n",
      "    \"eval_prompt_template_dir_list\": [\n",
      "      \"claude_eval_prompt_templates\",\n",
      "      \"llama3_eval_prompt_templates\",\n",
      "      \"cohere_eval_prompt_templates\"\n",
      "    ],\n",
      "    \"eval_instructions_dir\": \"eval_instructions\",\n",
      "    \"eval_instructions_files\": [\n",
      "      \"evaluation_instructions_max_voting.txt\",\n",
      "      \"evaluation_instructions_avg_pooling.txt\"\n",
      "    ],\n",
      "    \"configs_prefix\": \"configs\",\n",
      "    \"config_files\": [\n",
      "      \"pricing.yml\"\n",
      "    ],\n",
      "    \"source_data_prefix\": \"source_data\",\n",
      "    \"source_data_files\": [\n",
      "      \"2wikimqa_e.jsonl\",\n",
      "      \"2wikimqa.jsonl\",\n",
      "      \"hotpotqa_e.jsonl\",\n",
      "      \"hotpotqa.jsonl\",\n",
      "      \"narrativeqa.jsonl\",\n",
      "      \"triviaqa_e.jsonl\",\n",
      "      \"triviaqa.jsonl\"\n",
      "    ],\n",
      "    \"tokenizer_prefix\": \"llama2_tokenizer\",\n",
      "    \"prompt_template_dir\": \"prompt_template\",\n",
      "    \"prompt_template_file\": \"prompt_template_llama2.txt\"\n",
      "  },\n",
      "  \"run_steps\": {\n",
      "    \"0_setup.ipynb\": true,\n",
      "    \"1_generate_data.ipynb\": true,\n",
      "    \"2_deploy_model.ipynb\": false,\n",
      "    \"3_run_inference.ipynb\": true,\n",
      "    \"4_get_evaluations.ipynb\": false,\n",
      "    \"5_model_metric_analysis.ipynb\": false,\n",
      "    \"6_cleanup.ipynb\": false\n",
      "  },\n",
      "  \"datasets\": {\n",
      "    \"prompt_template_keys\": [\n",
      "      \"input\",\n",
      "      \"context\"\n",
      "    ],\n",
      "    \"max_iters_per_combination\": 105,\n",
      "    \"min_iters_per_combination\": 5,\n",
      "    \"filters\": [\n",
      "      {\n",
      "        \"language\": \"en\",\n",
      "        \"min_length_in_tokens\": 1,\n",
      "        \"max_length_in_tokens\": 500,\n",
      "        \"payload_file\": \"payload_en_1-500.jsonl\"\n",
      "      },\n",
      "      {\n",
      "        \"language\": \"en\",\n",
      "        \"min_length_in_tokens\": 500,\n",
      "        \"max_length_in_tokens\": 1000,\n",
      "        \"payload_file\": \"payload_en_500-1000.jsonl\"\n",
      "      },\n",
      "      {\n",
      "        \"language\": \"en\",\n",
      "        \"min_length_in_tokens\": 1000,\n",
      "        \"max_length_in_tokens\": 2000,\n",
      "        \"payload_file\": \"payload_en_1000-2000.jsonl\"\n",
      "      },\n",
      "      {\n",
      "        \"language\": \"en\",\n",
      "        \"min_length_in_tokens\": 2000,\n",
      "        \"max_length_in_tokens\": 3000,\n",
      "        \"payload_file\": \"payload_en_2000-3000.jsonl\"\n",
      "      },\n",
      "      {\n",
      "        \"language\": \"en\",\n",
      "        \"min_length_in_tokens\": 3000,\n",
      "        \"max_length_in_tokens\": 3840,\n",
      "        \"payload_file\": \"payload_en_3000-3840.jsonl\"\n",
      "      }\n",
      "    ]\n",
      "  },\n",
      "  \"model_evaluations\": {\n",
      "    \"ground_truth_col_key\": \"answers\",\n",
      "    \"PoLL_Composition_and_Voting\": {\n",
      "      \"method\": \"max_voting\"\n",
      "    },\n",
      "    \"quantitative_eval_info\": {\n",
      "      \"embeddings_model_id\": {\n",
      "        \"model_id\": \"sentence-transformers/all-mpnet-base-v2\",\n",
      "        \"is_hf\": true\n",
      "      }\n",
      "    },\n",
      "    \"subjective_eval_info\": {\n",
      "      \"judge_panel_list\": [\n",
      "        {\n",
      "          \"model_id\": \"anthropic.claude-3-haiku-20240307-v1:0\",\n",
      "          \"eval_prompt_template_dir\": \"claude_eval_prompt_templates\",\n",
      "          \"eval_prompt_template_name_prefix\": \"claude_eval\"\n",
      "        },\n",
      "        {\n",
      "          \"model_id\": \"meta.llama3-70b-instruct-v1:0\",\n",
      "          \"eval_prompt_template_dir\": \"llama3_eval_prompt_templates\",\n",
      "          \"eval_prompt_template_name_prefix\": \"llama3_eval\"\n",
      "        },\n",
      "        {\n",
      "          \"model_id\": \"cohere.command-r-v1:0\",\n",
      "          \"eval_prompt_template_dir\": \"cohere_eval_prompt_templates\",\n",
      "          \"eval_prompt_template_name_prefix\": \"cohere_eval\"\n",
      "        }\n",
      "      ],\n",
      "      \"inference_parameters\": {\n",
      "        \"temperature\": 0.1,\n",
      "        \"max_tokens\": 300,\n",
      "        \"top_p\": 0.92,\n",
      "        \"caching\": false\n",
      "      },\n",
      "      \"run_parallel_inference_count\": 10\n",
      "    }\n",
      "  },\n",
      "  \"metrics\": {\n",
      "    \"dataset_of_interest\": \"en_500-1000\"\n",
      "  },\n",
      "  \"pricing\": \"pricing.yml\",\n",
      "  \"inference_parameters\": {\n",
      "    \"bedrock\": {\n",
      "      \"temperature\": 0.1,\n",
      "      \"max_tokens\": 100,\n",
      "      \"top_p\": 0.92,\n",
      "      \"caching\": false\n",
      "    }\n",
      "  },\n",
      "  \"experiments\": [\n",
      "    {\n",
      "      \"name\": \"mistral.mistral-7b-instruct-v0:2\",\n",
      "      \"model_id\": \"mistral.mistral-7b-instruct-v0:2\",\n",
      "      \"model_version\": \"*\",\n",
      "      \"model_name\": \"mistral.mistral-7b-instruct-v0:2\",\n",
      "      \"ep_name\": \"mistral.mistral-7b-instruct-v0:2\",\n",
      "      \"instance_type\": \"mistral.mistral-7b-instruct-v0:2\",\n",
      "      \"image_uri\": null,\n",
      "      \"deploy\": false,\n",
      "      \"instance_count\": 1,\n",
      "      \"deployment_script\": null,\n",
      "      \"inference_script\": \"bedrock_predictor.py\",\n",
      "      \"inference_spec\": {\n",
      "        \"split_input_and_parameters\": false,\n",
      "        \"parameter_set\": \"bedrock\",\n",
      "        \"parameters\": {\n",
      "          \"temperature\": 0.1,\n",
      "          \"max_tokens\": 100,\n",
      "          \"top_p\": 0.92,\n",
      "          \"caching\": false\n",
      "        }\n",
      "      },\n",
      "      \"payload_files\": [\n",
      "        \"payload_en_1-500.jsonl\",\n",
      "        \"payload_en_500-1000.jsonl\"\n",
      "      ],\n",
      "      \"concurrency_levels\": [\n",
      "        1,\n",
      "        2\n",
      "      ],\n",
      "      \"env\": null,\n",
      "      \"bucket\": \"sagemaker-fmbench-write-us-west-2-387192758086\"\n",
      "    },\n",
      "    {\n",
      "      \"name\": \"mistral.mixtral-8x7b-instruct-v0:1\",\n",
      "      \"model_id\": \"mistral.mixtral-8x7b-instruct-v0:1\",\n",
      "      \"model_version\": \"*\",\n",
      "      \"model_name\": \"mistral.mixtral-8x7b-instruct-v0:1\",\n",
      "      \"ep_name\": \"mistral.mixtral-8x7b-instruct-v0:1\",\n",
      "      \"instance_type\": \"mistral.mixtral-8x7b-instruct-v0:1\",\n",
      "      \"image_uri\": null,\n",
      "      \"deploy\": false,\n",
      "      \"instance_count\": 1,\n",
      "      \"deployment_script\": null,\n",
      "      \"inference_script\": \"bedrock_predictor.py\",\n",
      "      \"inference_spec\": {\n",
      "        \"split_input_and_parameters\": false,\n",
      "        \"parameter_set\": \"bedrock\",\n",
      "        \"parameters\": {\n",
      "          \"temperature\": 0.1,\n",
      "          \"max_tokens\": 100,\n",
      "          \"top_p\": 0.92,\n",
      "          \"caching\": false\n",
      "        }\n",
      "      },\n",
      "      \"payload_files\": [\n",
      "        \"payload_en_1-500.jsonl\",\n",
      "        \"payload_en_500-1000.jsonl\"\n",
      "      ],\n",
      "      \"concurrency_levels\": [\n",
      "        1,\n",
      "        2\n",
      "      ],\n",
      "      \"env\": null,\n",
      "      \"bucket\": \"sagemaker-fmbench-write-us-west-2-387192758086\"\n",
      "    },\n",
      "    {\n",
      "      \"name\": \"meta.llama2-13b-chat-v1\",\n",
      "      \"model_id\": \"meta.llama2-13b-chat-v1\",\n",
      "      \"model_version\": \"*\",\n",
      "      \"model_name\": \"meta.llama2-13b-chat-v1\",\n",
      "      \"ep_name\": \"meta.llama2-13b-chat-v1\",\n",
      "      \"instance_type\": \"meta.llama2-13b-chat-v1\",\n",
      "      \"image_uri\": null,\n",
      "      \"deploy\": false,\n",
      "      \"instance_count\": null,\n",
      "      \"deployment_script\": null,\n",
      "      \"inference_script\": \"bedrock_predictor.py\",\n",
      "      \"inference_spec\": {\n",
      "        \"split_input_and_parameters\": false,\n",
      "        \"parameter_set\": \"bedrock\",\n",
      "        \"parameters\": {\n",
      "          \"temperature\": 0.1,\n",
      "          \"max_tokens\": 100,\n",
      "          \"top_p\": 0.92,\n",
      "          \"caching\": false\n",
      "        }\n",
      "      },\n",
      "      \"payload_files\": [\n",
      "        \"payload_en_1-500.jsonl\",\n",
      "        \"payload_en_500-1000.jsonl\"\n",
      "      ],\n",
      "      \"concurrency_levels\": [\n",
      "        1,\n",
      "        2\n",
      "      ],\n",
      "      \"env\": null,\n",
      "      \"bucket\": \"sagemaker-fmbench-write-us-west-2-387192758086\"\n",
      "    },\n",
      "    {\n",
      "      \"name\": \"meta.llama2-70b-chat-v1\",\n",
      "      \"model_id\": \"meta.llama2-70b-chat-v1\",\n",
      "      \"model_version\": \"*\",\n",
      "      \"model_name\": \"meta.llama2-70b-chat-v1\",\n",
      "      \"ep_name\": \"meta.llama2-70b-chat-v1\",\n",
      "      \"instance_type\": \"meta.llama2-70b-chat-v1\",\n",
      "      \"image_uri\": null,\n",
      "      \"deploy\": false,\n",
      "      \"instance_count\": null,\n",
      "      \"deployment_script\": null,\n",
      "      \"inference_script\": \"bedrock_predictor.py\",\n",
      "      \"inference_spec\": {\n",
      "        \"split_input_and_parameters\": false,\n",
      "        \"parameter_set\": \"bedrock\",\n",
      "        \"parameters\": {\n",
      "          \"temperature\": 0.1,\n",
      "          \"max_tokens\": 100,\n",
      "          \"top_p\": 0.92,\n",
      "          \"caching\": false\n",
      "        }\n",
      "      },\n",
      "      \"payload_files\": [\n",
      "        \"payload_en_1-500.jsonl\",\n",
      "        \"payload_en_500-1000.jsonl\"\n",
      "      ],\n",
      "      \"concurrency_levels\": [\n",
      "        1,\n",
      "        2\n",
      "      ],\n",
      "      \"env\": null,\n",
      "      \"bucket\": \"sagemaker-fmbench-write-us-west-2-387192758086\"\n",
      "    },\n",
      "    {\n",
      "      \"name\": \"amazon.titan-text-lite-v1\",\n",
      "      \"model_id\": \"amazon.titan-text-lite-v1\",\n",
      "      \"model_version\": \"*\",\n",
      "      \"model_name\": \"amazon.titan-text-lite-v1\",\n",
      "      \"ep_name\": \"amazon.titan-text-lite-v1\",\n",
      "      \"instance_type\": \"amazon.titan-text-lite-v1\",\n",
      "      \"image_uri\": null,\n",
      "      \"deploy\": false,\n",
      "      \"instance_count\": null,\n",
      "      \"deployment_script\": null,\n",
      "      \"inference_script\": \"bedrock_predictor.py\",\n",
      "      \"inference_spec\": {\n",
      "        \"split_input_and_parameters\": false,\n",
      "        \"parameter_set\": \"bedrock\",\n",
      "        \"parameters\": {\n",
      "          \"temperature\": 0.1,\n",
      "          \"max_tokens\": 100,\n",
      "          \"top_p\": 0.92,\n",
      "          \"caching\": false\n",
      "        }\n",
      "      },\n",
      "      \"payload_files\": [\n",
      "        \"payload_en_1-500.jsonl\",\n",
      "        \"payload_en_500-1000.jsonl\"\n",
      "      ],\n",
      "      \"concurrency_levels\": [\n",
      "        1,\n",
      "        2\n",
      "      ],\n",
      "      \"env\": null,\n",
      "      \"bucket\": \"sagemaker-fmbench-write-us-west-2-387192758086\"\n",
      "    },\n",
      "    {\n",
      "      \"name\": \"amazon.titan-text-express-v1\",\n",
      "      \"model_id\": \"amazon.titan-text-express-v1\",\n",
      "      \"model_version\": \"*\",\n",
      "      \"model_name\": \"amazon.titan-text-express-v1\",\n",
      "      \"ep_name\": \"amazon.titan-text-express-v1\",\n",
      "      \"instance_type\": \"amazon.titan-text-express-v1\",\n",
      "      \"image_uri\": null,\n",
      "      \"deploy\": false,\n",
      "      \"instance_count\": null,\n",
      "      \"deployment_script\": null,\n",
      "      \"inference_script\": \"bedrock_predictor.py\",\n",
      "      \"inference_spec\": {\n",
      "        \"split_input_and_parameters\": false,\n",
      "        \"parameter_set\": \"bedrock\",\n",
      "        \"parameters\": {\n",
      "          \"temperature\": 0.1,\n",
      "          \"max_tokens\": 100,\n",
      "          \"top_p\": 0.92,\n",
      "          \"caching\": false\n",
      "        }\n",
      "      },\n",
      "      \"payload_files\": [\n",
      "        \"payload_en_1-500.jsonl\",\n",
      "        \"payload_en_500-1000.jsonl\"\n",
      "      ],\n",
      "      \"concurrency_levels\": [\n",
      "        1,\n",
      "        2\n",
      "      ],\n",
      "      \"env\": null,\n",
      "      \"bucket\": \"sagemaker-fmbench-write-us-west-2-387192758086\"\n",
      "    },\n",
      "    {\n",
      "      \"name\": \"anthropic.claude-3-sonnet-20240229-v1:0\",\n",
      "      \"model_id\": \"anthropic.claude-3-sonnet-20240229-v1:0\",\n",
      "      \"model_version\": \"*\",\n",
      "      \"model_name\": \"anthropic.claude-3-sonnet-20240229-v1:0\",\n",
      "      \"ep_name\": \"anthropic.claude-3-sonnet-20240229-v1:0\",\n",
      "      \"instance_type\": \"anthropic.claude-3-sonnet-20240229-v1:0\",\n",
      "      \"image_uri\": null,\n",
      "      \"deploy\": false,\n",
      "      \"instance_count\": null,\n",
      "      \"deployment_script\": null,\n",
      "      \"inference_script\": \"bedrock_predictor.py\",\n",
      "      \"inference_spec\": {\n",
      "        \"split_input_and_parameters\": false,\n",
      "        \"parameter_set\": \"bedrock\",\n",
      "        \"parameters\": {\n",
      "          \"temperature\": 0.1,\n",
      "          \"max_tokens\": 100,\n",
      "          \"top_p\": 0.92,\n",
      "          \"caching\": false\n",
      "        }\n",
      "      },\n",
      "      \"payload_files\": [\n",
      "        \"payload_en_1-500.jsonl\",\n",
      "        \"payload_en_500-1000.jsonl\"\n",
      "      ],\n",
      "      \"concurrency_levels\": [\n",
      "        1,\n",
      "        2\n",
      "      ],\n",
      "      \"env\": null,\n",
      "      \"bucket\": \"sagemaker-fmbench-write-us-west-2-387192758086\"\n",
      "    },\n",
      "    {\n",
      "      \"name\": \"anthropic.claude-3-haiku-20240307-v1:0\",\n",
      "      \"model_id\": \"anthropic.claude-3-haiku-20240307-v1:0\",\n",
      "      \"model_version\": \"*\",\n",
      "      \"model_name\": \"anthropic.claude-3-haiku-20240307-v1:0\",\n",
      "      \"ep_name\": \"anthropic.claude-3-haiku-20240307-v1:0\",\n",
      "      \"instance_type\": \"anthropic.claude-3-haiku-20240307-v1:0\",\n",
      "      \"image_uri\": null,\n",
      "      \"deploy\": false,\n",
      "      \"instance_count\": null,\n",
      "      \"deployment_script\": null,\n",
      "      \"inference_script\": \"bedrock_predictor.py\",\n",
      "      \"inference_spec\": {\n",
      "        \"split_input_and_parameters\": false,\n",
      "        \"parameter_set\": \"bedrock\",\n",
      "        \"parameters\": {\n",
      "          \"temperature\": 0.1,\n",
      "          \"max_tokens\": 100,\n",
      "          \"top_p\": 0.92,\n",
      "          \"caching\": false\n",
      "        }\n",
      "      },\n",
      "      \"payload_files\": [\n",
      "        \"payload_en_1-500.jsonl\",\n",
      "        \"payload_en_500-1000.jsonl\"\n",
      "      ],\n",
      "      \"concurrency_levels\": [\n",
      "        1,\n",
      "        2\n",
      "      ],\n",
      "      \"env\": null,\n",
      "      \"bucket\": \"sagemaker-fmbench-write-us-west-2-387192758086\"\n",
      "    },\n",
      "    {\n",
      "      \"name\": \"cohere.command-text-v14\",\n",
      "      \"model_id\": \"cohere.command-text-v14\",\n",
      "      \"model_version\": \"*\",\n",
      "      \"model_name\": \"cohere.command-text-v14\",\n",
      "      \"ep_name\": \"cohere.command-text-v14\",\n",
      "      \"instance_type\": \"cohere.command-text-v14\",\n",
      "      \"image_uri\": null,\n",
      "      \"deploy\": false,\n",
      "      \"instance_count\": null,\n",
      "      \"deployment_script\": null,\n",
      "      \"inference_script\": \"bedrock_predictor.py\",\n",
      "      \"inference_spec\": {\n",
      "        \"split_input_and_parameters\": false,\n",
      "        \"parameter_set\": \"bedrock\",\n",
      "        \"parameters\": {\n",
      "          \"temperature\": 0.1,\n",
      "          \"max_tokens\": 100,\n",
      "          \"top_p\": 0.92,\n",
      "          \"caching\": false\n",
      "        }\n",
      "      },\n",
      "      \"payload_files\": [\n",
      "        \"payload_en_1-500.jsonl\",\n",
      "        \"payload_en_500-1000.jsonl\"\n",
      "      ],\n",
      "      \"concurrency_levels\": [\n",
      "        1,\n",
      "        2\n",
      "      ],\n",
      "      \"env\": null,\n",
      "      \"bucket\": \"sagemaker-fmbench-write-us-west-2-387192758086\"\n",
      "    },\n",
      "    {\n",
      "      \"name\": \"cohere.command-light-text-v14\",\n",
      "      \"model_id\": \"cohere.command-light-text-v14\",\n",
      "      \"model_version\": \"*\",\n",
      "      \"model_name\": \"cohere.command-light-text-v14\",\n",
      "      \"ep_name\": \"cohere.command-light-text-v14\",\n",
      "      \"instance_type\": \"cohere.command-light-text-v14\",\n",
      "      \"image_uri\": null,\n",
      "      \"deploy\": false,\n",
      "      \"instance_count\": null,\n",
      "      \"deployment_script\": null,\n",
      "      \"inference_script\": \"bedrock_predictor.py\",\n",
      "      \"inference_spec\": {\n",
      "        \"split_input_and_parameters\": false,\n",
      "        \"parameter_set\": \"bedrock\",\n",
      "        \"parameters\": {\n",
      "          \"temperature\": 0.1,\n",
      "          \"max_tokens\": 100,\n",
      "          \"top_p\": 0.92,\n",
      "          \"caching\": false\n",
      "        }\n",
      "      },\n",
      "      \"payload_files\": [\n",
      "        \"payload_en_1-500.jsonl\",\n",
      "        \"payload_en_500-1000.jsonl\"\n",
      "      ],\n",
      "      \"concurrency_levels\": [\n",
      "        1,\n",
      "        2\n",
      "      ],\n",
      "      \"env\": null,\n",
      "      \"bucket\": \"sagemaker-fmbench-write-us-west-2-387192758086\"\n",
      "    },\n",
      "    {\n",
      "      \"name\": \"ai21.j2-mid-v1\",\n",
      "      \"model_id\": \"ai21.j2-mid-v1\",\n",
      "      \"model_version\": \"*\",\n",
      "      \"model_name\": \"ai21.j2-mid-v1\",\n",
      "      \"ep_name\": \"ai21.j2-mid-v1\",\n",
      "      \"instance_type\": \"ai21.j2-mid-v1\",\n",
      "      \"image_uri\": null,\n",
      "      \"deploy\": false,\n",
      "      \"instance_count\": null,\n",
      "      \"deployment_script\": null,\n",
      "      \"inference_script\": \"bedrock_predictor.py\",\n",
      "      \"inference_spec\": {\n",
      "        \"split_input_and_parameters\": false,\n",
      "        \"parameter_set\": \"bedrock\",\n",
      "        \"parameters\": {\n",
      "          \"temperature\": 0.1,\n",
      "          \"max_tokens\": 100,\n",
      "          \"top_p\": 0.92,\n",
      "          \"caching\": false\n",
      "        }\n",
      "      },\n",
      "      \"payload_files\": [\n",
      "        \"payload_en_1-500.jsonl\",\n",
      "        \"payload_en_500-1000.jsonl\"\n",
      "      ],\n",
      "      \"concurrency_levels\": [\n",
      "        1,\n",
      "        2\n",
      "      ],\n",
      "      \"env\": null,\n",
      "      \"bucket\": \"sagemaker-fmbench-write-us-west-2-387192758086\"\n",
      "    },\n",
      "    {\n",
      "      \"name\": \"ai21.j2-ultra-v1\",\n",
      "      \"model_id\": \"ai21.j2-ultra-v1\",\n",
      "      \"model_version\": \"*\",\n",
      "      \"model_name\": \"ai21.j2-ultra-v1\",\n",
      "      \"ep_name\": \"ai21.j2-ultra-v1\",\n",
      "      \"instance_type\": \"ai21.j2-ultra-v1\",\n",
      "      \"image_uri\": null,\n",
      "      \"deploy\": false,\n",
      "      \"instance_count\": null,\n",
      "      \"deployment_script\": null,\n",
      "      \"inference_script\": \"bedrock_predictor.py\",\n",
      "      \"inference_spec\": {\n",
      "        \"split_input_and_parameters\": false,\n",
      "        \"parameter_set\": \"bedrock\",\n",
      "        \"parameters\": {\n",
      "          \"temperature\": 0.1,\n",
      "          \"max_tokens\": 100,\n",
      "          \"top_p\": 0.92,\n",
      "          \"caching\": false\n",
      "        }\n",
      "      },\n",
      "      \"payload_files\": [\n",
      "        \"payload_en_1-500.jsonl\",\n",
      "        \"payload_en_500-1000.jsonl\"\n",
      "      ],\n",
      "      \"concurrency_levels\": [\n",
      "        1,\n",
      "        2\n",
      "      ],\n",
      "      \"env\": null,\n",
      "      \"bucket\": \"sagemaker-fmbench-write-us-west-2-387192758086\"\n",
      "    }\n",
      "  ],\n",
      "  \"report\": {\n",
      "    \"latency_budget\": 2,\n",
      "    \"cost_per_10k_txn_budget\": 50,\n",
      "    \"error_rate_budget\": 0,\n",
      "    \"per_inference_request_file\": \"per_inference_request_results.csv\",\n",
      "    \"all_metrics_file\": \"all_metrics.csv\",\n",
      "    \"txn_count_for_showing_cost\": 10000,\n",
      "    \"v_shift_w_single_instance\": 0.025,\n",
      "    \"v_shift_w_gt_one_instance\": 0.025\n",
      "  }\n",
      "}\n"
     ]
    },
    {
     "name": "stdout",
     "output_type": "stream",
     "text": [
      "role_arn_from_env=None, using current sts caller identity to set arn_string\n",
      "the sts role is an assumed role, setting arn_string to arn:aws:iam::387192758086:role/fmbench-stack-us-west-2-role\n"
     ]
    }
   ],
   "source": [
    "logger.info(f\"CONFIG_FILE={CONFIG_FILE}\")\n",
    "config = load_main_config(CONFIG_FILE)\n",
    "logger.info(json.dumps(config, indent=2))"
   ]
  },
  {
   "cell_type": "markdown",
   "metadata": {},
   "source": [
    "#### Load the associated pricing config file"
   ]
  },
  {
   "cell_type": "code",
   "execution_count": 6,
   "metadata": {
    "tags": []
   },
   "outputs": [
    {
     "name": "stderr",
     "output_type": "stream",
     "text": [
      "[2024-07-12 15:10:17,857] p22383 {2131877439.py:9} INFO - Using fmbench.configs directory: /home/ec2-user/anaconda3/envs/fmbench_eval_python311/lib/python3.11/site-packages/fmbench/configs\n",
      "[2024-07-12 15:10:17,859] p22383 {2131877439.py:12} INFO - pricing config provided for inference from this model is --> pricing.yml\n",
      "[2024-07-12 15:10:17,859] p22383 {2131877439.py:14} INFO - pricing config file path is --> /home/ec2-user/anaconda3/envs/fmbench_eval_python311/lib/python3.11/site-packages/fmbench/configs/pricing.yml\n"
     ]
    },
    {
     "name": "stdout",
     "output_type": "stream",
     "text": [
      "region_name=us-west-2\n"
     ]
    },
    {
     "name": "stderr",
     "output_type": "stream",
     "text": [
      "[2024-07-12 15:10:18,150] p22383 {2131877439.py:17} INFO - pricing config file recorded: {\n",
      "  \"pricing\": {\n",
      "    \"instance_based\": {\n",
      "      \"ml.m5.xlarge\": 0.23,\n",
      "      \"ml.g5.xlarge\": 1.4084,\n",
      "      \"ml.g5.2xlarge\": 1.515,\n",
      "      \"ml.g5.12xlarge\": 7.09,\n",
      "      \"ml.g5.24xlarge\": 10.18,\n",
      "      \"ml.g5.48xlarge\": 20.36,\n",
      "      \"ml.inf2.xlarge\": 0.99,\n",
      "      \"ml.inf2.8xlarge\": 2.36,\n",
      "      \"ml.inf2.24xlarge\": 7.79,\n",
      "      \"ml.inf2.48xlarge\": 15.58,\n",
      "      \"ml.trn1.32xlarge\": 28.497,\n",
      "      \"ml.p4d.24xlarge\": 37.688,\n",
      "      \"ml.p5.48xlarge\": 113.068,\n",
      "      \"ml.p3.2xlarge\": 3.825,\n",
      "      \"ml.g4dn.12xlarge\": 4.89,\n",
      "      \"ml.g6.2xlarge\": 1.222,\n",
      "      \"ml.g6.16xlarge\": 4.246,\n",
      "      \"ml.g6.12xlarge\": 5.752,\n",
      "      \"ml.g6.24xlarge\": 8.344,\n",
      "      \"ml.g6.48xlarge\": 16.688,\n",
      "      \"anthropic.claude-v3-sonnet-pt-nc\": 88,\n",
      "      \"m5.xlarge\": 0.192,\n",
      "      \"g5.xlarge\": 1.006,\n",
      "      \"g5.2xlarge\": 1.212,\n",
      "      \"g5.12xlarge\": 5.672,\n",
      "      \"g5.24xlarge\": 8.144,\n",
      "      \"g5.48xlarge\": 16.288,\n",
      "      \"inf2.xlarge\": 0.7582,\n",
      "      \"inf2.8xlarge\": 1.96786,\n",
      "      \"inf2.24xlarge\": 6.49063,\n",
      "      \"inf2.48xlarge\": 12.98127,\n",
      "      \"trn1.32xlarge\": 21.5,\n",
      "      \"p4d.24xlarge\": 32.7726,\n",
      "      \"p5.48xlarge\": 98.32,\n",
      "      \"p3.2xlarge\": 3.06,\n",
      "      \"g4dn.12xlarge\": 3.912,\n",
      "      \"g6.2xlarge\": 0.9776,\n",
      "      \"g6.16xlarge\": 3.3968,\n",
      "      \"g6.12xlarge\": 4.6016,\n",
      "      \"g6.24xlarge\": 6.6752,\n",
      "      \"g6.48xlarge\": 13.3504\n",
      "    },\n",
      "    \"token_based\": {\n",
      "      \"anthropic.claude-3-haiku-20240307-v1:0\": {\n",
      "        \"input-per-1k-tokens\": 0.00025,\n",
      "        \"output-per-1k-tokens\": 0.00125\n",
      "      },\n",
      "      \"anthropic.claude-3-sonnet-20240229-v1:0\": {\n",
      "        \"input-per-1k-tokens\": 0.003,\n",
      "        \"output-per-1k-tokens\": 0.015\n",
      "      },\n",
      "      \"amazon.titan-text-lite-v1\": {\n",
      "        \"input-per-1k-tokens\": 0.0003,\n",
      "        \"output-per-1k-tokens\": 0.0004\n",
      "      },\n",
      "      \"amazon.titan-text-express-v1\": {\n",
      "        \"input-per-1k-tokens\": 0.0008,\n",
      "        \"output-per-1k-tokens\": 0.0016\n",
      "      },\n",
      "      \"mistral.mistral-7b-instruct-v0:2\": {\n",
      "        \"input-per-1k-tokens\": 0.00015,\n",
      "        \"output-per-1k-tokens\": 0.0002\n",
      "      },\n",
      "      \"mistral.mixtral-8x7b-instruct-v0:1\": {\n",
      "        \"input-per-1k-tokens\": 0.00045,\n",
      "        \"output-per-1k-tokens\": 0.0007\n",
      "      },\n",
      "      \"meta.llama3-8b-instruct-v1:0\": {\n",
      "        \"input-per-1k-tokens\": 0.0004,\n",
      "        \"output-per-1k-tokens\": 0.0006\n",
      "      },\n",
      "      \"meta.llama3-70b-instruct-v1:0\": {\n",
      "        \"input-per-1k-tokens\": 0.00265,\n",
      "        \"output-per-1k-tokens\": 0.0035\n",
      "      },\n",
      "      \"meta.llama2-13b-chat-v1\": {\n",
      "        \"input-per-1k-tokens\": 0.00075,\n",
      "        \"output-per-1k-tokens\": 0.001\n",
      "      },\n",
      "      \"meta.llama2-70b-chat-v1\": {\n",
      "        \"input-per-1k-tokens\": 0.00195,\n",
      "        \"output-per-1k-tokens\": 0.00256\n",
      "      },\n",
      "      \"ai21.j2-mid-v1\": {\n",
      "        \"input-per-1k-tokens\": 0.0125,\n",
      "        \"output-per-1k-tokens\": 0.0125\n",
      "      },\n",
      "      \"ai21.j2-ultra-v1\": {\n",
      "        \"input-per-1k-tokens\": 0.0188,\n",
      "        \"output-per-1k-tokens\": 0.0188\n",
      "      },\n",
      "      \"cohere.command-text-v14\": {\n",
      "        \"input-per-1k-tokens\": 0.0015,\n",
      "        \"output-per-1k-tokens\": 0.002\n",
      "      },\n",
      "      \"cohere.command-light-text-v14\": {\n",
      "        \"input-per-1k-tokens\": 0.0003,\n",
      "        \"output-per-1k-tokens\": 0.0006\n",
      "      }\n",
      "    }\n",
      "  }\n",
      "}\n"
     ]
    },
    {
     "name": "stdout",
     "output_type": "stream",
     "text": [
      "role_arn_from_env=None, using current sts caller identity to set arn_string\n",
      "the sts role is an assumed role, setting arn_string to arn:aws:iam::387192758086:role/fmbench-stack-us-west-2-role\n"
     ]
    }
   ],
   "source": [
    "# represents getting the config file from the s3 bucket/https path for pricing yml information\n",
    "pricing_file_path: str = config['pricing'] \n",
    "\n",
    "# initialize the pricing config file to None\n",
    "pricing_config: Optional[Dict] = None\n",
    "\n",
    "# get the current config dir path\n",
    "config_dir = Path(pkg_resources.files('fmbench'), 'configs')\n",
    "logger.info(f\"Using fmbench.configs directory: {config_dir}\")\n",
    "\n",
    "pricing_module = Path(config['pricing'])\n",
    "logger.info(f\"pricing config provided for inference from this model is --> {pricing_module}\")\n",
    "pricing_file_path = os.path.join(config_dir, pricing_module)\n",
    "logger.info(f\"pricing config file path is --> {pricing_file_path}\")\n",
    "\n",
    "pricing_config = load_config(pricing_file_path)\n",
    "logger.info(f\"pricing config file recorded: {json.dumps(pricing_config, indent=2)}\")"
   ]
  },
  {
   "cell_type": "code",
   "execution_count": 7,
   "metadata": {
    "tags": []
   },
   "outputs": [
    {
     "name": "stderr",
     "output_type": "stream",
     "text": [
      "[2024-07-12 15:10:18,155] p22383 {3887258129.py:6} INFO - cwd=/home/ec2-user/SageMaker/foundation-model-benchmarking-tool/src/fmbench, METADATA_DIR=metadata, METRICS_PATH_FNAME=metrics_path.txt, metrics_path_file=metadata/metrics_path.txt\n"
     ]
    },
    {
     "ename": "FileNotFoundError",
     "evalue": "[Errno 2] No such file or directory: 'metadata/metrics_path.txt'",
     "output_type": "error",
     "traceback": [
      "\u001b[0;31m---------------------------------------------------------------------------\u001b[0m",
      "\u001b[0;31mFileNotFoundError\u001b[0m                         Traceback (most recent call last)",
      "Cell \u001b[0;32mIn[7], line 7\u001b[0m\n\u001b[1;32m      5\u001b[0m     metrics_path_file: \u001b[38;5;28mstr\u001b[39m \u001b[38;5;241m=\u001b[39m os\u001b[38;5;241m.\u001b[39mpath\u001b[38;5;241m.\u001b[39mjoin(METADATA_DIR, METRICS_PATH_FNAME)\n\u001b[1;32m      6\u001b[0m logger\u001b[38;5;241m.\u001b[39minfo(\u001b[38;5;124mf\u001b[39m\u001b[38;5;124m\"\u001b[39m\u001b[38;5;124mcwd=\u001b[39m\u001b[38;5;132;01m{\u001b[39;00mos\u001b[38;5;241m.\u001b[39mgetcwd()\u001b[38;5;132;01m}\u001b[39;00m\u001b[38;5;124m, METADATA_DIR=\u001b[39m\u001b[38;5;132;01m{\u001b[39;00mMETADATA_DIR\u001b[38;5;132;01m}\u001b[39;00m\u001b[38;5;124m, METRICS_PATH_FNAME=\u001b[39m\u001b[38;5;132;01m{\u001b[39;00mMETRICS_PATH_FNAME\u001b[38;5;132;01m}\u001b[39;00m\u001b[38;5;124m, metrics_path_file=\u001b[39m\u001b[38;5;132;01m{\u001b[39;00mmetrics_path_file\u001b[38;5;132;01m}\u001b[39;00m\u001b[38;5;124m\"\u001b[39m)\n\u001b[0;32m----> 7\u001b[0m METRICS_DIR: \u001b[38;5;28mstr\u001b[39m \u001b[38;5;241m=\u001b[39m \u001b[43mPath\u001b[49m\u001b[43m(\u001b[49m\u001b[43mmetrics_path_file\u001b[49m\u001b[43m)\u001b[49m\u001b[38;5;241;43m.\u001b[39;49m\u001b[43mread_text\u001b[49m\u001b[43m(\u001b[49m\u001b[43m)\u001b[49m\u001b[38;5;241m.\u001b[39mstrip()\n\u001b[1;32m      8\u001b[0m logger\u001b[38;5;241m.\u001b[39minfo(\u001b[38;5;124mf\u001b[39m\u001b[38;5;124m\"\u001b[39m\u001b[38;5;124mmetrics_path_file=\u001b[39m\u001b[38;5;132;01m{\u001b[39;00mmetrics_path_file\u001b[38;5;132;01m}\u001b[39;00m\u001b[38;5;124m, METRICS_DIR=\u001b[39m\u001b[38;5;132;01m{\u001b[39;00mMETRICS_DIR\u001b[38;5;132;01m}\u001b[39;00m\u001b[38;5;124m\"\u001b[39m)\n",
      "File \u001b[0;32m~/anaconda3/envs/fmbench_eval_python311/lib/python3.11/pathlib.py:1058\u001b[0m, in \u001b[0;36mPath.read_text\u001b[0;34m(self, encoding, errors)\u001b[0m\n\u001b[1;32m   1054\u001b[0m \u001b[38;5;250m\u001b[39m\u001b[38;5;124;03m\"\"\"\u001b[39;00m\n\u001b[1;32m   1055\u001b[0m \u001b[38;5;124;03mOpen the file in text mode, read it, and close the file.\u001b[39;00m\n\u001b[1;32m   1056\u001b[0m \u001b[38;5;124;03m\"\"\"\u001b[39;00m\n\u001b[1;32m   1057\u001b[0m encoding \u001b[38;5;241m=\u001b[39m io\u001b[38;5;241m.\u001b[39mtext_encoding(encoding)\n\u001b[0;32m-> 1058\u001b[0m \u001b[38;5;28;01mwith\u001b[39;00m \u001b[38;5;28;43mself\u001b[39;49m\u001b[38;5;241;43m.\u001b[39;49m\u001b[43mopen\u001b[49m\u001b[43m(\u001b[49m\u001b[43mmode\u001b[49m\u001b[38;5;241;43m=\u001b[39;49m\u001b[38;5;124;43m'\u001b[39;49m\u001b[38;5;124;43mr\u001b[39;49m\u001b[38;5;124;43m'\u001b[39;49m\u001b[43m,\u001b[49m\u001b[43m \u001b[49m\u001b[43mencoding\u001b[49m\u001b[38;5;241;43m=\u001b[39;49m\u001b[43mencoding\u001b[49m\u001b[43m,\u001b[49m\u001b[43m \u001b[49m\u001b[43merrors\u001b[49m\u001b[38;5;241;43m=\u001b[39;49m\u001b[43merrors\u001b[49m\u001b[43m)\u001b[49m \u001b[38;5;28;01mas\u001b[39;00m f:\n\u001b[1;32m   1059\u001b[0m     \u001b[38;5;28;01mreturn\u001b[39;00m f\u001b[38;5;241m.\u001b[39mread()\n",
      "File \u001b[0;32m~/anaconda3/envs/fmbench_eval_python311/lib/python3.11/pathlib.py:1044\u001b[0m, in \u001b[0;36mPath.open\u001b[0;34m(self, mode, buffering, encoding, errors, newline)\u001b[0m\n\u001b[1;32m   1042\u001b[0m \u001b[38;5;28;01mif\u001b[39;00m \u001b[38;5;124m\"\u001b[39m\u001b[38;5;124mb\u001b[39m\u001b[38;5;124m\"\u001b[39m \u001b[38;5;129;01mnot\u001b[39;00m \u001b[38;5;129;01min\u001b[39;00m mode:\n\u001b[1;32m   1043\u001b[0m     encoding \u001b[38;5;241m=\u001b[39m io\u001b[38;5;241m.\u001b[39mtext_encoding(encoding)\n\u001b[0;32m-> 1044\u001b[0m \u001b[38;5;28;01mreturn\u001b[39;00m io\u001b[38;5;241m.\u001b[39mopen(\u001b[38;5;28mself\u001b[39m, mode, buffering, encoding, errors, newline)\n",
      "\u001b[0;31mFileNotFoundError\u001b[0m: [Errno 2] No such file or directory: 'metadata/metrics_path.txt'"
     ]
    }
   ],
   "source": [
    "debug = False\n",
    "if debug is True:\n",
    "    metrics_path_file: str = os.path.join(\"..\", \"..\", METADATA_DIR, METRICS_PATH_FNAME)\n",
    "else:\n",
    "    metrics_path_file: str = os.path.join(METADATA_DIR, METRICS_PATH_FNAME)\n",
    "logger.info(f\"cwd={os.getcwd()}, METADATA_DIR={METADATA_DIR}, METRICS_PATH_FNAME={METRICS_PATH_FNAME}, metrics_path_file={metrics_path_file}\")\n",
    "METRICS_DIR: str = Path(metrics_path_file).read_text().strip()\n",
    "logger.info(f\"metrics_path_file={metrics_path_file}, METRICS_DIR={METRICS_DIR}\")"
   ]
  },
  {
   "cell_type": "code",
   "execution_count": 8,
   "metadata": {
    "tags": []
   },
   "outputs": [
    {
     "name": "stderr",
     "output_type": "stream",
     "text": [
      "[2024-07-12 15:10:26,831] p22383 {187576928.py:2} INFO - File path containing the metrics per inference folder --> fmbench-bedrock-fmbench-stack-us-west-2-role/data/metrics/yyyy=2024/mm=07/dd=12/hh=01/mm=18/per_inference_request_results.csv\n",
      "[2024-07-12 15:10:26,954] p22383 {187576928.py:9} INFO - fmbench-bedrock-fmbench-stack-us-west-2-role/data/metrics/yyyy=2024/mm=07/dd=12/hh=01/mm=18/per_inference_request_results.csv read into dataframe of shape (360, 22), cols=Index(['endpoint_name', 'prompt', 'ground_truth', 'temperature', 'max_tokens',\n",
      "       'top_p', 'completion', 'prompt_tokens', 'completion_tokens', 'latency',\n",
      "       'time_to_first_token', 'time_per_output_token', 'time_to_last_token',\n",
      "       'uuid', 'experiment_name', 'concurrency', 'instance_type',\n",
      "       'instance_count', 'EndpointName', 'ModelName', 'Image', 'S3Uri'],\n",
      "      dtype='object')\n",
      "[2024-07-12 15:10:26,955] p22383 {187576928.py:11} INFO - fmbench-bedrock-fmbench-stack-us-west-2-role/data/metrics/yyyy=2024/mm=07/dd=12/hh=01/mm=18/per_inference_request_results.csv contains results for the following endpoints=['mistral.mistral-7b-instruct-v0:2' 'mistral.mixtral-8x7b-instruct-v0:1'\n",
      " 'meta.llama2-13b-chat-v1' 'meta.llama2-70b-chat-v1'\n",
      " 'amazon.titan-text-lite-v1' 'amazon.titan-text-express-v1'\n",
      " 'anthropic.claude-3-sonnet-20240229-v1:0'\n",
      " 'anthropic.claude-3-haiku-20240307-v1:0' 'cohere.command-text-v14'\n",
      " 'cohere.command-light-text-v14' 'ai21.j2-mid-v1' 'ai21.j2-ultra-v1']\n",
      "[2024-07-12 15:10:26,955] p22383 {187576928.py:12} INFO -                       endpoint_name  \\\n",
      "0  mistral.mistral-7b-instruct-v0:2   \n",
      "1  mistral.mistral-7b-instruct-v0:2   \n",
      "2  mistral.mistral-7b-instruct-v0:2   \n",
      "3  mistral.mistral-7b-instruct-v0:2   \n",
      "4  mistral.mistral-7b-instruct-v0:2   \n",
      "\n",
      "                                              prompt  \\\n",
      "0  <s>[INST] <<SYS>>\\nYou are an assistant for qu...   \n",
      "1  <s>[INST] <<SYS>>\\nYou are an assistant for qu...   \n",
      "2  <s>[INST] <<SYS>>\\nYou are an assistant for qu...   \n",
      "3  <s>[INST] <<SYS>>\\nYou are an assistant for qu...   \n",
      "4  <s>[INST] <<SYS>>\\nYou are an assistant for qu...   \n",
      "\n",
      "                                        ground_truth  temperature  max_tokens  \\\n",
      "0  a genus of flowering plant in the Lardizabalac...          0.1         100   \n",
      "1  a genus of flowering plant in the Lardizabalac...          0.1         100   \n",
      "2  a genus of flowering plant in the Lardizabalac...          0.1         100   \n",
      "3  a genus of flowering plant in the Lardizabalac...          0.1         100   \n",
      "4  a genus of flowering plant in the Lardizabalac...          0.1         100   \n",
      "\n",
      "   top_p                                         completion  prompt_tokens  \\\n",
      "0   0.92  The genera Sinofranchetia and Stauntonia belon...            319   \n",
      "1   0.92  The genera Sinofranchetia and Stauntonia belon...            319   \n",
      "2   0.92  The genera Sinofranchetia and Stauntonia belon...            319   \n",
      "3   0.92  The genera Sinofranchetia and Stauntonia belon...            319   \n",
      "4   0.92  The genera Sinofranchetia and Stauntonia belon...            319   \n",
      "\n",
      "   completion_tokens   latency  ...  time_to_last_token  \\\n",
      "0                 26  0.440897  ...                 NaN   \n",
      "1                 26  0.450330  ...                 NaN   \n",
      "2                 26  0.461762  ...                 NaN   \n",
      "3                 26  0.453813  ...                 NaN   \n",
      "4                 26  0.435938  ...                 NaN   \n",
      "\n",
      "                               uuid                   experiment_name  \\\n",
      "0  6e77fb90ea804956a115b0268df059b0  mistral.mistral-7b-instruct-v0:2   \n",
      "1  82d04de71238454a9bbe05f520f22cb0  mistral.mistral-7b-instruct-v0:2   \n",
      "2  22303e132fb646aa86b938083660dce8  mistral.mistral-7b-instruct-v0:2   \n",
      "3  715d1d30b18244279ff5c0fbf112f245  mistral.mistral-7b-instruct-v0:2   \n",
      "4  6ede1f51a3d143f09377dda35107693a  mistral.mistral-7b-instruct-v0:2   \n",
      "\n",
      "  concurrency                     instance_type  instance_count EndpointName  \\\n",
      "0           1  mistral.mistral-7b-instruct-v0:2             1.0          NaN   \n",
      "1           1  mistral.mistral-7b-instruct-v0:2             1.0          NaN   \n",
      "2           1  mistral.mistral-7b-instruct-v0:2             1.0          NaN   \n",
      "3           1  mistral.mistral-7b-instruct-v0:2             1.0          NaN   \n",
      "4           1  mistral.mistral-7b-instruct-v0:2             1.0          NaN   \n",
      "\n",
      "   ModelName  Image  S3Uri  \n",
      "0        NaN    NaN    NaN  \n",
      "1        NaN    NaN    NaN  \n",
      "2        NaN    NaN    NaN  \n",
      "3        NaN    NaN    NaN  \n",
      "4        NaN    NaN    NaN  \n",
      "\n",
      "[5 rows x 22 columns]\n"
     ]
    }
   ],
   "source": [
    "file_path: str = \"fmbench-bedrock-fmbench-stack-us-west-2-role/data/metrics/yyyy=2024/mm=07/dd=12/hh=01/mm=18/per_inference_request_results.csv\"\n",
    "logger.info(f\"File path containing the metrics per inference folder --> {file_path}\")\n",
    "\n",
    "# Read the file from S3\n",
    "try:\n",
    "    file_content = get_s3_object(config['aws']['bucket'], file_path)\n",
    "    # Use pandas to read the CSV content\n",
    "    df_per_inference = pd.read_csv(io.StringIO(file_content))\n",
    "    logger.info(f\"{file_path} read into dataframe of shape {df_per_inference.shape}, \"\n",
    "                f\"cols={df_per_inference.columns}\")\n",
    "    logger.info(f\"{file_path} contains results for the following endpoints={df_per_inference.endpoint_name.unique()}\")\n",
    "    logger.info(df_per_inference.head())\n",
    "except Exception as e:\n",
    "    logger.error(f\"Error reading from S3: {e}\")"
   ]
  },
  {
   "cell_type": "code",
   "execution_count": 9,
   "metadata": {
    "tags": []
   },
   "outputs": [
    {
     "data": {
      "text/html": [
       "<div>\n",
       "<style scoped>\n",
       "    .dataframe tbody tr th:only-of-type {\n",
       "        vertical-align: middle;\n",
       "    }\n",
       "\n",
       "    .dataframe tbody tr th {\n",
       "        vertical-align: top;\n",
       "    }\n",
       "\n",
       "    .dataframe thead th {\n",
       "        text-align: right;\n",
       "    }\n",
       "</style>\n",
       "<table border=\"1\" class=\"dataframe\">\n",
       "  <thead>\n",
       "    <tr style=\"text-align: right;\">\n",
       "      <th></th>\n",
       "      <th>endpoint_name</th>\n",
       "      <th>prompt</th>\n",
       "      <th>ground_truth</th>\n",
       "      <th>temperature</th>\n",
       "      <th>max_tokens</th>\n",
       "      <th>top_p</th>\n",
       "      <th>completion</th>\n",
       "      <th>prompt_tokens</th>\n",
       "      <th>completion_tokens</th>\n",
       "      <th>latency</th>\n",
       "      <th>...</th>\n",
       "      <th>time_to_last_token</th>\n",
       "      <th>uuid</th>\n",
       "      <th>experiment_name</th>\n",
       "      <th>concurrency</th>\n",
       "      <th>instance_type</th>\n",
       "      <th>instance_count</th>\n",
       "      <th>EndpointName</th>\n",
       "      <th>ModelName</th>\n",
       "      <th>Image</th>\n",
       "      <th>S3Uri</th>\n",
       "    </tr>\n",
       "  </thead>\n",
       "  <tbody>\n",
       "    <tr>\n",
       "      <th>0</th>\n",
       "      <td>mistral.mistral-7b-instruct-v0:2</td>\n",
       "      <td>&lt;s&gt;[INST] &lt;&lt;SYS&gt;&gt;\\nYou are an assistant for qu...</td>\n",
       "      <td>a genus of flowering plant in the Lardizabalac...</td>\n",
       "      <td>0.1</td>\n",
       "      <td>100</td>\n",
       "      <td>0.92</td>\n",
       "      <td>The genera Sinofranchetia and Stauntonia belon...</td>\n",
       "      <td>319</td>\n",
       "      <td>26</td>\n",
       "      <td>0.440897</td>\n",
       "      <td>...</td>\n",
       "      <td>NaN</td>\n",
       "      <td>6e77fb90ea804956a115b0268df059b0</td>\n",
       "      <td>mistral.mistral-7b-instruct-v0:2</td>\n",
       "      <td>1</td>\n",
       "      <td>mistral.mistral-7b-instruct-v0:2</td>\n",
       "      <td>1.0</td>\n",
       "      <td>NaN</td>\n",
       "      <td>NaN</td>\n",
       "      <td>NaN</td>\n",
       "      <td>NaN</td>\n",
       "    </tr>\n",
       "    <tr>\n",
       "      <th>1</th>\n",
       "      <td>mistral.mistral-7b-instruct-v0:2</td>\n",
       "      <td>&lt;s&gt;[INST] &lt;&lt;SYS&gt;&gt;\\nYou are an assistant for qu...</td>\n",
       "      <td>a genus of flowering plant in the Lardizabalac...</td>\n",
       "      <td>0.1</td>\n",
       "      <td>100</td>\n",
       "      <td>0.92</td>\n",
       "      <td>The genera Sinofranchetia and Stauntonia belon...</td>\n",
       "      <td>319</td>\n",
       "      <td>26</td>\n",
       "      <td>0.450330</td>\n",
       "      <td>...</td>\n",
       "      <td>NaN</td>\n",
       "      <td>82d04de71238454a9bbe05f520f22cb0</td>\n",
       "      <td>mistral.mistral-7b-instruct-v0:2</td>\n",
       "      <td>1</td>\n",
       "      <td>mistral.mistral-7b-instruct-v0:2</td>\n",
       "      <td>1.0</td>\n",
       "      <td>NaN</td>\n",
       "      <td>NaN</td>\n",
       "      <td>NaN</td>\n",
       "      <td>NaN</td>\n",
       "    </tr>\n",
       "    <tr>\n",
       "      <th>2</th>\n",
       "      <td>mistral.mistral-7b-instruct-v0:2</td>\n",
       "      <td>&lt;s&gt;[INST] &lt;&lt;SYS&gt;&gt;\\nYou are an assistant for qu...</td>\n",
       "      <td>a genus of flowering plant in the Lardizabalac...</td>\n",
       "      <td>0.1</td>\n",
       "      <td>100</td>\n",
       "      <td>0.92</td>\n",
       "      <td>The genera Sinofranchetia and Stauntonia belon...</td>\n",
       "      <td>319</td>\n",
       "      <td>26</td>\n",
       "      <td>0.461762</td>\n",
       "      <td>...</td>\n",
       "      <td>NaN</td>\n",
       "      <td>22303e132fb646aa86b938083660dce8</td>\n",
       "      <td>mistral.mistral-7b-instruct-v0:2</td>\n",
       "      <td>1</td>\n",
       "      <td>mistral.mistral-7b-instruct-v0:2</td>\n",
       "      <td>1.0</td>\n",
       "      <td>NaN</td>\n",
       "      <td>NaN</td>\n",
       "      <td>NaN</td>\n",
       "      <td>NaN</td>\n",
       "    </tr>\n",
       "    <tr>\n",
       "      <th>3</th>\n",
       "      <td>mistral.mistral-7b-instruct-v0:2</td>\n",
       "      <td>&lt;s&gt;[INST] &lt;&lt;SYS&gt;&gt;\\nYou are an assistant for qu...</td>\n",
       "      <td>a genus of flowering plant in the Lardizabalac...</td>\n",
       "      <td>0.1</td>\n",
       "      <td>100</td>\n",
       "      <td>0.92</td>\n",
       "      <td>The genera Sinofranchetia and Stauntonia belon...</td>\n",
       "      <td>319</td>\n",
       "      <td>26</td>\n",
       "      <td>0.453813</td>\n",
       "      <td>...</td>\n",
       "      <td>NaN</td>\n",
       "      <td>715d1d30b18244279ff5c0fbf112f245</td>\n",
       "      <td>mistral.mistral-7b-instruct-v0:2</td>\n",
       "      <td>1</td>\n",
       "      <td>mistral.mistral-7b-instruct-v0:2</td>\n",
       "      <td>1.0</td>\n",
       "      <td>NaN</td>\n",
       "      <td>NaN</td>\n",
       "      <td>NaN</td>\n",
       "      <td>NaN</td>\n",
       "    </tr>\n",
       "    <tr>\n",
       "      <th>4</th>\n",
       "      <td>mistral.mistral-7b-instruct-v0:2</td>\n",
       "      <td>&lt;s&gt;[INST] &lt;&lt;SYS&gt;&gt;\\nYou are an assistant for qu...</td>\n",
       "      <td>a genus of flowering plant in the Lardizabalac...</td>\n",
       "      <td>0.1</td>\n",
       "      <td>100</td>\n",
       "      <td>0.92</td>\n",
       "      <td>The genera Sinofranchetia and Stauntonia belon...</td>\n",
       "      <td>319</td>\n",
       "      <td>26</td>\n",
       "      <td>0.435938</td>\n",
       "      <td>...</td>\n",
       "      <td>NaN</td>\n",
       "      <td>6ede1f51a3d143f09377dda35107693a</td>\n",
       "      <td>mistral.mistral-7b-instruct-v0:2</td>\n",
       "      <td>1</td>\n",
       "      <td>mistral.mistral-7b-instruct-v0:2</td>\n",
       "      <td>1.0</td>\n",
       "      <td>NaN</td>\n",
       "      <td>NaN</td>\n",
       "      <td>NaN</td>\n",
       "      <td>NaN</td>\n",
       "    </tr>\n",
       "  </tbody>\n",
       "</table>\n",
       "<p>5 rows × 22 columns</p>\n",
       "</div>"
      ],
      "text/plain": [
       "                      endpoint_name  \\\n",
       "0  mistral.mistral-7b-instruct-v0:2   \n",
       "1  mistral.mistral-7b-instruct-v0:2   \n",
       "2  mistral.mistral-7b-instruct-v0:2   \n",
       "3  mistral.mistral-7b-instruct-v0:2   \n",
       "4  mistral.mistral-7b-instruct-v0:2   \n",
       "\n",
       "                                              prompt  \\\n",
       "0  <s>[INST] <<SYS>>\\nYou are an assistant for qu...   \n",
       "1  <s>[INST] <<SYS>>\\nYou are an assistant for qu...   \n",
       "2  <s>[INST] <<SYS>>\\nYou are an assistant for qu...   \n",
       "3  <s>[INST] <<SYS>>\\nYou are an assistant for qu...   \n",
       "4  <s>[INST] <<SYS>>\\nYou are an assistant for qu...   \n",
       "\n",
       "                                        ground_truth  temperature  max_tokens  \\\n",
       "0  a genus of flowering plant in the Lardizabalac...          0.1         100   \n",
       "1  a genus of flowering plant in the Lardizabalac...          0.1         100   \n",
       "2  a genus of flowering plant in the Lardizabalac...          0.1         100   \n",
       "3  a genus of flowering plant in the Lardizabalac...          0.1         100   \n",
       "4  a genus of flowering plant in the Lardizabalac...          0.1         100   \n",
       "\n",
       "   top_p                                         completion  prompt_tokens  \\\n",
       "0   0.92  The genera Sinofranchetia and Stauntonia belon...            319   \n",
       "1   0.92  The genera Sinofranchetia and Stauntonia belon...            319   \n",
       "2   0.92  The genera Sinofranchetia and Stauntonia belon...            319   \n",
       "3   0.92  The genera Sinofranchetia and Stauntonia belon...            319   \n",
       "4   0.92  The genera Sinofranchetia and Stauntonia belon...            319   \n",
       "\n",
       "   completion_tokens   latency  ...  time_to_last_token  \\\n",
       "0                 26  0.440897  ...                 NaN   \n",
       "1                 26  0.450330  ...                 NaN   \n",
       "2                 26  0.461762  ...                 NaN   \n",
       "3                 26  0.453813  ...                 NaN   \n",
       "4                 26  0.435938  ...                 NaN   \n",
       "\n",
       "                               uuid                   experiment_name  \\\n",
       "0  6e77fb90ea804956a115b0268df059b0  mistral.mistral-7b-instruct-v0:2   \n",
       "1  82d04de71238454a9bbe05f520f22cb0  mistral.mistral-7b-instruct-v0:2   \n",
       "2  22303e132fb646aa86b938083660dce8  mistral.mistral-7b-instruct-v0:2   \n",
       "3  715d1d30b18244279ff5c0fbf112f245  mistral.mistral-7b-instruct-v0:2   \n",
       "4  6ede1f51a3d143f09377dda35107693a  mistral.mistral-7b-instruct-v0:2   \n",
       "\n",
       "  concurrency                     instance_type  instance_count EndpointName  \\\n",
       "0           1  mistral.mistral-7b-instruct-v0:2             1.0          NaN   \n",
       "1           1  mistral.mistral-7b-instruct-v0:2             1.0          NaN   \n",
       "2           1  mistral.mistral-7b-instruct-v0:2             1.0          NaN   \n",
       "3           1  mistral.mistral-7b-instruct-v0:2             1.0          NaN   \n",
       "4           1  mistral.mistral-7b-instruct-v0:2             1.0          NaN   \n",
       "\n",
       "   ModelName  Image  S3Uri  \n",
       "0        NaN    NaN    NaN  \n",
       "1        NaN    NaN    NaN  \n",
       "2        NaN    NaN    NaN  \n",
       "3        NaN    NaN    NaN  \n",
       "4        NaN    NaN    NaN  \n",
       "\n",
       "[5 rows x 22 columns]"
      ]
     },
     "execution_count": 9,
     "metadata": {},
     "output_type": "execute_result"
    }
   ],
   "source": [
    "df_per_inference.head()"
   ]
  },
  {
   "cell_type": "markdown",
   "metadata": {},
   "source": [
    "### Relationship between prompt token length and inference latency for different instances and concurrency levels"
   ]
  },
  {
   "cell_type": "code",
   "execution_count": 10,
   "metadata": {
    "tags": []
   },
   "outputs": [
    {
     "data": {
      "text/plain": [
       "count    360.000000\n",
       "mean       0.999005\n",
       "std        0.660359\n",
       "min        0.273340\n",
       "25%        0.549609\n",
       "50%        0.800043\n",
       "75%        1.293201\n",
       "max        5.731676\n",
       "Name: latency, dtype: float64"
      ]
     },
     "execution_count": 10,
     "metadata": {},
     "output_type": "execute_result"
    }
   ],
   "source": [
    "df_per_inference.latency.describe()"
   ]
  },
  {
   "cell_type": "markdown",
   "metadata": {},
   "source": [
    "### Deploy the `sentence-transformers/all-mpnet-base-v2` embeddings model to calculate the _Cosine Similarity scores \n",
    "---\n",
    "\n",
    "This portion of the evaluation step does as follows:\n",
    "\n",
    "1. Deploys the `sentence-transformers/all-mpnet-base-v2` model from Hugging Face. This is a sentence-transformers model. It maps sentences & paragraphs to a 768 dimensional dense vector space and can be used for tasks like clustering or semantic search.\n",
    "\n",
    "1. Use the embeddings model to get quantitative metrics from the inferences. This helps to get a similarity score between the ground truth answers from a dataset if any are given and the actual responses from the model received during inference.\n",
    "\n",
    "1. If no ground truth is provided, cosine similarity is calculated between the response and the content provided to answer the question.embeddings_model_info"
   ]
  },
  {
   "cell_type": "code",
   "execution_count": 11,
   "metadata": {
    "tags": []
   },
   "outputs": [
    {
     "name": "stderr",
     "output_type": "stream",
     "text": [
      "[2024-07-12 15:10:27,825] p22383 {SentenceTransformer.py:189} INFO - Use pytorch device_name: cpu\n",
      "[2024-07-12 15:10:27,826] p22383 {SentenceTransformer.py:197} INFO - Load pretrained SentenceTransformer: sentence-transformers/all-mpnet-base-v2\n",
      "/home/ec2-user/anaconda3/envs/fmbench_eval_python311/lib/python3.11/site-packages/huggingface_hub/file_download.py:1132: FutureWarning: `resume_download` is deprecated and will be removed in version 1.0.0. Downloads always resume when possible. If you want to force a new download, use `force_download=True`.\n",
      "  warnings.warn(\n"
     ]
    },
    {
     "data": {
      "application/vnd.jupyter.widget-view+json": {
       "model_id": "b62ce34170ca4c3d8bdd60e3dee8d126",
       "version_major": 2,
       "version_minor": 0
      },
      "text/plain": [
       "Batches:   0%|          | 0/1 [00:00<?, ?it/s]"
      ]
     },
     "metadata": {},
     "output_type": "display_data"
    },
    {
     "name": "stderr",
     "output_type": "stream",
     "text": [
      "huggingface/tokenizers: The current process just got forked, after parallelism has already been used. Disabling parallelism to avoid deadlocks...\n",
      "To disable this warning, you can either:\n",
      "\t- Avoid using `tokenizers` before the fork if possible\n",
      "\t- Explicitly set the environment variable TOKENIZERS_PARALLELISM=(true | false)\n",
      "huggingface/tokenizers: The current process just got forked, after parallelism has already been used. Disabling parallelism to avoid deadlocks...\n",
      "To disable this warning, you can either:\n",
      "\t- Avoid using `tokenizers` before the fork if possible\n",
      "\t- Explicitly set the environment variable TOKENIZERS_PARALLELISM=(true | false)\n",
      "huggingface/tokenizers: The current process just got forked, after parallelism has already been used. Disabling parallelism to avoid deadlocks...\n",
      "To disable this warning, you can either:\n",
      "\t- Avoid using `tokenizers` before the fork if possible\n",
      "\t- Explicitly set the environment variable TOKENIZERS_PARALLELISM=(true | false)\n",
      "/home/ec2-user/anaconda3/envs/fmbench_eval_python311/lib/python3.11/site-packages/torch/cuda/__init__.py:619: UserWarning: Can't initialize NVML\n",
      "  warnings.warn(\"Can't initialize NVML\")\n"
     ]
    },
    {
     "data": {
      "application/vnd.jupyter.widget-view+json": {
       "model_id": "10cb84ff9f5f4ff3865cfa8ad9520ca9",
       "version_major": 2,
       "version_minor": 0
      },
      "text/plain": [
       "Batches:   0%|          | 0/1 [00:00<?, ?it/s]"
      ]
     },
     "metadata": {},
     "output_type": "display_data"
    },
    {
     "data": {
      "application/vnd.jupyter.widget-view+json": {
       "model_id": "97d1c76cfdf141d3969534948b81287e",
       "version_major": 2,
       "version_minor": 0
      },
      "text/plain": [
       "Batches:   0%|          | 0/1 [00:00<?, ?it/s]"
      ]
     },
     "metadata": {},
     "output_type": "display_data"
    },
    {
     "data": {
      "application/vnd.jupyter.widget-view+json": {
       "model_id": "76e1cd5fe34645d8b6db5061b0deebfd",
       "version_major": 2,
       "version_minor": 0
      },
      "text/plain": [
       "Batches:   0%|          | 0/1 [00:00<?, ?it/s]"
      ]
     },
     "metadata": {},
     "output_type": "display_data"
    },
    {
     "data": {
      "application/vnd.jupyter.widget-view+json": {
       "model_id": "a8b95d215dcf47fdb60dfb0e4e1867c1",
       "version_major": 2,
       "version_minor": 0
      },
      "text/plain": [
       "Batches:   0%|          | 0/1 [00:00<?, ?it/s]"
      ]
     },
     "metadata": {},
     "output_type": "display_data"
    },
    {
     "data": {
      "application/vnd.jupyter.widget-view+json": {
       "model_id": "506967e01bbb44e0bf394465e53d3d5e",
       "version_major": 2,
       "version_minor": 0
      },
      "text/plain": [
       "Batches:   0%|          | 0/1 [00:00<?, ?it/s]"
      ]
     },
     "metadata": {},
     "output_type": "display_data"
    },
    {
     "data": {
      "application/vnd.jupyter.widget-view+json": {
       "model_id": "13562ff4852342acb439733dc26825c1",
       "version_major": 2,
       "version_minor": 0
      },
      "text/plain": [
       "Batches:   0%|          | 0/1 [00:00<?, ?it/s]"
      ]
     },
     "metadata": {},
     "output_type": "display_data"
    },
    {
     "data": {
      "application/vnd.jupyter.widget-view+json": {
       "model_id": "b25ca2d8fb2e4685a2d1ee4e34110e9c",
       "version_major": 2,
       "version_minor": 0
      },
      "text/plain": [
       "Batches:   0%|          | 0/1 [00:00<?, ?it/s]"
      ]
     },
     "metadata": {},
     "output_type": "display_data"
    },
    {
     "data": {
      "application/vnd.jupyter.widget-view+json": {
       "model_id": "e162c185aa3c48c887063c9265860f29",
       "version_major": 2,
       "version_minor": 0
      },
      "text/plain": [
       "Batches:   0%|          | 0/1 [00:00<?, ?it/s]"
      ]
     },
     "metadata": {},
     "output_type": "display_data"
    },
    {
     "data": {
      "application/vnd.jupyter.widget-view+json": {
       "model_id": "950640eedce746b3af4eacf38d51dc9e",
       "version_major": 2,
       "version_minor": 0
      },
      "text/plain": [
       "Batches:   0%|          | 0/1 [00:00<?, ?it/s]"
      ]
     },
     "metadata": {},
     "output_type": "display_data"
    },
    {
     "data": {
      "application/vnd.jupyter.widget-view+json": {
       "model_id": "7d319f3aa4084f05a32506f3556f2c71",
       "version_major": 2,
       "version_minor": 0
      },
      "text/plain": [
       "Batches:   0%|          | 0/1 [00:00<?, ?it/s]"
      ]
     },
     "metadata": {},
     "output_type": "display_data"
    },
    {
     "data": {
      "application/vnd.jupyter.widget-view+json": {
       "model_id": "5919853fd34946a19d818a3dbfb1f9f9",
       "version_major": 2,
       "version_minor": 0
      },
      "text/plain": [
       "Batches:   0%|          | 0/1 [00:00<?, ?it/s]"
      ]
     },
     "metadata": {},
     "output_type": "display_data"
    },
    {
     "data": {
      "application/vnd.jupyter.widget-view+json": {
       "model_id": "7abe7f5d693443b0a434d3144fa30711",
       "version_major": 2,
       "version_minor": 0
      },
      "text/plain": [
       "Batches:   0%|          | 0/1 [00:00<?, ?it/s]"
      ]
     },
     "metadata": {},
     "output_type": "display_data"
    },
    {
     "data": {
      "application/vnd.jupyter.widget-view+json": {
       "model_id": "d7025dbb1730451f99b4b39ed79a3500",
       "version_major": 2,
       "version_minor": 0
      },
      "text/plain": [
       "Batches:   0%|          | 0/1 [00:00<?, ?it/s]"
      ]
     },
     "metadata": {},
     "output_type": "display_data"
    },
    {
     "data": {
      "application/vnd.jupyter.widget-view+json": {
       "model_id": "d04548fde4274986ac946a21fdebef72",
       "version_major": 2,
       "version_minor": 0
      },
      "text/plain": [
       "Batches:   0%|          | 0/1 [00:00<?, ?it/s]"
      ]
     },
     "metadata": {},
     "output_type": "display_data"
    },
    {
     "data": {
      "application/vnd.jupyter.widget-view+json": {
       "model_id": "19c00cd3f1ec467aa235ffdcf7ba8c05",
       "version_major": 2,
       "version_minor": 0
      },
      "text/plain": [
       "Batches:   0%|          | 0/1 [00:00<?, ?it/s]"
      ]
     },
     "metadata": {},
     "output_type": "display_data"
    },
    {
     "data": {
      "application/vnd.jupyter.widget-view+json": {
       "model_id": "9822a3422d6543ea8f06d0252238b0a3",
       "version_major": 2,
       "version_minor": 0
      },
      "text/plain": [
       "Batches:   0%|          | 0/1 [00:00<?, ?it/s]"
      ]
     },
     "metadata": {},
     "output_type": "display_data"
    },
    {
     "data": {
      "application/vnd.jupyter.widget-view+json": {
       "model_id": "6591470da0074078b20834236b3a8d44",
       "version_major": 2,
       "version_minor": 0
      },
      "text/plain": [
       "Batches:   0%|          | 0/1 [00:00<?, ?it/s]"
      ]
     },
     "metadata": {},
     "output_type": "display_data"
    },
    {
     "data": {
      "application/vnd.jupyter.widget-view+json": {
       "model_id": "cd17ebea747d4eb2ab3f55728e84f96d",
       "version_major": 2,
       "version_minor": 0
      },
      "text/plain": [
       "Batches:   0%|          | 0/1 [00:00<?, ?it/s]"
      ]
     },
     "metadata": {},
     "output_type": "display_data"
    },
    {
     "data": {
      "application/vnd.jupyter.widget-view+json": {
       "model_id": "ea3d7c874dae4595a8a3fde0bda61f3c",
       "version_major": 2,
       "version_minor": 0
      },
      "text/plain": [
       "Batches:   0%|          | 0/1 [00:00<?, ?it/s]"
      ]
     },
     "metadata": {},
     "output_type": "display_data"
    },
    {
     "data": {
      "application/vnd.jupyter.widget-view+json": {
       "model_id": "a43e6fc37ca24a88bac7a97121b1feb5",
       "version_major": 2,
       "version_minor": 0
      },
      "text/plain": [
       "Batches:   0%|          | 0/1 [00:00<?, ?it/s]"
      ]
     },
     "metadata": {},
     "output_type": "display_data"
    },
    {
     "data": {
      "application/vnd.jupyter.widget-view+json": {
       "model_id": "ca494a34179246f98cf2abb1c8ac3d45",
       "version_major": 2,
       "version_minor": 0
      },
      "text/plain": [
       "Batches:   0%|          | 0/1 [00:00<?, ?it/s]"
      ]
     },
     "metadata": {},
     "output_type": "display_data"
    },
    {
     "data": {
      "application/vnd.jupyter.widget-view+json": {
       "model_id": "9d984ea6cdda42769faba156d613c82a",
       "version_major": 2,
       "version_minor": 0
      },
      "text/plain": [
       "Batches:   0%|          | 0/1 [00:00<?, ?it/s]"
      ]
     },
     "metadata": {},
     "output_type": "display_data"
    },
    {
     "data": {
      "application/vnd.jupyter.widget-view+json": {
       "model_id": "e24baecc2e664af293eb372aa37a0cd3",
       "version_major": 2,
       "version_minor": 0
      },
      "text/plain": [
       "Batches:   0%|          | 0/1 [00:00<?, ?it/s]"
      ]
     },
     "metadata": {},
     "output_type": "display_data"
    },
    {
     "data": {
      "application/vnd.jupyter.widget-view+json": {
       "model_id": "63c7d2aafc2c42f8b74a8df4f67910a7",
       "version_major": 2,
       "version_minor": 0
      },
      "text/plain": [
       "Batches:   0%|          | 0/1 [00:00<?, ?it/s]"
      ]
     },
     "metadata": {},
     "output_type": "display_data"
    },
    {
     "data": {
      "application/vnd.jupyter.widget-view+json": {
       "model_id": "fcccdb49354a429bbaac748d30fb8b22",
       "version_major": 2,
       "version_minor": 0
      },
      "text/plain": [
       "Batches:   0%|          | 0/1 [00:00<?, ?it/s]"
      ]
     },
     "metadata": {},
     "output_type": "display_data"
    },
    {
     "data": {
      "application/vnd.jupyter.widget-view+json": {
       "model_id": "4e55c692f38e42fa98b888ef43d3d2e9",
       "version_major": 2,
       "version_minor": 0
      },
      "text/plain": [
       "Batches:   0%|          | 0/1 [00:00<?, ?it/s]"
      ]
     },
     "metadata": {},
     "output_type": "display_data"
    },
    {
     "data": {
      "application/vnd.jupyter.widget-view+json": {
       "model_id": "897d0c53624f41dc8d6d3c08caa9faad",
       "version_major": 2,
       "version_minor": 0
      },
      "text/plain": [
       "Batches:   0%|          | 0/1 [00:00<?, ?it/s]"
      ]
     },
     "metadata": {},
     "output_type": "display_data"
    },
    {
     "data": {
      "application/vnd.jupyter.widget-view+json": {
       "model_id": "5b2f8c1de6f04b2d8ccf6f64d952ec19",
       "version_major": 2,
       "version_minor": 0
      },
      "text/plain": [
       "Batches:   0%|          | 0/1 [00:00<?, ?it/s]"
      ]
     },
     "metadata": {},
     "output_type": "display_data"
    },
    {
     "data": {
      "application/vnd.jupyter.widget-view+json": {
       "model_id": "70d789bfd5e3449683e16133238fb5e7",
       "version_major": 2,
       "version_minor": 0
      },
      "text/plain": [
       "Batches:   0%|          | 0/1 [00:00<?, ?it/s]"
      ]
     },
     "metadata": {},
     "output_type": "display_data"
    },
    {
     "data": {
      "application/vnd.jupyter.widget-view+json": {
       "model_id": "fb345449496c4ccfa06229374b1d4afa",
       "version_major": 2,
       "version_minor": 0
      },
      "text/plain": [
       "Batches:   0%|          | 0/1 [00:00<?, ?it/s]"
      ]
     },
     "metadata": {},
     "output_type": "display_data"
    },
    {
     "data": {
      "application/vnd.jupyter.widget-view+json": {
       "model_id": "c9974fd227514eed989d729c0d8bce41",
       "version_major": 2,
       "version_minor": 0
      },
      "text/plain": [
       "Batches:   0%|          | 0/1 [00:00<?, ?it/s]"
      ]
     },
     "metadata": {},
     "output_type": "display_data"
    },
    {
     "data": {
      "application/vnd.jupyter.widget-view+json": {
       "model_id": "639468113a7140ad867b6a09547f5382",
       "version_major": 2,
       "version_minor": 0
      },
      "text/plain": [
       "Batches:   0%|          | 0/1 [00:00<?, ?it/s]"
      ]
     },
     "metadata": {},
     "output_type": "display_data"
    },
    {
     "data": {
      "application/vnd.jupyter.widget-view+json": {
       "model_id": "794037da541a4bf8b1b0bf9b9e3f1bdc",
       "version_major": 2,
       "version_minor": 0
      },
      "text/plain": [
       "Batches:   0%|          | 0/1 [00:00<?, ?it/s]"
      ]
     },
     "metadata": {},
     "output_type": "display_data"
    },
    {
     "data": {
      "application/vnd.jupyter.widget-view+json": {
       "model_id": "8ea5898d7ecb4ecab1455471666c2c84",
       "version_major": 2,
       "version_minor": 0
      },
      "text/plain": [
       "Batches:   0%|          | 0/1 [00:00<?, ?it/s]"
      ]
     },
     "metadata": {},
     "output_type": "display_data"
    },
    {
     "data": {
      "application/vnd.jupyter.widget-view+json": {
       "model_id": "416034a4f01d450680796634884294e6",
       "version_major": 2,
       "version_minor": 0
      },
      "text/plain": [
       "Batches:   0%|          | 0/1 [00:00<?, ?it/s]"
      ]
     },
     "metadata": {},
     "output_type": "display_data"
    },
    {
     "data": {
      "application/vnd.jupyter.widget-view+json": {
       "model_id": "dee415ae3d464bfab7da69f4e5516f52",
       "version_major": 2,
       "version_minor": 0
      },
      "text/plain": [
       "Batches:   0%|          | 0/1 [00:00<?, ?it/s]"
      ]
     },
     "metadata": {},
     "output_type": "display_data"
    },
    {
     "data": {
      "application/vnd.jupyter.widget-view+json": {
       "model_id": "ff6dda1b70e24bb28ebcd204d788bb42",
       "version_major": 2,
       "version_minor": 0
      },
      "text/plain": [
       "Batches:   0%|          | 0/1 [00:00<?, ?it/s]"
      ]
     },
     "metadata": {},
     "output_type": "display_data"
    },
    {
     "data": {
      "application/vnd.jupyter.widget-view+json": {
       "model_id": "8f302d5947044019addff20dd39a4c56",
       "version_major": 2,
       "version_minor": 0
      },
      "text/plain": [
       "Batches:   0%|          | 0/1 [00:00<?, ?it/s]"
      ]
     },
     "metadata": {},
     "output_type": "display_data"
    },
    {
     "data": {
      "application/vnd.jupyter.widget-view+json": {
       "model_id": "6046b7c6e9ee4b09b68ba1464f0cf7e4",
       "version_major": 2,
       "version_minor": 0
      },
      "text/plain": [
       "Batches:   0%|          | 0/1 [00:00<?, ?it/s]"
      ]
     },
     "metadata": {},
     "output_type": "display_data"
    },
    {
     "data": {
      "application/vnd.jupyter.widget-view+json": {
       "model_id": "af4861c9b6924254bce0e4700ba49748",
       "version_major": 2,
       "version_minor": 0
      },
      "text/plain": [
       "Batches:   0%|          | 0/1 [00:00<?, ?it/s]"
      ]
     },
     "metadata": {},
     "output_type": "display_data"
    },
    {
     "data": {
      "application/vnd.jupyter.widget-view+json": {
       "model_id": "45094246dedd48a29bc6ab3bcfcf5e58",
       "version_major": 2,
       "version_minor": 0
      },
      "text/plain": [
       "Batches:   0%|          | 0/1 [00:00<?, ?it/s]"
      ]
     },
     "metadata": {},
     "output_type": "display_data"
    },
    {
     "data": {
      "application/vnd.jupyter.widget-view+json": {
       "model_id": "3724813fe19e4e0cb30862700d8f5956",
       "version_major": 2,
       "version_minor": 0
      },
      "text/plain": [
       "Batches:   0%|          | 0/1 [00:00<?, ?it/s]"
      ]
     },
     "metadata": {},
     "output_type": "display_data"
    },
    {
     "data": {
      "application/vnd.jupyter.widget-view+json": {
       "model_id": "de6f7348d0a34f8f9a4662ad577d5ced",
       "version_major": 2,
       "version_minor": 0
      },
      "text/plain": [
       "Batches:   0%|          | 0/1 [00:00<?, ?it/s]"
      ]
     },
     "metadata": {},
     "output_type": "display_data"
    },
    {
     "data": {
      "application/vnd.jupyter.widget-view+json": {
       "model_id": "1b5ae83780d64640a15e0642d6723e6d",
       "version_major": 2,
       "version_minor": 0
      },
      "text/plain": [
       "Batches:   0%|          | 0/1 [00:00<?, ?it/s]"
      ]
     },
     "metadata": {},
     "output_type": "display_data"
    },
    {
     "data": {
      "application/vnd.jupyter.widget-view+json": {
       "model_id": "e8439cb1b3db4023ad05fa6a6b61801d",
       "version_major": 2,
       "version_minor": 0
      },
      "text/plain": [
       "Batches:   0%|          | 0/1 [00:00<?, ?it/s]"
      ]
     },
     "metadata": {},
     "output_type": "display_data"
    },
    {
     "data": {
      "application/vnd.jupyter.widget-view+json": {
       "model_id": "d0c38a66602e4091844b944af6b57916",
       "version_major": 2,
       "version_minor": 0
      },
      "text/plain": [
       "Batches:   0%|          | 0/1 [00:00<?, ?it/s]"
      ]
     },
     "metadata": {},
     "output_type": "display_data"
    },
    {
     "data": {
      "application/vnd.jupyter.widget-view+json": {
       "model_id": "a86553e507904acebc9310c10c5a74fd",
       "version_major": 2,
       "version_minor": 0
      },
      "text/plain": [
       "Batches:   0%|          | 0/1 [00:00<?, ?it/s]"
      ]
     },
     "metadata": {},
     "output_type": "display_data"
    },
    {
     "data": {
      "application/vnd.jupyter.widget-view+json": {
       "model_id": "ce57d8043de64169b95065150f069156",
       "version_major": 2,
       "version_minor": 0
      },
      "text/plain": [
       "Batches:   0%|          | 0/1 [00:00<?, ?it/s]"
      ]
     },
     "metadata": {},
     "output_type": "display_data"
    },
    {
     "data": {
      "application/vnd.jupyter.widget-view+json": {
       "model_id": "317482b6a0cf4da2acbb621e62dbcfac",
       "version_major": 2,
       "version_minor": 0
      },
      "text/plain": [
       "Batches:   0%|          | 0/1 [00:00<?, ?it/s]"
      ]
     },
     "metadata": {},
     "output_type": "display_data"
    },
    {
     "data": {
      "application/vnd.jupyter.widget-view+json": {
       "model_id": "4625ef7bea944936986a80bbe0357e3e",
       "version_major": 2,
       "version_minor": 0
      },
      "text/plain": [
       "Batches:   0%|          | 0/1 [00:00<?, ?it/s]"
      ]
     },
     "metadata": {},
     "output_type": "display_data"
    },
    {
     "data": {
      "application/vnd.jupyter.widget-view+json": {
       "model_id": "b507b76fa6f7473f9491c9adbf24fa05",
       "version_major": 2,
       "version_minor": 0
      },
      "text/plain": [
       "Batches:   0%|          | 0/1 [00:00<?, ?it/s]"
      ]
     },
     "metadata": {},
     "output_type": "display_data"
    },
    {
     "data": {
      "application/vnd.jupyter.widget-view+json": {
       "model_id": "0a8fa6b6176442c2a5cfc22a9ccde4b4",
       "version_major": 2,
       "version_minor": 0
      },
      "text/plain": [
       "Batches:   0%|          | 0/1 [00:00<?, ?it/s]"
      ]
     },
     "metadata": {},
     "output_type": "display_data"
    },
    {
     "data": {
      "application/vnd.jupyter.widget-view+json": {
       "model_id": "9c4ed19b2e104e92b256d995c3b89ad8",
       "version_major": 2,
       "version_minor": 0
      },
      "text/plain": [
       "Batches:   0%|          | 0/1 [00:00<?, ?it/s]"
      ]
     },
     "metadata": {},
     "output_type": "display_data"
    },
    {
     "data": {
      "application/vnd.jupyter.widget-view+json": {
       "model_id": "224629ee181f427f9e3a9669eb7cfa0b",
       "version_major": 2,
       "version_minor": 0
      },
      "text/plain": [
       "Batches:   0%|          | 0/1 [00:00<?, ?it/s]"
      ]
     },
     "metadata": {},
     "output_type": "display_data"
    },
    {
     "data": {
      "application/vnd.jupyter.widget-view+json": {
       "model_id": "492bc7adc8ac450fb150682e26f9d627",
       "version_major": 2,
       "version_minor": 0
      },
      "text/plain": [
       "Batches:   0%|          | 0/1 [00:00<?, ?it/s]"
      ]
     },
     "metadata": {},
     "output_type": "display_data"
    },
    {
     "data": {
      "application/vnd.jupyter.widget-view+json": {
       "model_id": "b77056cc88fa487e9a85c00e202e5e97",
       "version_major": 2,
       "version_minor": 0
      },
      "text/plain": [
       "Batches:   0%|          | 0/1 [00:00<?, ?it/s]"
      ]
     },
     "metadata": {},
     "output_type": "display_data"
    },
    {
     "data": {
      "application/vnd.jupyter.widget-view+json": {
       "model_id": "de4152d218b7491a97b6deb4cc537c5c",
       "version_major": 2,
       "version_minor": 0
      },
      "text/plain": [
       "Batches:   0%|          | 0/1 [00:00<?, ?it/s]"
      ]
     },
     "metadata": {},
     "output_type": "display_data"
    },
    {
     "data": {
      "application/vnd.jupyter.widget-view+json": {
       "model_id": "9a71f4a1ef024929ab0ac1163a2d083f",
       "version_major": 2,
       "version_minor": 0
      },
      "text/plain": [
       "Batches:   0%|          | 0/1 [00:00<?, ?it/s]"
      ]
     },
     "metadata": {},
     "output_type": "display_data"
    },
    {
     "data": {
      "application/vnd.jupyter.widget-view+json": {
       "model_id": "c8fe9d54230246fa88147847e7c9cf22",
       "version_major": 2,
       "version_minor": 0
      },
      "text/plain": [
       "Batches:   0%|          | 0/1 [00:00<?, ?it/s]"
      ]
     },
     "metadata": {},
     "output_type": "display_data"
    },
    {
     "data": {
      "application/vnd.jupyter.widget-view+json": {
       "model_id": "06a2560d1e4d42b9b252bf2e82681674",
       "version_major": 2,
       "version_minor": 0
      },
      "text/plain": [
       "Batches:   0%|          | 0/1 [00:00<?, ?it/s]"
      ]
     },
     "metadata": {},
     "output_type": "display_data"
    },
    {
     "data": {
      "application/vnd.jupyter.widget-view+json": {
       "model_id": "27432d61f66944bb91d83c37d5ad5029",
       "version_major": 2,
       "version_minor": 0
      },
      "text/plain": [
       "Batches:   0%|          | 0/1 [00:00<?, ?it/s]"
      ]
     },
     "metadata": {},
     "output_type": "display_data"
    },
    {
     "data": {
      "application/vnd.jupyter.widget-view+json": {
       "model_id": "f3f868278cf2411cb224c3a6fca81bc0",
       "version_major": 2,
       "version_minor": 0
      },
      "text/plain": [
       "Batches:   0%|          | 0/1 [00:00<?, ?it/s]"
      ]
     },
     "metadata": {},
     "output_type": "display_data"
    },
    {
     "data": {
      "application/vnd.jupyter.widget-view+json": {
       "model_id": "d6d0c5e2480d4a6dbcbb9623b2eff9ed",
       "version_major": 2,
       "version_minor": 0
      },
      "text/plain": [
       "Batches:   0%|          | 0/1 [00:00<?, ?it/s]"
      ]
     },
     "metadata": {},
     "output_type": "display_data"
    },
    {
     "data": {
      "application/vnd.jupyter.widget-view+json": {
       "model_id": "50ab5d4abb2d45c3a7bb18b0b356b397",
       "version_major": 2,
       "version_minor": 0
      },
      "text/plain": [
       "Batches:   0%|          | 0/1 [00:00<?, ?it/s]"
      ]
     },
     "metadata": {},
     "output_type": "display_data"
    },
    {
     "data": {
      "application/vnd.jupyter.widget-view+json": {
       "model_id": "80600de08a5c4c098e70521be11246b4",
       "version_major": 2,
       "version_minor": 0
      },
      "text/plain": [
       "Batches:   0%|          | 0/1 [00:00<?, ?it/s]"
      ]
     },
     "metadata": {},
     "output_type": "display_data"
    },
    {
     "data": {
      "application/vnd.jupyter.widget-view+json": {
       "model_id": "ee50e7864dcd40e4968e22e921363f03",
       "version_major": 2,
       "version_minor": 0
      },
      "text/plain": [
       "Batches:   0%|          | 0/1 [00:00<?, ?it/s]"
      ]
     },
     "metadata": {},
     "output_type": "display_data"
    },
    {
     "data": {
      "application/vnd.jupyter.widget-view+json": {
       "model_id": "654e77b77b694d889331595484c133cd",
       "version_major": 2,
       "version_minor": 0
      },
      "text/plain": [
       "Batches:   0%|          | 0/1 [00:00<?, ?it/s]"
      ]
     },
     "metadata": {},
     "output_type": "display_data"
    },
    {
     "data": {
      "application/vnd.jupyter.widget-view+json": {
       "model_id": "7b28b0d6841a411f8f9da96b84220d8e",
       "version_major": 2,
       "version_minor": 0
      },
      "text/plain": [
       "Batches:   0%|          | 0/1 [00:00<?, ?it/s]"
      ]
     },
     "metadata": {},
     "output_type": "display_data"
    },
    {
     "data": {
      "application/vnd.jupyter.widget-view+json": {
       "model_id": "53601ec79ce640e5a7f55310d53efb91",
       "version_major": 2,
       "version_minor": 0
      },
      "text/plain": [
       "Batches:   0%|          | 0/1 [00:00<?, ?it/s]"
      ]
     },
     "metadata": {},
     "output_type": "display_data"
    },
    {
     "data": {
      "application/vnd.jupyter.widget-view+json": {
       "model_id": "dfee2d5bcf974bd1888812251e59032a",
       "version_major": 2,
       "version_minor": 0
      },
      "text/plain": [
       "Batches:   0%|          | 0/1 [00:00<?, ?it/s]"
      ]
     },
     "metadata": {},
     "output_type": "display_data"
    },
    {
     "data": {
      "application/vnd.jupyter.widget-view+json": {
       "model_id": "22e68de9107d4bf7a3d397f600921e47",
       "version_major": 2,
       "version_minor": 0
      },
      "text/plain": [
       "Batches:   0%|          | 0/1 [00:00<?, ?it/s]"
      ]
     },
     "metadata": {},
     "output_type": "display_data"
    },
    {
     "data": {
      "application/vnd.jupyter.widget-view+json": {
       "model_id": "acddb799c48f440fb7a698f2be4737df",
       "version_major": 2,
       "version_minor": 0
      },
      "text/plain": [
       "Batches:   0%|          | 0/1 [00:00<?, ?it/s]"
      ]
     },
     "metadata": {},
     "output_type": "display_data"
    },
    {
     "data": {
      "application/vnd.jupyter.widget-view+json": {
       "model_id": "f843cc1f01074a4ea08ce06bce9d0e6c",
       "version_major": 2,
       "version_minor": 0
      },
      "text/plain": [
       "Batches:   0%|          | 0/1 [00:00<?, ?it/s]"
      ]
     },
     "metadata": {},
     "output_type": "display_data"
    },
    {
     "data": {
      "application/vnd.jupyter.widget-view+json": {
       "model_id": "37484e2e26fd483a9b4c09ad9f18c831",
       "version_major": 2,
       "version_minor": 0
      },
      "text/plain": [
       "Batches:   0%|          | 0/1 [00:00<?, ?it/s]"
      ]
     },
     "metadata": {},
     "output_type": "display_data"
    },
    {
     "data": {
      "application/vnd.jupyter.widget-view+json": {
       "model_id": "99a3aae51aad494e9413c25dc34a6c73",
       "version_major": 2,
       "version_minor": 0
      },
      "text/plain": [
       "Batches:   0%|          | 0/1 [00:00<?, ?it/s]"
      ]
     },
     "metadata": {},
     "output_type": "display_data"
    },
    {
     "data": {
      "application/vnd.jupyter.widget-view+json": {
       "model_id": "272c93add1df4867a0ada613c22e7a88",
       "version_major": 2,
       "version_minor": 0
      },
      "text/plain": [
       "Batches:   0%|          | 0/1 [00:00<?, ?it/s]"
      ]
     },
     "metadata": {},
     "output_type": "display_data"
    },
    {
     "data": {
      "application/vnd.jupyter.widget-view+json": {
       "model_id": "ee51d7059fad41d68364608c0d02a9bf",
       "version_major": 2,
       "version_minor": 0
      },
      "text/plain": [
       "Batches:   0%|          | 0/1 [00:00<?, ?it/s]"
      ]
     },
     "metadata": {},
     "output_type": "display_data"
    },
    {
     "data": {
      "application/vnd.jupyter.widget-view+json": {
       "model_id": "8c29233d3c6f4cf78a6e839e18e8f894",
       "version_major": 2,
       "version_minor": 0
      },
      "text/plain": [
       "Batches:   0%|          | 0/1 [00:00<?, ?it/s]"
      ]
     },
     "metadata": {},
     "output_type": "display_data"
    },
    {
     "data": {
      "application/vnd.jupyter.widget-view+json": {
       "model_id": "fb0d7d787b924e1aad637786e358f0f2",
       "version_major": 2,
       "version_minor": 0
      },
      "text/plain": [
       "Batches:   0%|          | 0/1 [00:00<?, ?it/s]"
      ]
     },
     "metadata": {},
     "output_type": "display_data"
    },
    {
     "data": {
      "application/vnd.jupyter.widget-view+json": {
       "model_id": "e820de01a26c4bbfa7a56901aed5f554",
       "version_major": 2,
       "version_minor": 0
      },
      "text/plain": [
       "Batches:   0%|          | 0/1 [00:00<?, ?it/s]"
      ]
     },
     "metadata": {},
     "output_type": "display_data"
    },
    {
     "data": {
      "application/vnd.jupyter.widget-view+json": {
       "model_id": "eb923c827228447488b8bca9f0385274",
       "version_major": 2,
       "version_minor": 0
      },
      "text/plain": [
       "Batches:   0%|          | 0/1 [00:00<?, ?it/s]"
      ]
     },
     "metadata": {},
     "output_type": "display_data"
    },
    {
     "data": {
      "application/vnd.jupyter.widget-view+json": {
       "model_id": "afb887667baa4c05b343ae265c9e4190",
       "version_major": 2,
       "version_minor": 0
      },
      "text/plain": [
       "Batches:   0%|          | 0/1 [00:00<?, ?it/s]"
      ]
     },
     "metadata": {},
     "output_type": "display_data"
    },
    {
     "data": {
      "application/vnd.jupyter.widget-view+json": {
       "model_id": "0195b5287a5c477ca0e951dcd0920b82",
       "version_major": 2,
       "version_minor": 0
      },
      "text/plain": [
       "Batches:   0%|          | 0/1 [00:00<?, ?it/s]"
      ]
     },
     "metadata": {},
     "output_type": "display_data"
    },
    {
     "data": {
      "application/vnd.jupyter.widget-view+json": {
       "model_id": "680a49c200084c7aaefb2f343249f28f",
       "version_major": 2,
       "version_minor": 0
      },
      "text/plain": [
       "Batches:   0%|          | 0/1 [00:00<?, ?it/s]"
      ]
     },
     "metadata": {},
     "output_type": "display_data"
    },
    {
     "data": {
      "application/vnd.jupyter.widget-view+json": {
       "model_id": "1d19ba8581454a9a91b6e244eda95ca4",
       "version_major": 2,
       "version_minor": 0
      },
      "text/plain": [
       "Batches:   0%|          | 0/1 [00:00<?, ?it/s]"
      ]
     },
     "metadata": {},
     "output_type": "display_data"
    },
    {
     "data": {
      "application/vnd.jupyter.widget-view+json": {
       "model_id": "f7dbf840b4f04699bc07120d33485f58",
       "version_major": 2,
       "version_minor": 0
      },
      "text/plain": [
       "Batches:   0%|          | 0/1 [00:00<?, ?it/s]"
      ]
     },
     "metadata": {},
     "output_type": "display_data"
    },
    {
     "data": {
      "application/vnd.jupyter.widget-view+json": {
       "model_id": "56ccdf8aa96d498991b20d2d9a2edb05",
       "version_major": 2,
       "version_minor": 0
      },
      "text/plain": [
       "Batches:   0%|          | 0/1 [00:00<?, ?it/s]"
      ]
     },
     "metadata": {},
     "output_type": "display_data"
    },
    {
     "data": {
      "application/vnd.jupyter.widget-view+json": {
       "model_id": "07c3ccf9eee6455998be4d1d2ed7a855",
       "version_major": 2,
       "version_minor": 0
      },
      "text/plain": [
       "Batches:   0%|          | 0/1 [00:00<?, ?it/s]"
      ]
     },
     "metadata": {},
     "output_type": "display_data"
    },
    {
     "data": {
      "application/vnd.jupyter.widget-view+json": {
       "model_id": "14f4a94abbd14ed5a4276ee103dd3630",
       "version_major": 2,
       "version_minor": 0
      },
      "text/plain": [
       "Batches:   0%|          | 0/1 [00:00<?, ?it/s]"
      ]
     },
     "metadata": {},
     "output_type": "display_data"
    },
    {
     "data": {
      "application/vnd.jupyter.widget-view+json": {
       "model_id": "42850f80e5334f708473acd609dd6c79",
       "version_major": 2,
       "version_minor": 0
      },
      "text/plain": [
       "Batches:   0%|          | 0/1 [00:00<?, ?it/s]"
      ]
     },
     "metadata": {},
     "output_type": "display_data"
    },
    {
     "data": {
      "application/vnd.jupyter.widget-view+json": {
       "model_id": "a4d346a99097461eb67893968ed43983",
       "version_major": 2,
       "version_minor": 0
      },
      "text/plain": [
       "Batches:   0%|          | 0/1 [00:00<?, ?it/s]"
      ]
     },
     "metadata": {},
     "output_type": "display_data"
    },
    {
     "data": {
      "application/vnd.jupyter.widget-view+json": {
       "model_id": "c39fe5ff12b04ca5b9db36d3136417ef",
       "version_major": 2,
       "version_minor": 0
      },
      "text/plain": [
       "Batches:   0%|          | 0/1 [00:00<?, ?it/s]"
      ]
     },
     "metadata": {},
     "output_type": "display_data"
    },
    {
     "data": {
      "application/vnd.jupyter.widget-view+json": {
       "model_id": "0b8f677805344f5c9da094e8b1dda4c0",
       "version_major": 2,
       "version_minor": 0
      },
      "text/plain": [
       "Batches:   0%|          | 0/1 [00:00<?, ?it/s]"
      ]
     },
     "metadata": {},
     "output_type": "display_data"
    },
    {
     "data": {
      "application/vnd.jupyter.widget-view+json": {
       "model_id": "19b8e4fe83c0476781806c231c2b054f",
       "version_major": 2,
       "version_minor": 0
      },
      "text/plain": [
       "Batches:   0%|          | 0/1 [00:00<?, ?it/s]"
      ]
     },
     "metadata": {},
     "output_type": "display_data"
    },
    {
     "data": {
      "application/vnd.jupyter.widget-view+json": {
       "model_id": "f4b8806eae8642079d7921ea90cd15c9",
       "version_major": 2,
       "version_minor": 0
      },
      "text/plain": [
       "Batches:   0%|          | 0/1 [00:00<?, ?it/s]"
      ]
     },
     "metadata": {},
     "output_type": "display_data"
    },
    {
     "data": {
      "application/vnd.jupyter.widget-view+json": {
       "model_id": "3c0e1213e58241dcb541ebc9fd916621",
       "version_major": 2,
       "version_minor": 0
      },
      "text/plain": [
       "Batches:   0%|          | 0/1 [00:00<?, ?it/s]"
      ]
     },
     "metadata": {},
     "output_type": "display_data"
    },
    {
     "data": {
      "application/vnd.jupyter.widget-view+json": {
       "model_id": "3a25f12f5aa144e7a33c9f8d1b47a3cc",
       "version_major": 2,
       "version_minor": 0
      },
      "text/plain": [
       "Batches:   0%|          | 0/1 [00:00<?, ?it/s]"
      ]
     },
     "metadata": {},
     "output_type": "display_data"
    },
    {
     "data": {
      "application/vnd.jupyter.widget-view+json": {
       "model_id": "304e54491c2249fd9bdf2cf033f12948",
       "version_major": 2,
       "version_minor": 0
      },
      "text/plain": [
       "Batches:   0%|          | 0/1 [00:00<?, ?it/s]"
      ]
     },
     "metadata": {},
     "output_type": "display_data"
    },
    {
     "data": {
      "application/vnd.jupyter.widget-view+json": {
       "model_id": "d84d46a53d8949fc8c2d59faafe6c774",
       "version_major": 2,
       "version_minor": 0
      },
      "text/plain": [
       "Batches:   0%|          | 0/1 [00:00<?, ?it/s]"
      ]
     },
     "metadata": {},
     "output_type": "display_data"
    },
    {
     "data": {
      "application/vnd.jupyter.widget-view+json": {
       "model_id": "232fd490eb154410878c8f441f9e7206",
       "version_major": 2,
       "version_minor": 0
      },
      "text/plain": [
       "Batches:   0%|          | 0/1 [00:00<?, ?it/s]"
      ]
     },
     "metadata": {},
     "output_type": "display_data"
    },
    {
     "data": {
      "application/vnd.jupyter.widget-view+json": {
       "model_id": "8d216aae179b4137b2656e6e7ae14232",
       "version_major": 2,
       "version_minor": 0
      },
      "text/plain": [
       "Batches:   0%|          | 0/1 [00:00<?, ?it/s]"
      ]
     },
     "metadata": {},
     "output_type": "display_data"
    },
    {
     "data": {
      "application/vnd.jupyter.widget-view+json": {
       "model_id": "34e6744a77c844f4b7448a57703884b2",
       "version_major": 2,
       "version_minor": 0
      },
      "text/plain": [
       "Batches:   0%|          | 0/1 [00:00<?, ?it/s]"
      ]
     },
     "metadata": {},
     "output_type": "display_data"
    },
    {
     "data": {
      "application/vnd.jupyter.widget-view+json": {
       "model_id": "43149de2450049c5819ffb1c50bb0432",
       "version_major": 2,
       "version_minor": 0
      },
      "text/plain": [
       "Batches:   0%|          | 0/1 [00:00<?, ?it/s]"
      ]
     },
     "metadata": {},
     "output_type": "display_data"
    },
    {
     "data": {
      "application/vnd.jupyter.widget-view+json": {
       "model_id": "c445fe59bf9c45d8a1989eab3e5a02e6",
       "version_major": 2,
       "version_minor": 0
      },
      "text/plain": [
       "Batches:   0%|          | 0/1 [00:00<?, ?it/s]"
      ]
     },
     "metadata": {},
     "output_type": "display_data"
    },
    {
     "data": {
      "application/vnd.jupyter.widget-view+json": {
       "model_id": "73365e31e963422d8f988427f323cd40",
       "version_major": 2,
       "version_minor": 0
      },
      "text/plain": [
       "Batches:   0%|          | 0/1 [00:00<?, ?it/s]"
      ]
     },
     "metadata": {},
     "output_type": "display_data"
    },
    {
     "data": {
      "application/vnd.jupyter.widget-view+json": {
       "model_id": "fbe48a6e72e24e9099ef5198ea8dcbd2",
       "version_major": 2,
       "version_minor": 0
      },
      "text/plain": [
       "Batches:   0%|          | 0/1 [00:00<?, ?it/s]"
      ]
     },
     "metadata": {},
     "output_type": "display_data"
    },
    {
     "data": {
      "application/vnd.jupyter.widget-view+json": {
       "model_id": "3a7e7abef135405580ee1ab667a0af0f",
       "version_major": 2,
       "version_minor": 0
      },
      "text/plain": [
       "Batches:   0%|          | 0/1 [00:00<?, ?it/s]"
      ]
     },
     "metadata": {},
     "output_type": "display_data"
    },
    {
     "data": {
      "application/vnd.jupyter.widget-view+json": {
       "model_id": "f01eeeaedc8149768b3dccd9c575fc26",
       "version_major": 2,
       "version_minor": 0
      },
      "text/plain": [
       "Batches:   0%|          | 0/1 [00:00<?, ?it/s]"
      ]
     },
     "metadata": {},
     "output_type": "display_data"
    },
    {
     "data": {
      "application/vnd.jupyter.widget-view+json": {
       "model_id": "923b9ae0bcee49979409aa927fa3ae91",
       "version_major": 2,
       "version_minor": 0
      },
      "text/plain": [
       "Batches:   0%|          | 0/1 [00:00<?, ?it/s]"
      ]
     },
     "metadata": {},
     "output_type": "display_data"
    },
    {
     "data": {
      "application/vnd.jupyter.widget-view+json": {
       "model_id": "8dbe9bf3d2974b3ab1289fc2f7c899ee",
       "version_major": 2,
       "version_minor": 0
      },
      "text/plain": [
       "Batches:   0%|          | 0/1 [00:00<?, ?it/s]"
      ]
     },
     "metadata": {},
     "output_type": "display_data"
    },
    {
     "data": {
      "application/vnd.jupyter.widget-view+json": {
       "model_id": "10daeb33af4d495d973406dc28c84e6e",
       "version_major": 2,
       "version_minor": 0
      },
      "text/plain": [
       "Batches:   0%|          | 0/1 [00:00<?, ?it/s]"
      ]
     },
     "metadata": {},
     "output_type": "display_data"
    },
    {
     "data": {
      "application/vnd.jupyter.widget-view+json": {
       "model_id": "e9576e0aebd34fc2933c3d4c3c79d2f7",
       "version_major": 2,
       "version_minor": 0
      },
      "text/plain": [
       "Batches:   0%|          | 0/1 [00:00<?, ?it/s]"
      ]
     },
     "metadata": {},
     "output_type": "display_data"
    },
    {
     "data": {
      "application/vnd.jupyter.widget-view+json": {
       "model_id": "8b0bcd68714447abb3e8c58030e12dd3",
       "version_major": 2,
       "version_minor": 0
      },
      "text/plain": [
       "Batches:   0%|          | 0/1 [00:00<?, ?it/s]"
      ]
     },
     "metadata": {},
     "output_type": "display_data"
    },
    {
     "data": {
      "application/vnd.jupyter.widget-view+json": {
       "model_id": "e36c1a69ebb64a07a2f5cc484696dfad",
       "version_major": 2,
       "version_minor": 0
      },
      "text/plain": [
       "Batches:   0%|          | 0/1 [00:00<?, ?it/s]"
      ]
     },
     "metadata": {},
     "output_type": "display_data"
    },
    {
     "data": {
      "application/vnd.jupyter.widget-view+json": {
       "model_id": "45a3bfdf322b43e88284afcc767c26fa",
       "version_major": 2,
       "version_minor": 0
      },
      "text/plain": [
       "Batches:   0%|          | 0/1 [00:00<?, ?it/s]"
      ]
     },
     "metadata": {},
     "output_type": "display_data"
    },
    {
     "data": {
      "application/vnd.jupyter.widget-view+json": {
       "model_id": "9c8ee1a8a47f4b029a7d931bfa5cc8e0",
       "version_major": 2,
       "version_minor": 0
      },
      "text/plain": [
       "Batches:   0%|          | 0/1 [00:00<?, ?it/s]"
      ]
     },
     "metadata": {},
     "output_type": "display_data"
    },
    {
     "data": {
      "application/vnd.jupyter.widget-view+json": {
       "model_id": "4447fe9f1e2c4b1dacfd7872c76f0263",
       "version_major": 2,
       "version_minor": 0
      },
      "text/plain": [
       "Batches:   0%|          | 0/1 [00:00<?, ?it/s]"
      ]
     },
     "metadata": {},
     "output_type": "display_data"
    },
    {
     "data": {
      "application/vnd.jupyter.widget-view+json": {
       "model_id": "1ff8185db54f4167a02aaf6dfced0b3e",
       "version_major": 2,
       "version_minor": 0
      },
      "text/plain": [
       "Batches:   0%|          | 0/1 [00:00<?, ?it/s]"
      ]
     },
     "metadata": {},
     "output_type": "display_data"
    },
    {
     "data": {
      "application/vnd.jupyter.widget-view+json": {
       "model_id": "06a06b4d19024bfeba86899b390687e8",
       "version_major": 2,
       "version_minor": 0
      },
      "text/plain": [
       "Batches:   0%|          | 0/1 [00:00<?, ?it/s]"
      ]
     },
     "metadata": {},
     "output_type": "display_data"
    },
    {
     "data": {
      "application/vnd.jupyter.widget-view+json": {
       "model_id": "303fc6b561de4466a21b46417c3afaab",
       "version_major": 2,
       "version_minor": 0
      },
      "text/plain": [
       "Batches:   0%|          | 0/1 [00:00<?, ?it/s]"
      ]
     },
     "metadata": {},
     "output_type": "display_data"
    },
    {
     "data": {
      "application/vnd.jupyter.widget-view+json": {
       "model_id": "d3388537658e4cf1965a3be24c13bae7",
       "version_major": 2,
       "version_minor": 0
      },
      "text/plain": [
       "Batches:   0%|          | 0/1 [00:00<?, ?it/s]"
      ]
     },
     "metadata": {},
     "output_type": "display_data"
    },
    {
     "data": {
      "application/vnd.jupyter.widget-view+json": {
       "model_id": "b76e0b1b0c8f42d989c43565df759c79",
       "version_major": 2,
       "version_minor": 0
      },
      "text/plain": [
       "Batches:   0%|          | 0/1 [00:00<?, ?it/s]"
      ]
     },
     "metadata": {},
     "output_type": "display_data"
    },
    {
     "data": {
      "application/vnd.jupyter.widget-view+json": {
       "model_id": "dee2f1d2492d4bee9a0d0bea2ebfe200",
       "version_major": 2,
       "version_minor": 0
      },
      "text/plain": [
       "Batches:   0%|          | 0/1 [00:00<?, ?it/s]"
      ]
     },
     "metadata": {},
     "output_type": "display_data"
    },
    {
     "data": {
      "application/vnd.jupyter.widget-view+json": {
       "model_id": "53c435af9eb54457b32ea0b08b7fe1e1",
       "version_major": 2,
       "version_minor": 0
      },
      "text/plain": [
       "Batches:   0%|          | 0/1 [00:00<?, ?it/s]"
      ]
     },
     "metadata": {},
     "output_type": "display_data"
    },
    {
     "data": {
      "application/vnd.jupyter.widget-view+json": {
       "model_id": "dbc1d95654424a27a5568f0e9d5724ae",
       "version_major": 2,
       "version_minor": 0
      },
      "text/plain": [
       "Batches:   0%|          | 0/1 [00:00<?, ?it/s]"
      ]
     },
     "metadata": {},
     "output_type": "display_data"
    },
    {
     "data": {
      "application/vnd.jupyter.widget-view+json": {
       "model_id": "3f0dcb5a575c4b16aa1373ae109f86bd",
       "version_major": 2,
       "version_minor": 0
      },
      "text/plain": [
       "Batches:   0%|          | 0/1 [00:00<?, ?it/s]"
      ]
     },
     "metadata": {},
     "output_type": "display_data"
    },
    {
     "data": {
      "application/vnd.jupyter.widget-view+json": {
       "model_id": "8bcadba88fd0467485a23dab4eca6677",
       "version_major": 2,
       "version_minor": 0
      },
      "text/plain": [
       "Batches:   0%|          | 0/1 [00:00<?, ?it/s]"
      ]
     },
     "metadata": {},
     "output_type": "display_data"
    },
    {
     "data": {
      "application/vnd.jupyter.widget-view+json": {
       "model_id": "8d87f76c18bf4b05b2e8a0eb6b44ab5f",
       "version_major": 2,
       "version_minor": 0
      },
      "text/plain": [
       "Batches:   0%|          | 0/1 [00:00<?, ?it/s]"
      ]
     },
     "metadata": {},
     "output_type": "display_data"
    },
    {
     "data": {
      "application/vnd.jupyter.widget-view+json": {
       "model_id": "9207107af2c440e989a7549f4d37225e",
       "version_major": 2,
       "version_minor": 0
      },
      "text/plain": [
       "Batches:   0%|          | 0/1 [00:00<?, ?it/s]"
      ]
     },
     "metadata": {},
     "output_type": "display_data"
    },
    {
     "data": {
      "application/vnd.jupyter.widget-view+json": {
       "model_id": "ff13e1e7f1f644879ce1307883b12f02",
       "version_major": 2,
       "version_minor": 0
      },
      "text/plain": [
       "Batches:   0%|          | 0/1 [00:00<?, ?it/s]"
      ]
     },
     "metadata": {},
     "output_type": "display_data"
    },
    {
     "data": {
      "application/vnd.jupyter.widget-view+json": {
       "model_id": "043b81a7429a4188a65269b974ef9c4f",
       "version_major": 2,
       "version_minor": 0
      },
      "text/plain": [
       "Batches:   0%|          | 0/1 [00:00<?, ?it/s]"
      ]
     },
     "metadata": {},
     "output_type": "display_data"
    },
    {
     "data": {
      "application/vnd.jupyter.widget-view+json": {
       "model_id": "f388d25317a54d6485cb8e79109de733",
       "version_major": 2,
       "version_minor": 0
      },
      "text/plain": [
       "Batches:   0%|          | 0/1 [00:00<?, ?it/s]"
      ]
     },
     "metadata": {},
     "output_type": "display_data"
    },
    {
     "data": {
      "application/vnd.jupyter.widget-view+json": {
       "model_id": "026a968670324bbb9f34b858487f93f4",
       "version_major": 2,
       "version_minor": 0
      },
      "text/plain": [
       "Batches:   0%|          | 0/1 [00:00<?, ?it/s]"
      ]
     },
     "metadata": {},
     "output_type": "display_data"
    },
    {
     "data": {
      "application/vnd.jupyter.widget-view+json": {
       "model_id": "10652b2c619648148beb7815f2da9b4a",
       "version_major": 2,
       "version_minor": 0
      },
      "text/plain": [
       "Batches:   0%|          | 0/1 [00:00<?, ?it/s]"
      ]
     },
     "metadata": {},
     "output_type": "display_data"
    },
    {
     "data": {
      "application/vnd.jupyter.widget-view+json": {
       "model_id": "5cf55ab51fd949af8fdef8fe5b1fd2ce",
       "version_major": 2,
       "version_minor": 0
      },
      "text/plain": [
       "Batches:   0%|          | 0/1 [00:00<?, ?it/s]"
      ]
     },
     "metadata": {},
     "output_type": "display_data"
    },
    {
     "data": {
      "application/vnd.jupyter.widget-view+json": {
       "model_id": "ffb3e57ef85f4e1dbe04f08c72a4a031",
       "version_major": 2,
       "version_minor": 0
      },
      "text/plain": [
       "Batches:   0%|          | 0/1 [00:00<?, ?it/s]"
      ]
     },
     "metadata": {},
     "output_type": "display_data"
    },
    {
     "data": {
      "application/vnd.jupyter.widget-view+json": {
       "model_id": "6fe409f24080429098cda0d5085c2dd0",
       "version_major": 2,
       "version_minor": 0
      },
      "text/plain": [
       "Batches:   0%|          | 0/1 [00:00<?, ?it/s]"
      ]
     },
     "metadata": {},
     "output_type": "display_data"
    },
    {
     "data": {
      "application/vnd.jupyter.widget-view+json": {
       "model_id": "64168816f4fc4cfa8ec8a5d20d461b0d",
       "version_major": 2,
       "version_minor": 0
      },
      "text/plain": [
       "Batches:   0%|          | 0/1 [00:00<?, ?it/s]"
      ]
     },
     "metadata": {},
     "output_type": "display_data"
    },
    {
     "data": {
      "application/vnd.jupyter.widget-view+json": {
       "model_id": "822a07321cca4a8bb24b17bd13f14a22",
       "version_major": 2,
       "version_minor": 0
      },
      "text/plain": [
       "Batches:   0%|          | 0/1 [00:00<?, ?it/s]"
      ]
     },
     "metadata": {},
     "output_type": "display_data"
    },
    {
     "data": {
      "application/vnd.jupyter.widget-view+json": {
       "model_id": "9d90ca2dea7546619b89335a79d23af3",
       "version_major": 2,
       "version_minor": 0
      },
      "text/plain": [
       "Batches:   0%|          | 0/1 [00:00<?, ?it/s]"
      ]
     },
     "metadata": {},
     "output_type": "display_data"
    },
    {
     "data": {
      "application/vnd.jupyter.widget-view+json": {
       "model_id": "f489c7990a3c4973a3a445dc1b3314b6",
       "version_major": 2,
       "version_minor": 0
      },
      "text/plain": [
       "Batches:   0%|          | 0/1 [00:00<?, ?it/s]"
      ]
     },
     "metadata": {},
     "output_type": "display_data"
    },
    {
     "data": {
      "application/vnd.jupyter.widget-view+json": {
       "model_id": "74ead9c893434ec2ae4fbdca0cbd5a4f",
       "version_major": 2,
       "version_minor": 0
      },
      "text/plain": [
       "Batches:   0%|          | 0/1 [00:00<?, ?it/s]"
      ]
     },
     "metadata": {},
     "output_type": "display_data"
    },
    {
     "data": {
      "application/vnd.jupyter.widget-view+json": {
       "model_id": "f9354060efb041f4acfbff7b0620a038",
       "version_major": 2,
       "version_minor": 0
      },
      "text/plain": [
       "Batches:   0%|          | 0/1 [00:00<?, ?it/s]"
      ]
     },
     "metadata": {},
     "output_type": "display_data"
    },
    {
     "data": {
      "application/vnd.jupyter.widget-view+json": {
       "model_id": "41af66586cdb4bedb2cc39912ac7ce1d",
       "version_major": 2,
       "version_minor": 0
      },
      "text/plain": [
       "Batches:   0%|          | 0/1 [00:00<?, ?it/s]"
      ]
     },
     "metadata": {},
     "output_type": "display_data"
    },
    {
     "data": {
      "application/vnd.jupyter.widget-view+json": {
       "model_id": "3049c297ef044596899a091db19cd7d1",
       "version_major": 2,
       "version_minor": 0
      },
      "text/plain": [
       "Batches:   0%|          | 0/1 [00:00<?, ?it/s]"
      ]
     },
     "metadata": {},
     "output_type": "display_data"
    },
    {
     "data": {
      "application/vnd.jupyter.widget-view+json": {
       "model_id": "08a081c9187a4b08aad60949107853bb",
       "version_major": 2,
       "version_minor": 0
      },
      "text/plain": [
       "Batches:   0%|          | 0/1 [00:00<?, ?it/s]"
      ]
     },
     "metadata": {},
     "output_type": "display_data"
    },
    {
     "data": {
      "application/vnd.jupyter.widget-view+json": {
       "model_id": "3fa2097d4f7349ef9ec8ccc6f61bb1e7",
       "version_major": 2,
       "version_minor": 0
      },
      "text/plain": [
       "Batches:   0%|          | 0/1 [00:00<?, ?it/s]"
      ]
     },
     "metadata": {},
     "output_type": "display_data"
    },
    {
     "data": {
      "application/vnd.jupyter.widget-view+json": {
       "model_id": "9400f56bb0ef47fb84d04aa41413ea21",
       "version_major": 2,
       "version_minor": 0
      },
      "text/plain": [
       "Batches:   0%|          | 0/1 [00:00<?, ?it/s]"
      ]
     },
     "metadata": {},
     "output_type": "display_data"
    },
    {
     "data": {
      "application/vnd.jupyter.widget-view+json": {
       "model_id": "d6fa7455004640b99d46e6c617c3d1f1",
       "version_major": 2,
       "version_minor": 0
      },
      "text/plain": [
       "Batches:   0%|          | 0/1 [00:00<?, ?it/s]"
      ]
     },
     "metadata": {},
     "output_type": "display_data"
    },
    {
     "data": {
      "application/vnd.jupyter.widget-view+json": {
       "model_id": "88d703b3189341b1a76758d81f1e9d99",
       "version_major": 2,
       "version_minor": 0
      },
      "text/plain": [
       "Batches:   0%|          | 0/1 [00:00<?, ?it/s]"
      ]
     },
     "metadata": {},
     "output_type": "display_data"
    },
    {
     "data": {
      "application/vnd.jupyter.widget-view+json": {
       "model_id": "956f8348152d40c1bdb6d039245b7a6c",
       "version_major": 2,
       "version_minor": 0
      },
      "text/plain": [
       "Batches:   0%|          | 0/1 [00:00<?, ?it/s]"
      ]
     },
     "metadata": {},
     "output_type": "display_data"
    },
    {
     "data": {
      "application/vnd.jupyter.widget-view+json": {
       "model_id": "dcbac0f52a604fbe934507c4b63c2eef",
       "version_major": 2,
       "version_minor": 0
      },
      "text/plain": [
       "Batches:   0%|          | 0/1 [00:00<?, ?it/s]"
      ]
     },
     "metadata": {},
     "output_type": "display_data"
    },
    {
     "data": {
      "application/vnd.jupyter.widget-view+json": {
       "model_id": "8b8f7f532736416abfb8b8935a7584ba",
       "version_major": 2,
       "version_minor": 0
      },
      "text/plain": [
       "Batches:   0%|          | 0/1 [00:00<?, ?it/s]"
      ]
     },
     "metadata": {},
     "output_type": "display_data"
    },
    {
     "data": {
      "application/vnd.jupyter.widget-view+json": {
       "model_id": "6b5190e4662e40a88fea0aa0854b29b7",
       "version_major": 2,
       "version_minor": 0
      },
      "text/plain": [
       "Batches:   0%|          | 0/1 [00:00<?, ?it/s]"
      ]
     },
     "metadata": {},
     "output_type": "display_data"
    },
    {
     "data": {
      "application/vnd.jupyter.widget-view+json": {
       "model_id": "7a55e0475a8242a4880a0998225fd291",
       "version_major": 2,
       "version_minor": 0
      },
      "text/plain": [
       "Batches:   0%|          | 0/1 [00:00<?, ?it/s]"
      ]
     },
     "metadata": {},
     "output_type": "display_data"
    },
    {
     "data": {
      "application/vnd.jupyter.widget-view+json": {
       "model_id": "fc9a420e65374fcb8d9276238484f5dc",
       "version_major": 2,
       "version_minor": 0
      },
      "text/plain": [
       "Batches:   0%|          | 0/1 [00:00<?, ?it/s]"
      ]
     },
     "metadata": {},
     "output_type": "display_data"
    },
    {
     "data": {
      "application/vnd.jupyter.widget-view+json": {
       "model_id": "30d8cc33640b49219958b805ad116051",
       "version_major": 2,
       "version_minor": 0
      },
      "text/plain": [
       "Batches:   0%|          | 0/1 [00:00<?, ?it/s]"
      ]
     },
     "metadata": {},
     "output_type": "display_data"
    },
    {
     "data": {
      "application/vnd.jupyter.widget-view+json": {
       "model_id": "f631fde6040d444592e901d547518f7b",
       "version_major": 2,
       "version_minor": 0
      },
      "text/plain": [
       "Batches:   0%|          | 0/1 [00:00<?, ?it/s]"
      ]
     },
     "metadata": {},
     "output_type": "display_data"
    },
    {
     "data": {
      "application/vnd.jupyter.widget-view+json": {
       "model_id": "aadbb543e4e14aaa89db1c0f0def050f",
       "version_major": 2,
       "version_minor": 0
      },
      "text/plain": [
       "Batches:   0%|          | 0/1 [00:00<?, ?it/s]"
      ]
     },
     "metadata": {},
     "output_type": "display_data"
    },
    {
     "data": {
      "application/vnd.jupyter.widget-view+json": {
       "model_id": "1f5db68301794d1a9a20b83bf927a26f",
       "version_major": 2,
       "version_minor": 0
      },
      "text/plain": [
       "Batches:   0%|          | 0/1 [00:00<?, ?it/s]"
      ]
     },
     "metadata": {},
     "output_type": "display_data"
    },
    {
     "data": {
      "application/vnd.jupyter.widget-view+json": {
       "model_id": "1c8bf2a8774442d3a7e370e4cdb2123a",
       "version_major": 2,
       "version_minor": 0
      },
      "text/plain": [
       "Batches:   0%|          | 0/1 [00:00<?, ?it/s]"
      ]
     },
     "metadata": {},
     "output_type": "display_data"
    },
    {
     "data": {
      "application/vnd.jupyter.widget-view+json": {
       "model_id": "5f1f3d5ce6b943be91fd0ad257eafe9d",
       "version_major": 2,
       "version_minor": 0
      },
      "text/plain": [
       "Batches:   0%|          | 0/1 [00:00<?, ?it/s]"
      ]
     },
     "metadata": {},
     "output_type": "display_data"
    },
    {
     "data": {
      "application/vnd.jupyter.widget-view+json": {
       "model_id": "914fa140a4534c5fa7ef6dec7220b1cf",
       "version_major": 2,
       "version_minor": 0
      },
      "text/plain": [
       "Batches:   0%|          | 0/1 [00:00<?, ?it/s]"
      ]
     },
     "metadata": {},
     "output_type": "display_data"
    },
    {
     "data": {
      "application/vnd.jupyter.widget-view+json": {
       "model_id": "7bf7a761f00745b6ba5283b9a7f2040f",
       "version_major": 2,
       "version_minor": 0
      },
      "text/plain": [
       "Batches:   0%|          | 0/1 [00:00<?, ?it/s]"
      ]
     },
     "metadata": {},
     "output_type": "display_data"
    },
    {
     "data": {
      "application/vnd.jupyter.widget-view+json": {
       "model_id": "9f047c65744d4709abb2e0c582709089",
       "version_major": 2,
       "version_minor": 0
      },
      "text/plain": [
       "Batches:   0%|          | 0/1 [00:00<?, ?it/s]"
      ]
     },
     "metadata": {},
     "output_type": "display_data"
    },
    {
     "data": {
      "application/vnd.jupyter.widget-view+json": {
       "model_id": "b4e8273531d84127b4d0b3edc538de03",
       "version_major": 2,
       "version_minor": 0
      },
      "text/plain": [
       "Batches:   0%|          | 0/1 [00:00<?, ?it/s]"
      ]
     },
     "metadata": {},
     "output_type": "display_data"
    },
    {
     "data": {
      "application/vnd.jupyter.widget-view+json": {
       "model_id": "d9c80be5bf694af5aeb8b8f17406734e",
       "version_major": 2,
       "version_minor": 0
      },
      "text/plain": [
       "Batches:   0%|          | 0/1 [00:00<?, ?it/s]"
      ]
     },
     "metadata": {},
     "output_type": "display_data"
    },
    {
     "data": {
      "application/vnd.jupyter.widget-view+json": {
       "model_id": "a710a17ba86642728cbe40f4a9fe9351",
       "version_major": 2,
       "version_minor": 0
      },
      "text/plain": [
       "Batches:   0%|          | 0/1 [00:00<?, ?it/s]"
      ]
     },
     "metadata": {},
     "output_type": "display_data"
    },
    {
     "data": {
      "application/vnd.jupyter.widget-view+json": {
       "model_id": "a3d15596250b4d04821fc9e99b237606",
       "version_major": 2,
       "version_minor": 0
      },
      "text/plain": [
       "Batches:   0%|          | 0/1 [00:00<?, ?it/s]"
      ]
     },
     "metadata": {},
     "output_type": "display_data"
    },
    {
     "data": {
      "application/vnd.jupyter.widget-view+json": {
       "model_id": "dfdfc68da5fc4accae8f29955def4cd8",
       "version_major": 2,
       "version_minor": 0
      },
      "text/plain": [
       "Batches:   0%|          | 0/1 [00:00<?, ?it/s]"
      ]
     },
     "metadata": {},
     "output_type": "display_data"
    },
    {
     "data": {
      "application/vnd.jupyter.widget-view+json": {
       "model_id": "1cf58a2efb974d9c948d3b7cfa11b229",
       "version_major": 2,
       "version_minor": 0
      },
      "text/plain": [
       "Batches:   0%|          | 0/1 [00:00<?, ?it/s]"
      ]
     },
     "metadata": {},
     "output_type": "display_data"
    },
    {
     "data": {
      "application/vnd.jupyter.widget-view+json": {
       "model_id": "14f18e7b094440f8b48cc1a455ee5466",
       "version_major": 2,
       "version_minor": 0
      },
      "text/plain": [
       "Batches:   0%|          | 0/1 [00:00<?, ?it/s]"
      ]
     },
     "metadata": {},
     "output_type": "display_data"
    },
    {
     "data": {
      "application/vnd.jupyter.widget-view+json": {
       "model_id": "8a11593df96e42068d86c1c5a1b58f10",
       "version_major": 2,
       "version_minor": 0
      },
      "text/plain": [
       "Batches:   0%|          | 0/1 [00:00<?, ?it/s]"
      ]
     },
     "metadata": {},
     "output_type": "display_data"
    },
    {
     "data": {
      "application/vnd.jupyter.widget-view+json": {
       "model_id": "3499888113204bb0b86de38a3a19e95e",
       "version_major": 2,
       "version_minor": 0
      },
      "text/plain": [
       "Batches:   0%|          | 0/1 [00:00<?, ?it/s]"
      ]
     },
     "metadata": {},
     "output_type": "display_data"
    },
    {
     "data": {
      "application/vnd.jupyter.widget-view+json": {
       "model_id": "1d3a4fde538640d09abf721fd4f2c6b8",
       "version_major": 2,
       "version_minor": 0
      },
      "text/plain": [
       "Batches:   0%|          | 0/1 [00:00<?, ?it/s]"
      ]
     },
     "metadata": {},
     "output_type": "display_data"
    },
    {
     "data": {
      "application/vnd.jupyter.widget-view+json": {
       "model_id": "a9b0a4151acc4ddd9db4c3ac9a992c41",
       "version_major": 2,
       "version_minor": 0
      },
      "text/plain": [
       "Batches:   0%|          | 0/1 [00:00<?, ?it/s]"
      ]
     },
     "metadata": {},
     "output_type": "display_data"
    },
    {
     "data": {
      "application/vnd.jupyter.widget-view+json": {
       "model_id": "d32fe42f633749bd955ec9aed31dd148",
       "version_major": 2,
       "version_minor": 0
      },
      "text/plain": [
       "Batches:   0%|          | 0/1 [00:00<?, ?it/s]"
      ]
     },
     "metadata": {},
     "output_type": "display_data"
    },
    {
     "data": {
      "application/vnd.jupyter.widget-view+json": {
       "model_id": "ef4bccceabdc4695a73b846e7e13f8b7",
       "version_major": 2,
       "version_minor": 0
      },
      "text/plain": [
       "Batches:   0%|          | 0/1 [00:00<?, ?it/s]"
      ]
     },
     "metadata": {},
     "output_type": "display_data"
    },
    {
     "data": {
      "application/vnd.jupyter.widget-view+json": {
       "model_id": "a53a126758004da0930d0b35ee9ed769",
       "version_major": 2,
       "version_minor": 0
      },
      "text/plain": [
       "Batches:   0%|          | 0/1 [00:00<?, ?it/s]"
      ]
     },
     "metadata": {},
     "output_type": "display_data"
    },
    {
     "data": {
      "application/vnd.jupyter.widget-view+json": {
       "model_id": "cf313cab59934b13bcfc2cec79caf5c2",
       "version_major": 2,
       "version_minor": 0
      },
      "text/plain": [
       "Batches:   0%|          | 0/1 [00:00<?, ?it/s]"
      ]
     },
     "metadata": {},
     "output_type": "display_data"
    },
    {
     "data": {
      "application/vnd.jupyter.widget-view+json": {
       "model_id": "ba35853c4f9940b898ed96c051a70a51",
       "version_major": 2,
       "version_minor": 0
      },
      "text/plain": [
       "Batches:   0%|          | 0/1 [00:00<?, ?it/s]"
      ]
     },
     "metadata": {},
     "output_type": "display_data"
    },
    {
     "data": {
      "application/vnd.jupyter.widget-view+json": {
       "model_id": "a8ddfdd44a2d439282d8183257ce2c52",
       "version_major": 2,
       "version_minor": 0
      },
      "text/plain": [
       "Batches:   0%|          | 0/1 [00:00<?, ?it/s]"
      ]
     },
     "metadata": {},
     "output_type": "display_data"
    },
    {
     "data": {
      "application/vnd.jupyter.widget-view+json": {
       "model_id": "d2463798b9a643b388215d8364f7e107",
       "version_major": 2,
       "version_minor": 0
      },
      "text/plain": [
       "Batches:   0%|          | 0/1 [00:00<?, ?it/s]"
      ]
     },
     "metadata": {},
     "output_type": "display_data"
    },
    {
     "data": {
      "application/vnd.jupyter.widget-view+json": {
       "model_id": "75463e712d8a42ee82dac96f5c2be3c7",
       "version_major": 2,
       "version_minor": 0
      },
      "text/plain": [
       "Batches:   0%|          | 0/1 [00:00<?, ?it/s]"
      ]
     },
     "metadata": {},
     "output_type": "display_data"
    },
    {
     "data": {
      "application/vnd.jupyter.widget-view+json": {
       "model_id": "3a813deb410f4614b82700ac9c45f78a",
       "version_major": 2,
       "version_minor": 0
      },
      "text/plain": [
       "Batches:   0%|          | 0/1 [00:00<?, ?it/s]"
      ]
     },
     "metadata": {},
     "output_type": "display_data"
    },
    {
     "data": {
      "application/vnd.jupyter.widget-view+json": {
       "model_id": "74a8339af39b4b82b4f056c38265a9a6",
       "version_major": 2,
       "version_minor": 0
      },
      "text/plain": [
       "Batches:   0%|          | 0/1 [00:00<?, ?it/s]"
      ]
     },
     "metadata": {},
     "output_type": "display_data"
    },
    {
     "data": {
      "application/vnd.jupyter.widget-view+json": {
       "model_id": "53dbb4dc7e6643598821b1b815e49ff7",
       "version_major": 2,
       "version_minor": 0
      },
      "text/plain": [
       "Batches:   0%|          | 0/1 [00:00<?, ?it/s]"
      ]
     },
     "metadata": {},
     "output_type": "display_data"
    },
    {
     "data": {
      "application/vnd.jupyter.widget-view+json": {
       "model_id": "8437c00732b845fda326ab1beb0b320b",
       "version_major": 2,
       "version_minor": 0
      },
      "text/plain": [
       "Batches:   0%|          | 0/1 [00:00<?, ?it/s]"
      ]
     },
     "metadata": {},
     "output_type": "display_data"
    },
    {
     "data": {
      "application/vnd.jupyter.widget-view+json": {
       "model_id": "2e5848f8219044a9b7c122676dbf4211",
       "version_major": 2,
       "version_minor": 0
      },
      "text/plain": [
       "Batches:   0%|          | 0/1 [00:00<?, ?it/s]"
      ]
     },
     "metadata": {},
     "output_type": "display_data"
    },
    {
     "data": {
      "application/vnd.jupyter.widget-view+json": {
       "model_id": "57d13af38807481488416fa4becf9806",
       "version_major": 2,
       "version_minor": 0
      },
      "text/plain": [
       "Batches:   0%|          | 0/1 [00:00<?, ?it/s]"
      ]
     },
     "metadata": {},
     "output_type": "display_data"
    },
    {
     "data": {
      "application/vnd.jupyter.widget-view+json": {
       "model_id": "27e85db2d05848daa511e2b9aa5f32b5",
       "version_major": 2,
       "version_minor": 0
      },
      "text/plain": [
       "Batches:   0%|          | 0/1 [00:00<?, ?it/s]"
      ]
     },
     "metadata": {},
     "output_type": "display_data"
    },
    {
     "data": {
      "application/vnd.jupyter.widget-view+json": {
       "model_id": "99ea0b952c43418abf84e197611ce37b",
       "version_major": 2,
       "version_minor": 0
      },
      "text/plain": [
       "Batches:   0%|          | 0/1 [00:00<?, ?it/s]"
      ]
     },
     "metadata": {},
     "output_type": "display_data"
    },
    {
     "data": {
      "application/vnd.jupyter.widget-view+json": {
       "model_id": "e12e8ee11d6e498fb61bac1476c24de9",
       "version_major": 2,
       "version_minor": 0
      },
      "text/plain": [
       "Batches:   0%|          | 0/1 [00:00<?, ?it/s]"
      ]
     },
     "metadata": {},
     "output_type": "display_data"
    },
    {
     "data": {
      "application/vnd.jupyter.widget-view+json": {
       "model_id": "91d898d4e19a462a905d123b84998d89",
       "version_major": 2,
       "version_minor": 0
      },
      "text/plain": [
       "Batches:   0%|          | 0/1 [00:00<?, ?it/s]"
      ]
     },
     "metadata": {},
     "output_type": "display_data"
    },
    {
     "data": {
      "application/vnd.jupyter.widget-view+json": {
       "model_id": "488f1a2b95b5475391b2a2bdee8932f6",
       "version_major": 2,
       "version_minor": 0
      },
      "text/plain": [
       "Batches:   0%|          | 0/1 [00:00<?, ?it/s]"
      ]
     },
     "metadata": {},
     "output_type": "display_data"
    },
    {
     "data": {
      "application/vnd.jupyter.widget-view+json": {
       "model_id": "7076666ddd0447abb67b3afb9b43acbc",
       "version_major": 2,
       "version_minor": 0
      },
      "text/plain": [
       "Batches:   0%|          | 0/1 [00:00<?, ?it/s]"
      ]
     },
     "metadata": {},
     "output_type": "display_data"
    },
    {
     "data": {
      "application/vnd.jupyter.widget-view+json": {
       "model_id": "5f278525ccb04ccbad7b8c027b4de34b",
       "version_major": 2,
       "version_minor": 0
      },
      "text/plain": [
       "Batches:   0%|          | 0/1 [00:00<?, ?it/s]"
      ]
     },
     "metadata": {},
     "output_type": "display_data"
    },
    {
     "data": {
      "application/vnd.jupyter.widget-view+json": {
       "model_id": "307ae899d1c04d02922a0632a01a9ed9",
       "version_major": 2,
       "version_minor": 0
      },
      "text/plain": [
       "Batches:   0%|          | 0/1 [00:00<?, ?it/s]"
      ]
     },
     "metadata": {},
     "output_type": "display_data"
    },
    {
     "data": {
      "application/vnd.jupyter.widget-view+json": {
       "model_id": "04e2a69932064d32b5f5350e69bfae28",
       "version_major": 2,
       "version_minor": 0
      },
      "text/plain": [
       "Batches:   0%|          | 0/1 [00:00<?, ?it/s]"
      ]
     },
     "metadata": {},
     "output_type": "display_data"
    },
    {
     "data": {
      "application/vnd.jupyter.widget-view+json": {
       "model_id": "a9f83cb09cba42a2b5f3343b92cccd12",
       "version_major": 2,
       "version_minor": 0
      },
      "text/plain": [
       "Batches:   0%|          | 0/1 [00:00<?, ?it/s]"
      ]
     },
     "metadata": {},
     "output_type": "display_data"
    },
    {
     "data": {
      "application/vnd.jupyter.widget-view+json": {
       "model_id": "7307e02265e84aa5836573b233be9482",
       "version_major": 2,
       "version_minor": 0
      },
      "text/plain": [
       "Batches:   0%|          | 0/1 [00:00<?, ?it/s]"
      ]
     },
     "metadata": {},
     "output_type": "display_data"
    },
    {
     "data": {
      "application/vnd.jupyter.widget-view+json": {
       "model_id": "eb47a8ef3d3447ecad402cb98770e218",
       "version_major": 2,
       "version_minor": 0
      },
      "text/plain": [
       "Batches:   0%|          | 0/1 [00:00<?, ?it/s]"
      ]
     },
     "metadata": {},
     "output_type": "display_data"
    },
    {
     "data": {
      "application/vnd.jupyter.widget-view+json": {
       "model_id": "49a3beea03a64e4d957ec8a2f70dc3a5",
       "version_major": 2,
       "version_minor": 0
      },
      "text/plain": [
       "Batches:   0%|          | 0/1 [00:00<?, ?it/s]"
      ]
     },
     "metadata": {},
     "output_type": "display_data"
    },
    {
     "data": {
      "application/vnd.jupyter.widget-view+json": {
       "model_id": "3097aa1c05374c7b80d94f7e9b2569cb",
       "version_major": 2,
       "version_minor": 0
      },
      "text/plain": [
       "Batches:   0%|          | 0/1 [00:00<?, ?it/s]"
      ]
     },
     "metadata": {},
     "output_type": "display_data"
    },
    {
     "data": {
      "application/vnd.jupyter.widget-view+json": {
       "model_id": "f1e2f72cee56408fb0b296899d455707",
       "version_major": 2,
       "version_minor": 0
      },
      "text/plain": [
       "Batches:   0%|          | 0/1 [00:00<?, ?it/s]"
      ]
     },
     "metadata": {},
     "output_type": "display_data"
    },
    {
     "data": {
      "application/vnd.jupyter.widget-view+json": {
       "model_id": "983b36d965684d308a4a2fe1463d96b4",
       "version_major": 2,
       "version_minor": 0
      },
      "text/plain": [
       "Batches:   0%|          | 0/1 [00:00<?, ?it/s]"
      ]
     },
     "metadata": {},
     "output_type": "display_data"
    },
    {
     "data": {
      "application/vnd.jupyter.widget-view+json": {
       "model_id": "ef1292041e5d4698a434ed4af8aedc54",
       "version_major": 2,
       "version_minor": 0
      },
      "text/plain": [
       "Batches:   0%|          | 0/1 [00:00<?, ?it/s]"
      ]
     },
     "metadata": {},
     "output_type": "display_data"
    },
    {
     "data": {
      "application/vnd.jupyter.widget-view+json": {
       "model_id": "dc076553f0484b9c80f19a45ec54fb5f",
       "version_major": 2,
       "version_minor": 0
      },
      "text/plain": [
       "Batches:   0%|          | 0/1 [00:00<?, ?it/s]"
      ]
     },
     "metadata": {},
     "output_type": "display_data"
    },
    {
     "data": {
      "application/vnd.jupyter.widget-view+json": {
       "model_id": "4fc475fd2ac64a8790c1a79e9b84b389",
       "version_major": 2,
       "version_minor": 0
      },
      "text/plain": [
       "Batches:   0%|          | 0/1 [00:00<?, ?it/s]"
      ]
     },
     "metadata": {},
     "output_type": "display_data"
    },
    {
     "data": {
      "application/vnd.jupyter.widget-view+json": {
       "model_id": "faf2c319c90a49bda756efca9a1d2bfd",
       "version_major": 2,
       "version_minor": 0
      },
      "text/plain": [
       "Batches:   0%|          | 0/1 [00:00<?, ?it/s]"
      ]
     },
     "metadata": {},
     "output_type": "display_data"
    },
    {
     "data": {
      "application/vnd.jupyter.widget-view+json": {
       "model_id": "795f25a1edf34e15ac95f6fe5d1d9e0e",
       "version_major": 2,
       "version_minor": 0
      },
      "text/plain": [
       "Batches:   0%|          | 0/1 [00:00<?, ?it/s]"
      ]
     },
     "metadata": {},
     "output_type": "display_data"
    },
    {
     "data": {
      "application/vnd.jupyter.widget-view+json": {
       "model_id": "c3904372e23b439384ae93429f700c77",
       "version_major": 2,
       "version_minor": 0
      },
      "text/plain": [
       "Batches:   0%|          | 0/1 [00:00<?, ?it/s]"
      ]
     },
     "metadata": {},
     "output_type": "display_data"
    },
    {
     "data": {
      "application/vnd.jupyter.widget-view+json": {
       "model_id": "f13af2a8ae3740a68e885c95bc1f5a7b",
       "version_major": 2,
       "version_minor": 0
      },
      "text/plain": [
       "Batches:   0%|          | 0/1 [00:00<?, ?it/s]"
      ]
     },
     "metadata": {},
     "output_type": "display_data"
    },
    {
     "data": {
      "application/vnd.jupyter.widget-view+json": {
       "model_id": "10bcf25c9d2245dd961af2c9c3c4589c",
       "version_major": 2,
       "version_minor": 0
      },
      "text/plain": [
       "Batches:   0%|          | 0/1 [00:00<?, ?it/s]"
      ]
     },
     "metadata": {},
     "output_type": "display_data"
    },
    {
     "data": {
      "application/vnd.jupyter.widget-view+json": {
       "model_id": "efb49182f4ff4d9fbe4d52e65faf6f37",
       "version_major": 2,
       "version_minor": 0
      },
      "text/plain": [
       "Batches:   0%|          | 0/1 [00:00<?, ?it/s]"
      ]
     },
     "metadata": {},
     "output_type": "display_data"
    },
    {
     "data": {
      "application/vnd.jupyter.widget-view+json": {
       "model_id": "38f8497b1fd44eaba1cbaabd9b9a6bad",
       "version_major": 2,
       "version_minor": 0
      },
      "text/plain": [
       "Batches:   0%|          | 0/1 [00:00<?, ?it/s]"
      ]
     },
     "metadata": {},
     "output_type": "display_data"
    },
    {
     "data": {
      "application/vnd.jupyter.widget-view+json": {
       "model_id": "0b740237b8dd42bc8d493d521286ea40",
       "version_major": 2,
       "version_minor": 0
      },
      "text/plain": [
       "Batches:   0%|          | 0/1 [00:00<?, ?it/s]"
      ]
     },
     "metadata": {},
     "output_type": "display_data"
    },
    {
     "data": {
      "application/vnd.jupyter.widget-view+json": {
       "model_id": "85a4fb6e19154791b6edbe1b37e8b1da",
       "version_major": 2,
       "version_minor": 0
      },
      "text/plain": [
       "Batches:   0%|          | 0/1 [00:00<?, ?it/s]"
      ]
     },
     "metadata": {},
     "output_type": "display_data"
    },
    {
     "data": {
      "application/vnd.jupyter.widget-view+json": {
       "model_id": "cc090a5da0ae43ae9b3d5f8733772612",
       "version_major": 2,
       "version_minor": 0
      },
      "text/plain": [
       "Batches:   0%|          | 0/1 [00:00<?, ?it/s]"
      ]
     },
     "metadata": {},
     "output_type": "display_data"
    },
    {
     "data": {
      "application/vnd.jupyter.widget-view+json": {
       "model_id": "42846702ef1347aea1437176b8cc29eb",
       "version_major": 2,
       "version_minor": 0
      },
      "text/plain": [
       "Batches:   0%|          | 0/1 [00:00<?, ?it/s]"
      ]
     },
     "metadata": {},
     "output_type": "display_data"
    },
    {
     "data": {
      "application/vnd.jupyter.widget-view+json": {
       "model_id": "27a1d8ca9eb04ed1ac9c4f6f6d606eeb",
       "version_major": 2,
       "version_minor": 0
      },
      "text/plain": [
       "Batches:   0%|          | 0/1 [00:00<?, ?it/s]"
      ]
     },
     "metadata": {},
     "output_type": "display_data"
    },
    {
     "data": {
      "application/vnd.jupyter.widget-view+json": {
       "model_id": "ea85c3cb27d248f7a27d2bd33bb0151b",
       "version_major": 2,
       "version_minor": 0
      },
      "text/plain": [
       "Batches:   0%|          | 0/1 [00:00<?, ?it/s]"
      ]
     },
     "metadata": {},
     "output_type": "display_data"
    },
    {
     "data": {
      "application/vnd.jupyter.widget-view+json": {
       "model_id": "19f17217d0cf44558982faa2f89fd21a",
       "version_major": 2,
       "version_minor": 0
      },
      "text/plain": [
       "Batches:   0%|          | 0/1 [00:00<?, ?it/s]"
      ]
     },
     "metadata": {},
     "output_type": "display_data"
    },
    {
     "data": {
      "application/vnd.jupyter.widget-view+json": {
       "model_id": "a37946fae96340d7bb407c3c1568dc42",
       "version_major": 2,
       "version_minor": 0
      },
      "text/plain": [
       "Batches:   0%|          | 0/1 [00:00<?, ?it/s]"
      ]
     },
     "metadata": {},
     "output_type": "display_data"
    },
    {
     "data": {
      "application/vnd.jupyter.widget-view+json": {
       "model_id": "4a46b50108bf475abe9a1e7a0d97e21f",
       "version_major": 2,
       "version_minor": 0
      },
      "text/plain": [
       "Batches:   0%|          | 0/1 [00:00<?, ?it/s]"
      ]
     },
     "metadata": {},
     "output_type": "display_data"
    },
    {
     "data": {
      "application/vnd.jupyter.widget-view+json": {
       "model_id": "4b650620a036440e8eedb2a43844d2c9",
       "version_major": 2,
       "version_minor": 0
      },
      "text/plain": [
       "Batches:   0%|          | 0/1 [00:00<?, ?it/s]"
      ]
     },
     "metadata": {},
     "output_type": "display_data"
    },
    {
     "data": {
      "application/vnd.jupyter.widget-view+json": {
       "model_id": "0358d4e9e8d844d0812dfb802b43eb08",
       "version_major": 2,
       "version_minor": 0
      },
      "text/plain": [
       "Batches:   0%|          | 0/1 [00:00<?, ?it/s]"
      ]
     },
     "metadata": {},
     "output_type": "display_data"
    },
    {
     "data": {
      "application/vnd.jupyter.widget-view+json": {
       "model_id": "1e409a505067427fbbf776e676b98655",
       "version_major": 2,
       "version_minor": 0
      },
      "text/plain": [
       "Batches:   0%|          | 0/1 [00:00<?, ?it/s]"
      ]
     },
     "metadata": {},
     "output_type": "display_data"
    },
    {
     "data": {
      "application/vnd.jupyter.widget-view+json": {
       "model_id": "14d482440af74a03b63568cff2f169d7",
       "version_major": 2,
       "version_minor": 0
      },
      "text/plain": [
       "Batches:   0%|          | 0/1 [00:00<?, ?it/s]"
      ]
     },
     "metadata": {},
     "output_type": "display_data"
    },
    {
     "data": {
      "application/vnd.jupyter.widget-view+json": {
       "model_id": "99c71b05ecba4c8d8fa5427ba4c155bc",
       "version_major": 2,
       "version_minor": 0
      },
      "text/plain": [
       "Batches:   0%|          | 0/1 [00:00<?, ?it/s]"
      ]
     },
     "metadata": {},
     "output_type": "display_data"
    },
    {
     "data": {
      "application/vnd.jupyter.widget-view+json": {
       "model_id": "88b29d011ec24c57bceadfaf109addad",
       "version_major": 2,
       "version_minor": 0
      },
      "text/plain": [
       "Batches:   0%|          | 0/1 [00:00<?, ?it/s]"
      ]
     },
     "metadata": {},
     "output_type": "display_data"
    },
    {
     "data": {
      "application/vnd.jupyter.widget-view+json": {
       "model_id": "2f5f53be28004891bead8395d1fabd63",
       "version_major": 2,
       "version_minor": 0
      },
      "text/plain": [
       "Batches:   0%|          | 0/1 [00:00<?, ?it/s]"
      ]
     },
     "metadata": {},
     "output_type": "display_data"
    },
    {
     "data": {
      "application/vnd.jupyter.widget-view+json": {
       "model_id": "3df66cb3a50e4854ad6776d72af7e8bf",
       "version_major": 2,
       "version_minor": 0
      },
      "text/plain": [
       "Batches:   0%|          | 0/1 [00:00<?, ?it/s]"
      ]
     },
     "metadata": {},
     "output_type": "display_data"
    },
    {
     "data": {
      "application/vnd.jupyter.widget-view+json": {
       "model_id": "15a63190e7d34ce5a99b6a3f48f69f87",
       "version_major": 2,
       "version_minor": 0
      },
      "text/plain": [
       "Batches:   0%|          | 0/1 [00:00<?, ?it/s]"
      ]
     },
     "metadata": {},
     "output_type": "display_data"
    },
    {
     "data": {
      "application/vnd.jupyter.widget-view+json": {
       "model_id": "a9c5039836e148a6b31dc403c5d9471c",
       "version_major": 2,
       "version_minor": 0
      },
      "text/plain": [
       "Batches:   0%|          | 0/1 [00:00<?, ?it/s]"
      ]
     },
     "metadata": {},
     "output_type": "display_data"
    },
    {
     "data": {
      "application/vnd.jupyter.widget-view+json": {
       "model_id": "9e4e06bd6e3a4937b0258f9ec2d8f0ba",
       "version_major": 2,
       "version_minor": 0
      },
      "text/plain": [
       "Batches:   0%|          | 0/1 [00:00<?, ?it/s]"
      ]
     },
     "metadata": {},
     "output_type": "display_data"
    },
    {
     "data": {
      "application/vnd.jupyter.widget-view+json": {
       "model_id": "3fdf526bc8014d24aa8e8d36568220be",
       "version_major": 2,
       "version_minor": 0
      },
      "text/plain": [
       "Batches:   0%|          | 0/1 [00:00<?, ?it/s]"
      ]
     },
     "metadata": {},
     "output_type": "display_data"
    },
    {
     "data": {
      "application/vnd.jupyter.widget-view+json": {
       "model_id": "3fafe0b8b8944424ab03fb6e3c58f4bb",
       "version_major": 2,
       "version_minor": 0
      },
      "text/plain": [
       "Batches:   0%|          | 0/1 [00:00<?, ?it/s]"
      ]
     },
     "metadata": {},
     "output_type": "display_data"
    },
    {
     "data": {
      "application/vnd.jupyter.widget-view+json": {
       "model_id": "970fe69f4bd34b0d812483bb49f2fb7e",
       "version_major": 2,
       "version_minor": 0
      },
      "text/plain": [
       "Batches:   0%|          | 0/1 [00:00<?, ?it/s]"
      ]
     },
     "metadata": {},
     "output_type": "display_data"
    },
    {
     "data": {
      "application/vnd.jupyter.widget-view+json": {
       "model_id": "44a6e1d9a5a04f4a92ec1cc8727696c6",
       "version_major": 2,
       "version_minor": 0
      },
      "text/plain": [
       "Batches:   0%|          | 0/1 [00:00<?, ?it/s]"
      ]
     },
     "metadata": {},
     "output_type": "display_data"
    },
    {
     "data": {
      "application/vnd.jupyter.widget-view+json": {
       "model_id": "8124e5553c8344a49cf0294f3c187983",
       "version_major": 2,
       "version_minor": 0
      },
      "text/plain": [
       "Batches:   0%|          | 0/1 [00:00<?, ?it/s]"
      ]
     },
     "metadata": {},
     "output_type": "display_data"
    },
    {
     "data": {
      "application/vnd.jupyter.widget-view+json": {
       "model_id": "8f536de5f8f7486eb514597f321f2468",
       "version_major": 2,
       "version_minor": 0
      },
      "text/plain": [
       "Batches:   0%|          | 0/1 [00:00<?, ?it/s]"
      ]
     },
     "metadata": {},
     "output_type": "display_data"
    },
    {
     "data": {
      "application/vnd.jupyter.widget-view+json": {
       "model_id": "8b85dbd20c7f41868d570ee7e0ff4a41",
       "version_major": 2,
       "version_minor": 0
      },
      "text/plain": [
       "Batches:   0%|          | 0/1 [00:00<?, ?it/s]"
      ]
     },
     "metadata": {},
     "output_type": "display_data"
    },
    {
     "data": {
      "application/vnd.jupyter.widget-view+json": {
       "model_id": "73c28039992d49fc91243d3e70626d63",
       "version_major": 2,
       "version_minor": 0
      },
      "text/plain": [
       "Batches:   0%|          | 0/1 [00:00<?, ?it/s]"
      ]
     },
     "metadata": {},
     "output_type": "display_data"
    },
    {
     "data": {
      "application/vnd.jupyter.widget-view+json": {
       "model_id": "252971efc2624c428b30cc4af2a0bfb8",
       "version_major": 2,
       "version_minor": 0
      },
      "text/plain": [
       "Batches:   0%|          | 0/1 [00:00<?, ?it/s]"
      ]
     },
     "metadata": {},
     "output_type": "display_data"
    },
    {
     "data": {
      "application/vnd.jupyter.widget-view+json": {
       "model_id": "63e95e33466b47c686502953f187b629",
       "version_major": 2,
       "version_minor": 0
      },
      "text/plain": [
       "Batches:   0%|          | 0/1 [00:00<?, ?it/s]"
      ]
     },
     "metadata": {},
     "output_type": "display_data"
    },
    {
     "data": {
      "application/vnd.jupyter.widget-view+json": {
       "model_id": "f6fee4f8eb0f42caab7cbda139a9534a",
       "version_major": 2,
       "version_minor": 0
      },
      "text/plain": [
       "Batches:   0%|          | 0/1 [00:00<?, ?it/s]"
      ]
     },
     "metadata": {},
     "output_type": "display_data"
    },
    {
     "data": {
      "application/vnd.jupyter.widget-view+json": {
       "model_id": "d07f1669069a4182ae79f66cf9dd9e5c",
       "version_major": 2,
       "version_minor": 0
      },
      "text/plain": [
       "Batches:   0%|          | 0/1 [00:00<?, ?it/s]"
      ]
     },
     "metadata": {},
     "output_type": "display_data"
    },
    {
     "data": {
      "application/vnd.jupyter.widget-view+json": {
       "model_id": "46ce9f0b2c094159a51f10ffe89d3f5e",
       "version_major": 2,
       "version_minor": 0
      },
      "text/plain": [
       "Batches:   0%|          | 0/1 [00:00<?, ?it/s]"
      ]
     },
     "metadata": {},
     "output_type": "display_data"
    },
    {
     "data": {
      "application/vnd.jupyter.widget-view+json": {
       "model_id": "ca28b9c81ac44b479d42727966050835",
       "version_major": 2,
       "version_minor": 0
      },
      "text/plain": [
       "Batches:   0%|          | 0/1 [00:00<?, ?it/s]"
      ]
     },
     "metadata": {},
     "output_type": "display_data"
    },
    {
     "data": {
      "application/vnd.jupyter.widget-view+json": {
       "model_id": "b557f4eec7274c0e8163abc48c91aefb",
       "version_major": 2,
       "version_minor": 0
      },
      "text/plain": [
       "Batches:   0%|          | 0/1 [00:00<?, ?it/s]"
      ]
     },
     "metadata": {},
     "output_type": "display_data"
    },
    {
     "data": {
      "application/vnd.jupyter.widget-view+json": {
       "model_id": "62635bdec89745e0ad78eb00c07f03bf",
       "version_major": 2,
       "version_minor": 0
      },
      "text/plain": [
       "Batches:   0%|          | 0/1 [00:00<?, ?it/s]"
      ]
     },
     "metadata": {},
     "output_type": "display_data"
    },
    {
     "data": {
      "application/vnd.jupyter.widget-view+json": {
       "model_id": "724d352b03a14a9090b9746fc83723bc",
       "version_major": 2,
       "version_minor": 0
      },
      "text/plain": [
       "Batches:   0%|          | 0/1 [00:00<?, ?it/s]"
      ]
     },
     "metadata": {},
     "output_type": "display_data"
    },
    {
     "data": {
      "application/vnd.jupyter.widget-view+json": {
       "model_id": "8523b0d3ee7a4c879e7cf597490ffdf7",
       "version_major": 2,
       "version_minor": 0
      },
      "text/plain": [
       "Batches:   0%|          | 0/1 [00:00<?, ?it/s]"
      ]
     },
     "metadata": {},
     "output_type": "display_data"
    },
    {
     "data": {
      "application/vnd.jupyter.widget-view+json": {
       "model_id": "818f443769b642568a0bea4173cfb224",
       "version_major": 2,
       "version_minor": 0
      },
      "text/plain": [
       "Batches:   0%|          | 0/1 [00:00<?, ?it/s]"
      ]
     },
     "metadata": {},
     "output_type": "display_data"
    },
    {
     "data": {
      "application/vnd.jupyter.widget-view+json": {
       "model_id": "a076575a62e44a34853c0f79a59793e7",
       "version_major": 2,
       "version_minor": 0
      },
      "text/plain": [
       "Batches:   0%|          | 0/1 [00:00<?, ?it/s]"
      ]
     },
     "metadata": {},
     "output_type": "display_data"
    },
    {
     "data": {
      "application/vnd.jupyter.widget-view+json": {
       "model_id": "2dc32d3ff5434960a83bf78af1cfc3a7",
       "version_major": 2,
       "version_minor": 0
      },
      "text/plain": [
       "Batches:   0%|          | 0/1 [00:00<?, ?it/s]"
      ]
     },
     "metadata": {},
     "output_type": "display_data"
    },
    {
     "data": {
      "application/vnd.jupyter.widget-view+json": {
       "model_id": "64023651c98a4de2ad6f05868c0e51fd",
       "version_major": 2,
       "version_minor": 0
      },
      "text/plain": [
       "Batches:   0%|          | 0/1 [00:00<?, ?it/s]"
      ]
     },
     "metadata": {},
     "output_type": "display_data"
    },
    {
     "data": {
      "application/vnd.jupyter.widget-view+json": {
       "model_id": "b70769ec665242eab504bdc31d3ac20d",
       "version_major": 2,
       "version_minor": 0
      },
      "text/plain": [
       "Batches:   0%|          | 0/1 [00:00<?, ?it/s]"
      ]
     },
     "metadata": {},
     "output_type": "display_data"
    },
    {
     "data": {
      "application/vnd.jupyter.widget-view+json": {
       "model_id": "f3d2fb71d37f460cad91263e34a0104e",
       "version_major": 2,
       "version_minor": 0
      },
      "text/plain": [
       "Batches:   0%|          | 0/1 [00:00<?, ?it/s]"
      ]
     },
     "metadata": {},
     "output_type": "display_data"
    },
    {
     "data": {
      "application/vnd.jupyter.widget-view+json": {
       "model_id": "d4067f74237842738af5abf8ca4a69a5",
       "version_major": 2,
       "version_minor": 0
      },
      "text/plain": [
       "Batches:   0%|          | 0/1 [00:00<?, ?it/s]"
      ]
     },
     "metadata": {},
     "output_type": "display_data"
    },
    {
     "data": {
      "application/vnd.jupyter.widget-view+json": {
       "model_id": "a82d4880c9174e58a05b9b33bb424532",
       "version_major": 2,
       "version_minor": 0
      },
      "text/plain": [
       "Batches:   0%|          | 0/1 [00:00<?, ?it/s]"
      ]
     },
     "metadata": {},
     "output_type": "display_data"
    },
    {
     "data": {
      "application/vnd.jupyter.widget-view+json": {
       "model_id": "5dc595b5f97a4c4fb12c7d5380cb5a24",
       "version_major": 2,
       "version_minor": 0
      },
      "text/plain": [
       "Batches:   0%|          | 0/1 [00:00<?, ?it/s]"
      ]
     },
     "metadata": {},
     "output_type": "display_data"
    },
    {
     "data": {
      "application/vnd.jupyter.widget-view+json": {
       "model_id": "f198947d903f431b82cf0c8ff0dc8996",
       "version_major": 2,
       "version_minor": 0
      },
      "text/plain": [
       "Batches:   0%|          | 0/1 [00:00<?, ?it/s]"
      ]
     },
     "metadata": {},
     "output_type": "display_data"
    },
    {
     "data": {
      "application/vnd.jupyter.widget-view+json": {
       "model_id": "4c99c4c648e94140bf0c5aeb741a0d8e",
       "version_major": 2,
       "version_minor": 0
      },
      "text/plain": [
       "Batches:   0%|          | 0/1 [00:00<?, ?it/s]"
      ]
     },
     "metadata": {},
     "output_type": "display_data"
    },
    {
     "data": {
      "application/vnd.jupyter.widget-view+json": {
       "model_id": "2052f4d49edf4436a13e5b872b82610f",
       "version_major": 2,
       "version_minor": 0
      },
      "text/plain": [
       "Batches:   0%|          | 0/1 [00:00<?, ?it/s]"
      ]
     },
     "metadata": {},
     "output_type": "display_data"
    },
    {
     "data": {
      "application/vnd.jupyter.widget-view+json": {
       "model_id": "894e9bd6f07942aa8989fcc57c7c9c69",
       "version_major": 2,
       "version_minor": 0
      },
      "text/plain": [
       "Batches:   0%|          | 0/1 [00:00<?, ?it/s]"
      ]
     },
     "metadata": {},
     "output_type": "display_data"
    },
    {
     "data": {
      "application/vnd.jupyter.widget-view+json": {
       "model_id": "d328f0144bd84019b545b692090fe467",
       "version_major": 2,
       "version_minor": 0
      },
      "text/plain": [
       "Batches:   0%|          | 0/1 [00:00<?, ?it/s]"
      ]
     },
     "metadata": {},
     "output_type": "display_data"
    },
    {
     "data": {
      "application/vnd.jupyter.widget-view+json": {
       "model_id": "431f345527d141cca3330b632f0ed2a2",
       "version_major": 2,
       "version_minor": 0
      },
      "text/plain": [
       "Batches:   0%|          | 0/1 [00:00<?, ?it/s]"
      ]
     },
     "metadata": {},
     "output_type": "display_data"
    },
    {
     "data": {
      "application/vnd.jupyter.widget-view+json": {
       "model_id": "c01e673de9384b6e912f5190278b702d",
       "version_major": 2,
       "version_minor": 0
      },
      "text/plain": [
       "Batches:   0%|          | 0/1 [00:00<?, ?it/s]"
      ]
     },
     "metadata": {},
     "output_type": "display_data"
    },
    {
     "data": {
      "application/vnd.jupyter.widget-view+json": {
       "model_id": "6b754833b58a424c8f3b54cc09d0ec2d",
       "version_major": 2,
       "version_minor": 0
      },
      "text/plain": [
       "Batches:   0%|          | 0/1 [00:00<?, ?it/s]"
      ]
     },
     "metadata": {},
     "output_type": "display_data"
    },
    {
     "data": {
      "application/vnd.jupyter.widget-view+json": {
       "model_id": "19264278ff6740cfbd34a4629a98e524",
       "version_major": 2,
       "version_minor": 0
      },
      "text/plain": [
       "Batches:   0%|          | 0/1 [00:00<?, ?it/s]"
      ]
     },
     "metadata": {},
     "output_type": "display_data"
    },
    {
     "data": {
      "application/vnd.jupyter.widget-view+json": {
       "model_id": "f2827be749fa488683dd10b051efe937",
       "version_major": 2,
       "version_minor": 0
      },
      "text/plain": [
       "Batches:   0%|          | 0/1 [00:00<?, ?it/s]"
      ]
     },
     "metadata": {},
     "output_type": "display_data"
    },
    {
     "data": {
      "application/vnd.jupyter.widget-view+json": {
       "model_id": "2140a100ff364f71864827881ac441bf",
       "version_major": 2,
       "version_minor": 0
      },
      "text/plain": [
       "Batches:   0%|          | 0/1 [00:00<?, ?it/s]"
      ]
     },
     "metadata": {},
     "output_type": "display_data"
    },
    {
     "data": {
      "application/vnd.jupyter.widget-view+json": {
       "model_id": "7e713ae304b9459faa58a289f9d443ca",
       "version_major": 2,
       "version_minor": 0
      },
      "text/plain": [
       "Batches:   0%|          | 0/1 [00:00<?, ?it/s]"
      ]
     },
     "metadata": {},
     "output_type": "display_data"
    },
    {
     "data": {
      "application/vnd.jupyter.widget-view+json": {
       "model_id": "2b5194527b924574a7f586afb237b6c7",
       "version_major": 2,
       "version_minor": 0
      },
      "text/plain": [
       "Batches:   0%|          | 0/1 [00:00<?, ?it/s]"
      ]
     },
     "metadata": {},
     "output_type": "display_data"
    },
    {
     "data": {
      "application/vnd.jupyter.widget-view+json": {
       "model_id": "b9a3dd9134be447181a540b7be4f323e",
       "version_major": 2,
       "version_minor": 0
      },
      "text/plain": [
       "Batches:   0%|          | 0/1 [00:00<?, ?it/s]"
      ]
     },
     "metadata": {},
     "output_type": "display_data"
    },
    {
     "data": {
      "application/vnd.jupyter.widget-view+json": {
       "model_id": "2256c966027046479743a3ed697827d5",
       "version_major": 2,
       "version_minor": 0
      },
      "text/plain": [
       "Batches:   0%|          | 0/1 [00:00<?, ?it/s]"
      ]
     },
     "metadata": {},
     "output_type": "display_data"
    },
    {
     "data": {
      "application/vnd.jupyter.widget-view+json": {
       "model_id": "eb3aee690b3646eabcd246f712b02412",
       "version_major": 2,
       "version_minor": 0
      },
      "text/plain": [
       "Batches:   0%|          | 0/1 [00:00<?, ?it/s]"
      ]
     },
     "metadata": {},
     "output_type": "display_data"
    },
    {
     "data": {
      "application/vnd.jupyter.widget-view+json": {
       "model_id": "9806c7e285b445c5b974ccf3601c2fe0",
       "version_major": 2,
       "version_minor": 0
      },
      "text/plain": [
       "Batches:   0%|          | 0/1 [00:00<?, ?it/s]"
      ]
     },
     "metadata": {},
     "output_type": "display_data"
    },
    {
     "data": {
      "application/vnd.jupyter.widget-view+json": {
       "model_id": "ad417ac57e1048ecb997161a989bb442",
       "version_major": 2,
       "version_minor": 0
      },
      "text/plain": [
       "Batches:   0%|          | 0/1 [00:00<?, ?it/s]"
      ]
     },
     "metadata": {},
     "output_type": "display_data"
    },
    {
     "data": {
      "application/vnd.jupyter.widget-view+json": {
       "model_id": "68873dbf1cf240108dca72c4f6f4b452",
       "version_major": 2,
       "version_minor": 0
      },
      "text/plain": [
       "Batches:   0%|          | 0/1 [00:00<?, ?it/s]"
      ]
     },
     "metadata": {},
     "output_type": "display_data"
    },
    {
     "data": {
      "application/vnd.jupyter.widget-view+json": {
       "model_id": "f29c9e34120d4c9cae5641220c10d512",
       "version_major": 2,
       "version_minor": 0
      },
      "text/plain": [
       "Batches:   0%|          | 0/1 [00:00<?, ?it/s]"
      ]
     },
     "metadata": {},
     "output_type": "display_data"
    },
    {
     "data": {
      "application/vnd.jupyter.widget-view+json": {
       "model_id": "ac088ca6bf514d2bbbd9a9b0a9adc0f0",
       "version_major": 2,
       "version_minor": 0
      },
      "text/plain": [
       "Batches:   0%|          | 0/1 [00:00<?, ?it/s]"
      ]
     },
     "metadata": {},
     "output_type": "display_data"
    },
    {
     "data": {
      "application/vnd.jupyter.widget-view+json": {
       "model_id": "bde6d6e4efa84da0b22f8cecdbca94b9",
       "version_major": 2,
       "version_minor": 0
      },
      "text/plain": [
       "Batches:   0%|          | 0/1 [00:00<?, ?it/s]"
      ]
     },
     "metadata": {},
     "output_type": "display_data"
    },
    {
     "data": {
      "application/vnd.jupyter.widget-view+json": {
       "model_id": "2a489f3db2484c1287eefa2710ed3fe3",
       "version_major": 2,
       "version_minor": 0
      },
      "text/plain": [
       "Batches:   0%|          | 0/1 [00:00<?, ?it/s]"
      ]
     },
     "metadata": {},
     "output_type": "display_data"
    },
    {
     "data": {
      "application/vnd.jupyter.widget-view+json": {
       "model_id": "b54cbe0392a246f7b3b89d0345542eca",
       "version_major": 2,
       "version_minor": 0
      },
      "text/plain": [
       "Batches:   0%|          | 0/1 [00:00<?, ?it/s]"
      ]
     },
     "metadata": {},
     "output_type": "display_data"
    },
    {
     "data": {
      "application/vnd.jupyter.widget-view+json": {
       "model_id": "9334b320aa05484fb34b7ce7e40786a9",
       "version_major": 2,
       "version_minor": 0
      },
      "text/plain": [
       "Batches:   0%|          | 0/1 [00:00<?, ?it/s]"
      ]
     },
     "metadata": {},
     "output_type": "display_data"
    },
    {
     "data": {
      "application/vnd.jupyter.widget-view+json": {
       "model_id": "580ed2787d404be0ae4e30e620f19716",
       "version_major": 2,
       "version_minor": 0
      },
      "text/plain": [
       "Batches:   0%|          | 0/1 [00:00<?, ?it/s]"
      ]
     },
     "metadata": {},
     "output_type": "display_data"
    },
    {
     "data": {
      "application/vnd.jupyter.widget-view+json": {
       "model_id": "3e612c9863e14718a73ddbcd8fe63050",
       "version_major": 2,
       "version_minor": 0
      },
      "text/plain": [
       "Batches:   0%|          | 0/1 [00:00<?, ?it/s]"
      ]
     },
     "metadata": {},
     "output_type": "display_data"
    },
    {
     "data": {
      "application/vnd.jupyter.widget-view+json": {
       "model_id": "4215f267e39b464196a0c2eb5dc24efc",
       "version_major": 2,
       "version_minor": 0
      },
      "text/plain": [
       "Batches:   0%|          | 0/1 [00:00<?, ?it/s]"
      ]
     },
     "metadata": {},
     "output_type": "display_data"
    },
    {
     "data": {
      "application/vnd.jupyter.widget-view+json": {
       "model_id": "84a917b94b2841918ced1685f775073f",
       "version_major": 2,
       "version_minor": 0
      },
      "text/plain": [
       "Batches:   0%|          | 0/1 [00:00<?, ?it/s]"
      ]
     },
     "metadata": {},
     "output_type": "display_data"
    },
    {
     "data": {
      "application/vnd.jupyter.widget-view+json": {
       "model_id": "85e2b3d0a1154c41b216d22842555793",
       "version_major": 2,
       "version_minor": 0
      },
      "text/plain": [
       "Batches:   0%|          | 0/1 [00:00<?, ?it/s]"
      ]
     },
     "metadata": {},
     "output_type": "display_data"
    },
    {
     "data": {
      "application/vnd.jupyter.widget-view+json": {
       "model_id": "06ff48e3bccd41158bf33d9ad39738c6",
       "version_major": 2,
       "version_minor": 0
      },
      "text/plain": [
       "Batches:   0%|          | 0/1 [00:00<?, ?it/s]"
      ]
     },
     "metadata": {},
     "output_type": "display_data"
    },
    {
     "data": {
      "application/vnd.jupyter.widget-view+json": {
       "model_id": "73923c2cc36342b78a7382728766d93e",
       "version_major": 2,
       "version_minor": 0
      },
      "text/plain": [
       "Batches:   0%|          | 0/1 [00:00<?, ?it/s]"
      ]
     },
     "metadata": {},
     "output_type": "display_data"
    },
    {
     "data": {
      "application/vnd.jupyter.widget-view+json": {
       "model_id": "94becc56b18846bf979a00efaa036ed3",
       "version_major": 2,
       "version_minor": 0
      },
      "text/plain": [
       "Batches:   0%|          | 0/1 [00:00<?, ?it/s]"
      ]
     },
     "metadata": {},
     "output_type": "display_data"
    },
    {
     "data": {
      "application/vnd.jupyter.widget-view+json": {
       "model_id": "35179194b5be4137bf45724eeea85eab",
       "version_major": 2,
       "version_minor": 0
      },
      "text/plain": [
       "Batches:   0%|          | 0/1 [00:00<?, ?it/s]"
      ]
     },
     "metadata": {},
     "output_type": "display_data"
    },
    {
     "data": {
      "application/vnd.jupyter.widget-view+json": {
       "model_id": "f114c7c25a9e4b529aa5f87e88f0ba31",
       "version_major": 2,
       "version_minor": 0
      },
      "text/plain": [
       "Batches:   0%|          | 0/1 [00:00<?, ?it/s]"
      ]
     },
     "metadata": {},
     "output_type": "display_data"
    },
    {
     "data": {
      "application/vnd.jupyter.widget-view+json": {
       "model_id": "e1895554780742f88af276f63c3fd015",
       "version_major": 2,
       "version_minor": 0
      },
      "text/plain": [
       "Batches:   0%|          | 0/1 [00:00<?, ?it/s]"
      ]
     },
     "metadata": {},
     "output_type": "display_data"
    },
    {
     "data": {
      "application/vnd.jupyter.widget-view+json": {
       "model_id": "a007efb37d5a427fb9675a8c2cc68a39",
       "version_major": 2,
       "version_minor": 0
      },
      "text/plain": [
       "Batches:   0%|          | 0/1 [00:00<?, ?it/s]"
      ]
     },
     "metadata": {},
     "output_type": "display_data"
    },
    {
     "data": {
      "application/vnd.jupyter.widget-view+json": {
       "model_id": "e800080c9d9a46549bcdfd09f3afacc7",
       "version_major": 2,
       "version_minor": 0
      },
      "text/plain": [
       "Batches:   0%|          | 0/1 [00:00<?, ?it/s]"
      ]
     },
     "metadata": {},
     "output_type": "display_data"
    },
    {
     "data": {
      "application/vnd.jupyter.widget-view+json": {
       "model_id": "5d81e15d94d14451b35af9c0e3c0590e",
       "version_major": 2,
       "version_minor": 0
      },
      "text/plain": [
       "Batches:   0%|          | 0/1 [00:00<?, ?it/s]"
      ]
     },
     "metadata": {},
     "output_type": "display_data"
    },
    {
     "data": {
      "application/vnd.jupyter.widget-view+json": {
       "model_id": "96aa7724bc0b4d218040bdaae513252d",
       "version_major": 2,
       "version_minor": 0
      },
      "text/plain": [
       "Batches:   0%|          | 0/1 [00:00<?, ?it/s]"
      ]
     },
     "metadata": {},
     "output_type": "display_data"
    },
    {
     "data": {
      "application/vnd.jupyter.widget-view+json": {
       "model_id": "da38c7074a344a4bb31bc01218d3647e",
       "version_major": 2,
       "version_minor": 0
      },
      "text/plain": [
       "Batches:   0%|          | 0/1 [00:00<?, ?it/s]"
      ]
     },
     "metadata": {},
     "output_type": "display_data"
    },
    {
     "data": {
      "application/vnd.jupyter.widget-view+json": {
       "model_id": "5206f2bc061d4661b5a9bd89474b9304",
       "version_major": 2,
       "version_minor": 0
      },
      "text/plain": [
       "Batches:   0%|          | 0/1 [00:00<?, ?it/s]"
      ]
     },
     "metadata": {},
     "output_type": "display_data"
    },
    {
     "data": {
      "application/vnd.jupyter.widget-view+json": {
       "model_id": "d834f0c807ab47dd99a722661c1eaaa5",
       "version_major": 2,
       "version_minor": 0
      },
      "text/plain": [
       "Batches:   0%|          | 0/1 [00:00<?, ?it/s]"
      ]
     },
     "metadata": {},
     "output_type": "display_data"
    },
    {
     "data": {
      "application/vnd.jupyter.widget-view+json": {
       "model_id": "531bfe87011c4c4ab51405138bb4933f",
       "version_major": 2,
       "version_minor": 0
      },
      "text/plain": [
       "Batches:   0%|          | 0/1 [00:00<?, ?it/s]"
      ]
     },
     "metadata": {},
     "output_type": "display_data"
    },
    {
     "data": {
      "application/vnd.jupyter.widget-view+json": {
       "model_id": "ea3908f18d0e4d75aa95dd81d54b2490",
       "version_major": 2,
       "version_minor": 0
      },
      "text/plain": [
       "Batches:   0%|          | 0/1 [00:00<?, ?it/s]"
      ]
     },
     "metadata": {},
     "output_type": "display_data"
    },
    {
     "data": {
      "application/vnd.jupyter.widget-view+json": {
       "model_id": "0ba5b6db8ab74036baa5163628257dba",
       "version_major": 2,
       "version_minor": 0
      },
      "text/plain": [
       "Batches:   0%|          | 0/1 [00:00<?, ?it/s]"
      ]
     },
     "metadata": {},
     "output_type": "display_data"
    },
    {
     "data": {
      "application/vnd.jupyter.widget-view+json": {
       "model_id": "a1f7b970ce064867b3372fd87c60bc8b",
       "version_major": 2,
       "version_minor": 0
      },
      "text/plain": [
       "Batches:   0%|          | 0/1 [00:00<?, ?it/s]"
      ]
     },
     "metadata": {},
     "output_type": "display_data"
    },
    {
     "data": {
      "application/vnd.jupyter.widget-view+json": {
       "model_id": "b4eaafd083f341c299c65f99d589a3fe",
       "version_major": 2,
       "version_minor": 0
      },
      "text/plain": [
       "Batches:   0%|          | 0/1 [00:00<?, ?it/s]"
      ]
     },
     "metadata": {},
     "output_type": "display_data"
    },
    {
     "data": {
      "application/vnd.jupyter.widget-view+json": {
       "model_id": "bfaece15ddb849c58b68aa1bd1b281ea",
       "version_major": 2,
       "version_minor": 0
      },
      "text/plain": [
       "Batches:   0%|          | 0/1 [00:00<?, ?it/s]"
      ]
     },
     "metadata": {},
     "output_type": "display_data"
    },
    {
     "data": {
      "application/vnd.jupyter.widget-view+json": {
       "model_id": "93bfeda25b9d4fce93db26964c200e44",
       "version_major": 2,
       "version_minor": 0
      },
      "text/plain": [
       "Batches:   0%|          | 0/1 [00:00<?, ?it/s]"
      ]
     },
     "metadata": {},
     "output_type": "display_data"
    },
    {
     "data": {
      "application/vnd.jupyter.widget-view+json": {
       "model_id": "ea63b18f705249b79b8aec0347a90c3e",
       "version_major": 2,
       "version_minor": 0
      },
      "text/plain": [
       "Batches:   0%|          | 0/1 [00:00<?, ?it/s]"
      ]
     },
     "metadata": {},
     "output_type": "display_data"
    },
    {
     "data": {
      "application/vnd.jupyter.widget-view+json": {
       "model_id": "4d99207d3d6d4141849b396095c297a5",
       "version_major": 2,
       "version_minor": 0
      },
      "text/plain": [
       "Batches:   0%|          | 0/1 [00:00<?, ?it/s]"
      ]
     },
     "metadata": {},
     "output_type": "display_data"
    },
    {
     "data": {
      "application/vnd.jupyter.widget-view+json": {
       "model_id": "4c0bc2cf6bef48408ebbb9b184509eff",
       "version_major": 2,
       "version_minor": 0
      },
      "text/plain": [
       "Batches:   0%|          | 0/1 [00:00<?, ?it/s]"
      ]
     },
     "metadata": {},
     "output_type": "display_data"
    },
    {
     "data": {
      "application/vnd.jupyter.widget-view+json": {
       "model_id": "dfcb3796714a41c7835c2690ca7e6e80",
       "version_major": 2,
       "version_minor": 0
      },
      "text/plain": [
       "Batches:   0%|          | 0/1 [00:00<?, ?it/s]"
      ]
     },
     "metadata": {},
     "output_type": "display_data"
    },
    {
     "data": {
      "application/vnd.jupyter.widget-view+json": {
       "model_id": "d6e4020cd3ea4fa28a70182fb6b78f19",
       "version_major": 2,
       "version_minor": 0
      },
      "text/plain": [
       "Batches:   0%|          | 0/1 [00:00<?, ?it/s]"
      ]
     },
     "metadata": {},
     "output_type": "display_data"
    },
    {
     "data": {
      "application/vnd.jupyter.widget-view+json": {
       "model_id": "2b52261373784177b607b23367cf8fdd",
       "version_major": 2,
       "version_minor": 0
      },
      "text/plain": [
       "Batches:   0%|          | 0/1 [00:00<?, ?it/s]"
      ]
     },
     "metadata": {},
     "output_type": "display_data"
    },
    {
     "data": {
      "application/vnd.jupyter.widget-view+json": {
       "model_id": "654ad159b1e54c75a150e762933161b9",
       "version_major": 2,
       "version_minor": 0
      },
      "text/plain": [
       "Batches:   0%|          | 0/1 [00:00<?, ?it/s]"
      ]
     },
     "metadata": {},
     "output_type": "display_data"
    },
    {
     "data": {
      "application/vnd.jupyter.widget-view+json": {
       "model_id": "7a5ad914f4bb4ad0b666586916490858",
       "version_major": 2,
       "version_minor": 0
      },
      "text/plain": [
       "Batches:   0%|          | 0/1 [00:00<?, ?it/s]"
      ]
     },
     "metadata": {},
     "output_type": "display_data"
    },
    {
     "data": {
      "application/vnd.jupyter.widget-view+json": {
       "model_id": "24e97d621ec640b4844c8963e54b246c",
       "version_major": 2,
       "version_minor": 0
      },
      "text/plain": [
       "Batches:   0%|          | 0/1 [00:00<?, ?it/s]"
      ]
     },
     "metadata": {},
     "output_type": "display_data"
    },
    {
     "data": {
      "application/vnd.jupyter.widget-view+json": {
       "model_id": "d276f722e493425db1dd4ba9d2f12859",
       "version_major": 2,
       "version_minor": 0
      },
      "text/plain": [
       "Batches:   0%|          | 0/1 [00:00<?, ?it/s]"
      ]
     },
     "metadata": {},
     "output_type": "display_data"
    },
    {
     "data": {
      "application/vnd.jupyter.widget-view+json": {
       "model_id": "74c975d8a79c461893777f8c0b34ba31",
       "version_major": 2,
       "version_minor": 0
      },
      "text/plain": [
       "Batches:   0%|          | 0/1 [00:00<?, ?it/s]"
      ]
     },
     "metadata": {},
     "output_type": "display_data"
    },
    {
     "data": {
      "application/vnd.jupyter.widget-view+json": {
       "model_id": "1f047396c4bb4d1da3b5d48c63fd9cbe",
       "version_major": 2,
       "version_minor": 0
      },
      "text/plain": [
       "Batches:   0%|          | 0/1 [00:00<?, ?it/s]"
      ]
     },
     "metadata": {},
     "output_type": "display_data"
    },
    {
     "data": {
      "application/vnd.jupyter.widget-view+json": {
       "model_id": "7077149e424e4c45bac4eb33f6797f46",
       "version_major": 2,
       "version_minor": 0
      },
      "text/plain": [
       "Batches:   0%|          | 0/1 [00:00<?, ?it/s]"
      ]
     },
     "metadata": {},
     "output_type": "display_data"
    },
    {
     "data": {
      "application/vnd.jupyter.widget-view+json": {
       "model_id": "b86218b9af0e4c34b46a89bd021bdadf",
       "version_major": 2,
       "version_minor": 0
      },
      "text/plain": [
       "Batches:   0%|          | 0/1 [00:00<?, ?it/s]"
      ]
     },
     "metadata": {},
     "output_type": "display_data"
    },
    {
     "data": {
      "application/vnd.jupyter.widget-view+json": {
       "model_id": "7898f2b2c82344f69dd3795fd29e7880",
       "version_major": 2,
       "version_minor": 0
      },
      "text/plain": [
       "Batches:   0%|          | 0/1 [00:00<?, ?it/s]"
      ]
     },
     "metadata": {},
     "output_type": "display_data"
    },
    {
     "data": {
      "application/vnd.jupyter.widget-view+json": {
       "model_id": "5d647917777d43b0a4ac1aee510a1edf",
       "version_major": 2,
       "version_minor": 0
      },
      "text/plain": [
       "Batches:   0%|          | 0/1 [00:00<?, ?it/s]"
      ]
     },
     "metadata": {},
     "output_type": "display_data"
    },
    {
     "data": {
      "application/vnd.jupyter.widget-view+json": {
       "model_id": "cffdc692b7af4545aeb7555db53472b1",
       "version_major": 2,
       "version_minor": 0
      },
      "text/plain": [
       "Batches:   0%|          | 0/1 [00:00<?, ?it/s]"
      ]
     },
     "metadata": {},
     "output_type": "display_data"
    },
    {
     "data": {
      "application/vnd.jupyter.widget-view+json": {
       "model_id": "fe50e2dc50b04f459eb7344b9f06b28e",
       "version_major": 2,
       "version_minor": 0
      },
      "text/plain": [
       "Batches:   0%|          | 0/1 [00:00<?, ?it/s]"
      ]
     },
     "metadata": {},
     "output_type": "display_data"
    },
    {
     "data": {
      "application/vnd.jupyter.widget-view+json": {
       "model_id": "e380426a957a4204b3f5dc8a8ce261dd",
       "version_major": 2,
       "version_minor": 0
      },
      "text/plain": [
       "Batches:   0%|          | 0/1 [00:00<?, ?it/s]"
      ]
     },
     "metadata": {},
     "output_type": "display_data"
    },
    {
     "data": {
      "application/vnd.jupyter.widget-view+json": {
       "model_id": "a243bb42c4754056b882432e1365e976",
       "version_major": 2,
       "version_minor": 0
      },
      "text/plain": [
       "Batches:   0%|          | 0/1 [00:00<?, ?it/s]"
      ]
     },
     "metadata": {},
     "output_type": "display_data"
    },
    {
     "data": {
      "application/vnd.jupyter.widget-view+json": {
       "model_id": "bb8d24a10ddb4872ae2f0edcd7420087",
       "version_major": 2,
       "version_minor": 0
      },
      "text/plain": [
       "Batches:   0%|          | 0/1 [00:00<?, ?it/s]"
      ]
     },
     "metadata": {},
     "output_type": "display_data"
    },
    {
     "data": {
      "application/vnd.jupyter.widget-view+json": {
       "model_id": "62f9817dbeb645d8a9d4ef4a337a83f0",
       "version_major": 2,
       "version_minor": 0
      },
      "text/plain": [
       "Batches:   0%|          | 0/1 [00:00<?, ?it/s]"
      ]
     },
     "metadata": {},
     "output_type": "display_data"
    },
    {
     "data": {
      "application/vnd.jupyter.widget-view+json": {
       "model_id": "893d232b947c41508dd0d4002244bcd4",
       "version_major": 2,
       "version_minor": 0
      },
      "text/plain": [
       "Batches:   0%|          | 0/1 [00:00<?, ?it/s]"
      ]
     },
     "metadata": {},
     "output_type": "display_data"
    },
    {
     "data": {
      "application/vnd.jupyter.widget-view+json": {
       "model_id": "3fb87cf809f24939b86a7779b27a9178",
       "version_major": 2,
       "version_minor": 0
      },
      "text/plain": [
       "Batches:   0%|          | 0/1 [00:00<?, ?it/s]"
      ]
     },
     "metadata": {},
     "output_type": "display_data"
    },
    {
     "data": {
      "application/vnd.jupyter.widget-view+json": {
       "model_id": "97e765596c5346da8daca0908d1f559e",
       "version_major": 2,
       "version_minor": 0
      },
      "text/plain": [
       "Batches:   0%|          | 0/1 [00:00<?, ?it/s]"
      ]
     },
     "metadata": {},
     "output_type": "display_data"
    },
    {
     "data": {
      "application/vnd.jupyter.widget-view+json": {
       "model_id": "d3006dd8357f42fc8fa616c908754fd4",
       "version_major": 2,
       "version_minor": 0
      },
      "text/plain": [
       "Batches:   0%|          | 0/1 [00:00<?, ?it/s]"
      ]
     },
     "metadata": {},
     "output_type": "display_data"
    },
    {
     "data": {
      "application/vnd.jupyter.widget-view+json": {
       "model_id": "addb317442f447e9a22c010a3bbb46fc",
       "version_major": 2,
       "version_minor": 0
      },
      "text/plain": [
       "Batches:   0%|          | 0/1 [00:00<?, ?it/s]"
      ]
     },
     "metadata": {},
     "output_type": "display_data"
    },
    {
     "data": {
      "application/vnd.jupyter.widget-view+json": {
       "model_id": "388fd216218d40cdb055a166d6bf422a",
       "version_major": 2,
       "version_minor": 0
      },
      "text/plain": [
       "Batches:   0%|          | 0/1 [00:00<?, ?it/s]"
      ]
     },
     "metadata": {},
     "output_type": "display_data"
    },
    {
     "data": {
      "application/vnd.jupyter.widget-view+json": {
       "model_id": "ae2be66500d24c99b452dff8070b3921",
       "version_major": 2,
       "version_minor": 0
      },
      "text/plain": [
       "Batches:   0%|          | 0/1 [00:00<?, ?it/s]"
      ]
     },
     "metadata": {},
     "output_type": "display_data"
    },
    {
     "data": {
      "application/vnd.jupyter.widget-view+json": {
       "model_id": "24c8b54eeaf54f548474141a69f10281",
       "version_major": 2,
       "version_minor": 0
      },
      "text/plain": [
       "Batches:   0%|          | 0/1 [00:00<?, ?it/s]"
      ]
     },
     "metadata": {},
     "output_type": "display_data"
    },
    {
     "data": {
      "application/vnd.jupyter.widget-view+json": {
       "model_id": "6d4e922835ae44339b8c643afcc04bce",
       "version_major": 2,
       "version_minor": 0
      },
      "text/plain": [
       "Batches:   0%|          | 0/1 [00:00<?, ?it/s]"
      ]
     },
     "metadata": {},
     "output_type": "display_data"
    },
    {
     "data": {
      "application/vnd.jupyter.widget-view+json": {
       "model_id": "39fc2cde31e9425285316a6a4f9ff6b7",
       "version_major": 2,
       "version_minor": 0
      },
      "text/plain": [
       "Batches:   0%|          | 0/1 [00:00<?, ?it/s]"
      ]
     },
     "metadata": {},
     "output_type": "display_data"
    },
    {
     "data": {
      "application/vnd.jupyter.widget-view+json": {
       "model_id": "1b62c41afcbb42a6a7e9d43025af0e20",
       "version_major": 2,
       "version_minor": 0
      },
      "text/plain": [
       "Batches:   0%|          | 0/1 [00:00<?, ?it/s]"
      ]
     },
     "metadata": {},
     "output_type": "display_data"
    },
    {
     "data": {
      "application/vnd.jupyter.widget-view+json": {
       "model_id": "a4fb2a30dd4649789b876ee912f0dc86",
       "version_major": 2,
       "version_minor": 0
      },
      "text/plain": [
       "Batches:   0%|          | 0/1 [00:00<?, ?it/s]"
      ]
     },
     "metadata": {},
     "output_type": "display_data"
    },
    {
     "data": {
      "application/vnd.jupyter.widget-view+json": {
       "model_id": "38a70316e773452da12b2762d2ab1bc2",
       "version_major": 2,
       "version_minor": 0
      },
      "text/plain": [
       "Batches:   0%|          | 0/1 [00:00<?, ?it/s]"
      ]
     },
     "metadata": {},
     "output_type": "display_data"
    },
    {
     "data": {
      "application/vnd.jupyter.widget-view+json": {
       "model_id": "90d9834b5877449d8cbeab1e7ca25e96",
       "version_major": 2,
       "version_minor": 0
      },
      "text/plain": [
       "Batches:   0%|          | 0/1 [00:00<?, ?it/s]"
      ]
     },
     "metadata": {},
     "output_type": "display_data"
    },
    {
     "data": {
      "application/vnd.jupyter.widget-view+json": {
       "model_id": "36821d1371c440538d8830d442fd22e1",
       "version_major": 2,
       "version_minor": 0
      },
      "text/plain": [
       "Batches:   0%|          | 0/1 [00:00<?, ?it/s]"
      ]
     },
     "metadata": {},
     "output_type": "display_data"
    },
    {
     "data": {
      "application/vnd.jupyter.widget-view+json": {
       "model_id": "2953c7735cfe4c638fdaee7459499c25",
       "version_major": 2,
       "version_minor": 0
      },
      "text/plain": [
       "Batches:   0%|          | 0/1 [00:00<?, ?it/s]"
      ]
     },
     "metadata": {},
     "output_type": "display_data"
    },
    {
     "data": {
      "application/vnd.jupyter.widget-view+json": {
       "model_id": "4d19b82e98ff4f3d92a9e83074e80025",
       "version_major": 2,
       "version_minor": 0
      },
      "text/plain": [
       "Batches:   0%|          | 0/1 [00:00<?, ?it/s]"
      ]
     },
     "metadata": {},
     "output_type": "display_data"
    },
    {
     "data": {
      "application/vnd.jupyter.widget-view+json": {
       "model_id": "663166fe98b046a79394d826a1e54fec",
       "version_major": 2,
       "version_minor": 0
      },
      "text/plain": [
       "Batches:   0%|          | 0/1 [00:00<?, ?it/s]"
      ]
     },
     "metadata": {},
     "output_type": "display_data"
    },
    {
     "data": {
      "application/vnd.jupyter.widget-view+json": {
       "model_id": "ee0473a56fd64f00897a56044b4c6288",
       "version_major": 2,
       "version_minor": 0
      },
      "text/plain": [
       "Batches:   0%|          | 0/1 [00:00<?, ?it/s]"
      ]
     },
     "metadata": {},
     "output_type": "display_data"
    },
    {
     "data": {
      "application/vnd.jupyter.widget-view+json": {
       "model_id": "3f2ba297002c4f1babf937265b4938b4",
       "version_major": 2,
       "version_minor": 0
      },
      "text/plain": [
       "Batches:   0%|          | 0/1 [00:00<?, ?it/s]"
      ]
     },
     "metadata": {},
     "output_type": "display_data"
    },
    {
     "data": {
      "application/vnd.jupyter.widget-view+json": {
       "model_id": "55ebd077177748f395817d3ccb3fc203",
       "version_major": 2,
       "version_minor": 0
      },
      "text/plain": [
       "Batches:   0%|          | 0/1 [00:00<?, ?it/s]"
      ]
     },
     "metadata": {},
     "output_type": "display_data"
    },
    {
     "data": {
      "application/vnd.jupyter.widget-view+json": {
       "model_id": "369706b80c4c4d19bc3149953351154a",
       "version_major": 2,
       "version_minor": 0
      },
      "text/plain": [
       "Batches:   0%|          | 0/1 [00:00<?, ?it/s]"
      ]
     },
     "metadata": {},
     "output_type": "display_data"
    },
    {
     "data": {
      "application/vnd.jupyter.widget-view+json": {
       "model_id": "9f4e5782eb6345e39a2af1c828dbdfab",
       "version_major": 2,
       "version_minor": 0
      },
      "text/plain": [
       "Batches:   0%|          | 0/1 [00:00<?, ?it/s]"
      ]
     },
     "metadata": {},
     "output_type": "display_data"
    },
    {
     "data": {
      "application/vnd.jupyter.widget-view+json": {
       "model_id": "76c079eb52f048508b0011b6494e095f",
       "version_major": 2,
       "version_minor": 0
      },
      "text/plain": [
       "Batches:   0%|          | 0/1 [00:00<?, ?it/s]"
      ]
     },
     "metadata": {},
     "output_type": "display_data"
    },
    {
     "data": {
      "application/vnd.jupyter.widget-view+json": {
       "model_id": "ec336ede173b48e6b3c150549f9eac7d",
       "version_major": 2,
       "version_minor": 0
      },
      "text/plain": [
       "Batches:   0%|          | 0/1 [00:00<?, ?it/s]"
      ]
     },
     "metadata": {},
     "output_type": "display_data"
    },
    {
     "data": {
      "application/vnd.jupyter.widget-view+json": {
       "model_id": "3782c77a938245b1951420f12b579210",
       "version_major": 2,
       "version_minor": 0
      },
      "text/plain": [
       "Batches:   0%|          | 0/1 [00:00<?, ?it/s]"
      ]
     },
     "metadata": {},
     "output_type": "display_data"
    },
    {
     "data": {
      "application/vnd.jupyter.widget-view+json": {
       "model_id": "71c7f90e3d7944af92351524318f86a9",
       "version_major": 2,
       "version_minor": 0
      },
      "text/plain": [
       "Batches:   0%|          | 0/1 [00:00<?, ?it/s]"
      ]
     },
     "metadata": {},
     "output_type": "display_data"
    },
    {
     "data": {
      "application/vnd.jupyter.widget-view+json": {
       "model_id": "ca925030c20443aea86aefe14b64db2a",
       "version_major": 2,
       "version_minor": 0
      },
      "text/plain": [
       "Batches:   0%|          | 0/1 [00:00<?, ?it/s]"
      ]
     },
     "metadata": {},
     "output_type": "display_data"
    },
    {
     "data": {
      "application/vnd.jupyter.widget-view+json": {
       "model_id": "bd8dcf1d3a2045e68d6abcc1a698c809",
       "version_major": 2,
       "version_minor": 0
      },
      "text/plain": [
       "Batches:   0%|          | 0/1 [00:00<?, ?it/s]"
      ]
     },
     "metadata": {},
     "output_type": "display_data"
    },
    {
     "data": {
      "application/vnd.jupyter.widget-view+json": {
       "model_id": "c75df38e8625490dbee55a7c5689e2ca",
       "version_major": 2,
       "version_minor": 0
      },
      "text/plain": [
       "Batches:   0%|          | 0/1 [00:00<?, ?it/s]"
      ]
     },
     "metadata": {},
     "output_type": "display_data"
    },
    {
     "data": {
      "application/vnd.jupyter.widget-view+json": {
       "model_id": "60e111a1f43146899475d5d9e594dc19",
       "version_major": 2,
       "version_minor": 0
      },
      "text/plain": [
       "Batches:   0%|          | 0/1 [00:00<?, ?it/s]"
      ]
     },
     "metadata": {},
     "output_type": "display_data"
    },
    {
     "data": {
      "application/vnd.jupyter.widget-view+json": {
       "model_id": "d7e1d8da478b469b8a2f85fcfdd0c31c",
       "version_major": 2,
       "version_minor": 0
      },
      "text/plain": [
       "Batches:   0%|          | 0/1 [00:00<?, ?it/s]"
      ]
     },
     "metadata": {},
     "output_type": "display_data"
    },
    {
     "data": {
      "application/vnd.jupyter.widget-view+json": {
       "model_id": "5d4922827f884231a2cca5b02da45fa0",
       "version_major": 2,
       "version_minor": 0
      },
      "text/plain": [
       "Batches:   0%|          | 0/1 [00:00<?, ?it/s]"
      ]
     },
     "metadata": {},
     "output_type": "display_data"
    },
    {
     "data": {
      "application/vnd.jupyter.widget-view+json": {
       "model_id": "6b5a5d74e9cd453a8f9f3061d4d42319",
       "version_major": 2,
       "version_minor": 0
      },
      "text/plain": [
       "Batches:   0%|          | 0/1 [00:00<?, ?it/s]"
      ]
     },
     "metadata": {},
     "output_type": "display_data"
    },
    {
     "data": {
      "application/vnd.jupyter.widget-view+json": {
       "model_id": "43ec169fdec14297b05fa593b19e5a56",
       "version_major": 2,
       "version_minor": 0
      },
      "text/plain": [
       "Batches:   0%|          | 0/1 [00:00<?, ?it/s]"
      ]
     },
     "metadata": {},
     "output_type": "display_data"
    },
    {
     "data": {
      "application/vnd.jupyter.widget-view+json": {
       "model_id": "fa6b14e4804d4e9986fea6080ae88fc3",
       "version_major": 2,
       "version_minor": 0
      },
      "text/plain": [
       "Batches:   0%|          | 0/1 [00:00<?, ?it/s]"
      ]
     },
     "metadata": {},
     "output_type": "display_data"
    },
    {
     "data": {
      "application/vnd.jupyter.widget-view+json": {
       "model_id": "ddad534471eb4dffb3c8f00e7c536873",
       "version_major": 2,
       "version_minor": 0
      },
      "text/plain": [
       "Batches:   0%|          | 0/1 [00:00<?, ?it/s]"
      ]
     },
     "metadata": {},
     "output_type": "display_data"
    },
    {
     "data": {
      "application/vnd.jupyter.widget-view+json": {
       "model_id": "ae3ececc732446f6a139aa6743955f46",
       "version_major": 2,
       "version_minor": 0
      },
      "text/plain": [
       "Batches:   0%|          | 0/1 [00:00<?, ?it/s]"
      ]
     },
     "metadata": {},
     "output_type": "display_data"
    },
    {
     "data": {
      "application/vnd.jupyter.widget-view+json": {
       "model_id": "147a0391fb2a45ada299dc1366a29dbd",
       "version_major": 2,
       "version_minor": 0
      },
      "text/plain": [
       "Batches:   0%|          | 0/1 [00:00<?, ?it/s]"
      ]
     },
     "metadata": {},
     "output_type": "display_data"
    },
    {
     "data": {
      "application/vnd.jupyter.widget-view+json": {
       "model_id": "744d8a5aa8174939ab55536ae7bbbd32",
       "version_major": 2,
       "version_minor": 0
      },
      "text/plain": [
       "Batches:   0%|          | 0/1 [00:00<?, ?it/s]"
      ]
     },
     "metadata": {},
     "output_type": "display_data"
    },
    {
     "data": {
      "application/vnd.jupyter.widget-view+json": {
       "model_id": "88b9d72a37ef448fbe74880734ff6342",
       "version_major": 2,
       "version_minor": 0
      },
      "text/plain": [
       "Batches:   0%|          | 0/1 [00:00<?, ?it/s]"
      ]
     },
     "metadata": {},
     "output_type": "display_data"
    },
    {
     "data": {
      "application/vnd.jupyter.widget-view+json": {
       "model_id": "9f782b8152174452874084e6d4af7d34",
       "version_major": 2,
       "version_minor": 0
      },
      "text/plain": [
       "Batches:   0%|          | 0/1 [00:00<?, ?it/s]"
      ]
     },
     "metadata": {},
     "output_type": "display_data"
    },
    {
     "data": {
      "application/vnd.jupyter.widget-view+json": {
       "model_id": "e52c076647b14c2fae93d71ca2650255",
       "version_major": 2,
       "version_minor": 0
      },
      "text/plain": [
       "Batches:   0%|          | 0/1 [00:00<?, ?it/s]"
      ]
     },
     "metadata": {},
     "output_type": "display_data"
    },
    {
     "data": {
      "application/vnd.jupyter.widget-view+json": {
       "model_id": "3881052f76404d60909113e3ee7e03a7",
       "version_major": 2,
       "version_minor": 0
      },
      "text/plain": [
       "Batches:   0%|          | 0/1 [00:00<?, ?it/s]"
      ]
     },
     "metadata": {},
     "output_type": "display_data"
    },
    {
     "data": {
      "application/vnd.jupyter.widget-view+json": {
       "model_id": "96a7ca90d38b491a8e15022986414b6b",
       "version_major": 2,
       "version_minor": 0
      },
      "text/plain": [
       "Batches:   0%|          | 0/1 [00:00<?, ?it/s]"
      ]
     },
     "metadata": {},
     "output_type": "display_data"
    },
    {
     "data": {
      "application/vnd.jupyter.widget-view+json": {
       "model_id": "db59302ff475484b8103fd865419e413",
       "version_major": 2,
       "version_minor": 0
      },
      "text/plain": [
       "Batches:   0%|          | 0/1 [00:00<?, ?it/s]"
      ]
     },
     "metadata": {},
     "output_type": "display_data"
    },
    {
     "data": {
      "application/vnd.jupyter.widget-view+json": {
       "model_id": "fb0e6a5410874bc3901359bf1f5f9f9f",
       "version_major": 2,
       "version_minor": 0
      },
      "text/plain": [
       "Batches:   0%|          | 0/1 [00:00<?, ?it/s]"
      ]
     },
     "metadata": {},
     "output_type": "display_data"
    },
    {
     "data": {
      "application/vnd.jupyter.widget-view+json": {
       "model_id": "6194c08d47cc4e31ae1bb55eb3218eb1",
       "version_major": 2,
       "version_minor": 0
      },
      "text/plain": [
       "Batches:   0%|          | 0/1 [00:00<?, ?it/s]"
      ]
     },
     "metadata": {},
     "output_type": "display_data"
    },
    {
     "data": {
      "application/vnd.jupyter.widget-view+json": {
       "model_id": "f4a0f5b5aa2e4a12a3da4e53da0b17a7",
       "version_major": 2,
       "version_minor": 0
      },
      "text/plain": [
       "Batches:   0%|          | 0/1 [00:00<?, ?it/s]"
      ]
     },
     "metadata": {},
     "output_type": "display_data"
    },
    {
     "data": {
      "application/vnd.jupyter.widget-view+json": {
       "model_id": "bdb2bd95b9a34dd2b3be692a0678c188",
       "version_major": 2,
       "version_minor": 0
      },
      "text/plain": [
       "Batches:   0%|          | 0/1 [00:00<?, ?it/s]"
      ]
     },
     "metadata": {},
     "output_type": "display_data"
    },
    {
     "data": {
      "application/vnd.jupyter.widget-view+json": {
       "model_id": "854b2a2422a5401ab0bd6ae8fdcec2d1",
       "version_major": 2,
       "version_minor": 0
      },
      "text/plain": [
       "Batches:   0%|          | 0/1 [00:00<?, ?it/s]"
      ]
     },
     "metadata": {},
     "output_type": "display_data"
    },
    {
     "data": {
      "application/vnd.jupyter.widget-view+json": {
       "model_id": "6abf62b0807546c4a94ec1cc367aacd4",
       "version_major": 2,
       "version_minor": 0
      },
      "text/plain": [
       "Batches:   0%|          | 0/1 [00:00<?, ?it/s]"
      ]
     },
     "metadata": {},
     "output_type": "display_data"
    },
    {
     "data": {
      "application/vnd.jupyter.widget-view+json": {
       "model_id": "071c2b07e3d3417f8d58a0d94b73a3ed",
       "version_major": 2,
       "version_minor": 0
      },
      "text/plain": [
       "Batches:   0%|          | 0/1 [00:00<?, ?it/s]"
      ]
     },
     "metadata": {},
     "output_type": "display_data"
    },
    {
     "data": {
      "application/vnd.jupyter.widget-view+json": {
       "model_id": "5e3ef21e02254ee1b6d6d3058b77f41c",
       "version_major": 2,
       "version_minor": 0
      },
      "text/plain": [
       "Batches:   0%|          | 0/1 [00:00<?, ?it/s]"
      ]
     },
     "metadata": {},
     "output_type": "display_data"
    },
    {
     "data": {
      "application/vnd.jupyter.widget-view+json": {
       "model_id": "9820ee036b5a48d5aaba52521feba475",
       "version_major": 2,
       "version_minor": 0
      },
      "text/plain": [
       "Batches:   0%|          | 0/1 [00:00<?, ?it/s]"
      ]
     },
     "metadata": {},
     "output_type": "display_data"
    },
    {
     "data": {
      "application/vnd.jupyter.widget-view+json": {
       "model_id": "e9dd51de063f4322b7b01bd2932ece54",
       "version_major": 2,
       "version_minor": 0
      },
      "text/plain": [
       "Batches:   0%|          | 0/1 [00:00<?, ?it/s]"
      ]
     },
     "metadata": {},
     "output_type": "display_data"
    },
    {
     "data": {
      "application/vnd.jupyter.widget-view+json": {
       "model_id": "a2290d7eaaff40169230050d6f461a4b",
       "version_major": 2,
       "version_minor": 0
      },
      "text/plain": [
       "Batches:   0%|          | 0/1 [00:00<?, ?it/s]"
      ]
     },
     "metadata": {},
     "output_type": "display_data"
    },
    {
     "data": {
      "application/vnd.jupyter.widget-view+json": {
       "model_id": "eed161e56f574f71acfdfa9a638713cc",
       "version_major": 2,
       "version_minor": 0
      },
      "text/plain": [
       "Batches:   0%|          | 0/1 [00:00<?, ?it/s]"
      ]
     },
     "metadata": {},
     "output_type": "display_data"
    },
    {
     "data": {
      "application/vnd.jupyter.widget-view+json": {
       "model_id": "53ec94d170a54d1fbf9a4c7e081a3270",
       "version_major": 2,
       "version_minor": 0
      },
      "text/plain": [
       "Batches:   0%|          | 0/1 [00:00<?, ?it/s]"
      ]
     },
     "metadata": {},
     "output_type": "display_data"
    },
    {
     "data": {
      "application/vnd.jupyter.widget-view+json": {
       "model_id": "c063eb77a62e4e0cb82c5da4c90e837f",
       "version_major": 2,
       "version_minor": 0
      },
      "text/plain": [
       "Batches:   0%|          | 0/1 [00:00<?, ?it/s]"
      ]
     },
     "metadata": {},
     "output_type": "display_data"
    },
    {
     "data": {
      "application/vnd.jupyter.widget-view+json": {
       "model_id": "9af0794e77714aa792db5413afa397a2",
       "version_major": 2,
       "version_minor": 0
      },
      "text/plain": [
       "Batches:   0%|          | 0/1 [00:00<?, ?it/s]"
      ]
     },
     "metadata": {},
     "output_type": "display_data"
    },
    {
     "data": {
      "application/vnd.jupyter.widget-view+json": {
       "model_id": "88d6a5e081934b9597f731fc3c8e9269",
       "version_major": 2,
       "version_minor": 0
      },
      "text/plain": [
       "Batches:   0%|          | 0/1 [00:00<?, ?it/s]"
      ]
     },
     "metadata": {},
     "output_type": "display_data"
    },
    {
     "data": {
      "application/vnd.jupyter.widget-view+json": {
       "model_id": "b1454d4c258544bcad58ab5d329bf6d1",
       "version_major": 2,
       "version_minor": 0
      },
      "text/plain": [
       "Batches:   0%|          | 0/1 [00:00<?, ?it/s]"
      ]
     },
     "metadata": {},
     "output_type": "display_data"
    },
    {
     "data": {
      "application/vnd.jupyter.widget-view+json": {
       "model_id": "c272389925e745e098d0771756762302",
       "version_major": 2,
       "version_minor": 0
      },
      "text/plain": [
       "Batches:   0%|          | 0/1 [00:00<?, ?it/s]"
      ]
     },
     "metadata": {},
     "output_type": "display_data"
    },
    {
     "data": {
      "application/vnd.jupyter.widget-view+json": {
       "model_id": "c3de0978d6cc4977b7743b421c133250",
       "version_major": 2,
       "version_minor": 0
      },
      "text/plain": [
       "Batches:   0%|          | 0/1 [00:00<?, ?it/s]"
      ]
     },
     "metadata": {},
     "output_type": "display_data"
    },
    {
     "data": {
      "application/vnd.jupyter.widget-view+json": {
       "model_id": "ff6827c5e3ad4e1e87f6c869fda430c7",
       "version_major": 2,
       "version_minor": 0
      },
      "text/plain": [
       "Batches:   0%|          | 0/1 [00:00<?, ?it/s]"
      ]
     },
     "metadata": {},
     "output_type": "display_data"
    },
    {
     "data": {
      "application/vnd.jupyter.widget-view+json": {
       "model_id": "66a02c6477134147ae29c3637869c355",
       "version_major": 2,
       "version_minor": 0
      },
      "text/plain": [
       "Batches:   0%|          | 0/1 [00:00<?, ?it/s]"
      ]
     },
     "metadata": {},
     "output_type": "display_data"
    },
    {
     "data": {
      "application/vnd.jupyter.widget-view+json": {
       "model_id": "94dfca9c5d344f05916534d5a7db88a5",
       "version_major": 2,
       "version_minor": 0
      },
      "text/plain": [
       "Batches:   0%|          | 0/1 [00:00<?, ?it/s]"
      ]
     },
     "metadata": {},
     "output_type": "display_data"
    },
    {
     "data": {
      "application/vnd.jupyter.widget-view+json": {
       "model_id": "49e212a173df4f868038b72bfb0e5cfe",
       "version_major": 2,
       "version_minor": 0
      },
      "text/plain": [
       "Batches:   0%|          | 0/1 [00:00<?, ?it/s]"
      ]
     },
     "metadata": {},
     "output_type": "display_data"
    },
    {
     "data": {
      "application/vnd.jupyter.widget-view+json": {
       "model_id": "ac9cd74f9c8547128e4ca6c16f6813a7",
       "version_major": 2,
       "version_minor": 0
      },
      "text/plain": [
       "Batches:   0%|          | 0/1 [00:00<?, ?it/s]"
      ]
     },
     "metadata": {},
     "output_type": "display_data"
    },
    {
     "data": {
      "application/vnd.jupyter.widget-view+json": {
       "model_id": "d7310dd2b9dd420da241b15717003f71",
       "version_major": 2,
       "version_minor": 0
      },
      "text/plain": [
       "Batches:   0%|          | 0/1 [00:00<?, ?it/s]"
      ]
     },
     "metadata": {},
     "output_type": "display_data"
    },
    {
     "data": {
      "application/vnd.jupyter.widget-view+json": {
       "model_id": "41bf8fb0d85d4040bc39252a9d626404",
       "version_major": 2,
       "version_minor": 0
      },
      "text/plain": [
       "Batches:   0%|          | 0/1 [00:00<?, ?it/s]"
      ]
     },
     "metadata": {},
     "output_type": "display_data"
    },
    {
     "data": {
      "application/vnd.jupyter.widget-view+json": {
       "model_id": "bd6ec1cdd2dd470982fb88c4187e5d34",
       "version_major": 2,
       "version_minor": 0
      },
      "text/plain": [
       "Batches:   0%|          | 0/1 [00:00<?, ?it/s]"
      ]
     },
     "metadata": {},
     "output_type": "display_data"
    },
    {
     "data": {
      "application/vnd.jupyter.widget-view+json": {
       "model_id": "a3b5ca68ef464ec485d0b7019033cfe7",
       "version_major": 2,
       "version_minor": 0
      },
      "text/plain": [
       "Batches:   0%|          | 0/1 [00:00<?, ?it/s]"
      ]
     },
     "metadata": {},
     "output_type": "display_data"
    },
    {
     "data": {
      "application/vnd.jupyter.widget-view+json": {
       "model_id": "c6e19d062e9f48d6b3eb9c5ee7078b16",
       "version_major": 2,
       "version_minor": 0
      },
      "text/plain": [
       "Batches:   0%|          | 0/1 [00:00<?, ?it/s]"
      ]
     },
     "metadata": {},
     "output_type": "display_data"
    },
    {
     "data": {
      "application/vnd.jupyter.widget-view+json": {
       "model_id": "b259a95200b24dcb90bb43656b85a3e4",
       "version_major": 2,
       "version_minor": 0
      },
      "text/plain": [
       "Batches:   0%|          | 0/1 [00:00<?, ?it/s]"
      ]
     },
     "metadata": {},
     "output_type": "display_data"
    },
    {
     "data": {
      "application/vnd.jupyter.widget-view+json": {
       "model_id": "29d9571167c64022a13f9cda8b659091",
       "version_major": 2,
       "version_minor": 0
      },
      "text/plain": [
       "Batches:   0%|          | 0/1 [00:00<?, ?it/s]"
      ]
     },
     "metadata": {},
     "output_type": "display_data"
    },
    {
     "data": {
      "application/vnd.jupyter.widget-view+json": {
       "model_id": "5aeac468681a40d4af2d4756b7137817",
       "version_major": 2,
       "version_minor": 0
      },
      "text/plain": [
       "Batches:   0%|          | 0/1 [00:00<?, ?it/s]"
      ]
     },
     "metadata": {},
     "output_type": "display_data"
    },
    {
     "data": {
      "application/vnd.jupyter.widget-view+json": {
       "model_id": "5b3f694cf7e248bb8905990963d7b68d",
       "version_major": 2,
       "version_minor": 0
      },
      "text/plain": [
       "Batches:   0%|          | 0/1 [00:00<?, ?it/s]"
      ]
     },
     "metadata": {},
     "output_type": "display_data"
    },
    {
     "data": {
      "application/vnd.jupyter.widget-view+json": {
       "model_id": "01a69d7d538c4c6a9ab44e06d96092df",
       "version_major": 2,
       "version_minor": 0
      },
      "text/plain": [
       "Batches:   0%|          | 0/1 [00:00<?, ?it/s]"
      ]
     },
     "metadata": {},
     "output_type": "display_data"
    },
    {
     "data": {
      "application/vnd.jupyter.widget-view+json": {
       "model_id": "776f2c7ee9da484cbeaeb342e2f2dedf",
       "version_major": 2,
       "version_minor": 0
      },
      "text/plain": [
       "Batches:   0%|          | 0/1 [00:00<?, ?it/s]"
      ]
     },
     "metadata": {},
     "output_type": "display_data"
    },
    {
     "data": {
      "application/vnd.jupyter.widget-view+json": {
       "model_id": "9d20ec7389094ffeaf7491d35646d866",
       "version_major": 2,
       "version_minor": 0
      },
      "text/plain": [
       "Batches:   0%|          | 0/1 [00:00<?, ?it/s]"
      ]
     },
     "metadata": {},
     "output_type": "display_data"
    },
    {
     "data": {
      "application/vnd.jupyter.widget-view+json": {
       "model_id": "5b4c9d4d4ac14f1eb53d7af422f2980b",
       "version_major": 2,
       "version_minor": 0
      },
      "text/plain": [
       "Batches:   0%|          | 0/1 [00:00<?, ?it/s]"
      ]
     },
     "metadata": {},
     "output_type": "display_data"
    },
    {
     "data": {
      "application/vnd.jupyter.widget-view+json": {
       "model_id": "ef77fbe841ea48759ce72eb010d5bda9",
       "version_major": 2,
       "version_minor": 0
      },
      "text/plain": [
       "Batches:   0%|          | 0/1 [00:00<?, ?it/s]"
      ]
     },
     "metadata": {},
     "output_type": "display_data"
    },
    {
     "data": {
      "application/vnd.jupyter.widget-view+json": {
       "model_id": "747565cbff9e4490b468ce0e5042f369",
       "version_major": 2,
       "version_minor": 0
      },
      "text/plain": [
       "Batches:   0%|          | 0/1 [00:00<?, ?it/s]"
      ]
     },
     "metadata": {},
     "output_type": "display_data"
    },
    {
     "data": {
      "application/vnd.jupyter.widget-view+json": {
       "model_id": "b9e40cca0d7047bb996d206a3044b5f5",
       "version_major": 2,
       "version_minor": 0
      },
      "text/plain": [
       "Batches:   0%|          | 0/1 [00:00<?, ?it/s]"
      ]
     },
     "metadata": {},
     "output_type": "display_data"
    },
    {
     "data": {
      "application/vnd.jupyter.widget-view+json": {
       "model_id": "6e333318d5304d998db00646ba355d08",
       "version_major": 2,
       "version_minor": 0
      },
      "text/plain": [
       "Batches:   0%|          | 0/1 [00:00<?, ?it/s]"
      ]
     },
     "metadata": {},
     "output_type": "display_data"
    },
    {
     "data": {
      "application/vnd.jupyter.widget-view+json": {
       "model_id": "9b9331e62124404cb674e79a7921558b",
       "version_major": 2,
       "version_minor": 0
      },
      "text/plain": [
       "Batches:   0%|          | 0/1 [00:00<?, ?it/s]"
      ]
     },
     "metadata": {},
     "output_type": "display_data"
    },
    {
     "data": {
      "application/vnd.jupyter.widget-view+json": {
       "model_id": "16270208d52a42b380d9cdeccea8e213",
       "version_major": 2,
       "version_minor": 0
      },
      "text/plain": [
       "Batches:   0%|          | 0/1 [00:00<?, ?it/s]"
      ]
     },
     "metadata": {},
     "output_type": "display_data"
    },
    {
     "data": {
      "application/vnd.jupyter.widget-view+json": {
       "model_id": "5eb1c21724ba477288d48c45a39a2ebe",
       "version_major": 2,
       "version_minor": 0
      },
      "text/plain": [
       "Batches:   0%|          | 0/1 [00:00<?, ?it/s]"
      ]
     },
     "metadata": {},
     "output_type": "display_data"
    },
    {
     "data": {
      "application/vnd.jupyter.widget-view+json": {
       "model_id": "bf66a5d9f3c944ca8e87de14d14b0558",
       "version_major": 2,
       "version_minor": 0
      },
      "text/plain": [
       "Batches:   0%|          | 0/1 [00:00<?, ?it/s]"
      ]
     },
     "metadata": {},
     "output_type": "display_data"
    },
    {
     "data": {
      "application/vnd.jupyter.widget-view+json": {
       "model_id": "774f585ddd084b7db7d30390624631cd",
       "version_major": 2,
       "version_minor": 0
      },
      "text/plain": [
       "Batches:   0%|          | 0/1 [00:00<?, ?it/s]"
      ]
     },
     "metadata": {},
     "output_type": "display_data"
    },
    {
     "data": {
      "application/vnd.jupyter.widget-view+json": {
       "model_id": "22e2764d348a4c30a9bdaf2bd67d9952",
       "version_major": 2,
       "version_minor": 0
      },
      "text/plain": [
       "Batches:   0%|          | 0/1 [00:00<?, ?it/s]"
      ]
     },
     "metadata": {},
     "output_type": "display_data"
    },
    {
     "data": {
      "application/vnd.jupyter.widget-view+json": {
       "model_id": "60b8f9d5a0434eb3804948e5e97be840",
       "version_major": 2,
       "version_minor": 0
      },
      "text/plain": [
       "Batches:   0%|          | 0/1 [00:00<?, ?it/s]"
      ]
     },
     "metadata": {},
     "output_type": "display_data"
    },
    {
     "data": {
      "application/vnd.jupyter.widget-view+json": {
       "model_id": "989e2673b37b4a9c83139faf5c30fadb",
       "version_major": 2,
       "version_minor": 0
      },
      "text/plain": [
       "Batches:   0%|          | 0/1 [00:00<?, ?it/s]"
      ]
     },
     "metadata": {},
     "output_type": "display_data"
    },
    {
     "data": {
      "application/vnd.jupyter.widget-view+json": {
       "model_id": "6f11457d18f042eea704f0204e7cfcbc",
       "version_major": 2,
       "version_minor": 0
      },
      "text/plain": [
       "Batches:   0%|          | 0/1 [00:00<?, ?it/s]"
      ]
     },
     "metadata": {},
     "output_type": "display_data"
    },
    {
     "data": {
      "application/vnd.jupyter.widget-view+json": {
       "model_id": "a984b2a6f217461ea2b9da93649e5f8f",
       "version_major": 2,
       "version_minor": 0
      },
      "text/plain": [
       "Batches:   0%|          | 0/1 [00:00<?, ?it/s]"
      ]
     },
     "metadata": {},
     "output_type": "display_data"
    },
    {
     "data": {
      "application/vnd.jupyter.widget-view+json": {
       "model_id": "9032413ac74a4fbe84d8af1ca4744c97",
       "version_major": 2,
       "version_minor": 0
      },
      "text/plain": [
       "Batches:   0%|          | 0/1 [00:00<?, ?it/s]"
      ]
     },
     "metadata": {},
     "output_type": "display_data"
    },
    {
     "data": {
      "application/vnd.jupyter.widget-view+json": {
       "model_id": "f54bac7f523d4aa9b98f97294bf2caf7",
       "version_major": 2,
       "version_minor": 0
      },
      "text/plain": [
       "Batches:   0%|          | 0/1 [00:00<?, ?it/s]"
      ]
     },
     "metadata": {},
     "output_type": "display_data"
    },
    {
     "data": {
      "application/vnd.jupyter.widget-view+json": {
       "model_id": "bfd698d8f0c34f4cb46bd076609cbc9a",
       "version_major": 2,
       "version_minor": 0
      },
      "text/plain": [
       "Batches:   0%|          | 0/1 [00:00<?, ?it/s]"
      ]
     },
     "metadata": {},
     "output_type": "display_data"
    },
    {
     "data": {
      "application/vnd.jupyter.widget-view+json": {
       "model_id": "53ebef11ffcf4f688a44e95865586a3f",
       "version_major": 2,
       "version_minor": 0
      },
      "text/plain": [
       "Batches:   0%|          | 0/1 [00:00<?, ?it/s]"
      ]
     },
     "metadata": {},
     "output_type": "display_data"
    },
    {
     "data": {
      "application/vnd.jupyter.widget-view+json": {
       "model_id": "8432612f716345aea01721cf0cd327f6",
       "version_major": 2,
       "version_minor": 0
      },
      "text/plain": [
       "Batches:   0%|          | 0/1 [00:00<?, ?it/s]"
      ]
     },
     "metadata": {},
     "output_type": "display_data"
    },
    {
     "data": {
      "application/vnd.jupyter.widget-view+json": {
       "model_id": "e1c0daf1c30940cab8ab2b80683c2cfd",
       "version_major": 2,
       "version_minor": 0
      },
      "text/plain": [
       "Batches:   0%|          | 0/1 [00:00<?, ?it/s]"
      ]
     },
     "metadata": {},
     "output_type": "display_data"
    },
    {
     "data": {
      "application/vnd.jupyter.widget-view+json": {
       "model_id": "3863c908b7184abeb9f4842458f92fd0",
       "version_major": 2,
       "version_minor": 0
      },
      "text/plain": [
       "Batches:   0%|          | 0/1 [00:00<?, ?it/s]"
      ]
     },
     "metadata": {},
     "output_type": "display_data"
    },
    {
     "data": {
      "application/vnd.jupyter.widget-view+json": {
       "model_id": "fd3cd9c02802428cb9e90441eec2c7cb",
       "version_major": 2,
       "version_minor": 0
      },
      "text/plain": [
       "Batches:   0%|          | 0/1 [00:00<?, ?it/s]"
      ]
     },
     "metadata": {},
     "output_type": "display_data"
    },
    {
     "data": {
      "application/vnd.jupyter.widget-view+json": {
       "model_id": "ee189f7378d74aef92d9f48ab450d6be",
       "version_major": 2,
       "version_minor": 0
      },
      "text/plain": [
       "Batches:   0%|          | 0/1 [00:00<?, ?it/s]"
      ]
     },
     "metadata": {},
     "output_type": "display_data"
    },
    {
     "data": {
      "application/vnd.jupyter.widget-view+json": {
       "model_id": "4ae3bfb656c24bcf81406992632beb36",
       "version_major": 2,
       "version_minor": 0
      },
      "text/plain": [
       "Batches:   0%|          | 0/1 [00:00<?, ?it/s]"
      ]
     },
     "metadata": {},
     "output_type": "display_data"
    },
    {
     "data": {
      "application/vnd.jupyter.widget-view+json": {
       "model_id": "869d8835769b422d8e6b8aab338181ff",
       "version_major": 2,
       "version_minor": 0
      },
      "text/plain": [
       "Batches:   0%|          | 0/1 [00:00<?, ?it/s]"
      ]
     },
     "metadata": {},
     "output_type": "display_data"
    },
    {
     "data": {
      "application/vnd.jupyter.widget-view+json": {
       "model_id": "cc102792e1fe47f2858e48afae380836",
       "version_major": 2,
       "version_minor": 0
      },
      "text/plain": [
       "Batches:   0%|          | 0/1 [00:00<?, ?it/s]"
      ]
     },
     "metadata": {},
     "output_type": "display_data"
    },
    {
     "data": {
      "application/vnd.jupyter.widget-view+json": {
       "model_id": "b9748c79bbfa429dbbddda03cc2891e6",
       "version_major": 2,
       "version_minor": 0
      },
      "text/plain": [
       "Batches:   0%|          | 0/1 [00:00<?, ?it/s]"
      ]
     },
     "metadata": {},
     "output_type": "display_data"
    },
    {
     "data": {
      "application/vnd.jupyter.widget-view+json": {
       "model_id": "dd1947a49eb04909aefaf567fa2f9822",
       "version_major": 2,
       "version_minor": 0
      },
      "text/plain": [
       "Batches:   0%|          | 0/1 [00:00<?, ?it/s]"
      ]
     },
     "metadata": {},
     "output_type": "display_data"
    },
    {
     "data": {
      "application/vnd.jupyter.widget-view+json": {
       "model_id": "839fe7cbb70543f38b980a7d5f6d4f20",
       "version_major": 2,
       "version_minor": 0
      },
      "text/plain": [
       "Batches:   0%|          | 0/1 [00:00<?, ?it/s]"
      ]
     },
     "metadata": {},
     "output_type": "display_data"
    },
    {
     "data": {
      "application/vnd.jupyter.widget-view+json": {
       "model_id": "2c6823d288fd4e36bcaa8407b794b7b8",
       "version_major": 2,
       "version_minor": 0
      },
      "text/plain": [
       "Batches:   0%|          | 0/1 [00:00<?, ?it/s]"
      ]
     },
     "metadata": {},
     "output_type": "display_data"
    },
    {
     "data": {
      "application/vnd.jupyter.widget-view+json": {
       "model_id": "01008c976fbc4ca19261f19200bc2e74",
       "version_major": 2,
       "version_minor": 0
      },
      "text/plain": [
       "Batches:   0%|          | 0/1 [00:00<?, ?it/s]"
      ]
     },
     "metadata": {},
     "output_type": "display_data"
    },
    {
     "data": {
      "application/vnd.jupyter.widget-view+json": {
       "model_id": "d957ba2ce3a84e70a34756127b593100",
       "version_major": 2,
       "version_minor": 0
      },
      "text/plain": [
       "Batches:   0%|          | 0/1 [00:00<?, ?it/s]"
      ]
     },
     "metadata": {},
     "output_type": "display_data"
    },
    {
     "data": {
      "application/vnd.jupyter.widget-view+json": {
       "model_id": "ebd6a4c1578148edba7b12fd366050ed",
       "version_major": 2,
       "version_minor": 0
      },
      "text/plain": [
       "Batches:   0%|          | 0/1 [00:00<?, ?it/s]"
      ]
     },
     "metadata": {},
     "output_type": "display_data"
    },
    {
     "data": {
      "application/vnd.jupyter.widget-view+json": {
       "model_id": "31db34da448942a89846016144b9d55b",
       "version_major": 2,
       "version_minor": 0
      },
      "text/plain": [
       "Batches:   0%|          | 0/1 [00:00<?, ?it/s]"
      ]
     },
     "metadata": {},
     "output_type": "display_data"
    },
    {
     "data": {
      "application/vnd.jupyter.widget-view+json": {
       "model_id": "0b843838711f427194019e6db0295415",
       "version_major": 2,
       "version_minor": 0
      },
      "text/plain": [
       "Batches:   0%|          | 0/1 [00:00<?, ?it/s]"
      ]
     },
     "metadata": {},
     "output_type": "display_data"
    },
    {
     "data": {
      "application/vnd.jupyter.widget-view+json": {
       "model_id": "5e883574df51448fb859a8b1143371a2",
       "version_major": 2,
       "version_minor": 0
      },
      "text/plain": [
       "Batches:   0%|          | 0/1 [00:00<?, ?it/s]"
      ]
     },
     "metadata": {},
     "output_type": "display_data"
    },
    {
     "data": {
      "application/vnd.jupyter.widget-view+json": {
       "model_id": "ada1ba006cb94f11a73c819a1e121b4a",
       "version_major": 2,
       "version_minor": 0
      },
      "text/plain": [
       "Batches:   0%|          | 0/1 [00:00<?, ?it/s]"
      ]
     },
     "metadata": {},
     "output_type": "display_data"
    },
    {
     "data": {
      "application/vnd.jupyter.widget-view+json": {
       "model_id": "061ce5fc73f64ef9bc318b43ace4b644",
       "version_major": 2,
       "version_minor": 0
      },
      "text/plain": [
       "Batches:   0%|          | 0/1 [00:00<?, ?it/s]"
      ]
     },
     "metadata": {},
     "output_type": "display_data"
    },
    {
     "data": {
      "application/vnd.jupyter.widget-view+json": {
       "model_id": "86f8ea21de0a4eb18258297e4ed77e0c",
       "version_major": 2,
       "version_minor": 0
      },
      "text/plain": [
       "Batches:   0%|          | 0/1 [00:00<?, ?it/s]"
      ]
     },
     "metadata": {},
     "output_type": "display_data"
    },
    {
     "data": {
      "application/vnd.jupyter.widget-view+json": {
       "model_id": "8b179cdb92954758850fd122d3ac4d0e",
       "version_major": 2,
       "version_minor": 0
      },
      "text/plain": [
       "Batches:   0%|          | 0/1 [00:00<?, ?it/s]"
      ]
     },
     "metadata": {},
     "output_type": "display_data"
    },
    {
     "data": {
      "application/vnd.jupyter.widget-view+json": {
       "model_id": "4031bb4b585648e5ab0258434b0e6151",
       "version_major": 2,
       "version_minor": 0
      },
      "text/plain": [
       "Batches:   0%|          | 0/1 [00:00<?, ?it/s]"
      ]
     },
     "metadata": {},
     "output_type": "display_data"
    },
    {
     "data": {
      "application/vnd.jupyter.widget-view+json": {
       "model_id": "c28f61d774c54aceb5588401f3149f39",
       "version_major": 2,
       "version_minor": 0
      },
      "text/plain": [
       "Batches:   0%|          | 0/1 [00:00<?, ?it/s]"
      ]
     },
     "metadata": {},
     "output_type": "display_data"
    },
    {
     "data": {
      "application/vnd.jupyter.widget-view+json": {
       "model_id": "f163e0fc8fcd4594a035249d6bd7ffad",
       "version_major": 2,
       "version_minor": 0
      },
      "text/plain": [
       "Batches:   0%|          | 0/1 [00:00<?, ?it/s]"
      ]
     },
     "metadata": {},
     "output_type": "display_data"
    },
    {
     "data": {
      "application/vnd.jupyter.widget-view+json": {
       "model_id": "881008c4e3904a3bb8ee73cab799968b",
       "version_major": 2,
       "version_minor": 0
      },
      "text/plain": [
       "Batches:   0%|          | 0/1 [00:00<?, ?it/s]"
      ]
     },
     "metadata": {},
     "output_type": "display_data"
    },
    {
     "data": {
      "application/vnd.jupyter.widget-view+json": {
       "model_id": "f70b63b98f5e43268f8d7a53a7802ba6",
       "version_major": 2,
       "version_minor": 0
      },
      "text/plain": [
       "Batches:   0%|          | 0/1 [00:00<?, ?it/s]"
      ]
     },
     "metadata": {},
     "output_type": "display_data"
    },
    {
     "data": {
      "application/vnd.jupyter.widget-view+json": {
       "model_id": "cb318062c2bc4416b1d828f80e8d546d",
       "version_major": 2,
       "version_minor": 0
      },
      "text/plain": [
       "Batches:   0%|          | 0/1 [00:00<?, ?it/s]"
      ]
     },
     "metadata": {},
     "output_type": "display_data"
    },
    {
     "data": {
      "application/vnd.jupyter.widget-view+json": {
       "model_id": "9bb8f17a9ef44fac954de1220a7534be",
       "version_major": 2,
       "version_minor": 0
      },
      "text/plain": [
       "Batches:   0%|          | 0/1 [00:00<?, ?it/s]"
      ]
     },
     "metadata": {},
     "output_type": "display_data"
    },
    {
     "data": {
      "application/vnd.jupyter.widget-view+json": {
       "model_id": "067cb6c471704cc590706213ae6c323c",
       "version_major": 2,
       "version_minor": 0
      },
      "text/plain": [
       "Batches:   0%|          | 0/1 [00:00<?, ?it/s]"
      ]
     },
     "metadata": {},
     "output_type": "display_data"
    },
    {
     "data": {
      "application/vnd.jupyter.widget-view+json": {
       "model_id": "55d1c131de63452a9186cdf33945af6f",
       "version_major": 2,
       "version_minor": 0
      },
      "text/plain": [
       "Batches:   0%|          | 0/1 [00:00<?, ?it/s]"
      ]
     },
     "metadata": {},
     "output_type": "display_data"
    },
    {
     "data": {
      "application/vnd.jupyter.widget-view+json": {
       "model_id": "2dcf2b59ed2e4df5904d07abbbf4a11a",
       "version_major": 2,
       "version_minor": 0
      },
      "text/plain": [
       "Batches:   0%|          | 0/1 [00:00<?, ?it/s]"
      ]
     },
     "metadata": {},
     "output_type": "display_data"
    },
    {
     "data": {
      "application/vnd.jupyter.widget-view+json": {
       "model_id": "b5b121785a7a4fd2814cf982a6b464db",
       "version_major": 2,
       "version_minor": 0
      },
      "text/plain": [
       "Batches:   0%|          | 0/1 [00:00<?, ?it/s]"
      ]
     },
     "metadata": {},
     "output_type": "display_data"
    },
    {
     "data": {
      "application/vnd.jupyter.widget-view+json": {
       "model_id": "dc067d17b91449d0b54b08dfce8fb99f",
       "version_major": 2,
       "version_minor": 0
      },
      "text/plain": [
       "Batches:   0%|          | 0/1 [00:00<?, ?it/s]"
      ]
     },
     "metadata": {},
     "output_type": "display_data"
    },
    {
     "data": {
      "application/vnd.jupyter.widget-view+json": {
       "model_id": "9f9286e0fb244b95a864d721cf8152fb",
       "version_major": 2,
       "version_minor": 0
      },
      "text/plain": [
       "Batches:   0%|          | 0/1 [00:00<?, ?it/s]"
      ]
     },
     "metadata": {},
     "output_type": "display_data"
    },
    {
     "data": {
      "application/vnd.jupyter.widget-view+json": {
       "model_id": "6ed80e249dfa493bba7b56a0f186e34c",
       "version_major": 2,
       "version_minor": 0
      },
      "text/plain": [
       "Batches:   0%|          | 0/1 [00:00<?, ?it/s]"
      ]
     },
     "metadata": {},
     "output_type": "display_data"
    },
    {
     "data": {
      "application/vnd.jupyter.widget-view+json": {
       "model_id": "f0d82215989f4699877276b35f191b80",
       "version_major": 2,
       "version_minor": 0
      },
      "text/plain": [
       "Batches:   0%|          | 0/1 [00:00<?, ?it/s]"
      ]
     },
     "metadata": {},
     "output_type": "display_data"
    },
    {
     "data": {
      "application/vnd.jupyter.widget-view+json": {
       "model_id": "0aa6cfcc5fa14b88b4dc01b3b1ed1a63",
       "version_major": 2,
       "version_minor": 0
      },
      "text/plain": [
       "Batches:   0%|          | 0/1 [00:00<?, ?it/s]"
      ]
     },
     "metadata": {},
     "output_type": "display_data"
    },
    {
     "data": {
      "application/vnd.jupyter.widget-view+json": {
       "model_id": "0481d5d7f1cc4ab7851c978e07e4258f",
       "version_major": 2,
       "version_minor": 0
      },
      "text/plain": [
       "Batches:   0%|          | 0/1 [00:00<?, ?it/s]"
      ]
     },
     "metadata": {},
     "output_type": "display_data"
    },
    {
     "data": {
      "application/vnd.jupyter.widget-view+json": {
       "model_id": "c8a64d3a935f4576aab34c66d48ab341",
       "version_major": 2,
       "version_minor": 0
      },
      "text/plain": [
       "Batches:   0%|          | 0/1 [00:00<?, ?it/s]"
      ]
     },
     "metadata": {},
     "output_type": "display_data"
    },
    {
     "data": {
      "application/vnd.jupyter.widget-view+json": {
       "model_id": "08d1c3bc95154ea3b6fcb76d01e2c1d3",
       "version_major": 2,
       "version_minor": 0
      },
      "text/plain": [
       "Batches:   0%|          | 0/1 [00:00<?, ?it/s]"
      ]
     },
     "metadata": {},
     "output_type": "display_data"
    },
    {
     "data": {
      "application/vnd.jupyter.widget-view+json": {
       "model_id": "9967be8e06eb4fbdb188753336e7c1fd",
       "version_major": 2,
       "version_minor": 0
      },
      "text/plain": [
       "Batches:   0%|          | 0/1 [00:00<?, ?it/s]"
      ]
     },
     "metadata": {},
     "output_type": "display_data"
    },
    {
     "data": {
      "application/vnd.jupyter.widget-view+json": {
       "model_id": "809421c2edb84aee8fdd7da13866b7cd",
       "version_major": 2,
       "version_minor": 0
      },
      "text/plain": [
       "Batches:   0%|          | 0/1 [00:00<?, ?it/s]"
      ]
     },
     "metadata": {},
     "output_type": "display_data"
    },
    {
     "data": {
      "application/vnd.jupyter.widget-view+json": {
       "model_id": "d5e66586e41d4b2ebb7f78c21d8ff30a",
       "version_major": 2,
       "version_minor": 0
      },
      "text/plain": [
       "Batches:   0%|          | 0/1 [00:00<?, ?it/s]"
      ]
     },
     "metadata": {},
     "output_type": "display_data"
    },
    {
     "data": {
      "application/vnd.jupyter.widget-view+json": {
       "model_id": "2a1a47f625ed4c22bb5b42cda3206908",
       "version_major": 2,
       "version_minor": 0
      },
      "text/plain": [
       "Batches:   0%|          | 0/1 [00:00<?, ?it/s]"
      ]
     },
     "metadata": {},
     "output_type": "display_data"
    },
    {
     "data": {
      "application/vnd.jupyter.widget-view+json": {
       "model_id": "e66d812e3c1745e08668cc760cbf4e2b",
       "version_major": 2,
       "version_minor": 0
      },
      "text/plain": [
       "Batches:   0%|          | 0/1 [00:00<?, ?it/s]"
      ]
     },
     "metadata": {},
     "output_type": "display_data"
    },
    {
     "data": {
      "application/vnd.jupyter.widget-view+json": {
       "model_id": "2d5a6e8e430543f498d764f766110528",
       "version_major": 2,
       "version_minor": 0
      },
      "text/plain": [
       "Batches:   0%|          | 0/1 [00:00<?, ?it/s]"
      ]
     },
     "metadata": {},
     "output_type": "display_data"
    },
    {
     "data": {
      "application/vnd.jupyter.widget-view+json": {
       "model_id": "520956455ba84c6980071eae70497e39",
       "version_major": 2,
       "version_minor": 0
      },
      "text/plain": [
       "Batches:   0%|          | 0/1 [00:00<?, ?it/s]"
      ]
     },
     "metadata": {},
     "output_type": "display_data"
    },
    {
     "data": {
      "application/vnd.jupyter.widget-view+json": {
       "model_id": "bc0b9fab97c247ea843ac102e86c30a4",
       "version_major": 2,
       "version_minor": 0
      },
      "text/plain": [
       "Batches:   0%|          | 0/1 [00:00<?, ?it/s]"
      ]
     },
     "metadata": {},
     "output_type": "display_data"
    },
    {
     "data": {
      "application/vnd.jupyter.widget-view+json": {
       "model_id": "112677cc78ff49e29e35f27cfe665fb7",
       "version_major": 2,
       "version_minor": 0
      },
      "text/plain": [
       "Batches:   0%|          | 0/1 [00:00<?, ?it/s]"
      ]
     },
     "metadata": {},
     "output_type": "display_data"
    },
    {
     "data": {
      "application/vnd.jupyter.widget-view+json": {
       "model_id": "e4e163b5d90e4f9d99052b6b0673eb64",
       "version_major": 2,
       "version_minor": 0
      },
      "text/plain": [
       "Batches:   0%|          | 0/1 [00:00<?, ?it/s]"
      ]
     },
     "metadata": {},
     "output_type": "display_data"
    },
    {
     "data": {
      "application/vnd.jupyter.widget-view+json": {
       "model_id": "17b56d286c9b454aaec56f722a4de530",
       "version_major": 2,
       "version_minor": 0
      },
      "text/plain": [
       "Batches:   0%|          | 0/1 [00:00<?, ?it/s]"
      ]
     },
     "metadata": {},
     "output_type": "display_data"
    },
    {
     "data": {
      "application/vnd.jupyter.widget-view+json": {
       "model_id": "b26496fc69864d7f94ab39b2af183344",
       "version_major": 2,
       "version_minor": 0
      },
      "text/plain": [
       "Batches:   0%|          | 0/1 [00:00<?, ?it/s]"
      ]
     },
     "metadata": {},
     "output_type": "display_data"
    },
    {
     "data": {
      "application/vnd.jupyter.widget-view+json": {
       "model_id": "7940944222484ddfbc849e8357ee5b21",
       "version_major": 2,
       "version_minor": 0
      },
      "text/plain": [
       "Batches:   0%|          | 0/1 [00:00<?, ?it/s]"
      ]
     },
     "metadata": {},
     "output_type": "display_data"
    },
    {
     "data": {
      "application/vnd.jupyter.widget-view+json": {
       "model_id": "e0c558f6e56a451cac3aefcd8c1329f8",
       "version_major": 2,
       "version_minor": 0
      },
      "text/plain": [
       "Batches:   0%|          | 0/1 [00:00<?, ?it/s]"
      ]
     },
     "metadata": {},
     "output_type": "display_data"
    },
    {
     "data": {
      "application/vnd.jupyter.widget-view+json": {
       "model_id": "26cfe2cdaa694220b76fa756551b3419",
       "version_major": 2,
       "version_minor": 0
      },
      "text/plain": [
       "Batches:   0%|          | 0/1 [00:00<?, ?it/s]"
      ]
     },
     "metadata": {},
     "output_type": "display_data"
    },
    {
     "data": {
      "application/vnd.jupyter.widget-view+json": {
       "model_id": "d00464f91b914795a84ff927f8eaaae1",
       "version_major": 2,
       "version_minor": 0
      },
      "text/plain": [
       "Batches:   0%|          | 0/1 [00:00<?, ?it/s]"
      ]
     },
     "metadata": {},
     "output_type": "display_data"
    },
    {
     "data": {
      "application/vnd.jupyter.widget-view+json": {
       "model_id": "cb12ebf6262d43d9af88ce3891d86f77",
       "version_major": 2,
       "version_minor": 0
      },
      "text/plain": [
       "Batches:   0%|          | 0/1 [00:00<?, ?it/s]"
      ]
     },
     "metadata": {},
     "output_type": "display_data"
    },
    {
     "data": {
      "application/vnd.jupyter.widget-view+json": {
       "model_id": "24b88c6ded0646b3823f7d4cb6fdf34d",
       "version_major": 2,
       "version_minor": 0
      },
      "text/plain": [
       "Batches:   0%|          | 0/1 [00:00<?, ?it/s]"
      ]
     },
     "metadata": {},
     "output_type": "display_data"
    },
    {
     "data": {
      "application/vnd.jupyter.widget-view+json": {
       "model_id": "cc4afc6807f6438e8595e51496acbc39",
       "version_major": 2,
       "version_minor": 0
      },
      "text/plain": [
       "Batches:   0%|          | 0/1 [00:00<?, ?it/s]"
      ]
     },
     "metadata": {},
     "output_type": "display_data"
    },
    {
     "data": {
      "application/vnd.jupyter.widget-view+json": {
       "model_id": "b4fd9c275a6145608aa6714a79024c51",
       "version_major": 2,
       "version_minor": 0
      },
      "text/plain": [
       "Batches:   0%|          | 0/1 [00:00<?, ?it/s]"
      ]
     },
     "metadata": {},
     "output_type": "display_data"
    },
    {
     "data": {
      "application/vnd.jupyter.widget-view+json": {
       "model_id": "4e642d4f55b74eba8b4c882a28c4fd65",
       "version_major": 2,
       "version_minor": 0
      },
      "text/plain": [
       "Batches:   0%|          | 0/1 [00:00<?, ?it/s]"
      ]
     },
     "metadata": {},
     "output_type": "display_data"
    },
    {
     "data": {
      "application/vnd.jupyter.widget-view+json": {
       "model_id": "990645a4676e41e790083411c83b406a",
       "version_major": 2,
       "version_minor": 0
      },
      "text/plain": [
       "Batches:   0%|          | 0/1 [00:00<?, ?it/s]"
      ]
     },
     "metadata": {},
     "output_type": "display_data"
    },
    {
     "data": {
      "application/vnd.jupyter.widget-view+json": {
       "model_id": "5c6f553fd3fc4164897ae95de23c51f1",
       "version_major": 2,
       "version_minor": 0
      },
      "text/plain": [
       "Batches:   0%|          | 0/1 [00:00<?, ?it/s]"
      ]
     },
     "metadata": {},
     "output_type": "display_data"
    },
    {
     "data": {
      "application/vnd.jupyter.widget-view+json": {
       "model_id": "50d084d994e240c3aedb3f8c3d640e40",
       "version_major": 2,
       "version_minor": 0
      },
      "text/plain": [
       "Batches:   0%|          | 0/1 [00:00<?, ?it/s]"
      ]
     },
     "metadata": {},
     "output_type": "display_data"
    },
    {
     "data": {
      "application/vnd.jupyter.widget-view+json": {
       "model_id": "4ddd678b3e30466eabf5ea569151cd1e",
       "version_major": 2,
       "version_minor": 0
      },
      "text/plain": [
       "Batches:   0%|          | 0/1 [00:00<?, ?it/s]"
      ]
     },
     "metadata": {},
     "output_type": "display_data"
    },
    {
     "data": {
      "application/vnd.jupyter.widget-view+json": {
       "model_id": "b26bafea8ded414991543280070e3dda",
       "version_major": 2,
       "version_minor": 0
      },
      "text/plain": [
       "Batches:   0%|          | 0/1 [00:00<?, ?it/s]"
      ]
     },
     "metadata": {},
     "output_type": "display_data"
    },
    {
     "data": {
      "application/vnd.jupyter.widget-view+json": {
       "model_id": "20c446f95fe946829c85ae286add870f",
       "version_major": 2,
       "version_minor": 0
      },
      "text/plain": [
       "Batches:   0%|          | 0/1 [00:00<?, ?it/s]"
      ]
     },
     "metadata": {},
     "output_type": "display_data"
    },
    {
     "data": {
      "application/vnd.jupyter.widget-view+json": {
       "model_id": "3be9182456724db48ab450f06091c02e",
       "version_major": 2,
       "version_minor": 0
      },
      "text/plain": [
       "Batches:   0%|          | 0/1 [00:00<?, ?it/s]"
      ]
     },
     "metadata": {},
     "output_type": "display_data"
    },
    {
     "data": {
      "application/vnd.jupyter.widget-view+json": {
       "model_id": "990c44f23ba4474bab85fa265e670391",
       "version_major": 2,
       "version_minor": 0
      },
      "text/plain": [
       "Batches:   0%|          | 0/1 [00:00<?, ?it/s]"
      ]
     },
     "metadata": {},
     "output_type": "display_data"
    },
    {
     "data": {
      "application/vnd.jupyter.widget-view+json": {
       "model_id": "123bea19dd7348b59235c1ee93669e65",
       "version_major": 2,
       "version_minor": 0
      },
      "text/plain": [
       "Batches:   0%|          | 0/1 [00:00<?, ?it/s]"
      ]
     },
     "metadata": {},
     "output_type": "display_data"
    },
    {
     "data": {
      "application/vnd.jupyter.widget-view+json": {
       "model_id": "2ad448c0f26544068e9393ad3289db44",
       "version_major": 2,
       "version_minor": 0
      },
      "text/plain": [
       "Batches:   0%|          | 0/1 [00:00<?, ?it/s]"
      ]
     },
     "metadata": {},
     "output_type": "display_data"
    },
    {
     "data": {
      "application/vnd.jupyter.widget-view+json": {
       "model_id": "56ed7d89eadb42df84719f918b0fac7d",
       "version_major": 2,
       "version_minor": 0
      },
      "text/plain": [
       "Batches:   0%|          | 0/1 [00:00<?, ?it/s]"
      ]
     },
     "metadata": {},
     "output_type": "display_data"
    },
    {
     "data": {
      "application/vnd.jupyter.widget-view+json": {
       "model_id": "62d4d76ade8e47889f5e8ea157148908",
       "version_major": 2,
       "version_minor": 0
      },
      "text/plain": [
       "Batches:   0%|          | 0/1 [00:00<?, ?it/s]"
      ]
     },
     "metadata": {},
     "output_type": "display_data"
    },
    {
     "data": {
      "application/vnd.jupyter.widget-view+json": {
       "model_id": "7dc199479bba4bd69e30391c188f94f0",
       "version_major": 2,
       "version_minor": 0
      },
      "text/plain": [
       "Batches:   0%|          | 0/1 [00:00<?, ?it/s]"
      ]
     },
     "metadata": {},
     "output_type": "display_data"
    },
    {
     "data": {
      "application/vnd.jupyter.widget-view+json": {
       "model_id": "1d55a9412d8a454da4d92320dd70193f",
       "version_major": 2,
       "version_minor": 0
      },
      "text/plain": [
       "Batches:   0%|          | 0/1 [00:00<?, ?it/s]"
      ]
     },
     "metadata": {},
     "output_type": "display_data"
    },
    {
     "data": {
      "application/vnd.jupyter.widget-view+json": {
       "model_id": "eb1e34c819464b9c962f05ed2ad26a1b",
       "version_major": 2,
       "version_minor": 0
      },
      "text/plain": [
       "Batches:   0%|          | 0/1 [00:00<?, ?it/s]"
      ]
     },
     "metadata": {},
     "output_type": "display_data"
    },
    {
     "data": {
      "application/vnd.jupyter.widget-view+json": {
       "model_id": "f0badaf2fca643f0a3aa351cefd576ef",
       "version_major": 2,
       "version_minor": 0
      },
      "text/plain": [
       "Batches:   0%|          | 0/1 [00:00<?, ?it/s]"
      ]
     },
     "metadata": {},
     "output_type": "display_data"
    },
    {
     "data": {
      "application/vnd.jupyter.widget-view+json": {
       "model_id": "d6ca74fb4801442683650cf61d017820",
       "version_major": 2,
       "version_minor": 0
      },
      "text/plain": [
       "Batches:   0%|          | 0/1 [00:00<?, ?it/s]"
      ]
     },
     "metadata": {},
     "output_type": "display_data"
    },
    {
     "data": {
      "application/vnd.jupyter.widget-view+json": {
       "model_id": "c31ad02833174a518a6eef18a8a3361c",
       "version_major": 2,
       "version_minor": 0
      },
      "text/plain": [
       "Batches:   0%|          | 0/1 [00:00<?, ?it/s]"
      ]
     },
     "metadata": {},
     "output_type": "display_data"
    },
    {
     "data": {
      "application/vnd.jupyter.widget-view+json": {
       "model_id": "8756d86ceb6e44f98c99c1918ba1379d",
       "version_major": 2,
       "version_minor": 0
      },
      "text/plain": [
       "Batches:   0%|          | 0/1 [00:00<?, ?it/s]"
      ]
     },
     "metadata": {},
     "output_type": "display_data"
    },
    {
     "data": {
      "application/vnd.jupyter.widget-view+json": {
       "model_id": "dcff666b95784b5ab8815b7b5182c5d4",
       "version_major": 2,
       "version_minor": 0
      },
      "text/plain": [
       "Batches:   0%|          | 0/1 [00:00<?, ?it/s]"
      ]
     },
     "metadata": {},
     "output_type": "display_data"
    },
    {
     "data": {
      "application/vnd.jupyter.widget-view+json": {
       "model_id": "f49e6aebad774c109e2ca60f40f7b179",
       "version_major": 2,
       "version_minor": 0
      },
      "text/plain": [
       "Batches:   0%|          | 0/1 [00:00<?, ?it/s]"
      ]
     },
     "metadata": {},
     "output_type": "display_data"
    },
    {
     "data": {
      "application/vnd.jupyter.widget-view+json": {
       "model_id": "f4f077c503a34935a00388d910709c4a",
       "version_major": 2,
       "version_minor": 0
      },
      "text/plain": [
       "Batches:   0%|          | 0/1 [00:00<?, ?it/s]"
      ]
     },
     "metadata": {},
     "output_type": "display_data"
    },
    {
     "data": {
      "application/vnd.jupyter.widget-view+json": {
       "model_id": "ed930b1726bb4322ba240c3ae527344e",
       "version_major": 2,
       "version_minor": 0
      },
      "text/plain": [
       "Batches:   0%|          | 0/1 [00:00<?, ?it/s]"
      ]
     },
     "metadata": {},
     "output_type": "display_data"
    },
    {
     "data": {
      "application/vnd.jupyter.widget-view+json": {
       "model_id": "eca08233a8d949f9aa6e2fba02b4a71d",
       "version_major": 2,
       "version_minor": 0
      },
      "text/plain": [
       "Batches:   0%|          | 0/1 [00:00<?, ?it/s]"
      ]
     },
     "metadata": {},
     "output_type": "display_data"
    },
    {
     "data": {
      "application/vnd.jupyter.widget-view+json": {
       "model_id": "9de067556c594d599157cc38013d6c47",
       "version_major": 2,
       "version_minor": 0
      },
      "text/plain": [
       "Batches:   0%|          | 0/1 [00:00<?, ?it/s]"
      ]
     },
     "metadata": {},
     "output_type": "display_data"
    },
    {
     "data": {
      "application/vnd.jupyter.widget-view+json": {
       "model_id": "76a46ef2f5234f98931b1da98be9de69",
       "version_major": 2,
       "version_minor": 0
      },
      "text/plain": [
       "Batches:   0%|          | 0/1 [00:00<?, ?it/s]"
      ]
     },
     "metadata": {},
     "output_type": "display_data"
    },
    {
     "data": {
      "application/vnd.jupyter.widget-view+json": {
       "model_id": "a2c11f8b50b140e1a911721e472ebeda",
       "version_major": 2,
       "version_minor": 0
      },
      "text/plain": [
       "Batches:   0%|          | 0/1 [00:00<?, ?it/s]"
      ]
     },
     "metadata": {},
     "output_type": "display_data"
    },
    {
     "data": {
      "application/vnd.jupyter.widget-view+json": {
       "model_id": "d5981aba240d43f5b75842ed7d12ab53",
       "version_major": 2,
       "version_minor": 0
      },
      "text/plain": [
       "Batches:   0%|          | 0/1 [00:00<?, ?it/s]"
      ]
     },
     "metadata": {},
     "output_type": "display_data"
    },
    {
     "data": {
      "application/vnd.jupyter.widget-view+json": {
       "model_id": "da9de6c7bae349c59ea0566afa3f5543",
       "version_major": 2,
       "version_minor": 0
      },
      "text/plain": [
       "Batches:   0%|          | 0/1 [00:00<?, ?it/s]"
      ]
     },
     "metadata": {},
     "output_type": "display_data"
    },
    {
     "data": {
      "application/vnd.jupyter.widget-view+json": {
       "model_id": "d3dbc2d883534cca87439910a004c419",
       "version_major": 2,
       "version_minor": 0
      },
      "text/plain": [
       "Batches:   0%|          | 0/1 [00:00<?, ?it/s]"
      ]
     },
     "metadata": {},
     "output_type": "display_data"
    },
    {
     "data": {
      "application/vnd.jupyter.widget-view+json": {
       "model_id": "0ec9b7f4c2e342b9b0083954a4eed1ee",
       "version_major": 2,
       "version_minor": 0
      },
      "text/plain": [
       "Batches:   0%|          | 0/1 [00:00<?, ?it/s]"
      ]
     },
     "metadata": {},
     "output_type": "display_data"
    },
    {
     "data": {
      "application/vnd.jupyter.widget-view+json": {
       "model_id": "fe112ec805fc4676ab984cd9fe2c4427",
       "version_major": 2,
       "version_minor": 0
      },
      "text/plain": [
       "Batches:   0%|          | 0/1 [00:00<?, ?it/s]"
      ]
     },
     "metadata": {},
     "output_type": "display_data"
    },
    {
     "data": {
      "application/vnd.jupyter.widget-view+json": {
       "model_id": "091dda69fc504ef3a36287a9b73e85d8",
       "version_major": 2,
       "version_minor": 0
      },
      "text/plain": [
       "Batches:   0%|          | 0/1 [00:00<?, ?it/s]"
      ]
     },
     "metadata": {},
     "output_type": "display_data"
    },
    {
     "data": {
      "application/vnd.jupyter.widget-view+json": {
       "model_id": "839f4811d0894890854a7c50003dd973",
       "version_major": 2,
       "version_minor": 0
      },
      "text/plain": [
       "Batches:   0%|          | 0/1 [00:00<?, ?it/s]"
      ]
     },
     "metadata": {},
     "output_type": "display_data"
    },
    {
     "data": {
      "application/vnd.jupyter.widget-view+json": {
       "model_id": "3267320e15ad4ecebbe1eaf1ca37451f",
       "version_major": 2,
       "version_minor": 0
      },
      "text/plain": [
       "Batches:   0%|          | 0/1 [00:00<?, ?it/s]"
      ]
     },
     "metadata": {},
     "output_type": "display_data"
    },
    {
     "data": {
      "application/vnd.jupyter.widget-view+json": {
       "model_id": "0bc523f57ba54122adfca7cdb8fc8dbf",
       "version_major": 2,
       "version_minor": 0
      },
      "text/plain": [
       "Batches:   0%|          | 0/1 [00:00<?, ?it/s]"
      ]
     },
     "metadata": {},
     "output_type": "display_data"
    },
    {
     "data": {
      "application/vnd.jupyter.widget-view+json": {
       "model_id": "fb1b235d1d9a438c969b0f9284f8869b",
       "version_major": 2,
       "version_minor": 0
      },
      "text/plain": [
       "Batches:   0%|          | 0/1 [00:00<?, ?it/s]"
      ]
     },
     "metadata": {},
     "output_type": "display_data"
    },
    {
     "data": {
      "application/vnd.jupyter.widget-view+json": {
       "model_id": "a7515ed5ee5046ad8e5875d9613bef63",
       "version_major": 2,
       "version_minor": 0
      },
      "text/plain": [
       "Batches:   0%|          | 0/1 [00:00<?, ?it/s]"
      ]
     },
     "metadata": {},
     "output_type": "display_data"
    },
    {
     "data": {
      "application/vnd.jupyter.widget-view+json": {
       "model_id": "4e07471e88784dacab9d697b0076a7d3",
       "version_major": 2,
       "version_minor": 0
      },
      "text/plain": [
       "Batches:   0%|          | 0/1 [00:00<?, ?it/s]"
      ]
     },
     "metadata": {},
     "output_type": "display_data"
    },
    {
     "data": {
      "application/vnd.jupyter.widget-view+json": {
       "model_id": "c06e2658f9814c15bfab2424a2df8cb0",
       "version_major": 2,
       "version_minor": 0
      },
      "text/plain": [
       "Batches:   0%|          | 0/1 [00:00<?, ?it/s]"
      ]
     },
     "metadata": {},
     "output_type": "display_data"
    },
    {
     "data": {
      "application/vnd.jupyter.widget-view+json": {
       "model_id": "67df16f2a67a49358863eeff2b3d5394",
       "version_major": 2,
       "version_minor": 0
      },
      "text/plain": [
       "Batches:   0%|          | 0/1 [00:00<?, ?it/s]"
      ]
     },
     "metadata": {},
     "output_type": "display_data"
    },
    {
     "data": {
      "application/vnd.jupyter.widget-view+json": {
       "model_id": "2b2190e1f0824bf3b9e390a89a3a697c",
       "version_major": 2,
       "version_minor": 0
      },
      "text/plain": [
       "Batches:   0%|          | 0/1 [00:00<?, ?it/s]"
      ]
     },
     "metadata": {},
     "output_type": "display_data"
    },
    {
     "data": {
      "application/vnd.jupyter.widget-view+json": {
       "model_id": "80085fff7d2d46189da3cacf57ca2c98",
       "version_major": 2,
       "version_minor": 0
      },
      "text/plain": [
       "Batches:   0%|          | 0/1 [00:00<?, ?it/s]"
      ]
     },
     "metadata": {},
     "output_type": "display_data"
    },
    {
     "data": {
      "application/vnd.jupyter.widget-view+json": {
       "model_id": "495781d05da4415dbe06f0baa31f5f62",
       "version_major": 2,
       "version_minor": 0
      },
      "text/plain": [
       "Batches:   0%|          | 0/1 [00:00<?, ?it/s]"
      ]
     },
     "metadata": {},
     "output_type": "display_data"
    },
    {
     "data": {
      "application/vnd.jupyter.widget-view+json": {
       "model_id": "0487f0ef7ab24e918c7d99db6e772523",
       "version_major": 2,
       "version_minor": 0
      },
      "text/plain": [
       "Batches:   0%|          | 0/1 [00:00<?, ?it/s]"
      ]
     },
     "metadata": {},
     "output_type": "display_data"
    },
    {
     "data": {
      "application/vnd.jupyter.widget-view+json": {
       "model_id": "257679073acb4dacbb4a9fc8b84533cd",
       "version_major": 2,
       "version_minor": 0
      },
      "text/plain": [
       "Batches:   0%|          | 0/1 [00:00<?, ?it/s]"
      ]
     },
     "metadata": {},
     "output_type": "display_data"
    },
    {
     "data": {
      "application/vnd.jupyter.widget-view+json": {
       "model_id": "b490c22f35044db2bd6e9b04c94a633d",
       "version_major": 2,
       "version_minor": 0
      },
      "text/plain": [
       "Batches:   0%|          | 0/1 [00:00<?, ?it/s]"
      ]
     },
     "metadata": {},
     "output_type": "display_data"
    },
    {
     "data": {
      "application/vnd.jupyter.widget-view+json": {
       "model_id": "3af939244a634251949d5c59b32060f5",
       "version_major": 2,
       "version_minor": 0
      },
      "text/plain": [
       "Batches:   0%|          | 0/1 [00:00<?, ?it/s]"
      ]
     },
     "metadata": {},
     "output_type": "display_data"
    },
    {
     "data": {
      "application/vnd.jupyter.widget-view+json": {
       "model_id": "07ba911a12f144b28f65b9021ca29937",
       "version_major": 2,
       "version_minor": 0
      },
      "text/plain": [
       "Batches:   0%|          | 0/1 [00:00<?, ?it/s]"
      ]
     },
     "metadata": {},
     "output_type": "display_data"
    },
    {
     "data": {
      "application/vnd.jupyter.widget-view+json": {
       "model_id": "49226eefe0f544c884685fd1b5a1ec3c",
       "version_major": 2,
       "version_minor": 0
      },
      "text/plain": [
       "Batches:   0%|          | 0/1 [00:00<?, ?it/s]"
      ]
     },
     "metadata": {},
     "output_type": "display_data"
    },
    {
     "data": {
      "application/vnd.jupyter.widget-view+json": {
       "model_id": "fe8ee657793a48299bcdc3cb429f7d4c",
       "version_major": 2,
       "version_minor": 0
      },
      "text/plain": [
       "Batches:   0%|          | 0/1 [00:00<?, ?it/s]"
      ]
     },
     "metadata": {},
     "output_type": "display_data"
    },
    {
     "data": {
      "application/vnd.jupyter.widget-view+json": {
       "model_id": "d331c3ac5eff4018af2afc4d6ea54c00",
       "version_major": 2,
       "version_minor": 0
      },
      "text/plain": [
       "Batches:   0%|          | 0/1 [00:00<?, ?it/s]"
      ]
     },
     "metadata": {},
     "output_type": "display_data"
    },
    {
     "data": {
      "application/vnd.jupyter.widget-view+json": {
       "model_id": "76b282dbca924374a55d38a22cb039fb",
       "version_major": 2,
       "version_minor": 0
      },
      "text/plain": [
       "Batches:   0%|          | 0/1 [00:00<?, ?it/s]"
      ]
     },
     "metadata": {},
     "output_type": "display_data"
    },
    {
     "data": {
      "application/vnd.jupyter.widget-view+json": {
       "model_id": "adf74d422c46408e99ec9c2ab0880018",
       "version_major": 2,
       "version_minor": 0
      },
      "text/plain": [
       "Batches:   0%|          | 0/1 [00:00<?, ?it/s]"
      ]
     },
     "metadata": {},
     "output_type": "display_data"
    },
    {
     "data": {
      "application/vnd.jupyter.widget-view+json": {
       "model_id": "8f1806822db844c0955fdfc1dcf525c0",
       "version_major": 2,
       "version_minor": 0
      },
      "text/plain": [
       "Batches:   0%|          | 0/1 [00:00<?, ?it/s]"
      ]
     },
     "metadata": {},
     "output_type": "display_data"
    },
    {
     "data": {
      "application/vnd.jupyter.widget-view+json": {
       "model_id": "73a5a5006541493c9e39b722001ee3e5",
       "version_major": 2,
       "version_minor": 0
      },
      "text/plain": [
       "Batches:   0%|          | 0/1 [00:00<?, ?it/s]"
      ]
     },
     "metadata": {},
     "output_type": "display_data"
    },
    {
     "data": {
      "application/vnd.jupyter.widget-view+json": {
       "model_id": "fdea2d53ab5d4f66a8eb24c0d58cf3b2",
       "version_major": 2,
       "version_minor": 0
      },
      "text/plain": [
       "Batches:   0%|          | 0/1 [00:00<?, ?it/s]"
      ]
     },
     "metadata": {},
     "output_type": "display_data"
    },
    {
     "data": {
      "application/vnd.jupyter.widget-view+json": {
       "model_id": "2f149a9ddf4d405c9707e61faf36b524",
       "version_major": 2,
       "version_minor": 0
      },
      "text/plain": [
       "Batches:   0%|          | 0/1 [00:00<?, ?it/s]"
      ]
     },
     "metadata": {},
     "output_type": "display_data"
    },
    {
     "data": {
      "application/vnd.jupyter.widget-view+json": {
       "model_id": "89aba093de354683b0bbdb37ac1cffa7",
       "version_major": 2,
       "version_minor": 0
      },
      "text/plain": [
       "Batches:   0%|          | 0/1 [00:00<?, ?it/s]"
      ]
     },
     "metadata": {},
     "output_type": "display_data"
    },
    {
     "data": {
      "application/vnd.jupyter.widget-view+json": {
       "model_id": "500f137e3d0045c3b97f8184d34c827e",
       "version_major": 2,
       "version_minor": 0
      },
      "text/plain": [
       "Batches:   0%|          | 0/1 [00:00<?, ?it/s]"
      ]
     },
     "metadata": {},
     "output_type": "display_data"
    },
    {
     "data": {
      "application/vnd.jupyter.widget-view+json": {
       "model_id": "5c77d08342994cc6a3ac94faac12cf06",
       "version_major": 2,
       "version_minor": 0
      },
      "text/plain": [
       "Batches:   0%|          | 0/1 [00:00<?, ?it/s]"
      ]
     },
     "metadata": {},
     "output_type": "display_data"
    },
    {
     "data": {
      "application/vnd.jupyter.widget-view+json": {
       "model_id": "8469fea1fcfd4baab4f1472dcdad9304",
       "version_major": 2,
       "version_minor": 0
      },
      "text/plain": [
       "Batches:   0%|          | 0/1 [00:00<?, ?it/s]"
      ]
     },
     "metadata": {},
     "output_type": "display_data"
    },
    {
     "data": {
      "application/vnd.jupyter.widget-view+json": {
       "model_id": "9c2b2e2e5e214b6f837d1ae55096865e",
       "version_major": 2,
       "version_minor": 0
      },
      "text/plain": [
       "Batches:   0%|          | 0/1 [00:00<?, ?it/s]"
      ]
     },
     "metadata": {},
     "output_type": "display_data"
    },
    {
     "data": {
      "application/vnd.jupyter.widget-view+json": {
       "model_id": "e90bf08c67d04239a912b506f8ba232c",
       "version_major": 2,
       "version_minor": 0
      },
      "text/plain": [
       "Batches:   0%|          | 0/1 [00:00<?, ?it/s]"
      ]
     },
     "metadata": {},
     "output_type": "display_data"
    },
    {
     "data": {
      "application/vnd.jupyter.widget-view+json": {
       "model_id": "1727e127597b41d79c7583b16f949a58",
       "version_major": 2,
       "version_minor": 0
      },
      "text/plain": [
       "Batches:   0%|          | 0/1 [00:00<?, ?it/s]"
      ]
     },
     "metadata": {},
     "output_type": "display_data"
    },
    {
     "data": {
      "application/vnd.jupyter.widget-view+json": {
       "model_id": "5ad3b89ef8e840cd95b13435d7a3dcba",
       "version_major": 2,
       "version_minor": 0
      },
      "text/plain": [
       "Batches:   0%|          | 0/1 [00:00<?, ?it/s]"
      ]
     },
     "metadata": {},
     "output_type": "display_data"
    },
    {
     "data": {
      "application/vnd.jupyter.widget-view+json": {
       "model_id": "88e7096e161849cf8e074201bd953ba0",
       "version_major": 2,
       "version_minor": 0
      },
      "text/plain": [
       "Batches:   0%|          | 0/1 [00:00<?, ?it/s]"
      ]
     },
     "metadata": {},
     "output_type": "display_data"
    },
    {
     "data": {
      "application/vnd.jupyter.widget-view+json": {
       "model_id": "108be0b8e1c041c6a9095eb07d82d6ac",
       "version_major": 2,
       "version_minor": 0
      },
      "text/plain": [
       "Batches:   0%|          | 0/1 [00:00<?, ?it/s]"
      ]
     },
     "metadata": {},
     "output_type": "display_data"
    },
    {
     "data": {
      "application/vnd.jupyter.widget-view+json": {
       "model_id": "d7677231d1954f1ab9ce627dc3874a92",
       "version_major": 2,
       "version_minor": 0
      },
      "text/plain": [
       "Batches:   0%|          | 0/1 [00:00<?, ?it/s]"
      ]
     },
     "metadata": {},
     "output_type": "display_data"
    },
    {
     "data": {
      "application/vnd.jupyter.widget-view+json": {
       "model_id": "c209cbb64052487293f57f6e7db9aab8",
       "version_major": 2,
       "version_minor": 0
      },
      "text/plain": [
       "Batches:   0%|          | 0/1 [00:00<?, ?it/s]"
      ]
     },
     "metadata": {},
     "output_type": "display_data"
    },
    {
     "data": {
      "application/vnd.jupyter.widget-view+json": {
       "model_id": "d15b8b332a8b4c86a2bbb91bbd408dd0",
       "version_major": 2,
       "version_minor": 0
      },
      "text/plain": [
       "Batches:   0%|          | 0/1 [00:00<?, ?it/s]"
      ]
     },
     "metadata": {},
     "output_type": "display_data"
    },
    {
     "data": {
      "application/vnd.jupyter.widget-view+json": {
       "model_id": "2aab463830a14698806bd96c241c5ce2",
       "version_major": 2,
       "version_minor": 0
      },
      "text/plain": [
       "Batches:   0%|          | 0/1 [00:00<?, ?it/s]"
      ]
     },
     "metadata": {},
     "output_type": "display_data"
    },
    {
     "data": {
      "application/vnd.jupyter.widget-view+json": {
       "model_id": "d8cd74f2857545d7acbcf5883bd5d915",
       "version_major": 2,
       "version_minor": 0
      },
      "text/plain": [
       "Batches:   0%|          | 0/1 [00:00<?, ?it/s]"
      ]
     },
     "metadata": {},
     "output_type": "display_data"
    },
    {
     "data": {
      "application/vnd.jupyter.widget-view+json": {
       "model_id": "f9556cc3a1cd4d6a8fab3dbe872b6f9e",
       "version_major": 2,
       "version_minor": 0
      },
      "text/plain": [
       "Batches:   0%|          | 0/1 [00:00<?, ?it/s]"
      ]
     },
     "metadata": {},
     "output_type": "display_data"
    },
    {
     "data": {
      "application/vnd.jupyter.widget-view+json": {
       "model_id": "834cff1dd9a54d6b8c4b87dea41f770b",
       "version_major": 2,
       "version_minor": 0
      },
      "text/plain": [
       "Batches:   0%|          | 0/1 [00:00<?, ?it/s]"
      ]
     },
     "metadata": {},
     "output_type": "display_data"
    },
    {
     "data": {
      "application/vnd.jupyter.widget-view+json": {
       "model_id": "4d2e3325bdbc444bbd1c5fcde41bf0ce",
       "version_major": 2,
       "version_minor": 0
      },
      "text/plain": [
       "Batches:   0%|          | 0/1 [00:00<?, ?it/s]"
      ]
     },
     "metadata": {},
     "output_type": "display_data"
    },
    {
     "data": {
      "application/vnd.jupyter.widget-view+json": {
       "model_id": "31f62f87035c418594c28e9bf21e43c4",
       "version_major": 2,
       "version_minor": 0
      },
      "text/plain": [
       "Batches:   0%|          | 0/1 [00:00<?, ?it/s]"
      ]
     },
     "metadata": {},
     "output_type": "display_data"
    },
    {
     "data": {
      "application/vnd.jupyter.widget-view+json": {
       "model_id": "dc149f64dd5b4a50beb5d8356029b5be",
       "version_major": 2,
       "version_minor": 0
      },
      "text/plain": [
       "Batches:   0%|          | 0/1 [00:00<?, ?it/s]"
      ]
     },
     "metadata": {},
     "output_type": "display_data"
    },
    {
     "data": {
      "application/vnd.jupyter.widget-view+json": {
       "model_id": "8b134e58d3834557a55701d3cf59cd2c",
       "version_major": 2,
       "version_minor": 0
      },
      "text/plain": [
       "Batches:   0%|          | 0/1 [00:00<?, ?it/s]"
      ]
     },
     "metadata": {},
     "output_type": "display_data"
    },
    {
     "data": {
      "application/vnd.jupyter.widget-view+json": {
       "model_id": "2333e7b0e2fd43bea68c0cb71e20827f",
       "version_major": 2,
       "version_minor": 0
      },
      "text/plain": [
       "Batches:   0%|          | 0/1 [00:00<?, ?it/s]"
      ]
     },
     "metadata": {},
     "output_type": "display_data"
    },
    {
     "data": {
      "application/vnd.jupyter.widget-view+json": {
       "model_id": "aaf10590d9fc476cb59657d86f5ec58b",
       "version_major": 2,
       "version_minor": 0
      },
      "text/plain": [
       "Batches:   0%|          | 0/1 [00:00<?, ?it/s]"
      ]
     },
     "metadata": {},
     "output_type": "display_data"
    },
    {
     "data": {
      "application/vnd.jupyter.widget-view+json": {
       "model_id": "226edfa37a63460896e358f6ec3d9954",
       "version_major": 2,
       "version_minor": 0
      },
      "text/plain": [
       "Batches:   0%|          | 0/1 [00:00<?, ?it/s]"
      ]
     },
     "metadata": {},
     "output_type": "display_data"
    },
    {
     "data": {
      "application/vnd.jupyter.widget-view+json": {
       "model_id": "e9ea83acc6744bc9a41c04aa6da48f64",
       "version_major": 2,
       "version_minor": 0
      },
      "text/plain": [
       "Batches:   0%|          | 0/1 [00:00<?, ?it/s]"
      ]
     },
     "metadata": {},
     "output_type": "display_data"
    },
    {
     "data": {
      "application/vnd.jupyter.widget-view+json": {
       "model_id": "278a586e9e53439c831d4a2a634fd1f4",
       "version_major": 2,
       "version_minor": 0
      },
      "text/plain": [
       "Batches:   0%|          | 0/1 [00:00<?, ?it/s]"
      ]
     },
     "metadata": {},
     "output_type": "display_data"
    },
    {
     "data": {
      "application/vnd.jupyter.widget-view+json": {
       "model_id": "e5df6122900b4761819e42dd5ece56b4",
       "version_major": 2,
       "version_minor": 0
      },
      "text/plain": [
       "Batches:   0%|          | 0/1 [00:00<?, ?it/s]"
      ]
     },
     "metadata": {},
     "output_type": "display_data"
    },
    {
     "data": {
      "application/vnd.jupyter.widget-view+json": {
       "model_id": "5ed32bec2cdb4eb2b8d12958b0df2ef9",
       "version_major": 2,
       "version_minor": 0
      },
      "text/plain": [
       "Batches:   0%|          | 0/1 [00:00<?, ?it/s]"
      ]
     },
     "metadata": {},
     "output_type": "display_data"
    },
    {
     "data": {
      "application/vnd.jupyter.widget-view+json": {
       "model_id": "d8d0d6bee8734dd99f7a9cccb83ec4d9",
       "version_major": 2,
       "version_minor": 0
      },
      "text/plain": [
       "Batches:   0%|          | 0/1 [00:00<?, ?it/s]"
      ]
     },
     "metadata": {},
     "output_type": "display_data"
    },
    {
     "data": {
      "application/vnd.jupyter.widget-view+json": {
       "model_id": "5d0be573efeb42afbf3e2b2e36bb68ea",
       "version_major": 2,
       "version_minor": 0
      },
      "text/plain": [
       "Batches:   0%|          | 0/1 [00:00<?, ?it/s]"
      ]
     },
     "metadata": {},
     "output_type": "display_data"
    },
    {
     "data": {
      "application/vnd.jupyter.widget-view+json": {
       "model_id": "76de5291b5b242e5bbe58a1937af2921",
       "version_major": 2,
       "version_minor": 0
      },
      "text/plain": [
       "Batches:   0%|          | 0/1 [00:00<?, ?it/s]"
      ]
     },
     "metadata": {},
     "output_type": "display_data"
    },
    {
     "data": {
      "application/vnd.jupyter.widget-view+json": {
       "model_id": "5652f92784934c0c8400bb7690b11a3e",
       "version_major": 2,
       "version_minor": 0
      },
      "text/plain": [
       "Batches:   0%|          | 0/1 [00:00<?, ?it/s]"
      ]
     },
     "metadata": {},
     "output_type": "display_data"
    },
    {
     "data": {
      "application/vnd.jupyter.widget-view+json": {
       "model_id": "8638aa4b453b441090c14d1eb3da4e0b",
       "version_major": 2,
       "version_minor": 0
      },
      "text/plain": [
       "Batches:   0%|          | 0/1 [00:00<?, ?it/s]"
      ]
     },
     "metadata": {},
     "output_type": "display_data"
    },
    {
     "data": {
      "application/vnd.jupyter.widget-view+json": {
       "model_id": "a6a5331c7a3c4926ab42c81d7f1c4176",
       "version_major": 2,
       "version_minor": 0
      },
      "text/plain": [
       "Batches:   0%|          | 0/1 [00:00<?, ?it/s]"
      ]
     },
     "metadata": {},
     "output_type": "display_data"
    },
    {
     "data": {
      "application/vnd.jupyter.widget-view+json": {
       "model_id": "340fa5a9b22e40c7a8fa4bcfc92ccdc4",
       "version_major": 2,
       "version_minor": 0
      },
      "text/plain": [
       "Batches:   0%|          | 0/1 [00:00<?, ?it/s]"
      ]
     },
     "metadata": {},
     "output_type": "display_data"
    },
    {
     "data": {
      "application/vnd.jupyter.widget-view+json": {
       "model_id": "c63b2edc7f6c4ebe9f4abc9e26850c85",
       "version_major": 2,
       "version_minor": 0
      },
      "text/plain": [
       "Batches:   0%|          | 0/1 [00:00<?, ?it/s]"
      ]
     },
     "metadata": {},
     "output_type": "display_data"
    },
    {
     "data": {
      "application/vnd.jupyter.widget-view+json": {
       "model_id": "89001bd848e54487a342476d2cefa5d0",
       "version_major": 2,
       "version_minor": 0
      },
      "text/plain": [
       "Batches:   0%|          | 0/1 [00:00<?, ?it/s]"
      ]
     },
     "metadata": {},
     "output_type": "display_data"
    },
    {
     "data": {
      "application/vnd.jupyter.widget-view+json": {
       "model_id": "d8eb12ea6ad34a78b0e9f0573ea3ba28",
       "version_major": 2,
       "version_minor": 0
      },
      "text/plain": [
       "Batches:   0%|          | 0/1 [00:00<?, ?it/s]"
      ]
     },
     "metadata": {},
     "output_type": "display_data"
    },
    {
     "data": {
      "application/vnd.jupyter.widget-view+json": {
       "model_id": "375e6b11cbc54aa0b13564fd983e409e",
       "version_major": 2,
       "version_minor": 0
      },
      "text/plain": [
       "Batches:   0%|          | 0/1 [00:00<?, ?it/s]"
      ]
     },
     "metadata": {},
     "output_type": "display_data"
    },
    {
     "data": {
      "application/vnd.jupyter.widget-view+json": {
       "model_id": "e22451fc42764486ac662caae42d1f44",
       "version_major": 2,
       "version_minor": 0
      },
      "text/plain": [
       "Batches:   0%|          | 0/1 [00:00<?, ?it/s]"
      ]
     },
     "metadata": {},
     "output_type": "display_data"
    },
    {
     "data": {
      "application/vnd.jupyter.widget-view+json": {
       "model_id": "935fb37c69ae487bb4201dff73d7aea8",
       "version_major": 2,
       "version_minor": 0
      },
      "text/plain": [
       "Batches:   0%|          | 0/1 [00:00<?, ?it/s]"
      ]
     },
     "metadata": {},
     "output_type": "display_data"
    },
    {
     "data": {
      "application/vnd.jupyter.widget-view+json": {
       "model_id": "5bd525ce8b6148119d1f15224b0f9f1a",
       "version_major": 2,
       "version_minor": 0
      },
      "text/plain": [
       "Batches:   0%|          | 0/1 [00:00<?, ?it/s]"
      ]
     },
     "metadata": {},
     "output_type": "display_data"
    },
    {
     "data": {
      "application/vnd.jupyter.widget-view+json": {
       "model_id": "26d925038b084a35915f1df9aee7d80d",
       "version_major": 2,
       "version_minor": 0
      },
      "text/plain": [
       "Batches:   0%|          | 0/1 [00:00<?, ?it/s]"
      ]
     },
     "metadata": {},
     "output_type": "display_data"
    },
    {
     "data": {
      "application/vnd.jupyter.widget-view+json": {
       "model_id": "b7aed5d5824041dea5c6560febadf067",
       "version_major": 2,
       "version_minor": 0
      },
      "text/plain": [
       "Batches:   0%|          | 0/1 [00:00<?, ?it/s]"
      ]
     },
     "metadata": {},
     "output_type": "display_data"
    },
    {
     "data": {
      "application/vnd.jupyter.widget-view+json": {
       "model_id": "5712e3a978404821ba167ab20111e6b9",
       "version_major": 2,
       "version_minor": 0
      },
      "text/plain": [
       "Batches:   0%|          | 0/1 [00:00<?, ?it/s]"
      ]
     },
     "metadata": {},
     "output_type": "display_data"
    },
    {
     "data": {
      "application/vnd.jupyter.widget-view+json": {
       "model_id": "417d83d872694688a616ccb2a08dd7c7",
       "version_major": 2,
       "version_minor": 0
      },
      "text/plain": [
       "Batches:   0%|          | 0/1 [00:00<?, ?it/s]"
      ]
     },
     "metadata": {},
     "output_type": "display_data"
    },
    {
     "data": {
      "application/vnd.jupyter.widget-view+json": {
       "model_id": "d9880f2b365a45ada522bf76622a4893",
       "version_major": 2,
       "version_minor": 0
      },
      "text/plain": [
       "Batches:   0%|          | 0/1 [00:00<?, ?it/s]"
      ]
     },
     "metadata": {},
     "output_type": "display_data"
    },
    {
     "data": {
      "application/vnd.jupyter.widget-view+json": {
       "model_id": "aad9e12e846a4aef9e142fdf4dcddcb9",
       "version_major": 2,
       "version_minor": 0
      },
      "text/plain": [
       "Batches:   0%|          | 0/1 [00:00<?, ?it/s]"
      ]
     },
     "metadata": {},
     "output_type": "display_data"
    },
    {
     "data": {
      "application/vnd.jupyter.widget-view+json": {
       "model_id": "3784c73e96364e8a808012e2f91d77ea",
       "version_major": 2,
       "version_minor": 0
      },
      "text/plain": [
       "Batches:   0%|          | 0/1 [00:00<?, ?it/s]"
      ]
     },
     "metadata": {},
     "output_type": "display_data"
    },
    {
     "data": {
      "application/vnd.jupyter.widget-view+json": {
       "model_id": "348918b4ac2640be944e80f1637ff92f",
       "version_major": 2,
       "version_minor": 0
      },
      "text/plain": [
       "Batches:   0%|          | 0/1 [00:00<?, ?it/s]"
      ]
     },
     "metadata": {},
     "output_type": "display_data"
    },
    {
     "data": {
      "application/vnd.jupyter.widget-view+json": {
       "model_id": "8379cf5f40b143d9992e0cc45b06b918",
       "version_major": 2,
       "version_minor": 0
      },
      "text/plain": [
       "Batches:   0%|          | 0/1 [00:00<?, ?it/s]"
      ]
     },
     "metadata": {},
     "output_type": "display_data"
    },
    {
     "data": {
      "application/vnd.jupyter.widget-view+json": {
       "model_id": "abaf3e8a1d4344bc8fff61ab17f96eb5",
       "version_major": 2,
       "version_minor": 0
      },
      "text/plain": [
       "Batches:   0%|          | 0/1 [00:00<?, ?it/s]"
      ]
     },
     "metadata": {},
     "output_type": "display_data"
    },
    {
     "data": {
      "application/vnd.jupyter.widget-view+json": {
       "model_id": "8ab758e8496240e18670556c6c0f3cc8",
       "version_major": 2,
       "version_minor": 0
      },
      "text/plain": [
       "Batches:   0%|          | 0/1 [00:00<?, ?it/s]"
      ]
     },
     "metadata": {},
     "output_type": "display_data"
    },
    {
     "data": {
      "application/vnd.jupyter.widget-view+json": {
       "model_id": "ee43c9f8c9944539ae8f022e14cf608f",
       "version_major": 2,
       "version_minor": 0
      },
      "text/plain": [
       "Batches:   0%|          | 0/1 [00:00<?, ?it/s]"
      ]
     },
     "metadata": {},
     "output_type": "display_data"
    },
    {
     "data": {
      "application/vnd.jupyter.widget-view+json": {
       "model_id": "51d5f5e4cdbf4fc5ad25f96184f7a591",
       "version_major": 2,
       "version_minor": 0
      },
      "text/plain": [
       "Batches:   0%|          | 0/1 [00:00<?, ?it/s]"
      ]
     },
     "metadata": {},
     "output_type": "display_data"
    },
    {
     "data": {
      "application/vnd.jupyter.widget-view+json": {
       "model_id": "e465eff4b48c4defb768d384960d371f",
       "version_major": 2,
       "version_minor": 0
      },
      "text/plain": [
       "Batches:   0%|          | 0/1 [00:00<?, ?it/s]"
      ]
     },
     "metadata": {},
     "output_type": "display_data"
    },
    {
     "data": {
      "application/vnd.jupyter.widget-view+json": {
       "model_id": "d803162193d14e2ea8e8921b5116083b",
       "version_major": 2,
       "version_minor": 0
      },
      "text/plain": [
       "Batches:   0%|          | 0/1 [00:00<?, ?it/s]"
      ]
     },
     "metadata": {},
     "output_type": "display_data"
    },
    {
     "data": {
      "application/vnd.jupyter.widget-view+json": {
       "model_id": "a73a97561fe542f492880f8c25388a2a",
       "version_major": 2,
       "version_minor": 0
      },
      "text/plain": [
       "Batches:   0%|          | 0/1 [00:00<?, ?it/s]"
      ]
     },
     "metadata": {},
     "output_type": "display_data"
    },
    {
     "data": {
      "application/vnd.jupyter.widget-view+json": {
       "model_id": "f6f45697fcbc4b8cbe0847ec7da4a363",
       "version_major": 2,
       "version_minor": 0
      },
      "text/plain": [
       "Batches:   0%|          | 0/1 [00:00<?, ?it/s]"
      ]
     },
     "metadata": {},
     "output_type": "display_data"
    },
    {
     "data": {
      "application/vnd.jupyter.widget-view+json": {
       "model_id": "dca1751c3f1a4b4586794937ed5df162",
       "version_major": 2,
       "version_minor": 0
      },
      "text/plain": [
       "Batches:   0%|          | 0/1 [00:00<?, ?it/s]"
      ]
     },
     "metadata": {},
     "output_type": "display_data"
    },
    {
     "data": {
      "application/vnd.jupyter.widget-view+json": {
       "model_id": "5a45a536174044df8cb1d70d138bbe21",
       "version_major": 2,
       "version_minor": 0
      },
      "text/plain": [
       "Batches:   0%|          | 0/1 [00:00<?, ?it/s]"
      ]
     },
     "metadata": {},
     "output_type": "display_data"
    },
    {
     "data": {
      "application/vnd.jupyter.widget-view+json": {
       "model_id": "d54cb4c3e3d8426f9dcdc8507581af0c",
       "version_major": 2,
       "version_minor": 0
      },
      "text/plain": [
       "Batches:   0%|          | 0/1 [00:00<?, ?it/s]"
      ]
     },
     "metadata": {},
     "output_type": "display_data"
    },
    {
     "data": {
      "application/vnd.jupyter.widget-view+json": {
       "model_id": "dd8bee65aea946a4ba91d92d36e346c9",
       "version_major": 2,
       "version_minor": 0
      },
      "text/plain": [
       "Batches:   0%|          | 0/1 [00:00<?, ?it/s]"
      ]
     },
     "metadata": {},
     "output_type": "display_data"
    },
    {
     "data": {
      "application/vnd.jupyter.widget-view+json": {
       "model_id": "93b48a8ff87243f2afc3118a2bc48ea7",
       "version_major": 2,
       "version_minor": 0
      },
      "text/plain": [
       "Batches:   0%|          | 0/1 [00:00<?, ?it/s]"
      ]
     },
     "metadata": {},
     "output_type": "display_data"
    },
    {
     "data": {
      "application/vnd.jupyter.widget-view+json": {
       "model_id": "f438764390ea4b3b940d8e66e2c4f455",
       "version_major": 2,
       "version_minor": 0
      },
      "text/plain": [
       "Batches:   0%|          | 0/1 [00:00<?, ?it/s]"
      ]
     },
     "metadata": {},
     "output_type": "display_data"
    },
    {
     "data": {
      "application/vnd.jupyter.widget-view+json": {
       "model_id": "2e1093cc7d354932a7691c20c10b02a9",
       "version_major": 2,
       "version_minor": 0
      },
      "text/plain": [
       "Batches:   0%|          | 0/1 [00:00<?, ?it/s]"
      ]
     },
     "metadata": {},
     "output_type": "display_data"
    },
    {
     "data": {
      "application/vnd.jupyter.widget-view+json": {
       "model_id": "7754df7a0ff94a4ea7c5ec99681c4e7b",
       "version_major": 2,
       "version_minor": 0
      },
      "text/plain": [
       "Batches:   0%|          | 0/1 [00:00<?, ?it/s]"
      ]
     },
     "metadata": {},
     "output_type": "display_data"
    },
    {
     "data": {
      "application/vnd.jupyter.widget-view+json": {
       "model_id": "8148352c6f77424c88b3c039c9c273a2",
       "version_major": 2,
       "version_minor": 0
      },
      "text/plain": [
       "Batches:   0%|          | 0/1 [00:00<?, ?it/s]"
      ]
     },
     "metadata": {},
     "output_type": "display_data"
    },
    {
     "data": {
      "application/vnd.jupyter.widget-view+json": {
       "model_id": "5ef5d8429b604e3d872c249bace0ae63",
       "version_major": 2,
       "version_minor": 0
      },
      "text/plain": [
       "Batches:   0%|          | 0/1 [00:00<?, ?it/s]"
      ]
     },
     "metadata": {},
     "output_type": "display_data"
    },
    {
     "data": {
      "application/vnd.jupyter.widget-view+json": {
       "model_id": "03dbfc68dc274687baf6655f1b8fb08d",
       "version_major": 2,
       "version_minor": 0
      },
      "text/plain": [
       "Batches:   0%|          | 0/1 [00:00<?, ?it/s]"
      ]
     },
     "metadata": {},
     "output_type": "display_data"
    },
    {
     "data": {
      "application/vnd.jupyter.widget-view+json": {
       "model_id": "74828cc57e6844a9a9d4f04cf67627dc",
       "version_major": 2,
       "version_minor": 0
      },
      "text/plain": [
       "Batches:   0%|          | 0/1 [00:00<?, ?it/s]"
      ]
     },
     "metadata": {},
     "output_type": "display_data"
    },
    {
     "data": {
      "application/vnd.jupyter.widget-view+json": {
       "model_id": "2dbb10499fab4365a347cd533dd9f706",
       "version_major": 2,
       "version_minor": 0
      },
      "text/plain": [
       "Batches:   0%|          | 0/1 [00:00<?, ?it/s]"
      ]
     },
     "metadata": {},
     "output_type": "display_data"
    },
    {
     "data": {
      "application/vnd.jupyter.widget-view+json": {
       "model_id": "9cdd293cf67949b6b277d47b8b47851b",
       "version_major": 2,
       "version_minor": 0
      },
      "text/plain": [
       "Batches:   0%|          | 0/1 [00:00<?, ?it/s]"
      ]
     },
     "metadata": {},
     "output_type": "display_data"
    },
    {
     "data": {
      "application/vnd.jupyter.widget-view+json": {
       "model_id": "6e230c15bb0f43c1b51baa41f5e3e88a",
       "version_major": 2,
       "version_minor": 0
      },
      "text/plain": [
       "Batches:   0%|          | 0/1 [00:00<?, ?it/s]"
      ]
     },
     "metadata": {},
     "output_type": "display_data"
    },
    {
     "data": {
      "application/vnd.jupyter.widget-view+json": {
       "model_id": "5f80c40863de479f8af62e39bfc47414",
       "version_major": 2,
       "version_minor": 0
      },
      "text/plain": [
       "Batches:   0%|          | 0/1 [00:00<?, ?it/s]"
      ]
     },
     "metadata": {},
     "output_type": "display_data"
    },
    {
     "data": {
      "application/vnd.jupyter.widget-view+json": {
       "model_id": "ad408247087a4629a52698a52085edec",
       "version_major": 2,
       "version_minor": 0
      },
      "text/plain": [
       "Batches:   0%|          | 0/1 [00:00<?, ?it/s]"
      ]
     },
     "metadata": {},
     "output_type": "display_data"
    },
    {
     "data": {
      "application/vnd.jupyter.widget-view+json": {
       "model_id": "d282473a29ab4c3db6a76120566f1ad1",
       "version_major": 2,
       "version_minor": 0
      },
      "text/plain": [
       "Batches:   0%|          | 0/1 [00:00<?, ?it/s]"
      ]
     },
     "metadata": {},
     "output_type": "display_data"
    },
    {
     "data": {
      "application/vnd.jupyter.widget-view+json": {
       "model_id": "3c57bf5d36324290bf05fa313842f251",
       "version_major": 2,
       "version_minor": 0
      },
      "text/plain": [
       "Batches:   0%|          | 0/1 [00:00<?, ?it/s]"
      ]
     },
     "metadata": {},
     "output_type": "display_data"
    },
    {
     "data": {
      "application/vnd.jupyter.widget-view+json": {
       "model_id": "74b4b36e72d7438ca51c4a70055159cd",
       "version_major": 2,
       "version_minor": 0
      },
      "text/plain": [
       "Batches:   0%|          | 0/1 [00:00<?, ?it/s]"
      ]
     },
     "metadata": {},
     "output_type": "display_data"
    },
    {
     "data": {
      "application/vnd.jupyter.widget-view+json": {
       "model_id": "eed96feba2f543898588b301b4d3b09a",
       "version_major": 2,
       "version_minor": 0
      },
      "text/plain": [
       "Batches:   0%|          | 0/1 [00:00<?, ?it/s]"
      ]
     },
     "metadata": {},
     "output_type": "display_data"
    },
    {
     "data": {
      "application/vnd.jupyter.widget-view+json": {
       "model_id": "426e7f21f96c438ab968501ddd24947c",
       "version_major": 2,
       "version_minor": 0
      },
      "text/plain": [
       "Batches:   0%|          | 0/1 [00:00<?, ?it/s]"
      ]
     },
     "metadata": {},
     "output_type": "display_data"
    },
    {
     "data": {
      "application/vnd.jupyter.widget-view+json": {
       "model_id": "20c9666052b44e5c8c51e125fc23c429",
       "version_major": 2,
       "version_minor": 0
      },
      "text/plain": [
       "Batches:   0%|          | 0/1 [00:00<?, ?it/s]"
      ]
     },
     "metadata": {},
     "output_type": "display_data"
    },
    {
     "data": {
      "application/vnd.jupyter.widget-view+json": {
       "model_id": "3a314c17a9fa4683a0d7d0c12d4635a1",
       "version_major": 2,
       "version_minor": 0
      },
      "text/plain": [
       "Batches:   0%|          | 0/1 [00:00<?, ?it/s]"
      ]
     },
     "metadata": {},
     "output_type": "display_data"
    },
    {
     "data": {
      "application/vnd.jupyter.widget-view+json": {
       "model_id": "98fc4f75ead04638bccc85d3157dad16",
       "version_major": 2,
       "version_minor": 0
      },
      "text/plain": [
       "Batches:   0%|          | 0/1 [00:00<?, ?it/s]"
      ]
     },
     "metadata": {},
     "output_type": "display_data"
    },
    {
     "data": {
      "application/vnd.jupyter.widget-view+json": {
       "model_id": "632c62c68cec4aee9693e000a9e6f7c8",
       "version_major": 2,
       "version_minor": 0
      },
      "text/plain": [
       "Batches:   0%|          | 0/1 [00:00<?, ?it/s]"
      ]
     },
     "metadata": {},
     "output_type": "display_data"
    },
    {
     "data": {
      "application/vnd.jupyter.widget-view+json": {
       "model_id": "e61723b864c04ef1be6eeec9a89141f4",
       "version_major": 2,
       "version_minor": 0
      },
      "text/plain": [
       "Batches:   0%|          | 0/1 [00:00<?, ?it/s]"
      ]
     },
     "metadata": {},
     "output_type": "display_data"
    },
    {
     "data": {
      "application/vnd.jupyter.widget-view+json": {
       "model_id": "7c2bb87b080c4d0e95798b3e43fbb041",
       "version_major": 2,
       "version_minor": 0
      },
      "text/plain": [
       "Batches:   0%|          | 0/1 [00:00<?, ?it/s]"
      ]
     },
     "metadata": {},
     "output_type": "display_data"
    },
    {
     "data": {
      "application/vnd.jupyter.widget-view+json": {
       "model_id": "6d6565bba84e471d9ca4f7a3cbfca368",
       "version_major": 2,
       "version_minor": 0
      },
      "text/plain": [
       "Batches:   0%|          | 0/1 [00:00<?, ?it/s]"
      ]
     },
     "metadata": {},
     "output_type": "display_data"
    },
    {
     "data": {
      "application/vnd.jupyter.widget-view+json": {
       "model_id": "d2e6049e45d14607aab360b33e10468b",
       "version_major": 2,
       "version_minor": 0
      },
      "text/plain": [
       "Batches:   0%|          | 0/1 [00:00<?, ?it/s]"
      ]
     },
     "metadata": {},
     "output_type": "display_data"
    },
    {
     "data": {
      "application/vnd.jupyter.widget-view+json": {
       "model_id": "aebd0088603549b194d50ec7860ecaeb",
       "version_major": 2,
       "version_minor": 0
      },
      "text/plain": [
       "Batches:   0%|          | 0/1 [00:00<?, ?it/s]"
      ]
     },
     "metadata": {},
     "output_type": "display_data"
    },
    {
     "data": {
      "application/vnd.jupyter.widget-view+json": {
       "model_id": "0badba051c804e6dab06e46013bf20c3",
       "version_major": 2,
       "version_minor": 0
      },
      "text/plain": [
       "Batches:   0%|          | 0/1 [00:00<?, ?it/s]"
      ]
     },
     "metadata": {},
     "output_type": "display_data"
    },
    {
     "data": {
      "application/vnd.jupyter.widget-view+json": {
       "model_id": "78f8a2eb99ea42a596d3bc54b990d47a",
       "version_major": 2,
       "version_minor": 0
      },
      "text/plain": [
       "Batches:   0%|          | 0/1 [00:00<?, ?it/s]"
      ]
     },
     "metadata": {},
     "output_type": "display_data"
    },
    {
     "data": {
      "application/vnd.jupyter.widget-view+json": {
       "model_id": "5ce3f00c65ef439d956b28183046e714",
       "version_major": 2,
       "version_minor": 0
      },
      "text/plain": [
       "Batches:   0%|          | 0/1 [00:00<?, ?it/s]"
      ]
     },
     "metadata": {},
     "output_type": "display_data"
    },
    {
     "data": {
      "application/vnd.jupyter.widget-view+json": {
       "model_id": "dd9c8591c98f49d28ed0946a1215d3e4",
       "version_major": 2,
       "version_minor": 0
      },
      "text/plain": [
       "Batches:   0%|          | 0/1 [00:00<?, ?it/s]"
      ]
     },
     "metadata": {},
     "output_type": "display_data"
    },
    {
     "data": {
      "application/vnd.jupyter.widget-view+json": {
       "model_id": "b494d0c9efd446a6b88acc54dd7e3cf1",
       "version_major": 2,
       "version_minor": 0
      },
      "text/plain": [
       "Batches:   0%|          | 0/1 [00:00<?, ?it/s]"
      ]
     },
     "metadata": {},
     "output_type": "display_data"
    },
    {
     "data": {
      "application/vnd.jupyter.widget-view+json": {
       "model_id": "d9ba37b3252040c189669f7a3a6e9800",
       "version_major": 2,
       "version_minor": 0
      },
      "text/plain": [
       "Batches:   0%|          | 0/1 [00:00<?, ?it/s]"
      ]
     },
     "metadata": {},
     "output_type": "display_data"
    },
    {
     "data": {
      "application/vnd.jupyter.widget-view+json": {
       "model_id": "ffd764af94a342908ded02b6f21cc0dc",
       "version_major": 2,
       "version_minor": 0
      },
      "text/plain": [
       "Batches:   0%|          | 0/1 [00:00<?, ?it/s]"
      ]
     },
     "metadata": {},
     "output_type": "display_data"
    },
    {
     "data": {
      "application/vnd.jupyter.widget-view+json": {
       "model_id": "c941be60e4854b6e8ae37681b8e67104",
       "version_major": 2,
       "version_minor": 0
      },
      "text/plain": [
       "Batches:   0%|          | 0/1 [00:00<?, ?it/s]"
      ]
     },
     "metadata": {},
     "output_type": "display_data"
    },
    {
     "data": {
      "application/vnd.jupyter.widget-view+json": {
       "model_id": "36745bc42787472eb00203b21d9f8cd7",
       "version_major": 2,
       "version_minor": 0
      },
      "text/plain": [
       "Batches:   0%|          | 0/1 [00:00<?, ?it/s]"
      ]
     },
     "metadata": {},
     "output_type": "display_data"
    },
    {
     "data": {
      "application/vnd.jupyter.widget-view+json": {
       "model_id": "f324004741944bd58967fb3545ca94cc",
       "version_major": 2,
       "version_minor": 0
      },
      "text/plain": [
       "Batches:   0%|          | 0/1 [00:00<?, ?it/s]"
      ]
     },
     "metadata": {},
     "output_type": "display_data"
    },
    {
     "data": {
      "application/vnd.jupyter.widget-view+json": {
       "model_id": "1cc9e6ace52b438e9d428a3edfa3ba99",
       "version_major": 2,
       "version_minor": 0
      },
      "text/plain": [
       "Batches:   0%|          | 0/1 [00:00<?, ?it/s]"
      ]
     },
     "metadata": {},
     "output_type": "display_data"
    },
    {
     "data": {
      "application/vnd.jupyter.widget-view+json": {
       "model_id": "c7cbc7b0398746fb948640ef13575e52",
       "version_major": 2,
       "version_minor": 0
      },
      "text/plain": [
       "Batches:   0%|          | 0/1 [00:00<?, ?it/s]"
      ]
     },
     "metadata": {},
     "output_type": "display_data"
    },
    {
     "data": {
      "application/vnd.jupyter.widget-view+json": {
       "model_id": "c2fcce8cfc8b48d7a40884e67fa1e0f8",
       "version_major": 2,
       "version_minor": 0
      },
      "text/plain": [
       "Batches:   0%|          | 0/1 [00:00<?, ?it/s]"
      ]
     },
     "metadata": {},
     "output_type": "display_data"
    },
    {
     "data": {
      "application/vnd.jupyter.widget-view+json": {
       "model_id": "9bad3b537a6f4be88770104e2539fb44",
       "version_major": 2,
       "version_minor": 0
      },
      "text/plain": [
       "Batches:   0%|          | 0/1 [00:00<?, ?it/s]"
      ]
     },
     "metadata": {},
     "output_type": "display_data"
    },
    {
     "data": {
      "application/vnd.jupyter.widget-view+json": {
       "model_id": "30b2faf744634f9591f82033a398bbc7",
       "version_major": 2,
       "version_minor": 0
      },
      "text/plain": [
       "Batches:   0%|          | 0/1 [00:00<?, ?it/s]"
      ]
     },
     "metadata": {},
     "output_type": "display_data"
    },
    {
     "data": {
      "application/vnd.jupyter.widget-view+json": {
       "model_id": "950005bc2dfb4be7ba20bf1289c5eb13",
       "version_major": 2,
       "version_minor": 0
      },
      "text/plain": [
       "Batches:   0%|          | 0/1 [00:00<?, ?it/s]"
      ]
     },
     "metadata": {},
     "output_type": "display_data"
    },
    {
     "data": {
      "application/vnd.jupyter.widget-view+json": {
       "model_id": "aeaab85c50e24ac68c5298db17495ccb",
       "version_major": 2,
       "version_minor": 0
      },
      "text/plain": [
       "Batches:   0%|          | 0/1 [00:00<?, ?it/s]"
      ]
     },
     "metadata": {},
     "output_type": "display_data"
    },
    {
     "data": {
      "application/vnd.jupyter.widget-view+json": {
       "model_id": "79393cfbbc094d1395c56d7d72d92bbd",
       "version_major": 2,
       "version_minor": 0
      },
      "text/plain": [
       "Batches:   0%|          | 0/1 [00:00<?, ?it/s]"
      ]
     },
     "metadata": {},
     "output_type": "display_data"
    },
    {
     "data": {
      "application/vnd.jupyter.widget-view+json": {
       "model_id": "3c7f54c569c64a03bdd05e9896ecece2",
       "version_major": 2,
       "version_minor": 0
      },
      "text/plain": [
       "Batches:   0%|          | 0/1 [00:00<?, ?it/s]"
      ]
     },
     "metadata": {},
     "output_type": "display_data"
    },
    {
     "data": {
      "application/vnd.jupyter.widget-view+json": {
       "model_id": "a9b813039dd247c5b1717bb1659e0823",
       "version_major": 2,
       "version_minor": 0
      },
      "text/plain": [
       "Batches:   0%|          | 0/1 [00:00<?, ?it/s]"
      ]
     },
     "metadata": {},
     "output_type": "display_data"
    },
    {
     "data": {
      "application/vnd.jupyter.widget-view+json": {
       "model_id": "f332b5f4b86648788cbc25c77bdb3d4a",
       "version_major": 2,
       "version_minor": 0
      },
      "text/plain": [
       "Batches:   0%|          | 0/1 [00:00<?, ?it/s]"
      ]
     },
     "metadata": {},
     "output_type": "display_data"
    },
    {
     "data": {
      "application/vnd.jupyter.widget-view+json": {
       "model_id": "8f693bbacd99482a9fa593fddd302595",
       "version_major": 2,
       "version_minor": 0
      },
      "text/plain": [
       "Batches:   0%|          | 0/1 [00:00<?, ?it/s]"
      ]
     },
     "metadata": {},
     "output_type": "display_data"
    },
    {
     "data": {
      "application/vnd.jupyter.widget-view+json": {
       "model_id": "c3e7086b8881481aae99e91a6f2e8ed0",
       "version_major": 2,
       "version_minor": 0
      },
      "text/plain": [
       "Batches:   0%|          | 0/1 [00:00<?, ?it/s]"
      ]
     },
     "metadata": {},
     "output_type": "display_data"
    },
    {
     "data": {
      "application/vnd.jupyter.widget-view+json": {
       "model_id": "70ad2e4d70ab4b80bb4ae551ec7cefae",
       "version_major": 2,
       "version_minor": 0
      },
      "text/plain": [
       "Batches:   0%|          | 0/1 [00:00<?, ?it/s]"
      ]
     },
     "metadata": {},
     "output_type": "display_data"
    },
    {
     "data": {
      "application/vnd.jupyter.widget-view+json": {
       "model_id": "24386c239514488588c7ef434c8d1fa1",
       "version_major": 2,
       "version_minor": 0
      },
      "text/plain": [
       "Batches:   0%|          | 0/1 [00:00<?, ?it/s]"
      ]
     },
     "metadata": {},
     "output_type": "display_data"
    },
    {
     "data": {
      "application/vnd.jupyter.widget-view+json": {
       "model_id": "5ab84d50495746ab86391ec27da4f545",
       "version_major": 2,
       "version_minor": 0
      },
      "text/plain": [
       "Batches:   0%|          | 0/1 [00:00<?, ?it/s]"
      ]
     },
     "metadata": {},
     "output_type": "display_data"
    },
    {
     "data": {
      "application/vnd.jupyter.widget-view+json": {
       "model_id": "372775d13e5744efa6ccb96daa215d66",
       "version_major": 2,
       "version_minor": 0
      },
      "text/plain": [
       "Batches:   0%|          | 0/1 [00:00<?, ?it/s]"
      ]
     },
     "metadata": {},
     "output_type": "display_data"
    },
    {
     "data": {
      "application/vnd.jupyter.widget-view+json": {
       "model_id": "fef9551b01a7438290251cc9f04a872b",
       "version_major": 2,
       "version_minor": 0
      },
      "text/plain": [
       "Batches:   0%|          | 0/1 [00:00<?, ?it/s]"
      ]
     },
     "metadata": {},
     "output_type": "display_data"
    },
    {
     "data": {
      "application/vnd.jupyter.widget-view+json": {
       "model_id": "4e7123ed35674c7580d0a0c6e5128cc8",
       "version_major": 2,
       "version_minor": 0
      },
      "text/plain": [
       "Batches:   0%|          | 0/1 [00:00<?, ?it/s]"
      ]
     },
     "metadata": {},
     "output_type": "display_data"
    },
    {
     "data": {
      "application/vnd.jupyter.widget-view+json": {
       "model_id": "f99cb9e7917246f08eef9cf6f786bd14",
       "version_major": 2,
       "version_minor": 0
      },
      "text/plain": [
       "Batches:   0%|          | 0/1 [00:00<?, ?it/s]"
      ]
     },
     "metadata": {},
     "output_type": "display_data"
    },
    {
     "data": {
      "application/vnd.jupyter.widget-view+json": {
       "model_id": "0a9602fa588b406caad835aa0741f9d0",
       "version_major": 2,
       "version_minor": 0
      },
      "text/plain": [
       "Batches:   0%|          | 0/1 [00:00<?, ?it/s]"
      ]
     },
     "metadata": {},
     "output_type": "display_data"
    },
    {
     "data": {
      "application/vnd.jupyter.widget-view+json": {
       "model_id": "0d15777517a54f1c8079471706b78a3b",
       "version_major": 2,
       "version_minor": 0
      },
      "text/plain": [
       "Batches:   0%|          | 0/1 [00:00<?, ?it/s]"
      ]
     },
     "metadata": {},
     "output_type": "display_data"
    },
    {
     "data": {
      "application/vnd.jupyter.widget-view+json": {
       "model_id": "861b4e15b9824631b8c9d8d7d214b302",
       "version_major": 2,
       "version_minor": 0
      },
      "text/plain": [
       "Batches:   0%|          | 0/1 [00:00<?, ?it/s]"
      ]
     },
     "metadata": {},
     "output_type": "display_data"
    },
    {
     "data": {
      "application/vnd.jupyter.widget-view+json": {
       "model_id": "aada7251ea8b4c1ca6d28fda6638af71",
       "version_major": 2,
       "version_minor": 0
      },
      "text/plain": [
       "Batches:   0%|          | 0/1 [00:00<?, ?it/s]"
      ]
     },
     "metadata": {},
     "output_type": "display_data"
    },
    {
     "data": {
      "application/vnd.jupyter.widget-view+json": {
       "model_id": "12ff2e67d9214c7a9ac91de82b1e5ace",
       "version_major": 2,
       "version_minor": 0
      },
      "text/plain": [
       "Batches:   0%|          | 0/1 [00:00<?, ?it/s]"
      ]
     },
     "metadata": {},
     "output_type": "display_data"
    },
    {
     "data": {
      "application/vnd.jupyter.widget-view+json": {
       "model_id": "f8e1492e928249c7bd73f146b59f1d2e",
       "version_major": 2,
       "version_minor": 0
      },
      "text/plain": [
       "Batches:   0%|          | 0/1 [00:00<?, ?it/s]"
      ]
     },
     "metadata": {},
     "output_type": "display_data"
    },
    {
     "data": {
      "application/vnd.jupyter.widget-view+json": {
       "model_id": "6640ef4dfc6f4230bb1b24f913f1cb8c",
       "version_major": 2,
       "version_minor": 0
      },
      "text/plain": [
       "Batches:   0%|          | 0/1 [00:00<?, ?it/s]"
      ]
     },
     "metadata": {},
     "output_type": "display_data"
    },
    {
     "data": {
      "application/vnd.jupyter.widget-view+json": {
       "model_id": "484d3ae7417e480994ebcc80ec2f409b",
       "version_major": 2,
       "version_minor": 0
      },
      "text/plain": [
       "Batches:   0%|          | 0/1 [00:00<?, ?it/s]"
      ]
     },
     "metadata": {},
     "output_type": "display_data"
    },
    {
     "data": {
      "application/vnd.jupyter.widget-view+json": {
       "model_id": "41c418e1467d48a89cb9709a570e7dcd",
       "version_major": 2,
       "version_minor": 0
      },
      "text/plain": [
       "Batches:   0%|          | 0/1 [00:00<?, ?it/s]"
      ]
     },
     "metadata": {},
     "output_type": "display_data"
    },
    {
     "data": {
      "application/vnd.jupyter.widget-view+json": {
       "model_id": "df92014be74944f29d78a95fb8b78e29",
       "version_major": 2,
       "version_minor": 0
      },
      "text/plain": [
       "Batches:   0%|          | 0/1 [00:00<?, ?it/s]"
      ]
     },
     "metadata": {},
     "output_type": "display_data"
    },
    {
     "data": {
      "application/vnd.jupyter.widget-view+json": {
       "model_id": "62541c30e3b44165a25868731a03fd53",
       "version_major": 2,
       "version_minor": 0
      },
      "text/plain": [
       "Batches:   0%|          | 0/1 [00:00<?, ?it/s]"
      ]
     },
     "metadata": {},
     "output_type": "display_data"
    },
    {
     "data": {
      "application/vnd.jupyter.widget-view+json": {
       "model_id": "e8367d6f6ed743869f44817ffb3c62d4",
       "version_major": 2,
       "version_minor": 0
      },
      "text/plain": [
       "Batches:   0%|          | 0/1 [00:00<?, ?it/s]"
      ]
     },
     "metadata": {},
     "output_type": "display_data"
    },
    {
     "data": {
      "application/vnd.jupyter.widget-view+json": {
       "model_id": "60955095272942ebb32c7db5d4e683ae",
       "version_major": 2,
       "version_minor": 0
      },
      "text/plain": [
       "Batches:   0%|          | 0/1 [00:00<?, ?it/s]"
      ]
     },
     "metadata": {},
     "output_type": "display_data"
    },
    {
     "data": {
      "application/vnd.jupyter.widget-view+json": {
       "model_id": "d9548117839a44aabde5c1a4b3a17f1a",
       "version_major": 2,
       "version_minor": 0
      },
      "text/plain": [
       "Batches:   0%|          | 0/1 [00:00<?, ?it/s]"
      ]
     },
     "metadata": {},
     "output_type": "display_data"
    },
    {
     "data": {
      "application/vnd.jupyter.widget-view+json": {
       "model_id": "47d981c99cd4404784f5d8f270e97a5a",
       "version_major": 2,
       "version_minor": 0
      },
      "text/plain": [
       "Batches:   0%|          | 0/1 [00:00<?, ?it/s]"
      ]
     },
     "metadata": {},
     "output_type": "display_data"
    },
    {
     "data": {
      "application/vnd.jupyter.widget-view+json": {
       "model_id": "d3a4bfb84dea4a148e0be53fc7e0cfb4",
       "version_major": 2,
       "version_minor": 0
      },
      "text/plain": [
       "Batches:   0%|          | 0/1 [00:00<?, ?it/s]"
      ]
     },
     "metadata": {},
     "output_type": "display_data"
    },
    {
     "data": {
      "application/vnd.jupyter.widget-view+json": {
       "model_id": "445c77a3e5d14072b7d78f1103de776b",
       "version_major": 2,
       "version_minor": 0
      },
      "text/plain": [
       "Batches:   0%|          | 0/1 [00:00<?, ?it/s]"
      ]
     },
     "metadata": {},
     "output_type": "display_data"
    },
    {
     "data": {
      "application/vnd.jupyter.widget-view+json": {
       "model_id": "a837e9221f954014a998656d59a0b0c1",
       "version_major": 2,
       "version_minor": 0
      },
      "text/plain": [
       "Batches:   0%|          | 0/1 [00:00<?, ?it/s]"
      ]
     },
     "metadata": {},
     "output_type": "display_data"
    },
    {
     "data": {
      "application/vnd.jupyter.widget-view+json": {
       "model_id": "93849a0d65e141f987bcd10aad53d511",
       "version_major": 2,
       "version_minor": 0
      },
      "text/plain": [
       "Batches:   0%|          | 0/1 [00:00<?, ?it/s]"
      ]
     },
     "metadata": {},
     "output_type": "display_data"
    },
    {
     "data": {
      "application/vnd.jupyter.widget-view+json": {
       "model_id": "af5b8246fee9444ab6691456ebed510b",
       "version_major": 2,
       "version_minor": 0
      },
      "text/plain": [
       "Batches:   0%|          | 0/1 [00:00<?, ?it/s]"
      ]
     },
     "metadata": {},
     "output_type": "display_data"
    },
    {
     "data": {
      "application/vnd.jupyter.widget-view+json": {
       "model_id": "6c6a4e2018a84ace8ca876a7957d98bd",
       "version_major": 2,
       "version_minor": 0
      },
      "text/plain": [
       "Batches:   0%|          | 0/1 [00:00<?, ?it/s]"
      ]
     },
     "metadata": {},
     "output_type": "display_data"
    },
    {
     "data": {
      "application/vnd.jupyter.widget-view+json": {
       "model_id": "4e7e00b8d2db41fd9d8920a3b7130815",
       "version_major": 2,
       "version_minor": 0
      },
      "text/plain": [
       "Batches:   0%|          | 0/1 [00:00<?, ?it/s]"
      ]
     },
     "metadata": {},
     "output_type": "display_data"
    },
    {
     "data": {
      "application/vnd.jupyter.widget-view+json": {
       "model_id": "1777dc530454460cb313d8c34bdbac26",
       "version_major": 2,
       "version_minor": 0
      },
      "text/plain": [
       "Batches:   0%|          | 0/1 [00:00<?, ?it/s]"
      ]
     },
     "metadata": {},
     "output_type": "display_data"
    },
    {
     "data": {
      "application/vnd.jupyter.widget-view+json": {
       "model_id": "e556530f84c54f42aad649c685fa775c",
       "version_major": 2,
       "version_minor": 0
      },
      "text/plain": [
       "Batches:   0%|          | 0/1 [00:00<?, ?it/s]"
      ]
     },
     "metadata": {},
     "output_type": "display_data"
    },
    {
     "data": {
      "application/vnd.jupyter.widget-view+json": {
       "model_id": "19a063d8f1ca4349a65c171d61d3ef94",
       "version_major": 2,
       "version_minor": 0
      },
      "text/plain": [
       "Batches:   0%|          | 0/1 [00:00<?, ?it/s]"
      ]
     },
     "metadata": {},
     "output_type": "display_data"
    },
    {
     "data": {
      "application/vnd.jupyter.widget-view+json": {
       "model_id": "78fa2d50d3c946a2b8d326f1691d5af8",
       "version_major": 2,
       "version_minor": 0
      },
      "text/plain": [
       "Batches:   0%|          | 0/1 [00:00<?, ?it/s]"
      ]
     },
     "metadata": {},
     "output_type": "display_data"
    },
    {
     "data": {
      "application/vnd.jupyter.widget-view+json": {
       "model_id": "0eeec6e12e3a472c9ff24484572f8b03",
       "version_major": 2,
       "version_minor": 0
      },
      "text/plain": [
       "Batches:   0%|          | 0/1 [00:00<?, ?it/s]"
      ]
     },
     "metadata": {},
     "output_type": "display_data"
    },
    {
     "data": {
      "application/vnd.jupyter.widget-view+json": {
       "model_id": "d1c44131681a4ac4a23c48486ce6b252",
       "version_major": 2,
       "version_minor": 0
      },
      "text/plain": [
       "Batches:   0%|          | 0/1 [00:00<?, ?it/s]"
      ]
     },
     "metadata": {},
     "output_type": "display_data"
    },
    {
     "data": {
      "application/vnd.jupyter.widget-view+json": {
       "model_id": "e0a821fe735d409b9ddd5be922fe7b70",
       "version_major": 2,
       "version_minor": 0
      },
      "text/plain": [
       "Batches:   0%|          | 0/1 [00:00<?, ?it/s]"
      ]
     },
     "metadata": {},
     "output_type": "display_data"
    },
    {
     "data": {
      "application/vnd.jupyter.widget-view+json": {
       "model_id": "ff10f373ef2f4f0f9e555abab6d15584",
       "version_major": 2,
       "version_minor": 0
      },
      "text/plain": [
       "Batches:   0%|          | 0/1 [00:00<?, ?it/s]"
      ]
     },
     "metadata": {},
     "output_type": "display_data"
    },
    {
     "data": {
      "application/vnd.jupyter.widget-view+json": {
       "model_id": "1b4ef0f562bb42559b01738cdb98eede",
       "version_major": 2,
       "version_minor": 0
      },
      "text/plain": [
       "Batches:   0%|          | 0/1 [00:00<?, ?it/s]"
      ]
     },
     "metadata": {},
     "output_type": "display_data"
    },
    {
     "data": {
      "application/vnd.jupyter.widget-view+json": {
       "model_id": "05ef1f057211438ba352ff2809de78cf",
       "version_major": 2,
       "version_minor": 0
      },
      "text/plain": [
       "Batches:   0%|          | 0/1 [00:00<?, ?it/s]"
      ]
     },
     "metadata": {},
     "output_type": "display_data"
    },
    {
     "data": {
      "application/vnd.jupyter.widget-view+json": {
       "model_id": "f9a00f9f5d64458583046581c83fbf18",
       "version_major": 2,
       "version_minor": 0
      },
      "text/plain": [
       "Batches:   0%|          | 0/1 [00:00<?, ?it/s]"
      ]
     },
     "metadata": {},
     "output_type": "display_data"
    },
    {
     "data": {
      "application/vnd.jupyter.widget-view+json": {
       "model_id": "c141330893f742c9a4db1c678fb82072",
       "version_major": 2,
       "version_minor": 0
      },
      "text/plain": [
       "Batches:   0%|          | 0/1 [00:00<?, ?it/s]"
      ]
     },
     "metadata": {},
     "output_type": "display_data"
    },
    {
     "data": {
      "application/vnd.jupyter.widget-view+json": {
       "model_id": "c59093dd43214cfab118f0d529b50ebe",
       "version_major": 2,
       "version_minor": 0
      },
      "text/plain": [
       "Batches:   0%|          | 0/1 [00:00<?, ?it/s]"
      ]
     },
     "metadata": {},
     "output_type": "display_data"
    },
    {
     "data": {
      "application/vnd.jupyter.widget-view+json": {
       "model_id": "0fc3ee03e8d34b558289f56cc2b9d601",
       "version_major": 2,
       "version_minor": 0
      },
      "text/plain": [
       "Batches:   0%|          | 0/1 [00:00<?, ?it/s]"
      ]
     },
     "metadata": {},
     "output_type": "display_data"
    },
    {
     "data": {
      "application/vnd.jupyter.widget-view+json": {
       "model_id": "42a827acdc174081928cd9e0ed437feb",
       "version_major": 2,
       "version_minor": 0
      },
      "text/plain": [
       "Batches:   0%|          | 0/1 [00:00<?, ?it/s]"
      ]
     },
     "metadata": {},
     "output_type": "display_data"
    },
    {
     "data": {
      "application/vnd.jupyter.widget-view+json": {
       "model_id": "bcd7b3df7f884af492e05a35152f36cb",
       "version_major": 2,
       "version_minor": 0
      },
      "text/plain": [
       "Batches:   0%|          | 0/1 [00:00<?, ?it/s]"
      ]
     },
     "metadata": {},
     "output_type": "display_data"
    },
    {
     "data": {
      "application/vnd.jupyter.widget-view+json": {
       "model_id": "2a07bca46c1f4231b6a7ebbed9e0bdc2",
       "version_major": 2,
       "version_minor": 0
      },
      "text/plain": [
       "Batches:   0%|          | 0/1 [00:00<?, ?it/s]"
      ]
     },
     "metadata": {},
     "output_type": "display_data"
    },
    {
     "data": {
      "application/vnd.jupyter.widget-view+json": {
       "model_id": "3d463fa9220b4b82af0a659316210b77",
       "version_major": 2,
       "version_minor": 0
      },
      "text/plain": [
       "Batches:   0%|          | 0/1 [00:00<?, ?it/s]"
      ]
     },
     "metadata": {},
     "output_type": "display_data"
    },
    {
     "data": {
      "application/vnd.jupyter.widget-view+json": {
       "model_id": "e6da66b4c9e8471e98c574bf8fda2775",
       "version_major": 2,
       "version_minor": 0
      },
      "text/plain": [
       "Batches:   0%|          | 0/1 [00:00<?, ?it/s]"
      ]
     },
     "metadata": {},
     "output_type": "display_data"
    },
    {
     "data": {
      "application/vnd.jupyter.widget-view+json": {
       "model_id": "76c061f64c2b48eb867cf7533cb88899",
       "version_major": 2,
       "version_minor": 0
      },
      "text/plain": [
       "Batches:   0%|          | 0/1 [00:00<?, ?it/s]"
      ]
     },
     "metadata": {},
     "output_type": "display_data"
    },
    {
     "data": {
      "application/vnd.jupyter.widget-view+json": {
       "model_id": "2df21fdb9fad40e08bc1ea9a8ba0dde3",
       "version_major": 2,
       "version_minor": 0
      },
      "text/plain": [
       "Batches:   0%|          | 0/1 [00:00<?, ?it/s]"
      ]
     },
     "metadata": {},
     "output_type": "display_data"
    },
    {
     "data": {
      "text/html": [
       "<div>\n",
       "<style scoped>\n",
       "    .dataframe tbody tr th:only-of-type {\n",
       "        vertical-align: middle;\n",
       "    }\n",
       "\n",
       "    .dataframe tbody tr th {\n",
       "        vertical-align: top;\n",
       "    }\n",
       "\n",
       "    .dataframe thead th {\n",
       "        text-align: right;\n",
       "    }\n",
       "</style>\n",
       "<table border=\"1\" class=\"dataframe\">\n",
       "  <thead>\n",
       "    <tr style=\"text-align: right;\">\n",
       "      <th></th>\n",
       "      <th>endpoint_name</th>\n",
       "      <th>prompt</th>\n",
       "      <th>ground_truth</th>\n",
       "      <th>temperature</th>\n",
       "      <th>max_tokens</th>\n",
       "      <th>top_p</th>\n",
       "      <th>completion</th>\n",
       "      <th>prompt_tokens</th>\n",
       "      <th>completion_tokens</th>\n",
       "      <th>latency</th>\n",
       "      <th>...</th>\n",
       "      <th>uuid</th>\n",
       "      <th>experiment_name</th>\n",
       "      <th>concurrency</th>\n",
       "      <th>instance_type</th>\n",
       "      <th>instance_count</th>\n",
       "      <th>EndpointName</th>\n",
       "      <th>ModelName</th>\n",
       "      <th>Image</th>\n",
       "      <th>S3Uri</th>\n",
       "      <th>cosine_similarity_score</th>\n",
       "    </tr>\n",
       "  </thead>\n",
       "  <tbody>\n",
       "    <tr>\n",
       "      <th>0</th>\n",
       "      <td>mistral.mistral-7b-instruct-v0:2</td>\n",
       "      <td>&lt;s&gt;[INST] &lt;&lt;SYS&gt;&gt;\\nYou are an assistant for qu...</td>\n",
       "      <td>a genus of flowering plant in the Lardizabalac...</td>\n",
       "      <td>0.1</td>\n",
       "      <td>100</td>\n",
       "      <td>0.92</td>\n",
       "      <td>The genera Sinofranchetia and Stauntonia belon...</td>\n",
       "      <td>319</td>\n",
       "      <td>26</td>\n",
       "      <td>0.440897</td>\n",
       "      <td>...</td>\n",
       "      <td>6e77fb90ea804956a115b0268df059b0</td>\n",
       "      <td>mistral.mistral-7b-instruct-v0:2</td>\n",
       "      <td>1</td>\n",
       "      <td>mistral.mistral-7b-instruct-v0:2</td>\n",
       "      <td>1.0</td>\n",
       "      <td>NaN</td>\n",
       "      <td>NaN</td>\n",
       "      <td>NaN</td>\n",
       "      <td>NaN</td>\n",
       "      <td>0.710724</td>\n",
       "    </tr>\n",
       "    <tr>\n",
       "      <th>1</th>\n",
       "      <td>mistral.mistral-7b-instruct-v0:2</td>\n",
       "      <td>&lt;s&gt;[INST] &lt;&lt;SYS&gt;&gt;\\nYou are an assistant for qu...</td>\n",
       "      <td>a genus of flowering plant in the Lardizabalac...</td>\n",
       "      <td>0.1</td>\n",
       "      <td>100</td>\n",
       "      <td>0.92</td>\n",
       "      <td>The genera Sinofranchetia and Stauntonia belon...</td>\n",
       "      <td>319</td>\n",
       "      <td>26</td>\n",
       "      <td>0.450330</td>\n",
       "      <td>...</td>\n",
       "      <td>82d04de71238454a9bbe05f520f22cb0</td>\n",
       "      <td>mistral.mistral-7b-instruct-v0:2</td>\n",
       "      <td>1</td>\n",
       "      <td>mistral.mistral-7b-instruct-v0:2</td>\n",
       "      <td>1.0</td>\n",
       "      <td>NaN</td>\n",
       "      <td>NaN</td>\n",
       "      <td>NaN</td>\n",
       "      <td>NaN</td>\n",
       "      <td>0.710724</td>\n",
       "    </tr>\n",
       "    <tr>\n",
       "      <th>2</th>\n",
       "      <td>mistral.mistral-7b-instruct-v0:2</td>\n",
       "      <td>&lt;s&gt;[INST] &lt;&lt;SYS&gt;&gt;\\nYou are an assistant for qu...</td>\n",
       "      <td>a genus of flowering plant in the Lardizabalac...</td>\n",
       "      <td>0.1</td>\n",
       "      <td>100</td>\n",
       "      <td>0.92</td>\n",
       "      <td>The genera Sinofranchetia and Stauntonia belon...</td>\n",
       "      <td>319</td>\n",
       "      <td>26</td>\n",
       "      <td>0.461762</td>\n",
       "      <td>...</td>\n",
       "      <td>22303e132fb646aa86b938083660dce8</td>\n",
       "      <td>mistral.mistral-7b-instruct-v0:2</td>\n",
       "      <td>1</td>\n",
       "      <td>mistral.mistral-7b-instruct-v0:2</td>\n",
       "      <td>1.0</td>\n",
       "      <td>NaN</td>\n",
       "      <td>NaN</td>\n",
       "      <td>NaN</td>\n",
       "      <td>NaN</td>\n",
       "      <td>0.710724</td>\n",
       "    </tr>\n",
       "    <tr>\n",
       "      <th>3</th>\n",
       "      <td>mistral.mistral-7b-instruct-v0:2</td>\n",
       "      <td>&lt;s&gt;[INST] &lt;&lt;SYS&gt;&gt;\\nYou are an assistant for qu...</td>\n",
       "      <td>a genus of flowering plant in the Lardizabalac...</td>\n",
       "      <td>0.1</td>\n",
       "      <td>100</td>\n",
       "      <td>0.92</td>\n",
       "      <td>The genera Sinofranchetia and Stauntonia belon...</td>\n",
       "      <td>319</td>\n",
       "      <td>26</td>\n",
       "      <td>0.453813</td>\n",
       "      <td>...</td>\n",
       "      <td>715d1d30b18244279ff5c0fbf112f245</td>\n",
       "      <td>mistral.mistral-7b-instruct-v0:2</td>\n",
       "      <td>1</td>\n",
       "      <td>mistral.mistral-7b-instruct-v0:2</td>\n",
       "      <td>1.0</td>\n",
       "      <td>NaN</td>\n",
       "      <td>NaN</td>\n",
       "      <td>NaN</td>\n",
       "      <td>NaN</td>\n",
       "      <td>0.710724</td>\n",
       "    </tr>\n",
       "    <tr>\n",
       "      <th>4</th>\n",
       "      <td>mistral.mistral-7b-instruct-v0:2</td>\n",
       "      <td>&lt;s&gt;[INST] &lt;&lt;SYS&gt;&gt;\\nYou are an assistant for qu...</td>\n",
       "      <td>a genus of flowering plant in the Lardizabalac...</td>\n",
       "      <td>0.1</td>\n",
       "      <td>100</td>\n",
       "      <td>0.92</td>\n",
       "      <td>The genera Sinofranchetia and Stauntonia belon...</td>\n",
       "      <td>319</td>\n",
       "      <td>26</td>\n",
       "      <td>0.435938</td>\n",
       "      <td>...</td>\n",
       "      <td>6ede1f51a3d143f09377dda35107693a</td>\n",
       "      <td>mistral.mistral-7b-instruct-v0:2</td>\n",
       "      <td>1</td>\n",
       "      <td>mistral.mistral-7b-instruct-v0:2</td>\n",
       "      <td>1.0</td>\n",
       "      <td>NaN</td>\n",
       "      <td>NaN</td>\n",
       "      <td>NaN</td>\n",
       "      <td>NaN</td>\n",
       "      <td>0.710724</td>\n",
       "    </tr>\n",
       "  </tbody>\n",
       "</table>\n",
       "<p>5 rows × 23 columns</p>\n",
       "</div>"
      ],
      "text/plain": [
       "                      endpoint_name  \\\n",
       "0  mistral.mistral-7b-instruct-v0:2   \n",
       "1  mistral.mistral-7b-instruct-v0:2   \n",
       "2  mistral.mistral-7b-instruct-v0:2   \n",
       "3  mistral.mistral-7b-instruct-v0:2   \n",
       "4  mistral.mistral-7b-instruct-v0:2   \n",
       "\n",
       "                                              prompt  \\\n",
       "0  <s>[INST] <<SYS>>\\nYou are an assistant for qu...   \n",
       "1  <s>[INST] <<SYS>>\\nYou are an assistant for qu...   \n",
       "2  <s>[INST] <<SYS>>\\nYou are an assistant for qu...   \n",
       "3  <s>[INST] <<SYS>>\\nYou are an assistant for qu...   \n",
       "4  <s>[INST] <<SYS>>\\nYou are an assistant for qu...   \n",
       "\n",
       "                                        ground_truth  temperature  max_tokens  \\\n",
       "0  a genus of flowering plant in the Lardizabalac...          0.1         100   \n",
       "1  a genus of flowering plant in the Lardizabalac...          0.1         100   \n",
       "2  a genus of flowering plant in the Lardizabalac...          0.1         100   \n",
       "3  a genus of flowering plant in the Lardizabalac...          0.1         100   \n",
       "4  a genus of flowering plant in the Lardizabalac...          0.1         100   \n",
       "\n",
       "   top_p                                         completion  prompt_tokens  \\\n",
       "0   0.92  The genera Sinofranchetia and Stauntonia belon...            319   \n",
       "1   0.92  The genera Sinofranchetia and Stauntonia belon...            319   \n",
       "2   0.92  The genera Sinofranchetia and Stauntonia belon...            319   \n",
       "3   0.92  The genera Sinofranchetia and Stauntonia belon...            319   \n",
       "4   0.92  The genera Sinofranchetia and Stauntonia belon...            319   \n",
       "\n",
       "   completion_tokens   latency  ...                              uuid  \\\n",
       "0                 26  0.440897  ...  6e77fb90ea804956a115b0268df059b0   \n",
       "1                 26  0.450330  ...  82d04de71238454a9bbe05f520f22cb0   \n",
       "2                 26  0.461762  ...  22303e132fb646aa86b938083660dce8   \n",
       "3                 26  0.453813  ...  715d1d30b18244279ff5c0fbf112f245   \n",
       "4                 26  0.435938  ...  6ede1f51a3d143f09377dda35107693a   \n",
       "\n",
       "                    experiment_name  concurrency  \\\n",
       "0  mistral.mistral-7b-instruct-v0:2            1   \n",
       "1  mistral.mistral-7b-instruct-v0:2            1   \n",
       "2  mistral.mistral-7b-instruct-v0:2            1   \n",
       "3  mistral.mistral-7b-instruct-v0:2            1   \n",
       "4  mistral.mistral-7b-instruct-v0:2            1   \n",
       "\n",
       "                      instance_type instance_count  EndpointName ModelName  \\\n",
       "0  mistral.mistral-7b-instruct-v0:2            1.0           NaN       NaN   \n",
       "1  mistral.mistral-7b-instruct-v0:2            1.0           NaN       NaN   \n",
       "2  mistral.mistral-7b-instruct-v0:2            1.0           NaN       NaN   \n",
       "3  mistral.mistral-7b-instruct-v0:2            1.0           NaN       NaN   \n",
       "4  mistral.mistral-7b-instruct-v0:2            1.0           NaN       NaN   \n",
       "\n",
       "   Image  S3Uri  cosine_similarity_score  \n",
       "0    NaN    NaN                 0.710724  \n",
       "1    NaN    NaN                 0.710724  \n",
       "2    NaN    NaN                 0.710724  \n",
       "3    NaN    NaN                 0.710724  \n",
       "4    NaN    NaN                 0.710724  \n",
       "\n",
       "[5 rows x 23 columns]"
      ]
     },
     "execution_count": 11,
     "metadata": {},
     "output_type": "execute_result"
    }
   ],
   "source": [
    "# get the quantitiative evaluation information from the config file, such as the embeddings model\n",
    "# to be used\n",
    "embeddings_model_quantitative_info: Dict = config['model_evaluations']['quantitative_eval_info']\n",
    "\n",
    "\n",
    "def load_model():\n",
    "    \"\"\"\n",
    "    This function loads the sentence-transformers model based on the provided model ID.\n",
    "    \"\"\"\n",
    "    model_id = embeddings_model_quantitative_info['embeddings_model_id'].get('model_id', None)\n",
    "    if model_id:\n",
    "        model = SentenceTransformer(model_id)\n",
    "        return model\n",
    "    else:\n",
    "        raise ValueError(\"Model ID is not provided or invalid in the configuration.\")\n",
    "\n",
    "\n",
    "# Load the model\n",
    "model = load_model()\n",
    "\n",
    "\n",
    "def get_embeddings(text: str) -> torch.Tensor:\n",
    "    \"\"\"\n",
    "    This function returns the embedding for a given text using the sentence-transformers model.\n",
    "    \"\"\"\n",
    "    return model.encode([text])[0]  # Return the first element to get the embedding\n",
    "\n",
    "\n",
    "def get_cosine_similarity(text1: str, text2: str) -> float:\n",
    "    \"\"\"\n",
    "    This function calculates the cosine similarity between two texts.\n",
    "    \"\"\"\n",
    "    A = get_embeddings(text1)\n",
    "    B = get_embeddings(text2)\n",
    "    cosine = dot(A, B) / (norm(A) * norm(B))\n",
    "    return cosine\n",
    "\n",
    "# Assuming df_per_inference is your DataFrame\n",
    "df_per_inference['cosine_similarity_score'] = df_per_inference.apply(\n",
    "    lambda row: get_cosine_similarity(row['completion'], row['ground_truth']), axis=1\n",
    ")\n",
    "df_per_inference.head()"
   ]
  },
  {
   "cell_type": "code",
   "execution_count": 12,
   "metadata": {
    "tags": []
   },
   "outputs": [
    {
     "name": "stderr",
     "output_type": "stream",
     "text": [
      "[2024-07-12 15:11:12,682] p22383 {100736689.py:15} INFO - Per inference cosine similarity scores saved to s3://sagemaker-fmbench-write-us-west-2-387192758086/fmbench-bedrock-fmbench-stack-us-west-2-role/data/metrics/yyyy=2024/mm=07/dd=12/hh=15/mm=10/per_inference_cosine_similarity.csv\n"
     ]
    },
    {
     "data": {
      "text/html": [
       "<div>\n",
       "<style scoped>\n",
       "    .dataframe tbody tr th:only-of-type {\n",
       "        vertical-align: middle;\n",
       "    }\n",
       "\n",
       "    .dataframe tbody tr th {\n",
       "        vertical-align: top;\n",
       "    }\n",
       "\n",
       "    .dataframe thead th {\n",
       "        text-align: right;\n",
       "    }\n",
       "</style>\n",
       "<table border=\"1\" class=\"dataframe\">\n",
       "  <thead>\n",
       "    <tr style=\"text-align: right;\">\n",
       "      <th></th>\n",
       "      <th>endpoint_name</th>\n",
       "      <th>prompt</th>\n",
       "      <th>ground_truth</th>\n",
       "      <th>temperature</th>\n",
       "      <th>max_tokens</th>\n",
       "      <th>top_p</th>\n",
       "      <th>completion</th>\n",
       "      <th>prompt_tokens</th>\n",
       "      <th>completion_tokens</th>\n",
       "      <th>latency</th>\n",
       "      <th>...</th>\n",
       "      <th>uuid</th>\n",
       "      <th>experiment_name</th>\n",
       "      <th>concurrency</th>\n",
       "      <th>instance_type</th>\n",
       "      <th>instance_count</th>\n",
       "      <th>EndpointName</th>\n",
       "      <th>ModelName</th>\n",
       "      <th>Image</th>\n",
       "      <th>S3Uri</th>\n",
       "      <th>cosine_similarity_score</th>\n",
       "    </tr>\n",
       "  </thead>\n",
       "  <tbody>\n",
       "    <tr>\n",
       "      <th>0</th>\n",
       "      <td>mistral.mistral-7b-instruct-v0:2</td>\n",
       "      <td>&lt;s&gt;[INST] &lt;&lt;SYS&gt;&gt;\\nYou are an assistant for qu...</td>\n",
       "      <td>a genus of flowering plant in the Lardizabalac...</td>\n",
       "      <td>0.1</td>\n",
       "      <td>100</td>\n",
       "      <td>0.92</td>\n",
       "      <td>The genera Sinofranchetia and Stauntonia belon...</td>\n",
       "      <td>319</td>\n",
       "      <td>26</td>\n",
       "      <td>0.440897</td>\n",
       "      <td>...</td>\n",
       "      <td>6e77fb90ea804956a115b0268df059b0</td>\n",
       "      <td>mistral.mistral-7b-instruct-v0:2</td>\n",
       "      <td>1</td>\n",
       "      <td>mistral.mistral-7b-instruct-v0:2</td>\n",
       "      <td>1.0</td>\n",
       "      <td>NaN</td>\n",
       "      <td>NaN</td>\n",
       "      <td>NaN</td>\n",
       "      <td>NaN</td>\n",
       "      <td>0.710724</td>\n",
       "    </tr>\n",
       "    <tr>\n",
       "      <th>1</th>\n",
       "      <td>mistral.mistral-7b-instruct-v0:2</td>\n",
       "      <td>&lt;s&gt;[INST] &lt;&lt;SYS&gt;&gt;\\nYou are an assistant for qu...</td>\n",
       "      <td>a genus of flowering plant in the Lardizabalac...</td>\n",
       "      <td>0.1</td>\n",
       "      <td>100</td>\n",
       "      <td>0.92</td>\n",
       "      <td>The genera Sinofranchetia and Stauntonia belon...</td>\n",
       "      <td>319</td>\n",
       "      <td>26</td>\n",
       "      <td>0.450330</td>\n",
       "      <td>...</td>\n",
       "      <td>82d04de71238454a9bbe05f520f22cb0</td>\n",
       "      <td>mistral.mistral-7b-instruct-v0:2</td>\n",
       "      <td>1</td>\n",
       "      <td>mistral.mistral-7b-instruct-v0:2</td>\n",
       "      <td>1.0</td>\n",
       "      <td>NaN</td>\n",
       "      <td>NaN</td>\n",
       "      <td>NaN</td>\n",
       "      <td>NaN</td>\n",
       "      <td>0.710724</td>\n",
       "    </tr>\n",
       "    <tr>\n",
       "      <th>2</th>\n",
       "      <td>mistral.mistral-7b-instruct-v0:2</td>\n",
       "      <td>&lt;s&gt;[INST] &lt;&lt;SYS&gt;&gt;\\nYou are an assistant for qu...</td>\n",
       "      <td>a genus of flowering plant in the Lardizabalac...</td>\n",
       "      <td>0.1</td>\n",
       "      <td>100</td>\n",
       "      <td>0.92</td>\n",
       "      <td>The genera Sinofranchetia and Stauntonia belon...</td>\n",
       "      <td>319</td>\n",
       "      <td>26</td>\n",
       "      <td>0.461762</td>\n",
       "      <td>...</td>\n",
       "      <td>22303e132fb646aa86b938083660dce8</td>\n",
       "      <td>mistral.mistral-7b-instruct-v0:2</td>\n",
       "      <td>1</td>\n",
       "      <td>mistral.mistral-7b-instruct-v0:2</td>\n",
       "      <td>1.0</td>\n",
       "      <td>NaN</td>\n",
       "      <td>NaN</td>\n",
       "      <td>NaN</td>\n",
       "      <td>NaN</td>\n",
       "      <td>0.710724</td>\n",
       "    </tr>\n",
       "    <tr>\n",
       "      <th>3</th>\n",
       "      <td>mistral.mistral-7b-instruct-v0:2</td>\n",
       "      <td>&lt;s&gt;[INST] &lt;&lt;SYS&gt;&gt;\\nYou are an assistant for qu...</td>\n",
       "      <td>a genus of flowering plant in the Lardizabalac...</td>\n",
       "      <td>0.1</td>\n",
       "      <td>100</td>\n",
       "      <td>0.92</td>\n",
       "      <td>The genera Sinofranchetia and Stauntonia belon...</td>\n",
       "      <td>319</td>\n",
       "      <td>26</td>\n",
       "      <td>0.453813</td>\n",
       "      <td>...</td>\n",
       "      <td>715d1d30b18244279ff5c0fbf112f245</td>\n",
       "      <td>mistral.mistral-7b-instruct-v0:2</td>\n",
       "      <td>1</td>\n",
       "      <td>mistral.mistral-7b-instruct-v0:2</td>\n",
       "      <td>1.0</td>\n",
       "      <td>NaN</td>\n",
       "      <td>NaN</td>\n",
       "      <td>NaN</td>\n",
       "      <td>NaN</td>\n",
       "      <td>0.710724</td>\n",
       "    </tr>\n",
       "    <tr>\n",
       "      <th>4</th>\n",
       "      <td>mistral.mistral-7b-instruct-v0:2</td>\n",
       "      <td>&lt;s&gt;[INST] &lt;&lt;SYS&gt;&gt;\\nYou are an assistant for qu...</td>\n",
       "      <td>a genus of flowering plant in the Lardizabalac...</td>\n",
       "      <td>0.1</td>\n",
       "      <td>100</td>\n",
       "      <td>0.92</td>\n",
       "      <td>The genera Sinofranchetia and Stauntonia belon...</td>\n",
       "      <td>319</td>\n",
       "      <td>26</td>\n",
       "      <td>0.435938</td>\n",
       "      <td>...</td>\n",
       "      <td>6ede1f51a3d143f09377dda35107693a</td>\n",
       "      <td>mistral.mistral-7b-instruct-v0:2</td>\n",
       "      <td>1</td>\n",
       "      <td>mistral.mistral-7b-instruct-v0:2</td>\n",
       "      <td>1.0</td>\n",
       "      <td>NaN</td>\n",
       "      <td>NaN</td>\n",
       "      <td>NaN</td>\n",
       "      <td>NaN</td>\n",
       "      <td>0.710724</td>\n",
       "    </tr>\n",
       "  </tbody>\n",
       "</table>\n",
       "<p>5 rows × 23 columns</p>\n",
       "</div>"
      ],
      "text/plain": [
       "                      endpoint_name  \\\n",
       "0  mistral.mistral-7b-instruct-v0:2   \n",
       "1  mistral.mistral-7b-instruct-v0:2   \n",
       "2  mistral.mistral-7b-instruct-v0:2   \n",
       "3  mistral.mistral-7b-instruct-v0:2   \n",
       "4  mistral.mistral-7b-instruct-v0:2   \n",
       "\n",
       "                                              prompt  \\\n",
       "0  <s>[INST] <<SYS>>\\nYou are an assistant for qu...   \n",
       "1  <s>[INST] <<SYS>>\\nYou are an assistant for qu...   \n",
       "2  <s>[INST] <<SYS>>\\nYou are an assistant for qu...   \n",
       "3  <s>[INST] <<SYS>>\\nYou are an assistant for qu...   \n",
       "4  <s>[INST] <<SYS>>\\nYou are an assistant for qu...   \n",
       "\n",
       "                                        ground_truth  temperature  max_tokens  \\\n",
       "0  a genus of flowering plant in the Lardizabalac...          0.1         100   \n",
       "1  a genus of flowering plant in the Lardizabalac...          0.1         100   \n",
       "2  a genus of flowering plant in the Lardizabalac...          0.1         100   \n",
       "3  a genus of flowering plant in the Lardizabalac...          0.1         100   \n",
       "4  a genus of flowering plant in the Lardizabalac...          0.1         100   \n",
       "\n",
       "   top_p                                         completion  prompt_tokens  \\\n",
       "0   0.92  The genera Sinofranchetia and Stauntonia belon...            319   \n",
       "1   0.92  The genera Sinofranchetia and Stauntonia belon...            319   \n",
       "2   0.92  The genera Sinofranchetia and Stauntonia belon...            319   \n",
       "3   0.92  The genera Sinofranchetia and Stauntonia belon...            319   \n",
       "4   0.92  The genera Sinofranchetia and Stauntonia belon...            319   \n",
       "\n",
       "   completion_tokens   latency  ...                              uuid  \\\n",
       "0                 26  0.440897  ...  6e77fb90ea804956a115b0268df059b0   \n",
       "1                 26  0.450330  ...  82d04de71238454a9bbe05f520f22cb0   \n",
       "2                 26  0.461762  ...  22303e132fb646aa86b938083660dce8   \n",
       "3                 26  0.453813  ...  715d1d30b18244279ff5c0fbf112f245   \n",
       "4                 26  0.435938  ...  6ede1f51a3d143f09377dda35107693a   \n",
       "\n",
       "                    experiment_name  concurrency  \\\n",
       "0  mistral.mistral-7b-instruct-v0:2            1   \n",
       "1  mistral.mistral-7b-instruct-v0:2            1   \n",
       "2  mistral.mistral-7b-instruct-v0:2            1   \n",
       "3  mistral.mistral-7b-instruct-v0:2            1   \n",
       "4  mistral.mistral-7b-instruct-v0:2            1   \n",
       "\n",
       "                      instance_type instance_count  EndpointName ModelName  \\\n",
       "0  mistral.mistral-7b-instruct-v0:2            1.0           NaN       NaN   \n",
       "1  mistral.mistral-7b-instruct-v0:2            1.0           NaN       NaN   \n",
       "2  mistral.mistral-7b-instruct-v0:2            1.0           NaN       NaN   \n",
       "3  mistral.mistral-7b-instruct-v0:2            1.0           NaN       NaN   \n",
       "4  mistral.mistral-7b-instruct-v0:2            1.0           NaN       NaN   \n",
       "\n",
       "   Image  S3Uri  cosine_similarity_score  \n",
       "0    NaN    NaN                 0.710724  \n",
       "1    NaN    NaN                 0.710724  \n",
       "2    NaN    NaN                 0.710724  \n",
       "3    NaN    NaN                 0.710724  \n",
       "4    NaN    NaN                 0.710724  \n",
       "\n",
       "[5 rows x 23 columns]"
      ]
     },
     "execution_count": 12,
     "metadata": {},
     "output_type": "execute_result"
    }
   ],
   "source": [
    "# define the all_metrics path to send the evaluation metrics to\n",
    "all_metrics_fpath = os.path.join(METRICS_DIR, config[\"report\"][\"all_metrics_file\"])\n",
    "\n",
    "csv_buffer = io.StringIO()\n",
    "df_per_inference.to_csv(csv_buffer, index=False)\n",
    "df_per_inference_with_cosine_similarity_scores_csv = csv_buffer.getvalue()\n",
    "\n",
    "# Define the file name for S3 based on the original file path\n",
    "df_per_inference_with_cosine_similarity_scores_csv = all_metrics_fpath.replace(\"all_metrics\", \"all_metrics_summary\").split('/')[-1] \n",
    "inference_cosine_similarity_scores_s3_path = os.path.join(METRICS_DIR, PER_INFERENCE_FILE_WITH_COSINE_SIMILARITY_SCORES)  # Define full S3 path\n",
    "\n",
    "# Write the CSV data to S3\n",
    "write_to_s3(df_per_inference_with_cosine_similarity_scores_csv, BUCKET_NAME, \"\", \n",
    "            METRICS_DIR, PER_INFERENCE_FILE_WITH_COSINE_SIMILARITY_SCORES)\n",
    "logger.info(f\"Per inference cosine similarity scores saved to s3://{BUCKET_NAME}/{inference_cosine_similarity_scores_s3_path}\")\n",
    "\n",
    "df_per_inference.head()"
   ]
  },
  {
   "cell_type": "markdown",
   "metadata": {},
   "source": [
    "### Use _Panel of LLM Evaluators_ to get Subjective Evaluations on various evaluation criteria\n",
    "---\n",
    "\n",
    "In this portion of the notebook, we run evaluations on the content generated by different candidate models. We use two main evaluation methods: `Max Voting` and `Average Pooling`. To eliminate intra-model bias, we address this by scoring answer correctness based not on a single judge, but instead on a panel composed of multiple evaluator models. Similar pooling techniques are used to reduce variance in human annotations by normalizing out both natural variation in human judgements caused by their own subjective biases as well as human error. We use the following two techniques:\n",
    "\n",
    "1. **Max Voting**: We use the PoLL to evaluate candidate model responses by checking its correctness compared to a provided ground truth answer in the dataset. We prompt each PoLL to evaluate and give the response in a JSON structure, giving a verdict on whether the response is correct or incorrect, and an explanation as to why that is. Using this, we can perform downstream analytics such as: \n",
    "\n",
    "    1. Calculate the overall accuracy of each model using the correct versus the (correct + incorrect) responses\n",
    "    \n",
    "    1. Calculate the `error rate` or frequency or incorrect responses\n",
    "    \n",
    "    1. Categorize the errors based on the explanations provided by the evaluators. Common categories might include misunderstanding the question, incomplete answers, factual inaccuracies\n",
    "    \n",
    "    1. Summary of overall correct/incorrect, and the best model based on the PoLL. Rank the models on Correctness versus Incorrectness.\n",
    "\n",
    "1. **Average Pooling**: We use the PoLL to rate the response of each candidate model on a more subjective criteria. Here, we have the candidate model responses rated on a scale of 1-5 based on the subjective criteria and then get an explanation to that. Using this we can do as follows:\n",
    "\n",
    "    1. Calculate the average score for each model across all questions to get an overall performance measure.\n",
    "    \n",
    "    1. Compute the standard deviation of the scores to understand the consistency of the model's performance.\n",
    "\n",
    "1. Towards the end of all evaluations, a final layer of evaluation is added at the end. This layer utilizes another LLM that acts as a final summarizer. It takes in the ratings, answers generated from each unique model that was used in inference, to give a list of trends, overall patterns and observations as to which model is suited for a given task for a given dataset."
   ]
  },
  {
   "cell_type": "code",
   "execution_count": 13,
   "metadata": {
    "tags": []
   },
   "outputs": [
    {
     "name": "stderr",
     "output_type": "stream",
     "text": [
      "[2024-07-12 15:11:12,696] p22383 {474703826.py:5} INFO - available llm as a judge evaluation information to use: {\n",
      "  \"judge_panel_list\": [\n",
      "    {\n",
      "      \"model_id\": \"anthropic.claude-3-haiku-20240307-v1:0\",\n",
      "      \"eval_prompt_template_dir\": \"claude_eval_prompt_templates\",\n",
      "      \"eval_prompt_template_name_prefix\": \"claude_eval\"\n",
      "    },\n",
      "    {\n",
      "      \"model_id\": \"meta.llama3-70b-instruct-v1:0\",\n",
      "      \"eval_prompt_template_dir\": \"llama3_eval_prompt_templates\",\n",
      "      \"eval_prompt_template_name_prefix\": \"llama3_eval\"\n",
      "    },\n",
      "    {\n",
      "      \"model_id\": \"cohere.command-r-v1:0\",\n",
      "      \"eval_prompt_template_dir\": \"cohere_eval_prompt_templates\",\n",
      "      \"eval_prompt_template_name_prefix\": \"cohere_eval\"\n",
      "    }\n",
      "  ],\n",
      "  \"inference_parameters\": {\n",
      "    \"temperature\": 0.1,\n",
      "    \"max_tokens\": 300,\n",
      "    \"top_p\": 0.92,\n",
      "    \"caching\": false\n",
      "  },\n",
      "  \"run_parallel_inference_count\": 10\n",
      "}\n"
     ]
    }
   ],
   "source": [
    "# get the qualitative/subjective evaluation information from the config file to evaluate answers from different\n",
    "# endpoints on various criteria\n",
    "model_eval_subjective_info: Dict = config['model_evaluations']['subjective_eval_info']\n",
    "eval_criteria_list = model_eval_subjective_info.get('eval_criteria', None)\n",
    "logger.info(f\"available llm as a judge evaluation information to use: {json.dumps(model_eval_subjective_info, indent=2)}\")"
   ]
  },
  {
   "cell_type": "code",
   "execution_count": 14,
   "metadata": {
    "tags": []
   },
   "outputs": [],
   "source": [
    "# get the inference parameters that the LLM judge panel will use while evaluating model candidate responses\n",
    "INFERENCE_PARAMETERS_LLM_PANEL: Dict = config['model_evaluations']['subjective_eval_info'].get('inference_parameters', None)"
   ]
  },
  {
   "cell_type": "code",
   "execution_count": 15,
   "metadata": {
    "tags": []
   },
   "outputs": [],
   "source": [
    "def get_inference(model_id: str,\n",
    "                  prompt: str):\n",
    "    \"\"\"\n",
    "    Get inference using LiteLLM. This get's inference on the answers provided and evaluates each\n",
    "    answer based on a given evaluation prompt template and the specific set of rules for each\n",
    "    evaluation criteria.\n",
    "    \"\"\"\n",
    "    # represents the service name\n",
    "    print(f\"get_inference, model_id={model_id}\")\n",
    "    service_name: str = \"bedrock\"\n",
    "    # represents creating the bedrock model to invoke the litellm api for response for titan, llama and claude\n",
    "    bedrock_model: str = f\"{service_name}/{model_id}\"\n",
    "    # represents the current aws region\n",
    "    aws_region = boto3.Session().region_name \n",
    "    # initialize the response dict\n",
    "    ret = dict(exception=None,\n",
    "               prompt=prompt,\n",
    "               completion=None,\n",
    "               completion_token_count=None,\n",
    "               prompt_token_count=None,\n",
    "               model_id=model_id)\n",
    "    body = ret['prompt']\n",
    "    os.environ[\"AWS_REGION_NAME\"] = aws_region\n",
    "    try:\n",
    "        # Represents calling the litellm completion/messaging api utilizing the completion/embeddings API\n",
    "        print(f\"Invoking {bedrock_model}......\")\n",
    "        response = completion(model=bedrock_model,\n",
    "                              messages=[{\"content\": body,\"role\": \"user\"}],\n",
    "                              temperature=INFERENCE_PARAMETERS_LLM_PANEL.get('temperature', 0.1),\n",
    "                              max_tokens=INFERENCE_PARAMETERS_LLM_PANEL.get('max_tokens', 100),\n",
    "                              caching=INFERENCE_PARAMETERS_LLM_PANEL.get('caching', False))\n",
    "        # iterate through the entire model response\n",
    "        for idx, choice in enumerate(response.choices):\n",
    "            # extract the message and the message's content from litellm\n",
    "            if choice.message and choice.message.content:\n",
    "                # extract the response from the dict\n",
    "                ret[\"completion\"] = choice.message.content.strip()\n",
    "        # Extract number of input and completion prompt tokens        \n",
    "        ret['prompt_token_count'] = response.usage.prompt_tokens\n",
    "        ret['completion_token_count'] = response.usage.completion_tokens\n",
    "    except Exception as e:\n",
    "        logger.error(f\"Exception occurred during invoking {model_id}, exception={e}\")\n",
    "        ret['exception'] = e\n",
    "    logger.info(f\"completion: {ret['completion']}\")\n",
    "    return ret"
   ]
  },
  {
   "cell_type": "code",
   "execution_count": 16,
   "metadata": {
    "tags": []
   },
   "outputs": [],
   "source": [
    "def safe_filename(s):\n",
    "    \"\"\"\n",
    "    convert a string to another string that can be used as a filename\n",
    "    i.e. remove white space and non-word chars\n",
    "    \"\"\"\n",
    "    if s is None:\n",
    "        return \"None\"\n",
    "    # Remove all non-word characters (everything except numbers and letters)\n",
    "    s = re.sub(r\"[^\\w\\s]\", '', s)\n",
    "\n",
    "    # Replace all runs of whitespace with a single dash\n",
    "    s = re.sub(r\"\\s+\", '-', s)\n",
    "\n",
    "    return s"
   ]
  },
  {
   "cell_type": "code",
   "execution_count": 17,
   "metadata": {
    "tags": []
   },
   "outputs": [],
   "source": [
    "def parse_as_json(x: str) -> Optional[Dict]:\n",
    "    \"\"\"\n",
    "    Convert a string into a dictionary. Remove any\n",
    "    stray whitespaces which could break the json parsing\n",
    "    \"\"\"\n",
    "    d: Optional[Dict] = None\n",
    "    try:\n",
    "        x = x.replace(\"\\n\", \"\").replace(\"\\t\", \"\")\n",
    "        d = json.loads(x)\n",
    "    except Exception as e:\n",
    "        print(f\"parse_as_json, error parsing string as json, string={x}\")\n",
    "    return d"
   ]
  },
  {
   "cell_type": "markdown",
   "metadata": {},
   "source": [
    "### Read the latest dataframe and run LLM as a judge evaluations on it"
   ]
  },
  {
   "cell_type": "code",
   "execution_count": 18,
   "metadata": {
    "tags": []
   },
   "outputs": [
    {
     "data": {
      "text/html": [
       "<div>\n",
       "<style scoped>\n",
       "    .dataframe tbody tr th:only-of-type {\n",
       "        vertical-align: middle;\n",
       "    }\n",
       "\n",
       "    .dataframe tbody tr th {\n",
       "        vertical-align: top;\n",
       "    }\n",
       "\n",
       "    .dataframe thead th {\n",
       "        text-align: right;\n",
       "    }\n",
       "</style>\n",
       "<table border=\"1\" class=\"dataframe\">\n",
       "  <thead>\n",
       "    <tr style=\"text-align: right;\">\n",
       "      <th></th>\n",
       "      <th>endpoint_name</th>\n",
       "      <th>prompt</th>\n",
       "      <th>ground_truth</th>\n",
       "      <th>temperature</th>\n",
       "      <th>max_tokens</th>\n",
       "      <th>top_p</th>\n",
       "      <th>completion</th>\n",
       "      <th>prompt_tokens</th>\n",
       "      <th>completion_tokens</th>\n",
       "      <th>latency</th>\n",
       "      <th>...</th>\n",
       "      <th>uuid</th>\n",
       "      <th>experiment_name</th>\n",
       "      <th>concurrency</th>\n",
       "      <th>instance_type</th>\n",
       "      <th>instance_count</th>\n",
       "      <th>EndpointName</th>\n",
       "      <th>ModelName</th>\n",
       "      <th>Image</th>\n",
       "      <th>S3Uri</th>\n",
       "      <th>cosine_similarity_score</th>\n",
       "    </tr>\n",
       "  </thead>\n",
       "  <tbody>\n",
       "    <tr>\n",
       "      <th>0</th>\n",
       "      <td>mistral.mistral-7b-instruct-v0:2</td>\n",
       "      <td>&lt;s&gt;[INST] &lt;&lt;SYS&gt;&gt;\\nYou are an assistant for qu...</td>\n",
       "      <td>a genus of flowering plant in the Lardizabalac...</td>\n",
       "      <td>0.1</td>\n",
       "      <td>100</td>\n",
       "      <td>0.92</td>\n",
       "      <td>The genera Sinofranchetia and Stauntonia belon...</td>\n",
       "      <td>319</td>\n",
       "      <td>26</td>\n",
       "      <td>0.440897</td>\n",
       "      <td>...</td>\n",
       "      <td>6e77fb90ea804956a115b0268df059b0</td>\n",
       "      <td>mistral.mistral-7b-instruct-v0:2</td>\n",
       "      <td>1</td>\n",
       "      <td>mistral.mistral-7b-instruct-v0:2</td>\n",
       "      <td>1.0</td>\n",
       "      <td>NaN</td>\n",
       "      <td>NaN</td>\n",
       "      <td>NaN</td>\n",
       "      <td>NaN</td>\n",
       "      <td>0.710724</td>\n",
       "    </tr>\n",
       "    <tr>\n",
       "      <th>1</th>\n",
       "      <td>mistral.mistral-7b-instruct-v0:2</td>\n",
       "      <td>&lt;s&gt;[INST] &lt;&lt;SYS&gt;&gt;\\nYou are an assistant for qu...</td>\n",
       "      <td>a genus of flowering plant in the Lardizabalac...</td>\n",
       "      <td>0.1</td>\n",
       "      <td>100</td>\n",
       "      <td>0.92</td>\n",
       "      <td>The genera Sinofranchetia and Stauntonia belon...</td>\n",
       "      <td>319</td>\n",
       "      <td>26</td>\n",
       "      <td>0.450330</td>\n",
       "      <td>...</td>\n",
       "      <td>82d04de71238454a9bbe05f520f22cb0</td>\n",
       "      <td>mistral.mistral-7b-instruct-v0:2</td>\n",
       "      <td>1</td>\n",
       "      <td>mistral.mistral-7b-instruct-v0:2</td>\n",
       "      <td>1.0</td>\n",
       "      <td>NaN</td>\n",
       "      <td>NaN</td>\n",
       "      <td>NaN</td>\n",
       "      <td>NaN</td>\n",
       "      <td>0.710724</td>\n",
       "    </tr>\n",
       "    <tr>\n",
       "      <th>2</th>\n",
       "      <td>mistral.mistral-7b-instruct-v0:2</td>\n",
       "      <td>&lt;s&gt;[INST] &lt;&lt;SYS&gt;&gt;\\nYou are an assistant for qu...</td>\n",
       "      <td>a genus of flowering plant in the Lardizabalac...</td>\n",
       "      <td>0.1</td>\n",
       "      <td>100</td>\n",
       "      <td>0.92</td>\n",
       "      <td>The genera Sinofranchetia and Stauntonia belon...</td>\n",
       "      <td>319</td>\n",
       "      <td>26</td>\n",
       "      <td>0.461762</td>\n",
       "      <td>...</td>\n",
       "      <td>22303e132fb646aa86b938083660dce8</td>\n",
       "      <td>mistral.mistral-7b-instruct-v0:2</td>\n",
       "      <td>1</td>\n",
       "      <td>mistral.mistral-7b-instruct-v0:2</td>\n",
       "      <td>1.0</td>\n",
       "      <td>NaN</td>\n",
       "      <td>NaN</td>\n",
       "      <td>NaN</td>\n",
       "      <td>NaN</td>\n",
       "      <td>0.710724</td>\n",
       "    </tr>\n",
       "    <tr>\n",
       "      <th>3</th>\n",
       "      <td>mistral.mistral-7b-instruct-v0:2</td>\n",
       "      <td>&lt;s&gt;[INST] &lt;&lt;SYS&gt;&gt;\\nYou are an assistant for qu...</td>\n",
       "      <td>a genus of flowering plant in the Lardizabalac...</td>\n",
       "      <td>0.1</td>\n",
       "      <td>100</td>\n",
       "      <td>0.92</td>\n",
       "      <td>The genera Sinofranchetia and Stauntonia belon...</td>\n",
       "      <td>319</td>\n",
       "      <td>26</td>\n",
       "      <td>0.453813</td>\n",
       "      <td>...</td>\n",
       "      <td>715d1d30b18244279ff5c0fbf112f245</td>\n",
       "      <td>mistral.mistral-7b-instruct-v0:2</td>\n",
       "      <td>1</td>\n",
       "      <td>mistral.mistral-7b-instruct-v0:2</td>\n",
       "      <td>1.0</td>\n",
       "      <td>NaN</td>\n",
       "      <td>NaN</td>\n",
       "      <td>NaN</td>\n",
       "      <td>NaN</td>\n",
       "      <td>0.710724</td>\n",
       "    </tr>\n",
       "    <tr>\n",
       "      <th>4</th>\n",
       "      <td>mistral.mistral-7b-instruct-v0:2</td>\n",
       "      <td>&lt;s&gt;[INST] &lt;&lt;SYS&gt;&gt;\\nYou are an assistant for qu...</td>\n",
       "      <td>a genus of flowering plant in the Lardizabalac...</td>\n",
       "      <td>0.1</td>\n",
       "      <td>100</td>\n",
       "      <td>0.92</td>\n",
       "      <td>The genera Sinofranchetia and Stauntonia belon...</td>\n",
       "      <td>319</td>\n",
       "      <td>26</td>\n",
       "      <td>0.435938</td>\n",
       "      <td>...</td>\n",
       "      <td>6ede1f51a3d143f09377dda35107693a</td>\n",
       "      <td>mistral.mistral-7b-instruct-v0:2</td>\n",
       "      <td>1</td>\n",
       "      <td>mistral.mistral-7b-instruct-v0:2</td>\n",
       "      <td>1.0</td>\n",
       "      <td>NaN</td>\n",
       "      <td>NaN</td>\n",
       "      <td>NaN</td>\n",
       "      <td>NaN</td>\n",
       "      <td>0.710724</td>\n",
       "    </tr>\n",
       "  </tbody>\n",
       "</table>\n",
       "<p>5 rows × 23 columns</p>\n",
       "</div>"
      ],
      "text/plain": [
       "                      endpoint_name  \\\n",
       "0  mistral.mistral-7b-instruct-v0:2   \n",
       "1  mistral.mistral-7b-instruct-v0:2   \n",
       "2  mistral.mistral-7b-instruct-v0:2   \n",
       "3  mistral.mistral-7b-instruct-v0:2   \n",
       "4  mistral.mistral-7b-instruct-v0:2   \n",
       "\n",
       "                                              prompt  \\\n",
       "0  <s>[INST] <<SYS>>\\nYou are an assistant for qu...   \n",
       "1  <s>[INST] <<SYS>>\\nYou are an assistant for qu...   \n",
       "2  <s>[INST] <<SYS>>\\nYou are an assistant for qu...   \n",
       "3  <s>[INST] <<SYS>>\\nYou are an assistant for qu...   \n",
       "4  <s>[INST] <<SYS>>\\nYou are an assistant for qu...   \n",
       "\n",
       "                                        ground_truth  temperature  max_tokens  \\\n",
       "0  a genus of flowering plant in the Lardizabalac...          0.1         100   \n",
       "1  a genus of flowering plant in the Lardizabalac...          0.1         100   \n",
       "2  a genus of flowering plant in the Lardizabalac...          0.1         100   \n",
       "3  a genus of flowering plant in the Lardizabalac...          0.1         100   \n",
       "4  a genus of flowering plant in the Lardizabalac...          0.1         100   \n",
       "\n",
       "   top_p                                         completion  prompt_tokens  \\\n",
       "0   0.92  The genera Sinofranchetia and Stauntonia belon...            319   \n",
       "1   0.92  The genera Sinofranchetia and Stauntonia belon...            319   \n",
       "2   0.92  The genera Sinofranchetia and Stauntonia belon...            319   \n",
       "3   0.92  The genera Sinofranchetia and Stauntonia belon...            319   \n",
       "4   0.92  The genera Sinofranchetia and Stauntonia belon...            319   \n",
       "\n",
       "   completion_tokens   latency  ...                              uuid  \\\n",
       "0                 26  0.440897  ...  6e77fb90ea804956a115b0268df059b0   \n",
       "1                 26  0.450330  ...  82d04de71238454a9bbe05f520f22cb0   \n",
       "2                 26  0.461762  ...  22303e132fb646aa86b938083660dce8   \n",
       "3                 26  0.453813  ...  715d1d30b18244279ff5c0fbf112f245   \n",
       "4                 26  0.435938  ...  6ede1f51a3d143f09377dda35107693a   \n",
       "\n",
       "                    experiment_name  concurrency  \\\n",
       "0  mistral.mistral-7b-instruct-v0:2            1   \n",
       "1  mistral.mistral-7b-instruct-v0:2            1   \n",
       "2  mistral.mistral-7b-instruct-v0:2            1   \n",
       "3  mistral.mistral-7b-instruct-v0:2            1   \n",
       "4  mistral.mistral-7b-instruct-v0:2            1   \n",
       "\n",
       "                      instance_type instance_count  EndpointName ModelName  \\\n",
       "0  mistral.mistral-7b-instruct-v0:2            1.0           NaN       NaN   \n",
       "1  mistral.mistral-7b-instruct-v0:2            1.0           NaN       NaN   \n",
       "2  mistral.mistral-7b-instruct-v0:2            1.0           NaN       NaN   \n",
       "3  mistral.mistral-7b-instruct-v0:2            1.0           NaN       NaN   \n",
       "4  mistral.mistral-7b-instruct-v0:2            1.0           NaN       NaN   \n",
       "\n",
       "   Image  S3Uri  cosine_similarity_score  \n",
       "0    NaN    NaN                 0.710724  \n",
       "1    NaN    NaN                 0.710724  \n",
       "2    NaN    NaN                 0.710724  \n",
       "3    NaN    NaN                 0.710724  \n",
       "4    NaN    NaN                 0.710724  \n",
       "\n",
       "[5 rows x 23 columns]"
      ]
     },
     "execution_count": 18,
     "metadata": {},
     "output_type": "execute_result"
    }
   ],
   "source": [
    "df_per_inference.head()"
   ]
  },
  {
   "cell_type": "markdown",
   "metadata": {},
   "source": [
    "### Prepare the evaluation prompt payloads\n",
    "---\n",
    "\n",
    "Here, the evaluation prompt template is used by the LLM judge to evaluate the answers on different criteria.\n",
    "This prompt template function uses a set of rules, prompt template, the answer, and ground truth (if any) in the\n",
    "evaluation solution"
   ]
  },
  {
   "cell_type": "code",
   "execution_count": 19,
   "metadata": {
    "tags": []
   },
   "outputs": [],
   "source": [
    "def prepare_eval_prompts(eval_template: str,\n",
    "                         answer: str, \n",
    "                         rules: str, \n",
    "                         context: str, \n",
    "                         ground_truth: Optional[str]):\n",
    "    \"\"\"\n",
    "    This function prepares the evaluation prompts by preparing the standard eval prompt template\n",
    "    with the rules of a given subjective criteria, context, answer and ground truth (if any ground truth is provided)\n",
    "    \"\"\"\n",
    "    processed_eval_template: Optional[str] = None\n",
    "    processed_eval_template = eval_template.format(\n",
    "        rules=rules,\n",
    "        answer=answer,\n",
    "        context=context,\n",
    "        ground_truth=ground_truth)\n",
    "    return processed_eval_template"
   ]
  },
  {
   "cell_type": "code",
   "execution_count": 20,
   "metadata": {
    "tags": []
   },
   "outputs": [],
   "source": [
    "def run_eval(i: int, total: int, row: Dict,  model_id: str, eval_method_name: str, uuid: str) -> Dict:\n",
    "    \"\"\"\n",
    "    Runs the evaluation for one row \n",
    "    The eval prompt is already available in the row dictionary\n",
    "    and we simply want to run the inference against the judge model.\n",
    "    The results are returned in a new dictionary that contains the model \n",
    "    response and some fields from the original dictionary\n",
    "    \"\"\"\n",
    "    # save all the responses from the model in a dictionary\n",
    "    resp: Dict = {}\n",
    "    print(f\"run_eval, row {i}/{total}, judge_model_id={model_id}, candidate model={row['endpoint_name']}\")\n",
    "    candidate_model_response: str = row['completion']\n",
    "    # create the payload for model inference\n",
    "    prompt = row[f'{model_id}_{method_name}_eval_prompt']\n",
    "    # generate the chapter title based on the given chapter in the prompt \n",
    "    resp = get_inference(model_id, prompt)\n",
    "    resp['candidate_model_response'] = candidate_model_response\n",
    "    resp['candidate_model'] = row['endpoint_name']\n",
    "    resp['cosine_similarity_score'] = row['cosine_similarity_score']\n",
    "    if 'ground_truth' in row:\n",
    "        resp['ground_truth'] = row['ground_truth']\n",
    "    # calculate the input and output token price for all of the calls\n",
    "    model_eval_completions_dir: str = os.path.join(RESULTS_DIR, MODEL_EVALUATION_JUDGE_COMPLETIONS_DIR)\n",
    "    dir_path = os.path.join(model_eval_completions_dir, model_id, eval_method_name)\n",
    "    os.makedirs(dir_path, exist_ok=True)\n",
    "    fpath = os.path.join(dir_path, f\"{model_id}_{eval_method_name}_{uuid}.json\")\n",
    "\n",
    "    Path(fpath).write_text(json.dumps(resp, default=str, indent=2))\n",
    "\n",
    "    return resp\n",
    "\n",
    "# we use Ray to parallize\n",
    "@ray.remote\n",
    "def async_run_eval(i: int, total: int, row: Dict, model_id: str, eval_method_name: str, uuid: str) -> Dict:\n",
    "    print(f\"async_run_eval, i={i}, total={total}, judge_model_info={model_id}, eval_method: {eval_method_name}, uuid: {uuid}\")\n",
    "    return run_eval(i, total, row, model_id, eval_method_name, uuid)"
   ]
  },
  {
   "cell_type": "code",
   "execution_count": 21,
   "metadata": {
    "tags": []
   },
   "outputs": [
    {
     "name": "stderr",
     "output_type": "stream",
     "text": [
      "[2024-07-12 15:11:12,749] p22383 {2376022395.py:3} INFO - eval_records_list has 360 entries\n"
     ]
    }
   ],
   "source": [
    "# convert the dataframe into a list of dicts as that is easy to parallize via Ray\n",
    "df_per_inference_list = json.loads(df_per_inference.to_json(orient='records'))\n",
    "logger.info(f\"eval_records_list has {len(df_per_inference_list)} entries\")"
   ]
  },
  {
   "cell_type": "markdown",
   "metadata": {},
   "source": [
    "### Prepare evaluation prompt templates\n",
    "---\n",
    "\n",
    "This portion of the step prepares the evaluation prompt templates that are used to evaluate answers from different endpoints on a scale of 1-5 using various different evaluation criteria"
   ]
  },
  {
   "cell_type": "code",
   "execution_count": 22,
   "metadata": {
    "tags": []
   },
   "outputs": [
    {
     "data": {
      "text/plain": [
       "{'judge_panel_list': [{'model_id': 'anthropic.claude-3-haiku-20240307-v1:0',\n",
       "   'eval_prompt_template_dir': 'claude_eval_prompt_templates',\n",
       "   'eval_prompt_template_name_prefix': 'claude_eval'},\n",
       "  {'model_id': 'meta.llama3-70b-instruct-v1:0',\n",
       "   'eval_prompt_template_dir': 'llama3_eval_prompt_templates',\n",
       "   'eval_prompt_template_name_prefix': 'llama3_eval'},\n",
       "  {'model_id': 'cohere.command-r-v1:0',\n",
       "   'eval_prompt_template_dir': 'cohere_eval_prompt_templates',\n",
       "   'eval_prompt_template_name_prefix': 'cohere_eval'}],\n",
       " 'inference_parameters': {'temperature': 0.1,\n",
       "  'max_tokens': 300,\n",
       "  'top_p': 0.92,\n",
       "  'caching': False},\n",
       " 'run_parallel_inference_count': 10}"
      ]
     },
     "execution_count": 22,
     "metadata": {},
     "output_type": "execute_result"
    }
   ],
   "source": [
    "model_eval_subjective_info"
   ]
  },
  {
   "cell_type": "code",
   "execution_count": 23,
   "metadata": {
    "tags": []
   },
   "outputs": [
    {
     "name": "stderr",
     "output_type": "stream",
     "text": [
      "[2024-07-12 15:11:12,758] p22383 {2514474553.py:4} INFO - The evaluation method FMBench is going to use to evaluate different model responses: max_voting\n",
      "[2024-07-12 15:11:12,759] p22383 {2514474553.py:5} INFO - judge panel being used to evaluate model responses: [{'model_id': 'anthropic.claude-3-haiku-20240307-v1:0', 'eval_prompt_template_dir': 'claude_eval_prompt_templates', 'eval_prompt_template_name_prefix': 'claude_eval'}, {'model_id': 'meta.llama3-70b-instruct-v1:0', 'eval_prompt_template_dir': 'llama3_eval_prompt_templates', 'eval_prompt_template_name_prefix': 'llama3_eval'}, {'model_id': 'cohere.command-r-v1:0', 'eval_prompt_template_dir': 'cohere_eval_prompt_templates', 'eval_prompt_template_name_prefix': 'cohere_eval'}]\n"
     ]
    }
   ],
   "source": [
    "# get the method that is being used to evaluate the content (which is either \n",
    "# max voting or average pooling)\n",
    "method_name: str = config['model_evaluations']['PoLL_Composition_and_Voting'].get('method', None)\n",
    "logger.info(f\"The evaluation method FMBench is going to use to evaluate different model responses: {method_name}\")\n",
    "logger.info(f\"judge panel being used to evaluate model responses: {model_eval_subjective_info.get('judge_panel_list', None)}\")"
   ]
  },
  {
   "cell_type": "code",
   "execution_count": 24,
   "metadata": {
    "tags": []
   },
   "outputs": [
    {
     "name": "stderr",
     "output_type": "stream",
     "text": [
      "[2024-07-12 15:11:12,764] p22383 {3992760747.py:7} INFO - evaluation prompt template file path being used for anthropic.claude-3-haiku-20240307-v1:0: eval_criteria_prompts/claude_eval_prompt_templates/claude_eval_max_voting.txt\n",
      "[2024-07-12 15:11:12,765] p22383 {3992760747.py:8} INFO - evaluation prompt template file name: claude_eval_max_voting.txt\n",
      "[2024-07-12 15:11:12,766] p22383 {3992760747.py:18} INFO - rules: 1. Your role is to evaluate whether the answer is \"correct\" or \"incorrect\" compared to the ground truth\n",
      "provided and the question in the context.\n",
      "\n",
      "2. Your response should be a JSON containing 2 main elements: \"verdict\" and \"explanation\". In the \"verdict\"\n",
      "field of the JSON response, you should mention whether the question is \"correct\" or \"incorrect\" based on the \n",
      "comparison of the answer to the ground truth provided. The \"explanation\" field of the JSON contains the \n",
      "reason why the answer is correct or incorrect after your evaluation of it against the ground truth.\n",
      "\n",
      "3. Make sure to be completely accurate and give your response in a proper JSON format containing the two fields.\n",
      "Evaluate the ground truth carefully, and based on the question in the context provided, think about whether the \n",
      "answer is correct or incorrect. It does not have to be an exact match to the ground response, but should answer the\n",
      "question given in the context.\n",
      "\n",
      "4. If the answer is a close match to the ground truth and answers the same answer to the question as the ground truth, \n",
      "then your verdict is correct. If the answer does not match the ground truth and does not answer the question from the \n",
      "context, then your verdict is incorrect.\n",
      "\n",
      "5. Do not have any pre filler words in your response. Your response should only contain the JSON format response with\n",
      "your evaluation. \n",
      "[2024-07-12 15:11:12,767] p22383 {3992760747.py:20} INFO - column_name: anthropic.claude-3-haiku-20240307-v1:0_max_voting_eval_prompt\n",
      "[2024-07-12 15:11:12,771] p22383 {3992760747.py:7} INFO - evaluation prompt template file path being used for meta.llama3-70b-instruct-v1:0: eval_criteria_prompts/llama3_eval_prompt_templates/llama3_eval_max_voting.txt\n",
      "[2024-07-12 15:11:12,772] p22383 {3992760747.py:8} INFO - evaluation prompt template file name: llama3_eval_max_voting.txt\n",
      "[2024-07-12 15:11:12,772] p22383 {3992760747.py:18} INFO - rules: 1. Your role is to evaluate whether the answer is \"correct\" or \"incorrect\" compared to the ground truth\n",
      "provided and the question in the context.\n",
      "\n",
      "2. Your response should be a JSON containing 2 main elements: \"verdict\" and \"explanation\". In the \"verdict\"\n",
      "field of the JSON response, you should mention whether the question is \"correct\" or \"incorrect\" based on the \n",
      "comparison of the answer to the ground truth provided. The \"explanation\" field of the JSON contains the \n",
      "reason why the answer is correct or incorrect after your evaluation of it against the ground truth.\n",
      "\n",
      "3. Make sure to be completely accurate and give your response in a proper JSON format containing the two fields.\n",
      "Evaluate the ground truth carefully, and based on the question in the context provided, think about whether the \n",
      "answer is correct or incorrect. It does not have to be an exact match to the ground response, but should answer the\n",
      "question given in the context.\n",
      "\n",
      "4. If the answer is a close match to the ground truth and answers the same answer to the question as the ground truth, \n",
      "then your verdict is correct. If the answer does not match the ground truth and does not answer the question from the \n",
      "context, then your verdict is incorrect.\n",
      "\n",
      "5. Do not have any pre filler words in your response. Your response should only contain the JSON format response with\n",
      "your evaluation. \n",
      "[2024-07-12 15:11:12,773] p22383 {3992760747.py:20} INFO - column_name: meta.llama3-70b-instruct-v1:0_max_voting_eval_prompt\n",
      "[2024-07-12 15:11:12,778] p22383 {3992760747.py:7} INFO - evaluation prompt template file path being used for cohere.command-r-v1:0: eval_criteria_prompts/cohere_eval_prompt_templates/cohere_eval_max_voting.txt\n",
      "[2024-07-12 15:11:12,779] p22383 {3992760747.py:8} INFO - evaluation prompt template file name: cohere_eval_max_voting.txt\n",
      "[2024-07-12 15:11:12,779] p22383 {3992760747.py:18} INFO - rules: 1. Your role is to evaluate whether the answer is \"correct\" or \"incorrect\" compared to the ground truth\n",
      "provided and the question in the context.\n",
      "\n",
      "2. Your response should be a JSON containing 2 main elements: \"verdict\" and \"explanation\". In the \"verdict\"\n",
      "field of the JSON response, you should mention whether the question is \"correct\" or \"incorrect\" based on the \n",
      "comparison of the answer to the ground truth provided. The \"explanation\" field of the JSON contains the \n",
      "reason why the answer is correct or incorrect after your evaluation of it against the ground truth.\n",
      "\n",
      "3. Make sure to be completely accurate and give your response in a proper JSON format containing the two fields.\n",
      "Evaluate the ground truth carefully, and based on the question in the context provided, think about whether the \n",
      "answer is correct or incorrect. It does not have to be an exact match to the ground response, but should answer the\n",
      "question given in the context.\n",
      "\n",
      "4. If the answer is a close match to the ground truth and answers the same answer to the question as the ground truth, \n",
      "then your verdict is correct. If the answer does not match the ground truth and does not answer the question from the \n",
      "context, then your verdict is incorrect.\n",
      "\n",
      "5. Do not have any pre filler words in your response. Your response should only contain the JSON format response with\n",
      "your evaluation. \n",
      "[2024-07-12 15:11:12,780] p22383 {3992760747.py:20} INFO - column_name: cohere.command-r-v1:0_max_voting_eval_prompt\n"
     ]
    },
    {
     "name": "stdout",
     "output_type": "stream",
     "text": [
      "Evaluation prompt template being used: Human: You are a judge who evaluates the correctness of the answer to a given question in the context \n",
      "in the <context></context> tags. Your role is to evaluate whether the answer provided in the <answer></answer> \n",
      "tags is correct compared to the ground truth answer provided in the <ground_truth></ground_truth> xml tags.\n",
      "\n",
      "Follow the instructions below while giving your evaluation in the <evaluation_instructions></evaluation_instructions>\n",
      "tags:\n",
      "\n",
      "<evaluation_instructions>\n",
      "{rules}\n",
      "</evaluation_instructions>\n",
      "\n",
      "Refer to the context below in the <context></context> xml tags:\n",
      "<context>\n",
      "{context}\n",
      "</context>\n",
      "\n",
      "Refer to the answer to be evaluated in the <answer></answer> tags:\n",
      "<answer>\n",
      "{answer}\n",
      "</answer> \n",
      "\n",
      "Refer to the ground truth to the question in the context below in the <ground_truth></ground_truth> xml tags: \n",
      "<ground_truth>\n",
      "{ground_truth}\n",
      "</ground_truth> \n",
      "\n",
      "Assistant: Sure, here is my evaluation in JSON:\n",
      "Evaluation prompt template being used: <|begin_of_text|><|start_header_id|>user<|end_header_id|>\n",
      "You are a judge who evaluates the correctness of the answer to a given question in the context \n",
      "demarcated by \"```\" below. Your role is to evaluate whether the answer provided in the answer section\n",
      "is correct compared to the ground truth answer provided in the ground_truth section.\n",
      "\n",
      "Follow the instructions below while giving your evaluation in the evaluation_instructions section below:\n",
      "\n",
      "evaluation_instructions:\n",
      "{rules}\n",
      "\n",
      "Refer to the context below demarcated by \"```\"\n",
      "```\n",
      "{context}\n",
      "```\n",
      "\n",
      "Refer to the answer to below that needs to be evaluated:\n",
      "answer: {answer}\n",
      "\n",
      "\n",
      "Refer to the ground truth to the question in the context below in the ground_truth section:\n",
      "ground_truth: {ground_truth}\n",
      "\n",
      "Do not add anything else in your response. Give your response only in a correct formatted json starting with an \n",
      "opening and ending with a bracket.\n",
      "\n",
      "Do not add any pre filler words. Your response should contain the JSON structured output only.\n",
      "\n",
      "<|eot_id|><|start_header_id|>assistant<|end_header_id|>\n",
      "Evaluation prompt template being used: You are a judge who evaluates the correctness of the answer to a given question in the context section. \n",
      "Your role is to evaluate whether the answer provided in the answer section\n",
      "is correct compared to the ground truth answer provided in the ground_truth section.\n",
      "\n",
      "Follow the instructions below while giving your evaluation in the evaluation_instructions section below:\n",
      "\n",
      "## evaluation_instructions:\n",
      "{rules}\n",
      "\n",
      "## context:\n",
      "{context}\n",
      "\n",
      "Refer to the answer to below that needs to be evaluated:\n",
      "answer: {answer}\n",
      "\n",
      "\n",
      "Refer to the ground truth to the question in the context below in the ground_truth section:\n",
      "ground_truth: {ground_truth}\n",
      "\n",
      "## Response Instructions:\n",
      "\n",
      "Only give your response in a JSON format. Do not prefix your response with ``` json .....  ``` and so on. \n",
      "\n",
      "Do not add anything else but the format above in your evaluation response. Your response should just start with \n",
      "an opening JSON bracket, the fields, and then a closing JSON bracket, nothing else.\n",
      "\n"
     ]
    }
   ],
   "source": [
    "# Iterate through each LLM as a judge and each evaluation criterion\n",
    "for llm_info in model_eval_subjective_info.get('judge_panel_list', None):\n",
    "    model_id = llm_info['model_id']\n",
    "    eval_prompt_template_fname: str = f\"{llm_info.get('eval_prompt_template_name_prefix', None)}_{method_name}.txt\"\n",
    "    eval_prompt_template_dir = llm_info.get('eval_prompt_template_dir', None)\n",
    "    eval_prompt_template_path: str = os.path.join(EVAL_DIR, eval_prompt_template_dir, eval_prompt_template_fname)\n",
    "    logger.info(f\"evaluation prompt template file path being used for {model_id}: {eval_prompt_template_path}\")\n",
    "    logger.info(f\"evaluation prompt template file name: {eval_prompt_template_fname}\")\n",
    "    try:\n",
    "        eval_prompt_template = Path(eval_prompt_template_path).read_text()\n",
    "    except FileNotFoundError:\n",
    "        logger.error(f\"File not found: {eval_prompt_template_path}\")\n",
    "        continue\n",
    "\n",
    "    print(f\"Evaluation prompt template being used: {eval_prompt_template}\")\n",
    "    eval_instructions_fname: str = next((rule for rule in config['s3_read_data']['eval_instructions_files'] if method_name in rule), None)\n",
    "    rules = Path(os.path.join(EVAL_DIR, eval_instructions_fname)).read_text()\n",
    "    logger.info(f\"rules: {rules}\")\n",
    "    column_name = f\"{model_id}_{method_name}_eval_prompt\"\n",
    "    logger.info(f\"column_name: {column_name}\")\n",
    "\n",
    "    df_per_inference[column_name] = df_per_inference.apply(\n",
    "        lambda r: prepare_eval_prompts(\n",
    "            eval_prompt_template,\n",
    "            r['completion'],\n",
    "            rules,\n",
    "            r['prompt'],\n",
    "            r['ground_truth']\n",
    "        ),\n",
    "        axis=1\n",
    "    )\n"
   ]
  },
  {
   "cell_type": "code",
   "execution_count": 25,
   "metadata": {
    "tags": []
   },
   "outputs": [
    {
     "name": "stderr",
     "output_type": "stream",
     "text": [
      "[2024-07-12 15:11:13,016] p22383 {4247376453.py:9} INFO - Per inference cosine similarity scores saved to s3://sagemaker-fmbench-write-us-west-2-387192758086/fmbench-bedrock-fmbench-stack-us-west-2-role/data/metrics/yyyy=2024/mm=07/dd=12/hh=15/mm=10/processed_eval_prompts_for_inference.csv\n"
     ]
    },
    {
     "data": {
      "text/html": [
       "<div>\n",
       "<style scoped>\n",
       "    .dataframe tbody tr th:only-of-type {\n",
       "        vertical-align: middle;\n",
       "    }\n",
       "\n",
       "    .dataframe tbody tr th {\n",
       "        vertical-align: top;\n",
       "    }\n",
       "\n",
       "    .dataframe thead th {\n",
       "        text-align: right;\n",
       "    }\n",
       "</style>\n",
       "<table border=\"1\" class=\"dataframe\">\n",
       "  <thead>\n",
       "    <tr style=\"text-align: right;\">\n",
       "      <th></th>\n",
       "      <th>endpoint_name</th>\n",
       "      <th>prompt</th>\n",
       "      <th>ground_truth</th>\n",
       "      <th>temperature</th>\n",
       "      <th>max_tokens</th>\n",
       "      <th>top_p</th>\n",
       "      <th>completion</th>\n",
       "      <th>prompt_tokens</th>\n",
       "      <th>completion_tokens</th>\n",
       "      <th>latency</th>\n",
       "      <th>...</th>\n",
       "      <th>instance_type</th>\n",
       "      <th>instance_count</th>\n",
       "      <th>EndpointName</th>\n",
       "      <th>ModelName</th>\n",
       "      <th>Image</th>\n",
       "      <th>S3Uri</th>\n",
       "      <th>cosine_similarity_score</th>\n",
       "      <th>anthropic.claude-3-haiku-20240307-v1:0_max_voting_eval_prompt</th>\n",
       "      <th>meta.llama3-70b-instruct-v1:0_max_voting_eval_prompt</th>\n",
       "      <th>cohere.command-r-v1:0_max_voting_eval_prompt</th>\n",
       "    </tr>\n",
       "  </thead>\n",
       "  <tbody>\n",
       "    <tr>\n",
       "      <th>0</th>\n",
       "      <td>mistral.mistral-7b-instruct-v0:2</td>\n",
       "      <td>&lt;s&gt;[INST] &lt;&lt;SYS&gt;&gt;\\nYou are an assistant for qu...</td>\n",
       "      <td>a genus of flowering plant in the Lardizabalac...</td>\n",
       "      <td>0.1</td>\n",
       "      <td>100</td>\n",
       "      <td>0.92</td>\n",
       "      <td>The genera Sinofranchetia and Stauntonia belon...</td>\n",
       "      <td>319</td>\n",
       "      <td>26</td>\n",
       "      <td>0.440897</td>\n",
       "      <td>...</td>\n",
       "      <td>mistral.mistral-7b-instruct-v0:2</td>\n",
       "      <td>1.0</td>\n",
       "      <td>NaN</td>\n",
       "      <td>NaN</td>\n",
       "      <td>NaN</td>\n",
       "      <td>NaN</td>\n",
       "      <td>0.710724</td>\n",
       "      <td>Human: You are a judge who evaluates the corre...</td>\n",
       "      <td>&lt;|begin_of_text|&gt;&lt;|start_header_id|&gt;user&lt;|end_...</td>\n",
       "      <td>You are a judge who evaluates the correctness ...</td>\n",
       "    </tr>\n",
       "    <tr>\n",
       "      <th>1</th>\n",
       "      <td>mistral.mistral-7b-instruct-v0:2</td>\n",
       "      <td>&lt;s&gt;[INST] &lt;&lt;SYS&gt;&gt;\\nYou are an assistant for qu...</td>\n",
       "      <td>a genus of flowering plant in the Lardizabalac...</td>\n",
       "      <td>0.1</td>\n",
       "      <td>100</td>\n",
       "      <td>0.92</td>\n",
       "      <td>The genera Sinofranchetia and Stauntonia belon...</td>\n",
       "      <td>319</td>\n",
       "      <td>26</td>\n",
       "      <td>0.450330</td>\n",
       "      <td>...</td>\n",
       "      <td>mistral.mistral-7b-instruct-v0:2</td>\n",
       "      <td>1.0</td>\n",
       "      <td>NaN</td>\n",
       "      <td>NaN</td>\n",
       "      <td>NaN</td>\n",
       "      <td>NaN</td>\n",
       "      <td>0.710724</td>\n",
       "      <td>Human: You are a judge who evaluates the corre...</td>\n",
       "      <td>&lt;|begin_of_text|&gt;&lt;|start_header_id|&gt;user&lt;|end_...</td>\n",
       "      <td>You are a judge who evaluates the correctness ...</td>\n",
       "    </tr>\n",
       "    <tr>\n",
       "      <th>2</th>\n",
       "      <td>mistral.mistral-7b-instruct-v0:2</td>\n",
       "      <td>&lt;s&gt;[INST] &lt;&lt;SYS&gt;&gt;\\nYou are an assistant for qu...</td>\n",
       "      <td>a genus of flowering plant in the Lardizabalac...</td>\n",
       "      <td>0.1</td>\n",
       "      <td>100</td>\n",
       "      <td>0.92</td>\n",
       "      <td>The genera Sinofranchetia and Stauntonia belon...</td>\n",
       "      <td>319</td>\n",
       "      <td>26</td>\n",
       "      <td>0.461762</td>\n",
       "      <td>...</td>\n",
       "      <td>mistral.mistral-7b-instruct-v0:2</td>\n",
       "      <td>1.0</td>\n",
       "      <td>NaN</td>\n",
       "      <td>NaN</td>\n",
       "      <td>NaN</td>\n",
       "      <td>NaN</td>\n",
       "      <td>0.710724</td>\n",
       "      <td>Human: You are a judge who evaluates the corre...</td>\n",
       "      <td>&lt;|begin_of_text|&gt;&lt;|start_header_id|&gt;user&lt;|end_...</td>\n",
       "      <td>You are a judge who evaluates the correctness ...</td>\n",
       "    </tr>\n",
       "    <tr>\n",
       "      <th>3</th>\n",
       "      <td>mistral.mistral-7b-instruct-v0:2</td>\n",
       "      <td>&lt;s&gt;[INST] &lt;&lt;SYS&gt;&gt;\\nYou are an assistant for qu...</td>\n",
       "      <td>a genus of flowering plant in the Lardizabalac...</td>\n",
       "      <td>0.1</td>\n",
       "      <td>100</td>\n",
       "      <td>0.92</td>\n",
       "      <td>The genera Sinofranchetia and Stauntonia belon...</td>\n",
       "      <td>319</td>\n",
       "      <td>26</td>\n",
       "      <td>0.453813</td>\n",
       "      <td>...</td>\n",
       "      <td>mistral.mistral-7b-instruct-v0:2</td>\n",
       "      <td>1.0</td>\n",
       "      <td>NaN</td>\n",
       "      <td>NaN</td>\n",
       "      <td>NaN</td>\n",
       "      <td>NaN</td>\n",
       "      <td>0.710724</td>\n",
       "      <td>Human: You are a judge who evaluates the corre...</td>\n",
       "      <td>&lt;|begin_of_text|&gt;&lt;|start_header_id|&gt;user&lt;|end_...</td>\n",
       "      <td>You are a judge who evaluates the correctness ...</td>\n",
       "    </tr>\n",
       "    <tr>\n",
       "      <th>4</th>\n",
       "      <td>mistral.mistral-7b-instruct-v0:2</td>\n",
       "      <td>&lt;s&gt;[INST] &lt;&lt;SYS&gt;&gt;\\nYou are an assistant for qu...</td>\n",
       "      <td>a genus of flowering plant in the Lardizabalac...</td>\n",
       "      <td>0.1</td>\n",
       "      <td>100</td>\n",
       "      <td>0.92</td>\n",
       "      <td>The genera Sinofranchetia and Stauntonia belon...</td>\n",
       "      <td>319</td>\n",
       "      <td>26</td>\n",
       "      <td>0.435938</td>\n",
       "      <td>...</td>\n",
       "      <td>mistral.mistral-7b-instruct-v0:2</td>\n",
       "      <td>1.0</td>\n",
       "      <td>NaN</td>\n",
       "      <td>NaN</td>\n",
       "      <td>NaN</td>\n",
       "      <td>NaN</td>\n",
       "      <td>0.710724</td>\n",
       "      <td>Human: You are a judge who evaluates the corre...</td>\n",
       "      <td>&lt;|begin_of_text|&gt;&lt;|start_header_id|&gt;user&lt;|end_...</td>\n",
       "      <td>You are a judge who evaluates the correctness ...</td>\n",
       "    </tr>\n",
       "  </tbody>\n",
       "</table>\n",
       "<p>5 rows × 26 columns</p>\n",
       "</div>"
      ],
      "text/plain": [
       "                      endpoint_name  \\\n",
       "0  mistral.mistral-7b-instruct-v0:2   \n",
       "1  mistral.mistral-7b-instruct-v0:2   \n",
       "2  mistral.mistral-7b-instruct-v0:2   \n",
       "3  mistral.mistral-7b-instruct-v0:2   \n",
       "4  mistral.mistral-7b-instruct-v0:2   \n",
       "\n",
       "                                              prompt  \\\n",
       "0  <s>[INST] <<SYS>>\\nYou are an assistant for qu...   \n",
       "1  <s>[INST] <<SYS>>\\nYou are an assistant for qu...   \n",
       "2  <s>[INST] <<SYS>>\\nYou are an assistant for qu...   \n",
       "3  <s>[INST] <<SYS>>\\nYou are an assistant for qu...   \n",
       "4  <s>[INST] <<SYS>>\\nYou are an assistant for qu...   \n",
       "\n",
       "                                        ground_truth  temperature  max_tokens  \\\n",
       "0  a genus of flowering plant in the Lardizabalac...          0.1         100   \n",
       "1  a genus of flowering plant in the Lardizabalac...          0.1         100   \n",
       "2  a genus of flowering plant in the Lardizabalac...          0.1         100   \n",
       "3  a genus of flowering plant in the Lardizabalac...          0.1         100   \n",
       "4  a genus of flowering plant in the Lardizabalac...          0.1         100   \n",
       "\n",
       "   top_p                                         completion  prompt_tokens  \\\n",
       "0   0.92  The genera Sinofranchetia and Stauntonia belon...            319   \n",
       "1   0.92  The genera Sinofranchetia and Stauntonia belon...            319   \n",
       "2   0.92  The genera Sinofranchetia and Stauntonia belon...            319   \n",
       "3   0.92  The genera Sinofranchetia and Stauntonia belon...            319   \n",
       "4   0.92  The genera Sinofranchetia and Stauntonia belon...            319   \n",
       "\n",
       "   completion_tokens   latency  ...                     instance_type  \\\n",
       "0                 26  0.440897  ...  mistral.mistral-7b-instruct-v0:2   \n",
       "1                 26  0.450330  ...  mistral.mistral-7b-instruct-v0:2   \n",
       "2                 26  0.461762  ...  mistral.mistral-7b-instruct-v0:2   \n",
       "3                 26  0.453813  ...  mistral.mistral-7b-instruct-v0:2   \n",
       "4                 26  0.435938  ...  mistral.mistral-7b-instruct-v0:2   \n",
       "\n",
       "   instance_count  EndpointName ModelName Image  S3Uri  \\\n",
       "0             1.0           NaN       NaN   NaN    NaN   \n",
       "1             1.0           NaN       NaN   NaN    NaN   \n",
       "2             1.0           NaN       NaN   NaN    NaN   \n",
       "3             1.0           NaN       NaN   NaN    NaN   \n",
       "4             1.0           NaN       NaN   NaN    NaN   \n",
       "\n",
       "  cosine_similarity_score  \\\n",
       "0                0.710724   \n",
       "1                0.710724   \n",
       "2                0.710724   \n",
       "3                0.710724   \n",
       "4                0.710724   \n",
       "\n",
       "   anthropic.claude-3-haiku-20240307-v1:0_max_voting_eval_prompt  \\\n",
       "0  Human: You are a judge who evaluates the corre...               \n",
       "1  Human: You are a judge who evaluates the corre...               \n",
       "2  Human: You are a judge who evaluates the corre...               \n",
       "3  Human: You are a judge who evaluates the corre...               \n",
       "4  Human: You are a judge who evaluates the corre...               \n",
       "\n",
       "   meta.llama3-70b-instruct-v1:0_max_voting_eval_prompt  \\\n",
       "0  <|begin_of_text|><|start_header_id|>user<|end_...      \n",
       "1  <|begin_of_text|><|start_header_id|>user<|end_...      \n",
       "2  <|begin_of_text|><|start_header_id|>user<|end_...      \n",
       "3  <|begin_of_text|><|start_header_id|>user<|end_...      \n",
       "4  <|begin_of_text|><|start_header_id|>user<|end_...      \n",
       "\n",
       "        cohere.command-r-v1:0_max_voting_eval_prompt  \n",
       "0  You are a judge who evaluates the correctness ...  \n",
       "1  You are a judge who evaluates the correctness ...  \n",
       "2  You are a judge who evaluates the correctness ...  \n",
       "3  You are a judge who evaluates the correctness ...  \n",
       "4  You are a judge who evaluates the correctness ...  \n",
       "\n",
       "[5 rows x 26 columns]"
      ]
     },
     "execution_count": 25,
     "metadata": {},
     "output_type": "execute_result"
    }
   ],
   "source": [
    "csv_buffer = io.StringIO()\n",
    "df_per_inference.to_csv(csv_buffer, index=False)\n",
    "df_per_inference_with_eval_prompt_payloads = csv_buffer.getvalue()\n",
    "eval_prompt_payloads_for_inference = os.path.join(METRICS_DIR, PROCESSED_EVAL_PROMPT_PAYLOADS)  # Define full S3 path\n",
    "\n",
    "# Write the CSV data to S3\n",
    "write_to_s3(df_per_inference_with_eval_prompt_payloads, BUCKET_NAME, \"\", \n",
    "            METRICS_DIR, PROCESSED_EVAL_PROMPT_PAYLOADS)\n",
    "logger.info(f\"Per inference cosine similarity scores saved to s3://{BUCKET_NAME}/{eval_prompt_payloads_for_inference}\")\n",
    "\n",
    "df_per_inference.head()"
   ]
  },
  {
   "cell_type": "code",
   "execution_count": 26,
   "metadata": {
    "tags": []
   },
   "outputs": [
    {
     "name": "stderr",
     "output_type": "stream",
     "text": [
      "[2024-07-12 15:11:13,057] p22383 {3717042138.py:3} INFO - eval_records_list has 360 entries\n"
     ]
    }
   ],
   "source": [
    "# convert the dataframe into a list of dicts as that is easy to parallize via Ray\n",
    "eval_records_list = json.loads(df_per_inference.to_json(orient='records'))\n",
    "logger.info(f\"eval_records_list has {len(eval_records_list)} entries\")"
   ]
  },
  {
   "cell_type": "markdown",
   "metadata": {},
   "source": [
    "### Run LLM as a Judge Evaluations\n",
    "---\n",
    "\n",
    "In this portion of the step, FMBench performs the following actions:\n",
    "\n",
    "1. If the method of evaluation is `Max Voting`, then in that case we suppose that a ground truth to the question from the context or task is pre existing in the dataset. We use the LLM panel of judges (in this case 3 judges), to give a verdict on whether the `answer` from the candidate models during inference is `correct` or `incorrect`. If the response is correct, then it gives it a `correct` and if not, then `incorrect`.\n",
    "\n",
    "1. If the method of evaluation is `Average Pooling`, then in that case we suppose that the completion from the candidate models are supposed to be evlauated on a more subjective criteria rather than just deciding whether it is correct or incorrect compared to the ground truth. In this case, the average pooling prompt templates are used by the Judge Panel to give a rating out of 1-5 to each model completion on different criteria, such as relevancy, helpfulness, correctness, and so on.\n",
    "\n",
    "1. Each model response is given in a JSON structure which is further used for downstream analytics, to decide the comparision of evaluation results between different model candidates and more.\n",
    "\n",
    "***This step takes about ~6 minutes to complete. Model completion time depends on the PoLL models being used. `Llama3-70b`, `Cohere command-r-v1` and `claude 3 haiku` were used for this example***"
   ]
  },
  {
   "cell_type": "code",
   "execution_count": 27,
   "metadata": {
    "tags": []
   },
   "outputs": [
    {
     "name": "stderr",
     "output_type": "stream",
     "text": [
      "[2024-07-12 15:11:13,061] p22383 {602205354.py:3} INFO - The judge panel list contains 3 judges: [{'model_id': 'anthropic.claude-3-haiku-20240307-v1:0', 'eval_prompt_template_dir': 'claude_eval_prompt_templates', 'eval_prompt_template_name_prefix': 'claude_eval'}, {'model_id': 'meta.llama3-70b-instruct-v1:0', 'eval_prompt_template_dir': 'llama3_eval_prompt_templates', 'eval_prompt_template_name_prefix': 'llama3_eval'}, {'model_id': 'cohere.command-r-v1:0', 'eval_prompt_template_dir': 'cohere_eval_prompt_templates', 'eval_prompt_template_name_prefix': 'cohere_eval'}]\n"
     ]
    }
   ],
   "source": [
    "# get the llm as a judge panel list\n",
    "judge_panel_list = model_eval_subjective_info.get('judge_panel_list', None)\n",
    "logger.info(f\"The judge panel list contains {len(judge_panel_list)} judges: {judge_panel_list}\")"
   ]
  },
  {
   "cell_type": "code",
   "execution_count": 28,
   "metadata": {
    "collapsed": true,
    "jupyter": {
     "outputs_hidden": true
    },
    "tags": []
   },
   "outputs": [
    {
     "name": "stderr",
     "output_type": "stream",
     "text": [
      "[2024-07-12 15:11:13,068] p22383 {3777942767.py:8} INFO - ============Running inference for judge panelist anthropic.claude-3-haiku-20240307-v1:0============\n",
      "[2024-07-12 15:11:13,069] p22383 {3777942767.py:11} INFO - getting inference for list 1/36, size of list=10\n",
      "[2024-07-12 15:11:17,417] p22383 {3777942767.py:11} INFO - getting inference for list 2/36, size of list=10\n",
      "[2024-07-12 15:11:19,521] p22383 {3777942767.py:11} INFO - getting inference for list 3/36, size of list=10\n",
      "[2024-07-12 15:11:22,305] p22383 {3777942767.py:11} INFO - getting inference for list 4/36, size of list=10\n",
      "[2024-07-12 15:11:24,693] p22383 {3777942767.py:11} INFO - getting inference for list 5/36, size of list=10\n",
      "[2024-07-12 15:11:26,832] p22383 {3777942767.py:11} INFO - getting inference for list 6/36, size of list=10\n",
      "[2024-07-12 15:11:29,895] p22383 {3777942767.py:11} INFO - getting inference for list 7/36, size of list=10\n",
      "[2024-07-12 15:11:32,575] p22383 {3777942767.py:11} INFO - getting inference for list 8/36, size of list=10\n",
      "[2024-07-12 15:11:34,641] p22383 {3777942767.py:11} INFO - getting inference for list 9/36, size of list=10\n",
      "[2024-07-12 15:11:37,521] p22383 {3777942767.py:11} INFO - getting inference for list 10/36, size of list=10\n",
      "[2024-07-12 15:11:39,876] p22383 {3777942767.py:11} INFO - getting inference for list 11/36, size of list=10\n",
      "[2024-07-12 15:11:42,084] p22383 {3777942767.py:11} INFO - getting inference for list 12/36, size of list=10\n",
      "[2024-07-12 15:11:44,943] p22383 {3777942767.py:11} INFO - getting inference for list 13/36, size of list=10\n",
      "[2024-07-12 15:11:47,469] p22383 {3777942767.py:11} INFO - getting inference for list 14/36, size of list=10\n",
      "[2024-07-12 15:11:49,633] p22383 {3777942767.py:11} INFO - getting inference for list 15/36, size of list=10\n",
      "[2024-07-12 15:11:52,556] p22383 {3777942767.py:11} INFO - getting inference for list 16/36, size of list=10\n",
      "[2024-07-12 15:11:55,341] p22383 {3777942767.py:11} INFO - getting inference for list 17/36, size of list=10\n",
      "[2024-07-12 15:11:57,430] p22383 {3777942767.py:11} INFO - getting inference for list 18/36, size of list=10\n",
      "[2024-07-12 15:12:00,337] p22383 {3777942767.py:11} INFO - getting inference for list 19/36, size of list=10\n",
      "[2024-07-12 15:12:03,157] p22383 {3777942767.py:11} INFO - getting inference for list 20/36, size of list=10\n",
      "[2024-07-12 15:12:05,422] p22383 {3777942767.py:11} INFO - getting inference for list 21/36, size of list=10\n",
      "[2024-07-12 15:12:09,157] p22383 {3777942767.py:11} INFO - getting inference for list 22/36, size of list=10\n",
      "[2024-07-12 15:12:11,980] p22383 {3777942767.py:11} INFO - getting inference for list 23/36, size of list=10\n",
      "[2024-07-12 15:12:14,346] p22383 {3777942767.py:11} INFO - getting inference for list 24/36, size of list=10\n",
      "[2024-07-12 15:12:17,266] p22383 {3777942767.py:11} INFO - getting inference for list 25/36, size of list=10\n",
      "[2024-07-12 15:12:19,713] p22383 {3777942767.py:11} INFO - getting inference for list 26/36, size of list=10\n",
      "[2024-07-12 15:12:22,057] p22383 {3777942767.py:11} INFO - getting inference for list 27/36, size of list=10\n",
      "[2024-07-12 15:12:25,280] p22383 {3777942767.py:11} INFO - getting inference for list 28/36, size of list=10\n",
      "[2024-07-12 15:12:27,961] p22383 {3777942767.py:11} INFO - getting inference for list 29/36, size of list=10\n",
      "[2024-07-12 15:12:30,046] p22383 {3777942767.py:11} INFO - getting inference for list 30/36, size of list=10\n",
      "[2024-07-12 15:12:33,151] p22383 {3777942767.py:11} INFO - getting inference for list 31/36, size of list=10\n",
      "[2024-07-12 15:12:35,512] p22383 {3777942767.py:11} INFO - getting inference for list 32/36, size of list=10\n",
      "[2024-07-12 15:12:37,643] p22383 {3777942767.py:11} INFO - getting inference for list 33/36, size of list=10\n",
      "[2024-07-12 15:12:40,007] p22383 {3777942767.py:11} INFO - getting inference for list 34/36, size of list=10\n",
      "[2024-07-12 15:12:42,424] p22383 {3777942767.py:11} INFO - getting inference for list 35/36, size of list=10\n",
      "[2024-07-12 15:12:44,447] p22383 {3777942767.py:11} INFO - getting inference for list 36/36, size of list=10\n",
      "[2024-07-12 15:12:46,759] p22383 {3777942767.py:8} INFO - ============Running inference for judge panelist meta.llama3-70b-instruct-v1:0============\n",
      "[2024-07-12 15:12:46,759] p22383 {3777942767.py:11} INFO - getting inference for list 1/36, size of list=10\n",
      "[2024-07-12 15:12:50,648] p22383 {3777942767.py:11} INFO - getting inference for list 2/36, size of list=10\n",
      "[2024-07-12 15:12:54,650] p22383 {3777942767.py:11} INFO - getting inference for list 3/36, size of list=10\n",
      "[2024-07-12 15:13:00,569] p22383 {3777942767.py:11} INFO - getting inference for list 4/36, size of list=10\n",
      "[2024-07-12 15:13:04,472] p22383 {3777942767.py:11} INFO - getting inference for list 5/36, size of list=10\n",
      "[2024-07-12 15:13:08,715] p22383 {3777942767.py:11} INFO - getting inference for list 6/36, size of list=10\n",
      "[2024-07-12 15:13:13,736] p22383 {3777942767.py:11} INFO - getting inference for list 7/36, size of list=10\n",
      "[2024-07-12 15:13:18,419] p22383 {3777942767.py:11} INFO - getting inference for list 8/36, size of list=10\n",
      "[2024-07-12 15:13:22,076] p22383 {3777942767.py:11} INFO - getting inference for list 9/36, size of list=10\n",
      "[2024-07-12 15:13:32,533] p22383 {3777942767.py:11} INFO - getting inference for list 10/36, size of list=10\n",
      "[2024-07-12 15:13:37,173] p22383 {3777942767.py:11} INFO - getting inference for list 11/36, size of list=10\n",
      "[2024-07-12 15:13:41,046] p22383 {3777942767.py:11} INFO - getting inference for list 12/36, size of list=10\n",
      "[2024-07-12 15:13:45,309] p22383 {3777942767.py:11} INFO - getting inference for list 13/36, size of list=10\n",
      "[2024-07-12 15:13:51,034] p22383 {3777942767.py:11} INFO - getting inference for list 14/36, size of list=10\n",
      "[2024-07-12 15:13:55,032] p22383 {3777942767.py:11} INFO - getting inference for list 15/36, size of list=10\n",
      "[2024-07-12 15:14:04,583] p22383 {3777942767.py:11} INFO - getting inference for list 16/36, size of list=10\n",
      "[2024-07-12 15:14:11,437] p22383 {3777942767.py:11} INFO - getting inference for list 17/36, size of list=10\n",
      "[2024-07-12 15:14:15,442] p22383 {3777942767.py:11} INFO - getting inference for list 18/36, size of list=10\n",
      "[2024-07-12 15:14:22,104] p22383 {3777942767.py:11} INFO - getting inference for list 19/36, size of list=10\n",
      "[2024-07-12 15:14:26,094] p22383 {3777942767.py:11} INFO - getting inference for list 20/36, size of list=10\n",
      "[2024-07-12 15:14:29,932] p22383 {3777942767.py:11} INFO - getting inference for list 21/36, size of list=10\n",
      "[2024-07-12 15:14:33,768] p22383 {3777942767.py:11} INFO - getting inference for list 22/36, size of list=10\n",
      "[2024-07-12 15:14:37,741] p22383 {3777942767.py:11} INFO - getting inference for list 23/36, size of list=10\n",
      "[2024-07-12 15:14:41,381] p22383 {3777942767.py:11} INFO - getting inference for list 24/36, size of list=10\n",
      "[2024-07-12 15:14:45,566] p22383 {3777942767.py:11} INFO - getting inference for list 25/36, size of list=10\n",
      "[2024-07-12 15:14:50,603] p22383 {3777942767.py:11} INFO - getting inference for list 26/36, size of list=10\n",
      "[2024-07-12 15:14:54,626] p22383 {3777942767.py:11} INFO - getting inference for list 27/36, size of list=10\n",
      "[2024-07-12 15:14:58,719] p22383 {3777942767.py:11} INFO - getting inference for list 28/36, size of list=10\n",
      "[2024-07-12 15:15:03,116] p22383 {3777942767.py:11} INFO - getting inference for list 29/36, size of list=10\n",
      "[2024-07-12 15:15:08,996] p22383 {3777942767.py:11} INFO - getting inference for list 30/36, size of list=10\n",
      "[2024-07-12 15:15:13,826] p22383 {3777942767.py:11} INFO - getting inference for list 31/36, size of list=10\n",
      "[2024-07-12 15:15:17,990] p22383 {3777942767.py:11} INFO - getting inference for list 32/36, size of list=10\n",
      "[2024-07-12 15:15:22,847] p22383 {3777942767.py:11} INFO - getting inference for list 33/36, size of list=10\n",
      "[2024-07-12 15:15:26,890] p22383 {3777942767.py:11} INFO - getting inference for list 34/36, size of list=10\n",
      "[2024-07-12 15:15:31,840] p22383 {3777942767.py:11} INFO - getting inference for list 35/36, size of list=10\n",
      "[2024-07-12 15:15:36,455] p22383 {3777942767.py:11} INFO - getting inference for list 36/36, size of list=10\n",
      "[2024-07-12 15:15:40,758] p22383 {3777942767.py:8} INFO - ============Running inference for judge panelist cohere.command-r-v1:0============\n",
      "[2024-07-12 15:15:40,758] p22383 {3777942767.py:11} INFO - getting inference for list 1/36, size of list=10\n",
      "[2024-07-12 15:15:43,059] p22383 {3777942767.py:11} INFO - getting inference for list 2/36, size of list=10\n",
      "[2024-07-12 15:15:45,122] p22383 {3777942767.py:11} INFO - getting inference for list 3/36, size of list=10\n",
      "[2024-07-12 15:15:47,492] p22383 {3777942767.py:11} INFO - getting inference for list 4/36, size of list=10\n",
      "[2024-07-12 15:15:49,658] p22383 {3777942767.py:11} INFO - getting inference for list 5/36, size of list=10\n",
      "[2024-07-12 15:15:51,637] p22383 {3777942767.py:11} INFO - getting inference for list 6/36, size of list=10\n",
      "[2024-07-12 15:15:53,889] p22383 {3777942767.py:11} INFO - getting inference for list 7/36, size of list=10\n",
      "[2024-07-12 15:15:56,181] p22383 {3777942767.py:11} INFO - getting inference for list 8/36, size of list=10\n",
      "[2024-07-12 15:15:58,130] p22383 {3777942767.py:11} INFO - getting inference for list 9/36, size of list=10\n",
      "[2024-07-12 15:16:00,639] p22383 {3777942767.py:11} INFO - getting inference for list 10/36, size of list=10\n",
      "[2024-07-12 15:16:02,951] p22383 {3777942767.py:11} INFO - getting inference for list 11/36, size of list=10\n",
      "[2024-07-12 15:16:04,956] p22383 {3777942767.py:11} INFO - getting inference for list 12/36, size of list=10\n",
      "[2024-07-12 15:16:07,181] p22383 {3777942767.py:11} INFO - getting inference for list 13/36, size of list=10\n",
      "[2024-07-12 15:16:09,466] p22383 {3777942767.py:11} INFO - getting inference for list 14/36, size of list=10\n",
      "[2024-07-12 15:16:11,363] p22383 {3777942767.py:11} INFO - getting inference for list 15/36, size of list=10\n",
      "[2024-07-12 15:16:13,630] p22383 {3777942767.py:11} INFO - getting inference for list 16/36, size of list=10\n",
      "[2024-07-12 15:16:15,628] p22383 {3777942767.py:11} INFO - getting inference for list 17/36, size of list=10\n",
      "[2024-07-12 15:16:17,478] p22383 {3777942767.py:11} INFO - getting inference for list 18/36, size of list=10\n",
      "[2024-07-12 15:16:19,513] p22383 {3777942767.py:11} INFO - getting inference for list 19/36, size of list=10\n",
      "[2024-07-12 15:16:21,713] p22383 {3777942767.py:11} INFO - getting inference for list 20/36, size of list=10\n",
      "[2024-07-12 15:16:24,027] p22383 {3777942767.py:11} INFO - getting inference for list 21/36, size of list=10\n",
      "[2024-07-12 15:16:26,667] p22383 {3777942767.py:11} INFO - getting inference for list 22/36, size of list=10\n",
      "[2024-07-12 15:16:28,927] p22383 {3777942767.py:11} INFO - getting inference for list 23/36, size of list=10\n",
      "[2024-07-12 15:16:30,876] p22383 {3777942767.py:11} INFO - getting inference for list 24/36, size of list=10\n",
      "[2024-07-12 15:16:33,242] p22383 {3777942767.py:11} INFO - getting inference for list 25/36, size of list=10\n",
      "[2024-07-12 15:16:35,434] p22383 {3777942767.py:11} INFO - getting inference for list 26/36, size of list=10\n",
      "[2024-07-12 15:16:37,432] p22383 {3777942767.py:11} INFO - getting inference for list 27/36, size of list=10\n",
      "[2024-07-12 15:16:39,761] p22383 {3777942767.py:11} INFO - getting inference for list 28/36, size of list=10\n",
      "[2024-07-12 15:16:42,056] p22383 {3777942767.py:11} INFO - getting inference for list 29/36, size of list=10\n",
      "[2024-07-12 15:16:43,914] p22383 {3777942767.py:11} INFO - getting inference for list 30/36, size of list=10\n",
      "[2024-07-12 15:16:46,235] p22383 {3777942767.py:11} INFO - getting inference for list 31/36, size of list=10\n",
      "[2024-07-12 15:16:48,612] p22383 {3777942767.py:11} INFO - getting inference for list 32/36, size of list=10\n",
      "[2024-07-12 15:16:50,542] p22383 {3777942767.py:11} INFO - getting inference for list 33/36, size of list=10\n",
      "[2024-07-12 15:16:53,039] p22383 {3777942767.py:11} INFO - getting inference for list 34/36, size of list=10\n",
      "[2024-07-12 15:16:55,309] p22383 {3777942767.py:11} INFO - getting inference for list 35/36, size of list=10\n",
      "[2024-07-12 15:16:57,284] p22383 {3777942767.py:11} INFO - getting inference for list 36/36, size of list=10\n",
      "[2024-07-12 15:16:59,691] p22383 {3777942767.py:18} INFO - Total elapsed time for inference: 346.62 seconds\n"
     ]
    }
   ],
   "source": [
    "n = model_eval_subjective_info.get('run_parallel_inference_count', 5)\n",
    "list_of_lists = [eval_records_list[i * n:(i + 1) * n] for i in range((len(eval_records_list) + n - 1) // n)]\n",
    "resp_list = []\n",
    "st = time.perf_counter()\n",
    "\n",
    "# Iterate over the judge panel and sublists\n",
    "for judge_panelist_info in judge_panel_list:\n",
    "    logger.info(f\"============Running inference for judge panelist {judge_panelist_info['model_id']}============\")\n",
    "    for idx, sublist in enumerate(list_of_lists):\n",
    "        model_id = judge_panelist_info['model_id']\n",
    "        logger.info(f\"getting inference for list {idx + 1}/{len(list_of_lists)}, size of list={len(sublist)}\")\n",
    "\n",
    "        # Run inference in parallel\n",
    "        resp_list.extend(ray.get([async_run_eval.remote(i + 1, len(sublist), record, model_id, method_name, record['uuid'])\n",
    "                                  for i, record in enumerate(sublist)]))\n",
    "\n",
    "elapsed_time = time.perf_counter() - st\n",
    "logger.info(f\"Total elapsed time for inference: {elapsed_time:.2f} seconds\")"
   ]
  },
  {
   "cell_type": "markdown",
   "metadata": {},
   "source": [
    "### Perform downstream analytical tasks on each PoLL evaluation result\n",
    "---"
   ]
  },
  {
   "cell_type": "code",
   "execution_count": 34,
   "metadata": {},
   "outputs": [
    {
     "name": "stderr",
     "output_type": "stream",
     "text": [
      "[2024-07-12 15:17:39,068] p22383 {1134668164.py:3} INFO - df_eval_results shape=(1080, 10)\n"
     ]
    },
    {
     "data": {
      "text/html": [
       "<div>\n",
       "<style scoped>\n",
       "    .dataframe tbody tr th:only-of-type {\n",
       "        vertical-align: middle;\n",
       "    }\n",
       "\n",
       "    .dataframe tbody tr th {\n",
       "        vertical-align: top;\n",
       "    }\n",
       "\n",
       "    .dataframe thead th {\n",
       "        text-align: right;\n",
       "    }\n",
       "</style>\n",
       "<table border=\"1\" class=\"dataframe\">\n",
       "  <thead>\n",
       "    <tr style=\"text-align: right;\">\n",
       "      <th></th>\n",
       "      <th>exception</th>\n",
       "      <th>prompt</th>\n",
       "      <th>completion</th>\n",
       "      <th>completion_token_count</th>\n",
       "      <th>prompt_token_count</th>\n",
       "      <th>model_id</th>\n",
       "      <th>candidate_model_response</th>\n",
       "      <th>candidate_model</th>\n",
       "      <th>cosine_similarity_score</th>\n",
       "      <th>ground_truth</th>\n",
       "    </tr>\n",
       "  </thead>\n",
       "  <tbody>\n",
       "    <tr>\n",
       "      <th>0</th>\n",
       "      <td>None</td>\n",
       "      <td>Human: You are a judge who evaluates the corre...</td>\n",
       "      <td>{\\n  \"verdict\": \"correct\",\\n  \"explanation\": \"...</td>\n",
       "      <td>63</td>\n",
       "      <td>856</td>\n",
       "      <td>anthropic.claude-3-haiku-20240307-v1:0</td>\n",
       "      <td>The genera Sinofranchetia and Stauntonia belon...</td>\n",
       "      <td>mistral.mistral-7b-instruct-v0:2</td>\n",
       "      <td>0.710724</td>\n",
       "      <td>a genus of flowering plant in the Lardizabalac...</td>\n",
       "    </tr>\n",
       "    <tr>\n",
       "      <th>1</th>\n",
       "      <td>None</td>\n",
       "      <td>Human: You are a judge who evaluates the corre...</td>\n",
       "      <td>{\\n  \"verdict\": \"correct\",\\n  \"explanation\": \"...</td>\n",
       "      <td>63</td>\n",
       "      <td>856</td>\n",
       "      <td>anthropic.claude-3-haiku-20240307-v1:0</td>\n",
       "      <td>The genera Sinofranchetia and Stauntonia belon...</td>\n",
       "      <td>mistral.mistral-7b-instruct-v0:2</td>\n",
       "      <td>0.710724</td>\n",
       "      <td>a genus of flowering plant in the Lardizabalac...</td>\n",
       "    </tr>\n",
       "    <tr>\n",
       "      <th>2</th>\n",
       "      <td>None</td>\n",
       "      <td>Human: You are a judge who evaluates the corre...</td>\n",
       "      <td>{\\n  \"verdict\": \"correct\",\\n  \"explanation\": \"...</td>\n",
       "      <td>63</td>\n",
       "      <td>856</td>\n",
       "      <td>anthropic.claude-3-haiku-20240307-v1:0</td>\n",
       "      <td>The genera Sinofranchetia and Stauntonia belon...</td>\n",
       "      <td>mistral.mistral-7b-instruct-v0:2</td>\n",
       "      <td>0.710724</td>\n",
       "      <td>a genus of flowering plant in the Lardizabalac...</td>\n",
       "    </tr>\n",
       "    <tr>\n",
       "      <th>3</th>\n",
       "      <td>None</td>\n",
       "      <td>Human: You are a judge who evaluates the corre...</td>\n",
       "      <td>{\\n  \"verdict\": \"correct\",\\n  \"explanation\": \"...</td>\n",
       "      <td>63</td>\n",
       "      <td>856</td>\n",
       "      <td>anthropic.claude-3-haiku-20240307-v1:0</td>\n",
       "      <td>The genera Sinofranchetia and Stauntonia belon...</td>\n",
       "      <td>mistral.mistral-7b-instruct-v0:2</td>\n",
       "      <td>0.710724</td>\n",
       "      <td>a genus of flowering plant in the Lardizabalac...</td>\n",
       "    </tr>\n",
       "    <tr>\n",
       "      <th>4</th>\n",
       "      <td>None</td>\n",
       "      <td>Human: You are a judge who evaluates the corre...</td>\n",
       "      <td>{\\n  \"verdict\": \"correct\",\\n  \"explanation\": \"...</td>\n",
       "      <td>63</td>\n",
       "      <td>856</td>\n",
       "      <td>anthropic.claude-3-haiku-20240307-v1:0</td>\n",
       "      <td>The genera Sinofranchetia and Stauntonia belon...</td>\n",
       "      <td>mistral.mistral-7b-instruct-v0:2</td>\n",
       "      <td>0.710724</td>\n",
       "      <td>a genus of flowering plant in the Lardizabalac...</td>\n",
       "    </tr>\n",
       "  </tbody>\n",
       "</table>\n",
       "</div>"
      ],
      "text/plain": [
       "  exception                                             prompt  \\\n",
       "0      None  Human: You are a judge who evaluates the corre...   \n",
       "1      None  Human: You are a judge who evaluates the corre...   \n",
       "2      None  Human: You are a judge who evaluates the corre...   \n",
       "3      None  Human: You are a judge who evaluates the corre...   \n",
       "4      None  Human: You are a judge who evaluates the corre...   \n",
       "\n",
       "                                          completion  completion_token_count  \\\n",
       "0  {\\n  \"verdict\": \"correct\",\\n  \"explanation\": \"...                      63   \n",
       "1  {\\n  \"verdict\": \"correct\",\\n  \"explanation\": \"...                      63   \n",
       "2  {\\n  \"verdict\": \"correct\",\\n  \"explanation\": \"...                      63   \n",
       "3  {\\n  \"verdict\": \"correct\",\\n  \"explanation\": \"...                      63   \n",
       "4  {\\n  \"verdict\": \"correct\",\\n  \"explanation\": \"...                      63   \n",
       "\n",
       "   prompt_token_count                                model_id  \\\n",
       "0                 856  anthropic.claude-3-haiku-20240307-v1:0   \n",
       "1                 856  anthropic.claude-3-haiku-20240307-v1:0   \n",
       "2                 856  anthropic.claude-3-haiku-20240307-v1:0   \n",
       "3                 856  anthropic.claude-3-haiku-20240307-v1:0   \n",
       "4                 856  anthropic.claude-3-haiku-20240307-v1:0   \n",
       "\n",
       "                            candidate_model_response  \\\n",
       "0  The genera Sinofranchetia and Stauntonia belon...   \n",
       "1  The genera Sinofranchetia and Stauntonia belon...   \n",
       "2  The genera Sinofranchetia and Stauntonia belon...   \n",
       "3  The genera Sinofranchetia and Stauntonia belon...   \n",
       "4  The genera Sinofranchetia and Stauntonia belon...   \n",
       "\n",
       "                    candidate_model  cosine_similarity_score  \\\n",
       "0  mistral.mistral-7b-instruct-v0:2                 0.710724   \n",
       "1  mistral.mistral-7b-instruct-v0:2                 0.710724   \n",
       "2  mistral.mistral-7b-instruct-v0:2                 0.710724   \n",
       "3  mistral.mistral-7b-instruct-v0:2                 0.710724   \n",
       "4  mistral.mistral-7b-instruct-v0:2                 0.710724   \n",
       "\n",
       "                                        ground_truth  \n",
       "0  a genus of flowering plant in the Lardizabalac...  \n",
       "1  a genus of flowering plant in the Lardizabalac...  \n",
       "2  a genus of flowering plant in the Lardizabalac...  \n",
       "3  a genus of flowering plant in the Lardizabalac...  \n",
       "4  a genus of flowering plant in the Lardizabalac...  "
      ]
     },
     "execution_count": 34,
     "metadata": {},
     "output_type": "execute_result"
    }
   ],
   "source": [
    "# convert the results list into a dataframe for easy analytics\n",
    "df_eval_results = pd.DataFrame(resp_list)\n",
    "logger.info(f\"df_eval_results shape={df_eval_results.shape}\")\n",
    "df_eval_results.head()"
   ]
  },
  {
   "cell_type": "code",
   "execution_count": 35,
   "metadata": {
    "tags": []
   },
   "outputs": [
    {
     "name": "stderr",
     "output_type": "stream",
     "text": [
      "[2024-07-12 15:17:39,720] p22383 {4249199706.py:6} INFO - df_eval_results shape=(1080, 12)\n"
     ]
    },
    {
     "name": "stdout",
     "output_type": "stream",
     "text": [
      "parse_as_json, error parsing string as json, string={    \"verdict\": \"correct\",    \"explanation\": \"The answer provided correctly identifies that both WAGS Atlanta and WAGS are American reality television series that chronicle the lives of \"WAGs\" (wives and girlfriends of high-profile athletes). The ground truth also confirms that they are both American reality television series, so the answer matches the ground truth.\"}\n",
      "parse_as_json, error parsing string as json, string={  \"verdict\": \"correct\",  \"explanation\": \"The answer provided correctly states that both WAGS Atlanta and WAGS are American reality television shows that chronicle the lives of \"WAGs\" (wives and girlfriends of high-profile athletes). This matches the ground truth that both are American reality television series.\"}\n",
      "parse_as_json, error parsing string as json, string={  \"verdict\": \"correct\",  \"explanation\": \"The answer provided correctly identifies that both WAGS Atlanta and WAGS are American reality television series that chronicle the lives of \"WAGs\" (wives and girlfriends of high-profile athletes). The ground truth also confirms that they are both American reality television series, so the answer matches the ground truth.\"}\n",
      "parse_as_json, error parsing string as json, string={  \"verdict\": \"correct\",  \"explanation\": \"The answer provided, \"reality television shows\", is correct compared to the ground truth answer of \"American reality television series\". Both WAGS Atlanta and WAGS are American reality television shows that chronicle the lives of wives and girlfriends of high-profile athletes.\"}\n"
     ]
    },
    {
     "data": {
      "text/html": [
       "<div>\n",
       "<style scoped>\n",
       "    .dataframe tbody tr th:only-of-type {\n",
       "        vertical-align: middle;\n",
       "    }\n",
       "\n",
       "    .dataframe tbody tr th {\n",
       "        vertical-align: top;\n",
       "    }\n",
       "\n",
       "    .dataframe thead th {\n",
       "        text-align: right;\n",
       "    }\n",
       "</style>\n",
       "<table border=\"1\" class=\"dataframe\">\n",
       "  <thead>\n",
       "    <tr style=\"text-align: right;\">\n",
       "      <th></th>\n",
       "      <th>exception</th>\n",
       "      <th>prompt</th>\n",
       "      <th>completion</th>\n",
       "      <th>completion_token_count</th>\n",
       "      <th>prompt_token_count</th>\n",
       "      <th>judge_model_id</th>\n",
       "      <th>candidate_model_response</th>\n",
       "      <th>candidate_model</th>\n",
       "      <th>cosine_similarity_score</th>\n",
       "      <th>ground_truth</th>\n",
       "      <th>verdict</th>\n",
       "      <th>explanation</th>\n",
       "    </tr>\n",
       "  </thead>\n",
       "  <tbody>\n",
       "    <tr>\n",
       "      <th>0</th>\n",
       "      <td>None</td>\n",
       "      <td>Human: You are a judge who evaluates the corre...</td>\n",
       "      <td>{\\n  \"verdict\": \"correct\",\\n  \"explanation\": \"...</td>\n",
       "      <td>63</td>\n",
       "      <td>856</td>\n",
       "      <td>anthropic.claude-3-haiku-20240307-v1:0</td>\n",
       "      <td>The genera Sinofranchetia and Stauntonia belon...</td>\n",
       "      <td>mistral.mistral-7b-instruct-v0:2</td>\n",
       "      <td>0.710724</td>\n",
       "      <td>a genus of flowering plant in the Lardizabalac...</td>\n",
       "      <td>correct</td>\n",
       "      <td>The answer provided correctly states that the ...</td>\n",
       "    </tr>\n",
       "    <tr>\n",
       "      <th>1</th>\n",
       "      <td>None</td>\n",
       "      <td>Human: You are a judge who evaluates the corre...</td>\n",
       "      <td>{\\n  \"verdict\": \"correct\",\\n  \"explanation\": \"...</td>\n",
       "      <td>63</td>\n",
       "      <td>856</td>\n",
       "      <td>anthropic.claude-3-haiku-20240307-v1:0</td>\n",
       "      <td>The genera Sinofranchetia and Stauntonia belon...</td>\n",
       "      <td>mistral.mistral-7b-instruct-v0:2</td>\n",
       "      <td>0.710724</td>\n",
       "      <td>a genus of flowering plant in the Lardizabalac...</td>\n",
       "      <td>correct</td>\n",
       "      <td>The answer provided correctly states that the ...</td>\n",
       "    </tr>\n",
       "    <tr>\n",
       "      <th>2</th>\n",
       "      <td>None</td>\n",
       "      <td>Human: You are a judge who evaluates the corre...</td>\n",
       "      <td>{\\n  \"verdict\": \"correct\",\\n  \"explanation\": \"...</td>\n",
       "      <td>63</td>\n",
       "      <td>856</td>\n",
       "      <td>anthropic.claude-3-haiku-20240307-v1:0</td>\n",
       "      <td>The genera Sinofranchetia and Stauntonia belon...</td>\n",
       "      <td>mistral.mistral-7b-instruct-v0:2</td>\n",
       "      <td>0.710724</td>\n",
       "      <td>a genus of flowering plant in the Lardizabalac...</td>\n",
       "      <td>correct</td>\n",
       "      <td>The answer provided correctly states that the ...</td>\n",
       "    </tr>\n",
       "    <tr>\n",
       "      <th>3</th>\n",
       "      <td>None</td>\n",
       "      <td>Human: You are a judge who evaluates the corre...</td>\n",
       "      <td>{\\n  \"verdict\": \"correct\",\\n  \"explanation\": \"...</td>\n",
       "      <td>63</td>\n",
       "      <td>856</td>\n",
       "      <td>anthropic.claude-3-haiku-20240307-v1:0</td>\n",
       "      <td>The genera Sinofranchetia and Stauntonia belon...</td>\n",
       "      <td>mistral.mistral-7b-instruct-v0:2</td>\n",
       "      <td>0.710724</td>\n",
       "      <td>a genus of flowering plant in the Lardizabalac...</td>\n",
       "      <td>correct</td>\n",
       "      <td>The answer provided correctly states that the ...</td>\n",
       "    </tr>\n",
       "    <tr>\n",
       "      <th>4</th>\n",
       "      <td>None</td>\n",
       "      <td>Human: You are a judge who evaluates the corre...</td>\n",
       "      <td>{\\n  \"verdict\": \"correct\",\\n  \"explanation\": \"...</td>\n",
       "      <td>63</td>\n",
       "      <td>856</td>\n",
       "      <td>anthropic.claude-3-haiku-20240307-v1:0</td>\n",
       "      <td>The genera Sinofranchetia and Stauntonia belon...</td>\n",
       "      <td>mistral.mistral-7b-instruct-v0:2</td>\n",
       "      <td>0.710724</td>\n",
       "      <td>a genus of flowering plant in the Lardizabalac...</td>\n",
       "      <td>correct</td>\n",
       "      <td>The answer provided correctly states that the ...</td>\n",
       "    </tr>\n",
       "  </tbody>\n",
       "</table>\n",
       "</div>"
      ],
      "text/plain": [
       "  exception                                             prompt  \\\n",
       "0      None  Human: You are a judge who evaluates the corre...   \n",
       "1      None  Human: You are a judge who evaluates the corre...   \n",
       "2      None  Human: You are a judge who evaluates the corre...   \n",
       "3      None  Human: You are a judge who evaluates the corre...   \n",
       "4      None  Human: You are a judge who evaluates the corre...   \n",
       "\n",
       "                                          completion  completion_token_count  \\\n",
       "0  {\\n  \"verdict\": \"correct\",\\n  \"explanation\": \"...                      63   \n",
       "1  {\\n  \"verdict\": \"correct\",\\n  \"explanation\": \"...                      63   \n",
       "2  {\\n  \"verdict\": \"correct\",\\n  \"explanation\": \"...                      63   \n",
       "3  {\\n  \"verdict\": \"correct\",\\n  \"explanation\": \"...                      63   \n",
       "4  {\\n  \"verdict\": \"correct\",\\n  \"explanation\": \"...                      63   \n",
       "\n",
       "   prompt_token_count                          judge_model_id  \\\n",
       "0                 856  anthropic.claude-3-haiku-20240307-v1:0   \n",
       "1                 856  anthropic.claude-3-haiku-20240307-v1:0   \n",
       "2                 856  anthropic.claude-3-haiku-20240307-v1:0   \n",
       "3                 856  anthropic.claude-3-haiku-20240307-v1:0   \n",
       "4                 856  anthropic.claude-3-haiku-20240307-v1:0   \n",
       "\n",
       "                            candidate_model_response  \\\n",
       "0  The genera Sinofranchetia and Stauntonia belon...   \n",
       "1  The genera Sinofranchetia and Stauntonia belon...   \n",
       "2  The genera Sinofranchetia and Stauntonia belon...   \n",
       "3  The genera Sinofranchetia and Stauntonia belon...   \n",
       "4  The genera Sinofranchetia and Stauntonia belon...   \n",
       "\n",
       "                    candidate_model  cosine_similarity_score  \\\n",
       "0  mistral.mistral-7b-instruct-v0:2                 0.710724   \n",
       "1  mistral.mistral-7b-instruct-v0:2                 0.710724   \n",
       "2  mistral.mistral-7b-instruct-v0:2                 0.710724   \n",
       "3  mistral.mistral-7b-instruct-v0:2                 0.710724   \n",
       "4  mistral.mistral-7b-instruct-v0:2                 0.710724   \n",
       "\n",
       "                                        ground_truth  verdict  \\\n",
       "0  a genus of flowering plant in the Lardizabalac...  correct   \n",
       "1  a genus of flowering plant in the Lardizabalac...  correct   \n",
       "2  a genus of flowering plant in the Lardizabalac...  correct   \n",
       "3  a genus of flowering plant in the Lardizabalac...  correct   \n",
       "4  a genus of flowering plant in the Lardizabalac...  correct   \n",
       "\n",
       "                                         explanation  \n",
       "0  The answer provided correctly states that the ...  \n",
       "1  The answer provided correctly states that the ...  \n",
       "2  The answer provided correctly states that the ...  \n",
       "3  The answer provided correctly states that the ...  \n",
       "4  The answer provided correctly states that the ...  "
      ]
     },
     "execution_count": 35,
     "metadata": {},
     "output_type": "execute_result"
    }
   ],
   "source": [
    "# parse out the completion from LLM as a judge and column bind\n",
    "# the fields of the dictionary to the original results dataframe\n",
    "df_eval_results_only = df_eval_results['completion'].apply(parse_as_json).apply(pd.Series)\n",
    "df_eval_results = pd.concat([df_eval_results, df_eval_results_only], axis=1)\n",
    "df_eval_results.rename(columns={'model_id': 'judge_model_id'}, inplace=True)\n",
    "logger.info(f\"df_eval_results shape={df_eval_results.shape}\")\n",
    "df_eval_results.head()"
   ]
  },
  {
   "cell_type": "code",
   "execution_count": 36,
   "metadata": {
    "tags": []
   },
   "outputs": [
    {
     "name": "stderr",
     "output_type": "stream",
     "text": [
      "[2024-07-12 15:17:40,296] p22383 {3367761925.py:10} INFO - Per PoLL model responses saved as a csv to s3://sagemaker-fmbench-write-us-west-2-387192758086/fmbench-bedrock-fmbench-stack-us-west-2-role/data/metrics/yyyy=2024/mm=07/dd=12/hh=15/mm=10/raw_llm_as_a_judge_evals.csv\n"
     ]
    },
    {
     "data": {
      "text/html": [
       "<div>\n",
       "<style scoped>\n",
       "    .dataframe tbody tr th:only-of-type {\n",
       "        vertical-align: middle;\n",
       "    }\n",
       "\n",
       "    .dataframe tbody tr th {\n",
       "        vertical-align: top;\n",
       "    }\n",
       "\n",
       "    .dataframe thead th {\n",
       "        text-align: right;\n",
       "    }\n",
       "</style>\n",
       "<table border=\"1\" class=\"dataframe\">\n",
       "  <thead>\n",
       "    <tr style=\"text-align: right;\">\n",
       "      <th></th>\n",
       "      <th>exception</th>\n",
       "      <th>prompt</th>\n",
       "      <th>completion</th>\n",
       "      <th>completion_token_count</th>\n",
       "      <th>prompt_token_count</th>\n",
       "      <th>judge_model_id</th>\n",
       "      <th>candidate_model_response</th>\n",
       "      <th>candidate_model</th>\n",
       "      <th>cosine_similarity_score</th>\n",
       "      <th>ground_truth</th>\n",
       "      <th>verdict</th>\n",
       "      <th>explanation</th>\n",
       "    </tr>\n",
       "  </thead>\n",
       "  <tbody>\n",
       "    <tr>\n",
       "      <th>0</th>\n",
       "      <td>None</td>\n",
       "      <td>Human: You are a judge who evaluates the corre...</td>\n",
       "      <td>{\\n  \"verdict\": \"correct\",\\n  \"explanation\": \"...</td>\n",
       "      <td>63</td>\n",
       "      <td>856</td>\n",
       "      <td>anthropic.claude-3-haiku-20240307-v1:0</td>\n",
       "      <td>The genera Sinofranchetia and Stauntonia belon...</td>\n",
       "      <td>mistral.mistral-7b-instruct-v0:2</td>\n",
       "      <td>0.710724</td>\n",
       "      <td>a genus of flowering plant in the Lardizabalac...</td>\n",
       "      <td>correct</td>\n",
       "      <td>The answer provided correctly states that the ...</td>\n",
       "    </tr>\n",
       "    <tr>\n",
       "      <th>1</th>\n",
       "      <td>None</td>\n",
       "      <td>Human: You are a judge who evaluates the corre...</td>\n",
       "      <td>{\\n  \"verdict\": \"correct\",\\n  \"explanation\": \"...</td>\n",
       "      <td>63</td>\n",
       "      <td>856</td>\n",
       "      <td>anthropic.claude-3-haiku-20240307-v1:0</td>\n",
       "      <td>The genera Sinofranchetia and Stauntonia belon...</td>\n",
       "      <td>mistral.mistral-7b-instruct-v0:2</td>\n",
       "      <td>0.710724</td>\n",
       "      <td>a genus of flowering plant in the Lardizabalac...</td>\n",
       "      <td>correct</td>\n",
       "      <td>The answer provided correctly states that the ...</td>\n",
       "    </tr>\n",
       "    <tr>\n",
       "      <th>2</th>\n",
       "      <td>None</td>\n",
       "      <td>Human: You are a judge who evaluates the corre...</td>\n",
       "      <td>{\\n  \"verdict\": \"correct\",\\n  \"explanation\": \"...</td>\n",
       "      <td>63</td>\n",
       "      <td>856</td>\n",
       "      <td>anthropic.claude-3-haiku-20240307-v1:0</td>\n",
       "      <td>The genera Sinofranchetia and Stauntonia belon...</td>\n",
       "      <td>mistral.mistral-7b-instruct-v0:2</td>\n",
       "      <td>0.710724</td>\n",
       "      <td>a genus of flowering plant in the Lardizabalac...</td>\n",
       "      <td>correct</td>\n",
       "      <td>The answer provided correctly states that the ...</td>\n",
       "    </tr>\n",
       "    <tr>\n",
       "      <th>3</th>\n",
       "      <td>None</td>\n",
       "      <td>Human: You are a judge who evaluates the corre...</td>\n",
       "      <td>{\\n  \"verdict\": \"correct\",\\n  \"explanation\": \"...</td>\n",
       "      <td>63</td>\n",
       "      <td>856</td>\n",
       "      <td>anthropic.claude-3-haiku-20240307-v1:0</td>\n",
       "      <td>The genera Sinofranchetia and Stauntonia belon...</td>\n",
       "      <td>mistral.mistral-7b-instruct-v0:2</td>\n",
       "      <td>0.710724</td>\n",
       "      <td>a genus of flowering plant in the Lardizabalac...</td>\n",
       "      <td>correct</td>\n",
       "      <td>The answer provided correctly states that the ...</td>\n",
       "    </tr>\n",
       "    <tr>\n",
       "      <th>4</th>\n",
       "      <td>None</td>\n",
       "      <td>Human: You are a judge who evaluates the corre...</td>\n",
       "      <td>{\\n  \"verdict\": \"correct\",\\n  \"explanation\": \"...</td>\n",
       "      <td>63</td>\n",
       "      <td>856</td>\n",
       "      <td>anthropic.claude-3-haiku-20240307-v1:0</td>\n",
       "      <td>The genera Sinofranchetia and Stauntonia belon...</td>\n",
       "      <td>mistral.mistral-7b-instruct-v0:2</td>\n",
       "      <td>0.710724</td>\n",
       "      <td>a genus of flowering plant in the Lardizabalac...</td>\n",
       "      <td>correct</td>\n",
       "      <td>The answer provided correctly states that the ...</td>\n",
       "    </tr>\n",
       "  </tbody>\n",
       "</table>\n",
       "</div>"
      ],
      "text/plain": [
       "  exception                                             prompt  \\\n",
       "0      None  Human: You are a judge who evaluates the corre...   \n",
       "1      None  Human: You are a judge who evaluates the corre...   \n",
       "2      None  Human: You are a judge who evaluates the corre...   \n",
       "3      None  Human: You are a judge who evaluates the corre...   \n",
       "4      None  Human: You are a judge who evaluates the corre...   \n",
       "\n",
       "                                          completion  completion_token_count  \\\n",
       "0  {\\n  \"verdict\": \"correct\",\\n  \"explanation\": \"...                      63   \n",
       "1  {\\n  \"verdict\": \"correct\",\\n  \"explanation\": \"...                      63   \n",
       "2  {\\n  \"verdict\": \"correct\",\\n  \"explanation\": \"...                      63   \n",
       "3  {\\n  \"verdict\": \"correct\",\\n  \"explanation\": \"...                      63   \n",
       "4  {\\n  \"verdict\": \"correct\",\\n  \"explanation\": \"...                      63   \n",
       "\n",
       "   prompt_token_count                          judge_model_id  \\\n",
       "0                 856  anthropic.claude-3-haiku-20240307-v1:0   \n",
       "1                 856  anthropic.claude-3-haiku-20240307-v1:0   \n",
       "2                 856  anthropic.claude-3-haiku-20240307-v1:0   \n",
       "3                 856  anthropic.claude-3-haiku-20240307-v1:0   \n",
       "4                 856  anthropic.claude-3-haiku-20240307-v1:0   \n",
       "\n",
       "                            candidate_model_response  \\\n",
       "0  The genera Sinofranchetia and Stauntonia belon...   \n",
       "1  The genera Sinofranchetia and Stauntonia belon...   \n",
       "2  The genera Sinofranchetia and Stauntonia belon...   \n",
       "3  The genera Sinofranchetia and Stauntonia belon...   \n",
       "4  The genera Sinofranchetia and Stauntonia belon...   \n",
       "\n",
       "                    candidate_model  cosine_similarity_score  \\\n",
       "0  mistral.mistral-7b-instruct-v0:2                 0.710724   \n",
       "1  mistral.mistral-7b-instruct-v0:2                 0.710724   \n",
       "2  mistral.mistral-7b-instruct-v0:2                 0.710724   \n",
       "3  mistral.mistral-7b-instruct-v0:2                 0.710724   \n",
       "4  mistral.mistral-7b-instruct-v0:2                 0.710724   \n",
       "\n",
       "                                        ground_truth  verdict  \\\n",
       "0  a genus of flowering plant in the Lardizabalac...  correct   \n",
       "1  a genus of flowering plant in the Lardizabalac...  correct   \n",
       "2  a genus of flowering plant in the Lardizabalac...  correct   \n",
       "3  a genus of flowering plant in the Lardizabalac...  correct   \n",
       "4  a genus of flowering plant in the Lardizabalac...  correct   \n",
       "\n",
       "                                         explanation  \n",
       "0  The answer provided correctly states that the ...  \n",
       "1  The answer provided correctly states that the ...  \n",
       "2  The answer provided correctly states that the ...  \n",
       "3  The answer provided correctly states that the ...  \n",
       "4  The answer provided correctly states that the ...  "
      ]
     },
     "execution_count": 36,
     "metadata": {},
     "output_type": "execute_result"
    }
   ],
   "source": [
    "# send the raw results as a csv file to the S3 bucket\n",
    "csv_buffer = io.StringIO()\n",
    "df_eval_results.to_csv(csv_buffer, index=False)\n",
    "eval_llm_as_a_judge_results = csv_buffer.getvalue()\n",
    "eval_results_csv_fpath = os.path.join(METRICS_DIR, MODEL_EVAL_COMPLETIONS_CSV)  # Define full S3 path\n",
    "\n",
    "# Write the CSV data to S3\n",
    "write_to_s3(eval_llm_as_a_judge_results, BUCKET_NAME, \"\", \n",
    "            METRICS_DIR, MODEL_EVAL_COMPLETIONS_CSV)\n",
    "logger.info(f\"Per PoLL model responses saved as a csv to s3://{BUCKET_NAME}/{eval_results_csv_fpath}\")\n",
    "df_eval_results.head()"
   ]
  },
  {
   "cell_type": "code",
   "execution_count": 37,
   "metadata": {
    "tags": []
   },
   "outputs": [],
   "source": [
    "panel_summary_responses_df = df_eval_results.groupby(['judge_model_id', 'candidate_model', 'verdict']).size().unstack(fill_value=0)\n",
    "panel_summary_responses_df.reset_index(inplace=True)"
   ]
  },
  {
   "cell_type": "code",
   "execution_count": 38,
   "metadata": {},
   "outputs": [
    {
     "name": "stderr",
     "output_type": "stream",
     "text": [
      "[2024-07-12 15:17:45,165] p22383 {1355189319.py:10} INFO - Summary on each eval (max voting/average pooling) for each panel judge sent to s3://sagemaker-fmbench-write-us-west-2-387192758086/fmbench-bedrock-fmbench-stack-us-west-2-role/data/metrics/yyyy=2024/mm=07/dd=12/hh=15/mm=10/llm_as_a_judge_per_eval_summary.csv\n"
     ]
    },
    {
     "data": {
      "text/html": [
       "<div>\n",
       "<style scoped>\n",
       "    .dataframe tbody tr th:only-of-type {\n",
       "        vertical-align: middle;\n",
       "    }\n",
       "\n",
       "    .dataframe tbody tr th {\n",
       "        vertical-align: top;\n",
       "    }\n",
       "\n",
       "    .dataframe thead th {\n",
       "        text-align: right;\n",
       "    }\n",
       "</style>\n",
       "<table border=\"1\" class=\"dataframe\">\n",
       "  <thead>\n",
       "    <tr style=\"text-align: right;\">\n",
       "      <th>verdict</th>\n",
       "      <th>judge_model_id</th>\n",
       "      <th>candidate_model</th>\n",
       "      <th>correct</th>\n",
       "      <th>incorrect</th>\n",
       "    </tr>\n",
       "  </thead>\n",
       "  <tbody>\n",
       "    <tr>\n",
       "      <th>0</th>\n",
       "      <td>anthropic.claude-3-haiku-20240307-v1:0</td>\n",
       "      <td>ai21.j2-mid-v1</td>\n",
       "      <td>30</td>\n",
       "      <td>0</td>\n",
       "    </tr>\n",
       "    <tr>\n",
       "      <th>1</th>\n",
       "      <td>anthropic.claude-3-haiku-20240307-v1:0</td>\n",
       "      <td>ai21.j2-ultra-v1</td>\n",
       "      <td>30</td>\n",
       "      <td>0</td>\n",
       "    </tr>\n",
       "    <tr>\n",
       "      <th>2</th>\n",
       "      <td>anthropic.claude-3-haiku-20240307-v1:0</td>\n",
       "      <td>amazon.titan-text-express-v1</td>\n",
       "      <td>30</td>\n",
       "      <td>0</td>\n",
       "    </tr>\n",
       "    <tr>\n",
       "      <th>3</th>\n",
       "      <td>anthropic.claude-3-haiku-20240307-v1:0</td>\n",
       "      <td>amazon.titan-text-lite-v1</td>\n",
       "      <td>27</td>\n",
       "      <td>3</td>\n",
       "    </tr>\n",
       "    <tr>\n",
       "      <th>4</th>\n",
       "      <td>anthropic.claude-3-haiku-20240307-v1:0</td>\n",
       "      <td>anthropic.claude-3-haiku-20240307-v1:0</td>\n",
       "      <td>27</td>\n",
       "      <td>0</td>\n",
       "    </tr>\n",
       "    <tr>\n",
       "      <th>5</th>\n",
       "      <td>anthropic.claude-3-haiku-20240307-v1:0</td>\n",
       "      <td>anthropic.claude-3-sonnet-20240229-v1:0</td>\n",
       "      <td>30</td>\n",
       "      <td>0</td>\n",
       "    </tr>\n",
       "    <tr>\n",
       "      <th>6</th>\n",
       "      <td>anthropic.claude-3-haiku-20240307-v1:0</td>\n",
       "      <td>cohere.command-light-text-v14</td>\n",
       "      <td>23</td>\n",
       "      <td>6</td>\n",
       "    </tr>\n",
       "    <tr>\n",
       "      <th>7</th>\n",
       "      <td>anthropic.claude-3-haiku-20240307-v1:0</td>\n",
       "      <td>cohere.command-text-v14</td>\n",
       "      <td>27</td>\n",
       "      <td>3</td>\n",
       "    </tr>\n",
       "    <tr>\n",
       "      <th>8</th>\n",
       "      <td>anthropic.claude-3-haiku-20240307-v1:0</td>\n",
       "      <td>meta.llama2-13b-chat-v1</td>\n",
       "      <td>27</td>\n",
       "      <td>3</td>\n",
       "    </tr>\n",
       "    <tr>\n",
       "      <th>9</th>\n",
       "      <td>anthropic.claude-3-haiku-20240307-v1:0</td>\n",
       "      <td>meta.llama2-70b-chat-v1</td>\n",
       "      <td>30</td>\n",
       "      <td>0</td>\n",
       "    </tr>\n",
       "    <tr>\n",
       "      <th>10</th>\n",
       "      <td>anthropic.claude-3-haiku-20240307-v1:0</td>\n",
       "      <td>mistral.mistral-7b-instruct-v0:2</td>\n",
       "      <td>30</td>\n",
       "      <td>0</td>\n",
       "    </tr>\n",
       "    <tr>\n",
       "      <th>11</th>\n",
       "      <td>anthropic.claude-3-haiku-20240307-v1:0</td>\n",
       "      <td>mistral.mixtral-8x7b-instruct-v0:1</td>\n",
       "      <td>27</td>\n",
       "      <td>3</td>\n",
       "    </tr>\n",
       "    <tr>\n",
       "      <th>12</th>\n",
       "      <td>cohere.command-r-v1:0</td>\n",
       "      <td>ai21.j2-mid-v1</td>\n",
       "      <td>30</td>\n",
       "      <td>0</td>\n",
       "    </tr>\n",
       "    <tr>\n",
       "      <th>13</th>\n",
       "      <td>cohere.command-r-v1:0</td>\n",
       "      <td>ai21.j2-ultra-v1</td>\n",
       "      <td>27</td>\n",
       "      <td>3</td>\n",
       "    </tr>\n",
       "    <tr>\n",
       "      <th>14</th>\n",
       "      <td>cohere.command-r-v1:0</td>\n",
       "      <td>amazon.titan-text-express-v1</td>\n",
       "      <td>29</td>\n",
       "      <td>1</td>\n",
       "    </tr>\n",
       "    <tr>\n",
       "      <th>15</th>\n",
       "      <td>cohere.command-r-v1:0</td>\n",
       "      <td>amazon.titan-text-lite-v1</td>\n",
       "      <td>26</td>\n",
       "      <td>4</td>\n",
       "    </tr>\n",
       "    <tr>\n",
       "      <th>16</th>\n",
       "      <td>cohere.command-r-v1:0</td>\n",
       "      <td>anthropic.claude-3-haiku-20240307-v1:0</td>\n",
       "      <td>30</td>\n",
       "      <td>0</td>\n",
       "    </tr>\n",
       "    <tr>\n",
       "      <th>17</th>\n",
       "      <td>cohere.command-r-v1:0</td>\n",
       "      <td>anthropic.claude-3-sonnet-20240229-v1:0</td>\n",
       "      <td>30</td>\n",
       "      <td>0</td>\n",
       "    </tr>\n",
       "    <tr>\n",
       "      <th>18</th>\n",
       "      <td>cohere.command-r-v1:0</td>\n",
       "      <td>cohere.command-light-text-v14</td>\n",
       "      <td>27</td>\n",
       "      <td>3</td>\n",
       "    </tr>\n",
       "    <tr>\n",
       "      <th>19</th>\n",
       "      <td>cohere.command-r-v1:0</td>\n",
       "      <td>cohere.command-text-v14</td>\n",
       "      <td>27</td>\n",
       "      <td>3</td>\n",
       "    </tr>\n",
       "    <tr>\n",
       "      <th>20</th>\n",
       "      <td>cohere.command-r-v1:0</td>\n",
       "      <td>meta.llama2-13b-chat-v1</td>\n",
       "      <td>27</td>\n",
       "      <td>3</td>\n",
       "    </tr>\n",
       "    <tr>\n",
       "      <th>21</th>\n",
       "      <td>cohere.command-r-v1:0</td>\n",
       "      <td>meta.llama2-70b-chat-v1</td>\n",
       "      <td>30</td>\n",
       "      <td>0</td>\n",
       "    </tr>\n",
       "    <tr>\n",
       "      <th>22</th>\n",
       "      <td>cohere.command-r-v1:0</td>\n",
       "      <td>mistral.mistral-7b-instruct-v0:2</td>\n",
       "      <td>30</td>\n",
       "      <td>0</td>\n",
       "    </tr>\n",
       "    <tr>\n",
       "      <th>23</th>\n",
       "      <td>cohere.command-r-v1:0</td>\n",
       "      <td>mistral.mixtral-8x7b-instruct-v0:1</td>\n",
       "      <td>27</td>\n",
       "      <td>3</td>\n",
       "    </tr>\n",
       "    <tr>\n",
       "      <th>24</th>\n",
       "      <td>meta.llama3-70b-instruct-v1:0</td>\n",
       "      <td>ai21.j2-mid-v1</td>\n",
       "      <td>30</td>\n",
       "      <td>0</td>\n",
       "    </tr>\n",
       "    <tr>\n",
       "      <th>25</th>\n",
       "      <td>meta.llama3-70b-instruct-v1:0</td>\n",
       "      <td>ai21.j2-ultra-v1</td>\n",
       "      <td>30</td>\n",
       "      <td>0</td>\n",
       "    </tr>\n",
       "    <tr>\n",
       "      <th>26</th>\n",
       "      <td>meta.llama3-70b-instruct-v1:0</td>\n",
       "      <td>amazon.titan-text-express-v1</td>\n",
       "      <td>30</td>\n",
       "      <td>0</td>\n",
       "    </tr>\n",
       "    <tr>\n",
       "      <th>27</th>\n",
       "      <td>meta.llama3-70b-instruct-v1:0</td>\n",
       "      <td>amazon.titan-text-lite-v1</td>\n",
       "      <td>27</td>\n",
       "      <td>3</td>\n",
       "    </tr>\n",
       "    <tr>\n",
       "      <th>28</th>\n",
       "      <td>meta.llama3-70b-instruct-v1:0</td>\n",
       "      <td>anthropic.claude-3-haiku-20240307-v1:0</td>\n",
       "      <td>30</td>\n",
       "      <td>0</td>\n",
       "    </tr>\n",
       "    <tr>\n",
       "      <th>29</th>\n",
       "      <td>meta.llama3-70b-instruct-v1:0</td>\n",
       "      <td>anthropic.claude-3-sonnet-20240229-v1:0</td>\n",
       "      <td>30</td>\n",
       "      <td>0</td>\n",
       "    </tr>\n",
       "    <tr>\n",
       "      <th>30</th>\n",
       "      <td>meta.llama3-70b-instruct-v1:0</td>\n",
       "      <td>cohere.command-light-text-v14</td>\n",
       "      <td>24</td>\n",
       "      <td>6</td>\n",
       "    </tr>\n",
       "    <tr>\n",
       "      <th>31</th>\n",
       "      <td>meta.llama3-70b-instruct-v1:0</td>\n",
       "      <td>cohere.command-text-v14</td>\n",
       "      <td>27</td>\n",
       "      <td>3</td>\n",
       "    </tr>\n",
       "    <tr>\n",
       "      <th>32</th>\n",
       "      <td>meta.llama3-70b-instruct-v1:0</td>\n",
       "      <td>meta.llama2-13b-chat-v1</td>\n",
       "      <td>27</td>\n",
       "      <td>3</td>\n",
       "    </tr>\n",
       "    <tr>\n",
       "      <th>33</th>\n",
       "      <td>meta.llama3-70b-instruct-v1:0</td>\n",
       "      <td>meta.llama2-70b-chat-v1</td>\n",
       "      <td>30</td>\n",
       "      <td>0</td>\n",
       "    </tr>\n",
       "    <tr>\n",
       "      <th>34</th>\n",
       "      <td>meta.llama3-70b-instruct-v1:0</td>\n",
       "      <td>mistral.mistral-7b-instruct-v0:2</td>\n",
       "      <td>30</td>\n",
       "      <td>0</td>\n",
       "    </tr>\n",
       "    <tr>\n",
       "      <th>35</th>\n",
       "      <td>meta.llama3-70b-instruct-v1:0</td>\n",
       "      <td>mistral.mixtral-8x7b-instruct-v0:1</td>\n",
       "      <td>27</td>\n",
       "      <td>3</td>\n",
       "    </tr>\n",
       "  </tbody>\n",
       "</table>\n",
       "</div>"
      ],
      "text/plain": [
       "verdict                          judge_model_id  \\\n",
       "0        anthropic.claude-3-haiku-20240307-v1:0   \n",
       "1        anthropic.claude-3-haiku-20240307-v1:0   \n",
       "2        anthropic.claude-3-haiku-20240307-v1:0   \n",
       "3        anthropic.claude-3-haiku-20240307-v1:0   \n",
       "4        anthropic.claude-3-haiku-20240307-v1:0   \n",
       "5        anthropic.claude-3-haiku-20240307-v1:0   \n",
       "6        anthropic.claude-3-haiku-20240307-v1:0   \n",
       "7        anthropic.claude-3-haiku-20240307-v1:0   \n",
       "8        anthropic.claude-3-haiku-20240307-v1:0   \n",
       "9        anthropic.claude-3-haiku-20240307-v1:0   \n",
       "10       anthropic.claude-3-haiku-20240307-v1:0   \n",
       "11       anthropic.claude-3-haiku-20240307-v1:0   \n",
       "12                        cohere.command-r-v1:0   \n",
       "13                        cohere.command-r-v1:0   \n",
       "14                        cohere.command-r-v1:0   \n",
       "15                        cohere.command-r-v1:0   \n",
       "16                        cohere.command-r-v1:0   \n",
       "17                        cohere.command-r-v1:0   \n",
       "18                        cohere.command-r-v1:0   \n",
       "19                        cohere.command-r-v1:0   \n",
       "20                        cohere.command-r-v1:0   \n",
       "21                        cohere.command-r-v1:0   \n",
       "22                        cohere.command-r-v1:0   \n",
       "23                        cohere.command-r-v1:0   \n",
       "24                meta.llama3-70b-instruct-v1:0   \n",
       "25                meta.llama3-70b-instruct-v1:0   \n",
       "26                meta.llama3-70b-instruct-v1:0   \n",
       "27                meta.llama3-70b-instruct-v1:0   \n",
       "28                meta.llama3-70b-instruct-v1:0   \n",
       "29                meta.llama3-70b-instruct-v1:0   \n",
       "30                meta.llama3-70b-instruct-v1:0   \n",
       "31                meta.llama3-70b-instruct-v1:0   \n",
       "32                meta.llama3-70b-instruct-v1:0   \n",
       "33                meta.llama3-70b-instruct-v1:0   \n",
       "34                meta.llama3-70b-instruct-v1:0   \n",
       "35                meta.llama3-70b-instruct-v1:0   \n",
       "\n",
       "verdict                          candidate_model  correct  incorrect  \n",
       "0                                 ai21.j2-mid-v1       30          0  \n",
       "1                               ai21.j2-ultra-v1       30          0  \n",
       "2                   amazon.titan-text-express-v1       30          0  \n",
       "3                      amazon.titan-text-lite-v1       27          3  \n",
       "4         anthropic.claude-3-haiku-20240307-v1:0       27          0  \n",
       "5        anthropic.claude-3-sonnet-20240229-v1:0       30          0  \n",
       "6                  cohere.command-light-text-v14       23          6  \n",
       "7                        cohere.command-text-v14       27          3  \n",
       "8                        meta.llama2-13b-chat-v1       27          3  \n",
       "9                        meta.llama2-70b-chat-v1       30          0  \n",
       "10              mistral.mistral-7b-instruct-v0:2       30          0  \n",
       "11            mistral.mixtral-8x7b-instruct-v0:1       27          3  \n",
       "12                                ai21.j2-mid-v1       30          0  \n",
       "13                              ai21.j2-ultra-v1       27          3  \n",
       "14                  amazon.titan-text-express-v1       29          1  \n",
       "15                     amazon.titan-text-lite-v1       26          4  \n",
       "16        anthropic.claude-3-haiku-20240307-v1:0       30          0  \n",
       "17       anthropic.claude-3-sonnet-20240229-v1:0       30          0  \n",
       "18                 cohere.command-light-text-v14       27          3  \n",
       "19                       cohere.command-text-v14       27          3  \n",
       "20                       meta.llama2-13b-chat-v1       27          3  \n",
       "21                       meta.llama2-70b-chat-v1       30          0  \n",
       "22              mistral.mistral-7b-instruct-v0:2       30          0  \n",
       "23            mistral.mixtral-8x7b-instruct-v0:1       27          3  \n",
       "24                                ai21.j2-mid-v1       30          0  \n",
       "25                              ai21.j2-ultra-v1       30          0  \n",
       "26                  amazon.titan-text-express-v1       30          0  \n",
       "27                     amazon.titan-text-lite-v1       27          3  \n",
       "28        anthropic.claude-3-haiku-20240307-v1:0       30          0  \n",
       "29       anthropic.claude-3-sonnet-20240229-v1:0       30          0  \n",
       "30                 cohere.command-light-text-v14       24          6  \n",
       "31                       cohere.command-text-v14       27          3  \n",
       "32                       meta.llama2-13b-chat-v1       27          3  \n",
       "33                       meta.llama2-70b-chat-v1       30          0  \n",
       "34              mistral.mistral-7b-instruct-v0:2       30          0  \n",
       "35            mistral.mixtral-8x7b-instruct-v0:1       27          3  "
      ]
     },
     "execution_count": 38,
     "metadata": {},
     "output_type": "execute_result"
    }
   ],
   "source": [
    "# send the raw results as a csv file to the S3 bucket\n",
    "csv_buffer = io.StringIO()\n",
    "panel_summary_responses_df.to_csv(csv_buffer, index=False)\n",
    "panel_summary_responses = csv_buffer.getvalue()\n",
    "llm_as_a_judge_per_eval_summary_fpath = os.path.join(METRICS_DIR, LLM_JUDGE_PANEL_RESPONSE_SUMMARIES)  # Define full S3 path\n",
    "\n",
    "# Write the CSV data to S3\n",
    "write_to_s3(panel_summary_responses, BUCKET_NAME, \"\", \n",
    "            METRICS_DIR, LLM_JUDGE_PANEL_RESPONSE_SUMMARIES)\n",
    "logger.info(f\"Summary on each eval (max voting/average pooling) for each panel judge sent to s3://{BUCKET_NAME}/{llm_as_a_judge_per_eval_summary_fpath}\")\n",
    "panel_summary_responses_df.head(40)"
   ]
  },
  {
   "cell_type": "markdown",
   "metadata": {},
   "source": [
    "#### Calculate the overall accuracy of each model scored by the PoLL\n",
    "---"
   ]
  },
  {
   "cell_type": "code",
   "execution_count": 39,
   "metadata": {
    "tags": []
   },
   "outputs": [
    {
     "data": {
      "text/html": [
       "<div>\n",
       "<style scoped>\n",
       "    .dataframe tbody tr th:only-of-type {\n",
       "        vertical-align: middle;\n",
       "    }\n",
       "\n",
       "    .dataframe tbody tr th {\n",
       "        vertical-align: top;\n",
       "    }\n",
       "\n",
       "    .dataframe thead th {\n",
       "        text-align: right;\n",
       "    }\n",
       "</style>\n",
       "<table border=\"1\" class=\"dataframe\">\n",
       "  <thead>\n",
       "    <tr style=\"text-align: right;\">\n",
       "      <th>verdict</th>\n",
       "      <th>candidate_model</th>\n",
       "      <th>judge_model_id</th>\n",
       "      <th>accuracy</th>\n",
       "      <th>error_rate</th>\n",
       "    </tr>\n",
       "  </thead>\n",
       "  <tbody>\n",
       "    <tr>\n",
       "      <th>0</th>\n",
       "      <td>ai21.j2-mid-v1</td>\n",
       "      <td>anthropic.claude-3-haiku-20240307-v1:0</td>\n",
       "      <td>100.0</td>\n",
       "      <td>0.0</td>\n",
       "    </tr>\n",
       "    <tr>\n",
       "      <th>1</th>\n",
       "      <td>ai21.j2-mid-v1</td>\n",
       "      <td>cohere.command-r-v1:0</td>\n",
       "      <td>100.0</td>\n",
       "      <td>0.0</td>\n",
       "    </tr>\n",
       "    <tr>\n",
       "      <th>2</th>\n",
       "      <td>ai21.j2-mid-v1</td>\n",
       "      <td>meta.llama3-70b-instruct-v1:0</td>\n",
       "      <td>100.0</td>\n",
       "      <td>0.0</td>\n",
       "    </tr>\n",
       "    <tr>\n",
       "      <th>3</th>\n",
       "      <td>ai21.j2-ultra-v1</td>\n",
       "      <td>anthropic.claude-3-haiku-20240307-v1:0</td>\n",
       "      <td>100.0</td>\n",
       "      <td>0.0</td>\n",
       "    </tr>\n",
       "    <tr>\n",
       "      <th>4</th>\n",
       "      <td>ai21.j2-ultra-v1</td>\n",
       "      <td>cohere.command-r-v1:0</td>\n",
       "      <td>90.0</td>\n",
       "      <td>10.0</td>\n",
       "    </tr>\n",
       "    <tr>\n",
       "      <th>5</th>\n",
       "      <td>ai21.j2-ultra-v1</td>\n",
       "      <td>meta.llama3-70b-instruct-v1:0</td>\n",
       "      <td>100.0</td>\n",
       "      <td>0.0</td>\n",
       "    </tr>\n",
       "    <tr>\n",
       "      <th>6</th>\n",
       "      <td>amazon.titan-text-express-v1</td>\n",
       "      <td>anthropic.claude-3-haiku-20240307-v1:0</td>\n",
       "      <td>100.0</td>\n",
       "      <td>0.0</td>\n",
       "    </tr>\n",
       "    <tr>\n",
       "      <th>7</th>\n",
       "      <td>amazon.titan-text-express-v1</td>\n",
       "      <td>cohere.command-r-v1:0</td>\n",
       "      <td>97.0</td>\n",
       "      <td>3.0</td>\n",
       "    </tr>\n",
       "    <tr>\n",
       "      <th>8</th>\n",
       "      <td>amazon.titan-text-express-v1</td>\n",
       "      <td>meta.llama3-70b-instruct-v1:0</td>\n",
       "      <td>100.0</td>\n",
       "      <td>0.0</td>\n",
       "    </tr>\n",
       "    <tr>\n",
       "      <th>9</th>\n",
       "      <td>amazon.titan-text-lite-v1</td>\n",
       "      <td>anthropic.claude-3-haiku-20240307-v1:0</td>\n",
       "      <td>90.0</td>\n",
       "      <td>10.0</td>\n",
       "    </tr>\n",
       "    <tr>\n",
       "      <th>10</th>\n",
       "      <td>amazon.titan-text-lite-v1</td>\n",
       "      <td>cohere.command-r-v1:0</td>\n",
       "      <td>87.0</td>\n",
       "      <td>13.0</td>\n",
       "    </tr>\n",
       "    <tr>\n",
       "      <th>11</th>\n",
       "      <td>amazon.titan-text-lite-v1</td>\n",
       "      <td>meta.llama3-70b-instruct-v1:0</td>\n",
       "      <td>90.0</td>\n",
       "      <td>10.0</td>\n",
       "    </tr>\n",
       "    <tr>\n",
       "      <th>12</th>\n",
       "      <td>anthropic.claude-3-haiku-20240307-v1:0</td>\n",
       "      <td>anthropic.claude-3-haiku-20240307-v1:0</td>\n",
       "      <td>100.0</td>\n",
       "      <td>0.0</td>\n",
       "    </tr>\n",
       "    <tr>\n",
       "      <th>13</th>\n",
       "      <td>anthropic.claude-3-haiku-20240307-v1:0</td>\n",
       "      <td>cohere.command-r-v1:0</td>\n",
       "      <td>100.0</td>\n",
       "      <td>0.0</td>\n",
       "    </tr>\n",
       "    <tr>\n",
       "      <th>14</th>\n",
       "      <td>anthropic.claude-3-haiku-20240307-v1:0</td>\n",
       "      <td>meta.llama3-70b-instruct-v1:0</td>\n",
       "      <td>100.0</td>\n",
       "      <td>0.0</td>\n",
       "    </tr>\n",
       "    <tr>\n",
       "      <th>15</th>\n",
       "      <td>anthropic.claude-3-sonnet-20240229-v1:0</td>\n",
       "      <td>anthropic.claude-3-haiku-20240307-v1:0</td>\n",
       "      <td>100.0</td>\n",
       "      <td>0.0</td>\n",
       "    </tr>\n",
       "    <tr>\n",
       "      <th>16</th>\n",
       "      <td>anthropic.claude-3-sonnet-20240229-v1:0</td>\n",
       "      <td>cohere.command-r-v1:0</td>\n",
       "      <td>100.0</td>\n",
       "      <td>0.0</td>\n",
       "    </tr>\n",
       "    <tr>\n",
       "      <th>17</th>\n",
       "      <td>anthropic.claude-3-sonnet-20240229-v1:0</td>\n",
       "      <td>meta.llama3-70b-instruct-v1:0</td>\n",
       "      <td>100.0</td>\n",
       "      <td>0.0</td>\n",
       "    </tr>\n",
       "    <tr>\n",
       "      <th>18</th>\n",
       "      <td>cohere.command-light-text-v14</td>\n",
       "      <td>anthropic.claude-3-haiku-20240307-v1:0</td>\n",
       "      <td>79.0</td>\n",
       "      <td>21.0</td>\n",
       "    </tr>\n",
       "    <tr>\n",
       "      <th>19</th>\n",
       "      <td>cohere.command-light-text-v14</td>\n",
       "      <td>cohere.command-r-v1:0</td>\n",
       "      <td>90.0</td>\n",
       "      <td>10.0</td>\n",
       "    </tr>\n",
       "    <tr>\n",
       "      <th>20</th>\n",
       "      <td>cohere.command-light-text-v14</td>\n",
       "      <td>meta.llama3-70b-instruct-v1:0</td>\n",
       "      <td>80.0</td>\n",
       "      <td>20.0</td>\n",
       "    </tr>\n",
       "    <tr>\n",
       "      <th>21</th>\n",
       "      <td>cohere.command-text-v14</td>\n",
       "      <td>anthropic.claude-3-haiku-20240307-v1:0</td>\n",
       "      <td>90.0</td>\n",
       "      <td>10.0</td>\n",
       "    </tr>\n",
       "    <tr>\n",
       "      <th>22</th>\n",
       "      <td>cohere.command-text-v14</td>\n",
       "      <td>cohere.command-r-v1:0</td>\n",
       "      <td>90.0</td>\n",
       "      <td>10.0</td>\n",
       "    </tr>\n",
       "    <tr>\n",
       "      <th>23</th>\n",
       "      <td>cohere.command-text-v14</td>\n",
       "      <td>meta.llama3-70b-instruct-v1:0</td>\n",
       "      <td>90.0</td>\n",
       "      <td>10.0</td>\n",
       "    </tr>\n",
       "    <tr>\n",
       "      <th>24</th>\n",
       "      <td>meta.llama2-13b-chat-v1</td>\n",
       "      <td>anthropic.claude-3-haiku-20240307-v1:0</td>\n",
       "      <td>90.0</td>\n",
       "      <td>10.0</td>\n",
       "    </tr>\n",
       "    <tr>\n",
       "      <th>25</th>\n",
       "      <td>meta.llama2-13b-chat-v1</td>\n",
       "      <td>cohere.command-r-v1:0</td>\n",
       "      <td>90.0</td>\n",
       "      <td>10.0</td>\n",
       "    </tr>\n",
       "    <tr>\n",
       "      <th>26</th>\n",
       "      <td>meta.llama2-13b-chat-v1</td>\n",
       "      <td>meta.llama3-70b-instruct-v1:0</td>\n",
       "      <td>90.0</td>\n",
       "      <td>10.0</td>\n",
       "    </tr>\n",
       "    <tr>\n",
       "      <th>27</th>\n",
       "      <td>meta.llama2-70b-chat-v1</td>\n",
       "      <td>anthropic.claude-3-haiku-20240307-v1:0</td>\n",
       "      <td>100.0</td>\n",
       "      <td>0.0</td>\n",
       "    </tr>\n",
       "    <tr>\n",
       "      <th>28</th>\n",
       "      <td>meta.llama2-70b-chat-v1</td>\n",
       "      <td>cohere.command-r-v1:0</td>\n",
       "      <td>100.0</td>\n",
       "      <td>0.0</td>\n",
       "    </tr>\n",
       "    <tr>\n",
       "      <th>29</th>\n",
       "      <td>meta.llama2-70b-chat-v1</td>\n",
       "      <td>meta.llama3-70b-instruct-v1:0</td>\n",
       "      <td>100.0</td>\n",
       "      <td>0.0</td>\n",
       "    </tr>\n",
       "    <tr>\n",
       "      <th>30</th>\n",
       "      <td>mistral.mistral-7b-instruct-v0:2</td>\n",
       "      <td>anthropic.claude-3-haiku-20240307-v1:0</td>\n",
       "      <td>100.0</td>\n",
       "      <td>0.0</td>\n",
       "    </tr>\n",
       "    <tr>\n",
       "      <th>31</th>\n",
       "      <td>mistral.mistral-7b-instruct-v0:2</td>\n",
       "      <td>cohere.command-r-v1:0</td>\n",
       "      <td>100.0</td>\n",
       "      <td>0.0</td>\n",
       "    </tr>\n",
       "    <tr>\n",
       "      <th>32</th>\n",
       "      <td>mistral.mistral-7b-instruct-v0:2</td>\n",
       "      <td>meta.llama3-70b-instruct-v1:0</td>\n",
       "      <td>100.0</td>\n",
       "      <td>0.0</td>\n",
       "    </tr>\n",
       "    <tr>\n",
       "      <th>33</th>\n",
       "      <td>mistral.mixtral-8x7b-instruct-v0:1</td>\n",
       "      <td>anthropic.claude-3-haiku-20240307-v1:0</td>\n",
       "      <td>90.0</td>\n",
       "      <td>10.0</td>\n",
       "    </tr>\n",
       "    <tr>\n",
       "      <th>34</th>\n",
       "      <td>mistral.mixtral-8x7b-instruct-v0:1</td>\n",
       "      <td>cohere.command-r-v1:0</td>\n",
       "      <td>90.0</td>\n",
       "      <td>10.0</td>\n",
       "    </tr>\n",
       "    <tr>\n",
       "      <th>35</th>\n",
       "      <td>mistral.mixtral-8x7b-instruct-v0:1</td>\n",
       "      <td>meta.llama3-70b-instruct-v1:0</td>\n",
       "      <td>90.0</td>\n",
       "      <td>10.0</td>\n",
       "    </tr>\n",
       "  </tbody>\n",
       "</table>\n",
       "</div>"
      ],
      "text/plain": [
       "verdict                          candidate_model  \\\n",
       "0                                 ai21.j2-mid-v1   \n",
       "1                                 ai21.j2-mid-v1   \n",
       "2                                 ai21.j2-mid-v1   \n",
       "3                               ai21.j2-ultra-v1   \n",
       "4                               ai21.j2-ultra-v1   \n",
       "5                               ai21.j2-ultra-v1   \n",
       "6                   amazon.titan-text-express-v1   \n",
       "7                   amazon.titan-text-express-v1   \n",
       "8                   amazon.titan-text-express-v1   \n",
       "9                      amazon.titan-text-lite-v1   \n",
       "10                     amazon.titan-text-lite-v1   \n",
       "11                     amazon.titan-text-lite-v1   \n",
       "12        anthropic.claude-3-haiku-20240307-v1:0   \n",
       "13        anthropic.claude-3-haiku-20240307-v1:0   \n",
       "14        anthropic.claude-3-haiku-20240307-v1:0   \n",
       "15       anthropic.claude-3-sonnet-20240229-v1:0   \n",
       "16       anthropic.claude-3-sonnet-20240229-v1:0   \n",
       "17       anthropic.claude-3-sonnet-20240229-v1:0   \n",
       "18                 cohere.command-light-text-v14   \n",
       "19                 cohere.command-light-text-v14   \n",
       "20                 cohere.command-light-text-v14   \n",
       "21                       cohere.command-text-v14   \n",
       "22                       cohere.command-text-v14   \n",
       "23                       cohere.command-text-v14   \n",
       "24                       meta.llama2-13b-chat-v1   \n",
       "25                       meta.llama2-13b-chat-v1   \n",
       "26                       meta.llama2-13b-chat-v1   \n",
       "27                       meta.llama2-70b-chat-v1   \n",
       "28                       meta.llama2-70b-chat-v1   \n",
       "29                       meta.llama2-70b-chat-v1   \n",
       "30              mistral.mistral-7b-instruct-v0:2   \n",
       "31              mistral.mistral-7b-instruct-v0:2   \n",
       "32              mistral.mistral-7b-instruct-v0:2   \n",
       "33            mistral.mixtral-8x7b-instruct-v0:1   \n",
       "34            mistral.mixtral-8x7b-instruct-v0:1   \n",
       "35            mistral.mixtral-8x7b-instruct-v0:1   \n",
       "\n",
       "verdict                          judge_model_id  accuracy  error_rate  \n",
       "0        anthropic.claude-3-haiku-20240307-v1:0     100.0         0.0  \n",
       "1                         cohere.command-r-v1:0     100.0         0.0  \n",
       "2                 meta.llama3-70b-instruct-v1:0     100.0         0.0  \n",
       "3        anthropic.claude-3-haiku-20240307-v1:0     100.0         0.0  \n",
       "4                         cohere.command-r-v1:0      90.0        10.0  \n",
       "5                 meta.llama3-70b-instruct-v1:0     100.0         0.0  \n",
       "6        anthropic.claude-3-haiku-20240307-v1:0     100.0         0.0  \n",
       "7                         cohere.command-r-v1:0      97.0         3.0  \n",
       "8                 meta.llama3-70b-instruct-v1:0     100.0         0.0  \n",
       "9        anthropic.claude-3-haiku-20240307-v1:0      90.0        10.0  \n",
       "10                        cohere.command-r-v1:0      87.0        13.0  \n",
       "11                meta.llama3-70b-instruct-v1:0      90.0        10.0  \n",
       "12       anthropic.claude-3-haiku-20240307-v1:0     100.0         0.0  \n",
       "13                        cohere.command-r-v1:0     100.0         0.0  \n",
       "14                meta.llama3-70b-instruct-v1:0     100.0         0.0  \n",
       "15       anthropic.claude-3-haiku-20240307-v1:0     100.0         0.0  \n",
       "16                        cohere.command-r-v1:0     100.0         0.0  \n",
       "17                meta.llama3-70b-instruct-v1:0     100.0         0.0  \n",
       "18       anthropic.claude-3-haiku-20240307-v1:0      79.0        21.0  \n",
       "19                        cohere.command-r-v1:0      90.0        10.0  \n",
       "20                meta.llama3-70b-instruct-v1:0      80.0        20.0  \n",
       "21       anthropic.claude-3-haiku-20240307-v1:0      90.0        10.0  \n",
       "22                        cohere.command-r-v1:0      90.0        10.0  \n",
       "23                meta.llama3-70b-instruct-v1:0      90.0        10.0  \n",
       "24       anthropic.claude-3-haiku-20240307-v1:0      90.0        10.0  \n",
       "25                        cohere.command-r-v1:0      90.0        10.0  \n",
       "26                meta.llama3-70b-instruct-v1:0      90.0        10.0  \n",
       "27       anthropic.claude-3-haiku-20240307-v1:0     100.0         0.0  \n",
       "28                        cohere.command-r-v1:0     100.0         0.0  \n",
       "29                meta.llama3-70b-instruct-v1:0     100.0         0.0  \n",
       "30       anthropic.claude-3-haiku-20240307-v1:0     100.0         0.0  \n",
       "31                        cohere.command-r-v1:0     100.0         0.0  \n",
       "32                meta.llama3-70b-instruct-v1:0     100.0         0.0  \n",
       "33       anthropic.claude-3-haiku-20240307-v1:0      90.0        10.0  \n",
       "34                        cohere.command-r-v1:0      90.0        10.0  \n",
       "35                meta.llama3-70b-instruct-v1:0      90.0        10.0  "
      ]
     },
     "execution_count": 39,
     "metadata": {},
     "output_type": "execute_result"
    }
   ],
   "source": [
    "per_panel_judgement_result_df= panel_summary_responses_df.groupby(['candidate_model', 'judge_model_id']).sum()\n",
    "# Compute the accuracy and error rate of each candidate model id\n",
    "per_panel_judgement_result_df['accuracy'] = ((per_panel_judgement_result_df['correct'] / (per_panel_judgement_result_df['correct'] + per_panel_judgement_result_df['incorrect'])).round(2) * 100)\n",
    "per_panel_judgement_result_df['error_rate'] = ((per_panel_judgement_result_df['incorrect'] / (per_panel_judgement_result_df['correct'] + per_panel_judgement_result_df['incorrect'])).round(2) * 100)\n",
    "per_panel_judgement_result_df = per_panel_judgement_result_df[['accuracy', 'error_rate']].reset_index()\n",
    "per_panel_judgement_result_df.head(40)"
   ]
  },
  {
   "cell_type": "code",
   "execution_count": 40,
   "metadata": {
    "tags": []
   },
   "outputs": [],
   "source": [
    "overall_accuracy_grouped_panel_df = panel_summary_responses_df.groupby('candidate_model').sum()\n",
    "# Compute the accuracy and error rate of each candidate model id\n",
    "overall_accuracy_grouped_panel_df['accuracy'] = ((overall_accuracy_grouped_panel_df['correct'] / (overall_accuracy_grouped_panel_df['correct'] + overall_accuracy_grouped_panel_df['incorrect'])).round(2) * 100)\n",
    "overall_accuracy_grouped_panel_df['error_rate'] = ((overall_accuracy_grouped_panel_df['incorrect'] / (overall_accuracy_grouped_panel_df['correct'] + overall_accuracy_grouped_panel_df['incorrect'])).round(2) * 100)\n",
    "overall_accuracy_grouped_panel_df = overall_accuracy_grouped_panel_df[['accuracy', 'error_rate']].reset_index()\n",
    "overall_accuracy_grouped_panel_df = overall_accuracy_grouped_panel_df.sort_values(by='accuracy', ascending=False)"
   ]
  },
  {
   "cell_type": "code",
   "execution_count": 41,
   "metadata": {
    "tags": []
   },
   "outputs": [
    {
     "name": "stderr",
     "output_type": "stream",
     "text": [
      "[2024-07-12 15:17:54,581] p22383 {1651915844.py:10} INFO - Overall accuracy and error rates results of each model sent to s3://sagemaker-fmbench-write-us-west-2-387192758086/fmbench-bedrock-fmbench-stack-us-west-2-role/data/metrics/yyyy=2024/mm=07/dd=12/hh=15/mm=10/PoLL_per_model_accuracy.csv\n"
     ]
    },
    {
     "data": {
      "text/html": [
       "<div>\n",
       "<style scoped>\n",
       "    .dataframe tbody tr th:only-of-type {\n",
       "        vertical-align: middle;\n",
       "    }\n",
       "\n",
       "    .dataframe tbody tr th {\n",
       "        vertical-align: top;\n",
       "    }\n",
       "\n",
       "    .dataframe thead th {\n",
       "        text-align: right;\n",
       "    }\n",
       "</style>\n",
       "<table border=\"1\" class=\"dataframe\">\n",
       "  <thead>\n",
       "    <tr style=\"text-align: right;\">\n",
       "      <th>verdict</th>\n",
       "      <th>candidate_model</th>\n",
       "      <th>accuracy</th>\n",
       "      <th>error_rate</th>\n",
       "    </tr>\n",
       "  </thead>\n",
       "  <tbody>\n",
       "    <tr>\n",
       "      <th>0</th>\n",
       "      <td>ai21.j2-mid-v1</td>\n",
       "      <td>100.0</td>\n",
       "      <td>0.0</td>\n",
       "    </tr>\n",
       "    <tr>\n",
       "      <th>10</th>\n",
       "      <td>mistral.mistral-7b-instruct-v0:2</td>\n",
       "      <td>100.0</td>\n",
       "      <td>0.0</td>\n",
       "    </tr>\n",
       "    <tr>\n",
       "      <th>5</th>\n",
       "      <td>anthropic.claude-3-sonnet-20240229-v1:0</td>\n",
       "      <td>100.0</td>\n",
       "      <td>0.0</td>\n",
       "    </tr>\n",
       "    <tr>\n",
       "      <th>4</th>\n",
       "      <td>anthropic.claude-3-haiku-20240307-v1:0</td>\n",
       "      <td>100.0</td>\n",
       "      <td>0.0</td>\n",
       "    </tr>\n",
       "    <tr>\n",
       "      <th>9</th>\n",
       "      <td>meta.llama2-70b-chat-v1</td>\n",
       "      <td>100.0</td>\n",
       "      <td>0.0</td>\n",
       "    </tr>\n",
       "    <tr>\n",
       "      <th>2</th>\n",
       "      <td>amazon.titan-text-express-v1</td>\n",
       "      <td>99.0</td>\n",
       "      <td>1.0</td>\n",
       "    </tr>\n",
       "    <tr>\n",
       "      <th>1</th>\n",
       "      <td>ai21.j2-ultra-v1</td>\n",
       "      <td>97.0</td>\n",
       "      <td>3.0</td>\n",
       "    </tr>\n",
       "    <tr>\n",
       "      <th>8</th>\n",
       "      <td>meta.llama2-13b-chat-v1</td>\n",
       "      <td>90.0</td>\n",
       "      <td>10.0</td>\n",
       "    </tr>\n",
       "    <tr>\n",
       "      <th>11</th>\n",
       "      <td>mistral.mixtral-8x7b-instruct-v0:1</td>\n",
       "      <td>90.0</td>\n",
       "      <td>10.0</td>\n",
       "    </tr>\n",
       "    <tr>\n",
       "      <th>7</th>\n",
       "      <td>cohere.command-text-v14</td>\n",
       "      <td>90.0</td>\n",
       "      <td>10.0</td>\n",
       "    </tr>\n",
       "  </tbody>\n",
       "</table>\n",
       "</div>"
      ],
      "text/plain": [
       "verdict                          candidate_model  accuracy  error_rate\n",
       "0                                 ai21.j2-mid-v1     100.0         0.0\n",
       "10              mistral.mistral-7b-instruct-v0:2     100.0         0.0\n",
       "5        anthropic.claude-3-sonnet-20240229-v1:0     100.0         0.0\n",
       "4         anthropic.claude-3-haiku-20240307-v1:0     100.0         0.0\n",
       "9                        meta.llama2-70b-chat-v1     100.0         0.0\n",
       "2                   amazon.titan-text-express-v1      99.0         1.0\n",
       "1                               ai21.j2-ultra-v1      97.0         3.0\n",
       "8                        meta.llama2-13b-chat-v1      90.0        10.0\n",
       "11            mistral.mixtral-8x7b-instruct-v0:1      90.0        10.0\n",
       "7                        cohere.command-text-v14      90.0        10.0"
      ]
     },
     "execution_count": 41,
     "metadata": {},
     "output_type": "execute_result"
    }
   ],
   "source": [
    "# send the accuracy metrics to s3\n",
    "csv_buffer = io.StringIO()\n",
    "overall_accuracy_grouped_panel_df.to_csv(csv_buffer, index=False)\n",
    "overall_panel_result = csv_buffer.getvalue()\n",
    "overall_panel_accuracy_metrics_fpath = os.path.join(METRICS_DIR, PER_MODEL_ACCURACY_POLL)  # Define full S3 path\n",
    "\n",
    "# Write the CSV data to S3\n",
    "write_to_s3(overall_panel_result, BUCKET_NAME, \"\", \n",
    "            METRICS_DIR, PER_MODEL_ACCURACY_POLL)\n",
    "logger.info(f\"Overall accuracy and error rates results of each model sent to s3://{BUCKET_NAME}/{overall_panel_accuracy_metrics_fpath}\")\n",
    "overall_accuracy_grouped_panel_df.head(10)"
   ]
  },
  {
   "cell_type": "code",
   "execution_count": 43,
   "metadata": {
    "tags": []
   },
   "outputs": [],
   "source": [
    "# get accuracy statements\n",
    "# Rank models by accuracy\n",
    "ranked_models = overall_accuracy_grouped_panel_df.sort_values(by='accuracy', ascending=False)\n",
    "highest_accuracy = ranked_models['accuracy'].max()\n",
    "\n",
    "# Group models with the highest accuracy\n",
    "top_performers = ranked_models[ranked_models['accuracy'] == highest_accuracy]\n",
    "other_models = ranked_models[ranked_models['accuracy'] < highest_accuracy]\n",
    "final_ranking = pd.concat([top_performers, other_models])\n",
    "unique_judge_model_ids = per_panel_judgement_result_df['judge_model_id'].unique()\n",
    "PoLL_model_ids = ', '.join(map(str, unique_judge_model_ids))\n",
    "top_performing_model_ids = ', '.join(top_performers['candidate_model'].tolist())"
   ]
  },
  {
   "cell_type": "code",
   "execution_count": 44,
   "metadata": {
    "tags": []
   },
   "outputs": [
    {
     "name": "stdout",
     "output_type": "stream",
     "text": [
      " \n",
      "A Detailed Analysis of Model Performance Based on Accuracy using Panel of LLM Evaluators (PoLL):\n",
      "\n",
      "This accuracy benchmarking was done using a Panel of LLM evaluators. anthropic.claude-3-haiku-20240307-v1:0, cohere.command-r-v1:0, meta.llama3-70b-instruct-v1:0 were used as judges.\n",
      "\n",
      "Top Performing Models (100.0% Accuracy):\n",
      "                        candidate_model  accuracy  error_rate\n",
      "                         ai21.j2-mid-v1     100.0         0.0\n",
      "       mistral.mistral-7b-instruct-v0:2     100.0         0.0\n",
      "anthropic.claude-3-sonnet-20240229-v1:0     100.0         0.0\n",
      " anthropic.claude-3-haiku-20240307-v1:0     100.0         0.0\n",
      "                meta.llama2-70b-chat-v1     100.0         0.0\n",
      "\n",
      "Other Ranked Models:\n",
      "                   candidate_model  accuracy  error_rate\n",
      "      amazon.titan-text-express-v1      99.0         1.0\n",
      "                  ai21.j2-ultra-v1      97.0         3.0\n",
      "           meta.llama2-13b-chat-v1      90.0        10.0\n",
      "mistral.mixtral-8x7b-instruct-v0:1      90.0        10.0\n",
      "           cohere.command-text-v14      90.0        10.0\n",
      "         amazon.titan-text-lite-v1      89.0        11.0\n",
      "     cohere.command-light-text-v14      83.0        17.0\n",
      "\n",
      "Summary:\n",
      "The top-performing models, including ai21.j2-mid-v1, mistral.mistral-7b-instruct-v0:2, anthropic.claude-3-sonnet-20240229-v1:0, anthropic.claude-3-haiku-20240307-v1:0, meta.llama2-70b-chat-v1, have achieved 100.0% accuracy with no errors, setting a benchmark for accuracy. The remaining models are ranked based on their accuracy and error rates.\n",
      "\n"
     ]
    }
   ],
   "source": [
    "accuracy_statement = MAX_VOTING_RESULT_STATEMENT.format(\n",
    "    judge_model_ids=PoLL_model_ids,\n",
    "    highest_accuracy=highest_accuracy,\n",
    "    top_models=top_performers.to_string(index=False),\n",
    "    ranked_models=other_models.to_string(index=False),\n",
    "    top_performing_model_ids=top_performing_model_ids\n",
    ")\n",
    "print(accuracy_statement)"
   ]
  },
  {
   "cell_type": "code",
   "execution_count": 45,
   "metadata": {
    "tags": []
   },
   "outputs": [
    {
     "name": "stderr",
     "output_type": "stream",
     "text": [
      "[2024-07-12 15:18:09,210] p22383 {84484965.py:8} INFO - Overall accuracy and error rates results of each model sent to s3://sagemaker-fmbench-write-us-west-2-387192758086/fmbench-bedrock-fmbench-stack-us-west-2-role/data/metrics/yyyy=2024/mm=07/dd=12/hh=15/mm=10/overall_PoLL_report.txt\n"
     ]
    },
    {
     "name": "stdout",
     "output_type": "stream",
     "text": [
      " \n",
      "A Detailed Analysis of Model Performance Based on Accuracy using Panel of LLM Evaluators (PoLL):\n",
      "\n",
      "This accuracy benchmarking was done using a Panel of LLM evaluators. anthropic.claude-3-haiku-20240307-v1:0, cohere.command-r-v1:0, meta.llama3-70b-instruct-v1:0 were used as judges.\n",
      "\n",
      "Top Performing Models (100.0% Accuracy):\n",
      "                        candidate_model  accuracy  error_rate\n",
      "                         ai21.j2-mid-v1     100.0         0.0\n",
      "       mistral.mistral-7b-instruct-v0:2     100.0         0.0\n",
      "anthropic.claude-3-sonnet-20240229-v1:0     100.0         0.0\n",
      " anthropic.claude-3-haiku-20240307-v1:0     100.0         0.0\n",
      "                meta.llama2-70b-chat-v1     100.0         0.0\n",
      "\n",
      "Other Ranked Models:\n",
      "                   candidate_model  accuracy  error_rate\n",
      "      amazon.titan-text-express-v1      99.0         1.0\n",
      "                  ai21.j2-ultra-v1      97.0         3.0\n",
      "           meta.llama2-13b-chat-v1      90.0        10.0\n",
      "mistral.mixtral-8x7b-instruct-v0:1      90.0        10.0\n",
      "           cohere.command-text-v14      90.0        10.0\n",
      "         amazon.titan-text-lite-v1      89.0        11.0\n",
      "     cohere.command-light-text-v14      83.0        17.0\n",
      "\n",
      "Summary:\n",
      "The top-performing models, including ai21.j2-mid-v1, mistral.mistral-7b-instruct-v0:2, anthropic.claude-3-sonnet-20240229-v1:0, anthropic.claude-3-haiku-20240307-v1:0, meta.llama2-70b-chat-v1, have achieved 100.0% accuracy with no errors, setting a benchmark for accuracy. The remaining models are ranked based on their accuracy and error rates.\n",
      "\n"
     ]
    }
   ],
   "source": [
    "# send the overall accuracy report to s3\n",
    "txt_buffer = io.StringIO()\n",
    "txt_buffer.write(accuracy_statement)\n",
    "poll_txt_file_content = txt_buffer.getvalue()\n",
    "overall_panel_accuracy_metrics_fpath = os.path.join(METRICS_DIR, OVERALL_POLL_REPORT)\n",
    "write_to_s3(poll_txt_file_content, BUCKET_NAME, \"\", \n",
    "            METRICS_DIR, OVERALL_POLL_REPORT)\n",
    "logger.info(f\"Overall accuracy and error rates results of each model sent to s3://{BUCKET_NAME}/{overall_panel_accuracy_metrics_fpath}\")\n",
    "print(accuracy_statement)"
   ]
  },
  {
   "cell_type": "code",
   "execution_count": null,
   "metadata": {},
   "outputs": [],
   "source": []
  }
 ],
 "metadata": {
  "availableInstances": [
   {
    "_defaultOrder": 0,
    "_isFastLaunch": true,
    "category": "General purpose",
    "gpuNum": 0,
    "hideHardwareSpecs": false,
    "memoryGiB": 4,
    "name": "ml.t3.medium",
    "vcpuNum": 2
   },
   {
    "_defaultOrder": 1,
    "_isFastLaunch": false,
    "category": "General purpose",
    "gpuNum": 0,
    "hideHardwareSpecs": false,
    "memoryGiB": 8,
    "name": "ml.t3.large",
    "vcpuNum": 2
   },
   {
    "_defaultOrder": 2,
    "_isFastLaunch": false,
    "category": "General purpose",
    "gpuNum": 0,
    "hideHardwareSpecs": false,
    "memoryGiB": 16,
    "name": "ml.t3.xlarge",
    "vcpuNum": 4
   },
   {
    "_defaultOrder": 3,
    "_isFastLaunch": false,
    "category": "General purpose",
    "gpuNum": 0,
    "hideHardwareSpecs": false,
    "memoryGiB": 32,
    "name": "ml.t3.2xlarge",
    "vcpuNum": 8
   },
   {
    "_defaultOrder": 4,
    "_isFastLaunch": true,
    "category": "General purpose",
    "gpuNum": 0,
    "hideHardwareSpecs": false,
    "memoryGiB": 8,
    "name": "ml.m5.large",
    "vcpuNum": 2
   },
   {
    "_defaultOrder": 5,
    "_isFastLaunch": false,
    "category": "General purpose",
    "gpuNum": 0,
    "hideHardwareSpecs": false,
    "memoryGiB": 16,
    "name": "ml.m5.xlarge",
    "vcpuNum": 4
   },
   {
    "_defaultOrder": 6,
    "_isFastLaunch": false,
    "category": "General purpose",
    "gpuNum": 0,
    "hideHardwareSpecs": false,
    "memoryGiB": 32,
    "name": "ml.m5.2xlarge",
    "vcpuNum": 8
   },
   {
    "_defaultOrder": 7,
    "_isFastLaunch": false,
    "category": "General purpose",
    "gpuNum": 0,
    "hideHardwareSpecs": false,
    "memoryGiB": 64,
    "name": "ml.m5.4xlarge",
    "vcpuNum": 16
   },
   {
    "_defaultOrder": 8,
    "_isFastLaunch": false,
    "category": "General purpose",
    "gpuNum": 0,
    "hideHardwareSpecs": false,
    "memoryGiB": 128,
    "name": "ml.m5.8xlarge",
    "vcpuNum": 32
   },
   {
    "_defaultOrder": 9,
    "_isFastLaunch": false,
    "category": "General purpose",
    "gpuNum": 0,
    "hideHardwareSpecs": false,
    "memoryGiB": 192,
    "name": "ml.m5.12xlarge",
    "vcpuNum": 48
   },
   {
    "_defaultOrder": 10,
    "_isFastLaunch": false,
    "category": "General purpose",
    "gpuNum": 0,
    "hideHardwareSpecs": false,
    "memoryGiB": 256,
    "name": "ml.m5.16xlarge",
    "vcpuNum": 64
   },
   {
    "_defaultOrder": 11,
    "_isFastLaunch": false,
    "category": "General purpose",
    "gpuNum": 0,
    "hideHardwareSpecs": false,
    "memoryGiB": 384,
    "name": "ml.m5.24xlarge",
    "vcpuNum": 96
   },
   {
    "_defaultOrder": 12,
    "_isFastLaunch": false,
    "category": "General purpose",
    "gpuNum": 0,
    "hideHardwareSpecs": false,
    "memoryGiB": 8,
    "name": "ml.m5d.large",
    "vcpuNum": 2
   },
   {
    "_defaultOrder": 13,
    "_isFastLaunch": false,
    "category": "General purpose",
    "gpuNum": 0,
    "hideHardwareSpecs": false,
    "memoryGiB": 16,
    "name": "ml.m5d.xlarge",
    "vcpuNum": 4
   },
   {
    "_defaultOrder": 14,
    "_isFastLaunch": false,
    "category": "General purpose",
    "gpuNum": 0,
    "hideHardwareSpecs": false,
    "memoryGiB": 32,
    "name": "ml.m5d.2xlarge",
    "vcpuNum": 8
   },
   {
    "_defaultOrder": 15,
    "_isFastLaunch": false,
    "category": "General purpose",
    "gpuNum": 0,
    "hideHardwareSpecs": false,
    "memoryGiB": 64,
    "name": "ml.m5d.4xlarge",
    "vcpuNum": 16
   },
   {
    "_defaultOrder": 16,
    "_isFastLaunch": false,
    "category": "General purpose",
    "gpuNum": 0,
    "hideHardwareSpecs": false,
    "memoryGiB": 128,
    "name": "ml.m5d.8xlarge",
    "vcpuNum": 32
   },
   {
    "_defaultOrder": 17,
    "_isFastLaunch": false,
    "category": "General purpose",
    "gpuNum": 0,
    "hideHardwareSpecs": false,
    "memoryGiB": 192,
    "name": "ml.m5d.12xlarge",
    "vcpuNum": 48
   },
   {
    "_defaultOrder": 18,
    "_isFastLaunch": false,
    "category": "General purpose",
    "gpuNum": 0,
    "hideHardwareSpecs": false,
    "memoryGiB": 256,
    "name": "ml.m5d.16xlarge",
    "vcpuNum": 64
   },
   {
    "_defaultOrder": 19,
    "_isFastLaunch": false,
    "category": "General purpose",
    "gpuNum": 0,
    "hideHardwareSpecs": false,
    "memoryGiB": 384,
    "name": "ml.m5d.24xlarge",
    "vcpuNum": 96
   },
   {
    "_defaultOrder": 20,
    "_isFastLaunch": false,
    "category": "General purpose",
    "gpuNum": 0,
    "hideHardwareSpecs": true,
    "memoryGiB": 0,
    "name": "ml.geospatial.interactive",
    "supportedImageNames": [
     "sagemaker-geospatial-v1-0"
    ],
    "vcpuNum": 0
   },
   {
    "_defaultOrder": 21,
    "_isFastLaunch": true,
    "category": "Compute optimized",
    "gpuNum": 0,
    "hideHardwareSpecs": false,
    "memoryGiB": 4,
    "name": "ml.c5.large",
    "vcpuNum": 2
   },
   {
    "_defaultOrder": 22,
    "_isFastLaunch": false,
    "category": "Compute optimized",
    "gpuNum": 0,
    "hideHardwareSpecs": false,
    "memoryGiB": 8,
    "name": "ml.c5.xlarge",
    "vcpuNum": 4
   },
   {
    "_defaultOrder": 23,
    "_isFastLaunch": false,
    "category": "Compute optimized",
    "gpuNum": 0,
    "hideHardwareSpecs": false,
    "memoryGiB": 16,
    "name": "ml.c5.2xlarge",
    "vcpuNum": 8
   },
   {
    "_defaultOrder": 24,
    "_isFastLaunch": false,
    "category": "Compute optimized",
    "gpuNum": 0,
    "hideHardwareSpecs": false,
    "memoryGiB": 32,
    "name": "ml.c5.4xlarge",
    "vcpuNum": 16
   },
   {
    "_defaultOrder": 25,
    "_isFastLaunch": false,
    "category": "Compute optimized",
    "gpuNum": 0,
    "hideHardwareSpecs": false,
    "memoryGiB": 72,
    "name": "ml.c5.9xlarge",
    "vcpuNum": 36
   },
   {
    "_defaultOrder": 26,
    "_isFastLaunch": false,
    "category": "Compute optimized",
    "gpuNum": 0,
    "hideHardwareSpecs": false,
    "memoryGiB": 96,
    "name": "ml.c5.12xlarge",
    "vcpuNum": 48
   },
   {
    "_defaultOrder": 27,
    "_isFastLaunch": false,
    "category": "Compute optimized",
    "gpuNum": 0,
    "hideHardwareSpecs": false,
    "memoryGiB": 144,
    "name": "ml.c5.18xlarge",
    "vcpuNum": 72
   },
   {
    "_defaultOrder": 28,
    "_isFastLaunch": false,
    "category": "Compute optimized",
    "gpuNum": 0,
    "hideHardwareSpecs": false,
    "memoryGiB": 192,
    "name": "ml.c5.24xlarge",
    "vcpuNum": 96
   },
   {
    "_defaultOrder": 29,
    "_isFastLaunch": true,
    "category": "Accelerated computing",
    "gpuNum": 1,
    "hideHardwareSpecs": false,
    "memoryGiB": 16,
    "name": "ml.g4dn.xlarge",
    "vcpuNum": 4
   },
   {
    "_defaultOrder": 30,
    "_isFastLaunch": false,
    "category": "Accelerated computing",
    "gpuNum": 1,
    "hideHardwareSpecs": false,
    "memoryGiB": 32,
    "name": "ml.g4dn.2xlarge",
    "vcpuNum": 8
   },
   {
    "_defaultOrder": 31,
    "_isFastLaunch": false,
    "category": "Accelerated computing",
    "gpuNum": 1,
    "hideHardwareSpecs": false,
    "memoryGiB": 64,
    "name": "ml.g4dn.4xlarge",
    "vcpuNum": 16
   },
   {
    "_defaultOrder": 32,
    "_isFastLaunch": false,
    "category": "Accelerated computing",
    "gpuNum": 1,
    "hideHardwareSpecs": false,
    "memoryGiB": 128,
    "name": "ml.g4dn.8xlarge",
    "vcpuNum": 32
   },
   {
    "_defaultOrder": 33,
    "_isFastLaunch": false,
    "category": "Accelerated computing",
    "gpuNum": 4,
    "hideHardwareSpecs": false,
    "memoryGiB": 192,
    "name": "ml.g4dn.12xlarge",
    "vcpuNum": 48
   },
   {
    "_defaultOrder": 34,
    "_isFastLaunch": false,
    "category": "Accelerated computing",
    "gpuNum": 1,
    "hideHardwareSpecs": false,
    "memoryGiB": 256,
    "name": "ml.g4dn.16xlarge",
    "vcpuNum": 64
   },
   {
    "_defaultOrder": 35,
    "_isFastLaunch": false,
    "category": "Accelerated computing",
    "gpuNum": 1,
    "hideHardwareSpecs": false,
    "memoryGiB": 61,
    "name": "ml.p3.2xlarge",
    "vcpuNum": 8
   },
   {
    "_defaultOrder": 36,
    "_isFastLaunch": false,
    "category": "Accelerated computing",
    "gpuNum": 4,
    "hideHardwareSpecs": false,
    "memoryGiB": 244,
    "name": "ml.p3.8xlarge",
    "vcpuNum": 32
   },
   {
    "_defaultOrder": 37,
    "_isFastLaunch": false,
    "category": "Accelerated computing",
    "gpuNum": 8,
    "hideHardwareSpecs": false,
    "memoryGiB": 488,
    "name": "ml.p3.16xlarge",
    "vcpuNum": 64
   },
   {
    "_defaultOrder": 38,
    "_isFastLaunch": false,
    "category": "Accelerated computing",
    "gpuNum": 8,
    "hideHardwareSpecs": false,
    "memoryGiB": 768,
    "name": "ml.p3dn.24xlarge",
    "vcpuNum": 96
   },
   {
    "_defaultOrder": 39,
    "_isFastLaunch": false,
    "category": "Memory Optimized",
    "gpuNum": 0,
    "hideHardwareSpecs": false,
    "memoryGiB": 16,
    "name": "ml.r5.large",
    "vcpuNum": 2
   },
   {
    "_defaultOrder": 40,
    "_isFastLaunch": false,
    "category": "Memory Optimized",
    "gpuNum": 0,
    "hideHardwareSpecs": false,
    "memoryGiB": 32,
    "name": "ml.r5.xlarge",
    "vcpuNum": 4
   },
   {
    "_defaultOrder": 41,
    "_isFastLaunch": false,
    "category": "Memory Optimized",
    "gpuNum": 0,
    "hideHardwareSpecs": false,
    "memoryGiB": 64,
    "name": "ml.r5.2xlarge",
    "vcpuNum": 8
   },
   {
    "_defaultOrder": 42,
    "_isFastLaunch": false,
    "category": "Memory Optimized",
    "gpuNum": 0,
    "hideHardwareSpecs": false,
    "memoryGiB": 128,
    "name": "ml.r5.4xlarge",
    "vcpuNum": 16
   },
   {
    "_defaultOrder": 43,
    "_isFastLaunch": false,
    "category": "Memory Optimized",
    "gpuNum": 0,
    "hideHardwareSpecs": false,
    "memoryGiB": 256,
    "name": "ml.r5.8xlarge",
    "vcpuNum": 32
   },
   {
    "_defaultOrder": 44,
    "_isFastLaunch": false,
    "category": "Memory Optimized",
    "gpuNum": 0,
    "hideHardwareSpecs": false,
    "memoryGiB": 384,
    "name": "ml.r5.12xlarge",
    "vcpuNum": 48
   },
   {
    "_defaultOrder": 45,
    "_isFastLaunch": false,
    "category": "Memory Optimized",
    "gpuNum": 0,
    "hideHardwareSpecs": false,
    "memoryGiB": 512,
    "name": "ml.r5.16xlarge",
    "vcpuNum": 64
   },
   {
    "_defaultOrder": 46,
    "_isFastLaunch": false,
    "category": "Memory Optimized",
    "gpuNum": 0,
    "hideHardwareSpecs": false,
    "memoryGiB": 768,
    "name": "ml.r5.24xlarge",
    "vcpuNum": 96
   },
   {
    "_defaultOrder": 47,
    "_isFastLaunch": false,
    "category": "Accelerated computing",
    "gpuNum": 1,
    "hideHardwareSpecs": false,
    "memoryGiB": 16,
    "name": "ml.g5.xlarge",
    "vcpuNum": 4
   },
   {
    "_defaultOrder": 48,
    "_isFastLaunch": false,
    "category": "Accelerated computing",
    "gpuNum": 1,
    "hideHardwareSpecs": false,
    "memoryGiB": 32,
    "name": "ml.g5.2xlarge",
    "vcpuNum": 8
   },
   {
    "_defaultOrder": 49,
    "_isFastLaunch": false,
    "category": "Accelerated computing",
    "gpuNum": 1,
    "hideHardwareSpecs": false,
    "memoryGiB": 64,
    "name": "ml.g5.4xlarge",
    "vcpuNum": 16
   },
   {
    "_defaultOrder": 50,
    "_isFastLaunch": false,
    "category": "Accelerated computing",
    "gpuNum": 1,
    "hideHardwareSpecs": false,
    "memoryGiB": 128,
    "name": "ml.g5.8xlarge",
    "vcpuNum": 32
   },
   {
    "_defaultOrder": 51,
    "_isFastLaunch": false,
    "category": "Accelerated computing",
    "gpuNum": 1,
    "hideHardwareSpecs": false,
    "memoryGiB": 256,
    "name": "ml.g5.16xlarge",
    "vcpuNum": 64
   },
   {
    "_defaultOrder": 52,
    "_isFastLaunch": false,
    "category": "Accelerated computing",
    "gpuNum": 4,
    "hideHardwareSpecs": false,
    "memoryGiB": 192,
    "name": "ml.g5.12xlarge",
    "vcpuNum": 48
   },
   {
    "_defaultOrder": 53,
    "_isFastLaunch": false,
    "category": "Accelerated computing",
    "gpuNum": 4,
    "hideHardwareSpecs": false,
    "memoryGiB": 384,
    "name": "ml.g5.24xlarge",
    "vcpuNum": 96
   },
   {
    "_defaultOrder": 54,
    "_isFastLaunch": false,
    "category": "Accelerated computing",
    "gpuNum": 8,
    "hideHardwareSpecs": false,
    "memoryGiB": 768,
    "name": "ml.g5.48xlarge",
    "vcpuNum": 192
   },
   {
    "_defaultOrder": 55,
    "_isFastLaunch": false,
    "category": "Accelerated computing",
    "gpuNum": 8,
    "hideHardwareSpecs": false,
    "memoryGiB": 1152,
    "name": "ml.p4d.24xlarge",
    "vcpuNum": 96
   },
   {
    "_defaultOrder": 56,
    "_isFastLaunch": false,
    "category": "Accelerated computing",
    "gpuNum": 8,
    "hideHardwareSpecs": false,
    "memoryGiB": 1152,
    "name": "ml.p4de.24xlarge",
    "vcpuNum": 96
   },
   {
    "_defaultOrder": 57,
    "_isFastLaunch": false,
    "category": "Accelerated computing",
    "gpuNum": 0,
    "hideHardwareSpecs": false,
    "memoryGiB": 32,
    "name": "ml.trn1.2xlarge",
    "vcpuNum": 8
   },
   {
    "_defaultOrder": 58,
    "_isFastLaunch": false,
    "category": "Accelerated computing",
    "gpuNum": 0,
    "hideHardwareSpecs": false,
    "memoryGiB": 512,
    "name": "ml.trn1.32xlarge",
    "vcpuNum": 128
   },
   {
    "_defaultOrder": 59,
    "_isFastLaunch": false,
    "category": "Accelerated computing",
    "gpuNum": 0,
    "hideHardwareSpecs": false,
    "memoryGiB": 512,
    "name": "ml.trn1n.32xlarge",
    "vcpuNum": 128
   }
  ],
  "instance_type": "ml.c5.large",
  "kernelspec": {
   "display_name": "conda_fmbench_eval_python311",
   "language": "python",
   "name": "conda_fmbench_eval_python311"
  },
  "language_info": {
   "codemirror_mode": {
    "name": "ipython",
    "version": 3
   },
   "file_extension": ".py",
   "mimetype": "text/x-python",
   "name": "python",
   "nbconvert_exporter": "python",
   "pygments_lexer": "ipython3",
   "version": "3.11.9"
  }
 },
 "nbformat": 4,
 "nbformat_minor": 4
}
