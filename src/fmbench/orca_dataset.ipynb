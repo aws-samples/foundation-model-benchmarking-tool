{
 "cells": [
  {
   "cell_type": "code",
   "execution_count": null,
   "outputs": [],
   "source": [
    "# define AWS infrastructure parameters\n",
    "aws_region = 'us-west-2'\n",
    "read_bucket = 'sagemaker-fmbench-read-<region>-<account>'\n",
    "write_bucket = 'sagemaker-fmbench-write-<region>-<account>'\n",
    "sagemaker_execution_role = '<sagemaker-execution-role-arn>'"
   ],
   "metadata": {
    "collapsed": false,
    "pycharm": {
     "name": "#%%\n"
    }
   },
   "id": "4d67ac722f0713c1"
  },
  {
   "cell_type": "code",
   "execution_count": null,
   "outputs": [],
   "source": [
    "import textwrap\n",
    "from fmbench.utils import write_to_s3\n",
    "\n",
    "prompt_template_dir = 'prompt_template'\n",
    "prompt_template_filename = 'prompt_template_mistral_with_system_prompt.txt'\n",
    "\n",
    "# create prompt template with system key used by ORCA\n",
    "content: str = textwrap.dedent(\n",
    "    \"\"\"\n",
    "    <s>[INST]\n",
    "    <<SYS>>\n",
    "    {system_prompt}\n",
    "    <</SYS>>\n",
    "    \n",
    "    Question: {input}\n",
    "    \n",
    "    [/INST]\n",
    "    Answer:\n",
    "    \"\"\"\n",
    ")\n",
    "\n",
    "# write prompt template locally\n",
    "with open(f'{prompt_template_dir}/{prompt_template_filename}', 'w') as prompt_template_file:\n",
    "    prompt_template_file.write(content)\n",
    "\n",
    "# write prompt template to S3\n",
    "prompt_template_s3_uri = write_to_s3(content, read_bucket, prompt_template_dir, '', prompt_template_filename)"
   ],
   "metadata": {
    "collapsed": false,
    "pycharm": {
     "name": "#%%\n"
    }
   },
   "id": "d238fda11bf9c32b"
  },
  {
   "cell_type": "code",
   "execution_count": null,
   "outputs": [],
   "source": [
    "import os\n",
    "import yaml\n",
    "from fmbench.utils import write_to_s3\n",
    "\n",
    "config_dir = 'configs'\n",
    "baseline_config_filename = 'config-mistral-7b-instruct-g5-orca.yml'\n",
    "experiment_config_filename = 'config-mistral-7b-instruct-g5-orca-exp.yml'\n",
    "\n",
    "# read the baseline configuration\n",
    "with open(f'{config_dir}/{baseline_config_filename}', 'r') as baseline_config_file:\n",
    "    config_as_dict = yaml.safe_load(baseline_config_file)\n",
    "\n",
    "# update configuration file with parameters\n",
    "\n",
    "# write the experiment configuration\n",
    "with open(f'{config_dir}/{experiment_config_filename}', 'w') as experiment_config_file:\n",
    "    yaml.safe_dump(config_as_dict, experiment_config_file)\n",
    "\n",
    "# write configuration to S3\n",
    "config_as_yaml = yaml.safe_dump(config_as_dict)\n",
    "config_s3_uri = write_to_s3(config_as_yaml, read_bucket, config_dir, '', experiment_config_filename)\n",
    "os.environ['FM_BENCH_CONFIG'] = config_s3_uri"
   ],
   "metadata": {
    "collapsed": false,
    "pycharm": {
     "name": "#%%\n"
    }
   },
   "id": "402ad0026eb8ff67"
  },
  {
   "cell_type": "code",
   "execution_count": null,
   "outputs": [],
   "source": [
    "# setup FM bench\n",
    "import json\n",
    "import pandas as pd\n",
    "from fmbench.utils import *\n",
    "from fmbench.globals import *\n",
    "from datasets import load_dataset\n",
    "config = load_config(config_s3_uri)\n",
    "\n",
    "print(json.dumps(config, indent=2))"
   ],
   "metadata": {
    "collapsed": false,
    "pycharm": {
     "name": "#%%\n"
    }
   },
   "id": "292818758d7b4149"
  },
  {
   "cell_type": "markdown",
   "source": [
    "## Convert HuggingFace dataset to jsonl format\n",
    "\n",
    "`fmbench` works with datasets in the [`JSON Lines`](https://jsonlines.org/) format. So here we show how to convert a HuggingFace dataset into JSON lines format."
   ],
   "metadata": {
    "collapsed": false,
    "pycharm": {
     "name": "#%% md\n"
    }
   },
   "id": "510d8e8085dac94"
  },
  {
   "cell_type": "markdown",
   "source": [
    "Set the `ds_name` to the HuggingFace dataset id, for example [`THUDM/LongBench`](https://huggingface.co/datasets/THUDM/LongBench), [`rajpurkar/squad_v2`](https://huggingface.co/datasets/rajpurkar/squad_v2), [`banking77`](https://huggingface.co/datasets/banking77) or other text datasets."
   ],
   "metadata": {
    "collapsed": false,
    "pycharm": {
     "name": "#%% md\n"
    }
   },
   "id": "b3a9ba34709733d7"
  },
  {
   "cell_type": "code",
   "execution_count": null,
   "outputs": [],
   "source": [
    "ds_id: str = \"Open-Orca/OpenOrca\"\n",
    "ds_name: str = \"default\"\n",
    "ds_split: str = \"train\"\n",
    "# Take a random subset of the dataframe, adjust the value of `N` below as appropriate.\n",
    "# size of random subset of the data\n",
    "ds_N: int = 100"
   ],
   "metadata": {
    "collapsed": false,
    "pycharm": {
     "name": "#%%\n"
    }
   },
   "id": "dc7766165a655686"
  },
  {
   "cell_type": "code",
   "execution_count": null,
   "outputs": [],
   "source": [
    "# Load the dataset from huggingface\n",
    "dataset = load_dataset(ds_id, name=ds_name)"
   ],
   "metadata": {
    "collapsed": false,
    "pycharm": {
     "name": "#%%\n"
    }
   },
   "id": "2239e762373a0de8"
  },
  {
   "cell_type": "code",
   "execution_count": null,
   "outputs": [],
   "source": [
    "# preview the dataset\n",
    "dataset"
   ],
   "metadata": {
    "collapsed": false,
    "pycharm": {
     "name": "#%%\n"
    }
   },
   "id": "ba09b840ec7e5e26"
  },
  {
   "cell_type": "code",
   "execution_count": null,
   "outputs": [],
   "source": [
    "# convert the dataset to a dataframe, for print it out and easy conversion to jsonl\n",
    "df = pd.DataFrame(dataset[ds_split])\n",
    "\n",
    "# some datasets contain a field called column, we would like to call it\n",
    "# input to match it to the prompt template\n",
    "df.rename(columns={\"question\": \"input\"}, inplace=True)"
   ],
   "metadata": {
    "collapsed": false,
    "pycharm": {
     "name": "#%%\n"
    }
   },
   "id": "c1975e3b7d7978cf"
  },
  {
   "cell_type": "code",
   "execution_count": null,
   "outputs": [],
   "source": [
    "df.head()"
   ],
   "metadata": {
    "collapsed": false,
    "pycharm": {
     "name": "#%%\n"
    }
   },
   "id": "f6e53641064ed4e4"
  },
  {
   "cell_type": "markdown",
   "source": [
    "## Subset the dataset"
   ],
   "metadata": {
    "collapsed": false,
    "pycharm": {
     "name": "#%% md\n"
    }
   },
   "id": "f4e331b6f5a5355"
  },
  {
   "cell_type": "code",
   "execution_count": null,
   "outputs": [],
   "source": [
    "print(f\"dataset shape before random subset = {df.shape}\")\n",
    "df = df.sample(n=ds_N)\n",
    "print(f\"dataset shape before random subset = {df.shape}\")"
   ],
   "metadata": {
    "collapsed": false,
    "pycharm": {
     "name": "#%%\n"
    }
   },
   "id": "edfac9a3fb789e6b"
  },
  {
   "cell_type": "markdown",
   "source": [
    "## Convert to JSON lines format"
   ],
   "metadata": {
    "collapsed": false,
    "pycharm": {
     "name": "#%% md\n"
    }
   },
   "id": "179e7f7ca88d497c"
  },
  {
   "cell_type": "code",
   "execution_count": null,
   "outputs": [],
   "source": [
    "jsonl_content = df.to_json(orient='records', lines=True)\n",
    "print(jsonl_content[:1000])"
   ],
   "metadata": {
    "collapsed": false,
    "pycharm": {
     "name": "#%%\n"
    }
   },
   "id": "be968599ef40dcc"
  },
  {
   "cell_type": "markdown",
   "source": [
    "## Upload the dataset to S3"
   ],
   "metadata": {
    "collapsed": false,
    "pycharm": {
     "name": "#%% md\n"
    }
   },
   "id": "7ebb56bccfa49029"
  },
  {
   "cell_type": "code",
   "execution_count": null,
   "outputs": [],
   "source": [
    "file_name: str = f\"{ds_id}.jsonl\"\n",
    "dataset_s3_uri = write_to_s3(jsonl_content, read_bucket, 'source_data/Open-Orca', '', file_name)"
   ],
   "metadata": {
    "collapsed": false,
    "pycharm": {
     "name": "#%%\n"
    }
   },
   "id": "f10752d2dbf3405a"
  },
  {
   "cell_type": "markdown",
   "source": [
    "## Run the experiment"
   ],
   "metadata": {
    "collapsed": false,
    "pycharm": {
     "name": "#%% md\n"
    }
   },
   "id": "7082e1d30cc1ef15"
  },
  {
   "cell_type": "code",
   "execution_count": null,
   "outputs": [],
   "source": [
    "!python -m main \"--config-file\" \"${FM_BENCH_CONFIG}\""
   ],
   "metadata": {
    "collapsed": false,
    "pycharm": {
     "name": "#%%\n"
    }
   },
   "id": "ccca154393c1cb97"
  }
 ],
 "metadata": {
  "kernelspec": {
   "display_name": "Python 3",
   "language": "python",
   "name": "python3"
  },
  "language_info": {
   "codemirror_mode": {
    "name": "ipython",
    "version": 2
   },
   "file_extension": ".py",
   "mimetype": "text/x-python",
   "name": "python",
   "nbconvert_exporter": "python",
   "pygments_lexer": "ipython2",
   "version": "2.7.6"
  }
 },
 "nbformat": 4,
 "nbformat_minor": 5
}
