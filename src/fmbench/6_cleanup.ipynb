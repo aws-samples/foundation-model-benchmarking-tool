{
 "cells": [
  {
   "cell_type": "markdown",
   "metadata": {},
   "source": [
    "## Clean your deployed model endpoint content\n",
    "-----\n",
    "\n",
    "#### In this notebook, we will parse through the existing endpoint.json to delete all of the existing endpoints once you are done with running your respective benchmarking tests.\n",
    "\n",
    "***If you are with running all of the tests, and want to delete the existing endpoints, run this notebook.***"
   ]
  },
  {
   "cell_type": "code",
   "execution_count": 7,
   "metadata": {},
   "outputs": [],
   "source": [
    "# if interactive mode is set to no -> pickup fmbench from Python installation path\n",
    "# if interactive mode is set to yes -> pickup fmbench from the current path (one level above this notebook)\n",
    "# if interactive mode is not defined -> pickup fmbench from the current path (one level above this notebook)\n",
    "# the premise is that if run non-interactively then it can only be run through main.py which will set interactive mode to no\n",
    "import os\n",
    "import sys\n",
    "import subprocess\n",
    "from pathlib import Path\n",
    "import importlib.resources as pkg_resources\n",
    "if os.environ.get(\"INTERACTIVE_MODE_SET\", \"yes\") == \"yes\":\n",
    "    sys.path.append(os.path.dirname(os.getcwd()))"
   ]
  },
  {
   "cell_type": "code",
   "execution_count": null,
   "metadata": {},
   "outputs": [],
   "source": [
    "## Import all necessary libraries\n",
    "import json\n",
    "import boto3\n",
    "import logging\n",
    "from fmbench.utils import *\n",
    "from fmbench.globals import *"
   ]
  },
  {
   "cell_type": "code",
   "execution_count": null,
   "metadata": {},
   "outputs": [],
   "source": [
    "# Set your logger to display all of the endpoints being cleaned\n",
    "logging.basicConfig(format='[%(asctime)s] p%(process)s {%(filename)s:%(lineno)d} %(levelname)s - %(message)s', level=logging.INFO)\n",
    "logger = logging.getLogger(__name__)\n",
    "\n",
    "# Load the config file to extract our endpoint.json file and its respective file path\n",
    "config = load_main_config(CONFIG_FILE)"
   ]
  },
  {
   "cell_type": "code",
   "execution_count": null,
   "metadata": {},
   "outputs": [],
   "source": [
    "# Refer to the file path for the endpoint\n",
    "endpoint_info_list = json.loads(get_s3_object(config['aws']['bucket'], ENDPOINT_LIST_PATH))\n",
    "logger.info(f\"found information for {len(endpoint_info_list)} endpoints, bucket={config['aws']['bucket']}, key={ENDPOINT_LIST_PATH}\")\n",
    "logger.info(json.dumps(endpoint_info_list, indent=2))"
   ]
  },
  {
   "cell_type": "code",
   "execution_count": null,
   "metadata": {},
   "outputs": [],
   "source": [
    "# initialize a sagemaker client\n",
    "sm_client = boto3.client(\"sagemaker\")\n",
    "\n",
    "ep_names_from_config_not_deployed = [e['ep_name'] for e in config['experiments'] if e['deploy'] is False]\n",
    "# Iterate over the endpoint_info_list and mark the items for deletion\n",
    "for item in endpoint_info_list:   \n",
    "    \n",
    "    # Extract the endpoint name from the deployed model configuration\n",
    "    ep_name = item['endpoint'][\"EndpointName\"]\n",
    "    # check if this endpoint was not actually deployed by fmbench and if not \n",
    "    # then we should not be deleting it\n",
    "    if ep_name in ep_names_from_config_not_deployed:\n",
    "        logger.info(f\"{ep_name} is in ep_names_from_config_not_deployed, not deleting it\")\n",
    "        continue\n",
    "    try:\n",
    "        ## Describe the model endpoint \n",
    "        logger.info(f\"Going to describe the endpoint -> {ep_name}\")\n",
    "        resp = sm_client.describe_endpoint(EndpointName=ep_name)\n",
    "\n",
    "        ## If the given model endpoint is in service, delete it \n",
    "        if resp['EndpointStatus'] == 'InService':\n",
    "            logger.info(f\"going to delete {ep_name}\")\n",
    "            ## deleting the model endpoint\n",
    "            sm_client.delete_endpoint(EndpointName=ep_name)\n",
    "            logger.info(f\"deleted {ep_name}\")\n",
    "    except Exception as e:\n",
    "        logger.error(f\"error deleting endpoint={ep_name}, exception={e}\")"
   ]
  },
  {
   "cell_type": "code",
   "execution_count": null,
   "metadata": {},
   "outputs": [],
   "source": [
    "# Check and delete EKS resources based on manifest files and deployment status\n",
    "for experiment in config['experiments']:\n",
    "    if experiment['deploy'] and 'eks' in experiment:\n",
    "        manifest_folder_path = Path(pkg_resources.files('fmbench'), experiment['eks']['manifest_dir'])\n",
    "        eks_manifest_ray_path = os.path.join(manifest_folder_path, experiment['eks']['manifest_file'])\n",
    "        logger.info(f\"Deploy is set to True for {experiment['name']}, checking for manifest file {eks_manifest_ray_path}\")\n",
    "        try:\n",
    "            logger.info(f\"Cleaning up {experiment['name']} using kubectl\")\n",
    "            delete_command_args = [\"kubectl\", \"delete\", \"-f\", eks_manifest_ray_path]\n",
    "            delete_result = subprocess.run(delete_command_args, capture_output=True, text=True)\n",
    "            logger.info(f\"Deleted the EKS endpoint: {delete_result.stdout}\")\n",
    "            logger.info(f\"Cleaned up {experiment['name']} using kubectl\")\n",
    "        except Exception as e:\n",
    "            logger.error(f\"Error cleaning up manifest file for {experiment['name']}, exception={e}\")\n",
    "    else:\n",
    "        continue"
   ]
  }
 ],
 "metadata": {
  "kernelspec": {
   "display_name": "conda_python3",
   "language": "python",
   "name": "conda_python3"
  },
  "language_info": {
   "codemirror_mode": {
    "name": "ipython",
    "version": 3
   },
   "file_extension": ".py",
   "mimetype": "text/x-python",
   "name": "python",
   "nbconvert_exporter": "python",
   "pygments_lexer": "ipython3",
   "version": "3.10.14"
  }
 },
 "nbformat": 4,
 "nbformat_minor": 4
}
